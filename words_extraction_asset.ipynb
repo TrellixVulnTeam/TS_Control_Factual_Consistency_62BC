{
  "nbformat": 4,
  "nbformat_minor": 5,
  "metadata": {
    "kernelspec": {
      "display_name": "Python 3",
      "language": "python",
      "name": "python3"
    },
    "toc": {
      "base_numbering": 1,
      "nav_menu": {},
      "number_sections": true,
      "sideBar": true,
      "skip_h1_title": false,
      "title_cell": "Table of Contents",
      "title_sidebar": "Contents",
      "toc_cell": false,
      "toc_position": {},
      "toc_section_display": true,
      "toc_window_display": false
    },
    "varInspector": {
      "cols": {
        "lenName": 16,
        "lenType": 16,
        "lenVar": 40
      },
      "kernels_config": {
        "python": {
          "delete_cmd_postfix": "",
          "delete_cmd_prefix": "del ",
          "library": "var_list.py",
          "varRefreshCmd": "print(var_dic_list())"
        },
        "r": {
          "delete_cmd_postfix": ") ",
          "delete_cmd_prefix": "rm(",
          "library": "var_list.r",
          "varRefreshCmd": "cat(var_dic_list()) "
        }
      },
      "types_to_exclude": [
        "module",
        "function",
        "builtin_function_or_method",
        "instance",
        "_Feature"
      ],
      "window_display": false
    },
    "colab": {
      "name": "git_words_extraction_asset",
      "provenance": [],
      "collapsed_sections": [],
      "toc_visible": true
    }
  },
  "cells": [
    {
      "cell_type": "markdown",
      "metadata": {
        "id": "gr6t2slYzjIM"
      },
      "source": [
        "# setup"
      ],
      "id": "gr6t2slYzjIM"
    },
    {
      "cell_type": "code",
      "metadata": {
        "id": "q6lrruw1RasS"
      },
      "source": [
        "from IPython.display import HTML, display\n",
        "\n",
        "def set_css():\n",
        "  display(HTML('''\n",
        "  <style>\n",
        "    pre {\n",
        "        white-space: pre-wrap;\n",
        "    }\n",
        "  </style>\n",
        "  '''))\n",
        "get_ipython().events.register('pre_run_cell', set_css)"
      ],
      "id": "q6lrruw1RasS",
      "execution_count": null,
      "outputs": []
    },
    {
      "cell_type": "code",
      "metadata": {
        "id": "2d491659",
        "colab": {
          "base_uri": "https://localhost:8080/",
          "height": 17
        },
        "outputId": "c1477f4c-fb02-45b7-8f58-3b7f58fcf6db"
      },
      "source": [
        "import os\n",
        "import re\n",
        "import pickle\n",
        "from itertools import product\n",
        "from collections import Counter\n",
        "import random\n",
        "\n",
        "import spacy\n",
        "import numpy as np\n",
        "import pandas as pd\n"
      ],
      "id": "2d491659",
      "execution_count": null,
      "outputs": [
        {
          "output_type": "display_data",
          "data": {
            "text/html": [
              "\n",
              "  <style>\n",
              "    pre {\n",
              "        white-space: pre-wrap;\n",
              "    }\n",
              "  </style>\n",
              "  "
            ],
            "text/plain": [
              "<IPython.core.display.HTML object>"
            ]
          },
          "metadata": {}
        }
      ]
    },
    {
      "cell_type": "code",
      "metadata": {
        "colab": {
          "base_uri": "https://localhost:8080/",
          "height": 35
        },
        "id": "k_K8tDyfiH7L",
        "outputId": "15fd9d4d-309d-4b39-8e6d-d99607b4eb44"
      },
      "source": [
        "from google.colab import drive\n",
        "drive.mount('/content/drive')"
      ],
      "id": "k_K8tDyfiH7L",
      "execution_count": null,
      "outputs": [
        {
          "output_type": "display_data",
          "data": {
            "text/html": [
              "\n",
              "  <style>\n",
              "    pre {\n",
              "        white-space: pre-wrap;\n",
              "    }\n",
              "  </style>\n",
              "  "
            ],
            "text/plain": [
              "<IPython.core.display.HTML object>"
            ]
          },
          "metadata": {}
        },
        {
          "output_type": "stream",
          "name": "stdout",
          "text": [
            "Mounted at /content/drive\n"
          ]
        }
      ]
    },
    {
      "cell_type": "markdown",
      "metadata": {
        "id": "C2W5uuSwCbAx"
      },
      "source": [
        "# operation preserving"
      ],
      "id": "C2W5uuSwCbAx"
    },
    {
      "cell_type": "markdown",
      "metadata": {
        "id": "k_vtLN9j1zj8"
      },
      "source": [
        "## complex"
      ],
      "id": "k_vtLN9j1zj8"
    },
    {
      "cell_type": "markdown",
      "metadata": {
        "id": "3isFVsKUMN_5"
      },
      "source": [
        "### preprocess data"
      ],
      "id": "3isFVsKUMN_5"
    },
    {
      "cell_type": "code",
      "metadata": {
        "id": "xCvT_HLR1zj9",
        "colab": {
          "base_uri": "https://localhost:8080/",
          "height": 17
        },
        "outputId": "7c5628f3-deb5-48f5-a962-3923444a62f9"
      },
      "source": [
        "# import stop words\n",
        "# https://gist.github.com/sebleier/554280\n",
        "# nltk+SQL\n",
        "\n",
        "stop_words_list = [\"a\",\"about\",\"above\",\"after\",\"again\",\"against\",\"ain\",\"all\",\"am\",\"an\",\"and\",\"any\",\"are\",\"aren\",\"aren't\",\"as\",\"at\",\"be\",\"because\",\"been\",\"before\",\"being\",\"below\",\"between\",\"both\",\"but\",\"by\",\"can\",\"couldn\",\"couldn't\",\"d\",\"did\",\"didn\",\"didn't\",\"do\",\"does\",\"doesn\",\"doesn't\",\"doing\",\"don\",\"don't\",\"down\",\"during\",\"each\",\"few\",\"for\",\"from\",\"further\",\"had\",\"hadn\",\"hadn't\",\"has\",\"hasn\",\"hasn't\",\"have\",\"haven\",\"haven't\",\"having\",\"he\",\"her\",\"here\",\"hers\",\"herself\",\"him\",\"himself\",\"his\",\"how\",\"i\",\"if\",\"in\",\"into\",\"is\",\"isn\",\"isn't\",\"it\",\"it's\",\"its\",\"itself\",\"just\",\"ll\",\"m\",\"ma\",\"me\",\"mightn\",\"mightn't\",\"more\",\"most\",\"mustn\",\"mustn't\",\"my\",\"myself\",\"needn\",\"needn't\",\"no\",\"nor\",\"not\",\"now\",\"o\",\"of\",\"off\",\"on\",\"once\",\"only\",\"or\",\"other\",\"our\",\"ours\",\"ourselves\",\"out\",\"over\",\"own\",\"re\",\"s\",\"same\",\"shan\",\"shan't\",\"she\",\"she's\",\"should\",\"should've\",\"shouldn\",\"shouldn't\",\"so\",\"some\",\"such\",\"t\",\"than\",\"that\",\"that'll\",\"the\",\"their\",\"theirs\",\"them\",\"themselves\",\"then\",\"there\",\"these\",\"they\",\"this\",\"those\",\"through\",\"to\",\"too\",\"under\",\"until\",\"up\",\"ve\",\"very\",\"was\",\"wasn\",\"wasn't\",\"we\",\"were\",\"weren\",\"weren't\",\"what\",\"when\",\"where\",\"which\",\"while\",\"who\",\"whom\",\"why\",\"will\",\"with\",\"won\",\"won't\",\"wouldn\",\"wouldn't\",\"y\",\"you\",\"you'd\",\"you'll\",\"you're\",\"you've\",\"your\",\"yours\",\"yourself\",\"yourselves\",\"could\",\"he'd\",\"he'll\",\"he's\",\"here's\",\"how's\",\"i'd\",\"i'll\",\"i'm\",\"i've\",\"let's\",\"ought\",\"she'd\",\"she'll\",\"that's\",\"there's\",\"they'd\",\"they'll\",\"they're\",\"they've\",\"we'd\",\"we'll\",\"we're\",\"we've\",\"what's\",\"when's\",\"where's\",\"who's\",\"why's\",\"would\",\"able\",\"abst\",\"accordance\",\"according\",\"accordingly\",\"across\",\"act\",\"actually\",\"added\",\"adj\",\"affected\",\"affecting\",\"affects\",\"afterwards\",\"ah\",\"almost\",\"alone\",\"along\",\"already\",\"also\",\"although\",\"always\",\"among\",\"amongst\",\"announce\",\"another\",\"anybody\",\"anyhow\",\"anymore\",\"anyone\",\"anything\",\"anyway\",\"anyways\",\"anywhere\",\"apparently\",\"approximately\",\"arent\",\"arise\",\"around\",\"aside\",\"ask\",\"asking\",\"auth\",\"available\",\"away\",\"awfully\",\"b\",\"back\",\"became\",\"become\",\"becomes\",\"becoming\",\"beforehand\",\"begin\",\"beginning\",\"beginnings\",\"begins\",\"behind\",\"believe\",\"beside\",\"besides\",\"beyond\",\"biol\",\"brief\",\"briefly\",\"c\",\"ca\",\"came\",\"cannot\",\"can't\",\"cause\",\"causes\",\"certain\",\"certainly\",\"co\",\"com\",\"come\",\"comes\",\"contain\",\"containing\",\"contains\",\"couldnt\",\"date\",\"different\",\"done\",\"downwards\",\"due\",\"e\",\"ed\",\"edu\",\"effect\",\"eg\",\"eight\",\"eighty\",\"either\",\"else\",\"elsewhere\",\"end\",\"ending\",\"enough\",\"especially\",\"et\",\"etc\",\"even\",\"ever\",\"every\",\"everybody\",\"everyone\",\"everything\",\"everywhere\",\"ex\",\"except\",\"f\",\"far\",\"ff\",\"fifth\",\"first\",\"five\",\"fix\",\"followed\",\"following\",\"follows\",\"former\",\"formerly\",\"forth\",\"found\",\"four\",\"furthermore\",\"g\",\"gave\",\"get\",\"gets\",\"getting\",\"give\",\"given\",\"gives\",\"giving\",\"go\",\"goes\",\"gone\",\"got\",\"gotten\",\"h\",\"happens\",\"hardly\",\"hed\",\"hence\",\"hereafter\",\"hereby\",\"herein\",\"heres\",\"hereupon\",\"hes\",\"hi\",\"hid\",\"hither\",\"home\",\"howbeit\",\"however\",\"hundred\",\"id\",\"ie\",\"im\",\"immediate\",\"immediately\",\"importance\",\"important\",\"inc\",\"indeed\",\"index\",\"information\",\"instead\",\"invention\",\"inward\",\"itd\",\"it'll\",\"j\",\"k\",\"keep\",\"keeps\",\"kept\",\"kg\",\"km\",\"know\",\"known\",\"knows\",\"l\",\"largely\",\"last\",\"lately\",\"later\",\"latter\",\"latterly\",\"least\",\"less\",\"lest\",\"let\",\"lets\",\"like\",\"liked\",\"likely\",\"line\",\"little\",\"'ll\",\"look\",\"looking\",\"looks\",\"ltd\",\"made\",\"mainly\",\"make\",\"makes\",\"many\",\"may\",\"maybe\",\"mean\",\"means\",\"meantime\",\"meanwhile\",\"merely\",\"mg\",\"might\",\"million\",\"miss\",\"ml\",\"moreover\",\"mostly\",\"mr\",\"mrs\",\"much\",\"mug\",\"must\",\"n\",\"na\",\"name\",\"namely\",\"nay\",\"nd\",\"near\",\"nearly\",\"necessarily\",\"necessary\",\"need\",\"needs\",\"neither\",\"never\",\"nevertheless\",\"new\",\"next\",\"nine\",\"ninety\",\"nobody\",\"non\",\"none\",\"nonetheless\",\"noone\",\"normally\",\"nos\",\"noted\",\"nothing\",\"nowhere\",\"obtain\",\"obtained\",\"obviously\",\"often\",\"oh\",\"ok\",\"okay\",\"old\",\"omitted\",\"one\",\"ones\",\"onto\",\"ord\",\"others\",\"otherwise\",\"outside\",\"overall\",\"owing\",\"p\",\"page\",\"pages\",\"part\",\"particular\",\"particularly\",\"past\",\"per\",\"perhaps\",\"placed\",\"please\",\"plus\",\"poorly\",\"possible\",\"possibly\",\"potentially\",\"pp\",\"predominantly\",\"present\",\"previously\",\"primarily\",\"probably\",\"promptly\",\"proud\",\"provides\",\"put\",\"q\",\"que\",\"quickly\",\"quite\",\"qv\",\"r\",\"ran\",\"rather\",\"rd\",\"readily\",\"really\",\"recent\",\"recently\",\"ref\",\"refs\",\"regarding\",\"regardless\",\"regards\",\"related\",\"relatively\",\"research\",\"respectively\",\"resulted\",\"resulting\",\"results\",\"right\",\"run\",\"said\",\"saw\",\"say\",\"saying\",\"says\",\"sec\",\"section\",\"see\",\"seeing\",\"seem\",\"seemed\",\"seeming\",\"seems\",\"seen\",\"self\",\"selves\",\"sent\",\"seven\",\"several\",\"shall\",\"shed\",\"shes\",\"show\",\"showed\",\"shown\",\"showns\",\"shows\",\"significant\",\"significantly\",\"similar\",\"similarly\",\"since\",\"six\",\"slightly\",\"somebody\",\"somehow\",\"someone\",\"somethan\",\"something\",\"sometime\",\"sometimes\",\"somewhat\",\"somewhere\",\"soon\",\"sorry\",\"specifically\",\"specified\",\"specify\",\"specifying\",\"still\",\"stop\",\"strongly\",\"sub\",\"substantially\",\"successfully\",\"sufficiently\",\"suggest\",\"sup\",\"sure\",\"take\",\"taken\",\"taking\",\"tell\",\"tends\",\"th\",\"thank\",\"thanks\",\"thanx\",\"thats\",\"that've\",\"thence\",\"thereafter\",\"thereby\",\"thered\",\"therefore\",\"therein\",\"there'll\",\"thereof\",\"therere\",\"theres\",\"thereto\",\"thereupon\",\"there've\",\"theyd\",\"theyre\",\"think\",\"thou\",\"though\",\"thoughh\",\"thousand\",\"throug\",\"throughout\",\"thru\",\"thus\",\"til\",\"tip\",\"together\",\"took\",\"toward\",\"towards\",\"tried\",\"tries\",\"truly\",\"try\",\"trying\",\"ts\",\"twice\",\"two\",\"u\",\"un\",\"unfortunately\",\"unless\",\"unlike\",\"unlikely\",\"unto\",\"upon\",\"ups\",\"us\",\"use\",\"used\",\"useful\",\"usefully\",\"usefulness\",\"uses\",\"using\",\"usually\",\"v\",\"value\",\"various\",\"'ve\",\"via\",\"viz\",\"vol\",\"vols\",\"vs\",\"w\",\"want\",\"wants\",\"wasnt\",\"way\",\"wed\",\"welcome\",\"went\",\"werent\",\"whatever\",\"what'll\",\"whats\",\"whence\",\"whenever\",\"whereafter\",\"whereas\",\"whereby\",\"wherein\",\"wheres\",\"whereupon\",\"wherever\",\"whether\",\"whim\",\"whither\",\"whod\",\"whoever\",\"whole\",\"who'll\",\"whomever\",\"whos\",\"whose\",\"widely\",\"willing\",\"wish\",\"within\",\"without\",\"wont\",\"words\",\"world\",\"wouldnt\",\"www\",\"x\",\"yes\",\"yet\",\"youd\",\"youre\",\"z\",\"zero\",\"a's\",\"ain't\",\"allow\",\"allows\",\"apart\",\"appear\",\"appreciate\",\"appropriate\",\"associated\",\"best\",\"better\",\"c'mon\",\"c's\",\"cant\",\"changes\",\"clearly\",\"concerning\",\"consequently\",\"consider\",\"considering\",\"corresponding\",\"course\",\"currently\",\"definitely\",\"described\",\"despite\",\"entirely\",\"exactly\",\"example\",\"going\",\"greetings\",\"hello\",\"help\",\"hopefully\",\"ignored\",\"inasmuch\",\"indicate\",\"indicated\",\"indicates\",\"inner\",\"insofar\",\"it'd\",\"keep\",\"keeps\",\"novel\",\"presumably\",\"reasonably\",\"second\",\"secondly\",\"sensible\",\"serious\",\"seriously\",\"sure\",\"t's\",\"third\",\"thorough\",\"thoroughly\",\"three\",\"well\",\"wonder\"]"
      ],
      "id": "xCvT_HLR1zj9",
      "execution_count": null,
      "outputs": [
        {
          "output_type": "display_data",
          "data": {
            "text/html": [
              "\n",
              "  <style>\n",
              "    pre {\n",
              "        white-space: pre-wrap;\n",
              "    }\n",
              "  </style>\n",
              "  "
            ],
            "text/plain": [
              "<IPython.core.display.HTML object>"
            ]
          },
          "metadata": {}
        }
      ]
    },
    {
      "cell_type": "code",
      "metadata": {
        "colab": {
          "base_uri": "https://localhost:8080/",
          "height": 17
        },
        "id": "HiBzusYQpSbt",
        "outputId": "bb167147-d494-4c2f-95d7-24546f4ee826"
      },
      "source": [
        "cap_stop_words_list = [x.title() for x in stop_words_list]"
      ],
      "id": "HiBzusYQpSbt",
      "execution_count": null,
      "outputs": [
        {
          "output_type": "display_data",
          "data": {
            "text/html": [
              "\n",
              "  <style>\n",
              "    pre {\n",
              "        white-space: pre-wrap;\n",
              "    }\n",
              "  </style>\n",
              "  "
            ],
            "text/plain": [
              "<IPython.core.display.HTML object>"
            ]
          },
          "metadata": {}
        }
      ]
    },
    {
      "cell_type": "code",
      "metadata": {
        "colab": {
          "base_uri": "https://localhost:8080/",
          "height": 35
        },
        "id": "vyMLITi-pvV0",
        "outputId": "18180fc2-d4bb-445b-8102-49dfb116f542"
      },
      "source": [
        "total_stop_words_list = []\n",
        "total_stop_words_list.extend(cap_stop_words_list)\n",
        "total_stop_words_list.extend(stop_words_list)\n",
        "len(total_stop_words_list)"
      ],
      "id": "vyMLITi-pvV0",
      "execution_count": null,
      "outputs": [
        {
          "output_type": "display_data",
          "data": {
            "text/html": [
              "\n",
              "  <style>\n",
              "    pre {\n",
              "        white-space: pre-wrap;\n",
              "    }\n",
              "  </style>\n",
              "  "
            ],
            "text/plain": [
              "<IPython.core.display.HTML object>"
            ]
          },
          "metadata": {}
        },
        {
          "output_type": "execute_result",
          "data": {
            "text/plain": [
              "1568"
            ]
          },
          "metadata": {},
          "execution_count": 25
        }
      ]
    },
    {
      "cell_type": "code",
      "metadata": {
        "id": "I5PzCdmM1zj8",
        "colab": {
          "base_uri": "https://localhost:8080/",
          "height": 17
        },
        "outputId": "798b19d8-038a-4d7b-e8f2-753505207094"
      },
      "source": [
        "# load sentence for processing\n",
        "\n",
        "PHASES = ['valid', 'test']\n",
        "LANGUAGES = ['complex']\n",
        "data_names = []\n",
        "\n",
        "data_dir = '/content/drive/MyDrive/muss/resources/datasets/asset/'\n",
        "\n",
        "for phase, language in product(PHASES, LANGUAGES):\n",
        "\n",
        "  data_name = phase + '_' + language\n",
        "  data_names.append(data_name)\n",
        "\n",
        "  with open(data_dir+phase+'.'+language) as f:\n",
        "        \n",
        "    exec(\"%s = %s\" % (data_name,f.read().splitlines()))\n",
        "\n",
        "    f.close()"
      ],
      "id": "I5PzCdmM1zj8",
      "execution_count": null,
      "outputs": [
        {
          "output_type": "display_data",
          "data": {
            "text/html": [
              "\n",
              "  <style>\n",
              "    pre {\n",
              "        white-space: pre-wrap;\n",
              "    }\n",
              "  </style>\n",
              "  "
            ],
            "text/plain": [
              "<IPython.core.display.HTML object>"
            ]
          },
          "metadata": {}
        }
      ]
    },
    {
      "cell_type": "code",
      "metadata": {
        "id": "3o8uO1JZ1zj9",
        "colab": {
          "base_uri": "https://localhost:8080/",
          "height": 17
        },
        "outputId": "3aa302ba-8943-497a-b9ac-ae77c67b5c69"
      },
      "source": [
        "# delete the first word in a sentence if it is in stop word list\n",
        "\n",
        "for index,file_name in enumerate(data_names):\n",
        "    \n",
        "    data = globals()[file_name]\n",
        "    \n",
        "    for count, sentence in enumerate(data):\n",
        "\n",
        "        first_word = sentence.split(' ')[0]\n",
        "\n",
        "        if first_word.lower() in stop_words_list:\n",
        "            # delete it\n",
        "            data[count] = sentence[len(first_word)+1:]"
      ],
      "id": "3o8uO1JZ1zj9",
      "execution_count": null,
      "outputs": [
        {
          "output_type": "display_data",
          "data": {
            "text/html": [
              "\n",
              "  <style>\n",
              "    pre {\n",
              "        white-space: pre-wrap;\n",
              "    }\n",
              "  </style>\n",
              "  "
            ],
            "text/plain": [
              "<IPython.core.display.HTML object>"
            ]
          },
          "metadata": {}
        }
      ]
    },
    {
      "cell_type": "markdown",
      "metadata": {
        "id": "eTAQLzwH1zj-"
      },
      "source": [
        "### NER"
      ],
      "id": "eTAQLzwH1zj-"
    },
    {
      "cell_type": "code",
      "metadata": {
        "id": "RC2m3VT41zj-",
        "colab": {
          "base_uri": "https://localhost:8080/",
          "height": 17
        },
        "outputId": "e0595ca4-bc36-4016-b449-fd14424126e4"
      },
      "source": [
        "nlp = spacy.load(\"en_core_web_sm\")\n",
        "\n",
        "def substringSieve(NER_list,re_NER):\n",
        "  '''\n",
        "  from https://stackoverflow.com/questions/21720199/python-remove-any-element-from-a-list-of-strings-that-is-a-substring-of-anothe\n",
        "  '''\n",
        "  string_list = []\n",
        "  string_list.extend(NER_list)\n",
        "  string_list.extend(re_NER)\n",
        "  \n",
        "  string_list.sort(key=lambda s: len(s), reverse=True)\n",
        "  out = []\n",
        "  for s in string_list:\n",
        "      if not any([s in o for o in out]):\n",
        "          out.append(s)\n",
        "  \n",
        "  # if len(out) == 0\n",
        "  #       out = np.nan\n",
        "\n",
        "  return out\n",
        "\n",
        "def find_all_NE(text):\n",
        "  doc = nlp(text)\n",
        "\n",
        "  NER_list = [t.text for t in doc.ents]\n",
        "\n",
        "  re_NER = re.findall(r\"[A-Z][A-z]*(?:(?=\\s)\\s[A-Z][A-z]*)*(?:(?!\\s)\\W[A-Z][A-z]*)*(?:(?:\\sin(?=\\s))*(?:\\sof(?=\\s))*(?:\\sthe(?=\\s))*(?:(?=\\s[A-Z])\\s[A-Z][A-z]*)*)*|(?:[0-9])*\",text)\n",
        "\n",
        "  return substringSieve(NER_list,re_NER)"
      ],
      "id": "RC2m3VT41zj-",
      "execution_count": null,
      "outputs": [
        {
          "output_type": "display_data",
          "data": {
            "text/html": [
              "\n",
              "  <style>\n",
              "    pre {\n",
              "        white-space: pre-wrap;\n",
              "    }\n",
              "  </style>\n",
              "  "
            ],
            "text/plain": [
              "<IPython.core.display.HTML object>"
            ]
          },
          "metadata": {}
        }
      ]
    },
    {
      "cell_type": "code",
      "metadata": {
        "id": "ZO106aWy1zkB",
        "colab": {
          "base_uri": "https://localhost:8080/",
          "height": 35
        },
        "outputId": "9457b43d-6a44-4c20-ea2d-cc6ac5b43e67"
      },
      "source": [
        "data_names\n"
      ],
      "id": "ZO106aWy1zkB",
      "execution_count": null,
      "outputs": [
        {
          "output_type": "display_data",
          "data": {
            "text/html": [
              "\n",
              "  <style>\n",
              "    pre {\n",
              "        white-space: pre-wrap;\n",
              "    }\n",
              "  </style>\n",
              "  "
            ],
            "text/plain": [
              "<IPython.core.display.HTML object>"
            ]
          },
          "metadata": {}
        },
        {
          "output_type": "execute_result",
          "data": {
            "text/plain": [
              "['valid_complex', 'test_complex']"
            ]
          },
          "metadata": {},
          "execution_count": 13
        }
      ]
    },
    {
      "cell_type": "code",
      "metadata": {
        "id": "seTO1-N71zkB",
        "colab": {
          "base_uri": "https://localhost:8080/",
          "height": 70
        },
        "outputId": "4c2ffae2-cfd8-4bbf-f766-03fe169ac2fd"
      },
      "source": [
        "data_NER = []\n",
        "\n",
        "for index,file_name in enumerate(data_names):\n",
        "    \n",
        "    data = globals()[file_name]\n",
        "    \n",
        "    found_NER_list = []\n",
        "\n",
        "    for count, sentence in enumerate(data):\n",
        "        \n",
        "        found_NER_list += [find_all_NE(sentence)]\n",
        "\n",
        "        if count%1000 == 0:\n",
        "            print(file_name,count)\n",
        "    \n",
        "    data_NER += [found_NER_list]\n",
        "\n",
        "with open('/content/drive/MyDrive/muss/qualitative/NER_list_asset_0810_complex', 'wb') as fp:\n",
        "    pickle.dump(data_NER, fp)    "
      ],
      "id": "seTO1-N71zkB",
      "execution_count": null,
      "outputs": [
        {
          "output_type": "display_data",
          "data": {
            "text/html": [
              "\n",
              "  <style>\n",
              "    pre {\n",
              "        white-space: pre-wrap;\n",
              "    }\n",
              "  </style>\n",
              "  "
            ],
            "text/plain": [
              "<IPython.core.display.HTML object>"
            ]
          },
          "metadata": {}
        },
        {
          "output_type": "stream",
          "text": [
            "valid_complex 0\n",
            "valid_complex 1000\n",
            "test_complex 0\n"
          ],
          "name": "stdout"
        }
      ]
    },
    {
      "cell_type": "code",
      "metadata": {
        "id": "tnvuOPc-1zkB",
        "colab": {
          "base_uri": "https://localhost:8080/",
          "height": 17
        },
        "outputId": "63ad161f-7ffe-466a-b2e5-98c820ea79a8"
      },
      "source": [
        "with open ('/content/drive/MyDrive/muss/qualitative/NER_list_asset_0810_complex', 'rb') as fp:\n",
        "    data_NER = pickle.load(fp)"
      ],
      "id": "tnvuOPc-1zkB",
      "execution_count": null,
      "outputs": [
        {
          "output_type": "display_data",
          "data": {
            "text/html": [
              "\n",
              "  <style>\n",
              "    pre {\n",
              "        white-space: pre-wrap;\n",
              "    }\n",
              "  </style>\n",
              "  "
            ],
            "text/plain": [
              "<IPython.core.display.HTML object>"
            ]
          },
          "metadata": {}
        }
      ]
    },
    {
      "cell_type": "code",
      "metadata": {
        "colab": {
          "base_uri": "https://localhost:8080/",
          "height": 17
        },
        "id": "QxGEhCv9qKWo",
        "outputId": "f0518682-35c4-41a1-be23-7488d37994c3"
      },
      "source": [
        "for j in range(len(data_NER)):\n",
        "  for i in range(len(data_NER[j])):\n",
        "    # print('before:',data_NER[0][i])\n",
        "    data_NER[j][i] = [NE for NE in data_NER[j][i] if NE not in total_stop_words_list]\n",
        "    # print('after:',data_NER[0][i])"
      ],
      "id": "QxGEhCv9qKWo",
      "execution_count": null,
      "outputs": [
        {
          "output_type": "display_data",
          "data": {
            "text/html": [
              "\n",
              "  <style>\n",
              "    pre {\n",
              "        white-space: pre-wrap;\n",
              "    }\n",
              "  </style>\n",
              "  "
            ],
            "text/plain": [
              "<IPython.core.display.HTML object>"
            ]
          },
          "metadata": {}
        }
      ]
    },
    {
      "cell_type": "code",
      "metadata": {
        "colab": {
          "base_uri": "https://localhost:8080/",
          "height": 17
        },
        "id": "5qeKEWs0rAM4",
        "outputId": "13cc7d45-19d9-4074-f4e1-c7c61d182e65"
      },
      "source": [
        "with open('/content/drive/MyDrive/muss/qualitative/NER_list_asset_0825_complex', 'wb') as fp:\n",
        "    pickle.dump(data_NER, fp)    "
      ],
      "id": "5qeKEWs0rAM4",
      "execution_count": null,
      "outputs": [
        {
          "output_type": "display_data",
          "data": {
            "text/html": [
              "\n",
              "  <style>\n",
              "    pre {\n",
              "        white-space: pre-wrap;\n",
              "    }\n",
              "  </style>\n",
              "  "
            ],
            "text/plain": [
              "<IPython.core.display.HTML object>"
            ]
          },
          "metadata": {}
        }
      ]
    },
    {
      "cell_type": "code",
      "metadata": {
        "id": "J2XDGvWb1zkC",
        "colab": {
          "base_uri": "https://localhost:8080/",
          "height": 17
        },
        "outputId": "f09bbd54-3dca-4b6d-a775-2e3d4ee8cbbc"
      },
      "source": [
        "# load original sentence\n",
        "\n",
        "PHASES = ['valid', 'test']\n",
        "LANGUAGES = ['complex']\n",
        "\n",
        "data_dir = '/content/drive/MyDrive/muss/resources/datasets/asset/'\n",
        "\n",
        "for phase, language in product(PHASES, LANGUAGES):\n",
        "  # print(phase, language)\n",
        "  data_name = phase + '_' + language + '_ori'\n",
        "\n",
        "  with open(data_dir+phase+'.'+language) as f:\n",
        "        \n",
        "    exec(\"%s = %s\" % (data_name,f.read().splitlines()))\n",
        "\n",
        "    f.close()"
      ],
      "id": "J2XDGvWb1zkC",
      "execution_count": null,
      "outputs": [
        {
          "output_type": "display_data",
          "data": {
            "text/html": [
              "\n",
              "  <style>\n",
              "    pre {\n",
              "        white-space: pre-wrap;\n",
              "    }\n",
              "  </style>\n",
              "  "
            ],
            "text/plain": [
              "<IPython.core.display.HTML object>"
            ]
          },
          "metadata": {}
        }
      ]
    },
    {
      "cell_type": "code",
      "metadata": {
        "id": "Kl6hpW941zkC",
        "colab": {
          "base_uri": "https://localhost:8080/",
          "height": 35
        },
        "outputId": "cfb2a8ff-35d0-4979-d5fa-a0da08a733ea"
      },
      "source": [
        "data_names"
      ],
      "id": "Kl6hpW941zkC",
      "execution_count": null,
      "outputs": [
        {
          "output_type": "display_data",
          "data": {
            "text/html": [
              "\n",
              "  <style>\n",
              "    pre {\n",
              "        white-space: pre-wrap;\n",
              "    }\n",
              "  </style>\n",
              "  "
            ],
            "text/plain": [
              "<IPython.core.display.HTML object>"
            ]
          },
          "metadata": {}
        },
        {
          "output_type": "execute_result",
          "data": {
            "text/plain": [
              "['valid_complex', 'test_complex']"
            ]
          },
          "metadata": {},
          "execution_count": 39
        }
      ]
    },
    {
      "cell_type": "code",
      "metadata": {
        "id": "jvNj4OVF1zkD",
        "colab": {
          "base_uri": "https://localhost:8080/",
          "height": 17
        },
        "outputId": "8777912d-a649-4667-bee1-270c98b99e5b"
      },
      "source": [
        "import pandas as pd\n",
        "\n",
        "for index,data_name in enumerate(data_names):\n",
        "  file_name = data_name+'_ori'\n",
        "\n",
        "  data_tuples = list(zip(globals()[file_name],data_NER[index]))\n",
        "\n",
        "  df_name = data_name + '_df'\n",
        "\n",
        "  globals()[df_name] = pd.DataFrame(data_tuples, columns=['ori_text','NER'])\n",
        "  globals()[df_name] = globals()[df_name].reset_index(drop=True)\n",
        "\n",
        "  file_name = data_name.replace('_','.')"
      ],
      "id": "jvNj4OVF1zkD",
      "execution_count": null,
      "outputs": [
        {
          "output_type": "display_data",
          "data": {
            "text/html": [
              "\n",
              "  <style>\n",
              "    pre {\n",
              "        white-space: pre-wrap;\n",
              "    }\n",
              "  </style>\n",
              "  "
            ],
            "text/plain": [
              "<IPython.core.display.HTML object>"
            ]
          },
          "metadata": {}
        }
      ]
    },
    {
      "cell_type": "code",
      "metadata": {
        "id": "rLwwacUx1zkD",
        "colab": {
          "base_uri": "https://localhost:8080/",
          "height": 418
        },
        "outputId": "255215ca-898e-4fec-ca5f-2620215a1803"
      },
      "source": [
        "valid_complex_df"
      ],
      "id": "rLwwacUx1zkD",
      "execution_count": null,
      "outputs": [
        {
          "output_type": "display_data",
          "data": {
            "text/html": [
              "\n",
              "  <style>\n",
              "    pre {\n",
              "        white-space: pre-wrap;\n",
              "    }\n",
              "  </style>\n",
              "  "
            ],
            "text/plain": [
              "<IPython.core.display.HTML object>"
            ]
          },
          "metadata": {}
        },
        {
          "output_type": "execute_result",
          "data": {
            "text/html": [
              "<div>\n",
              "<style scoped>\n",
              "    .dataframe tbody tr th:only-of-type {\n",
              "        vertical-align: middle;\n",
              "    }\n",
              "\n",
              "    .dataframe tbody tr th {\n",
              "        vertical-align: top;\n",
              "    }\n",
              "\n",
              "    .dataframe thead th {\n",
              "        text-align: right;\n",
              "    }\n",
              "</style>\n",
              "<table border=\"1\" class=\"dataframe\">\n",
              "  <thead>\n",
              "    <tr style=\"text-align: right;\">\n",
              "      <th></th>\n",
              "      <th>ori_text</th>\n",
              "      <th>NER</th>\n",
              "    </tr>\n",
              "  </thead>\n",
              "  <tbody>\n",
              "    <tr>\n",
              "      <th>0</th>\n",
              "      <td>Adjacent counties are Marin (to the south), Me...</td>\n",
              "      <td>[Contra Costa, Mendocino, Adjacent, Solano, Ma...</td>\n",
              "    </tr>\n",
              "    <tr>\n",
              "      <th>1</th>\n",
              "      <td>A Georgian inscription around the drum attests...</td>\n",
              "      <td>[Georgian]</td>\n",
              "    </tr>\n",
              "    <tr>\n",
              "      <th>2</th>\n",
              "      <td>They would later return to the revived series ...</td>\n",
              "      <td>[Christmas Special \"The Next Doctor, the Cyber...</td>\n",
              "    </tr>\n",
              "    <tr>\n",
              "      <th>3</th>\n",
              "      <td>Jameson's autobiography, How to Make Love Like...</td>\n",
              "      <td>[A Cautionary Tale, August 17, 2004, Make Love...</td>\n",
              "    </tr>\n",
              "    <tr>\n",
              "      <th>4</th>\n",
              "      <td>It is particularly famous for the cultivation ...</td>\n",
              "      <td>[]</td>\n",
              "    </tr>\n",
              "    <tr>\n",
              "      <th>...</th>\n",
              "      <td>...</td>\n",
              "      <td>...</td>\n",
              "    </tr>\n",
              "    <tr>\n",
              "      <th>1995</th>\n",
              "      <td>On the 15 November 2003 a Sprinter train trave...</td>\n",
              "      <td>[November 2003, Sprinter, Ballarat, Ballan, Go...</td>\n",
              "    </tr>\n",
              "    <tr>\n",
              "      <th>1996</th>\n",
              "      <td>A console manufacturer is a company that manuf...</td>\n",
              "      <td>[]</td>\n",
              "    </tr>\n",
              "    <tr>\n",
              "      <th>1997</th>\n",
              "      <td>Links with poverty and crime Those who are fun...</td>\n",
              "      <td>[Links]</td>\n",
              "    </tr>\n",
              "    <tr>\n",
              "      <th>1998</th>\n",
              "      <td>The term \"union council\" may be used for local...</td>\n",
              "      <td>[]</td>\n",
              "    </tr>\n",
              "    <tr>\n",
              "      <th>1999</th>\n",
              "      <td>Modern African history has been rife with revo...</td>\n",
              "      <td>[Modern African]</td>\n",
              "    </tr>\n",
              "  </tbody>\n",
              "</table>\n",
              "<p>2000 rows × 2 columns</p>\n",
              "</div>"
            ],
            "text/plain": [
              "                                               ori_text                                                NER\n",
              "0     Adjacent counties are Marin (to the south), Me...  [Contra Costa, Mendocino, Adjacent, Solano, Ma...\n",
              "1     A Georgian inscription around the drum attests...                                         [Georgian]\n",
              "2     They would later return to the revived series ...  [Christmas Special \"The Next Doctor, the Cyber...\n",
              "3     Jameson's autobiography, How to Make Love Like...  [A Cautionary Tale, August 17, 2004, Make Love...\n",
              "4     It is particularly famous for the cultivation ...                                                 []\n",
              "...                                                 ...                                                ...\n",
              "1995  On the 15 November 2003 a Sprinter train trave...  [November 2003, Sprinter, Ballarat, Ballan, Go...\n",
              "1996  A console manufacturer is a company that manuf...                                                 []\n",
              "1997  Links with poverty and crime Those who are fun...                                            [Links]\n",
              "1998  The term \"union council\" may be used for local...                                                 []\n",
              "1999  Modern African history has been rife with revo...                                   [Modern African]\n",
              "\n",
              "[2000 rows x 2 columns]"
            ]
          },
          "metadata": {},
          "execution_count": 41
        }
      ]
    },
    {
      "cell_type": "code",
      "metadata": {
        "colab": {
          "base_uri": "https://localhost:8080/",
          "height": 17
        },
        "id": "dKWK4ysbrSsM",
        "outputId": "6697f155-9886-445f-9817-0a8ee0d1c423"
      },
      "source": [
        "valid_complex_df.to_pickle(\"/content/drive/MyDrive/muss/valid_complex_df_0825.pkl\")\n",
        "test_complex_df.to_pickle(\"/content/drive/MyDrive/muss/test_complex_df_0825.pkl\")"
      ],
      "id": "dKWK4ysbrSsM",
      "execution_count": null,
      "outputs": [
        {
          "output_type": "display_data",
          "data": {
            "text/html": [
              "\n",
              "  <style>\n",
              "    pre {\n",
              "        white-space: pre-wrap;\n",
              "    }\n",
              "  </style>\n",
              "  "
            ],
            "text/plain": [
              "<IPython.core.display.HTML object>"
            ]
          },
          "metadata": {}
        }
      ]
    },
    {
      "cell_type": "code",
      "metadata": {
        "id": "eOBPu5KBSZ60"
      },
      "source": [
        ""
      ],
      "id": "eOBPu5KBSZ60",
      "execution_count": null,
      "outputs": []
    },
    {
      "cell_type": "code",
      "metadata": {
        "id": "4GvBnoZWSZ4S"
      },
      "source": [
        ""
      ],
      "id": "4GvBnoZWSZ4S",
      "execution_count": null,
      "outputs": []
    },
    {
      "cell_type": "code",
      "metadata": {
        "id": "DQ-vFfEYSZ2A"
      },
      "source": [
        ""
      ],
      "id": "DQ-vFfEYSZ2A",
      "execution_count": null,
      "outputs": []
    },
    {
      "cell_type": "markdown",
      "metadata": {
        "id": "P9zqQJOCNRPQ"
      },
      "source": [
        "### dataset create"
      ],
      "id": "P9zqQJOCNRPQ"
    },
    {
      "cell_type": "markdown",
      "metadata": {
        "id": "PVVeHSpQDdII"
      },
      "source": [
        "#### prefix all NE"
      ],
      "id": "PVVeHSpQDdII"
    },
    {
      "cell_type": "code",
      "metadata": {
        "id": "x5GVsfXAMWhl",
        "colab": {
          "base_uri": "https://localhost:8080/",
          "height": 17
        },
        "outputId": "d720eaa8-42cf-4243-97af-bcc4587cf329"
      },
      "source": [
        "target_dir = '/content/drive/MyDrive/muss/resources/datasets/token_asset_0825_complex'"
      ],
      "id": "x5GVsfXAMWhl",
      "execution_count": null,
      "outputs": [
        {
          "output_type": "display_data",
          "data": {
            "text/html": [
              "\n",
              "  <style>\n",
              "    pre {\n",
              "        white-space: pre-wrap;\n",
              "    }\n",
              "  </style>\n",
              "  "
            ],
            "text/plain": [
              "<IPython.core.display.HTML object>"
            ]
          },
          "metadata": {}
        }
      ]
    },
    {
      "cell_type": "code",
      "metadata": {
        "id": "08uezrBj1zkE",
        "colab": {
          "base_uri": "https://localhost:8080/",
          "height": 141
        },
        "outputId": "b8092a7b-1517-42d3-d7d3-75b51ca2545d"
      },
      "source": [
        "import pandas as pd\n",
        "\n",
        "\n",
        "for index,data_name in enumerate(data_names):\n",
        "  file_name = data_name+'_ori'\n",
        "\n",
        "  data_tuples = list(zip(globals()[file_name],data_NER[index]))\n",
        "  df = pd.DataFrame(data_tuples, columns=['ori_text','NER'])\n",
        "  file_name = data_name.replace('_','.')\n",
        "\n",
        "  with open(target_dir+'/'+file_name, 'w') as f:\n",
        "\n",
        "    for index, row in df.iterrows():\n",
        "\n",
        "        sentence = row.ori_text\n",
        "        NER = row.NER\n",
        "\n",
        "        sentence_w_control_token =  \" <NEXT_NE> \" + \" <NEXT_NE> \".join(NER) + \" <SENT_START> \" + sentence\n",
        "\n",
        "        if index%10000==0:\n",
        "            print(index)\n",
        "            print(sentence_w_control_token)\n",
        "\n",
        "        f.write(\"{}\\n\".format(sentence_w_control_token))\n",
        "\n",
        "  f.close()\n"
      ],
      "id": "08uezrBj1zkE",
      "execution_count": null,
      "outputs": [
        {
          "output_type": "display_data",
          "data": {
            "text/html": [
              "\n",
              "  <style>\n",
              "    pre {\n",
              "        white-space: pre-wrap;\n",
              "    }\n",
              "  </style>\n",
              "  "
            ],
            "text/plain": [
              "<IPython.core.display.HTML object>"
            ]
          },
          "metadata": {}
        },
        {
          "output_type": "stream",
          "text": [
            "0\n",
            " <NEXT_NE> Contra Costa <NEXT_NE> Mendocino <NEXT_NE> Adjacent <NEXT_NE> Solano <NEXT_NE> Marin <NEXT_NE> Lake <NEXT_NE> Napa <SENT_START> Adjacent counties are Marin (to the south), Mendocino (to the north), Lake (northeast), Napa (to the east), and Solano and Contra Costa (to the southeast).\n",
            "0\n",
            " <NEXT_NE> Afro-Arab Abbala <NEXT_NE> Janjaweed <NEXT_NE> Sudanese <NEXT_NE> Rizeigat <SENT_START> One side of the armed conflicts is composed mainly of the Sudanese military and the Janjaweed, a Sudanese militia group recruited mostly from the Afro-Arab Abbala tribes of the northern Rizeigat region in Sudan.\n"
          ],
          "name": "stdout"
        }
      ]
    },
    {
      "cell_type": "markdown",
      "metadata": {
        "id": "fkHBKkMxQfkR"
      },
      "source": [
        "#### prefix different number of NE"
      ],
      "id": "fkHBKkMxQfkR"
    },
    {
      "cell_type": "code",
      "metadata": {
        "colab": {
          "base_uri": "https://localhost:8080/",
          "height": 17
        },
        "id": "vXz4vgVOSfGz",
        "outputId": "1d504488-db9d-418e-bbff-ec1982c976cf"
      },
      "source": [
        "\n",
        "with open ('/content/drive/MyDrive/muss/valid_complex_df_0825.pkl', 'rb') as fp:\n",
        "    valid_df = pickle.load(fp)\n",
        "\n",
        "with open ('/content/drive/MyDrive/muss/test_complex_df_0825.pkl', 'rb') as fp:\n",
        "    test_df = pickle.load(fp)"
      ],
      "id": "vXz4vgVOSfGz",
      "execution_count": null,
      "outputs": [
        {
          "output_type": "display_data",
          "data": {
            "text/html": [
              "\n",
              "  <style>\n",
              "    pre {\n",
              "        white-space: pre-wrap;\n",
              "    }\n",
              "  </style>\n",
              "  "
            ],
            "text/plain": [
              "<IPython.core.display.HTML object>"
            ]
          },
          "metadata": {}
        }
      ]
    },
    {
      "cell_type": "code",
      "metadata": {
        "colab": {
          "base_uri": "https://localhost:8080/",
          "height": 17
        },
        "id": "-FJaGp0bTiwQ",
        "outputId": "4219afff-18bd-493b-adae-fe8dbc23f19f"
      },
      "source": [
        "data_names = ['valid_complex', 'test_complex']"
      ],
      "id": "-FJaGp0bTiwQ",
      "execution_count": null,
      "outputs": [
        {
          "output_type": "display_data",
          "data": {
            "text/html": [
              "\n",
              "  <style>\n",
              "    pre {\n",
              "        white-space: pre-wrap;\n",
              "    }\n",
              "  </style>\n",
              "  "
            ],
            "text/plain": [
              "<IPython.core.display.HTML object>"
            ]
          },
          "metadata": {}
        }
      ]
    },
    {
      "cell_type": "code",
      "metadata": {
        "colab": {
          "base_uri": "https://localhost:8080/",
          "height": 17
        },
        "id": "QLHmGPRSTzon",
        "outputId": "b0d14c5e-b940-4a34-9f75-3e61798cc6ab"
      },
      "source": [
        "df_list = ['valid_df','test_df']"
      ],
      "id": "QLHmGPRSTzon",
      "execution_count": null,
      "outputs": [
        {
          "output_type": "display_data",
          "data": {
            "text/html": [
              "\n",
              "  <style>\n",
              "    pre {\n",
              "        white-space: pre-wrap;\n",
              "    }\n",
              "  </style>\n",
              "  "
            ],
            "text/plain": [
              "<IPython.core.display.HTML object>"
            ]
          },
          "metadata": {}
        }
      ]
    },
    {
      "cell_type": "code",
      "metadata": {
        "colab": {
          "base_uri": "https://localhost:8080/",
          "height": 17
        },
        "id": "ouGFTzNiQhPO",
        "outputId": "8c6c2eb0-1a4e-4a8a-9bac-02ff587543bd"
      },
      "source": [
        "def make_dataset(folder_name,data_names,num_NE,all_word=False,all_word_random=False):\n",
        "    \n",
        "    target_dir = '/content/drive/MyDrive/muss/resources/datasets/'+folder_name\n",
        "    os.makedirs(target_dir)\n",
        "    \n",
        "    for index,data_name in enumerate(data_names):\n",
        "        df = globals()[df_list[index]]\n",
        "        file_name = data_name.replace('_','.')  \n",
        "\n",
        "        with open(target_dir+'/'+file_name, 'w') as f:\n",
        "          for index, row in df.iterrows():\n",
        "              \n",
        "              if all_word == False:\n",
        "                  sentence = row.ori_text\n",
        "                  NER = row.NER\n",
        "\n",
        "                  if len(NER) != 0:\n",
        "                      NE_remained = row.NER[:num_NE]\n",
        "                      sentence_w_control_token = \" <NEXT_NE> \" + \" <NEXT_NE> \".join(NE_remained) + \" <SENT_START> \" + sentence\n",
        "                  else:\n",
        "                      sentence_w_control_token = \" <NEXT_NE> \"+ \" <SENT_START> \" + sentence\n",
        "\n",
        "                  if index%100==0:\n",
        "                      print(index)\n",
        "                      print(sentence_w_control_token)\n",
        "\n",
        "                  f.write(\"{}\\n\".format(sentence_w_control_token))\n",
        "              else:\n",
        "                  sentence = row.ori_text\n",
        "                  words_NE_list = sentence.split(' ')\n",
        "\n",
        "                  if all_word_random == True:\n",
        "                      random.shuffle(words_NE_list)\n",
        "\n",
        "                  sentence_w_control_token = \" <NEXT_NE> \" + \" <NEXT_NE> \".join(words_NE_list) + \" <SENT_START> \" + sentence\n",
        "\n",
        "                  if index%100==0:\n",
        "                      print(index)\n",
        "                      print(sentence_w_control_token)\n",
        "\n",
        "                  f.write(\"{}\\n\".format(sentence_w_control_token))\n",
        "\n",
        "        f.close()\n"
      ],
      "id": "ouGFTzNiQhPO",
      "execution_count": null,
      "outputs": [
        {
          "output_type": "display_data",
          "data": {
            "text/html": [
              "\n",
              "  <style>\n",
              "    pre {\n",
              "        white-space: pre-wrap;\n",
              "    }\n",
              "  </style>\n",
              "  "
            ],
            "text/plain": [
              "<IPython.core.display.HTML object>"
            ]
          },
          "metadata": {}
        }
      ]
    },
    {
      "cell_type": "code",
      "metadata": {
        "id": "fMdDvQVwTaLG"
      },
      "source": [
        "# create dataset with different number of named entities in prefix\n",
        "make_dataset('asset_complex_all_words_random_0828',data_names,999)"
      ],
      "id": "fMdDvQVwTaLG",
      "execution_count": null,
      "outputs": []
    },
    {
      "cell_type": "code",
      "metadata": {
        "id": "inoZPEqlTaIu"
      },
      "source": [
        ""
      ],
      "id": "inoZPEqlTaIu",
      "execution_count": null,
      "outputs": []
    },
    {
      "cell_type": "code",
      "metadata": {
        "id": "_0T9YLkPTaGG"
      },
      "source": [
        ""
      ],
      "id": "_0T9YLkPTaGG",
      "execution_count": null,
      "outputs": []
    },
    {
      "cell_type": "code",
      "metadata": {
        "id": "fJxu0AnOTaDY"
      },
      "source": [
        ""
      ],
      "id": "fJxu0AnOTaDY",
      "execution_count": null,
      "outputs": []
    },
    {
      "cell_type": "markdown",
      "metadata": {
        "id": "Is4cvJdaNV_l"
      },
      "source": [
        "## simple"
      ],
      "id": "Is4cvJdaNV_l"
    },
    {
      "cell_type": "markdown",
      "metadata": {
        "id": "7bCcJrFqwvdd"
      },
      "source": [
        "### NER"
      ],
      "id": "7bCcJrFqwvdd"
    },
    {
      "cell_type": "code",
      "metadata": {
        "colab": {
          "base_uri": "https://localhost:8080/",
          "height": 1000
        },
        "id": "BXdALf0RNV_m",
        "outputId": "46d2b176-7a08-43d9-e5a7-ffb4349fd617"
      },
      "source": [
        "# load sentence for preprocessing\n",
        "\n",
        "PHASES = ['valid', 'test']\n",
        "LANGUAGES = ['simple']\n",
        "\n",
        "data_dir = '/content/drive/MyDrive/muss/resources/datasets/asset/'\n",
        "\n",
        "simple_NER_list = []\n",
        "\n",
        "for i in range(10):\n",
        "    print('i',i)\n",
        "    data_names = []\n",
        "    \n",
        "    for phase, language in product(PHASES, LANGUAGES):\n",
        "        # print(phase, language)\n",
        "        data_name = phase + '_' + language\n",
        "        data_names.append(data_name)\n",
        "\n",
        "        with open(data_dir+phase+'.'+language + '.' +str(i)) as f:\n",
        "              \n",
        "            exec(\"%s = %s\" % (data_name,f.read().splitlines()))\n",
        "\n",
        "            f.close()\n",
        "\n",
        "    print('BEFORE: valid_simple[5]',valid_simple[5])\n",
        "\n",
        "   \n",
        "    # preprocess - delete first word in sentences if it is in stop words list\n",
        "    for index,file_name in enumerate(data_names):  # data_names ['valid_simple', 'test_simple']\n",
        "        \n",
        "        data = globals()[file_name]\n",
        "        \n",
        "        for count, sentence in enumerate(data):\n",
        "\n",
        "            first_word = sentence.split(' ')[0]\n",
        "\n",
        "            if first_word.lower() in stop_words_list:\n",
        "                # delete it\n",
        "                data[count] = sentence[len(first_word)+1:]\n",
        "\n",
        "    print('AFTER: valid_simple[5]',valid_simple[5])\n",
        "\n",
        "\n",
        "    '''\n",
        "    find NE\n",
        "    '''\n",
        "\n",
        "    data_NER = []\n",
        "\n",
        "    for index,file_name in enumerate(data_names):\n",
        "        \n",
        "        data = globals()[file_name]\n",
        "\n",
        "        found_NER_list = []\n",
        "        for count, sentence in enumerate(data):\n",
        "            \n",
        "            found_NER_list += [find_all_NE(sentence)]\n",
        "\n",
        "            if count%1000 == 0:\n",
        "                print(file_name,count)\n",
        "        \n",
        "        data_NER += [found_NER_list]\n",
        "\n",
        "    simple_NER_list += [data_NER]\n",
        "    print(len(simple_NER_list))"
      ],
      "id": "BXdALf0RNV_m",
      "execution_count": null,
      "outputs": [
        {
          "output_type": "display_data",
          "data": {
            "text/html": [
              "\n",
              "  <style>\n",
              "    pre {\n",
              "        white-space: pre-wrap;\n",
              "    }\n",
              "  </style>\n",
              "  "
            ],
            "text/plain": [
              "<IPython.core.display.HTML object>"
            ]
          },
          "metadata": {}
        },
        {
          "output_type": "stream",
          "text": [
            "i 0\n",
            "BEFORE: valid_simple[5] After years in the tag team division, Hardy took on The Undertaker in a ladder match for the Undisputed Championship.\n",
            "AFTER: valid_simple[5] years in the tag team division, Hardy took on The Undertaker in a ladder match for the Undisputed Championship.\n",
            "valid_simple 0\n",
            "valid_simple 1000\n",
            "test_simple 0\n",
            "1\n",
            "i 1\n",
            "BEFORE: valid_simple[5] After years in the tag team, Hardy took on The Undertaker in a Championship match.\n",
            "AFTER: valid_simple[5] years in the tag team, Hardy took on The Undertaker in a Championship match.\n",
            "valid_simple 0\n",
            "valid_simple 1000\n",
            "test_simple 0\n",
            "2\n",
            "i 2\n",
            "BEFORE: valid_simple[5] Hardy was previously in a tag team and fought The Undertaker in a ladder match for the championship belt.\n",
            "AFTER: valid_simple[5] Hardy was previously in a tag team and fought The Undertaker in a ladder match for the championship belt.\n",
            "valid_simple 0\n",
            "valid_simple 1000\n",
            "test_simple 0\n",
            "3\n",
            "i 3\n",
            "BEFORE: valid_simple[5] Hardy took on The Undertaker. It was a ladder match for the Undisputed Championship.\n",
            "AFTER: valid_simple[5] Hardy took on The Undertaker. It was a ladder match for the Undisputed Championship.\n",
            "valid_simple 0\n",
            "valid_simple 1000\n",
            "test_simple 0\n",
            "4\n",
            "i 4\n",
            "BEFORE: valid_simple[5] Singles competition (2002 – 2003) After years in the tag team division, Hardy fought The Undertaker in a ladder match for the Undisputed Championship.\n",
            "AFTER: valid_simple[5] Singles competition (2002 – 2003) After years in the tag team division, Hardy fought The Undertaker in a ladder match for the Undisputed Championship.\n",
            "valid_simple 0\n",
            "valid_simple 1000\n",
            "test_simple 0\n",
            "5\n",
            "i 5\n",
            "BEFORE: valid_simple[5] After fighting in the tag team division, Hardy took on The Undertaker in a ladder match.\n",
            "AFTER: valid_simple[5] fighting in the tag team division, Hardy took on The Undertaker in a ladder match.\n",
            "valid_simple 0\n",
            "valid_simple 1000\n",
            "test_simple 0\n",
            "6\n",
            "i 6\n",
            "BEFORE: valid_simple[5] After many years in the tag team division, Hardy took on The Undertaker in a ladder match for the Undisputed Championship.\n",
            "AFTER: valid_simple[5] many years in the tag team division, Hardy took on The Undertaker in a ladder match for the Undisputed Championship.\n",
            "valid_simple 0\n",
            "valid_simple 1000\n",
            "test_simple 0\n",
            "7\n",
            "i 7\n",
            "BEFORE: valid_simple[5] Hardy was in the tag team division. Then, he challenged The Undertaker in a ladder match for the Undisputed Championship.\n",
            "AFTER: valid_simple[5] Hardy was in the tag team division. Then, he challenged The Undertaker in a ladder match for the Undisputed Championship.\n",
            "valid_simple 0\n",
            "valid_simple 1000\n",
            "test_simple 0\n",
            "8\n",
            "i 8\n",
            "BEFORE: valid_simple[5] Singles contest (2002 – 2003) After years in the tag team division, Hardy took over The Undertaker in a ladder match for the Undisputed Championship.\n",
            "AFTER: valid_simple[5] Singles contest (2002 – 2003) After years in the tag team division, Hardy took over The Undertaker in a ladder match for the Undisputed Championship.\n",
            "valid_simple 0\n",
            "valid_simple 1000\n",
            "test_simple 0\n",
            "9\n",
            "i 9\n",
            "BEFORE: valid_simple[5] After years in the tag team division, Hardy fought The Undertaker in a ladder match for the Undisputed Championship.\n",
            "AFTER: valid_simple[5] years in the tag team division, Hardy fought The Undertaker in a ladder match for the Undisputed Championship.\n",
            "valid_simple 0\n",
            "valid_simple 1000\n",
            "test_simple 0\n",
            "10\n"
          ],
          "name": "stdout"
        }
      ]
    },
    {
      "cell_type": "code",
      "metadata": {
        "colab": {
          "base_uri": "https://localhost:8080/",
          "height": 17
        },
        "id": "WICr8JUlO1kU",
        "outputId": "5ebfc841-f6f7-4a16-bdde-3b2369d26982"
      },
      "source": [
        "with open('/content/drive/MyDrive/muss/qualitative/NER_list_asset_0810_simple', 'wb') as fp:\n",
        "    pickle.dump(simple_NER_list, fp)    "
      ],
      "id": "WICr8JUlO1kU",
      "execution_count": null,
      "outputs": [
        {
          "output_type": "display_data",
          "data": {
            "text/html": [
              "\n",
              "  <style>\n",
              "    pre {\n",
              "        white-space: pre-wrap;\n",
              "    }\n",
              "  </style>\n",
              "  "
            ],
            "text/plain": [
              "<IPython.core.display.HTML object>"
            ]
          },
          "metadata": {
            "tags": []
          }
        }
      ]
    },
    {
      "cell_type": "code",
      "metadata": {
        "colab": {
          "base_uri": "https://localhost:8080/",
          "height": 17
        },
        "id": "tGXWj7YkgqUp",
        "outputId": "1ccb41e5-b61a-4772-9cf8-02829c4416c2"
      },
      "source": [
        "with open ('/content/drive/MyDrive/muss/qualitative/NER_list_asset_0810_simple', 'rb') as fp:\n",
        "    simple_NER_list = pickle.load(fp)"
      ],
      "id": "tGXWj7YkgqUp",
      "execution_count": null,
      "outputs": [
        {
          "output_type": "display_data",
          "data": {
            "text/html": [
              "\n",
              "  <style>\n",
              "    pre {\n",
              "        white-space: pre-wrap;\n",
              "    }\n",
              "  </style>\n",
              "  "
            ],
            "text/plain": [
              "<IPython.core.display.HTML object>"
            ]
          },
          "metadata": {}
        }
      ]
    },
    {
      "cell_type": "code",
      "metadata": {
        "colab": {
          "base_uri": "https://localhost:8080/",
          "height": 1000
        },
        "id": "8ACbR8sXvHXI",
        "outputId": "880729b2-7066-46d5-97b8-281c2b828677"
      },
      "source": [
        "# delete stop words\n",
        "for j in range(len(simple_NER_list)):\n",
        "  for i in range(len(simple_NER_list[j])):\n",
        "    for n in range(len(simple_NER_list[j][i])):\n",
        "      print('before:',simple_NER_list[j][i][n])\n",
        "      simple_NER_list[j][i][n] = [NE for NE in simple_NER_list[j][i][n] if NE not in total_stop_words_list]\n",
        "      print('after:',simple_NER_list[j][i][n])\n"
      ],
      "id": "8ACbR8sXvHXI",
      "execution_count": null,
      "outputs": [
        {
          "output_type": "display_data",
          "data": {
            "text/html": [
              "\n",
              "  <style>\n",
              "    pre {\n",
              "        white-space: pre-wrap;\n",
              "    }\n",
              "  </style>\n",
              "  "
            ],
            "text/plain": [
              "<IPython.core.display.HTML object>"
            ]
          },
          "metadata": {}
        },
        {
          "output_type": "stream",
          "text": [
            "\u001b[1;30;43m流式输出内容被截断，只能显示最后 5000 行内容。\u001b[0m\n",
            "before: ['Companion of Honour', '1988', 'CH']\n",
            "after: ['Companion of Honour', '1988', 'CH']\n",
            "before: ['Loeche', 'Swiss', 'Onyx']\n",
            "after: ['Loeche', 'Swiss', 'Onyx']\n",
            "before: ['matchbook']\n",
            "after: ['matchbook']\n",
            "before: ['first']\n",
            "after: []\n",
            "before: ['Commune']\n",
            "after: ['Commune']\n",
            "before: ['ThunderClan in The Sight', 'Twolegs in Dawn', 'Graystripe', 'English', 'three']\n",
            "after: ['ThunderClan in The Sight', 'Twolegs in Dawn', 'Graystripe', 'English']\n",
            "before: ['Samovar & Porter', 'Americans', 'each day', 'Syrians', '1994', '84']\n",
            "after: ['Samovar & Porter', 'Americans', 'each day', 'Syrians', '1994', '84']\n",
            "before: ['']\n",
            "after: ['']\n",
            "before: ['4', '5']\n",
            "after: ['4', '5']\n",
            "before: ['Australian National University', 'David Lindenmeyer', 'Leadbeater', 'Dr']\n",
            "after: ['Australian National University', 'David Lindenmeyer', 'Leadbeater', 'Dr']\n",
            "before: ['Montreal Canadians', 'Quebec', 'Canada']\n",
            "after: ['Montreal Canadians', 'Quebec', 'Canada']\n",
            "before: ['Small']\n",
            "after: ['Small']\n",
            "before: ['Rathke in', 'Limnoria', 'Norway', 'first', '1799']\n",
            "after: ['Rathke in', 'Limnoria', 'Norway', '1799']\n",
            "before: ['']\n",
            "after: ['']\n",
            "before: ['Greenlaw', 'Lauder', 'Duns', '1596']\n",
            "after: ['Greenlaw', 'Lauder', 'Duns', '1596']\n",
            "before: ['Axel in']\n",
            "after: ['Axel in']\n",
            "before: ['the Port Jackson District Commandant']\n",
            "after: ['the Port Jackson District Commandant']\n",
            "before: ['']\n",
            "after: ['']\n",
            "before: ['']\n",
            "after: ['']\n",
            "before: ['Computer']\n",
            "after: ['Computer']\n",
            "before: ['Volga']\n",
            "after: ['Volga']\n",
            "before: ['']\n",
            "after: ['']\n",
            "before: ['']\n",
            "after: ['']\n",
            "before: ['ShoreBank', 'Bankers', 'Yunus', 'Ford']\n",
            "after: ['ShoreBank', 'Bankers', 'Yunus', 'Ford']\n",
            "before: ['Saddam', 'Bremer']\n",
            "after: ['Saddam', 'Bremer']\n",
            "before: [\"Professional Hockey Writers' Association\", 'the season', 'All-Star']\n",
            "after: [\"Professional Hockey Writers' Association\", 'the season', 'All-Star']\n",
            "before: [\"the People's Republic of China\", 'Turkmenistan', 'Afghanistan', 'Tajikistan', 'Uzbekistan', 'Pakistan', 'Iran']\n",
            "after: [\"the People's Republic of China\", 'Turkmenistan', 'Afghanistan', 'Tajikistan', 'Uzbekistan', 'Pakistan', 'Iran']\n",
            "before: ['March 9, 2000', 'Bomis, Inc', 'Nupedia']\n",
            "after: ['March 9, 2000', 'Bomis, Inc', 'Nupedia']\n",
            "before: ['S-boxes']\n",
            "after: ['S-boxes']\n",
            "before: ['Bristol Rugby', 'Iain Grieve']\n",
            "after: ['Bristol Rugby', 'Iain Grieve']\n",
            "before: ['Pont-Bellanger', 'Beaumesnil']\n",
            "after: ['Pont-Bellanger', 'Beaumesnil']\n",
            "before: ['Murray Gell-Mann', 'George Zweig in', 'quark model', '1964']\n",
            "after: ['Murray Gell-Mann', 'George Zweig in', 'quark model', '1964']\n",
            "before: ['1938-1939', 'fourth', 'That']\n",
            "after: ['1938-1939', 'fourth']\n",
            "before: [\"West Germany's\", 'West Berlin', '1990', 'This']\n",
            "after: [\"West Germany's\", 'West Berlin', '1990']\n",
            "before: ['Sandro Botticelli in', 'Italian Renaissance', 'Primavera', '1482']\n",
            "after: ['Sandro Botticelli in', 'Italian Renaissance', 'Primavera', '1482']\n",
            "before: ['New South Wales', 'Sydney', 'It']\n",
            "after: ['New South Wales', 'Sydney']\n",
            "before: ['Sometimes', 'Epoxy']\n",
            "after: ['Epoxy']\n",
            "before: ['digital radio station', 'The']\n",
            "after: ['digital radio station']\n",
            "before: ['four and a half years old', 'the next four years', 'Northern Italy', 'For the']\n",
            "after: ['four and a half years old', 'the next four years', 'Northern Italy', 'For the']\n",
            "before: ['the 1980s and', 'Stands', '1990s', 'These']\n",
            "after: ['the 1980s and', 'Stands', '1990s']\n",
            "before: ['This']\n",
            "after: []\n",
            "before: ['Later']\n",
            "after: []\n",
            "before: ['the Battle of Stiklestad', 'Olav Haraldsson', 'July 29']\n",
            "after: ['the Battle of Stiklestad', 'Olav Haraldsson', 'July 29']\n",
            "before: ['Tresca', 'Stalin', 'NKVD']\n",
            "after: ['Tresca', 'Stalin', 'NKVD']\n",
            "before: ['Montenegro', 'Serbia']\n",
            "after: ['Montenegro', 'Serbia']\n",
            "before: ['HTML', 'CSS']\n",
            "after: ['HTML', 'CSS']\n",
            "before: ['Schuschnigg']\n",
            "after: ['Schuschnigg']\n",
            "before: ['Addiscombe', 'Croydon', 'England']\n",
            "after: ['Addiscombe', 'Croydon', 'England']\n",
            "before: ['Sometimes']\n",
            "after: []\n",
            "before: ['the Center for European Integration Studies', 'Institute of European History in Mainz', 'European Integration Studies in Bonn', 'the Institute of European History', 'Prunk', 'He']\n",
            "after: ['the Center for European Integration Studies', 'Institute of European History in Mainz', 'European Integration Studies in Bonn', 'the Institute of European History', 'Prunk']\n",
            "before: ['Stallone', 'French', '2003', 'Taxi']\n",
            "after: ['Stallone', 'French', '2003', 'Taxi']\n",
            "before: ['Templin Highway', 'Santa Clarita', 'Instead']\n",
            "after: ['Templin Highway', 'Santa Clarita']\n",
            "before: ['Microeconomic Foundations of Employment and Inflation Theory', 'the following year', 'Phelps']\n",
            "after: ['Microeconomic Foundations of Employment and Inflation Theory', 'the following year', 'Phelps']\n",
            "before: ['Super Mario Land', 'Wario Land', '3']\n",
            "after: ['Super Mario Land', 'Wario Land', '3']\n",
            "before: [\"Frédéric Chopin's\", 'Opus', '57']\n",
            "after: [\"Frédéric Chopin's\", 'Opus', '57']\n",
            "before: ['']\n",
            "after: ['']\n",
            "before: ['the Gold Coast', 'west Africa', 'Nigeria']\n",
            "after: ['the Gold Coast', 'west Africa', 'Nigeria']\n",
            "before: ['Also', 'This']\n",
            "after: []\n",
            "before: ['Breitkopf', 'Härtel']\n",
            "after: ['Breitkopf', 'Härtel']\n",
            "before: ['Mercury', 'Moon', 'It']\n",
            "after: ['Mercury', 'Moon']\n",
            "before: ['the Limmat valley', 'Zurich', 'Baden', 'It']\n",
            "after: ['the Limmat valley', 'Zurich', 'Baden']\n",
            "before: ['chinkara']\n",
            "after: ['chinkara']\n",
            "before: ['the Delhi Sultanate', 'Turkish', 'Mughals', 'Afghan', 'Dhaka', '1608', 'Sena']\n",
            "after: ['the Delhi Sultanate', 'Turkish', 'Mughals', 'Afghan', 'Dhaka', '1608', 'Sena']\n",
            "before: ['Prime Minister']\n",
            "after: ['Prime Minister']\n",
            "before: ['Rowling', 'Harry']\n",
            "after: ['Rowling', 'Harry']\n",
            "before: ['Jan-Carl Raspe', 'June 1, 1972', 'Holger Meins', 'Frankfurt', 'RAF']\n",
            "after: ['Jan-Carl Raspe', 'June 1, 1972', 'Holger Meins', 'Frankfurt', 'RAF']\n",
            "before: ['New Music Manchester']\n",
            "after: ['New Music Manchester']\n",
            "before: ['18 to 20 feet', 'Florida Keys', 'The']\n",
            "after: ['18 to 20 feet', 'Florida Keys']\n",
            "before: [\"Meher Baba's\", 'It']\n",
            "after: [\"Meher Baba's\"]\n",
            "before: ['']\n",
            "after: ['']\n",
            "before: ['Meissner', 'American', 'second', 'Axel', '2005']\n",
            "after: ['Meissner', 'American', 'Axel', '2005']\n",
            "before: ['Massachusetts', 'Essex County', 'Salem']\n",
            "after: ['Massachusetts', 'Essex County', 'Salem']\n",
            "before: ['']\n",
            "after: ['']\n",
            "before: ['Saint Martin', 'Puerto Rico', '186 miles', 'Caribbean']\n",
            "after: ['Saint Martin', 'Puerto Rico', '186 miles', 'Caribbean']\n",
            "before: ['PDFs']\n",
            "after: ['PDFs']\n",
            "before: ['Police Inspector Sir Frederick Pottinger', '1862', 'Ben', 'The']\n",
            "after: ['Police Inspector Sir Frederick Pottinger', '1862', 'Ben']\n",
            "before: ['Heavy']\n",
            "after: ['Heavy']\n",
            "before: ['Version 2009.1', 'USB', 'You', 'It']\n",
            "after: ['Version 2009.1', 'USB']\n",
            "before: ['the Federal Assembly']\n",
            "after: ['the Federal Assembly']\n",
            "before: ['']\n",
            "after: ['']\n",
            "before: ['twenty-one', 'Columbus', 'State', 'Ohio', 'They']\n",
            "after: ['twenty-one', 'Columbus', 'State', 'Ohio']\n",
            "before: ['Greenland', 'Scotland', 'Iceland', 'Norway', 'They', 'This']\n",
            "after: ['Greenland', 'Scotland', 'Iceland', 'Norway']\n",
            "before: ['Universally Speaking', 'The Zephyr Song', \"Ca n't Stop\", 'By the Way', 'Dosed']\n",
            "after: ['Universally Speaking', 'The Zephyr Song', \"Ca n't Stop\", 'By the Way', 'Dosed']\n",
            "before: ['April 2000', 'MINIX']\n",
            "after: ['April 2000', 'MINIX']\n",
            "before: ['Body']\n",
            "after: ['Body']\n",
            "before: ['Britannica', 'Scottish', 'Scotland']\n",
            "after: ['Britannica', 'Scottish', 'Scotland']\n",
            "before: ['September 22', 'September 23', 'Jose', 'It']\n",
            "after: ['September 22', 'September 23', 'Jose']\n",
            "before: ['the San Diego Union Tribune', 'Iraqi Republican Guards', 'August 2003', 'U.S. Marine', 'Mark', '77']\n",
            "after: ['the San Diego Union Tribune', 'Iraqi Republican Guards', 'August 2003', 'U.S. Marine', 'Mark', '77']\n",
            "before: ['It']\n",
            "after: []\n",
            "before: ['Third World', 'Real']\n",
            "after: ['Third World', 'Real']\n",
            "before: ['Sydney Cove', '1796']\n",
            "after: ['Sydney Cove', '1796']\n",
            "before: ['Ned', 'Dan']\n",
            "after: ['Ned', 'Dan']\n",
            "before: ['Veeck', 'one']\n",
            "after: ['Veeck']\n",
            "before: ['Joss Whedon', 'Fray']\n",
            "after: ['Joss Whedon', 'Fray']\n",
            "before: ['Marvel']\n",
            "after: ['Marvel']\n",
            "before: ['SAT']\n",
            "after: ['SAT']\n",
            "before: ['Geisslerlieder', 'Italy']\n",
            "after: ['Geisslerlieder', 'Italy']\n",
            "before: ['']\n",
            "after: ['']\n",
            "before: ['seven years', 'Australia']\n",
            "after: ['seven years', 'Australia']\n",
            "before: ['Charles', 'Waugh', 'He']\n",
            "after: ['Charles', 'Waugh']\n",
            "before: ['Grigori Rasputin', 'Friendship']\n",
            "after: ['Grigori Rasputin', 'Friendship']\n",
            "before: ['Dorsal']\n",
            "after: ['Dorsal']\n",
            "before: ['Berzelius']\n",
            "after: ['Berzelius']\n",
            "before: ['Jerilderie', '16 months']\n",
            "after: ['Jerilderie', '16 months']\n",
            "before: ['Barneville-la-Bertran', 'Calvado', 'France']\n",
            "after: ['Barneville-la-Bertran', 'Calvado', 'France']\n",
            "before: ['Color']\n",
            "after: ['Color']\n",
            "before: ['Bloor Streets', 'St. George', 'Union', '1963', 'The', 'At']\n",
            "after: ['Bloor Streets', 'St. George', 'Union', '1963']\n",
            "before: ['Commonwealth Railways Central Australian', 'the Commonwealth Railways', 'the Simpson Desert', '1980']\n",
            "after: ['Commonwealth Railways Central Australian', 'the Commonwealth Railways', 'the Simpson Desert', '1980']\n",
            "before: ['Unalakleet']\n",
            "after: ['Unalakleet']\n",
            "before: ['People']\n",
            "after: ['People']\n",
            "before: ['the Sierra Madre', 'Mesoamerica', 'Yucat']\n",
            "after: ['the Sierra Madre', 'Mesoamerica', 'Yucat']\n",
            "before: ['Google Books', 'It']\n",
            "after: ['Google Books']\n",
            "before: ['They']\n",
            "after: []\n",
            "before: ['Political Economy', '1985']\n",
            "after: ['Political Economy', '1985']\n",
            "before: ['the Soviet Union', 'IPO in', 'China', 'India', '1990', '1994']\n",
            "after: ['the Soviet Union', 'IPO in', 'China', 'India', '1990', '1994']\n",
            "before: ['Grand Army of Napoleon', 'Austrian General Mack', 'the Grand Army', 'Ulm']\n",
            "after: ['Grand Army of Napoleon', 'Austrian General Mack', 'the Grand Army', 'Ulm']\n",
            "before: ['Nigeria']\n",
            "after: ['Nigeria']\n",
            "before: ['South Indians', 'Telugu orTulu', 'Malayalam', 'Kannada', 'Tamil']\n",
            "after: ['South Indians', 'Telugu orTulu', 'Malayalam', 'Kannada', 'Tamil']\n",
            "before: ['Meteora']\n",
            "after: ['Meteora']\n",
            "before: ['WWF cavalry', 'Jericho', 'Kane']\n",
            "after: ['WWF cavalry', 'Jericho', 'Kane']\n",
            "before: ['Richard M. Sherman', 'Robert B. Sherman']\n",
            "after: ['Richard M. Sherman', 'Robert B. Sherman']\n",
            "before: ['the 5th century', 'Slavs']\n",
            "after: ['the 5th century', 'Slavs']\n",
            "before: ['Hill Auditorium', '1900 to 1920', 'This', 'two']\n",
            "after: ['Hill Auditorium', '1900 to 1920']\n",
            "before: ['Winchester', 'Illinois']\n",
            "after: ['Winchester', 'Illinois']\n",
            "before: ['Arzashkum', 'Assyrian', 'Armenian']\n",
            "after: ['Arzashkum', 'Assyrian', 'Armenian']\n",
            "before: ['16,421', 'one', '15', 'TV']\n",
            "after: ['16,421', '15', 'TV']\n",
            "before: ['September 21, 1993 to March 1, 2005', 'Episodes', 'ABC']\n",
            "after: ['September 21, 1993 to March 1, 2005', 'Episodes', 'ABC']\n",
            "before: ['second']\n",
            "after: []\n",
            "before: ['Julion Cesar Falcioni', 'Francisco Maturana', 'Columbian', 'Gimnasia', 'Both']\n",
            "after: ['Julion Cesar Falcioni', 'Francisco Maturana', 'Columbian', 'Gimnasia']\n",
            "before: ['Washington County', 'Brighton', 'Iowa']\n",
            "after: ['Washington County', 'Brighton', 'Iowa']\n",
            "before: ['']\n",
            "after: ['']\n",
            "before: ['Glinde', '1979']\n",
            "after: ['Glinde', '1979']\n",
            "before: ['Donkey Kong', 'Game Boy', 'Pauline', 'Mario']\n",
            "after: ['Donkey Kong', 'Game Boy', 'Pauline', 'Mario']\n",
            "before: ['']\n",
            "after: ['']\n",
            "before: ['a date between 1935 and 1939', 'It']\n",
            "after: ['a date between 1935 and 1939']\n",
            "before: ['half']\n",
            "after: ['half']\n",
            "before: ['the Bernese Alps', 'Bernese Oberland', 'Lucerne', 'However', 'Valais']\n",
            "after: ['the Bernese Alps', 'Bernese Oberland', 'Lucerne', 'Valais']\n",
            "before: ['Mary Ann Fisher Power', 'one', 'She']\n",
            "after: ['Mary Ann Fisher Power']\n",
            "before: ['Edward Gorey', 'Bawden', 'one', 'He']\n",
            "after: ['Edward Gorey', 'Bawden']\n",
            "before: ['e.g. electron', 'photon', 'This', 'Each']\n",
            "after: ['e.g. electron', 'photon']\n",
            "before: ['Fletcher Christian in the', 'Mutiny on the Bounty', 'Academy Award', 'Gable', '1935']\n",
            "after: ['Fletcher Christian in the', 'Mutiny on the Bounty', 'Academy Award', 'Gable', '1935']\n",
            "before: ['Contra Costa', 'Mendocino', 'Solano', 'Nearby', 'Marin', 'Lake', 'Napa']\n",
            "after: ['Contra Costa', 'Mendocino', 'Solano', 'Nearby', 'Marin', 'Lake', 'Napa']\n",
            "before: ['Georgian']\n",
            "after: ['Georgian']\n",
            "before: ['Christmas Special \"The Next Doctor', 'the Cyber-Shades', 'the Cyber-King', 'Later', '2008', 'two']\n",
            "after: ['Christmas Special \"The Next Doctor', 'the Cyber-Shades', 'the Cyber-King', '2008']\n",
            "before: ['August 17, 2004', 'A Sobering Tale', 'Make Love Like', 'Porn Star', 'Jameson', 'How']\n",
            "after: ['August 17, 2004', 'A Sobering Tale', 'Make Love Like', 'Porn Star', 'Jameson']\n",
            "before: ['']\n",
            "after: ['']\n",
            "before: ['the Undisputed Championship', 'The Undertaker in', 'years', 'Hardy']\n",
            "after: ['the Undisputed Championship', 'The Undertaker in', 'years', 'Hardy']\n",
            "before: ['Churches Together in Stevenage']\n",
            "after: ['Churches Together in Stevenage']\n",
            "before: ['Word']\n",
            "after: ['Word']\n",
            "before: ['Rollins', '1962']\n",
            "after: ['Rollins', '1962']\n",
            "before: ['History Landsberg', '1910']\n",
            "after: ['History Landsberg', '1910']\n",
            "before: ['']\n",
            "after: ['']\n",
            "before: ['the Byzantine Empire', 'the Latin Empire', 'Empire of Nicaea', 'Constantinople']\n",
            "after: ['the Byzantine Empire', 'the Latin Empire', 'Empire of Nicaea', 'Constantinople']\n",
            "before: ['scientist']\n",
            "after: ['scientist']\n",
            "before: ['the Second World War', 'Marcel Junod', 'Geneva']\n",
            "after: ['the Second World War', 'Marcel Junod', 'Geneva']\n",
            "before: ['the Washington Redskins', 'the Atlanta Falcons', 'New York Jets', 'Whisenhunt', '4 years', 'He']\n",
            "after: ['the Washington Redskins', 'the Atlanta Falcons', 'New York Jets', 'Whisenhunt', '4 years']\n",
            "before: ['Bessarabia', 'Romania', 'Dobruja', 'Russia', 'three']\n",
            "after: ['Bessarabia', 'Romania', 'Dobruja', 'Russia']\n",
            "before: ['World Wrestling Federation in March', 'the World Wrestling Federation', 'Wrestling World Championship', 'March 2001']\n",
            "after: ['World Wrestling Federation in March', 'the World Wrestling Federation', 'Wrestling World Championship', 'March 2001']\n",
            "before: ['California in the', 'West Coast', 'the 1940s', 'Texas']\n",
            "after: ['California in the', 'West Coast', 'the 1940s', 'Texas']\n",
            "before: ['Future']\n",
            "after: ['Future']\n",
            "before: ['Agriculture Locals', 'Maize', 'Wheat']\n",
            "after: ['Agriculture Locals', 'Maize', 'Wheat']\n",
            "before: ['2004', 'Roy', 'NHL', '41']\n",
            "after: ['2004', 'Roy', 'NHL', '41']\n",
            "before: ['21 November', 'Frances', 'Later']\n",
            "after: ['21 November', 'Frances']\n",
            "before: ['Fort Walton Beach', 'September 22', 'Tracking', 'Alabama']\n",
            "after: ['Fort Walton Beach', 'September 22', 'Tracking', 'Alabama']\n",
            "before: [\"Metropolitan Opera's\", 'Anthony McGill']\n",
            "after: [\"Metropolitan Opera's\", 'Anthony McGill']\n",
            "before: ['License', 'Also']\n",
            "after: ['License']\n",
            "before: ['the East Coast Main Line', 'British Rail Class', 'the late 1980s', '140 mph', '6,300', 'These', '91']\n",
            "after: ['the East Coast Main Line', 'British Rail Class', 'the late 1980s', '140 mph', '6,300', '91']\n",
            "before: ['2.79', 'It']\n",
            "after: ['2.79']\n",
            "before: ['thousands']\n",
            "after: ['thousands']\n",
            "before: ['']\n",
            "after: ['']\n",
            "before: ['Sunderland in', '1589', 'Salt']\n",
            "after: ['Sunderland in', '1589', 'Salt']\n",
            "before: ['']\n",
            "after: ['']\n",
            "before: ['the Florida Wrestling Championship', 'August 2007', 'TJ Wilson', 'Hager']\n",
            "after: ['the Florida Wrestling Championship', 'August 2007', 'TJ Wilson', 'Hager']\n",
            "before: ['']\n",
            "after: ['']\n",
            "before: ['Notably']\n",
            "after: ['Notably']\n",
            "before: ['the San Francisco Bay Area', 'California', 'San Jose', 'Oakland', 'USA']\n",
            "after: ['the San Francisco Bay Area', 'California', 'San Jose', 'Oakland', 'USA']\n",
            "before: ['Edward Danielson in Voyager', 'G. Edward Danielson', 'David C. Jewitt', 'July 8, 1979', 'Voyager 2', 'Adrastea']\n",
            "after: ['Edward Danielson in Voyager', 'G. Edward Danielson', 'David C. Jewitt', 'July 8, 1979', 'Voyager 2', 'Adrastea']\n",
            "before: ['Picasa Web Albums', 'June 6, 2006', 'first']\n",
            "after: ['Picasa Web Albums', 'June 6, 2006']\n",
            "before: ['']\n",
            "after: ['']\n",
            "before: ['Artemis', 'Apollo', 'first']\n",
            "after: ['Artemis', 'Apollo']\n",
            "before: ['']\n",
            "after: ['']\n",
            "before: ['Stephenie Meyer', 'Breaking Dawn', 'Twilight', 'fourth']\n",
            "after: ['Stephenie Meyer', 'Breaking Dawn', 'Twilight', 'fourth']\n",
            "before: ['Faringdon', 'Abingdon', 'Wantage', 'Other']\n",
            "after: ['Faringdon', 'Abingdon', 'Wantage']\n",
            "before: ['about 5700']\n",
            "after: ['about 5700']\n",
            "before: ['Nov. 29, 2006', 'External', 'Census', '2001', '42', '59']\n",
            "after: ['Nov. 29, 2006', 'External', 'Census', '2001', '42', '59']\n",
            "before: ['the University of Hawaii', 'Scott S. Sheppard']\n",
            "after: ['the University of Hawaii', 'Scott S. Sheppard']\n",
            "before: ['Claude Debussy', 'Nocturnes', 'French', 'three']\n",
            "after: ['Claude Debussy', 'Nocturnes', 'French']\n",
            "before: ['Life of Aeschylus', 'City Dionysia', 'Alexandrian', 'thirteen', 'first']\n",
            "after: ['Life of Aeschylus', 'City Dionysia', 'Alexandrian', 'thirteen']\n",
            "before: ['Scandinavia', 'Lutheranism', 'Uppsala in', 'Calvinism', 'Sweden', '1593']\n",
            "after: ['Scandinavia', 'Lutheranism', 'Uppsala in', 'Calvinism', 'Sweden', '1593']\n",
            "before: ['Holiday in Germany the', 'summer', 'War I']\n",
            "after: ['Holiday in Germany the', 'summer', 'War I']\n",
            "before: ['Surveyors']\n",
            "after: ['Surveyors']\n",
            "before: ['Vampire Squid', 'They']\n",
            "after: ['Vampire Squid']\n",
            "before: ['the 1950s', 'Camus']\n",
            "after: ['the 1950s', 'Camus']\n",
            "before: ['debut album of heavy metal', 'April 14, 1980', 'Iron Maiden', 'The']\n",
            "after: ['debut album of heavy metal', 'April 14, 1980', 'Iron Maiden']\n",
            "before: [\"the National Hockey League's\", 'Vezina Trophy']\n",
            "after: [\"the National Hockey League's\", 'Vezina Trophy']\n",
            "before: ['the University of Hawaii', 'Scott S. Sheppard', 'Sheppard in', '2000', 'The']\n",
            "after: ['the University of Hawaii', 'Scott S. Sheppard', 'Sheppard in', '2000']\n",
            "before: ['Charon', 'Hydra', 'Pluto', 'Nix']\n",
            "after: ['Charon', 'Hydra', 'Pluto', 'Nix']\n",
            "before: ['RTOS']\n",
            "after: ['RTOS']\n",
            "before: ['waxing crescent moon']\n",
            "after: ['waxing crescent moon']\n",
            "before: ['one', 'ALU', 'CPU']\n",
            "after: ['ALU', 'CPU']\n",
            "before: ['the ninth century', 'Reichenau']\n",
            "after: ['the ninth century', 'Reichenau']\n",
            "before: ['Cannes Film Festival', 'Alain Siritzky', 'Emmanuelle', '2008']\n",
            "after: ['Cannes Film Festival', 'Alain Siritzky', 'Emmanuelle', '2008']\n",
            "before: ['Hardy', 'WWE']\n",
            "after: ['Hardy', 'WWE']\n",
            "before: ['seventeenth', 'Latin']\n",
            "after: ['seventeenth', 'Latin']\n",
            "before: ['two']\n",
            "after: []\n",
            "before: ['The Worthing Saga', 'nine', '1990', 'It']\n",
            "after: ['The Worthing Saga', '1990']\n",
            "before: ['Atlantic hurricane season', 'November 30, 1977', 'June 1', 'The']\n",
            "after: ['Atlantic hurricane season', 'November 30, 1977', 'June 1']\n",
            "before: ['the Cold War']\n",
            "after: ['the Cold War']\n",
            "before: ['the University of Abertay Dundee', 'the University of Dundee', 'two']\n",
            "after: ['the University of Abertay Dundee', 'the University of Dundee']\n",
            "before: ['Senior Associate of the Supreme Court in the US', 'John Paul Stevens', '1920', '04']\n",
            "after: ['Senior Associate of the Supreme Court in the US', 'John Paul Stevens', '1920', '04']\n",
            "before: ['']\n",
            "after: ['']\n",
            "before: ['Arizona', 'Pacific', 'August']\n",
            "after: ['Arizona', 'Pacific', 'August']\n",
            "before: ['the 8th & 9th centuries', 'Byzantine', 'two']\n",
            "after: ['the 8th & 9th centuries', 'Byzantine']\n",
            "before: ['the University of Hawaii', 'University of Hawaii in', 'Scott S. Sheppard', '2003']\n",
            "after: ['the University of Hawaii', 'University of Hawaii in', 'Scott S. Sheppard', '2003']\n",
            "before: ['French']\n",
            "after: ['French']\n",
            "before: ['the Hebrew Bible', 'Book of Neheniah', 'Book of Ezra', 'second']\n",
            "after: ['the Hebrew Bible', 'Book of Neheniah', 'Book of Ezra']\n",
            "before: ['Erotian', 'Gravity', 'Eros']\n",
            "after: ['Erotian', 'Gravity', 'Eros']\n",
            "before: ['Definition Overview The', 'Solomon', 'Reed']\n",
            "after: ['Definition Overview The', 'Solomon', 'Reed']\n",
            "before: ['Stone Cold Steve Austin', 'the Dudley Boys', 'Chris Jericho', 'Kurt Angle', 'Undertaker', 'Booker T', 'Rhyno', 'Kane', 'WWF', 'DDP']\n",
            "after: ['Stone Cold Steve Austin', 'the Dudley Boys', 'Chris Jericho', 'Kurt Angle', 'Undertaker', 'Booker T', 'Rhyno', 'Kane', 'WWF', 'DDP']\n",
            "before: ['']\n",
            "after: ['']\n",
            "before: ['Daylesford and Castlemaine', 'European', 'Disputes', 'Chinese']\n",
            "after: ['Daylesford and Castlemaine', 'European', 'Disputes', 'Chinese']\n",
            "before: ['St. Moritz / Pontresina', 'Davos / Arosa', 'Tourism', 'Laax']\n",
            "after: ['St. Moritz / Pontresina', 'Davos / Arosa', 'Tourism', 'Laax']\n",
            "before: ['February 27, 1995']\n",
            "after: ['February 27, 1995']\n",
            "before: ['the London Horticultural Society', 'Robert Fortune', 'North America', 'Europe in', '1846']\n",
            "after: ['the London Horticultural Society', 'Robert Fortune', 'North America', 'Europe in', '1846']\n",
            "before: ['1947']\n",
            "after: ['1947']\n",
            "before: ['Anne Frank', 'Westerbork']\n",
            "after: ['Anne Frank', 'Westerbork']\n",
            "before: ['Sleeveless', 'Upper', 'Tank', 'A']\n",
            "after: ['Sleeveless', 'Upper', 'Tank']\n",
            "before: ['moon', '0.5', '0.1']\n",
            "after: ['moon', '0.5', '0.1']\n",
            "before: ['April Fool']\n",
            "after: ['April Fool']\n",
            "before: ['']\n",
            "after: ['']\n",
            "before: ['inner eyewall', '37 km', '23']\n",
            "after: ['inner eyewall', '37 km', '23']\n",
            "before: ['Central Division of the American League', 'the Central Division', 'White Sox']\n",
            "after: ['Central Division of the American League', 'the Central Division', 'White Sox']\n",
            "before: ['Robert H. McNaught', 'McNaught in', 'Damocles', '1991']\n",
            "after: ['Robert H. McNaught', 'McNaught in', 'Damocles', '1991']\n",
            "before: ['Blake River Megacaldera Complex']\n",
            "after: ['Blake River Megacaldera Complex']\n",
            "before: ['West Indian Fighting Conch', 'the Queen Conch', 'the West Indian', 'Caribbean', 'Strombus', 'This']\n",
            "after: ['West Indian Fighting Conch', 'the Queen Conch', 'the West Indian', 'Caribbean', 'Strombus']\n",
            "before: ['the North Sea', 'the Black Sea', 'Uninterrupted', '1992']\n",
            "after: ['the North Sea', 'the Black Sea', 'Uninterrupted', '1992']\n",
            "before: ['between 1.1 and 6.4', 'the 21st century', '18 to 59 cm', '23.22', '11.5', '7.08', '2.0', 'Sea', 'C', 'F']\n",
            "after: ['between 1.1 and 6.4', 'the 21st century', '18 to 59 cm', '23.22', '11.5', '7.08', '2.0', 'Sea']\n",
            "before: ['August', 'Angle', 'May']\n",
            "after: ['August', 'Angle']\n",
            "before: ['flies']\n",
            "after: ['flies']\n",
            "before: ['Packaged', 'A']\n",
            "after: ['Packaged']\n",
            "before: ['John Piper', '1980']\n",
            "after: ['John Piper', '1980']\n",
            "before: ['']\n",
            "after: ['']\n",
            "before: ['the Imperial Exarchate', 'Ravenna', 'Italy']\n",
            "after: ['the Imperial Exarchate', 'Ravenna', 'Italy']\n",
            "before: ['the European Southern Observatory', '230 light years', 'Astronomers', 'ESO']\n",
            "after: ['the European Southern Observatory', '230 light years', 'Astronomers', 'ESO']\n",
            "before: ['Provisional Government in Shanghai', 'the Provisional Government', '1919']\n",
            "after: ['Provisional Government in Shanghai', 'the Provisional Government', '1919']\n",
            "before: ['']\n",
            "after: ['']\n",
            "before: ['winter night']\n",
            "after: ['winter night']\n",
            "before: ['1,353', '1,356']\n",
            "after: ['1,353', '1,356']\n",
            "before: ['Roman Catholics', 'Justification', 'Protestants', 'Reformation']\n",
            "after: ['Roman Catholics', 'Justification', 'Protestants', 'Reformation']\n",
            "before: ['about 300', 'one', '20']\n",
            "after: ['about 300', '20']\n",
            "before: ['inter-Korean', 'Ban']\n",
            "after: ['inter-Korean', 'Ban']\n",
            "before: ['Ensure']\n",
            "after: ['Ensure']\n",
            "before: ['7 February 2007', '10:00 p.m.']\n",
            "after: ['7 February 2007', '10:00 p.m.']\n",
            "before: ['']\n",
            "after: ['']\n",
            "before: ['Main-Kinzig in Hessen', 'Germany', '1990']\n",
            "after: ['Main-Kinzig in Hessen', 'Germany', '1990']\n",
            "before: ['World News']\n",
            "after: ['World News']\n",
            "before: ['Caucasus Mountains', 'Caucasia', 'Europe', 'Asia']\n",
            "after: ['Caucasus Mountains', 'Caucasia', 'Europe', 'Asia']\n",
            "before: ['Anchovies', 'This']\n",
            "after: ['Anchovies']\n",
            "before: ['By']\n",
            "after: []\n",
            "before: ['non-English', 'Diacritical', 'Numerical', 'Eighteen', '1812', 'War']\n",
            "after: ['non-English', 'Diacritical', 'Numerical', 'Eighteen', '1812', 'War']\n",
            "before: ['Luis Suárez Miramontes', 'May 2, 1935', 'Spanish', 'He']\n",
            "after: ['Luis Suárez Miramontes', 'May 2, 1935', 'Spanish']\n",
            "before: ['Coupled']\n",
            "after: ['Coupled']\n",
            "before: ['']\n",
            "after: ['']\n",
            "before: ['Greenlanders', 'first', '1973', 'five']\n",
            "after: ['Greenlanders', '1973']\n",
            "before: ['']\n",
            "after: ['']\n",
            "before: ['Grosse Ile Township', 'State of Michigan', 'Wayne County', 'U. S. State']\n",
            "after: ['Grosse Ile Township', 'State of Michigan', 'Wayne County', 'U. S. State']\n",
            "before: ['Sabu in the Extreme', 'John Cena', 'Raw', 'ECW']\n",
            "after: ['Sabu in the Extreme', 'John Cena', 'Raw', 'ECW']\n",
            "before: ['Tiko United FC', 'Cameroon']\n",
            "after: ['Tiko United FC', 'Cameroon']\n",
            "before: ['It\\'s Too Late\" refugee camp', 'Carroll King', '1998']\n",
            "after: ['It\\'s Too Late\" refugee camp', 'Carroll King', '1998']\n",
            "before: ['Tube']\n",
            "after: ['Tube']\n",
            "before: ['the United States Great Seal', 'Francis Hopkinson', 'second']\n",
            "after: ['the United States Great Seal', 'Francis Hopkinson']\n",
            "before: ['']\n",
            "after: ['']\n",
            "before: ['Renault Vel Satis', 'French']\n",
            "after: ['Renault Vel Satis', 'French']\n",
            "before: ['the Solar System', 'Neptune', 'eighth', 'Sun']\n",
            "after: ['the Solar System', 'Neptune', 'eighth', 'Sun']\n",
            "before: ['Riluzole']\n",
            "after: ['Riluzole']\n",
            "before: ['the American Academy of Arts and Sciences', 'Sciences in', 'Hurwicz', '1965']\n",
            "after: ['the American Academy of Arts and Sciences', 'Sciences in', 'Hurwicz', '1965']\n",
            "before: ['Le Monde Diplomatique', 'Disarming the Markets', 'Ignacio Ramonet', 'Tobin', '1997']\n",
            "after: ['Le Monde Diplomatique', 'Disarming the Markets', 'Ignacio Ramonet', 'Tobin', '1997']\n",
            "before: ['Mexico', 'Pack', 'US']\n",
            "after: ['Mexico', 'Pack', 'US']\n",
            "before: ['France']\n",
            "after: ['France']\n",
            "before: ['Charlotte', 'Wilbur']\n",
            "after: ['Charlotte', 'Wilbur']\n",
            "before: ['Theseus in', 'Minotaur', 'Dionysus']\n",
            "after: ['Theseus in', 'Minotaur', 'Dionysus']\n",
            "before: ['Charles Nessler', '1872 – 1951', 'Nessler An', 'German', '1905']\n",
            "after: ['Charles Nessler', '1872 – 1951', 'Nessler An', 'German', '1905']\n",
            "before: ['1972']\n",
            "after: ['1972']\n",
            "before: ['James']\n",
            "after: ['James']\n",
            "before: ['Tecklenburg in', 'Steinfurt', '1816']\n",
            "after: ['Tecklenburg in', 'Steinfurt', '1816']\n",
            "before: ['Add']\n",
            "after: ['Add']\n",
            "before: ['La Scala']\n",
            "after: ['La Scala']\n",
            "before: ['the Allegheny River', 'Pittsburgh', '44 miles', '71 km']\n",
            "after: ['the Allegheny River', 'Pittsburgh', '44 miles', '71 km']\n",
            "before: ['Originally', 'the day']\n",
            "after: ['Originally', 'the day']\n",
            "before: ['a few years', 'Generally']\n",
            "after: ['a few years', 'Generally']\n",
            "before: ['the Edgar Award', 'Edgar Award in', 'Daniel Waters', '1990']\n",
            "after: ['the Edgar Award', 'Edgar Award in', 'Daniel Waters', '1990']\n",
            "before: ['Official Municipality Characteristic Number', 'Official Municipality Key', 'Municipality Code Number']\n",
            "after: ['Official Municipality Characteristic Number', 'Official Municipality Key', 'Municipality Code Number']\n",
            "before: ['Hanna', 'Haiti', '537']\n",
            "after: ['Hanna', 'Haiti', '537']\n",
            "before: ['lichens', 'fungi', 'algae']\n",
            "after: ['lichens', 'fungi', 'algae']\n",
            "before: ['the WWE Hall of Fame', 'Hogan in Rocky III', 'Thunderlips', 'Hulk Hogan', 'Stallone', '2005']\n",
            "after: ['the WWE Hall of Fame', 'Hogan in Rocky III', 'Thunderlips', 'Hulk Hogan', 'Stallone', '2005']\n",
            "before: ['']\n",
            "after: ['']\n",
            "before: ['']\n",
            "after: ['']\n",
            "before: ['her three years', 'Bonham Carter', 'just five']\n",
            "after: ['her three years', 'Bonham Carter', 'just five']\n",
            "before: ['Calomyscus']\n",
            "after: ['Calomyscus']\n",
            "before: ['Neodymium', 'Nd', '60']\n",
            "after: ['Neodymium', '60']\n",
            "before: ['Vorticity']\n",
            "after: ['Vorticity']\n",
            "before: ['Movements of']\n",
            "after: ['Movements of']\n",
            "before: ['']\n",
            "after: ['']\n",
            "before: ['Kurt Angle in the', 'Stone Cold', 'Booker T', 'Stunner']\n",
            "after: ['Kurt Angle in the', 'Stone Cold', 'Booker T', 'Stunner']\n",
            "before: ['February 1942', 'Belarus', 'Jews']\n",
            "after: ['February 1942', 'Belarus', 'Jews']\n",
            "before: ['Woodland']\n",
            "after: ['Woodland']\n",
            "before: ['']\n",
            "after: ['']\n",
            "before: ['Spaniards']\n",
            "after: ['Spaniards']\n",
            "before: ['as much as 700 kg', '1,500']\n",
            "after: ['as much as 700 kg', '1,500']\n",
            "before: ['']\n",
            "after: ['']\n",
            "before: ['12 April 1955', 'Eraldo Pecci', 'Italian']\n",
            "after: ['12 April 1955', 'Eraldo Pecci', 'Italian']\n",
            "before: ['Lüdinghausen', 'Liudger']\n",
            "after: ['Lüdinghausen', 'Liudger']\n",
            "before: ['A Song of Ice and Fire', 'George R. R. Martin', 'Feast of Crows', 'American', 'fourth', 'seven']\n",
            "after: ['A Song of Ice and Fire', 'George R. R. Martin', 'Feast of Crows', 'American', 'fourth']\n",
            "before: ['Food']\n",
            "after: ['Food']\n",
            "before: ['August 1914', 'France']\n",
            "after: ['August 1914', 'France']\n",
            "before: ['Glynn County', 'Brunswick', 'American', 'Georgia']\n",
            "after: ['Glynn County', 'Brunswick', 'American', 'Georgia']\n",
            "before: ['']\n",
            "after: ['']\n",
            "before: ['References External', 'The Wycliffe Bible', 'Studylight', '1395']\n",
            "after: ['References External', 'The Wycliffe Bible', 'Studylight', '1395']\n",
            "before: ['F-type']\n",
            "after: ['F-type']\n",
            "before: ['']\n",
            "after: ['']\n",
            "before: ['German Chancellors', '1871']\n",
            "after: ['German Chancellors', '1871']\n",
            "before: ['Thalassa', 'It']\n",
            "after: ['Thalassa']\n",
            "before: ['Introduction Electrical']\n",
            "after: ['Introduction Electrical']\n",
            "before: ['James Broderick', 'Charles Durning', 'Chris Sarandon', 'John Cazale', 'Al Pacino']\n",
            "after: ['James Broderick', 'Charles Durning', 'Chris Sarandon', 'John Cazale', 'Al Pacino']\n",
            "before: ['Abraham Hand', 'bush']\n",
            "after: ['Abraham Hand', 'bush']\n",
            "before: ['Still Life', 'band']\n",
            "after: ['Still Life', 'band']\n",
            "before: ['Hartmann', '1873']\n",
            "after: ['Hartmann', '1873']\n",
            "before: ['Saarbrücken']\n",
            "after: ['Saarbrücken']\n",
            "before: ['botanical school, gardens']\n",
            "after: ['botanical school, gardens']\n",
            "before: ['school', 'Eagles']\n",
            "after: ['school', 'Eagles']\n",
            "before: ['Pompeii']\n",
            "after: ['Pompeii']\n",
            "before: ['Spurgeon']\n",
            "after: ['Spurgeon']\n",
            "before: ['Cerro de Punta', 'Puerto Rico', '4,390 feet', '1,338 m']\n",
            "after: ['Cerro de Punta', 'Puerto Rico', '4,390 feet', '1,338 m']\n",
            "before: ['How the Garden Does Grow', 'Fad Diet of Rock Dust', 'the New York Times', 'Henry Homeyer', 'June 24, 2004', 'It']\n",
            "after: ['How the Garden Does Grow', 'Fad Diet of Rock Dust', 'the New York Times', 'Henry Homeyer', 'June 24, 2004']\n",
            "before: ['the 16th week', 'Early', 'It']\n",
            "after: ['the 16th week', 'Early']\n",
            "before: ['Brian Jacques', 'Mattimeo', '1989', 'It']\n",
            "after: ['Brian Jacques', 'Mattimeo', '1989']\n",
            "before: ['Western Cape Province of South Africa', 'the Western Cape Province', 'Gouda in the Netherlands', 'The']\n",
            "after: ['Western Cape Province of South Africa', 'the Western Cape Province', 'Gouda in the Netherlands']\n",
            "before: ['Polk County', 'Florida', 'TPL']\n",
            "after: ['Polk County', 'Florida', 'TPL']\n",
            "before: ['two']\n",
            "after: []\n",
            "before: ['December 21, 1944', 'Mexico City']\n",
            "after: ['December 21, 1944', 'Mexico City']\n",
            "before: ['Brian Epstein', 'Liverpool', 'Beatles']\n",
            "after: ['Brian Epstein', 'Liverpool', 'Beatles']\n",
            "before: ['Warrington', 'England']\n",
            "after: ['Warrington', 'England']\n",
            "before: ['3,125 km', 'eight', '64']\n",
            "after: ['3,125 km', '64']\n",
            "before: ['Helene']\n",
            "after: ['Helene']\n",
            "before: ['']\n",
            "after: ['']\n",
            "before: ['']\n",
            "after: ['']\n",
            "before: ['Almaviva', 'Bartolo']\n",
            "after: ['Almaviva', 'Bartolo']\n",
            "before: ['Shah Jahan', 'a year']\n",
            "after: ['Shah Jahan', 'a year']\n",
            "before: ['Slackware']\n",
            "after: ['Slackware']\n",
            "before: ['the UCI Road World Cup', 'UCI Road World Cup in', 'Germany', '1996', '1998']\n",
            "after: ['the UCI Road World Cup', 'UCI Road World Cup in', 'Germany', '1996', '1998']\n",
            "before: ['X']\n",
            "after: []\n",
            "before: ['the Siret River', 'valley', 'east']\n",
            "after: ['the Siret River', 'valley', 'east']\n",
            "before: [\"Joseph Stalin's\", 'Great Terror', 'Poyntz', 'Tresca']\n",
            "after: [\"Joseph Stalin's\", 'Great Terror', 'Poyntz', 'Tresca']\n",
            "before: ['the Principia Discordia', 'Malaclypse', '1958', '1959']\n",
            "after: ['the Principia Discordia', 'Malaclypse', '1958', '1959']\n",
            "before: ['Wi-Fi Protected Access', 'Wi-Fi Alliance', '2003', 'WEP', 'WPA', '802', '11']\n",
            "after: ['Wi-Fi Protected Access', 'Wi-Fi Alliance', '2003', 'WEP', 'WPA', '802', '11']\n",
            "before: ['Mephistopheles', 'Faust']\n",
            "after: ['Mephistopheles', 'Faust']\n",
            "before: ['Post']\n",
            "after: ['Post']\n",
            "before: ['Camden Town', 'N-Dubz', 'London', 'MOBO']\n",
            "after: ['Camden Town', 'N-Dubz', 'London', 'MOBO']\n",
            "before: ['1935-36 season', 'Thompson', 'first']\n",
            "after: ['1935-36 season', 'Thompson']\n",
            "before: ['Tazzmission', 'Al Snow', '5:20']\n",
            "after: ['Tazzmission', 'Al Snow', '5:20']\n",
            "before: ['Tollensesee', '18 km2']\n",
            "after: ['Tollensesee', '18 km2']\n",
            "before: ['West Bromwich Albion', 'FA Youth Cup Final', 'Ferencvárosi TC', 'Bayern Munich', 'the 2002', 'T-Mobile', 'One2One']\n",
            "after: ['West Bromwich Albion', 'FA Youth Cup Final', 'Ferencvárosi TC', 'Bayern Munich', 'the 2002', 'T-Mobile', 'One2One']\n",
            "before: ['Grands Causses Regional Nature Park', 'the Causse Rouge', 'the Grands', 'Larzac', 'Tarn', 'two']\n",
            "after: ['Grands Causses Regional Nature Park', 'the Causse Rouge', 'the Grands', 'Larzac', 'Tarn']\n",
            "before: ['Thrym in IAU Circular', '8177']\n",
            "after: ['Thrym in IAU Circular', '8177']\n",
            "before: ['Christianity']\n",
            "after: ['Christianity']\n",
            "before: ['Papua New Guinea', '3000 meters', '2000', 'It']\n",
            "after: ['Papua New Guinea', '3000 meters', '2000']\n",
            "before: ['Iridophores', 'It']\n",
            "after: ['Iridophores']\n",
            "before: ['Indonesian West Timor', 'the eastern half', 'Oecussi-Ambeno', 'Atauro', 'Jaco', 'It']\n",
            "after: ['Indonesian West Timor', 'the eastern half', 'Oecussi-Ambeno', 'Atauro', 'Jaco']\n",
            "before: ['Type the Simplification', \"Minnie Riperton's\", 'Lovin \\'You\"', 'Loving You', 'It']\n",
            "after: ['Type the Simplification', \"Minnie Riperton's\", 'Lovin \\'You\"', 'Loving You']\n",
            "before: ['the Republic of Mali', '20 October 1973', 'CMLN of', 'Order', '56']\n",
            "after: ['the Republic of Mali', '20 October 1973', 'CMLN of', 'Order', '56']\n",
            "before: ['Stefan Nemanja', 'Serbian']\n",
            "after: ['Stefan Nemanja', 'Serbian']\n",
            "before: ['Botswana', 'one']\n",
            "after: ['Botswana']\n",
            "before: ['']\n",
            "after: ['']\n",
            "before: ['5.83 per cent', '191,976 km', '74,122', 'India']\n",
            "after: ['5.83 per cent', '191,976 km', '74,122', 'India']\n",
            "before: ['Salvum fac', 'Psalms']\n",
            "after: ['Salvum fac', 'Psalms']\n",
            "before: ['27 September 1601', 'King of France', '1610 to 1643', 'Louis XIII', 'May 1643', 'Navarre', '14']\n",
            "after: ['27 September 1601', 'King of France', '1610 to 1643', 'Louis XIII', 'May 1643', 'Navarre', '14']\n",
            "before: ['Middlesbrough', 'Economy The', 'Marske', 'Redcar']\n",
            "after: ['Middlesbrough', 'Economy The', 'Marske', 'Redcar']\n",
            "before: ['No Matter What I Do', 'When I Need You', \"Leo Sayer's\", 'British', '23', 'It', 'He', '5']\n",
            "after: ['No Matter What I Do', 'When I Need You', \"Leo Sayer's\", 'British', '23', '5']\n",
            "before: ['Negotiations Affairs Department', 'Palestinian', 'Abbas', 'Cnn', 'PLO']\n",
            "after: ['Negotiations Affairs Department', 'Palestinian', 'Abbas', 'Cnn', 'PLO']\n",
            "before: [\"Van Diemen's\", '1824', 'Land']\n",
            "after: [\"Van Diemen's\", '1824', 'Land']\n",
            "before: ['He']\n",
            "after: []\n",
            "before: ['Bologna Mozart Orchestra', 'Italy']\n",
            "after: ['Bologna Mozart Orchestra', 'Italy']\n",
            "before: ['Sephora, Optical, Portrait Studios', 'Repair Jewelry & Watch', 'J. C. Penney']\n",
            "after: ['Sephora, Optical, Portrait Studios', 'Repair Jewelry & Watch', 'J. C. Penney']\n",
            "before: ['the Chaldean Syrian Church', 'India']\n",
            "after: ['the Chaldean Syrian Church', 'India']\n",
            "before: ['John Couch Adams in', 'eighth', 'Uranus', '1843']\n",
            "after: ['John Couch Adams in', 'eighth', 'Uranus', '1843']\n",
            "before: ['America in', 'Boston', 'Nevin', '1887', 'He']\n",
            "after: ['America in', 'Boston', 'Nevin', '1887']\n",
            "before: [\"Pepper's Lonely Hearts Club Band\", 'Simon Rodia', 'Beatles', '1967', 'Sgt', 'The']\n",
            "after: [\"Pepper's Lonely Hearts Club Band\", 'Simon Rodia', 'Beatles', '1967', 'Sgt']\n",
            "before: ['Call (Winona Ryder', 'Ripley', 'The']\n",
            "after: ['Call (Winona Ryder', 'Ripley']\n",
            "before: ['Nicaragua/Honduras', 'the next morning', '80 km', '50', 'It', 'At']\n",
            "after: ['Nicaragua/Honduras', 'the next morning', '80 km', '50']\n",
            "before: ['Garonne', 'France', 'Lot']\n",
            "after: ['Garonne', 'France', 'Lot']\n",
            "before: ['Education From', '1954 to 1957', 'Mfantsipim', 'Cape Coast', 'Methodist', 'the 1870s', 'Annan']\n",
            "after: ['Education From', '1954 to 1957', 'Mfantsipim', 'Cape Coast', 'Methodist', 'the 1870s', 'Annan']\n",
            "before: ['only about 3', 'Obsidian']\n",
            "after: ['only about 3', 'Obsidian']\n",
            "before: ['the Sindh Amirs', 'Imamgarh', 'Napier', 'first']\n",
            "after: ['the Sindh Amirs', 'Imamgarh', 'Napier']\n",
            "before: ['']\n",
            "after: ['']\n",
            "before: ['Southern California', 'Orange County', 'the mid-1990s', 'Valencia', 'Florida']\n",
            "after: ['Southern California', 'Orange County', 'the mid-1990s', 'Valencia', 'Florida']\n",
            "before: ['Battle of Normandy', 'Bayeux', 'German', 'Allies', 'Caen']\n",
            "after: ['Battle of Normandy', 'Bayeux', 'German', 'Allies', 'Caen']\n",
            "before: ['New South Wales', 'Great Britain', 'about 1,487', 'May 1787', 'European', 'first', 'Ship', '11', '13']\n",
            "after: ['New South Wales', 'Great Britain', 'about 1,487', 'May 1787', 'European', 'Ship', '11', '13']\n",
            "before: ['Trigonometric']\n",
            "after: ['Trigonometric']\n",
            "before: ['']\n",
            "after: ['']\n",
            "before: ['']\n",
            "after: ['']\n",
            "before: ['100,000 - 200,000', 'Constantinople', 'Baghdad', 'Cairo', 'Ani']\n",
            "after: ['100,000 - 200,000', 'Constantinople', 'Baghdad', 'Cairo', 'Ani']\n",
            "before: ['World War II', 'Demand', 'Mines', 'This']\n",
            "after: ['World War II', 'Demand', 'Mines']\n",
            "before: ['Scandinavia', 'Donald', 'Disney']\n",
            "after: ['Scandinavia', 'Donald', 'Disney']\n",
            "before: ['Human']\n",
            "after: ['Human']\n",
            "before: ['Seyss-Inquart', 'Czech Slavic', 'Vienna in', 'Zajtich', 'German', '1907', 'Once']\n",
            "after: ['Seyss-Inquart', 'Czech Slavic', 'Vienna in', 'Zajtich', 'German', '1907']\n",
            "before: ['Release Contributions', 'Instruments', 'Paul Gray', 'Slipknot', 'Active', '1995', '2']\n",
            "after: ['Release Contributions', 'Instruments', 'Paul Gray', 'Slipknot', 'Active', '1995', '2']\n",
            "before: ['Hollywood']\n",
            "after: ['Hollywood']\n",
            "before: ['Walt Disney Home Entertainment', 'February 10, 2004', 'Hakuna Matata in', 'The Lion King', 'American', '1 1⁄2', '3']\n",
            "after: ['Walt Disney Home Entertainment', 'February 10, 2004', 'Hakuna Matata in', 'The Lion King', 'American', '1 1⁄2', '3']\n",
            "before: ['the Medieval Warm Period', 'the Little Ice Age', '1300', '1250', '1850', '800']\n",
            "after: ['the Medieval Warm Period', 'the Little Ice Age', '1300', '1250', '1850', '800']\n",
            "before: ['Union Councils of Abbottabad District in the North', 'the 51 Union Councils of Abbottabad District', 'West Frontier', 'Bagnotar', 'Pakistan', 'one']\n",
            "after: ['Union Councils of Abbottabad District in the North', 'the 51 Union Councils of Abbottabad District', 'West Frontier', 'Bagnotar', 'Pakistan']\n",
            "before: ['Alberto Ascari', 'more than one', 'first', '1952', '1953']\n",
            "after: ['Alberto Ascari', 'more than one', '1952', '1953']\n",
            "before: ['Adam Smith']\n",
            "after: ['Adam Smith']\n",
            "before: ['British Bulldog', 'English Bulldog', 'England']\n",
            "after: ['British Bulldog', 'English Bulldog', 'England']\n",
            "before: ['Dar es Salaam', 'Tanzania']\n",
            "after: ['Dar es Salaam', 'Tanzania']\n",
            "before: ['the Naracoorte Caves National Park', 'nine']\n",
            "after: ['the Naracoorte Caves National Park']\n",
            "before: ['Mustafa Kemal Atatürk', 'Muhammad Ali Jinnah', 'Pakistani', 'Turkish', 'Turkey']\n",
            "after: ['Mustafa Kemal Atatürk', 'Muhammad Ali Jinnah', 'Pakistani', 'Turkish', 'Turkey']\n",
            "before: ['the Central United States', 'Great Lakes', 'August 31', 'Half']\n",
            "after: ['the Central United States', 'Great Lakes', 'August 31', 'Half']\n",
            "before: ['Greece']\n",
            "after: ['Greece']\n",
            "before: ['Sunderland']\n",
            "after: ['Sunderland']\n",
            "before: ['the antiaircraft artillery school', 'the Eastern Front', 'the end of 1942', 'Altenstadt', 'Schongau']\n",
            "after: ['the antiaircraft artillery school', 'the Eastern Front', 'the end of 1942', 'Altenstadt', 'Schongau']\n",
            "before: ['']\n",
            "after: ['']\n",
            "before: ['digit marks', 'third', 'zero']\n",
            "after: ['digit marks']\n",
            "before: ['Vedic Soma In the Vedas']\n",
            "after: ['Vedic Soma In the Vedas']\n",
            "before: ['Mahatma Gandhi', 'Nathuram Godse', 'Indian']\n",
            "after: ['Mahatma Gandhi', 'Nathuram Godse', 'Indian']\n",
            "before: ['Playmate of the Year', 'Playboy', 'first', '1993']\n",
            "after: ['Playmate of the Year', 'Playboy', '1993']\n",
            "before: ['Archers of Loaf', 'North Carolina', 'Chapel Hill', 'American']\n",
            "after: ['Archers of Loaf', 'North Carolina', 'Chapel Hill', 'American']\n",
            "before: ['']\n",
            "after: ['']\n",
            "before: ['first Benrath', '1002']\n",
            "after: ['first Benrath', '1002']\n",
            "before: ['Style In Bruegel', 'later years', 'Italian']\n",
            "after: ['Style In Bruegel', 'later years', 'Italian']\n",
            "before: ['months']\n",
            "after: ['months']\n",
            "before: ['World Wrestling Entertainment (WWE', 'Extreme Championship Wrestling', '2003', 'DVDs', 'ECW']\n",
            "after: ['World Wrestling Entertainment (WWE', 'Extreme Championship Wrestling', '2003', 'DVDs', 'ECW']\n",
            "before: ['the West End', 'London', 'Fraser', 'first']\n",
            "after: ['the West End', 'London', 'Fraser']\n",
            "before: ['University of Hawaii', 'Scott S. Sheppard']\n",
            "after: ['University of Hawaii', 'Scott S. Sheppard']\n",
            "before: ['']\n",
            "after: ['']\n",
            "before: ['']\n",
            "after: ['']\n",
            "before: ['Hurricane Katrina', 'Preparations', 'Mississippi', 'Louisiana', 'Alabama']\n",
            "after: ['Hurricane Katrina', 'Preparations', 'Mississippi', 'Louisiana', 'Alabama']\n",
            "before: ['over 2 million', 'Editors', 'two']\n",
            "after: ['over 2 million', 'Editors']\n",
            "before: ['only four']\n",
            "after: ['only four']\n",
            "before: ['Flying Eagle Awards', 'Improvement Awards', 'Academic Awards', 'Scholarships']\n",
            "after: ['Flying Eagle Awards', 'Improvement Awards', 'Academic Awards', 'Scholarships']\n",
            "before: ['Australian']\n",
            "after: ['Australian']\n",
            "before: ['RISC']\n",
            "after: ['RISC']\n",
            "before: ['Alkaloids']\n",
            "after: ['Alkaloids']\n",
            "before: ['Henderson County', 'Buncombe County', 'Yancey County', 'Burke County', '1833', '1838']\n",
            "after: ['Henderson County', 'Buncombe County', 'Yancey County', 'Burke County', '1833', '1838']\n",
            "before: ['the Golden Raspberry Award Foundation', 'the Academy Awards', 'Current', 'GRAF']\n",
            "after: ['the Golden Raspberry Award Foundation', 'the Academy Awards', 'Current', 'GRAF']\n",
            "before: ['the Game Show Network', 'Game Show Network in', 'Whammy', '2002']\n",
            "after: ['the Game Show Network', 'Game Show Network in', 'Whammy', '2002']\n",
            "before: ['25.000', 'Gwadar', '80 km', 'east']\n",
            "after: ['25.000', 'Gwadar', '80 km', 'east']\n",
            "before: ['the regular season', 'the West Division', 'the East Division', 'Modern Era in the', 'the Wales Trophy', 'the Modern Era', '68 season', 'first', '1967']\n",
            "after: ['the regular season', 'the West Division', 'the East Division', 'Modern Era in the', 'the Wales Trophy', 'the Modern Era', '68 season', '1967']\n",
            "before: ['the nineteenth century']\n",
            "after: ['the nineteenth century']\n",
            "before: ['']\n",
            "after: ['']\n",
            "before: ['the National League Championship Series', 'the World Series']\n",
            "after: ['the National League Championship Series', 'the World Series']\n",
            "before: ['']\n",
            "after: ['']\n",
            "before: ['Nahuatl']\n",
            "after: ['Nahuatl']\n",
            "before: ['']\n",
            "after: ['']\n",
            "before: ['']\n",
            "after: ['']\n",
            "before: ['Alexx Woods', 'Miami', 'CSI']\n",
            "after: ['Alexx Woods', 'Miami', 'CSI']\n",
            "before: ['Santa Isabel', 'Spanish', 'Malabo']\n",
            "after: ['Santa Isabel', 'Spanish', 'Malabo']\n",
            "before: ['fox']\n",
            "after: ['fox']\n",
            "before: ['Executive VP of Creative Development', 'Creative Development & Operations', 'Stephanie Marie McMahon-Levesque', 'Stephanie McMahon', '9/24/1976', 'WWE']\n",
            "after: ['Executive VP of Creative Development', 'Creative Development & Operations', 'Stephanie Marie McMahon-Levesque', 'Stephanie McMahon', '9/24/1976', 'WWE']\n",
            "before: [\"Nazi Germany's\", 'Apartheid-era', 'South Africa', 'Third Reich', 'Europe']\n",
            "after: [\"Nazi Germany's\", 'Apartheid-era', 'South Africa', 'Third Reich', 'Europe']\n",
            "before: ['the Democratic Republic of Armenia', 'Alexander Tamanian in', 'Hakob Kojoyan', 'Armenian']\n",
            "after: ['the Democratic Republic of Armenia', 'Alexander Tamanian in', 'Hakob Kojoyan', 'Armenian']\n",
            "before: ['Voyager 2', 'Puck']\n",
            "after: ['Voyager 2', 'Puck']\n",
            "before: ['Dennis Lee Hopper', 'May 17, 1936', 'American']\n",
            "after: ['Dennis Lee Hopper', 'May 17, 1936', 'American']\n",
            "before: ['the Dublin Brigade', 'the 3rd Battalion', 'Plans']\n",
            "after: ['the Dublin Brigade', 'the 3rd Battalion', 'Plans']\n",
            "before: ['Natural ytterbium', '7']\n",
            "after: ['Natural ytterbium', '7']\n",
            "before: ['the Netherlands Radio Philharmonic', 'Netherlands Radio Philharmonic in', '1957']\n",
            "after: ['the Netherlands Radio Philharmonic', 'Netherlands Radio Philharmonic in', '1957']\n",
            "before: ['12']\n",
            "after: ['12']\n",
            "before: ['Van Buren County', 'Birmingham', 'Iowa', 'USA']\n",
            "after: ['Van Buren County', 'Birmingham', 'Iowa', 'USA']\n",
            "before: ['North American', 'Garbani', 'Coat of', 'French', 'Swiss', 'The']\n",
            "after: ['North American', 'Garbani', 'Coat of', 'French', 'Swiss']\n",
            "before: ['Pirates of the Caribbean', 'Haunted Mansion', 'Disneyland', 'Davis']\n",
            "after: ['Pirates of the Caribbean', 'Haunted Mansion', 'Disneyland', 'Davis']\n",
            "before: ['Examples of God', 'Old Testament']\n",
            "after: ['Examples of God', 'Old Testament']\n",
            "before: ['cilia']\n",
            "after: ['cilia']\n",
            "before: ['Walthamstow Central', 'British Railways', 'Wood Street']\n",
            "after: ['Walthamstow Central', 'British Railways', 'Wood Street']\n",
            "before: ['']\n",
            "after: ['']\n",
            "before: ['']\n",
            "after: ['']\n",
            "before: ['Bergman']\n",
            "after: ['Bergman']\n",
            "before: ['November 2008', 'Naone', 'Erica']\n",
            "after: ['November 2008', 'Naone', 'Erica']\n",
            "before: ['Best', 'Use']\n",
            "after: []\n",
            "before: ['Sportive du Foyer de la', 'Union Sportive', 'Abidjan-Niger', 'R']\n",
            "after: ['Sportive du Foyer de la', 'Union Sportive', 'Abidjan-Niger']\n",
            "before: ['the Roman Empire']\n",
            "after: ['the Roman Empire']\n",
            "before: ['the Second World War', 'Greens', 'German', 'first']\n",
            "after: ['the Second World War', 'Greens', 'German']\n",
            "before: ['RC4']\n",
            "after: ['RC4']\n",
            "before: ['Marshall Applewhite', 'Bonnie Nettles', 'American UFO', 'California', 'San Diego', '1931-1997', '1927-1985', 'Heaven', 'Gate']\n",
            "after: ['Marshall Applewhite', 'Bonnie Nettles', 'American UFO', 'California', 'San Diego', '1931-1997', '1927-1985', 'Heaven', 'Gate']\n",
            "before: ['WWE']\n",
            "after: ['WWE']\n",
            "before: [\"Wossen Seged's\", 'Sahle Selassie', 'Meridazmach', 'Qundi', 'Shewa']\n",
            "after: [\"Wossen Seged's\", 'Sahle Selassie', 'Meridazmach', 'Qundi', 'Shewa']\n",
            "before: ['']\n",
            "after: ['']\n",
            "before: ['1.5 million', 'Canada', '2031', 'It']\n",
            "after: ['1.5 million', 'Canada', '2031']\n",
            "before: ['Jamie Spears', 'singer/', 'Britney']\n",
            "after: ['Jamie Spears', 'singer/', 'Britney']\n",
            "before: ['However', 'Rick', 'He']\n",
            "after: ['Rick']\n",
            "before: ['North of City Centre Shopping Centre', 'Presidential Way', 'Taxis', 'They']\n",
            "after: ['North of City Centre Shopping Centre', 'Presidential Way', 'Taxis']\n",
            "before: ['']\n",
            "after: ['']\n",
            "before: ['the Kansas City Chiefs', 'the Western Division', 'the AFL Championship', 'the New York Jets', 'next two years', 'Super Bowl', 'Raiders', '1968', '1969']\n",
            "after: ['the Kansas City Chiefs', 'the Western Division', 'the AFL Championship', 'the New York Jets', 'next two years', 'Super Bowl', 'Raiders', '1968', '1969']\n",
            "before: ['Gaius Cassius Longinus', 'Marcus Junius Brutus']\n",
            "after: ['Gaius Cassius Longinus', 'Marcus Junius Brutus']\n",
            "before: ['']\n",
            "after: ['']\n",
            "before: ['Art']\n",
            "after: ['Art']\n",
            "before: ['']\n",
            "after: ['']\n",
            "before: ['June 12 1994', 'Ueckermünde', 'Strasburg', 'Pasewalk']\n",
            "after: ['June 12 1994', 'Ueckermünde', 'Strasburg', 'Pasewalk']\n",
            "before: ['Temple of the Capitoline Triad', 'Temple of Jupiter', 'Roman Pompeii', 'Capitolium']\n",
            "after: ['Temple of the Capitoline Triad', 'Temple of Jupiter', 'Roman Pompeii', 'Capitolium']\n",
            "before: ['1,000,000', '1457', '1721', 'Thus', 'Edo']\n",
            "after: ['1,000,000', '1457', '1721', 'Edo']\n",
            "before: ['World War II', 'Germany']\n",
            "after: ['World War II', 'Germany']\n",
            "before: ['']\n",
            "after: ['']\n",
            "before: ['Monica Samille Lewinsky', 'President Bill Clinton', 'the White House', 'White House in', '1995', '1996', 'U.S.']\n",
            "after: ['Monica Samille Lewinsky', 'President Bill Clinton', 'the White House', 'White House in', '1995', '1996', 'U.S.']\n",
            "before: ['']\n",
            "after: ['']\n",
            "before: ['']\n",
            "after: ['']\n",
            "before: ['5.9 inches', 'Whitbourne', '150 mm']\n",
            "after: ['5.9 inches', 'Whitbourne', '150 mm']\n",
            "before: ['']\n",
            "after: ['']\n",
            "before: ['Anglo-Saxon', 'Britain']\n",
            "after: ['Anglo-Saxon', 'Britain']\n",
            "before: ['Red Deer', 'Although', 'Cervus', 'Equus']\n",
            "after: ['Red Deer', 'Cervus', 'Equus']\n",
            "before: ['every twenty-two years', '1991', '2013']\n",
            "after: ['every twenty-two years', '1991', '2013']\n",
            "before: ['later in 2002', 'Lilo & Stitch', 'Lilo Pelekai', 'Hawaiian', 'Disney', 'Chase']\n",
            "after: ['later in 2002', 'Lilo & Stitch', 'Lilo Pelekai', 'Hawaiian', 'Disney', 'Chase']\n",
            "before: ['']\n",
            "after: ['']\n",
            "before: ['Tim Rice-Oxley', 'Richard Hughes', 'Tom Chaplin']\n",
            "after: ['Tim Rice-Oxley', 'Richard Hughes', 'Tom Chaplin']\n",
            "before: ['the Royal Rumble', 'WrestleMania', 'two months']\n",
            "after: ['the Royal Rumble', 'WrestleMania', 'two months']\n",
            "before: ['14 July', 'Swiss', 'Paris', 'King', 'one', '32']\n",
            "after: ['14 July', 'Swiss', 'Paris', 'King', '32']\n",
            "before: ['']\n",
            "after: ['']\n",
            "before: ['Middle Egypt', 'Upper Egypt', 'El-Ayait', 'Sohag', 'It']\n",
            "after: ['Middle Egypt', 'Upper Egypt', 'El-Ayait', 'Sohag']\n",
            "before: ['the World Bank', '1961 to 1967', 'Funding']\n",
            "after: ['the World Bank', '1961 to 1967', 'Funding']\n",
            "before: ['']\n",
            "after: ['']\n",
            "before: ['two or more']\n",
            "after: ['two or more']\n",
            "before: ['Greater Hagerstown', 'the United Sates', 'Maryland']\n",
            "after: ['Greater Hagerstown', 'the United Sates', 'Maryland']\n",
            "before: ['the Connecticut River', 'Dutch Point', 'Hartford', 'House', '1614', 'Hope']\n",
            "after: ['the Connecticut River', 'Dutch Point', 'Hartford', 'House', '1614', 'Hope']\n",
            "before: ['']\n",
            "after: ['']\n",
            "before: ['Socratic Method', 'Classical Greek', 'Socrates']\n",
            "after: ['Socratic Method', 'Classical Greek', 'Socrates']\n",
            "before: ['Ann Arbor', '40 acres']\n",
            "after: ['Ann Arbor', '40 acres']\n",
            "before: ['Plectranthus', 'Philippines']\n",
            "after: ['Plectranthus', 'Philippines']\n",
            "before: ['a Tropical Storm', 'Laura']\n",
            "after: ['a Tropical Storm', 'Laura']\n",
            "before: ['']\n",
            "after: ['']\n",
            "before: ['Arnold Anderson Stadium', 'Cockshutt Park', 'Long Ball', 'Due South', 'Dr']\n",
            "after: ['Arnold Anderson Stadium', 'Cockshutt Park', 'Long Ball', 'Due South', 'Dr']\n",
            "before: ['50,000', 'first']\n",
            "after: ['50,000']\n",
            "before: ['only two years', 'Article 48', 'Hindenburg', 'Reichstag', 'Brüning']\n",
            "after: ['only two years', 'Article 48', 'Hindenburg', 'Reichstag', 'Brüning']\n",
            "before: ['Dallas Bull in Tampa', 'the Dallas Bull', 'June 26, 2007', 'Florida', 'FCW']\n",
            "after: ['Dallas Bull in Tampa', 'the Dallas Bull', 'June 26, 2007', 'Florida', 'FCW']\n",
            "before: ['California in', 'Ventura', 'Oxnard']\n",
            "after: ['California in', 'Ventura', 'Oxnard']\n",
            "before: ['the Canadian National Railway (CN', 'Illinois Central Railroad', 'Sunday, August 28', 'Mississippi', 'New Orleans', 'McComb']\n",
            "after: ['the Canadian National Railway (CN', 'Illinois Central Railroad', 'Sunday, August 28', 'Mississippi', 'New Orleans', 'McComb']\n",
            "before: ['about 30,000', 'about 3,500', '1863']\n",
            "after: ['about 30,000', 'about 3,500', '1863']\n",
            "before: ['the U. S. South Dakota State', 'Union in the U', 'Beresford', 'Lincoln']\n",
            "after: ['the U. S. South Dakota State', 'Union in the U', 'Beresford', 'Lincoln']\n",
            "before: ['ATP Tour World Championships in Frankfurt in', 'the ATP Tour World Championships', 'Jim Courier', 'Becker', '1992']\n",
            "after: ['ATP Tour World Championships in Frankfurt in', 'the ATP Tour World Championships', 'Jim Courier', 'Becker', '1992']\n",
            "before: ['Rising']\n",
            "after: ['Rising']\n",
            "before: ['Pittsburgh', 'WIIC']\n",
            "after: ['Pittsburgh', 'WIIC']\n",
            "before: ['']\n",
            "after: ['']\n",
            "before: ['Master', 'first', 'Slave']\n",
            "after: ['Master', 'Slave']\n",
            "before: ['Nicholas II', 'Stephen IX', 'Henry III', 'Agnes']\n",
            "after: ['Nicholas II', 'Stephen IX', 'Henry III', 'Agnes']\n",
            "before: ['Blowfish', 'However', 'Two']\n",
            "after: ['Blowfish']\n",
            "before: ['Leizu', 'China']\n",
            "after: ['Leizu', 'China']\n",
            "before: ['the Royal Opera House', 'Metropolitan Opera', 'the following year', 'Aida in', '1961']\n",
            "after: ['the Royal Opera House', 'Metropolitan Opera', 'the following year', 'Aida in', '1961']\n",
            "before: ['Sonata for Solo Violin', 'Yehudi Menuhin in', '1944']\n",
            "after: ['Sonata for Solo Violin', 'Yehudi Menuhin in', '1944']\n",
            "before: ['Historically']\n",
            "after: ['Historically']\n",
            "before: ['Jesus of Nazareth', 'AD 30']\n",
            "after: ['Jesus of Nazareth', 'AD 30']\n",
            "before: ['the 1 November in a given year', 'the 31 October in the year', 'President of the Bundesrat']\n",
            "after: ['the 1 November in a given year', 'the 31 October in the year', 'President of the Bundesrat']\n",
            "before: ['Recovery Russia', 'August 1998']\n",
            "after: ['Recovery Russia', 'August 1998']\n",
            "before: ['Neil']\n",
            "after: ['Neil']\n",
            "before: ['Species']\n",
            "after: ['Species']\n",
            "before: ['Derbyshire in England', 'Amber Valley', 'Ripley']\n",
            "after: ['Derbyshire in England', 'Amber Valley', 'Ripley']\n",
            "before: ['Charles Reade', 'Victorian']\n",
            "after: ['Charles Reade', 'Victorian']\n",
            "before: ['Koxinga', 'Qing', 'PRC', 'ROC']\n",
            "after: ['Koxinga', 'Qing', 'PRC', 'ROC']\n",
            "before: ['Geography Unna', 'Hellweg']\n",
            "after: ['Geography Unna', 'Hellweg']\n",
            "before: ['the Knights of Honor Black Sea Studios', 'ParaWorld SEK', 'Sunflowers', '1602', '1503', 'Anno', '1701']\n",
            "after: ['the Knights of Honor Black Sea Studios', 'ParaWorld SEK', 'Sunflowers', '1602', '1503', 'Anno', '1701']\n",
            "before: ['']\n",
            "after: ['']\n",
            "before: ['Pacific hurricane season', '2006']\n",
            "after: ['Pacific hurricane season', '2006']\n",
            "before: ['the late 1990s', '1979 to 1999', 'Jubilee', 'first', 'four', 'The']\n",
            "after: ['the late 1990s', '1979 to 1999', 'Jubilee']\n",
            "before: ['Scarborough in North Yorkshire', 'Scarborough Railway Station', 'England']\n",
            "after: ['Scarborough in North Yorkshire', 'Scarborough Railway Station', 'England']\n",
            "before: ['a decade', 'A&M']\n",
            "after: ['a decade', 'A&M']\n",
            "before: ['Ennepe', 'Ruhr', 'two']\n",
            "after: ['Ennepe', 'Ruhr']\n",
            "before: ['50 - square-kilometre', 'Peter Preuss', 'Author', '1997']\n",
            "after: ['50 - square-kilometre', 'Peter Preuss', 'Author', '1997']\n",
            "before: ['German Wehrmacht', 'Unexpectedly']\n",
            "after: ['German Wehrmacht', 'Unexpectedly']\n",
            "before: ['Smbat of the House of Orbelian', 'the late 12th century', 'Armenia in the', 'Liparitids', 'monastery', 'Georgia']\n",
            "after: ['Smbat of the House of Orbelian', 'the late 12th century', 'Armenia in the', 'Liparitids', 'monastery', 'Georgia']\n",
            "before: ['August 17']\n",
            "after: ['August 17']\n",
            "before: ['Alexander County', 'Caldwell County', 'Iredell County', 'Wilkes County', '1847']\n",
            "after: ['Alexander County', 'Caldwell County', 'Iredell County', 'Wilkes County', '1847']\n",
            "before: ['the ministry of Jesus', 'Lake Galilee']\n",
            "after: ['the ministry of Jesus', 'Lake Galilee']\n",
            "before: ['2,000 to 3,000']\n",
            "after: ['2,000 to 3,000']\n",
            "before: ['International English Language Testing System']\n",
            "after: ['International English Language Testing System']\n",
            "before: ['']\n",
            "after: ['']\n",
            "before: ['Lord Wandsworth College']\n",
            "after: ['Lord Wandsworth College']\n",
            "before: ['second']\n",
            "after: []\n",
            "before: ['All Hope Is Gone', 'Slipknot', 'fourth']\n",
            "after: ['All Hope Is Gone', 'Slipknot', 'fourth']\n",
            "before: ['Andhra Pradesh', 'Tamil Nadu', 'Karnataka', 'Orissa']\n",
            "after: ['Andhra Pradesh', 'Tamil Nadu', 'Karnataka', 'Orissa']\n",
            "before: ['Eastern Mediterranean', 'Greek', 'Latin']\n",
            "after: ['Eastern Mediterranean', 'Greek', 'Latin']\n",
            "before: ['High Street', 'There']\n",
            "after: ['High Street']\n",
            "before: ['President Woodrow Wilson', 'first Armistice Day', 'November 12, 2019', 'U.S.', 'It']\n",
            "after: ['President Woodrow Wilson', 'first Armistice Day', 'November 12, 2019', 'U.S.']\n",
            "before: ['Orson Scott Card', 'Seventh Son', '1987']\n",
            "after: ['Orson Scott Card', 'Seventh Son', '1987']\n",
            "before: ['Hillary Diane Rodham Clinton', 'President Barack Obama', 'US Secretary of State', 'October 26, 1947']\n",
            "after: ['Hillary Diane Rodham Clinton', 'President Barack Obama', 'US Secretary of State', 'October 26, 1947']\n",
            "before: ['Cherubino']\n",
            "after: ['Cherubino']\n",
            "before: ['Upper Austria', 'Austrian', 'fourth', 'third']\n",
            "after: ['Upper Austria', 'Austrian', 'fourth']\n",
            "before: ['Ghosts of Albion: Legacy', 'William Swift', 'Tamara', 'first', 'BBC']\n",
            "after: ['Ghosts of Albion: Legacy', 'William Swift', 'Tamara', 'BBC']\n",
            "before: ['RAID']\n",
            "after: ['RAID']\n",
            "before: ['the Eastern Division of the National Conference']\n",
            "after: ['the Eastern Division of the National Conference']\n",
            "before: ['Greta River in Cumberland', 'England']\n",
            "after: ['Greta River in Cumberland', 'England']\n",
            "before: ['Han River', 'thousands', 'Communist']\n",
            "after: ['Han River', 'thousands', 'Communist']\n",
            "before: ['more than 2,000', 'more than 600']\n",
            "after: ['more than 2,000', 'more than 600']\n",
            "before: ['Mathias Rust', 'Agnes', 'Johan', 'Elin']\n",
            "after: ['Mathias Rust', 'Agnes', 'Johan', 'Elin']\n",
            "before: ['the Advanced Encryption Standard', 'Rijndael', 'Serpent', 'second', 'AES']\n",
            "after: ['the Advanced Encryption Standard', 'Rijndael', 'Serpent', 'AES']\n",
            "before: ['King Louis XIII of France', 'Roman Catholics', 'New France', '1627']\n",
            "after: ['King Louis XIII of France', 'Roman Catholics', 'New France', '1627']\n",
            "before: ['Assuming']\n",
            "after: ['Assuming']\n",
            "before: ['Sweden', 'album', 'Opeth', 'nine', 'US', '64']\n",
            "after: ['Sweden', 'album', 'Opeth', 'US', '64']\n",
            "before: ['Shinto the Kami', 'Takama-ga-hara']\n",
            "after: ['Shinto the Kami', 'Takama-ga-hara']\n",
            "before: ['PackageKit']\n",
            "after: ['PackageKit']\n",
            "before: ['two']\n",
            "after: []\n",
            "before: ['the next four hundred years', 'the Roman Empire', 'seven-year', 'Rhine', 'West']\n",
            "after: ['the next four hundred years', 'the Roman Empire', 'seven-year', 'Rhine', 'West']\n",
            "before: ['President of the Parliament', 'Chancellor']\n",
            "after: ['President of the Parliament', 'Chancellor']\n",
            "before: ['the Transforming Principle (DNA', 'McCarty', 'Hershey', 'McLeod', 'Avery', 'Chase']\n",
            "after: ['the Transforming Principle (DNA', 'McCarty', 'Hershey', 'McLeod', 'Avery', 'Chase']\n",
            "before: ['months']\n",
            "after: ['months']\n",
            "before: ['Albert Grossman', 'Robert Dylan']\n",
            "after: ['Albert Grossman', 'Robert Dylan']\n",
            "before: ['Members of the DeCavalcante', 'DiMeo']\n",
            "after: ['Members of the DeCavalcante', 'DiMeo']\n",
            "before: ['Sivry-Rance', 'Belgian', 'Hainaut', 'Walloon', 'It']\n",
            "after: ['Sivry-Rance', 'Belgian', 'Hainaut', 'Walloon']\n",
            "before: ['Siege of Drogheda', 'Oliver Cromwell', 'The Royalist', 'Drogheda in', '1649']\n",
            "after: ['Siege of Drogheda', 'Oliver Cromwell', 'The Royalist', 'Drogheda in', '1649']\n",
            "before: ['Cristobal', 'The']\n",
            "after: ['Cristobal']\n",
            "before: [\"Provence-Alpes-Côte d'Azur\", 'Villeneuve-Loubet', 'Alpes-Maritimes', 'France', 'This']\n",
            "after: [\"Provence-Alpes-Côte d'Azur\", 'Villeneuve-Loubet', 'Alpes-Maritimes', 'France']\n",
            "before: ['15', '20']\n",
            "after: ['15', '20']\n",
            "before: ['Komodo', 'This', 'Also']\n",
            "after: ['Komodo']\n",
            "before: ['Located in the Constitution Gardens', 'approximately 2,029 feet', '167 feet', '618 m', '51 m']\n",
            "after: ['Located in the Constitution Gardens', 'approximately 2,029 feet', '167 feet', '618 m', '51 m']\n",
            "before: ['Bavania in Gujarat', 'Tallaiya Baba', 'During']\n",
            "after: ['Bavania in Gujarat', 'Tallaiya Baba']\n",
            "before: ['the Irish Senate', '1969-1989', 'first']\n",
            "after: ['the Irish Senate', '1969-1989']\n",
            "before: ['Boxing']\n",
            "after: ['Boxing']\n",
            "before: ['the Main Belt', 'C', 'D']\n",
            "after: ['the Main Belt']\n",
            "before: ['Armenian Levon V Lusignan', 'King John I of Castile', 'several years', 'Cairo']\n",
            "after: ['Armenian Levon V Lusignan', 'King John I of Castile', 'several years', 'Cairo']\n",
            "before: ['the end of the 19th century', 'Britannica']\n",
            "after: ['the end of the 19th century', 'Britannica']\n",
            "before: ['Beatles', 'Musical', '33']\n",
            "after: ['Beatles', 'Musical', '33']\n",
            "before: [\"the Council of People's Commissars\", 'Chairman of the Council of People', 'the Russian Congress of Soviets', 'Lenin', '1917', '11', '08']\n",
            "after: [\"the Council of People's Commissars\", 'Chairman of the Council of People', 'the Russian Congress of Soviets', 'Lenin', '1917', '11', '08']\n",
            "before: ['Brantridge Park', 'West Sussex', 'Balcombe', 'England']\n",
            "after: ['Brantridge Park', 'West Sussex', 'Balcombe', 'England']\n",
            "before: ['Star Trek']\n",
            "after: ['Star Trek']\n",
            "before: ['Pacific', '36', 'N']\n",
            "after: ['Pacific', '36']\n",
            "before: ['first']\n",
            "after: []\n",
            "before: ['Forge']\n",
            "after: ['Forge']\n",
            "before: ['December 7, 1977', 'Stockport', 'Cheshire', 'England', 'Howard']\n",
            "after: ['December 7, 1977', 'Stockport', 'Cheshire', 'England', 'Howard']\n",
            "before: ['December 21, 1994', '25 km', '16']\n",
            "after: ['December 21, 1994', '25 km', '16']\n",
            "before: ['']\n",
            "after: ['']\n",
            "before: ['U. S. Engagement', 'Engagement in']\n",
            "after: ['U. S. Engagement', 'Engagement in']\n",
            "before: ['more than 200,000 miles']\n",
            "after: ['more than 200,000 miles']\n",
            "before: ['Stanford University in the', 'Albert Humphrey', 'Fortune', '1960s', '1970s', '500']\n",
            "after: ['Stanford University in the', 'Albert Humphrey', 'Fortune', '1960s', '1970s', '500']\n",
            "before: ['']\n",
            "after: ['']\n",
            "before: ['about 50', 'Entirely']\n",
            "after: ['about 50']\n",
            "before: ['the Nintendo 64', 'April 14, 2001', 'Japan']\n",
            "after: ['the Nintendo 64', 'April 14, 2001', 'Japan']\n",
            "before: ['the Democratic Party', 'the United States', 'Republican Party', 'one', 'two']\n",
            "after: ['the Democratic Party', 'the United States', 'Republican Party']\n",
            "before: ['the last 20 years or so']\n",
            "after: ['the last 20 years or so']\n",
            "before: ['the Armenian National Liberation Movement', 'the Armenian Legal Units', 'the Armenian Militia', 'the First World War', 'the Ottoman Empire', 'Armenian Legion']\n",
            "after: ['the Armenian National Liberation Movement', 'the Armenian Legal Units', 'the Armenian Militia', 'the First World War', 'the Ottoman Empire', 'Armenian Legion']\n",
            "before: ['']\n",
            "after: ['']\n",
            "before: ['1804', '1824']\n",
            "after: ['1804', '1824']\n",
            "before: ['between 105 and 1010 solar']\n",
            "after: ['between 105 and 1010 solar']\n",
            "before: ['the London Sunday Times', 'more than four years']\n",
            "after: ['the London Sunday Times', 'more than four years']\n",
            "before: ['Legacy of Kings', 'February 1998', 'In February']\n",
            "after: ['Legacy of Kings', 'February 1998', 'In February']\n",
            "before: ['']\n",
            "after: ['']\n",
            "before: ['Elizabeth Ann Smart', 'the age of 14', 'June 5,2002', 'American', 'Utah']\n",
            "after: ['Elizabeth Ann Smart', 'the age of 14', 'June 5,2002', 'American', 'Utah']\n",
            "before: ['as early as 1850', 'The Celsius', 'Centigrade', 'Was']\n",
            "after: ['as early as 1850', 'The Celsius', 'Centigrade']\n",
            "before: ['Earth']\n",
            "after: ['Earth']\n",
            "before: ['American', 'British', 'French', '1945']\n",
            "after: ['American', 'British', 'French', '1945']\n",
            "before: ['Armenian Kingdom', 'Orontids', 'Sophene', 'Urartu', '600', 'BC']\n",
            "after: ['Armenian Kingdom', 'Orontids', 'Sophene', 'Urartu', '600', 'BC']\n",
            "before: ['']\n",
            "after: ['']\n",
            "before: ['Word 7', 'Office', 'OLE 2', '95']\n",
            "after: ['Word 7', 'Office', 'OLE 2', '95']\n",
            "before: ['Littlest Pet Shop', 'Hasbro']\n",
            "after: ['Littlest Pet Shop', 'Hasbro']\n",
            "before: [\"Kievan Rus'\"]\n",
            "after: [\"Kievan Rus'\"]\n",
            "before: ['Maestro Minnie']\n",
            "after: ['Maestro Minnie']\n",
            "before: ['']\n",
            "after: ['']\n",
            "before: ['']\n",
            "after: ['']\n",
            "before: [\"The Bard's Tale and Might and Magic\"]\n",
            "after: [\"The Bard's Tale and Might and Magic\"]\n",
            "before: ['Android', 'Psionic', 'Earth', 'Alien', 'Human']\n",
            "after: ['Android', 'Psionic', 'Earth', 'Alien', 'Human']\n",
            "before: ['the early to mid 1970s', 'Eastman', 'Kotik']\n",
            "after: ['the early to mid 1970s', 'Eastman', 'Kotik']\n",
            "before: ['the Ottoman Empire', 'the Near East', 'Pacific Ocean', 'Central Asia', 'Indian Ocean', 'World War 1', 'Middle East', 'Far East', 'South']\n",
            "after: ['the Ottoman Empire', 'the Near East', 'Pacific Ocean', 'Central Asia', 'Indian Ocean', 'World War 1', 'Middle East', 'Far East', 'South']\n",
            "before: ['']\n",
            "after: ['']\n",
            "before: ['Outer Banks of North Carolina', 'the Outer Banks', 'Newfoundland', 'June 20', 'It']\n",
            "after: ['Outer Banks of North Carolina', 'the Outer Banks', 'Newfoundland', 'June 20']\n",
            "before: ['Web']\n",
            "after: ['Web']\n",
            "before: ['4']\n",
            "after: ['4']\n",
            "before: ['But in September', 'September 1994', 'Cypherpunks', 'first', 'RC']\n",
            "after: ['But in September', 'September 1994', 'Cypherpunks', 'RC']\n",
            "before: ['1,500,000', '& times', '45,000', '0.03', '1.5', '30']\n",
            "after: ['1,500,000', '& times', '45,000', '0.03', '1.5', '30']\n",
            "before: ['the home stadium of Association Sportive SONABEL', 'It']\n",
            "after: ['the home stadium of Association Sportive SONABEL']\n",
            "before: ['Metal Gear Solid', 'fourth', 'Kojima', 'It']\n",
            "after: ['Metal Gear Solid', 'fourth', 'Kojima']\n",
            "before: ['']\n",
            "after: ['']\n",
            "before: ['the Icemark Chronicles', 'Blade of Fire', 'Stuart Hill', 'second']\n",
            "after: ['the Icemark Chronicles', 'Blade of Fire', 'Stuart Hill']\n",
            "before: ['Corozal in Belize', 'Alta Verapaz', 'Spanish', 'Yucatán', '1697', '1629']\n",
            "after: ['Corozal in Belize', 'Alta Verapaz', 'Spanish', 'Yucatán', '1697', '1629']\n",
            "before: ['Grammarians', \"Beginners'\", 'almost 20', 'KLI']\n",
            "after: ['Grammarians', \"Beginners'\", 'almost 20', 'KLI']\n",
            "before: ['Southeast U', 'July 19', 'Coast']\n",
            "after: ['Southeast U', 'July 19', 'Coast']\n",
            "before: ['George Bernard Shaw', 'Irish']\n",
            "after: ['George Bernard Shaw', 'Irish']\n",
            "before: ['Canada', 'They']\n",
            "after: ['Canada']\n",
            "before: ['Flora']\n",
            "after: ['Flora']\n",
            "before: ['Pre-Columbian Mesoamerica', 'Cocoa']\n",
            "after: ['Pre-Columbian Mesoamerica', 'Cocoa']\n",
            "before: ['BBG']\n",
            "after: ['BBG']\n",
            "before: ['the Montreal Canadiens', 'Montreal Canadiens in', '1929-30']\n",
            "after: ['the Montreal Canadiens', 'Montreal Canadiens in', '1929-30']\n",
            "before: ['World War II', 'one day', 'Poland', 'German']\n",
            "after: ['World War II', 'one day', 'Poland', 'German']\n",
            "before: ['']\n",
            "after: ['']\n",
            "before: ['the Indian Removal Act', 'Counties of', 'Alabama']\n",
            "after: ['the Indian Removal Act', 'Counties of', 'Alabama']\n",
            "before: ['the Sheffield Shield', 'Established in', 'Australia', '1892/93', 'first']\n",
            "after: ['the Sheffield Shield', 'Established in', 'Australia', '1892/93']\n",
            "before: ['The Greens', 'Alliance', 'Germany', '90']\n",
            "after: ['The Greens', 'Alliance', 'Germany', '90']\n",
            "before: ['Matthew Macfadyen', 'Bonham Carter', 'Denis Lawson']\n",
            "after: ['Matthew Macfadyen', 'Bonham Carter', 'Denis Lawson']\n",
            "before: ['Mendelian', 'Genotype', 'The']\n",
            "after: ['Mendelian', 'Genotype']\n",
            "before: ['Congress', 'FIFA']\n",
            "after: ['Congress', 'FIFA']\n",
            "before: ['the Bayreuth Festival', '1898', '1901']\n",
            "after: ['the Bayreuth Festival', '1898', '1901']\n",
            "before: ['Yang Wood', 'Yang Fire', 'Yin Wood', 'Yin Fire']\n",
            "after: ['Yang Wood', 'Yang Fire', 'Yin Wood', 'Yin Fire']\n",
            "before: ['']\n",
            "after: ['']\n",
            "before: ['Baader in', '1974']\n",
            "after: ['Baader in', '1974']\n",
            "before: ['Spandau', '1232']\n",
            "after: ['Spandau', '1232']\n",
            "before: ['Moritz', 'Max']\n",
            "after: ['Moritz', 'Max']\n",
            "before: ['Universal Music Group', 'Polydor Records', 'today', 'UK']\n",
            "after: ['Universal Music Group', 'Polydor Records', 'today', 'UK']\n",
            "before: ['']\n",
            "after: ['']\n",
            "before: ['Vale of Glamorgan Council', 'the Barry Island Railway', 'Barry Island Railway in', 'After', '2007', '000', '65']\n",
            "after: ['Vale of Glamorgan Council', 'the Barry Island Railway', 'Barry Island Railway in', '2007', '000', '65']\n",
            "before: ['the Hubble Space Telescope', 'The Minor Planet Bulletin', 'Hubble Space Telescope in', 'David W. Dunham', 'December 1978', 'However', 'Volume', '1993', 'ADS', '13', '14', '6']\n",
            "after: ['the Hubble Space Telescope', 'The Minor Planet Bulletin', 'Hubble Space Telescope in', 'David W. Dunham', 'December 1978', 'Volume', '1993', 'ADS', '13', '14', '6']\n",
            "before: ['early 21st century', 'Mangotsfield', 'the 1990s', 'Downend', 'It']\n",
            "after: ['early 21st century', 'Mangotsfield', 'the 1990s', 'Downend']\n",
            "before: ['the Makaweli River', 'Waimea River']\n",
            "after: ['the Makaweli River', 'Waimea River']\n",
            "before: ['the 20th century', 'Nidwalden', 'Up']\n",
            "after: ['the 20th century', 'Nidwalden']\n",
            "before: ['Fierce Creatures', '1997']\n",
            "after: ['Fierce Creatures', '1997']\n",
            "before: ['Proteus']\n",
            "after: ['Proteus']\n",
            "before: ['ECW']\n",
            "after: ['ECW']\n",
            "before: ['Inca']\n",
            "after: ['Inca']\n",
            "before: ['Protestant', 'Catholic', 'Biblical', 'Council']\n",
            "after: ['Protestant', 'Catholic', 'Biblical', 'Council']\n",
            "before: ['Land of the Turks', 'Central Asia', 'Turkestan', 'Turkic', 'today']\n",
            "after: ['Land of the Turks', 'Central Asia', 'Turkestan', 'Turkic', 'today']\n",
            "before: ['Roman Walker Zelman', 'April 7, 2004', 'Messing']\n",
            "after: ['Roman Walker Zelman', 'April 7, 2004', 'Messing']\n",
            "before: ['1887']\n",
            "after: ['1887']\n",
            "before: ['the U. S. Alabama', 'Cheaha Mountain', 'Mount Cheaha']\n",
            "after: ['the U. S. Alabama', 'Cheaha Mountain', 'Mount Cheaha']\n",
            "before: ['Celtic']\n",
            "after: ['Celtic']\n",
            "before: ['Place de la Bastille', 'fort']\n",
            "after: ['Place de la Bastille', 'fort']\n",
            "before: ['Native American', 'Pueblos', 'US']\n",
            "after: ['Native American', 'Pueblos', 'US']\n",
            "before: ['five cents', 'Money']\n",
            "after: ['five cents', 'Money']\n",
            "before: ['']\n",
            "after: ['']\n",
            "before: ['more than 200', 'the age of 21']\n",
            "after: ['more than 200', 'the age of 21']\n",
            "before: ['Waterson', 'Senate', 'Labor']\n",
            "after: ['Waterson', 'Senate', 'Labor']\n",
            "before: ['Fort Walton Beach', 'September 22', 'about 0000', 'Florida', '35 mph', '55 km', 'UTC']\n",
            "after: ['Fort Walton Beach', 'September 22', 'about 0000', 'Florida', '35 mph', '55 km', 'UTC']\n",
            "before: ['Charles de Saint-Étienne de la Tour', \"Poutrincourt's\", '1623']\n",
            "after: ['Charles de Saint-Étienne de la Tour', \"Poutrincourt's\", '1623']\n",
            "before: ['Umayyad Caliph Muawiyah I', 'Christian', 'minaret', 'mosques', 'Basra', '665']\n",
            "after: ['Umayyad Caliph Muawiyah I', 'Christian', 'minaret', 'mosques', 'Basra', '665']\n",
            "before: ['the United States', 'United States in', 'Fulbright', '1965']\n",
            "after: ['the United States', 'United States in', 'Fulbright', '1965']\n",
            "before: ['about 120 years', 'Binswanger', 'clinic']\n",
            "after: ['about 120 years', 'Binswanger', 'clinic']\n",
            "before: ['from half an hour', '1 December 1975', 'one hour']\n",
            "after: ['from half an hour', '1 December 1975', 'one hour']\n",
            "before: ['Universal Pictures', 'Mary Parent', 'DVD']\n",
            "after: ['Universal Pictures', 'Mary Parent', 'DVD']\n",
            "before: ['October 31, 2007', 'ECW X-Stream']\n",
            "after: ['October 31, 2007', 'ECW X-Stream']\n",
            "before: ['Santa Catarina', 'Brusque', '94,962', 'Brazil']\n",
            "after: ['Santa Catarina', 'Brusque', '94,962', 'Brazil']\n",
            "before: ['J. J. Thomson', 'medal', '1902', '105']\n",
            "after: ['J. J. Thomson', 'medal', '1902', '105']\n",
            "before: ['2003', '130', 'S']\n",
            "after: ['2003', '130']\n",
            "before: ['the middle of the 16th century']\n",
            "after: ['the middle of the 16th century']\n",
            "before: [\"the People's Republic of China\", 'Tzu Chi', 'first']\n",
            "after: [\"the People's Republic of China\", 'Tzu Chi']\n",
            "before: ['Otariidae']\n",
            "after: ['Otariidae']\n",
            "before: ['the Saltire of Saint Andrew', 'the Cross of St Patrick', 'the red cross of', 'Saint George', 'Scotland', 'England', 'Ireland', 'These', 'It']\n",
            "after: ['the Saltire of Saint Andrew', 'the Cross of St Patrick', 'the red cross of', 'Saint George', 'Scotland', 'England', 'Ireland']\n",
            "before: ['Evinrude', 'Orville', 'Bayou', 'Penny', 'They']\n",
            "after: ['Evinrude', 'Orville', 'Bayou', 'Penny']\n",
            "before: ['Girlfriend', 'Number 14', 'first', 'Honey', 'Her', 'UK', 'It', 'B']\n",
            "after: ['Girlfriend', 'Number 14', 'Honey', 'UK']\n",
            "before: ['Guangxi Zhuang Autonomous Region', \"the People's Republic of China\", 'Zhuang autonomous region', 'It']\n",
            "after: ['Guangxi Zhuang Autonomous Region', \"the People's Republic of China\", 'Zhuang autonomous region']\n",
            "before: ['Processes']\n",
            "after: ['Processes']\n",
            "before: ['the Satluj River', 'Sutlej River', 'Pakistan', 'Punjab', 'India', 'five']\n",
            "after: ['the Satluj River', 'Sutlej River', 'Pakistan', 'Punjab', 'India']\n",
            "before: ['LaGuardia High School of Music', 'Performing Arts', 'Fiorello H', 'Juilliard', 'Later', 'Fame']\n",
            "after: ['LaGuardia High School of Music', 'Performing Arts', 'Fiorello H', 'Juilliard', 'Fame']\n",
            "before: ['']\n",
            "after: ['']\n",
            "before: ['Second']\n",
            "after: []\n",
            "before: ['Mulde River']\n",
            "after: ['Mulde River']\n",
            "before: ['Esther Williams', 'the 1950s and', 'Numerous', 'Cinerama', 'first', '1960s', 'This', 'TV']\n",
            "after: ['Esther Williams', 'the 1950s and', 'Numerous', 'Cinerama', '1960s', 'TV']\n",
            "before: ['4,000 years', '90']\n",
            "after: ['4,000 years', '90']\n",
            "before: ['the Atlantic Ocean', 'August 23', 'Banding', '50 mph', '85 km', 'Debby']\n",
            "after: ['the Atlantic Ocean', 'August 23', 'Banding', '50 mph', '85 km', 'Debby']\n",
            "before: ['Arthur Stuart', 'half']\n",
            "after: ['Arthur Stuart', 'half']\n",
            "before: ['over 40 million', '2004', 'Rush']\n",
            "after: ['over 40 million', '2004', 'Rush']\n",
            "before: ['Unusually']\n",
            "after: ['Unusually']\n",
            "before: ['slang word']\n",
            "after: ['slang word']\n",
            "before: ['Chun', 'May']\n",
            "after: ['Chun']\n",
            "before: ['Discovery of Companions to Asteroids 762 Pulcova', 'Antiope SWrI Press Release', 'External', '90']\n",
            "after: ['Discovery of Companions to Asteroids 762 Pulcova', 'Antiope SWrI Press Release', 'External', '90']\n",
            "before: ['Chinchilla']\n",
            "after: ['Chinchilla']\n",
            "before: ['Constitution Hall in Washington', 'the Constitution Hall', 'Marian Anderson', '1939']\n",
            "after: ['Constitution Hall in Washington', 'the Constitution Hall', 'Marian Anderson', '1939']\n",
            "before: ['KOffice', 'Kivio', 'KDE']\n",
            "after: ['KOffice', 'Kivio', 'KDE']\n",
            "before: ['Norwegian Academy of Music in Oslo', 'the Norwegian Academy of Music', 'Mørk']\n",
            "after: ['Norwegian Academy of Music in Oslo', 'the Norwegian Academy of Music', 'Mørk']\n",
            "before: ['the Pakistan Armed Forces', 'Rawalpindi', 'Islamabad', 'the 1960s']\n",
            "after: ['the Pakistan Armed Forces', 'Rawalpindi', 'Islamabad', 'the 1960s']\n",
            "before: ['The Jubilee Celebrations of IOC', '17 June to 19 June 1944', 'Carl Diem', 'Olympic', 'Held']\n",
            "after: ['The Jubilee Celebrations of IOC', '17 June to 19 June 1944', 'Carl Diem', 'Olympic', 'Held']\n",
            "before: ['Anguidae', 'Celestus']\n",
            "after: ['Anguidae', 'Celestus']\n",
            "before: ['the East India Company', 'the British Army', 'Indian Mutiny of', '1857 - 58', 'European', 'Native', '1860']\n",
            "after: ['the East India Company', 'the British Army', 'Indian Mutiny of', '1857 - 58', 'European', 'Native', '1860']\n",
            "before: ['Vanity Fair', 'Christian', 'Faithful', 'HOPEFUL']\n",
            "after: ['Vanity Fair', 'Christian', 'Faithful', 'HOPEFUL']\n",
            "before: ['Tropical Storm Alpha', 'For the', 'Naming', 'Greek', '2005', '21']\n",
            "after: ['Tropical Storm Alpha', 'For the', 'Naming', 'Greek', '2005', '21']\n",
            "before: ['Additional']\n",
            "after: ['Additional']\n",
            "before: ['Everyday']\n",
            "after: ['Everyday']\n",
            "before: ['History The', 'Riesa', '1994', 'Gro', '2']\n",
            "after: ['History The', 'Riesa', '1994', 'Gro', '2']\n",
            "before: ['Hong Kong', 'Paul Wong', 'Eric Kwok']\n",
            "after: ['Hong Kong', 'Paul Wong', 'Eric Kwok']\n",
            "before: ['Silver']\n",
            "after: ['Silver']\n",
            "before: ['the Blues Hall of Fame', 'later the same year']\n",
            "after: ['the Blues Hall of Fame', 'later the same year']\n",
            "before: ['Thomas Icely', '1838']\n",
            "after: ['Thomas Icely', '1838']\n",
            "before: ['']\n",
            "after: ['']\n",
            "before: ['around 1,200 km', '7-8']\n",
            "after: ['around 1,200 km', '7-8']\n",
            "before: ['the Supreme Court of New York', 'Great Star-Catalog Case', 'Charles A. Borst', 'Peters v. Borst', '1889']\n",
            "after: ['the Supreme Court of New York', 'Great Star-Catalog Case', 'Charles A. Borst', 'Peters v. Borst', '1889']\n",
            "before: ['SWOT Analysis', 'Opportunities', 'Weaknesses', 'Threats in', 'Strengths']\n",
            "after: ['SWOT Analysis', 'Opportunities', 'Weaknesses', 'Threats in', 'Strengths']\n",
            "before: ['Burrendong Arboretum', 'Australian', '1.60 km']\n",
            "after: ['Burrendong Arboretum', 'Australian', '1.60 km']\n",
            "before: ['Mediterranean', 'French Gothic', 'Renaissance', 'Romanesque', 'Baroque', 'Catalan']\n",
            "after: ['Mediterranean', 'French Gothic', 'Renaissance', 'Romanesque', 'Baroque', 'Catalan']\n",
            "before: ['the Helvetian Republic', 'Bern', '1798']\n",
            "after: ['the Helvetian Republic', 'Bern', '1798']\n",
            "before: ['National Hurricane', 'September 22', 'Then']\n",
            "after: ['National Hurricane', 'September 22']\n",
            "before: ['']\n",
            "after: ['']\n",
            "before: ['Culture Attractions in Nouakchott', 'Nouakchott Silver Market', 'the Nouakchott Museum']\n",
            "after: ['Culture Attractions in Nouakchott', 'Nouakchott Silver Market', 'the Nouakchott Museum']\n",
            "before: ['Parts of Europe', 'Scandinavia', 'serfdom']\n",
            "after: ['Parts of Europe', 'Scandinavia', 'serfdom']\n",
            "before: ['art song']\n",
            "after: ['art song']\n",
            "before: ['about 1%', 'Earth']\n",
            "after: ['about 1%', 'Earth']\n",
            "before: ['Reggio Emilia']\n",
            "after: ['Reggio Emilia']\n",
            "before: ['Victoria Hall', 'German', '1941']\n",
            "after: ['Victoria Hall', 'German', '1941']\n",
            "before: ['the 11th and 12th century', 'some 10,000', 'Westphalia', 'Soest', 'one']\n",
            "after: ['the 11th and 12th century', 'some 10,000', 'Westphalia', 'Soest']\n",
            "before: ['Mikhailovich Jurowski', 'Vladimir', 'Russian']\n",
            "after: ['Mikhailovich Jurowski', 'Vladimir', 'Russian']\n",
            "before: ['American School for the Deaf', 'New England', 'Hartford', 'They', 'two']\n",
            "after: ['American School for the Deaf', 'New England', 'Hartford']\n",
            "before: ['the opposite hemisphere', 'winter']\n",
            "after: ['the opposite hemisphere', 'winter']\n",
            "before: ['William Lassell', 'just 17 days', 'Neptune', 'Triton', 'It']\n",
            "after: ['William Lassell', 'just 17 days', 'Neptune', 'Triton']\n",
            "before: ['Nicholas B. Suntzeff', 'Details External', 'NOAO Newsletter', '6 October 1998', 'December 1998', 'Remembrance', 'Olin Eggen', '191998', '56', 'No']\n",
            "after: ['Nicholas B. Suntzeff', 'Details External', 'NOAO Newsletter', '6 October 1998', 'December 1998', 'Remembrance', 'Olin Eggen', '191998', '56']\n",
            "before: ['the Bayreuth Festival of Wagner', '14 August 1876']\n",
            "after: ['the Bayreuth Festival of Wagner', '14 August 1876']\n",
            "before: ['Russia', 'The', 'EU', 'N']\n",
            "after: ['Russia', 'EU']\n",
            "before: ['Opeth', 'Lopez', 'two']\n",
            "after: ['Opeth', 'Lopez']\n",
            "before: ['575 miles', '930 km']\n",
            "after: ['575 miles', '930 km']\n",
            "before: ['Tom Brosseau', 'album']\n",
            "after: ['Tom Brosseau', 'album']\n",
            "before: ['September 23, 1830', 'Elizabeth', 'Oak Hill', '62']\n",
            "after: ['September 23, 1830', 'Elizabeth', 'Oak Hill', '62']\n",
            "before: ['Stallone', 'Rocky V', 'sixth']\n",
            "after: ['Stallone', 'Rocky V', 'sixth']\n",
            "before: ['the Hamburg Opera', 'that same year']\n",
            "after: ['the Hamburg Opera', 'that same year']\n",
            "before: ['Baluchestan Province in the', 'Azerbaijan in the', 'Sistan', 'Iran']\n",
            "after: ['Baluchestan Province in the', 'Azerbaijan in the', 'Sistan', 'Iran']\n",
            "before: ['\"The Very First Light\"', 'John Boslough', 'Mather']\n",
            "after: ['\"The Very First Light\"', 'John Boslough', 'Mather']\n",
            "before: ['the Industrial Revolution', 'extensive canal network']\n",
            "after: ['the Industrial Revolution', 'extensive canal network']\n",
            "before: ['the UN General Assembly', 'October 16, 1990', 'first', 'ICRC']\n",
            "after: ['the UN General Assembly', 'October 16, 1990', 'ICRC']\n",
            "before: ['Leonardo', 'twelve', 'Jesus']\n",
            "after: ['Leonardo', 'twelve', 'Jesus']\n",
            "before: ['Cathedral Cave', 'Altar Rock']\n",
            "after: ['Cathedral Cave', 'Altar Rock']\n",
            "before: ['']\n",
            "after: ['']\n",
            "before: ['Ceres', 'Roman']\n",
            "after: ['Ceres', 'Roman']\n",
            "before: ['the Cello Concerto and the Cello Sonata', 'Moeran']\n",
            "after: ['the Cello Concerto and the Cello Sonata', 'Moeran']\n",
            "before: ['more than $33,000', 'Republicans', 'John McCain', 'the years', '2008']\n",
            "after: ['more than $33,000', 'Republicans', 'John McCain', 'the years', '2008']\n",
            "before: ['']\n",
            "after: ['']\n",
            "before: ['Ptilocercidae', 'Scandentia', 'Tupaiidae']\n",
            "after: ['Ptilocercidae', 'Scandentia', 'Tupaiidae']\n",
            "before: ['the early 1970s', 'Barry Mazur', 'Iwasawa', 'abelian']\n",
            "after: ['the early 1970s', 'Barry Mazur', 'Iwasawa', 'abelian']\n",
            "before: ['Alps in the', 'Austria']\n",
            "after: ['Alps in the', 'Austria']\n",
            "before: ['']\n",
            "after: ['']\n",
            "before: ['Plutoids Ice']\n",
            "after: ['Plutoids Ice']\n",
            "before: ['Emperor Fushimi Hirohito Traditional']\n",
            "after: ['Emperor Fushimi Hirohito Traditional']\n",
            "before: ['Others']\n",
            "after: []\n",
            "before: ['']\n",
            "after: ['']\n",
            "before: ['Stop the Madness', 'Just Say No', \"Diff'rent\", 'the 1980s', 'Strokes', '1985']\n",
            "after: ['Stop the Madness', 'Just Say No', \"Diff'rent\", 'the 1980s', 'Strokes', '1985']\n",
            "before: ['']\n",
            "after: ['']\n",
            "before: ['Charlie and the Chocolate Factory', 'The Demon Barber of Fleet Street', 'The Curse of the Were', 'Wallace & Gromit', \"Tim Burton's\", 'Corpse Bride', 'Sweeney Todd', 'Fight Club', 'Big Fish', 'Rabbit']\n",
            "after: ['Charlie and the Chocolate Factory', 'The Demon Barber of Fleet Street', 'The Curse of the Were', 'Wallace & Gromit', \"Tim Burton's\", 'Corpse Bride', 'Sweeney Todd', 'Fight Club', 'Big Fish', 'Rabbit']\n",
            "before: ['Wire', 'This']\n",
            "after: ['Wire']\n",
            "before: ['the \"Water Ski Capital of the World', 'more than 50']\n",
            "after: ['the \"Water Ski Capital of the World', 'more than 50']\n",
            "before: ['the Seva Foundation', 'the United States', 'Neem Karoli Baba', 'Larry Brillant', 'Ram Dass']\n",
            "after: ['the Seva Foundation', 'the United States', 'Neem Karoli Baba', 'Larry Brillant', 'Ram Dass']\n",
            "before: ['doll']\n",
            "after: ['doll']\n",
            "before: ['Hebrew', 'God']\n",
            "after: ['Hebrew', 'God']\n",
            "before: ['between 1695 and 1699', 'Johann Arnold Nering', 'Sophie Charlotte', 'Frederick', 'summer']\n",
            "after: ['between 1695 and 1699', 'Johann Arnold Nering', 'Sophie Charlotte', 'Frederick', 'summer']\n",
            "before: ['New South Wales', \"Van Diemen's\", 'Tasmania', 'Land']\n",
            "after: ['New South Wales', \"Van Diemen's\", 'Tasmania', 'Land']\n",
            "before: ['President of the United States', 'George Walker Bush', 'July 6, 1946', '2001 to 2009', '43rd']\n",
            "after: ['President of the United States', 'George Walker Bush', 'July 6, 1946', '2001 to 2009', '43rd']\n",
            "before: ['Ballan Primary School', 'the 8th January, 1855']\n",
            "after: ['Ballan Primary School', 'the 8th January, 1855']\n",
            "before: ['the Faroe Islands', 'Humans', 'today']\n",
            "after: ['the Faroe Islands', 'Humans', 'today']\n",
            "before: ['Asiatic Salamanders', 'Family Hynobiidae', 'European Russia']\n",
            "after: ['Asiatic Salamanders', 'Family Hynobiidae', 'European Russia']\n",
            "before: ['G for General Audiences', 'from 1968 to 1970', 'This']\n",
            "after: ['G for General Audiences', 'from 1968 to 1970']\n",
            "before: ['Inner Mongolia', 'Inner / Outer', 'Chinese', 'Manchu', 'The']\n",
            "after: ['Inner Mongolia', 'Inner / Outer', 'Chinese', 'Manchu']\n",
            "before: ['the end of the 1953-54 season', 'the Football League', 'Division Three', 'May 30, 1938', 'Division Two', 'Ipswich', 'South']\n",
            "after: ['the end of the 1953-54 season', 'the Football League', 'Division Three', 'May 30, 1938', 'Division Two', 'Ipswich', 'South']\n",
            "before: ['seven inches', '178 mm', 'three', '24']\n",
            "after: ['seven inches', '178 mm', '24']\n",
            "before: ['Svalbard', 'Internet', '3166', 'ISO', 'TLD', 'SJ', '2']\n",
            "after: ['Svalbard', 'Internet', '3166', 'ISO', 'TLD', 'SJ', '2']\n",
            "before: ['Reasons of']\n",
            "after: ['Reasons of']\n",
            "before: ['English Football', 'Tranmere Rovers', '2008-09 season', 'League One', 'third']\n",
            "after: ['English Football', 'Tranmere Rovers', '2008-09 season', 'League One']\n",
            "before: ['Upper Lusatian', 'around 1350', 'six']\n",
            "after: ['Upper Lusatian', 'around 1350']\n",
            "before: ['Helmut Heinrich Waldemar Schmidt', 'German Social Democratic', \"West Germany's\", 'December 1918', '1974', '1982', '23']\n",
            "after: ['Helmut Heinrich Waldemar Schmidt', 'German Social Democratic', \"West Germany's\", 'December 1918', '1974', '1982', '23']\n",
            "before: ['Ohio State']\n",
            "after: ['Ohio State']\n",
            "before: ['Richard Hughes', 'PackageKit']\n",
            "after: ['Richard Hughes', 'PackageKit']\n",
            "before: ['Aramaic', 'Daniel', 'Hebrew', 'three']\n",
            "after: ['Aramaic', 'Daniel', 'Hebrew']\n",
            "before: ['the Franco-Prussian war', '1870']\n",
            "after: ['the Franco-Prussian war', '1870']\n",
            "before: ['Presence The']\n",
            "after: ['Presence The']\n",
            "before: ['Florence', 'Empoli', 'Siena', 'Pisa']\n",
            "after: ['Florence', 'Empoli', 'Siena', 'Pisa']\n",
            "before: ['18,217', '19', 'TV']\n",
            "after: ['18,217', '19', 'TV']\n",
            "before: ['March 22, 2002', 'May 16, 2002', 'stellar', 'Psyche', 'Mexico']\n",
            "after: ['March 22, 2002', 'May 16, 2002', 'stellar', 'Psyche', 'Mexico']\n",
            "before: ['the Ottawa Senators', 'the Stanley Cup', 'Stanley Cup in', 'Wheat Kings', '1904']\n",
            "after: ['the Ottawa Senators', 'the Stanley Cup', 'Stanley Cup in', 'Wheat Kings', '1904']\n",
            "before: ['Soviet Union in December', 'the Soviet Union', 'December 1991', 'Germany in', 'Honecker', 'Chilean', 'Yeltsin', 'Moscow', '1992']\n",
            "after: ['Soviet Union in December', 'the Soviet Union', 'December 1991', 'Germany in', 'Honecker', 'Chilean', 'Yeltsin', 'Moscow', '1992']\n",
            "before: [\"the eastern province's\", 'Karbala']\n",
            "after: [\"the eastern province's\", 'Karbala']\n",
            "before: ['Watson-Crick', 'Adenine', 'DNA', 'T', 'G']\n",
            "after: ['Watson-Crick', 'Adenine', 'DNA']\n",
            "before: ['10 km2 (1000 hectares', 'between 1 km2', '100 hectares', 'Areas']\n",
            "after: ['10 km2 (1000 hectares', 'between 1 km2', '100 hectares', 'Areas']\n",
            "before: ['Von dem Bach-Zalewski', 'Adolf Hitler', 'HSSPF', '1943']\n",
            "after: ['Von dem Bach-Zalewski', 'Adolf Hitler', 'HSSPF', '1943']\n",
            "before: ['fictional universe first created', 'the Buffy/Angel', 'Buffyverse', 'Slayer', 'It']\n",
            "after: ['fictional universe first created', 'the Buffy/Angel', 'Buffyverse', 'Slayer']\n",
            "before: ['I Created Disco', 'Groove Armada', 'Faithless', 'Harris', 'UK']\n",
            "after: ['I Created Disco', 'Groove Armada', 'Faithless', 'Harris', 'UK']\n",
            "before: ['']\n",
            "after: ['']\n",
            "before: ['Velvet Revolver', \"Guns N'Roses\", 'Weiland', '2003']\n",
            "after: ['Velvet Revolver', \"Guns N'Roses\", 'Weiland', '2003']\n",
            "before: ['Baden-Württemberg', 'Bad Herrenalb', 'Germany', 'Calw']\n",
            "after: ['Baden-Württemberg', 'Bad Herrenalb', 'Germany', 'Calw']\n",
            "before: ['Mesoamerican', 'Religion The', 'Teotihuacan']\n",
            "after: ['Mesoamerican', 'Religion The', 'Teotihuacan']\n",
            "before: ['']\n",
            "after: ['']\n",
            "before: ['Moscow State University in the Soviet Union in the', 'Kolmogorov', 'Russian']\n",
            "after: ['Moscow State University in the Soviet Union in the', 'Kolmogorov', 'Russian']\n",
            "before: ['']\n",
            "after: ['']\n",
            "before: ['two']\n",
            "after: []\n",
            "before: ['Freiberger Mulde in the', 'the Freiberger Mulde', 'Chemnitz', 'Dresden', 'Leipzig']\n",
            "after: ['Freiberger Mulde in the', 'the Freiberger Mulde', 'Chemnitz', 'Dresden', 'Leipzig']\n",
            "before: ['Aboriginal', 'English', 'French', 'second', 'Today', 'Métis']\n",
            "after: ['Aboriginal', 'English', 'French', 'Today', 'Métis']\n",
            "before: ['Port Jackson', 'Sydney Heads', 'fort']\n",
            "after: ['Port Jackson', 'Sydney Heads', 'fort']\n",
            "before: ['CGI']\n",
            "after: ['CGI']\n",
            "before: ['However']\n",
            "after: []\n",
            "before: ['the Byzantine Empire', 'Constantinople']\n",
            "after: ['the Byzantine Empire', 'Constantinople']\n",
            "before: ['']\n",
            "after: ['']\n",
            "before: ['Analog']\n",
            "after: ['Analog']\n",
            "before: ['']\n",
            "after: ['']\n",
            "before: ['President Bill Clinton', 'Barr', 'one']\n",
            "after: ['President Bill Clinton', 'Barr']\n",
            "before: ['Africa', 'H.']\n",
            "after: ['Africa', 'H.']\n",
            "before: ['the 1980s and 1990s', 'the North Campus']\n",
            "after: ['the 1980s and 1990s', 'the North Campus']\n",
            "before: ['Israel', 'Iraqi', 'Arab']\n",
            "after: ['Israel', 'Iraqi', 'Arab']\n",
            "before: ['Background Chuck Norris Facts', 'Internet in', 'early 2005']\n",
            "after: ['Background Chuck Norris Facts', 'Internet in', 'early 2005']\n",
            "before: ['University of Cambridge']\n",
            "after: ['University of Cambridge']\n",
            "before: ['American', 'SNL', 'one']\n",
            "after: ['American', 'SNL']\n",
            "before: ['The Hobbit', 'Tolkien', '1937']\n",
            "after: ['The Hobbit', 'Tolkien', '1937']\n",
            "before: ['wagon']\n",
            "after: ['wagon']\n",
            "before: ['Scottish Civic Heraldry', 'the district council', 'R. M. Urquhart', 'London', 'On the', 'Crown', '1979', '1996']\n",
            "after: ['Scottish Civic Heraldry', 'the district council', 'R. M. Urquhart', 'London', 'On the', 'Crown', '1979', '1996']\n",
            "before: ['Reverend Martin Luther King', 'Alberta Williams King', 'Sr.']\n",
            "after: ['Reverend Martin Luther King', 'Alberta Williams King', 'Sr.']\n",
            "before: ['']\n",
            "after: ['']\n",
            "before: ['Chocolate', 'Maya of', 'The']\n",
            "after: ['Chocolate', 'Maya of']\n",
            "before: ['The rue Saint Antoine', 'Bastille']\n",
            "after: ['The rue Saint Antoine', 'Bastille']\n",
            "before: ['the following season', 'the New York Giants', 'Warner', 'Rams', 'six', 'He']\n",
            "after: ['the following season', 'the New York Giants', 'Warner', 'Rams']\n",
            "before: ['']\n",
            "after: ['']\n",
            "before: ['Darryl Starbird', 'Roth in', '750.00', 'Fellow', '1967', 'US']\n",
            "after: ['Darryl Starbird', 'Roth in', '750.00', 'Fellow', '1967', 'US']\n",
            "before: ['Yankees', 'US']\n",
            "after: ['Yankees', 'US']\n",
            "before: ['Doctors']\n",
            "after: ['Doctors']\n",
            "before: ['Attahaddy Benghazi', 'Libyan']\n",
            "after: ['Attahaddy Benghazi', 'Libyan']\n",
            "before: ['Orson Scott Card', \"Ender's Shadow\", 'American', '1999']\n",
            "after: ['Orson Scott Card', \"Ender's Shadow\", 'American', '1999']\n",
            "before: ['WorldArtist Info-LeaTHERMOUTH Epitaph', 'Lero', 'Come']\n",
            "after: ['WorldArtist Info-LeaTHERMOUTH Epitaph', 'Lero']\n",
            "before: ['Bell Laboratories', 'Western Electric']\n",
            "after: ['Bell Laboratories', 'Western Electric']\n",
            "before: ['Erzgebirge', 'Christmas']\n",
            "after: ['Erzgebirge', 'Christmas']\n",
            "before: ['September 1932', 'Reichstag', 'first', 'Papen']\n",
            "after: ['September 1932', 'Reichstag', 'Papen']\n",
            "before: ['the early seventeenth century']\n",
            "after: ['the early seventeenth century']\n",
            "before: ['Initially']\n",
            "after: ['Initially']\n",
            "before: ['only two', 'Diatomic']\n",
            "after: ['only two', 'Diatomic']\n",
            "before: ['Richard Neville Dobson', 'Ritchie Neville', '23 August 1979', 'Solihull', 'England', 'English', 'Five', 'UK']\n",
            "after: ['Richard Neville Dobson', 'Ritchie Neville', '23 August 1979', 'Solihull', 'England', 'English', 'UK']\n",
            "before: ['Japanese']\n",
            "after: ['Japanese']\n",
            "before: ['Education The Cabarrus County School System', 'Kannapolis']\n",
            "after: ['Education The Cabarrus County School System', 'Kannapolis']\n",
            "before: ['Months', 'Copper', 'Tod']\n",
            "after: ['Months', 'Copper', 'Tod']\n",
            "before: ['']\n",
            "after: ['']\n",
            "before: ['']\n",
            "after: ['']\n",
            "before: ['']\n",
            "after: ['']\n",
            "before: ['Boston Consulting Group Analysis', 'the Boston Consulting Group', 'Boston Consulting Group in', 'Bruce Henderson', 'Boston Matrix', 'Boston Box', '1970', 'BCG']\n",
            "after: ['Boston Consulting Group Analysis', 'the Boston Consulting Group', 'Boston Consulting Group in', 'Bruce Henderson', 'Boston Matrix', 'Boston Box', '1970', 'BCG']\n",
            "before: ['Neptune All Night', 'Voyager 2', 'Earth', '1989', 'They', 'PBS']\n",
            "after: ['Neptune All Night', 'Voyager 2', 'Earth', '1989', 'PBS']\n",
            "before: ['the Mountains Rail Trail', 'Murray']\n",
            "after: ['the Mountains Rail Trail', 'Murray']\n",
            "before: ['Lords of Sonneberg', 'It']\n",
            "after: ['Lords of Sonneberg']\n",
            "before: ['Nara', '710', '794']\n",
            "after: ['Nara', '710', '794']\n",
            "before: ['the North Atlantic Ocean', 'the Saffir-Simpson', 'Cape Verde', 'Category 3', 'Helene', 'It']\n",
            "after: ['the North Atlantic Ocean', 'the Saffir-Simpson', 'Cape Verde', 'Category 3', 'Helene']\n",
            "before: ['Carolus Linnaeus', 'This']\n",
            "after: ['Carolus Linnaeus']\n",
            "before: ['archetypal pencil', 'It']\n",
            "after: ['archetypal pencil']\n",
            "before: ['Bad Religion', 'The']\n",
            "after: ['Bad Religion']\n",
            "before: ['Zipingpu', '2,000']\n",
            "after: ['Zipingpu', '2,000']\n",
            "before: ['the Trinity Stone R&B Group', 'the United Kingdom', 'Ireland', 'Russia', '2005', 'Ewen']\n",
            "after: ['the Trinity Stone R&B Group', 'the United Kingdom', 'Ireland', 'Russia', '2005', 'Ewen']\n",
            "before: ['Aten']\n",
            "after: ['Aten']\n",
            "before: ['the English Reformation', 'Protestantism in', 'Germanic', 'Pope']\n",
            "after: ['the English Reformation', 'Protestantism in', 'Germanic', 'Pope']\n",
            "before: ['Sir James Chadwick', '20 October 1891', 'English', 'Nobel', 'July', '1974', 'FRS', 'CH', '24', 'He']\n",
            "after: ['Sir James Chadwick', '20 October 1891', 'English', 'Nobel', 'July', '1974', 'FRS', 'CH', '24']\n",
            "before: ['CaMg', 'CO', '3']\n",
            "after: ['CaMg', 'CO', '3']\n",
            "before: ['Advanced Encryption Standard']\n",
            "after: ['Advanced Encryption Standard']\n",
            "before: ['Solid', 'Bohr']\n",
            "after: ['Solid', 'Bohr']\n",
            "before: ['Colonel George Rogers Clark', 'Louisville', 'Kentucky', 'first', '13']\n",
            "after: ['Colonel George Rogers Clark', 'Louisville', 'Kentucky', '13']\n",
            "before: ['Hot Rod Magazine', 'Hot Rod Deluxe', 'March 2009', 'retro']\n",
            "after: ['Hot Rod Magazine', 'Hot Rod Deluxe', 'March 2009', 'retro']\n",
            "before: ['the German Confederation', 'the Vienna Congress', 'Grand Duchy']\n",
            "after: ['the German Confederation', 'the Vienna Congress', 'Grand Duchy']\n",
            "before: ['23 February 2008', '20 August 2007', 'Nick Jr.', 'Noggin']\n",
            "after: ['23 February 2008', '20 August 2007', 'Nick Jr.', 'Noggin']\n",
            "before: ['Year Without a Summer', 'Mount Tambora', '1815']\n",
            "after: ['Year Without a Summer', 'Mount Tambora', '1815']\n",
            "before: ['Negotiations']\n",
            "after: ['Negotiations']\n",
            "before: ['Charles Marie de LA Condamine', '1737']\n",
            "after: ['Charles Marie de LA Condamine', '1737']\n",
            "before: ['Golden Age of Latin', 'the Golden Age']\n",
            "after: ['Golden Age of Latin', 'the Golden Age']\n",
            "before: ['Moundou', 'Chad', 'one']\n",
            "after: ['Moundou', 'Chad']\n",
            "before: ['']\n",
            "after: ['']\n",
            "before: ['butler tray']\n",
            "after: ['butler tray']\n",
            "before: ['Yazoo in', 'Clarke', 'Moyet', '1983']\n",
            "after: ['Yazoo in', 'Clarke', 'Moyet', '1983']\n",
            "before: ['Wombat Ranges', 'Mansfield', 'Victoria']\n",
            "after: ['Wombat Ranges', 'Mansfield', 'Victoria']\n",
            "before: ['Lanterns']\n",
            "after: ['Lanterns']\n",
            "before: ['Gallaudet', 'America', 'Clerc']\n",
            "after: ['Gallaudet', 'America', 'Clerc']\n",
            "before: ['']\n",
            "after: ['']\n",
            "before: ['MATLAB / Simulink, EICASLAB', 'Scilab / Scicos', 'Mathematica', 'Creators', 'MathCad']\n",
            "after: ['MATLAB / Simulink, EICASLAB', 'Scilab / Scicos', 'Mathematica', 'Creators', 'MathCad']\n",
            "before: ['']\n",
            "after: ['']\n",
            "before: ['Young Boys', 'Marseille', 'Olympics', '14,000', '2', '3']\n",
            "after: ['Young Boys', 'Marseille', 'Olympics', '14,000', '2', '3']\n",
            "before: ['Spanish Renaissance']\n",
            "after: ['Spanish Renaissance']\n",
            "before: ['']\n",
            "after: ['']\n",
            "before: ['Nord-Pas', 'Calais', 'France', 'Marant']\n",
            "after: ['Nord-Pas', 'Calais', 'France', 'Marant']\n",
            "before: ['Trick Shooting', \"Barker Bill's\", 'nameless dog', 'NES']\n",
            "after: ['Trick Shooting', \"Barker Bill's\", 'nameless dog', 'NES']\n",
            "before: ['Windhaven']\n",
            "after: ['Windhaven']\n",
            "before: ['Standard Model', 'Higgs']\n",
            "after: ['Standard Model', 'Higgs']\n",
            "before: ['Mars & Venus', 'Planet']\n",
            "after: ['Mars & Venus', 'Planet']\n",
            "before: ['Hurricane Beulah', 'Atlantic', 'Prior']\n",
            "after: ['Hurricane Beulah', 'Atlantic', 'Prior']\n",
            "before: ['Italian-American', 'Californian', 'Speaker', 'Pelosi', 'first']\n",
            "after: ['Italian-American', 'Californian', 'Speaker', 'Pelosi']\n",
            "before: ['']\n",
            "after: ['']\n",
            "before: ['']\n",
            "after: ['']\n",
            "before: ['Seconds', 'three', 'four', 'Mars', '30']\n",
            "after: ['Seconds', 'Mars', '30']\n",
            "before: ['Conrad IV of Germany', 'Construction', 'Frederick', '1254']\n",
            "after: ['Conrad IV of Germany', 'Construction', 'Frederick', '1254']\n",
            "before: [\"the Academy Awards '\"]\n",
            "after: [\"the Academy Awards '\"]\n",
            "before: ['A Little Bit Longer', 'album title', 'Nick Jonas', '1']\n",
            "after: ['A Little Bit Longer', 'album title', 'Nick Jonas', '1']\n",
            "before: ['The Knickerbocker Gang', 'Tom Turbo']\n",
            "after: ['The Knickerbocker Gang', 'Tom Turbo']\n",
            "before: ['Controlled', 'Some']\n",
            "after: ['Controlled']\n",
            "before: ['Maltese Christians', 'Coptic Christians', 'non-Ismaili', 'Fatimids', 'Islam', 'Jews']\n",
            "after: ['Maltese Christians', 'Coptic Christians', 'non-Ismaili', 'Fatimids', 'Islam', 'Jews']\n",
            "before: ['Ben Turpin', 'Tossing', 'Flip in', '1909', 'Mr']\n",
            "after: ['Ben Turpin', 'Tossing', 'Flip in', '1909']\n",
            "before: ['the Triple Hurricane Coaster']\n",
            "after: ['the Triple Hurricane Coaster']\n",
            "before: ['16,800', '5,700', '2001']\n",
            "after: ['16,800', '5,700', '2001']\n",
            "before: [\"You Are My Heart's Delight\", 'The Land of Smiles', 'The Merry Widow', 'Individual', 'Notably', 'Vilja', 'Dein', 'Herz']\n",
            "after: [\"You Are My Heart's Delight\", 'The Land of Smiles', 'The Merry Widow', 'Individual', 'Notably', 'Vilja', 'Dein', 'Herz']\n",
            "before: ['fourth', 'fifth', 'It']\n",
            "after: ['fourth']\n",
            "before: ['Ardèche', 'France', '339']\n",
            "after: ['Ardèche', 'France', '339']\n",
            "before: ['the Gaza Strip', 'East Jerusalem', 'the West Bank', 'Palestinian', 'This']\n",
            "after: ['the Gaza Strip', 'East Jerusalem', 'the West Bank', 'Palestinian']\n",
            "before: ['String Theory']\n",
            "after: ['String Theory']\n",
            "before: ['WWE Draft', 'Triple H', '2009', 'Raw']\n",
            "after: ['WWE Draft', 'Triple H', '2009', 'Raw']\n",
            "before: ['the Inga Dams', 'Pool Malebo', 'first']\n",
            "after: ['the Inga Dams', 'Pool Malebo']\n",
            "before: ['Latin']\n",
            "after: ['Latin']\n",
            "before: ['Bondage']\n",
            "after: ['Bondage']\n",
            "before: ['Laser Guide Star Adaptive Optics', '17 July 2006', 'Hektor', 'Keck', '10', 'II', 'AO']\n",
            "after: ['Laser Guide Star Adaptive Optics', '17 July 2006', 'Hektor', 'Keck', '10', 'II', 'AO']\n",
            "before: ['Legal Aid in Dying', 'the Netherlands', 'Switzerland', 'American', 'Belgium', 'three']\n",
            "after: ['Legal Aid in Dying', 'the Netherlands', 'Switzerland', 'American', 'Belgium']\n",
            "before: ['Sacred Heart Festival', 'Roman Catholics', 'Pentecost', '19 days', '1856']\n",
            "after: ['Sacred Heart Festival', 'Roman Catholics', 'Pentecost', '19 days', '1856']\n",
            "before: ['Mycenean Civilization of the Peloponnese', 'the Mycenean Civilization', 'Minoans of Crete', 'the old days', 'two']\n",
            "after: ['Mycenean Civilization of the Peloponnese', 'the Mycenean Civilization', 'Minoans of Crete', 'the old days']\n",
            "before: ['Encyclopædia Britannica, Inc.', 'World Wide Web', 'CD-ROM', 'DVD']\n",
            "after: ['Encyclopædia Britannica, Inc.', 'World Wide Web', 'CD-ROM', 'DVD']\n",
            "before: ['Colsefini']\n",
            "after: ['Colsefini']\n",
            "before: ['']\n",
            "after: ['']\n",
            "before: ['Norwich High School for Girls', 'Cambridge University']\n",
            "after: ['Norwich High School for Girls', 'Cambridge University']\n",
            "before: ['']\n",
            "after: ['']\n",
            "before: ['15', '20']\n",
            "after: ['15', '20']\n",
            "before: ['Goldman Sachs', 'Toyota', 'Sharp', 'Big', 'GE']\n",
            "after: ['Goldman Sachs', 'Toyota', 'Sharp', 'Big', 'GE']\n",
            "before: ['']\n",
            "after: ['']\n",
            "before: ['12%', '22%']\n",
            "after: ['12%', '22%']\n",
            "before: ['Hertzprung-Russell']\n",
            "after: ['Hertzprung-Russell']\n",
            "before: ['Spartans']\n",
            "after: ['Spartans']\n",
            "before: ['Moot Hill', 'Visitors']\n",
            "after: ['Moot Hill', 'Visitors']\n",
            "before: ['Obadiah']\n",
            "after: ['Obadiah']\n",
            "before: ['the French Revolution', 'March 4, 1790', 'first', 'Gard', 'one', '83']\n",
            "after: ['the French Revolution', 'March 4, 1790', 'Gard', '83']\n",
            "before: ['the early 2000s', 'England in the', 'East London', 'Grime', 'UK']\n",
            "after: ['the early 2000s', 'England in the', 'East London', 'Grime', 'UK']\n",
            "before: ['Obedience and Peace']\n",
            "after: ['Obedience and Peace']\n",
            "before: ['Arthur Waley', 'one']\n",
            "after: ['Arthur Waley']\n",
            "before: ['Algeria']\n",
            "after: ['Algeria']\n",
            "before: ['Hilari Bell', 'American', '1958']\n",
            "after: ['Hilari Bell', 'American', '1958']\n",
            "before: ['State for Culture, Media', 'Secretary of State', 'the South West', 'Minister', 'first', 'MPs']\n",
            "after: ['State for Culture, Media', 'Secretary of State', 'the South West', 'Minister', 'MPs']\n",
            "before: ['the Red Chain', 'Lake Trio']\n",
            "after: ['the Red Chain', 'Lake Trio']\n",
            "before: ['Sir Donald Bradman', 'Cootamundra', 'Australian']\n",
            "after: ['Sir Donald Bradman', 'Cootamundra', 'Australian']\n",
            "before: ['American Hockey League']\n",
            "after: ['American Hockey League']\n",
            "before: ['However']\n",
            "after: []\n",
            "before: ['Therefore', 'Baptist', 'one']\n",
            "after: ['Baptist']\n",
            "before: ['the Democratic Republic of Armenia', '1918 to 1920', 'Vanand', 'Kars']\n",
            "after: ['the Democratic Republic of Armenia', '1918 to 1920', 'Vanand', 'Kars']\n",
            "before: ['Video Countdown', 'June 28, 2008', 'VH1', 'Top']\n",
            "after: ['Video Countdown', 'June 28, 2008', 'VH1', 'Top']\n",
            "before: ['English', 'Queen']\n",
            "after: ['English', 'Queen']\n",
            "before: ['more than 50,000', 'Village Phone', 'Polli Phone', 'March 1997', '260,000', 'GP']\n",
            "after: ['more than 50,000', 'Village Phone', 'Polli Phone', 'March 1997', '260,000', 'GP']\n",
            "before: ['Linux']\n",
            "after: ['Linux']\n",
            "before: ['Eddy Merckx', '1970']\n",
            "after: ['Eddy Merckx', '1970']\n",
            "before: ['approximately 18 inches', '30 inches', '46 cm', '76 cm']\n",
            "after: ['approximately 18 inches', '30 inches', '46 cm', '76 cm']\n",
            "before: ['Diffie-Hellman Key Exchange', 'two', 'D-H']\n",
            "after: ['Diffie-Hellman Key Exchange', 'D-H']\n",
            "before: ['the Federal Government of the United States']\n",
            "after: ['the Federal Government of the United States']\n",
            "before: ['the end of 1997']\n",
            "after: ['the end of 1997']\n",
            "before: ['']\n",
            "after: ['']\n",
            "before: ['admission day in 1889', 'United States', 'North Dakota', 'South Dakota', '39th', '40th']\n",
            "after: ['admission day in 1889', 'United States', 'North Dakota', 'South Dakota', '39th', '40th']\n",
            "before: ['This', 'two']\n",
            "after: []\n",
            "before: ['the Western Turks', 'The Western Turks', 'Turkmenistan', 'present-day', 'Azerbaijan', 'Turkey']\n",
            "after: ['the Western Turks', 'The Western Turks', 'Turkmenistan', 'present-day', 'Azerbaijan', 'Turkey']\n",
            "before: ['Count Gottfried von Vaihingen', 'Documents', '1252', 'It']\n",
            "after: ['Count Gottfried von Vaihingen', 'Documents', '1252']\n",
            "before: ['Paleolithic', 'Lascaux', 'France', 'It']\n",
            "after: ['Paleolithic', 'Lascaux', 'France']\n",
            "before: ['as peak hour', 'rush hour', 'There', 'It']\n",
            "after: ['as peak hour', 'rush hour']\n",
            "before: ['Roubaix', '750m']\n",
            "after: ['Roubaix', '750m']\n",
            "before: ['']\n",
            "after: ['']\n",
            "before: ['the Central African Republic', 'the west area', 'Bangui']\n",
            "after: ['the Central African Republic', 'the west area', 'Bangui']\n",
            "before: ['Blood']\n",
            "after: ['Blood']\n",
            "before: ['tens of thousands', 'Amsterdam', 'Van Gogh']\n",
            "after: ['tens of thousands', 'Amsterdam', 'Van Gogh']\n",
            "before: ['the Seattle Metropolitans', 'the Montreal Maroons', 'New York Rangers', 'the Stanley Cup', 'first', '1917', 'U.S', 'NHL']\n",
            "after: ['the Seattle Metropolitans', 'the Montreal Maroons', 'New York Rangers', 'the Stanley Cup', '1917', 'U.S', 'NHL']\n",
            "before: ['the International Committee of the Red Cross', 'today', '1876', 'ICRC']\n",
            "after: ['the International Committee of the Red Cross', 'today', '1876', 'ICRC']\n",
            "before: ['12 April 2024']\n",
            "after: ['12 April 2024']\n",
            "before: ['South China Sea Islands', 'hundred']\n",
            "after: ['South China Sea Islands']\n",
            "before: ['pesos plata', 'pesos oro']\n",
            "after: ['pesos plata', 'pesos oro']\n",
            "before: ['Internet Message Access Protocol', 'IMAP', 'two', 'POP']\n",
            "after: ['Internet Message Access Protocol', 'IMAP', 'POP']\n",
            "before: ['Japanese', '300']\n",
            "after: ['Japanese', '300']\n",
            "before: ['Blakeley City in', 'the County Seat', 'Daphne City in', '1810', '1868']\n",
            "after: ['Blakeley City in', 'the County Seat', 'Daphne City in', '1810', '1868']\n",
            "before: ['Explorer Francisco Hernández']\n",
            "after: ['Explorer Francisco Hernández']\n",
            "before: ['Tokyo', 'Edo']\n",
            "after: ['Tokyo', 'Edo']\n",
            "before: ['British', 'roe']\n",
            "after: ['British', 'roe']\n",
            "before: ['Saxon Switzerland', 'Dresden in Saxony', 'Germany']\n",
            "after: ['Saxon Switzerland', 'Dresden in Saxony', 'Germany']\n",
            "before: ['Gilbertese', 'Tuvaluan', 'Nui', 'A']\n",
            "after: ['Gilbertese', 'Tuvaluan', 'Nui']\n",
            "before: ['Gelsenkirchen', 'FC Schalke', '04']\n",
            "after: ['Gelsenkirchen', 'FC Schalke', '04']\n",
            "before: ['New Zealand', 'Australia', 'Charts', 'Mobile']\n",
            "after: ['New Zealand', 'Australia', 'Charts', 'Mobile']\n",
            "before: ['Manchester United in', 'Fulham in', '1963', '1995', '10']\n",
            "after: ['Manchester United in', 'Fulham in', '1963', '1995', '10']\n",
            "before: ['the Hall of Fame', 'Elected', '1961']\n",
            "after: ['the Hall of Fame', 'Elected', '1961']\n",
            "before: ['Handles']\n",
            "after: ['Handles']\n",
            "before: ['Tristan', 'Isolde']\n",
            "after: ['Tristan', 'Isolde']\n",
            "before: ['Hermann Engst', 'Kellner', 'Nazi']\n",
            "after: ['Hermann Engst', 'Kellner', 'Nazi']\n",
            "before: ['Internet']\n",
            "after: ['Internet']\n",
            "before: ['Tasmanian', 'Programs']\n",
            "after: ['Tasmanian', 'Programs']\n",
            "before: ['up to', '20']\n",
            "after: ['up to', '20']\n",
            "before: ['Virginia Beach', 'Chesapeake', 'Portsmouth', 'Norfolk']\n",
            "after: ['Virginia Beach', 'Chesapeake', 'Portsmouth', 'Norfolk']\n",
            "before: ['The Slip', 'Reznor', '2008']\n",
            "after: ['The Slip', 'Reznor', '2008']\n",
            "before: ['the W. Roxburghii', 'Wahlenbergia', 'St Helena', 'Four']\n",
            "after: ['the W. Roxburghii', 'Wahlenbergia', 'St Helena']\n",
            "before: ['Ornithologist Richard Zann', 'Kinglake', 'Eileen', 'Eva']\n",
            "after: ['Ornithologist Richard Zann', 'Kinglake', 'Eileen', 'Eva']\n",
            "before: ['European', 'Puckian']\n",
            "after: ['European', 'Puckian']\n",
            "before: ['']\n",
            "after: ['']\n",
            "before: ['']\n",
            "after: ['']\n",
            "before: ['the Middle Ages', 'Renaissance', 'Tristan', 'Isolde']\n",
            "after: ['the Middle Ages', 'Renaissance', 'Tristan', 'Isolde']\n",
            "before: ['Leicester']\n",
            "after: ['Leicester']\n",
            "before: ['PDAs']\n",
            "after: ['PDAs']\n",
            "before: ['However', 'three', 'God']\n",
            "after: ['God']\n",
            "before: ['Jack Lemmon', 'Stallone']\n",
            "after: ['Jack Lemmon', 'Stallone']\n",
            "before: ['East Coast of the United States', 'the East Coast', 'June 5']\n",
            "after: ['East Coast of the United States', 'the East Coast', 'June 5']\n",
            "before: ['Jupiter', 'Saturn', 'two']\n",
            "after: ['Jupiter', 'Saturn']\n",
            "before: ['1 3', 'MIT']\n",
            "after: ['1 3', 'MIT']\n",
            "before: ['Civil Aviation Authority', 'the United Kingdom', 'CAA']\n",
            "after: ['Civil Aviation Authority', 'the United Kingdom', 'CAA']\n",
            "before: ['Endymion at Heracleia', 'Latmus']\n",
            "after: ['Endymion at Heracleia', 'Latmus']\n",
            "before: ['The']\n",
            "after: []\n",
            "before: ['Restkreis Sankt Wendel', 'Saarland in', 'Birkenfeld', 'The', 'It']\n",
            "after: ['Restkreis Sankt Wendel', 'Saarland in', 'Birkenfeld']\n",
            "before: ['the Greta Swamp']\n",
            "after: ['the Greta Swamp']\n",
            "before: ['National Capital Region', '5,319 square kilometres', 'Ontario', 'Quebec', 'It']\n",
            "after: ['National Capital Region', '5,319 square kilometres', 'Ontario', 'Quebec']\n",
            "before: ['Mary Chapin Carpenter', 'Mike Marshall', \"Mark O'Connor\", 'Alison Krauss', 'James Taylor', 'Nickel Creek', 'Joshua Bell', 'Chris Thile', 'Béla Fleck', 'Yo-Yo Ma', 'Sam Bush']\n",
            "after: ['Mary Chapin Carpenter', 'Mike Marshall', \"Mark O'Connor\", 'Alison Krauss', 'James Taylor', 'Nickel Creek', 'Joshua Bell', 'Chris Thile', 'Béla Fleck', 'Yo-Yo Ma', 'Sam Bush']\n",
            "before: ['about 440 pounds', '42-6452']\n",
            "after: ['about 440 pounds', '42-6452']\n",
            "before: ['British', '1795']\n",
            "after: ['British', '1795']\n",
            "before: ['90 degrees', '4']\n",
            "after: ['90 degrees', '4']\n",
            "before: ['the Soviet Union', 'Aglen', 'one', 'RPG', '26']\n",
            "after: ['the Soviet Union', 'Aglen', 'RPG', '26']\n",
            "before: ['Eddie Guerrero', 'WWE Champion', 'Benoit']\n",
            "after: ['Eddie Guerrero', 'WWE Champion', 'Benoit']\n",
            "before: ['The Great American Bash', 'Divas Champion', 'July 20, 2008', 'Natalya', 'McCool']\n",
            "after: ['The Great American Bash', 'Divas Champion', 'July 20, 2008', 'Natalya', 'McCool']\n",
            "before: ['Six Flags Great Adventure', 'Jackson Township', 'New Jersey', 'Kingda Ka', 'USA']\n",
            "after: ['Six Flags Great Adventure', 'Jackson Township', 'New Jersey', 'Kingda Ka', 'USA']\n",
            "before: ['the Berber Muslim Almoravids']\n",
            "after: ['the Berber Muslim Almoravids']\n",
            "before: ['1902 Education Act', 'County', '1894', '42']\n",
            "after: ['1902 Education Act', 'County', '1894', '42']\n",
            "before: ['the past centuries', 'county', 'We']\n",
            "after: ['the past centuries', 'county']\n",
            "before: ['India']\n",
            "after: ['India']\n",
            "before: ['Australian Outback', 'Paris-Dakar Rally', 'Custom SUV']\n",
            "after: ['Australian Outback', 'Paris-Dakar Rally', 'Custom SUV']\n",
            "before: ['Francis Poulenc', 'Melodies', 'today', '1963']\n",
            "after: ['Francis Poulenc', 'Melodies', 'today', '1963']\n",
            "before: ['February 18, 2001', 'Michael E. Brown', 'JEan-Luc Margot', 'Romulus', 'Keck II', 'first']\n",
            "after: ['February 18, 2001', 'Michael E. Brown', 'JEan-Luc Margot', 'Romulus', 'Keck II']\n",
            "before: ['20 hours', '264 days', 'Running', '13,000', '95%']\n",
            "after: ['20 hours', '264 days', 'Running', '13,000', '95%']\n",
            "before: ['The Boston Bruins', 'Regular', '110']\n",
            "after: ['The Boston Bruins', 'Regular', '110']\n",
            "before: ['Bird of Paradise', 'Seleucidis', 'Twelve', '33cm']\n",
            "after: ['Bird of Paradise', 'Seleucidis', 'Twelve', '33cm']\n",
            "before: ['Simosthenurus occidentalis', 'Eastern Gray Kangaroo', 'Troposodon', 'Stenurine', 'Stenurus']\n",
            "after: ['Simosthenurus occidentalis', 'Eastern Gray Kangaroo', 'Troposodon', 'Stenurine', 'Stenurus']\n",
            "before: ['Miss USA Beauty Contest', 'Miss Universe', '1952', 'U.S.']\n",
            "after: ['Miss USA Beauty Contest', 'Miss Universe', '1952', 'U.S.']\n",
            "before: ['the 1930s', 'Keynes in', 'American']\n",
            "after: ['the 1930s', 'Keynes in', 'American']\n",
            "before: ['the Catholic Church of Rome', 'Double Standard View']\n",
            "after: ['the Catholic Church of Rome', 'Double Standard View']\n",
            "before: ['almost 1,000']\n",
            "after: ['almost 1,000']\n",
            "before: ['6 December 1969', 'Jörg Heinrich', 'Rathenow', 'German']\n",
            "after: ['6 December 1969', 'Jörg Heinrich', 'Rathenow', 'German']\n",
            "before: ['Peter Richardson', 'half-hour', 'six']\n",
            "after: ['Peter Richardson', 'half-hour']\n",
            "before: ['Roseanne Barr', '1988 to 1997', 'American', 'ABC']\n",
            "after: ['Roseanne Barr', '1988 to 1997', 'American', 'ABC']\n",
            "before: ['Revolver', 'MTV']\n",
            "after: ['Revolver', 'MTV']\n",
            "before: ['']\n",
            "after: ['']\n",
            "before: ['Coles Supermarkets', '23 November 2007', 'Coles Group', 'Wesfarmers', 'Australian']\n",
            "after: ['Coles Supermarkets', '23 November 2007', 'Coles Group', 'Wesfarmers', 'Australian']\n",
            "before: ['aroma', 'first']\n",
            "after: ['aroma']\n",
            "before: ['']\n",
            "after: ['']\n",
            "before: ['between 1308 and 1310', 'Paris']\n",
            "after: ['between 1308 and 1310', 'Paris']\n",
            "before: ['Tortugas Bank']\n",
            "after: ['Tortugas Bank']\n",
            "before: ['three', 'Jesus', 'two']\n",
            "after: ['Jesus']\n",
            "before: ['\"Happy Gilmore\"', 'Adam Sandler', 'Barker', '1996']\n",
            "after: ['\"Happy Gilmore\"', 'Adam Sandler', 'Barker', '1996']\n",
            "before: ['Career Berzelius', 'Östergötland', 'Väversunda', 'Sweden']\n",
            "after: ['Career Berzelius', 'Östergötland', 'Väversunda', 'Sweden']\n",
            "before: ['Dave Hampton', 'Caleb Chung', '9 months', 'Furby']\n",
            "after: ['Dave Hampton', 'Caleb Chung', '9 months', 'Furby']\n",
            "before: ['South East Queensland', 'Sunshine Coasts', 'Logan City', 'Toowoomba', 'Brisbane', 'Ipswich', 'Gold']\n",
            "after: ['South East Queensland', 'Sunshine Coasts', 'Logan City', 'Toowoomba', 'Brisbane', 'Ipswich', 'Gold']\n",
            "before: ['Vitamin B']\n",
            "after: ['Vitamin B']\n",
            "before: ['\"Gulf of California\"', 'English']\n",
            "after: ['\"Gulf of California\"', 'English']\n",
            "before: ['the early afternoon', '00', '1']\n",
            "after: ['the early afternoon', '00', '1']\n",
            "before: ['the United States']\n",
            "after: ['the United States']\n",
            "before: ['Libourne', 'Dordogne', 'Isle']\n",
            "after: ['Libourne', 'Dordogne', 'Isle']\n",
            "before: ['Hattie Durham', 'Cameron', 'Noble']\n",
            "after: ['Hattie Durham', 'Cameron', 'Noble']\n",
            "before: ['Conn Smythe of the Maple Leafs', 'Art Ross of the Bruins', 'the end of the fifth', 'Frank Calder']\n",
            "after: ['Conn Smythe of the Maple Leafs', 'Art Ross of the Bruins', 'the end of the fifth', 'Frank Calder']\n",
            "before: ['Wilson', '1836']\n",
            "after: ['Wilson', '1836']\n",
            "before: ['Manchester', 'Twin']\n",
            "after: ['Manchester', 'Twin']\n",
            "before: ['Pantaléon Enrique Costanzo Granados y Campiña', 'between July 27, 1867 and March 24, 1916', 'Spanish Catalan', 'This']\n",
            "after: ['Pantaléon Enrique Costanzo Granados y Campiña', 'between July 27, 1867 and March 24, 1916', 'Spanish Catalan']\n",
            "before: ['the Leeward Islands', 'Hurricane Dog', 'Antigua', 'It']\n",
            "after: ['the Leeward Islands', 'Hurricane Dog', 'Antigua']\n",
            "before: ['Collectivity of St', 'St. Martin', 'French', 'France', 'It']\n",
            "after: ['Collectivity of St', 'St. Martin', 'French', 'France']\n",
            "before: ['This']\n",
            "after: []\n",
            "before: ['Passenger', 'Forbes', '1983']\n",
            "after: ['Passenger', 'Forbes', '1983']\n",
            "before: ['ska']\n",
            "after: ['ska']\n",
            "before: ['Hindenburg Kaserne in Ansbach in', 'the 4th Armored Division', 'the 1st Armored Division', 'Armored Division in', '1957', '1971', '1972']\n",
            "after: ['Hindenburg Kaserne in Ansbach in', 'the 4th Armored Division', 'the 1st Armored Division', 'Armored Division in', '1957', '1971', '1972']\n",
            "before: ['ISBN 1559390506', '978-155390507', 'Blackman', 'Sushila', '1997']\n",
            "after: ['ISBN 1559390506', '978-155390507', 'Blackman', 'Sushila', '1997']\n",
            "before: ['sixth, seventh', 'eighth']\n",
            "after: ['sixth, seventh', 'eighth']\n",
            "before: ['Manhattan Minute in', '2006']\n",
            "after: ['Manhattan Minute in', '2006']\n",
            "before: ['early morning', 'Spain', 'Hot']\n",
            "after: ['early morning', 'Spain', 'Hot']\n",
            "before: ['January 20, 1986', 'Voyager 2', 'S', 'U']\n",
            "after: ['January 20, 1986', 'Voyager 2']\n",
            "before: ['White Oak', 'Princeton']\n",
            "after: ['White Oak', 'Princeton']\n",
            "before: ['']\n",
            "after: ['']\n",
            "before: ['Establishment for the increase & diffusion of Knowledge', 'Henry James Hungerford', 'Smithson', 'US']\n",
            "after: ['Establishment for the increase & diffusion of Knowledge', 'Henry James Hungerford', 'Smithson', 'US']\n",
            "before: ['Satan']\n",
            "after: ['Satan']\n",
            "before: ['Spandau Prison in', '1947']\n",
            "after: ['Spandau Prison in', '1947']\n",
            "before: ['']\n",
            "after: ['']\n",
            "before: ['Sony Computer Entertainment', 'Guerrilla Games', 'PlayStation 3', 'Killzone 2', 'first', 'FPS', 'It']\n",
            "after: ['Sony Computer Entertainment', 'Guerrilla Games', 'PlayStation 3', 'Killzone 2', 'FPS']\n",
            "before: ['Hassocks', 'Clayton', 'Keymer', 'It']\n",
            "after: ['Hassocks', 'Clayton', 'Keymer']\n",
            "before: ['Combined', 'Also', '40%', '50%']\n",
            "after: ['Combined', '40%', '50%']\n",
            "before: ['the United Kingdom', 'category']\n",
            "after: ['the United Kingdom', 'category']\n",
            "before: ['World Champion Rob Van Dam', 'Edge in']\n",
            "after: ['World Champion Rob Van Dam', 'Edge in']\n",
            "before: ['Ironically', 'Vyvyan', 'Rick', 'two']\n",
            "after: ['Ironically', 'Vyvyan', 'Rick']\n",
            "before: ['the Minister of Commerce and Industry', 'year later']\n",
            "after: ['the Minister of Commerce and Industry', 'year later']\n",
            "before: ['today', '1975', 'two']\n",
            "after: ['today', '1975']\n",
            "before: ['more than 160,000', 'Shinkansen', 'It']\n",
            "after: ['more than 160,000', 'Shinkansen']\n",
            "before: ['Glenrowan']\n",
            "after: ['Glenrowan']\n",
            "before: ['subunguis', 'It']\n",
            "after: ['subunguis']\n",
            "before: ['Tobacco', '1984', 'In']\n",
            "after: ['Tobacco', '1984']\n",
            "before: ['BC in Olympia', 'Records', 'Greece', '776']\n",
            "after: ['BC in Olympia', 'Records', 'Greece', '776']\n",
            "before: ['']\n",
            "after: ['']\n",
            "before: ['Miller', 'Though', 'third']\n",
            "after: ['Miller']\n",
            "before: ['INVEST', 'Storm', '2006', '91', 'C']\n",
            "after: ['INVEST', 'Storm', '2006', '91']\n",
            "before: ['the NHC Public Advisory Archive', 'Hurricane Karl']\n",
            "after: ['the NHC Public Advisory Archive', 'Hurricane Karl']\n",
            "before: ['Lonely Mountain Jar Gravestone', 'The Hobbit', 'first', '1937']\n",
            "after: ['Lonely Mountain Jar Gravestone', 'The Hobbit', '1937']\n",
            "before: ['the Eastern Pacific', 'the Pacific coast', 'Tropical', 'Arizona', 'Mexico']\n",
            "after: ['the Eastern Pacific', 'the Pacific coast', 'Tropical', 'Arizona', 'Mexico']\n",
            "before: ['Chianti Superiore', 'Florence', 'Italian', 'Pistoia', 'Tuscany', 'Arezzo', 'Prato', 'Siena', 'Pisa']\n",
            "after: ['Chianti Superiore', 'Florence', 'Italian', 'Pistoia', 'Tuscany', 'Arezzo', 'Prato', 'Siena', 'Pisa']\n",
            "before: ['Thinner by Stephen King', 'Richard Bachman', '1984']\n",
            "after: ['Thinner by Stephen King', 'Richard Bachman', '1984']\n",
            "before: ['Bollywood', 'Indian']\n",
            "after: ['Bollywood', 'Indian']\n",
            "before: ['Reasons']\n",
            "after: ['Reasons']\n",
            "before: ['Machiavelli', 'The Prince', 'Niccol']\n",
            "after: ['Machiavelli', 'The Prince', 'Niccol']\n",
            "before: ['Blessed Assurance', 'Hughes']\n",
            "after: ['Blessed Assurance', 'Hughes']\n",
            "before: ['Nash, Edgecombe', 'Wilson County', 'Johnston', 'Wayne', '1855', 'NC']\n",
            "after: ['Nash, Edgecombe', 'Wilson County', 'Johnston', 'Wayne', '1855', 'NC']\n",
            "before: ['Kingfisher', 'Watonga', 'Geary']\n",
            "after: ['Kingfisher', 'Watonga', 'Geary']\n",
            "before: ['Commissioners', 'Young Tank']\n",
            "after: ['Commissioners', 'Young Tank']\n",
            "before: ['Countess', 'Susanna']\n",
            "after: ['Countess', 'Susanna']\n",
            "before: ['Headbangers Ball', 'first', '20th', 'MTV']\n",
            "after: ['Headbangers Ball', '20th', 'MTV']\n",
            "before: ['Hohenzollern', 'Württemberg', 'Swabia', 'Baden', '1951', 'They']\n",
            "after: ['Hohenzollern', 'Württemberg', 'Swabia', 'Baden', '1951']\n",
            "before: ['Chinese', 'Indian', '1835']\n",
            "after: ['Chinese', 'Indian', '1835']\n",
            "before: ['Marxists Internet Archive', 'socialists', 'MIA']\n",
            "after: ['Marxists Internet Archive', 'socialists', 'MIA']\n",
            "before: ['V']\n",
            "after: []\n",
            "before: ['Kilcummin in County Mayo', 'French', 'Irish']\n",
            "after: ['Kilcummin in County Mayo', 'French', 'Irish']\n",
            "before: ['Co']\n",
            "after: []\n",
            "before: ['']\n",
            "after: ['']\n",
            "before: ['Zhengzhou City Henan Province in Dengfeng', 'Shaolin Monastery/Temple', 'Chán Buddhist', 'Song Shan', 'China']\n",
            "after: ['Zhengzhou City Henan Province in Dengfeng', 'Shaolin Monastery/Temple', 'Chán Buddhist', 'Song Shan', 'China']\n",
            "before: ['Violet']\n",
            "after: ['Violet']\n",
            "before: ['zero', 'one', 'two']\n",
            "after: []\n",
            "before: ['']\n",
            "after: ['']\n",
            "before: ['the North American Plate', 'the Farallon Plate', '200', '30']\n",
            "after: ['the North American Plate', 'the Farallon Plate', '200', '30']\n",
            "before: ['British', 'Cheema']\n",
            "after: ['British', 'Cheema']\n",
            "before: ['one year as of 2007', 'two']\n",
            "after: ['one year as of 2007']\n",
            "before: ['the late 1700s', 'a few miles', 'Spanish', 'Seville', 'It']\n",
            "after: ['the late 1700s', 'a few miles', 'Spanish', 'Seville']\n",
            "before: ['Andover', 'Kansas', 'year', 'F', '5']\n",
            "after: ['Andover', 'Kansas', 'year', '5']\n",
            "before: ['Greifswald', 'Hanseatic']\n",
            "after: ['Greifswald', 'Hanseatic']\n",
            "before: ['Games 1, 2', 'Games 3', '5', '7', '4', '6']\n",
            "after: ['Games 1, 2', 'Games 3', '5', '7', '4', '6']\n",
            "before: ['']\n",
            "after: ['']\n",
            "before: ['United States']\n",
            "after: ['United States']\n",
            "before: ['the 1900s']\n",
            "after: ['the 1900s']\n",
            "before: ['Article 166 of the Ottoman Penal Code 166', 'the Russo-Turkish War', 'Russo-Turkish War of', 'Erzerum Cathedral', '1878']\n",
            "after: ['Article 166 of the Ottoman Penal Code 166', 'the Russo-Turkish War', 'Russo-Turkish War of', 'Erzerum Cathedral', '1878']\n",
            "before: ['Bilsteiner Kreis in', '1817', 'Olpe', '1819']\n",
            "after: ['Bilsteiner Kreis in', '1817', 'Olpe', '1819']\n",
            "before: ['Occulting', 'Eunomia', '3']\n",
            "after: ['Occulting', 'Eunomia', '3']\n",
            "before: ['ISO 4217', 'Original', 'RD$', 'DOP']\n",
            "after: ['ISO 4217', 'Original', 'RD$', 'DOP']\n",
            "before: ['nuevo tango', 'It']\n",
            "after: ['nuevo tango']\n",
            "before: ['Lahore', '1915']\n",
            "after: ['Lahore', '1915']\n",
            "before: ['Wagner']\n",
            "after: ['Wagner']\n",
            "before: ['the Association of American Railroads', 'Mississippi', 'Osyka', 'This', 'CN']\n",
            "after: ['the Association of American Railroads', 'Mississippi', 'Osyka', 'CN']\n",
            "before: ['Key']\n",
            "after: ['Key']\n",
            "before: ['Abu Dhabi', 'Dubai', 'West']\n",
            "after: ['Abu Dhabi', 'Dubai', 'West']\n",
            "before: ['August Kopff in', '1907']\n",
            "after: ['August Kopff in', '1907']\n",
            "before: ['19 September']\n",
            "after: ['19 September']\n",
            "before: ['Basilio', 'Figaro', 'Count']\n",
            "after: ['Basilio', 'Figaro', 'Count']\n",
            "before: ['Solothurn in Switzerland', 'canton', 'Thal', 'ten']\n",
            "after: ['Solothurn in Switzerland', 'canton', 'Thal', 'ten']\n",
            "before: ['Quentin Tarantino', 'Lawrence Tierney', 'Michael Madsen', 'Reservoir Dogs', 'Harvey Keitel', 'Steve Buscemi', 'Chris Penn', 'Tim Roth']\n",
            "after: ['Quentin Tarantino', 'Lawrence Tierney', 'Michael Madsen', 'Reservoir Dogs', 'Harvey Keitel', 'Steve Buscemi', 'Chris Penn', 'Tim Roth']\n",
            "before: ['Smash Hits', 'Piper']\n",
            "after: ['Smash Hits', 'Piper']\n",
            "before: ['Salandi Choki Seergah Dana Choaha Planni Bagla Sorrah Schools Public', 'Mohallas Nuryali Chakargally Tipper Ban', 'Government']\n",
            "after: ['Salandi Choki Seergah Dana Choaha Planni Bagla Sorrah Schools Public', 'Mohallas Nuryali Chakargally Tipper Ban', 'Government']\n",
            "before: ['the New York National Symphony Orchestra', 'Philharmonic', 'Washington', 'Mergers', '1921', 'D.C.', 'In']\n",
            "after: ['the New York National Symphony Orchestra', 'Philharmonic', 'Washington', 'Mergers', '1921', 'D.C.']\n",
            "before: ['the Clayton Tunnel', 'up to two years', 'the South Downs', '6,000']\n",
            "after: ['the Clayton Tunnel', 'up to two years', 'the South Downs', '6,000']\n",
            "before: ['Alexander Cartwright', 'one']\n",
            "after: ['Alexander Cartwright']\n",
            "before: ['Pakistani', 'American']\n",
            "after: ['Pakistani', 'American']\n",
            "before: ['']\n",
            "after: ['']\n",
            "before: ['Sudarium of St. Veronica', 'Jesus', '1649']\n",
            "after: ['Sudarium of St. Veronica', 'Jesus', '1649']\n",
            "before: ['the \"Smith and Jones', '31 March 2007', 'UK']\n",
            "after: ['the \"Smith and Jones', '31 March 2007', 'UK']\n",
            "before: ['the Hertz Effect', 'American']\n",
            "after: ['the Hertz Effect', 'American']\n",
            "before: ['Habsburg Austria', 'Prussia', 'Russia', 'Common']\n",
            "after: ['Habsburg Austria', 'Prussia', 'Russia', 'Common']\n",
            "before: ['Witnessing the', 'Owen', 'Jack']\n",
            "after: ['Witnessing the', 'Owen', 'Jack']\n",
            "before: ['1980', '1990', 'Yun']\n",
            "after: ['1980', '1990', 'Yun']\n",
            "before: ['']\n",
            "after: ['']\n",
            "before: ['Yackandandah', 'Gundowring', 'Beechworth', 'Kergunyah', 'Smaller', 'Still', 'CFA']\n",
            "after: ['Yackandandah', 'Gundowring', 'Beechworth', 'Kergunyah', 'Smaller', 'CFA']\n",
            "before: ['DeLillo', 'Libra', '1988']\n",
            "after: ['DeLillo', 'Libra', '1988']\n",
            "before: ['Jacques René Chirac', 'President of France', '29 November 1932', 'May  17, 1995', 'May 16, 2007']\n",
            "after: ['Jacques René Chirac', 'President of France', '29 November 1932', 'May  17, 1995', 'May 16, 2007']\n",
            "before: ['the Police Regulation Act', 'Police Regulation Act of', 'the Western District', 'Pottinger', '1862']\n",
            "after: ['the Police Regulation Act', 'Police Regulation Act of', 'the Western District', 'Pottinger', '1862']\n",
            "before: ['Simon de Montfort', 'Earl of Leicester', 'Parliament in', '1265', '6th']\n",
            "after: ['Simon de Montfort', 'Earl of Leicester', 'Parliament in', '1265', '6th']\n",
            "before: ['Persepolis', 'Pasargadae', 'Persian', 'Darius']\n",
            "after: ['Persepolis', 'Pasargadae', 'Persian', 'Darius']\n",
            "before: ['King Stephan V of Hungary', 'Bulgaria in', '1268']\n",
            "after: ['King Stephan V of Hungary', 'Bulgaria in', '1268']\n",
            "before: ['February 19, 1911 –', 'December 24, 1999', \"Bill ' Bowerman\", \"William J. '\", 'American', 'Nike', 'Inc']\n",
            "after: ['February 19, 1911 –', 'December 24, 1999', \"Bill ' Bowerman\", \"William J. '\", 'American', 'Nike']\n",
            "before: ['the Loy Yang Power Station']\n",
            "after: ['the Loy Yang Power Station']\n",
            "before: ['Manchester Metrolink', 'the United Kingdom', 'first', '1992']\n",
            "after: ['Manchester Metrolink', 'the United Kingdom', '1992']\n",
            "before: ['Noli Me Tangere', '29 March 1887', 'Germany', 'Berlin']\n",
            "after: ['Noli Me Tangere', '29 March 1887', 'Germany', 'Berlin']\n",
            "before: ['Syrian']\n",
            "after: ['Syrian']\n",
            "before: ['Washington County', 'Western Maryland']\n",
            "after: ['Washington County', 'Western Maryland']\n",
            "before: ['Lulusar lake', 'Naran Valley', 'nearly 48km']\n",
            "after: ['Lulusar lake', 'Naran Valley', 'nearly 48km']\n",
            "before: ['Jewelers']\n",
            "after: ['Jewelers']\n",
            "before: ['Emily Deschanel', 'Boreanaz', 'Bones', '2005']\n",
            "after: ['Emily Deschanel', 'Boreanaz', 'Bones', '2005']\n",
            "before: ['Honorary Commander of the Order of the British Empire', 'Honours Mitsuko Uchida', '2001', 'CBE']\n",
            "after: ['Honorary Commander of the Order of the British Empire', 'Honours Mitsuko Uchida', '2001', 'CBE']\n",
            "before: ['Bowell']\n",
            "after: ['Bowell']\n",
            "before: ['']\n",
            "after: ['']\n",
            "before: ['Roller Coaster Tycoon']\n",
            "after: ['Roller Coaster Tycoon']\n",
            "before: ['Women']\n",
            "after: ['Women']\n",
            "before: ['RfA']\n",
            "after: ['RfA']\n",
            "before: ['Eisenberg', 'Stadtroda', '1994', 'Jena']\n",
            "after: ['Eisenberg', 'Stadtroda', '1994', 'Jena']\n",
            "before: ['Minister of Transport', 'Barbara Castle', 'August 1967', 'Brixton']\n",
            "after: ['Minister of Transport', 'Barbara Castle', 'August 1967', 'Brixton']\n",
            "before: ['Laurenzenvorstadt']\n",
            "after: ['Laurenzenvorstadt']\n",
            "before: ['Paranthropus']\n",
            "after: ['Paranthropus']\n",
            "before: ['syntax']\n",
            "after: ['syntax']\n",
            "before: ['the Pacific Southwest', 'the Indian Ocean', 'Sea']\n",
            "after: ['the Pacific Southwest', 'the Indian Ocean', 'Sea']\n",
            "before: ['The Illusion of Life', 'Frank Thomas']\n",
            "after: ['The Illusion of Life', 'Frank Thomas']\n",
            "before: ['1.7 million', 'InStyle', '1994']\n",
            "after: ['1.7 million', 'InStyle', '1994']\n",
            "before: ['Kerberos']\n",
            "after: ['Kerberos']\n",
            "before: ['']\n",
            "after: ['']\n",
            "before: ['UEFA Champions League', 'Copenhagen', 'Benfica', 'Celtic', 'two', '1', '3', '0']\n",
            "after: ['UEFA Champions League', 'Copenhagen', 'Benfica', 'Celtic', '1', '3', '0']\n",
            "before: ['Kerberos', 'Messages']\n",
            "after: ['Kerberos', 'Messages']\n",
            "before: ['Namli Maira', 'Bagnotar', 'Sarbhana', 'Bagh']\n",
            "after: ['Namli Maira', 'Bagnotar', 'Sarbhana', 'Bagh']\n",
            "before: ['Florida']\n",
            "after: ['Florida']\n",
            "before: ['National Express East Anglia']\n",
            "after: ['National Express East Anglia']\n",
            "before: ['Jimmy Wang Yang in the Tag', 'World Championship', 'Chavo Guerrero']\n",
            "after: ['Jimmy Wang Yang in the Tag', 'World Championship', 'Chavo Guerrero']\n",
            "before: ['Saturn XXI', 'Tarvos']\n",
            "after: ['Saturn XXI', 'Tarvos']\n",
            "before: ['about 4 miles', 'same year', '6 km']\n",
            "after: ['about 4 miles', 'same year', '6 km']\n",
            "before: ['Legend of the Seven Stars', 'Super Mario RPG', 'Square Enix', 'Nintendo', 'Japan']\n",
            "after: ['Legend of the Seven Stars', 'Super Mario RPG', 'Square Enix', 'Nintendo', 'Japan']\n",
            "before: ['']\n",
            "after: ['']\n",
            "before: ['Never Walk Alone', 'Berlin Live 8', 'Broadway', 'Carousel', 'Leaving', '2005', 'You']\n",
            "after: ['Never Walk Alone', 'Berlin Live 8', 'Broadway', 'Carousel', 'Leaving', '2005']\n",
            "before: ['Also']\n",
            "after: []\n",
            "before: ['Anguidae', 'Celestus']\n",
            "after: ['Anguidae', 'Celestus']\n",
            "before: ['the cold war', 'the 1990s', 'Asian']\n",
            "after: ['the cold war', 'the 1990s', 'Asian']\n",
            "before: ['Drug Enforcement Administration', 'Reorganization Plan No. 2', 'President Richard Nixon', 'the 1 July 1973', '28 March 1973']\n",
            "after: ['Drug Enforcement Administration', 'Reorganization Plan No. 2', 'President Richard Nixon', 'the 1 July 1973', '28 March 1973']\n",
            "before: ['Denmark National Coat of Arms', '3', '9']\n",
            "after: ['Denmark National Coat of Arms', '3', '9']\n",
            "before: ['Admirals']\n",
            "after: ['Admirals']\n",
            "before: ['San Antonio Spurs', 'Texas']\n",
            "after: ['San Antonio Spurs', 'Texas']\n",
            "before: ['Performing SSL', 'SSL & TLS']\n",
            "after: ['Performing SSL', 'SSL & TLS']\n",
            "before: ['the Mario Superstar Baseball', 'Super Mario Strikers', 'Mario Tennis', 'Mario Golf', 'Camelot']\n",
            "after: ['the Mario Superstar Baseball', 'Super Mario Strikers', 'Mario Tennis', 'Mario Golf', 'Camelot']\n",
            "before: ['the New York Times Bestseller List', 'Moods That Make My Day', 'Today I Feel Silly', '9 weeks', '1998']\n",
            "after: ['the New York Times Bestseller List', 'Moods That Make My Day', 'Today I Feel Silly', '9 weeks', '1998']\n",
            "before: ['Sunni-Shia', 'Muslims', 'Islam']\n",
            "after: ['Sunni-Shia', 'Muslims', 'Islam']\n",
            "before: ['two']\n",
            "after: []\n",
            "before: ['the Soanian Culture']\n",
            "after: ['the Soanian Culture']\n",
            "before: ['DNA']\n",
            "after: ['DNA']\n",
            "before: ['Melodifestivalen 2008', 'Mickey Huskic', 'february 23', 'three', 'Oliv']\n",
            "after: ['Melodifestivalen 2008', 'Mickey Huskic', 'february 23', 'Oliv']\n",
            "before: ['ten straight days', 'Muslims', 'Islam']\n",
            "after: ['ten straight days', 'Muslims', 'Islam']\n",
            "before: ['']\n",
            "after: ['']\n",
            "before: ['Free Lossless Audio Codec', 'FLAC']\n",
            "after: ['Free Lossless Audio Codec', 'FLAC']\n",
            "before: ['2006', '12', '19']\n",
            "after: ['2006', '12', '19']\n",
            "before: ['Vättern']\n",
            "after: ['Vättern']\n",
            "before: ['July']\n",
            "after: ['July']\n",
            "before: ['Princess Louise', 'King Edward VII', 'Alexander Duff', 'Lady Agnes Hay']\n",
            "after: ['Princess Louise', 'King Edward VII', 'Alexander Duff', 'Lady Agnes Hay']\n",
            "before: ['Greater Santiago', 'Chile']\n",
            "after: ['Greater Santiago', 'Chile']\n",
            "before: ['Selling']\n",
            "after: ['Selling']\n",
            "before: ['78%', '21%']\n",
            "after: ['78%', '21%']\n",
            "before: ['Doctor Who', 'tenth', '2007', '2008']\n",
            "after: ['Doctor Who', 'tenth', '2007', '2008']\n",
            "before: ['Luciano Spinosi', 'May 1950', 'Italian', 'Rome']\n",
            "after: ['Luciano Spinosi', 'May 1950', 'Italian', 'Rome']\n",
            "before: ['George Newbold Lawrence', 'Etymology The', 'American']\n",
            "after: ['George Newbold Lawrence', 'Etymology The', 'American']\n",
            "before: ['Brunton Avenue', 'Swan Street', 'Punt Road']\n",
            "after: ['Brunton Avenue', 'Swan Street', 'Punt Road']\n",
            "before: ['History The', 'Marienberg', 'Zschopau', '1994', 'two']\n",
            "after: ['History The', 'Marienberg', 'Zschopau', '1994']\n",
            "before: ['January 4, 1999', 'the early 1990s', 'Cactus Jack', 'Mick Foley', 'WWF Title', 'Mankind', 'WCW', 'Raw']\n",
            "after: ['January 4, 1999', 'the early 1990s', 'Cactus Jack', 'Mick Foley', 'WWF Title', 'Mankind', 'WCW', 'Raw']\n",
            "before: ['Jordison', 'Taylor']\n",
            "after: ['Jordison', 'Taylor']\n",
            "before: ['minuet']\n",
            "after: ['minuet']\n",
            "before: ['Paray']\n",
            "after: ['Paray']\n",
            "before: ['']\n",
            "after: ['']\n",
            "before: ['Frederick Hubbard \"', 'July 10, 1926', 'July 2, 1993', 'American', 'Gwynne']\n",
            "after: ['Frederick Hubbard \"', 'July 10, 1926', 'July 2, 1993', 'American', 'Gwynne']\n",
            "before: ['Give It A Name Festival', 'Roskilde', 'Download', 'Pinkpop', 'Rock', 'Ring']\n",
            "after: ['Give It A Name Festival', 'Roskilde', 'Download', 'Pinkpop', 'Rock', 'Ring']\n",
            "before: ['InterCity', 'SkyTrain', '2002']\n",
            "after: ['InterCity', 'SkyTrain', '2002']\n",
            "before: ['18,575.5 square kilometers', '7,172 square miles', 'Taiwan', 'Approx', 'half']\n",
            "after: ['18,575.5 square kilometers', '7,172 square miles', 'Taiwan', 'Approx', 'half']\n",
            "before: ['Reality TV']\n",
            "after: ['Reality TV']\n",
            "before: ['Pritzwalk', 'wolf']\n",
            "after: ['Pritzwalk', 'wolf']\n",
            "before: ['Fossils Canowindra', 'one']\n",
            "after: ['Fossils Canowindra']\n",
            "before: ['two qnomes', 'Christ', 'one']\n",
            "after: ['two qnomes', 'Christ']\n",
            "before: ['Satyros', 'Pythus', 'Greek']\n",
            "after: ['Satyros', 'Pythus', 'Greek']\n",
            "before: ['the Maritime Service Board', 'James Cargill', '8.30 pm']\n",
            "after: ['the Maritime Service Board', 'James Cargill', '8.30 pm']\n",
            "before: ['the 12th and 13th centuries', 'Wales in the']\n",
            "after: ['the 12th and 13th centuries', 'Wales in the']\n",
            "before: ['']\n",
            "after: ['']\n",
            "before: ['']\n",
            "after: ['']\n",
            "before: [\"Triple H's\", 'Michaels', 'Kenny', 'This']\n",
            "after: [\"Triple H's\", 'Michaels', 'Kenny']\n",
            "before: ['Eunomia']\n",
            "after: ['Eunomia']\n",
            "before: ['This']\n",
            "after: []\n",
            "before: ['the Roman Empire', 'the 1st century', 'Romans in the', 'Judea', 'This', 'BCE']\n",
            "after: ['the Roman Empire', 'the 1st century', 'Romans in the', 'Judea', 'BCE']\n",
            "before: ['']\n",
            "after: ['']\n",
            "before: ['Han Chinese', 'Manchu']\n",
            "after: ['Han Chinese', 'Manchu']\n",
            "before: ['Riluzole', 'Clinical', 'ALS']\n",
            "after: ['Riluzole', 'Clinical', 'ALS']\n",
            "before: ['Israel', 'third']\n",
            "after: ['Israel']\n",
            "before: ['Orenthal James \"O. J.\" Simpson', 'July 9, 1947', '\"The Juice', 'American']\n",
            "after: ['Orenthal James \"O. J.\" Simpson', 'July 9, 1947', '\"The Juice', 'American']\n",
            "before: ['American', 'Soviet']\n",
            "after: ['American', 'Soviet']\n",
            "before: ['the Data Encryption Standard', 'AES', 'DES']\n",
            "after: ['the Data Encryption Standard', 'AES', 'DES']\n",
            "before: ['Carpets']\n",
            "after: ['Carpets']\n",
            "before: ['Cranbourne']\n",
            "after: ['Cranbourne']\n",
            "before: ['']\n",
            "after: ['']\n",
            "before: ['The X Factor and America', 'Got Talent', 'Osbourne']\n",
            "after: ['The X Factor and America', 'Got Talent', 'Osbourne']\n",
            "before: ['Bangui']\n",
            "after: ['Bangui']\n",
            "before: ['1950', '28']\n",
            "after: ['1950', '28']\n",
            "before: ['Pontedera', 'Italian', 'Tuscany', 'Italy', 'Pisa']\n",
            "after: ['Pontedera', 'Italian', 'Tuscany', 'Italy', 'Pisa']\n",
            "before: ['four', '10']\n",
            "after: ['10']\n",
            "before: ['Sir Simon Denis Rattle', 'January 1955', 'British', 'FRSA', 'CBE']\n",
            "after: ['Sir Simon Denis Rattle', 'January 1955', 'British', 'FRSA', 'CBE']\n",
            "before: ['Emmerich', 'Lothar', 'German', 'Emma']\n",
            "after: ['Emmerich', 'Lothar', 'German', 'Emma']\n",
            "before: ['']\n",
            "after: ['']\n",
            "before: ['South Africa', 'Pretoria', '1961']\n",
            "after: ['South Africa', 'Pretoria', '1961']\n",
            "before: ['the 1960s', 'Leopoldt', 'Kubota']\n",
            "after: ['the 1960s', 'Leopoldt', 'Kubota']\n",
            "before: ['early 1980s', 'the 1960s,', '1970s', 'TAR']\n",
            "after: ['early 1980s', 'the 1960s,', '1970s', 'TAR']\n",
            "before: ['the Icelandic Commonwealth', 'Norwegian']\n",
            "after: ['the Icelandic Commonwealth', 'Norwegian']\n",
            "before: ['Initially', 'Apple II']\n",
            "after: ['Initially', 'Apple II']\n",
            "before: ['Queen Elizabeth Hotel in Montreal', 'the Queen Elizabeth Hotel', 'John Lennon', 'Yoko Ono', 'Quebec']\n",
            "after: ['Queen Elizabeth Hotel in Montreal', 'the Queen Elizabeth Hotel', 'John Lennon', 'Yoko Ono', 'Quebec']\n",
            "before: ['first', '58', '77']\n",
            "after: ['58', '77']\n",
            "before: ['History The Mail', 'the Daily Mail', 'May 2nd, 1982', 'Sunday', 'first']\n",
            "after: ['History The Mail', 'the Daily Mail', 'May 2nd, 1982', 'Sunday']\n",
            "before: ['earth']\n",
            "after: ['earth']\n",
            "before: ['Java Virtual Machine (JVM', 'Windows 2000', 'Microsoft', 'SP3']\n",
            "after: ['Java Virtual Machine (JVM', 'Windows 2000', 'Microsoft', 'SP3']\n",
            "before: ['Women']\n",
            "after: ['Women']\n",
            "before: ['February 8th, 1974', 'Bahamian-American', 'Kevin Ferguson', 'Kimbo Slice']\n",
            "after: ['February 8th, 1974', 'Bahamian-American', 'Kevin Ferguson', 'Kimbo Slice']\n",
            "before: ['Uri and Ticino', 'Swiss', 'Bern', 'Vaud']\n",
            "after: ['Uri and Ticino', 'Swiss', 'Bern', 'Vaud']\n",
            "before: ['South Somerset in Somerset', 'England']\n",
            "after: ['South Somerset in Somerset', 'England']\n",
            "before: ['And']\n",
            "after: []\n",
            "before: ['Nearly 10%', 'Runestones']\n",
            "after: ['Nearly 10%', 'Runestones']\n",
            "before: ['the Columbia Symphony Orchestra', 'the years before']\n",
            "after: ['the Columbia Symphony Orchestra', 'the years before']\n",
            "before: ['Château de Tarascon', 'today']\n",
            "after: ['Château de Tarascon', 'today']\n",
            "before: ['Hong Kong', 'Singapore', 'Malaysia', 'China']\n",
            "after: ['Hong Kong', 'Singapore', 'Malaysia', 'China']\n",
            "before: ['Delovoi Tsentr of Kalininskaya', 'Kalininskaya & Solntsevskaya', 'Park Pobedy of Solntsevskaya', 'Tagansko-Krasnopresnenskaya', 'Volokolamskaya of Tagansko', '4']\n",
            "after: ['Delovoi Tsentr of Kalininskaya', 'Kalininskaya & Solntsevskaya', 'Park Pobedy of Solntsevskaya', 'Tagansko-Krasnopresnenskaya', 'Volokolamskaya of Tagansko', '4']\n",
            "before: ['Henry Hugo Pierson in Stuttgart', 'Edward Dannreuther in London', 'William Sterndale Bennett', 'English']\n",
            "after: ['Henry Hugo Pierson in Stuttgart', 'Edward Dannreuther in London', 'William Sterndale Bennett', 'English']\n",
            "before: ['Malchin and Neustrelitz', '6/12/1994', 'Röbel', 'Waren']\n",
            "after: ['Malchin and Neustrelitz', '6/12/1994', 'Röbel', 'Waren']\n",
            "before: ['the Battle of Milvian Bridge', 'Constantine I', 'October 28', 'Maxentius', '312']\n",
            "after: ['the Battle of Milvian Bridge', 'Constantine I', 'October 28', 'Maxentius', '312']\n",
            "before: ['July 14, 2006', 'MTV']\n",
            "after: ['July 14, 2006', 'MTV']\n",
            "before: ['Major League Baseball', 'the Chicago White Sox', 'August 27, 1970', 'James Howard', 'Thome', 'Jim']\n",
            "after: ['Major League Baseball', 'the Chicago White Sox', 'August 27, 1970', 'James Howard', 'Thome', 'Jim']\n",
            "before: ['']\n",
            "after: ['']\n",
            "before: ['House of Representatives of the', 'S. House of Representatives', 'Surnames Aaron Schock', 'District of Illinois', 'U.S.', '18th']\n",
            "after: ['House of Representatives of the', 'S. House of Representatives', 'Surnames Aaron Schock', 'District of Illinois', 'U.S.', '18th']\n",
            "before: ['Tarja Halonen', 'Today', 'SDP']\n",
            "after: ['Tarja Halonen', 'Today', 'SDP']\n",
            "before: ['the United States Code', 'the Census Bureau', 'Title 13']\n",
            "after: ['the United States Code', 'the Census Bureau', 'Title 13']\n",
            "before: ['g. Guinness']\n",
            "after: ['g. Guinness']\n",
            "before: ['Lower Egypt']\n",
            "after: ['Lower Egypt']\n",
            "before: ['']\n",
            "after: ['']\n",
            "before: ['Phil Downing', '2006']\n",
            "after: ['Phil Downing', '2006']\n",
            "before: ['English']\n",
            "after: ['English']\n",
            "before: ['Hindenburg']\n",
            "after: ['Hindenburg']\n",
            "before: ['Giant Hispaniolan Galliwasp', 'Celestus', 'Anguidae']\n",
            "after: ['Giant Hispaniolan Galliwasp', 'Celestus', 'Anguidae']\n",
            "before: ['One Hot Minute in', '1995']\n",
            "after: ['One Hot Minute in', '1995']\n",
            "before: ['']\n",
            "after: ['']\n",
            "before: ['the Karachi Port Trust', 'the nineteenth century']\n",
            "after: ['the Karachi Port Trust', 'the nineteenth century']\n",
            "before: ['the Data Encryption Standard', 'DES']\n",
            "after: ['the Data Encryption Standard', 'DES']\n",
            "before: ['Europe', 'Gothic']\n",
            "after: ['Europe', 'Gothic']\n",
            "before: ['A Song of Ice and Fire', 'George R. R. Martin', 'Storm of Swords', 'American', 'third', 'seven']\n",
            "after: ['A Song of Ice and Fire', 'George R. R. Martin', 'Storm of Swords', 'American']\n",
            "before: ['']\n",
            "after: ['']\n",
            "before: ['Wikipedia']\n",
            "after: ['Wikipedia']\n",
            "before: ['three months', 'North Sydney', '250']\n",
            "after: ['three months', 'North Sydney', '250']\n",
            "before: ['Saturday Night', 'Bobby Lashley', 'Rey Mysterio', 'King Booker', 'Mark Henry', 'Main Event', 'Batista', 'Finlay', 'six']\n",
            "after: ['Saturday Night', 'Bobby Lashley', 'Rey Mysterio', 'King Booker', 'Mark Henry', 'Main Event', 'Batista', 'Finlay']\n",
            "before: ['']\n",
            "after: ['']\n",
            "before: ['T. J. Hooker', '1982 to 1986', 'Shatner']\n",
            "after: ['T. J. Hooker', '1982 to 1986', 'Shatner']\n",
            "before: ['early the next day', 'Gabrielle']\n",
            "after: ['early the next day', 'Gabrielle']\n",
            "before: ['Economy The']\n",
            "after: ['Economy The']\n",
            "before: ['the Spy Kids Trilogy Spy Kids', 'almost $200 million', '2003 – 2005', 'Game Over', 'third', 'In', 'D']\n",
            "after: ['the Spy Kids Trilogy Spy Kids', 'almost $200 million', '2003 – 2005', 'Game Over']\n",
            "before: ['the Amadeus Quartet', 'Schidlof', '1987']\n",
            "after: ['the Amadeus Quartet', 'Schidlof', '1987']\n",
            "before: ['English', 'Wembley', 'Queen', \"' 86\", 'Live']\n",
            "after: ['English', 'Wembley', 'Queen', \"' 86\", 'Live']\n",
            "before: ['Hyperion Cantos', 'fourth']\n",
            "after: ['Hyperion Cantos', 'fourth']\n",
            "before: ['Hurricane Floyd in', 'Franklin', 'first', '1999']\n",
            "after: ['Hurricane Floyd in', 'Franklin', '1999']\n",
            "before: ['Reverend Derek Jones', 'Gaborone', 'Mayor']\n",
            "after: ['Reverend Derek Jones', 'Gaborone', 'Mayor']\n",
            "before: ['District of Mardan in Pakistan', 'the District of Mardan', 'Tehsils & Unions', '406 metres', '1335 feet', '34', '72', 'It', '26', 'N', 'E']\n",
            "after: ['District of Mardan in Pakistan', 'the District of Mardan', 'Tehsils & Unions', '406 metres', '1335 feet', '34', '72', '26']\n",
            "before: ['the Arno river', 'Florence']\n",
            "after: ['the Arno river', 'Florence']\n",
            "before: ['more than six hundred', 'Linux']\n",
            "after: ['more than six hundred', 'Linux']\n",
            "before: ['three-fold', 'Bisexual', 'one', 'two']\n",
            "after: ['three-fold', 'Bisexual']\n",
            "before: ['approximately one hour', 'the Gulf of Mexico', '2:00 a.m. m. EDT', 'August 26', 'Florida', '0600', 'UTC']\n",
            "after: ['approximately one hour', 'the Gulf of Mexico', '2:00 a.m. m. EDT', 'August 26', 'Florida', '0600', 'UTC']\n",
            "before: ['the First World War', 'the early years', 'the years', 'Fascist', 'Italy']\n",
            "after: ['the First World War', 'the early years', 'the years', 'Fascist', 'Italy']\n",
            "before: ['Berlin', 'Paris']\n",
            "after: ['Berlin', 'Paris']\n",
            "before: ['']\n",
            "after: ['']\n",
            "before: ['Le Verrier', 'Adams']\n",
            "after: ['Le Verrier', 'Adams']\n",
            "before: ['Gandhara / Kamboja Mahajanapadas', 'Macedonian', 'dozen', '326', 'BCE']\n",
            "after: ['Gandhara / Kamboja Mahajanapadas', 'Macedonian', 'dozen', '326', 'BCE']\n",
            "before: ['Britannica', 'Special', 'These']\n",
            "after: ['Britannica', 'Special']\n",
            "before: ['This']\n",
            "after: []\n",
            "before: ['At the']\n",
            "after: ['At the']\n",
            "before: ['Penshurst Place in Kent', 'the 14th century', 'England']\n",
            "after: ['Penshurst Place in Kent', 'the 14th century', 'England']\n",
            "before: ['abstract summary', 'digital signal']\n",
            "after: ['abstract summary', 'digital signal']\n",
            "before: ['North Tower of the World Trade Center', 'American Airlines Flight', 'the North Tower', 'Flight 11', 'Jules']\n",
            "after: ['North Tower of the World Trade Center', 'American Airlines Flight', 'the North Tower', 'Flight 11', 'Jules']\n",
            "before: ['October 14', 'U.S.', 'Cuba']\n",
            "after: ['October 14', 'U.S.', 'Cuba']\n",
            "before: ['Crusaders in the Battle of Hattin', 'the Sea of Galilee', 'Saladin', '1187']\n",
            "after: ['Crusaders in the Battle of Hattin', 'the Sea of Galilee', 'Saladin', '1187']\n",
            "before: ['Hall of Fame', 'Canadian', 'Nearctic', '1954-73']\n",
            "after: ['Hall of Fame', 'Canadian', 'Nearctic', '1954-73']\n",
            "before: ['the World Meteorological Organization', 'Hurricane Cindy', 'the 2011 season']\n",
            "after: ['the World Meteorological Organization', 'Hurricane Cindy', 'the 2011 season']\n",
            "before: ['Tibooburra', 'summer', 'F in', '104', '117']\n",
            "after: ['Tibooburra', 'summer', 'F in', '104', '117']\n",
            "before: ['Third', 'Thin']\n",
            "after: ['Thin']\n",
            "before: ['Oliver Rolf Kahn', '6/15/1969', 'Karlsruhe', 'German']\n",
            "after: ['Oliver Rolf Kahn', '6/15/1969', 'Karlsruhe', 'German']\n",
            "before: ['Karl Rubin', 'Euler']\n",
            "after: ['Karl Rubin', 'Euler']\n",
            "before: ['Waley in', 'Jewish', '1914']\n",
            "after: ['Waley in', 'Jewish', '1914']\n",
            "before: ['']\n",
            "after: ['']\n",
            "before: ['the 19th century', 'Lenzburg']\n",
            "after: ['the 19th century', 'Lenzburg']\n",
            "before: ['El Puerto de Santa Maria', 'hundreds', 'one']\n",
            "after: ['El Puerto de Santa Maria', 'hundreds']\n",
            "before: ['album']\n",
            "after: ['album']\n",
            "before: ['Gian Giacomo Medici', 'Florentine-Imperial', 'France in', 'Charles', '1552']\n",
            "after: ['Gian Giacomo Medici', 'Florentine-Imperial', 'France in', 'Charles', '1552']\n",
            "before: ['only one', 'Warner', 'seven', '2002', '0 3']\n",
            "after: ['only one', 'Warner', '2002', '0 3']\n",
            "before: ['the end of the 12th century', 'Europe']\n",
            "after: ['the end of the 12th century', 'Europe']\n",
            "before: [\"Chang'an\"]\n",
            "after: [\"Chang'an\"]\n",
            "before: ['Tenzin Gyatso', 'Dalai Lamas', 'Gendun Drup', '1391 – 1474', 'fourteenth', 'first']\n",
            "after: ['Tenzin Gyatso', 'Dalai Lamas', 'Gendun Drup', '1391 – 1474', 'fourteenth']\n",
            "before: ['Antix Productions', 'Yvette Fielding', 'Karl Beattie']\n",
            "after: ['Antix Productions', 'Yvette Fielding', 'Karl Beattie']\n",
            "before: ['Get Carter', 'Stallone', 'British', 'thesame', '1971']\n",
            "after: ['Get Carter', 'Stallone', 'British', 'thesame', '1971']\n",
            "before: ['']\n",
            "after: ['']\n",
            "before: ['6.37%']\n",
            "after: ['6.37%']\n",
            "before: ['European Championship']\n",
            "after: ['European Championship']\n",
            "before: ['Megalibgwilia', 'Australian']\n",
            "after: ['Megalibgwilia', 'Australian']\n",
            "before: ['North Atlantic Treaty Organization', 'the National Security Agency', 'Terrorists', 'Las Vegas', 'Rainbow', 'SWAT']\n",
            "after: ['North Atlantic Treaty Organization', 'the National Security Agency', 'Terrorists', 'Las Vegas', 'Rainbow', 'SWAT']\n",
            "before: ['Tropical Storm Zeta', 'Hurricane Alice', 'December', 'January', '1954', '2005']\n",
            "after: ['Tropical Storm Zeta', 'Hurricane Alice', 'December', 'January', '1954', '2005']\n",
            "before: ['Pays-de-la-Loire', 'Loire in', 'France', 'Sarthe', 'Aign']\n",
            "after: ['Pays-de-la-Loire', 'Loire in', 'France', 'Sarthe', 'Aign']\n",
            "before: ['Ibrahim Nafees', 'Waheed Murad', 'Shamim Ara', 'Talish', 'Deeba']\n",
            "after: ['Ibrahim Nafees', 'Waheed Murad', 'Shamim Ara', 'Talish', 'Deeba']\n",
            "before: ['Nikodinov', 'Bulgarian']\n",
            "after: ['Nikodinov', 'Bulgarian']\n",
            "before: ['the middle 50%', 'GPA of', '2006', '3.60', '3.90', '98%', '3.0']\n",
            "after: ['the middle 50%', 'GPA of', '2006', '3.60', '3.90', '98%', '3.0']\n",
            "before: ['80%', '8pt']\n",
            "after: ['80%', '8pt']\n",
            "before: ['History Rockingham', 'first', '1847', '1897']\n",
            "after: ['History Rockingham', '1847', '1897']\n",
            "before: ['Nan Chiau High School', 'Oen Siew Yock', '2005', 'Ong']\n",
            "after: ['Nan Chiau High School', 'Oen Siew Yock', '2005', 'Ong']\n",
            "before: ['Reichsfuhrer-SS Heinrich Himmler', 'the Waffen-SS', 'German', '1941']\n",
            "after: ['Reichsfuhrer-SS Heinrich Himmler', 'the Waffen-SS', 'German', '1941']\n",
            "before: ['Burgundy', 'Dijon']\n",
            "after: ['Burgundy', 'Dijon']\n",
            "before: ['Thursday Island', 'Australian']\n",
            "after: ['Thursday Island', 'Australian']\n",
            "before: ['Harlan Ellison', 'Spider Kiss', 'Rockabilly', '1961']\n",
            "after: ['Harlan Ellison', 'Spider Kiss', 'Rockabilly', '1961']\n",
            "before: ['the Cathedral of Canterbury', 'Canterbury of the Apoplexy', 'the age of 41']\n",
            "after: ['the Cathedral of Canterbury', 'Canterbury of the Apoplexy', 'the age of 41']\n",
            "before: ['Walter Baade in', '1949']\n",
            "after: ['Walter Baade in', '1949']\n",
            "before: ['Tirunelveli', 'Nellai']\n",
            "after: ['Tirunelveli', 'Nellai']\n",
            "before: ['44-47', 'The']\n",
            "after: ['44-47']\n",
            "before: ['the age of five', 'Montero', 'first']\n",
            "after: ['the age of five', 'Montero']\n",
            "before: ['Church of Satan', 'Therefore the']\n",
            "after: ['Church of Satan', 'Therefore the']\n",
            "before: ['September 16, 2004', 'February 16, 2005', 'The']\n",
            "after: ['September 16, 2004', 'February 16, 2005']\n",
            "before: ['July 19, 2000', 'JAM Project', 'He']\n",
            "after: ['July 19, 2000', 'JAM Project']\n",
            "before: ['Flemish Brabant', 'Zoutleeuw', 'Belgian']\n",
            "after: ['Flemish Brabant', 'Zoutleeuw', 'Belgian']\n",
            "before: ['Then', 'Zub']\n",
            "after: ['Zub']\n",
            "before: ['This']\n",
            "after: []\n",
            "before: ['Míkmaq', 'It']\n",
            "after: ['Míkmaq']\n",
            "before: ['thirteenth', 'Latin']\n",
            "after: ['thirteenth', 'Latin']\n",
            "before: ['the Swiss Federal Council', 'Josef Escher', 'Simplon', 'He']\n",
            "after: ['the Swiss Federal Council', 'Josef Escher', 'Simplon']\n",
            "before: ['Haworth Parsonage', 'Charlotte', 'Branwell', 'Emily', 'Anne']\n",
            "after: ['Haworth Parsonage', 'Charlotte', 'Branwell', 'Emily', 'Anne']\n",
            "before: ['the  foundation', 'The']\n",
            "after: ['the  foundation']\n",
            "before: ['Italian', 'Rore']\n",
            "after: ['Italian', 'Rore']\n",
            "before: ['Stieler']\n",
            "after: ['Stieler']\n",
            "before: ['Wilhelmina', 'German', 'Wilma', 'first']\n",
            "after: ['Wilhelmina', 'German', 'Wilma']\n",
            "before: ['the North Atlantic', 'Alberto,Helene', 'Debby Ernesto', 'Florence', 'Gordon', 'Beryl', 'Isaac', 'Chris', 'Storm', '2006']\n",
            "after: ['the North Atlantic', 'Alberto,Helene', 'Debby Ernesto', 'Florence', 'Gordon', 'Beryl', 'Isaac', 'Chris', 'Storm', '2006']\n",
            "before: ['Bloor-Danforth Line in', 'Extensions', '1980']\n",
            "after: ['Bloor-Danforth Line in', 'Extensions', '1980']\n",
            "before: ['Grazer Autorenversammlung', 'February 12, 2009', 'Klaus Ebner', 'Austrian', 'This', 'GAV', 'It']\n",
            "after: ['Grazer Autorenversammlung', 'February 12, 2009', 'Klaus Ebner', 'Austrian', 'GAV']\n",
            "before: ['the Hubble Space Telescope', 'Hubble Space Telescope in', 'Fortuna', '1993']\n",
            "after: ['the Hubble Space Telescope', 'Hubble Space Telescope in', 'Fortuna', '1993']\n",
            "before: ['Cuckold']\n",
            "after: ['Cuckold']\n",
            "before: ['Dwayne Wiggins of Tony', 'Rodney Jerkins', 'Missy Elliott', 'Chad Elliot', 'However', 'album', 'The']\n",
            "after: ['Dwayne Wiggins of Tony', 'Rodney Jerkins', 'Missy Elliott', 'Chad Elliot', 'album']\n",
            "before: ['the High Priestess and the Council of Nine', 'the Church of Satan consisting', 'Administrative', 'Membership']\n",
            "after: ['the High Priestess and the Council of Nine', 'the Church of Satan consisting', 'Administrative', 'Membership']\n",
            "before: ['Rhea Moon', 'three']\n",
            "after: ['Rhea Moon']\n",
            "before: ['Profit', 'TV']\n",
            "after: ['Profit', 'TV']\n",
            "before: ['Vietnam War', 'C Phantoms', 'Kang Chi', 'American', 'first', 'four', 'F', '4']\n",
            "after: ['Vietnam War', 'C Phantoms', 'Kang Chi', 'American', '4']\n",
            "before: ['Diagnosis']\n",
            "after: ['Diagnosis']\n",
            "before: ['Toller Shalitoe Montague Cranston', 'April 1949', 'Canadian', 'CM', '20']\n",
            "after: ['Toller Shalitoe Montague Cranston', 'April 1949', 'Canadian', 'CM', '20']\n",
            "before: ['Alabama', 'However']\n",
            "after: ['Alabama']\n",
            "before: ['Greek Basileus', 'Heraclius']\n",
            "after: ['Greek Basileus', 'Heraclius']\n",
            "before: ['Chronicler Juan de Betanzos', \"outlines Huáscar's\", 'Atahualpa']\n",
            "after: ['Chronicler Juan de Betanzos', \"outlines Huáscar's\", 'Atahualpa']\n",
            "before: ['Armenians in Shusha City', 'Interethnic']\n",
            "after: ['Armenians in Shusha City', 'Interethnic']\n",
            "before: ['']\n",
            "after: ['']\n",
            "before: ['Mobile', 'Web']\n",
            "after: ['Mobile', 'Web']\n",
            "before: ['Japanese Cloud Salamander', 'Hynobiidae', 'Hynobius']\n",
            "after: ['Japanese Cloud Salamander', 'Hynobiidae', 'Hynobius']\n",
            "before: ['Otto Ernst Remer', 'Major-General', 'Fritz Dorls']\n",
            "after: ['Otto Ernst Remer', 'Major-General', 'Fritz Dorls']\n",
            "before: ['Life in the Swamps The', 'the Devonian Sea', 'first', '365']\n",
            "after: ['Life in the Swamps The', 'the Devonian Sea', '365']\n",
            "before: ['eleven', 'Nordic', 'one']\n",
            "after: ['eleven', 'Nordic']\n",
            "before: ['Awake', '2007']\n",
            "after: ['Awake', '2007']\n",
            "before: ['the Indian Army', 'Company', '1858']\n",
            "after: ['the Indian Army', 'Company', '1858']\n",
            "before: ['St Andrew']\n",
            "after: ['St Andrew']\n",
            "before: ['Summer Olympics', 'the same year', 'Winter', '1992']\n",
            "after: ['Summer Olympics', 'the same year', 'Winter', '1992']\n",
            "before: ['the Stuttgart Radio Symphony Orchestra', 'Symphony Orchestra of Singapore', 'the London Symphony Orchestra', 'the New York Philharmonic', 'Hahn']\n",
            "after: ['the Stuttgart Radio Symphony Orchestra', 'Symphony Orchestra of Singapore', 'the London Symphony Orchestra', 'the New York Philharmonic', 'Hahn']\n",
            "before: ['the Somme Battle', '\"Night Waves', '30 June 2006', 'BBC Radio 3']\n",
            "after: ['the Somme Battle', '\"Night Waves', '30 June 2006', 'BBC Radio 3']\n",
            "before: ['December 26, 1936', 'Arturo Toscanini', 'Tel Aviv']\n",
            "after: ['December 26, 1936', 'Arturo Toscanini', 'Tel Aviv']\n",
            "before: ['June 11, 2007', 'first', '22', 'No']\n",
            "after: ['June 11, 2007', '22']\n",
            "before: ['Koweta Mission', 'Post Office', '1897']\n",
            "after: ['Koweta Mission', 'Post Office', '1897']\n",
            "before: ['the white strip', 'Gentoo Penguin', 'Pygoscelis']\n",
            "after: ['the white strip', 'Gentoo Penguin', 'Pygoscelis']\n",
            "before: ['Munroe Bight', 'James Munroe', 'Cape Pillar', 'American', '1850']\n",
            "after: ['Munroe Bight', 'James Munroe', 'Cape Pillar', 'American', '1850']\n",
            "before: ['Biblioteca Virtual Miguel de Cervantes', 'Larra in the Biblioteca Virtual Miguel', 'Mariano José de Larra', 'Check External']\n",
            "after: ['Biblioteca Virtual Miguel de Cervantes', 'Larra in the Biblioteca Virtual Miguel', 'Mariano José de Larra', 'Check External']\n",
            "before: ['Vatican City']\n",
            "after: ['Vatican City']\n",
            "before: ['Countess of Boulogne', 'around 1125']\n",
            "after: ['Countess of Boulogne', 'around 1125']\n",
            "before: ['Armand Jean du Plessis de Richelieu', 'French']\n",
            "after: ['Armand Jean du Plessis de Richelieu', 'French']\n",
            "before: ['']\n",
            "after: ['']\n",
            "before: ['Conjunction']\n",
            "after: ['Conjunction']\n",
            "before: ['South-East of Wishaw', 'South Lanarkshire', '5.4 miles', 'Scotland', 'Carluke', '5 miles']\n",
            "after: ['South-East of Wishaw', 'South Lanarkshire', '5.4 miles', 'Scotland', 'Carluke', '5 miles']\n",
            "before: ['the Stanley Cup Finals', 'the Conference Finals', 'third', 'two']\n",
            "after: ['the Stanley Cup Finals', 'the Conference Finals']\n",
            "before: ['three']\n",
            "after: []\n",
            "before: ['']\n",
            "after: ['']\n",
            "before: ['Angolan Civil War', 'Rwandan Genocide', 'over 1 million', '1994', 'UN']\n",
            "after: ['Angolan Civil War', 'Rwandan Genocide', 'over 1 million', '1994', 'UN']\n",
            "before: ['']\n",
            "after: ['']\n",
            "before: ['the United States of America', 'Bridges in the United States']\n",
            "after: ['the United States of America', 'Bridges in the United States']\n",
            "before: ['70% to 90%']\n",
            "after: ['70% to 90%']\n",
            "before: ['June 2001', 'WWF']\n",
            "after: ['June 2001', 'WWF']\n",
            "before: ['1997']\n",
            "after: ['1997']\n",
            "before: ['1994 and 1995', 'NYPD Blue TV', 'Initially']\n",
            "after: ['1994 and 1995', 'NYPD Blue TV', 'Initially']\n",
            "before: ['Baptistin', 'Flora', '298']\n",
            "after: ['Baptistin', 'Flora', '298']\n",
            "before: ['Nazism']\n",
            "after: ['Nazism']\n",
            "before: ['Shostakovich', 'Penderecki', 'about 60', 'Vivaldi', 'Bach', '40']\n",
            "after: ['Shostakovich', 'Penderecki', 'about 60', 'Vivaldi', 'Bach', '40']\n",
            "before: [\"Komodo Dragon's\", 'Komodo Dragons']\n",
            "after: [\"Komodo Dragon's\", 'Komodo Dragons']\n",
            "before: ['the Department of Culture, Media and Sport', 'State for Culture, Media and Sport', 'the United Kingdom', 'Secretary of State']\n",
            "after: ['the Department of Culture, Media and Sport', 'State for Culture, Media and Sport', 'the United Kingdom', 'Secretary of State']\n",
            "before: ['the Holy Spirit', 'Word of God', 'Christians']\n",
            "after: ['the Holy Spirit', 'Word of God', 'Christians']\n",
            "before: ['Biochemistry']\n",
            "after: ['Biochemistry']\n",
            "before: ['Giza']\n",
            "after: ['Giza']\n",
            "before: ['Halloween']\n",
            "after: ['Halloween']\n",
            "before: ['the American Contemporary Classical Music Award', 'Elliot Goldenthal', 'Academy Award', 'Golden Globe', 'May 2, 1954']\n",
            "after: ['the American Contemporary Classical Music Award', 'Elliot Goldenthal', 'Academy Award', 'Golden Globe', 'May 2, 1954']\n",
            "before: ['Sweden', '9th']\n",
            "after: ['Sweden', '9th']\n",
            "before: ['the Second World War', 'the Fall of France', 'the Low Countries', 'Battle of France', 'the Phoney War', '10 May 1940', 'German']\n",
            "after: ['the Second World War', 'the Fall of France', 'the Low Countries', 'Battle of France', 'the Phoney War', '10 May 1940', 'German']\n",
            "before: ['the Edinburgh Fringe', 'The Mighty Boosh', 'Arctic Boosh', '2000)-all', 'Autoboosh', 'three', '1998', '1999']\n",
            "after: ['the Edinburgh Fringe', 'The Mighty Boosh', 'Arctic Boosh', '2000)-all', 'Autoboosh', '1998', '1999']\n",
            "before: ['Camp County', 'Pittsburg', 'Texas']\n",
            "after: ['Camp County', 'Pittsburg', 'Texas']\n",
            "before: ['Knoppix', 'Early']\n",
            "after: ['Knoppix', 'Early']\n",
            "before: ['the Royal Academy of Fine Art', 'Royal Academy of Fine Art in', 'Goya', '1763', '1766']\n",
            "after: ['the Royal Academy of Fine Art', 'Royal Academy of Fine Art in', 'Goya', '1763', '1766']\n",
            "before: ['Elara', '1975']\n",
            "after: ['Elara', '1975']\n",
            "before: ['']\n",
            "after: ['']\n",
            "before: ['']\n",
            "after: ['']\n",
            "before: ['his school years']\n",
            "after: ['his school years']\n",
            "before: ['Acapulco', 'Moderate', 'It']\n",
            "after: ['Acapulco', 'Moderate']\n",
            "before: ['']\n",
            "after: ['']\n",
            "before: ['James Street', 'Highway 6', 'Streets', 'East', 'West']\n",
            "after: ['James Street', 'Highway 6', 'Streets', 'East', 'West']\n",
            "before: ['L1', 'It']\n",
            "after: ['L1']\n",
            "before: ['World Wrestling Entertainment (WWE', 'the HSBC Arena in Buffalo', 'December 14, 2008', 'Armageddon', 'New York', 'PPV']\n",
            "after: ['World Wrestling Entertainment (WWE', 'the HSBC Arena in Buffalo', 'December 14, 2008', 'Armageddon', 'New York', 'PPV']\n",
            "before: ['Shabab Kiranvi']\n",
            "after: ['Shabab Kiranvi']\n",
            "before: ['the beginning of the 1970s festival', 'the following year', 'that year', 'Queen']\n",
            "after: ['the beginning of the 1970s festival', 'the following year', 'that year', 'Queen']\n",
            "before: ['Plato', '1', '2']\n",
            "after: ['Plato', '1', '2']\n",
            "before: ['the Duchess of York', '1923 to 1936']\n",
            "after: ['the Duchess of York', '1923 to 1936']\n",
            "before: ['Rotten Tomatoes', '37%', '103']\n",
            "after: ['Rotten Tomatoes', '37%', '103']\n",
            "before: ['the Second World War', 'Bismarck', 'German']\n",
            "after: ['the Second World War', 'Bismarck', 'German']\n",
            "before: ['Joseph Chamberlain', 'July 8,1836', 'British', 'July 2', '1914']\n",
            "after: ['Joseph Chamberlain', 'July 8,1836', 'British', 'July 2', '1914']\n",
            "before: ['Rice', 'This']\n",
            "after: ['Rice']\n",
            "before: ['Perth']\n",
            "after: ['Perth']\n",
            "before: ['more than one']\n",
            "after: ['more than one']\n",
            "before: ['Gili Motang', 'Indonesia', 'Varanus', 'Komodo', 'Flores', 'Rinca', 'These']\n",
            "after: ['Gili Motang', 'Indonesia', 'Varanus', 'Komodo', 'Flores', 'Rinca']\n",
            "before: ['Tourcoing', 'Belgian', 'Lille']\n",
            "after: ['Tourcoing', 'Belgian', 'Lille']\n",
            "before: ['']\n",
            "after: ['']\n",
            "before: ['Walter']\n",
            "after: ['Walter']\n",
            "before: ['Mammary']\n",
            "after: ['Mammary']\n",
            "before: ['the Ancient Church of the East', 'October 1968', 'Bagdad']\n",
            "after: ['the Ancient Church of the East', 'October 1968', 'Bagdad']\n",
            "before: ['Knight of the Holy Grail', 'King Parsifal', 'Lohengrin']\n",
            "after: ['Knight of the Holy Grail', 'King Parsifal', 'Lohengrin']\n",
            "before: ['West African Senior School Certificate Examination', 'WASSCE']\n",
            "after: ['West African Senior School Certificate Examination', 'WASSCE']\n",
            "before: ['the U. S. It', 'Kuwait', 'Saddam', 'Iraq']\n",
            "after: ['the U. S. It', 'Kuwait', 'Saddam', 'Iraq']\n",
            "before: ['Zhengzhou']\n",
            "after: ['Zhengzhou']\n",
            "before: ['the United Nations Security Council', 'San Francisco in', 'Norwegian', '1946', 'Lie']\n",
            "after: ['the United Nations Security Council', 'San Francisco in', 'Norwegian', '1946', 'Lie']\n",
            "before: ['Apartheid South Africa', 'Pretoria']\n",
            "after: ['Apartheid South Africa', 'Pretoria']\n",
            "before: ['Anglican Communion', 'Christian', 'third', '77']\n",
            "after: ['Anglican Communion', 'Christian', '77']\n",
            "before: ['The Trial of the Chicago 8', 'Michael Lembeck in the', 'Hoffman', 'HBO TV', '1987']\n",
            "after: ['The Trial of the Chicago 8', 'Michael Lembeck in the', 'Hoffman', 'HBO TV', '1987']\n",
            "before: ['the National Party', 'the Labor Party', 'Parliament', 'Supporting', '45%', '122', 'two', '59', '43']\n",
            "after: ['the National Party', 'the Labor Party', 'Parliament', 'Supporting', '45%', '122', '59', '43']\n",
            "before: ['Mitchell County in', 'Caldwell County', 'McDowell County', 'Watauga County', 'Yancey County', 'Burke County', 'Combining', '1861']\n",
            "after: ['Mitchell County in', 'Caldwell County', 'McDowell County', 'Watauga County', 'Yancey County', 'Burke County', 'Combining', '1861']\n",
            "before: ['Lüdinghausen', 'Coesfeld']\n",
            "after: ['Lüdinghausen', 'Coesfeld']\n",
            "before: ['']\n",
            "after: ['']\n",
            "before: ['']\n",
            "after: ['']\n",
            "before: ['Bentheim', '1454']\n",
            "after: ['Bentheim', '1454']\n",
            "before: ['between 1911 and 1913', 'Branch']\n",
            "after: ['between 1911 and 1913', 'Branch']\n",
            "before: ['stellar', 'Earth', 'HZ']\n",
            "after: ['stellar', 'Earth', 'HZ']\n",
            "before: ['loose alliance', 'Bohemian', '1378']\n",
            "after: ['loose alliance', 'Bohemian', '1378']\n",
            "before: ['Pertuan Agong', 'five years', 'However', 'Raja', 'Yang', 'one']\n",
            "after: ['Pertuan Agong', 'five years', 'Raja', 'Yang']\n",
            "before: ['Kavirondo', 'Kiswahili', 'Proposed']\n",
            "after: ['Kavirondo', 'Kiswahili', 'Proposed']\n",
            "before: ['Beatles', 'Flying', '1967', 'four']\n",
            "after: ['Beatles', 'Flying', '1967']\n",
            "before: ['Telephone']\n",
            "after: ['Telephone']\n",
            "before: ['Captain Feathersword']\n",
            "after: ['Captain Feathersword']\n",
            "before: ['Green', 'ten']\n",
            "after: ['Green', 'ten']\n",
            "before: ['one']\n",
            "after: []\n",
            "before: ['Minister President Heinz K', 'SPD Group in the Landtag', 'Minister of Science', 'Education in the', 'the SPD Group', 'Heinz Kühn', '1967', '1970']\n",
            "after: ['Minister President Heinz K', 'SPD Group in the Landtag', 'Minister of Science', 'Education in the', 'the SPD Group', 'Heinz Kühn', '1967', '1970']\n",
            "before: ['']\n",
            "after: ['']\n",
            "before: ['Magpie Moth']\n",
            "after: ['Magpie Moth']\n",
            "before: ['end of 2005', 'French', '35,175']\n",
            "after: ['end of 2005', 'French', '35,175']\n",
            "before: ['Biological']\n",
            "after: ['Biological']\n",
            "before: ['Tributes The Gould League', 'Australia', '1909']\n",
            "after: ['Tributes The Gould League', 'Australia', '1909']\n",
            "before: ['Northern Ireland']\n",
            "after: ['Northern Ireland']\n",
            "before: ['Los Angeles', '\"Angels']\n",
            "after: ['Los Angeles', '\"Angels']\n",
            "before: ['Article 166', 'Armenians']\n",
            "after: ['Article 166', 'Armenians']\n",
            "before: ['']\n",
            "after: ['']\n",
            "before: ['UK', '3']\n",
            "after: ['UK', '3']\n",
            "before: ['Napoleon III', '1850', 'She']\n",
            "after: ['Napoleon III', '1850']\n",
            "before: ['the Late Cretaceous Period', 'Edmontonia', 'They']\n",
            "after: ['the Late Cretaceous Period', 'Edmontonia']\n",
            "before: ['Boulogne-Billancourt', 'France', 'Paris', 'It']\n",
            "after: ['Boulogne-Billancourt', 'France', 'Paris']\n",
            "before: ['Kolding', 'seventh', 'Denmark', '86,000', 'Its']\n",
            "after: ['Kolding', 'seventh', 'Denmark', '86,000']\n",
            "before: ['Switzerland', 'Valais', 'Brig']\n",
            "after: ['Switzerland', 'Valais', 'Brig']\n",
            "before: ['Gasoline']\n",
            "after: ['Gasoline']\n",
            "before: ['Gustave Flaubert']\n",
            "after: ['Gustave Flaubert']\n",
            "before: ['Horgen', 'Zurich', 'Swiss']\n",
            "after: ['Horgen', 'Zurich', 'Swiss']\n",
            "before: ['Vyvyan in']\n",
            "after: ['Vyvyan in']\n",
            "before: ['Jardin Place Jean Bayol', 'Porto-Novo', 'first', 'It']\n",
            "after: ['Jardin Place Jean Bayol', 'Porto-Novo']\n",
            "before: ['Patroclus', 'Trojan', 'Hektor', 'They', '617', '624']\n",
            "after: ['Patroclus', 'Trojan', 'Hektor', '617', '624']\n",
            "before: ['Royal Library in Turin', 'World Heritage Site', 'Italy']\n",
            "after: ['Royal Library in Turin', 'World Heritage Site', 'Italy']\n",
            "before: ['Muslims in the Bengal Presidency', 'the East India Company', 'Uttar Pradesh', 'Hindus', 'Bihar', 'Oudh']\n",
            "after: ['Muslims in the Bengal Presidency', 'the East India Company', 'Uttar Pradesh', 'Hindus', 'Bihar', 'Oudh']\n",
            "before: ['the Cowles Foundation', 'Solow']\n",
            "after: ['the Cowles Foundation', 'Solow']\n",
            "before: ['Encyclopædia Britannica, Inc.', 'AskMeNow', '2007']\n",
            "after: ['Encyclopædia Britannica, Inc.', 'AskMeNow', '2007']\n",
            "before: ['Colone']\n",
            "after: ['Colone']\n",
            "before: ['seven days', 'Requests', 'RfA']\n",
            "after: ['seven days', 'Requests', 'RfA']\n",
            "before: ['Acknowledge External', 'Candleford', 'Lark Rise', 'bbc']\n",
            "after: ['Acknowledge External', 'Candleford', 'Lark Rise', 'bbc']\n",
            "before: ['Aang', 'T']\n",
            "after: ['Aang']\n",
            "before: ['Richard Linklater', 'Time Out of Joint', 'Waking Life', 'Dick', 'Film']\n",
            "after: ['Richard Linklater', 'Time Out of Joint', 'Waking Life', 'Dick', 'Film']\n",
            "before: ['San Antonio', 'Houston', '200']\n",
            "after: ['San Antonio', 'Houston', '200']\n",
            "before: ['Kevin Michael Costner', 'January 18, 1955', 'American', 'He']\n",
            "after: ['Kevin Michael Costner', 'January 18, 1955', 'American']\n",
            "before: ['Nutcracker', 'Clara', 'Mouse']\n",
            "after: ['Nutcracker', 'Clara', 'Mouse']\n",
            "before: ['Berlin Figaro in December', 'the Berlin Figaro', 'Geschwisterliebe', 'December 1839', 'Sibling Love', 'Fontane', 'first', 'It']\n",
            "after: ['Berlin Figaro in December', 'the Berlin Figaro', 'Geschwisterliebe', 'December 1839', 'Sibling Love', 'Fontane']\n",
            "before: ['5 December 1901-1 February 1976', 'Werner Heisenberg', 'German']\n",
            "after: ['5 December 1901-1 February 1976', 'Werner Heisenberg', 'German']\n",
            "before: ['']\n",
            "after: ['']\n",
            "before: ['Monday 22 September 2003', 'American', 'Half Men', 'CBS']\n",
            "after: ['Monday 22 September 2003', 'American', 'Half Men', 'CBS']\n",
            "before: ['Chief of the Defense Staff', 'General Rick Hillier', 'Canadian Forces', 'Afghanistan', 'March 2006', 'TDL Group', 'Kandahar']\n",
            "after: ['Chief of the Defense Staff', 'General Rick Hillier', 'Canadian Forces', 'Afghanistan', 'March 2006', 'TDL Group', 'Kandahar']\n",
            "before: ['Pethidine', 'Addison']\n",
            "after: ['Pethidine', 'Addison']\n",
            "before: ['']\n",
            "after: ['']\n",
            "before: ['the 19th century', 'Cherryade', 'first']\n",
            "after: ['the 19th century', 'Cherryade']\n",
            "before: ['Uma Thurman in the', 'Le Misanthrope', 'Broadway', '1998']\n",
            "after: ['Uma Thurman in the', 'Le Misanthrope', 'Broadway', '1998']\n",
            "before: ['Andrew \"Andy\" Murray (born 15', 'May 1987', 'Scottish']\n",
            "after: ['Andrew \"Andy\" Murray (born 15', 'May 1987', 'Scottish']\n",
            "before: ['the early 1920s', 'Le Roi David', 'King David', 'Honegger']\n",
            "after: ['the early 1920s', 'Le Roi David', 'King David', 'Honegger']\n",
            "before: ['& Grace', 'Messing']\n",
            "after: ['& Grace', 'Messing']\n",
            "before: ['November 16, 1852', 'J. R. Hind', 'Kalliope', '22', 'M']\n",
            "after: ['November 16, 1852', 'J. R. Hind', 'Kalliope', '22']\n",
            "before: ['first']\n",
            "after: []\n",
            "before: ['Chernobyl', 'Belarus', 'Gomel', '1986']\n",
            "after: ['Chernobyl', 'Belarus', 'Gomel', '1986']\n",
            "before: ['about 65 million years ago', 'Extinction Non']\n",
            "after: ['about 65 million years ago', 'Extinction Non']\n",
            "before: ['Zadok the Priest', 'British']\n",
            "after: ['Zadok the Priest', 'British']\n",
            "before: ['Wind Valley', 'Nausicaä']\n",
            "after: ['Wind Valley', 'Nausicaä']\n",
            "before: ['African', 'Mus']\n",
            "after: ['African', 'Mus']\n",
            "before: ['Trohman']\n",
            "after: ['Trohman']\n",
            "before: ['Koop']\n",
            "after: ['Koop']\n",
            "before: ['third', 'China', '12%']\n",
            "after: ['China', '12%']\n",
            "before: ['Danish Straits', 'Baltic Sea', 'Kattegat', 'Oresund']\n",
            "after: ['Danish Straits', 'Baltic Sea', 'Kattegat', 'Oresund']\n",
            "before: ['18 September 2005', '18 October 2005', 'Bundestag', '16th']\n",
            "after: ['18 September 2005', '18 October 2005', 'Bundestag', '16th']\n",
            "before: ['']\n",
            "after: ['']\n",
            "before: ['Tropical Storm Arlene', 'Honduras', 'June 8']\n",
            "after: ['Tropical Storm Arlene', 'Honduras', 'June 8']\n",
            "before: ['Platform']\n",
            "after: ['Platform']\n",
            "before: ['one']\n",
            "after: []\n",
            "before: ['']\n",
            "after: ['']\n",
            "before: ['Friday Night SmackDown', 'the Royal Rumble', 'January 16', 'Swagger', 'Hardy', 'ECW', 'The']\n",
            "after: ['Friday Night SmackDown', 'the Royal Rumble', 'January 16', 'Swagger', 'Hardy', 'ECW']\n",
            "before: ['It']\n",
            "after: []\n",
            "before: ['']\n",
            "after: ['']\n",
            "before: ['Tobiko', 'roe']\n",
            "after: ['Tobiko', 'roe']\n",
            "before: ['English']\n",
            "after: ['English']\n",
            "before: ['the early 1880s']\n",
            "after: ['the early 1880s']\n",
            "before: ['1002']\n",
            "after: ['1002']\n",
            "before: ['almost zero', 'Ideas']\n",
            "after: ['almost zero', 'Ideas']\n",
            "before: ['Tennessee in', 'one season', 'Nashville', 'Houston', 'Memphis', 'first', '1997']\n",
            "after: ['Tennessee in', 'one season', 'Nashville', 'Houston', 'Memphis', '1997']\n",
            "before: ['punt']\n",
            "after: ['punt']\n",
            "before: ['']\n",
            "after: ['']\n",
            "before: ['Prime']\n",
            "after: ['Prime']\n",
            "before: ['September 20', 'over $84', '27.7%', 'daily', 'days']\n",
            "after: ['September 20', 'over $84', '27.7%', 'daily', 'days']\n",
            "before: [\"Chris O'Donnell in School Ties the\", 'the same year', 'Ben Affleck', 'Matt Damon']\n",
            "after: [\"Chris O'Donnell in School Ties the\", 'the same year', 'Ben Affleck', 'Matt Damon']\n",
            "before: ['Later']\n",
            "after: []\n",
            "before: ['the Rio Negro River', 'the Amazon River', 'Location', 'Manaus', 'Brazil', 'The']\n",
            "after: ['the Rio Negro River', 'the Amazon River', 'Location', 'Manaus', 'Brazil']\n",
            "before: ['more than 500']\n",
            "after: ['more than 500']\n",
            "before: ['the great ocean', 'Midgard', 'J']\n",
            "after: ['the great ocean', 'Midgard']\n",
            "before: ['Peterborough', 'Hawk Nelson', 'Christian', 'Ontario']\n",
            "after: ['Peterborough', 'Hawk Nelson', 'Christian', 'Ontario']\n",
            "before: ['German', 'Matte', 'Horn', 'The']\n",
            "after: ['German', 'Matte', 'Horn']\n",
            "before: ['']\n",
            "after: ['']\n",
            "before: ['Anne Boyle', 'second', 'first', 'King']\n",
            "after: ['Anne Boyle', 'King']\n",
            "before: ['August 7, 1953', 'March 1, 1803', 'Congress', 'first', 'Ohio']\n",
            "after: ['August 7, 1953', 'March 1, 1803', 'Congress', 'Ohio']\n",
            "before: ['']\n",
            "after: ['']\n",
            "before: ['Microsoft Windows', 'Secure Channel', 'SSL', 'TLS']\n",
            "after: ['Microsoft Windows', 'Secure Channel', 'SSL', 'TLS']\n",
            "before: ['Franklin', 'Bermuda']\n",
            "after: ['Franklin', 'Bermuda']\n",
            "before: ['Takama-ga-hara', 'Shinto', 'kami']\n",
            "after: ['Takama-ga-hara', 'Shinto', 'kami']\n",
            "before: ['Direct']\n",
            "after: ['Direct']\n",
            "before: ['']\n",
            "after: ['']\n",
            "before: ['General William Sherman of the S', 'the American Civil War', 'the S. Army', 'Atlanta', 'U.']\n",
            "after: ['General William Sherman of the S', 'the American Civil War', 'the S. Army', 'Atlanta', 'U.']\n",
            "before: ['Central Europe', 'Singular Polak', 'Polish', 'Slavic', 'Poland', 'Poles']\n",
            "after: ['Central Europe', 'Singular Polak', 'Polish', 'Slavic', 'Poland', 'Poles']\n",
            "before: ['one']\n",
            "after: []\n",
            "before: ['Teresa Carpio', 'Hong Kong']\n",
            "after: ['Teresa Carpio', 'Hong Kong']\n",
            "before: ['between two and five', 'German Vorwahl', 'Germany', 'Area']\n",
            "after: ['between two and five', 'German Vorwahl', 'Germany', 'Area']\n",
            "before: ['Physically']\n",
            "after: ['Physically']\n",
            "before: ['WWF TV in', 'WCW']\n",
            "after: ['WWF TV in', 'WCW']\n",
            "before: ['the early hours']\n",
            "after: ['the early hours']\n",
            "before: ['Galileo', 'Metis', '1998']\n",
            "after: ['Galileo', 'Metis', '1998']\n",
            "before: ['years prior to', 'Columbian', 'Analysis', 'Atlantic', '1492', '1600', '1620', 'Pre', '10', '30']\n",
            "after: ['years prior to', 'Columbian', 'Analysis', 'Atlantic', '1492', '1600', '1620', 'Pre', '10', '30']\n",
            "before: ['Geography Along the', 'Cayo Guillermo', 'Cayo Coco', 'Jardines', 'Rey']\n",
            "after: ['Geography Along the', 'Cayo Guillermo', 'Cayo Coco', 'Jardines', 'Rey']\n",
            "before: ['Tahitian', 'Sexual', 'They']\n",
            "after: ['Tahitian', 'Sexual']\n",
            "before: ['Maxim', 'FHM']\n",
            "after: ['Maxim', 'FHM']\n",
            "before: ['Adrastea', 'Jupiter']\n",
            "after: ['Adrastea', 'Jupiter']\n",
            "before: ['the 1970s and 1980s', 'Dubai']\n",
            "after: ['the 1970s and 1980s', 'Dubai']\n",
            "before: ['hundred']\n",
            "after: []\n",
            "before: ['Bury St Edmunds', \"Great Britain's\", 'A1101']\n",
            "after: ['Bury St Edmunds', \"Great Britain's\", 'A1101']\n",
            "before: ['the Golden Gloves', 'between age 16', 'Non']\n",
            "after: ['the Golden Gloves', 'between age 16']\n",
            "before: ['Salon des Indépendants', \"Salon d'Automne\", 'Salon Tuileries', 'Rij-Rousseau', 'year 1911']\n",
            "after: ['Salon des Indépendants', \"Salon d'Automne\", 'Salon Tuileries', 'Rij-Rousseau', 'year 1911']\n",
            "before: ['Firefly Companion', 'Whedon', 'Vol 1', '6']\n",
            "after: ['Firefly Companion', 'Whedon', 'Vol 1', '6']\n",
            "before: ['Scott S. Sheppard']\n",
            "after: ['Scott S. Sheppard']\n",
            "before: ['Woolshed Catholic School in', 'Joe Byrne', '1862']\n",
            "after: ['Woolshed Catholic School in', 'Joe Byrne', '1862']\n",
            "before: ['']\n",
            "after: ['']\n",
            "before: ['the Nobel Prize in Literature', 'Nobel Prize in Literature in', 'Lessing', '2007']\n",
            "after: ['the Nobel Prize in Literature', 'Nobel Prize in Literature in', 'Lessing', '2007']\n",
            "before: ['more than 2,000', '1870', 'five']\n",
            "after: ['more than 2,000', '1870']\n",
            "before: ['Players']\n",
            "after: ['Players']\n",
            "before: ['Individuals', 'Australia', 'It']\n",
            "after: ['Individuals', 'Australia']\n",
            "before: ['the holiday of Christmas', 'candy cane', 'the year']\n",
            "after: ['the holiday of Christmas', 'candy cane', 'the year']\n",
            "before: ['Anglo-Norman', 'Oyez']\n",
            "after: ['Anglo-Norman', 'Oyez']\n",
            "before: ['cocktail']\n",
            "after: ['cocktail']\n",
            "before: ['Atlantic hurricane season', '30 November 1974', '1 June 1974']\n",
            "after: ['Atlantic hurricane season', '30 November 1974', '1 June 1974']\n",
            "before: ['Moenjodaro', 'Dokri', '7 km']\n",
            "after: ['Moenjodaro', 'Dokri', '7 km']\n",
            "before: ['the United Kingdom', 'the United States', '16 November 1998', 'March 1999', 'first']\n",
            "after: ['the United Kingdom', 'the United States', '16 November 1998', 'March 1999']\n",
            "before: ['Koxinga', 'Taiwan', 'Qing', 'Ming']\n",
            "after: ['Koxinga', 'Taiwan', 'Qing', 'Ming']\n",
            "before: ['References External', \"F. It's Marchis\", 'Hermione', 'S/2002', '121']\n",
            "after: ['References External', \"F. It's Marchis\", 'Hermione', 'S/2002', '121']\n",
            "before: ['Humbert the Huntsman', 'Stuart Buchanan', 'Snow White', 'Despite', 'Queen']\n",
            "after: ['Humbert the Huntsman', 'Stuart Buchanan', 'Snow White', 'Queen']\n",
            "before: ['Inductors']\n",
            "after: ['Inductors']\n",
            "before: ['Daikokuten', 'Indian', 'Shiva']\n",
            "after: ['Daikokuten', 'Indian', 'Shiva']\n",
            "before: ['The Threepenny Opera', 'Macbeth', 'Henry V']\n",
            "after: ['The Threepenny Opera', 'Macbeth', 'Henry V']\n",
            "before: ['Gorani']\n",
            "after: ['Gorani']\n",
            "before: ['the Eurovision Song Contest', 'Melodifestivalen', 'Alcazar', 'annual', 'Sweden']\n",
            "after: ['the Eurovision Song Contest', 'Melodifestivalen', 'Alcazar', 'annual', 'Sweden']\n",
            "before: ['only 2 - 3', 'Rainfall']\n",
            "after: ['only 2 - 3', 'Rainfall']\n",
            "before: ['Municipality of Switzerland', 'the Swiss Heritage Society', 'Italian Premio Wakker', 'French Prix Wakker', 'Wakker Prize', 'Wakkerpreis', 'German', 'yearly']\n",
            "after: ['Municipality of Switzerland', 'the Swiss Heritage Society', 'Italian Premio Wakker', 'French Prix Wakker', 'Wakker Prize', 'Wakkerpreis', 'German', 'yearly']\n",
            "before: ['Electric Blue Watermelon', 'Phantom', '51']\n",
            "after: ['Electric Blue Watermelon', 'Phantom', '51']\n",
            "before: ['the Football Hall of Fame College', 'Football Hall of Fame College in', '2001']\n",
            "after: ['the Football Hall of Fame College', 'Football Hall of Fame College in', '2001']\n",
            "before: ['New South Wales', 'Australia', 'Boorowa']\n",
            "after: ['New South Wales', 'Australia', 'Boorowa']\n",
            "before: ['3\\xa0\\xa0minutes', 'Structure', '4 minute', 'up to', '11', '2', 'A']\n",
            "after: ['3\\xa0\\xa0minutes', 'Structure', '4 minute', 'up to', '11', '2']\n",
            "before: ['the Britannia Stadium', '28,000', 'Stoke']\n",
            "after: ['the Britannia Stadium', '28,000', 'Stoke']\n",
            "before: ['Western Australia', 'North West Cape']\n",
            "after: ['Western Australia', 'North West Cape']\n",
            "before: ['Movie']\n",
            "after: ['Movie']\n",
            "before: ['non-Métis']\n",
            "after: ['non-Métis']\n",
            "before: ['nearly 2,000', 'French', 'Nazis']\n",
            "after: ['nearly 2,000', 'French', 'Nazis']\n",
            "before: ['Secretary of State', 'für Kirchenfragen', 'Hermann Muhs', 'Nazi Germany', 'Minister']\n",
            "after: ['Secretary of State', 'für Kirchenfragen', 'Hermann Muhs', 'Nazi Germany', 'Minister']\n",
            "before: [\"Bon Jovi's\", 'June 1995', 'sixth']\n",
            "after: [\"Bon Jovi's\", 'June 1995', 'sixth']\n",
            "before: ['Libpurple']\n",
            "after: ['Libpurple']\n",
            "before: ['Punk']\n",
            "after: ['Punk']\n",
            "before: ['Higher Levels', 'Normal']\n",
            "after: ['Higher Levels', 'Normal']\n",
            "before: ['1978 to 2000']\n",
            "after: ['1978 to 2000']\n",
            "before: ['the Royal Australian Air Force', 'the Royal Australian Navy', 'the Australian Army', 'Tri-Service']\n",
            "after: ['the Royal Australian Air Force', 'the Royal Australian Navy', 'the Australian Army', 'Tri-Service']\n",
            "before: ['Falangist Captain Vidal', 'Spanish Maquis', 'Ofelia', 'Franco']\n",
            "after: ['Falangist Captain Vidal', 'Spanish Maquis', 'Ofelia', 'Franco']\n",
            "before: ['']\n",
            "after: ['']\n",
            "before: ['Princess Kiko']\n",
            "after: ['Princess Kiko']\n",
            "before: ['']\n",
            "after: ['']\n",
            "before: ['']\n",
            "after: ['']\n",
            "before: ['Henry II of England', 'Gruffydd', 'Rhys']\n",
            "after: ['Henry II of England', 'Gruffydd', 'Rhys']\n",
            "before: ['']\n",
            "after: ['']\n",
            "before: ['Speaker of the House', 'Vice President', 'third']\n",
            "after: ['Speaker of the House', 'Vice President']\n",
            "before: ['Gordon Peter Moakes', 'English Indie', 'Bloc Party', 'Englishman', 'June 1976', '22']\n",
            "after: ['Gordon Peter Moakes', 'English Indie', 'Bloc Party', 'Englishman', 'June 1976', '22']\n",
            "before: ['the end of the 20th century', 'about 26 weeks']\n",
            "after: ['the end of the 20th century', 'about 26 weeks']\n",
            "before: ['']\n",
            "after: ['']\n",
            "before: ['English']\n",
            "after: ['English']\n",
            "before: ['']\n",
            "after: ['']\n",
            "before: ['Academics Given the', 'Essjay Controversy', 'Wikipedia']\n",
            "after: ['Academics Given the', 'Essjay Controversy', 'Wikipedia']\n",
            "before: ['Chief of Staff of the Austrian Army', 'Alfred Jansa', 'January 1938']\n",
            "after: ['Chief of Staff of the Austrian Army', 'Alfred Jansa', 'January 1938']\n",
            "before: ['December 10', 'Bruno Mora', 'March 29', 'Italian', '1937', '1986']\n",
            "after: ['December 10', 'Bruno Mora', 'March 29', 'Italian', '1937', '1986']\n",
            "before: ['the First Schleswig War', '23 April 1849', 'German', 'Danish', 'The']\n",
            "after: ['the First Schleswig War', '23 April 1849', 'German', 'Danish']\n",
            "before: ['about 2,000 years', 'Central Europe', 'Switzerland', 'Skeletal', 'Spitz']\n",
            "after: ['about 2,000 years', 'Central Europe', 'Switzerland', 'Skeletal', 'Spitz']\n",
            "before: ['the Global Elders Group']\n",
            "after: ['the Global Elders Group']\n",
            "before: ['Vince McMahon', 'The Sun', 'Heyman', 'weekly', 'UK']\n",
            "after: ['Vince McMahon', 'The Sun', 'Heyman', 'weekly', 'UK']\n",
            "before: ['DVD', 'CD']\n",
            "after: ['DVD', 'CD']\n",
            "before: ['Alwa']\n",
            "after: ['Alwa']\n",
            "before: ['Bundesländer', 'three', '1952', '1994']\n",
            "after: ['Bundesländer', '1952', '1994']\n",
            "before: ['']\n",
            "after: ['']\n",
            "before: ['']\n",
            "after: ['']\n",
            "before: ['Festspielhaus']\n",
            "after: ['Festspielhaus']\n",
            "before: ['Creed of the Apostles', 'the Gospel of Christ']\n",
            "after: ['Creed of the Apostles', 'the Gospel of Christ']\n",
            "before: ['Loveliest of Trees', 'A Shropshire Lad', '1912']\n",
            "after: ['Loveliest of Trees', 'A Shropshire Lad', '1912']\n",
            "before: ['highlands', 'Moorland', 'moorland']\n",
            "after: ['highlands', 'Moorland', 'moorland']\n",
            "before: ['Leonard Bernstein', 'Leopold Stokowski', '1948-52']\n",
            "after: ['Leonard Bernstein', 'Leopold Stokowski', '1948-52']\n",
            "before: ['Wollstonecraft', 'Hurriedly', 'second', 'Rights', 'Woman']\n",
            "after: ['Wollstonecraft', 'Hurriedly', 'Rights', 'Woman']\n",
            "before: ['the Republic of Mali', 'the French Community', '22 September', 'French Sudan']\n",
            "after: ['the Republic of Mali', 'the French Community', '22 September', 'French Sudan']\n",
            "before: ['']\n",
            "after: ['']\n",
            "before: ['Five Pillars of Islam', 'the Five Pillars', 'Charity The', 'The third', 'about one', 'Muslims']\n",
            "after: ['Five Pillars of Islam', 'the Five Pillars', 'Charity The', 'The third', 'about one', 'Muslims']\n",
            "before: ['London']\n",
            "after: ['London']\n",
            "before: ['Shakespearian Comedy in the Comedy of Errors', 'School English', 'C. L. Barber', '25.7', '1964', '493']\n",
            "after: ['Shakespearian Comedy in the Comedy of Errors', 'School English', 'C. L. Barber', '25.7', '1964', '493']\n",
            "before: ['Olbers in', 'Vesta', 'A']\n",
            "after: ['Olbers in', 'Vesta']\n",
            "before: ['Franklin Delano Roosevelt', 'January 30, 1882 to', 'the United States', 'April 12, 1945', '32nd', 'FDR', 'He']\n",
            "after: ['Franklin Delano Roosevelt', 'January 30, 1882 to', 'the United States', 'April 12, 1945', '32nd', 'FDR']\n",
            "before: ['Mirian III', 'Christian', 'Georgian', 'Reverend', 'Iberia', 'first']\n",
            "after: ['Mirian III', 'Christian', 'Georgian', 'Reverend', 'Iberia']\n",
            "before: ['English', 'Walker', 'Brawl']\n",
            "after: ['English', 'Walker', 'Brawl']\n",
            "before: ['Soy']\n",
            "after: ['Soy']\n",
            "before: ['Robert Drewe', 'Our Sunshine']\n",
            "after: ['Robert Drewe', 'Our Sunshine']\n",
            "before: ['Hurricane Wilma', 'Atlantic']\n",
            "after: ['Hurricane Wilma', 'Atlantic']\n",
            "before: ['Lyndhurst', 'Hampshire']\n",
            "after: ['Lyndhurst', 'Hampshire']\n",
            "before: ['a century', 'Young', '22']\n",
            "after: ['a century', 'Young', '22']\n",
            "before: ['Digital', 'Music', 'one', 'DRM']\n",
            "after: ['Digital', 'Music', 'DRM']\n",
            "before: ['Arunachal Pradesh', 'India']\n",
            "after: ['Arunachal Pradesh', 'India']\n",
            "before: ['two']\n",
            "after: []\n",
            "before: ['Concertgebouw Orchestra', 'November 7th, 1956', 'Bernard Haitink']\n",
            "after: ['Concertgebouw Orchestra', 'November 7th, 1956', 'Bernard Haitink']\n",
            "before: ['first', 'two']\n",
            "after: []\n",
            "before: ['Westminster Abbey', 'May 9th, 1509']\n",
            "after: ['Westminster Abbey', 'May 9th, 1509']\n",
            "before: ['just four', 'Christian', 'Jewish']\n",
            "after: ['just four', 'Christian', 'Jewish']\n",
            "before: ['The Lakes, State of Play', 'Clocking Off', 'Sex Traffic', 'BAFTA', 'two']\n",
            "after: ['The Lakes, State of Play', 'Clocking Off', 'Sex Traffic', 'BAFTA']\n",
            "before: ['the World Wrestling Federation', 'World Wrestling Entertainment', '1998 to 2004', '2006 to 2007', 'Martin', 'Test']\n",
            "after: ['the World Wrestling Federation', 'World Wrestling Entertainment', '1998 to 2004', '2006 to 2007', 'Martin', 'Test']\n",
            "before: ['the World Health Organization', 'two million', '15 million', 'that year', '1967']\n",
            "after: ['the World Health Organization', 'two million', '15 million', 'that year', '1967']\n",
            "before: ['the Los Angeles Philharmonic Orchestra', 'the Berlin Philharmonic Orchestra', 'the New Philharmonic Orchestra', 'the Philadelphia Orchestra', 'the New York Philharmonic', 'the London Philharmonic', 'the Israel Philharmonic', 'BBC Symphony Orchestra', 'the London Symphony', 'Du Pré']\n",
            "after: ['the Los Angeles Philharmonic Orchestra', 'the Berlin Philharmonic Orchestra', 'the New Philharmonic Orchestra', 'the Philadelphia Orchestra', 'the New York Philharmonic', 'the London Philharmonic', 'the Israel Philharmonic', 'BBC Symphony Orchestra', 'the London Symphony', 'Du Pré']\n",
            "before: ['18', '11']\n",
            "after: ['18', '11']\n",
            "before: ['Cognitive Science', 'Schools', '2005', 'CS']\n",
            "after: ['Cognitive Science', 'Schools', '2005', 'CS']\n",
            "before: ['Simplification']\n",
            "after: ['Simplification']\n",
            "before: ['Pablo Diego José Francisco de Paula Juan Nepomuceno María de', 'Remedios Crispiniano', 'Trinidad', 'Picasso', 'Early', 'Sant']\n",
            "after: ['Pablo Diego José Francisco de Paula Juan Nepomuceno María de', 'Remedios Crispiniano', 'Trinidad', 'Picasso', 'Early', 'Sant']\n",
            "before: ['11']\n",
            "after: ['11']\n",
            "before: ['Mediterranean', 'Genista', 'Europe', 'Africa', 'Asia', 'It']\n",
            "after: ['Mediterranean', 'Genista', 'Europe', 'Africa', 'Asia']\n",
            "before: ['Chlamydia']\n",
            "after: ['Chlamydia']\n",
            "before: [\"Lyndon B. Johnson's\", 'Great Society', 'UM']\n",
            "after: [\"Lyndon B. Johnson's\", 'Great Society', 'UM']\n",
            "before: ['Event']\n",
            "after: ['Event']\n",
            "before: ['Almahala Tripoli', 'Libya']\n",
            "after: ['Almahala Tripoli', 'Libya']\n",
            "before: ['Official', '2006']\n",
            "after: ['Official', '2006']\n",
            "before: ['Lithosphere']\n",
            "after: ['Lithosphere']\n",
            "before: ['Caja de Muertos', 'Puerto Rico', 'Desecheo', 'Vieques', 'Culebra', 'Mona']\n",
            "after: ['Caja de Muertos', 'Puerto Rico', 'Desecheo', 'Vieques', 'Culebra', 'Mona']\n",
            "before: ['Mandaeans', 'American']\n",
            "after: ['Mandaeans', 'American']\n",
            "before: ['Terms of Service', 'Google', 'RSS']\n",
            "after: ['Terms of Service', 'Google', 'RSS']\n",
            "before: ['Pope John Paul II', 'Westminster', 'England']\n",
            "after: ['Pope John Paul II', 'Westminster', 'England']\n",
            "before: ['']\n",
            "after: ['']\n",
            "before: ['']\n",
            "after: ['']\n",
            "before: ['South Sumatra Region of Indonesia', 'Palembang']\n",
            "after: ['South Sumatra Region of Indonesia', 'Palembang']\n",
            "before: ['about forty miles', 'Zoar Field', 'Buffalo', 'first', 'US']\n",
            "after: ['about forty miles', 'Zoar Field', 'Buffalo', 'US']\n",
            "before: ['']\n",
            "after: ['']\n",
            "before: ['Mediawiki', 'Vikidia']\n",
            "after: ['Mediawiki', 'Vikidia']\n",
            "before: ['the early 19th century', 'American']\n",
            "after: ['the early 19th century', 'American']\n",
            "before: ['Specialized']\n",
            "after: ['Specialized']\n",
            "before: ['Great Lakes in the United States of America', 'the Great Lakes', 'Canada']\n",
            "after: ['Great Lakes in the United States of America', 'the Great Lakes', 'Canada']\n",
            "before: ['']\n",
            "after: ['']\n",
            "before: ['']\n",
            "after: ['']\n",
            "before: ['the 19th century', 'India in the']\n",
            "after: ['the 19th century', 'India in the']\n",
            "before: ['Thomas Henderson', 'Alpha Centauri']\n",
            "after: ['Thomas Henderson', 'Alpha Centauri']\n",
            "before: ['sphagnum bogs']\n",
            "after: ['sphagnum bogs']\n",
            "before: ['Salaam', 'Dar']\n",
            "after: ['Salaam', 'Dar']\n",
            "before: ['German Oberst', 'newer SS', '1938']\n",
            "after: ['German Oberst', 'newer SS', '1938']\n",
            "before: ['History of Hoshino Gakki Co., Ltd.', 'Official', 'Ibanez']\n",
            "after: ['History of Hoshino Gakki Co., Ltd.', 'Official', 'Ibanez']\n",
            "before: ['The New YorkerSchiff', 'February 2007', 'Stacy Schiff', 'Wikipedia', 'Stacey', 'Essjay']\n",
            "after: ['The New YorkerSchiff', 'February 2007', 'Stacy Schiff', 'Wikipedia', 'Stacey', 'Essjay']\n",
            "before: ['the Annals of Tacitus', 'Baduhennna', 'Frisia', 'Roman', '900', '28', 'CE']\n",
            "after: ['the Annals of Tacitus', 'Baduhennna', 'Frisia', 'Roman', '900', '28', 'CE']\n",
            "before: ['Gustav Mahler Triennial Conducting Award', 'Orchestra']\n",
            "after: ['Gustav Mahler Triennial Conducting Award', 'Orchestra']\n",
            "before: ['Sydney Basin', 'Acacia', 'Also']\n",
            "after: ['Sydney Basin', 'Acacia']\n",
            "before: ['']\n",
            "after: ['']\n",
            "before: ['']\n",
            "after: ['']\n",
            "before: ['Capixabas']\n",
            "after: ['Capixabas']\n",
            "before: ['Charles-Marie Widor', 'Sulpice in Paris', 'St. Sulpice', 'Dupré', '1934', '1971']\n",
            "after: ['Charles-Marie Widor', 'Sulpice in Paris', 'St. Sulpice', 'Dupré', '1934', '1971']\n",
            "before: ['Member of Parliament', 'Alfred Waterson', 'Kettering']\n",
            "after: ['Member of Parliament', 'Alfred Waterson', 'Kettering']\n",
            "before: ['Pesetas', '2000']\n",
            "after: ['Pesetas', '2000']\n",
            "before: ['']\n",
            "after: ['']\n",
            "before: ['Springville', 'Linn County', 'Iowa', 'US']\n",
            "after: ['Springville', 'Linn County', 'Iowa', 'US']\n",
            "before: ['14 minutes', '17 hours', 'Uranus']\n",
            "after: ['14 minutes', '17 hours', 'Uranus']\n",
            "before: ['NYPD Blue']\n",
            "after: ['NYPD Blue']\n",
            "before: ['Meteorological', 'as high as 2', 'two days', 'Pacific', 'C']\n",
            "after: ['Meteorological', 'as high as 2', 'two days', 'Pacific']\n",
            "before: ['Northwest Territories of Canada', 'Canadian Arctic Archipelago', 'the Northwest Territories', 'Victoria Island', 'Kitlineq', 'Nunavut']\n",
            "after: ['Northwest Territories of Canada', 'Canadian Arctic Archipelago', 'the Northwest Territories', 'Victoria Island', 'Kitlineq', 'Nunavut']\n",
            "before: ['Paul Jackson']\n",
            "after: ['Paul Jackson']\n",
            "before: ['Thyme']\n",
            "after: ['Thyme']\n",
            "before: ['spring', 'summer']\n",
            "after: ['spring', 'summer']\n",
            "before: ['Professor Digory Kirke', \"Digory Kirke's\", 'Narnia']\n",
            "after: ['Professor Digory Kirke', \"Digory Kirke's\", 'Narnia']\n",
            "before: ['']\n",
            "after: ['']\n",
            "before: ['IPCC']\n",
            "after: ['IPCC']\n",
            "before: ['the beginning of the 21st century', '15 million', 'Business']\n",
            "after: ['the beginning of the 21st century', '15 million', 'Business']\n",
            "before: ['']\n",
            "after: ['']\n",
            "before: ['Dorrit Moussaieff', 'May 2000', 'Israeli', 'second']\n",
            "after: ['Dorrit Moussaieff', 'May 2000', 'Israeli']\n",
            "before: ['Chancellor of West Germany', '6 April 1904 9 March 1988', 'Kurt Georg Kiesinger', '1 December 1966', '21 October 1969']\n",
            "after: ['Chancellor of West Germany', '6 April 1904 9 March 1988', 'Kurt Georg Kiesinger', '1 December 1966', '21 October 1969']\n",
            "before: ['C']\n",
            "after: []\n",
            "before: ['The Tomb of the Cybermen', 'the Cyberman Controller', \"the Cyber-Controller's\", 'Attack of the Cybermen', 'Age of Steele', '1967', '1985', '2006', 'Also']\n",
            "after: ['The Tomb of the Cybermen', 'the Cyberman Controller', \"the Cyber-Controller's\", 'Attack of the Cybermen', 'Age of Steele', '1967', '1985', '2006']\n",
            "before: ['']\n",
            "after: ['']\n",
            "before: ['']\n",
            "after: ['']\n",
            "before: ['Caribbean Sea', 'Convection', 'August 11', 'August 12', 'Bahamas']\n",
            "after: ['Caribbean Sea', 'Convection', 'August 11', 'August 12', 'Bahamas']\n",
            "before: ['Source Mage GNU', 'Linux A', 'Wizard']\n",
            "after: ['Source Mage GNU', 'Linux A', 'Wizard']\n",
            "before: ['the Mediterranean Sea', 'the Atlas Mountains', 'Generally', 'Morocco', 'Algeria', 'Tunisia', 'Arabic', 'three']\n",
            "after: ['the Mediterranean Sea', 'the Atlas Mountains', 'Generally', 'Morocco', 'Algeria', 'Tunisia', 'Arabic']\n",
            "before: ['Corporation', 'High Street', 'Above Bar']\n",
            "after: ['Corporation', 'High Street', 'Above Bar']\n",
            "before: ['']\n",
            "after: ['']\n",
            "before: ['']\n",
            "after: ['']\n",
            "before: ['Governor of Gibraltar', 'Convent', '1728']\n",
            "after: ['Governor of Gibraltar', 'Convent', '1728']\n",
            "before: ['Australian Baz Luhrmann', 'Claire Danes in the', 'Leonardo DiCaprio']\n",
            "after: ['Australian Baz Luhrmann', 'Claire Danes in the', 'Leonardo DiCaprio']\n",
            "before: ['Prometheus', 'Saturn', 'F Ring']\n",
            "after: ['Prometheus', 'Saturn', 'F Ring']\n",
            "before: ['Accessed August', 'August 5, 2008', 'three']\n",
            "after: ['Accessed August', 'August 5, 2008']\n",
            "before: ['the age of eight', 'Winter Light', 'Lutheran', 'Bergman']\n",
            "after: ['the age of eight', 'Winter Light', 'Lutheran', 'Bergman']\n",
            "before: ['19,685 ft', '000']\n",
            "after: ['19,685 ft', '000']\n",
            "before: ['the Congressional School of Virginia', 'Waynflete School in Portland', 'Breakwater School', 'the age of 12', 'New York City', 'Tyler', 'Maine']\n",
            "after: ['the Congressional School of Virginia', 'Waynflete School in Portland', 'Breakwater School', 'the age of 12', 'New York City', 'Tyler', 'Maine']\n",
            "before: ['Silly Symphonies', 'Mickey Mouse', 'Snow White', 'Disney']\n",
            "after: ['Silly Symphonies', 'Mickey Mouse', 'Snow White', 'Disney']\n",
            "before: ['']\n",
            "after: ['']\n",
            "before: ['History Arch Mineral Corporation', 'Ashland, Inc.', 'Ashland Oil', 'Texas Hunt', 'Dallas', '1969']\n",
            "after: ['History Arch Mineral Corporation', 'Ashland, Inc.', 'Ashland Oil', 'Texas Hunt', 'Dallas', '1969']\n",
            "before: ['Right-Hand Path', 'Dakshinachara', 'Tantric']\n",
            "after: ['Right-Hand Path', 'Dakshinachara', 'Tantric']\n",
            "before: [\"Josh Brainard's\"]\n",
            "after: [\"Josh Brainard's\"]\n",
            "before: ['Fresh Fruit for Rotting Vegetables', 'later that year', 'band']\n",
            "after: ['Fresh Fruit for Rotting Vegetables', 'later that year', 'band']\n",
            "before: ['two years', 'However', 'Sch']\n",
            "after: ['two years', 'Sch']\n",
            "before: ['the Noble prize for Fiction', 'Fiction in', '1961']\n",
            "after: ['the Noble prize for Fiction', 'Fiction in', '1961']\n",
            "before: ['hCard', 'Geo', 'GPS']\n",
            "after: ['hCard', 'Geo', 'GPS']\n",
            "before: ['Sahara Pump Theory', 'the Middle East', 'Africa', 'Europe', 'Asia']\n",
            "after: ['Sahara Pump Theory', 'the Middle East', 'Africa', 'Europe', 'Asia']\n",
            "before: ['Description Data', 'SIMD']\n",
            "after: ['Description Data', 'SIMD']\n",
            "before: ['Cameron Bright', 'Jimmy / Leech']\n",
            "after: ['Cameron Bright', 'Jimmy / Leech']\n",
            "before: ['the Dartmouth-Hitchcock Medical Center', 'the United States', 'William Mosenthal', 'first', 'Dr']\n",
            "after: ['the Dartmouth-Hitchcock Medical Center', 'the United States', 'William Mosenthal', 'Dr']\n",
            "before: ['the Dartmouth-Hitchcock Medical Center', 'the United States', 'William Mosenthal', 'first', 'Dr']\n",
            "after: ['the Dartmouth-Hitchcock Medical Center', 'the United States', 'William Mosenthal', 'Dr']\n",
            "before: ['Dogfighting']\n",
            "after: ['Dogfighting']\n",
            "before: ['Sofia', 'Greek']\n",
            "after: ['Sofia', 'Greek']\n",
            "before: [\"the Provence-Alpes-Côte d'Azur\", 'Saint-Victoret', 'Bouches-du', 'France', 'Rh']\n",
            "after: [\"the Provence-Alpes-Côte d'Azur\", 'Saint-Victoret', 'Bouches-du', 'France', 'Rh']\n",
            "before: ['']\n",
            "after: ['']\n",
            "before: ['']\n",
            "after: ['']\n",
            "before: ['Ornamental']\n",
            "after: ['Ornamental']\n",
            "before: ['Furby']\n",
            "after: ['Furby']\n",
            "before: ['']\n",
            "after: ['']\n",
            "before: ['Buddhist', 'four']\n",
            "after: ['Buddhist']\n",
            "before: ['Armenia', 'Ararat']\n",
            "after: ['Armenia', 'Ararat']\n",
            "before: [\"Alexander Werth's\", 'Gdansk/Danzig in', 'the Red Army', 'Russia', '1945', '1941', 'War']\n",
            "after: [\"Alexander Werth's\", 'Gdansk/Danzig in', 'the Red Army', 'Russia', '1945', '1941', 'War']\n",
            "before: ['fall of 2006', 'Bignasco in', 'Cavergno']\n",
            "after: ['fall of 2006', 'Bignasco in', 'Cavergno']\n",
            "before: ['Postal']\n",
            "after: ['Postal']\n",
            "before: ['Kanashiki']\n",
            "after: ['Kanashiki']\n",
            "before: ['the International Organization for Standardization (ISO', 'ISO 3166']\n",
            "after: ['the International Organization for Standardization (ISO', 'ISO 3166']\n",
            "before: ['']\n",
            "after: ['']\n",
            "before: ['']\n",
            "after: ['']\n",
            "before: ['National']\n",
            "after: ['National']\n",
            "before: ['the first half of the 20th century', 'Werner Heisenberg', 'Erwin Schrödinger', 'Louis de Broglie', 'John von Neumann', 'Albert Einstein', 'Wolfgang Pauli', 'David Hilbert', 'Max Planck', 'Niels Bohr', 'Paul Dirac', 'Max Born']\n",
            "after: ['the first half of the 20th century', 'Werner Heisenberg', 'Erwin Schrödinger', 'Louis de Broglie', 'John von Neumann', 'Albert Einstein', 'Wolfgang Pauli', 'David Hilbert', 'Max Planck', 'Niels Bohr', 'Paul Dirac', 'Max Born']\n",
            "before: ['August 15']\n",
            "after: ['August 15']\n",
            "before: ['Gramophone Archive By the', 'the age of 15']\n",
            "after: ['Gramophone Archive By the', 'the age of 15']\n",
            "before: ['between 65 km / h (40 mph', 'three days', '50 mph', '85 km']\n",
            "after: ['between 65 km / h (40 mph', 'three days', '50 mph', '85 km']\n",
            "before: ['the Great Barrier Reef', '36']\n",
            "after: ['the Great Barrier Reef', '36']\n",
            "before: ['Team Rocket Scientist', 'DNA of Mew', 'Blaine', 'Mewtwo']\n",
            "after: ['Team Rocket Scientist', 'DNA of Mew', 'Blaine', 'Mewtwo']\n",
            "before: ['']\n",
            "after: ['']\n",
            "before: ['']\n",
            "after: ['']\n",
            "before: ['July 1, 2006', 'Qingzang']\n",
            "after: ['July 1, 2006', 'Qingzang']\n",
            "before: ['Santos Football Club']\n",
            "after: ['Santos Football Club']\n",
            "before: ['Visiting']\n",
            "after: ['Visiting']\n",
            "before: ['February, 2004', 'Occultations', 'Hermione', 'three']\n",
            "after: ['February, 2004', 'Occultations', 'Hermione']\n",
            "before: ['However']\n",
            "after: []\n",
            "before: ['German Presidents', '1919', 'The']\n",
            "after: ['German Presidents', '1919']\n",
            "before: ['It']\n",
            "after: []\n",
            "before: ['Galveston Island', 'the Coast Guard', 'Buttonwood', 'Texas', 'High', 'WLB', '306', 'It', 'A']\n",
            "after: ['Galveston Island', 'the Coast Guard', 'Buttonwood', 'Texas', 'High', 'WLB', '306']\n",
            "before: ['']\n",
            "after: ['']\n",
            "before: ['General Zorawar Singh', 'the Raja of Skardu', 'Baltistan', 'Ladakhis', 'Later', '1840']\n",
            "after: ['General Zorawar Singh', 'the Raja of Skardu', 'Baltistan', 'Ladakhis', '1840']\n",
            "before: ['']\n",
            "after: ['']\n",
            "before: ['Sarasvati', 'Benzaiten', 'Japan']\n",
            "after: ['Sarasvati', 'Benzaiten', 'Japan']\n",
            "before: [\"Tonnerre Yaounde'\", 'Cameroon']\n",
            "after: [\"Tonnerre Yaounde'\", 'Cameroon']\n",
            "before: ['national park', 'The Hainich', 'Germany', '1997', '13th']\n",
            "after: ['national park', 'The Hainich', 'Germany', '1997', '13th']\n",
            "before: ['']\n",
            "after: ['']\n",
            "before: ['Josef K in The Trial', 'Franz Kafka', 'Michael K']\n",
            "after: ['Josef K in The Trial', 'Franz Kafka', 'Michael K']\n",
            "before: ['Brunswick', 'Georgia', '2 miles', 'The', 'F', '0']\n",
            "after: ['Brunswick', 'Georgia', '2 miles', '0']\n",
            "before: ['Artiodactyla', 'Cetacea']\n",
            "after: ['Artiodactyla', 'Cetacea']\n",
            "before: ['Lancashire', 'Cornwall', 'England']\n",
            "after: ['Lancashire', 'Cornwall', 'England']\n",
            "before: ['the Hubble Space Telescope', '1997']\n",
            "after: ['the Hubble Space Telescope', '1997']\n",
            "before: ['Stegosaurian']\n",
            "after: ['Stegosaurian']\n",
            "before: ['Minister-President', 'Normally', 'State']\n",
            "after: ['Minister-President', 'State']\n",
            "before: ['Etymology', 'Greek', 'Lyric']\n",
            "after: ['Etymology', 'Greek', 'Lyric']\n",
            "before: ['decades', 'Proper']\n",
            "after: ['decades', 'Proper']\n",
            "before: ['Castlevania III', 'Trevor Belmont', 'Simon Belmont', 'Dracula', 'Curse', 'third']\n",
            "after: ['Castlevania III', 'Trevor Belmont', 'Simon Belmont', 'Dracula', 'Curse']\n",
            "before: ['Stimulating Global Evangelism', 'Eleven', '25-40']\n",
            "after: ['Stimulating Global Evangelism', 'Eleven', '25-40']\n",
            "before: ['Usucha']\n",
            "after: ['Usucha']\n",
            "before: ['Ferdinand von Richthofen', 'Etymology The', 'Richthofen in', 'Seidenstra', 'Silk Road', 'German', 'first', '1877']\n",
            "after: ['Ferdinand von Richthofen', 'Etymology The', 'Richthofen in', 'Seidenstra', 'Silk Road', 'German', '1877']\n",
            "before: [\"the Piazza dell'Anfiteatro\", 'Traces of the']\n",
            "after: [\"the Piazza dell'Anfiteatro\", 'Traces of the']\n",
            "before: ['the Upper Rhine Valley', 'Upper Rhine Valley in', 'the Grey League', 'Grauer Bund', 'Oberbund', '1395']\n",
            "after: ['the Upper Rhine Valley', 'Upper Rhine Valley in', 'the Grey League', 'Grauer Bund', 'Oberbund', '1395']\n",
            "before: ['Hurricane Bill', 'Category 1', 'August 22']\n",
            "after: ['Hurricane Bill', 'Category 1', 'August 22']\n",
            "before: ['the age of fifteen in 1486', 'Michael Wolgemut']\n",
            "after: ['the age of fifteen in 1486', 'Michael Wolgemut']\n",
            "before: ['The world of Unbinding', 'Ursula K. Le Guin', 'Earthsea', '1964', '1968', 'This', 'A']\n",
            "after: ['The world of Unbinding', 'Ursula K. Le Guin', 'Earthsea', '1964', '1968']\n",
            "before: ['J. K. Rowling', 'Harry Potter', 'British', 'seven']\n",
            "after: ['J. K. Rowling', 'Harry Potter', 'British']\n",
            "before: ['29th January, 1856', 'Queen Victoria', 'Crimean War', 'The VC']\n",
            "after: ['29th January, 1856', 'Queen Victoria', 'Crimean War', 'The VC']\n",
            "before: ['Coenraad Johannes Van Houten in', 'Netherlands', '1828', 'It']\n",
            "after: ['Coenraad Johannes Van Houten in', 'Netherlands', '1828']\n",
            "before: ['the Republic of Ireland', 'Northern Ireland', 'Provisional IRA', 'Sinn Féin', 'Adams']\n",
            "after: ['the Republic of Ireland', 'Northern Ireland', 'Provisional IRA', 'Sinn Féin', 'Adams']\n",
            "before: ['Overview Twelve', 'SK Admira Wien']\n",
            "after: ['Overview Twelve', 'SK Admira Wien']\n",
            "before: ['April 12, 1961', 'Dead Can Dance', 'Brendan Perry', 'Australian', 'Lisa', '007', '5']\n",
            "after: ['April 12, 1961', 'Dead Can Dance', 'Brendan Perry', 'Australian', 'Lisa', '007', '5']\n",
            "before: ['the Cape Verde Islands', '1 September', '690 miles', '1115 km']\n",
            "after: ['the Cape Verde Islands', '1 September', '690 miles', '1115 km']\n",
            "before: ['The Rocker', '2']\n",
            "after: ['The Rocker', '2']\n",
            "before: ['more than $102 million', 'over $400 million', 'Mummy', 'U.S.']\n",
            "after: ['more than $102 million', 'over $400 million', 'Mummy', 'U.S.']\n",
            "before: ['Ceres', '1']\n",
            "after: ['Ceres', '1']\n",
            "before: ['the United Nations Security Council', '14 September', '28 September', '2 October', '24 July', 'seven', 'four']\n",
            "after: ['the United Nations Security Council', '14 September', '28 September', '2 October', '24 July']\n",
            "before: ['1,100']\n",
            "after: ['1,100']\n",
            "before: ['Debian', 'Ubuntu', 'Linux']\n",
            "after: ['Debian', 'Ubuntu', 'Linux']\n",
            "before: ['Hurricane Epsilon', 'a few days later', 'west']\n",
            "after: ['Hurricane Epsilon', 'a few days later', 'west']\n",
            "before: ['Schoenberg', 'Beethoven', 'Schubert', 'Debussy', 'Mozart', 'Chopin']\n",
            "after: ['Schoenberg', 'Beethoven', 'Schubert', 'Debussy', 'Mozart', 'Chopin']\n",
            "before: ['']\n",
            "after: ['']\n",
            "before: ['London Symphony Orchestra in the', 'the London Symphony Orchestra', 'early 1930s', 'the 1920s']\n",
            "after: ['London Symphony Orchestra in the', 'the London Symphony Orchestra', 'early 1930s', 'the 1920s']\n",
            "before: ['North America in the Western Hemisphere', 'Asia in the Eastern Hemisphere', 'the North Pole', 'Scandinavia']\n",
            "after: ['North America in the Western Hemisphere', 'Asia in the Eastern Hemisphere', 'the North Pole', 'Scandinavia']\n",
            "before: ['Gun']\n",
            "after: ['Gun']\n",
            "before: ['Psychedelic']\n",
            "after: ['Psychedelic']\n",
            "before: ['CISC', 'RISC']\n",
            "after: ['CISC', 'RISC']\n",
            "before: ['Matt Leinart', 'week 16', 'Warner', 'first', '49ers']\n",
            "after: ['Matt Leinart', 'week 16', 'Warner', '49ers']\n",
            "before: [\"Lisa's First Word\", 'Elizabeth Taylor', 'Maggie', 'first']\n",
            "after: [\"Lisa's First Word\", 'Elizabeth Taylor', 'Maggie']\n",
            "before: ['Whedon']\n",
            "after: ['Whedon']\n",
            "before: ['Tar']\n",
            "after: ['Tar']\n",
            "before: ['more than thirty', 'Pakistan', 'Lahore', 'two']\n",
            "after: ['more than thirty', 'Pakistan', 'Lahore']\n",
            "before: ['Loyal Opposition in the United Kingdom', 'David William Donald Cameron', 'the Conservative Party', 'Leader of Her Majesty', '9th October, 1966']\n",
            "after: ['Loyal Opposition in the United Kingdom', 'David William Donald Cameron', 'the Conservative Party', 'Leader of Her Majesty', '9th October, 1966']\n",
            "before: ['Cave']\n",
            "after: ['Cave']\n",
            "before: ['']\n",
            "after: ['']\n",
            "before: ['November 25, 1944', 'Benjamin Jeremy', 'Ben\" Stein', 'American']\n",
            "after: ['November 25, 1944', 'Benjamin Jeremy', 'Ben\" Stein', 'American']\n",
            "before: ['ISPs']\n",
            "after: ['ISPs']\n",
            "before: ['Leading Off in', 'five', '1994']\n",
            "after: ['Leading Off in', '1994']\n",
            "before: ['Janus in Augustan Rome', 'Janus Quirinus']\n",
            "after: ['Janus in Augustan Rome', 'Janus Quirinus']\n",
            "before: ['']\n",
            "after: ['']\n",
            "before: ['the RSA Probabilistic Signature Scheme', 'RSA-PSS', 'e. G.', 'PKCS', '1']\n",
            "after: ['the RSA Probabilistic Signature Scheme', 'RSA-PSS', 'e. G.', 'PKCS', '1']\n",
            "before: ['the United Kingdom', 'the European Union', 'Western European', 'Ireland in', 'Germany', 'Poland', 'Poles']\n",
            "after: ['the United Kingdom', 'the European Union', 'Western European', 'Ireland in', 'Germany', 'Poland', 'Poles']\n",
            "before: [\"the Anglicization of McCrystyn's\", 'Christian', 'Manx']\n",
            "after: [\"the Anglicization of McCrystyn's\", 'Christian', 'Manx']\n",
            "before: ['SPD', '25%']\n",
            "after: ['SPD', '25%']\n",
            "before: ['the East Coast', 'Nova Scotia', '23 July']\n",
            "after: ['the East Coast', 'Nova Scotia', '23 July']\n",
            "before: ['Saint James the Greater', 'James the Less', 'Alphaeus', 'The']\n",
            "after: ['Saint James the Greater', 'James the Less', 'Alphaeus']\n",
            "before: ['2007']\n",
            "after: ['2007']\n",
            "before: ['Riemann', 'This']\n",
            "after: ['Riemann']\n",
            "before: ['A Pattern of Roses', 'Bonham Carter', 'K. M. Peyton', 'Lady Jane', 'first', 'The']\n",
            "after: ['A Pattern of Roses', 'Bonham Carter', 'K. M. Peyton', 'Lady Jane']\n",
            "before: ['Drammen', 'Norway']\n",
            "after: ['Drammen', 'Norway']\n",
            "before: ['Administrators of the Northern Territory', 'Norfolk Island', 'Governor', 'General']\n",
            "after: ['Administrators of the Northern Territory', 'Norfolk Island', 'Governor', 'General']\n",
            "before: ['Fourah Bay College', 'West Africa', 'Freetown']\n",
            "after: ['Fourah Bay College', 'West Africa', 'Freetown']\n",
            "before: ['Sportswear']\n",
            "after: ['Sportswear']\n",
            "before: ['Diocese of V', 'Växjö']\n",
            "after: ['Diocese of V', 'Växjö']\n",
            "before: ['Background DES', '256']\n",
            "after: ['Background DES', '256']\n",
            "before: ['Central America', 'Honduras']\n",
            "after: ['Central America', 'Honduras']\n",
            "before: ['jersey']\n",
            "after: ['jersey']\n",
            "before: ['the Mississippi River', 'Arkansas River']\n",
            "after: ['the Mississippi River', 'Arkansas River']\n",
            "before: ['Metarterioles', 'They']\n",
            "after: ['Metarterioles']\n",
            "before: ['Just Say No\"']\n",
            "after: ['Just Say No\"']\n",
            "before: ['Annaser Benghazi', 'Libyan']\n",
            "after: ['Annaser Benghazi', 'Libyan']\n",
            "before: ['Students', 'year']\n",
            "after: ['Students', 'year']\n",
            "before: ['']\n",
            "after: ['']\n",
            "before: ['Energy']\n",
            "after: ['Energy']\n",
            "before: ['FC Bayern General Manager Uli Hoene', 'Uli Hoeneß', 'Stoiber', '2002', 'CSU']\n",
            "after: ['FC Bayern General Manager Uli Hoene', 'Uli Hoeneß', 'Stoiber', '2002', 'CSU']\n",
            "before: ['more than 20 kg', '90 cm', 'Males']\n",
            "after: ['more than 20 kg', '90 cm', 'Males']\n",
            "before: ['Artificial Intelligence One Kubrick', 'A. I. Artificial Intelligence', 'Steven Spielberg']\n",
            "after: ['Artificial Intelligence One Kubrick', 'A. I. Artificial Intelligence', 'Steven Spielberg']\n",
            "before: ['one-minute']\n",
            "after: ['one-minute']\n",
            "before: ['Oliver Smithies', 'Martin Evans', 'first']\n",
            "after: ['Oliver Smithies', 'Martin Evans']\n",
            "before: ['May 18', '2nd', '5.1']\n",
            "after: ['May 18', '2nd', '5.1']\n",
            "before: ['']\n",
            "after: ['']\n",
            "before: ['Association']\n",
            "after: ['Association']\n",
            "before: ['Cash']\n",
            "after: ['Cash']\n",
            "before: ['DNA']\n",
            "after: ['DNA']\n",
            "before: ['Stenurine', 'two']\n",
            "after: ['Stenurine']\n",
            "before: ['navy']\n",
            "after: ['navy']\n",
            "before: ['Wikipedia', 'Essjay', 'Wales', 'Wikia']\n",
            "after: ['Wikipedia', 'Essjay', 'Wales', 'Wikia']\n",
            "before: ['Odyssey', 'Greek', 'Homer']\n",
            "after: ['Odyssey', 'Greek', 'Homer']\n",
            "before: ['\"To Be Continued', 'fourth', '2003', 'The', 'It']\n",
            "after: ['\"To Be Continued', 'fourth', '2003']\n",
            "before: ['March 28, 1941', 'Woolf']\n",
            "after: ['March 28, 1941', 'Woolf']\n",
            "before: ['Woodford County', 'Illinois', 'Eureka', 'U.S.', 'It']\n",
            "after: ['Woodford County', 'Illinois', 'Eureka', 'U.S.']\n",
            "before: ['schools icon', 'eagle']\n",
            "after: ['schools icon', 'eagle']\n",
            "before: ['Netherlands', 'Emmen']\n",
            "after: ['Netherlands', 'Emmen']\n",
            "before: ['Borken']\n",
            "after: ['Borken']\n",
            "before: ['Vinton', 'first']\n",
            "after: ['Vinton']\n",
            "before: ['Lakshadweep and Pondicherry', 'Andhra Pradesh', 'South India', 'Tamil Nadu', 'Karnataka', 'Kerala']\n",
            "after: ['Lakshadweep and Pondicherry', 'Andhra Pradesh', 'South India', 'Tamil Nadu', 'Karnataka', 'Kerala']\n",
            "before: ['Christmas Island in Australia']\n",
            "after: ['Christmas Island in Australia']\n",
            "before: ['']\n",
            "after: ['']\n",
            "before: ['Nordraak', 'Grieg', '1866']\n",
            "after: ['Nordraak', 'Grieg', '1866']\n",
            "before: ['Groundwater']\n",
            "after: ['Groundwater']\n",
            "before: ['Sweet Children']\n",
            "after: ['Sweet Children']\n",
            "before: ['Universal Studios', 'Firefly', 'Whedon']\n",
            "after: ['Universal Studios', 'Firefly', 'Whedon']\n",
            "before: ['']\n",
            "after: ['']\n",
            "before: ['the Berlin Wall', 'Axel Springer', 'Kochstraße', 'German']\n",
            "after: ['the Berlin Wall', 'Axel Springer', 'Kochstraße', 'German']\n",
            "before: ['first', 'two', 'one']\n",
            "after: []\n",
            "before: ['the first century', 'Romans', 'BCE']\n",
            "after: ['the first century', 'Romans', 'BCE']\n",
            "before: ['\"A Bridge Too Far\"', '1977']\n",
            "after: ['\"A Bridge Too Far\"', '1977']\n",
            "before: ['the Thousand Islands Bridge Authority']\n",
            "after: ['the Thousand Islands Bridge Authority']\n",
            "before: ['']\n",
            "after: ['']\n",
            "before: ['']\n",
            "after: ['']\n",
            "before: ['Fiorito']\n",
            "after: ['Fiorito']\n",
            "before: ['March 2005', 'Pavarotti', 'two']\n",
            "after: ['March 2005', 'Pavarotti']\n",
            "before: ['']\n",
            "after: ['']\n",
            "before: ['China', 'first']\n",
            "after: ['China']\n",
            "before: ['']\n",
            "after: ['']\n",
            "before: ['about 300 meters', '1,060 meters']\n",
            "after: ['about 300 meters', '1,060 meters']\n",
            "before: ['the labor party', 'National Party', 'Traditionally', 'Prime']\n",
            "after: ['the labor party', 'National Party', 'Traditionally', 'Prime']\n",
            "before: ['']\n",
            "after: ['']\n",
            "before: ['September 11, 2001', 'April 13, 2003', 'CEO Reynolds', 'President']\n",
            "after: ['September 11, 2001', 'April 13, 2003', 'CEO Reynolds', 'President']\n",
            "before: ['Saxony to the River Elbe', '150 kilometers', 'two']\n",
            "after: ['Saxony to the River Elbe', '150 kilometers']\n",
            "before: ['year 1976', 'Punk', 'NME']\n",
            "after: ['year 1976', 'Punk', 'NME']\n",
            "before: ['']\n",
            "after: ['']\n",
            "before: ['Bundesländer', 'Local', 'Not']\n",
            "after: ['Bundesländer', 'Local']\n",
            "before: ['Norma']\n",
            "after: ['Norma']\n",
            "before: ['Common', 'MI in']\n",
            "after: ['Common', 'MI in']\n",
            "before: ['Formosa Strait', 'Taiwan Strait', '111.85 mile', 'China']\n",
            "after: ['Formosa Strait', 'Taiwan Strait', '111.85 mile', 'China']\n",
            "before: ['Brian Jacques', 'Redwall']\n",
            "after: ['Brian Jacques', 'Redwall']\n",
            "before: ['the Philadelphia Zoo', '20-30 years', '40 years', 'Typical']\n",
            "after: ['the Philadelphia Zoo', '20-30 years', '40 years', 'Typical']\n",
            "before: ['pan dulce', 'Mexican', 'Spain']\n",
            "after: ['pan dulce', 'Mexican', 'Spain']\n",
            "before: ['Switzerland', 'Graubunden', 'Plessur']\n",
            "after: ['Switzerland', 'Graubunden', 'Plessur']\n",
            "before: ['1590-1868', 'Japanese', 'Edo']\n",
            "after: ['1590-1868', 'Japanese', 'Edo']\n",
            "before: ['The Triumph of Christianity', \"The Soldier's Friend\", 'a Lyric Poem', 'Resignation', 'Peace', '1814', '1817', '1819', '1828']\n",
            "after: ['The Triumph of Christianity', \"The Soldier's Friend\", 'a Lyric Poem', 'Resignation', 'Peace', '1814', '1817', '1819', '1828']\n",
            "before: ['However']\n",
            "after: []\n",
            "before: ['marsupial herbivores', 'possums', 'koalas']\n",
            "after: ['marsupial herbivores', 'possums', 'koalas']\n",
            "before: ['the Hockey Hall of Fame', '18']\n",
            "after: ['the Hockey Hall of Fame', '18']\n",
            "before: ['Shadow of the Hegemon', 'the Bean Quartet', 'Orson Scott Card', 'Ender Shadow', 'second', '2001']\n",
            "after: ['Shadow of the Hegemon', 'the Bean Quartet', 'Orson Scott Card', 'Ender Shadow', '2001']\n",
            "before: ['about $(US dollars', 'the United States']\n",
            "after: ['about $(US dollars', 'the United States']\n",
            "before: ['the 2010/11 season', 'June 2008', 'four-year', '125']\n",
            "after: ['the 2010/11 season', 'June 2008', 'four-year', '125']\n",
            "before: ['History The', 'first', '1178']\n",
            "after: ['History The', '1178']\n",
            "before: ['Fire Salamanders']\n",
            "after: ['Fire Salamanders']\n",
            "before: ['second']\n",
            "after: []\n",
            "before: ['']\n",
            "after: ['']\n",
            "before: ['']\n",
            "after: ['']\n",
            "before: ['first', 'Fert']\n",
            "after: ['Fert']\n",
            "before: ['Modern Rock making Fat Lip', 'Fat Lip the', 'Billboard']\n",
            "after: ['Modern Rock making Fat Lip', 'Fat Lip the', 'Billboard']\n",
            "before: ['Isleham', 'May 3', 'Lark']\n",
            "after: ['Isleham', 'May 3', 'Lark']\n",
            "before: ['the night']\n",
            "after: ['the night']\n",
            "before: ['as far as 799', 'Vaihingen']\n",
            "after: ['as far as 799', 'Vaihingen']\n",
            "before: ['']\n",
            "after: ['']\n",
            "before: ['January 21, 2003', 'DVDX', 'It']\n",
            "after: ['January 21, 2003', 'DVDX']\n",
            "before: ['Hurricane Bertha', 'Category 1', 'July 8', 'It']\n",
            "after: ['Hurricane Bertha', 'Category 1', 'July 8']\n",
            "before: ['French King Charles the Simple', 'Norwegian', 'Viking', 'Danish', 'Rollo', '911']\n",
            "after: ['French King Charles the Simple', 'Norwegian', 'Viking', 'Danish', 'Rollo', '911']\n",
            "before: ['Command Module Pilot Stuart Roosa', 'several hundred', 'Moon']\n",
            "after: ['Command Module Pilot Stuart Roosa', 'several hundred', 'Moon']\n",
            "before: ['Big Mom', 'Copper', 'Tod']\n",
            "after: ['Big Mom', 'Copper', 'Tod']\n",
            "before: ['']\n",
            "after: ['']\n",
            "before: ['British Dominions in the', 'the British Dominions', 'North-Western', 'Uttar Pradesh', 'present-day', 'Nerbudda', 'Saugor']\n",
            "after: ['British Dominions in the', 'the British Dominions', 'North-Western', 'Uttar Pradesh', 'present-day', 'Nerbudda', 'Saugor']\n",
            "before: ['a Cardinal Priest', 'Santa Maria Nuova', '18 February 1946']\n",
            "after: ['a Cardinal Priest', 'Santa Maria Nuova', '18 February 1946']\n",
            "before: ['North Carolina', 'Holly Springs', 'United States']\n",
            "after: ['North Carolina', 'Holly Springs', 'United States']\n",
            "before: ['the Australian Imperial Force', 'the 53rd Battalion', 'the 1st Battalion', 'the 5th Division', 'March, 1916']\n",
            "after: ['the Australian Imperial Force', 'the 53rd Battalion', 'the 1st Battalion', 'the 5th Division', 'March, 1916']\n",
            "before: ['']\n",
            "after: ['']\n",
            "before: ['Idamante', 'Electra', 'Argos']\n",
            "after: ['Idamante', 'Electra', 'Argos']\n",
            "before: ['Story', 'Cale']\n",
            "after: ['Story', 'Cale']\n",
            "before: ['March 13, 1939', 'NHL']\n",
            "after: ['March 13, 1939', 'NHL']\n",
            "before: ['1858-1998', 'Italians', 'mafia']\n",
            "after: ['1858-1998', 'Italians', 'mafia']\n",
            "before: ['the United States', 'the 28th', '1845']\n",
            "after: ['the United States', 'the 28th', '1845']\n",
            "before: ['Smallville TV', 'Aquaman']\n",
            "after: ['Smallville TV', 'Aquaman']\n",
            "before: ['Mark Schatz', '2003']\n",
            "after: ['Mark Schatz', '2003']\n",
            "before: ['Independent Assortment (Inheritance Law', 'Law of Independent Assortment', 'Different', 'one']\n",
            "after: ['Independent Assortment (Inheritance Law', 'Law of Independent Assortment']\n",
            "before: ['Punjabis in India', 'Lieutenant', 'Colonel in', 'Hong Kong', '1910', '25']\n",
            "after: ['Punjabis in India', 'Lieutenant', 'Colonel in', 'Hong Kong', '1910', '25']\n",
            "before: ['Grand Slam']\n",
            "after: ['Grand Slam']\n",
            "before: ['Laurent Boutonnat', 'Mylène Farmer', 'Alizée', 'France', 'two']\n",
            "after: ['Laurent Boutonnat', 'Mylène Farmer', 'Alizée', 'France']\n",
            "before: ['the Nihon Shoki', 'Ninigi', 'Mikoto']\n",
            "after: ['the Nihon Shoki', 'Ninigi', 'Mikoto']\n",
            "before: ['Medieval Europe', 'first', '3']\n",
            "after: ['Medieval Europe', '3']\n",
            "before: ['liquid ethane & methane', 'Titan']\n",
            "after: ['liquid ethane & methane', 'Titan']\n",
            "before: ['Eid']\n",
            "after: ['Eid']\n",
            "before: ['Europe', 'Brave', 'Glory']\n",
            "after: ['Europe', 'Brave', 'Glory']\n",
            "before: ['Western Satrap', 'Rudrasimha III', 'Asia The', 'Guptas']\n",
            "after: ['Western Satrap', 'Rudrasimha III', 'Asia The', 'Guptas']\n",
            "before: ['Robert Leroy Johnson', 'August 16, 1938', 'May 8, 1911', 'American', 'Delta']\n",
            "after: ['Robert Leroy Johnson', 'August 16, 1938', 'May 8, 1911', 'American', 'Delta']\n",
            "before: ['Victoria']\n",
            "after: ['Victoria']\n",
            "before: ['Hurricane Kenna of', 'Hurricane Lane', 'Pacific', 'Mexico', '2002']\n",
            "after: ['Hurricane Kenna of', 'Hurricane Lane', 'Pacific', 'Mexico', '2002']\n",
            "before: ['Pallas the Titan', 'Artemis', 'Selene', 'Zeus']\n",
            "after: ['Pallas the Titan', 'Artemis', 'Selene', 'Zeus']\n",
            "before: ['Spurgeon', '1911', '565', 'It']\n",
            "after: ['Spurgeon', '1911', '565']\n",
            "before: ['one year', '2007', 'four', '1962', '27']\n",
            "after: ['one year', '2007', '1962', '27']\n",
            "before: ['Colin Powell']\n",
            "after: ['Colin Powell']\n",
            "before: ['']\n",
            "after: ['']\n",
            "before: ['A Lark in a Snowstorm', 'Scandinavian', 'Leivonen', 'Pohjola', 'Finnish', 'Toivo K', 'Kärki', '2006']\n",
            "after: ['A Lark in a Snowstorm', 'Scandinavian', 'Leivonen', 'Pohjola', 'Finnish', 'Toivo K', 'Kärki', '2006']\n",
            "before: ['Mendoza', 'Pedro', 'Chile', 'first']\n",
            "after: ['Mendoza', 'Pedro', 'Chile']\n",
            "before: ['Hurricane Epsilon', 'Atlantic', 'December', 'sixth']\n",
            "after: ['Hurricane Epsilon', 'Atlantic', 'December', 'sixth']\n",
            "before: ['Friday of the Gregorian', 'a leap year', 'MMXVI', '2016']\n",
            "after: ['Friday of the Gregorian', 'a leap year', 'MMXVI', '2016']\n",
            "before: [\"the Thirty Years ' War\", 'only 3,600', 'Soest', '1756']\n",
            "after: [\"the Thirty Years ' War\", 'only 3,600', 'Soest', '1756']\n",
            "before: ['Sponsoring']\n",
            "after: ['Sponsoring']\n",
            "before: ['the early 1960s', 'Jim Henson', 'Don Sahlin', 'Love']\n",
            "after: ['the early 1960s', 'Jim Henson', 'Don Sahlin', 'Love']\n",
            "before: ['General Theological Seminary', 'Oxford University', 'BA in Theology', 'Oriel College', '1962, 1966', 'MA']\n",
            "after: ['General Theological Seminary', 'Oxford University', 'BA in Theology', 'Oriel College', '1962, 1966', 'MA']\n",
            "before: ['Luther', '1545']\n",
            "after: ['Luther', '1545']\n",
            "before: ['International Union for the Conservation of Nature and Natural Resources (IUCN']\n",
            "after: ['International Union for the Conservation of Nature and Natural Resources (IUCN']\n",
            "before: ['']\n",
            "after: ['']\n",
            "before: ['Psyche']\n",
            "after: ['Psyche']\n",
            "before: ['early 2003', 'Chess']\n",
            "after: ['early 2003', 'Chess']\n",
            "before: ['Big Mac PPP', 'two']\n",
            "after: ['Big Mac PPP']\n",
            "before: ['']\n",
            "after: ['']\n",
            "before: ['Lisa Donovan', 'American', '06', '11', '81']\n",
            "after: ['Lisa Donovan', 'American', '06', '11', '81']\n",
            "before: ['Missouri in the USA', 'Howell County']\n",
            "after: ['Missouri in the USA', 'Howell County']\n",
            "before: ['West Beverley High School', 'California University', 'Beverley Hills']\n",
            "after: ['West Beverley High School', 'California University', 'Beverley Hills']\n",
            "before: ['the Middle Ages', 'Hanseatic', 'Rostock']\n",
            "after: ['the Middle Ages', 'Hanseatic', 'Rostock']\n",
            "before: ['the GNU General Public License', 'Stallman']\n",
            "after: ['the GNU General Public License', 'Stallman']\n",
            "before: ['Disney']\n",
            "after: ['Disney']\n",
            "before: ['1871']\n",
            "after: ['1871']\n",
            "before: ['dancer Michelle McSween', 'Night', '1999', 'What', 'Oh']\n",
            "after: ['dancer Michelle McSween', 'Night', '1999']\n",
            "before: ['the Organisation of African Unity', 'Haile Selassie', 'Addis Ababa', '1963']\n",
            "after: ['the Organisation of African Unity', 'Haile Selassie', 'Addis Ababa', '1963']\n",
            "before: ['Roman Catholic']\n",
            "after: ['Roman Catholic']\n",
            "before: ['the Vancouver National Historic Reserve', 'Fort Vancouver National Historic Site', 'Pearson Field']\n",
            "after: ['the Vancouver National Historic Reserve', 'Fort Vancouver National Historic Site', 'Pearson Field']\n",
            "before: ['The Film Program', 'Jonathan Ross', 'BBC Radio 2', 'Working', 'Friday', 'night', '1997', '2001', '1999']\n",
            "after: ['The Film Program', 'Jonathan Ross', 'BBC Radio 2', 'Working', 'Friday', 'night', '1997', '2001', '1999']\n",
            "before: ['1998']\n",
            "after: ['1998']\n",
            "before: ['Alfred Nobel in', 'Nobel Prize', 'five', '1895', 'one']\n",
            "after: ['Alfred Nobel in', 'Nobel Prize', '1895']\n",
            "before: ['the month of April', 'Tropical Storm Ana', 'Atlantic']\n",
            "after: ['the month of April', 'Tropical Storm Ana', 'Atlantic']\n",
            "before: ['February 1941', 'Buchenwald', 'Mauthausen', 'Jews', '600']\n",
            "after: ['February 1941', 'Buchenwald', 'Mauthausen', 'Jews', '600']\n",
            "before: [\"Pepper's Lonely Hearts Club Band\", 'Sgt']\n",
            "after: [\"Pepper's Lonely Hearts Club Band\", 'Sgt']\n",
            "before: ['Kyoto Style Dance', 'Japanese', 'Kyomai', 'Mai', 'An']\n",
            "after: ['Kyoto Style Dance', 'Japanese', 'Kyomai', 'Mai']\n",
            "before: ['Sylvanus Urban', 'Cave']\n",
            "after: ['Sylvanus Urban', 'Cave']\n",
            "before: ['']\n",
            "after: ['']\n",
            "before: ['Bible']\n",
            "after: ['Bible']\n",
            "before: ['the FIFA Congress']\n",
            "after: ['the FIFA Congress']\n",
            "before: ['Mass Rapid Transit', '1987', 'MRT']\n",
            "after: ['Mass Rapid Transit', '1987', 'MRT']\n",
            "before: ['']\n",
            "after: ['']\n",
            "before: ['the Second World War', 'the First World War', 'Sopwith Triplane', 'Avro Lancaster', 'Artifacts']\n",
            "after: ['the Second World War', 'the First World War', 'Sopwith Triplane', 'Avro Lancaster', 'Artifacts']\n",
            "before: ['Blowfish', 'Schneier', 'DES']\n",
            "after: ['Blowfish', 'Schneier', 'DES']\n",
            "before: ['March 25 1229', 'Glinde']\n",
            "after: ['March 25 1229', 'Glinde']\n",
            "before: ['Cognition']\n",
            "after: ['Cognition']\n",
            "before: ['']\n",
            "after: ['']\n",
            "before: ['']\n",
            "after: ['']\n",
            "before: ['Finished', 'AD 8']\n",
            "after: ['Finished', 'AD 8']\n",
            "before: ['December 7, 1998', 'IPTV']\n",
            "after: ['December 7, 1998', 'IPTV']\n",
            "before: ['Grameen Bank Project', 'October of 1983', 'Government']\n",
            "after: ['Grameen Bank Project', 'October of 1983', 'Government']\n",
            "before: ['second', 'Atomic', 'zero', 'It']\n",
            "after: ['Atomic']\n",
            "before: ['November, 15, 2003', 'Ballarat', 'Sprinter', 'Ballan', 'Gordon', '61', 'It']\n",
            "after: ['November, 15, 2003', 'Ballarat', 'Sprinter', 'Ballan', 'Gordon', '61']\n",
            "before: ['']\n",
            "after: ['']\n",
            "before: ['Links', 'Those']\n",
            "after: ['Links']\n",
            "before: ['']\n",
            "after: ['']\n",
            "before: ['Modern African']\n",
            "after: ['Modern African']\n",
            "before: ['Afro-Arab Abbala', 'The Janjaweed', 'Sudanese', 'These']\n",
            "after: ['Afro-Arab Abbala', 'The Janjaweed', 'Sudanese']\n",
            "before: ['Muslims', 'Jeddah', 'Mecca', 'Islam']\n",
            "after: ['Muslims', 'Jeddah', 'Mecca', 'Islam']\n",
            "before: ['Great Dark Spot', 'Neptune']\n",
            "after: ['Great Dark Spot', 'Neptune']\n",
            "before: ['Saturday']\n",
            "after: ['Saturday']\n",
            "before: ['Then', 'It']\n",
            "after: []\n",
            "before: ['six weeks later', '888']\n",
            "after: ['six weeks later', '888']\n",
            "before: ['Papua New Guinea']\n",
            "after: ['Papua New Guinea']\n",
            "before: ['the Kate Greenaway Medal', 'Colin Mears Award', '5000', 'Its']\n",
            "after: ['the Kate Greenaway Medal', 'Colin Mears Award', '5000']\n",
            "before: ['Dancers']\n",
            "after: ['Dancers']\n",
            "before: ['Giovanni Domenico Cassini', 'Christiaan Huygens', 'Italian-French', 'NASA Cassini', 'ESA Huygens', 'Dutch', 'two']\n",
            "after: ['Giovanni Domenico Cassini', 'Christiaan Huygens', 'Italian-French', 'NASA Cassini', 'ESA Huygens', 'Dutch']\n",
            "before: ['IItalian Alessandro', 'November 1942', 'Mazzola', 'Sandro', '8']\n",
            "after: ['IItalian Alessandro', 'November 1942', 'Mazzola', 'Sandro', '8']\n",
            "before: ['']\n",
            "after: ['']\n",
            "before: ['Wheaton College', 'Graham', 'BA in', '1939', '1943']\n",
            "after: ['Wheaton College', 'Graham', 'BA in', '1939', '1943']\n",
            "before: ['the Freedom Party', 'the Lisbon Treaty', 'EU-Withdrawal', 'However', 'BZÖ']\n",
            "after: ['the Freedom Party', 'the Lisbon Treaty', 'EU-Withdrawal', 'BZÖ']\n",
            "before: ['the end of the 19th century', 'European']\n",
            "after: ['the end of the 19th century', 'European']\n",
            "before: ['the Rock and Roll Hall of Fame', 'Wexler', '1987']\n",
            "after: ['the Rock and Roll Hall of Fame', 'Wexler', '1987']\n",
            "before: ['dexdextromethorphan', 'Pure']\n",
            "after: ['dexdextromethorphan', 'Pure']\n",
            "before: ['Tsinghua']\n",
            "after: ['Tsinghua']\n",
            "before: ['NRC']\n",
            "after: ['NRC']\n",
            "before: ['the Baltic Sea', 'Stralsund', 'There']\n",
            "after: ['the Baltic Sea', 'Stralsund']\n",
            "before: ['Sportsman of the Year', 'Sports Illustrated', '1982']\n",
            "after: ['Sportsman of the Year', 'Sports Illustrated', '1982']\n",
            "before: ['British']\n",
            "after: ['British']\n",
            "before: [\"King Bhumibol's\", 'Thailand']\n",
            "after: [\"King Bhumibol's\", 'Thailand']\n",
            "before: ['The National Museum of Scotland in', '2007']\n",
            "after: ['The National Museum of Scotland in', '2007']\n",
            "before: ['Tagore']\n",
            "after: ['Tagore']\n",
            "before: ['John F. Kennedy', 'the Peace Corps', 'Presidential']\n",
            "after: ['John F. Kennedy', 'the Peace Corps', 'Presidential']\n",
            "before: ['President Reagan in', 'Great Performances', 'the White House', '1988', 'PBS', 'The', 'It']\n",
            "after: ['President Reagan in', 'Great Performances', 'the White House', '1988', 'PBS']\n",
            "before: ['WWF European Championship', 'Perry Saturn', 'Diving', 'He']\n",
            "after: ['WWF European Championship', 'Perry Saturn', 'Diving']\n",
            "before: ['the United States', 'France', '1927']\n",
            "after: ['the United States', 'France', '1927']\n",
            "before: ['late July 1989', 'Voyager 2', 'Despina']\n",
            "after: ['late July 1989', 'Voyager 2', 'Despina']\n",
            "before: ['Italian Grand Prix', '4 September 1921', 'Brescia', 'first']\n",
            "after: ['Italian Grand Prix', '4 September 1921', 'Brescia']\n",
            "before: ['The Ribbajack & Other Curious Yarns', 'Seven Strange', 'Ghostly Tales', 'two']\n",
            "after: ['The Ribbajack & Other Curious Yarns', 'Seven Strange', 'Ghostly Tales']\n",
            "before: ['Voyager 2', 'Ophelia', 'Uranus']\n",
            "after: ['Voyager 2', 'Ophelia', 'Uranus']\n",
            "before: ['British']\n",
            "after: ['British']\n",
            "before: ['the south-east area', 'Western Australia', 'West Australian']\n",
            "after: ['the south-east area', 'Western Australia', 'West Australian']\n",
            "before: ['Coloured']\n",
            "after: ['Coloured']\n",
            "before: ['Rolling Hills Estates', 'Palos Verdes Penisula', 'Rancho Palos Verdes', 'Some']\n",
            "after: ['Rolling Hills Estates', 'Palos Verdes Penisula', 'Rancho Palos Verdes']\n",
            "before: ['Captain Qwark', 'Ratchet', 'Clank', 'Drek', 'He']\n",
            "after: ['Captain Qwark', 'Ratchet', 'Clank', 'Drek']\n",
            "before: ['']\n",
            "after: ['']\n",
            "before: ['He']\n",
            "after: []\n",
            "before: ['half']\n",
            "after: ['half']\n",
            "before: ['Working Group I', 'Evaluates']\n",
            "after: ['Working Group I', 'Evaluates']\n",
            "before: ['the Sea of the Hebrides', 'the Little Minch', 'Scottish', 'Inner']\n",
            "after: ['the Sea of the Hebrides', 'the Little Minch', 'Scottish']\n",
            "before: ['Alanna Marie Orton', 'July 12, 2008']\n",
            "after: ['Alanna Marie Orton', 'July 12, 2008']\n",
            "before: ['Minor Planet Center', 'IAU']\n",
            "after: ['Minor Planet Center', 'IAU']\n",
            "before: ['September 30th', 'Wind']\n",
            "after: ['September 30th', 'Wind']\n",
            "before: ['']\n",
            "after: ['']\n",
            "before: ['mosques']\n",
            "after: ['mosques']\n",
            "before: ['Mariel of Redwall', 'Brian Jacques', '1991']\n",
            "after: ['Mariel of Redwall', 'Brian Jacques', '1991']\n",
            "before: ['Bristol Rugby in the Guinness Premiership', 'Ryan Prosser']\n",
            "after: ['Bristol Rugby in the Guinness Premiership', 'Ryan Prosser']\n",
            "before: ['three', 'four']\n",
            "after: []\n",
            "before: ['granddaughter Hélène Langevin-Joliot', 'Pierre Joliot', 'Pierre Curie']\n",
            "after: ['granddaughter Hélène Langevin-Joliot', 'Pierre Joliot', 'Pierre Curie']\n",
            "before: ['Victoria']\n",
            "after: ['Victoria']\n",
            "before: ['International Fight League', 'MMA league', 'American', 'first']\n",
            "after: ['International Fight League', 'MMA league', 'American']\n",
            "before: ['Giardia']\n",
            "after: ['Giardia']\n",
            "before: ['Cameron \"Buck\" Williams', 'Tribulation Force', 'Left Behind II', 'World at War', 'Christian', 'The Movie']\n",
            "after: ['Cameron \"Buck\" Williams', 'Tribulation Force', 'Left Behind II', 'World at War', 'Christian', 'The Movie']\n",
            "before: ['the Vistuala River', 'Prussia']\n",
            "after: ['the Vistuala River', 'Prussia']\n",
            "before: ['the Armenian Philarmonic Orchestra', 'Conservatory', 'He']\n",
            "after: ['the Armenian Philarmonic Orchestra', 'Conservatory']\n",
            "before: ['Gospel of Matthew', 'Christmas', 'Luke']\n",
            "after: ['Gospel of Matthew', 'Christmas', 'Luke']\n",
            "before: ['Chichester Cathedral', 'Excessive']\n",
            "after: ['Chichester Cathedral', 'Excessive']\n",
            "before: ['']\n",
            "after: ['']\n",
            "before: ['Stephen Synnott', 'Voyager 1', 'Jupiter']\n",
            "after: ['Stephen Synnott', 'Voyager 1', 'Jupiter']\n",
            "before: ['Spanish', 'Fesser', 'Cano']\n",
            "after: ['Spanish', 'Fesser', 'Cano']\n",
            "before: ['The Resistance', 'June 16, 2009', 'band']\n",
            "after: ['The Resistance', 'June 16, 2009', 'band']\n",
            "before: ['Jungiery']\n",
            "after: ['Jungiery']\n",
            "before: ['Aleluia', 'Hallel', 'Agape']\n",
            "after: ['Aleluia', 'Hallel', 'Agape']\n",
            "before: ['Charles', 'Vikings', 'France', 'Rollo']\n",
            "after: ['Charles', 'Vikings', 'France', 'Rollo']\n",
            "before: ['Voice of America']\n",
            "after: ['Voice of America']\n",
            "before: ['Shirley Temple', 'Disney', 'Oscar', 'seven', '10']\n",
            "after: ['Shirley Temple', 'Disney', 'Oscar', '10']\n",
            "before: ['first']\n",
            "after: []\n",
            "before: ['Hinterrhein', 'Switzerland', 'Graubünden']\n",
            "after: ['Hinterrhein', 'Switzerland', 'Graubünden']\n",
            "before: ['Bohemian Switzerland in the Czech Republic', 'the Bohemian Switzerland']\n",
            "after: ['Bohemian Switzerland in the Czech Republic', 'the Bohemian Switzerland']\n",
            "before: ['1,048,576', 'megabyte', '220', 'MiB', 'MB']\n",
            "after: ['1,048,576', 'megabyte', '220', 'MiB', 'MB']\n",
            "before: ['']\n",
            "after: ['']\n",
            "before: ['']\n",
            "after: ['']\n",
            "before: ['Seventh']\n",
            "after: ['Seventh']\n",
            "before: ['PassMark Software', 'Evaluation', '52 second', '2009', '7 MB', '32']\n",
            "after: ['PassMark Software', 'Evaluation', '52 second', '2009', '7 MB', '32']\n",
            "before: ['Volterra', 'Tuscany', 'Italy']\n",
            "after: ['Volterra', 'Tuscany', 'Italy']\n",
            "before: ['Based', 'But']\n",
            "after: ['Based']\n",
            "before: ['The']\n",
            "after: []\n",
            "before: ['Star Gate']\n",
            "after: ['Star Gate']\n",
            "before: ['Ipswich', 'England', 'two']\n",
            "after: ['Ipswich', 'England']\n",
            "before: ['Find the']\n",
            "after: ['Find the']\n",
            "before: ['Volunteers']\n",
            "after: ['Volunteers']\n",
            "before: ['Vouvray-sur-Huisne', 'Pays-de-la-Loire', 'France', 'Sarthe']\n",
            "after: ['Vouvray-sur-Huisne', 'Pays-de-la-Loire', 'France', 'Sarthe']\n",
            "before: ['']\n",
            "after: ['']\n",
            "before: ['Cooktown, Cape York Peninsula', 'Atherton Tableland']\n",
            "after: ['Cooktown, Cape York Peninsula', 'Atherton Tableland']\n",
            "before: ['Bruises']\n",
            "after: ['Bruises']\n",
            "before: ['Wikipedia', 'one']\n",
            "after: ['Wikipedia']\n",
            "before: ['George I of Great Britain', 'George Frideric Handel', 'Elector of Hanover', 'Kapellmeister']\n",
            "after: ['George I of Great Britain', 'George Frideric Handel', 'Elector of Hanover', 'Kapellmeister']\n",
            "before: ['']\n",
            "after: ['']\n",
            "before: ['chitin']\n",
            "after: ['chitin']\n",
            "before: ['Oregano', 'Greek']\n",
            "after: ['Oregano', 'Greek']\n",
            "before: ['the Docklands Light Railway', 'National Rail', 'Tickets', 'Oyster']\n",
            "after: ['the Docklands Light Railway', 'National Rail', 'Tickets', 'Oyster']\n",
            "before: ['']\n",
            "after: ['']\n",
            "before: ['']\n",
            "after: ['']\n",
            "before: ['Lake Vostok']\n",
            "after: ['Lake Vostok']\n",
            "before: ['2000', '148', '89']\n",
            "after: ['2000', '148', '89']\n",
            "before: ['Aliteracy']\n",
            "after: ['Aliteracy']\n",
            "before: ['Mifepristone']\n",
            "after: ['Mifepristone']\n",
            "before: ['']\n",
            "after: ['']\n",
            "before: ['Moreover']\n",
            "after: []\n",
            "before: ['Landis', 'Floyd', 'Today']\n",
            "after: ['Landis', 'Floyd', 'Today']\n",
            "before: ['Category 4']\n",
            "after: ['Category 4']\n",
            "before: ['']\n",
            "after: ['']\n",
            "before: ['Elizabeth Morison', 'Frances Lamont', '1911']\n",
            "after: ['Elizabeth Morison', 'Frances Lamont', '1911']\n",
            "before: ['London']\n",
            "after: ['London']\n",
            "before: ['Brunstad']\n",
            "after: ['Brunstad']\n",
            "before: ['11,000']\n",
            "after: ['11,000']\n",
            "before: ['the united Kingdom of Italy', 'the States of the Church', 'Perugia', 'Trevi', 'first', 'After', '1438', '1860']\n",
            "after: ['the united Kingdom of Italy', 'the States of the Church', 'Perugia', 'Trevi', '1438', '1860']\n",
            "before: ['the next day', 'the 20th', 'Brazil', 'It']\n",
            "after: ['the next day', 'the 20th', 'Brazil']\n",
            "before: ['New York City Housing Authority Police Department', '1952 to 1995', 'It']\n",
            "after: ['New York City Housing Authority Police Department', '1952 to 1995']\n",
            "before: ['Dave McClain', 'Phil Demmel', 'Flynn', 'Duce']\n",
            "after: ['Dave McClain', 'Phil Demmel', 'Flynn', 'Duce']\n",
            "before: ['the Middle East', 'Countries', 'Muslim']\n",
            "after: ['the Middle East', 'Countries', 'Muslim']\n",
            "before: ['Pete', 'Dud']\n",
            "after: ['Pete', 'Dud']\n",
            "before: ['HammerFall', 'Swedish', 'Johan']\n",
            "after: ['HammerFall', 'Swedish', 'Johan']\n",
            "before: ['Iowa Secretary of State', 'Culver']\n",
            "after: ['Iowa Secretary of State', 'Culver']\n",
            "before: ['Mark Messier', 'Ray Bourque', 'Hart', 'two']\n",
            "after: ['Mark Messier', 'Ray Bourque', 'Hart']\n",
            "before: ['Shade']\n",
            "after: ['Shade']\n",
            "before: ['']\n",
            "after: ['']\n",
            "before: ['April 1999', 'They']\n",
            "after: ['April 1999']\n",
            "before: ['the National Park Service', 'the Outer Banks']\n",
            "after: ['the National Park Service', 'the Outer Banks']\n",
            "before: ['12 minutes', 'Each']\n",
            "after: ['12 minutes']\n",
            "before: ['the Amazon River', 'South America', 'Amazon Basin', 'It']\n",
            "after: ['the Amazon River', 'South America', 'Amazon Basin']\n",
            "before: ['Gwangju', '1979', '1980']\n",
            "after: ['Gwangju', '1979', '1980']\n",
            "before: ['West Virginia', 'Atlantic', 'Lots of']\n",
            "after: ['West Virginia', 'Atlantic', 'Lots of']\n",
            "before: ['']\n",
            "after: ['']\n",
            "before: ['Septmeber 13th', 'North Haiti', 'Atlantic']\n",
            "after: ['Septmeber 13th', 'North Haiti', 'Atlantic']\n",
            "before: ['Associated Press', 'annually']\n",
            "after: ['Associated Press', 'annually']\n",
            "before: ['Gospels of Matthew', 'four', 'Luke', 'John', 'Mark', 'They', '100', 'AD', '65']\n",
            "after: ['Gospels of Matthew', 'Luke', 'John', 'Mark', '100', 'AD', '65']\n",
            "before: ['the late 19th century', 'Eschelbronn']\n",
            "after: ['the late 19th century', 'Eschelbronn']\n",
            "before: ['Oberbarnim', 'half']\n",
            "after: ['Oberbarnim', 'half']\n",
            "before: ['Neptune', 'Methane', 'Earth']\n",
            "after: ['Neptune', 'Methane', 'Earth']\n",
            "before: ['Full']\n",
            "after: ['Full']\n",
            "before: ['Stable', 'But']\n",
            "after: ['Stable']\n",
            "before: ['the City of Destiny', 'Florence in', 'Order', '1482', 'It']\n",
            "after: ['the City of Destiny', 'Florence in', 'Order', '1482']\n",
            "before: ['St George Cathedral in Nakhichevan', 'St Alexander Nevsky Cathedral', 'the Soviet years', 'Bolsheviks', '1783-1807', 'Rostov', '1908', 'two']\n",
            "after: ['St George Cathedral in Nakhichevan', 'St Alexander Nevsky Cathedral', 'the Soviet years', 'Bolsheviks', '1783-1807', 'Rostov', '1908']\n",
            "before: [\"San Benito d'Alcantara\", 'May 29, 1518', 'Madrid', 'Spain']\n",
            "after: [\"San Benito d'Alcantara\", 'May 29, 1518', 'Madrid', 'Spain']\n",
            "before: ['Stanley L. Miller', 'Harold C. Urey', 'Miller-Urey', 'Urey in', '1953']\n",
            "after: ['Stanley L. Miller', 'Harold C. Urey', 'Miller-Urey', 'Urey in', '1953']\n",
            "before: ['Cogeneration', 'CHP']\n",
            "after: ['Cogeneration', 'CHP']\n",
            "before: ['second']\n",
            "after: []\n",
            "before: ['Wikipedia']\n",
            "after: ['Wikipedia']\n",
            "before: ['']\n",
            "after: ['']\n",
            "before: ['between 1945 and 1945', 'Egypt', '1946', '1948']\n",
            "after: ['between 1945 and 1945', 'Egypt', '1946', '1948']\n",
            "before: ['Nicolenos', 'No']\n",
            "after: ['Nicolenos']\n",
            "before: ['Gentleman of the Chapel Royal', 'James I', '1615', 'He']\n",
            "after: ['Gentleman of the Chapel Royal', 'James I', '1615']\n",
            "before: ['Chauvin', 'first', 'At']\n",
            "after: ['Chauvin']\n",
            "before: ['Esperanto']\n",
            "after: ['Esperanto']\n",
            "before: ['Dry']\n",
            "after: ['Dry']\n",
            "before: ['Calvin Baker', 'American']\n",
            "after: ['Calvin Baker', 'American']\n",
            "before: ['Eva Anna Paula Braun', 'April 30th, 1945', \"Adolf Hitler's\", 'She']\n",
            "after: ['Eva Anna Paula Braun', 'April 30th, 1945', \"Adolf Hitler's\"]\n",
            "before: ['']\n",
            "after: ['']\n",
            "before: ['Users', 'IRC']\n",
            "after: ['Users', 'IRC']\n",
            "before: ['same year', 'New York']\n",
            "after: ['same year', 'New York']\n",
            "before: ['World Wrestling Entertainment (WWE', 'Staples Center in Los Angeles', 'August 23, 2009', 'SummerSlam', 'California', 'It']\n",
            "after: ['World Wrestling Entertainment (WWE', 'Staples Center in Los Angeles', 'August 23, 2009', 'SummerSlam', 'California']\n",
            "before: ['the Southern Polestar']\n",
            "after: ['the Southern Polestar']\n",
            "before: ['They']\n",
            "after: []\n",
            "before: ['the WWF Intercontinental Championship', 'Rikishi in', 'Val Venis', 'Steel', 'Tazz', '14', '10', 'TV']\n",
            "after: ['the WWF Intercontinental Championship', 'Rikishi in', 'Val Venis', 'Steel', 'Tazz', '14', '10', 'TV']\n",
            "before: ['Multiple', 'Unix', 'one']\n",
            "after: ['Multiple', 'Unix']\n",
            "before: ['Keith Brion', 'LaRue', 'Yale']\n",
            "after: ['Keith Brion', 'LaRue', 'Yale']\n",
            "before: ['Democratic Republic of Congo', 'the United States', 'at least 51', 'Mennonites', 'Canada']\n",
            "after: ['Democratic Republic of Congo', 'the United States', 'at least 51', 'Mennonites', 'Canada']\n",
            "before: ['Dublin', 'Naas']\n",
            "after: ['Dublin', 'Naas']\n",
            "before: ['']\n",
            "after: ['']\n",
            "before: ['Origin Irmo', '1980']\n",
            "after: ['Origin Irmo', '1980']\n",
            "before: ['the Law Commission', 'the House of Lords']\n",
            "after: ['the Law Commission', 'the House of Lords']\n",
            "before: ['Wallachia', 'Hungarian', 'During', 'Vlad', '1474']\n",
            "after: ['Wallachia', 'Hungarian', 'Vlad', '1474']\n",
            "before: ['Cover Texts in the Modified Version', 'the Front Cover', 'the Back Cover', 'up to five', 'up to 25', 'You', 'Add']\n",
            "after: ['Cover Texts in the Modified Version', 'the Front Cover', 'the Back Cover', 'up to five', 'up to 25', 'Add']\n",
            "before: ['Restvale Cemetery in Alsip', 'the Restvale Cemetery', 'Illinois']\n",
            "after: ['Restvale Cemetery in Alsip', 'the Restvale Cemetery', 'Illinois']\n",
            "before: ['Bone']\n",
            "after: ['Bone']\n",
            "before: ['Reflection']\n",
            "after: ['Reflection']\n",
            "before: [\"the Provence-Alpes-Côte d'Azur\", 'Southern France', 'Vaucluse', 'Monteux', 'It']\n",
            "after: [\"the Provence-Alpes-Côte d'Azur\", 'Southern France', 'Vaucluse', 'Monteux']\n",
            "before: ['MacGruber']\n",
            "after: ['MacGruber']\n",
            "before: ['George Benjamin', 'Yvonne Loriod', 'Messiaen']\n",
            "after: ['George Benjamin', 'Yvonne Loriod', 'Messiaen']\n",
            "before: [\"Shi'a Muslims\", 'Jerusalem', 'Karbala', 'Medina', 'Mecca', 'Najaf']\n",
            "after: [\"Shi'a Muslims\", 'Jerusalem', 'Karbala', 'Medina', 'Mecca', 'Najaf']\n",
            "before: ['Thaksin Shinawatra', 'Somechai Wongsawat', 'Samak Sundaravej', 'They', 'PAD']\n",
            "after: ['Thaksin Shinawatra', 'Somechai Wongsawat', 'Samak Sundaravej', 'PAD']\n",
            "before: ['Travel']\n",
            "after: ['Travel']\n",
            "before: ['the Fisher Building', 'Fisher Building in', '1928']\n",
            "after: ['the Fisher Building', 'Fisher Building in', '1928']\n",
            "before: ['Schon', 'Dr']\n",
            "after: ['Schon', 'Dr']\n",
            "before: ['the early 1990s', 'Britpop in the', '60s', '70s', 'Pop']\n",
            "after: ['the early 1990s', 'Britpop in the', '60s', '70s', 'Pop']\n",
            "before: ['XI International Brigade']\n",
            "after: ['XI International Brigade']\n",
            "before: ['Sheppard', 'two']\n",
            "after: ['Sheppard']\n",
            "before: ['eleventh', '98,772', 'Europe']\n",
            "after: ['eleventh', '98,772', 'Europe']\n",
            "before: ['Righteous Among the Nations', 'Ten Boom', 'Israel', '1967', 'one']\n",
            "after: ['Righteous Among the Nations', 'Ten Boom', 'Israel', '1967']\n",
            "before: ['']\n",
            "after: ['']\n",
            "before: ['95']\n",
            "after: ['95']\n",
            "before: ['Australian', 'Eugowra', 'The']\n",
            "after: ['Australian', 'Eugowra']\n",
            "before: ['English']\n",
            "after: ['English']\n",
            "before: ['']\n",
            "after: ['']\n",
            "before: [\"The Death of Minnehaha, Overture to The Song of Hiawatha and Hiawatha's Departure\", 'These']\n",
            "after: [\"The Death of Minnehaha, Overture to The Song of Hiawatha and Hiawatha's Departure\"]\n",
            "before: ['Aracaju']\n",
            "after: ['Aracaju']\n",
            "before: ['almost ten years', 'Farrenc']\n",
            "after: ['almost ten years', 'Farrenc']\n",
            "before: ['Kinesthetic Film Principles', 'Vorkapich', 'Gumbasia', 'The']\n",
            "after: ['Kinesthetic Film Principles', 'Vorkapich', 'Gumbasia']\n",
            "before: ['Waise Lee', 'Brandon', 'MK Sun']\n",
            "after: ['Waise Lee', 'Brandon', 'MK Sun']\n",
            "before: ['New South Wales Australia in Cabonne Shire', 'Cowra in the', '876429', 'ISBN', '14', '3']\n",
            "after: ['New South Wales Australia in Cabonne Shire', 'Cowra in the', '876429', 'ISBN', '14', '3']\n",
            "before: ['the Australian Army', '18 June 2002', 'Donaldson']\n",
            "after: ['the Australian Army', '18 June 2002', 'Donaldson']\n",
            "before: ['the Peel River', 'California', 'Europe', 'People', 'China']\n",
            "after: ['the Peel River', 'California', 'Europe', 'People', 'China']\n",
            "before: ['']\n",
            "after: ['']\n",
            "before: ['Features of the Kindle', 'the Kindle 2', '20 percent', '16']\n",
            "after: ['Features of the Kindle', 'the Kindle 2', '20 percent', '16']\n",
            "before: ['Yogurt']\n",
            "after: ['Yogurt']\n",
            "before: ['the Hall of Fame', 'Only 35', '75']\n",
            "after: ['the Hall of Fame', 'Only 35', '75']\n",
            "before: ['Christian']\n",
            "after: ['Christian']\n",
            "before: ['album']\n",
            "after: ['album']\n",
            "before: ['']\n",
            "after: ['']\n",
            "before: ['Sirius Satellite Radio', \"Howard Stern's\", 'late 2004', 'Suleman', 'Citadel', 'four']\n",
            "after: ['Sirius Satellite Radio', \"Howard Stern's\", 'late 2004', 'Suleman', 'Citadel']\n",
            "before: [\"McDonald's\", \"Wendy's\", 'Canada']\n",
            "after: [\"McDonald's\", \"Wendy's\", 'Canada']\n",
            "before: ['Plot Captain Caleb Holt', 'Georgia']\n",
            "after: ['Plot Captain Caleb Holt', 'Georgia']\n",
            "before: ['more than 70%']\n",
            "after: ['more than 70%']\n",
            "before: ['']\n",
            "after: ['']\n",
            "before: ['Saudi Arabia', '1990']\n",
            "after: ['Saudi Arabia', '1990']\n",
            "before: ['Orchestration Stravinsky', '1913']\n",
            "after: ['Orchestration Stravinsky', '1913']\n",
            "before: ['Arguments']\n",
            "after: ['Arguments']\n",
            "before: ['Orpheus in the Underworld', \"Offenbach's\", 'English', 'France', '1850', '1860', 'La', 'H']\n",
            "after: ['Orpheus in the Underworld', \"Offenbach's\", 'English', 'France', '1850', '1860', 'La']\n",
            "before: ['the Tang Dynasty', \"Chang'an\", 'Roof', 'Xian']\n",
            "after: ['the Tang Dynasty', \"Chang'an\", 'Roof', 'Xian']\n",
            "before: ['Jeanne Marie-Madeleine Demessieux', 'French']\n",
            "after: ['Jeanne Marie-Madeleine Demessieux', 'French']\n",
            "before: ['']\n",
            "after: ['']\n",
            "before: ['Santa Maria Maggiore', 'Assisi']\n",
            "after: ['Santa Maria Maggiore', 'Assisi']\n",
            "before: ['Radar']\n",
            "after: ['Radar']\n",
            "before: ['Railway Gazette International', 'monthly', 'metro']\n",
            "after: ['Railway Gazette International', 'monthly', 'metro']\n",
            "before: ['Companion of Honour', '1988', 'CH']\n",
            "after: ['Companion of Honour', '1988', 'CH']\n",
            "before: ['Loèche', 'Swiss', 'Onyx']\n",
            "after: ['Loèche', 'Swiss', 'Onyx']\n",
            "before: ['Its the', 'The']\n",
            "after: ['Its the']\n",
            "before: ['first', 'one', 'She']\n",
            "after: []\n",
            "before: ['Commune', 'She']\n",
            "after: ['Commune']\n",
            "before: ['Graystripe', 'The Sight', 'English', 'three', 'OEL', 'It']\n",
            "after: ['Graystripe', 'The Sight', 'English', 'OEL']\n",
            "before: ['Samovar & Porter', 'The Syrians', 'Americans', 'daily', '1994', '84']\n",
            "after: ['Samovar & Porter', 'The Syrians', 'Americans', 'daily', '1994', '84']\n",
            "before: ['']\n",
            "after: ['']\n",
            "before: ['4', '5']\n",
            "after: ['4', '5']\n",
            "before: ['Australian National University', 'David Lindenmeyer', 'Leadbeater', 'Dr']\n",
            "after: ['Australian National University', 'David Lindenmeyer', 'Leadbeater', 'Dr']\n",
            "before: ['Montreal Canadiens', 'Quebec', 'Canada', 'Their']\n",
            "after: ['Montreal Canadiens', 'Quebec', 'Canada']\n",
            "before: ['Small', 'This']\n",
            "after: ['Small']\n",
            "before: ['Rathke in', 'first', '1799']\n",
            "after: ['Rathke in', '1799']\n",
            "before: ['']\n",
            "after: ['']\n",
            "before: ['Greenlaw', 'county', 'Lauder', 'Duns', '1596']\n",
            "after: ['Greenlaw', 'county', 'Lauder', 'Duns', '1596']\n",
            "before: ['Axel']\n",
            "after: ['Axel']\n",
            "before: ['Port Jackson District Commandant']\n",
            "after: ['Port Jackson District Commandant']\n",
            "before: ['']\n",
            "after: ['']\n",
            "before: ['']\n",
            "after: ['']\n",
            "before: ['Computer']\n",
            "after: ['Computer']\n",
            "before: ['Volga']\n",
            "after: ['Volga']\n",
            "before: ['']\n",
            "after: ['']\n",
            "before: ['Human']\n",
            "after: ['Human']\n",
            "before: ['the Ford Foundation', 'Shoreback', 'Chicago', 'Yunus']\n",
            "after: ['the Ford Foundation', 'Shoreback', 'Chicago', 'Yunus']\n",
            "before: ['Saddam', 'Bremer']\n",
            "after: ['Saddam', 'Bremer']\n",
            "before: [\"Professional Hockey Writers' Association\", 'the end of the season', 'the All-Star Team']\n",
            "after: [\"Professional Hockey Writers' Association\", 'the end of the season', 'the All-Star Team']\n",
            "before: ['Turkmenistan', 'Afghanistan', 'Tajikistan', 'Uzbekistan', 'Pakistan', 'China', 'Iran']\n",
            "after: ['Turkmenistan', 'Afghanistan', 'Tajikistan', 'Uzbekistan', 'Pakistan', 'China', 'Iran']\n",
            "before: ['March 9, 2000', 'Nupedia', 'Bomis']\n",
            "after: ['March 9, 2000', 'Nupedia', 'Bomis']\n",
            "before: ['S']\n",
            "after: []\n",
            "before: ['Bristol Rugby in the Guinness Premiership', '19 February, 1987', 'Iain Grieve', 'Botswana', 'Jwaneng']\n",
            "after: ['Bristol Rugby in the Guinness Premiership', '19 February, 1987', 'Iain Grieve', 'Botswana', 'Jwaneng']\n",
            "before: ['Pont-Bellanger', 'Beaumesnil', 'Nearby']\n",
            "after: ['Pont-Bellanger', 'Beaumesnil', 'Nearby']\n",
            "before: ['Murray Gell-Mann', 'George Zweig', 'quark model']\n",
            "after: ['Murray Gell-Mann', 'George Zweig', 'quark model']\n",
            "before: ['1938 39', 'fourth']\n",
            "after: ['1938 39', 'fourth']\n",
            "before: [\"West Germany's\", 'West Berlin', '1990']\n",
            "after: [\"West Germany's\", 'West Berlin', '1990']\n",
            "before: ['Italian Renaissance', 'Sandro Botticelli', 'The Primavera']\n",
            "after: ['Italian Renaissance', 'Sandro Botticelli', 'The Primavera']\n",
            "before: ['New South Wales', 'Sydney']\n",
            "after: ['New South Wales', 'Sydney']\n",
            "before: ['']\n",
            "after: ['']\n",
            "before: ['']\n",
            "after: ['']\n",
            "before: ['four years', 'Italy', 'For']\n",
            "after: ['four years', 'Italy']\n",
            "before: ['the 1980s and', '1990s']\n",
            "after: ['the 1980s and', '1990s']\n",
            "before: ['']\n",
            "after: ['']\n",
            "before: ['']\n",
            "after: ['']\n",
            "before: ['Battle of Stiklestad', 'Olav Haraldsson', 'July 29', 'Norway']\n",
            "after: ['Battle of Stiklestad', 'Olav Haraldsson', 'July 29', 'Norway']\n",
            "before: ['Stalin of the Soviet Union', 'Tresca']\n",
            "after: ['Stalin of the Soviet Union', 'Tresca']\n",
            "before: ['Montenegro', 'Serbia']\n",
            "after: ['Montenegro', 'Serbia']\n",
            "before: ['HTML', 'CSS']\n",
            "after: ['HTML', 'CSS']\n",
            "before: ['Schuschnigg']\n",
            "after: ['Schuschnigg']\n",
            "before: ['the London Borough', 'Addiscombe', 'Croydon', 'England', 'It']\n",
            "after: ['the London Borough', 'Addiscombe', 'Croydon', 'England']\n",
            "before: ['Depending', 'Sometimes']\n",
            "after: ['Depending']\n",
            "before: ['the Center for European Integration Studies', 'Institute of European History in Mainz', 'European Integration Studies in Bonn', 'Prunk', 'They']\n",
            "after: ['the Center for European Integration Studies', 'Institute of European History in Mainz', 'European Integration Studies in Bonn', 'Prunk']\n",
            "before: ['Stallone', 'French', 'Taxi 3', '2003', 'He']\n",
            "after: ['Stallone', 'French', 'Taxi 3', '2003']\n",
            "before: ['Templin HIghway', 'Santa Clara', 'The']\n",
            "after: ['Templin HIghway', 'Santa Clara']\n",
            "before: ['Microeconomic Foundations of Employment and Inflation Theory', 'the following year', 'Phelps', 'They']\n",
            "after: ['Microeconomic Foundations of Employment and Inflation Theory', 'the following year', 'Phelps']\n",
            "before: ['Super Mario Land', 'Wario Land', 'It', '3']\n",
            "after: ['Super Mario Land', 'Wario Land', '3']\n",
            "before: ['Chopin', 'Opus', '57']\n",
            "after: ['Chopin', 'Opus', '57']\n",
            "before: ['']\n",
            "after: ['']\n",
            "before: ['the Gold Coast', 'west Africa', 'quinine', 'Nigeria']\n",
            "after: ['the Gold Coast', 'west Africa', 'quinine', 'Nigeria']\n",
            "before: ['Spectroscopic', 'This']\n",
            "after: ['Spectroscopic']\n",
            "before: ['Breitkopf', 'Härtel']\n",
            "after: ['Breitkopf', 'Härtel']\n",
            "before: ['Murcury', 'Moon', 'They']\n",
            "after: ['Murcury', 'Moon']\n",
            "before: ['Zürich', 'Baden']\n",
            "after: ['Zürich', 'Baden']\n",
            "before: ['Chinkara']\n",
            "after: ['Chinkara']\n",
            "before: ['the Delhi Sultanate', 'Mughals in', 'Turkish', 'Afghan', 'Dhaka', '1608', 'Sena']\n",
            "after: ['the Delhi Sultanate', 'Mughals in', 'Turkish', 'Afghan', 'Dhaka', '1608', 'Sena']\n",
            "before: ['Prime Minister']\n",
            "after: ['Prime Minister']\n",
            "before: ['Rowling', 'Cedric', 'Harry']\n",
            "after: ['Rowling', 'Cedric', 'Harry']\n",
            "before: ['Jan-Carl Raspe', 'June 1st 1972', 'Holger Meins', 'Frankfurt', 'RAF']\n",
            "after: ['Jan-Carl Raspe', 'June 1st 1972', 'Holger Meins', 'Frankfurt', 'RAF']\n",
            "before: ['New Music Manchester']\n",
            "after: ['New Music Manchester']\n",
            "before: ['up to 20 feet', 'Florida']\n",
            "after: ['up to 20 feet', 'Florida']\n",
            "before: [\"Meher Baba's\", 'It']\n",
            "after: [\"Meher Baba's\"]\n",
            "before: ['']\n",
            "after: ['']\n",
            "before: ['Meissner', 'American', 'second', '2005', 'Axel']\n",
            "after: ['Meissner', 'American', '2005', 'Axel']\n",
            "before: ['Massachusetts', 'United States', 'Essex County', 'Salem']\n",
            "after: ['Massachusetts', 'United States', 'Essex County', 'Salem']\n",
            "before: ['Forty-nine']\n",
            "after: ['Forty-nine']\n",
            "before: ['Saint Martin', 'Puerto Rico', 'Caribbean', '186 miles', '300 km']\n",
            "after: ['Saint Martin', 'Puerto Rico', 'Caribbean', '186 miles', '300 km']\n",
            "before: ['PDF']\n",
            "after: ['PDF']\n",
            "before: ['Police Inspector Sir Frederick Pottinger', 'Frank Gardiner', 'April 1862', 'Ben']\n",
            "after: ['Police Inspector Sir Frederick Pottinger', 'Frank Gardiner', 'April 1862', 'Ben']\n",
            "before: ['October 5', 'Britain']\n",
            "after: ['October 5', 'Britain']\n",
            "before: ['Version', '2009.1', 'USB']\n",
            "after: ['Version', '2009.1', 'USB']\n",
            "before: [\"Christian Democratic People's Party\", 'Social Democratic Party', 'Free Democratic Party', 'the Federal Assembly', \"Swiss People's Party\", 'FDP', 'CVP', 'SVP', 'SP', '2', '1']\n",
            "after: [\"Christian Democratic People's Party\", 'Social Democratic Party', 'Free Democratic Party', 'the Federal Assembly', \"Swiss People's Party\", 'FDP', 'CVP', 'SVP', 'SP', '2', '1']\n",
            "before: ['fee']\n",
            "after: ['fee']\n",
            "before: ['twenty-one', 'Ohio State', 'Columbus']\n",
            "after: ['twenty-one', 'Ohio State', 'Columbus']\n",
            "before: ['Greenland', 'Scotland', 'Iceland', 'Norway', 'Norse']\n",
            "after: ['Greenland', 'Scotland', 'Iceland', 'Norway', 'Norse']\n",
            "before: ['Universally Speaking', 'The Zephyr Song', 'By the Way', \"Can't Stop\", 'Dosed']\n",
            "after: ['Universally Speaking', 'The Zephyr Song', 'By the Way', \"Can't Stop\", 'Dosed']\n",
            "before: ['April 2000', 'MINIX', 'By']\n",
            "after: ['April 2000', 'MINIX']\n",
            "before: ['Occasionally']\n",
            "after: ['Occasionally']\n",
            "before: ['Britannica', 'Scottish', 'Scotland', 'It']\n",
            "after: ['Britannica', 'Scottish', 'Scotland']\n",
            "before: ['September 22', 'September 23', 'Jose']\n",
            "after: ['September 22', 'September 23', 'Jose']\n",
            "before: ['the San Diego Union Tribune', 'Iraqi Republican Guards', 'August 2003', 'U.S. Marine', 'first', 'Mark', '77']\n",
            "after: ['the San Diego Union Tribune', 'Iraqi Republican Guards', 'August 2003', 'U.S. Marine', 'Mark', '77']\n",
            "before: ['one']\n",
            "after: []\n",
            "before: ['Third World']\n",
            "after: ['Third World']\n",
            "before: ['Sydney Cove', '1796']\n",
            "after: ['Sydney Cove', '1796']\n",
            "before: ['Ned', 'Dan']\n",
            "after: ['Ned', 'Dan']\n",
            "before: ['second', 'Veeck']\n",
            "after: ['Veeck']\n",
            "before: ['Equality Now', 'Joss Whedon', 'Fray']\n",
            "after: ['Equality Now', 'Joss Whedon', 'Fray']\n",
            "before: ['Marvel', 'They']\n",
            "after: ['Marvel']\n",
            "before: ['the United States', 'SAT', 'It']\n",
            "after: ['the United States', 'SAT']\n",
            "before: ['Geisslerlieder', 'Italy', 'Civil']\n",
            "after: ['Geisslerlieder', 'Italy', 'Civil']\n",
            "before: ['']\n",
            "after: ['']\n",
            "before: ['seven years', 'Australia']\n",
            "after: ['seven years', 'Australia']\n",
            "before: ['those days', 'Sebastian', 'Charles', 'first', 'Waugh']\n",
            "after: ['those days', 'Sebastian', 'Charles', 'Waugh']\n",
            "before: ['Grigori Rasputin', 'Russian']\n",
            "after: ['Grigori Rasputin', 'Russian']\n",
            "before: ['Dorsal']\n",
            "after: ['Dorsal']\n",
            "before: ['Berzelius', 'Mulder', 'one']\n",
            "after: ['Berzelius', 'Mulder']\n",
            "before: ['Jerilderie', '16 months']\n",
            "after: ['Jerilderie', '16 months']\n",
            "before: ['Barneville-la-Bertran', 'France']\n",
            "after: ['Barneville-la-Bertran', 'France']\n",
            "before: ['Color']\n",
            "after: ['Color']\n",
            "before: ['Bloor Streets', 'St. George', 'Union', '1963']\n",
            "after: ['Bloor Streets', 'St. George', 'Union', '1963']\n",
            "before: ['the Commonwealth Railways Central Australian', 'the Simpson Desert', 'Simpson Desert in', '1980']\n",
            "after: ['the Commonwealth Railways Central Australian', 'the Simpson Desert', 'Simpson Desert in', '1980']\n",
            "before: ['Unalakleet']\n",
            "after: ['Unalakleet']\n",
            "before: ['People']\n",
            "after: ['People']\n",
            "before: ['Mesoamerica']\n",
            "after: ['Mesoamerica']\n",
            "before: ['Google']\n",
            "after: ['Google']\n",
            "before: ['']\n",
            "after: ['']\n",
            "before: ['Political Economy', '1985']\n",
            "after: ['Political Economy', '1985']\n",
            "before: ['the Soviet Union', 'India in', 'IPO in', 'first', 'China', '1990', '1994', 'two']\n",
            "after: ['the Soviet Union', 'India in', 'IPO in', 'China', '1990', '1994']\n",
            "before: ['Army in the Napoleonic Wars', 'Austrians General Mack', '30,000', '10,000']\n",
            "after: ['Army in the Napoleonic Wars', 'Austrians General Mack', '30,000', '10,000']\n",
            "before: ['Northern Nigeria']\n",
            "after: ['Northern Nigeria']\n",
            "before: ['South Indians', 'Dravidian', 'five', 'one']\n",
            "after: ['South Indians', 'Dravidian']\n",
            "before: ['Meteora']\n",
            "after: ['Meteora']\n",
            "before: ['Jericho', 'Kane', 'WWF']\n",
            "after: ['Jericho', 'Kane', 'WWF']\n",
            "before: ['Richard M. Sherman', 'Robert B. Sherman']\n",
            "after: ['Richard M. Sherman', 'Robert B. Sherman']\n",
            "before: ['the 5th century', 'Indo-European', 'slavic']\n",
            "after: ['the 5th century', 'Indo-European', 'slavic']\n",
            "before: ['Hill Auditorium', '1900 to 1920', 'two']\n",
            "after: ['Hill Auditorium', '1900 to 1920']\n",
            "before: ['Scott County', 'Winchester', 'Illinois', 'USA']\n",
            "after: ['Scott County', 'Winchester', 'Illinois', 'USA']\n",
            "before: ['Arzashkun', 'Assyrian', 'Armenian', 'Lake Van', 'Arsissa', 'Arsene']\n",
            "after: ['Arzashkun', 'Assyrian', 'Armenian', 'Lake Van', 'Arsissa', 'Arsene']\n",
            "before: ['only 15', '16,421', 'one', 'TV']\n",
            "after: ['only 15', '16,421', 'TV']\n",
            "before: ['September 21, 1993 to March 1, 2005', 'ABC']\n",
            "after: ['September 21, 1993 to March 1, 2005', 'ABC']\n",
            "before: ['second']\n",
            "after: []\n",
            "before: ['Julio Cesar Falcioni', 'Francisco Maturana', 'Colombian', 'Gimnasia', 'Neither', 'First', 'Then']\n",
            "after: ['Julio Cesar Falcioni', 'Francisco Maturana', 'Colombian', 'Gimnasia']\n",
            "before: ['the United States', 'Washington County', 'Brighton', 'Iowa', 'It']\n",
            "after: ['the United States', 'Washington County', 'Brighton', 'Iowa']\n",
            "before: ['\"It Girl\" and Eminem\\'s', 'Just Lose It', \"John Oates'\", 'Furthermore']\n",
            "after: ['\"It Girl\" and Eminem\\'s', 'Just Lose It', \"John Oates'\"]\n",
            "before: ['June 24 1979', 'Glinde', '750th']\n",
            "after: ['June 24 1979', 'Glinde', '750th']\n",
            "before: ['March of the Minis in', 'Donkey Kong in', 'Game Boy', 'Pauline', 'Mario', '1994', '2006']\n",
            "after: ['March of the Minis in', 'Donkey Kong in', 'Game Boy', 'Pauline', 'Mario', '1994', '2006']\n",
            "before: ['']\n",
            "after: ['']\n",
            "before: ['between 1935-1939']\n",
            "after: ['between 1935-1939']\n",
            "before: ['half']\n",
            "after: ['half']\n",
            "before: ['Parts of the Bernese Alps']\n",
            "after: ['Parts of the Bernese Alps']\n",
            "before: ['Mary Ann Fisher', 'Ann Power', 'one']\n",
            "after: ['Mary Ann Fisher', 'Ann Power']\n",
            "before: ['Edward Gorey', 'Bawden', 'one', 'He']\n",
            "after: ['Edward Gorey', 'Bawden']\n",
            "before: ['electron', 'photon', 'Every']\n",
            "after: ['electron', 'photon']\n",
            "before: ['Fletcher Christian in', 'Mutiny on the Bounty', 'Academy Award', 'Gable', '1935']\n",
            "after: ['Fletcher Christian in', 'Mutiny on the Bounty', 'Academy Award', 'Gable', '1935']\n"
          ],
          "name": "stdout"
        }
      ]
    },
    {
      "cell_type": "code",
      "metadata": {
        "colab": {
          "base_uri": "https://localhost:8080/",
          "height": 17
        },
        "id": "RLTUbVjNvHTW",
        "outputId": "811585be-e1a9-4a9c-c628-1af24d992371"
      },
      "source": [
        "with open('/content/drive/MyDrive/muss/qualitative/NER_list_asset_0825_simple', 'wb') as fp:\n",
        "    pickle.dump(simple_NER_list, fp)    "
      ],
      "id": "RLTUbVjNvHTW",
      "execution_count": null,
      "outputs": [
        {
          "output_type": "display_data",
          "data": {
            "text/html": [
              "\n",
              "  <style>\n",
              "    pre {\n",
              "        white-space: pre-wrap;\n",
              "    }\n",
              "  </style>\n",
              "  "
            ],
            "text/plain": [
              "<IPython.core.display.HTML object>"
            ]
          },
          "metadata": {}
        }
      ]
    },
    {
      "cell_type": "markdown",
      "metadata": {
        "id": "K3YpyBPbR9zE"
      },
      "source": [
        "### find NE that appear at least 3 times among 10 references"
      ],
      "id": "K3YpyBPbR9zE"
    },
    {
      "cell_type": "code",
      "metadata": {
        "colab": {
          "base_uri": "https://localhost:8080/",
          "height": 17
        },
        "id": "kRsXzef-nLkZ",
        "outputId": "60898485-63ba-43fe-b704-177713f641aa"
      },
      "source": [
        "def remove_substring(item_list):\n",
        "\n",
        "  item_list.sort(key=lambda s: len(s), reverse=True)\n",
        "  out = []\n",
        "  \n",
        "  for s in item_list:\n",
        "      if not any([s in o for o in out]):\n",
        "          out.append(s)\n",
        "  \n",
        "  return out"
      ],
      "id": "kRsXzef-nLkZ",
      "execution_count": null,
      "outputs": [
        {
          "output_type": "display_data",
          "data": {
            "text/html": [
              "\n",
              "  <style>\n",
              "    pre {\n",
              "        white-space: pre-wrap;\n",
              "    }\n",
              "  </style>\n",
              "  "
            ],
            "text/plain": [
              "<IPython.core.display.HTML object>"
            ]
          },
          "metadata": {}
        }
      ]
    },
    {
      "cell_type": "code",
      "metadata": {
        "colab": {
          "base_uri": "https://localhost:8080/",
          "height": 17
        },
        "id": "kz5Oz4vWSp_U",
        "outputId": "0924a612-3de8-4676-db0e-6ac461fb1b07"
      },
      "source": [
        "valid_intersection = []\n",
        "\n",
        "for j in range(2000):\n",
        "\n",
        "  all_NE_list = []\n",
        "\n",
        "  for i in range(10):\n",
        "\n",
        "    all_NE_list.extend(simple_NER_list[i][0][j])\n",
        "  \n",
        "  c = Counter(all_NE_list)\n",
        "  res = [x for x in all_NE_list if c[x] >=3]\n",
        "  unique_NE = list(set(res))\n",
        "\n",
        "  if '' in unique_NE:\n",
        "    unique_NE.remove('')\n",
        "\n",
        "  unique_NE = [x for x in unique_NE if x not in cap_stop_words_list]\n",
        "  \n",
        "  valid_intersection.append(remove_substring(unique_NE))\n",
        "\n",
        "  "
      ],
      "id": "kz5Oz4vWSp_U",
      "execution_count": null,
      "outputs": [
        {
          "output_type": "display_data",
          "data": {
            "text/html": [
              "\n",
              "  <style>\n",
              "    pre {\n",
              "        white-space: pre-wrap;\n",
              "    }\n",
              "  </style>\n",
              "  "
            ],
            "text/plain": [
              "<IPython.core.display.HTML object>"
            ]
          },
          "metadata": {}
        }
      ]
    },
    {
      "cell_type": "code",
      "metadata": {
        "colab": {
          "base_uri": "https://localhost:8080/",
          "height": 764
        },
        "id": "ACADQ1y_lcg9",
        "outputId": "cac0b242-8b0c-4b74-c9a5-4a43f5c1d17a"
      },
      "source": [
        "# no negelegeble stop word\n",
        "for lists in test_intersection:\n",
        "  for x in lists:\n",
        "    if x in total_stop_words_list:\n",
        "      print(x)"
      ],
      "id": "ACADQ1y_lcg9",
      "execution_count": null,
      "outputs": [
        {
          "output_type": "display_data",
          "data": {
            "text/html": [
              "\n",
              "  <style>\n",
              "    pre {\n",
              "        white-space: pre-wrap;\n",
              "    }\n",
              "  </style>\n",
              "  "
            ],
            "text/plain": [
              "<IPython.core.display.HTML object>"
            ]
          },
          "metadata": {}
        },
        {
          "output_type": "stream",
          "text": [
            "two\n",
            "first\n",
            "two\n",
            "three\n",
            "four\n",
            "first\n",
            "seven\n",
            "first\n",
            "one\n",
            "first\n",
            "first\n",
            "one\n",
            "two\n",
            "two\n",
            "four\n",
            "two\n",
            "second\n",
            "first\n",
            "one\n",
            "six\n",
            "one\n",
            "four\n",
            "two\n",
            "one\n",
            "four\n",
            "first\n",
            "first\n",
            "one\n",
            "three\n",
            "first\n",
            "second\n",
            "one\n",
            "first\n",
            "second\n",
            "first\n",
            "first\n",
            "five\n",
            "one\n",
            "two\n",
            "one\n",
            "one\n",
            "one\n"
          ],
          "name": "stdout"
        }
      ]
    },
    {
      "cell_type": "code",
      "metadata": {
        "colab": {
          "base_uri": "https://localhost:8080/",
          "height": 17
        },
        "id": "KQWWJ9CqjCp-",
        "outputId": "fc4b62b1-c08d-4a98-8b07-4b07df1a4c43"
      },
      "source": [
        "intersection = []\n",
        "intersection += [valid_intersection]"
      ],
      "id": "KQWWJ9CqjCp-",
      "execution_count": null,
      "outputs": [
        {
          "output_type": "display_data",
          "data": {
            "text/html": [
              "\n",
              "  <style>\n",
              "    pre {\n",
              "        white-space: pre-wrap;\n",
              "    }\n",
              "  </style>\n",
              "  "
            ],
            "text/plain": [
              "<IPython.core.display.HTML object>"
            ]
          },
          "metadata": {}
        }
      ]
    },
    {
      "cell_type": "code",
      "metadata": {
        "colab": {
          "base_uri": "https://localhost:8080/",
          "height": 17
        },
        "id": "MEzmhIAyjEft",
        "outputId": "f1f63217-cabb-4fa2-8326-5bb887aa9e0b"
      },
      "source": [
        "test_intersection = []\n",
        "\n",
        "for j in range(len(simple_NER_list[0][1])):\n",
        "\n",
        "  all_NE_list = []\n",
        "\n",
        "  for i in range(10):\n",
        "\n",
        "    all_NE_list.extend(simple_NER_list[i][1][j])\n",
        "  \n",
        "  c = Counter(all_NE_list)\n",
        "  res = [x for x in all_NE_list if c[x] >=3]\n",
        "  \n",
        "  unique_NE = list(set(res))\n",
        "  if '' in unique_NE:\n",
        "    unique_NE.remove('')\n",
        "\n",
        "  unique_NE = [x for x in unique_NE if x not in cap_stop_words_list]\n",
        "  \n",
        "  test_intersection.append(remove_substring(unique_NE))\n",
        "  "
      ],
      "id": "MEzmhIAyjEft",
      "execution_count": null,
      "outputs": [
        {
          "output_type": "display_data",
          "data": {
            "text/html": [
              "\n",
              "  <style>\n",
              "    pre {\n",
              "        white-space: pre-wrap;\n",
              "    }\n",
              "  </style>\n",
              "  "
            ],
            "text/plain": [
              "<IPython.core.display.HTML object>"
            ]
          },
          "metadata": {}
        }
      ]
    },
    {
      "cell_type": "code",
      "metadata": {
        "colab": {
          "base_uri": "https://localhost:8080/",
          "height": 17
        },
        "id": "hCicY5c9o5Ea",
        "outputId": "9d92b84f-43e8-48da-8507-afbbed314ca7"
      },
      "source": [
        "intersection += [test_intersection]"
      ],
      "id": "hCicY5c9o5Ea",
      "execution_count": null,
      "outputs": [
        {
          "output_type": "display_data",
          "data": {
            "text/html": [
              "\n",
              "  <style>\n",
              "    pre {\n",
              "        white-space: pre-wrap;\n",
              "    }\n",
              "  </style>\n",
              "  "
            ],
            "text/plain": [
              "<IPython.core.display.HTML object>"
            ]
          },
          "metadata": {}
        }
      ]
    },
    {
      "cell_type": "code",
      "metadata": {
        "colab": {
          "base_uri": "https://localhost:8080/",
          "height": 17
        },
        "id": "SOGazehGr3ji",
        "outputId": "a9f6c3b2-c636-4d88-8fd8-4a086c5769b6"
      },
      "source": [
        "with open('/content/drive/MyDrive/muss/qualitative/asset_3_times_intersection_0825', 'wb') as fp:\n",
        "    pickle.dump(intersection, fp)    "
      ],
      "id": "SOGazehGr3ji",
      "execution_count": null,
      "outputs": [
        {
          "output_type": "display_data",
          "data": {
            "text/html": [
              "\n",
              "  <style>\n",
              "    pre {\n",
              "        white-space: pre-wrap;\n",
              "    }\n",
              "  </style>\n",
              "  "
            ],
            "text/plain": [
              "<IPython.core.display.HTML object>"
            ]
          },
          "metadata": {}
        }
      ]
    },
    {
      "cell_type": "markdown",
      "metadata": {
        "id": "N1V1C6FrNV_q"
      },
      "source": [
        "### dataset create"
      ],
      "id": "N1V1C6FrNV_q"
    },
    {
      "cell_type": "code",
      "metadata": {
        "colab": {
          "base_uri": "https://localhost:8080/",
          "height": 17
        },
        "id": "kmftf5DyNV_q",
        "outputId": "670edc34-f024-469f-e80e-dee04cbfe880"
      },
      "source": [
        "# load original sentence\n",
        "\n",
        "PHASES = ['valid', 'test']\n",
        "LANGUAGES = ['complex']\n",
        "data_names = []\n",
        "\n",
        "data_dir = '/content/drive/MyDrive/muss/resources/datasets/asset/'\n",
        "\n",
        "for phase, language in product(PHASES, LANGUAGES):\n",
        "  # print(phase, language)\n",
        "  data_name = phase + '_' + language + '_ori'\n",
        "  data_names.append(phase + '_' + language)\n",
        "\n",
        "  with open(data_dir+phase+'.'+language) as f:\n",
        "        \n",
        "    exec(\"%s = %s\" % (data_name,f.read().splitlines()))\n",
        "\n",
        "    f.close()"
      ],
      "id": "kmftf5DyNV_q",
      "execution_count": null,
      "outputs": [
        {
          "output_type": "display_data",
          "data": {
            "text/html": [
              "\n",
              "  <style>\n",
              "    pre {\n",
              "        white-space: pre-wrap;\n",
              "    }\n",
              "  </style>\n",
              "  "
            ],
            "text/plain": [
              "<IPython.core.display.HTML object>"
            ]
          },
          "metadata": {}
        }
      ]
    },
    {
      "cell_type": "code",
      "metadata": {
        "colab": {
          "base_uri": "https://localhost:8080/",
          "height": 35
        },
        "id": "AVZcSG6ASI9h",
        "outputId": "139cb007-585e-4a34-e2c1-cb35e2477bb0"
      },
      "source": [
        "data_names"
      ],
      "id": "AVZcSG6ASI9h",
      "execution_count": null,
      "outputs": [
        {
          "output_type": "display_data",
          "data": {
            "text/html": [
              "\n",
              "  <style>\n",
              "    pre {\n",
              "        white-space: pre-wrap;\n",
              "    }\n",
              "  </style>\n",
              "  "
            ],
            "text/plain": [
              "<IPython.core.display.HTML object>"
            ]
          },
          "metadata": {}
        },
        {
          "output_type": "execute_result",
          "data": {
            "text/plain": [
              "['valid_complex', 'test_complex']"
            ]
          },
          "metadata": {},
          "execution_count": 89
        }
      ]
    },
    {
      "cell_type": "code",
      "metadata": {
        "colab": {
          "base_uri": "https://localhost:8080/",
          "height": 52
        },
        "id": "MDnjNnGqNV_q",
        "outputId": "8bba57fa-ebdd-4700-ee94-198d7dbb50b4"
      },
      "source": [
        "import pandas as pd\n",
        "\n",
        "for index,data_name in enumerate(data_names):\n",
        "  file_name = data_name+'_ori'\n",
        "  # print(file_name)\n",
        "\n",
        "  data_tuples = list(zip(globals()[file_name],intersection[index]))\n",
        "\n",
        "  df_name = data_name + '_df'\n",
        "  print(df_name)\n",
        "  globals()[df_name] = pd.DataFrame(data_tuples, columns=['complex','NER'])\n",
        "  # globals()[df_name].dropna(subset = [\"NER\"], inplace=True)\n",
        "  globals()[df_name] = globals()[df_name].reset_index(drop=True)\n",
        "\n",
        "  file_name = data_name.replace('_','.')"
      ],
      "id": "MDnjNnGqNV_q",
      "execution_count": null,
      "outputs": [
        {
          "output_type": "display_data",
          "data": {
            "text/html": [
              "\n",
              "  <style>\n",
              "    pre {\n",
              "        white-space: pre-wrap;\n",
              "    }\n",
              "  </style>\n",
              "  "
            ],
            "text/plain": [
              "<IPython.core.display.HTML object>"
            ]
          },
          "metadata": {
            "tags": []
          }
        },
        {
          "output_type": "stream",
          "text": [
            "valid_complex_df\n",
            "test_complex_df\n"
          ],
          "name": "stdout"
        }
      ]
    },
    {
      "cell_type": "code",
      "metadata": {
        "colab": {
          "base_uri": "https://localhost:8080/",
          "height": 418
        },
        "id": "kZiQm5eNNV_q",
        "outputId": "373b5316-a85f-455a-c897-464d0e19b6de"
      },
      "source": [
        "valid_complex_df"
      ],
      "id": "kZiQm5eNNV_q",
      "execution_count": null,
      "outputs": [
        {
          "output_type": "display_data",
          "data": {
            "text/html": [
              "\n",
              "  <style>\n",
              "    pre {\n",
              "        white-space: pre-wrap;\n",
              "    }\n",
              "  </style>\n",
              "  "
            ],
            "text/plain": [
              "<IPython.core.display.HTML object>"
            ]
          },
          "metadata": {
            "tags": []
          }
        },
        {
          "output_type": "execute_result",
          "data": {
            "text/html": [
              "<div>\n",
              "<style scoped>\n",
              "    .dataframe tbody tr th:only-of-type {\n",
              "        vertical-align: middle;\n",
              "    }\n",
              "\n",
              "    .dataframe tbody tr th {\n",
              "        vertical-align: top;\n",
              "    }\n",
              "\n",
              "    .dataframe thead th {\n",
              "        text-align: right;\n",
              "    }\n",
              "</style>\n",
              "<table border=\"1\" class=\"dataframe\">\n",
              "  <thead>\n",
              "    <tr style=\"text-align: right;\">\n",
              "      <th></th>\n",
              "      <th>complex</th>\n",
              "      <th>NER</th>\n",
              "    </tr>\n",
              "  </thead>\n",
              "  <tbody>\n",
              "    <tr>\n",
              "      <th>0</th>\n",
              "      <td>Adjacent counties are Marin (to the south), Me...</td>\n",
              "      <td>[Mendocino, Lake, Contra Costa, Adjacent, Sola...</td>\n",
              "    </tr>\n",
              "    <tr>\n",
              "      <th>1</th>\n",
              "      <td>A Georgian inscription around the drum attests...</td>\n",
              "      <td>[Georgian]</td>\n",
              "    </tr>\n",
              "    <tr>\n",
              "      <th>2</th>\n",
              "      <td>They would later return to the revived series ...</td>\n",
              "      <td>[Christmas Special \"The Next Doctor, the Cyber...</td>\n",
              "    </tr>\n",
              "    <tr>\n",
              "      <th>3</th>\n",
              "      <td>Jameson's autobiography, How to Make Love Like...</td>\n",
              "      <td>[A Cautionary Tale, August 17, 2004, Make Love...</td>\n",
              "    </tr>\n",
              "    <tr>\n",
              "      <th>4</th>\n",
              "      <td>It is particularly famous for the cultivation ...</td>\n",
              "      <td>[]</td>\n",
              "    </tr>\n",
              "    <tr>\n",
              "      <th>...</th>\n",
              "      <td>...</td>\n",
              "      <td>...</td>\n",
              "    </tr>\n",
              "    <tr>\n",
              "      <th>1995</th>\n",
              "      <td>On the 15 November 2003 a Sprinter train trave...</td>\n",
              "      <td>[November 15, 2003, November 2003, Ballarat, S...</td>\n",
              "    </tr>\n",
              "    <tr>\n",
              "      <th>1996</th>\n",
              "      <td>A console manufacturer is a company that manuf...</td>\n",
              "      <td>[]</td>\n",
              "    </tr>\n",
              "    <tr>\n",
              "      <th>1997</th>\n",
              "      <td>Links with poverty and crime Those who are fun...</td>\n",
              "      <td>[Links]</td>\n",
              "    </tr>\n",
              "    <tr>\n",
              "      <th>1998</th>\n",
              "      <td>The term \"union council\" may be used for local...</td>\n",
              "      <td>[]</td>\n",
              "    </tr>\n",
              "    <tr>\n",
              "      <th>1999</th>\n",
              "      <td>Modern African history has been rife with revo...</td>\n",
              "      <td>[Modern African]</td>\n",
              "    </tr>\n",
              "  </tbody>\n",
              "</table>\n",
              "<p>2000 rows × 2 columns</p>\n",
              "</div>"
            ],
            "text/plain": [
              "                                                complex                                                NER\n",
              "0     Adjacent counties are Marin (to the south), Me...  [Mendocino, Lake, Contra Costa, Adjacent, Sola...\n",
              "1     A Georgian inscription around the drum attests...                                         [Georgian]\n",
              "2     They would later return to the revived series ...  [Christmas Special \"The Next Doctor, the Cyber...\n",
              "3     Jameson's autobiography, How to Make Love Like...  [A Cautionary Tale, August 17, 2004, Make Love...\n",
              "4     It is particularly famous for the cultivation ...                                                 []\n",
              "...                                                 ...                                                ...\n",
              "1995  On the 15 November 2003 a Sprinter train trave...  [November 15, 2003, November 2003, Ballarat, S...\n",
              "1996  A console manufacturer is a company that manuf...                                                 []\n",
              "1997  Links with poverty and crime Those who are fun...                                            [Links]\n",
              "1998  The term \"union council\" may be used for local...                                                 []\n",
              "1999  Modern African history has been rife with revo...                                   [Modern African]\n",
              "\n",
              "[2000 rows x 2 columns]"
            ]
          },
          "metadata": {
            "tags": []
          },
          "execution_count": 250
        }
      ]
    },
    {
      "cell_type": "code",
      "metadata": {
        "colab": {
          "base_uri": "https://localhost:8080/",
          "height": 418
        },
        "id": "nM6SDkOQNV_q",
        "outputId": "11255f98-8834-4a83-fbf8-ba630d5e89d9"
      },
      "source": [
        "test_complex_df"
      ],
      "id": "nM6SDkOQNV_q",
      "execution_count": null,
      "outputs": [
        {
          "output_type": "display_data",
          "data": {
            "text/html": [
              "\n",
              "  <style>\n",
              "    pre {\n",
              "        white-space: pre-wrap;\n",
              "    }\n",
              "  </style>\n",
              "  "
            ],
            "text/plain": [
              "<IPython.core.display.HTML object>"
            ]
          },
          "metadata": {
            "tags": []
          }
        },
        {
          "output_type": "execute_result",
          "data": {
            "text/html": [
              "<div>\n",
              "<style scoped>\n",
              "    .dataframe tbody tr th:only-of-type {\n",
              "        vertical-align: middle;\n",
              "    }\n",
              "\n",
              "    .dataframe tbody tr th {\n",
              "        vertical-align: top;\n",
              "    }\n",
              "\n",
              "    .dataframe thead th {\n",
              "        text-align: right;\n",
              "    }\n",
              "</style>\n",
              "<table border=\"1\" class=\"dataframe\">\n",
              "  <thead>\n",
              "    <tr style=\"text-align: right;\">\n",
              "      <th></th>\n",
              "      <th>complex</th>\n",
              "      <th>NER</th>\n",
              "    </tr>\n",
              "  </thead>\n",
              "  <tbody>\n",
              "    <tr>\n",
              "      <th>0</th>\n",
              "      <td>One side of the armed conflicts is composed ma...</td>\n",
              "      <td>[Afro-Arab Abbala, The Janjaweed, Rizeigat, Su...</td>\n",
              "    </tr>\n",
              "    <tr>\n",
              "      <th>1</th>\n",
              "      <td>Jeddah is the principal gateway to Mecca, Isla...</td>\n",
              "      <td>[Muslims, Jeddah, Islam, Mecca]</td>\n",
              "    </tr>\n",
              "    <tr>\n",
              "      <th>2</th>\n",
              "      <td>The Great Dark Spot is thought to represent a ...</td>\n",
              "      <td>[Great Dark Spot, Neptune]</td>\n",
              "    </tr>\n",
              "    <tr>\n",
              "      <th>3</th>\n",
              "      <td>His next work, Saturday, follows an especially...</td>\n",
              "      <td>[Saturday]</td>\n",
              "    </tr>\n",
              "    <tr>\n",
              "      <th>4</th>\n",
              "      <td>The tarantula, the trickster character, spun a...</td>\n",
              "      <td>[east]</td>\n",
              "    </tr>\n",
              "    <tr>\n",
              "      <th>...</th>\n",
              "      <td>...</td>\n",
              "      <td>...</td>\n",
              "    </tr>\n",
              "    <tr>\n",
              "      <th>354</th>\n",
              "      <td>Although the name suggests that they are locat...</td>\n",
              "      <td>[Parts of the Bernese Alps, Bernese Oberland, ...</td>\n",
              "    </tr>\n",
              "    <tr>\n",
              "      <th>355</th>\n",
              "      <td>There he had one daughter, later baptized as M...</td>\n",
              "      <td>[Mary Ann Fisher Power, one]</td>\n",
              "    </tr>\n",
              "    <tr>\n",
              "      <th>356</th>\n",
              "      <td>During an interview, Edward Gorey mentioned th...</td>\n",
              "      <td>[Edward Gorey, Bawden, one]</td>\n",
              "    </tr>\n",
              "    <tr>\n",
              "      <th>357</th>\n",
              "      <td>The string can vibrate in different modes just...</td>\n",
              "      <td>[electron, photon]</td>\n",
              "    </tr>\n",
              "    <tr>\n",
              "      <th>358</th>\n",
              "      <td>Gable also earned an Academy Award nomination ...</td>\n",
              "      <td>[Fletcher Christian in, Mutiny on the Bounty, ...</td>\n",
              "    </tr>\n",
              "  </tbody>\n",
              "</table>\n",
              "<p>359 rows × 2 columns</p>\n",
              "</div>"
            ],
            "text/plain": [
              "                                               complex                                                NER\n",
              "0    One side of the armed conflicts is composed ma...  [Afro-Arab Abbala, The Janjaweed, Rizeigat, Su...\n",
              "1    Jeddah is the principal gateway to Mecca, Isla...                    [Muslims, Jeddah, Islam, Mecca]\n",
              "2    The Great Dark Spot is thought to represent a ...                         [Great Dark Spot, Neptune]\n",
              "3    His next work, Saturday, follows an especially...                                         [Saturday]\n",
              "4    The tarantula, the trickster character, spun a...                                             [east]\n",
              "..                                                 ...                                                ...\n",
              "354  Although the name suggests that they are locat...  [Parts of the Bernese Alps, Bernese Oberland, ...\n",
              "355  There he had one daughter, later baptized as M...                       [Mary Ann Fisher Power, one]\n",
              "356  During an interview, Edward Gorey mentioned th...                        [Edward Gorey, Bawden, one]\n",
              "357  The string can vibrate in different modes just...                                 [electron, photon]\n",
              "358  Gable also earned an Academy Award nomination ...  [Fletcher Christian in, Mutiny on the Bounty, ...\n",
              "\n",
              "[359 rows x 2 columns]"
            ]
          },
          "metadata": {
            "tags": []
          },
          "execution_count": 251
        }
      ]
    },
    {
      "cell_type": "code",
      "metadata": {
        "colab": {
          "base_uri": "https://localhost:8080/",
          "height": 17
        },
        "id": "L58C5en8NV_r",
        "outputId": "a681494c-d916-415a-ce0f-396df29a30fb"
      },
      "source": [
        "valid_complex_df.to_pickle(\"/content/drive/MyDrive/muss/qualitative/asset_valid_df_0810.pkl\")\n",
        "test_complex_df.to_pickle(\"/content/drive/MyDrive/muss/qualitative/asset_test_df_0810.pkl\")"
      ],
      "id": "L58C5en8NV_r",
      "execution_count": null,
      "outputs": [
        {
          "output_type": "display_data",
          "data": {
            "text/html": [
              "\n",
              "  <style>\n",
              "    pre {\n",
              "        white-space: pre-wrap;\n",
              "    }\n",
              "  </style>\n",
              "  "
            ],
            "text/plain": [
              "<IPython.core.display.HTML object>"
            ]
          },
          "metadata": {
            "tags": []
          }
        }
      ]
    },
    {
      "cell_type": "code",
      "metadata": {
        "colab": {
          "base_uri": "https://localhost:8080/",
          "height": 17
        },
        "id": "qsAKBVErCKo1",
        "outputId": "720e71f7-d54b-4797-9166-abcef72cee59"
      },
      "source": [
        ""
      ],
      "id": "qsAKBVErCKo1",
      "execution_count": null,
      "outputs": [
        {
          "output_type": "display_data",
          "data": {
            "text/html": [
              "\n",
              "  <style>\n",
              "    pre {\n",
              "        white-space: pre-wrap;\n",
              "    }\n",
              "  </style>\n",
              "  "
            ],
            "text/plain": [
              "<IPython.core.display.HTML object>"
            ]
          },
          "metadata": {}
        }
      ]
    },
    {
      "cell_type": "code",
      "metadata": {
        "colab": {
          "base_uri": "https://localhost:8080/",
          "height": 35
        },
        "id": "Zyu8qov8sbjS",
        "outputId": "e8312f95-8792-45b0-fd95-9b7bf03fe258"
      },
      "source": [
        "data_names"
      ],
      "id": "Zyu8qov8sbjS",
      "execution_count": null,
      "outputs": [
        {
          "output_type": "display_data",
          "data": {
            "text/html": [
              "\n",
              "  <style>\n",
              "    pre {\n",
              "        white-space: pre-wrap;\n",
              "    }\n",
              "  </style>\n",
              "  "
            ],
            "text/plain": [
              "<IPython.core.display.HTML object>"
            ]
          },
          "metadata": {}
        },
        {
          "output_type": "execute_result",
          "data": {
            "text/plain": [
              "['valid_complex', 'test_complex']"
            ]
          },
          "metadata": {},
          "execution_count": 111
        }
      ]
    },
    {
      "cell_type": "code",
      "metadata": {
        "colab": {
          "base_uri": "https://localhost:8080/",
          "height": 17
        },
        "id": "ro6tWArYsMn4",
        "outputId": "ddf9acbf-5a00-445c-9bc0-7ff01b49e105"
      },
      "source": [
        "def make_dataset(folder_name,data_names,intersection,num_NE,all_word=False,all_word_random=False):\n",
        "    \n",
        "    target_dir = '/content/drive/MyDrive/muss/resources/datasets/'+folder_name\n",
        "    os.makedirs(target_dir)#,exist_ok=True)\n",
        "\n",
        "    for index,data_name in enumerate(data_names):\n",
        "        file_name = data_name+'_ori'\n",
        "        data_tuples = list(zip(globals()[file_name],intersection[index]))\n",
        "        df = pd.DataFrame(data_tuples, columns=['ori_text','NER'])\n",
        "        file_name = data_name.replace('_','.')\n",
        "\n",
        "        with open(target_dir+'/'+file_name, 'w') as f:\n",
        "          for index, row in df.iterrows():\n",
        "              \n",
        "              if all_word == False:\n",
        "                  sentence = row.ori_text\n",
        "                  NER = row.NER\n",
        "\n",
        "                  if len(NER) != 0:\n",
        "                      NE_remained = row.NER[:num_NE]\n",
        "                      sentence_w_control_token = \" <NEXT_NE> \" + \" <NEXT_NE> \".join(NE_remained) + \" <SENT_START> \" + sentence\n",
        "                  else:\n",
        "                      sentence_w_control_token = \" <NEXT_NE> \"+ \" <SENT_START> \" + sentence\n",
        "\n",
        "                  if index%100==0:\n",
        "                      print(index)\n",
        "                      print(sentence_w_control_token)\n",
        "\n",
        "                  f.write(\"{}\\n\".format(sentence_w_control_token))\n",
        "              else:\n",
        "                  sentence = row.ori_text\n",
        "                  words_NE_list = sentence.split(' ')\n",
        "\n",
        "                  if all_word_random == True:\n",
        "                      random.shuffle(words_NE_list)\n",
        "\n",
        "                  sentence_w_control_token = \" <NEXT_NE> \" + \" <NEXT_NE> \".join(words_NE_list) + \" <SENT_START> \" + sentence\n",
        "\n",
        "                  if index%100==0:\n",
        "                      print(index)\n",
        "                      print(sentence_w_control_token)\n",
        "\n",
        "                  f.write(\"{}\\n\".format(sentence_w_control_token))\n",
        "\n",
        "        f.close()\n"
      ],
      "id": "ro6tWArYsMn4",
      "execution_count": null,
      "outputs": [
        {
          "output_type": "display_data",
          "data": {
            "text/html": [
              "\n",
              "  <style>\n",
              "    pre {\n",
              "        white-space: pre-wrap;\n",
              "    }\n",
              "  </style>\n",
              "  "
            ],
            "text/plain": [
              "<IPython.core.display.HTML object>"
            ]
          },
          "metadata": {}
        }
      ]
    },
    {
      "cell_type": "code",
      "metadata": {
        "id": "ld6Ow5TetJMf",
        "colab": {
          "base_uri": "https://localhost:8080/",
          "height": 1000
        },
        "outputId": "f4ed35a3-207b-426a-aa35-c6da84fae0c7"
      },
      "source": [
        "make_dataset('asset_simple_0NE_0825',data_names,intersection,0)"
      ],
      "id": "ld6Ow5TetJMf",
      "execution_count": null,
      "outputs": [
        {
          "output_type": "display_data",
          "data": {
            "text/html": [
              "\n",
              "  <style>\n",
              "    pre {\n",
              "        white-space: pre-wrap;\n",
              "    }\n",
              "  </style>\n",
              "  "
            ],
            "text/plain": [
              "<IPython.core.display.HTML object>"
            ]
          },
          "metadata": {}
        },
        {
          "output_type": "stream",
          "text": [
            "0\n",
            " <NEXT_NE>  <SENT_START> Adjacent counties are Marin (to the south), Mendocino (to the north), Lake (northeast), Napa (to the east), and Solano and Contra Costa (to the southeast).\n",
            "100\n",
            " <NEXT_NE>  <SENT_START> It aims to be fast and lightweight, while still being visually appealing and easy to use.\n",
            "200\n",
            " <NEXT_NE>  <SENT_START> Warrington is a large town, borough and unitary authority area of Cheshire, England.\n",
            "300\n",
            " <NEXT_NE>  <SENT_START> Alkaloids are produced by a large variety of organisms, including bacteria, fungi, plants, and animals and are part of the group of natural products (also called secondary metabolites).\n",
            "400\n",
            " <NEXT_NE>  <SENT_START> Leizu shared her discoveries with others and the knowledge became widespread in China.\n",
            "500\n",
            " <NEXT_NE>  <SENT_START> Earth is the only place in the universe where life has been confirmed to exist.\n",
            "600\n",
            " <NEXT_NE>  <SENT_START> A synonym for \"lolcat\" is cat macro, since the images are a type of image macro.\n",
            "700\n",
            " <NEXT_NE>  <SENT_START> Following the dissolution of the Soviet Union in December 1991, Honecker took refuge in the Chilean embassy in Moscow, but was extradited by the Yeltsin administration to Germany in 1992.\n",
            "800\n",
            " <NEXT_NE>  <SENT_START> The Higgs boson is the only Standard Model particle that has not yet been observed.\n",
            "900\n",
            " <NEXT_NE>  <SENT_START> Reznor later released The Slip in 2008 for free download.\n",
            "1000\n",
            " <NEXT_NE>  <SENT_START> INVEST or Storm 91C, was an unusual weather event of 2006.\n",
            "1100\n",
            " <NEXT_NE>  <SENT_START> It crossed the Florida peninsula that night, causing the issuance of numerous severe thunderstorm and tornado warnings.\n",
            "1200\n",
            " <NEXT_NE>  <SENT_START> It was erected to commemorate Constantine I's victory over Maxentius at the Battle of Milvian Bridge on October 28, 312.\n",
            "1300\n",
            " <NEXT_NE>  <SENT_START> The former member of the Swiss Federal Council Josef Escher was born in Simplon.\n",
            "1400\n",
            " <NEXT_NE>  <SENT_START> Zhengzhou is the province's capital and most populous city.\n",
            "1500\n",
            " <NEXT_NE>  <SENT_START> He has composed and arranged scores for more than 500 film and television productions.\n",
            "1600\n",
            " <NEXT_NE>  <SENT_START> Moorland or moor is a type of habitat found in upland areas, characterised by low growing vegetation on acidic soils.\n",
            "1700\n",
            " <NEXT_NE>  <SENT_START> She has a three-octave vocal range Accessed August 5, 2008 and a distinctively rapid vibrato.\n",
            "1800\n",
            " <NEXT_NE>  <SENT_START> On September 17, 2004, Whedon announced on the movie's official website that shooting had been completed.\n",
            "1900\n",
            " <NEXT_NE>  <SENT_START> Fire Salamanders can have a very long lifespan.\n",
            "0\n",
            " <NEXT_NE>  <SENT_START> One side of the armed conflicts is composed mainly of the Sudanese military and the Janjaweed, a Sudanese militia group recruited mostly from the Afro-Arab Abbala tribes of the northern Rizeigat region in Sudan.\n",
            "100\n",
            " <NEXT_NE>  <SENT_START> It will then dislodge itself and sink back to the river bed in order to digest its food and wait for its next meal.\n",
            "200\n",
            " <NEXT_NE>  <SENT_START> Alternative views on the subject have been proposed throughout the centuries (see below), but all were rejected by mainstream Christian bodies.\n",
            "300\n",
            " <NEXT_NE>  <SENT_START> The singles from the album included \"By the Way\", \"The Zephyr Song\", \"Ca n't Stop\", \"Dosed\" and \"Universally Speaking\".\n"
          ],
          "name": "stdout"
        }
      ]
    },
    {
      "cell_type": "code",
      "metadata": {
        "id": "dDI3nl5KuzO_"
      },
      "source": [
        ""
      ],
      "id": "dDI3nl5KuzO_",
      "execution_count": null,
      "outputs": []
    },
    {
      "cell_type": "markdown",
      "metadata": {
        "id": "r8OY_GQMZU-W"
      },
      "source": [
        "## both"
      ],
      "id": "r8OY_GQMZU-W"
    },
    {
      "cell_type": "code",
      "metadata": {
        "colab": {
          "base_uri": "https://localhost:8080/",
          "height": 17
        },
        "id": "MxFDgXhmZWQU",
        "outputId": "1479fc23-9839-4124-a1f7-30997e579af0"
      },
      "source": [
        "\n",
        "with open ('/content/drive/MyDrive/muss/valid_complex_df_0825.pkl', 'rb') as fp:\n",
        "    valid_df = pickle.load(fp)\n",
        "\n",
        "with open ('/content/drive/MyDrive/muss/test_complex_df_0825.pkl', 'rb') as fp:\n",
        "    test_df = pickle.load(fp)"
      ],
      "id": "MxFDgXhmZWQU",
      "execution_count": null,
      "outputs": [
        {
          "output_type": "display_data",
          "data": {
            "text/html": [
              "\n",
              "  <style>\n",
              "    pre {\n",
              "        white-space: pre-wrap;\n",
              "    }\n",
              "  </style>\n",
              "  "
            ],
            "text/plain": [
              "<IPython.core.display.HTML object>"
            ]
          },
          "metadata": {}
        }
      ]
    },
    {
      "cell_type": "code",
      "metadata": {
        "colab": {
          "base_uri": "https://localhost:8080/",
          "height": 17
        },
        "id": "xqKMTXdDCS-m",
        "outputId": "87162f07-040d-46c6-960a-5f001c86d63c"
      },
      "source": [
        "\n",
        "with open ('/content/drive/MyDrive/muss/qualitative/asset_valid_df_0810.pkl', 'rb') as fp:\n",
        "    simple_valid_df = pickle.load(fp)\n",
        "\n",
        "with open ('/content/drive/MyDrive/muss/qualitative/asset_test_df_0810.pkl', 'rb') as fp:\n",
        "    simple_test_df = pickle.load(fp)"
      ],
      "id": "xqKMTXdDCS-m",
      "execution_count": null,
      "outputs": [
        {
          "output_type": "display_data",
          "data": {
            "text/html": [
              "\n",
              "  <style>\n",
              "    pre {\n",
              "        white-space: pre-wrap;\n",
              "    }\n",
              "  </style>\n",
              "  "
            ],
            "text/plain": [
              "<IPython.core.display.HTML object>"
            ]
          },
          "metadata": {}
        }
      ]
    },
    {
      "cell_type": "code",
      "metadata": {
        "id": "zKJN68zNDZum"
      },
      "source": [
        "valid_df.rename(columns={\"NER\": \"NER_complex\"})"
      ],
      "id": "zKJN68zNDZum",
      "execution_count": null,
      "outputs": []
    },
    {
      "cell_type": "code",
      "metadata": {
        "id": "QHggJ4NICWNx"
      },
      "source": [
        "simple_valid_df.rename(columns={\"NER\": \"NER_simple\"})"
      ],
      "id": "QHggJ4NICWNx",
      "execution_count": null,
      "outputs": []
    },
    {
      "cell_type": "code",
      "metadata": {
        "colab": {
          "base_uri": "https://localhost:8080/",
          "height": 424
        },
        "id": "GyrXQexKCWLO",
        "outputId": "89d4a2d7-0017-4e37-82ec-a1b6a3cc02d9"
      },
      "source": [
        "com_sim_valid_df = pd.concat([valid_df.rename(columns={\"NER\": \"NER_complex\"}), simple_valid_df.rename(columns={\"NER\": \"NER_simple\"}).drop(columns=['complex'])], axis=1)\n",
        "com_sim_valid_df"
      ],
      "id": "GyrXQexKCWLO",
      "execution_count": null,
      "outputs": [
        {
          "output_type": "display_data",
          "data": {
            "text/html": [
              "\n",
              "  <style>\n",
              "    pre {\n",
              "        white-space: pre-wrap;\n",
              "    }\n",
              "  </style>\n",
              "  "
            ],
            "text/plain": [
              "<IPython.core.display.HTML object>"
            ]
          },
          "metadata": {}
        },
        {
          "output_type": "execute_result",
          "data": {
            "text/html": [
              "<div>\n",
              "<style scoped>\n",
              "    .dataframe tbody tr th:only-of-type {\n",
              "        vertical-align: middle;\n",
              "    }\n",
              "\n",
              "    .dataframe tbody tr th {\n",
              "        vertical-align: top;\n",
              "    }\n",
              "\n",
              "    .dataframe thead th {\n",
              "        text-align: right;\n",
              "    }\n",
              "</style>\n",
              "<table border=\"1\" class=\"dataframe\">\n",
              "  <thead>\n",
              "    <tr style=\"text-align: right;\">\n",
              "      <th></th>\n",
              "      <th>ori_text</th>\n",
              "      <th>NER_complex</th>\n",
              "      <th>NER_simple</th>\n",
              "    </tr>\n",
              "  </thead>\n",
              "  <tbody>\n",
              "    <tr>\n",
              "      <th>0</th>\n",
              "      <td>Adjacent counties are Marin (to the south), Me...</td>\n",
              "      <td>[Contra Costa, Mendocino, Adjacent, Solano, Ma...</td>\n",
              "      <td>[Mendocino, Lake, Contra Costa, Adjacent, Sola...</td>\n",
              "    </tr>\n",
              "    <tr>\n",
              "      <th>1</th>\n",
              "      <td>A Georgian inscription around the drum attests...</td>\n",
              "      <td>[Georgian]</td>\n",
              "      <td>[Georgian]</td>\n",
              "    </tr>\n",
              "    <tr>\n",
              "      <th>2</th>\n",
              "      <td>They would later return to the revived series ...</td>\n",
              "      <td>[Christmas Special \"The Next Doctor, the Cyber...</td>\n",
              "      <td>[Christmas Special \"The Next Doctor, the Cyber...</td>\n",
              "    </tr>\n",
              "    <tr>\n",
              "      <th>3</th>\n",
              "      <td>Jameson's autobiography, How to Make Love Like...</td>\n",
              "      <td>[A Cautionary Tale, August 17, 2004, Make Love...</td>\n",
              "      <td>[A Cautionary Tale, August 17, 2004, Make Love...</td>\n",
              "    </tr>\n",
              "    <tr>\n",
              "      <th>4</th>\n",
              "      <td>It is particularly famous for the cultivation ...</td>\n",
              "      <td>[]</td>\n",
              "      <td>[]</td>\n",
              "    </tr>\n",
              "    <tr>\n",
              "      <th>...</th>\n",
              "      <td>...</td>\n",
              "      <td>...</td>\n",
              "      <td>...</td>\n",
              "    </tr>\n",
              "    <tr>\n",
              "      <th>1995</th>\n",
              "      <td>On the 15 November 2003 a Sprinter train trave...</td>\n",
              "      <td>[November 2003, Sprinter, Ballarat, Ballan, Go...</td>\n",
              "      <td>[November 15, 2003, November 2003, Ballarat, S...</td>\n",
              "    </tr>\n",
              "    <tr>\n",
              "      <th>1996</th>\n",
              "      <td>A console manufacturer is a company that manuf...</td>\n",
              "      <td>[]</td>\n",
              "      <td>[]</td>\n",
              "    </tr>\n",
              "    <tr>\n",
              "      <th>1997</th>\n",
              "      <td>Links with poverty and crime Those who are fun...</td>\n",
              "      <td>[Links]</td>\n",
              "      <td>[Links]</td>\n",
              "    </tr>\n",
              "    <tr>\n",
              "      <th>1998</th>\n",
              "      <td>The term \"union council\" may be used for local...</td>\n",
              "      <td>[]</td>\n",
              "      <td>[]</td>\n",
              "    </tr>\n",
              "    <tr>\n",
              "      <th>1999</th>\n",
              "      <td>Modern African history has been rife with revo...</td>\n",
              "      <td>[Modern African]</td>\n",
              "      <td>[Modern African]</td>\n",
              "    </tr>\n",
              "  </tbody>\n",
              "</table>\n",
              "<p>2000 rows × 3 columns</p>\n",
              "</div>"
            ],
            "text/plain": [
              "                                               ori_text  ...                                         NER_simple\n",
              "0     Adjacent counties are Marin (to the south), Me...  ...  [Mendocino, Lake, Contra Costa, Adjacent, Sola...\n",
              "1     A Georgian inscription around the drum attests...  ...                                         [Georgian]\n",
              "2     They would later return to the revived series ...  ...  [Christmas Special \"The Next Doctor, the Cyber...\n",
              "3     Jameson's autobiography, How to Make Love Like...  ...  [A Cautionary Tale, August 17, 2004, Make Love...\n",
              "4     It is particularly famous for the cultivation ...  ...                                                 []\n",
              "...                                                 ...  ...                                                ...\n",
              "1995  On the 15 November 2003 a Sprinter train trave...  ...  [November 15, 2003, November 2003, Ballarat, S...\n",
              "1996  A console manufacturer is a company that manuf...  ...                                                 []\n",
              "1997  Links with poverty and crime Those who are fun...  ...                                            [Links]\n",
              "1998  The term \"union council\" may be used for local...  ...                                                 []\n",
              "1999  Modern African history has been rife with revo...  ...                                   [Modern African]\n",
              "\n",
              "[2000 rows x 3 columns]"
            ]
          },
          "metadata": {},
          "execution_count": 6
        }
      ]
    },
    {
      "cell_type": "code",
      "metadata": {
        "colab": {
          "base_uri": "https://localhost:8080/",
          "height": 424
        },
        "id": "trWvaeoYCWJB",
        "outputId": "d35ff7d5-d6d0-4a19-aa21-94e6f6bb02ec"
      },
      "source": [
        "com_sim_test_df = pd.concat([test_df.rename(columns={\"NER\": \"NER_complex\"}), simple_test_df.rename(columns={\"NER\": \"NER_simple\"}).drop(columns=['complex'])], axis=1)\n",
        "com_sim_test_df"
      ],
      "id": "trWvaeoYCWJB",
      "execution_count": null,
      "outputs": [
        {
          "output_type": "display_data",
          "data": {
            "text/html": [
              "\n",
              "  <style>\n",
              "    pre {\n",
              "        white-space: pre-wrap;\n",
              "    }\n",
              "  </style>\n",
              "  "
            ],
            "text/plain": [
              "<IPython.core.display.HTML object>"
            ]
          },
          "metadata": {}
        },
        {
          "output_type": "execute_result",
          "data": {
            "text/html": [
              "<div>\n",
              "<style scoped>\n",
              "    .dataframe tbody tr th:only-of-type {\n",
              "        vertical-align: middle;\n",
              "    }\n",
              "\n",
              "    .dataframe tbody tr th {\n",
              "        vertical-align: top;\n",
              "    }\n",
              "\n",
              "    .dataframe thead th {\n",
              "        text-align: right;\n",
              "    }\n",
              "</style>\n",
              "<table border=\"1\" class=\"dataframe\">\n",
              "  <thead>\n",
              "    <tr style=\"text-align: right;\">\n",
              "      <th></th>\n",
              "      <th>ori_text</th>\n",
              "      <th>NER_complex</th>\n",
              "      <th>NER_simple</th>\n",
              "    </tr>\n",
              "  </thead>\n",
              "  <tbody>\n",
              "    <tr>\n",
              "      <th>0</th>\n",
              "      <td>One side of the armed conflicts is composed ma...</td>\n",
              "      <td>[Afro-Arab Abbala, Janjaweed, Sudanese, Rizeigat]</td>\n",
              "      <td>[Afro-Arab Abbala, The Janjaweed, Rizeigat, Su...</td>\n",
              "    </tr>\n",
              "    <tr>\n",
              "      <th>1</th>\n",
              "      <td>Jeddah is the principal gateway to Mecca, Isla...</td>\n",
              "      <td>[Muslims, Jeddah, Mecca, Islam]</td>\n",
              "      <td>[Muslims, Jeddah, Islam, Mecca]</td>\n",
              "    </tr>\n",
              "    <tr>\n",
              "      <th>2</th>\n",
              "      <td>The Great Dark Spot is thought to represent a ...</td>\n",
              "      <td>[Great Dark Spot, Neptune]</td>\n",
              "      <td>[Great Dark Spot, Neptune]</td>\n",
              "    </tr>\n",
              "    <tr>\n",
              "      <th>3</th>\n",
              "      <td>His next work, Saturday, follows an especially...</td>\n",
              "      <td>[Saturday]</td>\n",
              "      <td>[Saturday]</td>\n",
              "    </tr>\n",
              "    <tr>\n",
              "      <th>4</th>\n",
              "      <td>The tarantula, the trickster character, spun a...</td>\n",
              "      <td>[east]</td>\n",
              "      <td>[east]</td>\n",
              "    </tr>\n",
              "    <tr>\n",
              "      <th>...</th>\n",
              "      <td>...</td>\n",
              "      <td>...</td>\n",
              "      <td>...</td>\n",
              "    </tr>\n",
              "    <tr>\n",
              "      <th>354</th>\n",
              "      <td>Although the name suggests that they are locat...</td>\n",
              "      <td>[the Bernese Alps, Bernese Oberland, Obwalden,...</td>\n",
              "      <td>[Parts of the Bernese Alps, Bernese Oberland, ...</td>\n",
              "    </tr>\n",
              "    <tr>\n",
              "      <th>355</th>\n",
              "      <td>There he had one daughter, later baptized as M...</td>\n",
              "      <td>[Mary Ann Fisher Power]</td>\n",
              "      <td>[Mary Ann Fisher Power, one]</td>\n",
              "    </tr>\n",
              "    <tr>\n",
              "      <th>356</th>\n",
              "      <td>During an interview, Edward Gorey mentioned th...</td>\n",
              "      <td>[Edward Gorey, Bawden]</td>\n",
              "      <td>[Edward Gorey, Bawden, one]</td>\n",
              "    </tr>\n",
              "    <tr>\n",
              "      <th>357</th>\n",
              "      <td>The string can vibrate in different modes just...</td>\n",
              "      <td>[electron, photon]</td>\n",
              "      <td>[electron, photon]</td>\n",
              "    </tr>\n",
              "    <tr>\n",
              "      <th>358</th>\n",
              "      <td>Gable also earned an Academy Award nomination ...</td>\n",
              "      <td>[Fletcher Christian in, Mutiny on the Bounty, ...</td>\n",
              "      <td>[Fletcher Christian in, Mutiny on the Bounty, ...</td>\n",
              "    </tr>\n",
              "  </tbody>\n",
              "</table>\n",
              "<p>359 rows × 3 columns</p>\n",
              "</div>"
            ],
            "text/plain": [
              "                                              ori_text  ...                                         NER_simple\n",
              "0    One side of the armed conflicts is composed ma...  ...  [Afro-Arab Abbala, The Janjaweed, Rizeigat, Su...\n",
              "1    Jeddah is the principal gateway to Mecca, Isla...  ...                    [Muslims, Jeddah, Islam, Mecca]\n",
              "2    The Great Dark Spot is thought to represent a ...  ...                         [Great Dark Spot, Neptune]\n",
              "3    His next work, Saturday, follows an especially...  ...                                         [Saturday]\n",
              "4    The tarantula, the trickster character, spun a...  ...                                             [east]\n",
              "..                                                 ...  ...                                                ...\n",
              "354  Although the name suggests that they are locat...  ...  [Parts of the Bernese Alps, Bernese Oberland, ...\n",
              "355  There he had one daughter, later baptized as M...  ...                       [Mary Ann Fisher Power, one]\n",
              "356  During an interview, Edward Gorey mentioned th...  ...                        [Edward Gorey, Bawden, one]\n",
              "357  The string can vibrate in different modes just...  ...                                 [electron, photon]\n",
              "358  Gable also earned an Academy Award nomination ...  ...  [Fletcher Christian in, Mutiny on the Bounty, ...\n",
              "\n",
              "[359 rows x 3 columns]"
            ]
          },
          "metadata": {},
          "execution_count": 7
        }
      ]
    },
    {
      "cell_type": "code",
      "metadata": {
        "colab": {
          "base_uri": "https://localhost:8080/",
          "height": 17
        },
        "id": "Ina9puG3MWie",
        "outputId": "550a3aea-2821-4ee5-b1f2-53313fc6d405"
      },
      "source": [
        "def substringSieve(NER_list,re_NER):\n",
        "  string_list = []\n",
        "  string_list.extend(NER_list)\n",
        "  string_list.extend(re_NER)\n",
        "  \n",
        "  string_list.sort(key=lambda s: len(s), reverse=True)\n",
        "  out = []\n",
        "  for s in string_list:\n",
        "      if not any([s in o for o in out]):\n",
        "          out.append(s)\n",
        "  \n",
        "  # if len(out) == 0:\n",
        "\n",
        "  #       out = np.nan\n",
        "\n",
        "  return out"
      ],
      "id": "Ina9puG3MWie",
      "execution_count": null,
      "outputs": [
        {
          "output_type": "display_data",
          "data": {
            "text/html": [
              "\n",
              "  <style>\n",
              "    pre {\n",
              "        white-space: pre-wrap;\n",
              "    }\n",
              "  </style>\n",
              "  "
            ],
            "text/plain": [
              "<IPython.core.display.HTML object>"
            ]
          },
          "metadata": {}
        }
      ]
    },
    {
      "cell_type": "code",
      "metadata": {
        "id": "-jhX6K_d7Cfr",
        "colab": {
          "base_uri": "https://localhost:8080/",
          "height": 35
        },
        "outputId": "fbabb8b4-56da-49e3-f90c-bc8a9d1c83b7"
      },
      "source": [
        "stop_words_list = [\"a\",\"about\",\"above\",\"after\",\"again\",\"against\",\"ain\",\"all\",\"am\",\"an\",\"and\",\"any\",\"are\",\"aren\",\"aren't\",\"as\",\"at\",\"be\",\"because\",\"been\",\"before\",\"being\",\"below\",\"between\",\"both\",\"but\",\"by\",\"can\",\"couldn\",\"couldn't\",\"d\",\"did\",\"didn\",\"didn't\",\"do\",\"does\",\"doesn\",\"doesn't\",\"doing\",\"don\",\"don't\",\"down\",\"during\",\"each\",\"few\",\"for\",\"from\",\"further\",\"had\",\"hadn\",\"hadn't\",\"has\",\"hasn\",\"hasn't\",\"have\",\"haven\",\"haven't\",\"having\",\"he\",\"her\",\"here\",\"hers\",\"herself\",\"him\",\"himself\",\"his\",\"how\",\"i\",\"if\",\"in\",\"into\",\"is\",\"isn\",\"isn't\",\"it\",\"it's\",\"its\",\"itself\",\"just\",\"ll\",\"m\",\"ma\",\"me\",\"mightn\",\"mightn't\",\"more\",\"most\",\"mustn\",\"mustn't\",\"my\",\"myself\",\"needn\",\"needn't\",\"no\",\"nor\",\"not\",\"now\",\"o\",\"of\",\"off\",\"on\",\"once\",\"only\",\"or\",\"other\",\"our\",\"ours\",\"ourselves\",\"out\",\"over\",\"own\",\"re\",\"s\",\"same\",\"shan\",\"shan't\",\"she\",\"she's\",\"should\",\"should've\",\"shouldn\",\"shouldn't\",\"so\",\"some\",\"such\",\"t\",\"than\",\"that\",\"that'll\",\"the\",\"their\",\"theirs\",\"them\",\"themselves\",\"then\",\"there\",\"these\",\"they\",\"this\",\"those\",\"through\",\"to\",\"too\",\"under\",\"until\",\"up\",\"ve\",\"very\",\"was\",\"wasn\",\"wasn't\",\"we\",\"were\",\"weren\",\"weren't\",\"what\",\"when\",\"where\",\"which\",\"while\",\"who\",\"whom\",\"why\",\"will\",\"with\",\"won\",\"won't\",\"wouldn\",\"wouldn't\",\"y\",\"you\",\"you'd\",\"you'll\",\"you're\",\"you've\",\"your\",\"yours\",\"yourself\",\"yourselves\",\"could\",\"he'd\",\"he'll\",\"he's\",\"here's\",\"how's\",\"i'd\",\"i'll\",\"i'm\",\"i've\",\"let's\",\"ought\",\"she'd\",\"she'll\",\"that's\",\"there's\",\"they'd\",\"they'll\",\"they're\",\"they've\",\"we'd\",\"we'll\",\"we're\",\"we've\",\"what's\",\"when's\",\"where's\",\"who's\",\"why's\",\"would\",\"able\",\"abst\",\"accordance\",\"according\",\"accordingly\",\"across\",\"act\",\"actually\",\"added\",\"adj\",\"affected\",\"affecting\",\"affects\",\"afterwards\",\"ah\",\"almost\",\"alone\",\"along\",\"already\",\"also\",\"although\",\"always\",\"among\",\"amongst\",\"announce\",\"another\",\"anybody\",\"anyhow\",\"anymore\",\"anyone\",\"anything\",\"anyway\",\"anyways\",\"anywhere\",\"apparently\",\"approximately\",\"arent\",\"arise\",\"around\",\"aside\",\"ask\",\"asking\",\"auth\",\"available\",\"away\",\"awfully\",\"b\",\"back\",\"became\",\"become\",\"becomes\",\"becoming\",\"beforehand\",\"begin\",\"beginning\",\"beginnings\",\"begins\",\"behind\",\"believe\",\"beside\",\"besides\",\"beyond\",\"biol\",\"brief\",\"briefly\",\"c\",\"ca\",\"came\",\"cannot\",\"can't\",\"cause\",\"causes\",\"certain\",\"certainly\",\"co\",\"com\",\"come\",\"comes\",\"contain\",\"containing\",\"contains\",\"couldnt\",\"date\",\"different\",\"done\",\"downwards\",\"due\",\"e\",\"ed\",\"edu\",\"effect\",\"eg\",\"eight\",\"eighty\",\"either\",\"else\",\"elsewhere\",\"end\",\"ending\",\"enough\",\"especially\",\"et\",\"etc\",\"even\",\"ever\",\"every\",\"everybody\",\"everyone\",\"everything\",\"everywhere\",\"ex\",\"except\",\"f\",\"far\",\"ff\",\"fifth\",\"first\",\"five\",\"fix\",\"followed\",\"following\",\"follows\",\"former\",\"formerly\",\"forth\",\"found\",\"four\",\"furthermore\",\"g\",\"gave\",\"get\",\"gets\",\"getting\",\"give\",\"given\",\"gives\",\"giving\",\"go\",\"goes\",\"gone\",\"got\",\"gotten\",\"h\",\"happens\",\"hardly\",\"hed\",\"hence\",\"hereafter\",\"hereby\",\"herein\",\"heres\",\"hereupon\",\"hes\",\"hi\",\"hid\",\"hither\",\"home\",\"howbeit\",\"however\",\"hundred\",\"id\",\"ie\",\"im\",\"immediate\",\"immediately\",\"importance\",\"important\",\"inc\",\"indeed\",\"index\",\"information\",\"instead\",\"invention\",\"inward\",\"itd\",\"it'll\",\"j\",\"k\",\"keep\",\"keeps\",\"kept\",\"kg\",\"km\",\"know\",\"known\",\"knows\",\"l\",\"largely\",\"last\",\"lately\",\"later\",\"latter\",\"latterly\",\"least\",\"less\",\"lest\",\"let\",\"lets\",\"like\",\"liked\",\"likely\",\"line\",\"little\",\"'ll\",\"look\",\"looking\",\"looks\",\"ltd\",\"made\",\"mainly\",\"make\",\"makes\",\"many\",\"may\",\"maybe\",\"mean\",\"means\",\"meantime\",\"meanwhile\",\"merely\",\"mg\",\"might\",\"million\",\"miss\",\"ml\",\"moreover\",\"mostly\",\"mr\",\"mrs\",\"much\",\"mug\",\"must\",\"n\",\"na\",\"name\",\"namely\",\"nay\",\"nd\",\"near\",\"nearly\",\"necessarily\",\"necessary\",\"need\",\"needs\",\"neither\",\"never\",\"nevertheless\",\"new\",\"next\",\"nine\",\"ninety\",\"nobody\",\"non\",\"none\",\"nonetheless\",\"noone\",\"normally\",\"nos\",\"noted\",\"nothing\",\"nowhere\",\"obtain\",\"obtained\",\"obviously\",\"often\",\"oh\",\"ok\",\"okay\",\"old\",\"omitted\",\"one\",\"ones\",\"onto\",\"ord\",\"others\",\"otherwise\",\"outside\",\"overall\",\"owing\",\"p\",\"page\",\"pages\",\"part\",\"particular\",\"particularly\",\"past\",\"per\",\"perhaps\",\"placed\",\"please\",\"plus\",\"poorly\",\"possible\",\"possibly\",\"potentially\",\"pp\",\"predominantly\",\"present\",\"previously\",\"primarily\",\"probably\",\"promptly\",\"proud\",\"provides\",\"put\",\"q\",\"que\",\"quickly\",\"quite\",\"qv\",\"r\",\"ran\",\"rather\",\"rd\",\"readily\",\"really\",\"recent\",\"recently\",\"ref\",\"refs\",\"regarding\",\"regardless\",\"regards\",\"related\",\"relatively\",\"research\",\"respectively\",\"resulted\",\"resulting\",\"results\",\"right\",\"run\",\"said\",\"saw\",\"say\",\"saying\",\"says\",\"sec\",\"section\",\"see\",\"seeing\",\"seem\",\"seemed\",\"seeming\",\"seems\",\"seen\",\"self\",\"selves\",\"sent\",\"seven\",\"several\",\"shall\",\"shed\",\"shes\",\"show\",\"showed\",\"shown\",\"showns\",\"shows\",\"significant\",\"significantly\",\"similar\",\"similarly\",\"since\",\"six\",\"slightly\",\"somebody\",\"somehow\",\"someone\",\"somethan\",\"something\",\"sometime\",\"sometimes\",\"somewhat\",\"somewhere\",\"soon\",\"sorry\",\"specifically\",\"specified\",\"specify\",\"specifying\",\"still\",\"stop\",\"strongly\",\"sub\",\"substantially\",\"successfully\",\"sufficiently\",\"suggest\",\"sup\",\"sure\",\"take\",\"taken\",\"taking\",\"tell\",\"tends\",\"th\",\"thank\",\"thanks\",\"thanx\",\"thats\",\"that've\",\"thence\",\"thereafter\",\"thereby\",\"thered\",\"therefore\",\"therein\",\"there'll\",\"thereof\",\"therere\",\"theres\",\"thereto\",\"thereupon\",\"there've\",\"theyd\",\"theyre\",\"think\",\"thou\",\"though\",\"thoughh\",\"thousand\",\"throug\",\"throughout\",\"thru\",\"thus\",\"til\",\"tip\",\"together\",\"took\",\"toward\",\"towards\",\"tried\",\"tries\",\"truly\",\"try\",\"trying\",\"ts\",\"twice\",\"two\",\"u\",\"un\",\"unfortunately\",\"unless\",\"unlike\",\"unlikely\",\"unto\",\"upon\",\"ups\",\"us\",\"use\",\"used\",\"useful\",\"usefully\",\"usefulness\",\"uses\",\"using\",\"usually\",\"v\",\"value\",\"various\",\"'ve\",\"via\",\"viz\",\"vol\",\"vols\",\"vs\",\"w\",\"want\",\"wants\",\"wasnt\",\"way\",\"wed\",\"welcome\",\"went\",\"werent\",\"whatever\",\"what'll\",\"whats\",\"whence\",\"whenever\",\"whereafter\",\"whereas\",\"whereby\",\"wherein\",\"wheres\",\"whereupon\",\"wherever\",\"whether\",\"whim\",\"whither\",\"whod\",\"whoever\",\"whole\",\"who'll\",\"whomever\",\"whos\",\"whose\",\"widely\",\"willing\",\"wish\",\"within\",\"without\",\"wont\",\"words\",\"world\",\"wouldnt\",\"www\",\"x\",\"yes\",\"yet\",\"youd\",\"youre\",\"z\",\"zero\",\"a's\",\"ain't\",\"allow\",\"allows\",\"apart\",\"appear\",\"appreciate\",\"appropriate\",\"associated\",\"best\",\"better\",\"c'mon\",\"c's\",\"cant\",\"changes\",\"clearly\",\"concerning\",\"consequently\",\"consider\",\"considering\",\"corresponding\",\"course\",\"currently\",\"definitely\",\"described\",\"despite\",\"entirely\",\"exactly\",\"example\",\"going\",\"greetings\",\"hello\",\"help\",\"hopefully\",\"ignored\",\"inasmuch\",\"indicate\",\"indicated\",\"indicates\",\"inner\",\"insofar\",\"it'd\",\"keep\",\"keeps\",\"novel\",\"presumably\",\"reasonably\",\"second\",\"secondly\",\"sensible\",\"serious\",\"seriously\",\"sure\",\"t's\",\"third\",\"thorough\",\"thoroughly\",\"three\",\"well\",\"wonder\"]\n",
        "cap_stop_words_list = [x.title() for x in stop_words_list]\n",
        "stop_words_all = []\n",
        "stop_words_all.extend(stop_words_list)\n",
        "stop_words_all.extend(cap_stop_words_list)\n",
        "len(stop_words_all)"
      ],
      "id": "-jhX6K_d7Cfr",
      "execution_count": null,
      "outputs": [
        {
          "output_type": "display_data",
          "data": {
            "text/html": [
              "\n",
              "  <style>\n",
              "    pre {\n",
              "        white-space: pre-wrap;\n",
              "    }\n",
              "  </style>\n",
              "  "
            ],
            "text/plain": [
              "<IPython.core.display.HTML object>"
            ]
          },
          "metadata": {}
        },
        {
          "output_type": "execute_result",
          "data": {
            "text/plain": [
              "1568"
            ]
          },
          "metadata": {},
          "execution_count": 9
        }
      ]
    },
    {
      "cell_type": "code",
      "metadata": {
        "id": "60mRDxXRaOx6",
        "colab": {
          "base_uri": "https://localhost:8080/",
          "height": 17
        },
        "outputId": "1a008411-ea29-465b-b673-0371f8937a12"
      },
      "source": [
        "df_name = ['com_sim_valid_df','com_sim_test_df']"
      ],
      "id": "60mRDxXRaOx6",
      "execution_count": null,
      "outputs": [
        {
          "output_type": "display_data",
          "data": {
            "text/html": [
              "\n",
              "  <style>\n",
              "    pre {\n",
              "        white-space: pre-wrap;\n",
              "    }\n",
              "  </style>\n",
              "  "
            ],
            "text/plain": [
              "<IPython.core.display.HTML object>"
            ]
          },
          "metadata": {}
        }
      ]
    },
    {
      "cell_type": "code",
      "metadata": {
        "id": "j_7YuCmVaOvp",
        "colab": {
          "base_uri": "https://localhost:8080/",
          "height": 54
        },
        "outputId": "612c04fc-4bf8-478c-8a14-f0c0009c579f"
      },
      "source": [
        "intersect_NE = []\n",
        "\n",
        "for i in range(2):\n",
        "  tmp_complex_ratio = []\n",
        "  tmp_simple_ratio = []\n",
        "  tmp_NE = []\n",
        "\n",
        "  for j in range(len(globals()[df_name[i]])):\n",
        "    \n",
        "    if j % 10000 == 0:\n",
        "      print(i,j)\n",
        "\n",
        "    a = globals()[df_name[i]].NER_complex[j].copy()\n",
        "    b = globals()[df_name[i]].NER_simple[j].copy()\n",
        "\n",
        "    \n",
        "    a_in_b = [x for x in a for y in b if x in y ]\n",
        "    b_in_a = [x for x in b for y in a if x in y ]\n",
        "\n",
        "    # break down NE in complex_NE and simple_NE list to check if any NE is not included in the final output due to some special case such as\n",
        "\n",
        "    # split the item and flat the list of lists\n",
        "    c = [item for sublist in [x.split(' ') for x in a] for item in sublist] # e.g.  ['Germany', 'Stadtpfeifer', 'Italy', 'Pifferi', 'Stadspijpers', 'Holland']\n",
        "    d = [item for sublist in [x.split(' ') for x in b] for item in sublist] # e.g. ['Stadtpfeifer', 'in', 'Germany', 'Pifferi', 'in', 'Italy']\n",
        "    \n",
        "    intersection_1 = [x for ele in c for x in d if x in ele] # element in d that also is a (sub)string in c\n",
        "    intersection_2 = [x for ele in d for x in c if x in ele]\n",
        "\n",
        "\n",
        "    final_output = substringSieve(substringSieve(a_in_b,b_in_a),substringSieve(intersection_1,intersection_2))\n",
        "  #   # print('final_output',final_output)\n",
        "\n",
        "    FINAL = [element for element in final_output if element not in stop_words_all]\n",
        "    \n",
        "  #   # print('FINAL',FINAL)\n",
        "  #   ####################\n",
        "    tmp_NE.append(FINAL)\n",
        "  #   ####################\n",
        "\n",
        "    # find the ratio of len(complex_NE_in_both)/len(complex) and the same for simple\n",
        "    if len(FINAL) != 0:\n",
        "\n",
        "      cc = list(set([element for element in c if element not in stop_words_all]))\n",
        "      dd = list(set([element for element in d if element not in stop_words_all]))\n",
        "\n",
        "      complex_in_inter_num = sum([x in FINAL for x in cc])\n",
        "      # print('complex_in_inter_num',complex_in_inter_num)\n",
        "\n",
        "      simple_in_inter_num = sum([x in FINAL for x in dd])\n",
        "      # print('simple_in_inter_num',simple_in_inter_num)\n",
        "\n",
        "      if len(a) != 0:\n",
        "        complex_in_inter_ratio = complex_in_inter_num/len(a)\n",
        "      else:\n",
        "        complex_in_inter_ratio = np.nan\n",
        "\n",
        "      if len(b) != 0:\n",
        "        simple_in_inter_ratio = simple_in_inter_num/len(b)\n",
        "      else:\n",
        "        simple_in_inter_ratio = np.nan\n",
        "\n",
        "      # print(complex_in_inter_ratio,simple_in_inter_ratio)\n",
        "      ####################\n",
        "      tmp_complex_ratio.append(complex_in_inter_ratio)\n",
        "      tmp_simple_ratio.append(simple_in_inter_ratio)\n",
        "      ####################\n",
        "\n",
        "  complex_ratio += [tmp_complex_ratio]\n",
        "  simple_ratio += [tmp_simple_ratio]\n",
        "  intersect_NE += [tmp_NE]\n",
        "    \n",
        "  "
      ],
      "id": "j_7YuCmVaOvp",
      "execution_count": null,
      "outputs": [
        {
          "output_type": "display_data",
          "data": {
            "text/html": [
              "\n",
              "  <style>\n",
              "    pre {\n",
              "        white-space: pre-wrap;\n",
              "    }\n",
              "  </style>\n",
              "  "
            ],
            "text/plain": [
              "<IPython.core.display.HTML object>"
            ]
          },
          "metadata": {}
        },
        {
          "output_type": "stream",
          "name": "stdout",
          "text": [
            "0 0\n",
            "1 0\n"
          ]
        }
      ]
    },
    {
      "cell_type": "code",
      "metadata": {
        "id": "eSb98q2haOth",
        "colab": {
          "base_uri": "https://localhost:8080/",
          "height": 35
        },
        "outputId": "53cd9763-1a86-4ae9-a242-63e3d8d4cc9a"
      },
      "source": [
        "len(intersect_NE)"
      ],
      "id": "eSb98q2haOth",
      "execution_count": null,
      "outputs": [
        {
          "output_type": "display_data",
          "data": {
            "text/html": [
              "\n",
              "  <style>\n",
              "    pre {\n",
              "        white-space: pre-wrap;\n",
              "    }\n",
              "  </style>\n",
              "  "
            ],
            "text/plain": [
              "<IPython.core.display.HTML object>"
            ]
          },
          "metadata": {}
        },
        {
          "output_type": "execute_result",
          "data": {
            "text/plain": [
              "2"
            ]
          },
          "metadata": {},
          "execution_count": 73
        }
      ]
    },
    {
      "cell_type": "code",
      "metadata": {
        "id": "Xsq43yXyaOq8",
        "colab": {
          "base_uri": "https://localhost:8080/",
          "height": 563
        },
        "outputId": "336dff7c-f69c-4378-ac25-f4eb05cf2525"
      },
      "source": [
        "com_sim_valid_df['co_occur_NER'] = intersect_NE[0]\n",
        "com_sim_valid_df"
      ],
      "id": "Xsq43yXyaOq8",
      "execution_count": null,
      "outputs": [
        {
          "output_type": "display_data",
          "data": {
            "text/html": [
              "\n",
              "  <style>\n",
              "    pre {\n",
              "        white-space: pre-wrap;\n",
              "    }\n",
              "  </style>\n",
              "  "
            ],
            "text/plain": [
              "<IPython.core.display.HTML object>"
            ]
          },
          "metadata": {}
        },
        {
          "output_type": "execute_result",
          "data": {
            "text/html": [
              "<div>\n",
              "<style scoped>\n",
              "    .dataframe tbody tr th:only-of-type {\n",
              "        vertical-align: middle;\n",
              "    }\n",
              "\n",
              "    .dataframe tbody tr th {\n",
              "        vertical-align: top;\n",
              "    }\n",
              "\n",
              "    .dataframe thead th {\n",
              "        text-align: right;\n",
              "    }\n",
              "</style>\n",
              "<table border=\"1\" class=\"dataframe\">\n",
              "  <thead>\n",
              "    <tr style=\"text-align: right;\">\n",
              "      <th></th>\n",
              "      <th>ori_text</th>\n",
              "      <th>NER_complex</th>\n",
              "      <th>NER_simple</th>\n",
              "      <th>co_occur_NER</th>\n",
              "    </tr>\n",
              "  </thead>\n",
              "  <tbody>\n",
              "    <tr>\n",
              "      <th>0</th>\n",
              "      <td>Adjacent counties are Marin (to the south), Mendocino (to the north), Lake (northeast), Napa (to the east), and Solano and Contra Costa (to the southeast).</td>\n",
              "      <td>[Contra Costa, Mendocino, Adjacent, Solano, Marin, Lake, Napa]</td>\n",
              "      <td>[Mendocino, Lake, Contra Costa, Adjacent, Solano, Marin, Napa]</td>\n",
              "      <td>[Contra Costa, Mendocino, Adjacent, Solano, Marin, Lake, Napa]</td>\n",
              "    </tr>\n",
              "    <tr>\n",
              "      <th>1</th>\n",
              "      <td>A Georgian inscription around the drum attests his name.</td>\n",
              "      <td>[Georgian]</td>\n",
              "      <td>[Georgian]</td>\n",
              "      <td>[Georgian]</td>\n",
              "    </tr>\n",
              "    <tr>\n",
              "      <th>2</th>\n",
              "      <td>They would later return to the revived series in the 2008 Christmas Special \"The Next Doctor\", introducing two new variants of the race; the Cyber-Shades and the Cyber-King.</td>\n",
              "      <td>[Christmas Special \"The Next Doctor, the Cyber-Shades, the Cyber-King, 2008]</td>\n",
              "      <td>[Christmas Special \"The Next Doctor, the Cyber-Shades, the Cyber-King, 2008, two]</td>\n",
              "      <td>[Christmas Special \"The Next Doctor, the Cyber-Shades, the Cyber-King, 2008]</td>\n",
              "    </tr>\n",
              "    <tr>\n",
              "      <th>3</th>\n",
              "      <td>Jameson's autobiography, How to Make Love Like a Porn Star: A Cautionary Tale was published August 17, 2004.</td>\n",
              "      <td>[A Cautionary Tale, August 17, 2004, Make Love Like, Porn Star, Jameson]</td>\n",
              "      <td>[A Cautionary Tale, August 17, 2004, Make Love Like, Porn Star, Jameson]</td>\n",
              "      <td>[A Cautionary Tale, August 17, 2004, Make Love Like, Porn Star, Jameson]</td>\n",
              "    </tr>\n",
              "    <tr>\n",
              "      <th>4</th>\n",
              "      <td>It is particularly famous for the cultivation of kiwifruit.</td>\n",
              "      <td>[]</td>\n",
              "      <td>[]</td>\n",
              "      <td>[]</td>\n",
              "    </tr>\n",
              "    <tr>\n",
              "      <th>...</th>\n",
              "      <td>...</td>\n",
              "      <td>...</td>\n",
              "      <td>...</td>\n",
              "      <td>...</td>\n",
              "    </tr>\n",
              "    <tr>\n",
              "      <th>1995</th>\n",
              "      <td>On the 15 November 2003 a Sprinter train travelling to Ballarat was derailed between Ballan and Gordon injuring 61 people when it hit a stationary car on a country railway crossing.</td>\n",
              "      <td>[November 2003, Sprinter, Ballarat, Ballan, Gordon, 15, 61]</td>\n",
              "      <td>[November 15, 2003, November 2003, Ballarat, Sprinter, Ballan, Gordon, 61]</td>\n",
              "      <td>[November 2003, Sprinter, Ballarat, Ballan, Gordon, 15, 61]</td>\n",
              "    </tr>\n",
              "    <tr>\n",
              "      <th>1996</th>\n",
              "      <td>A console manufacturer is a company that manufactures and distributes video game consoles.</td>\n",
              "      <td>[]</td>\n",
              "      <td>[]</td>\n",
              "      <td>[]</td>\n",
              "    </tr>\n",
              "    <tr>\n",
              "      <th>1997</th>\n",
              "      <td>Links with poverty and crime Those who are functionally illiterate may be subject to social intimidation, health risks, stress, low income, and other pitfalls associated with their reading and writing deficits.</td>\n",
              "      <td>[Links]</td>\n",
              "      <td>[Links]</td>\n",
              "      <td>[Links]</td>\n",
              "    </tr>\n",
              "    <tr>\n",
              "      <th>1998</th>\n",
              "      <td>The term \"union council\" may be used for localities that are part of cities.</td>\n",
              "      <td>[]</td>\n",
              "      <td>[]</td>\n",
              "      <td>[]</td>\n",
              "    </tr>\n",
              "    <tr>\n",
              "      <th>1999</th>\n",
              "      <td>Modern African history has been rife with revolutions and wars as well as the growth of modern African economies and democratization across the continent.</td>\n",
              "      <td>[Modern African]</td>\n",
              "      <td>[Modern African]</td>\n",
              "      <td>[Modern African]</td>\n",
              "    </tr>\n",
              "  </tbody>\n",
              "</table>\n",
              "<p>2000 rows × 4 columns</p>\n",
              "</div>"
            ],
            "text/plain": [
              "                                                                                                                                                                                                                ori_text  ...                                                                  co_occur_NER\n",
              "0                                                            Adjacent counties are Marin (to the south), Mendocino (to the north), Lake (northeast), Napa (to the east), and Solano and Contra Costa (to the southeast).  ...                [Contra Costa, Mendocino, Adjacent, Solano, Marin, Lake, Napa]\n",
              "1                                                                                                                                                               A Georgian inscription around the drum attests his name.  ...                                                                    [Georgian]\n",
              "2                                          They would later return to the revived series in the 2008 Christmas Special \"The Next Doctor\", introducing two new variants of the race; the Cyber-Shades and the Cyber-King.  ...  [Christmas Special \"The Next Doctor, the Cyber-Shades, the Cyber-King, 2008]\n",
              "3                                                                                                           Jameson's autobiography, How to Make Love Like a Porn Star: A Cautionary Tale was published August 17, 2004.  ...      [A Cautionary Tale, August 17, 2004, Make Love Like, Porn Star, Jameson]\n",
              "4                                                                                                                                                            It is particularly famous for the cultivation of kiwifruit.  ...                                                                            []\n",
              "...                                                                                                                                                                                                                  ...  ...                                                                           ...\n",
              "1995                               On the 15 November 2003 a Sprinter train travelling to Ballarat was derailed between Ballan and Gordon injuring 61 people when it hit a stationary car on a country railway crossing.  ...                   [November 2003, Sprinter, Ballarat, Ballan, Gordon, 15, 61]\n",
              "1996                                                                                                                          A console manufacturer is a company that manufactures and distributes video game consoles.  ...                                                                            []\n",
              "1997  Links with poverty and crime Those who are functionally illiterate may be subject to social intimidation, health risks, stress, low income, and other pitfalls associated with their reading and writing deficits.  ...                                                                       [Links]\n",
              "1998                                                                                                                                        The term \"union council\" may be used for localities that are part of cities.  ...                                                                            []\n",
              "1999                                                          Modern African history has been rife with revolutions and wars as well as the growth of modern African economies and democratization across the continent.  ...                                                              [Modern African]\n",
              "\n",
              "[2000 rows x 4 columns]"
            ]
          },
          "metadata": {},
          "execution_count": 79
        }
      ]
    },
    {
      "cell_type": "code",
      "metadata": {
        "colab": {
          "base_uri": "https://localhost:8080/",
          "height": 597
        },
        "id": "7Kth5IzX_Mj4",
        "outputId": "4445e8c0-175f-480e-8958-573cd4587ff2"
      },
      "source": [
        "com_sim_test_df['co_occur_NER'] = intersect_NE[1]\n",
        "com_sim_test_df"
      ],
      "id": "7Kth5IzX_Mj4",
      "execution_count": null,
      "outputs": [
        {
          "output_type": "display_data",
          "data": {
            "text/html": [
              "\n",
              "  <style>\n",
              "    pre {\n",
              "        white-space: pre-wrap;\n",
              "    }\n",
              "  </style>\n",
              "  "
            ],
            "text/plain": [
              "<IPython.core.display.HTML object>"
            ]
          },
          "metadata": {}
        },
        {
          "output_type": "execute_result",
          "data": {
            "text/html": [
              "<div>\n",
              "<style scoped>\n",
              "    .dataframe tbody tr th:only-of-type {\n",
              "        vertical-align: middle;\n",
              "    }\n",
              "\n",
              "    .dataframe tbody tr th {\n",
              "        vertical-align: top;\n",
              "    }\n",
              "\n",
              "    .dataframe thead th {\n",
              "        text-align: right;\n",
              "    }\n",
              "</style>\n",
              "<table border=\"1\" class=\"dataframe\">\n",
              "  <thead>\n",
              "    <tr style=\"text-align: right;\">\n",
              "      <th></th>\n",
              "      <th>ori_text</th>\n",
              "      <th>NER_complex</th>\n",
              "      <th>NER_simple</th>\n",
              "      <th>co_occur_NER</th>\n",
              "    </tr>\n",
              "  </thead>\n",
              "  <tbody>\n",
              "    <tr>\n",
              "      <th>0</th>\n",
              "      <td>One side of the armed conflicts is composed mainly of the Sudanese military and the Janjaweed, a Sudanese militia group recruited mostly from the Afro-Arab Abbala tribes of the northern Rizeigat region in Sudan.</td>\n",
              "      <td>[Afro-Arab Abbala, Janjaweed, Sudanese, Rizeigat]</td>\n",
              "      <td>[Afro-Arab Abbala, The Janjaweed, Rizeigat, Sudanese]</td>\n",
              "      <td>[Afro-Arab Abbala, Janjaweed, Sudanese, Rizeigat]</td>\n",
              "    </tr>\n",
              "    <tr>\n",
              "      <th>1</th>\n",
              "      <td>Jeddah is the principal gateway to Mecca, Islam's holiest city, which able-bodied Muslims are required to visit at least once in their lifetime.</td>\n",
              "      <td>[Muslims, Jeddah, Mecca, Islam]</td>\n",
              "      <td>[Muslims, Jeddah, Islam, Mecca]</td>\n",
              "      <td>[Muslims, Jeddah, Mecca, Islam]</td>\n",
              "    </tr>\n",
              "    <tr>\n",
              "      <th>2</th>\n",
              "      <td>The Great Dark Spot is thought to represent a hole in the methane cloud deck of Neptune.</td>\n",
              "      <td>[Great Dark Spot, Neptune]</td>\n",
              "      <td>[Great Dark Spot, Neptune]</td>\n",
              "      <td>[Great Dark Spot, Neptune]</td>\n",
              "    </tr>\n",
              "    <tr>\n",
              "      <th>3</th>\n",
              "      <td>His next work, Saturday, follows an especially eventful day in the life of a successful neurosurgeon.</td>\n",
              "      <td>[Saturday]</td>\n",
              "      <td>[Saturday]</td>\n",
              "      <td>[Saturday]</td>\n",
              "    </tr>\n",
              "    <tr>\n",
              "      <th>4</th>\n",
              "      <td>The tarantula, the trickster character, spun a black cord and, attaching it to the ball, crawled away fast to the east, pulling on the cord with all his strength.</td>\n",
              "      <td>[east]</td>\n",
              "      <td>[east]</td>\n",
              "      <td>[east]</td>\n",
              "    </tr>\n",
              "    <tr>\n",
              "      <th>...</th>\n",
              "      <td>...</td>\n",
              "      <td>...</td>\n",
              "      <td>...</td>\n",
              "      <td>...</td>\n",
              "    </tr>\n",
              "    <tr>\n",
              "      <th>354</th>\n",
              "      <td>Although the name suggests that they are located in the Bernese Oberland region of the canton of Bern, portions of the Bernese Alps are in the adjacent cantons of Valais, Lucerne, Obwalden, Fribourg and Vaud.</td>\n",
              "      <td>[the Bernese Alps, Bernese Oberland, Obwalden, Fribourg, Lucerne, Valais, Vaud]</td>\n",
              "      <td>[Parts of the Bernese Alps, Bernese Oberland, Fribourg, Obwalden, Lucerne, Valais, Vaud]</td>\n",
              "      <td>[the Bernese Alps, Bernese Oberland, Obwalden, Fribourg, Lucerne, Valais, Vaud]</td>\n",
              "    </tr>\n",
              "    <tr>\n",
              "      <th>355</th>\n",
              "      <td>There he had one daughter, later baptized as Mary Ann Fisher Power, to Ann (e) Power.</td>\n",
              "      <td>[Mary Ann Fisher Power]</td>\n",
              "      <td>[Mary Ann Fisher Power, one]</td>\n",
              "      <td>[Mary Ann Fisher Power]</td>\n",
              "    </tr>\n",
              "    <tr>\n",
              "      <th>356</th>\n",
              "      <td>During an interview, Edward Gorey mentioned that Bawden was one of his favorite artists, lamenting the fact that not many people remembered or knew about this fine artist.</td>\n",
              "      <td>[Edward Gorey, Bawden]</td>\n",
              "      <td>[Edward Gorey, Bawden, one]</td>\n",
              "      <td>[Edward Gorey, Bawden]</td>\n",
              "    </tr>\n",
              "    <tr>\n",
              "      <th>357</th>\n",
              "      <td>The string can vibrate in different modes just as a guitar string can produce different notes, and every mode appears as a different particle: electron, photon, gluon, etc.</td>\n",
              "      <td>[electron, photon]</td>\n",
              "      <td>[electron, photon]</td>\n",
              "      <td>[electron, photon]</td>\n",
              "    </tr>\n",
              "    <tr>\n",
              "      <th>358</th>\n",
              "      <td>Gable also earned an Academy Award nomination when he portrayed Fletcher Christian in 1935's Mutiny on the Bounty.</td>\n",
              "      <td>[Fletcher Christian in, Mutiny on the Bounty, Academy Award, Gable, 1935]</td>\n",
              "      <td>[Fletcher Christian in, Mutiny on the Bounty, Academy Award, Gable, 1935]</td>\n",
              "      <td>[Fletcher Christian in, Mutiny on the Bounty, Academy Award, Gable, 1935]</td>\n",
              "    </tr>\n",
              "  </tbody>\n",
              "</table>\n",
              "<p>359 rows × 4 columns</p>\n",
              "</div>"
            ],
            "text/plain": [
              "                                                                                                                                                                                                                ori_text  ...                                                                     co_occur_NER\n",
              "0    One side of the armed conflicts is composed mainly of the Sudanese military and the Janjaweed, a Sudanese militia group recruited mostly from the Afro-Arab Abbala tribes of the northern Rizeigat region in Sudan.  ...                                [Afro-Arab Abbala, Janjaweed, Sudanese, Rizeigat]\n",
              "1                                                                       Jeddah is the principal gateway to Mecca, Islam's holiest city, which able-bodied Muslims are required to visit at least once in their lifetime.  ...                                                  [Muslims, Jeddah, Mecca, Islam]\n",
              "2                                                                                                                               The Great Dark Spot is thought to represent a hole in the methane cloud deck of Neptune.  ...                                                       [Great Dark Spot, Neptune]\n",
              "3                                                                                                                  His next work, Saturday, follows an especially eventful day in the life of a successful neurosurgeon.  ...                                                                       [Saturday]\n",
              "4                                                     The tarantula, the trickster character, spun a black cord and, attaching it to the ball, crawled away fast to the east, pulling on the cord with all his strength.  ...                                                                           [east]\n",
              "..                                                                                                                                                                                                                   ...  ...                                                                              ...\n",
              "354     Although the name suggests that they are located in the Bernese Oberland region of the canton of Bern, portions of the Bernese Alps are in the adjacent cantons of Valais, Lucerne, Obwalden, Fribourg and Vaud.  ...  [the Bernese Alps, Bernese Oberland, Obwalden, Fribourg, Lucerne, Valais, Vaud]\n",
              "355                                                                                                                                There he had one daughter, later baptized as Mary Ann Fisher Power, to Ann (e) Power.  ...                                                          [Mary Ann Fisher Power]\n",
              "356                                          During an interview, Edward Gorey mentioned that Bawden was one of his favorite artists, lamenting the fact that not many people remembered or knew about this fine artist.  ...                                                           [Edward Gorey, Bawden]\n",
              "357                                         The string can vibrate in different modes just as a guitar string can produce different notes, and every mode appears as a different particle: electron, photon, gluon, etc.  ...                                                               [electron, photon]\n",
              "358                                                                                                   Gable also earned an Academy Award nomination when he portrayed Fletcher Christian in 1935's Mutiny on the Bounty.  ...        [Fletcher Christian in, Mutiny on the Bounty, Academy Award, Gable, 1935]\n",
              "\n",
              "[359 rows x 4 columns]"
            ]
          },
          "metadata": {},
          "execution_count": 80
        }
      ]
    },
    {
      "cell_type": "code",
      "metadata": {
        "id": "z-MRtV8N_Mgl"
      },
      "source": [
        ""
      ],
      "id": "z-MRtV8N_Mgl",
      "execution_count": null,
      "outputs": []
    },
    {
      "cell_type": "markdown",
      "metadata": {
        "id": "LHKskxuLC0Eq"
      },
      "source": [
        "### create dataset"
      ],
      "id": "LHKskxuLC0Eq"
    },
    {
      "cell_type": "code",
      "metadata": {
        "colab": {
          "base_uri": "https://localhost:8080/",
          "height": 17
        },
        "id": "cTj7iW6-C0Et",
        "outputId": "9bd650a3-ddff-4ae1-edc1-9bc7742e5622"
      },
      "source": [
        "target_dir = '/content/drive/MyDrive/muss/resources/datasets/asset_both_0912'\n",
        "!mkdir $target_dir"
      ],
      "id": "cTj7iW6-C0Et",
      "execution_count": null,
      "outputs": [
        {
          "output_type": "display_data",
          "data": {
            "text/html": [
              "\n",
              "  <style>\n",
              "    pre {\n",
              "        white-space: pre-wrap;\n",
              "    }\n",
              "  </style>\n",
              "  "
            ],
            "text/plain": [
              "<IPython.core.display.HTML object>"
            ]
          },
          "metadata": {}
        }
      ]
    },
    {
      "cell_type": "code",
      "metadata": {
        "colab": {
          "base_uri": "https://localhost:8080/",
          "height": 17
        },
        "id": "SbzOQW2pC0Ey",
        "outputId": "1d77df6d-97b0-4abd-d0f1-01f1043b3ed5"
      },
      "source": [
        "data_names = ['valid_complex','test_complex']"
      ],
      "id": "SbzOQW2pC0Ey",
      "execution_count": null,
      "outputs": [
        {
          "output_type": "display_data",
          "data": {
            "text/html": [
              "\n",
              "  <style>\n",
              "    pre {\n",
              "        white-space: pre-wrap;\n",
              "    }\n",
              "  </style>\n",
              "  "
            ],
            "text/plain": [
              "<IPython.core.display.HTML object>"
            ]
          },
          "metadata": {}
        }
      ]
    },
    {
      "cell_type": "code",
      "metadata": {
        "colab": {
          "base_uri": "https://localhost:8080/",
          "height": 17
        },
        "id": "GITn1HwfC0E0",
        "outputId": "368b6946-bb60-48d1-cdf0-8451a6aa190d"
      },
      "source": [
        "df_list = ['com_sim_valid_df','com_sim_test_df']"
      ],
      "id": "GITn1HwfC0E0",
      "execution_count": null,
      "outputs": [
        {
          "output_type": "display_data",
          "data": {
            "text/html": [
              "\n",
              "  <style>\n",
              "    pre {\n",
              "        white-space: pre-wrap;\n",
              "    }\n",
              "  </style>\n",
              "  "
            ],
            "text/plain": [
              "<IPython.core.display.HTML object>"
            ]
          },
          "metadata": {}
        }
      ]
    },
    {
      "cell_type": "code",
      "metadata": {
        "colab": {
          "base_uri": "https://localhost:8080/",
          "height": 127
        },
        "id": "eIh0U84-C0E1",
        "outputId": "fe986bae-a78a-4254-9ba1-0dc49ec902e2"
      },
      "source": [
        "for index,data_name in enumerate(data_names):\n",
        "\n",
        "  chosen_df = globals()[df_list[index]]\n",
        "  file_name = data_name.replace('_','.')\n",
        "\n",
        "  \n",
        "  with open(target_dir+'/'+file_name, 'w') as f:\n",
        "\n",
        "    for index, row in chosen_df.iterrows():\n",
        "\n",
        "        sentence = row.ori_text\n",
        "        NER = row.co_occur_NER\n",
        "\n",
        "        if isinstance(NER, float):\n",
        "          sentence_w_control_token = \" <NEXT_NE> \" + \" <SENT_START> \" + sentence\n",
        "        else:\n",
        "          sentence_w_control_token = \" <NEXT_NE> \" +\" <NEXT_NE> \".join(NER) + \" <SENT_START> \" + sentence\n",
        "        # sentence_w_control_token = \" <NEXT_NE>  <SENT_START> \" + sentence\n",
        "\n",
        "        if index%10000==0:\n",
        "            print(index)\n",
        "            print(sentence_w_control_token)\n",
        "\n",
        "        f.write(\"{}\\n\".format(sentence_w_control_token))\n",
        "\n",
        "        # break\n",
        "\n",
        "  f.close()\n"
      ],
      "id": "eIh0U84-C0E1",
      "execution_count": null,
      "outputs": [
        {
          "output_type": "display_data",
          "data": {
            "text/html": [
              "\n",
              "  <style>\n",
              "    pre {\n",
              "        white-space: pre-wrap;\n",
              "    }\n",
              "  </style>\n",
              "  "
            ],
            "text/plain": [
              "<IPython.core.display.HTML object>"
            ]
          },
          "metadata": {}
        },
        {
          "output_type": "stream",
          "name": "stdout",
          "text": [
            "0\n",
            " <NEXT_NE> Contra Costa <NEXT_NE> Mendocino <NEXT_NE> Adjacent <NEXT_NE> Solano <NEXT_NE> Marin <NEXT_NE> Lake <NEXT_NE> Napa <SENT_START> Adjacent counties are Marin (to the south), Mendocino (to the north), Lake (northeast), Napa (to the east), and Solano and Contra Costa (to the southeast).\n",
            "0\n",
            " <NEXT_NE> Afro-Arab Abbala <NEXT_NE> Janjaweed <NEXT_NE> Sudanese <NEXT_NE> Rizeigat <SENT_START> One side of the armed conflicts is composed mainly of the Sudanese military and the Janjaweed, a Sudanese militia group recruited mostly from the Afro-Arab Abbala tribes of the northern Rizeigat region in Sudan.\n"
          ]
        }
      ]
    },
    {
      "cell_type": "code",
      "metadata": {
        "id": "w6dGMD6J_Md_"
      },
      "source": [
        ""
      ],
      "id": "w6dGMD6J_Md_",
      "execution_count": null,
      "outputs": []
    },
    {
      "cell_type": "code",
      "metadata": {
        "id": "Ulljdsab_Mba"
      },
      "source": [
        ""
      ],
      "id": "Ulljdsab_Mba",
      "execution_count": null,
      "outputs": []
    },
    {
      "cell_type": "markdown",
      "metadata": {
        "id": "PcqiNoq4R7nF"
      },
      "source": [
        "# operation lexical simplification"
      ],
      "id": "PcqiNoq4R7nF"
    },
    {
      "cell_type": "code",
      "metadata": {
        "colab": {
          "base_uri": "https://localhost:8080/",
          "height": 17
        },
        "id": "eA0EWUbIR9iE",
        "outputId": "3d1e53b8-7048-44c4-8378-6874fa327741"
      },
      "source": [
        "import requests\n",
        "import json\n",
        "import ast\n",
        "from multiprocessing import Pool\n"
      ],
      "id": "eA0EWUbIR9iE",
      "execution_count": null,
      "outputs": [
        {
          "output_type": "display_data",
          "data": {
            "text/html": [
              "\n",
              "  <style>\n",
              "    pre {\n",
              "        white-space: pre-wrap;\n",
              "    }\n",
              "  </style>\n",
              "  "
            ],
            "text/plain": [
              "<IPython.core.display.HTML object>"
            ]
          },
          "metadata": {}
        }
      ]
    },
    {
      "cell_type": "code",
      "metadata": {
        "colab": {
          "base_uri": "https://localhost:8080/",
          "height": 17
        },
        "id": "yZ4yeBTnR9fz",
        "outputId": "2a235f99-d59d-4012-b593-ea13213c1985"
      },
      "source": [
        "# API\n",
        "url = #\n",
        "\n",
        "headers = {\n",
        "    'Content-Type': 'application/json',\n",
        "    'x-api-key' : #\n",
        "}"
      ],
      "id": "yZ4yeBTnR9fz",
      "execution_count": null,
      "outputs": [
        {
          "output_type": "display_data",
          "data": {
            "text/html": [
              "\n",
              "  <style>\n",
              "    pre {\n",
              "        white-space: pre-wrap;\n",
              "    }\n",
              "  </style>\n",
              "  "
            ],
            "text/plain": [
              "<IPython.core.display.HTML object>"
            ]
          },
          "metadata": {}
        }
      ]
    },
    {
      "cell_type": "code",
      "metadata": {
        "colab": {
          "base_uri": "https://localhost:8080/",
          "height": 17
        },
        "id": "O7t9-_zqR9ai",
        "outputId": "aa5f1c6b-0526-43dd-b10a-2cebf4a154b0"
      },
      "source": [
        "# request word level difficulty \n",
        "def get_data(text):\n",
        "    r1 = requests.request(\"POST\", url, headers=headers, data=json.dumps([{'id':'test','text':text}]))\n",
        "    a = r1.json()\n",
        "    return a"
      ],
      "id": "O7t9-_zqR9ai",
      "execution_count": null,
      "outputs": [
        {
          "output_type": "display_data",
          "data": {
            "text/html": [
              "\n",
              "  <style>\n",
              "    pre {\n",
              "        white-space: pre-wrap;\n",
              "    }\n",
              "  </style>\n",
              "  "
            ],
            "text/plain": [
              "<IPython.core.display.HTML object>"
            ]
          },
          "metadata": {}
        }
      ]
    },
    {
      "cell_type": "code",
      "metadata": {
        "colab": {
          "base_uri": "https://localhost:8080/",
          "height": 17
        },
        "id": "yNmqOI5FR9V7",
        "outputId": "77ca79e2-a290-4e13-d836-7be75765929c"
      },
      "source": [
        "with Pool(5) as p:\n",
        "    valid_result = p.map(get_data, valid_df['ori_text'])\n",
        "\n",
        "with open('/content/drive/MyDrive/muss/qualitative/', 'wb') as fp:\n",
        "    pickle.dump(result, fp)"
      ],
      "id": "yNmqOI5FR9V7",
      "execution_count": null,
      "outputs": [
        {
          "output_type": "display_data",
          "data": {
            "text/html": [
              "\n",
              "  <style>\n",
              "    pre {\n",
              "        white-space: pre-wrap;\n",
              "    }\n",
              "  </style>\n",
              "  "
            ],
            "text/plain": [
              "<IPython.core.display.HTML object>"
            ]
          },
          "metadata": {}
        }
      ]
    },
    {
      "cell_type": "code",
      "metadata": {
        "colab": {
          "base_uri": "https://localhost:8080/",
          "height": 17
        },
        "id": "eldeaR8bSq1w",
        "outputId": "249455e7-0b5f-46bb-f3bf-116d2b1459bb"
      },
      "source": [
        "with Pool(5) as p:\n",
        "    test_result = p.map(get_data, test_df['ori_text'])\n",
        "\n",
        "with open('/content/drive/MyDrive/muss/qualitative/', 'wb') as fp:\n",
        "    pickle.dump(result, fp)"
      ],
      "id": "eldeaR8bSq1w",
      "execution_count": null,
      "outputs": [
        {
          "output_type": "display_data",
          "data": {
            "text/html": [
              "\n",
              "  <style>\n",
              "    pre {\n",
              "        white-space: pre-wrap;\n",
              "    }\n",
              "  </style>\n",
              "  "
            ],
            "text/plain": [
              "<IPython.core.display.HTML object>"
            ]
          },
          "metadata": {}
        }
      ]
    },
    {
      "cell_type": "code",
      "metadata": {
        "colab": {
          "base_uri": "https://localhost:8080/",
          "height": 17
        },
        "id": "JhezQDq6SrLE",
        "outputId": "21465eaa-1dde-4297-8262-87f37011a42b"
      },
      "source": [
        "# combine complex and simple sentences word difficulty level \n",
        "from pandas import json_normalize\n",
        "\n",
        "def process_file(f):\n",
        "  jsonObj = json.loads(f)\n",
        "  return json_normalize(jsonObj)"
      ],
      "id": "JhezQDq6SrLE",
      "execution_count": null,
      "outputs": [
        {
          "output_type": "display_data",
          "data": {
            "text/html": [
              "\n",
              "  <style>\n",
              "    pre {\n",
              "        white-space: pre-wrap;\n",
              "    }\n",
              "  </style>\n",
              "  "
            ],
            "text/plain": [
              "<IPython.core.display.HTML object>"
            ]
          },
          "metadata": {}
        }
      ]
    },
    {
      "cell_type": "code",
      "metadata": {
        "colab": {
          "base_uri": "https://localhost:8080/",
          "height": 17
        },
        "id": "N6JygoW-SrNi",
        "outputId": "0ba06575-601a-41f9-faf6-7bd31208c83d"
      },
      "source": [
        "valid_frames = []\n",
        "\n",
        "for i in range(len(valid_result)):\n",
        "\n",
        "  if 'body' not in valid_result[i].keys():\n",
        "    print('error',i)\n",
        "    tmp = process_file(valid_result[i-1]['body'])\n",
        "    tmp.loc[:] = np.nan\n",
        "    valid_frames.append(tmp)\n",
        "  else:\n",
        "    valid_frames.append(process_file(valid_result[i]['body']))\n",
        "\n",
        "valid_df_ = pd.concat(valid_frames)\n"
      ],
      "id": "N6JygoW-SrNi",
      "execution_count": null,
      "outputs": [
        {
          "output_type": "display_data",
          "data": {
            "text/html": [
              "\n",
              "  <style>\n",
              "    pre {\n",
              "        white-space: pre-wrap;\n",
              "    }\n",
              "  </style>\n",
              "  "
            ],
            "text/plain": [
              "<IPython.core.display.HTML object>"
            ]
          },
          "metadata": {}
        }
      ]
    },
    {
      "cell_type": "code",
      "metadata": {
        "colab": {
          "base_uri": "https://localhost:8080/",
          "height": 17
        },
        "id": "cC5hhZpqSrPw",
        "outputId": "34f751ac-1201-4734-e3bc-32192c83cea5"
      },
      "source": [
        "test_frames = []\n",
        "\n",
        "for i in range(len(test_result)):\n",
        "\n",
        "  if 'body' not in test_result[i].keys():\n",
        "    print('error',i)\n",
        "    tmp = process_file(test_result[i-1]['body'])\n",
        "    tmp.loc[:] = np.nan\n",
        "    test_frames.append(tmp)\n",
        "  else:\n",
        "    test_frames.append(process_file(test_result[i]['body']))\n",
        "\n",
        "test_df_ = pd.concat(test_frames)\n"
      ],
      "id": "cC5hhZpqSrPw",
      "execution_count": null,
      "outputs": [
        {
          "output_type": "display_data",
          "data": {
            "text/html": [
              "\n",
              "  <style>\n",
              "    pre {\n",
              "        white-space: pre-wrap;\n",
              "    }\n",
              "  </style>\n",
              "  "
            ],
            "text/plain": [
              "<IPython.core.display.HTML object>"
            ]
          },
          "metadata": {}
        }
      ]
    },
    {
      "cell_type": "code",
      "metadata": {
        "colab": {
          "base_uri": "https://localhost:8080/",
          "height": 424
        },
        "id": "Dty7IMZySrZb",
        "outputId": "a0abc3c8-a379-4f91-e0ed-787ddcc233f7"
      },
      "source": [
        "test_df_"
      ],
      "id": "Dty7IMZySrZb",
      "execution_count": null,
      "outputs": [
        {
          "output_type": "display_data",
          "data": {
            "text/html": [
              "\n",
              "  <style>\n",
              "    pre {\n",
              "        white-space: pre-wrap;\n",
              "    }\n",
              "  </style>\n",
              "  "
            ],
            "text/plain": [
              "<IPython.core.display.HTML object>"
            ]
          },
          "metadata": {}
        },
        {
          "output_type": "execute_result",
          "data": {
            "text/html": [
              "<div>\n",
              "<style scoped>\n",
              "    .dataframe tbody tr th:only-of-type {\n",
              "        vertical-align: middle;\n",
              "    }\n",
              "\n",
              "    .dataframe tbody tr th {\n",
              "        vertical-align: top;\n",
              "    }\n",
              "\n",
              "    .dataframe thead th {\n",
              "        text-align: right;\n",
              "    }\n",
              "</style>\n",
              "<table border=\"1\" class=\"dataframe\">\n",
              "  <thead>\n",
              "    <tr style=\"text-align: right;\">\n",
              "      <th></th>\n",
              "      <th>id</th>\n",
              "      <th>read_level</th>\n",
              "      <th>words</th>\n",
              "      <th>read.A1</th>\n",
              "      <th>read.B1</th>\n",
              "      <th>read.B2</th>\n",
              "      <th>read.C1</th>\n",
              "      <th>read.overall</th>\n",
              "    </tr>\n",
              "  </thead>\n",
              "  <tbody>\n",
              "    <tr>\n",
              "      <th>0</th>\n",
              "      <td>test</td>\n",
              "      <td>B2</td>\n",
              "      <td>[{'id': 1, 'text': 'One', 'start_idx': 0, 'end...</td>\n",
              "      <td>[29.629629629629626, B2]</td>\n",
              "      <td>[14.814814814814813, B2]</td>\n",
              "      <td>[18.51851851851852, C1]</td>\n",
              "      <td>[0.0, A1]</td>\n",
              "      <td>B2</td>\n",
              "    </tr>\n",
              "    <tr>\n",
              "      <th>0</th>\n",
              "      <td>test</td>\n",
              "      <td>B1</td>\n",
              "      <td>[{'id': 1, 'text': 'Jeddah', 'start_idx': 0, '...</td>\n",
              "      <td>[45.83333333333333, B1]</td>\n",
              "      <td>[12.5, B1]</td>\n",
              "      <td>[16.666666666666664, C1]</td>\n",
              "      <td>[0.0, A1]</td>\n",
              "      <td>B1</td>\n",
              "    </tr>\n",
              "    <tr>\n",
              "      <th>0</th>\n",
              "      <td>test</td>\n",
              "      <td>C1</td>\n",
              "      <td>[{'id': 1, 'text': 'The', 'start_idx': 0, 'end...</td>\n",
              "      <td>[52.94117647058824, B1]</td>\n",
              "      <td>[23.52941176470588, C1]</td>\n",
              "      <td>[11.76470588235294, B2]</td>\n",
              "      <td>[0.0, A1]</td>\n",
              "      <td>C1</td>\n",
              "    </tr>\n",
              "    <tr>\n",
              "      <th>0</th>\n",
              "      <td>test</td>\n",
              "      <td>C1</td>\n",
              "      <td>[{'id': 1, 'text': 'His', 'start_idx': 0, 'end...</td>\n",
              "      <td>[68.75, A2]</td>\n",
              "      <td>[18.75, C1]</td>\n",
              "      <td>[6.25, B1]</td>\n",
              "      <td>[0.0, A1]</td>\n",
              "      <td>C1</td>\n",
              "    </tr>\n",
              "    <tr>\n",
              "      <th>0</th>\n",
              "      <td>test</td>\n",
              "      <td>A1</td>\n",
              "      <td>[{'id': 1, 'text': 'The', 'start_idx': 0, 'end...</td>\n",
              "      <td>[45.83333333333333, B1]</td>\n",
              "      <td>[4.166666666666666, A1]</td>\n",
              "      <td>[29.166666666666668, C2]</td>\n",
              "      <td>[0.0, A1]</td>\n",
              "      <td>A1</td>\n",
              "    </tr>\n",
              "    <tr>\n",
              "      <th>...</th>\n",
              "      <td>...</td>\n",
              "      <td>...</td>\n",
              "      <td>...</td>\n",
              "      <td>...</td>\n",
              "      <td>...</td>\n",
              "      <td>...</td>\n",
              "      <td>...</td>\n",
              "      <td>...</td>\n",
              "    </tr>\n",
              "    <tr>\n",
              "      <th>0</th>\n",
              "      <td>test</td>\n",
              "      <td>B2</td>\n",
              "      <td>[{'id': 1, 'text': 'Although', 'start_idx': 0,...</td>\n",
              "      <td>[32.0, B2]</td>\n",
              "      <td>[16.0, B2]</td>\n",
              "      <td>[12.0, B2]</td>\n",
              "      <td>[8.0, C2]</td>\n",
              "      <td>B2</td>\n",
              "    </tr>\n",
              "    <tr>\n",
              "      <th>0</th>\n",
              "      <td>test</td>\n",
              "      <td>C2</td>\n",
              "      <td>[{'id': 1, 'text': 'There', 'start_idx': 0, 'e...</td>\n",
              "      <td>[35.714285714285715, B2]</td>\n",
              "      <td>[7.142857142857142, A2]</td>\n",
              "      <td>[7.142857142857142, B1]</td>\n",
              "      <td>[7.142857142857142, C2]</td>\n",
              "      <td>C2</td>\n",
              "    </tr>\n",
              "    <tr>\n",
              "      <th>0</th>\n",
              "      <td>test</td>\n",
              "      <td>A1</td>\n",
              "      <td>[{'id': 1, 'text': 'During', 'start_idx': 0, '...</td>\n",
              "      <td>[53.84615384615385, B1]</td>\n",
              "      <td>[3.8461538461538463, A1]</td>\n",
              "      <td>[3.8461538461538463, A2]</td>\n",
              "      <td>[0.0, A1]</td>\n",
              "      <td>A1</td>\n",
              "    </tr>\n",
              "    <tr>\n",
              "      <th>0</th>\n",
              "      <td>test</td>\n",
              "      <td>B1</td>\n",
              "      <td>[{'id': 1, 'text': 'The', 'start_idx': 0, 'end...</td>\n",
              "      <td>[45.45454545454545, B1]</td>\n",
              "      <td>[13.636363636363635, B1]</td>\n",
              "      <td>[0.0, A1]</td>\n",
              "      <td>[0.0, A1]</td>\n",
              "      <td>B1</td>\n",
              "    </tr>\n",
              "    <tr>\n",
              "      <th>0</th>\n",
              "      <td>test</td>\n",
              "      <td>B1</td>\n",
              "      <td>[{'id': 1, 'text': 'Gable', 'start_idx': 0, 'e...</td>\n",
              "      <td>[44.44444444444444, B1]</td>\n",
              "      <td>[5.555555555555555, A2]</td>\n",
              "      <td>[5.555555555555555, B1]</td>\n",
              "      <td>[22.22222222222222, C2]</td>\n",
              "      <td>B1</td>\n",
              "    </tr>\n",
              "  </tbody>\n",
              "</table>\n",
              "<p>359 rows × 8 columns</p>\n",
              "</div>"
            ],
            "text/plain": [
              "      id read_level  ...                  read.C1 read.overall\n",
              "0   test         B2  ...                [0.0, A1]           B2\n",
              "0   test         B1  ...                [0.0, A1]           B1\n",
              "0   test         C1  ...                [0.0, A1]           C1\n",
              "0   test         C1  ...                [0.0, A1]           C1\n",
              "0   test         A1  ...                [0.0, A1]           A1\n",
              "..   ...        ...  ...                      ...          ...\n",
              "0   test         B2  ...                [8.0, C2]           B2\n",
              "0   test         C2  ...  [7.142857142857142, C2]           C2\n",
              "0   test         A1  ...                [0.0, A1]           A1\n",
              "0   test         B1  ...                [0.0, A1]           B1\n",
              "0   test         B1  ...  [22.22222222222222, C2]           B1\n",
              "\n",
              "[359 rows x 8 columns]"
            ]
          },
          "metadata": {},
          "execution_count": 15
        }
      ]
    },
    {
      "cell_type": "code",
      "metadata": {
        "colab": {
          "base_uri": "https://localhost:8080/",
          "height": 17
        },
        "id": "b3Nz82U_TR1t",
        "outputId": "081a625e-6a26-42ea-de54-755c6d590180"
      },
      "source": [
        "new_valid_df_ = valid_df_.drop(columns=['id','read.A1','read.B1','read.B2','read.C1','read.overall']).add_prefix('complex_')\n",
        "new_test_df_ = test_df_.drop(columns=['id','read.A1','read.B1','read.B2','read.C1','read.overall']).add_prefix('complex_')"
      ],
      "id": "b3Nz82U_TR1t",
      "execution_count": null,
      "outputs": [
        {
          "output_type": "display_data",
          "data": {
            "text/html": [
              "\n",
              "  <style>\n",
              "    pre {\n",
              "        white-space: pre-wrap;\n",
              "    }\n",
              "  </style>\n",
              "  "
            ],
            "text/plain": [
              "<IPython.core.display.HTML object>"
            ]
          },
          "metadata": {}
        }
      ]
    },
    {
      "cell_type": "markdown",
      "metadata": {
        "id": "L6o_gJyQVPzx"
      },
      "source": [
        "## validation set"
      ],
      "id": "L6o_gJyQVPzx"
    },
    {
      "cell_type": "code",
      "metadata": {
        "colab": {
          "base_uri": "https://localhost:8080/",
          "height": 424
        },
        "id": "gN7d6D_QTRxP",
        "outputId": "85ad9808-d58d-4857-cac4-7c3b9fbdd241"
      },
      "source": [
        "valid_final_df = pd.concat([new_valid_df_.reset_index(), valid_df.drop(columns=['NER'])], axis=1).drop(columns='index')\n",
        "valid_final_df"
      ],
      "id": "gN7d6D_QTRxP",
      "execution_count": null,
      "outputs": [
        {
          "output_type": "display_data",
          "data": {
            "text/html": [
              "\n",
              "  <style>\n",
              "    pre {\n",
              "        white-space: pre-wrap;\n",
              "    }\n",
              "  </style>\n",
              "  "
            ],
            "text/plain": [
              "<IPython.core.display.HTML object>"
            ]
          },
          "metadata": {}
        },
        {
          "output_type": "execute_result",
          "data": {
            "text/html": [
              "<div>\n",
              "<style scoped>\n",
              "    .dataframe tbody tr th:only-of-type {\n",
              "        vertical-align: middle;\n",
              "    }\n",
              "\n",
              "    .dataframe tbody tr th {\n",
              "        vertical-align: top;\n",
              "    }\n",
              "\n",
              "    .dataframe thead th {\n",
              "        text-align: right;\n",
              "    }\n",
              "</style>\n",
              "<table border=\"1\" class=\"dataframe\">\n",
              "  <thead>\n",
              "    <tr style=\"text-align: right;\">\n",
              "      <th></th>\n",
              "      <th>complex_read_level</th>\n",
              "      <th>complex_words</th>\n",
              "      <th>ori_text</th>\n",
              "    </tr>\n",
              "  </thead>\n",
              "  <tbody>\n",
              "    <tr>\n",
              "      <th>0</th>\n",
              "      <td>A1</td>\n",
              "      <td>[{'id': 1, 'text': 'Adjacent', 'start_idx': 0,...</td>\n",
              "      <td>Adjacent counties are Marin (to the south), Me...</td>\n",
              "    </tr>\n",
              "    <tr>\n",
              "      <th>1</th>\n",
              "      <td>B1</td>\n",
              "      <td>[{'id': 1, 'text': 'A', 'start_idx': 0, 'end_i...</td>\n",
              "      <td>A Georgian inscription around the drum attests...</td>\n",
              "    </tr>\n",
              "    <tr>\n",
              "      <th>2</th>\n",
              "      <td>A1</td>\n",
              "      <td>[{'id': 1, 'text': 'They', 'start_idx': 0, 'en...</td>\n",
              "      <td>They would later return to the revived series ...</td>\n",
              "    </tr>\n",
              "    <tr>\n",
              "      <th>3</th>\n",
              "      <td>B1</td>\n",
              "      <td>[{'id': 1, 'text': 'Jameson', 'start_idx': 0, ...</td>\n",
              "      <td>Jameson's autobiography, How to Make Love Like...</td>\n",
              "    </tr>\n",
              "    <tr>\n",
              "      <th>4</th>\n",
              "      <td>B2</td>\n",
              "      <td>[{'id': 1, 'text': 'It', 'start_idx': 0, 'end_...</td>\n",
              "      <td>It is particularly famous for the cultivation ...</td>\n",
              "    </tr>\n",
              "    <tr>\n",
              "      <th>...</th>\n",
              "      <td>...</td>\n",
              "      <td>...</td>\n",
              "      <td>...</td>\n",
              "    </tr>\n",
              "    <tr>\n",
              "      <th>1995</th>\n",
              "      <td>B1</td>\n",
              "      <td>[{'id': 1, 'text': 'On', 'start_idx': 0, 'end_...</td>\n",
              "      <td>On the 15 November 2003 a Sprinter train trave...</td>\n",
              "    </tr>\n",
              "    <tr>\n",
              "      <th>1996</th>\n",
              "      <td>A1</td>\n",
              "      <td>[{'id': 1, 'text': 'A', 'start_idx': 0, 'end_i...</td>\n",
              "      <td>A console manufacturer is a company that manuf...</td>\n",
              "    </tr>\n",
              "    <tr>\n",
              "      <th>1997</th>\n",
              "      <td>B1</td>\n",
              "      <td>[{'id': 1, 'text': 'Links', 'start_idx': 0, 'e...</td>\n",
              "      <td>Links with poverty and crime Those who are fun...</td>\n",
              "    </tr>\n",
              "    <tr>\n",
              "      <th>1998</th>\n",
              "      <td>A1</td>\n",
              "      <td>[{'id': 1, 'text': 'The', 'start_idx': 0, 'end...</td>\n",
              "      <td>The term \"union council\" may be used for local...</td>\n",
              "    </tr>\n",
              "    <tr>\n",
              "      <th>1999</th>\n",
              "      <td>A1</td>\n",
              "      <td>[{'id': 1, 'text': 'Modern', 'start_idx': 0, '...</td>\n",
              "      <td>Modern African history has been rife with revo...</td>\n",
              "    </tr>\n",
              "  </tbody>\n",
              "</table>\n",
              "<p>2000 rows × 3 columns</p>\n",
              "</div>"
            ],
            "text/plain": [
              "     complex_read_level  ...                                           ori_text\n",
              "0                    A1  ...  Adjacent counties are Marin (to the south), Me...\n",
              "1                    B1  ...  A Georgian inscription around the drum attests...\n",
              "2                    A1  ...  They would later return to the revived series ...\n",
              "3                    B1  ...  Jameson's autobiography, How to Make Love Like...\n",
              "4                    B2  ...  It is particularly famous for the cultivation ...\n",
              "...                 ...  ...                                                ...\n",
              "1995                 B1  ...  On the 15 November 2003 a Sprinter train trave...\n",
              "1996                 A1  ...  A console manufacturer is a company that manuf...\n",
              "1997                 B1  ...  Links with poverty and crime Those who are fun...\n",
              "1998                 A1  ...  The term \"union council\" may be used for local...\n",
              "1999                 A1  ...  Modern African history has been rife with revo...\n",
              "\n",
              "[2000 rows x 3 columns]"
            ]
          },
          "metadata": {},
          "execution_count": 31
        }
      ]
    },
    {
      "cell_type": "code",
      "metadata": {
        "colab": {
          "base_uri": "https://localhost:8080/",
          "height": 17
        },
        "id": "XPh71Ii1TRul",
        "outputId": "9e83fdcf-c84e-48ef-c50a-8139f5928563"
      },
      "source": [
        "def get_word_lists(row,difficulty_level_list_like):\n",
        "  C2_word_list = []\n",
        "\n",
        "  # print(row['simple'])\n",
        "  for words in row['complex_words']:\n",
        "    # print(words['read_level'],words['text'])\n",
        "    if words['read_level'] in difficulty_level_list_like:\n",
        "      # print(words['text'])\n",
        "      # if words['text'].lower() not in row['simple'].lower():\n",
        "      C2_word_list.append(words['text'])\n",
        "\n",
        "  if len(C2_word_list) >= 1:\n",
        "    return C2_word_list\n",
        "  else:\n",
        "    return np.nan"
      ],
      "id": "XPh71Ii1TRul",
      "execution_count": null,
      "outputs": [
        {
          "output_type": "display_data",
          "data": {
            "text/html": [
              "\n",
              "  <style>\n",
              "    pre {\n",
              "        white-space: pre-wrap;\n",
              "    }\n",
              "  </style>\n",
              "  "
            ],
            "text/plain": [
              "<IPython.core.display.HTML object>"
            ]
          },
          "metadata": {}
        }
      ]
    },
    {
      "cell_type": "code",
      "metadata": {
        "colab": {
          "base_uri": "https://localhost:8080/",
          "height": 17
        },
        "id": "ekjhYtcCTRsO",
        "outputId": "4527cdcf-9e76-4b1f-f72a-01ef91458cf3"
      },
      "source": [
        "C2C1B2_word_lists = []\n",
        "for index,row in valid_final_df.iterrows():\n",
        "  C2C1B2_word_lists.append(get_word_lists(row,['C2','C1','B2']))"
      ],
      "id": "ekjhYtcCTRsO",
      "execution_count": null,
      "outputs": [
        {
          "output_type": "display_data",
          "data": {
            "text/html": [
              "\n",
              "  <style>\n",
              "    pre {\n",
              "        white-space: pre-wrap;\n",
              "    }\n",
              "  </style>\n",
              "  "
            ],
            "text/plain": [
              "<IPython.core.display.HTML object>"
            ]
          },
          "metadata": {}
        }
      ]
    },
    {
      "cell_type": "code",
      "metadata": {
        "colab": {
          "base_uri": "https://localhost:8080/",
          "height": 17
        },
        "id": "JZWFI3vlTRno",
        "outputId": "89de6b51-ce14-40e8-ea99-fa5d5f6073b7"
      },
      "source": [
        "valid_final_df['C2C1B2_in_complex'] = C2C1B2_word_lists"
      ],
      "id": "JZWFI3vlTRno",
      "execution_count": null,
      "outputs": [
        {
          "output_type": "display_data",
          "data": {
            "text/html": [
              "\n",
              "  <style>\n",
              "    pre {\n",
              "        white-space: pre-wrap;\n",
              "    }\n",
              "  </style>\n",
              "  "
            ],
            "text/plain": [
              "<IPython.core.display.HTML object>"
            ]
          },
          "metadata": {}
        }
      ]
    },
    {
      "cell_type": "code",
      "metadata": {
        "colab": {
          "base_uri": "https://localhost:8080/",
          "height": 424
        },
        "id": "6gUJ1JWlVo-3",
        "outputId": "17bf5a12-cec0-4e7a-df86-3609dacab50c"
      },
      "source": [
        "valid_final_df"
      ],
      "id": "6gUJ1JWlVo-3",
      "execution_count": null,
      "outputs": [
        {
          "output_type": "display_data",
          "data": {
            "text/html": [
              "\n",
              "  <style>\n",
              "    pre {\n",
              "        white-space: pre-wrap;\n",
              "    }\n",
              "  </style>\n",
              "  "
            ],
            "text/plain": [
              "<IPython.core.display.HTML object>"
            ]
          },
          "metadata": {}
        },
        {
          "output_type": "execute_result",
          "data": {
            "text/html": [
              "<div>\n",
              "<style scoped>\n",
              "    .dataframe tbody tr th:only-of-type {\n",
              "        vertical-align: middle;\n",
              "    }\n",
              "\n",
              "    .dataframe tbody tr th {\n",
              "        vertical-align: top;\n",
              "    }\n",
              "\n",
              "    .dataframe thead th {\n",
              "        text-align: right;\n",
              "    }\n",
              "</style>\n",
              "<table border=\"1\" class=\"dataframe\">\n",
              "  <thead>\n",
              "    <tr style=\"text-align: right;\">\n",
              "      <th></th>\n",
              "      <th>complex_read_level</th>\n",
              "      <th>complex_words</th>\n",
              "      <th>ori_text</th>\n",
              "      <th>C2C1B2_in_complex</th>\n",
              "    </tr>\n",
              "  </thead>\n",
              "  <tbody>\n",
              "    <tr>\n",
              "      <th>0</th>\n",
              "      <td>A1</td>\n",
              "      <td>[{'id': 1, 'text': 'Adjacent', 'start_idx': 0,...</td>\n",
              "      <td>Adjacent counties are Marin (to the south), Me...</td>\n",
              "      <td>[Adjacent, counties, Mendocino, Napa, Solano, ...</td>\n",
              "    </tr>\n",
              "    <tr>\n",
              "      <th>1</th>\n",
              "      <td>B1</td>\n",
              "      <td>[{'id': 1, 'text': 'A', 'start_idx': 0, 'end_i...</td>\n",
              "      <td>A Georgian inscription around the drum attests...</td>\n",
              "      <td>[Georgian, attests]</td>\n",
              "    </tr>\n",
              "    <tr>\n",
              "      <th>2</th>\n",
              "      <td>A1</td>\n",
              "      <td>[{'id': 1, 'text': 'They', 'start_idx': 0, 'en...</td>\n",
              "      <td>They would later return to the revived series ...</td>\n",
              "      <td>[revived, Special, Doctor, Cyber, Shades, Cyber]</td>\n",
              "    </tr>\n",
              "    <tr>\n",
              "      <th>3</th>\n",
              "      <td>B1</td>\n",
              "      <td>[{'id': 1, 'text': 'Jameson', 'start_idx': 0, ...</td>\n",
              "      <td>Jameson's autobiography, How to Make Love Like...</td>\n",
              "      <td>[Jameson, Love, Porn, Cautionary, Tale]</td>\n",
              "    </tr>\n",
              "    <tr>\n",
              "      <th>4</th>\n",
              "      <td>B2</td>\n",
              "      <td>[{'id': 1, 'text': 'It', 'start_idx': 0, 'end_...</td>\n",
              "      <td>It is particularly famous for the cultivation ...</td>\n",
              "      <td>[cultivation]</td>\n",
              "    </tr>\n",
              "    <tr>\n",
              "      <th>...</th>\n",
              "      <td>...</td>\n",
              "      <td>...</td>\n",
              "      <td>...</td>\n",
              "      <td>...</td>\n",
              "    </tr>\n",
              "    <tr>\n",
              "      <th>1995</th>\n",
              "      <td>B1</td>\n",
              "      <td>[{'id': 1, 'text': 'On', 'start_idx': 0, 'end_...</td>\n",
              "      <td>On the 15 November 2003 a Sprinter train trave...</td>\n",
              "      <td>[Sprinter, derailed, Ballan, Gordon, stationary]</td>\n",
              "    </tr>\n",
              "    <tr>\n",
              "      <th>1996</th>\n",
              "      <td>A1</td>\n",
              "      <td>[{'id': 1, 'text': 'A', 'start_idx': 0, 'end_i...</td>\n",
              "      <td>A console manufacturer is a company that manuf...</td>\n",
              "      <td>[console, manufacturer, manufactures, distribu...</td>\n",
              "    </tr>\n",
              "    <tr>\n",
              "      <th>1997</th>\n",
              "      <td>B1</td>\n",
              "      <td>[{'id': 1, 'text': 'Links', 'start_idx': 0, 'e...</td>\n",
              "      <td>Links with poverty and crime Those who are fun...</td>\n",
              "      <td>[Links, poverty, crime, functionally, illitera...</td>\n",
              "    </tr>\n",
              "    <tr>\n",
              "      <th>1998</th>\n",
              "      <td>A1</td>\n",
              "      <td>[{'id': 1, 'text': 'The', 'start_idx': 0, 'end...</td>\n",
              "      <td>The term \"union council\" may be used for local...</td>\n",
              "      <td>[localities]</td>\n",
              "    </tr>\n",
              "    <tr>\n",
              "      <th>1999</th>\n",
              "      <td>A1</td>\n",
              "      <td>[{'id': 1, 'text': 'Modern', 'start_idx': 0, '...</td>\n",
              "      <td>Modern African history has been rife with revo...</td>\n",
              "      <td>[rife, revolutions, growth, African, economies...</td>\n",
              "    </tr>\n",
              "  </tbody>\n",
              "</table>\n",
              "<p>2000 rows × 4 columns</p>\n",
              "</div>"
            ],
            "text/plain": [
              "     complex_read_level  ...                                  C2C1B2_in_complex\n",
              "0                    A1  ...  [Adjacent, counties, Mendocino, Napa, Solano, ...\n",
              "1                    B1  ...                                [Georgian, attests]\n",
              "2                    A1  ...   [revived, Special, Doctor, Cyber, Shades, Cyber]\n",
              "3                    B1  ...            [Jameson, Love, Porn, Cautionary, Tale]\n",
              "4                    B2  ...                                      [cultivation]\n",
              "...                 ...  ...                                                ...\n",
              "1995                 B1  ...   [Sprinter, derailed, Ballan, Gordon, stationary]\n",
              "1996                 A1  ...  [console, manufacturer, manufactures, distribu...\n",
              "1997                 B1  ...  [Links, poverty, crime, functionally, illitera...\n",
              "1998                 A1  ...                                       [localities]\n",
              "1999                 A1  ...  [rife, revolutions, growth, African, economies...\n",
              "\n",
              "[2000 rows x 4 columns]"
            ]
          },
          "metadata": {},
          "execution_count": 39
        }
      ]
    },
    {
      "cell_type": "code",
      "metadata": {
        "colab": {
          "base_uri": "https://localhost:8080/",
          "height": 17
        },
        "id": "vkXPK2pOV-Bs",
        "outputId": "f73bf15d-c6a3-45a4-b9ad-f88ce683d4b8"
      },
      "source": [
        "# named entities not filtered out\n",
        "\n",
        "with open('/content/drive/MyDrive/muss/qualitative/ABCD_asset_valid_C2C1B2', 'wb') as fp:\n",
        "    pickle.dump(valid_final_df, fp)"
      ],
      "id": "vkXPK2pOV-Bs",
      "execution_count": null,
      "outputs": [
        {
          "output_type": "display_data",
          "data": {
            "text/html": [
              "\n",
              "  <style>\n",
              "    pre {\n",
              "        white-space: pre-wrap;\n",
              "    }\n",
              "  </style>\n",
              "  "
            ],
            "text/plain": [
              "<IPython.core.display.HTML object>"
            ]
          },
          "metadata": {}
        }
      ]
    },
    {
      "cell_type": "code",
      "metadata": {
        "id": "EhypF3wZV9-_",
        "colab": {
          "base_uri": "https://localhost:8080/",
          "height": 17
        },
        "outputId": "03c85a47-54d2-448d-eba9-bfe28df56a15"
      },
      "source": [
        "# filter out hard words that are detected named entities\n",
        " \n",
        "with open ('/content/drive/MyDrive/muss/qualitative/ABCD_asset_valid_C2C1B2', 'rb') as fp:\n",
        "    valid_df_ABCD = pickle.load(fp)\n"
      ],
      "id": "EhypF3wZV9-_",
      "execution_count": null,
      "outputs": [
        {
          "output_type": "display_data",
          "data": {
            "text/html": [
              "\n",
              "  <style>\n",
              "    pre {\n",
              "        white-space: pre-wrap;\n",
              "    }\n",
              "  </style>\n",
              "  "
            ],
            "text/plain": [
              "<IPython.core.display.HTML object>"
            ]
          },
          "metadata": {}
        }
      ]
    },
    {
      "cell_type": "code",
      "metadata": {
        "colab": {
          "base_uri": "https://localhost:8080/",
          "height": 424
        },
        "id": "_zXMr8EGEd5I",
        "outputId": "db719310-78f2-4516-d60c-feb3acd18045"
      },
      "source": [
        "FINAL_VALID_DF=pd.concat([com_sim_valid_df, valid_df_ABCD.drop(columns=['complex_read_level','C2C1B2_in_complex','ori_text'])], axis=1)\n",
        "FINAL_VALID_DF"
      ],
      "id": "_zXMr8EGEd5I",
      "execution_count": null,
      "outputs": [
        {
          "output_type": "display_data",
          "data": {
            "text/html": [
              "\n",
              "  <style>\n",
              "    pre {\n",
              "        white-space: pre-wrap;\n",
              "    }\n",
              "  </style>\n",
              "  "
            ],
            "text/plain": [
              "<IPython.core.display.HTML object>"
            ]
          },
          "metadata": {}
        },
        {
          "output_type": "execute_result",
          "data": {
            "text/html": [
              "<div>\n",
              "<style scoped>\n",
              "    .dataframe tbody tr th:only-of-type {\n",
              "        vertical-align: middle;\n",
              "    }\n",
              "\n",
              "    .dataframe tbody tr th {\n",
              "        vertical-align: top;\n",
              "    }\n",
              "\n",
              "    .dataframe thead th {\n",
              "        text-align: right;\n",
              "    }\n",
              "</style>\n",
              "<table border=\"1\" class=\"dataframe\">\n",
              "  <thead>\n",
              "    <tr style=\"text-align: right;\">\n",
              "      <th></th>\n",
              "      <th>ori_text</th>\n",
              "      <th>NER_complex</th>\n",
              "      <th>NER_simple</th>\n",
              "      <th>complex_words</th>\n",
              "    </tr>\n",
              "  </thead>\n",
              "  <tbody>\n",
              "    <tr>\n",
              "      <th>0</th>\n",
              "      <td>Adjacent counties are Marin (to the south), Me...</td>\n",
              "      <td>[Contra Costa, Mendocino, Adjacent, Solano, Ma...</td>\n",
              "      <td>[Mendocino, Lake, Contra Costa, Adjacent, Sola...</td>\n",
              "      <td>[{'id': 1, 'text': 'Adjacent', 'start_idx': 0,...</td>\n",
              "    </tr>\n",
              "    <tr>\n",
              "      <th>1</th>\n",
              "      <td>A Georgian inscription around the drum attests...</td>\n",
              "      <td>[Georgian]</td>\n",
              "      <td>[Georgian]</td>\n",
              "      <td>[{'id': 1, 'text': 'A', 'start_idx': 0, 'end_i...</td>\n",
              "    </tr>\n",
              "    <tr>\n",
              "      <th>2</th>\n",
              "      <td>They would later return to the revived series ...</td>\n",
              "      <td>[Christmas Special \"The Next Doctor, the Cyber...</td>\n",
              "      <td>[Christmas Special \"The Next Doctor, the Cyber...</td>\n",
              "      <td>[{'id': 1, 'text': 'They', 'start_idx': 0, 'en...</td>\n",
              "    </tr>\n",
              "    <tr>\n",
              "      <th>3</th>\n",
              "      <td>Jameson's autobiography, How to Make Love Like...</td>\n",
              "      <td>[A Cautionary Tale, August 17, 2004, Make Love...</td>\n",
              "      <td>[A Cautionary Tale, August 17, 2004, Make Love...</td>\n",
              "      <td>[{'id': 1, 'text': 'Jameson', 'start_idx': 0, ...</td>\n",
              "    </tr>\n",
              "    <tr>\n",
              "      <th>4</th>\n",
              "      <td>It is particularly famous for the cultivation ...</td>\n",
              "      <td>[]</td>\n",
              "      <td>[]</td>\n",
              "      <td>[{'id': 1, 'text': 'It', 'start_idx': 0, 'end_...</td>\n",
              "    </tr>\n",
              "    <tr>\n",
              "      <th>...</th>\n",
              "      <td>...</td>\n",
              "      <td>...</td>\n",
              "      <td>...</td>\n",
              "      <td>...</td>\n",
              "    </tr>\n",
              "    <tr>\n",
              "      <th>1995</th>\n",
              "      <td>On the 15 November 2003 a Sprinter train trave...</td>\n",
              "      <td>[November 2003, Sprinter, Ballarat, Ballan, Go...</td>\n",
              "      <td>[November 15, 2003, November 2003, Ballarat, S...</td>\n",
              "      <td>[{'id': 1, 'text': 'On', 'start_idx': 0, 'end_...</td>\n",
              "    </tr>\n",
              "    <tr>\n",
              "      <th>1996</th>\n",
              "      <td>A console manufacturer is a company that manuf...</td>\n",
              "      <td>[]</td>\n",
              "      <td>[]</td>\n",
              "      <td>[{'id': 1, 'text': 'A', 'start_idx': 0, 'end_i...</td>\n",
              "    </tr>\n",
              "    <tr>\n",
              "      <th>1997</th>\n",
              "      <td>Links with poverty and crime Those who are fun...</td>\n",
              "      <td>[Links]</td>\n",
              "      <td>[Links]</td>\n",
              "      <td>[{'id': 1, 'text': 'Links', 'start_idx': 0, 'e...</td>\n",
              "    </tr>\n",
              "    <tr>\n",
              "      <th>1998</th>\n",
              "      <td>The term \"union council\" may be used for local...</td>\n",
              "      <td>[]</td>\n",
              "      <td>[]</td>\n",
              "      <td>[{'id': 1, 'text': 'The', 'start_idx': 0, 'end...</td>\n",
              "    </tr>\n",
              "    <tr>\n",
              "      <th>1999</th>\n",
              "      <td>Modern African history has been rife with revo...</td>\n",
              "      <td>[Modern African]</td>\n",
              "      <td>[Modern African]</td>\n",
              "      <td>[{'id': 1, 'text': 'Modern', 'start_idx': 0, '...</td>\n",
              "    </tr>\n",
              "  </tbody>\n",
              "</table>\n",
              "<p>2000 rows × 4 columns</p>\n",
              "</div>"
            ],
            "text/plain": [
              "                                               ori_text  ...                                      complex_words\n",
              "0     Adjacent counties are Marin (to the south), Me...  ...  [{'id': 1, 'text': 'Adjacent', 'start_idx': 0,...\n",
              "1     A Georgian inscription around the drum attests...  ...  [{'id': 1, 'text': 'A', 'start_idx': 0, 'end_i...\n",
              "2     They would later return to the revived series ...  ...  [{'id': 1, 'text': 'They', 'start_idx': 0, 'en...\n",
              "3     Jameson's autobiography, How to Make Love Like...  ...  [{'id': 1, 'text': 'Jameson', 'start_idx': 0, ...\n",
              "4     It is particularly famous for the cultivation ...  ...  [{'id': 1, 'text': 'It', 'start_idx': 0, 'end_...\n",
              "...                                                 ...  ...                                                ...\n",
              "1995  On the 15 November 2003 a Sprinter train trave...  ...  [{'id': 1, 'text': 'On', 'start_idx': 0, 'end_...\n",
              "1996  A console manufacturer is a company that manuf...  ...  [{'id': 1, 'text': 'A', 'start_idx': 0, 'end_i...\n",
              "1997  Links with poverty and crime Those who are fun...  ...  [{'id': 1, 'text': 'Links', 'start_idx': 0, 'e...\n",
              "1998  The term \"union council\" may be used for local...  ...  [{'id': 1, 'text': 'The', 'start_idx': 0, 'end...\n",
              "1999  Modern African history has been rife with revo...  ...  [{'id': 1, 'text': 'Modern', 'start_idx': 0, '...\n",
              "\n",
              "[2000 rows x 4 columns]"
            ]
          },
          "metadata": {},
          "execution_count": 36
        }
      ]
    },
    {
      "cell_type": "code",
      "metadata": {
        "id": "RI2peKnEV98m",
        "colab": {
          "base_uri": "https://localhost:8080/",
          "height": 17
        },
        "outputId": "2772069a-a21d-4b28-f35b-f705690e49bb"
      },
      "source": [
        "def get_word_lists(row,difficulty_level_list_like):\n",
        "  C2_word_list = []\n",
        "\n",
        "  for words in row['complex_words']:\n",
        "    # print(words['read_level'],words['text'])\n",
        "    if words['read_level'] in difficulty_level_list_like:\n",
        "      # print(words['text'])\n",
        "\n",
        "      if all(words['text'] not in x for x in row['NER_complex']):\n",
        "        C2_word_list.append(words['text'])\n",
        "\n",
        "  if len(C2_word_list) >= 1:\n",
        "    return C2_word_list\n",
        "  else:\n",
        "    return np.nan"
      ],
      "id": "RI2peKnEV98m",
      "execution_count": null,
      "outputs": [
        {
          "output_type": "display_data",
          "data": {
            "text/html": [
              "\n",
              "  <style>\n",
              "    pre {\n",
              "        white-space: pre-wrap;\n",
              "    }\n",
              "  </style>\n",
              "  "
            ],
            "text/plain": [
              "<IPython.core.display.HTML object>"
            ]
          },
          "metadata": {}
        }
      ]
    },
    {
      "cell_type": "code",
      "metadata": {
        "id": "TAdxRi4TV96D",
        "colab": {
          "base_uri": "https://localhost:8080/",
          "height": 17
        },
        "outputId": "cffc3ef8-2f4d-4802-c2a7-c4e01c834f2d"
      },
      "source": [
        "C2C1B2_word_lists = []\n",
        "for index,row in FINAL_VALID_DF.iterrows():\n",
        "  # print(index)\n",
        "  C2C1B2_word_lists.append(get_word_lists(row,['C2','C1','B2']))"
      ],
      "id": "TAdxRi4TV96D",
      "execution_count": null,
      "outputs": [
        {
          "output_type": "display_data",
          "data": {
            "text/html": [
              "\n",
              "  <style>\n",
              "    pre {\n",
              "        white-space: pre-wrap;\n",
              "    }\n",
              "  </style>\n",
              "  "
            ],
            "text/plain": [
              "<IPython.core.display.HTML object>"
            ]
          },
          "metadata": {}
        }
      ]
    },
    {
      "cell_type": "code",
      "metadata": {
        "colab": {
          "base_uri": "https://localhost:8080/",
          "height": 17
        },
        "id": "y7VRufwEAwMM",
        "outputId": "bc197e2c-e16d-4d28-93cc-87df46bbcfbd"
      },
      "source": [
        "FINAL_VALID_DF['C2C1B2_in_complex'] = C2C1B2_word_lists"
      ],
      "id": "y7VRufwEAwMM",
      "execution_count": null,
      "outputs": [
        {
          "output_type": "display_data",
          "data": {
            "text/html": [
              "\n",
              "  <style>\n",
              "    pre {\n",
              "        white-space: pre-wrap;\n",
              "    }\n",
              "  </style>\n",
              "  "
            ],
            "text/plain": [
              "<IPython.core.display.HTML object>"
            ]
          },
          "metadata": {}
        }
      ]
    },
    {
      "cell_type": "code",
      "metadata": {
        "colab": {
          "base_uri": "https://localhost:8080/",
          "height": 597
        },
        "id": "rEDjqJQnAwJ0",
        "outputId": "1a97f709-76c9-4c96-b91b-5ec58c199749"
      },
      "source": [
        "FINAL_VALID_DF"
      ],
      "id": "rEDjqJQnAwJ0",
      "execution_count": null,
      "outputs": [
        {
          "output_type": "display_data",
          "data": {
            "text/html": [
              "\n",
              "  <style>\n",
              "    pre {\n",
              "        white-space: pre-wrap;\n",
              "    }\n",
              "  </style>\n",
              "  "
            ],
            "text/plain": [
              "<IPython.core.display.HTML object>"
            ]
          },
          "metadata": {}
        },
        {
          "output_type": "execute_result",
          "data": {
            "text/html": [
              "<div>\n",
              "<style scoped>\n",
              "    .dataframe tbody tr th:only-of-type {\n",
              "        vertical-align: middle;\n",
              "    }\n",
              "\n",
              "    .dataframe tbody tr th {\n",
              "        vertical-align: top;\n",
              "    }\n",
              "\n",
              "    .dataframe thead th {\n",
              "        text-align: right;\n",
              "    }\n",
              "</style>\n",
              "<table border=\"1\" class=\"dataframe\">\n",
              "  <thead>\n",
              "    <tr style=\"text-align: right;\">\n",
              "      <th></th>\n",
              "      <th>ori_text</th>\n",
              "      <th>NER_complex</th>\n",
              "      <th>NER_simple</th>\n",
              "      <th>complex_words</th>\n",
              "      <th>C2C1B2_in_complex</th>\n",
              "    </tr>\n",
              "  </thead>\n",
              "  <tbody>\n",
              "    <tr>\n",
              "      <th>0</th>\n",
              "      <td>Adjacent counties are Marin (to the south), Me...</td>\n",
              "      <td>[Contra Costa, Mendocino, Adjacent, Solano, Ma...</td>\n",
              "      <td>[Mendocino, Lake, Contra Costa, Adjacent, Sola...</td>\n",
              "      <td>[{'id': 1, 'text': 'Adjacent', 'start_idx': 0,...</td>\n",
              "      <td>[counties]</td>\n",
              "    </tr>\n",
              "    <tr>\n",
              "      <th>1</th>\n",
              "      <td>A Georgian inscription around the drum attests...</td>\n",
              "      <td>[Georgian]</td>\n",
              "      <td>[Georgian]</td>\n",
              "      <td>[{'id': 1, 'text': 'A', 'start_idx': 0, 'end_i...</td>\n",
              "      <td>[attests]</td>\n",
              "    </tr>\n",
              "    <tr>\n",
              "      <th>2</th>\n",
              "      <td>They would later return to the revived series ...</td>\n",
              "      <td>[Christmas Special \"The Next Doctor, the Cyber...</td>\n",
              "      <td>[Christmas Special \"The Next Doctor, the Cyber...</td>\n",
              "      <td>[{'id': 1, 'text': 'They', 'start_idx': 0, 'en...</td>\n",
              "      <td>[revived]</td>\n",
              "    </tr>\n",
              "    <tr>\n",
              "      <th>3</th>\n",
              "      <td>Jameson's autobiography, How to Make Love Like...</td>\n",
              "      <td>[A Cautionary Tale, August 17, 2004, Make Love...</td>\n",
              "      <td>[A Cautionary Tale, August 17, 2004, Make Love...</td>\n",
              "      <td>[{'id': 1, 'text': 'Jameson', 'start_idx': 0, ...</td>\n",
              "      <td>NaN</td>\n",
              "    </tr>\n",
              "    <tr>\n",
              "      <th>4</th>\n",
              "      <td>It is particularly famous for the cultivation ...</td>\n",
              "      <td>[]</td>\n",
              "      <td>[]</td>\n",
              "      <td>[{'id': 1, 'text': 'It', 'start_idx': 0, 'end_...</td>\n",
              "      <td>[cultivation]</td>\n",
              "    </tr>\n",
              "    <tr>\n",
              "      <th>...</th>\n",
              "      <td>...</td>\n",
              "      <td>...</td>\n",
              "      <td>...</td>\n",
              "      <td>...</td>\n",
              "      <td>...</td>\n",
              "    </tr>\n",
              "    <tr>\n",
              "      <th>1995</th>\n",
              "      <td>On the 15 November 2003 a Sprinter train trave...</td>\n",
              "      <td>[November 2003, Sprinter, Ballarat, Ballan, Go...</td>\n",
              "      <td>[November 15, 2003, November 2003, Ballarat, S...</td>\n",
              "      <td>[{'id': 1, 'text': 'On', 'start_idx': 0, 'end_...</td>\n",
              "      <td>[derailed, stationary]</td>\n",
              "    </tr>\n",
              "    <tr>\n",
              "      <th>1996</th>\n",
              "      <td>A console manufacturer is a company that manuf...</td>\n",
              "      <td>[]</td>\n",
              "      <td>[]</td>\n",
              "      <td>[{'id': 1, 'text': 'A', 'start_idx': 0, 'end_i...</td>\n",
              "      <td>[console, manufacturer, manufactures, distribu...</td>\n",
              "    </tr>\n",
              "    <tr>\n",
              "      <th>1997</th>\n",
              "      <td>Links with poverty and crime Those who are fun...</td>\n",
              "      <td>[Links]</td>\n",
              "      <td>[Links]</td>\n",
              "      <td>[{'id': 1, 'text': 'Links', 'start_idx': 0, 'e...</td>\n",
              "      <td>[poverty, crime, functionally, illiterate, int...</td>\n",
              "    </tr>\n",
              "    <tr>\n",
              "      <th>1998</th>\n",
              "      <td>The term \"union council\" may be used for local...</td>\n",
              "      <td>[]</td>\n",
              "      <td>[]</td>\n",
              "      <td>[{'id': 1, 'text': 'The', 'start_idx': 0, 'end...</td>\n",
              "      <td>[localities]</td>\n",
              "    </tr>\n",
              "    <tr>\n",
              "      <th>1999</th>\n",
              "      <td>Modern African history has been rife with revo...</td>\n",
              "      <td>[Modern African]</td>\n",
              "      <td>[Modern African]</td>\n",
              "      <td>[{'id': 1, 'text': 'Modern', 'start_idx': 0, '...</td>\n",
              "      <td>[rife, revolutions, growth, economies, democra...</td>\n",
              "    </tr>\n",
              "  </tbody>\n",
              "</table>\n",
              "<p>2000 rows × 5 columns</p>\n",
              "</div>"
            ],
            "text/plain": [
              "                                               ori_text  ...                                  C2C1B2_in_complex\n",
              "0     Adjacent counties are Marin (to the south), Me...  ...                                         [counties]\n",
              "1     A Georgian inscription around the drum attests...  ...                                          [attests]\n",
              "2     They would later return to the revived series ...  ...                                          [revived]\n",
              "3     Jameson's autobiography, How to Make Love Like...  ...                                                NaN\n",
              "4     It is particularly famous for the cultivation ...  ...                                      [cultivation]\n",
              "...                                                 ...  ...                                                ...\n",
              "1995  On the 15 November 2003 a Sprinter train trave...  ...                             [derailed, stationary]\n",
              "1996  A console manufacturer is a company that manuf...  ...  [console, manufacturer, manufactures, distribu...\n",
              "1997  Links with poverty and crime Those who are fun...  ...  [poverty, crime, functionally, illiterate, int...\n",
              "1998  The term \"union council\" may be used for local...  ...                                       [localities]\n",
              "1999  Modern African history has been rife with revo...  ...  [rife, revolutions, growth, economies, democra...\n",
              "\n",
              "[2000 rows x 5 columns]"
            ]
          },
          "metadata": {},
          "execution_count": 40
        }
      ]
    },
    {
      "cell_type": "code",
      "metadata": {
        "colab": {
          "base_uri": "https://localhost:8080/",
          "height": 17
        },
        "id": "lrRBrLI6AwHV",
        "outputId": "d98834fb-e89e-474e-9d37-23758b6e2f28"
      },
      "source": [
        "with open('/content/drive/MyDrive/muss/qualitative/asset_ABCD_valid_0911', 'wb') as fp:\n",
        "    pickle.dump(FINAL_VALID_DF, fp)"
      ],
      "id": "lrRBrLI6AwHV",
      "execution_count": null,
      "outputs": [
        {
          "output_type": "display_data",
          "data": {
            "text/html": [
              "\n",
              "  <style>\n",
              "    pre {\n",
              "        white-space: pre-wrap;\n",
              "    }\n",
              "  </style>\n",
              "  "
            ],
            "text/plain": [
              "<IPython.core.display.HTML object>"
            ]
          },
          "metadata": {}
        }
      ]
    },
    {
      "cell_type": "code",
      "metadata": {
        "id": "oI_Kdx33AwE2"
      },
      "source": [
        ""
      ],
      "id": "oI_Kdx33AwE2",
      "execution_count": null,
      "outputs": []
    },
    {
      "cell_type": "markdown",
      "metadata": {
        "id": "pf77yXH0WE2-"
      },
      "source": [
        "## test set"
      ],
      "id": "pf77yXH0WE2-"
    },
    {
      "cell_type": "code",
      "metadata": {
        "colab": {
          "base_uri": "https://localhost:8080/",
          "height": 424
        },
        "id": "KUiUnclxWE2_",
        "outputId": "7d8430be-d6f0-4a1a-bbc7-4a1ac0a93b2c"
      },
      "source": [
        "test_final_df = pd.concat([new_test_df_.reset_index(), test_df.drop(columns=['NER'])], axis=1).drop(columns='index')\n",
        "test_final_df"
      ],
      "id": "KUiUnclxWE2_",
      "execution_count": null,
      "outputs": [
        {
          "output_type": "display_data",
          "data": {
            "text/html": [
              "\n",
              "  <style>\n",
              "    pre {\n",
              "        white-space: pre-wrap;\n",
              "    }\n",
              "  </style>\n",
              "  "
            ],
            "text/plain": [
              "<IPython.core.display.HTML object>"
            ]
          },
          "metadata": {}
        },
        {
          "output_type": "execute_result",
          "data": {
            "text/html": [
              "<div>\n",
              "<style scoped>\n",
              "    .dataframe tbody tr th:only-of-type {\n",
              "        vertical-align: middle;\n",
              "    }\n",
              "\n",
              "    .dataframe tbody tr th {\n",
              "        vertical-align: top;\n",
              "    }\n",
              "\n",
              "    .dataframe thead th {\n",
              "        text-align: right;\n",
              "    }\n",
              "</style>\n",
              "<table border=\"1\" class=\"dataframe\">\n",
              "  <thead>\n",
              "    <tr style=\"text-align: right;\">\n",
              "      <th></th>\n",
              "      <th>complex_read_level</th>\n",
              "      <th>complex_words</th>\n",
              "      <th>ori_text</th>\n",
              "    </tr>\n",
              "  </thead>\n",
              "  <tbody>\n",
              "    <tr>\n",
              "      <th>0</th>\n",
              "      <td>B2</td>\n",
              "      <td>[{'id': 1, 'text': 'One', 'start_idx': 0, 'end...</td>\n",
              "      <td>One side of the armed conflicts is composed ma...</td>\n",
              "    </tr>\n",
              "    <tr>\n",
              "      <th>1</th>\n",
              "      <td>B1</td>\n",
              "      <td>[{'id': 1, 'text': 'Jeddah', 'start_idx': 0, '...</td>\n",
              "      <td>Jeddah is the principal gateway to Mecca, Isla...</td>\n",
              "    </tr>\n",
              "    <tr>\n",
              "      <th>2</th>\n",
              "      <td>C1</td>\n",
              "      <td>[{'id': 1, 'text': 'The', 'start_idx': 0, 'end...</td>\n",
              "      <td>The Great Dark Spot is thought to represent a ...</td>\n",
              "    </tr>\n",
              "    <tr>\n",
              "      <th>3</th>\n",
              "      <td>C1</td>\n",
              "      <td>[{'id': 1, 'text': 'His', 'start_idx': 0, 'end...</td>\n",
              "      <td>His next work, Saturday, follows an especially...</td>\n",
              "    </tr>\n",
              "    <tr>\n",
              "      <th>4</th>\n",
              "      <td>A1</td>\n",
              "      <td>[{'id': 1, 'text': 'The', 'start_idx': 0, 'end...</td>\n",
              "      <td>The tarantula, the trickster character, spun a...</td>\n",
              "    </tr>\n",
              "    <tr>\n",
              "      <th>...</th>\n",
              "      <td>...</td>\n",
              "      <td>...</td>\n",
              "      <td>...</td>\n",
              "    </tr>\n",
              "    <tr>\n",
              "      <th>354</th>\n",
              "      <td>B2</td>\n",
              "      <td>[{'id': 1, 'text': 'Although', 'start_idx': 0,...</td>\n",
              "      <td>Although the name suggests that they are locat...</td>\n",
              "    </tr>\n",
              "    <tr>\n",
              "      <th>355</th>\n",
              "      <td>C2</td>\n",
              "      <td>[{'id': 1, 'text': 'There', 'start_idx': 0, 'e...</td>\n",
              "      <td>There he had one daughter, later baptized as M...</td>\n",
              "    </tr>\n",
              "    <tr>\n",
              "      <th>356</th>\n",
              "      <td>A1</td>\n",
              "      <td>[{'id': 1, 'text': 'During', 'start_idx': 0, '...</td>\n",
              "      <td>During an interview, Edward Gorey mentioned th...</td>\n",
              "    </tr>\n",
              "    <tr>\n",
              "      <th>357</th>\n",
              "      <td>B1</td>\n",
              "      <td>[{'id': 1, 'text': 'The', 'start_idx': 0, 'end...</td>\n",
              "      <td>The string can vibrate in different modes just...</td>\n",
              "    </tr>\n",
              "    <tr>\n",
              "      <th>358</th>\n",
              "      <td>B1</td>\n",
              "      <td>[{'id': 1, 'text': 'Gable', 'start_idx': 0, 'e...</td>\n",
              "      <td>Gable also earned an Academy Award nomination ...</td>\n",
              "    </tr>\n",
              "  </tbody>\n",
              "</table>\n",
              "<p>359 rows × 3 columns</p>\n",
              "</div>"
            ],
            "text/plain": [
              "    complex_read_level  ...                                           ori_text\n",
              "0                   B2  ...  One side of the armed conflicts is composed ma...\n",
              "1                   B1  ...  Jeddah is the principal gateway to Mecca, Isla...\n",
              "2                   C1  ...  The Great Dark Spot is thought to represent a ...\n",
              "3                   C1  ...  His next work, Saturday, follows an especially...\n",
              "4                   A1  ...  The tarantula, the trickster character, spun a...\n",
              "..                 ...  ...                                                ...\n",
              "354                 B2  ...  Although the name suggests that they are locat...\n",
              "355                 C2  ...  There he had one daughter, later baptized as M...\n",
              "356                 A1  ...  During an interview, Edward Gorey mentioned th...\n",
              "357                 B1  ...  The string can vibrate in different modes just...\n",
              "358                 B1  ...  Gable also earned an Academy Award nomination ...\n",
              "\n",
              "[359 rows x 3 columns]"
            ]
          },
          "metadata": {},
          "execution_count": 45
        }
      ]
    },
    {
      "cell_type": "code",
      "metadata": {
        "colab": {
          "base_uri": "https://localhost:8080/",
          "height": 17
        },
        "id": "1144So9TWE3B",
        "outputId": "d2672330-ec15-4be8-ca55-b1fc07801c54"
      },
      "source": [
        "def get_word_lists(row,difficulty_level_list_like):\n",
        "  C2_word_list = []\n",
        "\n",
        "  # print(row['simple'])\n",
        "  for words in row['complex_words']:\n",
        "    # print(words['read_level'],words['text'])\n",
        "    if words['read_level'] in difficulty_level_list_like:\n",
        "      # print(words['text'])\n",
        "      # if words['text'].lower() not in row['simple'].lower():\n",
        "      C2_word_list.append(words['text'])\n",
        "\n",
        "  if len(C2_word_list) >= 1:\n",
        "    return C2_word_list\n",
        "  else:\n",
        "    return np.nan"
      ],
      "id": "1144So9TWE3B",
      "execution_count": null,
      "outputs": [
        {
          "output_type": "display_data",
          "data": {
            "text/html": [
              "\n",
              "  <style>\n",
              "    pre {\n",
              "        white-space: pre-wrap;\n",
              "    }\n",
              "  </style>\n",
              "  "
            ],
            "text/plain": [
              "<IPython.core.display.HTML object>"
            ]
          },
          "metadata": {}
        }
      ]
    },
    {
      "cell_type": "code",
      "metadata": {
        "colab": {
          "base_uri": "https://localhost:8080/",
          "height": 17
        },
        "id": "5fDqZ5F2WE3C",
        "outputId": "96c6d5db-e7b8-4e9d-e451-bd00fa9a43a7"
      },
      "source": [
        "C2C1B2_word_lists = []\n",
        "for index,row in test_final_df.iterrows():\n",
        "  C2C1B2_word_lists.append(get_word_lists(row,['C2','C1','B2']))"
      ],
      "id": "5fDqZ5F2WE3C",
      "execution_count": null,
      "outputs": [
        {
          "output_type": "display_data",
          "data": {
            "text/html": [
              "\n",
              "  <style>\n",
              "    pre {\n",
              "        white-space: pre-wrap;\n",
              "    }\n",
              "  </style>\n",
              "  "
            ],
            "text/plain": [
              "<IPython.core.display.HTML object>"
            ]
          },
          "metadata": {}
        }
      ]
    },
    {
      "cell_type": "code",
      "metadata": {
        "colab": {
          "base_uri": "https://localhost:8080/",
          "height": 17
        },
        "id": "TBS3p2BnWE3E",
        "outputId": "9df62965-c19c-4eb3-c0fb-32ccb2ca8621"
      },
      "source": [
        "test_final_df['C2C1B2_in_complex'] = C2C1B2_word_lists"
      ],
      "id": "TBS3p2BnWE3E",
      "execution_count": null,
      "outputs": [
        {
          "output_type": "display_data",
          "data": {
            "text/html": [
              "\n",
              "  <style>\n",
              "    pre {\n",
              "        white-space: pre-wrap;\n",
              "    }\n",
              "  </style>\n",
              "  "
            ],
            "text/plain": [
              "<IPython.core.display.HTML object>"
            ]
          },
          "metadata": {}
        }
      ]
    },
    {
      "cell_type": "code",
      "metadata": {
        "colab": {
          "base_uri": "https://localhost:8080/",
          "height": 424
        },
        "id": "CJjtBzsSWE3F",
        "outputId": "18f8fac0-c3a5-43a5-fa68-a13392c54338"
      },
      "source": [
        "test_final_df"
      ],
      "id": "CJjtBzsSWE3F",
      "execution_count": null,
      "outputs": [
        {
          "output_type": "display_data",
          "data": {
            "text/html": [
              "\n",
              "  <style>\n",
              "    pre {\n",
              "        white-space: pre-wrap;\n",
              "    }\n",
              "  </style>\n",
              "  "
            ],
            "text/plain": [
              "<IPython.core.display.HTML object>"
            ]
          },
          "metadata": {}
        },
        {
          "output_type": "execute_result",
          "data": {
            "text/html": [
              "<div>\n",
              "<style scoped>\n",
              "    .dataframe tbody tr th:only-of-type {\n",
              "        vertical-align: middle;\n",
              "    }\n",
              "\n",
              "    .dataframe tbody tr th {\n",
              "        vertical-align: top;\n",
              "    }\n",
              "\n",
              "    .dataframe thead th {\n",
              "        text-align: right;\n",
              "    }\n",
              "</style>\n",
              "<table border=\"1\" class=\"dataframe\">\n",
              "  <thead>\n",
              "    <tr style=\"text-align: right;\">\n",
              "      <th></th>\n",
              "      <th>complex_read_level</th>\n",
              "      <th>complex_words</th>\n",
              "      <th>ori_text</th>\n",
              "      <th>C2C1B2_in_complex</th>\n",
              "    </tr>\n",
              "  </thead>\n",
              "  <tbody>\n",
              "    <tr>\n",
              "      <th>0</th>\n",
              "      <td>B2</td>\n",
              "      <td>[{'id': 1, 'text': 'One', 'start_idx': 0, 'end...</td>\n",
              "      <td>One side of the armed conflicts is composed ma...</td>\n",
              "      <td>[conflicts, mainly, Sudanese, Janjaweed, Sudan...</td>\n",
              "    </tr>\n",
              "    <tr>\n",
              "      <th>1</th>\n",
              "      <td>B1</td>\n",
              "      <td>[{'id': 1, 'text': 'Jeddah', 'start_idx': 0, '...</td>\n",
              "      <td>Jeddah is the principal gateway to Mecca, Isla...</td>\n",
              "      <td>[Jeddah, Mecca, 's, holiest, able, bodied, lif...</td>\n",
              "    </tr>\n",
              "    <tr>\n",
              "      <th>2</th>\n",
              "      <td>C1</td>\n",
              "      <td>[{'id': 1, 'text': 'The', 'start_idx': 0, 'end...</td>\n",
              "      <td>The Great Dark Spot is thought to represent a ...</td>\n",
              "      <td>[methane, Neptune]</td>\n",
              "    </tr>\n",
              "    <tr>\n",
              "      <th>3</th>\n",
              "      <td>C1</td>\n",
              "      <td>[{'id': 1, 'text': 'His', 'start_idx': 0, 'end...</td>\n",
              "      <td>His next work, Saturday, follows an especially...</td>\n",
              "      <td>[neurosurgeon]</td>\n",
              "    </tr>\n",
              "    <tr>\n",
              "      <th>4</th>\n",
              "      <td>A1</td>\n",
              "      <td>[{'id': 1, 'text': 'The', 'start_idx': 0, 'end...</td>\n",
              "      <td>The tarantula, the trickster character, spun a...</td>\n",
              "      <td>[trickster, spun, cord, attaching, crawled, aw...</td>\n",
              "    </tr>\n",
              "    <tr>\n",
              "      <th>...</th>\n",
              "      <td>...</td>\n",
              "      <td>...</td>\n",
              "      <td>...</td>\n",
              "      <td>...</td>\n",
              "    </tr>\n",
              "    <tr>\n",
              "      <th>354</th>\n",
              "      <td>B2</td>\n",
              "      <td>[{'id': 1, 'text': 'Although', 'start_idx': 0,...</td>\n",
              "      <td>Although the name suggests that they are locat...</td>\n",
              "      <td>[suggests, canton, Bern, Alps, cantons, Valais...</td>\n",
              "    </tr>\n",
              "    <tr>\n",
              "      <th>355</th>\n",
              "      <td>C2</td>\n",
              "      <td>[{'id': 1, 'text': 'There', 'start_idx': 0, 'e...</td>\n",
              "      <td>There he had one daughter, later baptized as M...</td>\n",
              "      <td>[baptized, Ann]</td>\n",
              "    </tr>\n",
              "    <tr>\n",
              "      <th>356</th>\n",
              "      <td>A1</td>\n",
              "      <td>[{'id': 1, 'text': 'During', 'start_idx': 0, '...</td>\n",
              "      <td>During an interview, Edward Gorey mentioned th...</td>\n",
              "      <td>[Edward, Gorey, lamenting]</td>\n",
              "    </tr>\n",
              "    <tr>\n",
              "      <th>357</th>\n",
              "      <td>B1</td>\n",
              "      <td>[{'id': 1, 'text': 'The', 'start_idx': 0, 'end...</td>\n",
              "      <td>The string can vibrate in different modes just...</td>\n",
              "      <td>[vibrate, photon, gluon]</td>\n",
              "    </tr>\n",
              "    <tr>\n",
              "      <th>358</th>\n",
              "      <td>B1</td>\n",
              "      <td>[{'id': 1, 'text': 'Gable', 'start_idx': 0, 'e...</td>\n",
              "      <td>Gable also earned an Academy Award nomination ...</td>\n",
              "      <td>[Gable, Award, nomination, Fletcher, Christian...</td>\n",
              "    </tr>\n",
              "  </tbody>\n",
              "</table>\n",
              "<p>359 rows × 4 columns</p>\n",
              "</div>"
            ],
            "text/plain": [
              "    complex_read_level  ...                                  C2C1B2_in_complex\n",
              "0                   B2  ...  [conflicts, mainly, Sudanese, Janjaweed, Sudan...\n",
              "1                   B1  ...  [Jeddah, Mecca, 's, holiest, able, bodied, lif...\n",
              "2                   C1  ...                                 [methane, Neptune]\n",
              "3                   C1  ...                                     [neurosurgeon]\n",
              "4                   A1  ...  [trickster, spun, cord, attaching, crawled, aw...\n",
              "..                 ...  ...                                                ...\n",
              "354                 B2  ...  [suggests, canton, Bern, Alps, cantons, Valais...\n",
              "355                 C2  ...                                    [baptized, Ann]\n",
              "356                 A1  ...                         [Edward, Gorey, lamenting]\n",
              "357                 B1  ...                           [vibrate, photon, gluon]\n",
              "358                 B1  ...  [Gable, Award, nomination, Fletcher, Christian...\n",
              "\n",
              "[359 rows x 4 columns]"
            ]
          },
          "metadata": {},
          "execution_count": 51
        }
      ]
    },
    {
      "cell_type": "code",
      "metadata": {
        "colab": {
          "base_uri": "https://localhost:8080/",
          "height": 17
        },
        "id": "_vdMiJANWE3F",
        "outputId": "10fc2078-096c-4a45-a809-9bb1f1122c35"
      },
      "source": [
        "with open('/content/drive/MyDrive/muss/qualitative/ABCD_asset_test_C2C1B2', 'wb') as fp:\n",
        "    pickle.dump(test_final_df, fp)"
      ],
      "id": "_vdMiJANWE3F",
      "execution_count": null,
      "outputs": [
        {
          "output_type": "display_data",
          "data": {
            "text/html": [
              "\n",
              "  <style>\n",
              "    pre {\n",
              "        white-space: pre-wrap;\n",
              "    }\n",
              "  </style>\n",
              "  "
            ],
            "text/plain": [
              "<IPython.core.display.HTML object>"
            ]
          },
          "metadata": {}
        }
      ]
    },
    {
      "cell_type": "code",
      "metadata": {
        "id": "RBxy3F8yWE3H"
      },
      "source": [
        ""
      ],
      "id": "RBxy3F8yWE3H",
      "execution_count": null,
      "outputs": []
    },
    {
      "cell_type": "code",
      "metadata": {
        "colab": {
          "base_uri": "https://localhost:8080/",
          "height": 17
        },
        "id": "S-tNn5IpFK2-",
        "outputId": "e5681333-3322-4f62-ae02-4b38ebc49f10"
      },
      "source": [
        "with open ('/content/drive/MyDrive/muss/qualitative/ABCD_asset_test_C2C1B2', 'rb') as fp:\n",
        "    test_df_ABCD = pickle.load(fp)\n"
      ],
      "id": "S-tNn5IpFK2-",
      "execution_count": null,
      "outputs": [
        {
          "output_type": "display_data",
          "data": {
            "text/html": [
              "\n",
              "  <style>\n",
              "    pre {\n",
              "        white-space: pre-wrap;\n",
              "    }\n",
              "  </style>\n",
              "  "
            ],
            "text/plain": [
              "<IPython.core.display.HTML object>"
            ]
          },
          "metadata": {}
        }
      ]
    },
    {
      "cell_type": "code",
      "metadata": {
        "colab": {
          "base_uri": "https://localhost:8080/",
          "height": 424
        },
        "id": "-13AhHncFK3D",
        "outputId": "3eb073f9-5644-4758-e396-9a833e49025a"
      },
      "source": [
        "FINAL_TEST_DF=pd.concat([com_sim_test_df, test_df_ABCD.drop(columns=['complex_read_level','C2C1B2_in_complex','ori_text'])], axis=1)\n",
        "FINAL_TEST_DF"
      ],
      "id": "-13AhHncFK3D",
      "execution_count": null,
      "outputs": [
        {
          "output_type": "display_data",
          "data": {
            "text/html": [
              "\n",
              "  <style>\n",
              "    pre {\n",
              "        white-space: pre-wrap;\n",
              "    }\n",
              "  </style>\n",
              "  "
            ],
            "text/plain": [
              "<IPython.core.display.HTML object>"
            ]
          },
          "metadata": {}
        },
        {
          "output_type": "execute_result",
          "data": {
            "text/html": [
              "<div>\n",
              "<style scoped>\n",
              "    .dataframe tbody tr th:only-of-type {\n",
              "        vertical-align: middle;\n",
              "    }\n",
              "\n",
              "    .dataframe tbody tr th {\n",
              "        vertical-align: top;\n",
              "    }\n",
              "\n",
              "    .dataframe thead th {\n",
              "        text-align: right;\n",
              "    }\n",
              "</style>\n",
              "<table border=\"1\" class=\"dataframe\">\n",
              "  <thead>\n",
              "    <tr style=\"text-align: right;\">\n",
              "      <th></th>\n",
              "      <th>ori_text</th>\n",
              "      <th>NER_complex</th>\n",
              "      <th>NER_simple</th>\n",
              "      <th>complex_words</th>\n",
              "    </tr>\n",
              "  </thead>\n",
              "  <tbody>\n",
              "    <tr>\n",
              "      <th>0</th>\n",
              "      <td>One side of the armed conflicts is composed ma...</td>\n",
              "      <td>[Afro-Arab Abbala, Janjaweed, Sudanese, Rizeigat]</td>\n",
              "      <td>[Afro-Arab Abbala, The Janjaweed, Rizeigat, Su...</td>\n",
              "      <td>[{'id': 1, 'text': 'One', 'start_idx': 0, 'end...</td>\n",
              "    </tr>\n",
              "    <tr>\n",
              "      <th>1</th>\n",
              "      <td>Jeddah is the principal gateway to Mecca, Isla...</td>\n",
              "      <td>[Muslims, Jeddah, Mecca, Islam]</td>\n",
              "      <td>[Muslims, Jeddah, Islam, Mecca]</td>\n",
              "      <td>[{'id': 1, 'text': 'Jeddah', 'start_idx': 0, '...</td>\n",
              "    </tr>\n",
              "    <tr>\n",
              "      <th>2</th>\n",
              "      <td>The Great Dark Spot is thought to represent a ...</td>\n",
              "      <td>[Great Dark Spot, Neptune]</td>\n",
              "      <td>[Great Dark Spot, Neptune]</td>\n",
              "      <td>[{'id': 1, 'text': 'The', 'start_idx': 0, 'end...</td>\n",
              "    </tr>\n",
              "    <tr>\n",
              "      <th>3</th>\n",
              "      <td>His next work, Saturday, follows an especially...</td>\n",
              "      <td>[Saturday]</td>\n",
              "      <td>[Saturday]</td>\n",
              "      <td>[{'id': 1, 'text': 'His', 'start_idx': 0, 'end...</td>\n",
              "    </tr>\n",
              "    <tr>\n",
              "      <th>4</th>\n",
              "      <td>The tarantula, the trickster character, spun a...</td>\n",
              "      <td>[east]</td>\n",
              "      <td>[east]</td>\n",
              "      <td>[{'id': 1, 'text': 'The', 'start_idx': 0, 'end...</td>\n",
              "    </tr>\n",
              "    <tr>\n",
              "      <th>...</th>\n",
              "      <td>...</td>\n",
              "      <td>...</td>\n",
              "      <td>...</td>\n",
              "      <td>...</td>\n",
              "    </tr>\n",
              "    <tr>\n",
              "      <th>354</th>\n",
              "      <td>Although the name suggests that they are locat...</td>\n",
              "      <td>[the Bernese Alps, Bernese Oberland, Obwalden,...</td>\n",
              "      <td>[Parts of the Bernese Alps, Bernese Oberland, ...</td>\n",
              "      <td>[{'id': 1, 'text': 'Although', 'start_idx': 0,...</td>\n",
              "    </tr>\n",
              "    <tr>\n",
              "      <th>355</th>\n",
              "      <td>There he had one daughter, later baptized as M...</td>\n",
              "      <td>[Mary Ann Fisher Power]</td>\n",
              "      <td>[Mary Ann Fisher Power, one]</td>\n",
              "      <td>[{'id': 1, 'text': 'There', 'start_idx': 0, 'e...</td>\n",
              "    </tr>\n",
              "    <tr>\n",
              "      <th>356</th>\n",
              "      <td>During an interview, Edward Gorey mentioned th...</td>\n",
              "      <td>[Edward Gorey, Bawden]</td>\n",
              "      <td>[Edward Gorey, Bawden, one]</td>\n",
              "      <td>[{'id': 1, 'text': 'During', 'start_idx': 0, '...</td>\n",
              "    </tr>\n",
              "    <tr>\n",
              "      <th>357</th>\n",
              "      <td>The string can vibrate in different modes just...</td>\n",
              "      <td>[electron, photon]</td>\n",
              "      <td>[electron, photon]</td>\n",
              "      <td>[{'id': 1, 'text': 'The', 'start_idx': 0, 'end...</td>\n",
              "    </tr>\n",
              "    <tr>\n",
              "      <th>358</th>\n",
              "      <td>Gable also earned an Academy Award nomination ...</td>\n",
              "      <td>[Fletcher Christian in, Mutiny on the Bounty, ...</td>\n",
              "      <td>[Fletcher Christian in, Mutiny on the Bounty, ...</td>\n",
              "      <td>[{'id': 1, 'text': 'Gable', 'start_idx': 0, 'e...</td>\n",
              "    </tr>\n",
              "  </tbody>\n",
              "</table>\n",
              "<p>359 rows × 4 columns</p>\n",
              "</div>"
            ],
            "text/plain": [
              "                                              ori_text  ...                                      complex_words\n",
              "0    One side of the armed conflicts is composed ma...  ...  [{'id': 1, 'text': 'One', 'start_idx': 0, 'end...\n",
              "1    Jeddah is the principal gateway to Mecca, Isla...  ...  [{'id': 1, 'text': 'Jeddah', 'start_idx': 0, '...\n",
              "2    The Great Dark Spot is thought to represent a ...  ...  [{'id': 1, 'text': 'The', 'start_idx': 0, 'end...\n",
              "3    His next work, Saturday, follows an especially...  ...  [{'id': 1, 'text': 'His', 'start_idx': 0, 'end...\n",
              "4    The tarantula, the trickster character, spun a...  ...  [{'id': 1, 'text': 'The', 'start_idx': 0, 'end...\n",
              "..                                                 ...  ...                                                ...\n",
              "354  Although the name suggests that they are locat...  ...  [{'id': 1, 'text': 'Although', 'start_idx': 0,...\n",
              "355  There he had one daughter, later baptized as M...  ...  [{'id': 1, 'text': 'There', 'start_idx': 0, 'e...\n",
              "356  During an interview, Edward Gorey mentioned th...  ...  [{'id': 1, 'text': 'During', 'start_idx': 0, '...\n",
              "357  The string can vibrate in different modes just...  ...  [{'id': 1, 'text': 'The', 'start_idx': 0, 'end...\n",
              "358  Gable also earned an Academy Award nomination ...  ...  [{'id': 1, 'text': 'Gable', 'start_idx': 0, 'e...\n",
              "\n",
              "[359 rows x 4 columns]"
            ]
          },
          "metadata": {},
          "execution_count": 44
        }
      ]
    },
    {
      "cell_type": "code",
      "metadata": {
        "colab": {
          "base_uri": "https://localhost:8080/",
          "height": 17
        },
        "id": "XtMGOsKhFK3G",
        "outputId": "890c21f2-38bf-43b9-9693-4b339f6e0a24"
      },
      "source": [
        "def get_word_lists(row,difficulty_level_list_like):\n",
        "  C2_word_list = []\n",
        "\n",
        "  for words in row['complex_words']:\n",
        "    # print(words['read_level'],words['text'])\n",
        "    if words['read_level'] in difficulty_level_list_like:\n",
        "      # print(words['text'])\n",
        "\n",
        "      if all(words['text'] not in x for x in row['NER_complex']):\n",
        "        C2_word_list.append(words['text'])\n",
        "\n",
        "  if len(C2_word_list) >= 1:\n",
        "    return C2_word_list\n",
        "  else:\n",
        "    return np.nan"
      ],
      "id": "XtMGOsKhFK3G",
      "execution_count": null,
      "outputs": [
        {
          "output_type": "display_data",
          "data": {
            "text/html": [
              "\n",
              "  <style>\n",
              "    pre {\n",
              "        white-space: pre-wrap;\n",
              "    }\n",
              "  </style>\n",
              "  "
            ],
            "text/plain": [
              "<IPython.core.display.HTML object>"
            ]
          },
          "metadata": {}
        }
      ]
    },
    {
      "cell_type": "code",
      "metadata": {
        "colab": {
          "base_uri": "https://localhost:8080/",
          "height": 17
        },
        "id": "6DTYWOwEFK3I",
        "outputId": "157ae0f0-9327-42ec-be1f-6cbce6a735aa"
      },
      "source": [
        "C2C1B2_word_lists = []\n",
        "for index,row in FINAL_TEST_DF.iterrows():\n",
        "  # print(index)\n",
        "  C2C1B2_word_lists.append(get_word_lists(row,['C2','C1','B2']))"
      ],
      "id": "6DTYWOwEFK3I",
      "execution_count": null,
      "outputs": [
        {
          "output_type": "display_data",
          "data": {
            "text/html": [
              "\n",
              "  <style>\n",
              "    pre {\n",
              "        white-space: pre-wrap;\n",
              "    }\n",
              "  </style>\n",
              "  "
            ],
            "text/plain": [
              "<IPython.core.display.HTML object>"
            ]
          },
          "metadata": {}
        }
      ]
    },
    {
      "cell_type": "code",
      "metadata": {
        "colab": {
          "base_uri": "https://localhost:8080/",
          "height": 17
        },
        "id": "7_iheIv1FK3K",
        "outputId": "b7f3b1c0-9284-47cf-b8e7-6254d4ae7e69"
      },
      "source": [
        "FINAL_TEST_DF['C2C1B2_in_complex'] = C2C1B2_word_lists"
      ],
      "id": "7_iheIv1FK3K",
      "execution_count": null,
      "outputs": [
        {
          "output_type": "display_data",
          "data": {
            "text/html": [
              "\n",
              "  <style>\n",
              "    pre {\n",
              "        white-space: pre-wrap;\n",
              "    }\n",
              "  </style>\n",
              "  "
            ],
            "text/plain": [
              "<IPython.core.display.HTML object>"
            ]
          },
          "metadata": {}
        }
      ]
    },
    {
      "cell_type": "code",
      "metadata": {
        "colab": {
          "base_uri": "https://localhost:8080/",
          "height": 597
        },
        "id": "o-HOeuE2FK3L",
        "outputId": "f4c4169d-0254-4a69-ece4-e557c29f7147"
      },
      "source": [
        "FINAL_TEST_DF"
      ],
      "id": "o-HOeuE2FK3L",
      "execution_count": null,
      "outputs": [
        {
          "output_type": "display_data",
          "data": {
            "text/html": [
              "\n",
              "  <style>\n",
              "    pre {\n",
              "        white-space: pre-wrap;\n",
              "    }\n",
              "  </style>\n",
              "  "
            ],
            "text/plain": [
              "<IPython.core.display.HTML object>"
            ]
          },
          "metadata": {}
        },
        {
          "output_type": "execute_result",
          "data": {
            "text/html": [
              "<div>\n",
              "<style scoped>\n",
              "    .dataframe tbody tr th:only-of-type {\n",
              "        vertical-align: middle;\n",
              "    }\n",
              "\n",
              "    .dataframe tbody tr th {\n",
              "        vertical-align: top;\n",
              "    }\n",
              "\n",
              "    .dataframe thead th {\n",
              "        text-align: right;\n",
              "    }\n",
              "</style>\n",
              "<table border=\"1\" class=\"dataframe\">\n",
              "  <thead>\n",
              "    <tr style=\"text-align: right;\">\n",
              "      <th></th>\n",
              "      <th>ori_text</th>\n",
              "      <th>NER_complex</th>\n",
              "      <th>NER_simple</th>\n",
              "      <th>complex_words</th>\n",
              "      <th>C2C1B2_in_complex</th>\n",
              "    </tr>\n",
              "  </thead>\n",
              "  <tbody>\n",
              "    <tr>\n",
              "      <th>0</th>\n",
              "      <td>One side of the armed conflicts is composed ma...</td>\n",
              "      <td>[Afro-Arab Abbala, Janjaweed, Sudanese, Rizeigat]</td>\n",
              "      <td>[Afro-Arab Abbala, The Janjaweed, Rizeigat, Su...</td>\n",
              "      <td>[{'id': 1, 'text': 'One', 'start_idx': 0, 'end...</td>\n",
              "      <td>[conflicts, mainly, militia, mostly, tribes]</td>\n",
              "    </tr>\n",
              "    <tr>\n",
              "      <th>1</th>\n",
              "      <td>Jeddah is the principal gateway to Mecca, Isla...</td>\n",
              "      <td>[Muslims, Jeddah, Mecca, Islam]</td>\n",
              "      <td>[Muslims, Jeddah, Islam, Mecca]</td>\n",
              "      <td>[{'id': 1, 'text': 'Jeddah', 'start_idx': 0, '...</td>\n",
              "      <td>['s, holiest, able, bodied, lifetime]</td>\n",
              "    </tr>\n",
              "    <tr>\n",
              "      <th>2</th>\n",
              "      <td>The Great Dark Spot is thought to represent a ...</td>\n",
              "      <td>[Great Dark Spot, Neptune]</td>\n",
              "      <td>[Great Dark Spot, Neptune]</td>\n",
              "      <td>[{'id': 1, 'text': 'The', 'start_idx': 0, 'end...</td>\n",
              "      <td>[methane]</td>\n",
              "    </tr>\n",
              "    <tr>\n",
              "      <th>3</th>\n",
              "      <td>His next work, Saturday, follows an especially...</td>\n",
              "      <td>[Saturday]</td>\n",
              "      <td>[Saturday]</td>\n",
              "      <td>[{'id': 1, 'text': 'His', 'start_idx': 0, 'end...</td>\n",
              "      <td>[neurosurgeon]</td>\n",
              "    </tr>\n",
              "    <tr>\n",
              "      <th>4</th>\n",
              "      <td>The tarantula, the trickster character, spun a...</td>\n",
              "      <td>[east]</td>\n",
              "      <td>[east]</td>\n",
              "      <td>[{'id': 1, 'text': 'The', 'start_idx': 0, 'end...</td>\n",
              "      <td>[trickster, spun, cord, attaching, crawled, aw...</td>\n",
              "    </tr>\n",
              "    <tr>\n",
              "      <th>...</th>\n",
              "      <td>...</td>\n",
              "      <td>...</td>\n",
              "      <td>...</td>\n",
              "      <td>...</td>\n",
              "      <td>...</td>\n",
              "    </tr>\n",
              "    <tr>\n",
              "      <th>354</th>\n",
              "      <td>Although the name suggests that they are locat...</td>\n",
              "      <td>[the Bernese Alps, Bernese Oberland, Obwalden,...</td>\n",
              "      <td>[Parts of the Bernese Alps, Bernese Oberland, ...</td>\n",
              "      <td>[{'id': 1, 'text': 'Although', 'start_idx': 0,...</td>\n",
              "      <td>[suggests, canton, cantons]</td>\n",
              "    </tr>\n",
              "    <tr>\n",
              "      <th>355</th>\n",
              "      <td>There he had one daughter, later baptized as M...</td>\n",
              "      <td>[Mary Ann Fisher Power]</td>\n",
              "      <td>[Mary Ann Fisher Power, one]</td>\n",
              "      <td>[{'id': 1, 'text': 'There', 'start_idx': 0, 'e...</td>\n",
              "      <td>[baptized]</td>\n",
              "    </tr>\n",
              "    <tr>\n",
              "      <th>356</th>\n",
              "      <td>During an interview, Edward Gorey mentioned th...</td>\n",
              "      <td>[Edward Gorey, Bawden]</td>\n",
              "      <td>[Edward Gorey, Bawden, one]</td>\n",
              "      <td>[{'id': 1, 'text': 'During', 'start_idx': 0, '...</td>\n",
              "      <td>[lamenting]</td>\n",
              "    </tr>\n",
              "    <tr>\n",
              "      <th>357</th>\n",
              "      <td>The string can vibrate in different modes just...</td>\n",
              "      <td>[electron, photon]</td>\n",
              "      <td>[electron, photon]</td>\n",
              "      <td>[{'id': 1, 'text': 'The', 'start_idx': 0, 'end...</td>\n",
              "      <td>[vibrate, gluon]</td>\n",
              "    </tr>\n",
              "    <tr>\n",
              "      <th>358</th>\n",
              "      <td>Gable also earned an Academy Award nomination ...</td>\n",
              "      <td>[Fletcher Christian in, Mutiny on the Bounty, ...</td>\n",
              "      <td>[Fletcher Christian in, Mutiny on the Bounty, ...</td>\n",
              "      <td>[{'id': 1, 'text': 'Gable', 'start_idx': 0, 'e...</td>\n",
              "      <td>[nomination]</td>\n",
              "    </tr>\n",
              "  </tbody>\n",
              "</table>\n",
              "<p>359 rows × 5 columns</p>\n",
              "</div>"
            ],
            "text/plain": [
              "                                              ori_text  ...                                  C2C1B2_in_complex\n",
              "0    One side of the armed conflicts is composed ma...  ...       [conflicts, mainly, militia, mostly, tribes]\n",
              "1    Jeddah is the principal gateway to Mecca, Isla...  ...              ['s, holiest, able, bodied, lifetime]\n",
              "2    The Great Dark Spot is thought to represent a ...  ...                                          [methane]\n",
              "3    His next work, Saturday, follows an especially...  ...                                     [neurosurgeon]\n",
              "4    The tarantula, the trickster character, spun a...  ...  [trickster, spun, cord, attaching, crawled, aw...\n",
              "..                                                 ...  ...                                                ...\n",
              "354  Although the name suggests that they are locat...  ...                        [suggests, canton, cantons]\n",
              "355  There he had one daughter, later baptized as M...  ...                                         [baptized]\n",
              "356  During an interview, Edward Gorey mentioned th...  ...                                        [lamenting]\n",
              "357  The string can vibrate in different modes just...  ...                                   [vibrate, gluon]\n",
              "358  Gable also earned an Academy Award nomination ...  ...                                       [nomination]\n",
              "\n",
              "[359 rows x 5 columns]"
            ]
          },
          "metadata": {},
          "execution_count": 48
        }
      ]
    },
    {
      "cell_type": "code",
      "metadata": {
        "colab": {
          "base_uri": "https://localhost:8080/",
          "height": 17
        },
        "id": "dWklKy9ZFK3O",
        "outputId": "97a5658c-78f4-429d-e36d-0c2a5a364e35"
      },
      "source": [
        "with open('/content/drive/MyDrive/muss/qualitative/asset_ABCD_test_0911', 'wb') as fp:\n",
        "    pickle.dump(FINAL_TEST_DF, fp)"
      ],
      "id": "dWklKy9ZFK3O",
      "execution_count": null,
      "outputs": [
        {
          "output_type": "display_data",
          "data": {
            "text/html": [
              "\n",
              "  <style>\n",
              "    pre {\n",
              "        white-space: pre-wrap;\n",
              "    }\n",
              "  </style>\n",
              "  "
            ],
            "text/plain": [
              "<IPython.core.display.HTML object>"
            ]
          },
          "metadata": {}
        }
      ]
    },
    {
      "cell_type": "code",
      "metadata": {
        "id": "pdxoOiXRFK3Q"
      },
      "source": [
        ""
      ],
      "id": "pdxoOiXRFK3Q",
      "execution_count": null,
      "outputs": []
    },
    {
      "cell_type": "code",
      "metadata": {
        "id": "Gnc5EjYgWE3I"
      },
      "source": [
        ""
      ],
      "id": "Gnc5EjYgWE3I",
      "execution_count": null,
      "outputs": []
    },
    {
      "cell_type": "code",
      "metadata": {
        "id": "sRVHhwfTWE3I"
      },
      "source": [
        ""
      ],
      "id": "sRVHhwfTWE3I",
      "execution_count": null,
      "outputs": []
    },
    {
      "cell_type": "markdown",
      "metadata": {
        "id": "k8-_9bPUFcud"
      },
      "source": [
        "## create dataset (all hard words in prefix)"
      ],
      "id": "k8-_9bPUFcud"
    },
    {
      "cell_type": "code",
      "metadata": {
        "colab": {
          "base_uri": "https://localhost:8080/",
          "height": 17
        },
        "id": "TgOqlIZSFg2-",
        "outputId": "d7a6bbe6-af64-475d-bf1c-83a5a1ab2c2c"
      },
      "source": [
        "target_dir = '/content/drive/MyDrive/muss/resources/datasets/asset_ABCD_C1C2B2'\n",
        "!mkdir $target_dir"
      ],
      "id": "TgOqlIZSFg2-",
      "execution_count": null,
      "outputs": [
        {
          "output_type": "display_data",
          "data": {
            "text/html": [
              "\n",
              "  <style>\n",
              "    pre {\n",
              "        white-space: pre-wrap;\n",
              "    }\n",
              "  </style>\n",
              "  "
            ],
            "text/plain": [
              "<IPython.core.display.HTML object>"
            ]
          },
          "metadata": {}
        }
      ]
    },
    {
      "cell_type": "code",
      "metadata": {
        "colab": {
          "base_uri": "https://localhost:8080/",
          "height": 17
        },
        "id": "0iLCKWe2FuRM",
        "outputId": "1e76ac7c-8f78-4033-ebc3-156ab9d1f25e"
      },
      "source": [
        "data_names = ['valid_complex','test_complex']"
      ],
      "id": "0iLCKWe2FuRM",
      "execution_count": null,
      "outputs": [
        {
          "output_type": "display_data",
          "data": {
            "text/html": [
              "\n",
              "  <style>\n",
              "    pre {\n",
              "        white-space: pre-wrap;\n",
              "    }\n",
              "  </style>\n",
              "  "
            ],
            "text/plain": [
              "<IPython.core.display.HTML object>"
            ]
          },
          "metadata": {}
        }
      ]
    },
    {
      "cell_type": "code",
      "metadata": {
        "colab": {
          "base_uri": "https://localhost:8080/",
          "height": 17
        },
        "id": "9zQwPNeLFg1B",
        "outputId": "75917d15-f821-4dc4-910d-5c835ebcfd8f"
      },
      "source": [
        "df_list = ['FINAL_VALID_DF','FINAL_TEST_DF']"
      ],
      "id": "9zQwPNeLFg1B",
      "execution_count": null,
      "outputs": [
        {
          "output_type": "display_data",
          "data": {
            "text/html": [
              "\n",
              "  <style>\n",
              "    pre {\n",
              "        white-space: pre-wrap;\n",
              "    }\n",
              "  </style>\n",
              "  "
            ],
            "text/plain": [
              "<IPython.core.display.HTML object>"
            ]
          },
          "metadata": {}
        }
      ]
    },
    {
      "cell_type": "code",
      "metadata": {
        "colab": {
          "base_uri": "https://localhost:8080/",
          "height": 146
        },
        "id": "wMZTQb_uFgy1",
        "outputId": "36cd8234-dc66-499e-ef7c-29a07ccd2f87"
      },
      "source": [
        "for index,data_name in enumerate(data_names):\n",
        "\n",
        "  chosen_df = globals()[df_list[index]]\n",
        "  file_name = data_name.replace('_','.')\n",
        "\n",
        "  \n",
        "  with open(target_dir+'/'+file_name, 'w') as f:\n",
        "\n",
        "    for index, row in chosen_df.iterrows():\n",
        "\n",
        "        sentence = row.ori_text\n",
        "        NER = row.C2C1B2_in_complex\n",
        "\n",
        "        if isinstance(NER, float):\n",
        "          sentence_w_control_token = \" <NEXT_DIFFICULT_WORD> \" + \" <SENT_START> \" + sentence\n",
        "        else:\n",
        "          sentence_w_control_token = \" <NEXT_DIFFICULT_WORD> \" +\" <NEXT_DIFFICULT_WORD> \".join(NER) + \" <SENT_START> \" + sentence\n",
        "\n",
        "        if index%10000==0:\n",
        "            print(index)\n",
        "            print(sentence_w_control_token)\n",
        "\n",
        "        f.write(\"{}\\n\".format(sentence_w_control_token))\n",
        "\n",
        "        # break\n",
        "\n",
        "  f.close()\n"
      ],
      "id": "wMZTQb_uFgy1",
      "execution_count": null,
      "outputs": [
        {
          "output_type": "display_data",
          "data": {
            "text/html": [
              "\n",
              "  <style>\n",
              "    pre {\n",
              "        white-space: pre-wrap;\n",
              "    }\n",
              "  </style>\n",
              "  "
            ],
            "text/plain": [
              "<IPython.core.display.HTML object>"
            ]
          },
          "metadata": {}
        },
        {
          "output_type": "stream",
          "name": "stdout",
          "text": [
            "0\n",
            " <NEXT_DIFFICULT_WORD> counties <SENT_START> Adjacent counties are Marin (to the south), Mendocino (to the north), Lake (northeast), Napa (to the east), and Solano and Contra Costa (to the southeast).\n",
            "0\n",
            " <NEXT_DIFFICULT_WORD> conflicts <NEXT_DIFFICULT_WORD> mainly <NEXT_DIFFICULT_WORD> militia <NEXT_DIFFICULT_WORD> mostly <NEXT_DIFFICULT_WORD> tribes <SENT_START> One side of the armed conflicts is composed mainly of the Sudanese military and the Janjaweed, a Sudanese militia group recruited mostly from the Afro-Arab Abbala tribes of the northern Rizeigat region in Sudan.\n"
          ]
        }
      ]
    },
    {
      "cell_type": "markdown",
      "metadata": {
        "id": "D0O5PQCAGEpx"
      },
      "source": [
        "## dataset with differnt number of ABCD word"
      ],
      "id": "D0O5PQCAGEpx"
    },
    {
      "cell_type": "code",
      "metadata": {
        "colab": {
          "base_uri": "https://localhost:8080/",
          "height": 17
        },
        "id": "FbK2dX47GEqF",
        "outputId": "17a04337-2aa0-4f81-935a-66f8af8d2409"
      },
      "source": [
        "def make_dataset(folder_name,data_names,num_NE,all_word=False,all_word_random=False):\n",
        "    \n",
        "    target_dir = '/content/drive/MyDrive/muss/resources/datasets/'+folder_name\n",
        "    os.makedirs(target_dir)#,exist_ok=True)\n",
        "\n",
        "    for index,data_name in enumerate(data_names):\n",
        "        df = globals()[df_list[index]]\n",
        "        file_name = data_name.replace('_','.')  \n",
        "        # file_name = data_name+'_ori'\n",
        "        # data_tuples = list(zip(globals()[file_name],intersection[index]))\n",
        "        # df = pd.DataFrame(data_tuples, columns=['ori_text','NER'])\n",
        "        file_name = data_name.replace('_','.')\n",
        "\n",
        "        with open(target_dir+'/'+file_name, 'w') as f:\n",
        "          for index, row in df.iterrows():\n",
        "              \n",
        "              if all_word == False:\n",
        "                  sentence = row.ori_text\n",
        "                  NER = row.C2C1B2_in_complex\n",
        "\n",
        "\n",
        "                  if not isinstance(NER, float):\n",
        "\n",
        "                    if len(NER) != 0:\n",
        "                        NE_remained = row.C2C1B2_in_complex[:num_NE]\n",
        "                        sentence_w_control_token = \" <NEXT_DIFFICULT_WORD> \" + \" <NEXT_DIFFICULT_WORD> \".join(NE_remained) + \" <SENT_START> \" + sentence\n",
        "                    else:\n",
        "                      sentence_w_control_token = \" <NEXT_DIFFICULT_WORD> \"+ \" <SENT_START> \" + sentence\n",
        "                  else:\n",
        "                      sentence_w_control_token = \" <NEXT_DIFFICULT_WORD> \"+ \" <SENT_START> \" + sentence\n",
        "\n",
        "                  if index%100==0:\n",
        "                      print(index)\n",
        "                      print(sentence_w_control_token)\n",
        "\n",
        "                  f.write(\"{}\\n\".format(sentence_w_control_token))\n",
        "              else:\n",
        "                  sentence = row.ori_text\n",
        "                  words_NE_list = sentence.split(' ')\n",
        "\n",
        "                  if all_word_random == True:\n",
        "                      random.shuffle(words_NE_list)\n",
        "\n",
        "                  sentence_w_control_token = \" <NEXT_DIFFICULT_WORD> \" + \" <NEXT_DIFFICULT_WORD> \".join(words_NE_list) + \" <SENT_START> \" + sentence\n",
        "\n",
        "                  if index%100==0:\n",
        "                      print(index)\n",
        "                      print(sentence_w_control_token)\n",
        "\n",
        "                  f.write(\"{}\\n\".format(sentence_w_control_token))\n",
        "\n",
        "        f.close()\n"
      ],
      "id": "FbK2dX47GEqF",
      "execution_count": null,
      "outputs": [
        {
          "output_type": "display_data",
          "data": {
            "text/html": [
              "\n",
              "  <style>\n",
              "    pre {\n",
              "        white-space: pre-wrap;\n",
              "    }\n",
              "  </style>\n",
              "  "
            ],
            "text/plain": [
              "<IPython.core.display.HTML object>"
            ]
          },
          "metadata": {}
        }
      ]
    },
    {
      "cell_type": "code",
      "metadata": {
        "colab": {
          "base_uri": "https://localhost:8080/",
          "height": 1000
        },
        "id": "KJR6Rw87GEqH",
        "outputId": "2a7572eb-a5d8-4dd2-b9eb-489f419e9199"
      },
      "source": [
        "make_dataset('asset_ABCD_all_words_random_0911',data_names,9999,all_word=True,all_word_random=True)"
      ],
      "id": "KJR6Rw87GEqH",
      "execution_count": null,
      "outputs": [
        {
          "output_type": "display_data",
          "data": {
            "text/html": [
              "\n",
              "  <style>\n",
              "    pre {\n",
              "        white-space: pre-wrap;\n",
              "    }\n",
              "  </style>\n",
              "  "
            ],
            "text/plain": [
              "<IPython.core.display.HTML object>"
            ]
          },
          "metadata": {}
        },
        {
          "output_type": "stream",
          "name": "stdout",
          "text": [
            "0\n",
            " <NEXT_DIFFICULT_WORD> Mendocino <NEXT_DIFFICULT_WORD> (to <NEXT_DIFFICULT_WORD> southeast). <NEXT_DIFFICULT_WORD> are <NEXT_DIFFICULT_WORD> the <NEXT_DIFFICULT_WORD> Napa <NEXT_DIFFICULT_WORD> Marin <NEXT_DIFFICULT_WORD> (northeast), <NEXT_DIFFICULT_WORD> Costa <NEXT_DIFFICULT_WORD> Lake <NEXT_DIFFICULT_WORD> (to <NEXT_DIFFICULT_WORD> Contra <NEXT_DIFFICULT_WORD> and <NEXT_DIFFICULT_WORD> and <NEXT_DIFFICULT_WORD> south), <NEXT_DIFFICULT_WORD> the <NEXT_DIFFICULT_WORD> (to <NEXT_DIFFICULT_WORD> counties <NEXT_DIFFICULT_WORD> (to <NEXT_DIFFICULT_WORD> Adjacent <NEXT_DIFFICULT_WORD> the <NEXT_DIFFICULT_WORD> east), <NEXT_DIFFICULT_WORD> the <NEXT_DIFFICULT_WORD> north), <NEXT_DIFFICULT_WORD> Solano <SENT_START> Adjacent counties are Marin (to the south), Mendocino (to the north), Lake (northeast), Napa (to the east), and Solano and Contra Costa (to the southeast).\n",
            "100\n",
            " <NEXT_DIFFICULT_WORD> appealing <NEXT_DIFFICULT_WORD> and <NEXT_DIFFICULT_WORD> aims <NEXT_DIFFICULT_WORD> easy <NEXT_DIFFICULT_WORD> to <NEXT_DIFFICULT_WORD> be <NEXT_DIFFICULT_WORD> visually <NEXT_DIFFICULT_WORD> still <NEXT_DIFFICULT_WORD> use. <NEXT_DIFFICULT_WORD> lightweight, <NEXT_DIFFICULT_WORD> fast <NEXT_DIFFICULT_WORD> while <NEXT_DIFFICULT_WORD> to <NEXT_DIFFICULT_WORD> being <NEXT_DIFFICULT_WORD> and <NEXT_DIFFICULT_WORD> It <SENT_START> It aims to be fast and lightweight, while still being visually appealing and easy to use.\n",
            "200\n",
            " <NEXT_DIFFICULT_WORD> England. <NEXT_DIFFICULT_WORD> of <NEXT_DIFFICULT_WORD> area <NEXT_DIFFICULT_WORD> borough <NEXT_DIFFICULT_WORD> authority <NEXT_DIFFICULT_WORD> is <NEXT_DIFFICULT_WORD> Cheshire, <NEXT_DIFFICULT_WORD> and <NEXT_DIFFICULT_WORD> large <NEXT_DIFFICULT_WORD> a <NEXT_DIFFICULT_WORD> town, <NEXT_DIFFICULT_WORD> unitary <NEXT_DIFFICULT_WORD> Warrington <SENT_START> Warrington is a large town, borough and unitary authority area of Cheshire, England.\n",
            "300\n",
            " <NEXT_DIFFICULT_WORD> of <NEXT_DIFFICULT_WORD> part <NEXT_DIFFICULT_WORD> and <NEXT_DIFFICULT_WORD> organisms, <NEXT_DIFFICULT_WORD> natural <NEXT_DIFFICULT_WORD> by <NEXT_DIFFICULT_WORD> metabolites). <NEXT_DIFFICULT_WORD> plants, <NEXT_DIFFICULT_WORD> fungi, <NEXT_DIFFICULT_WORD> are <NEXT_DIFFICULT_WORD> of <NEXT_DIFFICULT_WORD> are <NEXT_DIFFICULT_WORD> variety <NEXT_DIFFICULT_WORD> including <NEXT_DIFFICULT_WORD> the <NEXT_DIFFICULT_WORD> large <NEXT_DIFFICULT_WORD> produced <NEXT_DIFFICULT_WORD> secondary <NEXT_DIFFICULT_WORD> (also <NEXT_DIFFICULT_WORD> group <NEXT_DIFFICULT_WORD> products <NEXT_DIFFICULT_WORD> bacteria, <NEXT_DIFFICULT_WORD> a <NEXT_DIFFICULT_WORD> animals <NEXT_DIFFICULT_WORD> Alkaloids <NEXT_DIFFICULT_WORD> and <NEXT_DIFFICULT_WORD> of <NEXT_DIFFICULT_WORD> called <SENT_START> Alkaloids are produced by a large variety of organisms, including bacteria, fungi, plants, and animals and are part of the group of natural products (also called secondary metabolites).\n",
            "400\n",
            " <NEXT_DIFFICULT_WORD> her <NEXT_DIFFICULT_WORD> became <NEXT_DIFFICULT_WORD> China. <NEXT_DIFFICULT_WORD> shared <NEXT_DIFFICULT_WORD> the <NEXT_DIFFICULT_WORD> discoveries <NEXT_DIFFICULT_WORD> with <NEXT_DIFFICULT_WORD> and <NEXT_DIFFICULT_WORD> Leizu <NEXT_DIFFICULT_WORD> in <NEXT_DIFFICULT_WORD> others <NEXT_DIFFICULT_WORD> knowledge <NEXT_DIFFICULT_WORD> widespread <SENT_START> Leizu shared her discoveries with others and the knowledge became widespread in China.\n",
            "500\n",
            " <NEXT_DIFFICULT_WORD> where <NEXT_DIFFICULT_WORD> in <NEXT_DIFFICULT_WORD> been <NEXT_DIFFICULT_WORD> life <NEXT_DIFFICULT_WORD> universe <NEXT_DIFFICULT_WORD> is <NEXT_DIFFICULT_WORD> the <NEXT_DIFFICULT_WORD> the <NEXT_DIFFICULT_WORD> Earth <NEXT_DIFFICULT_WORD> place <NEXT_DIFFICULT_WORD> only <NEXT_DIFFICULT_WORD> to <NEXT_DIFFICULT_WORD> has <NEXT_DIFFICULT_WORD> exist. <NEXT_DIFFICULT_WORD> confirmed <SENT_START> Earth is the only place in the universe where life has been confirmed to exist.\n",
            "600\n",
            " <NEXT_DIFFICULT_WORD> since <NEXT_DIFFICULT_WORD> A <NEXT_DIFFICULT_WORD> synonym <NEXT_DIFFICULT_WORD> is <NEXT_DIFFICULT_WORD> of <NEXT_DIFFICULT_WORD> cat <NEXT_DIFFICULT_WORD> type <NEXT_DIFFICULT_WORD> macro, <NEXT_DIFFICULT_WORD> image <NEXT_DIFFICULT_WORD> \"lolcat\" <NEXT_DIFFICULT_WORD> for <NEXT_DIFFICULT_WORD> the <NEXT_DIFFICULT_WORD> are <NEXT_DIFFICULT_WORD> a <NEXT_DIFFICULT_WORD> macro. <NEXT_DIFFICULT_WORD> images <SENT_START> A synonym for \"lolcat\" is cat macro, since the images are a type of image macro.\n",
            "700\n",
            " <NEXT_DIFFICULT_WORD> Honecker <NEXT_DIFFICULT_WORD> of <NEXT_DIFFICULT_WORD> took <NEXT_DIFFICULT_WORD> administration <NEXT_DIFFICULT_WORD> in <NEXT_DIFFICULT_WORD> was <NEXT_DIFFICULT_WORD> embassy <NEXT_DIFFICULT_WORD> Yeltsin <NEXT_DIFFICULT_WORD> refuge <NEXT_DIFFICULT_WORD> to <NEXT_DIFFICULT_WORD> 1992. <NEXT_DIFFICULT_WORD> Following <NEXT_DIFFICULT_WORD> December <NEXT_DIFFICULT_WORD> in <NEXT_DIFFICULT_WORD> by <NEXT_DIFFICULT_WORD> dissolution <NEXT_DIFFICULT_WORD> Soviet <NEXT_DIFFICULT_WORD> extradited <NEXT_DIFFICULT_WORD> the <NEXT_DIFFICULT_WORD> the <NEXT_DIFFICULT_WORD> Chilean <NEXT_DIFFICULT_WORD> Union <NEXT_DIFFICULT_WORD> Germany <NEXT_DIFFICULT_WORD> in <NEXT_DIFFICULT_WORD> Moscow, <NEXT_DIFFICULT_WORD> 1991, <NEXT_DIFFICULT_WORD> the <NEXT_DIFFICULT_WORD> but <NEXT_DIFFICULT_WORD> the <NEXT_DIFFICULT_WORD> in <SENT_START> Following the dissolution of the Soviet Union in December 1991, Honecker took refuge in the Chilean embassy in Moscow, but was extradited by the Yeltsin administration to Germany in 1992.\n",
            "800\n",
            " <NEXT_DIFFICULT_WORD> yet <NEXT_DIFFICULT_WORD> Standard <NEXT_DIFFICULT_WORD> is <NEXT_DIFFICULT_WORD> that <NEXT_DIFFICULT_WORD> The <NEXT_DIFFICULT_WORD> only <NEXT_DIFFICULT_WORD> particle <NEXT_DIFFICULT_WORD> not <NEXT_DIFFICULT_WORD> observed. <NEXT_DIFFICULT_WORD> has <NEXT_DIFFICULT_WORD> been <NEXT_DIFFICULT_WORD> Higgs <NEXT_DIFFICULT_WORD> the <NEXT_DIFFICULT_WORD> Model <NEXT_DIFFICULT_WORD> boson <SENT_START> The Higgs boson is the only Standard Model particle that has not yet been observed.\n",
            "900\n",
            " <NEXT_DIFFICULT_WORD> in <NEXT_DIFFICULT_WORD> released <NEXT_DIFFICULT_WORD> download. <NEXT_DIFFICULT_WORD> Reznor <NEXT_DIFFICULT_WORD> free <NEXT_DIFFICULT_WORD> Slip <NEXT_DIFFICULT_WORD> for <NEXT_DIFFICULT_WORD> later <NEXT_DIFFICULT_WORD> The <NEXT_DIFFICULT_WORD> 2008 <SENT_START> Reznor later released The Slip in 2008 for free download.\n",
            "1000\n",
            " <NEXT_DIFFICULT_WORD> an <NEXT_DIFFICULT_WORD> of <NEXT_DIFFICULT_WORD> event <NEXT_DIFFICULT_WORD> Storm <NEXT_DIFFICULT_WORD> was <NEXT_DIFFICULT_WORD> INVEST <NEXT_DIFFICULT_WORD> 91C, <NEXT_DIFFICULT_WORD> 2006. <NEXT_DIFFICULT_WORD> weather <NEXT_DIFFICULT_WORD> unusual <NEXT_DIFFICULT_WORD> or <SENT_START> INVEST or Storm 91C, was an unusual weather event of 2006.\n",
            "1100\n",
            " <NEXT_DIFFICULT_WORD> numerous <NEXT_DIFFICULT_WORD> causing <NEXT_DIFFICULT_WORD> that <NEXT_DIFFICULT_WORD> Florida <NEXT_DIFFICULT_WORD> the <NEXT_DIFFICULT_WORD> tornado <NEXT_DIFFICULT_WORD> of <NEXT_DIFFICULT_WORD> thunderstorm <NEXT_DIFFICULT_WORD> peninsula <NEXT_DIFFICULT_WORD> the <NEXT_DIFFICULT_WORD> warnings. <NEXT_DIFFICULT_WORD> crossed <NEXT_DIFFICULT_WORD> issuance <NEXT_DIFFICULT_WORD> It <NEXT_DIFFICULT_WORD> severe <NEXT_DIFFICULT_WORD> night, <NEXT_DIFFICULT_WORD> and <SENT_START> It crossed the Florida peninsula that night, causing the issuance of numerous severe thunderstorm and tornado warnings.\n",
            "1200\n",
            " <NEXT_DIFFICULT_WORD> 312. <NEXT_DIFFICULT_WORD> on <NEXT_DIFFICULT_WORD> at <NEXT_DIFFICULT_WORD> Maxentius <NEXT_DIFFICULT_WORD> was <NEXT_DIFFICULT_WORD> 28, <NEXT_DIFFICULT_WORD> Bridge <NEXT_DIFFICULT_WORD> Battle <NEXT_DIFFICULT_WORD> erected <NEXT_DIFFICULT_WORD> It <NEXT_DIFFICULT_WORD> to <NEXT_DIFFICULT_WORD> the <NEXT_DIFFICULT_WORD> Constantine <NEXT_DIFFICULT_WORD> commemorate <NEXT_DIFFICULT_WORD> I's <NEXT_DIFFICULT_WORD> October <NEXT_DIFFICULT_WORD> of <NEXT_DIFFICULT_WORD> over <NEXT_DIFFICULT_WORD> Milvian <NEXT_DIFFICULT_WORD> victory <SENT_START> It was erected to commemorate Constantine I's victory over Maxentius at the Battle of Milvian Bridge on October 28, 312.\n",
            "1300\n",
            " <NEXT_DIFFICULT_WORD> Simplon. <NEXT_DIFFICULT_WORD> former <NEXT_DIFFICULT_WORD> was <NEXT_DIFFICULT_WORD> Council <NEXT_DIFFICULT_WORD> Federal <NEXT_DIFFICULT_WORD> in <NEXT_DIFFICULT_WORD> The <NEXT_DIFFICULT_WORD> member <NEXT_DIFFICULT_WORD> of <NEXT_DIFFICULT_WORD> Josef <NEXT_DIFFICULT_WORD> Swiss <NEXT_DIFFICULT_WORD> born <NEXT_DIFFICULT_WORD> Escher <NEXT_DIFFICULT_WORD> the <SENT_START> The former member of the Swiss Federal Council Josef Escher was born in Simplon.\n",
            "1400\n",
            " <NEXT_DIFFICULT_WORD> Zhengzhou <NEXT_DIFFICULT_WORD> populous <NEXT_DIFFICULT_WORD> city. <NEXT_DIFFICULT_WORD> is <NEXT_DIFFICULT_WORD> and <NEXT_DIFFICULT_WORD> capital <NEXT_DIFFICULT_WORD> province's <NEXT_DIFFICULT_WORD> the <NEXT_DIFFICULT_WORD> most <SENT_START> Zhengzhou is the province's capital and most populous city.\n",
            "1500\n",
            " <NEXT_DIFFICULT_WORD> arranged <NEXT_DIFFICULT_WORD> has <NEXT_DIFFICULT_WORD> and <NEXT_DIFFICULT_WORD> film <NEXT_DIFFICULT_WORD> television <NEXT_DIFFICULT_WORD> and <NEXT_DIFFICULT_WORD> composed <NEXT_DIFFICULT_WORD> He <NEXT_DIFFICULT_WORD> productions. <NEXT_DIFFICULT_WORD> 500 <NEXT_DIFFICULT_WORD> for <NEXT_DIFFICULT_WORD> more <NEXT_DIFFICULT_WORD> than <NEXT_DIFFICULT_WORD> scores <SENT_START> He has composed and arranged scores for more than 500 film and television productions.\n",
            "1600\n",
            " <NEXT_DIFFICULT_WORD> is <NEXT_DIFFICULT_WORD> on <NEXT_DIFFICULT_WORD> vegetation <NEXT_DIFFICULT_WORD> upland <NEXT_DIFFICULT_WORD> habitat <NEXT_DIFFICULT_WORD> moor <NEXT_DIFFICULT_WORD> or <NEXT_DIFFICULT_WORD> in <NEXT_DIFFICULT_WORD> found <NEXT_DIFFICULT_WORD> by <NEXT_DIFFICULT_WORD> type <NEXT_DIFFICULT_WORD> low <NEXT_DIFFICULT_WORD> acidic <NEXT_DIFFICULT_WORD> growing <NEXT_DIFFICULT_WORD> Moorland <NEXT_DIFFICULT_WORD> soils. <NEXT_DIFFICULT_WORD> characterised <NEXT_DIFFICULT_WORD> a <NEXT_DIFFICULT_WORD> areas, <NEXT_DIFFICULT_WORD> of <SENT_START> Moorland or moor is a type of habitat found in upland areas, characterised by low growing vegetation on acidic soils.\n",
            "1700\n",
            " <NEXT_DIFFICULT_WORD> a <NEXT_DIFFICULT_WORD> vibrato. <NEXT_DIFFICULT_WORD> and <NEXT_DIFFICULT_WORD> distinctively <NEXT_DIFFICULT_WORD> 5, <NEXT_DIFFICULT_WORD> has <NEXT_DIFFICULT_WORD> a <NEXT_DIFFICULT_WORD> vocal <NEXT_DIFFICULT_WORD> rapid <NEXT_DIFFICULT_WORD> range <NEXT_DIFFICULT_WORD> 2008 <NEXT_DIFFICULT_WORD> August <NEXT_DIFFICULT_WORD> three-octave <NEXT_DIFFICULT_WORD> Accessed <NEXT_DIFFICULT_WORD> She <SENT_START> She has a three-octave vocal range Accessed August 5, 2008 and a distinctively rapid vibrato.\n",
            "1800\n",
            " <NEXT_DIFFICULT_WORD> On <NEXT_DIFFICULT_WORD> 2004, <NEXT_DIFFICULT_WORD> the <NEXT_DIFFICULT_WORD> that <NEXT_DIFFICULT_WORD> website <NEXT_DIFFICULT_WORD> 17, <NEXT_DIFFICULT_WORD> shooting <NEXT_DIFFICULT_WORD> September <NEXT_DIFFICULT_WORD> movie's <NEXT_DIFFICULT_WORD> announced <NEXT_DIFFICULT_WORD> had <NEXT_DIFFICULT_WORD> Whedon <NEXT_DIFFICULT_WORD> completed. <NEXT_DIFFICULT_WORD> official <NEXT_DIFFICULT_WORD> on <NEXT_DIFFICULT_WORD> been <SENT_START> On September 17, 2004, Whedon announced on the movie's official website that shooting had been completed.\n",
            "1900\n",
            " <NEXT_DIFFICULT_WORD> Salamanders <NEXT_DIFFICULT_WORD> a <NEXT_DIFFICULT_WORD> long <NEXT_DIFFICULT_WORD> very <NEXT_DIFFICULT_WORD> Fire <NEXT_DIFFICULT_WORD> lifespan. <NEXT_DIFFICULT_WORD> can <NEXT_DIFFICULT_WORD> have <SENT_START> Fire Salamanders can have a very long lifespan.\n",
            "0\n",
            " <NEXT_DIFFICULT_WORD> from <NEXT_DIFFICULT_WORD> Sudan. <NEXT_DIFFICULT_WORD> of <NEXT_DIFFICULT_WORD> Sudanese <NEXT_DIFFICULT_WORD> of <NEXT_DIFFICULT_WORD> the <NEXT_DIFFICULT_WORD> is <NEXT_DIFFICULT_WORD> and <NEXT_DIFFICULT_WORD> Abbala <NEXT_DIFFICULT_WORD> Janjaweed, <NEXT_DIFFICULT_WORD> military <NEXT_DIFFICULT_WORD> One <NEXT_DIFFICULT_WORD> side <NEXT_DIFFICULT_WORD> mostly <NEXT_DIFFICULT_WORD> Afro-Arab <NEXT_DIFFICULT_WORD> group <NEXT_DIFFICULT_WORD> the <NEXT_DIFFICULT_WORD> armed <NEXT_DIFFICULT_WORD> mainly <NEXT_DIFFICULT_WORD> the <NEXT_DIFFICULT_WORD> the <NEXT_DIFFICULT_WORD> tribes <NEXT_DIFFICULT_WORD> a <NEXT_DIFFICULT_WORD> Sudanese <NEXT_DIFFICULT_WORD> northern <NEXT_DIFFICULT_WORD> recruited <NEXT_DIFFICULT_WORD> region <NEXT_DIFFICULT_WORD> the <NEXT_DIFFICULT_WORD> militia <NEXT_DIFFICULT_WORD> of <NEXT_DIFFICULT_WORD> conflicts <NEXT_DIFFICULT_WORD> composed <NEXT_DIFFICULT_WORD> in <NEXT_DIFFICULT_WORD> Rizeigat <SENT_START> One side of the armed conflicts is composed mainly of the Sudanese military and the Janjaweed, a Sudanese militia group recruited mostly from the Afro-Arab Abbala tribes of the northern Rizeigat region in Sudan.\n",
            "100\n",
            " <NEXT_DIFFICULT_WORD> to <NEXT_DIFFICULT_WORD> to <NEXT_DIFFICULT_WORD> dislodge <NEXT_DIFFICULT_WORD> meal. <NEXT_DIFFICULT_WORD> food <NEXT_DIFFICULT_WORD> itself <NEXT_DIFFICULT_WORD> wait <NEXT_DIFFICULT_WORD> then <NEXT_DIFFICULT_WORD> the <NEXT_DIFFICULT_WORD> digest <NEXT_DIFFICULT_WORD> for <NEXT_DIFFICULT_WORD> bed <NEXT_DIFFICULT_WORD> It <NEXT_DIFFICULT_WORD> back <NEXT_DIFFICULT_WORD> order <NEXT_DIFFICULT_WORD> sink <NEXT_DIFFICULT_WORD> and <NEXT_DIFFICULT_WORD> its <NEXT_DIFFICULT_WORD> in <NEXT_DIFFICULT_WORD> its <NEXT_DIFFICULT_WORD> river <NEXT_DIFFICULT_WORD> next <NEXT_DIFFICULT_WORD> and <NEXT_DIFFICULT_WORD> will <SENT_START> It will then dislodge itself and sink back to the river bed in order to digest its food and wait for its next meal.\n",
            "200\n",
            " <NEXT_DIFFICULT_WORD> on <NEXT_DIFFICULT_WORD> the <NEXT_DIFFICULT_WORD> but <NEXT_DIFFICULT_WORD> been <NEXT_DIFFICULT_WORD> bodies. <NEXT_DIFFICULT_WORD> by <NEXT_DIFFICULT_WORD> rejected <NEXT_DIFFICULT_WORD> mainstream <NEXT_DIFFICULT_WORD> were <NEXT_DIFFICULT_WORD> subject <NEXT_DIFFICULT_WORD> throughout <NEXT_DIFFICULT_WORD> (see <NEXT_DIFFICULT_WORD> proposed <NEXT_DIFFICULT_WORD> have <NEXT_DIFFICULT_WORD> below), <NEXT_DIFFICULT_WORD> all <NEXT_DIFFICULT_WORD> centuries <NEXT_DIFFICULT_WORD> Christian <NEXT_DIFFICULT_WORD> views <NEXT_DIFFICULT_WORD> the <NEXT_DIFFICULT_WORD> Alternative <SENT_START> Alternative views on the subject have been proposed throughout the centuries (see below), but all were rejected by mainstream Christian bodies.\n",
            "300\n",
            " <NEXT_DIFFICULT_WORD> Speaking\". <NEXT_DIFFICULT_WORD> album <NEXT_DIFFICULT_WORD> n't <NEXT_DIFFICULT_WORD> included <NEXT_DIFFICULT_WORD> The <NEXT_DIFFICULT_WORD> and <NEXT_DIFFICULT_WORD> singles <NEXT_DIFFICULT_WORD> Stop\", <NEXT_DIFFICULT_WORD> \"The <NEXT_DIFFICULT_WORD> \"By <NEXT_DIFFICULT_WORD> Zephyr <NEXT_DIFFICULT_WORD> from <NEXT_DIFFICULT_WORD> \"Ca <NEXT_DIFFICULT_WORD> the <NEXT_DIFFICULT_WORD> \"Universally <NEXT_DIFFICULT_WORD> the <NEXT_DIFFICULT_WORD> Way\", <NEXT_DIFFICULT_WORD> \"Dosed\" <NEXT_DIFFICULT_WORD> Song\", <SENT_START> The singles from the album included \"By the Way\", \"The Zephyr Song\", \"Ca n't Stop\", \"Dosed\" and \"Universally Speaking\".\n"
          ]
        }
      ]
    },
    {
      "cell_type": "code",
      "metadata": {
        "id": "gJBaOMPEGEqJ"
      },
      "source": [
        ""
      ],
      "id": "gJBaOMPEGEqJ",
      "execution_count": null,
      "outputs": []
    },
    {
      "cell_type": "code",
      "metadata": {
        "id": "hP_JoyTFGEqL"
      },
      "source": [
        ""
      ],
      "id": "hP_JoyTFGEqL",
      "execution_count": null,
      "outputs": []
    },
    {
      "cell_type": "code",
      "metadata": {
        "id": "4PHtu1Q3GEqM"
      },
      "source": [
        ""
      ],
      "id": "4PHtu1Q3GEqM",
      "execution_count": null,
      "outputs": []
    },
    {
      "cell_type": "code",
      "metadata": {
        "id": "jGow2Q2JGEqM"
      },
      "source": [
        ""
      ],
      "id": "jGow2Q2JGEqM",
      "execution_count": null,
      "outputs": []
    },
    {
      "cell_type": "code",
      "metadata": {
        "id": "Jvu68BrnGEqN"
      },
      "source": [
        ""
      ],
      "id": "Jvu68BrnGEqN",
      "execution_count": null,
      "outputs": []
    },
    {
      "cell_type": "code",
      "metadata": {
        "id": "4Ewj5qSCGEqN"
      },
      "source": [
        ""
      ],
      "id": "4Ewj5qSCGEqN",
      "execution_count": null,
      "outputs": []
    },
    {
      "cell_type": "code",
      "metadata": {
        "id": "nb1bIjqUGEqO"
      },
      "source": [
        ""
      ],
      "id": "nb1bIjqUGEqO",
      "execution_count": null,
      "outputs": []
    },
    {
      "cell_type": "code",
      "metadata": {
        "id": "rzM-5rr6GEqP"
      },
      "source": [
        ""
      ],
      "id": "rzM-5rr6GEqP",
      "execution_count": null,
      "outputs": []
    },
    {
      "cell_type": "markdown",
      "metadata": {
        "id": "UC4XKqvQ7U7V"
      },
      "source": [
        "# opeartion pererving + lexical simplifition\n"
      ],
      "id": "UC4XKqvQ7U7V"
    },
    {
      "cell_type": "code",
      "metadata": {
        "colab": {
          "base_uri": "https://localhost:8080/",
          "height": 17
        },
        "id": "RTISgn6-7WVm",
        "outputId": "50887e44-0c7a-40dc-cb3c-3c138592a4d6"
      },
      "source": [
        "FINAL_VALID_DF = pd.read_pickle(\"/content/drive/MyDrive/muss/qualitative/asset_ABCD_valid_0911\")\n",
        "FINAL_TEST_DF = pd.read_pickle(\"/content/drive/MyDrive/muss/qualitative/asset_ABCD_test_0911\")\n"
      ],
      "id": "RTISgn6-7WVm",
      "execution_count": null,
      "outputs": [
        {
          "output_type": "display_data",
          "data": {
            "text/html": [
              "\n",
              "  <style>\n",
              "    pre {\n",
              "        white-space: pre-wrap;\n",
              "    }\n",
              "  </style>\n",
              "  "
            ],
            "text/plain": [
              "<IPython.core.display.HTML object>"
            ]
          },
          "metadata": {}
        }
      ]
    },
    {
      "cell_type": "code",
      "metadata": {
        "colab": {
          "base_uri": "https://localhost:8080/",
          "height": 597
        },
        "id": "rCSBRkwF7W1b",
        "outputId": "438d7095-5971-4b3f-ad3d-c219d7eb5b6e"
      },
      "source": [
        "FINAL_VALID_DF"
      ],
      "id": "rCSBRkwF7W1b",
      "execution_count": null,
      "outputs": [
        {
          "output_type": "display_data",
          "data": {
            "text/html": [
              "\n",
              "  <style>\n",
              "    pre {\n",
              "        white-space: pre-wrap;\n",
              "    }\n",
              "  </style>\n",
              "  "
            ],
            "text/plain": [
              "<IPython.core.display.HTML object>"
            ]
          },
          "metadata": {}
        },
        {
          "output_type": "execute_result",
          "data": {
            "text/html": [
              "<div>\n",
              "<style scoped>\n",
              "    .dataframe tbody tr th:only-of-type {\n",
              "        vertical-align: middle;\n",
              "    }\n",
              "\n",
              "    .dataframe tbody tr th {\n",
              "        vertical-align: top;\n",
              "    }\n",
              "\n",
              "    .dataframe thead th {\n",
              "        text-align: right;\n",
              "    }\n",
              "</style>\n",
              "<table border=\"1\" class=\"dataframe\">\n",
              "  <thead>\n",
              "    <tr style=\"text-align: right;\">\n",
              "      <th></th>\n",
              "      <th>ori_text</th>\n",
              "      <th>NER_complex</th>\n",
              "      <th>NER_simple</th>\n",
              "      <th>complex_words</th>\n",
              "      <th>C2C1B2_in_complex</th>\n",
              "    </tr>\n",
              "  </thead>\n",
              "  <tbody>\n",
              "    <tr>\n",
              "      <th>0</th>\n",
              "      <td>Adjacent counties are Marin (to the south), Me...</td>\n",
              "      <td>[Contra Costa, Mendocino, Adjacent, Solano, Ma...</td>\n",
              "      <td>[Mendocino, Lake, Contra Costa, Adjacent, Sola...</td>\n",
              "      <td>[{'id': 1, 'text': 'Adjacent', 'start_idx': 0,...</td>\n",
              "      <td>[counties]</td>\n",
              "    </tr>\n",
              "    <tr>\n",
              "      <th>1</th>\n",
              "      <td>A Georgian inscription around the drum attests...</td>\n",
              "      <td>[Georgian]</td>\n",
              "      <td>[Georgian]</td>\n",
              "      <td>[{'id': 1, 'text': 'A', 'start_idx': 0, 'end_i...</td>\n",
              "      <td>[attests]</td>\n",
              "    </tr>\n",
              "    <tr>\n",
              "      <th>2</th>\n",
              "      <td>They would later return to the revived series ...</td>\n",
              "      <td>[Christmas Special \"The Next Doctor, the Cyber...</td>\n",
              "      <td>[Christmas Special \"The Next Doctor, the Cyber...</td>\n",
              "      <td>[{'id': 1, 'text': 'They', 'start_idx': 0, 'en...</td>\n",
              "      <td>[revived]</td>\n",
              "    </tr>\n",
              "    <tr>\n",
              "      <th>3</th>\n",
              "      <td>Jameson's autobiography, How to Make Love Like...</td>\n",
              "      <td>[A Cautionary Tale, August 17, 2004, Make Love...</td>\n",
              "      <td>[A Cautionary Tale, August 17, 2004, Make Love...</td>\n",
              "      <td>[{'id': 1, 'text': 'Jameson', 'start_idx': 0, ...</td>\n",
              "      <td>NaN</td>\n",
              "    </tr>\n",
              "    <tr>\n",
              "      <th>4</th>\n",
              "      <td>It is particularly famous for the cultivation ...</td>\n",
              "      <td>[]</td>\n",
              "      <td>[]</td>\n",
              "      <td>[{'id': 1, 'text': 'It', 'start_idx': 0, 'end_...</td>\n",
              "      <td>[cultivation]</td>\n",
              "    </tr>\n",
              "    <tr>\n",
              "      <th>...</th>\n",
              "      <td>...</td>\n",
              "      <td>...</td>\n",
              "      <td>...</td>\n",
              "      <td>...</td>\n",
              "      <td>...</td>\n",
              "    </tr>\n",
              "    <tr>\n",
              "      <th>1995</th>\n",
              "      <td>On the 15 November 2003 a Sprinter train trave...</td>\n",
              "      <td>[November 2003, Sprinter, Ballarat, Ballan, Go...</td>\n",
              "      <td>[November 15, 2003, November 2003, Ballarat, S...</td>\n",
              "      <td>[{'id': 1, 'text': 'On', 'start_idx': 0, 'end_...</td>\n",
              "      <td>[derailed, stationary]</td>\n",
              "    </tr>\n",
              "    <tr>\n",
              "      <th>1996</th>\n",
              "      <td>A console manufacturer is a company that manuf...</td>\n",
              "      <td>[]</td>\n",
              "      <td>[]</td>\n",
              "      <td>[{'id': 1, 'text': 'A', 'start_idx': 0, 'end_i...</td>\n",
              "      <td>[console, manufacturer, manufactures, distribu...</td>\n",
              "    </tr>\n",
              "    <tr>\n",
              "      <th>1997</th>\n",
              "      <td>Links with poverty and crime Those who are fun...</td>\n",
              "      <td>[Links]</td>\n",
              "      <td>[Links]</td>\n",
              "      <td>[{'id': 1, 'text': 'Links', 'start_idx': 0, 'e...</td>\n",
              "      <td>[poverty, crime, functionally, illiterate, int...</td>\n",
              "    </tr>\n",
              "    <tr>\n",
              "      <th>1998</th>\n",
              "      <td>The term \"union council\" may be used for local...</td>\n",
              "      <td>[]</td>\n",
              "      <td>[]</td>\n",
              "      <td>[{'id': 1, 'text': 'The', 'start_idx': 0, 'end...</td>\n",
              "      <td>[localities]</td>\n",
              "    </tr>\n",
              "    <tr>\n",
              "      <th>1999</th>\n",
              "      <td>Modern African history has been rife with revo...</td>\n",
              "      <td>[Modern African]</td>\n",
              "      <td>[Modern African]</td>\n",
              "      <td>[{'id': 1, 'text': 'Modern', 'start_idx': 0, '...</td>\n",
              "      <td>[rife, revolutions, growth, economies, democra...</td>\n",
              "    </tr>\n",
              "  </tbody>\n",
              "</table>\n",
              "<p>2000 rows × 5 columns</p>\n",
              "</div>"
            ],
            "text/plain": [
              "                                               ori_text  ...                                  C2C1B2_in_complex\n",
              "0     Adjacent counties are Marin (to the south), Me...  ...                                         [counties]\n",
              "1     A Georgian inscription around the drum attests...  ...                                          [attests]\n",
              "2     They would later return to the revived series ...  ...                                          [revived]\n",
              "3     Jameson's autobiography, How to Make Love Like...  ...                                                NaN\n",
              "4     It is particularly famous for the cultivation ...  ...                                      [cultivation]\n",
              "...                                                 ...  ...                                                ...\n",
              "1995  On the 15 November 2003 a Sprinter train trave...  ...                             [derailed, stationary]\n",
              "1996  A console manufacturer is a company that manuf...  ...  [console, manufacturer, manufactures, distribu...\n",
              "1997  Links with poverty and crime Those who are fun...  ...  [poverty, crime, functionally, illiterate, int...\n",
              "1998  The term \"union council\" may be used for local...  ...                                       [localities]\n",
              "1999  Modern African history has been rife with revo...  ...  [rife, revolutions, growth, economies, democra...\n",
              "\n",
              "[2000 rows x 5 columns]"
            ]
          },
          "metadata": {},
          "execution_count": 6
        }
      ]
    },
    {
      "cell_type": "markdown",
      "metadata": {
        "id": "4BgDbmKnGTh7"
      },
      "source": [
        "## create dataset (all in prefix)"
      ],
      "id": "4BgDbmKnGTh7"
    },
    {
      "cell_type": "code",
      "metadata": {
        "colab": {
          "base_uri": "https://localhost:8080/",
          "height": 17
        },
        "id": "O7WP-hjf7Wyr",
        "outputId": "f3c08242-2d05-42cd-9627-d10568e50b98"
      },
      "source": [
        "target_dir = '/content/drive/MyDrive/muss/resources/datasets/asset_ABCD_NER'\n",
        "!mkdir $target_dir"
      ],
      "id": "O7WP-hjf7Wyr",
      "execution_count": null,
      "outputs": [
        {
          "output_type": "display_data",
          "data": {
            "text/html": [
              "\n",
              "  <style>\n",
              "    pre {\n",
              "        white-space: pre-wrap;\n",
              "    }\n",
              "  </style>\n",
              "  "
            ],
            "text/plain": [
              "<IPython.core.display.HTML object>"
            ]
          },
          "metadata": {}
        }
      ]
    },
    {
      "cell_type": "code",
      "metadata": {
        "colab": {
          "base_uri": "https://localhost:8080/",
          "height": 17
        },
        "id": "FuZyfXaa7WwN",
        "outputId": "366745b2-a0ed-4f0c-8ea7-9ec0fe617a57"
      },
      "source": [
        "data_names = ['valid_complex','test_complex']"
      ],
      "id": "FuZyfXaa7WwN",
      "execution_count": null,
      "outputs": [
        {
          "output_type": "display_data",
          "data": {
            "text/html": [
              "\n",
              "  <style>\n",
              "    pre {\n",
              "        white-space: pre-wrap;\n",
              "    }\n",
              "  </style>\n",
              "  "
            ],
            "text/plain": [
              "<IPython.core.display.HTML object>"
            ]
          },
          "metadata": {}
        }
      ]
    },
    {
      "cell_type": "code",
      "metadata": {
        "colab": {
          "base_uri": "https://localhost:8080/",
          "height": 17
        },
        "id": "S4j7HttH9LOZ",
        "outputId": "e60802c9-2b65-4b43-862b-e4f9cdbd89bb"
      },
      "source": [
        "df_list = ['FINAL_VALID_DF','FINAL_TEST_DF']"
      ],
      "id": "S4j7HttH9LOZ",
      "execution_count": null,
      "outputs": [
        {
          "output_type": "display_data",
          "data": {
            "text/html": [
              "\n",
              "  <style>\n",
              "    pre {\n",
              "        white-space: pre-wrap;\n",
              "    }\n",
              "  </style>\n",
              "  "
            ],
            "text/plain": [
              "<IPython.core.display.HTML object>"
            ]
          },
          "metadata": {}
        }
      ]
    },
    {
      "cell_type": "code",
      "metadata": {
        "colab": {
          "base_uri": "https://localhost:8080/",
          "height": 72
        },
        "id": "hRMDrCaL7Wtc",
        "outputId": "18fb1e6e-c45a-489b-a7f3-c8a8d731d037"
      },
      "source": [
        "for index,data_name in enumerate(data_names):\n",
        "\n",
        "  chosen_df = globals()[df_list[index]]\n",
        "  file_name = data_name.replace('_','.')\n",
        "\n",
        "  \n",
        "  with open(target_dir+'/'+file_name, 'w') as f:\n",
        "\n",
        "    for index, row in chosen_df.iterrows():\n",
        "\n",
        "        sentence = row.ori_text\n",
        "        NER = row.NER_simple\n",
        "        hard_word = row.C2C1B2_in_complex\n",
        "\n",
        "        if not isinstance(hard_word, float):\n",
        "\n",
        "          sentence_w_control_token = \" <NEXT_NE> \"+\" <NEXT_NE> \".join(NER)+\" <NEXT_DIFFICULT_WORD> \"+\" <NEXT_DIFFICULT_WORD> \".join(hard_word)+ \" <SENT_START> \" + sentence\n",
        "\n",
        "          if index%10000==0:\n",
        "              print(index)\n",
        "              print(sentence_w_control_token)\n",
        "\n",
        "          f.write(\"{}\\n\".format(sentence_w_control_token))\n",
        "\n",
        "        # break\n",
        "\n",
        "  f.close()\n"
      ],
      "id": "hRMDrCaL7Wtc",
      "execution_count": null,
      "outputs": [
        {
          "output_type": "display_data",
          "data": {
            "text/html": [
              "\n",
              "  <style>\n",
              "    pre {\n",
              "        white-space: pre-wrap;\n",
              "    }\n",
              "  </style>\n",
              "  "
            ],
            "text/plain": [
              "<IPython.core.display.HTML object>"
            ]
          },
          "metadata": {}
        },
        {
          "output_type": "stream",
          "name": "stdout",
          "text": [
            "0\n",
            " <NEXT_NE> Mendocino, Lake <NEXT_NE> Contra Costa <NEXT_NE> Adjacent <NEXT_NE> Solano <NEXT_NE> Marin <NEXT_NE> Napa <NEXT_DIFFICULT_WORD> counties <SENT_START> Adjacent counties are Marin (to the south), Mendocino (to the north), Lake (northeast), Napa (to the east), and Solano and Contra Costa (to the southeast).\n"
          ]
        }
      ]
    },
    {
      "cell_type": "code",
      "metadata": {
        "colab": {
          "base_uri": "https://localhost:8080/",
          "height": 17
        },
        "id": "j0Hsq30E7Wqy",
        "outputId": "1f220e06-caa0-4aad-e16a-de00336a9a75"
      },
      "source": [
        "data_names = ['test_complex']"
      ],
      "id": "j0Hsq30E7Wqy",
      "execution_count": null,
      "outputs": [
        {
          "output_type": "display_data",
          "data": {
            "text/html": [
              "\n",
              "  <style>\n",
              "    pre {\n",
              "        white-space: pre-wrap;\n",
              "    }\n",
              "  </style>\n",
              "  "
            ],
            "text/plain": [
              "<IPython.core.display.HTML object>"
            ]
          },
          "metadata": {}
        }
      ]
    },
    {
      "cell_type": "code",
      "metadata": {
        "colab": {
          "base_uri": "https://localhost:8080/",
          "height": 17
        },
        "id": "xzyc0CxX7Wn-",
        "outputId": "41737b2b-c7db-461b-f768-0f3ef140103a"
      },
      "source": [
        "df_list = ['FINAL_TEST_DF']"
      ],
      "id": "xzyc0CxX7Wn-",
      "execution_count": null,
      "outputs": [
        {
          "output_type": "display_data",
          "data": {
            "text/html": [
              "\n",
              "  <style>\n",
              "    pre {\n",
              "        white-space: pre-wrap;\n",
              "    }\n",
              "  </style>\n",
              "  "
            ],
            "text/plain": [
              "<IPython.core.display.HTML object>"
            ]
          },
          "metadata": {}
        }
      ]
    },
    {
      "cell_type": "code",
      "metadata": {
        "colab": {
          "base_uri": "https://localhost:8080/",
          "height": 146
        },
        "id": "8hwUikYq7WlZ",
        "outputId": "d134d614-516b-4cd3-d872-bc837031a7a5"
      },
      "source": [
        "for index,data_name in enumerate(data_names):\n",
        "\n",
        "  chosen_df = globals()[df_list[index]]\n",
        "  file_name = data_name.replace('_','.')\n",
        "\n",
        "  \n",
        "  with open(target_dir+'/'+file_name, 'w') as f:\n",
        "\n",
        "    for index, row in chosen_df.iterrows():\n",
        "\n",
        "        sentence = row.ori_text\n",
        "        NER = row.NER_simple\n",
        "        hard_word = row.C2C1B2_in_complex\n",
        "\n",
        "        if isinstance(hard_word, float):\n",
        "          hard_word=[]\n",
        "\n",
        "        sentence_w_control_token = \" <NEXT_NE> \"+\" <NEXT_NE> \".join(NER)+\" <NEXT_DIFFICULT_WORD> \"+\" <NEXT_DIFFICULT_WORD> \".join(hard_word)+ \" <SENT_START> \" + sentence\n",
        "\n",
        "\n",
        "        if index%10000==0:\n",
        "            print(index)\n",
        "            print(sentence_w_control_token)\n",
        "\n",
        "        f.write(\"{}\\n\".format(sentence_w_control_token))\n",
        "\n",
        "        # break\n",
        "\n",
        "  f.close()\n"
      ],
      "id": "8hwUikYq7WlZ",
      "execution_count": null,
      "outputs": [
        {
          "output_type": "display_data",
          "data": {
            "text/html": [
              "\n",
              "  <style>\n",
              "    pre {\n",
              "        white-space: pre-wrap;\n",
              "    }\n",
              "  </style>\n",
              "  "
            ],
            "text/plain": [
              "<IPython.core.display.HTML object>"
            ]
          },
          "metadata": {}
        },
        {
          "output_type": "stream",
          "name": "stdout",
          "text": [
            "0\n",
            " <NEXT_NE> Mendocino, Lake <NEXT_NE> Contra Costa <NEXT_NE> Adjacent <NEXT_NE> Solano <NEXT_NE> Marin <NEXT_NE> Napa <NEXT_DIFFICULT_WORD> counties <SENT_START> Adjacent counties are Marin (to the south), Mendocino (to the north), Lake (northeast), Napa (to the east), and Solano and Contra Costa (to the southeast).\n",
            "0\n",
            " <NEXT_NE> Afro-Arab Abbala <NEXT_NE> The Janjaweed <NEXT_NE> Rizeigat <NEXT_NE> Sudanese <NEXT_DIFFICULT_WORD> conflicts <NEXT_DIFFICULT_WORD> mainly <NEXT_DIFFICULT_WORD> militia <NEXT_DIFFICULT_WORD> mostly <NEXT_DIFFICULT_WORD> tribes <SENT_START> One side of the armed conflicts is composed mainly of the Sudanese military and the Janjaweed, a Sudanese militia group recruited mostly from the Afro-Arab Abbala tribes of the northern Rizeigat region in Sudan.\n"
          ]
        }
      ]
    },
    {
      "cell_type": "code",
      "metadata": {
        "id": "7TI8trBh-tTG"
      },
      "source": [
        ""
      ],
      "id": "7TI8trBh-tTG",
      "execution_count": null,
      "outputs": []
    },
    {
      "cell_type": "code",
      "metadata": {
        "id": "GTyAU5lQ-tQA"
      },
      "source": [
        ""
      ],
      "id": "GTyAU5lQ-tQA",
      "execution_count": null,
      "outputs": []
    },
    {
      "cell_type": "code",
      "metadata": {
        "id": "yVXiC0do-tM3"
      },
      "source": [
        ""
      ],
      "id": "yVXiC0do-tM3",
      "execution_count": null,
      "outputs": []
    },
    {
      "cell_type": "code",
      "metadata": {
        "id": "7An4Gdbz-tJv"
      },
      "source": [
        ""
      ],
      "id": "7An4Gdbz-tJv",
      "execution_count": null,
      "outputs": []
    },
    {
      "cell_type": "markdown",
      "metadata": {
        "id": "QkH62TLq_cEe"
      },
      "source": [
        "## dataset with differnt number of NER & ABCD"
      ],
      "id": "QkH62TLq_cEe"
    },
    {
      "cell_type": "code",
      "metadata": {
        "colab": {
          "base_uri": "https://localhost:8080/",
          "height": 35
        },
        "id": "GcaWpbFEB73I",
        "outputId": "e33a5ee7-7c7b-4bea-afca-67899aa072c2"
      },
      "source": [
        "data_names,df_list"
      ],
      "id": "GcaWpbFEB73I",
      "execution_count": null,
      "outputs": [
        {
          "output_type": "display_data",
          "data": {
            "text/html": [
              "\n",
              "  <style>\n",
              "    pre {\n",
              "        white-space: pre-wrap;\n",
              "    }\n",
              "  </style>\n",
              "  "
            ],
            "text/plain": [
              "<IPython.core.display.HTML object>"
            ]
          },
          "metadata": {}
        },
        {
          "output_type": "execute_result",
          "data": {
            "text/plain": [
              "(['test_complex'], ['FINAL_TEST_DF'])"
            ]
          },
          "metadata": {},
          "execution_count": 24
        }
      ]
    },
    {
      "cell_type": "code",
      "metadata": {
        "colab": {
          "base_uri": "https://localhost:8080/",
          "height": 17
        },
        "id": "beWrXuNK_cEj",
        "outputId": "c250b24f-517f-448b-980c-3bb891a21464"
      },
      "source": [
        "def make_dataset(folder_name,data_names,num_NE,num_ABCD):\n",
        "    \n",
        "    target_dir = '/content/drive/MyDrive/muss/resources/datasets/'+folder_name\n",
        "    os.makedirs(target_dir)#,exist_ok=True)\n",
        "\n",
        "    for index,data_name in enumerate(data_names):\n",
        "        df = globals()[df_list[index]]\n",
        "        file_name = data_name.replace('_','.')  \n",
        "\n",
        "        with open(target_dir+'/'+file_name, 'w') as f:\n",
        "          for index, row in df.iterrows():\n",
        "\n",
        "            sentence = row.ori_text\n",
        "            NER = row.NER_simple\n",
        "            hard_word = row.C2C1B2_in_complex\n",
        "\n",
        "            if isinstance(hard_word, float):\n",
        "              hard_word=[]\n",
        "            \n",
        "            if num_ABCD == 'all':\n",
        "              # fix num ABCD word and change number of NE\n",
        "\n",
        "              if len(NER) != 0:\n",
        "                NE_remained = NER[:num_NE]\n",
        "                sentence_w_control_token = \" <NEXT_NE> \"+\" <NEXT_NE> \".join(NE_remained)+\" <NEXT_DIFFICULT_WORD> \"+\" <NEXT_DIFFICULT_WORD> \".join(hard_word)+ \" <SENT_START> \" + sentence\n",
        "              else:\n",
        "                sentence_w_control_token = \" <NEXT_NE> \"+\" <NEXT_DIFFICULT_WORD> \"+\" <NEXT_DIFFICULT_WORD> \".join(hard_word)+ \" <SENT_START> \" + sentence\n",
        "            \n",
        "            elif num_NE == 'all':\n",
        "              # fix num NE and change number of ABCD word\n",
        "              if len(hard_word) != 0:\n",
        "                hard_word_remained = hard_word[:num_ABCD]\n",
        "                sentence_w_control_token = \" <NEXT_NE> \"+\" <NEXT_NE> \".join(NER)+\" <NEXT_DIFFICULT_WORD> \"+\" <NEXT_DIFFICULT_WORD> \".join(hard_word_remained)+ \" <SENT_START> \" + sentence\n",
        "              else:\n",
        "                sentence_w_control_token = \" <NEXT_NE> \"+\" <NEXT_NE> \".join(NER)+\" <NEXT_DIFFICULT_WORD> \"+\" <SENT_START> \" + sentence\n",
        "\n",
        "\n",
        "            if index%100==0:\n",
        "                print(index)\n",
        "                print(sentence_w_control_token)\n",
        "\n",
        "            f.write(\"{}\\n\".format(sentence_w_control_token))\n",
        "        \n",
        "\n",
        "        f.close()\n"
      ],
      "id": "beWrXuNK_cEj",
      "execution_count": null,
      "outputs": [
        {
          "output_type": "display_data",
          "data": {
            "text/html": [
              "\n",
              "  <style>\n",
              "    pre {\n",
              "        white-space: pre-wrap;\n",
              "    }\n",
              "  </style>\n",
              "  "
            ],
            "text/plain": [
              "<IPython.core.display.HTML object>"
            ]
          },
          "metadata": {}
        }
      ]
    },
    {
      "cell_type": "code",
      "metadata": {
        "colab": {
          "base_uri": "https://localhost:8080/",
          "height": 256
        },
        "id": "97i5Lnrn_cEm",
        "outputId": "ab7f5cd7-1c5d-4478-e681-f0b5ccf0b224"
      },
      "source": [
        "make_dataset('asset_ABCD_NER_fix_NE_6CERF',data_names,'all',6)"
      ],
      "id": "97i5Lnrn_cEm",
      "execution_count": null,
      "outputs": [
        {
          "output_type": "display_data",
          "data": {
            "text/html": [
              "\n",
              "  <style>\n",
              "    pre {\n",
              "        white-space: pre-wrap;\n",
              "    }\n",
              "  </style>\n",
              "  "
            ],
            "text/plain": [
              "<IPython.core.display.HTML object>"
            ]
          },
          "metadata": {}
        },
        {
          "output_type": "stream",
          "name": "stdout",
          "text": [
            "0\n",
            " <NEXT_NE> Afro-Arab Abbala <NEXT_NE> The Janjaweed <NEXT_NE> Rizeigat <NEXT_NE> Sudanese <NEXT_DIFFICULT_WORD> conflicts <NEXT_DIFFICULT_WORD> mainly <NEXT_DIFFICULT_WORD> militia <NEXT_DIFFICULT_WORD> mostly <NEXT_DIFFICULT_WORD> tribes <SENT_START> One side of the armed conflicts is composed mainly of the Sudanese military and the Janjaweed, a Sudanese militia group recruited mostly from the Afro-Arab Abbala tribes of the northern Rizeigat region in Sudan.\n",
            "100\n",
            " <NEXT_NE>  <NEXT_DIFFICULT_WORD> dislodge <NEXT_DIFFICULT_WORD> sink <NEXT_DIFFICULT_WORD> digest <SENT_START> It will then dislodge itself and sink back to the river bed in order to digest its food and wait for its next meal.\n",
            "200\n",
            " <NEXT_NE> the centuries <NEXT_NE> Christian <NEXT_DIFFICULT_WORD> proposed <NEXT_DIFFICULT_WORD> rejected <NEXT_DIFFICULT_WORD> mainstream <SENT_START> Alternative views on the subject have been proposed throughout the centuries (see below), but all were rejected by mainstream Christian bodies.\n",
            "300\n",
            " <NEXT_NE> Universally Speaking <NEXT_NE> The Zephyr Song <NEXT_NE> Ca n't Stop <NEXT_NE> By the Way <NEXT_NE> Can't Stop <NEXT_NE> Dosed <NEXT_DIFFICULT_WORD>  <SENT_START> The singles from the album included \"By the Way\", \"The Zephyr Song\", \"Ca n't Stop\", \"Dosed\" and \"Universally Speaking\".\n"
          ]
        }
      ]
    },
    {
      "cell_type": "code",
      "metadata": {
        "id": "npdh1Shb_cEq"
      },
      "source": [
        ""
      ],
      "id": "npdh1Shb_cEq",
      "execution_count": null,
      "outputs": []
    },
    {
      "cell_type": "code",
      "metadata": {
        "id": "E1we5fHO_cEr"
      },
      "source": [
        ""
      ],
      "id": "E1we5fHO_cEr",
      "execution_count": null,
      "outputs": []
    },
    {
      "cell_type": "code",
      "metadata": {
        "id": "LQKgbxDY_cEs"
      },
      "source": [
        ""
      ],
      "id": "LQKgbxDY_cEs",
      "execution_count": null,
      "outputs": []
    },
    {
      "cell_type": "code",
      "metadata": {
        "id": "qx-93LI4_cEu"
      },
      "source": [
        ""
      ],
      "id": "qx-93LI4_cEu",
      "execution_count": null,
      "outputs": []
    },
    {
      "cell_type": "code",
      "metadata": {
        "id": "9gt4FzEF_cEv"
      },
      "source": [
        ""
      ],
      "id": "9gt4FzEF_cEv",
      "execution_count": null,
      "outputs": []
    },
    {
      "cell_type": "code",
      "metadata": {
        "id": "uEEPnmRI_cEx"
      },
      "source": [
        ""
      ],
      "id": "uEEPnmRI_cEx",
      "execution_count": null,
      "outputs": []
    },
    {
      "cell_type": "code",
      "metadata": {
        "id": "ubxO50B6_cEx"
      },
      "source": [
        ""
      ],
      "id": "ubxO50B6_cEx",
      "execution_count": null,
      "outputs": []
    },
    {
      "cell_type": "code",
      "metadata": {
        "id": "dnleGgPy_cEx"
      },
      "source": [
        ""
      ],
      "id": "dnleGgPy_cEx",
      "execution_count": null,
      "outputs": []
    }
  ]
}