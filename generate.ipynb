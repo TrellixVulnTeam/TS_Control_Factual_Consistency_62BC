{
  "nbformat": 4,
  "nbformat_minor": 0,
  "metadata": {
    "accelerator": "GPU",
    "colab": {
      "name": "git_generate",
      "provenance": [],
      "collapsed_sections": [
        "qnHd4fTiWG3n"
      ],
      "toc_visible": true,
      "machine_shape": "hm"
    },
    "kernelspec": {
      "display_name": "Python 3",
      "name": "python3"
    },
    "language_info": {
      "name": "python"
    }
  },
  "cells": [
    {
      "cell_type": "markdown",
      "metadata": {
        "id": "m2eMKJFZZZVE"
      },
      "source": [
        "# setup"
      ]
    },
    {
      "cell_type": "code",
      "metadata": {
        "colab": {
          "base_uri": "https://localhost:8080/"
        },
        "id": "FnwF1GoI3svl",
        "outputId": "44ed7abc-0e91-43c0-8900-fa48d206f6b5"
      },
      "source": [
        "from google.colab import drive\n",
        "drive.mount('/content/drive') "
      ],
      "execution_count": null,
      "outputs": [
        {
          "output_type": "stream",
          "name": "stdout",
          "text": [
            "Mounted at /content/drive\n"
          ]
        }
      ]
    },
    {
      "cell_type": "code",
      "metadata": {
        "id": "GXMR1BFhZN1x"
      },
      "source": [
        "import os\n",
        "import numpy as np\n",
        "import ast\n",
        "import matplotlib.pyplot as plt\n"
      ],
      "execution_count": null,
      "outputs": []
    },
    {
      "cell_type": "code",
      "metadata": {
        "id": "7v99A0DT-VKp"
      },
      "source": [
        "from IPython.display import HTML, display\n",
        "\n",
        "def set_css():\n",
        "  display(HTML('''\n",
        "  <style>\n",
        "    pre {\n",
        "        white-space: pre-wrap;\n",
        "    }\n",
        "  </style>\n",
        "  '''))\n",
        "get_ipython().events.register('pre_run_cell', set_css)"
      ],
      "execution_count": null,
      "outputs": []
    },
    {
      "cell_type": "code",
      "metadata": {
        "colab": {
          "base_uri": "https://localhost:8080/"
        },
        "id": "WzP7dftl04ZS",
        "outputId": "91512715-2f72-44f4-da61-c8f38ea059f7"
      },
      "source": [
        "gpu_info = !nvidia-smi\n",
        "gpu_info = '\\n'.join(gpu_info)\n",
        "if gpu_info.find('failed') >= 0:\n",
        "  print('Select the Runtime > \"Change runtime type\" menu to enable a GPU accelerator, ')\n",
        "  print('and then re-execute this cell.')\n",
        "else:\n",
        "  print(gpu_info)"
      ],
      "execution_count": null,
      "outputs": [
        {
          "output_type": "display_data",
          "data": {
            "text/html": [
              "\n",
              "  <style>\n",
              "    pre {\n",
              "        white-space: pre-wrap;\n",
              "    }\n",
              "  </style>\n",
              "  "
            ],
            "text/plain": [
              "<IPython.core.display.HTML object>"
            ]
          },
          "metadata": {}
        },
        {
          "output_type": "stream",
          "name": "stdout",
          "text": [
            "Fri Sep 24 12:27:32 2021       \n",
            "+-----------------------------------------------------------------------------+\n",
            "| NVIDIA-SMI 470.63.01    Driver Version: 460.32.03    CUDA Version: 11.2     |\n",
            "|-------------------------------+----------------------+----------------------+\n",
            "| GPU  Name        Persistence-M| Bus-Id        Disp.A | Volatile Uncorr. ECC |\n",
            "| Fan  Temp  Perf  Pwr:Usage/Cap|         Memory-Usage | GPU-Util  Compute M. |\n",
            "|                               |                      |               MIG M. |\n",
            "|===============================+======================+======================|\n",
            "|   0  Tesla P100-PCIE...  Off  | 00000000:00:04.0 Off |                    0 |\n",
            "| N/A   41C    P0    26W / 250W |      0MiB / 16280MiB |      0%      Default |\n",
            "|                               |                      |                  N/A |\n",
            "+-------------------------------+----------------------+----------------------+\n",
            "                                                                               \n",
            "+-----------------------------------------------------------------------------+\n",
            "| Processes:                                                                  |\n",
            "|  GPU   GI   CI        PID   Type   Process name                  GPU Memory |\n",
            "|        ID   ID                                                   Usage      |\n",
            "|=============================================================================|\n",
            "|  No running processes found                                                 |\n",
            "+-----------------------------------------------------------------------------+\n"
          ]
        }
      ]
    },
    {
      "cell_type": "code",
      "metadata": {
        "colab": {
          "base_uri": "https://localhost:8080/"
        },
        "id": "4Bi43Hysnf_q",
        "outputId": "49ade02a-80a7-465c-fa4e-4fdefdd653a7"
      },
      "source": [
        "muss_path = '/content/drive/MyDrive/muss'"
      ],
      "execution_count": null,
      "outputs": [
        {
          "output_type": "display_data",
          "data": {
            "text/html": [
              "\n",
              "  <style>\n",
              "    pre {\n",
              "        white-space: pre-wrap;\n",
              "    }\n",
              "  </style>\n",
              "  "
            ],
            "text/plain": [
              "<IPython.core.display.HTML object>"
            ]
          },
          "metadata": {}
        }
      ]
    },
    {
      "cell_type": "code",
      "metadata": {
        "colab": {
          "base_uri": "https://localhost:8080/"
        },
        "id": "uUbIMOP7ni90",
        "outputId": "79159db0-23cf-43f9-aab7-ab630128732d"
      },
      "source": [
        "!echo $muss_path"
      ],
      "execution_count": null,
      "outputs": [
        {
          "output_type": "display_data",
          "data": {
            "text/html": [
              "\n",
              "  <style>\n",
              "    pre {\n",
              "        white-space: pre-wrap;\n",
              "    }\n",
              "  </style>\n",
              "  "
            ],
            "text/plain": [
              "<IPython.core.display.HTML object>"
            ]
          },
          "metadata": {}
        },
        {
          "output_type": "stream",
          "name": "stdout",
          "text": [
            "/content/drive/MyDrive/muss\n"
          ]
        }
      ]
    },
    {
      "cell_type": "code",
      "metadata": {
        "colab": {
          "base_uri": "https://localhost:8080/"
        },
        "id": "G-gO2NRF8k_m",
        "outputId": "d0061afa-f3db-47d2-d838-c4a192227e7d"
      },
      "source": [
        "%cd $muss_path"
      ],
      "execution_count": null,
      "outputs": [
        {
          "output_type": "display_data",
          "data": {
            "text/html": [
              "\n",
              "  <style>\n",
              "    pre {\n",
              "        white-space: pre-wrap;\n",
              "    }\n",
              "  </style>\n",
              "  "
            ],
            "text/plain": [
              "<IPython.core.display.HTML object>"
            ]
          },
          "metadata": {}
        },
        {
          "output_type": "stream",
          "name": "stdout",
          "text": [
            "/content/drive/MyDrive/muss\n"
          ]
        }
      ]
    },
    {
      "cell_type": "code",
      "metadata": {
        "colab": {
          "base_uri": "https://localhost:8080/"
        },
        "id": "1w2QJoIXnKBZ",
        "outputId": "ac890f8e-b1ed-450c-f6fe-b4655be80974"
      },
      "source": [
        "!pwd"
      ],
      "execution_count": null,
      "outputs": [
        {
          "output_type": "display_data",
          "data": {
            "text/html": [
              "\n",
              "  <style>\n",
              "    pre {\n",
              "        white-space: pre-wrap;\n",
              "    }\n",
              "  </style>\n",
              "  "
            ],
            "text/plain": [
              "<IPython.core.display.HTML object>"
            ]
          },
          "metadata": {}
        },
        {
          "output_type": "stream",
          "name": "stdout",
          "text": [
            "/content/drive/MyDrive/muss\n"
          ]
        }
      ]
    },
    {
      "cell_type": "code",
      "metadata": {
        "colab": {
          "base_uri": "https://localhost:8080/"
        },
        "id": "_7WNwrzE8k9c",
        "outputId": "10bccbd7-aad3-4b4d-b446-8db28a0c3309"
      },
      "source": [
        "pip install -e . &> /dev/null"
      ],
      "execution_count": null,
      "outputs": [
        {
          "output_type": "display_data",
          "data": {
            "text/html": [
              "\n",
              "  <style>\n",
              "    pre {\n",
              "        white-space: pre-wrap;\n",
              "    }\n",
              "  </style>\n",
              "  "
            ],
            "text/plain": [
              "<IPython.core.display.HTML object>"
            ]
          },
          "metadata": {}
        }
      ]
    },
    {
      "cell_type": "code",
      "metadata": {
        "colab": {
          "base_uri": "https://localhost:8080/"
        },
        "id": "6Y8fgnNN90IB",
        "outputId": "8cb419f8-0be3-4351-9561-3fd7ba0461dd"
      },
      "source": [
        "# !python -m spacy download en_core_web_md &> /dev/null"
      ],
      "execution_count": null,
      "outputs": [
        {
          "output_type": "display_data",
          "data": {
            "text/html": [
              "\n",
              "  <style>\n",
              "    pre {\n",
              "        white-space: pre-wrap;\n",
              "    }\n",
              "  </style>\n",
              "  "
            ],
            "text/plain": [
              "<IPython.core.display.HTML object>"
            ]
          },
          "metadata": {}
        }
      ]
    },
    {
      "cell_type": "markdown",
      "metadata": {
        "id": "KT2H6XG64Ku6"
      },
      "source": [
        "# define test set path (simple)"
      ]
    },
    {
      "cell_type": "code",
      "metadata": {
        "colab": {
          "base_uri": "https://localhost:8080/",
          "height": 17
        },
        "id": "D1tPfhxc7B0F",
        "outputId": "f32f5683-203f-44cf-e947-bbe8ba905c2c"
      },
      "source": [
        "DATA_DIR = '/content/drive/MyDrive/muss/resources/datasets/'\n",
        "\n",
        "asset_valid_complex_dir =  DATA_DIR + f'token_asset_0803/valid.complex'\n",
        "asset_test_complex_dir = DATA_DIR + f'token_asset_0803/test.complex'\n",
        "\n",
        "asset_valid_simple_dir = DATA_DIR + f'token_asset_simple_NER_0810/valid.complex'\n",
        "asset_test_simple_dir = DATA_DIR + f'token_asset_simple_NER_0810/test.complex'\n",
        "\n",
        "asset_valid_all_no_random_dir = DATA_DIR + f'asset_simple_all_words_no_random_0825/valid.complex'\n",
        "asset_test_all_no_random_dir = DATA_DIR + f'asset_simple_all_words_no_random_0825/test.complex'\n",
        "\n",
        "asset_valid_all_random_dir = DATA_DIR + f'asset_simple_all_words_random_0825/valid.complex'\n",
        "asset_test_all_random_dir = DATA_DIR + f'asset_simple_all_words_random_0825/test.complex'\n",
        "\n"
      ],
      "execution_count": null,
      "outputs": [
        {
          "output_type": "display_data",
          "data": {
            "text/html": [
              "\n",
              "  <style>\n",
              "    pre {\n",
              "        white-space: pre-wrap;\n",
              "    }\n",
              "  </style>\n",
              "  "
            ],
            "text/plain": [
              "<IPython.core.display.HTML object>"
            ]
          },
          "metadata": {}
        }
      ]
    },
    {
      "cell_type": "code",
      "metadata": {
        "colab": {
          "base_uri": "https://localhost:8080/",
          "height": 17
        },
        "id": "ZSQPdqaL1rqw",
        "outputId": "c07f2b5d-7393-42de-f0d9-64a255eab282"
      },
      "source": [
        "complex_model_data_test_dir_list=[asset_test_complex_dir,asset_test_simple_dir]\n",
        "complex_model_data_test_list=['asset.complex.test','asset.simple.test']"
      ],
      "execution_count": null,
      "outputs": [
        {
          "output_type": "display_data",
          "data": {
            "text/html": [
              "\n",
              "  <style>\n",
              "    pre {\n",
              "        white-space: pre-wrap;\n",
              "    }\n",
              "  </style>\n",
              "  "
            ],
            "text/plain": [
              "<IPython.core.display.HTML object>"
            ]
          },
          "metadata": {}
        }
      ]
    },
    {
      "cell_type": "code",
      "metadata": {
        "colab": {
          "base_uri": "https://localhost:8080/",
          "height": 17
        },
        "id": "T3MLjnCqKCez",
        "outputId": "dbf1dbf5-b326-4ad2-a5e8-90133e88ea77"
      },
      "source": [
        "test_data_dir_list,test_data_list = [],[]"
      ],
      "execution_count": null,
      "outputs": [
        {
          "output_type": "display_data",
          "data": {
            "text/html": [
              "\n",
              "  <style>\n",
              "    pre {\n",
              "        white-space: pre-wrap;\n",
              "    }\n",
              "  </style>\n",
              "  "
            ],
            "text/plain": [
              "<IPython.core.display.HTML object>"
            ]
          },
          "metadata": {}
        }
      ]
    },
    {
      "cell_type": "code",
      "metadata": {
        "colab": {
          "base_uri": "https://localhost:8080/",
          "height": 17
        },
        "id": "DX4q9j2cq9UT",
        "outputId": "c55021e0-68f3-4e47-93f7-3965d55e6187"
      },
      "source": [
        "tmp_data_dir_list = []\n",
        "tmp_data_list = []\n",
        "\n",
        "for phase in ['test']:\n",
        "  for i in range(7):\n",
        "    path_name = 'asset_'+phase+'_'+str(i)+'_simple_dir'\n",
        "    globals()[path_name] = DATA_DIR + f'asset_simple_'+str(i)+'NE_0825/'+phase+'.complex'\n",
        "\n",
        "    tmp_data_dir_list.append(globals()[path_name])\n",
        "    tmp_data_list.append('asset.'+str(i)+'.simple.'+phase)"
      ],
      "execution_count": null,
      "outputs": [
        {
          "output_type": "display_data",
          "data": {
            "text/html": [
              "\n",
              "  <style>\n",
              "    pre {\n",
              "        white-space: pre-wrap;\n",
              "    }\n",
              "  </style>\n",
              "  "
            ],
            "text/plain": [
              "<IPython.core.display.HTML object>"
            ]
          },
          "metadata": {}
        }
      ]
    },
    {
      "cell_type": "code",
      "metadata": {
        "colab": {
          "base_uri": "https://localhost:8080/",
          "height": 17
        },
        "id": "qY5yAujXrb-H",
        "outputId": "328599d2-9628-4257-c8d4-2da2fdf32c37"
      },
      "source": [
        "test_data_dir_list.extend(tmp_data_dir_list)\n",
        "test_data_list.extend(tmp_data_list)"
      ],
      "execution_count": null,
      "outputs": [
        {
          "output_type": "display_data",
          "data": {
            "text/html": [
              "\n",
              "  <style>\n",
              "    pre {\n",
              "        white-space: pre-wrap;\n",
              "    }\n",
              "  </style>\n",
              "  "
            ],
            "text/plain": [
              "<IPython.core.display.HTML object>"
            ]
          },
          "metadata": {}
        }
      ]
    },
    {
      "cell_type": "code",
      "metadata": {
        "colab": {
          "base_uri": "https://localhost:8080/",
          "height": 146
        },
        "id": "iOf3J5s7t-kJ",
        "outputId": "7d7b50f3-cc29-43d0-ddc7-14744966839a"
      },
      "source": [
        "test_data_dir_list"
      ],
      "execution_count": null,
      "outputs": [
        {
          "output_type": "display_data",
          "data": {
            "text/html": [
              "\n",
              "  <style>\n",
              "    pre {\n",
              "        white-space: pre-wrap;\n",
              "    }\n",
              "  </style>\n",
              "  "
            ],
            "text/plain": [
              "<IPython.core.display.HTML object>"
            ]
          },
          "metadata": {}
        },
        {
          "output_type": "execute_result",
          "data": {
            "text/plain": [
              "['/content/drive/MyDrive/muss/resources/datasets/asset_simple_0NE_0825/test.complex',\n",
              " '/content/drive/MyDrive/muss/resources/datasets/asset_simple_1NE_0825/test.complex',\n",
              " '/content/drive/MyDrive/muss/resources/datasets/asset_simple_2NE_0825/test.complex',\n",
              " '/content/drive/MyDrive/muss/resources/datasets/asset_simple_3NE_0825/test.complex',\n",
              " '/content/drive/MyDrive/muss/resources/datasets/asset_simple_4NE_0825/test.complex',\n",
              " '/content/drive/MyDrive/muss/resources/datasets/asset_simple_5NE_0825/test.complex',\n",
              " '/content/drive/MyDrive/muss/resources/datasets/asset_simple_6NE_0825/test.complex']"
            ]
          },
          "metadata": {},
          "execution_count": 69
        }
      ]
    },
    {
      "cell_type": "code",
      "metadata": {
        "colab": {
          "base_uri": "https://localhost:8080/",
          "height": 146
        },
        "id": "FLrS90ciq9Nl",
        "outputId": "4afdad1c-b2d9-4639-ba95-0a4faacafc20"
      },
      "source": [
        "test_data_list"
      ],
      "execution_count": null,
      "outputs": [
        {
          "output_type": "display_data",
          "data": {
            "text/html": [
              "\n",
              "  <style>\n",
              "    pre {\n",
              "        white-space: pre-wrap;\n",
              "    }\n",
              "  </style>\n",
              "  "
            ],
            "text/plain": [
              "<IPython.core.display.HTML object>"
            ]
          },
          "metadata": {}
        },
        {
          "output_type": "execute_result",
          "data": {
            "text/plain": [
              "['asset.0.simple.test',\n",
              " 'asset.1.simple.test',\n",
              " 'asset.2.simple.test',\n",
              " 'asset.3.simple.test',\n",
              " 'asset.4.simple.test',\n",
              " 'asset.5.simple.test',\n",
              " 'asset.6.simple.test']"
            ]
          },
          "metadata": {},
          "execution_count": 70
        }
      ]
    },
    {
      "cell_type": "code",
      "metadata": {
        "colab": {
          "base_uri": "https://localhost:8080/",
          "height": 17
        },
        "id": "Ix4AodN6tq6r",
        "outputId": "56151634-0962-4ce2-e943-f5a22954c078"
      },
      "source": [
        "test_data_dir_list.extend([\n",
        "            asset_test_simple_dir,\n",
        "             asset_test_complex_dir,\n",
        "             asset_test_all_no_random_dir,\n",
        "             asset_test_all_random_dir\n",
        "             ]\n",
        ")\n",
        "\n",
        "test_data_list.extend([\n",
        "            'asset.simple.test',\n",
        "             'asset.complex.test',\n",
        "             'asset.norandom.test',\n",
        "             'asset.random.test',\n",
        "             ]\n",
        ")\n"
      ],
      "execution_count": null,
      "outputs": [
        {
          "output_type": "display_data",
          "data": {
            "text/html": [
              "\n",
              "  <style>\n",
              "    pre {\n",
              "        white-space: pre-wrap;\n",
              "    }\n",
              "  </style>\n",
              "  "
            ],
            "text/plain": [
              "<IPython.core.display.HTML object>"
            ]
          },
          "metadata": {}
        }
      ]
    },
    {
      "cell_type": "code",
      "metadata": {
        "colab": {
          "base_uri": "https://localhost:8080/",
          "height": 219
        },
        "id": "j9dg4rauKNLH",
        "outputId": "2bc9424c-e0ce-4aa2-944a-0eec2f230db8"
      },
      "source": [
        "test_data_dir_list"
      ],
      "execution_count": null,
      "outputs": [
        {
          "output_type": "display_data",
          "data": {
            "text/html": [
              "\n",
              "  <style>\n",
              "    pre {\n",
              "        white-space: pre-wrap;\n",
              "    }\n",
              "  </style>\n",
              "  "
            ],
            "text/plain": [
              "<IPython.core.display.HTML object>"
            ]
          },
          "metadata": {}
        },
        {
          "output_type": "execute_result",
          "data": {
            "text/plain": [
              "['/content/drive/MyDrive/muss/resources/datasets/asset_simple_0NE_0825/test.complex',\n",
              " '/content/drive/MyDrive/muss/resources/datasets/asset_simple_1NE_0825/test.complex',\n",
              " '/content/drive/MyDrive/muss/resources/datasets/asset_simple_2NE_0825/test.complex',\n",
              " '/content/drive/MyDrive/muss/resources/datasets/asset_simple_3NE_0825/test.complex',\n",
              " '/content/drive/MyDrive/muss/resources/datasets/asset_simple_4NE_0825/test.complex',\n",
              " '/content/drive/MyDrive/muss/resources/datasets/asset_simple_5NE_0825/test.complex',\n",
              " '/content/drive/MyDrive/muss/resources/datasets/asset_simple_6NE_0825/test.complex',\n",
              " '/content/drive/MyDrive/muss/resources/datasets/token_asset_simple_NER_0810/test.complex',\n",
              " '/content/drive/MyDrive/muss/resources/datasets/token_asset_0803/test.complex',\n",
              " '/content/drive/MyDrive/muss/resources/datasets/asset_simple_all_words_no_random_0825/test.complex',\n",
              " '/content/drive/MyDrive/muss/resources/datasets/asset_simple_all_words_random_0825/test.complex']"
            ]
          },
          "metadata": {},
          "execution_count": 72
        }
      ]
    },
    {
      "cell_type": "code",
      "metadata": {
        "colab": {
          "base_uri": "https://localhost:8080/",
          "height": 219
        },
        "id": "lTBEQcELKhOa",
        "outputId": "d45adc90-3049-44f4-a00c-cb366eefb770"
      },
      "source": [
        "test_data_list"
      ],
      "execution_count": null,
      "outputs": [
        {
          "output_type": "display_data",
          "data": {
            "text/html": [
              "\n",
              "  <style>\n",
              "    pre {\n",
              "        white-space: pre-wrap;\n",
              "    }\n",
              "  </style>\n",
              "  "
            ],
            "text/plain": [
              "<IPython.core.display.HTML object>"
            ]
          },
          "metadata": {}
        },
        {
          "output_type": "execute_result",
          "data": {
            "text/plain": [
              "['asset.0.simple.test',\n",
              " 'asset.1.simple.test',\n",
              " 'asset.2.simple.test',\n",
              " 'asset.3.simple.test',\n",
              " 'asset.4.simple.test',\n",
              " 'asset.5.simple.test',\n",
              " 'asset.6.simple.test',\n",
              " 'asset.simple.test',\n",
              " 'asset.complex.test',\n",
              " 'asset.norandom.test',\n",
              " 'asset.random.test']"
            ]
          },
          "metadata": {},
          "execution_count": 73
        }
      ]
    },
    {
      "cell_type": "markdown",
      "metadata": {
        "id": "qnHd4fTiWG3n"
      },
      "source": [
        "# define test set path (complex)"
      ]
    },
    {
      "cell_type": "code",
      "metadata": {
        "colab": {
          "base_uri": "https://localhost:8080/"
        },
        "id": "GPbKCAKXWG3r",
        "outputId": "1fe484bc-05c9-4ebc-a978-24a548fcb6c2"
      },
      "source": [
        "DATA_DIR = '/content/drive/MyDrive/muss/resources/datasets/'\n",
        "\n",
        "complex_asset_valid_all_no_random_dir = DATA_DIR + f'asset_complex_all_words_0828/valid.complex'\n",
        "complex_asset_test_all_no_random_dir = DATA_DIR + f'asset_complex_all_words_0828/test.complex'\n",
        "\n",
        "complex_asset_valid_all_random_dir = DATA_DIR + f'asset_complex_all_words_random_0828/valid.complex'\n",
        "complex_asset_test_all_random_dir = DATA_DIR + f'asset_complex_all_words_random_0828/test.complex'\n",
        "\n"
      ],
      "execution_count": null,
      "outputs": [
        {
          "output_type": "display_data",
          "data": {
            "text/html": [
              "\n",
              "  <style>\n",
              "    pre {\n",
              "        white-space: pre-wrap;\n",
              "    }\n",
              "  </style>\n",
              "  "
            ],
            "text/plain": [
              "<IPython.core.display.HTML object>"
            ]
          },
          "metadata": {}
        }
      ]
    },
    {
      "cell_type": "code",
      "metadata": {
        "colab": {
          "base_uri": "https://localhost:8080/"
        },
        "id": "axwTEgr5WG3w",
        "outputId": "2cb026cf-b4aa-4c72-ffe4-467ddf022454"
      },
      "source": [
        "test_data_dir_list,test_data_list = [],[]"
      ],
      "execution_count": null,
      "outputs": [
        {
          "output_type": "display_data",
          "data": {
            "text/html": [
              "\n",
              "  <style>\n",
              "    pre {\n",
              "        white-space: pre-wrap;\n",
              "    }\n",
              "  </style>\n",
              "  "
            ],
            "text/plain": [
              "<IPython.core.display.HTML object>"
            ]
          },
          "metadata": {}
        }
      ]
    },
    {
      "cell_type": "code",
      "metadata": {
        "colab": {
          "base_uri": "https://localhost:8080/"
        },
        "id": "unw7-k7YWG3x",
        "outputId": "b4b539b7-7f08-414f-8fe6-0269f7e77f41"
      },
      "source": [
        "tmp_data_dir_list = []\n",
        "tmp_data_list = []\n",
        "\n",
        "for phase in ['test']:\n",
        "  for i in range(7):\n",
        "    path_name = 'asset_'+phase+'_'+str(i)+'_complex_dir'\n",
        "    globals()[path_name] = DATA_DIR + f'asset_complex_'+str(i)+'NE_0828/'+phase+'.complex'\n",
        "\n",
        "    tmp_data_dir_list.append(globals()[path_name])\n",
        "    tmp_data_list.append('asset.'+str(i)+'.complex.'+phase)"
      ],
      "execution_count": null,
      "outputs": [
        {
          "output_type": "display_data",
          "data": {
            "text/html": [
              "\n",
              "  <style>\n",
              "    pre {\n",
              "        white-space: pre-wrap;\n",
              "    }\n",
              "  </style>\n",
              "  "
            ],
            "text/plain": [
              "<IPython.core.display.HTML object>"
            ]
          },
          "metadata": {}
        }
      ]
    },
    {
      "cell_type": "code",
      "metadata": {
        "colab": {
          "base_uri": "https://localhost:8080/"
        },
        "id": "CuS7FUGVWG3z",
        "outputId": "23281d51-ec2f-4343-cc2f-6867d12e275f"
      },
      "source": [
        "test_data_dir_list.extend(tmp_data_dir_list)\n",
        "test_data_list.extend(tmp_data_list)"
      ],
      "execution_count": null,
      "outputs": [
        {
          "output_type": "display_data",
          "data": {
            "text/html": [
              "\n",
              "  <style>\n",
              "    pre {\n",
              "        white-space: pre-wrap;\n",
              "    }\n",
              "  </style>\n",
              "  "
            ],
            "text/plain": [
              "<IPython.core.display.HTML object>"
            ]
          },
          "metadata": {}
        }
      ]
    },
    {
      "cell_type": "code",
      "metadata": {
        "colab": {
          "base_uri": "https://localhost:8080/"
        },
        "id": "pPrEBO1UWG30",
        "outputId": "fef8403b-d380-41ec-d788-e865c7b04faa"
      },
      "source": [
        "test_data_dir_list"
      ],
      "execution_count": null,
      "outputs": [
        {
          "output_type": "display_data",
          "data": {
            "text/html": [
              "\n",
              "  <style>\n",
              "    pre {\n",
              "        white-space: pre-wrap;\n",
              "    }\n",
              "  </style>\n",
              "  "
            ],
            "text/plain": [
              "<IPython.core.display.HTML object>"
            ]
          },
          "metadata": {}
        },
        {
          "output_type": "execute_result",
          "data": {
            "text/plain": [
              "['/content/drive/MyDrive/muss/resources/datasets/asset_complex_0NE_0828/test.complex',\n",
              " '/content/drive/MyDrive/muss/resources/datasets/asset_complex_1NE_0828/test.complex',\n",
              " '/content/drive/MyDrive/muss/resources/datasets/asset_complex_2NE_0828/test.complex',\n",
              " '/content/drive/MyDrive/muss/resources/datasets/asset_complex_3NE_0828/test.complex',\n",
              " '/content/drive/MyDrive/muss/resources/datasets/asset_complex_4NE_0828/test.complex',\n",
              " '/content/drive/MyDrive/muss/resources/datasets/asset_complex_5NE_0828/test.complex',\n",
              " '/content/drive/MyDrive/muss/resources/datasets/asset_complex_6NE_0828/test.complex']"
            ]
          },
          "metadata": {},
          "execution_count": 80
        }
      ]
    },
    {
      "cell_type": "code",
      "metadata": {
        "colab": {
          "base_uri": "https://localhost:8080/"
        },
        "id": "iMcMdu3oWG30",
        "outputId": "78fdadf3-b301-4716-8a4c-11a001dbd3dc"
      },
      "source": [
        "test_data_list"
      ],
      "execution_count": null,
      "outputs": [
        {
          "output_type": "display_data",
          "data": {
            "text/html": [
              "\n",
              "  <style>\n",
              "    pre {\n",
              "        white-space: pre-wrap;\n",
              "    }\n",
              "  </style>\n",
              "  "
            ],
            "text/plain": [
              "<IPython.core.display.HTML object>"
            ]
          },
          "metadata": {}
        },
        {
          "output_type": "execute_result",
          "data": {
            "text/plain": [
              "['asset.0.complex.test',\n",
              " 'asset.1.complex.test',\n",
              " 'asset.2.complex.test',\n",
              " 'asset.3.complex.test',\n",
              " 'asset.4.complex.test',\n",
              " 'asset.5.complex.test',\n",
              " 'asset.6.complex.test']"
            ]
          },
          "metadata": {},
          "execution_count": 81
        }
      ]
    },
    {
      "cell_type": "code",
      "metadata": {
        "colab": {
          "base_uri": "https://localhost:8080/"
        },
        "id": "M07JCEOZWG31",
        "outputId": "3dd13fa3-6b8f-4eee-c927-a540ac4ee11e"
      },
      "source": [
        "test_data_dir_list.extend([\n",
        "            complex_asset_test_all_no_random_dir,\n",
        "             complex_asset_test_all_random_dir\n",
        "             ]\n",
        ")\n",
        "\n",
        "test_data_list.extend([\n",
        "            'asset.complex.all.test',\n",
        "             'asset.complex.allrandom.test',\n",
        "             ]\n",
        ")\n"
      ],
      "execution_count": null,
      "outputs": [
        {
          "output_type": "display_data",
          "data": {
            "text/html": [
              "\n",
              "  <style>\n",
              "    pre {\n",
              "        white-space: pre-wrap;\n",
              "    }\n",
              "  </style>\n",
              "  "
            ],
            "text/plain": [
              "<IPython.core.display.HTML object>"
            ]
          },
          "metadata": {}
        }
      ]
    },
    {
      "cell_type": "code",
      "metadata": {
        "colab": {
          "base_uri": "https://localhost:8080/"
        },
        "id": "J0GMOmsnWG33",
        "outputId": "3f4ec1db-16a8-4876-ddcb-f416b88dafc4"
      },
      "source": [
        "test_data_dir_list"
      ],
      "execution_count": null,
      "outputs": [
        {
          "output_type": "display_data",
          "data": {
            "text/html": [
              "\n",
              "  <style>\n",
              "    pre {\n",
              "        white-space: pre-wrap;\n",
              "    }\n",
              "  </style>\n",
              "  "
            ],
            "text/plain": [
              "<IPython.core.display.HTML object>"
            ]
          },
          "metadata": {}
        },
        {
          "output_type": "execute_result",
          "data": {
            "text/plain": [
              "['/content/drive/MyDrive/muss/resources/datasets/asset_complex_0NE_0828/test.complex',\n",
              " '/content/drive/MyDrive/muss/resources/datasets/asset_complex_1NE_0828/test.complex',\n",
              " '/content/drive/MyDrive/muss/resources/datasets/asset_complex_2NE_0828/test.complex',\n",
              " '/content/drive/MyDrive/muss/resources/datasets/asset_complex_3NE_0828/test.complex',\n",
              " '/content/drive/MyDrive/muss/resources/datasets/asset_complex_4NE_0828/test.complex',\n",
              " '/content/drive/MyDrive/muss/resources/datasets/asset_complex_5NE_0828/test.complex',\n",
              " '/content/drive/MyDrive/muss/resources/datasets/asset_complex_6NE_0828/test.complex',\n",
              " '/content/drive/MyDrive/muss/resources/datasets/asset_complex_all_words_0828/test.complex',\n",
              " '/content/drive/MyDrive/muss/resources/datasets/asset_complex_all_words_random_0828/test.complex']"
            ]
          },
          "metadata": {},
          "execution_count": 84
        }
      ]
    },
    {
      "cell_type": "code",
      "metadata": {
        "colab": {
          "base_uri": "https://localhost:8080/"
        },
        "id": "5AOcAfjiWG34",
        "outputId": "fe7d5c66-a1bc-4c91-dc7f-07dbfc35ef9c"
      },
      "source": [
        "test_data_list"
      ],
      "execution_count": null,
      "outputs": [
        {
          "output_type": "display_data",
          "data": {
            "text/html": [
              "\n",
              "  <style>\n",
              "    pre {\n",
              "        white-space: pre-wrap;\n",
              "    }\n",
              "  </style>\n",
              "  "
            ],
            "text/plain": [
              "<IPython.core.display.HTML object>"
            ]
          },
          "metadata": {}
        },
        {
          "output_type": "execute_result",
          "data": {
            "text/plain": [
              "['asset.0.complex.test',\n",
              " 'asset.1.complex.test',\n",
              " 'asset.2.complex.test',\n",
              " 'asset.3.complex.test',\n",
              " 'asset.4.complex.test',\n",
              " 'asset.5.complex.test',\n",
              " 'asset.6.complex.test',\n",
              " 'asset.complex.all.test',\n",
              " 'asset.complex.allrandom.test']"
            ]
          },
          "metadata": {},
          "execution_count": 85
        }
      ]
    },
    {
      "cell_type": "markdown",
      "metadata": {
        "id": "rysvvlBzH0i6"
      },
      "source": [
        "# define test set path CERF"
      ]
    },
    {
      "cell_type": "code",
      "metadata": {
        "colab": {
          "base_uri": "https://localhost:8080/",
          "height": 17
        },
        "id": "_Mic0ArJH0i_",
        "outputId": "e006bcbd-e3c4-4a60-e328-fe2d22bab079"
      },
      "source": [
        "DATA_DIR = '/content/drive/MyDrive/muss/resources/datasets/'\n",
        "\n",
        "# asset_valid_complex_dir =  DATA_DIR + f'token_asset_0803/valid.complex'\n",
        "# asset_test_complex_dir = DATA_DIR + f'token_asset_0803/test.complex'\n",
        "\n",
        "asset_valid_all_ABCDword_dir = DATA_DIR + f'asset_ABCD_C1C2B2/valid.complex'\n",
        "asset_test_all_ABCDword_dir = DATA_DIR + f'asset_ABCD_C1C2B2/test.complex'\n",
        "\n",
        "asset_valid_all_no_random_dir = DATA_DIR + f'asset_ABCD_all_words_0911/valid.complex'\n",
        "asset_test_all_no_random_dir = DATA_DIR + f'asset_ABCD_all_words_0911/test.complex'\n",
        "\n",
        "asset_valid_all_random_dir = DATA_DIR + f'asset_ABCD_all_words_random_0911/valid.complex'\n",
        "asset_test_all_random_dir = DATA_DIR + f'asset_ABCD_all_words_random_0911/test.complex'\n",
        "\n"
      ],
      "execution_count": null,
      "outputs": [
        {
          "output_type": "display_data",
          "data": {
            "text/html": [
              "\n",
              "  <style>\n",
              "    pre {\n",
              "        white-space: pre-wrap;\n",
              "    }\n",
              "  </style>\n",
              "  "
            ],
            "text/plain": [
              "<IPython.core.display.HTML object>"
            ]
          },
          "metadata": {}
        }
      ]
    },
    {
      "cell_type": "code",
      "metadata": {
        "colab": {
          "base_uri": "https://localhost:8080/",
          "height": 17
        },
        "id": "7v0R_LD6H0jB",
        "outputId": "61510273-61b7-44f5-a0a9-0733981c4d60"
      },
      "source": [
        "test_data_dir_list,test_data_list = [],[]"
      ],
      "execution_count": null,
      "outputs": [
        {
          "output_type": "display_data",
          "data": {
            "text/html": [
              "\n",
              "  <style>\n",
              "    pre {\n",
              "        white-space: pre-wrap;\n",
              "    }\n",
              "  </style>\n",
              "  "
            ],
            "text/plain": [
              "<IPython.core.display.HTML object>"
            ]
          },
          "metadata": {}
        }
      ]
    },
    {
      "cell_type": "code",
      "metadata": {
        "colab": {
          "base_uri": "https://localhost:8080/",
          "height": 17
        },
        "id": "AQl0LUidH0jE",
        "outputId": "4069dd10-7134-4a55-bd1a-dd33f7a14a67"
      },
      "source": [
        "tmp_data_dir_list = []\n",
        "tmp_data_list = []\n",
        "\n",
        "for phase in ['test']:\n",
        "  for i in range(7):\n",
        "    path_name = 'asset_'+phase+'_'+str(i)+'_complex_dir'\n",
        "    globals()[path_name] = DATA_DIR + f'asset_ABCD_'+str(i)+'words_0911/'+phase+'.complex'\n",
        "\n",
        "    tmp_data_dir_list.append(globals()[path_name])\n",
        "    tmp_data_list.append('asset.'+str(i)+'.ABCD.'+phase)"
      ],
      "execution_count": null,
      "outputs": [
        {
          "output_type": "display_data",
          "data": {
            "text/html": [
              "\n",
              "  <style>\n",
              "    pre {\n",
              "        white-space: pre-wrap;\n",
              "    }\n",
              "  </style>\n",
              "  "
            ],
            "text/plain": [
              "<IPython.core.display.HTML object>"
            ]
          },
          "metadata": {}
        }
      ]
    },
    {
      "cell_type": "code",
      "metadata": {
        "colab": {
          "base_uri": "https://localhost:8080/",
          "height": 17
        },
        "id": "qCelZ1fpH0jH",
        "outputId": "a65d2093-fda7-4745-c44a-03f903b88833"
      },
      "source": [
        "test_data_dir_list.extend(tmp_data_dir_list)\n",
        "test_data_list.extend(tmp_data_list)"
      ],
      "execution_count": null,
      "outputs": [
        {
          "output_type": "display_data",
          "data": {
            "text/html": [
              "\n",
              "  <style>\n",
              "    pre {\n",
              "        white-space: pre-wrap;\n",
              "    }\n",
              "  </style>\n",
              "  "
            ],
            "text/plain": [
              "<IPython.core.display.HTML object>"
            ]
          },
          "metadata": {}
        }
      ]
    },
    {
      "cell_type": "code",
      "metadata": {
        "colab": {
          "base_uri": "https://localhost:8080/",
          "height": 146
        },
        "id": "Uq2OCuq5H0jJ",
        "outputId": "15780201-8f50-4d50-a3a3-4a79b1c588c8"
      },
      "source": [
        "test_data_dir_list"
      ],
      "execution_count": null,
      "outputs": [
        {
          "output_type": "display_data",
          "data": {
            "text/html": [
              "\n",
              "  <style>\n",
              "    pre {\n",
              "        white-space: pre-wrap;\n",
              "    }\n",
              "  </style>\n",
              "  "
            ],
            "text/plain": [
              "<IPython.core.display.HTML object>"
            ]
          },
          "metadata": {}
        },
        {
          "output_type": "execute_result",
          "data": {
            "text/plain": [
              "['/content/drive/MyDrive/muss/resources/datasets/asset_ABCD_0words_0911/test.complex',\n",
              " '/content/drive/MyDrive/muss/resources/datasets/asset_ABCD_1words_0911/test.complex',\n",
              " '/content/drive/MyDrive/muss/resources/datasets/asset_ABCD_2words_0911/test.complex',\n",
              " '/content/drive/MyDrive/muss/resources/datasets/asset_ABCD_3words_0911/test.complex',\n",
              " '/content/drive/MyDrive/muss/resources/datasets/asset_ABCD_4words_0911/test.complex',\n",
              " '/content/drive/MyDrive/muss/resources/datasets/asset_ABCD_5words_0911/test.complex',\n",
              " '/content/drive/MyDrive/muss/resources/datasets/asset_ABCD_6words_0911/test.complex']"
            ]
          },
          "metadata": {},
          "execution_count": 15
        }
      ]
    },
    {
      "cell_type": "code",
      "metadata": {
        "colab": {
          "base_uri": "https://localhost:8080/",
          "height": 146
        },
        "id": "TgYKeI_WH0jL",
        "outputId": "347c3e50-871d-4f77-b649-8b322108e56a"
      },
      "source": [
        "test_data_list"
      ],
      "execution_count": null,
      "outputs": [
        {
          "output_type": "display_data",
          "data": {
            "text/html": [
              "\n",
              "  <style>\n",
              "    pre {\n",
              "        white-space: pre-wrap;\n",
              "    }\n",
              "  </style>\n",
              "  "
            ],
            "text/plain": [
              "<IPython.core.display.HTML object>"
            ]
          },
          "metadata": {}
        },
        {
          "output_type": "execute_result",
          "data": {
            "text/plain": [
              "['asset.0.ABCD.test',\n",
              " 'asset.1.ABCD.test',\n",
              " 'asset.2.ABCD.test',\n",
              " 'asset.3.ABCD.test',\n",
              " 'asset.4.ABCD.test',\n",
              " 'asset.5.ABCD.test',\n",
              " 'asset.6.ABCD.test']"
            ]
          },
          "metadata": {},
          "execution_count": 16
        }
      ]
    },
    {
      "cell_type": "code",
      "metadata": {
        "id": "u30b5pfQu7uM",
        "colab": {
          "base_uri": "https://localhost:8080/",
          "height": 17
        },
        "outputId": "8225827a-fce5-41e7-d332-408bfcd17202"
      },
      "source": [
        "# additional_test_dir_list=[complex_asset_test_all_no_random_dir,complex_asset_test_all_random_dir]\n",
        "# additional_model_data_test_list=['asset.complex.all.test','asset.complex.allrandom.test']"
      ],
      "execution_count": null,
      "outputs": [
        {
          "output_type": "display_data",
          "data": {
            "text/html": [
              "\n",
              "  <style>\n",
              "    pre {\n",
              "        white-space: pre-wrap;\n",
              "    }\n",
              "  </style>\n",
              "  "
            ],
            "text/plain": [
              "<IPython.core.display.HTML object>"
            ]
          },
          "metadata": {}
        }
      ]
    },
    {
      "cell_type": "code",
      "metadata": {
        "colab": {
          "base_uri": "https://localhost:8080/",
          "height": 17
        },
        "id": "b99yoTjOH0jN",
        "outputId": "d8abb400-6100-4c47-c8c2-50052f27324d"
      },
      "source": [
        "test_data_dir_list.extend([\n",
        "                           asset_test_all_ABCDword_dir,\n",
        "                           asset_test_all_no_random_dir,\n",
        "                           asset_test_all_random_dir\n",
        "            \n",
        "             ]\n",
        ")\n",
        "\n",
        "test_data_list.extend([\n",
        "            'asset.allABCD.ABCD.test',\n",
        "             'asset.allwords.ABCD.test',\n",
        "             'asset.allwordsrandom.ABCD.test',\n",
        "             ]\n",
        ")\n"
      ],
      "execution_count": null,
      "outputs": [
        {
          "output_type": "display_data",
          "data": {
            "text/html": [
              "\n",
              "  <style>\n",
              "    pre {\n",
              "        white-space: pre-wrap;\n",
              "    }\n",
              "  </style>\n",
              "  "
            ],
            "text/plain": [
              "<IPython.core.display.HTML object>"
            ]
          },
          "metadata": {}
        }
      ]
    },
    {
      "cell_type": "code",
      "metadata": {
        "colab": {
          "base_uri": "https://localhost:8080/",
          "height": 201
        },
        "id": "K9lZBaC_H0jQ",
        "outputId": "21afb75a-3cb2-4e9b-d968-29ca60f515e3"
      },
      "source": [
        "test_data_dir_list"
      ],
      "execution_count": null,
      "outputs": [
        {
          "output_type": "display_data",
          "data": {
            "text/html": [
              "\n",
              "  <style>\n",
              "    pre {\n",
              "        white-space: pre-wrap;\n",
              "    }\n",
              "  </style>\n",
              "  "
            ],
            "text/plain": [
              "<IPython.core.display.HTML object>"
            ]
          },
          "metadata": {}
        },
        {
          "output_type": "execute_result",
          "data": {
            "text/plain": [
              "['/content/drive/MyDrive/muss/resources/datasets/asset_ABCD_0words_0911/test.complex',\n",
              " '/content/drive/MyDrive/muss/resources/datasets/asset_ABCD_1words_0911/test.complex',\n",
              " '/content/drive/MyDrive/muss/resources/datasets/asset_ABCD_2words_0911/test.complex',\n",
              " '/content/drive/MyDrive/muss/resources/datasets/asset_ABCD_3words_0911/test.complex',\n",
              " '/content/drive/MyDrive/muss/resources/datasets/asset_ABCD_4words_0911/test.complex',\n",
              " '/content/drive/MyDrive/muss/resources/datasets/asset_ABCD_5words_0911/test.complex',\n",
              " '/content/drive/MyDrive/muss/resources/datasets/asset_ABCD_6words_0911/test.complex',\n",
              " '/content/drive/MyDrive/muss/resources/datasets/asset_ABCD_C1C2B2/test.complex',\n",
              " '/content/drive/MyDrive/muss/resources/datasets/asset_ABCD_all_words_0911/test.complex',\n",
              " '/content/drive/MyDrive/muss/resources/datasets/asset_ABCD_all_words_random_0911/test.complex']"
            ]
          },
          "metadata": {},
          "execution_count": 19
        }
      ]
    },
    {
      "cell_type": "code",
      "metadata": {
        "colab": {
          "base_uri": "https://localhost:8080/",
          "height": 201
        },
        "id": "TvGTKtKhH0jR",
        "outputId": "2a0dc9dd-ccc3-4e27-c2c5-c1661ee5c3da"
      },
      "source": [
        "test_data_list"
      ],
      "execution_count": null,
      "outputs": [
        {
          "output_type": "display_data",
          "data": {
            "text/html": [
              "\n",
              "  <style>\n",
              "    pre {\n",
              "        white-space: pre-wrap;\n",
              "    }\n",
              "  </style>\n",
              "  "
            ],
            "text/plain": [
              "<IPython.core.display.HTML object>"
            ]
          },
          "metadata": {}
        },
        {
          "output_type": "execute_result",
          "data": {
            "text/plain": [
              "['asset.0.ABCD.test',\n",
              " 'asset.1.ABCD.test',\n",
              " 'asset.2.ABCD.test',\n",
              " 'asset.3.ABCD.test',\n",
              " 'asset.4.ABCD.test',\n",
              " 'asset.5.ABCD.test',\n",
              " 'asset.6.ABCD.test',\n",
              " 'asset.allABCD.ABCD.test',\n",
              " 'asset.allwords.ABCD.test',\n",
              " 'asset.allwordsrandom.ABCD.test']"
            ]
          },
          "metadata": {},
          "execution_count": 20
        }
      ]
    },
    {
      "cell_type": "markdown",
      "metadata": {
        "id": "Z6BPq-wUu7uF"
      },
      "source": [
        "# define test set path CERF+NER"
      ]
    },
    {
      "cell_type": "code",
      "metadata": {
        "id": "usSSZL-ku7uG",
        "colab": {
          "base_uri": "https://localhost:8080/",
          "height": 17
        },
        "outputId": "48003d88-e525-479b-ec70-098165988098"
      },
      "source": [
        "DATA_DIR = '/content/drive/MyDrive/muss/resources/datasets/'\n",
        "\n",
        "asset_valid_all_all_dir = DATA_DIR + f'asset_ABCD_NER/valid.complex'\n",
        "asset_test_all_all_dir = DATA_DIR + f'asset_ABCD_NER/test.complex'\n",
        "\n"
      ],
      "execution_count": null,
      "outputs": [
        {
          "output_type": "display_data",
          "data": {
            "text/html": [
              "\n",
              "  <style>\n",
              "    pre {\n",
              "        white-space: pre-wrap;\n",
              "    }\n",
              "  </style>\n",
              "  "
            ],
            "text/plain": [
              "<IPython.core.display.HTML object>"
            ]
          },
          "metadata": {}
        }
      ]
    },
    {
      "cell_type": "code",
      "metadata": {
        "id": "Z7EsigU2u7uI",
        "colab": {
          "base_uri": "https://localhost:8080/",
          "height": 17
        },
        "outputId": "d9ab3719-4690-4222-d7f0-01b18c529498"
      },
      "source": [
        "test_data_dir_list,test_data_list = [],[]"
      ],
      "execution_count": null,
      "outputs": [
        {
          "output_type": "display_data",
          "data": {
            "text/html": [
              "\n",
              "  <style>\n",
              "    pre {\n",
              "        white-space: pre-wrap;\n",
              "    }\n",
              "  </style>\n",
              "  "
            ],
            "text/plain": [
              "<IPython.core.display.HTML object>"
            ]
          },
          "metadata": {}
        }
      ]
    },
    {
      "cell_type": "code",
      "metadata": {
        "id": "CBCQGXd5u7uJ",
        "colab": {
          "base_uri": "https://localhost:8080/",
          "height": 17
        },
        "outputId": "4b104706-981b-40b6-b6e9-b993876e2830"
      },
      "source": [
        "tmp_data_dir_list = []\n",
        "tmp_data_list = []\n",
        "\n",
        "\n",
        "for i in range(7):\n",
        "  path_name = 'asset_ABCD_NER_fix_CERF_'+str(i)+'NE_dir'\n",
        "  globals()[path_name] = DATA_DIR+'asset_ABCD_NER_fix_CERF_'+str(i)+'NE/test.complex'\n",
        "\n",
        "  tmp_data_dir_list.append(globals()[path_name])\n",
        "  tmp_data_list.append('asset.allCERF.'+str(i)+'NE')"
      ],
      "execution_count": null,
      "outputs": [
        {
          "output_type": "display_data",
          "data": {
            "text/html": [
              "\n",
              "  <style>\n",
              "    pre {\n",
              "        white-space: pre-wrap;\n",
              "    }\n",
              "  </style>\n",
              "  "
            ],
            "text/plain": [
              "<IPython.core.display.HTML object>"
            ]
          },
          "metadata": {}
        }
      ]
    },
    {
      "cell_type": "code",
      "metadata": {
        "id": "gsEQxMuiu7uK",
        "colab": {
          "base_uri": "https://localhost:8080/",
          "height": 17
        },
        "outputId": "8608a0cc-7eda-458e-8c51-77a58b0223ed"
      },
      "source": [
        "test_data_dir_list.extend(tmp_data_dir_list)\n",
        "test_data_list.extend(tmp_data_list)"
      ],
      "execution_count": null,
      "outputs": [
        {
          "output_type": "display_data",
          "data": {
            "text/html": [
              "\n",
              "  <style>\n",
              "    pre {\n",
              "        white-space: pre-wrap;\n",
              "    }\n",
              "  </style>\n",
              "  "
            ],
            "text/plain": [
              "<IPython.core.display.HTML object>"
            ]
          },
          "metadata": {}
        }
      ]
    },
    {
      "cell_type": "code",
      "metadata": {
        "colab": {
          "base_uri": "https://localhost:8080/",
          "height": 146
        },
        "id": "w_BjwwFLu7uK",
        "outputId": "f4f9e357-a229-4db0-d9fb-8e044ca9bab1"
      },
      "source": [
        "test_data_dir_list"
      ],
      "execution_count": null,
      "outputs": [
        {
          "output_type": "display_data",
          "data": {
            "text/html": [
              "\n",
              "  <style>\n",
              "    pre {\n",
              "        white-space: pre-wrap;\n",
              "    }\n",
              "  </style>\n",
              "  "
            ],
            "text/plain": [
              "<IPython.core.display.HTML object>"
            ]
          },
          "metadata": {}
        },
        {
          "output_type": "execute_result",
          "data": {
            "text/plain": [
              "['/content/drive/MyDrive/muss/resources/datasets/asset_ABCD_NER_fix_CERF_0NE/test.complex',\n",
              " '/content/drive/MyDrive/muss/resources/datasets/asset_ABCD_NER_fix_CERF_1NE/test.complex',\n",
              " '/content/drive/MyDrive/muss/resources/datasets/asset_ABCD_NER_fix_CERF_2NE/test.complex',\n",
              " '/content/drive/MyDrive/muss/resources/datasets/asset_ABCD_NER_fix_CERF_3NE/test.complex',\n",
              " '/content/drive/MyDrive/muss/resources/datasets/asset_ABCD_NER_fix_CERF_4NE/test.complex',\n",
              " '/content/drive/MyDrive/muss/resources/datasets/asset_ABCD_NER_fix_CERF_5NE/test.complex',\n",
              " '/content/drive/MyDrive/muss/resources/datasets/asset_ABCD_NER_fix_CERF_6NE/test.complex']"
            ]
          },
          "metadata": {},
          "execution_count": 157
        }
      ]
    },
    {
      "cell_type": "code",
      "metadata": {
        "colab": {
          "base_uri": "https://localhost:8080/",
          "height": 146
        },
        "id": "n32ag7EFu7uM",
        "outputId": "5f786797-a779-4a36-a105-136b12b2491e"
      },
      "source": [
        "test_data_list"
      ],
      "execution_count": null,
      "outputs": [
        {
          "output_type": "display_data",
          "data": {
            "text/html": [
              "\n",
              "  <style>\n",
              "    pre {\n",
              "        white-space: pre-wrap;\n",
              "    }\n",
              "  </style>\n",
              "  "
            ],
            "text/plain": [
              "<IPython.core.display.HTML object>"
            ]
          },
          "metadata": {}
        },
        {
          "output_type": "execute_result",
          "data": {
            "text/plain": [
              "['asset.allCERF.0NE',\n",
              " 'asset.allCERF.1NE',\n",
              " 'asset.allCERF.2NE',\n",
              " 'asset.allCERF.3NE',\n",
              " 'asset.allCERF.4NE',\n",
              " 'asset.allCERF.5NE',\n",
              " 'asset.allCERF.6NE']"
            ]
          },
          "metadata": {},
          "execution_count": 158
        }
      ]
    },
    {
      "cell_type": "code",
      "metadata": {
        "colab": {
          "base_uri": "https://localhost:8080/",
          "height": 17
        },
        "id": "BnX5dA6P8HY9",
        "outputId": "101f3eb6-b73f-4e24-cd4b-a07e247a77d1"
      },
      "source": [
        "tmp_data_dir_list = []\n",
        "tmp_data_list = []\n",
        "\n",
        "\n",
        "for i in range(7):\n",
        "  path_name = 'asset_ABCD_NER_fix_NE_'+str(i)+'CERF_dir'\n",
        "  globals()[path_name] = DATA_DIR+'asset_ABCD_NER_fix_NE_'+str(i)+'CERF/test.complex'\n",
        "\n",
        "  tmp_data_dir_list.append(globals()[path_name])\n",
        "  tmp_data_list.append('asset.allNE.'+str(i)+'CERF')"
      ],
      "execution_count": null,
      "outputs": [
        {
          "output_type": "display_data",
          "data": {
            "text/html": [
              "\n",
              "  <style>\n",
              "    pre {\n",
              "        white-space: pre-wrap;\n",
              "    }\n",
              "  </style>\n",
              "  "
            ],
            "text/plain": [
              "<IPython.core.display.HTML object>"
            ]
          },
          "metadata": {}
        }
      ]
    },
    {
      "cell_type": "code",
      "metadata": {
        "colab": {
          "base_uri": "https://localhost:8080/",
          "height": 17
        },
        "id": "b9z8SUtQ8HV9",
        "outputId": "41517059-c0de-4fea-c234-b4abcdc6b360"
      },
      "source": [
        "test_data_dir_list.extend(tmp_data_dir_list)\n",
        "test_data_list.extend(tmp_data_list)"
      ],
      "execution_count": null,
      "outputs": [
        {
          "output_type": "display_data",
          "data": {
            "text/html": [
              "\n",
              "  <style>\n",
              "    pre {\n",
              "        white-space: pre-wrap;\n",
              "    }\n",
              "  </style>\n",
              "  "
            ],
            "text/plain": [
              "<IPython.core.display.HTML object>"
            ]
          },
          "metadata": {}
        }
      ]
    },
    {
      "cell_type": "code",
      "metadata": {
        "colab": {
          "base_uri": "https://localhost:8080/",
          "height": 274
        },
        "id": "hnkVnqj_8HTc",
        "outputId": "696e0136-7b20-49ae-834e-46fd1cbae35a"
      },
      "source": [
        "test_data_dir_list"
      ],
      "execution_count": null,
      "outputs": [
        {
          "output_type": "display_data",
          "data": {
            "text/html": [
              "\n",
              "  <style>\n",
              "    pre {\n",
              "        white-space: pre-wrap;\n",
              "    }\n",
              "  </style>\n",
              "  "
            ],
            "text/plain": [
              "<IPython.core.display.HTML object>"
            ]
          },
          "metadata": {}
        },
        {
          "output_type": "execute_result",
          "data": {
            "text/plain": [
              "['/content/drive/MyDrive/muss/resources/datasets/asset_ABCD_NER_fix_CERF_0NE/test.complex',\n",
              " '/content/drive/MyDrive/muss/resources/datasets/asset_ABCD_NER_fix_CERF_1NE/test.complex',\n",
              " '/content/drive/MyDrive/muss/resources/datasets/asset_ABCD_NER_fix_CERF_2NE/test.complex',\n",
              " '/content/drive/MyDrive/muss/resources/datasets/asset_ABCD_NER_fix_CERF_3NE/test.complex',\n",
              " '/content/drive/MyDrive/muss/resources/datasets/asset_ABCD_NER_fix_CERF_4NE/test.complex',\n",
              " '/content/drive/MyDrive/muss/resources/datasets/asset_ABCD_NER_fix_CERF_5NE/test.complex',\n",
              " '/content/drive/MyDrive/muss/resources/datasets/asset_ABCD_NER_fix_CERF_6NE/test.complex',\n",
              " '/content/drive/MyDrive/muss/resources/datasets/asset_ABCD_NER_fix_NE_0CERF/test.complex',\n",
              " '/content/drive/MyDrive/muss/resources/datasets/asset_ABCD_NER_fix_NE_1CERF/test.complex',\n",
              " '/content/drive/MyDrive/muss/resources/datasets/asset_ABCD_NER_fix_NE_2CERF/test.complex',\n",
              " '/content/drive/MyDrive/muss/resources/datasets/asset_ABCD_NER_fix_NE_3CERF/test.complex',\n",
              " '/content/drive/MyDrive/muss/resources/datasets/asset_ABCD_NER_fix_NE_4CERF/test.complex',\n",
              " '/content/drive/MyDrive/muss/resources/datasets/asset_ABCD_NER_fix_NE_5CERF/test.complex',\n",
              " '/content/drive/MyDrive/muss/resources/datasets/asset_ABCD_NER_fix_NE_6CERF/test.complex']"
            ]
          },
          "metadata": {},
          "execution_count": 162
        }
      ]
    },
    {
      "cell_type": "code",
      "metadata": {
        "colab": {
          "base_uri": "https://localhost:8080/",
          "height": 274
        },
        "id": "kcTi0agp86qB",
        "outputId": "aefae980-f948-47a3-96a8-cc6a1f15775b"
      },
      "source": [
        "test_data_list"
      ],
      "execution_count": null,
      "outputs": [
        {
          "output_type": "display_data",
          "data": {
            "text/html": [
              "\n",
              "  <style>\n",
              "    pre {\n",
              "        white-space: pre-wrap;\n",
              "    }\n",
              "  </style>\n",
              "  "
            ],
            "text/plain": [
              "<IPython.core.display.HTML object>"
            ]
          },
          "metadata": {}
        },
        {
          "output_type": "execute_result",
          "data": {
            "text/plain": [
              "['asset.allCERF.0NE',\n",
              " 'asset.allCERF.1NE',\n",
              " 'asset.allCERF.2NE',\n",
              " 'asset.allCERF.3NE',\n",
              " 'asset.allCERF.4NE',\n",
              " 'asset.allCERF.5NE',\n",
              " 'asset.allCERF.6NE',\n",
              " 'asset.allNE.0CERF',\n",
              " 'asset.allNE.1CERF',\n",
              " 'asset.allNE.2CERF',\n",
              " 'asset.allNE.3CERF',\n",
              " 'asset.allNE.4CERF',\n",
              " 'asset.allNE.5CERF',\n",
              " 'asset.allNE.6CERF']"
            ]
          },
          "metadata": {},
          "execution_count": 163
        }
      ]
    },
    {
      "cell_type": "code",
      "metadata": {
        "id": "M3J41YQEu7uN",
        "colab": {
          "base_uri": "https://localhost:8080/",
          "height": 17
        },
        "outputId": "fdcc3be1-1fc1-44f0-9816-e142b7904439"
      },
      "source": [
        "test_data_dir_list.extend([\n",
        "                           asset_test_all_all_dir\n",
        "            \n",
        "             ]\n",
        ")\n",
        "\n",
        "test_data_list.extend([\n",
        "            'asset.allNE.allCERF',\n",
        "\n",
        "             ]\n",
        ")\n"
      ],
      "execution_count": null,
      "outputs": [
        {
          "output_type": "display_data",
          "data": {
            "text/html": [
              "\n",
              "  <style>\n",
              "    pre {\n",
              "        white-space: pre-wrap;\n",
              "    }\n",
              "  </style>\n",
              "  "
            ],
            "text/plain": [
              "<IPython.core.display.HTML object>"
            ]
          },
          "metadata": {}
        }
      ]
    },
    {
      "cell_type": "code",
      "metadata": {
        "colab": {
          "base_uri": "https://localhost:8080/",
          "height": 293
        },
        "id": "McOhZXliu7uO",
        "outputId": "d55dcc89-bf28-4541-ed84-cd5e1bf25021"
      },
      "source": [
        "test_data_dir_list"
      ],
      "execution_count": null,
      "outputs": [
        {
          "output_type": "display_data",
          "data": {
            "text/html": [
              "\n",
              "  <style>\n",
              "    pre {\n",
              "        white-space: pre-wrap;\n",
              "    }\n",
              "  </style>\n",
              "  "
            ],
            "text/plain": [
              "<IPython.core.display.HTML object>"
            ]
          },
          "metadata": {}
        },
        {
          "output_type": "execute_result",
          "data": {
            "text/plain": [
              "['/content/drive/MyDrive/muss/resources/datasets/asset_ABCD_NER_fix_CERF_0NE/test.complex',\n",
              " '/content/drive/MyDrive/muss/resources/datasets/asset_ABCD_NER_fix_CERF_1NE/test.complex',\n",
              " '/content/drive/MyDrive/muss/resources/datasets/asset_ABCD_NER_fix_CERF_2NE/test.complex',\n",
              " '/content/drive/MyDrive/muss/resources/datasets/asset_ABCD_NER_fix_CERF_3NE/test.complex',\n",
              " '/content/drive/MyDrive/muss/resources/datasets/asset_ABCD_NER_fix_CERF_4NE/test.complex',\n",
              " '/content/drive/MyDrive/muss/resources/datasets/asset_ABCD_NER_fix_CERF_5NE/test.complex',\n",
              " '/content/drive/MyDrive/muss/resources/datasets/asset_ABCD_NER_fix_CERF_6NE/test.complex',\n",
              " '/content/drive/MyDrive/muss/resources/datasets/asset_ABCD_NER_fix_NE_0CERF/test.complex',\n",
              " '/content/drive/MyDrive/muss/resources/datasets/asset_ABCD_NER_fix_NE_1CERF/test.complex',\n",
              " '/content/drive/MyDrive/muss/resources/datasets/asset_ABCD_NER_fix_NE_2CERF/test.complex',\n",
              " '/content/drive/MyDrive/muss/resources/datasets/asset_ABCD_NER_fix_NE_3CERF/test.complex',\n",
              " '/content/drive/MyDrive/muss/resources/datasets/asset_ABCD_NER_fix_NE_4CERF/test.complex',\n",
              " '/content/drive/MyDrive/muss/resources/datasets/asset_ABCD_NER_fix_NE_5CERF/test.complex',\n",
              " '/content/drive/MyDrive/muss/resources/datasets/asset_ABCD_NER_fix_NE_6CERF/test.complex',\n",
              " '/content/drive/MyDrive/muss/resources/datasets/asset_ABCD_NER/test.complex']"
            ]
          },
          "metadata": {},
          "execution_count": 166
        }
      ]
    },
    {
      "cell_type": "code",
      "metadata": {
        "colab": {
          "base_uri": "https://localhost:8080/",
          "height": 293
        },
        "id": "dcKov6Zju7uQ",
        "outputId": "c055f965-c7d5-4ee6-a92e-e0069018e4fd"
      },
      "source": [
        "test_data_list"
      ],
      "execution_count": null,
      "outputs": [
        {
          "output_type": "display_data",
          "data": {
            "text/html": [
              "\n",
              "  <style>\n",
              "    pre {\n",
              "        white-space: pre-wrap;\n",
              "    }\n",
              "  </style>\n",
              "  "
            ],
            "text/plain": [
              "<IPython.core.display.HTML object>"
            ]
          },
          "metadata": {}
        },
        {
          "output_type": "execute_result",
          "data": {
            "text/plain": [
              "['asset.allCERF.0NE',\n",
              " 'asset.allCERF.1NE',\n",
              " 'asset.allCERF.2NE',\n",
              " 'asset.allCERF.3NE',\n",
              " 'asset.allCERF.4NE',\n",
              " 'asset.allCERF.5NE',\n",
              " 'asset.allCERF.6NE',\n",
              " 'asset.allNE.0CERF',\n",
              " 'asset.allNE.1CERF',\n",
              " 'asset.allNE.2CERF',\n",
              " 'asset.allNE.3CERF',\n",
              " 'asset.allNE.4CERF',\n",
              " 'asset.allNE.5CERF',\n",
              " 'asset.allNE.6CERF',\n",
              " 'asset.allNE.allCERF']"
            ]
          },
          "metadata": {},
          "execution_count": 167
        }
      ]
    },
    {
      "cell_type": "markdown",
      "metadata": {
        "id": "zHmHM9Ho6Hmr"
      },
      "source": [
        "# add model info"
      ]
    },
    {
      "cell_type": "code",
      "metadata": {
        "id": "1UGZPgiI6Hms",
        "colab": {
          "base_uri": "https://localhost:8080/",
          "height": 17
        },
        "outputId": "a9c956b2-c91d-4941-c851-0bd747bafb11"
      },
      "source": [
        "MODEL_DIR = '/content/drive/MyDrive/muss/experiments/fairseq/'"
      ],
      "execution_count": null,
      "outputs": [
        {
          "output_type": "display_data",
          "data": {
            "text/html": [
              "\n",
              "  <style>\n",
              "    pre {\n",
              "        white-space: pre-wrap;\n",
              "    }\n",
              "  </style>\n",
              "  "
            ],
            "text/plain": [
              "<IPython.core.display.HTML object>"
            ]
          },
          "metadata": {}
        }
      ]
    },
    {
      "cell_type": "code",
      "metadata": {
        "id": "N92HCTdd6Hms",
        "colab": {
          "base_uri": "https://localhost:8080/",
          "height": 17
        },
        "outputId": "e7596c85-a9f8-4411-f002-6bf61cb0a7cb"
      },
      "source": [
        "model_dir_dict = {}\n",
        "\n",
        "def add_item_to_dict(**kwargs):\n",
        "\n",
        "  id = len(model_dir_dict)\n",
        "  model_dir_dict[id]={}\n",
        "\n",
        "  for key, value in kwargs.items():\n",
        "    model_dir_dict[id][key]=value\n",
        "  print('added:',model_dir_dict[id])"
      ],
      "execution_count": null,
      "outputs": [
        {
          "output_type": "display_data",
          "data": {
            "text/html": [
              "\n",
              "  <style>\n",
              "    pre {\n",
              "        white-space: pre-wrap;\n",
              "    }\n",
              "  </style>\n",
              "  "
            ],
            "text/plain": [
              "<IPython.core.display.HTML object>"
            ]
          },
          "metadata": {}
        }
      ]
    },
    {
      "cell_type": "code",
      "metadata": {
        "colab": {
          "base_uri": "https://localhost:8080/",
          "height": 35
        },
        "id": "SjR9TgC76Hmt",
        "outputId": "8f5941f1-274f-481d-c54d-adb59b0eed50"
      },
      "source": [
        "add_item_to_dict(model_id=len(model_dir_dict),exp_dir='/content/drive/MyDrive/muss/resources/models/bart_mined',model_name='bart_mined')"
      ],
      "execution_count": null,
      "outputs": [
        {
          "output_type": "display_data",
          "data": {
            "text/html": [
              "\n",
              "  <style>\n",
              "    pre {\n",
              "        white-space: pre-wrap;\n",
              "    }\n",
              "  </style>\n",
              "  "
            ],
            "text/plain": [
              "<IPython.core.display.HTML object>"
            ]
          },
          "metadata": {}
        },
        {
          "output_type": "stream",
          "name": "stdout",
          "text": [
            "added: {'model_id': 0, 'exp_dir': '/content/drive/MyDrive/muss/resources/models/bart_mined', 'model_name': 'bart_mined'}\n"
          ]
        }
      ]
    },
    {
      "cell_type": "code",
      "metadata": {
        "colab": {
          "base_uri": "https://localhost:8080/",
          "height": 90
        },
        "id": "uTss15ty6Hmu",
        "outputId": "6c8a1a6c-1c80-46e6-dbc0-95ebf0bed2fa"
      },
      "source": [
        "add_item_to_dict(model_id=len(model_dir_dict),exp_dir='/content/drive/MyDrive/muss/resources/models/bart_mined_wikilarge',model_name='bart_mined_wikilarge',\n",
        "                 preprocessors_kwargs = {\n",
        "        'LengthRatioPreprocessor': {'target_ratio': 0.9, 'use_short_name': False},\n",
        "        'ReplaceOnlyLevenshteinPreprocessor': {'target_ratio': 0.65, 'use_short_name': False},\n",
        "        'WordRankRatioPreprocessor': {'target_ratio': 0.75, 'language': 'en', 'use_short_name': False},\n",
        "        'DependencyTreeDepthRatioPreprocessor': {'target_ratio': 0.4, 'language': 'en', 'use_short_name': False},\n",
        "    })"
      ],
      "execution_count": null,
      "outputs": [
        {
          "output_type": "display_data",
          "data": {
            "text/html": [
              "\n",
              "  <style>\n",
              "    pre {\n",
              "        white-space: pre-wrap;\n",
              "    }\n",
              "  </style>\n",
              "  "
            ],
            "text/plain": [
              "<IPython.core.display.HTML object>"
            ]
          },
          "metadata": {}
        },
        {
          "output_type": "stream",
          "name": "stdout",
          "text": [
            "added: {'model_id': 1, 'exp_dir': '/content/drive/MyDrive/muss/resources/models/bart_mined_wikilarge', 'model_name': 'bart_mined_wikilarge', 'preprocessors_kwargs': {'LengthRatioPreprocessor': {'target_ratio': 0.9, 'use_short_name': False}, 'ReplaceOnlyLevenshteinPreprocessor': {'target_ratio': 0.65, 'use_short_name': False}, 'WordRankRatioPreprocessor': {'target_ratio': 0.75, 'language': 'en', 'use_short_name': False}, 'DependencyTreeDepthRatioPreprocessor': {'target_ratio': 0.4, 'language': 'en', 'use_short_name': False}}}\n"
          ]
        }
      ]
    },
    {
      "cell_type": "code",
      "metadata": {
        "colab": {
          "base_uri": "https://localhost:8080/",
          "height": 35
        },
        "id": "rNJUBQt86Hmv",
        "outputId": "acb85744-ab44-4c4d-ad84-1404094a91be"
      },
      "source": [
        "add_item_to_dict(model_id=len(model_dir_dict),\n",
        "                #  exp_dir=MODEL_DIR+'local_1626908793158/',\n",
        "                #  model_name='bart_wikilarge_wo_token',\n",
        "                #  info=\n",
        "                #  '''\n",
        "                #  training not completed. \n",
        "                #  use original code.\n",
        "                #  use detoken wikilarge data. i.e. no NER token added.\n",
        "                #  use_asset=True.\n",
        "                #  load bart.large.\n",
        "                #  '''\n",
        "                 )"
      ],
      "execution_count": null,
      "outputs": [
        {
          "output_type": "display_data",
          "data": {
            "text/html": [
              "\n",
              "  <style>\n",
              "    pre {\n",
              "        white-space: pre-wrap;\n",
              "    }\n",
              "  </style>\n",
              "  "
            ],
            "text/plain": [
              "<IPython.core.display.HTML object>"
            ]
          },
          "metadata": {}
        },
        {
          "output_type": "stream",
          "name": "stdout",
          "text": [
            "added: {'model_id': 2}\n"
          ]
        }
      ]
    },
    {
      "cell_type": "code",
      "metadata": {
        "id": "XIbr5sEs6Hmv",
        "colab": {
          "base_uri": "https://localhost:8080/",
          "height": 17
        },
        "outputId": "fdb92a61-1c20-4bf3-b820-64f11abfdc75"
      },
      "source": [
        "# add_item_to_dict(model_id=3,\n",
        "#                  exp_dir=MODEL_DIR+'local_1627339476925/',\n",
        "#                  model_name='bart_change_train_data',\n",
        "#                  info=\n",
        "#                  '''\n",
        "#                  training completed. \n",
        "#                  scores={'bleu': 89.16241953789482, 'sari': 36.58989077668025, 'fkgl': 7.628744390338841}\n",
        "#                  use original code.\n",
        "#                  training data: use NER added detoken wikilarge.\n",
        "#                  test and valid: use detoken wikilarge data. i.e. no NER token added.\n",
        "#                  use_asset=False.\n",
        "#                  load muss.\n",
        "#                  ''')"
      ],
      "execution_count": null,
      "outputs": [
        {
          "output_type": "display_data",
          "data": {
            "text/html": [
              "\n",
              "  <style>\n",
              "    pre {\n",
              "        white-space: pre-wrap;\n",
              "    }\n",
              "  </style>\n",
              "  "
            ],
            "text/plain": [
              "<IPython.core.display.HTML object>"
            ]
          },
          "metadata": {}
        }
      ]
    },
    {
      "cell_type": "code",
      "metadata": {
        "colab": {
          "base_uri": "https://localhost:8080/",
          "height": 35
        },
        "id": "SrIVpwBi6Hmx",
        "outputId": "43113f14-ae6c-4953-e731-66920ac60cc1"
      },
      "source": [
        "add_item_to_dict(model_id=len(model_dir_dict),\n",
        "                #  exp_dir=MODEL_DIR+'local_1627676101775/',\n",
        "                #  model_name='bart_change_all_data',\n",
        "                #  info=\n",
        "                #  '''\n",
        "                #  training not completed. \n",
        "                #  train, test, valid data: NER added wikilarge data.\n",
        "                #  use_asset=True.\n",
        "                #  load bart.large.\n",
        "                #  '''\n",
        "                 )"
      ],
      "execution_count": null,
      "outputs": [
        {
          "output_type": "display_data",
          "data": {
            "text/html": [
              "\n",
              "  <style>\n",
              "    pre {\n",
              "        white-space: pre-wrap;\n",
              "    }\n",
              "  </style>\n",
              "  "
            ],
            "text/plain": [
              "<IPython.core.display.HTML object>"
            ]
          },
          "metadata": {}
        },
        {
          "output_type": "stream",
          "name": "stdout",
          "text": [
            "added: {'model_id': 3}\n"
          ]
        }
      ]
    },
    {
      "cell_type": "code",
      "metadata": {
        "colab": {
          "base_uri": "https://localhost:8080/",
          "height": 35
        },
        "id": "lQe0QEDC6Hmy",
        "outputId": "40e99d6b-ae32-4ed0-d9a2-f3ae7791f7be"
      },
      "source": [
        "add_item_to_dict(model_id=len(model_dir_dict),\n",
        "                #  exp_dir=MODEL_DIR+'local_1627757030330/',\n",
        "                #  model_name='bart_change_all_data',\n",
        "                #  info=\n",
        "                #  '''\n",
        "                #  training completed.\n",
        "                #  scores={'bleu': 76.51763175185911, 'sari': 44.9886054760627, 'fkgl': 6.2702108605400255}!!(should rerun using predict_file=asset_token)\n",
        "                #  train, test, valid data: NER added wikilarge data.\n",
        "                #  use_asset=True.\n",
        "                #  load bart.large.\n",
        "                #  continue train on local_1627676101775/checkpoints/checkpoint_6_3200.pt\n",
        "                #  ''',\n",
        "                #  recommended_preprocessors_kwargs={'LengthRatioPreprocessor': {'target_ratio': 0.8183618791572886, 'use_short_name': False}, 'ReplaceOnlyLevenshteinPreprocessor': {'target_ratio': 0.7897938410469331, 'use_short_name': False}, 'WordRankRatioPreprocessor': {'target_ratio': 0.8047148154836818, 'language': 'en', 'use_short_name': False}, 'DependencyTreeDepthRatioPreprocessor': {'target_ratio': 0.7532679172898086, 'language': 'en', 'use_short_name': False}, 'GPT2BPEPreprocessor': {}}\n",
        "                 )"
      ],
      "execution_count": null,
      "outputs": [
        {
          "output_type": "display_data",
          "data": {
            "text/html": [
              "\n",
              "  <style>\n",
              "    pre {\n",
              "        white-space: pre-wrap;\n",
              "    }\n",
              "  </style>\n",
              "  "
            ],
            "text/plain": [
              "<IPython.core.display.HTML object>"
            ]
          },
          "metadata": {}
        },
        {
          "output_type": "stream",
          "name": "stdout",
          "text": [
            "added: {'model_id': 4}\n"
          ]
        }
      ]
    },
    {
      "cell_type": "code",
      "metadata": {
        "colab": {
          "base_uri": "https://localhost:8080/",
          "height": 35
        },
        "id": "olEy1cHR6Hmy",
        "outputId": "5de51ea1-85d7-4639-df4f-9e32dfb1632d"
      },
      "source": [
        "add_item_to_dict(model_id=len(model_dir_dict),\n",
        "                #  exp_dir=MODEL_DIR+'local_1627767953241/',\n",
        "                #  model_name='muss_change_all_data',\n",
        "                #  info=\n",
        "                #  '''\n",
        "                #  training not completed. \n",
        "                #  train, test, valid data: NER added wikilarge data.\n",
        "                #  use_asset=True.\n",
        "                #  load muss_mined.\n",
        "                #  ''',\n",
        "                #  train_args=\n",
        "                #  '''\n",
        "                #  fairseq-train /content/drive/MyDrive/muss/resources/datasets/_59df15dce93dacacb2a9ada082637f1e/fairseq_preprocessed_complex-simple --task translation --source-lang complex --target-lang simple --save-dir /content/drive/MyDrive/muss/experiments/fairseq/local_1627767953241/checkpoints --optimizer adam --adam-betas '(0.9, 0.98)' --clip-norm 0.0 --criterion label_smoothed_cross_entropy --label-smoothing 0.1 --lr-scheduler polynomial_decay --lr 3e-05 --warmup-updates 500 --update-freq 128 --arch bart_large --dropout 0.1 --weight-decay 0.0 --clip-norm 0.1 --share-all-embeddings --no-epoch-checkpoints --save-interval 999999 --validate-interval 999999 --max-update 20000 --save-interval-updates 100 --keep-interval-updates 1 --patience 10 --batch-size 64 --seed 555 --distributed-world-size 1 --distributed-port 16491 --fp16 --restore-file '/content/drive/MyDrive/muss/resources/models/bart_mined/model.pt' --max-tokens 512 --truncate-source --layernorm-embedding --share-all-embeddings --share-decoder-input-output-embed --reset-optimizer --reset-dataloader --reset-meters --required-batch-size-multiple 1 --label-smoothing 0.1 --attention-dropout 0.1 --weight-decay 0.01 --optimizer 'adam' --adam-betas '(0.9, 0.999)' --adam-eps 1e-08 --clip-norm 0.1 --skip-invalid-size-inputs-valid-test --find-unused-parameters\n",
        "                #  '''\n",
        "                 )\n",
        "\n"
      ],
      "execution_count": null,
      "outputs": [
        {
          "output_type": "display_data",
          "data": {
            "text/html": [
              "\n",
              "  <style>\n",
              "    pre {\n",
              "        white-space: pre-wrap;\n",
              "    }\n",
              "  </style>\n",
              "  "
            ],
            "text/plain": [
              "<IPython.core.display.HTML object>"
            ]
          },
          "metadata": {}
        },
        {
          "output_type": "stream",
          "name": "stdout",
          "text": [
            "added: {'model_id': 5}\n"
          ]
        }
      ]
    },
    {
      "cell_type": "code",
      "metadata": {
        "colab": {
          "base_uri": "https://localhost:8080/",
          "height": 35
        },
        "id": "Rur0jVG26Hm0",
        "outputId": "ae33708f-4a47-46f7-8cc0-b9f73149a37d"
      },
      "source": [
        "add_item_to_dict(model_id=len(model_dir_dict),\n",
        "#                  exp_dir=MODEL_DIR+'local_1627838987960/',\n",
        "#                  model_name='muss_change_all_data',\n",
        "#                  info=\n",
        "#                  '''\n",
        "#                  train complete.\n",
        "#                  scores={'bleu': 80.62918711490221, 'sari': 44.16175529588565, 'fkgl': 7.079753954439823}(predict file used asset_token.)\n",
        "#                  train, test, valid data: NER added wikilarge data.\n",
        "#                  use_asset=True.\n",
        "#                  load muss_mined.\n",
        "#                  ''',\n",
        "#                  recommended_preprocessors_kwargs={'DependencyTreeDepthRatioPreprocessor': {'language': 'en',\n",
        "#   'target_ratio': 0.8937919408369409,\n",
        "#   'use_short_name': False},\n",
        "#  'GPT2BPEPreprocessor': {},\n",
        "#  'LengthRatioPreprocessor': {'target_ratio': 0.8625830047202065,\n",
        "#   'use_short_name': False},\n",
        "#  'ReplaceOnlyLevenshteinPreprocessor': {'target_ratio': 0.8706196758216501,\n",
        "#   'use_short_name': False},\n",
        "#  'WordRankRatioPreprocessor': {'language': 'en',\n",
        "#   'target_ratio': 0.9829037295830106,\n",
        "#   'use_short_name': False}}\n",
        "  )\n",
        "\n"
      ],
      "execution_count": null,
      "outputs": [
        {
          "output_type": "display_data",
          "data": {
            "text/html": [
              "\n",
              "  <style>\n",
              "    pre {\n",
              "        white-space: pre-wrap;\n",
              "    }\n",
              "  </style>\n",
              "  "
            ],
            "text/plain": [
              "<IPython.core.display.HTML object>"
            ]
          },
          "metadata": {}
        },
        {
          "output_type": "stream",
          "name": "stdout",
          "text": [
            "added: {'model_id': 6}\n"
          ]
        }
      ]
    },
    {
      "cell_type": "code",
      "metadata": {
        "colab": {
          "base_uri": "https://localhost:8080/",
          "height": 35
        },
        "id": "UP1FO8p06Hm1",
        "outputId": "5ea1ad5f-c5c7-48e7-a3ea-e55a8798d869"
      },
      "source": [
        "add_item_to_dict(model_id=len(model_dir_dict),\n",
        "                #  exp_dir=MODEL_DIR+'local_1628033181968/',\n",
        "                #  model_name='muss_1',\n",
        "                #  info=\n",
        "                #  '''\n",
        "                #  train complete\n",
        "                #  # complex NE\n",
        "                #  train, test, valid data: NER added wikilarge data.\n",
        "                #  1. changed dictionaru\n",
        "                # 2. changed extract special token\n",
        "                # 3. changed train kwargs\n",
        "                # 4.muss/evaluation\\general 2 function changed \n",
        "                # 5.muss/fairseq/base train arg\n",
        "                #  use_asset=True.\n",
        "                #  load muss_mined.\n",
        "                #  ''',\n",
        "                #  recommended_preprocessors_kwargs=\n",
        "                #  {'LengthRatioPreprocessor': {'target_ratio': 0.9013845768472064, 'use_short_name': False}, \n",
        "                #   'ReplaceOnlyLevenshteinPreprocessor': {'target_ratio': 0.8412439617313068, 'use_short_name': False}, \n",
        "                #   'WordRankRatioPreprocessor': {'target_ratio': 0.945465089807053, 'language': 'en', 'use_short_name': False}, \n",
        "                #   'DependencyTreeDepthRatioPreprocessor': {'target_ratio': 0.3179728920946812, 'language': 'en', 'use_short_name': False}, \n",
        "                #   'GPT2BPEPreprocessor': {}}\n",
        "                 )\n",
        "\n"
      ],
      "execution_count": null,
      "outputs": [
        {
          "output_type": "display_data",
          "data": {
            "text/html": [
              "\n",
              "  <style>\n",
              "    pre {\n",
              "        white-space: pre-wrap;\n",
              "    }\n",
              "  </style>\n",
              "  "
            ],
            "text/plain": [
              "<IPython.core.display.HTML object>"
            ]
          },
          "metadata": {}
        },
        {
          "output_type": "stream",
          "name": "stdout",
          "text": [
            "added: {'model_id': 7}\n"
          ]
        }
      ]
    },
    {
      "cell_type": "code",
      "metadata": {
        "colab": {
          "base_uri": "https://localhost:8080/",
          "height": 146
        },
        "id": "pwOE-EYj6Hm2",
        "outputId": "da0c1e7a-3153-4fc8-a50a-8cab414cee23"
      },
      "source": [
        "add_item_to_dict(model_id=len(model_dir_dict),\n",
        "#                  exp_dir=MODEL_DIR+'local_1628299139742/',\n",
        "#                  model_name='muss_train_use_target_NER',\n",
        "#                  info=\n",
        "#                  '''\n",
        "#                  train complete\n",
        "#                  train,test, valid: insert target NER into source.\n",
        "#                  1. changed dictionary\n",
        "#                 2. changed extract special token\n",
        "#                 3. changed train kwargs\n",
        "#                 4.muss/evaluation\\general 2 function changed \n",
        "#                 5.muss/fairseq/base train arg\n",
        "#                  use_asset=True.\n",
        "#                  load muss_mined.\n",
        "#                  token_data_wikilarge_0807\n",
        "#                  ''',\n",
        "#                  # use source NE\n",
        "#                  recommended_preprocessors_kwargs=\n",
        "#                  {'LengthRatioPreprocessor': {'target_ratio': 0.9232791040422811, 'use_short_name': False}, \n",
        "#  'ReplaceOnlyLevenshteinPreprocessor': {'target_ratio': 0.7547104722847939, 'use_short_name': False}, \n",
        "#  'WordRankRatioPreprocessor': {'target_ratio': 0.8384149385346878, 'language': 'en', 'use_short_name': False}, \n",
        "#  'DependencyTreeDepthRatioPreprocessor': {'target_ratio': 0.45741492410366896, 'language': 'en', 'use_short_name': False}, \n",
        "#  'GPT2BPEPreprocessor': {}}\n",
        "                 )\n",
        "\n",
        "# use clean target NE\n",
        "# # recommended_preprocessors_kwargs=\n",
        "# {'LengthRatioPreprocessor': {'target_ratio': 0.909607027613668, 'use_short_name': False}, \n",
        "#  'ReplaceOnlyLevenshteinPreprocessor': {'target_ratio': 0.8162749783306084, 'use_short_name': False}, \n",
        "#  'WordRankRatioPreprocessor': {'target_ratio': 0.5462451568701605, 'language': 'en', 'use_short_name': False}, \n",
        "#  'DependencyTreeDepthRatioPreprocessor': {'target_ratio': 0.3694423178221648, 'language': 'en', 'use_short_name': False}, \n",
        "#  'GPT2BPEPreprocessor': {}}"
      ],
      "execution_count": null,
      "outputs": [
        {
          "output_type": "display_data",
          "data": {
            "text/html": [
              "\n",
              "  <style>\n",
              "    pre {\n",
              "        white-space: pre-wrap;\n",
              "    }\n",
              "  </style>\n",
              "  "
            ],
            "text/plain": [
              "<IPython.core.display.HTML object>"
            ]
          },
          "metadata": {}
        },
        {
          "output_type": "stream",
          "name": "stdout",
          "text": [
            "added: {'model_id': 8, 'exp_dir': '/content/drive/MyDrive/muss/experiments/fairseq/local_1628299139742/', 'model_name': 'muss_train_use_target_NER', 'info': '\\n                 train complete\\n                 train,test, valid: insert target NER into source.\\n                 1. changed dictionary\\n                2. changed extract special token\\n                3. changed train kwargs\\n                4.muss/evaluation\\\\general 2 function changed \\n                5.muss/fairseq/base train arg\\n                 use_asset=True.\\n                 load muss_mined.\\n                 token_data_wikilarge_0807\\n                 ', 'recommended_preprocessors_kwargs': {'LengthRatioPreprocessor': {'target_ratio': 0.9232791040422811, 'use_short_name': False}, 'ReplaceOnlyLevenshteinPreprocessor': {'target_ratio': 0.7547104722847939, 'use_short_name': False}, 'WordRankRatioPreprocessor': {'target_ratio': 0.8384149385346878, 'language': 'en', 'use_short_name': False}, 'DependencyTreeDepthRatioPreprocessor': {'target_ratio': 0.45741492410366896, 'language': 'en', 'use_short_name': False}, 'GPT2BPEPreprocessor': {}}}\n"
          ]
        }
      ]
    },
    {
      "cell_type": "code",
      "metadata": {
        "colab": {
          "base_uri": "https://localhost:8080/",
          "height": 72
        },
        "id": "yeMyd_wH6Hm3",
        "outputId": "46854de4-1f70-4acd-c8b3-e38c030b0133"
      },
      "source": [
        "add_item_to_dict(model_id=len(model_dir_dict),\n",
        "                #  exp_dir=MODEL_DIR+'local_1628356825356/',\n",
        "                #  model_name='muss_train_use_co_occur_NER',\n",
        "                #  info=\n",
        "                #  '''\n",
        "                #  train complete\n",
        "                #  train: insert NER that is both in target and source.\n",
        "                # test, valid data: unchanged wikilarge. NER is from source.\n",
        "                #  use_asset=True.\n",
        "                #  load muss_mined.\n",
        "                #  token_data_wikilarge_0807_cooccur\n",
        "                #  ''',\n",
        "                 \n",
        "                 )\n",
        "\n"
      ],
      "execution_count": null,
      "outputs": [
        {
          "output_type": "display_data",
          "data": {
            "text/html": [
              "\n",
              "  <style>\n",
              "    pre {\n",
              "        white-space: pre-wrap;\n",
              "    }\n",
              "  </style>\n",
              "  "
            ],
            "text/plain": [
              "<IPython.core.display.HTML object>"
            ]
          },
          "metadata": {}
        },
        {
          "output_type": "stream",
          "name": "stdout",
          "text": [
            "added: {'model_id': 9, 'exp_dir': '/content/drive/MyDrive/muss/experiments/fairseq/local_1628356825356/', 'model_name': 'muss_train_use_co_occur_NER', 'info': '\\n                 train complete\\n                 train: insert NER that is both in target and source.\\n                test, valid data: unchanged wikilarge. NER is from source.\\n                 use_asset=True.\\n                 load muss_mined.\\n                 token_data_wikilarge_0807_cooccur\\n                 '}\n"
          ]
        }
      ]
    },
    {
      "cell_type": "code",
      "metadata": {
        "colab": {
          "base_uri": "https://localhost:8080/",
          "height": 127
        },
        "id": "1NIaoAeH6Hm3",
        "outputId": "09784b00-4d6d-4483-949e-4e992165944c"
      },
      "source": [
        "add_item_to_dict(model_id=len(model_dir_dict),\n",
        "                #  exp_dir=MODEL_DIR+'local_1628357063986/',\n",
        "                #  model_name='muss_no_NER',\n",
        "                #  info=\n",
        "                #  '''\n",
        "                #  train complete\n",
        "                #  train: insert NER that is both in target and source.\n",
        "                # test, valid data: unchanged wikilarge. NER is from source.\n",
        "                #  use_asset=True.\n",
        "                #  load muss_mined.\n",
        "                #  token_data_wikilarge_0807_no_NER\n",
        "                #  ''',\n",
        "                #  recommended_preprocessors_kwargs=\n",
        "                #  {'LengthRatioPreprocessor': {'target_ratio': 0.671471662548423, 'use_short_name': False}, \n",
        "                #   'ReplaceOnlyLevenshteinPreprocessor': {'target_ratio': 0.7899616811007996, 'use_short_name': False}, \n",
        "                #   'WordRankRatioPreprocessor': {'target_ratio': 0.40813050670938067, 'language': 'en', 'use_short_name': False}, \n",
        "                #   'DependencyTreeDepthRatioPreprocessor': {'target_ratio': 0.791613961476961, 'language': 'en', 'use_short_name': False}, \n",
        "                #   'GPT2BPEPreprocessor': {}}\n",
        "\n",
        "                 )\n",
        "\n",
        "\n"
      ],
      "execution_count": null,
      "outputs": [
        {
          "output_type": "display_data",
          "data": {
            "text/html": [
              "\n",
              "  <style>\n",
              "    pre {\n",
              "        white-space: pre-wrap;\n",
              "    }\n",
              "  </style>\n",
              "  "
            ],
            "text/plain": [
              "<IPython.core.display.HTML object>"
            ]
          },
          "metadata": {}
        },
        {
          "output_type": "stream",
          "name": "stdout",
          "text": [
            "added: {'model_id': 10, 'exp_dir': '/content/drive/MyDrive/muss/experiments/fairseq/local_1628357063986/', 'model_name': 'muss_no_NER', 'info': '\\n                 train complete\\n                 train: insert NER that is both in target and source.\\n                test, valid data: unchanged wikilarge. NER is from source.\\n                 use_asset=True.\\n                 load muss_mined.\\n                 token_data_wikilarge_0807_no_NER\\n                 ', 'recommended_preprocessors_kwargs': {'LengthRatioPreprocessor': {'target_ratio': 0.671471662548423, 'use_short_name': False}, 'ReplaceOnlyLevenshteinPreprocessor': {'target_ratio': 0.7899616811007996, 'use_short_name': False}, 'WordRankRatioPreprocessor': {'target_ratio': 0.40813050670938067, 'language': 'en', 'use_short_name': False}, 'DependencyTreeDepthRatioPreprocessor': {'target_ratio': 0.791613961476961, 'language': 'en', 'use_short_name': False}, 'GPT2BPEPreprocessor': {}}}\n"
          ]
        }
      ]
    },
    {
      "cell_type": "code",
      "metadata": {
        "colab": {
          "base_uri": "https://localhost:8080/",
          "height": 146
        },
        "id": "kY7Bn4O-6Hm3",
        "outputId": "004c7149-b356-436b-928b-3d3442cef105"
      },
      "source": [
        "add_item_to_dict(model_id=len(model_dir_dict),\n",
        "#                  exp_dir=MODEL_DIR+'local_1628299139742/',\n",
        "#                  model_name='muss_train_use_target_NER',\n",
        "#                  info=\n",
        "#                  '''\n",
        "#                  train complete\n",
        "#                  train: insert target sentence NER into source.\n",
        "#                 test, valid data: unchanged wikilarge. NER is from source.\n",
        "#                  1. changed dictionary\n",
        "#                 2. changed extract special token\n",
        "#                 3. changed train kwargs\n",
        "#                 4.muss/evaluation\\general 2 function changed \n",
        "#                 5.muss/fairseq/base train arg\n",
        "#                  use_asset=True.\n",
        "#                  load muss_mined.\n",
        "#                  token_data_wikilarge_0807\n",
        "#                  ''',\n",
        "#                  # use clean target NE\n",
        "#                  recommended_preprocessors_kwargs=\n",
        "#                  {'LengthRatioPreprocessor': {'target_ratio': 0.909607027613668, 'use_short_name': False}, \n",
        "#  'ReplaceOnlyLevenshteinPreprocessor': {'target_ratio': 0.8162749783306084, 'use_short_name': False}, \n",
        "#  'WordRankRatioPreprocessor': {'target_ratio': 0.5462451568701605, 'language': 'en', 'use_short_name': False}, \n",
        "#  'DependencyTreeDepthRatioPreprocessor': {'target_ratio': 0.3694423178221648, 'language': 'en', 'use_short_name': False}, \n",
        "#  'GPT2BPEPreprocessor': {}}\n",
        "                 )\n",
        "\n",
        "# use clean target NE\n",
        "# # recommended_preprocessors_kwargs=\n",
        "# {'LengthRatioPreprocessor': {'target_ratio': 0.909607027613668, 'use_short_name': False}, \n",
        "#  'ReplaceOnlyLevenshteinPreprocessor': {'target_ratio': 0.8162749783306084, 'use_short_name': False}, \n",
        "#  'WordRankRatioPreprocessor': {'target_ratio': 0.5462451568701605, 'language': 'en', 'use_short_name': False}, \n",
        "#  'DependencyTreeDepthRatioPreprocessor': {'target_ratio': 0.3694423178221648, 'language': 'en', 'use_short_name': False}, \n",
        "#  'GPT2BPEPreprocessor': {}}"
      ],
      "execution_count": null,
      "outputs": [
        {
          "output_type": "display_data",
          "data": {
            "text/html": [
              "\n",
              "  <style>\n",
              "    pre {\n",
              "        white-space: pre-wrap;\n",
              "    }\n",
              "  </style>\n",
              "  "
            ],
            "text/plain": [
              "<IPython.core.display.HTML object>"
            ]
          },
          "metadata": {}
        },
        {
          "output_type": "stream",
          "name": "stdout",
          "text": [
            "added: {'model_id': 11, 'exp_dir': '/content/drive/MyDrive/muss/experiments/fairseq/local_1628299139742/', 'model_name': 'muss_train_use_target_NER', 'info': '\\n                 train complete\\n                 train: insert target sentence NER into source.\\n                test, valid data: unchanged wikilarge. NER is from source.\\n                 1. changed dictionary\\n                2. changed extract special token\\n                3. changed train kwargs\\n                4.muss/evaluation\\\\general 2 function changed \\n                5.muss/fairseq/base train arg\\n                 use_asset=True.\\n                 load muss_mined.\\n                 token_data_wikilarge_0807\\n                 ', 'recommended_preprocessors_kwargs': {'LengthRatioPreprocessor': {'target_ratio': 0.909607027613668, 'use_short_name': False}, 'ReplaceOnlyLevenshteinPreprocessor': {'target_ratio': 0.8162749783306084, 'use_short_name': False}, 'WordRankRatioPreprocessor': {'target_ratio': 0.5462451568701605, 'language': 'en', 'use_short_name': False}, 'DependencyTreeDepthRatioPreprocessor': {'target_ratio': 0.3694423178221648, 'language': 'en', 'use_short_name': False}, 'GPT2BPEPreprocessor': {}}}\n"
          ]
        }
      ]
    },
    {
      "cell_type": "code",
      "metadata": {
        "colab": {
          "base_uri": "https://localhost:8080/",
          "height": 54
        },
        "id": "az0qNSMV6Hm4",
        "outputId": "df81fed7-961a-4488-f1b2-079a2d841309"
      },
      "source": [
        "add_item_to_dict(model_id=len(model_dir_dict),\n",
        "                #  exp_dir=MODEL_DIR+'local_1628632701978/',\n",
        "                #  model_name='muss_complex_0810',\n",
        "                #  dataset='token_complex_wikilarge_0810',\n",
        "                #  info=\n",
        "                #  '''\n",
        "                #  train complete\n",
        "                #  train,test,valid\n",
        "                #  use_asset=True.\n",
        "                #  load muss_mined.\n",
        "                #  ''',\n",
        "                 # source NE\n",
        "\n",
        "                 )\n",
        "\n"
      ],
      "execution_count": null,
      "outputs": [
        {
          "output_type": "display_data",
          "data": {
            "text/html": [
              "\n",
              "  <style>\n",
              "    pre {\n",
              "        white-space: pre-wrap;\n",
              "    }\n",
              "  </style>\n",
              "  "
            ],
            "text/plain": [
              "<IPython.core.display.HTML object>"
            ]
          },
          "metadata": {}
        },
        {
          "output_type": "stream",
          "name": "stdout",
          "text": [
            "added: {'model_id': 12, 'exp_dir': '/content/drive/MyDrive/muss/experiments/fairseq/local_1628632701978/', 'model_name': 'muss_complex_0810', 'dataset': 'token_complex_wikilarge_0810', 'info': '\\n                 train complete\\n                 train,test,valid\\n                 use_asset=True.\\n                 load muss_mined.\\n                 '}\n"
          ]
        }
      ]
    },
    {
      "cell_type": "code",
      "metadata": {
        "colab": {
          "base_uri": "https://localhost:8080/",
          "height": 54
        },
        "id": "_wM-mjGX6Hm4",
        "outputId": "2e179534-cb4b-417a-8656-f3cba50c5ae8"
      },
      "source": [
        "add_item_to_dict(model_id=len(model_dir_dict),\n",
        "                #  exp_dir=MODEL_DIR+'local_1628632701978/',\n",
        "                #  model_name='muss_complex_0810',\n",
        "                #  dataset='token_complex_wikilarge_0810',\n",
        "                #  info=\n",
        "                #  '''\n",
        "                #  train complete\n",
        "                #  train,test,valid\n",
        "                #  use_asset=True.\n",
        "                #  load muss_mined.\n",
        "                #  ''',\n",
        "                 # target NE\n",
        "                 \n",
        "                 )\n",
        "\n"
      ],
      "execution_count": null,
      "outputs": [
        {
          "output_type": "display_data",
          "data": {
            "text/html": [
              "\n",
              "  <style>\n",
              "    pre {\n",
              "        white-space: pre-wrap;\n",
              "    }\n",
              "  </style>\n",
              "  "
            ],
            "text/plain": [
              "<IPython.core.display.HTML object>"
            ]
          },
          "metadata": {}
        },
        {
          "output_type": "stream",
          "name": "stdout",
          "text": [
            "added: {'model_id': 13, 'exp_dir': '/content/drive/MyDrive/muss/experiments/fairseq/local_1628632701978/', 'model_name': 'muss_complex_0810', 'dataset': 'token_complex_wikilarge_0810', 'info': '\\n                 train complete\\n                 train,test,valid\\n                 use_asset=True.\\n                 load muss_mined.\\n                 '}\n"
          ]
        }
      ]
    },
    {
      "cell_type": "code",
      "metadata": {
        "colab": {
          "base_uri": "https://localhost:8080/",
          "height": 127
        },
        "id": "kYgd5_H86Hm5",
        "outputId": "50a153f4-93b8-43a3-80fe-01a807226896"
      },
      "source": [
        "add_item_to_dict(model_id=len(model_dir_dict),\n",
        "                #  exp_dir=MODEL_DIR+'local_1628635148170/',\n",
        "                #  model_name='muss_co_occur_0810', # clean\n",
        "                #  dataset='token_data_wikilarge_0810_cooccur',\n",
        "                #  info=\n",
        "                #  '''\n",
        "                #  train complete\n",
        "                #  train,test,valid: insert NER that is both in target and source.\n",
        "                #  use_asset=True.\n",
        "                #  load muss_mined.\n",
        "                #  ''',\n",
        "                # #  soruce NE\n",
        "                #  # cluster\n",
        "                #  recommended_preprocessors_kwargs=\n",
        "                #  {'LengthRatioPreprocessor': \n",
        "                #   {'target_ratio': 0.7106468975998875, 'use_short_name': False}, \n",
        "                #   'ReplaceOnlyLevenshteinPreprocessor': {'target_ratio': 0.7209310103866642, 'use_short_name': False}, \n",
        "                #   'WordRankRatioPreprocessor': {'target_ratio': 0.6883820678495148, 'language': 'en', 'use_short_name': False},\n",
        "                #   'DependencyTreeDepthRatioPreprocessor': {'target_ratio': 0.22377179007596412, 'language': 'en', 'use_short_name': False}, \n",
        "                #   'GPT2BPEPreprocessor': {}}\n",
        "                 )\n",
        "\n"
      ],
      "execution_count": null,
      "outputs": [
        {
          "output_type": "display_data",
          "data": {
            "text/html": [
              "\n",
              "  <style>\n",
              "    pre {\n",
              "        white-space: pre-wrap;\n",
              "    }\n",
              "  </style>\n",
              "  "
            ],
            "text/plain": [
              "<IPython.core.display.HTML object>"
            ]
          },
          "metadata": {}
        },
        {
          "output_type": "stream",
          "name": "stdout",
          "text": [
            "added: {'model_id': 14, 'exp_dir': '/content/drive/MyDrive/muss/experiments/fairseq/local_1628635148170/', 'model_name': 'muss_co_occur_0810', 'dataset': 'token_data_wikilarge_0810_cooccur', 'info': '\\n                 train complete\\n                 train,test,valid: insert NER that is both in target and source.\\n                 use_asset=True.\\n                 load muss_mined.\\n                 ', 'recommended_preprocessors_kwargs': {'LengthRatioPreprocessor': {'target_ratio': 0.7106468975998875, 'use_short_name': False}, 'ReplaceOnlyLevenshteinPreprocessor': {'target_ratio': 0.7209310103866642, 'use_short_name': False}, 'WordRankRatioPreprocessor': {'target_ratio': 0.6883820678495148, 'language': 'en', 'use_short_name': False}, 'DependencyTreeDepthRatioPreprocessor': {'target_ratio': 0.22377179007596412, 'language': 'en', 'use_short_name': False}, 'GPT2BPEPreprocessor': {}}}\n"
          ]
        }
      ]
    },
    {
      "cell_type": "code",
      "metadata": {
        "colab": {
          "base_uri": "https://localhost:8080/",
          "height": 127
        },
        "id": "q9Uk6LGk6Hm5",
        "outputId": "13a9fb39-0bed-4dde-c5c5-068e1eb89d92"
      },
      "source": [
        "add_item_to_dict(model_id=len(model_dir_dict),\n",
        "                #  exp_dir=MODEL_DIR+'local_1628635148170/',\n",
        "                #  model_name='muss_co_occur_0810', # clean\n",
        "                #  dataset='token_data_wikilarge_0810_cooccur',\n",
        "                #  info=\n",
        "                #  '''\n",
        "                #  train complete\n",
        "                #  train,test,valid: insert NER that is both in target and source.\n",
        "                #  use_asset=True.\n",
        "                #  load muss_mined.\n",
        "                #  ''',\n",
        "                # #  target NE\n",
        "                # recommended_preprocessors_kwargs=\n",
        "                #  {'LengthRatioPreprocessor': {'target_ratio': 1.0420012310744888, 'use_short_name': False}, \n",
        "                #   'ReplaceOnlyLevenshteinPreprocessor': {'target_ratio': 0.7158657422607126, 'use_short_name': False}, \n",
        "                #   'WordRankRatioPreprocessor': {'target_ratio': 0.5760708375407306, 'language': 'en', 'use_short_name': False}, \n",
        "                #   'DependencyTreeDepthRatioPreprocessor': {'target_ratio': 0.21329612191393035, 'language': 'en', 'use_short_name': False}, \n",
        "                #   'GPT2BPEPreprocessor': {}}\n",
        "                 )\n",
        "\n"
      ],
      "execution_count": null,
      "outputs": [
        {
          "output_type": "display_data",
          "data": {
            "text/html": [
              "\n",
              "  <style>\n",
              "    pre {\n",
              "        white-space: pre-wrap;\n",
              "    }\n",
              "  </style>\n",
              "  "
            ],
            "text/plain": [
              "<IPython.core.display.HTML object>"
            ]
          },
          "metadata": {}
        },
        {
          "output_type": "stream",
          "name": "stdout",
          "text": [
            "added: {'model_id': 15, 'exp_dir': '/content/drive/MyDrive/muss/experiments/fairseq/local_1628635148170/', 'model_name': 'muss_co_occur_0810', 'dataset': 'token_data_wikilarge_0810_cooccur', 'info': '\\n                 train complete\\n                 train,test,valid: insert NER that is both in target and source.\\n                 use_asset=True.\\n                 load muss_mined.\\n                 ', 'recommended_preprocessors_kwargs': {'LengthRatioPreprocessor': {'target_ratio': 1.0420012310744888, 'use_short_name': False}, 'ReplaceOnlyLevenshteinPreprocessor': {'target_ratio': 0.7158657422607126, 'use_short_name': False}, 'WordRankRatioPreprocessor': {'target_ratio': 0.5760708375407306, 'language': 'en', 'use_short_name': False}, 'DependencyTreeDepthRatioPreprocessor': {'target_ratio': 0.21329612191393035, 'language': 'en', 'use_short_name': False}, 'GPT2BPEPreprocessor': {}}}\n"
          ]
        }
      ]
    },
    {
      "cell_type": "code",
      "metadata": {
        "colab": {
          "base_uri": "https://localhost:8080/",
          "height": 109
        },
        "id": "9XZeC_Tv6Hm6",
        "outputId": "6400d544-507e-4d12-8ff8-2bedc73785a3"
      },
      "source": [
        "add_item_to_dict(model_id=len(model_dir_dict),\n",
        "                #  exp_dir=MODEL_DIR+'local_1628718821939/',\n",
        "                #  model_name='muss_simple_0810', # clean\n",
        "                #  dataset='token_simple_wikilarge_0810',\n",
        "                #  info=\n",
        "                #  '''\n",
        "                #  train complete\n",
        "                #  train,test,valid: insert NER that is both in target and source.\n",
        "                #  use_asset=True.\n",
        "                #  load muss_mined.\n",
        "                #  ''',\n",
        "                # #  source NE\n",
        "                # recommended_preprocessors_kwargs=\n",
        "                #  {'LengthRatioPreprocessor': {'target_ratio': 0.8745775160578683, 'use_short_name': False}, \n",
        "                #   'ReplaceOnlyLevenshteinPreprocessor': {'target_ratio': 0.8184146111849491, 'use_short_name': False}, \n",
        "                #   'WordRankRatioPreprocessor': {'target_ratio': 0.8301636377664322, 'language': 'en', 'use_short_name': False}, \n",
        "                #   'DependencyTreeDepthRatioPreprocessor': {'target_ratio': 0.574831422440179, 'language': 'en', 'use_short_name': False}, \n",
        "                #   'GPT2BPEPreprocessor': {}}\n",
        "                 )\n",
        "\n"
      ],
      "execution_count": null,
      "outputs": [
        {
          "output_type": "display_data",
          "data": {
            "text/html": [
              "\n",
              "  <style>\n",
              "    pre {\n",
              "        white-space: pre-wrap;\n",
              "    }\n",
              "  </style>\n",
              "  "
            ],
            "text/plain": [
              "<IPython.core.display.HTML object>"
            ]
          },
          "metadata": {}
        },
        {
          "output_type": "stream",
          "name": "stdout",
          "text": [
            "added: {'model_id': 16, 'exp_dir': '/content/drive/MyDrive/muss/experiments/fairseq/local_1628718821939/', 'model_name': 'muss_simple_0810', 'dataset': 'token_simple_wikilarge_0810', 'info': '\\n                 train complete\\n                 train,test,valid: insert NER that is both in target and source.\\n                 use_asset=True.\\n                 load muss_mined.\\n                 ', 'recommended_preprocessors_kwargs': {'LengthRatioPreprocessor': {'target_ratio': 0.8745775160578683, 'use_short_name': False}, 'ReplaceOnlyLevenshteinPreprocessor': {'target_ratio': 0.8184146111849491, 'use_short_name': False}, 'WordRankRatioPreprocessor': {'target_ratio': 0.8301636377664322, 'language': 'en', 'use_short_name': False}, 'DependencyTreeDepthRatioPreprocessor': {'target_ratio': 0.574831422440179, 'language': 'en', 'use_short_name': False}, 'GPT2BPEPreprocessor': {}}}\n"
          ]
        }
      ]
    },
    {
      "cell_type": "code",
      "metadata": {
        "colab": {
          "base_uri": "https://localhost:8080/",
          "height": 72
        },
        "id": "2EFEx0x46Hm7",
        "outputId": "b112a55a-1275-409e-920b-704490ce9177"
      },
      "source": [
        "add_item_to_dict(model_id=len(model_dir_dict),\n",
        "                #  exp_dir=MODEL_DIR+'local_1628718821939/',\n",
        "                #  model_name='muss_simple_0810', # clean\n",
        "                #  dataset='token_simple_wikilarge_0810',\n",
        "                #  info=\n",
        "                #  '''\n",
        "                #  train complete\n",
        "                #  train,test,valid: insert NER that is both in target and source.\n",
        "                #  use_asset=True.\n",
        "                #  load muss_mined.\n",
        "                #  ''',\n",
        "                # #  target NE\n",
        "\n",
        "                 )\n",
        "\n"
      ],
      "execution_count": null,
      "outputs": [
        {
          "output_type": "display_data",
          "data": {
            "text/html": [
              "\n",
              "  <style>\n",
              "    pre {\n",
              "        white-space: pre-wrap;\n",
              "    }\n",
              "  </style>\n",
              "  "
            ],
            "text/plain": [
              "<IPython.core.display.HTML object>"
            ]
          },
          "metadata": {}
        },
        {
          "output_type": "stream",
          "name": "stdout",
          "text": [
            "added: {'model_id': 17, 'exp_dir': '/content/drive/MyDrive/muss/experiments/fairseq/local_1628718821939/', 'model_name': 'muss_simple_0810', 'dataset': 'token_simple_wikilarge_0810', 'info': '\\n                 train complete\\n                 train,test,valid: insert NER that is both in target and source.\\n                 use_asset=True.\\n                 load muss_mined.\\n                 '}\n"
          ]
        }
      ]
    },
    {
      "cell_type": "code",
      "metadata": {
        "colab": {
          "base_uri": "https://localhost:8080/",
          "height": 109
        },
        "id": "CIY3qK5C6Hm8",
        "outputId": "f9122822-05f2-4832-87ad-d480dccf09ad"
      },
      "source": [
        "# complex/complex\n",
        "add_item_to_dict(model_id=len(model_dir_dict),\n",
        "                 exp_dir=MODEL_DIR+'local_1629593348299/',\n",
        "                 model_name='muss_complex_0822', # delete simple sentence not contain '.', and any of word in simple not in complex\n",
        "                 dataset='wikilarge_final_complex_0821',\n",
        "                 info=\n",
        "                 '''\n",
        "                 train complete\n",
        "                 use_asset=True.\n",
        "                 load muss_mined.\n",
        "                 ''',\n",
        "                # complex NE\n",
        "                 recommended_preprocessors_kwargs={\n",
        "                     'LengthRatioPreprocessor': {'target_ratio': 0.956836653713281, 'use_short_name': False}, \n",
        "                     'ReplaceOnlyLevenshteinPreprocessor': {'target_ratio': 0.7285203296261804, 'use_short_name': False}, \n",
        "                     'WordRankRatioPreprocessor': {'target_ratio': 0.77610910374061, 'language': 'en', 'use_short_name': False}, \n",
        "                     'DependencyTreeDepthRatioPreprocessor': {'target_ratio': 0.33930538813771477, 'language': 'en', 'use_short_name': False}, \n",
        "                     'GPT2BPEPreprocessor': {}}\n",
        "\n",
        "                 )\n",
        "\n"
      ],
      "execution_count": null,
      "outputs": [
        {
          "output_type": "display_data",
          "data": {
            "text/html": [
              "\n",
              "  <style>\n",
              "    pre {\n",
              "        white-space: pre-wrap;\n",
              "    }\n",
              "  </style>\n",
              "  "
            ],
            "text/plain": [
              "<IPython.core.display.HTML object>"
            ]
          },
          "metadata": {}
        },
        {
          "output_type": "stream",
          "name": "stdout",
          "text": [
            "added: {'model_id': 18, 'exp_dir': '/content/drive/MyDrive/muss/experiments/fairseq/local_1629593348299/', 'model_name': 'muss_complex_0822', 'dataset': 'wikilarge_final_complex_0821', 'info': '\\n                 train complete\\n                 use_asset=True.\\n                 load muss_mined.\\n                 ', 'recommended_preprocessors_kwargs': {'LengthRatioPreprocessor': {'target_ratio': 0.956836653713281, 'use_short_name': False}, 'ReplaceOnlyLevenshteinPreprocessor': {'target_ratio': 0.7285203296261804, 'use_short_name': False}, 'WordRankRatioPreprocessor': {'target_ratio': 0.77610910374061, 'language': 'en', 'use_short_name': False}, 'DependencyTreeDepthRatioPreprocessor': {'target_ratio': 0.33930538813771477, 'language': 'en', 'use_short_name': False}, 'GPT2BPEPreprocessor': {}}}\n"
          ]
        }
      ]
    },
    {
      "cell_type": "code",
      "metadata": {
        "colab": {
          "base_uri": "https://localhost:8080/",
          "height": 109
        },
        "id": "DrA0Ilxj6Hm8",
        "outputId": "32aebf92-4767-4d94-c6d3-7c0b06f32950"
      },
      "source": [
        "# complex/simple\n",
        "add_item_to_dict(model_id=len(model_dir_dict),\n",
        "                 exp_dir=MODEL_DIR+'local_1629593348299/',\n",
        "                 model_name='muss_complex_0822', # delete simple sentence not contain '.', and any of word in simple not in complex\n",
        "                 dataset='wikilarge_final_complex_0821',\n",
        "                 info=\n",
        "                 '''\n",
        "                 train complete\n",
        "                 use_asset=True.\n",
        "                 load muss_mined.\n",
        "                 ''',\n",
        "                # simple NE\n",
        "recommended_preprocessors_kwargs=\n",
        "{'LengthRatioPreprocessor': {'target_ratio': 0.9700595349762818, 'use_short_name': False}, \n",
        " 'ReplaceOnlyLevenshteinPreprocessor': {'target_ratio': 0.81504274123193, 'use_short_name': False}, \n",
        " 'WordRankRatioPreprocessor': {'target_ratio': 0.8269654939477459, 'language': 'en', 'use_short_name': False},\n",
        " 'DependencyTreeDepthRatioPreprocessor': {'target_ratio': 0.29353456265546596, 'language': 'en', 'use_short_name': False},\n",
        " 'GPT2BPEPreprocessor': {}}\n",
        "\n",
        "\n",
        "                 )\n",
        "\n"
      ],
      "execution_count": null,
      "outputs": [
        {
          "output_type": "display_data",
          "data": {
            "text/html": [
              "\n",
              "  <style>\n",
              "    pre {\n",
              "        white-space: pre-wrap;\n",
              "    }\n",
              "  </style>\n",
              "  "
            ],
            "text/plain": [
              "<IPython.core.display.HTML object>"
            ]
          },
          "metadata": {}
        },
        {
          "output_type": "stream",
          "name": "stdout",
          "text": [
            "added: {'model_id': 19, 'exp_dir': '/content/drive/MyDrive/muss/experiments/fairseq/local_1629593348299/', 'model_name': 'muss_complex_0822', 'dataset': 'wikilarge_final_complex_0821', 'info': '\\n                 train complete\\n                 use_asset=True.\\n                 load muss_mined.\\n                 ', 'recommended_preprocessors_kwargs': {'LengthRatioPreprocessor': {'target_ratio': 0.9700595349762818, 'use_short_name': False}, 'ReplaceOnlyLevenshteinPreprocessor': {'target_ratio': 0.81504274123193, 'use_short_name': False}, 'WordRankRatioPreprocessor': {'target_ratio': 0.8269654939477459, 'language': 'en', 'use_short_name': False}, 'DependencyTreeDepthRatioPreprocessor': {'target_ratio': 0.29353456265546596, 'language': 'en', 'use_short_name': False}, 'GPT2BPEPreprocessor': {}}}\n"
          ]
        }
      ]
    },
    {
      "cell_type": "code",
      "metadata": {
        "colab": {
          "base_uri": "https://localhost:8080/",
          "height": 109
        },
        "id": "JpNvyqqz6Hm8",
        "outputId": "3ce79a70-1025-4e97-ca2c-c2d3218d6d4c"
      },
      "source": [
        "# simple/complex\n",
        "\n",
        "add_item_to_dict(model_id=len(model_dir_dict),\n",
        "                 exp_dir=MODEL_DIR+'local_1629593322552/',\n",
        "                 model_name='muss_simple_0822', # delete simple sentence not contain '.', and any of word in simple not in complex\n",
        "                 dataset='wikilarge_final_simple_0821',\n",
        "                 info=\n",
        "                 '''\n",
        "                 train complete\n",
        "                 use_asset=True.\n",
        "                 load muss_mined.\n",
        "                 ''',\n",
        "                # complex NE\n",
        "                 recommended_preprocessors_kwargs=\n",
        "                 {'LengthRatioPreprocessor': {'target_ratio': 0.9489030771756881, 'use_short_name': False}, \n",
        "                  'ReplaceOnlyLevenshteinPreprocessor': {'target_ratio': 0.8512708177758973, 'use_short_name': False}, \n",
        "                  'WordRankRatioPreprocessor': {'target_ratio': 0.4332282006330827, 'language': 'en', 'use_short_name': False}, \n",
        "                  'DependencyTreeDepthRatioPreprocessor': {'target_ratio': 0.48180181825919544, 'language': 'en', 'use_short_name': False}, \n",
        "                  'GPT2BPEPreprocessor': {}}\n",
        "                 )\n",
        "\n"
      ],
      "execution_count": null,
      "outputs": [
        {
          "output_type": "display_data",
          "data": {
            "text/html": [
              "\n",
              "  <style>\n",
              "    pre {\n",
              "        white-space: pre-wrap;\n",
              "    }\n",
              "  </style>\n",
              "  "
            ],
            "text/plain": [
              "<IPython.core.display.HTML object>"
            ]
          },
          "metadata": {}
        },
        {
          "output_type": "stream",
          "name": "stdout",
          "text": [
            "added: {'model_id': 20, 'exp_dir': '/content/drive/MyDrive/muss/experiments/fairseq/local_1629593322552/', 'model_name': 'muss_simple_0822', 'dataset': 'wikilarge_final_simple_0821', 'info': '\\n                 train complete\\n                 use_asset=True.\\n                 load muss_mined.\\n                 ', 'recommended_preprocessors_kwargs': {'LengthRatioPreprocessor': {'target_ratio': 0.9489030771756881, 'use_short_name': False}, 'ReplaceOnlyLevenshteinPreprocessor': {'target_ratio': 0.8512708177758973, 'use_short_name': False}, 'WordRankRatioPreprocessor': {'target_ratio': 0.4332282006330827, 'language': 'en', 'use_short_name': False}, 'DependencyTreeDepthRatioPreprocessor': {'target_ratio': 0.48180181825919544, 'language': 'en', 'use_short_name': False}, 'GPT2BPEPreprocessor': {}}}\n"
          ]
        }
      ]
    },
    {
      "cell_type": "code",
      "metadata": {
        "colab": {
          "base_uri": "https://localhost:8080/",
          "height": 109
        },
        "id": "ZSNpy_Kr6Hm9",
        "outputId": "93ba8492-3de7-4030-e5de-b6f9028212b8"
      },
      "source": [
        "# simple/simple\n",
        "\n",
        "add_item_to_dict(model_id=len(model_dir_dict),\n",
        "                 exp_dir=MODEL_DIR+'local_1629593322552/',\n",
        "                 model_name='muss_simple_0822', # delete simple sentence not contain '.', and any of word in simple not in complex\n",
        "                 dataset='wikilarge_final_simple_0821',\n",
        "                 info=\n",
        "                 '''\n",
        "                 train complete\n",
        "                 use_asset=True.\n",
        "                 load muss_mined.\n",
        "                 ''',\n",
        "                # simple NE\n",
        "                 recommended_preprocessors_kwargs=\n",
        "                 {'LengthRatioPreprocessor': {'target_ratio': 0.9027911048335139, 'use_short_name': False}, \n",
        "                  'ReplaceOnlyLevenshteinPreprocessor': {'target_ratio': 0.8490285416814356, 'use_short_name': False}, \n",
        "                  'WordRankRatioPreprocessor': {'target_ratio': 0.823359682206033, 'language': 'en', 'use_short_name': False},\n",
        "                  'DependencyTreeDepthRatioPreprocessor': {'target_ratio': 0.41809516782054756, 'language': 'en', 'use_short_name': False}, \n",
        "                  'GPT2BPEPreprocessor': {}}\n",
        "                 )\n",
        "\n"
      ],
      "execution_count": null,
      "outputs": [
        {
          "output_type": "display_data",
          "data": {
            "text/html": [
              "\n",
              "  <style>\n",
              "    pre {\n",
              "        white-space: pre-wrap;\n",
              "    }\n",
              "  </style>\n",
              "  "
            ],
            "text/plain": [
              "<IPython.core.display.HTML object>"
            ]
          },
          "metadata": {}
        },
        {
          "output_type": "stream",
          "name": "stdout",
          "text": [
            "added: {'model_id': 21, 'exp_dir': '/content/drive/MyDrive/muss/experiments/fairseq/local_1629593322552/', 'model_name': 'muss_simple_0822', 'dataset': 'wikilarge_final_simple_0821', 'info': '\\n                 train complete\\n                 use_asset=True.\\n                 load muss_mined.\\n                 ', 'recommended_preprocessors_kwargs': {'LengthRatioPreprocessor': {'target_ratio': 0.9027911048335139, 'use_short_name': False}, 'ReplaceOnlyLevenshteinPreprocessor': {'target_ratio': 0.8490285416814356, 'use_short_name': False}, 'WordRankRatioPreprocessor': {'target_ratio': 0.823359682206033, 'language': 'en', 'use_short_name': False}, 'DependencyTreeDepthRatioPreprocessor': {'target_ratio': 0.41809516782054756, 'language': 'en', 'use_short_name': False}, 'GPT2BPEPreprocessor': {}}}\n"
          ]
        }
      ]
    },
    {
      "cell_type": "code",
      "metadata": {
        "colab": {
          "base_uri": "https://localhost:8080/",
          "height": 109
        },
        "id": "nkDAHrob6Hm9",
        "outputId": "5b2e1763-5034-4c4b-f780-71c526150a2b"
      },
      "source": [
        "# both/complex\n",
        "\n",
        "add_item_to_dict(model_id=len(model_dir_dict),\n",
        "                 exp_dir=MODEL_DIR+'local_1629750798219/',\n",
        "                 model_name='muss_cooc_0822', # delete simple sentence not contain '.', and any of word in simple not in complex\n",
        "                 dataset='wikilarge_cooc_0823',\n",
        "                 info=\n",
        "                 '''\n",
        "                 train complete\n",
        "                 use_asset=True.\n",
        "                 load muss_mined.\n",
        "                 ''',\n",
        "                # complex NE\n",
        "                 recommended_preprocessors_kwargs=\n",
        "                 {'LengthRatioPreprocessor': {'target_ratio': 0.835076952260348, 'use_short_name': False}, \n",
        "                  'ReplaceOnlyLevenshteinPreprocessor': {'target_ratio': 0.8358750604197434, 'use_short_name': False}, \n",
        "                  'WordRankRatioPreprocessor': {'target_ratio': 0.9409659060288595, 'language': 'en', 'use_short_name': False},\n",
        "                  'DependencyTreeDepthRatioPreprocessor': {'target_ratio': 0.621889800579547, 'language': 'en', 'use_short_name': False}, \n",
        "                  'GPT2BPEPreprocessor': {}}\n",
        "\n",
        "\n",
        "                 )\n",
        "\n"
      ],
      "execution_count": null,
      "outputs": [
        {
          "output_type": "display_data",
          "data": {
            "text/html": [
              "\n",
              "  <style>\n",
              "    pre {\n",
              "        white-space: pre-wrap;\n",
              "    }\n",
              "  </style>\n",
              "  "
            ],
            "text/plain": [
              "<IPython.core.display.HTML object>"
            ]
          },
          "metadata": {}
        },
        {
          "output_type": "stream",
          "name": "stdout",
          "text": [
            "added: {'model_id': 22, 'exp_dir': '/content/drive/MyDrive/muss/experiments/fairseq/local_1629750798219/', 'model_name': 'muss_cooc_0822', 'dataset': 'wikilarge_cooc_0823', 'info': '\\n                 train complete\\n                 use_asset=True.\\n                 load muss_mined.\\n                 ', 'recommended_preprocessors_kwargs': {'LengthRatioPreprocessor': {'target_ratio': 0.835076952260348, 'use_short_name': False}, 'ReplaceOnlyLevenshteinPreprocessor': {'target_ratio': 0.8358750604197434, 'use_short_name': False}, 'WordRankRatioPreprocessor': {'target_ratio': 0.9409659060288595, 'language': 'en', 'use_short_name': False}, 'DependencyTreeDepthRatioPreprocessor': {'target_ratio': 0.621889800579547, 'language': 'en', 'use_short_name': False}, 'GPT2BPEPreprocessor': {}}}\n"
          ]
        }
      ]
    },
    {
      "cell_type": "code",
      "metadata": {
        "colab": {
          "base_uri": "https://localhost:8080/",
          "height": 109
        },
        "id": "4MvIhAjJ6Hm_",
        "outputId": "5c647292-fb61-4d61-8888-b225cded1126"
      },
      "source": [
        "# both/simple\n",
        "\n",
        "add_item_to_dict(model_id=len(model_dir_dict),\n",
        "                 exp_dir=MODEL_DIR+'local_1629750798219/',\n",
        "                 model_name='muss_cooc_0822', # delete simple sentence not contain '.', and any of word in simple not in complex\n",
        "                 dataset='wikilarge_cooc_0823',\n",
        "                 info=\n",
        "                 '''\n",
        "                 train complete\n",
        "                 use_asset=True.\n",
        "                 load muss_mined.\n",
        "                 ''',\n",
        "                # simple NE\n",
        "recommended_preprocessors_kwargs=\n",
        "{'LengthRatioPreprocessor': {'target_ratio': 0.9449211615293195, 'use_short_name': False}, \n",
        " 'ReplaceOnlyLevenshteinPreprocessor': {'target_ratio': 0.8248051135114383, 'use_short_name': False}, \n",
        " 'WordRankRatioPreprocessor': {'target_ratio': 0.9249977217558367, 'language': 'en', 'use_short_name': False}, \n",
        " 'DependencyTreeDepthRatioPreprocessor': {'target_ratio': 0.3694293245030373, 'language': 'en', 'use_short_name': False}, \n",
        " 'GPT2BPEPreprocessor': {}}\n",
        "\n",
        "\n",
        "\n",
        "                 )\n",
        "\n"
      ],
      "execution_count": null,
      "outputs": [
        {
          "output_type": "display_data",
          "data": {
            "text/html": [
              "\n",
              "  <style>\n",
              "    pre {\n",
              "        white-space: pre-wrap;\n",
              "    }\n",
              "  </style>\n",
              "  "
            ],
            "text/plain": [
              "<IPython.core.display.HTML object>"
            ]
          },
          "metadata": {}
        },
        {
          "output_type": "stream",
          "name": "stdout",
          "text": [
            "added: {'model_id': 23, 'exp_dir': '/content/drive/MyDrive/muss/experiments/fairseq/local_1629750798219/', 'model_name': 'muss_cooc_0822', 'dataset': 'wikilarge_cooc_0823', 'info': '\\n                 train complete\\n                 use_asset=True.\\n                 load muss_mined.\\n                 ', 'recommended_preprocessors_kwargs': {'LengthRatioPreprocessor': {'target_ratio': 0.9449211615293195, 'use_short_name': False}, 'ReplaceOnlyLevenshteinPreprocessor': {'target_ratio': 0.8248051135114383, 'use_short_name': False}, 'WordRankRatioPreprocessor': {'target_ratio': 0.9249977217558367, 'language': 'en', 'use_short_name': False}, 'DependencyTreeDepthRatioPreprocessor': {'target_ratio': 0.3694293245030373, 'language': 'en', 'use_short_name': False}, 'GPT2BPEPreprocessor': {}}}\n"
          ]
        }
      ]
    },
    {
      "cell_type": "code",
      "metadata": {
        "colab": {
          "base_uri": "https://localhost:8080/",
          "height": 109
        },
        "id": "i27vO8EV6Hm_",
        "outputId": "5280ddfc-e4ea-42bb-a350-f553396732aa"
      },
      "source": [
        "\n",
        "add_item_to_dict(model_id=len(model_dir_dict),\n",
        "#                  exp_dir=MODEL_DIR+'local_1629763944392/',\n",
        "#                  model_name='0823_train_simple_2BART_2RNN_together', \n",
        "#                  dataset='wikilarge_final_simple_0821',\n",
        "#                  info=\n",
        "#                  '''\n",
        "#                  train complete\n",
        "#                  use_asset=True.\n",
        "#                  load muss_mined.\n",
        "#                  ''',\n",
        "#                 # simple NE\n",
        "# recommended_preprocessors_kwargs=\n",
        "# {'LengthRatioPreprocessor': {'target_ratio': 1.2158014432652016, 'use_short_name': False}, \n",
        "#  'ReplaceOnlyLevenshteinPreprocessor': {'target_ratio': 0.7184432274104291, 'use_short_name': False}, \n",
        "#  'WordRankRatioPreprocessor': {'target_ratio': 1.444762809665763, 'language': 'en', 'use_short_name': False},\n",
        "#  'DependencyTreeDepthRatioPreprocessor': {'target_ratio': 1.1892137216162368, 'language': 'en', 'use_short_name': False}, \n",
        "#  'GPT2BPEPreprocessor': {}}\n",
        "\n",
        "\n",
        "                 )\n",
        "\n"
      ],
      "execution_count": null,
      "outputs": [
        {
          "output_type": "display_data",
          "data": {
            "text/html": [
              "\n",
              "  <style>\n",
              "    pre {\n",
              "        white-space: pre-wrap;\n",
              "    }\n",
              "  </style>\n",
              "  "
            ],
            "text/plain": [
              "<IPython.core.display.HTML object>"
            ]
          },
          "metadata": {}
        },
        {
          "output_type": "stream",
          "name": "stdout",
          "text": [
            "added: {'model_id': 24, 'exp_dir': '/content/drive/MyDrive/muss/experiments/fairseq/local_1629763944392/', 'model_name': '0823_train_simple_2BART_2RNN_together', 'dataset': 'wikilarge_final_simple_0821', 'info': '\\n                 train complete\\n                 use_asset=True.\\n                 load muss_mined.\\n                 ', 'recommended_preprocessors_kwargs': {'LengthRatioPreprocessor': {'target_ratio': 1.2158014432652016, 'use_short_name': False}, 'ReplaceOnlyLevenshteinPreprocessor': {'target_ratio': 0.7184432274104291, 'use_short_name': False}, 'WordRankRatioPreprocessor': {'target_ratio': 1.444762809665763, 'language': 'en', 'use_short_name': False}, 'DependencyTreeDepthRatioPreprocessor': {'target_ratio': 1.1892137216162368, 'language': 'en', 'use_short_name': False}, 'GPT2BPEPreprocessor': {}}}\n"
          ]
        }
      ]
    },
    {
      "cell_type": "code",
      "metadata": {
        "colab": {
          "base_uri": "https://localhost:8080/",
          "height": 127
        },
        "id": "c2GeO7t_EVzo",
        "outputId": "0fa6bd03-705e-4762-9142-d7dea7a6182f"
      },
      "source": [
        "\n",
        "# choose randomly one to to evalution since loss is pretty low compared to the begining \n",
        "add_item_to_dict(model_id=len(model_dir_dict),\n",
        "#                  exp_dir=MODEL_DIR+'local_1629841731976/',\n",
        "#                  model_name='0823_train_together_for2_then_fix_RNN', \n",
        "#                  dataset='wikilarge_final_simple_0821',\n",
        "#                  info=\n",
        "#                  '''\n",
        "#                  train complete\n",
        "#                  use_asset=True.\n",
        "#                  load muss_mined.\n",
        "#                  ''',\n",
        "#                  generate_use_checkpoint_dir='/content/drive/MyDrive/muss/experiments/fairseq/local_1629841731976/checkpoints/checkpoint12.pt',\n",
        "#                 # simple NE\n",
        "# recommended_preprocessors_kwargs=\n",
        "# {'LengthRatioPreprocessor': {'target_ratio': 1.487917569735402, 'use_short_name': False}, \n",
        "#  'ReplaceOnlyLevenshteinPreprocessor': {'target_ratio': 0.8763562448202163, 'use_short_name': False}, \n",
        "#  'WordRankRatioPreprocessor': {'target_ratio': 0.9380293764647682, 'language': 'en', 'use_short_name': False}, \n",
        "#  'DependencyTreeDepthRatioPreprocessor': {'target_ratio': 1.3320036079739315, 'language': 'en', 'use_short_name': False}, \n",
        "#  'GPT2BPEPreprocessor': {}}\n",
        "\n",
        "\n",
        "\n",
        "                 )\n",
        "\n"
      ],
      "execution_count": null,
      "outputs": [
        {
          "output_type": "display_data",
          "data": {
            "text/html": [
              "\n",
              "  <style>\n",
              "    pre {\n",
              "        white-space: pre-wrap;\n",
              "    }\n",
              "  </style>\n",
              "  "
            ],
            "text/plain": [
              "<IPython.core.display.HTML object>"
            ]
          },
          "metadata": {}
        },
        {
          "output_type": "stream",
          "name": "stdout",
          "text": [
            "added: {'model_id': 25, 'exp_dir': '/content/drive/MyDrive/muss/experiments/fairseq/local_1629841731976/', 'model_name': '0823_train_together_for2_then_fix_RNN', 'dataset': 'wikilarge_final_simple_0821', 'info': '\\n                 train complete\\n                 use_asset=True.\\n                 load muss_mined.\\n                 ', 'generate_use_checkpoint_dir': '/content/drive/MyDrive/muss/experiments/fairseq/local_1629841731976/checkpoints/checkpoint12.pt', 'recommended_preprocessors_kwargs': {'LengthRatioPreprocessor': {'target_ratio': 1.487917569735402, 'use_short_name': False}, 'ReplaceOnlyLevenshteinPreprocessor': {'target_ratio': 0.8763562448202163, 'use_short_name': False}, 'WordRankRatioPreprocessor': {'target_ratio': 0.9380293764647682, 'language': 'en', 'use_short_name': False}, 'DependencyTreeDepthRatioPreprocessor': {'target_ratio': 1.3320036079739315, 'language': 'en', 'use_short_name': False}, 'GPT2BPEPreprocessor': {}}}\n"
          ]
        }
      ]
    },
    {
      "cell_type": "code",
      "metadata": {
        "id": "eRr6hPdZ6Rnl",
        "colab": {
          "base_uri": "https://localhost:8080/",
          "height": 109
        },
        "outputId": "fd3a7184-f4f9-4f1a-88be-dea80d3f0a94"
      },
      "source": [
        "add_item_to_dict(model_id=len(model_dir_dict),\n",
        "#                  exp_dir=MODEL_DIR+'local_1630019050042/',\n",
        "#                  model_name='0826_train_together_model_simple_0_0_0_para_1', \n",
        "#                  dataset='wikilarge_final_simple_0821',\n",
        "#                  info=\n",
        "#                  '''\n",
        "#                  train complete\n",
        "#                  use_asset=True.\n",
        "#                  load muss_mined.\n",
        "#                  ''',\n",
        "#                 # simple NE @ 3 epochs\n",
        "                  \n",
        "# recommended_preprocessors_kwargs=\n",
        "# {'LengthRatioPreprocessor': {'target_ratio': 1.124169888991001, 'use_short_name': False}, \n",
        "#  'ReplaceOnlyLevenshteinPreprocessor': {'target_ratio': 0.4667328463927494, 'use_short_name': False}, \n",
        "#  'WordRankRatioPreprocessor': {'target_ratio': 1.3922614814378658, 'language': 'en', 'use_short_name': False}, \n",
        "#  'DependencyTreeDepthRatioPreprocessor': {'target_ratio': 0.21508139243375501, 'language': 'en', 'use_short_name': False}, \n",
        "#  'GPT2BPEPreprocessor': {}}\n",
        "\n",
        "                 )"
      ],
      "execution_count": null,
      "outputs": [
        {
          "output_type": "display_data",
          "data": {
            "text/html": [
              "\n",
              "  <style>\n",
              "    pre {\n",
              "        white-space: pre-wrap;\n",
              "    }\n",
              "  </style>\n",
              "  "
            ],
            "text/plain": [
              "<IPython.core.display.HTML object>"
            ]
          },
          "metadata": {}
        },
        {
          "output_type": "stream",
          "name": "stdout",
          "text": [
            "added: {'model_id': 26, 'exp_dir': '/content/drive/MyDrive/muss/experiments/fairseq/local_1630019050042/', 'model_name': '0826_train_together_model_simple_0_0_0_para_1', 'dataset': 'wikilarge_final_simple_0821', 'info': '\\n                 train complete\\n                 use_asset=True.\\n                 load muss_mined.\\n                 ', 'recommended_preprocessors_kwargs': {'LengthRatioPreprocessor': {'target_ratio': 1.124169888991001, 'use_short_name': False}, 'ReplaceOnlyLevenshteinPreprocessor': {'target_ratio': 0.4667328463927494, 'use_short_name': False}, 'WordRankRatioPreprocessor': {'target_ratio': 1.3922614814378658, 'language': 'en', 'use_short_name': False}, 'DependencyTreeDepthRatioPreprocessor': {'target_ratio': 0.21508139243375501, 'language': 'en', 'use_short_name': False}, 'GPT2BPEPreprocessor': {}}}\n"
          ]
        }
      ]
    },
    {
      "cell_type": "code",
      "metadata": {
        "colab": {
          "base_uri": "https://localhost:8080/",
          "height": 127
        },
        "id": "d6NAwzNibChB",
        "outputId": "8b0df620-5c87-483b-9dce-13f5aa128cea"
      },
      "source": [
        "add_item_to_dict(model_id=len(model_dir_dict),\n",
        "#                  exp_dir=MODEL_DIR+'local_1630019050042/',\n",
        "#                  model_name='0826_train_together_model_simple_0_0_0_para_1', \n",
        "#                  dataset='wikilarge_final_simple_0821',\n",
        "#                  info=\n",
        "#                  '''\n",
        "#                  train complete\n",
        "#                  use_asset=True.\n",
        "#                  load muss_mined.\n",
        "#                  ''',\n",
        "#                  generate_use_checkpoint_dir='/content/drive/MyDrive/muss/experiments/fairseq/local_1630019050042/checkpoints/checkpoint2.pt',\n",
        "#                 # simple NE @ 2 epochs\n",
        "                  \n",
        "# recommended_preprocessors_kwargs=\n",
        "# {'LengthRatioPreprocessor': {'target_ratio': 1.4183927088210322, 'use_short_name': False}, \n",
        "#  'ReplaceOnlyLevenshteinPreprocessor': {'target_ratio': 0.46991609764759845, 'use_short_name': False}, \n",
        "#  'WordRankRatioPreprocessor': {'target_ratio': 1.1101461716597665, 'language': 'en', 'use_short_name': False}, \n",
        "#  'DependencyTreeDepthRatioPreprocessor': {'target_ratio': 1.0879423219775408, 'language': 'en', 'use_short_name': False}, \n",
        "#  'GPT2BPEPreprocessor': {}}\n",
        "                 )"
      ],
      "execution_count": null,
      "outputs": [
        {
          "output_type": "display_data",
          "data": {
            "text/html": [
              "\n",
              "  <style>\n",
              "    pre {\n",
              "        white-space: pre-wrap;\n",
              "    }\n",
              "  </style>\n",
              "  "
            ],
            "text/plain": [
              "<IPython.core.display.HTML object>"
            ]
          },
          "metadata": {}
        },
        {
          "output_type": "stream",
          "name": "stdout",
          "text": [
            "added: {'model_id': 27, 'exp_dir': '/content/drive/MyDrive/muss/experiments/fairseq/local_1630019050042/', 'model_name': '0826_train_together_model_simple_0_0_0_para_1', 'dataset': 'wikilarge_final_simple_0821', 'info': '\\n                 train complete\\n                 use_asset=True.\\n                 load muss_mined.\\n                 ', 'generate_use_checkpoint_dir': '/content/drive/MyDrive/muss/experiments/fairseq/local_1630019050042/checkpoints/checkpoint2.pt', 'recommended_preprocessors_kwargs': {'LengthRatioPreprocessor': {'target_ratio': 1.4183927088210322, 'use_short_name': False}, 'ReplaceOnlyLevenshteinPreprocessor': {'target_ratio': 0.46991609764759845, 'use_short_name': False}, 'WordRankRatioPreprocessor': {'target_ratio': 1.1101461716597665, 'language': 'en', 'use_short_name': False}, 'DependencyTreeDepthRatioPreprocessor': {'target_ratio': 1.0879423219775408, 'language': 'en', 'use_short_name': False}, 'GPT2BPEPreprocessor': {}}}\n"
          ]
        }
      ]
    },
    {
      "cell_type": "code",
      "metadata": {
        "id": "JADig0oV6RlY",
        "colab": {
          "base_uri": "https://localhost:8080/",
          "height": 109
        },
        "outputId": "7f22d11a-bff8-418d-d152-0a9d7679baac"
      },
      "source": [
        "add_item_to_dict(model_id=len(model_dir_dict),\n",
        "#                  exp_dir=MODEL_DIR+'local_1630019555772/',\n",
        "#                  model_name='0826_train_muss_together_0_0_0_para_1', \n",
        "#                  dataset='wikilarge_final_simple_0821',\n",
        "#                  info=\n",
        "#                  '''\n",
        "#                  train complete\n",
        "#                  use_asset=True.\n",
        "#                  load muss_mined.\n",
        "#                  ''',\n",
        "#                 # simple NE\n",
        "# recommended_preprocessors_kwargs=\n",
        "# {'LengthRatioPreprocessor': {'target_ratio': 1.0926432098556644, 'use_short_name': False}, \n",
        "#  'ReplaceOnlyLevenshteinPreprocessor': {'target_ratio': 0.6555919488220876, 'use_short_name': False}, \n",
        "#  'WordRankRatioPreprocessor': {'target_ratio': 1.1239251594138633, 'language': 'en', 'use_short_name': False}, \n",
        "#  'DependencyTreeDepthRatioPreprocessor': {'target_ratio': 1.474779058586391, 'language': 'en', 'use_short_name': False}, \n",
        "#  'GPT2BPEPreprocessor': {}}\n",
        "\n",
        "                 )"
      ],
      "execution_count": null,
      "outputs": [
        {
          "output_type": "display_data",
          "data": {
            "text/html": [
              "\n",
              "  <style>\n",
              "    pre {\n",
              "        white-space: pre-wrap;\n",
              "    }\n",
              "  </style>\n",
              "  "
            ],
            "text/plain": [
              "<IPython.core.display.HTML object>"
            ]
          },
          "metadata": {}
        },
        {
          "output_type": "stream",
          "name": "stdout",
          "text": [
            "added: {'model_id': 28, 'exp_dir': '/content/drive/MyDrive/muss/experiments/fairseq/local_1630019555772/', 'model_name': '0826_train_muss_together_0_0_0_para_1', 'dataset': 'wikilarge_final_simple_0821', 'info': '\\n                 train complete\\n                 use_asset=True.\\n                 load muss_mined.\\n                 ', 'recommended_preprocessors_kwargs': {'LengthRatioPreprocessor': {'target_ratio': 1.0926432098556644, 'use_short_name': False}, 'ReplaceOnlyLevenshteinPreprocessor': {'target_ratio': 0.6555919488220876, 'use_short_name': False}, 'WordRankRatioPreprocessor': {'target_ratio': 1.1239251594138633, 'language': 'en', 'use_short_name': False}, 'DependencyTreeDepthRatioPreprocessor': {'target_ratio': 1.474779058586391, 'language': 'en', 'use_short_name': False}, 'GPT2BPEPreprocessor': {}}}\n"
          ]
        }
      ]
    },
    {
      "cell_type": "code",
      "metadata": {
        "colab": {
          "base_uri": "https://localhost:8080/",
          "height": 127
        },
        "id": "SA5r4Axlc71s",
        "outputId": "662498cf-539d-4aaa-c375-b420e4be6db6"
      },
      "source": [
        "add_item_to_dict(model_id=len(model_dir_dict),\n",
        "#                  exp_dir=MODEL_DIR+'local_1630019555772/',\n",
        "#                  model_name='0826_train_muss_together_0_0_0_para_1', \n",
        "#                  dataset='wikilarge_final_simple_0821',\n",
        "#                  info=\n",
        "#                  '''\n",
        "#                  train complete\n",
        "#                  use_asset=True.\n",
        "#                  load muss_mined.\n",
        "#                  ''',\n",
        "#                  generate_use_checkpoint_dir='/content/drive/MyDrive/muss/experiments/fairseq/local_1630019555772/checkpoints/checkpoint2.pt',\n",
        "#                 # simple NE\n",
        "# recommended_preprocessors_kwargs=\n",
        "# {'LengthRatioPreprocessor': {'target_ratio': 1.4183927088210322, 'use_short_name': False}, \n",
        "#  'ReplaceOnlyLevenshteinPreprocessor': {'target_ratio': 0.46991609764759845, 'use_short_name': False}, \n",
        "#  'WordRankRatioPreprocessor': {'target_ratio': 1.1101461716597665, 'language': 'en', 'use_short_name': False}, \n",
        "#  'DependencyTreeDepthRatioPreprocessor': {'target_ratio': 1.0879423219775408, 'language': 'en', 'use_short_name': False}, \n",
        "#  'GPT2BPEPreprocessor': {}}\n",
        "\n",
        "                 )"
      ],
      "execution_count": null,
      "outputs": [
        {
          "output_type": "display_data",
          "data": {
            "text/html": [
              "\n",
              "  <style>\n",
              "    pre {\n",
              "        white-space: pre-wrap;\n",
              "    }\n",
              "  </style>\n",
              "  "
            ],
            "text/plain": [
              "<IPython.core.display.HTML object>"
            ]
          },
          "metadata": {}
        },
        {
          "output_type": "stream",
          "name": "stdout",
          "text": [
            "added: {'model_id': 29, 'exp_dir': '/content/drive/MyDrive/muss/experiments/fairseq/local_1630019555772/', 'model_name': '0826_train_muss_together_0_0_0_para_1', 'dataset': 'wikilarge_final_simple_0821', 'info': '\\n                 train complete\\n                 use_asset=True.\\n                 load muss_mined.\\n                 ', 'generate_use_checkpoint_dir': '/content/drive/MyDrive/muss/experiments/fairseq/local_1630019555772/checkpoints/checkpoint2.pt', 'recommended_preprocessors_kwargs': {'LengthRatioPreprocessor': {'target_ratio': 1.4183927088210322, 'use_short_name': False}, 'ReplaceOnlyLevenshteinPreprocessor': {'target_ratio': 0.46991609764759845, 'use_short_name': False}, 'WordRankRatioPreprocessor': {'target_ratio': 1.1101461716597665, 'language': 'en', 'use_short_name': False}, 'DependencyTreeDepthRatioPreprocessor': {'target_ratio': 1.0879423219775408, 'language': 'en', 'use_short_name': False}, 'GPT2BPEPreprocessor': {}}}\n"
          ]
        }
      ]
    },
    {
      "cell_type": "code",
      "metadata": {
        "colab": {
          "base_uri": "https://localhost:8080/",
          "height": 109
        },
        "id": "Hr-CMSZhdQ2j",
        "outputId": "8c3ae911-3af3-45b0-dbd9-ec35aa486438"
      },
      "source": [
        "add_item_to_dict(model_id=len(model_dir_dict),\n",
        "#                  exp_dir=MODEL_DIR+'local_1630021031879/',\n",
        "#                  model_name='0826_train_together_model_simple_0_0_0_para_0_1', \n",
        "#                  dataset='wikilarge_final_simple_0821',\n",
        "#                  info=\n",
        "#                  '''\n",
        "#                  train complete\n",
        "#                  use_asset=True.\n",
        "#                  load muss_mined.\n",
        "#                  ''',\n",
        "#                 # simple NE\n",
        "# recommended_preprocessors_kwargs=\n",
        "# {'LengthRatioPreprocessor': {'target_ratio': 1.0798647080199697, 'use_short_name': False}, \n",
        "#  'ReplaceOnlyLevenshteinPreprocessor': {'target_ratio': 0.3381431454564642, 'use_short_name': False}, \n",
        "#  'WordRankRatioPreprocessor': {'target_ratio': 1.1412509349407423, 'language': 'en', 'use_short_name': False},\n",
        "#  'DependencyTreeDepthRatioPreprocessor': {'target_ratio': 1.1007668301973916, 'language': 'en', 'use_short_name': False},\n",
        "#  'GPT2BPEPreprocessor': {}}\n",
        "\n",
        "\n",
        "                 )"
      ],
      "execution_count": null,
      "outputs": [
        {
          "output_type": "display_data",
          "data": {
            "text/html": [
              "\n",
              "  <style>\n",
              "    pre {\n",
              "        white-space: pre-wrap;\n",
              "    }\n",
              "  </style>\n",
              "  "
            ],
            "text/plain": [
              "<IPython.core.display.HTML object>"
            ]
          },
          "metadata": {}
        },
        {
          "output_type": "stream",
          "name": "stdout",
          "text": [
            "added: {'model_id': 30, 'exp_dir': '/content/drive/MyDrive/muss/experiments/fairseq/local_1630021031879/', 'model_name': '0826_train_together_model_simple_0_0_0_para_0_1', 'dataset': 'wikilarge_final_simple_0821', 'info': '\\n                 train complete\\n                 use_asset=True.\\n                 load muss_mined.\\n                 ', 'recommended_preprocessors_kwargs': {'LengthRatioPreprocessor': {'target_ratio': 1.0798647080199697, 'use_short_name': False}, 'ReplaceOnlyLevenshteinPreprocessor': {'target_ratio': 0.3381431454564642, 'use_short_name': False}, 'WordRankRatioPreprocessor': {'target_ratio': 1.1412509349407423, 'language': 'en', 'use_short_name': False}, 'DependencyTreeDepthRatioPreprocessor': {'target_ratio': 1.1007668301973916, 'language': 'en', 'use_short_name': False}, 'GPT2BPEPreprocessor': {}}}\n"
          ]
        }
      ]
    },
    {
      "cell_type": "code",
      "metadata": {
        "id": "rWl2M4zI6Rgt",
        "colab": {
          "base_uri": "https://localhost:8080/",
          "height": 72
        },
        "outputId": "d3af55e2-0801-4d0d-fa5d-f8dc107a0ab6"
      },
      "source": [
        "add_item_to_dict(model_id=len(model_dir_dict),\n",
        "                #  exp_dir=MODEL_DIR+'local_1630021031879/',\n",
        "                #  model_name='0826_train_together_model_simple_0_0_0_para_0_1', \n",
        "                #  dataset='wikilarge_final_simple_0821',\n",
        "                #  info=\n",
        "                #  '''\n",
        "                #  train complete\n",
        "                #  use_asset=True.\n",
        "                #  load muss_mined.\n",
        "                #  ''',\n",
        "                #  generate_use_checkpoint_dir='/content/drive/MyDrive/muss/experiments/fairseq/local_1630021031879/checkpoints/checkpoint2.pt',\n",
        "                # # simple NE\n",
        "\n",
        "                 )"
      ],
      "execution_count": null,
      "outputs": [
        {
          "output_type": "display_data",
          "data": {
            "text/html": [
              "\n",
              "  <style>\n",
              "    pre {\n",
              "        white-space: pre-wrap;\n",
              "    }\n",
              "  </style>\n",
              "  "
            ],
            "text/plain": [
              "<IPython.core.display.HTML object>"
            ]
          },
          "metadata": {}
        },
        {
          "output_type": "stream",
          "name": "stdout",
          "text": [
            "added: {'model_id': 31, 'exp_dir': '/content/drive/MyDrive/muss/experiments/fairseq/local_1630021031879/', 'model_name': '0826_train_together_model_simple_0_0_0_para_0_1', 'dataset': 'wikilarge_final_simple_0821', 'info': '\\n                 train complete\\n                 use_asset=True.\\n                 load muss_mined.\\n                 ', 'generate_use_checkpoint_dir': '/content/drive/MyDrive/muss/experiments/fairseq/local_1630021031879/checkpoints/checkpoint2.pt'}\n"
          ]
        }
      ]
    },
    {
      "cell_type": "code",
      "metadata": {
        "id": "66CLgsqj6RdV",
        "colab": {
          "base_uri": "https://localhost:8080/",
          "height": 109
        },
        "outputId": "8d1e8285-70cc-45ba-909a-093b27bdf635"
      },
      "source": [
        "add_item_to_dict(model_id=len(model_dir_dict),\n",
        "#                  exp_dir=MODEL_DIR+'local_1630093363664/',\n",
        "#                  model_name='muss_train_0827_ABCD', \n",
        "#                  dataset='C2C1B2_wikilarge',\n",
        "#                  info=\n",
        "#                  '''\n",
        "#                  train complete\n",
        "#                  use_asset=True.\n",
        "#                  load muss_mined.\n",
        "#                  ''',\n",
        "#                 #  generate_use_checkpoint_dir='/content/drive/MyDrive/muss/experiments/fairseq/local_1630021031879/checkpoints/checkpoint2.pt',\n",
        "#                 # find para using ABCD asset\n",
        "# recommended_preprocessors_kwargs=\n",
        "# {'LengthRatioPreprocessor': {'target_ratio': 0.9266386739130521, 'use_short_name': False}, \n",
        "#  'ReplaceOnlyLevenshteinPreprocessor': {'target_ratio': 0.8221555944889615, 'use_short_name': False}, \n",
        "#  'WordRankRatioPreprocessor': {'target_ratio': 0.8824017602688162, 'language': 'en', 'use_short_name': False}, \n",
        "#  'DependencyTreeDepthRatioPreprocessor': {'target_ratio': 0.27765722850669167, 'language': 'en', 'use_short_name': False},\n",
        "#  'GPT2BPEPreprocessor': {}}\n",
        "\n",
        "                 )"
      ],
      "execution_count": null,
      "outputs": [
        {
          "output_type": "display_data",
          "data": {
            "text/html": [
              "\n",
              "  <style>\n",
              "    pre {\n",
              "        white-space: pre-wrap;\n",
              "    }\n",
              "  </style>\n",
              "  "
            ],
            "text/plain": [
              "<IPython.core.display.HTML object>"
            ]
          },
          "metadata": {}
        },
        {
          "output_type": "stream",
          "name": "stdout",
          "text": [
            "added: {'model_id': 32, 'exp_dir': '/content/drive/MyDrive/muss/experiments/fairseq/local_1630093363664/', 'model_name': 'muss_train_0827_ABCD', 'dataset': 'C2C1B2_wikilarge', 'info': '\\n                 train complete\\n                 use_asset=True.\\n                 load muss_mined.\\n                 ', 'recommended_preprocessors_kwargs': {'LengthRatioPreprocessor': {'target_ratio': 0.9266386739130521, 'use_short_name': False}, 'ReplaceOnlyLevenshteinPreprocessor': {'target_ratio': 0.8221555944889615, 'use_short_name': False}, 'WordRankRatioPreprocessor': {'target_ratio': 0.8824017602688162, 'language': 'en', 'use_short_name': False}, 'DependencyTreeDepthRatioPreprocessor': {'target_ratio': 0.27765722850669167, 'language': 'en', 'use_short_name': False}, 'GPT2BPEPreprocessor': {}}}\n"
          ]
        }
      ]
    },
    {
      "cell_type": "code",
      "metadata": {
        "colab": {
          "base_uri": "https://localhost:8080/",
          "height": 109
        },
        "id": "s2pvGJvP9wwc",
        "outputId": "84f967f8-31b3-4d93-d2ee-061f0995499b"
      },
      "source": [
        "add_item_to_dict(model_id=len(model_dir_dict),\n",
        "#                  exp_dir=MODEL_DIR+'local_1630195482716/',\n",
        "#                  model_name='0828_train_model_together_0_0_0_para_0_1_drop_2', \n",
        "#                  dataset='wikilarge_final_simple_0821',\n",
        "#                  info=\n",
        "#                  '''\n",
        "#                  train complete\n",
        "#                  use_asset=True.\n",
        "#                  load muss_mined.\n",
        "#                  ''',\n",
        "#                 #  generate_use_checkpoint_dir='/content/drive/MyDrive/muss/experiments/fairseq/local_1630021031879/checkpoints/checkpoint2.pt',\n",
        "#                 # simple NE\n",
        "# recommended_preprocessors_kwargs=\n",
        "# {'LengthRatioPreprocessor': {'target_ratio': 1.5, 'use_short_name': False}, \n",
        "#  'ReplaceOnlyLevenshteinPreprocessor': {'target_ratio': 1.0, 'use_short_name': False}, \n",
        "#  'WordRankRatioPreprocessor': {'target_ratio': 1.5, 'language': 'en', 'use_short_name': False}, \n",
        "#  'DependencyTreeDepthRatioPreprocessor': {'target_ratio': 1.0844414998933403, 'language': 'en', 'use_short_name': False},\n",
        "#  'GPT2BPEPreprocessor': {}}\n",
        "                 )"
      ],
      "execution_count": null,
      "outputs": [
        {
          "output_type": "display_data",
          "data": {
            "text/html": [
              "\n",
              "  <style>\n",
              "    pre {\n",
              "        white-space: pre-wrap;\n",
              "    }\n",
              "  </style>\n",
              "  "
            ],
            "text/plain": [
              "<IPython.core.display.HTML object>"
            ]
          },
          "metadata": {}
        },
        {
          "output_type": "stream",
          "name": "stdout",
          "text": [
            "added: {'model_id': 33, 'exp_dir': '/content/drive/MyDrive/muss/experiments/fairseq/local_1630195482716/', 'model_name': '0828_train_model_together_0_0_0_para_0_1_drop_2', 'dataset': 'wikilarge_final_simple_0821', 'info': '\\n                 train complete\\n                 use_asset=True.\\n                 load muss_mined.\\n                 ', 'recommended_preprocessors_kwargs': {'LengthRatioPreprocessor': {'target_ratio': 1.5, 'use_short_name': False}, 'ReplaceOnlyLevenshteinPreprocessor': {'target_ratio': 1.0, 'use_short_name': False}, 'WordRankRatioPreprocessor': {'target_ratio': 1.5, 'language': 'en', 'use_short_name': False}, 'DependencyTreeDepthRatioPreprocessor': {'target_ratio': 1.0844414998933403, 'language': 'en', 'use_short_name': False}, 'GPT2BPEPreprocessor': {}}}\n"
          ]
        }
      ]
    },
    {
      "cell_type": "code",
      "metadata": {
        "colab": {
          "base_uri": "https://localhost:8080/",
          "height": 109
        },
        "id": "0x6E7JHA9wtQ",
        "outputId": "8c59f3f1-cd9d-4e31-dbad-3be896ce8d5f"
      },
      "source": [
        "add_item_to_dict(model_id=len(model_dir_dict),\n",
        "#                  exp_dir=MODEL_DIR+'local_1630152576723/',\n",
        "#                  model_name='muss_train_0828_na_include_ABCD', \n",
        "#                  dataset='C2C1B2_wikilarge_all',\n",
        "#                  info=\n",
        "#                  '''\n",
        "#                  train complete\n",
        "#                  use_asset=True.\n",
        "#                  load muss_mined.\n",
        "#                  ''',\n",
        "#                 #  generate_use_checkpoint_dir='/content/drive/MyDrive/muss/experiments/fairseq/local_1630021031879/checkpoints/checkpoint2.pt',\n",
        "#                 # find para using ABCD asset\n",
        "# recommended_preprocessors_kwargs=\n",
        "# {'LengthRatioPreprocessor': {'target_ratio': 1.2749009548425654, 'use_short_name': False}, \n",
        "#  'ReplaceOnlyLevenshteinPreprocessor': {'target_ratio': 0.7693734277221083, 'use_short_name': False}, \n",
        "#  'WordRankRatioPreprocessor': {'target_ratio': 0.8541376616472772, 'language': 'en', 'use_short_name': False}, \n",
        "#  'DependencyTreeDepthRatioPreprocessor': {'target_ratio': 0.42718717259268596, 'language': 'en', 'use_short_name': False}, \n",
        "#  'GPT2BPEPreprocessor': {}}\n",
        "\n",
        "\n",
        "                 )\n"
      ],
      "execution_count": null,
      "outputs": [
        {
          "output_type": "display_data",
          "data": {
            "text/html": [
              "\n",
              "  <style>\n",
              "    pre {\n",
              "        white-space: pre-wrap;\n",
              "    }\n",
              "  </style>\n",
              "  "
            ],
            "text/plain": [
              "<IPython.core.display.HTML object>"
            ]
          },
          "metadata": {}
        },
        {
          "output_type": "stream",
          "name": "stdout",
          "text": [
            "added: {'model_id': 34, 'exp_dir': '/content/drive/MyDrive/muss/experiments/fairseq/local_1630152576723/', 'model_name': 'muss_train_0828_na_include_ABCD', 'dataset': 'C2C1B2_wikilarge_all', 'info': '\\n                 train complete\\n                 use_asset=True.\\n                 load muss_mined.\\n                 ', 'recommended_preprocessors_kwargs': {'LengthRatioPreprocessor': {'target_ratio': 1.2749009548425654, 'use_short_name': False}, 'ReplaceOnlyLevenshteinPreprocessor': {'target_ratio': 0.7693734277221083, 'use_short_name': False}, 'WordRankRatioPreprocessor': {'target_ratio': 0.8541376616472772, 'language': 'en', 'use_short_name': False}, 'DependencyTreeDepthRatioPreprocessor': {'target_ratio': 0.42718717259268596, 'language': 'en', 'use_short_name': False}, 'GPT2BPEPreprocessor': {}}}\n"
          ]
        }
      ]
    },
    {
      "cell_type": "code",
      "metadata": {
        "colab": {
          "base_uri": "https://localhost:8080/",
          "height": 127
        },
        "id": "GPTvCJoi9wqQ",
        "outputId": "ca4d1735-addd-4858-a511-cc6930cb914f"
      },
      "source": [
        "\n",
        "\n",
        "add_item_to_dict(model_id=len(model_dir_dict),\n",
        "#                  exp_dir=MODEL_DIR+'local_1630338618428/',\n",
        "#                  model_name='BART_RNN(GRU)_0830_train_model_together_para0_5_epoch2_noBCEwhenvalid', \n",
        "#                  dataset='wikilarge_final_simple_0821',\n",
        "#                  info=\n",
        "#                  '''\n",
        "#                  train complete\n",
        "#                  use_asset=True.\n",
        "#                  load muss_mined.\n",
        "#                  ''',\n",
        "#                 #  generate_use_checkpoint_dir='/content/drive/MyDrive/muss/experiments/fairseq/local_1630021031879/checkpoints/checkpoint2.pt',\n",
        "#                 # simple NE\n",
        "# recommended_preprocessors_kwargs=\n",
        "# {'LengthRatioPreprocessor': {'target_ratio': 1.234376999334771, 'use_short_name': False}, \n",
        "#  'ReplaceOnlyLevenshteinPreprocessor': {'target_ratio': 0.676282864018335, 'use_short_name': False}, \n",
        "#  'WordRankRatioPreprocessor': {'target_ratio': 0.9242397792347032, 'language': 'en', 'use_short_name': False}, \n",
        "#  'DependencyTreeDepthRatioPreprocessor': {'target_ratio': 1.2062136513260375, 'language': 'en', 'use_short_name': False}, \n",
        "#  'GPT2BPEPreprocessor': {}}\n",
        "                 )"
      ],
      "execution_count": null,
      "outputs": [
        {
          "output_type": "display_data",
          "data": {
            "text/html": [
              "\n",
              "  <style>\n",
              "    pre {\n",
              "        white-space: pre-wrap;\n",
              "    }\n",
              "  </style>\n",
              "  "
            ],
            "text/plain": [
              "<IPython.core.display.HTML object>"
            ]
          },
          "metadata": {}
        },
        {
          "output_type": "stream",
          "name": "stdout",
          "text": [
            "added: {'model_id': 35, 'exp_dir': '/content/drive/MyDrive/muss/experiments/fairseq/local_1630338618428/', 'model_name': 'BART_RNN(GRU)_0830_train_model_together_para0_5_epoch2_noBCEwhenvalid', 'dataset': 'wikilarge_final_simple_0821', 'info': '\\n                 train complete\\n                 use_asset=True.\\n                 load muss_mined.\\n                 ', 'recommended_preprocessors_kwargs': {'LengthRatioPreprocessor': {'target_ratio': 1.234376999334771, 'use_short_name': False}, 'ReplaceOnlyLevenshteinPreprocessor': {'target_ratio': 0.676282864018335, 'use_short_name': False}, 'WordRankRatioPreprocessor': {'target_ratio': 0.9242397792347032, 'language': 'en', 'use_short_name': False}, 'DependencyTreeDepthRatioPreprocessor': {'target_ratio': 1.2062136513260375, 'language': 'en', 'use_short_name': False}, 'GPT2BPEPreprocessor': {}}}\n"
          ]
        }
      ]
    },
    {
      "cell_type": "code",
      "metadata": {
        "colab": {
          "base_uri": "https://localhost:8080/",
          "height": 127
        },
        "id": "TKn3YfSi9wne",
        "outputId": "4bb038ae-b4bb-4ee7-b73a-0ca441f7be25"
      },
      "source": [
        "\n",
        "\n",
        "add_item_to_dict(model_id=len(model_dir_dict),\n",
        "#                  exp_dir=MODEL_DIR+'local_1630345977698/',\n",
        "#                  model_name='BART_RNN(GRU)_0830_train_model_together_para0_5_fix1_1_epoch2_noBCEwhenvalid', \n",
        "#                  dataset='wikilarge_final_simple_0821',\n",
        "#                  info=\n",
        "#                  '''\n",
        "#                  train complete\n",
        "#                  use_asset=True.\n",
        "#                  load muss_mined.\n",
        "#                  ''',\n",
        "#                 #  generate_use_checkpoint_dir='/content/drive/MyDrive/muss/experiments/fairseq/local_1630021031879/checkpoints/checkpoint2.pt',\n",
        "#                 # simple NE\n",
        "# recommended_preprocessors_kwargs=\n",
        "# {'LengthRatioPreprocessor': {'target_ratio': 0.6613155581718627, 'use_short_name': False}, \n",
        "#  'ReplaceOnlyLevenshteinPreprocessor': {'target_ratio': 0.4719725671806245, 'use_short_name': False}, \n",
        "#  'WordRankRatioPreprocessor': {'target_ratio': 1.3598832598362611, 'language': 'en', 'use_short_name': False}, \n",
        "#  'DependencyTreeDepthRatioPreprocessor': {'target_ratio': 1.3373193777099142, 'language': 'en', 'use_short_name': False}, 'GPT2BPEPreprocessor': {}}\n",
        "                 )"
      ],
      "execution_count": null,
      "outputs": [
        {
          "output_type": "display_data",
          "data": {
            "text/html": [
              "\n",
              "  <style>\n",
              "    pre {\n",
              "        white-space: pre-wrap;\n",
              "    }\n",
              "  </style>\n",
              "  "
            ],
            "text/plain": [
              "<IPython.core.display.HTML object>"
            ]
          },
          "metadata": {}
        },
        {
          "output_type": "stream",
          "name": "stdout",
          "text": [
            "added: {'model_id': 36, 'exp_dir': '/content/drive/MyDrive/muss/experiments/fairseq/local_1630345977698/', 'model_name': 'BART_RNN(GRU)_0830_train_model_together_para0_5_fix1_1_epoch2_noBCEwhenvalid', 'dataset': 'wikilarge_final_simple_0821', 'info': '\\n                 train complete\\n                 use_asset=True.\\n                 load muss_mined.\\n                 ', 'recommended_preprocessors_kwargs': {'LengthRatioPreprocessor': {'target_ratio': 0.6613155581718627, 'use_short_name': False}, 'ReplaceOnlyLevenshteinPreprocessor': {'target_ratio': 0.4719725671806245, 'use_short_name': False}, 'WordRankRatioPreprocessor': {'target_ratio': 1.3598832598362611, 'language': 'en', 'use_short_name': False}, 'DependencyTreeDepthRatioPreprocessor': {'target_ratio': 1.3373193777099142, 'language': 'en', 'use_short_name': False}, 'GPT2BPEPreprocessor': {}}}\n"
          ]
        }
      ]
    },
    {
      "cell_type": "code",
      "metadata": {
        "id": "nZZSVvfx-bXQ",
        "colab": {
          "base_uri": "https://localhost:8080/",
          "height": 109
        },
        "outputId": "41c590bf-b7b4-4e97-cf2b-a642c6021ab6"
      },
      "source": [
        "# all pairs\n",
        "add_item_to_dict(model_id=len(model_dir_dict),\n",
        "                 exp_dir=MODEL_DIR+'local_1631390882572/',\n",
        "                 model_name='muss_train_0911_na_include_ABCD', \n",
        "                 dataset='0911_ABCD_wikilarge_inc_na',\n",
        "                 info=\n",
        "                 '''\n",
        "                 train complete\n",
        "                 use_asset=True.\n",
        "                 load muss_mined.\n",
        "                 ''',\n",
        "                #  generate_use_checkpoint_dir='/content/drive/MyDrive/muss/experiments/fairseq/local_1630021031879/checkpoints/checkpoint2.pt',\n",
        "                # find para using ABCD asset\n",
        "recommended_preprocessors_kwargs=\n",
        "{'LengthRatioPreprocessor': {'target_ratio': 1.1836030880472763, 'use_short_name': False},\n",
        " 'ReplaceOnlyLevenshteinPreprocessor': {'target_ratio': 0.7837758794547234, 'use_short_name': False}, \n",
        " 'WordRankRatioPreprocessor': {'target_ratio': 0.44310224347277266, 'language': 'en', 'use_short_name': False},\n",
        " 'DependencyTreeDepthRatioPreprocessor': {'target_ratio': 0.5450343251841754, 'language': 'en', 'use_short_name': False},\n",
        " 'GPT2BPEPreprocessor': {}}\n",
        "\n",
        "                 )\n"
      ],
      "execution_count": null,
      "outputs": [
        {
          "output_type": "display_data",
          "data": {
            "text/html": [
              "\n",
              "  <style>\n",
              "    pre {\n",
              "        white-space: pre-wrap;\n",
              "    }\n",
              "  </style>\n",
              "  "
            ],
            "text/plain": [
              "<IPython.core.display.HTML object>"
            ]
          },
          "metadata": {}
        },
        {
          "output_type": "stream",
          "name": "stdout",
          "text": [
            "added: {'model_id': 37, 'exp_dir': '/content/drive/MyDrive/muss/experiments/fairseq/local_1631390882572/', 'model_name': 'muss_train_0911_na_include_ABCD', 'dataset': '0911_ABCD_wikilarge_inc_na', 'info': '\\n                 train complete\\n                 use_asset=True.\\n                 load muss_mined.\\n                 ', 'recommended_preprocessors_kwargs': {'LengthRatioPreprocessor': {'target_ratio': 1.1836030880472763, 'use_short_name': False}, 'ReplaceOnlyLevenshteinPreprocessor': {'target_ratio': 0.7837758794547234, 'use_short_name': False}, 'WordRankRatioPreprocessor': {'target_ratio': 0.44310224347277266, 'language': 'en', 'use_short_name': False}, 'DependencyTreeDepthRatioPreprocessor': {'target_ratio': 0.5450343251841754, 'language': 'en', 'use_short_name': False}, 'GPT2BPEPreprocessor': {}}}\n"
          ]
        }
      ]
    },
    {
      "cell_type": "code",
      "metadata": {
        "id": "vCk132Vq-bUl",
        "colab": {
          "base_uri": "https://localhost:8080/",
          "height": 109
        },
        "outputId": "9b9b0049-17cb-409a-ccf2-982562facb6d"
      },
      "source": [
        "# filtered pairs\n",
        "add_item_to_dict(model_id=len(model_dir_dict),\n",
        "                 exp_dir=MODEL_DIR+'local_1631390826128/',\n",
        "                 model_name='muss_train_0911_na_no_include_ABCD', \n",
        "                 dataset='0911_ABCD_wikilarge_no_inc_na',\n",
        "                 info=\n",
        "                 '''\n",
        "                 train complete\n",
        "                 use_asset=True.\n",
        "                 load muss_mined.\n",
        "                 ''',\n",
        "recommended_preprocessors_kwargs=\n",
        "{'LengthRatioPreprocessor': {'target_ratio': 1.1372158070365654, 'use_short_name': False}, \n",
        " 'ReplaceOnlyLevenshteinPreprocessor': {'target_ratio': 0.5941372258967513, 'use_short_name': False},\n",
        " 'WordRankRatioPreprocessor': {'target_ratio': 0.4846390863544413, 'language': 'en', 'use_short_name': False}, \n",
        " 'DependencyTreeDepthRatioPreprocessor': {'target_ratio': 0.8201457718035017, 'language': 'en', 'use_short_name': False},\n",
        " 'GPT2BPEPreprocessor': {}}\n",
        "\n",
        "                 )\n"
      ],
      "execution_count": null,
      "outputs": [
        {
          "output_type": "display_data",
          "data": {
            "text/html": [
              "\n",
              "  <style>\n",
              "    pre {\n",
              "        white-space: pre-wrap;\n",
              "    }\n",
              "  </style>\n",
              "  "
            ],
            "text/plain": [
              "<IPython.core.display.HTML object>"
            ]
          },
          "metadata": {}
        },
        {
          "output_type": "stream",
          "name": "stdout",
          "text": [
            "added: {'model_id': 38, 'exp_dir': '/content/drive/MyDrive/muss/experiments/fairseq/local_1631390826128/', 'model_name': 'muss_train_0911_na_no_include_ABCD', 'dataset': '0911_ABCD_wikilarge_no_inc_na', 'info': '\\n                 train complete\\n                 use_asset=True.\\n                 load muss_mined.\\n                 ', 'recommended_preprocessors_kwargs': {'LengthRatioPreprocessor': {'target_ratio': 1.1372158070365654, 'use_short_name': False}, 'ReplaceOnlyLevenshteinPreprocessor': {'target_ratio': 0.5941372258967513, 'use_short_name': False}, 'WordRankRatioPreprocessor': {'target_ratio': 0.4846390863544413, 'language': 'en', 'use_short_name': False}, 'DependencyTreeDepthRatioPreprocessor': {'target_ratio': 0.8201457718035017, 'language': 'en', 'use_short_name': False}, 'GPT2BPEPreprocessor': {}}}\n"
          ]
        }
      ]
    },
    {
      "cell_type": "code",
      "metadata": {
        "id": "UmkSFVdx-bSX",
        "colab": {
          "base_uri": "https://localhost:8080/",
          "height": 109
        },
        "outputId": "50f71a62-e925-49ab-b7a7-ac732071eb81"
      },
      "source": [
        "# both/both\n",
        "add_item_to_dict(model_id=len(model_dir_dict),\n",
        "                 exp_dir=MODEL_DIR+'local_1629750798219/',\n",
        "                 model_name='muss_cooc_0822', \n",
        "                 dataset='wikilarge_cooc_0823',\n",
        "                 info=\n",
        "                 '''\n",
        "                 train complete\n",
        "                 use_asset=True.\n",
        "                 load muss_mined.\n",
        "                 ''',\n",
        "                #  generate_use_checkpoint_dir='/content/drive/MyDrive/muss/experiments/fairseq/local_1630021031879/checkpoints/checkpoint2.pt',\n",
        "                # find para using ABCD asset\n",
        "recommended_preprocessors_kwargs=\n",
        "{'LengthRatioPreprocessor': {'target_ratio': 1.0504094095374035, 'use_short_name': False}, \n",
        " 'ReplaceOnlyLevenshteinPreprocessor': {'target_ratio': 0.7753307276413414, 'use_short_name': False},\n",
        " 'WordRankRatioPreprocessor': {'target_ratio': 0.596112042588367, 'language': 'en', 'use_short_name': False}, \n",
        " 'DependencyTreeDepthRatioPreprocessor': {'target_ratio': 0.20027131014394287, 'language': 'en', 'use_short_name': False},\n",
        " 'GPT2BPEPreprocessor': {}}\n",
        "\n",
        "                 )\n"
      ],
      "execution_count": null,
      "outputs": [
        {
          "output_type": "display_data",
          "data": {
            "text/html": [
              "\n",
              "  <style>\n",
              "    pre {\n",
              "        white-space: pre-wrap;\n",
              "    }\n",
              "  </style>\n",
              "  "
            ],
            "text/plain": [
              "<IPython.core.display.HTML object>"
            ]
          },
          "metadata": {}
        },
        {
          "output_type": "stream",
          "name": "stdout",
          "text": [
            "added: {'model_id': 39, 'exp_dir': '/content/drive/MyDrive/muss/experiments/fairseq/local_1629750798219/', 'model_name': 'muss_cooc_0822', 'dataset': 'wikilarge_cooc_0823', 'info': '\\n                 train complete\\n                 use_asset=True.\\n                 load muss_mined.\\n                 ', 'recommended_preprocessors_kwargs': {'LengthRatioPreprocessor': {'target_ratio': 1.0504094095374035, 'use_short_name': False}, 'ReplaceOnlyLevenshteinPreprocessor': {'target_ratio': 0.7753307276413414, 'use_short_name': False}, 'WordRankRatioPreprocessor': {'target_ratio': 0.596112042588367, 'language': 'en', 'use_short_name': False}, 'DependencyTreeDepthRatioPreprocessor': {'target_ratio': 0.20027131014394287, 'language': 'en', 'use_short_name': False}, 'GPT2BPEPreprocessor': {}}}\n"
          ]
        }
      ]
    },
    {
      "cell_type": "code",
      "metadata": {
        "id": "hvY3KLeh-bNC",
        "colab": {
          "base_uri": "https://localhost:8080/",
          "height": 109
        },
        "outputId": "9deebeae-072b-4fcd-fd59-45a666aa3d8b"
      },
      "source": [
        "# simple/simple/filtered pairs\n",
        "add_item_to_dict(model_id=len(model_dir_dict),\n",
        "                 exp_dir=MODEL_DIR+'local_1631567843618/',\n",
        "                 model_name='muss_train_0913_ABCD_NER', \n",
        "                 dataset='0913_ABCD_NER_wikilarge',\n",
        "                 info=\n",
        "                 '''\n",
        "                 train complete\n",
        "                 use_asset=True.\n",
        "                 load muss_mined.\n",
        "                 ''',\n",
        "\n",
        "recommended_preprocessors_kwargs=\n",
        "{'LengthRatioPreprocessor': {'target_ratio': 0.8362634626138021, 'use_short_name': False}, \n",
        " 'ReplaceOnlyLevenshteinPreprocessor': {'target_ratio': 0.7719594617931818, 'use_short_name': False},\n",
        " 'WordRankRatioPreprocessor': {'target_ratio': 0.8373903360773232, 'language': 'en', 'use_short_name': False},\n",
        " 'DependencyTreeDepthRatioPreprocessor': {'target_ratio': 0.7178625295578446, 'language': 'en', 'use_short_name': False}, \n",
        " 'GPT2BPEPreprocessor': {}}\n",
        "\n",
        "\n",
        "                 )\n"
      ],
      "execution_count": null,
      "outputs": [
        {
          "output_type": "display_data",
          "data": {
            "text/html": [
              "\n",
              "  <style>\n",
              "    pre {\n",
              "        white-space: pre-wrap;\n",
              "    }\n",
              "  </style>\n",
              "  "
            ],
            "text/plain": [
              "<IPython.core.display.HTML object>"
            ]
          },
          "metadata": {}
        },
        {
          "output_type": "stream",
          "name": "stdout",
          "text": [
            "added: {'model_id': 40, 'exp_dir': '/content/drive/MyDrive/muss/experiments/fairseq/local_1631567843618/', 'model_name': 'muss_train_0913_ABCD_NER', 'dataset': '0913_ABCD_NER_wikilarge', 'info': '\\n                 train complete\\n                 use_asset=True.\\n                 load muss_mined.\\n                 ', 'recommended_preprocessors_kwargs': {'LengthRatioPreprocessor': {'target_ratio': 0.8362634626138021, 'use_short_name': False}, 'ReplaceOnlyLevenshteinPreprocessor': {'target_ratio': 0.7719594617931818, 'use_short_name': False}, 'WordRankRatioPreprocessor': {'target_ratio': 0.8373903360773232, 'language': 'en', 'use_short_name': False}, 'DependencyTreeDepthRatioPreprocessor': {'target_ratio': 0.7178625295578446, 'language': 'en', 'use_short_name': False}, 'GPT2BPEPreprocessor': {}}}\n"
          ]
        }
      ]
    },
    {
      "cell_type": "code",
      "metadata": {
        "id": "IrsPKICL-bF6"
      },
      "source": [
        ""
      ],
      "execution_count": null,
      "outputs": []
    },
    {
      "cell_type": "code",
      "metadata": {
        "id": "Di6QA3i7-bDB"
      },
      "source": [
        ""
      ],
      "execution_count": null,
      "outputs": []
    },
    {
      "cell_type": "code",
      "metadata": {
        "colab": {
          "base_uri": "https://localhost:8080/",
          "height": 1000
        },
        "id": "xUR05ha26HnE",
        "outputId": "a766ecd8-8e4b-4f3b-d867-f40ab86ec30e"
      },
      "source": [
        "model_dir_dict\n"
      ],
      "execution_count": null,
      "outputs": [
        {
          "output_type": "display_data",
          "data": {
            "text/html": [
              "\n",
              "  <style>\n",
              "    pre {\n",
              "        white-space: pre-wrap;\n",
              "    }\n",
              "  </style>\n",
              "  "
            ],
            "text/plain": [
              "<IPython.core.display.HTML object>"
            ]
          },
          "metadata": {}
        },
        {
          "output_type": "execute_result",
          "data": {
            "text/plain": [
              "{0: {'exp_dir': '/content/drive/MyDrive/muss/resources/models/bart_mined',\n",
              "  'model_id': 0,\n",
              "  'model_name': 'bart_mined'},\n",
              " 1: {'exp_dir': '/content/drive/MyDrive/muss/resources/models/bart_mined_wikilarge',\n",
              "  'model_id': 1,\n",
              "  'model_name': 'bart_mined_wikilarge',\n",
              "  'preprocessors_kwargs': {'DependencyTreeDepthRatioPreprocessor': {'language': 'en',\n",
              "    'target_ratio': 0.4,\n",
              "    'use_short_name': False},\n",
              "   'LengthRatioPreprocessor': {'target_ratio': 0.9, 'use_short_name': False},\n",
              "   'ReplaceOnlyLevenshteinPreprocessor': {'target_ratio': 0.65,\n",
              "    'use_short_name': False},\n",
              "   'WordRankRatioPreprocessor': {'language': 'en',\n",
              "    'target_ratio': 0.75,\n",
              "    'use_short_name': False}}},\n",
              " 2: {'model_id': 2},\n",
              " 3: {'model_id': 3},\n",
              " 4: {'model_id': 4},\n",
              " 5: {'model_id': 5},\n",
              " 6: {'model_id': 6},\n",
              " 7: {'model_id': 7},\n",
              " 8: {'exp_dir': '/content/drive/MyDrive/muss/experiments/fairseq/local_1628299139742/',\n",
              "  'info': '\\n                 train complete\\n                 train,test, valid: insert target NER into source.\\n                 1. changed dictionary\\n                2. changed extract special token\\n                3. changed train kwargs\\n                4.muss/evaluation\\\\general 2 function changed \\n                5.muss/fairseq/base train arg\\n                 use_asset=True.\\n                 load muss_mined.\\n                 token_data_wikilarge_0807\\n                 ',\n",
              "  'model_id': 8,\n",
              "  'model_name': 'muss_train_use_target_NER',\n",
              "  'recommended_preprocessors_kwargs': {'DependencyTreeDepthRatioPreprocessor': {'language': 'en',\n",
              "    'target_ratio': 0.45741492410366896,\n",
              "    'use_short_name': False},\n",
              "   'GPT2BPEPreprocessor': {},\n",
              "   'LengthRatioPreprocessor': {'target_ratio': 0.9232791040422811,\n",
              "    'use_short_name': False},\n",
              "   'ReplaceOnlyLevenshteinPreprocessor': {'target_ratio': 0.7547104722847939,\n",
              "    'use_short_name': False},\n",
              "   'WordRankRatioPreprocessor': {'language': 'en',\n",
              "    'target_ratio': 0.8384149385346878,\n",
              "    'use_short_name': False}}},\n",
              " 9: {'exp_dir': '/content/drive/MyDrive/muss/experiments/fairseq/local_1628356825356/',\n",
              "  'info': '\\n                 train complete\\n                 train: insert NER that is both in target and source.\\n                test, valid data: unchanged wikilarge. NER is from source.\\n                 use_asset=True.\\n                 load muss_mined.\\n                 token_data_wikilarge_0807_cooccur\\n                 ',\n",
              "  'model_id': 9,\n",
              "  'model_name': 'muss_train_use_co_occur_NER'},\n",
              " 10: {'exp_dir': '/content/drive/MyDrive/muss/experiments/fairseq/local_1628357063986/',\n",
              "  'info': '\\n                 train complete\\n                 train: insert NER that is both in target and source.\\n                test, valid data: unchanged wikilarge. NER is from source.\\n                 use_asset=True.\\n                 load muss_mined.\\n                 token_data_wikilarge_0807_no_NER\\n                 ',\n",
              "  'model_id': 10,\n",
              "  'model_name': 'muss_no_NER',\n",
              "  'recommended_preprocessors_kwargs': {'DependencyTreeDepthRatioPreprocessor': {'language': 'en',\n",
              "    'target_ratio': 0.791613961476961,\n",
              "    'use_short_name': False},\n",
              "   'GPT2BPEPreprocessor': {},\n",
              "   'LengthRatioPreprocessor': {'target_ratio': 0.671471662548423,\n",
              "    'use_short_name': False},\n",
              "   'ReplaceOnlyLevenshteinPreprocessor': {'target_ratio': 0.7899616811007996,\n",
              "    'use_short_name': False},\n",
              "   'WordRankRatioPreprocessor': {'language': 'en',\n",
              "    'target_ratio': 0.40813050670938067,\n",
              "    'use_short_name': False}}},\n",
              " 11: {'exp_dir': '/content/drive/MyDrive/muss/experiments/fairseq/local_1628299139742/',\n",
              "  'info': '\\n                 train complete\\n                 train: insert target sentence NER into source.\\n                test, valid data: unchanged wikilarge. NER is from source.\\n                 1. changed dictionary\\n                2. changed extract special token\\n                3. changed train kwargs\\n                4.muss/evaluation\\\\general 2 function changed \\n                5.muss/fairseq/base train arg\\n                 use_asset=True.\\n                 load muss_mined.\\n                 token_data_wikilarge_0807\\n                 ',\n",
              "  'model_id': 11,\n",
              "  'model_name': 'muss_train_use_target_NER',\n",
              "  'recommended_preprocessors_kwargs': {'DependencyTreeDepthRatioPreprocessor': {'language': 'en',\n",
              "    'target_ratio': 0.3694423178221648,\n",
              "    'use_short_name': False},\n",
              "   'GPT2BPEPreprocessor': {},\n",
              "   'LengthRatioPreprocessor': {'target_ratio': 0.909607027613668,\n",
              "    'use_short_name': False},\n",
              "   'ReplaceOnlyLevenshteinPreprocessor': {'target_ratio': 0.8162749783306084,\n",
              "    'use_short_name': False},\n",
              "   'WordRankRatioPreprocessor': {'language': 'en',\n",
              "    'target_ratio': 0.5462451568701605,\n",
              "    'use_short_name': False}}},\n",
              " 12: {'dataset': 'token_complex_wikilarge_0810',\n",
              "  'exp_dir': '/content/drive/MyDrive/muss/experiments/fairseq/local_1628632701978/',\n",
              "  'info': '\\n                 train complete\\n                 train,test,valid\\n                 use_asset=True.\\n                 load muss_mined.\\n                 ',\n",
              "  'model_id': 12,\n",
              "  'model_name': 'muss_complex_0810'},\n",
              " 13: {'dataset': 'token_complex_wikilarge_0810',\n",
              "  'exp_dir': '/content/drive/MyDrive/muss/experiments/fairseq/local_1628632701978/',\n",
              "  'info': '\\n                 train complete\\n                 train,test,valid\\n                 use_asset=True.\\n                 load muss_mined.\\n                 ',\n",
              "  'model_id': 13,\n",
              "  'model_name': 'muss_complex_0810'},\n",
              " 14: {'dataset': 'token_data_wikilarge_0810_cooccur',\n",
              "  'exp_dir': '/content/drive/MyDrive/muss/experiments/fairseq/local_1628635148170/',\n",
              "  'info': '\\n                 train complete\\n                 train,test,valid: insert NER that is both in target and source.\\n                 use_asset=True.\\n                 load muss_mined.\\n                 ',\n",
              "  'model_id': 14,\n",
              "  'model_name': 'muss_co_occur_0810',\n",
              "  'recommended_preprocessors_kwargs': {'DependencyTreeDepthRatioPreprocessor': {'language': 'en',\n",
              "    'target_ratio': 0.22377179007596412,\n",
              "    'use_short_name': False},\n",
              "   'GPT2BPEPreprocessor': {},\n",
              "   'LengthRatioPreprocessor': {'target_ratio': 0.7106468975998875,\n",
              "    'use_short_name': False},\n",
              "   'ReplaceOnlyLevenshteinPreprocessor': {'target_ratio': 0.7209310103866642,\n",
              "    'use_short_name': False},\n",
              "   'WordRankRatioPreprocessor': {'language': 'en',\n",
              "    'target_ratio': 0.6883820678495148,\n",
              "    'use_short_name': False}}},\n",
              " 15: {'dataset': 'token_data_wikilarge_0810_cooccur',\n",
              "  'exp_dir': '/content/drive/MyDrive/muss/experiments/fairseq/local_1628635148170/',\n",
              "  'info': '\\n                 train complete\\n                 train,test,valid: insert NER that is both in target and source.\\n                 use_asset=True.\\n                 load muss_mined.\\n                 ',\n",
              "  'model_id': 15,\n",
              "  'model_name': 'muss_co_occur_0810',\n",
              "  'recommended_preprocessors_kwargs': {'DependencyTreeDepthRatioPreprocessor': {'language': 'en',\n",
              "    'target_ratio': 0.21329612191393035,\n",
              "    'use_short_name': False},\n",
              "   'GPT2BPEPreprocessor': {},\n",
              "   'LengthRatioPreprocessor': {'target_ratio': 1.0420012310744888,\n",
              "    'use_short_name': False},\n",
              "   'ReplaceOnlyLevenshteinPreprocessor': {'target_ratio': 0.7158657422607126,\n",
              "    'use_short_name': False},\n",
              "   'WordRankRatioPreprocessor': {'language': 'en',\n",
              "    'target_ratio': 0.5760708375407306,\n",
              "    'use_short_name': False}}},\n",
              " 16: {'dataset': 'token_simple_wikilarge_0810',\n",
              "  'exp_dir': '/content/drive/MyDrive/muss/experiments/fairseq/local_1628718821939/',\n",
              "  'info': '\\n                 train complete\\n                 train,test,valid: insert NER that is both in target and source.\\n                 use_asset=True.\\n                 load muss_mined.\\n                 ',\n",
              "  'model_id': 16,\n",
              "  'model_name': 'muss_simple_0810',\n",
              "  'recommended_preprocessors_kwargs': {'DependencyTreeDepthRatioPreprocessor': {'language': 'en',\n",
              "    'target_ratio': 0.574831422440179,\n",
              "    'use_short_name': False},\n",
              "   'GPT2BPEPreprocessor': {},\n",
              "   'LengthRatioPreprocessor': {'target_ratio': 0.8745775160578683,\n",
              "    'use_short_name': False},\n",
              "   'ReplaceOnlyLevenshteinPreprocessor': {'target_ratio': 0.8184146111849491,\n",
              "    'use_short_name': False},\n",
              "   'WordRankRatioPreprocessor': {'language': 'en',\n",
              "    'target_ratio': 0.8301636377664322,\n",
              "    'use_short_name': False}}},\n",
              " 17: {'dataset': 'token_simple_wikilarge_0810',\n",
              "  'exp_dir': '/content/drive/MyDrive/muss/experiments/fairseq/local_1628718821939/',\n",
              "  'info': '\\n                 train complete\\n                 train,test,valid: insert NER that is both in target and source.\\n                 use_asset=True.\\n                 load muss_mined.\\n                 ',\n",
              "  'model_id': 17,\n",
              "  'model_name': 'muss_simple_0810'},\n",
              " 18: {'dataset': 'wikilarge_final_complex_0821',\n",
              "  'exp_dir': '/content/drive/MyDrive/muss/experiments/fairseq/local_1629593348299/',\n",
              "  'info': '\\n                 train complete\\n                 use_asset=True.\\n                 load muss_mined.\\n                 ',\n",
              "  'model_id': 18,\n",
              "  'model_name': 'muss_complex_0822',\n",
              "  'recommended_preprocessors_kwargs': {'DependencyTreeDepthRatioPreprocessor': {'language': 'en',\n",
              "    'target_ratio': 0.33930538813771477,\n",
              "    'use_short_name': False},\n",
              "   'GPT2BPEPreprocessor': {},\n",
              "   'LengthRatioPreprocessor': {'target_ratio': 0.956836653713281,\n",
              "    'use_short_name': False},\n",
              "   'ReplaceOnlyLevenshteinPreprocessor': {'target_ratio': 0.7285203296261804,\n",
              "    'use_short_name': False},\n",
              "   'WordRankRatioPreprocessor': {'language': 'en',\n",
              "    'target_ratio': 0.77610910374061,\n",
              "    'use_short_name': False}}},\n",
              " 19: {'dataset': 'wikilarge_final_complex_0821',\n",
              "  'exp_dir': '/content/drive/MyDrive/muss/experiments/fairseq/local_1629593348299/',\n",
              "  'info': '\\n                 train complete\\n                 use_asset=True.\\n                 load muss_mined.\\n                 ',\n",
              "  'model_id': 19,\n",
              "  'model_name': 'muss_complex_0822',\n",
              "  'recommended_preprocessors_kwargs': {'DependencyTreeDepthRatioPreprocessor': {'language': 'en',\n",
              "    'target_ratio': 0.29353456265546596,\n",
              "    'use_short_name': False},\n",
              "   'GPT2BPEPreprocessor': {},\n",
              "   'LengthRatioPreprocessor': {'target_ratio': 0.9700595349762818,\n",
              "    'use_short_name': False},\n",
              "   'ReplaceOnlyLevenshteinPreprocessor': {'target_ratio': 0.81504274123193,\n",
              "    'use_short_name': False},\n",
              "   'WordRankRatioPreprocessor': {'language': 'en',\n",
              "    'target_ratio': 0.8269654939477459,\n",
              "    'use_short_name': False}}},\n",
              " 20: {'dataset': 'wikilarge_final_simple_0821',\n",
              "  'exp_dir': '/content/drive/MyDrive/muss/experiments/fairseq/local_1629593322552/',\n",
              "  'info': '\\n                 train complete\\n                 use_asset=True.\\n                 load muss_mined.\\n                 ',\n",
              "  'model_id': 20,\n",
              "  'model_name': 'muss_simple_0822',\n",
              "  'recommended_preprocessors_kwargs': {'DependencyTreeDepthRatioPreprocessor': {'language': 'en',\n",
              "    'target_ratio': 0.48180181825919544,\n",
              "    'use_short_name': False},\n",
              "   'GPT2BPEPreprocessor': {},\n",
              "   'LengthRatioPreprocessor': {'target_ratio': 0.9489030771756881,\n",
              "    'use_short_name': False},\n",
              "   'ReplaceOnlyLevenshteinPreprocessor': {'target_ratio': 0.8512708177758973,\n",
              "    'use_short_name': False},\n",
              "   'WordRankRatioPreprocessor': {'language': 'en',\n",
              "    'target_ratio': 0.4332282006330827,\n",
              "    'use_short_name': False}}},\n",
              " 21: {'dataset': 'wikilarge_final_simple_0821',\n",
              "  'exp_dir': '/content/drive/MyDrive/muss/experiments/fairseq/local_1629593322552/',\n",
              "  'info': '\\n                 train complete\\n                 use_asset=True.\\n                 load muss_mined.\\n                 ',\n",
              "  'model_id': 21,\n",
              "  'model_name': 'muss_simple_0822',\n",
              "  'recommended_preprocessors_kwargs': {'DependencyTreeDepthRatioPreprocessor': {'language': 'en',\n",
              "    'target_ratio': 0.41809516782054756,\n",
              "    'use_short_name': False},\n",
              "   'GPT2BPEPreprocessor': {},\n",
              "   'LengthRatioPreprocessor': {'target_ratio': 0.9027911048335139,\n",
              "    'use_short_name': False},\n",
              "   'ReplaceOnlyLevenshteinPreprocessor': {'target_ratio': 0.8490285416814356,\n",
              "    'use_short_name': False},\n",
              "   'WordRankRatioPreprocessor': {'language': 'en',\n",
              "    'target_ratio': 0.823359682206033,\n",
              "    'use_short_name': False}}},\n",
              " 22: {'dataset': 'wikilarge_cooc_0823',\n",
              "  'exp_dir': '/content/drive/MyDrive/muss/experiments/fairseq/local_1629750798219/',\n",
              "  'info': '\\n                 train complete\\n                 use_asset=True.\\n                 load muss_mined.\\n                 ',\n",
              "  'model_id': 22,\n",
              "  'model_name': 'muss_cooc_0822',\n",
              "  'recommended_preprocessors_kwargs': {'DependencyTreeDepthRatioPreprocessor': {'language': 'en',\n",
              "    'target_ratio': 0.621889800579547,\n",
              "    'use_short_name': False},\n",
              "   'GPT2BPEPreprocessor': {},\n",
              "   'LengthRatioPreprocessor': {'target_ratio': 0.835076952260348,\n",
              "    'use_short_name': False},\n",
              "   'ReplaceOnlyLevenshteinPreprocessor': {'target_ratio': 0.8358750604197434,\n",
              "    'use_short_name': False},\n",
              "   'WordRankRatioPreprocessor': {'language': 'en',\n",
              "    'target_ratio': 0.9409659060288595,\n",
              "    'use_short_name': False}}},\n",
              " 23: {'dataset': 'wikilarge_cooc_0823',\n",
              "  'exp_dir': '/content/drive/MyDrive/muss/experiments/fairseq/local_1629750798219/',\n",
              "  'info': '\\n                 train complete\\n                 use_asset=True.\\n                 load muss_mined.\\n                 ',\n",
              "  'model_id': 23,\n",
              "  'model_name': 'muss_cooc_0822',\n",
              "  'recommended_preprocessors_kwargs': {'DependencyTreeDepthRatioPreprocessor': {'language': 'en',\n",
              "    'target_ratio': 0.3694293245030373,\n",
              "    'use_short_name': False},\n",
              "   'GPT2BPEPreprocessor': {},\n",
              "   'LengthRatioPreprocessor': {'target_ratio': 0.9449211615293195,\n",
              "    'use_short_name': False},\n",
              "   'ReplaceOnlyLevenshteinPreprocessor': {'target_ratio': 0.8248051135114383,\n",
              "    'use_short_name': False},\n",
              "   'WordRankRatioPreprocessor': {'language': 'en',\n",
              "    'target_ratio': 0.9249977217558367,\n",
              "    'use_short_name': False}}},\n",
              " 24: {'dataset': 'wikilarge_final_simple_0821',\n",
              "  'exp_dir': '/content/drive/MyDrive/muss/experiments/fairseq/local_1629763944392/',\n",
              "  'info': '\\n                 train complete\\n                 use_asset=True.\\n                 load muss_mined.\\n                 ',\n",
              "  'model_id': 24,\n",
              "  'model_name': '0823_train_simple_2BART_2RNN_together',\n",
              "  'recommended_preprocessors_kwargs': {'DependencyTreeDepthRatioPreprocessor': {'language': 'en',\n",
              "    'target_ratio': 1.1892137216162368,\n",
              "    'use_short_name': False},\n",
              "   'GPT2BPEPreprocessor': {},\n",
              "   'LengthRatioPreprocessor': {'target_ratio': 1.2158014432652016,\n",
              "    'use_short_name': False},\n",
              "   'ReplaceOnlyLevenshteinPreprocessor': {'target_ratio': 0.7184432274104291,\n",
              "    'use_short_name': False},\n",
              "   'WordRankRatioPreprocessor': {'language': 'en',\n",
              "    'target_ratio': 1.444762809665763,\n",
              "    'use_short_name': False}}},\n",
              " 25: {'dataset': 'wikilarge_final_simple_0821',\n",
              "  'exp_dir': '/content/drive/MyDrive/muss/experiments/fairseq/local_1629841731976/',\n",
              "  'generate_use_checkpoint_dir': '/content/drive/MyDrive/muss/experiments/fairseq/local_1629841731976/checkpoints/checkpoint12.pt',\n",
              "  'info': '\\n                 train complete\\n                 use_asset=True.\\n                 load muss_mined.\\n                 ',\n",
              "  'model_id': 25,\n",
              "  'model_name': '0823_train_together_for2_then_fix_RNN',\n",
              "  'recommended_preprocessors_kwargs': {'DependencyTreeDepthRatioPreprocessor': {'language': 'en',\n",
              "    'target_ratio': 1.3320036079739315,\n",
              "    'use_short_name': False},\n",
              "   'GPT2BPEPreprocessor': {},\n",
              "   'LengthRatioPreprocessor': {'target_ratio': 1.487917569735402,\n",
              "    'use_short_name': False},\n",
              "   'ReplaceOnlyLevenshteinPreprocessor': {'target_ratio': 0.8763562448202163,\n",
              "    'use_short_name': False},\n",
              "   'WordRankRatioPreprocessor': {'language': 'en',\n",
              "    'target_ratio': 0.9380293764647682,\n",
              "    'use_short_name': False}}},\n",
              " 26: {'dataset': 'wikilarge_final_simple_0821',\n",
              "  'exp_dir': '/content/drive/MyDrive/muss/experiments/fairseq/local_1630019050042/',\n",
              "  'info': '\\n                 train complete\\n                 use_asset=True.\\n                 load muss_mined.\\n                 ',\n",
              "  'model_id': 26,\n",
              "  'model_name': '0826_train_together_model_simple_0_0_0_para_1',\n",
              "  'recommended_preprocessors_kwargs': {'DependencyTreeDepthRatioPreprocessor': {'language': 'en',\n",
              "    'target_ratio': 0.21508139243375501,\n",
              "    'use_short_name': False},\n",
              "   'GPT2BPEPreprocessor': {},\n",
              "   'LengthRatioPreprocessor': {'target_ratio': 1.124169888991001,\n",
              "    'use_short_name': False},\n",
              "   'ReplaceOnlyLevenshteinPreprocessor': {'target_ratio': 0.4667328463927494,\n",
              "    'use_short_name': False},\n",
              "   'WordRankRatioPreprocessor': {'language': 'en',\n",
              "    'target_ratio': 1.3922614814378658,\n",
              "    'use_short_name': False}}},\n",
              " 27: {'dataset': 'wikilarge_final_simple_0821',\n",
              "  'exp_dir': '/content/drive/MyDrive/muss/experiments/fairseq/local_1630019050042/',\n",
              "  'generate_use_checkpoint_dir': '/content/drive/MyDrive/muss/experiments/fairseq/local_1630019050042/checkpoints/checkpoint2.pt',\n",
              "  'info': '\\n                 train complete\\n                 use_asset=True.\\n                 load muss_mined.\\n                 ',\n",
              "  'model_id': 27,\n",
              "  'model_name': '0826_train_together_model_simple_0_0_0_para_1',\n",
              "  'recommended_preprocessors_kwargs': {'DependencyTreeDepthRatioPreprocessor': {'language': 'en',\n",
              "    'target_ratio': 1.0879423219775408,\n",
              "    'use_short_name': False},\n",
              "   'GPT2BPEPreprocessor': {},\n",
              "   'LengthRatioPreprocessor': {'target_ratio': 1.4183927088210322,\n",
              "    'use_short_name': False},\n",
              "   'ReplaceOnlyLevenshteinPreprocessor': {'target_ratio': 0.46991609764759845,\n",
              "    'use_short_name': False},\n",
              "   'WordRankRatioPreprocessor': {'language': 'en',\n",
              "    'target_ratio': 1.1101461716597665,\n",
              "    'use_short_name': False}}},\n",
              " 28: {'dataset': 'wikilarge_final_simple_0821',\n",
              "  'exp_dir': '/content/drive/MyDrive/muss/experiments/fairseq/local_1630019555772/',\n",
              "  'info': '\\n                 train complete\\n                 use_asset=True.\\n                 load muss_mined.\\n                 ',\n",
              "  'model_id': 28,\n",
              "  'model_name': '0826_train_muss_together_0_0_0_para_1',\n",
              "  'recommended_preprocessors_kwargs': {'DependencyTreeDepthRatioPreprocessor': {'language': 'en',\n",
              "    'target_ratio': 1.474779058586391,\n",
              "    'use_short_name': False},\n",
              "   'GPT2BPEPreprocessor': {},\n",
              "   'LengthRatioPreprocessor': {'target_ratio': 1.0926432098556644,\n",
              "    'use_short_name': False},\n",
              "   'ReplaceOnlyLevenshteinPreprocessor': {'target_ratio': 0.6555919488220876,\n",
              "    'use_short_name': False},\n",
              "   'WordRankRatioPreprocessor': {'language': 'en',\n",
              "    'target_ratio': 1.1239251594138633,\n",
              "    'use_short_name': False}}},\n",
              " 29: {'dataset': 'wikilarge_final_simple_0821',\n",
              "  'exp_dir': '/content/drive/MyDrive/muss/experiments/fairseq/local_1630019555772/',\n",
              "  'generate_use_checkpoint_dir': '/content/drive/MyDrive/muss/experiments/fairseq/local_1630019555772/checkpoints/checkpoint2.pt',\n",
              "  'info': '\\n                 train complete\\n                 use_asset=True.\\n                 load muss_mined.\\n                 ',\n",
              "  'model_id': 29,\n",
              "  'model_name': '0826_train_muss_together_0_0_0_para_1',\n",
              "  'recommended_preprocessors_kwargs': {'DependencyTreeDepthRatioPreprocessor': {'language': 'en',\n",
              "    'target_ratio': 1.0879423219775408,\n",
              "    'use_short_name': False},\n",
              "   'GPT2BPEPreprocessor': {},\n",
              "   'LengthRatioPreprocessor': {'target_ratio': 1.4183927088210322,\n",
              "    'use_short_name': False},\n",
              "   'ReplaceOnlyLevenshteinPreprocessor': {'target_ratio': 0.46991609764759845,\n",
              "    'use_short_name': False},\n",
              "   'WordRankRatioPreprocessor': {'language': 'en',\n",
              "    'target_ratio': 1.1101461716597665,\n",
              "    'use_short_name': False}}},\n",
              " 30: {'dataset': 'wikilarge_final_simple_0821',\n",
              "  'exp_dir': '/content/drive/MyDrive/muss/experiments/fairseq/local_1630021031879/',\n",
              "  'info': '\\n                 train complete\\n                 use_asset=True.\\n                 load muss_mined.\\n                 ',\n",
              "  'model_id': 30,\n",
              "  'model_name': '0826_train_together_model_simple_0_0_0_para_0_1',\n",
              "  'recommended_preprocessors_kwargs': {'DependencyTreeDepthRatioPreprocessor': {'language': 'en',\n",
              "    'target_ratio': 1.1007668301973916,\n",
              "    'use_short_name': False},\n",
              "   'GPT2BPEPreprocessor': {},\n",
              "   'LengthRatioPreprocessor': {'target_ratio': 1.0798647080199697,\n",
              "    'use_short_name': False},\n",
              "   'ReplaceOnlyLevenshteinPreprocessor': {'target_ratio': 0.3381431454564642,\n",
              "    'use_short_name': False},\n",
              "   'WordRankRatioPreprocessor': {'language': 'en',\n",
              "    'target_ratio': 1.1412509349407423,\n",
              "    'use_short_name': False}}},\n",
              " 31: {'dataset': 'wikilarge_final_simple_0821',\n",
              "  'exp_dir': '/content/drive/MyDrive/muss/experiments/fairseq/local_1630021031879/',\n",
              "  'generate_use_checkpoint_dir': '/content/drive/MyDrive/muss/experiments/fairseq/local_1630021031879/checkpoints/checkpoint2.pt',\n",
              "  'info': '\\n                 train complete\\n                 use_asset=True.\\n                 load muss_mined.\\n                 ',\n",
              "  'model_id': 31,\n",
              "  'model_name': '0826_train_together_model_simple_0_0_0_para_0_1'},\n",
              " 32: {'dataset': 'C2C1B2_wikilarge',\n",
              "  'exp_dir': '/content/drive/MyDrive/muss/experiments/fairseq/local_1630093363664/',\n",
              "  'info': '\\n                 train complete\\n                 use_asset=True.\\n                 load muss_mined.\\n                 ',\n",
              "  'model_id': 32,\n",
              "  'model_name': 'muss_train_0827_ABCD',\n",
              "  'recommended_preprocessors_kwargs': {'DependencyTreeDepthRatioPreprocessor': {'language': 'en',\n",
              "    'target_ratio': 0.27765722850669167,\n",
              "    'use_short_name': False},\n",
              "   'GPT2BPEPreprocessor': {},\n",
              "   'LengthRatioPreprocessor': {'target_ratio': 0.9266386739130521,\n",
              "    'use_short_name': False},\n",
              "   'ReplaceOnlyLevenshteinPreprocessor': {'target_ratio': 0.8221555944889615,\n",
              "    'use_short_name': False},\n",
              "   'WordRankRatioPreprocessor': {'language': 'en',\n",
              "    'target_ratio': 0.8824017602688162,\n",
              "    'use_short_name': False}}},\n",
              " 33: {'dataset': 'wikilarge_final_simple_0821',\n",
              "  'exp_dir': '/content/drive/MyDrive/muss/experiments/fairseq/local_1630195482716/',\n",
              "  'info': '\\n                 train complete\\n                 use_asset=True.\\n                 load muss_mined.\\n                 ',\n",
              "  'model_id': 33,\n",
              "  'model_name': '0828_train_model_together_0_0_0_para_0_1_drop_2',\n",
              "  'recommended_preprocessors_kwargs': {'DependencyTreeDepthRatioPreprocessor': {'language': 'en',\n",
              "    'target_ratio': 1.0844414998933403,\n",
              "    'use_short_name': False},\n",
              "   'GPT2BPEPreprocessor': {},\n",
              "   'LengthRatioPreprocessor': {'target_ratio': 1.5, 'use_short_name': False},\n",
              "   'ReplaceOnlyLevenshteinPreprocessor': {'target_ratio': 1.0,\n",
              "    'use_short_name': False},\n",
              "   'WordRankRatioPreprocessor': {'language': 'en',\n",
              "    'target_ratio': 1.5,\n",
              "    'use_short_name': False}}},\n",
              " 34: {'dataset': 'C2C1B2_wikilarge_all',\n",
              "  'exp_dir': '/content/drive/MyDrive/muss/experiments/fairseq/local_1630152576723/',\n",
              "  'info': '\\n                 train complete\\n                 use_asset=True.\\n                 load muss_mined.\\n                 ',\n",
              "  'model_id': 34,\n",
              "  'model_name': 'muss_train_0828_na_include_ABCD',\n",
              "  'recommended_preprocessors_kwargs': {'DependencyTreeDepthRatioPreprocessor': {'language': 'en',\n",
              "    'target_ratio': 0.42718717259268596,\n",
              "    'use_short_name': False},\n",
              "   'GPT2BPEPreprocessor': {},\n",
              "   'LengthRatioPreprocessor': {'target_ratio': 1.2749009548425654,\n",
              "    'use_short_name': False},\n",
              "   'ReplaceOnlyLevenshteinPreprocessor': {'target_ratio': 0.7693734277221083,\n",
              "    'use_short_name': False},\n",
              "   'WordRankRatioPreprocessor': {'language': 'en',\n",
              "    'target_ratio': 0.8541376616472772,\n",
              "    'use_short_name': False}}},\n",
              " 35: {'dataset': 'wikilarge_final_simple_0821',\n",
              "  'exp_dir': '/content/drive/MyDrive/muss/experiments/fairseq/local_1630338618428/',\n",
              "  'info': '\\n                 train complete\\n                 use_asset=True.\\n                 load muss_mined.\\n                 ',\n",
              "  'model_id': 35,\n",
              "  'model_name': 'BART_RNN(GRU)_0830_train_model_together_para0_5_epoch2_noBCEwhenvalid',\n",
              "  'recommended_preprocessors_kwargs': {'DependencyTreeDepthRatioPreprocessor': {'language': 'en',\n",
              "    'target_ratio': 1.2062136513260375,\n",
              "    'use_short_name': False},\n",
              "   'GPT2BPEPreprocessor': {},\n",
              "   'LengthRatioPreprocessor': {'target_ratio': 1.234376999334771,\n",
              "    'use_short_name': False},\n",
              "   'ReplaceOnlyLevenshteinPreprocessor': {'target_ratio': 0.676282864018335,\n",
              "    'use_short_name': False},\n",
              "   'WordRankRatioPreprocessor': {'language': 'en',\n",
              "    'target_ratio': 0.9242397792347032,\n",
              "    'use_short_name': False}}},\n",
              " 36: {'dataset': 'wikilarge_final_simple_0821',\n",
              "  'exp_dir': '/content/drive/MyDrive/muss/experiments/fairseq/local_1630345977698/',\n",
              "  'info': '\\n                 train complete\\n                 use_asset=True.\\n                 load muss_mined.\\n                 ',\n",
              "  'model_id': 36,\n",
              "  'model_name': 'BART_RNN(GRU)_0830_train_model_together_para0_5_fix1_1_epoch2_noBCEwhenvalid',\n",
              "  'recommended_preprocessors_kwargs': {'DependencyTreeDepthRatioPreprocessor': {'language': 'en',\n",
              "    'target_ratio': 1.3373193777099142,\n",
              "    'use_short_name': False},\n",
              "   'GPT2BPEPreprocessor': {},\n",
              "   'LengthRatioPreprocessor': {'target_ratio': 0.6613155581718627,\n",
              "    'use_short_name': False},\n",
              "   'ReplaceOnlyLevenshteinPreprocessor': {'target_ratio': 0.4719725671806245,\n",
              "    'use_short_name': False},\n",
              "   'WordRankRatioPreprocessor': {'language': 'en',\n",
              "    'target_ratio': 1.3598832598362611,\n",
              "    'use_short_name': False}}},\n",
              " 37: {'dataset': '0911_ABCD_wikilarge_inc_na',\n",
              "  'exp_dir': '/content/drive/MyDrive/muss/experiments/fairseq/local_1631390882572/',\n",
              "  'info': '\\n                 train complete\\n                 use_asset=True.\\n                 load muss_mined.\\n                 ',\n",
              "  'model_id': 37,\n",
              "  'model_name': 'muss_train_0911_na_include_ABCD',\n",
              "  'recommended_preprocessors_kwargs': {'DependencyTreeDepthRatioPreprocessor': {'language': 'en',\n",
              "    'target_ratio': 0.5450343251841754,\n",
              "    'use_short_name': False},\n",
              "   'GPT2BPEPreprocessor': {},\n",
              "   'LengthRatioPreprocessor': {'target_ratio': 1.1836030880472763,\n",
              "    'use_short_name': False},\n",
              "   'ReplaceOnlyLevenshteinPreprocessor': {'target_ratio': 0.7837758794547234,\n",
              "    'use_short_name': False},\n",
              "   'WordRankRatioPreprocessor': {'language': 'en',\n",
              "    'target_ratio': 0.44310224347277266,\n",
              "    'use_short_name': False}}},\n",
              " 38: {'dataset': '0911_ABCD_wikilarge_no_inc_na',\n",
              "  'exp_dir': '/content/drive/MyDrive/muss/experiments/fairseq/local_1631390826128/',\n",
              "  'info': '\\n                 train complete\\n                 use_asset=True.\\n                 load muss_mined.\\n                 ',\n",
              "  'model_id': 38,\n",
              "  'model_name': 'muss_train_0911_na_no_include_ABCD',\n",
              "  'recommended_preprocessors_kwargs': {'DependencyTreeDepthRatioPreprocessor': {'language': 'en',\n",
              "    'target_ratio': 0.8201457718035017,\n",
              "    'use_short_name': False},\n",
              "   'GPT2BPEPreprocessor': {},\n",
              "   'LengthRatioPreprocessor': {'target_ratio': 1.1372158070365654,\n",
              "    'use_short_name': False},\n",
              "   'ReplaceOnlyLevenshteinPreprocessor': {'target_ratio': 0.5941372258967513,\n",
              "    'use_short_name': False},\n",
              "   'WordRankRatioPreprocessor': {'language': 'en',\n",
              "    'target_ratio': 0.4846390863544413,\n",
              "    'use_short_name': False}}},\n",
              " 39: {'dataset': 'wikilarge_cooc_0823',\n",
              "  'exp_dir': '/content/drive/MyDrive/muss/experiments/fairseq/local_1629750798219/',\n",
              "  'info': '\\n                 train complete\\n                 use_asset=True.\\n                 load muss_mined.\\n                 ',\n",
              "  'model_id': 39,\n",
              "  'model_name': 'muss_cooc_0822',\n",
              "  'recommended_preprocessors_kwargs': {'DependencyTreeDepthRatioPreprocessor': {'language': 'en',\n",
              "    'target_ratio': 0.20027131014394287,\n",
              "    'use_short_name': False},\n",
              "   'GPT2BPEPreprocessor': {},\n",
              "   'LengthRatioPreprocessor': {'target_ratio': 1.0504094095374035,\n",
              "    'use_short_name': False},\n",
              "   'ReplaceOnlyLevenshteinPreprocessor': {'target_ratio': 0.7753307276413414,\n",
              "    'use_short_name': False},\n",
              "   'WordRankRatioPreprocessor': {'language': 'en',\n",
              "    'target_ratio': 0.596112042588367,\n",
              "    'use_short_name': False}}},\n",
              " 40: {'dataset': '0913_ABCD_NER_wikilarge',\n",
              "  'exp_dir': '/content/drive/MyDrive/muss/experiments/fairseq/local_1631567843618/',\n",
              "  'info': '\\n                 train complete\\n                 use_asset=True.\\n                 load muss_mined.\\n                 ',\n",
              "  'model_id': 40,\n",
              "  'model_name': 'muss_train_0913_ABCD_NER',\n",
              "  'recommended_preprocessors_kwargs': {'DependencyTreeDepthRatioPreprocessor': {'language': 'en',\n",
              "    'target_ratio': 0.7178625295578446,\n",
              "    'use_short_name': False},\n",
              "   'GPT2BPEPreprocessor': {},\n",
              "   'LengthRatioPreprocessor': {'target_ratio': 0.8362634626138021,\n",
              "    'use_short_name': False},\n",
              "   'ReplaceOnlyLevenshteinPreprocessor': {'target_ratio': 0.7719594617931818,\n",
              "    'use_short_name': False},\n",
              "   'WordRankRatioPreprocessor': {'language': 'en',\n",
              "    'target_ratio': 0.8373903360773232,\n",
              "    'use_short_name': False}}}}"
            ]
          },
          "metadata": {},
          "execution_count": 125
        }
      ]
    },
    {
      "cell_type": "markdown",
      "metadata": {
        "id": "C9Fh9cNNxKey"
      },
      "source": [
        "# generate model output define functions"
      ]
    },
    {
      "cell_type": "code",
      "metadata": {
        "colab": {
          "base_uri": "https://localhost:8080/",
          "height": 17
        },
        "id": "W1DMVq604buD",
        "outputId": "45cd77e5-02ce-4845-c52f-1579be108788"
      },
      "source": [
        "%%capture\n",
        "!pip install fairseq==0.10.2"
      ],
      "execution_count": null,
      "outputs": [
        {
          "output_type": "display_data",
          "data": {
            "text/html": [
              "\n",
              "  <style>\n",
              "    pre {\n",
              "        white-space: pre-wrap;\n",
              "    }\n",
              "  </style>\n",
              "  "
            ],
            "text/plain": [
              "<IPython.core.display.HTML object>"
            ]
          },
          "metadata": {}
        }
      ]
    },
    {
      "cell_type": "code",
      "metadata": {
        "colab": {
          "base_uri": "https://localhost:8080/",
          "height": 54
        },
        "id": "NzCVD1OM1Hr1",
        "outputId": "a927400e-1091-4425-831b-e091a80494fd"
      },
      "source": [
        "from muss.simplifiers import get_fairseq_simplifier, get_preprocessed_simplifier\n",
        "from muss.preprocessors import get_preprocessors, get_preprocessor_by_name\n",
        "from easse.utils.helpers import read_lines"
      ],
      "execution_count": null,
      "outputs": [
        {
          "output_type": "display_data",
          "data": {
            "text/html": [
              "\n",
              "  <style>\n",
              "    pre {\n",
              "        white-space: pre-wrap;\n",
              "    }\n",
              "  </style>\n",
              "  "
            ],
            "text/plain": [
              "<IPython.core.display.HTML object>"
            ]
          },
          "metadata": {}
        },
        {
          "output_type": "stream",
          "name": "stdout",
          "text": [
            "2021-09-24 12:33:37 | INFO | root | Generating grammar tables from /usr/lib/python3.7/lib2to3/Grammar.txt\n",
            "2021-09-24 12:33:37 | INFO | root | Generating grammar tables from /usr/lib/python3.7/lib2to3/PatternGrammar.txt\n"
          ]
        }
      ]
    },
    {
      "cell_type": "code",
      "metadata": {
        "colab": {
          "base_uri": "https://localhost:8080/",
          "height": 17
        },
        "id": "54GgiiqDyV4S",
        "outputId": "281461bb-c6c6-4b89-85d1-d087774530c3"
      },
      "source": [
        "output_dir = '/content/drive/MyDrive/muss/output/'"
      ],
      "execution_count": null,
      "outputs": [
        {
          "output_type": "display_data",
          "data": {
            "text/html": [
              "\n",
              "  <style>\n",
              "    pre {\n",
              "        white-space: pre-wrap;\n",
              "    }\n",
              "  </style>\n",
              "  "
            ],
            "text/plain": [
              "<IPython.core.display.HTML object>"
            ]
          },
          "metadata": {}
        }
      ]
    },
    {
      "cell_type": "code",
      "metadata": {
        "colab": {
          "base_uri": "https://localhost:8080/",
          "height": 35
        },
        "id": "2CoOvjjw8hQH",
        "outputId": "2d9aae7a-2ba9-4441-ec44-dcdf5b7bd182"
      },
      "source": [
        "cd '/content/drive/MyDrive/muss/output/'"
      ],
      "execution_count": null,
      "outputs": [
        {
          "output_type": "display_data",
          "data": {
            "text/html": [
              "\n",
              "  <style>\n",
              "    pre {\n",
              "        white-space: pre-wrap;\n",
              "    }\n",
              "  </style>\n",
              "  "
            ],
            "text/plain": [
              "<IPython.core.display.HTML object>"
            ]
          },
          "metadata": {}
        },
        {
          "output_type": "stream",
          "name": "stdout",
          "text": [
            "/content/drive/MyDrive/muss/output\n"
          ]
        }
      ]
    },
    {
      "cell_type": "code",
      "metadata": {
        "colab": {
          "base_uri": "https://localhost:8080/",
          "height": 17
        },
        "id": "kyo2yNDvLewS",
        "outputId": "e819d564-56ec-45c7-abcb-00784558d723"
      },
      "source": [
        "def generate_output(chosen_id_list,data_dir_list,data_list,sample=False,add_to_dir_name=None,muss_output=False,NE_output=False,CERF_output=False,NE_CERF_output=False,hypothesis_num=None,beam=None,sampling=False):\n",
        "\n",
        "  # store created dir\n",
        "  created_dir = []\n",
        "\n",
        "  for index in chosen_id_list:\n",
        "    \n",
        "    # get model unique local id\n",
        "    exp_dir = model_dir_dict[index]['exp_dir']\n",
        "    print('| model_name is',model_dir_dict[index]['model_name'])\n",
        "    print('| exp_dir is',exp_dir)\n",
        "    model_name = 'model_'+ str(index) + '_'+ exp_dir.split('/')[-2]\n",
        "\n",
        "    os.makedirs(output_dir+model_name, exist_ok=True)\n",
        "\n",
        "    language = 'en'\n",
        "\n",
        "    # get recommended_preprocessors_kwargs\n",
        "    if 'recommended_preprocessors_kwargs' in model_dir_dict[index].keys() :\n",
        "      preprocessors_kwargs = model_dir_dict[index]['recommended_preprocessors_kwargs']\n",
        "      print('| use provided kwargs')\n",
        "    else:\n",
        "      # use muss_mined_wiki preprocessors\n",
        "      preprocessors_kwargs = {\n",
        "            'LengthRatioPreprocessor': {'target_ratio': 0.9, 'use_short_name': False},\n",
        "            'ReplaceOnlyLevenshteinPreprocessor': {'target_ratio': 0.65, 'use_short_name': False},\n",
        "            'WordRankRatioPreprocessor': {'target_ratio': 0.75, 'language': language, 'use_short_name': False},\n",
        "            'DependencyTreeDepthRatioPreprocessor': {'target_ratio': 0.4, 'language': language, 'use_short_name': False},\n",
        "        }\n",
        "      preprocessors_kwargs['GPT2BPEPreprocessor'] = {}\n",
        "\n",
        "    print('| use preprocessors_kwargs',preprocessors_kwargs)\n",
        "    preprocessors = get_preprocessors(preprocessors_kwargs)\n",
        "\n",
        "    if hypothesis_num == None:\n",
        "      hypothesis_num = 1\n",
        "    if beam == None:\n",
        "      beam=5\n",
        "\n",
        "    generate_kwargs = {'hypothesis_num':hypothesis_num,\n",
        "                       'beam':beam,\n",
        "                       'sampling':sampling}\n",
        "\n",
        "    simplifier = get_fairseq_simplifier(exp_dir, **generate_kwargs)\n",
        "    simplifier = get_preprocessed_simplifier(simplifier, preprocessors=preprocessors)\n",
        "\n",
        "    #########################################\n",
        "    # simplify sample sentences\n",
        "    if sample:\n",
        "      if muss_output:\n",
        "        complex_file_dir = '/content/drive/MyDrive/muss/scripts/contract_no_token.en'\n",
        "      elif NE_output:\n",
        "        complex_file_dir = '/content/drive/MyDrive/muss/scripts/contract_NE_token.en'\n",
        "      elif CERF_output:\n",
        "        complex_file_dir = '/content/drive/MyDrive/muss/scripts/contract_ABCD_token.en'\n",
        "      elif NE_CERF_output:\n",
        "        complex_file_dir = '/content/drive/MyDrive/muss/scripts/contract_NE_ABCD_token.en'\n",
        "\n",
        "      pred_path = simplifier(complex_file_dir)\n",
        "\n",
        "\n",
        "      for i in range(len(read_lines(complex_file_dir))):\n",
        "        print('original:\\n',read_lines(complex_file_dir)[i])\n",
        "        print('simplified:\\n',read_lines(pred_path)[i])\n",
        "        print('----------------------------------------------------')\n",
        "\n",
        "      return read_lines(complex_file_dir),read_lines(pred_path)\n",
        "    ###########################################\n",
        "\n",
        "    # create dir for output\n",
        "    subfolders = os.listdir(output_dir + model_name)\n",
        "    num_subfolder = len(subfolders)\n",
        "    new_folder_dir = output_dir + model_name + '/' +str(num_subfolder).zfill(2) +'/'\n",
        "    os.mkdir(new_folder_dir)\n",
        "    created_dir.append(new_folder_dir)\n",
        "\n",
        "     # simplify asset dataset\n",
        "    for index, file_dir in enumerate(data_dir_list):\n",
        "      \n",
        "      info_file_name = new_folder_dir + 'info.txt'\n",
        "      with open(info_file_name, 'w') as f:\n",
        "        f.write(\"generate_kwargs %s\\n\" % generate_kwargs)\n",
        "      f.close()\n",
        "\n",
        "      filename = new_folder_dir + data_list[index]\n",
        "      pred_path = simplifier(file_dir)\n",
        "\n",
        "      with open(filename, 'w') as f:\n",
        "          for item in read_lines(pred_path):\n",
        "              f.write(\"%s\\n\" % item)\n",
        "\n",
        "  print('created_dir',created_dir)\n",
        "  return created_dir"
      ],
      "execution_count": null,
      "outputs": [
        {
          "output_type": "display_data",
          "data": {
            "text/html": [
              "\n",
              "  <style>\n",
              "    pre {\n",
              "        white-space: pre-wrap;\n",
              "    }\n",
              "  </style>\n",
              "  "
            ],
            "text/plain": [
              "<IPython.core.display.HTML object>"
            ]
          },
          "metadata": {}
        }
      ]
    },
    {
      "cell_type": "markdown",
      "metadata": {
        "id": "FkSfTc49hwZ1"
      },
      "source": [
        "# generate"
      ]
    },
    {
      "cell_type": "code",
      "metadata": {
        "colab": {
          "base_uri": "https://localhost:8080/",
          "height": 568
        },
        "id": "lYuucOXK-oQk",
        "outputId": "a09a3dd9-21b9-4758-fcc0-a8d494e38270"
      },
      "source": [
        "test_data_dir_list,test_data_list"
      ],
      "execution_count": null,
      "outputs": [
        {
          "output_type": "display_data",
          "data": {
            "text/html": [
              "\n",
              "  <style>\n",
              "    pre {\n",
              "        white-space: pre-wrap;\n",
              "    }\n",
              "  </style>\n",
              "  "
            ],
            "text/plain": [
              "<IPython.core.display.HTML object>"
            ]
          },
          "metadata": {}
        },
        {
          "output_type": "execute_result",
          "data": {
            "text/plain": [
              "(['/content/drive/MyDrive/muss/resources/datasets/asset_ABCD_NER_fix_CERF_0NE/test.complex',\n",
              "  '/content/drive/MyDrive/muss/resources/datasets/asset_ABCD_NER_fix_CERF_1NE/test.complex',\n",
              "  '/content/drive/MyDrive/muss/resources/datasets/asset_ABCD_NER_fix_CERF_2NE/test.complex',\n",
              "  '/content/drive/MyDrive/muss/resources/datasets/asset_ABCD_NER_fix_CERF_3NE/test.complex',\n",
              "  '/content/drive/MyDrive/muss/resources/datasets/asset_ABCD_NER_fix_CERF_4NE/test.complex',\n",
              "  '/content/drive/MyDrive/muss/resources/datasets/asset_ABCD_NER_fix_CERF_5NE/test.complex',\n",
              "  '/content/drive/MyDrive/muss/resources/datasets/asset_ABCD_NER_fix_CERF_6NE/test.complex',\n",
              "  '/content/drive/MyDrive/muss/resources/datasets/asset_ABCD_NER_fix_NE_0CERF/test.complex',\n",
              "  '/content/drive/MyDrive/muss/resources/datasets/asset_ABCD_NER_fix_NE_1CERF/test.complex',\n",
              "  '/content/drive/MyDrive/muss/resources/datasets/asset_ABCD_NER_fix_NE_2CERF/test.complex',\n",
              "  '/content/drive/MyDrive/muss/resources/datasets/asset_ABCD_NER_fix_NE_3CERF/test.complex',\n",
              "  '/content/drive/MyDrive/muss/resources/datasets/asset_ABCD_NER_fix_NE_4CERF/test.complex',\n",
              "  '/content/drive/MyDrive/muss/resources/datasets/asset_ABCD_NER_fix_NE_5CERF/test.complex',\n",
              "  '/content/drive/MyDrive/muss/resources/datasets/asset_ABCD_NER_fix_NE_6CERF/test.complex',\n",
              "  '/content/drive/MyDrive/muss/resources/datasets/asset_ABCD_NER/test.complex'],\n",
              " ['asset.allCERF.0NE',\n",
              "  'asset.allCERF.1NE',\n",
              "  'asset.allCERF.2NE',\n",
              "  'asset.allCERF.3NE',\n",
              "  'asset.allCERF.4NE',\n",
              "  'asset.allCERF.5NE',\n",
              "  'asset.allCERF.6NE',\n",
              "  'asset.allNE.0CERF',\n",
              "  'asset.allNE.1CERF',\n",
              "  'asset.allNE.2CERF',\n",
              "  'asset.allNE.3CERF',\n",
              "  'asset.allNE.4CERF',\n",
              "  'asset.allNE.5CERF',\n",
              "  'asset.allNE.6CERF',\n",
              "  'asset.allNE.allCERF'])"
            ]
          },
          "metadata": {},
          "execution_count": 168
        }
      ]
    },
    {
      "cell_type": "code",
      "metadata": {
        "colab": {
          "base_uri": "https://localhost:8080/",
          "height": 1000
        },
        "id": "4jAkBg729oQT",
        "outputId": "8a325b8d-8df7-4d39-9489-b23ecb31c3da"
      },
      "source": [
        "chosen_id_list = [40]\n",
        "\n",
        "for i in [1,2,3,4,5]:\n",
        "  print(i)\n",
        "  created_dir = generate_output(chosen_id_list,\n",
        "                                data_dir_list=test_data_dir_list,\n",
        "                                data_list=test_data_list,\n",
        "                                hypothesis_num=i)"
      ],
      "execution_count": null,
      "outputs": [
        {
          "output_type": "display_data",
          "data": {
            "text/html": [
              "\n",
              "  <style>\n",
              "    pre {\n",
              "        white-space: pre-wrap;\n",
              "    }\n",
              "  </style>\n",
              "  "
            ],
            "text/plain": [
              "<IPython.core.display.HTML object>"
            ]
          },
          "metadata": {}
        },
        {
          "output_type": "stream",
          "name": "stdout",
          "text": [
            "1\n",
            "| model_name is muss_train_0913_ABCD_NER\n",
            "| exp_dir is /content/drive/MyDrive/muss/experiments/fairseq/local_1631567843618/\n",
            "| use provided kwargs\n",
            "| use preprocessors_kwargs {'LengthRatioPreprocessor': {'target_ratio': 0.8362634626138021, 'use_short_name': False}, 'ReplaceOnlyLevenshteinPreprocessor': {'target_ratio': 0.7719594617931818, 'use_short_name': False}, 'WordRankRatioPreprocessor': {'target_ratio': 0.8373903360773232, 'language': 'en', 'use_short_name': False}, 'DependencyTreeDepthRatioPreprocessor': {'target_ratio': 0.7178625295578446, 'language': 'en', 'use_short_name': False}, 'GPT2BPEPreprocessor': {}}\n",
            "encoder_json_path /content/drive/MyDrive/muss/resources/bart_bpe/encoder.json\n",
            "vocab_bpe_path /content/drive/MyDrive/muss/resources/bart_bpe/vocab.bpe\n",
            "| use checkpoint_paths [PosixPath('/content/drive/MyDrive/muss/experiments/fairseq/local_1631567843618/model.pt')]\n",
            "| use checkpoint_paths [PosixPath('/content/drive/MyDrive/muss/experiments/fairseq/local_1631567843618/model.pt')]\n",
            "| use checkpoint_paths [PosixPath('/content/drive/MyDrive/muss/experiments/fairseq/local_1631567843618/model.pt')]\n",
            "| use checkpoint_paths [PosixPath('/content/drive/MyDrive/muss/experiments/fairseq/local_1631567843618/model.pt')]\n",
            "| use checkpoint_paths [PosixPath('/content/drive/MyDrive/muss/experiments/fairseq/local_1631567843618/model.pt')]\n",
            "| use checkpoint_paths [PosixPath('/content/drive/MyDrive/muss/experiments/fairseq/local_1631567843618/model.pt')]\n",
            "| use checkpoint_paths [PosixPath('/content/drive/MyDrive/muss/experiments/fairseq/local_1631567843618/model.pt')]\n",
            "| use checkpoint_paths [PosixPath('/content/drive/MyDrive/muss/experiments/fairseq/local_1631567843618/model.pt')]\n",
            "| use checkpoint_paths [PosixPath('/content/drive/MyDrive/muss/experiments/fairseq/local_1631567843618/model.pt')]\n",
            "| use checkpoint_paths [PosixPath('/content/drive/MyDrive/muss/experiments/fairseq/local_1631567843618/model.pt')]\n",
            "| use checkpoint_paths [PosixPath('/content/drive/MyDrive/muss/experiments/fairseq/local_1631567843618/model.pt')]\n",
            "| use checkpoint_paths [PosixPath('/content/drive/MyDrive/muss/experiments/fairseq/local_1631567843618/model.pt')]\n",
            "| use checkpoint_paths [PosixPath('/content/drive/MyDrive/muss/experiments/fairseq/local_1631567843618/model.pt')]\n",
            "| use checkpoint_paths [PosixPath('/content/drive/MyDrive/muss/experiments/fairseq/local_1631567843618/model.pt')]\n",
            "| use checkpoint_paths [PosixPath('/content/drive/MyDrive/muss/experiments/fairseq/local_1631567843618/model.pt')]\n",
            "created_dir ['/content/drive/MyDrive/muss/output/model_40_local_1631567843618/00/']\n",
            "2\n",
            "| model_name is muss_train_0913_ABCD_NER\n",
            "| exp_dir is /content/drive/MyDrive/muss/experiments/fairseq/local_1631567843618/\n",
            "| use provided kwargs\n",
            "| use preprocessors_kwargs {'LengthRatioPreprocessor': {'target_ratio': 0.8362634626138021, 'use_short_name': False}, 'ReplaceOnlyLevenshteinPreprocessor': {'target_ratio': 0.7719594617931818, 'use_short_name': False}, 'WordRankRatioPreprocessor': {'target_ratio': 0.8373903360773232, 'language': 'en', 'use_short_name': False}, 'DependencyTreeDepthRatioPreprocessor': {'target_ratio': 0.7178625295578446, 'language': 'en', 'use_short_name': False}, 'GPT2BPEPreprocessor': {}}\n",
            "encoder_json_path /content/drive/MyDrive/muss/resources/bart_bpe/encoder.json\n",
            "vocab_bpe_path /content/drive/MyDrive/muss/resources/bart_bpe/vocab.bpe\n",
            "| use checkpoint_paths [PosixPath('/content/drive/MyDrive/muss/experiments/fairseq/local_1631567843618/model.pt')]\n",
            "| use checkpoint_paths [PosixPath('/content/drive/MyDrive/muss/experiments/fairseq/local_1631567843618/model.pt')]\n",
            "| use checkpoint_paths [PosixPath('/content/drive/MyDrive/muss/experiments/fairseq/local_1631567843618/model.pt')]\n",
            "| use checkpoint_paths [PosixPath('/content/drive/MyDrive/muss/experiments/fairseq/local_1631567843618/model.pt')]\n",
            "| use checkpoint_paths [PosixPath('/content/drive/MyDrive/muss/experiments/fairseq/local_1631567843618/model.pt')]\n",
            "| use checkpoint_paths [PosixPath('/content/drive/MyDrive/muss/experiments/fairseq/local_1631567843618/model.pt')]\n",
            "| use checkpoint_paths [PosixPath('/content/drive/MyDrive/muss/experiments/fairseq/local_1631567843618/model.pt')]\n",
            "| use checkpoint_paths [PosixPath('/content/drive/MyDrive/muss/experiments/fairseq/local_1631567843618/model.pt')]\n",
            "| use checkpoint_paths [PosixPath('/content/drive/MyDrive/muss/experiments/fairseq/local_1631567843618/model.pt')]\n",
            "| use checkpoint_paths [PosixPath('/content/drive/MyDrive/muss/experiments/fairseq/local_1631567843618/model.pt')]\n",
            "| use checkpoint_paths [PosixPath('/content/drive/MyDrive/muss/experiments/fairseq/local_1631567843618/model.pt')]\n",
            "| use checkpoint_paths [PosixPath('/content/drive/MyDrive/muss/experiments/fairseq/local_1631567843618/model.pt')]\n",
            "| use checkpoint_paths [PosixPath('/content/drive/MyDrive/muss/experiments/fairseq/local_1631567843618/model.pt')]\n",
            "| use checkpoint_paths [PosixPath('/content/drive/MyDrive/muss/experiments/fairseq/local_1631567843618/model.pt')]\n",
            "| use checkpoint_paths [PosixPath('/content/drive/MyDrive/muss/experiments/fairseq/local_1631567843618/model.pt')]\n",
            "created_dir ['/content/drive/MyDrive/muss/output/model_40_local_1631567843618/01/']\n",
            "3\n",
            "| model_name is muss_train_0913_ABCD_NER\n",
            "| exp_dir is /content/drive/MyDrive/muss/experiments/fairseq/local_1631567843618/\n",
            "| use provided kwargs\n",
            "| use preprocessors_kwargs {'LengthRatioPreprocessor': {'target_ratio': 0.8362634626138021, 'use_short_name': False}, 'ReplaceOnlyLevenshteinPreprocessor': {'target_ratio': 0.7719594617931818, 'use_short_name': False}, 'WordRankRatioPreprocessor': {'target_ratio': 0.8373903360773232, 'language': 'en', 'use_short_name': False}, 'DependencyTreeDepthRatioPreprocessor': {'target_ratio': 0.7178625295578446, 'language': 'en', 'use_short_name': False}, 'GPT2BPEPreprocessor': {}}\n",
            "encoder_json_path /content/drive/MyDrive/muss/resources/bart_bpe/encoder.json\n",
            "vocab_bpe_path /content/drive/MyDrive/muss/resources/bart_bpe/vocab.bpe\n",
            "| use checkpoint_paths [PosixPath('/content/drive/MyDrive/muss/experiments/fairseq/local_1631567843618/model.pt')]\n",
            "| use checkpoint_paths [PosixPath('/content/drive/MyDrive/muss/experiments/fairseq/local_1631567843618/model.pt')]\n",
            "| use checkpoint_paths [PosixPath('/content/drive/MyDrive/muss/experiments/fairseq/local_1631567843618/model.pt')]\n",
            "| use checkpoint_paths [PosixPath('/content/drive/MyDrive/muss/experiments/fairseq/local_1631567843618/model.pt')]\n",
            "| use checkpoint_paths [PosixPath('/content/drive/MyDrive/muss/experiments/fairseq/local_1631567843618/model.pt')]\n",
            "| use checkpoint_paths [PosixPath('/content/drive/MyDrive/muss/experiments/fairseq/local_1631567843618/model.pt')]\n",
            "| use checkpoint_paths [PosixPath('/content/drive/MyDrive/muss/experiments/fairseq/local_1631567843618/model.pt')]\n",
            "| use checkpoint_paths [PosixPath('/content/drive/MyDrive/muss/experiments/fairseq/local_1631567843618/model.pt')]\n",
            "| use checkpoint_paths [PosixPath('/content/drive/MyDrive/muss/experiments/fairseq/local_1631567843618/model.pt')]\n",
            "| use checkpoint_paths [PosixPath('/content/drive/MyDrive/muss/experiments/fairseq/local_1631567843618/model.pt')]\n",
            "| use checkpoint_paths [PosixPath('/content/drive/MyDrive/muss/experiments/fairseq/local_1631567843618/model.pt')]\n",
            "| use checkpoint_paths [PosixPath('/content/drive/MyDrive/muss/experiments/fairseq/local_1631567843618/model.pt')]\n",
            "| use checkpoint_paths [PosixPath('/content/drive/MyDrive/muss/experiments/fairseq/local_1631567843618/model.pt')]\n",
            "| use checkpoint_paths [PosixPath('/content/drive/MyDrive/muss/experiments/fairseq/local_1631567843618/model.pt')]\n",
            "| use checkpoint_paths [PosixPath('/content/drive/MyDrive/muss/experiments/fairseq/local_1631567843618/model.pt')]\n",
            "created_dir ['/content/drive/MyDrive/muss/output/model_40_local_1631567843618/02/']\n",
            "4\n",
            "| model_name is muss_train_0913_ABCD_NER\n",
            "| exp_dir is /content/drive/MyDrive/muss/experiments/fairseq/local_1631567843618/\n",
            "| use provided kwargs\n",
            "| use preprocessors_kwargs {'LengthRatioPreprocessor': {'target_ratio': 0.8362634626138021, 'use_short_name': False}, 'ReplaceOnlyLevenshteinPreprocessor': {'target_ratio': 0.7719594617931818, 'use_short_name': False}, 'WordRankRatioPreprocessor': {'target_ratio': 0.8373903360773232, 'language': 'en', 'use_short_name': False}, 'DependencyTreeDepthRatioPreprocessor': {'target_ratio': 0.7178625295578446, 'language': 'en', 'use_short_name': False}, 'GPT2BPEPreprocessor': {}}\n",
            "encoder_json_path /content/drive/MyDrive/muss/resources/bart_bpe/encoder.json\n",
            "vocab_bpe_path /content/drive/MyDrive/muss/resources/bart_bpe/vocab.bpe\n",
            "| use checkpoint_paths [PosixPath('/content/drive/MyDrive/muss/experiments/fairseq/local_1631567843618/model.pt')]\n",
            "| use checkpoint_paths [PosixPath('/content/drive/MyDrive/muss/experiments/fairseq/local_1631567843618/model.pt')]\n",
            "| use checkpoint_paths [PosixPath('/content/drive/MyDrive/muss/experiments/fairseq/local_1631567843618/model.pt')]\n",
            "| use checkpoint_paths [PosixPath('/content/drive/MyDrive/muss/experiments/fairseq/local_1631567843618/model.pt')]\n",
            "| use checkpoint_paths [PosixPath('/content/drive/MyDrive/muss/experiments/fairseq/local_1631567843618/model.pt')]\n",
            "| use checkpoint_paths [PosixPath('/content/drive/MyDrive/muss/experiments/fairseq/local_1631567843618/model.pt')]\n",
            "| use checkpoint_paths [PosixPath('/content/drive/MyDrive/muss/experiments/fairseq/local_1631567843618/model.pt')]\n",
            "| use checkpoint_paths [PosixPath('/content/drive/MyDrive/muss/experiments/fairseq/local_1631567843618/model.pt')]\n",
            "| use checkpoint_paths [PosixPath('/content/drive/MyDrive/muss/experiments/fairseq/local_1631567843618/model.pt')]\n",
            "| use checkpoint_paths [PosixPath('/content/drive/MyDrive/muss/experiments/fairseq/local_1631567843618/model.pt')]\n",
            "| use checkpoint_paths [PosixPath('/content/drive/MyDrive/muss/experiments/fairseq/local_1631567843618/model.pt')]\n",
            "| use checkpoint_paths [PosixPath('/content/drive/MyDrive/muss/experiments/fairseq/local_1631567843618/model.pt')]\n",
            "| use checkpoint_paths [PosixPath('/content/drive/MyDrive/muss/experiments/fairseq/local_1631567843618/model.pt')]\n",
            "| use checkpoint_paths [PosixPath('/content/drive/MyDrive/muss/experiments/fairseq/local_1631567843618/model.pt')]\n",
            "| use checkpoint_paths [PosixPath('/content/drive/MyDrive/muss/experiments/fairseq/local_1631567843618/model.pt')]\n",
            "created_dir ['/content/drive/MyDrive/muss/output/model_40_local_1631567843618/03/']\n",
            "5\n",
            "| model_name is muss_train_0913_ABCD_NER\n",
            "| exp_dir is /content/drive/MyDrive/muss/experiments/fairseq/local_1631567843618/\n",
            "| use provided kwargs\n",
            "| use preprocessors_kwargs {'LengthRatioPreprocessor': {'target_ratio': 0.8362634626138021, 'use_short_name': False}, 'ReplaceOnlyLevenshteinPreprocessor': {'target_ratio': 0.7719594617931818, 'use_short_name': False}, 'WordRankRatioPreprocessor': {'target_ratio': 0.8373903360773232, 'language': 'en', 'use_short_name': False}, 'DependencyTreeDepthRatioPreprocessor': {'target_ratio': 0.7178625295578446, 'language': 'en', 'use_short_name': False}, 'GPT2BPEPreprocessor': {}}\n",
            "encoder_json_path /content/drive/MyDrive/muss/resources/bart_bpe/encoder.json\n",
            "vocab_bpe_path /content/drive/MyDrive/muss/resources/bart_bpe/vocab.bpe\n",
            "| use checkpoint_paths [PosixPath('/content/drive/MyDrive/muss/experiments/fairseq/local_1631567843618/model.pt')]\n",
            "| use checkpoint_paths [PosixPath('/content/drive/MyDrive/muss/experiments/fairseq/local_1631567843618/model.pt')]\n",
            "| use checkpoint_paths [PosixPath('/content/drive/MyDrive/muss/experiments/fairseq/local_1631567843618/model.pt')]\n",
            "| use checkpoint_paths [PosixPath('/content/drive/MyDrive/muss/experiments/fairseq/local_1631567843618/model.pt')]\n",
            "| use checkpoint_paths [PosixPath('/content/drive/MyDrive/muss/experiments/fairseq/local_1631567843618/model.pt')]\n",
            "| use checkpoint_paths [PosixPath('/content/drive/MyDrive/muss/experiments/fairseq/local_1631567843618/model.pt')]\n",
            "| use checkpoint_paths [PosixPath('/content/drive/MyDrive/muss/experiments/fairseq/local_1631567843618/model.pt')]\n",
            "| use checkpoint_paths [PosixPath('/content/drive/MyDrive/muss/experiments/fairseq/local_1631567843618/model.pt')]\n",
            "| use checkpoint_paths [PosixPath('/content/drive/MyDrive/muss/experiments/fairseq/local_1631567843618/model.pt')]\n",
            "| use checkpoint_paths [PosixPath('/content/drive/MyDrive/muss/experiments/fairseq/local_1631567843618/model.pt')]\n",
            "| use checkpoint_paths [PosixPath('/content/drive/MyDrive/muss/experiments/fairseq/local_1631567843618/model.pt')]\n",
            "| use checkpoint_paths [PosixPath('/content/drive/MyDrive/muss/experiments/fairseq/local_1631567843618/model.pt')]\n",
            "| use checkpoint_paths [PosixPath('/content/drive/MyDrive/muss/experiments/fairseq/local_1631567843618/model.pt')]\n",
            "| use checkpoint_paths [PosixPath('/content/drive/MyDrive/muss/experiments/fairseq/local_1631567843618/model.pt')]\n",
            "| use checkpoint_paths [PosixPath('/content/drive/MyDrive/muss/experiments/fairseq/local_1631567843618/model.pt')]\n",
            "created_dir ['/content/drive/MyDrive/muss/output/model_40_local_1631567843618/04/']\n"
          ]
        }
      ]
    },
    {
      "cell_type": "markdown",
      "metadata": {
        "id": "43NsIzyoeZpq"
      },
      "source": [
        "# generate simplified financial contract"
      ]
    },
    {
      "cell_type": "code",
      "metadata": {
        "colab": {
          "base_uri": "https://localhost:8080/",
          "height": 293
        },
        "id": "itrtVK_ABM31",
        "outputId": "4d68974d-4c53-43aa-e404-4ca4ace2517b"
      },
      "source": [
        "ori, muss_output = generate_output([1],None,None,sample=True,muss_output=True)"
      ],
      "execution_count": null,
      "outputs": [
        {
          "output_type": "display_data",
          "data": {
            "text/html": [
              "\n",
              "  <style>\n",
              "    pre {\n",
              "        white-space: pre-wrap;\n",
              "    }\n",
              "  </style>\n",
              "  "
            ],
            "text/plain": [
              "<IPython.core.display.HTML object>"
            ]
          },
          "metadata": {}
        },
        {
          "output_type": "stream",
          "name": "stdout",
          "text": [
            "| model_name is bart_mined_wikilarge\n",
            "| exp_dir is /content/drive/MyDrive/muss/resources/models/bart_mined_wikilarge\n",
            "| use preprocessors_kwargs {'LengthRatioPreprocessor': {'target_ratio': 0.9, 'use_short_name': False}, 'ReplaceOnlyLevenshteinPreprocessor': {'target_ratio': 0.65, 'use_short_name': False}, 'WordRankRatioPreprocessor': {'target_ratio': 0.75, 'language': 'en', 'use_short_name': False}, 'DependencyTreeDepthRatioPreprocessor': {'target_ratio': 0.4, 'language': 'en', 'use_short_name': False}, 'GPT2BPEPreprocessor': {}}\n",
            "encoder_json_path /content/drive/MyDrive/muss/resources/bart_bpe/encoder.json\n",
            "vocab_bpe_path /content/drive/MyDrive/muss/resources/bart_bpe/vocab.bpe\n",
            "| use checkpoint_paths [PosixPath('/content/drive/MyDrive/muss/resources/models/bart_mined_wikilarge/model.pt')]\n",
            "original:\n",
            " You can instruct a TPP to access online information on your Account and make online Balance Transfers from your Account as long as they have identified themselves to us and acted in accordance with the relevant regulatory requirements.\n",
            "simplified:\n",
            " You can instruct a TPP to access online information on your account and make online balance transfers from your account as long as they have acted in accordance with the relevant regulatory requirements and identified themselves to us.\n",
            "----------------------------------------------------\n"
          ]
        }
      ]
    },
    {
      "cell_type": "code",
      "metadata": {
        "colab": {
          "base_uri": "https://localhost:8080/",
          "height": 311
        },
        "id": "HU2FG2YNDjaF",
        "outputId": "7c74c837-e5c6-4784-e86b-bc15d51d6d80"
      },
      "source": [
        "token_ori, fine_tune_model_output = generate_output([21],None,None,sample=True,NE_output=True)"
      ],
      "execution_count": null,
      "outputs": [
        {
          "output_type": "display_data",
          "data": {
            "text/html": [
              "\n",
              "  <style>\n",
              "    pre {\n",
              "        white-space: pre-wrap;\n",
              "    }\n",
              "  </style>\n",
              "  "
            ],
            "text/plain": [
              "<IPython.core.display.HTML object>"
            ]
          },
          "metadata": {}
        },
        {
          "output_type": "stream",
          "name": "stdout",
          "text": [
            "| model_name is muss_simple_0822\n",
            "| exp_dir is /content/drive/MyDrive/muss/experiments/fairseq/local_1629593322552/\n",
            "| use provided kwargs\n",
            "| use preprocessors_kwargs {'LengthRatioPreprocessor': {'target_ratio': 0.9027911048335139, 'use_short_name': False}, 'ReplaceOnlyLevenshteinPreprocessor': {'target_ratio': 0.8490285416814356, 'use_short_name': False}, 'WordRankRatioPreprocessor': {'target_ratio': 0.823359682206033, 'language': 'en', 'use_short_name': False}, 'DependencyTreeDepthRatioPreprocessor': {'target_ratio': 0.41809516782054756, 'language': 'en', 'use_short_name': False}, 'GPT2BPEPreprocessor': {}}\n",
            "encoder_json_path /content/drive/MyDrive/muss/resources/bart_bpe/encoder.json\n",
            "vocab_bpe_path /content/drive/MyDrive/muss/resources/bart_bpe/vocab.bpe\n",
            "| use checkpoint_paths [PosixPath('/content/drive/MyDrive/muss/experiments/fairseq/local_1629593322552/model.pt')]\n",
            "original:\n",
            " <NEXT_NE> TPP <NEXT_NE> Account <NEXT_NE> online Balance Transfers <SENT_START> You can instruct a TPP to access online information on your Account and make online Balance Transfers from your Account as long as they have identified themselves to us and acted in accordance with the relevant regulatory requirements.\n",
            "simplified:\n",
            " You can tell a TPP to access online information on your Account and make online Balance Transfers from your Account. They can do this as long as they have identified themselves to us and have followed the appropriate rules.\n",
            "----------------------------------------------------\n"
          ]
        }
      ]
    },
    {
      "cell_type": "code",
      "metadata": {
        "colab": {
          "base_uri": "https://localhost:8080/",
          "height": 568
        },
        "id": "HlVNfzrDEdl9",
        "outputId": "d2ca4fe6-41a0-4e1a-c3c6-c18138768f4e"
      },
      "source": [
        "token_ori_2, fine_tune_model_output_2 = generate_output([38],None,None,sample=True,CERF_output=True)"
      ],
      "execution_count": null,
      "outputs": [
        {
          "output_type": "display_data",
          "data": {
            "text/html": [
              "\n",
              "  <style>\n",
              "    pre {\n",
              "        white-space: pre-wrap;\n",
              "    }\n",
              "  </style>\n",
              "  "
            ],
            "text/plain": [
              "<IPython.core.display.HTML object>"
            ]
          },
          "metadata": {}
        },
        {
          "output_type": "stream",
          "name": "stdout",
          "text": [
            "| model_name is muss_train_0911_na_no_include_ABCD\n",
            "| exp_dir is /content/drive/MyDrive/muss/experiments/fairseq/local_1631390826128/\n",
            "| use provided kwargs\n",
            "| use preprocessors_kwargs {'LengthRatioPreprocessor': {'target_ratio': 1.1372158070365654, 'use_short_name': False}, 'ReplaceOnlyLevenshteinPreprocessor': {'target_ratio': 0.5941372258967513, 'use_short_name': False}, 'WordRankRatioPreprocessor': {'target_ratio': 0.4846390863544413, 'language': 'en', 'use_short_name': False}, 'DependencyTreeDepthRatioPreprocessor': {'target_ratio': 0.8201457718035017, 'language': 'en', 'use_short_name': False}, 'GPT2BPEPreprocessor': {}}\n",
            "encoder_json_path /content/drive/MyDrive/muss/resources/bart_bpe/encoder.json\n",
            "vocab_bpe_path /content/drive/MyDrive/muss/resources/bart_bpe/vocab.bpe\n",
            "| use checkpoint_paths [PosixPath('/content/drive/MyDrive/muss/experiments/fairseq/local_1631390826128/model.pt')]\n",
            "original:\n",
            " <NEXT_DIFFICULT_WORD> instruct <SENT_START> You can instruct a TPP to access online information on your Account and make online Balance Transfers from your Account as long as they have identified themselves to us and acted in accordance with the relevant regulatory requirements.\n",
            "simplified:\n",
            " You can tell a TPP to access online information on your account. You can make online Balance Transfers from your account as long as they have acted in accordance with the relevant regulatory requirements and have identified themselves to us.\n",
            "----------------------------------------------------\n",
            "original:\n",
            " <NEXT_DIFFICULT_WORD> instruct <NEXT_DIFFICULT_WORD> identified <SENT_START> You can instruct a TPP to access online information on your Account and make online Balance Transfers from your Account as long as they have identified themselves to us and acted in accordance with the relevant regulatory requirements.\n",
            "simplified:\n",
            " You can tell a TPP to access online information on your account. You can make online Balance Transfers from your account as long as they have acted in accordance with the relevant regulatory requirements and have given us their real name.\n",
            "----------------------------------------------------\n",
            "original:\n",
            " <NEXT_DIFFICULT_WORD> instruct <NEXT_DIFFICULT_WORD> identified <NEXT_DIFFICULT_WORD> accordance <SENT_START> You can instruct a TPP to access online information on your Account and make online Balance Transfers from your Account as long as they have identified themselves to us and acted in accordance with the relevant regulatory requirements.\n",
            "simplified:\n",
            " You can tell a TPP to access online information on your Account and make online Balance Transfers from your Account. You can tell TPP to do this as long as you know who they are and what they are doing. You can tell TPP to do this as long as you know what they are doing.\n",
            "----------------------------------------------------\n"
          ]
        }
      ]
    },
    {
      "cell_type": "code",
      "metadata": {
        "colab": {
          "base_uri": "https://localhost:8080/",
          "height": 825
        },
        "id": "CnBu21XzEdiy",
        "outputId": "ad2db64a-db6f-4277-8280-5ef5df797e9d"
      },
      "source": [
        "token_ori_2, fine_tune_model_output_2 = generate_output([40],None,None,sample=True,NE_CERF_output=True)"
      ],
      "execution_count": null,
      "outputs": [
        {
          "output_type": "display_data",
          "data": {
            "text/html": [
              "\n",
              "  <style>\n",
              "    pre {\n",
              "        white-space: pre-wrap;\n",
              "    }\n",
              "  </style>\n",
              "  "
            ],
            "text/plain": [
              "<IPython.core.display.HTML object>"
            ]
          },
          "metadata": {}
        },
        {
          "output_type": "stream",
          "name": "stdout",
          "text": [
            "| model_name is muss_train_0913_ABCD_NER\n",
            "| exp_dir is /content/drive/MyDrive/muss/experiments/fairseq/local_1631567843618/\n",
            "| use provided kwargs\n",
            "| use preprocessors_kwargs {'LengthRatioPreprocessor': {'target_ratio': 0.8362634626138021, 'use_short_name': False}, 'ReplaceOnlyLevenshteinPreprocessor': {'target_ratio': 0.7719594617931818, 'use_short_name': False}, 'WordRankRatioPreprocessor': {'target_ratio': 0.8373903360773232, 'language': 'en', 'use_short_name': False}, 'DependencyTreeDepthRatioPreprocessor': {'target_ratio': 0.7178625295578446, 'language': 'en', 'use_short_name': False}, 'GPT2BPEPreprocessor': {}}\n",
            "encoder_json_path /content/drive/MyDrive/muss/resources/bart_bpe/encoder.json\n",
            "vocab_bpe_path /content/drive/MyDrive/muss/resources/bart_bpe/vocab.bpe\n",
            "| use checkpoint_paths [PosixPath('/content/drive/MyDrive/muss/experiments/fairseq/local_1631567843618/model.pt')]\n",
            "original:\n",
            " <NEXT_NE> TPP <NEXT_NE> Account <NEXT_NE> online Balance Transfers <NEXT_DIFFICULT_WORD> instruct <SENT_START> You can instruct a TPP to access online information on your Account and make online Balance Transfers from your Account as long as they have identified themselves to us and acted in accordance with the relevant regulatory requirements.\n",
            "simplified:\n",
            " A TPP can access online information on your Account and make online Balance Transfers as long as they have identified themselves to us and have acted in accordance with what we tell them to do.\n",
            "----------------------------------------------------\n",
            "original:\n",
            " <NEXT_NE> TPP <NEXT_NE> Account <NEXT_NE> online Balance Transfers <NEXT_DIFFICULT_WORD> instruct <NEXT_DIFFICULT_WORD> identified <SENT_START> You can instruct a TPP to access online information on your Account and make online Balance Transfers from your Account as long as they have identified themselves to us and acted in accordance with the relevant regulatory requirements.\n",
            "simplified:\n",
            " You can tell a TPP to access online information on your Account and make online Balance Transfers from your Account as long as we know who they are and why they are doing what they are doing.\n",
            "----------------------------------------------------\n",
            "original:\n",
            " <NEXT_NE> TPP <NEXT_NE> Account <NEXT_NE> online Balance Transfers <NEXT_DIFFICULT_WORD> instruct <NEXT_DIFFICULT_WORD> identified <NEXT_DIFFICULT_WORD> accordance <SENT_START> You can instruct a TPP to access online information on your Account and make online Balance Transfers from your Account as long as they have identified themselves to us and acted in accordance with the relevant regulatory requirements.\n",
            "simplified:\n",
            " You can tell a TPP to access online information on your Account and make online Balance Transfers from your Account. They can do this as long as we know who they are and what they have done in the past.\n",
            "----------------------------------------------------\n",
            "original:\n",
            " <NEXT_NE> TPP <NEXT_NE> Account <NEXT_NE> online Balance Transfers <NEXT_DIFFICULT_WORD> identified <SENT_START> A TPP can access online information on your Account and make online Balance Transfers as long as they have identified themselves to us and have acted in accordance with what we tell them to do.\n",
            "simplified:\n",
            " A TPP can access online information on your Account and make online Balance Transfers as long as they do what we tell them to do and do not cause any problems for us.\n",
            "----------------------------------------------------\n",
            "original:\n",
            " <NEXT_NE> TPP <NEXT_NE> Account <NEXT_NE> online Balance Transfers <NEXT_DIFFICULT_WORD> acted <SENT_START> A TPP can access online information on your Account and make online Balance Transfers as long as they have identified themselves to us and have acted in accordance with what we tell them to do.\n",
            "simplified:\n",
            " A TPP can access online information on your Account and make online Balance Transfers as long as we know that they are who they say they are and what they are doing.\n",
            "----------------------------------------------------\n"
          ]
        }
      ]
    },
    {
      "cell_type": "code",
      "metadata": {
        "id": "oI58CujzEdfQ"
      },
      "source": [
        ""
      ],
      "execution_count": null,
      "outputs": []
    },
    {
      "cell_type": "code",
      "metadata": {
        "id": "w6j0Y0Q5hp1V"
      },
      "source": [
        ""
      ],
      "execution_count": null,
      "outputs": []
    }
  ]
}