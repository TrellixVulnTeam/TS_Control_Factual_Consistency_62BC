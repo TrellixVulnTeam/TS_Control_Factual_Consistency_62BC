{
  "nbformat": 4,
  "nbformat_minor": 5,
  "metadata": {
    "kernelspec": {
      "display_name": "Python 3",
      "language": "python",
      "name": "python3"
    },
    "toc": {
      "base_numbering": 1,
      "nav_menu": {},
      "number_sections": true,
      "sideBar": true,
      "skip_h1_title": false,
      "title_cell": "Table of Contents",
      "title_sidebar": "Contents",
      "toc_cell": false,
      "toc_position": {},
      "toc_section_display": true,
      "toc_window_display": false
    },
    "varInspector": {
      "cols": {
        "lenName": 16,
        "lenType": 16,
        "lenVar": 40
      },
      "kernels_config": {
        "python": {
          "delete_cmd_postfix": "",
          "delete_cmd_prefix": "del ",
          "library": "var_list.py",
          "varRefreshCmd": "print(var_dic_list())"
        },
        "r": {
          "delete_cmd_postfix": ") ",
          "delete_cmd_prefix": "rm(",
          "library": "var_list.r",
          "varRefreshCmd": "cat(var_dic_list()) "
        }
      },
      "types_to_exclude": [
        "module",
        "function",
        "builtin_function_or_method",
        "instance",
        "_Feature"
      ],
      "window_display": false
    },
    "colab": {
      "name": "git_words_extraction_wikilarge",
      "provenance": [],
      "collapsed_sections": [],
      "toc_visible": true,
      "machine_shape": "hm"
    }
  },
  "cells": [
    {
      "cell_type": "markdown",
      "metadata": {
        "id": "gr6t2slYzjIM"
      },
      "source": [
        "#setup"
      ],
      "id": "gr6t2slYzjIM"
    },
    {
      "cell_type": "code",
      "metadata": {
        "id": "q6lrruw1RasS"
      },
      "source": [
        "from IPython.display import HTML, display\n",
        "\n",
        "def set_css():\n",
        "  display(HTML('''\n",
        "  <style>\n",
        "    pre {\n",
        "        white-space: pre-wrap;\n",
        "    }\n",
        "  </style>\n",
        "  '''))\n",
        "get_ipython().events.register('pre_run_cell', set_css)"
      ],
      "id": "q6lrruw1RasS",
      "execution_count": null,
      "outputs": []
    },
    {
      "cell_type": "code",
      "metadata": {
        "id": "2d491659",
        "colab": {
          "base_uri": "https://localhost:8080/",
          "height": 17
        },
        "outputId": "8493d402-87eb-4339-af0e-c9ed46a33c06"
      },
      "source": [
        "import spacy\n",
        "import re\n",
        "import math\n",
        "import pickle\n",
        "from itertools import product\n",
        "import copy\n",
        "import numpy as np\n",
        "import pandas as pd\n",
        "import matplotlib.pyplot as plt\n",
        "import torch\n",
        "import os"
      ],
      "id": "2d491659",
      "execution_count": null,
      "outputs": [
        {
          "output_type": "display_data",
          "data": {
            "text/html": [
              "\n",
              "  <style>\n",
              "    pre {\n",
              "        white-space: pre-wrap;\n",
              "    }\n",
              "  </style>\n",
              "  "
            ],
            "text/plain": [
              "<IPython.core.display.HTML object>"
            ]
          },
          "metadata": {}
        }
      ]
    },
    {
      "cell_type": "code",
      "metadata": {
        "colab": {
          "base_uri": "https://localhost:8080/",
          "height": 35
        },
        "id": "k_K8tDyfiH7L",
        "outputId": "3f85b8ec-9285-4668-bf1d-0daad25249c4"
      },
      "source": [
        "from google.colab import drive\n",
        "drive.mount('/content/drive')"
      ],
      "id": "k_K8tDyfiH7L",
      "execution_count": null,
      "outputs": [
        {
          "output_type": "display_data",
          "data": {
            "text/html": [
              "\n",
              "  <style>\n",
              "    pre {\n",
              "        white-space: pre-wrap;\n",
              "    }\n",
              "  </style>\n",
              "  "
            ],
            "text/plain": [
              "<IPython.core.display.HTML object>"
            ]
          },
          "metadata": {}
        },
        {
          "output_type": "stream",
          "name": "stdout",
          "text": [
            "Mounted at /content/drive\n"
          ]
        }
      ]
    },
    {
      "cell_type": "code",
      "metadata": {
        "colab": {
          "base_uri": "https://localhost:8080/",
          "height": 17
        },
        "id": "EOx6eoXS0Xwf",
        "outputId": "45407504-bc9b-445d-9e9c-2bd0a77a5f66"
      },
      "source": [
        "\n",
        "from pathlib import Path\n",
        "def yield_lines(filepath, gzipped=False, n_lines=None):\n",
        "    filepath = Path(filepath)\n",
        "    open_function = open\n",
        "    if gzipped or filepath.name.endswith('.gz'):\n",
        "        open_function = gzip.open\n",
        "    with open_function(filepath, 'rt') as f:\n",
        "        for i, l in enumerate(f):\n",
        "            if n_lines is not None and i >= n_lines:\n",
        "                break\n",
        "            yield l.rstrip('\\n')\n",
        "\n",
        "def read_lines(filepath, gzipped=False):\n",
        "    return list(yield_lines(filepath, gzipped=gzipped))"
      ],
      "id": "EOx6eoXS0Xwf",
      "execution_count": null,
      "outputs": [
        {
          "output_type": "display_data",
          "data": {
            "text/html": [
              "\n",
              "  <style>\n",
              "    pre {\n",
              "        white-space: pre-wrap;\n",
              "    }\n",
              "  </style>\n",
              "  "
            ],
            "text/plain": [
              "<IPython.core.display.HTML object>"
            ]
          },
          "metadata": {}
        }
      ]
    },
    {
      "cell_type": "code",
      "metadata": {
        "colab": {
          "base_uri": "https://localhost:8080/",
          "height": 17
        },
        "id": "fjIEqkDjQWc4",
        "outputId": "d04f5794-9adc-479e-adef-93a52ee8ffd6"
      },
      "source": [
        "# pd.set_option('display.max_colwidth', None)\n",
        "pd.set_option('display.max_rows', 50)"
      ],
      "id": "fjIEqkDjQWc4",
      "execution_count": null,
      "outputs": [
        {
          "output_type": "display_data",
          "data": {
            "text/html": [
              "\n",
              "  <style>\n",
              "    pre {\n",
              "        white-space: pre-wrap;\n",
              "    }\n",
              "  </style>\n",
              "  "
            ],
            "text/plain": [
              "<IPython.core.display.HTML object>"
            ]
          },
          "metadata": {}
        }
      ]
    },
    {
      "cell_type": "code",
      "metadata": {
        "colab": {
          "base_uri": "https://localhost:8080/",
          "height": 35
        },
        "id": "O4IY6CCYsdJU",
        "outputId": "d293d92b-fdd0-49ea-bb21-44fbb905bf6b"
      },
      "source": [
        "cd '/content/drive/MyDrive/muss'"
      ],
      "id": "O4IY6CCYsdJU",
      "execution_count": null,
      "outputs": [
        {
          "output_type": "display_data",
          "data": {
            "text/html": [
              "\n",
              "  <style>\n",
              "    pre {\n",
              "        white-space: pre-wrap;\n",
              "    }\n",
              "  </style>\n",
              "  "
            ],
            "text/plain": [
              "<IPython.core.display.HTML object>"
            ]
          },
          "metadata": {}
        },
        {
          "output_type": "stream",
          "name": "stdout",
          "text": [
            "/content/drive/MyDrive/muss\n"
          ]
        }
      ]
    },
    {
      "cell_type": "code",
      "metadata": {
        "colab": {
          "base_uri": "https://localhost:8080/",
          "height": 17
        },
        "id": "qbhGbJPssdD3",
        "outputId": "e6354587-2978-4355-ffac-efa7daa5f575"
      },
      "source": [
        "!pip install -e . &> /dev/null"
      ],
      "id": "qbhGbJPssdD3",
      "execution_count": null,
      "outputs": [
        {
          "output_type": "display_data",
          "data": {
            "text/html": [
              "\n",
              "  <style>\n",
              "    pre {\n",
              "        white-space: pre-wrap;\n",
              "    }\n",
              "  </style>\n",
              "  "
            ],
            "text/plain": [
              "<IPython.core.display.HTML object>"
            ]
          },
          "metadata": {}
        }
      ]
    },
    {
      "cell_type": "markdown",
      "metadata": {
        "id": "58xb5HusLthl"
      },
      "source": [
        "# load wikilarge_detokenized"
      ],
      "id": "58xb5HusLthl"
    },
    {
      "cell_type": "code",
      "metadata": {
        "id": "d1b9a2f2",
        "colab": {
          "base_uri": "https://localhost:8080/",
          "height": 17
        },
        "outputId": "4b52f2a0-b487-4777-ed03-045ff14d6c68"
      },
      "source": [
        "# stop words\n",
        "# https://gist.github.com/sebleier/554280\n",
        "# nltk+SQL\n",
        "\n",
        "stop_words_list = [\"a\",\"about\",\"above\",\"after\",\"again\",\"against\",\"ain\",\"all\",\"am\",\"an\",\"and\",\"any\",\"are\",\"aren\",\"aren't\",\"as\",\"at\",\"be\",\"because\",\"been\",\"before\",\"being\",\"below\",\"between\",\"both\",\"but\",\"by\",\"can\",\"couldn\",\"couldn't\",\"d\",\"did\",\"didn\",\"didn't\",\"do\",\"does\",\"doesn\",\"doesn't\",\"doing\",\"don\",\"don't\",\"down\",\"during\",\"each\",\"few\",\"for\",\"from\",\"further\",\"had\",\"hadn\",\"hadn't\",\"has\",\"hasn\",\"hasn't\",\"have\",\"haven\",\"haven't\",\"having\",\"he\",\"her\",\"here\",\"hers\",\"herself\",\"him\",\"himself\",\"his\",\"how\",\"i\",\"if\",\"in\",\"into\",\"is\",\"isn\",\"isn't\",\"it\",\"it's\",\"its\",\"itself\",\"just\",\"ll\",\"m\",\"ma\",\"me\",\"mightn\",\"mightn't\",\"more\",\"most\",\"mustn\",\"mustn't\",\"my\",\"myself\",\"needn\",\"needn't\",\"no\",\"nor\",\"not\",\"now\",\"o\",\"of\",\"off\",\"on\",\"once\",\"only\",\"or\",\"other\",\"our\",\"ours\",\"ourselves\",\"out\",\"over\",\"own\",\"re\",\"s\",\"same\",\"shan\",\"shan't\",\"she\",\"she's\",\"should\",\"should've\",\"shouldn\",\"shouldn't\",\"so\",\"some\",\"such\",\"t\",\"than\",\"that\",\"that'll\",\"the\",\"their\",\"theirs\",\"them\",\"themselves\",\"then\",\"there\",\"these\",\"they\",\"this\",\"those\",\"through\",\"to\",\"too\",\"under\",\"until\",\"up\",\"ve\",\"very\",\"was\",\"wasn\",\"wasn't\",\"we\",\"were\",\"weren\",\"weren't\",\"what\",\"when\",\"where\",\"which\",\"while\",\"who\",\"whom\",\"why\",\"will\",\"with\",\"won\",\"won't\",\"wouldn\",\"wouldn't\",\"y\",\"you\",\"you'd\",\"you'll\",\"you're\",\"you've\",\"your\",\"yours\",\"yourself\",\"yourselves\",\"could\",\"he'd\",\"he'll\",\"he's\",\"here's\",\"how's\",\"i'd\",\"i'll\",\"i'm\",\"i've\",\"let's\",\"ought\",\"she'd\",\"she'll\",\"that's\",\"there's\",\"they'd\",\"they'll\",\"they're\",\"they've\",\"we'd\",\"we'll\",\"we're\",\"we've\",\"what's\",\"when's\",\"where's\",\"who's\",\"why's\",\"would\",\"able\",\"abst\",\"accordance\",\"according\",\"accordingly\",\"across\",\"act\",\"actually\",\"added\",\"adj\",\"affected\",\"affecting\",\"affects\",\"afterwards\",\"ah\",\"almost\",\"alone\",\"along\",\"already\",\"also\",\"although\",\"always\",\"among\",\"amongst\",\"announce\",\"another\",\"anybody\",\"anyhow\",\"anymore\",\"anyone\",\"anything\",\"anyway\",\"anyways\",\"anywhere\",\"apparently\",\"approximately\",\"arent\",\"arise\",\"around\",\"aside\",\"ask\",\"asking\",\"auth\",\"available\",\"away\",\"awfully\",\"b\",\"back\",\"became\",\"become\",\"becomes\",\"becoming\",\"beforehand\",\"begin\",\"beginning\",\"beginnings\",\"begins\",\"behind\",\"believe\",\"beside\",\"besides\",\"beyond\",\"biol\",\"brief\",\"briefly\",\"c\",\"ca\",\"came\",\"cannot\",\"can't\",\"cause\",\"causes\",\"certain\",\"certainly\",\"co\",\"com\",\"come\",\"comes\",\"contain\",\"containing\",\"contains\",\"couldnt\",\"date\",\"different\",\"done\",\"downwards\",\"due\",\"e\",\"ed\",\"edu\",\"effect\",\"eg\",\"eight\",\"eighty\",\"either\",\"else\",\"elsewhere\",\"end\",\"ending\",\"enough\",\"especially\",\"et\",\"etc\",\"even\",\"ever\",\"every\",\"everybody\",\"everyone\",\"everything\",\"everywhere\",\"ex\",\"except\",\"f\",\"far\",\"ff\",\"fifth\",\"first\",\"five\",\"fix\",\"followed\",\"following\",\"follows\",\"former\",\"formerly\",\"forth\",\"found\",\"four\",\"furthermore\",\"g\",\"gave\",\"get\",\"gets\",\"getting\",\"give\",\"given\",\"gives\",\"giving\",\"go\",\"goes\",\"gone\",\"got\",\"gotten\",\"h\",\"happens\",\"hardly\",\"hed\",\"hence\",\"hereafter\",\"hereby\",\"herein\",\"heres\",\"hereupon\",\"hes\",\"hi\",\"hid\",\"hither\",\"home\",\"howbeit\",\"however\",\"hundred\",\"id\",\"ie\",\"im\",\"immediate\",\"immediately\",\"importance\",\"important\",\"inc\",\"indeed\",\"index\",\"information\",\"instead\",\"invention\",\"inward\",\"itd\",\"it'll\",\"j\",\"k\",\"keep\",\"keeps\",\"kept\",\"kg\",\"km\",\"know\",\"known\",\"knows\",\"l\",\"largely\",\"last\",\"lately\",\"later\",\"latter\",\"latterly\",\"least\",\"less\",\"lest\",\"let\",\"lets\",\"like\",\"liked\",\"likely\",\"line\",\"little\",\"'ll\",\"look\",\"looking\",\"looks\",\"ltd\",\"made\",\"mainly\",\"make\",\"makes\",\"many\",\"may\",\"maybe\",\"mean\",\"means\",\"meantime\",\"meanwhile\",\"merely\",\"mg\",\"might\",\"million\",\"miss\",\"ml\",\"moreover\",\"mostly\",\"mr\",\"mrs\",\"much\",\"mug\",\"must\",\"n\",\"na\",\"name\",\"namely\",\"nay\",\"nd\",\"near\",\"nearly\",\"necessarily\",\"necessary\",\"need\",\"needs\",\"neither\",\"never\",\"nevertheless\",\"new\",\"next\",\"nine\",\"ninety\",\"nobody\",\"non\",\"none\",\"nonetheless\",\"noone\",\"normally\",\"nos\",\"noted\",\"nothing\",\"nowhere\",\"obtain\",\"obtained\",\"obviously\",\"often\",\"oh\",\"ok\",\"okay\",\"old\",\"omitted\",\"one\",\"ones\",\"onto\",\"ord\",\"others\",\"otherwise\",\"outside\",\"overall\",\"owing\",\"p\",\"page\",\"pages\",\"part\",\"particular\",\"particularly\",\"past\",\"per\",\"perhaps\",\"placed\",\"please\",\"plus\",\"poorly\",\"possible\",\"possibly\",\"potentially\",\"pp\",\"predominantly\",\"present\",\"previously\",\"primarily\",\"probably\",\"promptly\",\"proud\",\"provides\",\"put\",\"q\",\"que\",\"quickly\",\"quite\",\"qv\",\"r\",\"ran\",\"rather\",\"rd\",\"readily\",\"really\",\"recent\",\"recently\",\"ref\",\"refs\",\"regarding\",\"regardless\",\"regards\",\"related\",\"relatively\",\"research\",\"respectively\",\"resulted\",\"resulting\",\"results\",\"right\",\"run\",\"said\",\"saw\",\"say\",\"saying\",\"says\",\"sec\",\"section\",\"see\",\"seeing\",\"seem\",\"seemed\",\"seeming\",\"seems\",\"seen\",\"self\",\"selves\",\"sent\",\"seven\",\"several\",\"shall\",\"shed\",\"shes\",\"show\",\"showed\",\"shown\",\"showns\",\"shows\",\"significant\",\"significantly\",\"similar\",\"similarly\",\"since\",\"six\",\"slightly\",\"somebody\",\"somehow\",\"someone\",\"somethan\",\"something\",\"sometime\",\"sometimes\",\"somewhat\",\"somewhere\",\"soon\",\"sorry\",\"specifically\",\"specified\",\"specify\",\"specifying\",\"still\",\"stop\",\"strongly\",\"sub\",\"substantially\",\"successfully\",\"sufficiently\",\"suggest\",\"sup\",\"sure\",\"take\",\"taken\",\"taking\",\"tell\",\"tends\",\"th\",\"thank\",\"thanks\",\"thanx\",\"thats\",\"that've\",\"thence\",\"thereafter\",\"thereby\",\"thered\",\"therefore\",\"therein\",\"there'll\",\"thereof\",\"therere\",\"theres\",\"thereto\",\"thereupon\",\"there've\",\"theyd\",\"theyre\",\"think\",\"thou\",\"though\",\"thoughh\",\"thousand\",\"throug\",\"throughout\",\"thru\",\"thus\",\"til\",\"tip\",\"together\",\"took\",\"toward\",\"towards\",\"tried\",\"tries\",\"truly\",\"try\",\"trying\",\"ts\",\"twice\",\"two\",\"u\",\"un\",\"unfortunately\",\"unless\",\"unlike\",\"unlikely\",\"unto\",\"upon\",\"ups\",\"us\",\"use\",\"used\",\"useful\",\"usefully\",\"usefulness\",\"uses\",\"using\",\"usually\",\"v\",\"value\",\"various\",\"'ve\",\"via\",\"viz\",\"vol\",\"vols\",\"vs\",\"w\",\"want\",\"wants\",\"wasnt\",\"way\",\"wed\",\"welcome\",\"went\",\"werent\",\"whatever\",\"what'll\",\"whats\",\"whence\",\"whenever\",\"whereafter\",\"whereas\",\"whereby\",\"wherein\",\"wheres\",\"whereupon\",\"wherever\",\"whether\",\"whim\",\"whither\",\"whod\",\"whoever\",\"whole\",\"who'll\",\"whomever\",\"whos\",\"whose\",\"widely\",\"willing\",\"wish\",\"within\",\"without\",\"wont\",\"words\",\"world\",\"wouldnt\",\"www\",\"x\",\"yes\",\"yet\",\"youd\",\"youre\",\"z\",\"zero\",\"a's\",\"ain't\",\"allow\",\"allows\",\"apart\",\"appear\",\"appreciate\",\"appropriate\",\"associated\",\"best\",\"better\",\"c'mon\",\"c's\",\"cant\",\"changes\",\"clearly\",\"concerning\",\"consequently\",\"consider\",\"considering\",\"corresponding\",\"course\",\"currently\",\"definitely\",\"described\",\"despite\",\"entirely\",\"exactly\",\"example\",\"going\",\"greetings\",\"hello\",\"help\",\"hopefully\",\"ignored\",\"inasmuch\",\"indicate\",\"indicated\",\"indicates\",\"inner\",\"insofar\",\"it'd\",\"keep\",\"keeps\",\"novel\",\"presumably\",\"reasonably\",\"second\",\"secondly\",\"sensible\",\"serious\",\"seriously\",\"sure\",\"t's\",\"third\",\"thorough\",\"thoroughly\",\"three\",\"well\",\"wonder\"]"
      ],
      "id": "d1b9a2f2",
      "execution_count": null,
      "outputs": [
        {
          "output_type": "display_data",
          "data": {
            "text/html": [
              "\n",
              "  <style>\n",
              "    pre {\n",
              "        white-space: pre-wrap;\n",
              "    }\n",
              "  </style>\n",
              "  "
            ],
            "text/plain": [
              "<IPython.core.display.HTML object>"
            ]
          },
          "metadata": {}
        }
      ]
    },
    {
      "cell_type": "code",
      "metadata": {
        "id": "kGNE9yGj-vN9",
        "colab": {
          "base_uri": "https://localhost:8080/",
          "height": 17
        },
        "outputId": "74e24937-b543-4268-b887-bcad2ecfaa0e"
      },
      "source": [
        "# load dataset for preprocessing\n",
        "\n",
        "PHASES = ['train','valid', 'test']\n",
        "LANGUAGES = ['complex']\n",
        "data_names = []\n",
        "\n",
        "data_dir = '/content/drive/MyDrive/muss/resources/datasets/wikilarge_detokenized/'\n",
        "\n",
        "for phase, language in product(PHASES, LANGUAGES):\n",
        "  # print(phase, language)\n",
        "  data_name = phase + '_' + language\n",
        "  data_names.append(data_name)\n",
        "\n",
        "  with open(data_dir+phase+'.'+language) as f:\n",
        "        \n",
        "    exec(\"%s = %s\" % (data_name,f.read().splitlines()))\n",
        "\n",
        "    f.close()"
      ],
      "id": "kGNE9yGj-vN9",
      "execution_count": null,
      "outputs": [
        {
          "output_type": "display_data",
          "data": {
            "text/html": [
              "\n",
              "  <style>\n",
              "    pre {\n",
              "        white-space: pre-wrap;\n",
              "    }\n",
              "  </style>\n",
              "  "
            ],
            "text/plain": [
              "<IPython.core.display.HTML object>"
            ]
          },
          "metadata": {}
        }
      ]
    },
    {
      "cell_type": "code",
      "metadata": {
        "id": "4MoHFY8_0nA4",
        "colab": {
          "base_uri": "https://localhost:8080/",
          "height": 17
        },
        "outputId": "d896ed38-8c1e-4523-ee70-e398a451f178"
      },
      "source": [
        "# remove stop words\n",
        "for index,file_name in enumerate(data_names):\n",
        "    \n",
        "    data = globals()[file_name]\n",
        "    \n",
        "    for count, sentence in enumerate(data):\n",
        "\n",
        "        first_word = sentence.split(' ')[0]\n",
        "\n",
        "        if first_word.lower() in stop_words_list:\n",
        "            # delete it\n",
        "            data[count] = sentence[len(first_word)+1:]"
      ],
      "id": "4MoHFY8_0nA4",
      "execution_count": null,
      "outputs": [
        {
          "output_type": "display_data",
          "data": {
            "text/html": [
              "\n",
              "  <style>\n",
              "    pre {\n",
              "        white-space: pre-wrap;\n",
              "    }\n",
              "  </style>\n",
              "  "
            ],
            "text/plain": [
              "<IPython.core.display.HTML object>"
            ]
          },
          "metadata": {
            "tags": []
          }
        }
      ]
    },
    {
      "cell_type": "markdown",
      "metadata": {
        "id": "y8SJyXbBp36M"
      },
      "source": [
        "# operation preserving"
      ],
      "id": "y8SJyXbBp36M"
    },
    {
      "cell_type": "markdown",
      "metadata": {
        "id": "eD_fJY55hSPn"
      },
      "source": [
        "## NER"
      ],
      "id": "eD_fJY55hSPn"
    },
    {
      "cell_type": "code",
      "metadata": {
        "id": "BBtRK5lQHncY",
        "colab": {
          "base_uri": "https://localhost:8080/",
          "height": 17
        },
        "outputId": "55045b6c-9a75-4d72-8310-2bc5f52bbc59"
      },
      "source": [
        "nlp = spacy.load(\"en_core_web_sm\")\n",
        "\n",
        "def substringSieve(NER_list,re_NER):\n",
        "  string_list = []\n",
        "  string_list.extend(NER_list)\n",
        "  string_list.extend(re_NER)\n",
        "  \n",
        "  string_list.sort(key=lambda s: len(s), reverse=True)\n",
        "  out = []\n",
        "  for s in string_list:\n",
        "      if not any([s in o for o in out]):\n",
        "          out.append(s)\n",
        "  \n",
        "  return out\n",
        "\n",
        "def find_all_NE(text):\n",
        "  \n",
        "  doc = nlp(text)\n",
        "  NER_list = [t.text for t in doc.ents]\n",
        "  re_NER = re.findall(r\"[A-Z][A-z]*(?:(?=\\s)\\s[A-Z][A-z]*)*(?:(?!\\s)\\W[A-Z][A-z]*)*(?:(?:\\sin(?=\\s))*(?:\\sof(?=\\s))*(?:\\sthe(?=\\s))*(?:(?=\\s[A-Z])\\s[A-Z][A-z]*)*)*|(?:[0-9])*\",text)\n",
        "  re_NER = [x for x in re_NER if x != '']\n",
        "\n",
        "  return substringSieve(NER_list,re_NER)"
      ],
      "id": "BBtRK5lQHncY",
      "execution_count": null,
      "outputs": [
        {
          "output_type": "display_data",
          "data": {
            "text/html": [
              "\n",
              "  <style>\n",
              "    pre {\n",
              "        white-space: pre-wrap;\n",
              "    }\n",
              "  </style>\n",
              "  "
            ],
            "text/plain": [
              "<IPython.core.display.HTML object>"
            ]
          },
          "metadata": {}
        }
      ]
    },
    {
      "cell_type": "code",
      "metadata": {
        "colab": {
          "base_uri": "https://localhost:8080/",
          "height": 35
        },
        "id": "W49M88jm_W2Z",
        "outputId": "169b7db1-47a2-49c7-a9a2-75924ba40364"
      },
      "source": [
        "data_names\n"
      ],
      "id": "W49M88jm_W2Z",
      "execution_count": null,
      "outputs": [
        {
          "output_type": "display_data",
          "data": {
            "text/html": [
              "\n",
              "  <style>\n",
              "    pre {\n",
              "        white-space: pre-wrap;\n",
              "    }\n",
              "  </style>\n",
              "  "
            ],
            "text/plain": [
              "<IPython.core.display.HTML object>"
            ]
          },
          "metadata": {
            "tags": []
          }
        },
        {
          "output_type": "execute_result",
          "data": {
            "text/plain": [
              "['train_complex', 'valid_complex', 'test_complex']"
            ]
          },
          "metadata": {
            "tags": []
          },
          "execution_count": 17
        }
      ]
    },
    {
      "cell_type": "code",
      "metadata": {
        "colab": {
          "base_uri": "https://localhost:8080/",
          "height": 1000
        },
        "id": "88724599",
        "outputId": "b61f9373-0e3c-4838-fc69-c249714910ed"
      },
      "source": [
        "data_NER = []\n",
        "\n",
        "for index,file_name in enumerate(data_names):\n",
        "    \n",
        "    data = globals()[file_name]\n",
        "    \n",
        "    found_NER_list = []\n",
        "\n",
        "    for count, sentence in enumerate(data):\n",
        "        \n",
        "        found_NER_list += [find_all_NE(sentence)]\n",
        "\n",
        "        if count%1000 == 0:\n",
        "            print(file_name,count)\n",
        "    \n",
        "    data_NER += [found_NER_list]\n",
        "\n",
        "# with open('/content/drive/MyDrive/muss/quantative/NER_list_wikilarge_0810_complex', 'wb') as fp:\n",
        "#     pickle.dump(data_NER, fp)    "
      ],
      "id": "88724599",
      "execution_count": null,
      "outputs": [
        {
          "output_type": "display_data",
          "data": {
            "text/html": [
              "\n",
              "  <style>\n",
              "    pre {\n",
              "        white-space: pre-wrap;\n",
              "    }\n",
              "  </style>\n",
              "  "
            ],
            "text/plain": [
              "<IPython.core.display.HTML object>"
            ]
          },
          "metadata": {
            "tags": []
          }
        },
        {
          "output_type": "stream",
          "text": [
            "train_complex 0\n",
            "train_complex 1000\n",
            "train_complex 2000\n",
            "train_complex 3000\n",
            "train_complex 4000\n",
            "train_complex 5000\n",
            "train_complex 6000\n",
            "train_complex 7000\n",
            "train_complex 8000\n",
            "train_complex 9000\n",
            "train_complex 10000\n",
            "train_complex 11000\n",
            "train_complex 12000\n",
            "train_complex 13000\n",
            "train_complex 14000\n",
            "train_complex 15000\n",
            "train_complex 16000\n",
            "train_complex 17000\n",
            "train_complex 18000\n",
            "train_complex 19000\n",
            "train_complex 20000\n",
            "train_complex 21000\n",
            "train_complex 22000\n",
            "train_complex 23000\n",
            "train_complex 24000\n",
            "train_complex 25000\n",
            "train_complex 26000\n",
            "train_complex 27000\n",
            "train_complex 28000\n",
            "train_complex 29000\n",
            "train_complex 30000\n",
            "train_complex 31000\n",
            "train_complex 32000\n",
            "train_complex 33000\n",
            "train_complex 34000\n",
            "train_complex 35000\n",
            "train_complex 36000\n",
            "train_complex 37000\n",
            "train_complex 38000\n",
            "train_complex 39000\n",
            "train_complex 40000\n",
            "train_complex 41000\n",
            "train_complex 42000\n",
            "train_complex 43000\n",
            "train_complex 44000\n",
            "train_complex 45000\n",
            "train_complex 46000\n",
            "train_complex 47000\n",
            "train_complex 48000\n",
            "train_complex 49000\n",
            "train_complex 50000\n",
            "train_complex 51000\n",
            "train_complex 52000\n",
            "train_complex 53000\n",
            "train_complex 54000\n",
            "train_complex 55000\n",
            "train_complex 56000\n",
            "train_complex 57000\n",
            "train_complex 58000\n",
            "train_complex 59000\n",
            "train_complex 60000\n",
            "train_complex 61000\n",
            "train_complex 62000\n",
            "train_complex 63000\n",
            "train_complex 64000\n",
            "train_complex 65000\n",
            "train_complex 66000\n",
            "train_complex 67000\n",
            "train_complex 68000\n",
            "train_complex 69000\n",
            "train_complex 70000\n",
            "train_complex 71000\n",
            "train_complex 72000\n",
            "train_complex 73000\n",
            "train_complex 74000\n",
            "train_complex 75000\n",
            "train_complex 76000\n",
            "train_complex 77000\n",
            "train_complex 78000\n",
            "train_complex 79000\n",
            "train_complex 80000\n",
            "train_complex 81000\n",
            "train_complex 82000\n",
            "train_complex 83000\n",
            "train_complex 84000\n",
            "train_complex 85000\n",
            "train_complex 86000\n",
            "train_complex 87000\n",
            "train_complex 88000\n",
            "train_complex 89000\n",
            "train_complex 90000\n",
            "train_complex 91000\n",
            "train_complex 92000\n",
            "train_complex 93000\n",
            "train_complex 94000\n",
            "train_complex 95000\n",
            "train_complex 96000\n",
            "train_complex 97000\n",
            "train_complex 98000\n",
            "train_complex 99000\n",
            "train_complex 100000\n",
            "train_complex 101000\n",
            "train_complex 102000\n",
            "train_complex 103000\n",
            "train_complex 104000\n",
            "train_complex 105000\n",
            "train_complex 106000\n",
            "train_complex 107000\n",
            "train_complex 108000\n",
            "train_complex 109000\n",
            "train_complex 110000\n",
            "train_complex 111000\n",
            "train_complex 112000\n",
            "train_complex 113000\n",
            "train_complex 114000\n",
            "train_complex 115000\n",
            "train_complex 116000\n",
            "train_complex 117000\n",
            "train_complex 118000\n",
            "train_complex 119000\n",
            "train_complex 120000\n",
            "train_complex 121000\n",
            "train_complex 122000\n",
            "train_complex 123000\n",
            "train_complex 124000\n",
            "train_complex 125000\n",
            "train_complex 126000\n",
            "train_complex 127000\n",
            "train_complex 128000\n",
            "train_complex 129000\n",
            "train_complex 130000\n",
            "train_complex 131000\n",
            "train_complex 132000\n",
            "train_complex 133000\n",
            "train_complex 134000\n",
            "train_complex 135000\n",
            "train_complex 136000\n",
            "train_complex 137000\n",
            "train_complex 138000\n",
            "train_complex 139000\n",
            "train_complex 140000\n",
            "train_complex 141000\n",
            "train_complex 142000\n",
            "train_complex 143000\n",
            "train_complex 144000\n",
            "train_complex 145000\n",
            "train_complex 146000\n",
            "train_complex 147000\n",
            "train_complex 148000\n",
            "train_complex 149000\n",
            "train_complex 150000\n",
            "train_complex 151000\n",
            "train_complex 152000\n",
            "train_complex 153000\n",
            "train_complex 154000\n",
            "train_complex 155000\n",
            "train_complex 156000\n",
            "train_complex 157000\n",
            "train_complex 158000\n",
            "train_complex 159000\n",
            "train_complex 160000\n",
            "train_complex 161000\n",
            "train_complex 162000\n",
            "train_complex 163000\n",
            "train_complex 164000\n",
            "train_complex 165000\n",
            "train_complex 166000\n",
            "train_complex 167000\n",
            "train_complex 168000\n",
            "train_complex 169000\n",
            "train_complex 170000\n",
            "train_complex 171000\n",
            "train_complex 172000\n",
            "train_complex 173000\n",
            "train_complex 174000\n",
            "train_complex 175000\n",
            "train_complex 176000\n",
            "train_complex 177000\n",
            "train_complex 178000\n",
            "train_complex 179000\n",
            "train_complex 180000\n",
            "train_complex 181000\n",
            "train_complex 182000\n",
            "train_complex 183000\n",
            "train_complex 184000\n",
            "train_complex 185000\n",
            "train_complex 186000\n",
            "train_complex 187000\n",
            "train_complex 188000\n",
            "train_complex 189000\n",
            "train_complex 190000\n",
            "train_complex 191000\n",
            "train_complex 192000\n",
            "train_complex 193000\n",
            "train_complex 194000\n",
            "train_complex 195000\n",
            "train_complex 196000\n",
            "train_complex 197000\n",
            "train_complex 198000\n",
            "train_complex 199000\n",
            "train_complex 200000\n",
            "train_complex 201000\n",
            "train_complex 202000\n",
            "train_complex 203000\n",
            "train_complex 204000\n",
            "train_complex 205000\n",
            "train_complex 206000\n",
            "train_complex 207000\n",
            "train_complex 208000\n",
            "train_complex 209000\n",
            "train_complex 210000\n",
            "train_complex 211000\n",
            "train_complex 212000\n",
            "train_complex 213000\n",
            "train_complex 214000\n",
            "train_complex 215000\n",
            "train_complex 216000\n",
            "train_complex 217000\n",
            "train_complex 218000\n",
            "train_complex 219000\n",
            "train_complex 220000\n",
            "train_complex 221000\n",
            "train_complex 222000\n",
            "train_complex 223000\n",
            "train_complex 224000\n",
            "train_complex 225000\n",
            "train_complex 226000\n",
            "train_complex 227000\n",
            "train_complex 228000\n",
            "train_complex 229000\n",
            "train_complex 230000\n",
            "train_complex 231000\n",
            "train_complex 232000\n",
            "train_complex 233000\n",
            "train_complex 234000\n",
            "train_complex 235000\n",
            "train_complex 236000\n",
            "train_complex 237000\n",
            "train_complex 238000\n",
            "train_complex 239000\n",
            "train_complex 240000\n",
            "train_complex 241000\n",
            "train_complex 242000\n",
            "train_complex 243000\n",
            "train_complex 244000\n",
            "train_complex 245000\n",
            "train_complex 246000\n",
            "train_complex 247000\n",
            "train_complex 248000\n",
            "train_complex 249000\n",
            "train_complex 250000\n",
            "train_complex 251000\n",
            "train_complex 252000\n",
            "train_complex 253000\n",
            "train_complex 254000\n",
            "train_complex 255000\n",
            "train_complex 256000\n",
            "train_complex 257000\n",
            "train_complex 258000\n",
            "train_complex 259000\n",
            "train_complex 260000\n",
            "train_complex 261000\n",
            "train_complex 262000\n",
            "train_complex 263000\n",
            "train_complex 264000\n",
            "train_complex 265000\n",
            "train_complex 266000\n",
            "train_complex 267000\n",
            "train_complex 268000\n",
            "train_complex 269000\n",
            "train_complex 270000\n",
            "train_complex 271000\n",
            "train_complex 272000\n",
            "train_complex 273000\n",
            "train_complex 274000\n",
            "train_complex 275000\n",
            "train_complex 276000\n",
            "train_complex 277000\n",
            "train_complex 278000\n",
            "train_complex 279000\n",
            "train_complex 280000\n",
            "train_complex 281000\n",
            "train_complex 282000\n",
            "train_complex 283000\n",
            "train_complex 284000\n",
            "train_complex 285000\n",
            "train_complex 286000\n",
            "train_complex 287000\n",
            "train_complex 288000\n",
            "train_complex 289000\n",
            "train_complex 290000\n",
            "train_complex 291000\n",
            "train_complex 292000\n",
            "train_complex 293000\n",
            "train_complex 294000\n",
            "train_complex 295000\n",
            "train_complex 296000\n",
            "valid_complex 0\n",
            "test_complex 0\n"
          ],
          "name": "stdout"
        }
      ]
    },
    {
      "cell_type": "markdown",
      "metadata": {
        "id": "G4ub9wymeNXM"
      },
      "source": [
        "### delete stop words in found Named Entity"
      ],
      "id": "G4ub9wymeNXM"
    },
    {
      "cell_type": "code",
      "metadata": {
        "id": "r-Zs7xkeqZWT"
      },
      "source": [
        "# load NER found in train,valid,test set in Wikilarge"
      ],
      "id": "r-Zs7xkeqZWT",
      "execution_count": null,
      "outputs": []
    },
    {
      "cell_type": "code",
      "metadata": {
        "id": "1m-PeGOPaiHv",
        "colab": {
          "base_uri": "https://localhost:8080/",
          "height": 17
        },
        "outputId": "4be6d162-43f8-48d2-d148-39c80e686794"
      },
      "source": [
        "with open ('/content/drive/MyDrive/muss/qualitative/NER_list_wikilarge_0803', 'rb') as fp:\n",
        "    complex_data_NER = pickle.load(fp)"
      ],
      "id": "1m-PeGOPaiHv",
      "execution_count": null,
      "outputs": [
        {
          "output_type": "display_data",
          "data": {
            "text/html": [
              "\n",
              "  <style>\n",
              "    pre {\n",
              "        white-space: pre-wrap;\n",
              "    }\n",
              "  </style>\n",
              "  "
            ],
            "text/plain": [
              "<IPython.core.display.HTML object>"
            ]
          },
          "metadata": {}
        }
      ]
    },
    {
      "cell_type": "code",
      "metadata": {
        "colab": {
          "base_uri": "https://localhost:8080/",
          "height": 17
        },
        "id": "7jRNxCN3AH3A",
        "outputId": "eba0b182-fb40-4368-d82b-7abe828c11fd"
      },
      "source": [
        "with open ('/content/drive/MyDrive/muss/qualitative/NER_list_wikilarge_0807_simple', 'rb') as fp:\n",
        "    simple_data_NER = pickle.load(fp)"
      ],
      "id": "7jRNxCN3AH3A",
      "execution_count": null,
      "outputs": [
        {
          "output_type": "display_data",
          "data": {
            "text/html": [
              "\n",
              "  <style>\n",
              "    pre {\n",
              "        white-space: pre-wrap;\n",
              "    }\n",
              "  </style>\n",
              "  "
            ],
            "text/plain": [
              "<IPython.core.display.HTML object>"
            ]
          },
          "metadata": {}
        }
      ]
    },
    {
      "cell_type": "code",
      "metadata": {
        "colab": {
          "base_uri": "https://localhost:8080/",
          "height": 17
        },
        "id": "ZdlcoBxpJC3N",
        "outputId": "5539af6a-e41f-4340-c650-b6aca762075b"
      },
      "source": [
        "# define stop words list\n",
        "cap_stop_words_list = [x.title() for x in stop_words_list]"
      ],
      "id": "ZdlcoBxpJC3N",
      "execution_count": null,
      "outputs": [
        {
          "output_type": "display_data",
          "data": {
            "text/html": [
              "\n",
              "  <style>\n",
              "    pre {\n",
              "        white-space: pre-wrap;\n",
              "    }\n",
              "  </style>\n",
              "  "
            ],
            "text/plain": [
              "<IPython.core.display.HTML object>"
            ]
          },
          "metadata": {}
        }
      ]
    },
    {
      "cell_type": "code",
      "metadata": {
        "colab": {
          "base_uri": "https://localhost:8080/",
          "height": 35
        },
        "id": "Jig77DqYLJrP",
        "outputId": "ddad0cb6-f65c-40e2-b319-eb9317c02f65"
      },
      "source": [
        "total_stop_words_list = []\n",
        "total_stop_words_list.extend(cap_stop_words_list)\n",
        "total_stop_words_list.extend(stop_words_list)\n",
        "len(total_stop_words_list)"
      ],
      "id": "Jig77DqYLJrP",
      "execution_count": null,
      "outputs": [
        {
          "output_type": "display_data",
          "data": {
            "text/html": [
              "\n",
              "  <style>\n",
              "    pre {\n",
              "        white-space: pre-wrap;\n",
              "    }\n",
              "  </style>\n",
              "  "
            ],
            "text/plain": [
              "<IPython.core.display.HTML object>"
            ]
          },
          "metadata": {
            "tags": []
          }
        },
        {
          "output_type": "execute_result",
          "data": {
            "text/plain": [
              "1568"
            ]
          },
          "metadata": {
            "tags": []
          },
          "execution_count": 41
        }
      ]
    },
    {
      "cell_type": "code",
      "metadata": {
        "colab": {
          "base_uri": "https://localhost:8080/",
          "height": 17
        },
        "id": "ig-Kjq6QKGdK",
        "outputId": "d25da363-18b4-43c6-83e9-7811cc1929fe"
      },
      "source": [
        "clean_complex_data_NER = []\n",
        "\n",
        "for i in range(3):\n",
        "  \n",
        "  tmp_list = []\n",
        "  for j in range(len(complex_data_NER[i])):\n",
        "\n",
        "    tmp_list.append([x for x in complex_data_NER[i][j] if x not in cap_stop_words_list])\n",
        "  \n",
        "  clean_complex_data_NER += [tmp_list]"
      ],
      "id": "ig-Kjq6QKGdK",
      "execution_count": null,
      "outputs": [
        {
          "output_type": "display_data",
          "data": {
            "text/html": [
              "\n",
              "  <style>\n",
              "    pre {\n",
              "        white-space: pre-wrap;\n",
              "    }\n",
              "  </style>\n",
              "  "
            ],
            "text/plain": [
              "<IPython.core.display.HTML object>"
            ]
          },
          "metadata": {
            "tags": []
          }
        }
      ]
    },
    {
      "cell_type": "code",
      "metadata": {
        "colab": {
          "base_uri": "https://localhost:8080/",
          "height": 372
        },
        "id": "D5r4k8V0K2pW",
        "outputId": "2b0c1c88-57fe-4a59-9cba-71821cb7fb05"
      },
      "source": [
        "clean_complex_data_NER[0][0:10]"
      ],
      "id": "D5r4k8V0K2pW",
      "execution_count": null,
      "outputs": [
        {
          "output_type": "display_data",
          "data": {
            "text/html": [
              "\n",
              "  <style>\n",
              "    pre {\n",
              "        white-space: pre-wrap;\n",
              "    }\n",
              "  </style>\n",
              "  "
            ],
            "text/plain": [
              "<IPython.core.display.HTML object>"
            ]
          },
          "metadata": {
            "tags": []
          }
        },
        {
          "output_type": "execute_result",
          "data": {
            "text/plain": [
              "[['James Edward Austen', 'the period 1809', 'Anna', '1814', '11'],\n",
              " ['Psalms of Thomas', 'Säve-Söderberg', \"Mani's Psalms\", 'Mandaean'],\n",
              " ['a period each year', 'six or three', 'Persephone', 'Hermes', 'Hades'],\n",
              " ['Cogeneration'],\n",
              " ['Switzerland', 'Romandie', 'Geneva', 'Zürich', 'French'],\n",
              " ['ten years later', 'Suzuka', 'Japan', 'F1'],\n",
              " ['its first month', 'August 1909'],\n",
              " ['the United Kingdom of Great Britain',\n",
              "  'Hawaiian Independence Day',\n",
              "  \"The Kingdom of Hawai'i\",\n",
              "  'July Monarchy France',\n",
              "  \"Ka La Ku'oko '\",\n",
              "  'Ireland'],\n",
              " ['Oxford English Dictionary',\n",
              "  'Oxford University Press',\n",
              "  'the Grim Reaper',\n",
              "  'mowing grass',\n",
              "  'Scythe',\n",
              "  '1933'],\n",
              " ['Toshihide Saito', 'Japanese']]"
            ]
          },
          "metadata": {
            "tags": []
          },
          "execution_count": 43
        }
      ]
    },
    {
      "cell_type": "code",
      "metadata": {
        "colab": {
          "base_uri": "https://localhost:8080/",
          "height": 17
        },
        "id": "xk73hOnbJPGp",
        "outputId": "c1ca41a0-2ac3-41b6-acdf-29bba0a743e7"
      },
      "source": [
        "clean_simple_data_NER = []\n",
        "\n",
        "for i in range(3):\n",
        "\n",
        "  tmp_list = []\n",
        "  for j in range(len(simple_data_NER[i])):\n",
        "    tmp_list.append([x for x in simple_data_NER[i][j] if x not in cap_stop_words_list])\n",
        "  \n",
        "  clean_simple_data_NER += [tmp_list]"
      ],
      "id": "xk73hOnbJPGp",
      "execution_count": null,
      "outputs": [
        {
          "output_type": "display_data",
          "data": {
            "text/html": [
              "\n",
              "  <style>\n",
              "    pre {\n",
              "        white-space: pre-wrap;\n",
              "    }\n",
              "  </style>\n",
              "  "
            ],
            "text/plain": [
              "<IPython.core.display.HTML object>"
            ]
          },
          "metadata": {
            "tags": []
          }
        }
      ]
    },
    {
      "cell_type": "code",
      "metadata": {
        "colab": {
          "base_uri": "https://localhost:8080/",
          "height": 372
        },
        "id": "IubL9dJILg5g",
        "outputId": "8237b8ee-28f7-4b59-8e94-d1cebf07326e"
      },
      "source": [
        "clean_simple_data_NER[0][0:10]"
      ],
      "id": "IubL9dJILg5g",
      "execution_count": null,
      "outputs": [
        {
          "output_type": "display_data",
          "data": {
            "text/html": [
              "\n",
              "  <style>\n",
              "    pre {\n",
              "        white-space: pre-wrap;\n",
              "    }\n",
              "  </style>\n",
              "  "
            ],
            "text/plain": [
              "<IPython.core.display.HTML object>"
            ]
          },
          "metadata": {
            "tags": []
          }
        },
        {
          "output_type": "execute_result",
          "data": {
            "text/plain": [
              "[['James Edward', 'Anna Austen', '1814'],\n",
              " ['Psalms of Thomas', 'Säve-Söderberg', \"Mani's Psalms\", 'Mandaean'],\n",
              " ['Underworld', 'Persephone', 'Demeter', 'Hades'],\n",
              " ['Cogeneration'],\n",
              " ['the Tribune de Genève',\n",
              "  '1 February 1879',\n",
              "  'James T. Bates',\n",
              "  'about 187,000',\n",
              "  'daily',\n",
              "  'city'],\n",
              " ['ten years later', 'Suzuka', 'Japan', 'F1'],\n",
              " ['its first month', 'August 1909'],\n",
              " ['Hawaiian Independence Day',\n",
              "  \"The Kingdom of Hawai'i\",\n",
              "  'the United Kingdom',\n",
              "  'November 28',\n",
              "  'Ka La Ku',\n",
              "  'France'],\n",
              " ['Oxford English Dictionary', 'Old English', '1933'],\n",
              " ['Toshihide Saito', 'April 1973', 'Japanese', '20']]"
            ]
          },
          "metadata": {
            "tags": []
          },
          "execution_count": 45
        }
      ]
    },
    {
      "cell_type": "code",
      "metadata": {
        "colab": {
          "base_uri": "https://localhost:8080/",
          "height": 17
        },
        "id": "UA_sKyzkOLUf",
        "outputId": "607bfb56-1cb6-40c1-f77b-5c797d4057e2"
      },
      "source": [
        "with open('/content/drive/MyDrive/muss/qualitative/NER_clean_list_wikilarge_0810_complex', 'wb') as fp:\n",
        "    pickle.dump(clean_complex_data_NER, fp)   "
      ],
      "id": "UA_sKyzkOLUf",
      "execution_count": null,
      "outputs": [
        {
          "output_type": "display_data",
          "data": {
            "text/html": [
              "\n",
              "  <style>\n",
              "    pre {\n",
              "        white-space: pre-wrap;\n",
              "    }\n",
              "  </style>\n",
              "  "
            ],
            "text/plain": [
              "<IPython.core.display.HTML object>"
            ]
          },
          "metadata": {
            "tags": []
          }
        }
      ]
    },
    {
      "cell_type": "code",
      "metadata": {
        "colab": {
          "base_uri": "https://localhost:8080/",
          "height": 17
        },
        "id": "Elr6a0I5OhDk",
        "outputId": "4476f91a-8742-417b-eab6-f570325d1dd4"
      },
      "source": [
        "with open('/content/drive/MyDrive/muss/qualitative/NER_clean_list_wikilarge_0810_simple', 'wb') as fp:\n",
        "    pickle.dump(clean_simple_data_NER, fp)"
      ],
      "id": "Elr6a0I5OhDk",
      "execution_count": null,
      "outputs": [
        {
          "output_type": "display_data",
          "data": {
            "text/html": [
              "\n",
              "  <style>\n",
              "    pre {\n",
              "        white-space: pre-wrap;\n",
              "    }\n",
              "  </style>\n",
              "  "
            ],
            "text/plain": [
              "<IPython.core.display.HTML object>"
            ]
          },
          "metadata": {
            "tags": []
          }
        }
      ]
    },
    {
      "cell_type": "markdown",
      "metadata": {
        "id": "lQpbUyxv1_5v"
      },
      "source": [
        "## data cleansing"
      ],
      "id": "lQpbUyxv1_5v"
    },
    {
      "cell_type": "code",
      "metadata": {
        "colab": {
          "base_uri": "https://localhost:8080/",
          "height": 17
        },
        "id": "bptqklZo2O-7",
        "outputId": "12db9b2d-42dd-4e52-baa6-31a7955b4f63"
      },
      "source": [
        "with open ('/content/drive/MyDrive/muss/qualitative/NER_clean_list_wikilarge_0810_complex', 'rb') as fp:\n",
        "    clean_complex_data_NER = pickle.load(fp)"
      ],
      "id": "bptqklZo2O-7",
      "execution_count": null,
      "outputs": [
        {
          "output_type": "display_data",
          "data": {
            "text/html": [
              "\n",
              "  <style>\n",
              "    pre {\n",
              "        white-space: pre-wrap;\n",
              "    }\n",
              "  </style>\n",
              "  "
            ],
            "text/plain": [
              "<IPython.core.display.HTML object>"
            ]
          },
          "metadata": {}
        }
      ]
    },
    {
      "cell_type": "code",
      "metadata": {
        "colab": {
          "base_uri": "https://localhost:8080/",
          "height": 17
        },
        "id": "w-AnSHmK2RAp",
        "outputId": "007b4532-425a-4cc9-e888-eca85dfd7bfe"
      },
      "source": [
        "with open ('/content/drive/MyDrive/muss/qualitative/NER_clean_list_wikilarge_0810_simple', 'rb') as fp:\n",
        "    clean_simple_data_NER = pickle.load(fp)"
      ],
      "id": "w-AnSHmK2RAp",
      "execution_count": null,
      "outputs": [
        {
          "output_type": "display_data",
          "data": {
            "text/html": [
              "\n",
              "  <style>\n",
              "    pre {\n",
              "        white-space: pre-wrap;\n",
              "    }\n",
              "  </style>\n",
              "  "
            ],
            "text/plain": [
              "<IPython.core.display.HTML object>"
            ]
          },
          "metadata": {}
        }
      ]
    },
    {
      "cell_type": "code",
      "metadata": {
        "colab": {
          "base_uri": "https://localhost:8080/",
          "height": 17
        },
        "id": "CLLwKCTF7yvc",
        "outputId": "73edee26-ffe5-4b46-de27-fd2e6f787123"
      },
      "source": [
        "with open ('/content/drive/MyDrive/muss/qualitative/NER_cooc_0823', 'rb') as fp:\n",
        "    intersect_NE = pickle.load(fp)"
      ],
      "id": "CLLwKCTF7yvc",
      "execution_count": null,
      "outputs": [
        {
          "output_type": "display_data",
          "data": {
            "text/html": [
              "\n",
              "  <style>\n",
              "    pre {\n",
              "        white-space: pre-wrap;\n",
              "    }\n",
              "  </style>\n",
              "  "
            ],
            "text/plain": [
              "<IPython.core.display.HTML object>"
            ]
          },
          "metadata": {}
        }
      ]
    },
    {
      "cell_type": "code",
      "metadata": {
        "id": "dAI7z8xTuVKL",
        "colab": {
          "base_uri": "https://localhost:8080/",
          "height": 17
        },
        "outputId": "d04006c6-04e7-4305-b77a-abaf799f168c"
      },
      "source": [
        "# load original sentence\n",
        "\n",
        "data_names = []\n",
        "\n",
        "PHASES = ['train', 'valid', 'test']\n",
        "LANGUAGES = ['complex','simple']\n",
        "\n",
        "data_dir = '/content/drive/MyDrive/muss/resources/datasets/wikilarge_detokenized/'\n",
        "\n",
        "for phase, language in product(PHASES, LANGUAGES):\n",
        "  # print(phase, language)\n",
        "  data_name = phase + '_' + language + '_ori'\n",
        "  data_names.append(data_name)\n",
        "  with open(data_dir+phase+'.'+language) as f:\n",
        "        \n",
        "    exec(\"%s = %s\" % (data_name,f.read().splitlines()))\n",
        "\n",
        "    f.close()"
      ],
      "id": "dAI7z8xTuVKL",
      "execution_count": null,
      "outputs": [
        {
          "output_type": "display_data",
          "data": {
            "text/html": [
              "\n",
              "  <style>\n",
              "    pre {\n",
              "        white-space: pre-wrap;\n",
              "    }\n",
              "  </style>\n",
              "  "
            ],
            "text/plain": [
              "<IPython.core.display.HTML object>"
            ]
          },
          "metadata": {}
        }
      ]
    },
    {
      "cell_type": "code",
      "metadata": {
        "colab": {
          "base_uri": "https://localhost:8080/",
          "height": 35
        },
        "id": "10kw4RjBw_tO",
        "outputId": "1ce99152-b645-4bc1-9596-e3b2143c32a6"
      },
      "source": [
        "PHASES"
      ],
      "id": "10kw4RjBw_tO",
      "execution_count": null,
      "outputs": [
        {
          "output_type": "display_data",
          "data": {
            "text/html": [
              "\n",
              "  <style>\n",
              "    pre {\n",
              "        white-space: pre-wrap;\n",
              "    }\n",
              "  </style>\n",
              "  "
            ],
            "text/plain": [
              "<IPython.core.display.HTML object>"
            ]
          },
          "metadata": {}
        },
        {
          "output_type": "execute_result",
          "data": {
            "text/plain": [
              "['train', 'valid', 'test']"
            ]
          },
          "metadata": {},
          "execution_count": 112
        }
      ]
    },
    {
      "cell_type": "code",
      "metadata": {
        "colab": {
          "base_uri": "https://localhost:8080/",
          "height": 72
        },
        "id": "oB78ozUvwK_E",
        "outputId": "d364c4a5-3f50-45fb-949a-3da398252c9f"
      },
      "source": [
        "for index,phase in enumerate(PHASES):\n",
        "  data_tuples = list(zip(globals()[phase+'_complex_ori'],globals()[phase+'_simple_ori'],clean_complex_data_NER[index],clean_simple_data_NER[index],intersect_NE[index]))\n",
        "  df_name = phase + '_df'\n",
        "  print(df_name)\n",
        "  globals()[df_name] = pd.DataFrame(data_tuples, columns=['complex','simple','complex_NER','simple_NER','co_occur_NER'])\n",
        "  # file_name = data_name.replace('_','.')"
      ],
      "id": "oB78ozUvwK_E",
      "execution_count": null,
      "outputs": [
        {
          "output_type": "display_data",
          "data": {
            "text/html": [
              "\n",
              "  <style>\n",
              "    pre {\n",
              "        white-space: pre-wrap;\n",
              "    }\n",
              "  </style>\n",
              "  "
            ],
            "text/plain": [
              "<IPython.core.display.HTML object>"
            ]
          },
          "metadata": {}
        },
        {
          "output_type": "stream",
          "name": "stdout",
          "text": [
            "train_df\n",
            "valid_df\n",
            "test_df\n"
          ]
        }
      ]
    },
    {
      "cell_type": "code",
      "metadata": {
        "colab": {
          "base_uri": "https://localhost:8080/",
          "height": 17
        },
        "id": "BGxyzz_z5soN",
        "outputId": "88d3948c-7aff-413d-cb57-bf1c5f8eb7af"
      },
      "source": [
        "train_df.drop(train_df[train_df.simple.map(lambda x: '.' not in x)].index, inplace=True)"
      ],
      "id": "BGxyzz_z5soN",
      "execution_count": null,
      "outputs": [
        {
          "output_type": "display_data",
          "data": {
            "text/html": [
              "\n",
              "  <style>\n",
              "    pre {\n",
              "        white-space: pre-wrap;\n",
              "    }\n",
              "  </style>\n",
              "  "
            ],
            "text/plain": [
              "<IPython.core.display.HTML object>"
            ]
          },
          "metadata": {}
        }
      ]
    },
    {
      "cell_type": "code",
      "metadata": {
        "colab": {
          "base_uri": "https://localhost:8080/",
          "height": 17
        },
        "id": "_6Ud_UrE5uh1",
        "outputId": "6ed23ac5-4212-4f4d-89b2-d5874853756a"
      },
      "source": [
        "train_df.reset_index(inplace=True)"
      ],
      "id": "_6Ud_UrE5uh1",
      "execution_count": null,
      "outputs": [
        {
          "output_type": "display_data",
          "data": {
            "text/html": [
              "\n",
              "  <style>\n",
              "    pre {\n",
              "        white-space: pre-wrap;\n",
              "    }\n",
              "  </style>\n",
              "  "
            ],
            "text/plain": [
              "<IPython.core.display.HTML object>"
            ]
          },
          "metadata": {}
        }
      ]
    },
    {
      "cell_type": "code",
      "metadata": {
        "id": "qdRFsDdFEY00"
      },
      "source": [
        "c=0\n",
        "for index, row in train_df.iterrows():\n",
        "  if all([x.lower() not in row['complex'].lower() for x in row['simple'].split(' ')]):\n",
        "    # print(row['complex'])\n",
        "    # print(row['simple'])\n",
        "    # print()\n",
        "    train_df.drop(index, inplace=True)\n",
        "    c+=1"
      ],
      "id": "qdRFsDdFEY00",
      "execution_count": null,
      "outputs": []
    },
    {
      "cell_type": "code",
      "metadata": {
        "colab": {
          "base_uri": "https://localhost:8080/",
          "height": 35
        },
        "id": "x2M3e_4UCBsW",
        "outputId": "6796d05c-24a7-4c8a-b8a2-f7d967ad2093"
      },
      "source": [
        "c"
      ],
      "id": "x2M3e_4UCBsW",
      "execution_count": null,
      "outputs": [
        {
          "output_type": "display_data",
          "data": {
            "text/html": [
              "\n",
              "  <style>\n",
              "    pre {\n",
              "        white-space: pre-wrap;\n",
              "    }\n",
              "  </style>\n",
              "  "
            ],
            "text/plain": [
              "<IPython.core.display.HTML object>"
            ]
          },
          "metadata": {}
        },
        {
          "output_type": "execute_result",
          "data": {
            "text/plain": [
              "18182"
            ]
          },
          "metadata": {},
          "execution_count": 122
        }
      ]
    },
    {
      "cell_type": "code",
      "metadata": {
        "id": "sSKASExWGOQp",
        "colab": {
          "base_uri": "https://localhost:8080/",
          "height": 17
        },
        "outputId": "d18079bb-d3f0-4992-bce1-84ba21351a44"
      },
      "source": [
        "train_df.reset_index(inplace=True)"
      ],
      "id": "sSKASExWGOQp",
      "execution_count": null,
      "outputs": [
        {
          "output_type": "display_data",
          "data": {
            "text/html": [
              "\n",
              "  <style>\n",
              "    pre {\n",
              "        white-space: pre-wrap;\n",
              "    }\n",
              "  </style>\n",
              "  "
            ],
            "text/plain": [
              "<IPython.core.display.HTML object>"
            ]
          },
          "metadata": {}
        }
      ]
    },
    {
      "cell_type": "code",
      "metadata": {
        "colab": {
          "base_uri": "https://localhost:8080/",
          "height": 17
        },
        "id": "hFY98gDeLyJj",
        "outputId": "6b9adec8-b474-408f-bfe5-0bcdf29895fb"
      },
      "source": [
        "train_df.to_pickle(\"/content/drive/MyDrive/muss/qualitative/final_wiki_train_df.pkl\")"
      ],
      "id": "hFY98gDeLyJj",
      "execution_count": null,
      "outputs": [
        {
          "output_type": "display_data",
          "data": {
            "text/html": [
              "\n",
              "  <style>\n",
              "    pre {\n",
              "        white-space: pre-wrap;\n",
              "    }\n",
              "  </style>\n",
              "  "
            ],
            "text/plain": [
              "<IPython.core.display.HTML object>"
            ]
          },
          "metadata": {}
        }
      ]
    },
    {
      "cell_type": "code",
      "metadata": {
        "colab": {
          "base_uri": "https://localhost:8080/",
          "height": 17
        },
        "id": "RkRL_t9b7OdL",
        "outputId": "ce7a43ef-2520-426b-f2d1-663060c4d2e1"
      },
      "source": [
        "valid_df.drop(valid_df[valid_df.simple.map(lambda x: '.' not in x)].index, inplace=True)"
      ],
      "id": "RkRL_t9b7OdL",
      "execution_count": null,
      "outputs": [
        {
          "output_type": "display_data",
          "data": {
            "text/html": [
              "\n",
              "  <style>\n",
              "    pre {\n",
              "        white-space: pre-wrap;\n",
              "    }\n",
              "  </style>\n",
              "  "
            ],
            "text/plain": [
              "<IPython.core.display.HTML object>"
            ]
          },
          "metadata": {}
        }
      ]
    },
    {
      "cell_type": "code",
      "metadata": {
        "colab": {
          "base_uri": "https://localhost:8080/",
          "height": 17
        },
        "id": "qhcJj_N3__CQ",
        "outputId": "fbeb2d85-b813-4087-b9a7-aa11f0f81f94"
      },
      "source": [
        "valid_df.reset_index(inplace=True)"
      ],
      "id": "qhcJj_N3__CQ",
      "execution_count": null,
      "outputs": [
        {
          "output_type": "display_data",
          "data": {
            "text/html": [
              "\n",
              "  <style>\n",
              "    pre {\n",
              "        white-space: pre-wrap;\n",
              "    }\n",
              "  </style>\n",
              "  "
            ],
            "text/plain": [
              "<IPython.core.display.HTML object>"
            ]
          },
          "metadata": {}
        }
      ]
    },
    {
      "cell_type": "code",
      "metadata": {
        "colab": {
          "base_uri": "https://localhost:8080/",
          "height": 17
        },
        "id": "KoUpg8-ZK7DE",
        "outputId": "701d85c3-896c-4ba2-b912-09a1da589c2c"
      },
      "source": [
        "c=0\n",
        "for index, row in valid_df.iterrows():\n",
        "  if all([x.lower() not in row['complex'].lower() for x in row['simple'].split(' ')]):\n",
        "    valid_df.drop(index, inplace=True)\n",
        "    c+=1"
      ],
      "id": "KoUpg8-ZK7DE",
      "execution_count": null,
      "outputs": [
        {
          "output_type": "display_data",
          "data": {
            "text/html": [
              "\n",
              "  <style>\n",
              "    pre {\n",
              "        white-space: pre-wrap;\n",
              "    }\n",
              "  </style>\n",
              "  "
            ],
            "text/plain": [
              "<IPython.core.display.HTML object>"
            ]
          },
          "metadata": {}
        }
      ]
    },
    {
      "cell_type": "code",
      "metadata": {
        "colab": {
          "base_uri": "https://localhost:8080/",
          "height": 35
        },
        "id": "Pz9t_8_7Gy3U",
        "outputId": "bf934fdd-a987-43e8-ebec-a2231b59b7b4"
      },
      "source": [
        "c"
      ],
      "id": "Pz9t_8_7Gy3U",
      "execution_count": null,
      "outputs": [
        {
          "output_type": "display_data",
          "data": {
            "text/html": [
              "\n",
              "  <style>\n",
              "    pre {\n",
              "        white-space: pre-wrap;\n",
              "    }\n",
              "  </style>\n",
              "  "
            ],
            "text/plain": [
              "<IPython.core.display.HTML object>"
            ]
          },
          "metadata": {}
        },
        {
          "output_type": "execute_result",
          "data": {
            "text/plain": [
              "60"
            ]
          },
          "metadata": {},
          "execution_count": 124
        }
      ]
    },
    {
      "cell_type": "code",
      "metadata": {
        "colab": {
          "base_uri": "https://localhost:8080/",
          "height": 17
        },
        "id": "bOeED-rDLFdM",
        "outputId": "b5fbbcd8-0776-443a-f36a-a832142826e1"
      },
      "source": [
        "valid_df.reset_index(inplace=True)"
      ],
      "id": "bOeED-rDLFdM",
      "execution_count": null,
      "outputs": [
        {
          "output_type": "display_data",
          "data": {
            "text/html": [
              "\n",
              "  <style>\n",
              "    pre {\n",
              "        white-space: pre-wrap;\n",
              "    }\n",
              "  </style>\n",
              "  "
            ],
            "text/plain": [
              "<IPython.core.display.HTML object>"
            ]
          },
          "metadata": {}
        }
      ]
    },
    {
      "cell_type": "code",
      "metadata": {
        "colab": {
          "base_uri": "https://localhost:8080/",
          "height": 17
        },
        "id": "5WO1PSKxMUcL",
        "outputId": "758be546-76be-4840-f647-b16d530aea81"
      },
      "source": [
        "valid_df.to_pickle(\"/content/drive/MyDrive/muss/qualitative/final_wiki_valid_df.pkl\")"
      ],
      "id": "5WO1PSKxMUcL",
      "execution_count": null,
      "outputs": [
        {
          "output_type": "display_data",
          "data": {
            "text/html": [
              "\n",
              "  <style>\n",
              "    pre {\n",
              "        white-space: pre-wrap;\n",
              "    }\n",
              "  </style>\n",
              "  "
            ],
            "text/plain": [
              "<IPython.core.display.HTML object>"
            ]
          },
          "metadata": {}
        }
      ]
    },
    {
      "cell_type": "code",
      "metadata": {
        "id": "85bhZ1y6viVw"
      },
      "source": [
        "# dont need to clean test set as we dont use it in our work"
      ],
      "id": "85bhZ1y6viVw",
      "execution_count": null,
      "outputs": []
    },
    {
      "cell_type": "code",
      "metadata": {
        "colab": {
          "base_uri": "https://localhost:8080/",
          "height": 17
        },
        "id": "EaecYcxguCvk",
        "outputId": "f6c7fd65-34be-49f8-a855-353423859c2d"
      },
      "source": [
        "test_df.to_pickle(\"/content/drive/MyDrive/muss/qualitative/final_wiki_test_df.pkl\")"
      ],
      "id": "EaecYcxguCvk",
      "execution_count": null,
      "outputs": [
        {
          "output_type": "display_data",
          "data": {
            "text/html": [
              "\n",
              "  <style>\n",
              "    pre {\n",
              "        white-space: pre-wrap;\n",
              "    }\n",
              "  </style>\n",
              "  "
            ],
            "text/plain": [
              "<IPython.core.display.HTML object>"
            ]
          },
          "metadata": {}
        }
      ]
    },
    {
      "cell_type": "markdown",
      "metadata": {
        "id": "Fpm3fy4Zh1gX"
      },
      "source": [
        "## create training set (source sentence)"
      ],
      "id": "Fpm3fy4Zh1gX"
    },
    {
      "cell_type": "markdown",
      "metadata": {
        "id": "hauIw_m16KBA"
      },
      "source": [
        "### NE are from complex sentence"
      ],
      "id": "hauIw_m16KBA"
    },
    {
      "cell_type": "code",
      "metadata": {
        "colab": {
          "base_uri": "https://localhost:8080/",
          "height": 17
        },
        "id": "YFxYNu9NMdLr",
        "outputId": "270c0987-6422-4066-ce13-753395de5cc3"
      },
      "source": [
        "train_df = pd.read_pickle(\"/content/drive/MyDrive/muss/qualitative/final_wiki_train_df.pkl\")\n",
        "valid_df = pd.read_pickle(\"/content/drive/MyDrive/muss/qualitative/final_wiki_valid_df.pkl\")\n",
        "test_df = pd.read_pickle(\"/content/drive/MyDrive/muss/qualitative/final_wiki_test_df.pkl\")"
      ],
      "id": "YFxYNu9NMdLr",
      "execution_count": null,
      "outputs": [
        {
          "output_type": "display_data",
          "data": {
            "text/html": [
              "\n",
              "  <style>\n",
              "    pre {\n",
              "        white-space: pre-wrap;\n",
              "    }\n",
              "  </style>\n",
              "  "
            ],
            "text/plain": [
              "<IPython.core.display.HTML object>"
            ]
          },
          "metadata": {}
        }
      ]
    },
    {
      "cell_type": "code",
      "metadata": {
        "id": "G9IWgzoi6Jup",
        "colab": {
          "base_uri": "https://localhost:8080/"
        },
        "outputId": "e563ffda-2be7-4409-e82b-16ee22035567"
      },
      "source": [
        "target_dir = '/content/drive/MyDrive/muss/resources/datasets/wikilarge_final_complex_0821'\n",
        "os.makedirs(target_dir)"
      ],
      "id": "G9IWgzoi6Jup",
      "execution_count": null,
      "outputs": [
        {
          "output_type": "display_data",
          "data": {
            "text/html": [
              "\n",
              "  <style>\n",
              "    pre {\n",
              "        white-space: pre-wrap;\n",
              "    }\n",
              "  </style>\n",
              "  "
            ],
            "text/plain": [
              "<IPython.core.display.HTML object>"
            ]
          },
          "metadata": {}
        }
      ]
    },
    {
      "cell_type": "code",
      "metadata": {
        "colab": {
          "base_uri": "https://localhost:8080/"
        },
        "id": "A_ItvZPVA9oL",
        "outputId": "49f2dad7-3a5e-47cb-8f75-06796a03c373"
      },
      "source": [
        "data_names = ['train_complex', 'valid_complex', 'test_complex']"
      ],
      "id": "A_ItvZPVA9oL",
      "execution_count": null,
      "outputs": [
        {
          "output_type": "display_data",
          "data": {
            "text/html": [
              "\n",
              "  <style>\n",
              "    pre {\n",
              "        white-space: pre-wrap;\n",
              "    }\n",
              "  </style>\n",
              "  "
            ],
            "text/plain": [
              "<IPython.core.display.HTML object>"
            ]
          },
          "metadata": {}
        }
      ]
    },
    {
      "cell_type": "code",
      "metadata": {
        "colab": {
          "base_uri": "https://localhost:8080/"
        },
        "id": "t9sLxF2RBWO5",
        "outputId": "b054917d-f001-4ad1-ff25-5023bde56e3d"
      },
      "source": [
        "df_list = ['train_df','valid_df','test_df']"
      ],
      "id": "t9sLxF2RBWO5",
      "execution_count": null,
      "outputs": [
        {
          "output_type": "display_data",
          "data": {
            "text/html": [
              "\n",
              "  <style>\n",
              "    pre {\n",
              "        white-space: pre-wrap;\n",
              "    }\n",
              "  </style>\n",
              "  "
            ],
            "text/plain": [
              "<IPython.core.display.HTML object>"
            ]
          },
          "metadata": {}
        }
      ]
    },
    {
      "cell_type": "code",
      "metadata": {
        "colab": {
          "base_uri": "https://localhost:8080/"
        },
        "id": "0-3U5K3zA5nQ",
        "outputId": "7be5b94a-e58d-4d71-c660-865a5ab22d80"
      },
      "source": [
        "for index,data_name in enumerate(data_names):\n",
        "\n",
        "  chosen_df = globals()[df_list[index]]\n",
        "  file_name = data_name.replace('_','.')\n",
        "\n",
        "  with open(target_dir+'/'+file_name, 'w') as f:\n",
        "\n",
        "    for index, row in chosen_df.iterrows():\n",
        "\n",
        "        sentence = row.complex\n",
        "        NER = row.complex_NER\n",
        "\n",
        "        sentence_w_control_token = \" <NEXT_NE> \" +\" <NEXT_NE> \".join(NER) + \" <SENT_START> \" + sentence\n",
        "\n",
        "        if index%10000==0:\n",
        "            print(index)\n",
        "            print(sentence_w_control_token)\n",
        "\n",
        "        f.write(\"{}\\n\".format(sentence_w_control_token))\n",
        "\n",
        "\n",
        "  f.close()\n"
      ],
      "id": "0-3U5K3zA5nQ",
      "execution_count": null,
      "outputs": [
        {
          "output_type": "display_data",
          "data": {
            "text/html": [
              "\n",
              "  <style>\n",
              "    pre {\n",
              "        white-space: pre-wrap;\n",
              "    }\n",
              "  </style>\n",
              "  "
            ],
            "text/plain": [
              "<IPython.core.display.HTML object>"
            ]
          },
          "metadata": {}
        },
        {
          "output_type": "stream",
          "text": [
            "0\n",
            " <NEXT_NE> James Edward Austen <NEXT_NE> the period 1809 <NEXT_NE> Anna <NEXT_NE> 1814 <NEXT_NE> 11 <SENT_START> There is manuscript evidence that Austen continued to work on these pieces as late as the period 1809 â \"11, and that her niece and nephew, Anna and James Edward Austen, made further additions as late as 1814.\n",
            "10000\n",
            " <NEXT_NE> the World Bank <NEXT_NE> Eurobonds <NEXT_NE> Lebanon <NEXT_NE> Syria <NEXT_NE> 1992 <SENT_START> In 1992, he became a prime minister, under Syria's watchful and military occupation of Lebanon, he put the country back on the financial map through the issuing of Eurobonds and won plaudits from the World Bank for his plan to borrow reconstruction money as the country's debt grew to become the largest per capita in the world.\n",
            "20000\n",
            " <NEXT_NE> Kanpur Allahabad <NEXT_NE> GorakhpurAgra <NEXT_NE> Varanasi <NEXT_NE> Domestic <NEXT_NE> Lucknow <SENT_START> Domestic airports are Lucknow, GorakhpurAgra, Kanpur Allahabad and Varanasi.\n",
            "30000\n",
            " <NEXT_NE> Major General Chun Doo <NEXT_NE> December 1979 <NEXT_NE> Chun Doo-hwan <NEXT_NE> Choi <SENT_START> In December 1979, Major General Chun Doo-hwan and close allies within the military staged a military coup against Choi's government.\n",
            "40000\n",
            " <NEXT_NE> Louis Braille <NEXT_NE> Frenchman <NEXT_NE> 1821 <SENT_START> Braille was devised in 1821 by Louis Braille, a blind Frenchman.\n",
            "50000\n",
            " <NEXT_NE> the California Institute of the Arts <NEXT_NE> the Don Bluth film <NEXT_NE> \"An American Tail\" <NEXT_NE> Hartman <SENT_START> While still attending the California Institute of the Arts, Hartman received the chance to intern as an in-between animator on the Don Bluth film, \"An American Tail\".\n",
            "60000\n",
            " <NEXT_NE> Christians <NEXT_NE> Jesus <NEXT_NE> God <SENT_START> Christians, through faith in the working of God are spiritually resurrected with Jesus so that they may walk in a new way of life.\n",
            "70000\n",
            " <NEXT_NE> Turkey <NEXT_NE> 1936 <SENT_START> In 1936 he travelled to Turkey to collect and study folk music.\n",
            "80000\n",
            " <NEXT_NE> Elemental <NEXT_NE> group 1 <SENT_START> Elemental rubidium is very soft and highly reactive, with properties similar to other elements in group 1, such as very rapid oxidation in air.\n",
            "90000\n",
            " <NEXT_NE> Hot Space <NEXT_NE> May 1982 <NEXT_NE> British <NEXT_NE> ninth <NEXT_NE> Queen <SENT_START> Hot Space is the ninth studio album by British rock band Queen, released in May 1982.\n",
            "100000\n",
            " <NEXT_NE> Vezirköprü <NEXT_NE> Köprülü <NEXT_NE> Turkey <NEXT_NE> vizier <SENT_START> The town of Vezirköprü in north-central Turkey, formerly named only as Köprü (bridge), whence the name of Köprülü family, holds its present name - literally vizier's bridge - from the same family.\n",
            "110000\n",
            " <NEXT_NE> the Atlantic Ocean <NEXT_NE> sea <SENT_START> The sea is technically a part of the Atlantic Ocean, although it is usually identified as a completely separate body of water.\n",
            "120000\n",
            " <NEXT_NE> about 1 kilometre <NEXT_NE> 489.72 days <NEXT_NE> 17,883 Mm <NEXT_NE> Jupiter <NEXT_NE> 0.4920 <NEXT_NE> Mm in <NEXT_NE> 143 <SENT_START> is about 1 kilometre in diameter, and orbits Jupiter at an average distance of 17,883 Mm in 489.72 days, at an inclination of 143 Â to the ecliptic (143 Â to Jupiter's equator), in a retrograde direction and with an eccentricity of 0.4920.\n",
            "130000\n",
            " <NEXT_NE> the American League <NEXT_NE> Designated <SENT_START> Designated hitters - used primarily by the American League as a substitute for the pitcher, but only for batting.\n",
            "140000\n",
            " <NEXT_NE> the Rocky Mountains <NEXT_NE> 77 <SENT_START> Other island ranges are found in the central third of the state, for a total of 77 named ranges of the Rocky Mountains.\n",
            "150000\n",
            " <NEXT_NE> February 11, 1924 <NEXT_NE> May 7, 1996 <NEXT_NE> Brazilian <NEXT_NE> Robles <NEXT_NE> Pinga <NEXT_NE> Jos <SENT_START> JosÃ LÃ zaro Robles, best known as Pinga (February 11, 1924 -- May 7, 1996) was a Brazilian footballer.\n",
            "160000\n",
            " <NEXT_NE> Gigout <NEXT_NE> 1890 <NEXT_NE> 10 <SENT_START> The 10 piÃ ces pour orgue (composed 1890) are Gigout's most celebrated compositions.\n",
            "170000\n",
            " <NEXT_NE> September 29, 1939 <NEXT_NE> Lawrence Lavon <NEXT_NE> April 10, 2000 <NEXT_NE> Linville <NEXT_NE> American <NEXT_NE> Larry <SENT_START> Lawrence Lavon \"Larry\" Linville (September 29, 1939 â \"April 10, 2000) was an American actor.\n",
            "180000\n",
            " <NEXT_NE>  <SENT_START> The region's fertile soil made it possible for farmers to produce abundant harvests of cereal crops such as corn, oats, and, most importantly, wheat.\n",
            "190000\n",
            " <NEXT_NE> the Gaelic An Ruadh Ghleann <NEXT_NE> the red valley <NEXT_NE> Rutherglen <SENT_START> Rutherglen comes from the Gaelic An Ruadh Ghleann, meaning \"the red valley\".\n",
            "200000\n",
            " <NEXT_NE> Danilo Alvim Faria <NEXT_NE> 3 December 1920 <NEXT_NE> Brazilian <NEXT_NE> May 1996 <NEXT_NE> 16 <SENT_START> Danilo Alvim Faria (3 December 1920 & ndash; 16 May 1996) was a Brazilian footballer.\n",
            "210000\n",
            " <NEXT_NE> Water <SENT_START> Water is primarily cold and secondarily wet.\n",
            "220000\n",
            " <NEXT_NE> Searching for Soul <NEXT_NE> Chuck Middleton <NEXT_NE> Soul Searchers <NEXT_NE> Jake Wade <SENT_START> It contains a sample of Jake Wade and the Soul Searchers' song \"Searching for Soul\", which was written by Chuck Middleton.\n",
            "230000\n",
            " <NEXT_NE> Tamil <SENT_START> The literature shows that many of the cultural practices that are considered peculiarly Tamil date back to the classical period.\n",
            "240000\n",
            " <NEXT_NE> Election Elections <NEXT_NE> every five years <SENT_START> Election Elections for president occur every five years by a national vote.\n",
            "0\n",
            " <NEXT_NE> Sorbs in Germany in the <NEXT_NE> Upper Sorbian <NEXT_NE> Upper Lusatia <NEXT_NE> Saxony <NEXT_NE> Hornja <NEXT_NE> today <NEXT_NE> 3\\/4 <SENT_START> Upper Sorbian is a minority language spoken by Sorbs in Germany in the historical province of Upper Lusatia (Hornja Å uÅ 3\\/4 ica in Sorbian), which is today part of Saxony.\n",
            "0\n",
            " <NEXT_NE> Afro-Arab Abbala <NEXT_NE> Janjaweed <NEXT_NE> Sudanese <NEXT_NE> Rizeigat <SENT_START> One side of the armed conflicts is composed mainly of the Sudanese military and the Janjaweed, a Sudanese militia group recruited mostly from the Afro-Arab Abbala tribes of the northern Rizeigat region in Sudan.\n"
          ],
          "name": "stdout"
        }
      ]
    },
    {
      "cell_type": "markdown",
      "metadata": {
        "id": "TW8OF5fAB_tU"
      },
      "source": [
        "### NE are from simple sentence"
      ],
      "id": "TW8OF5fAB_tU"
    },
    {
      "cell_type": "code",
      "metadata": {
        "colab": {
          "base_uri": "https://localhost:8080/",
          "height": 17
        },
        "id": "z22AvnipB_tU",
        "outputId": "2a9699ae-e980-46fc-9628-9e2b274df360"
      },
      "source": [
        "target_dir = '/content/drive/MyDrive/muss/resources/datasets/wikilarge_final_simple_0821'\n",
        "os.makedirs(target_dir)"
      ],
      "id": "z22AvnipB_tU",
      "execution_count": null,
      "outputs": [
        {
          "output_type": "display_data",
          "data": {
            "text/html": [
              "\n",
              "  <style>\n",
              "    pre {\n",
              "        white-space: pre-wrap;\n",
              "    }\n",
              "  </style>\n",
              "  "
            ],
            "text/plain": [
              "<IPython.core.display.HTML object>"
            ]
          },
          "metadata": {}
        }
      ]
    },
    {
      "cell_type": "code",
      "metadata": {
        "colab": {
          "base_uri": "https://localhost:8080/",
          "height": 17
        },
        "id": "iMdLBmJbB_tV",
        "outputId": "4065f817-f929-4b22-e385-4758552e9f47"
      },
      "source": [
        "data_names = ['train_complex', 'valid_complex', 'test_complex']"
      ],
      "id": "iMdLBmJbB_tV",
      "execution_count": null,
      "outputs": [
        {
          "output_type": "display_data",
          "data": {
            "text/html": [
              "\n",
              "  <style>\n",
              "    pre {\n",
              "        white-space: pre-wrap;\n",
              "    }\n",
              "  </style>\n",
              "  "
            ],
            "text/plain": [
              "<IPython.core.display.HTML object>"
            ]
          },
          "metadata": {}
        }
      ]
    },
    {
      "cell_type": "code",
      "metadata": {
        "colab": {
          "base_uri": "https://localhost:8080/",
          "height": 17
        },
        "id": "WLsW8r6vB_tV",
        "outputId": "a558f892-f888-47f7-f78e-05ba001d930c"
      },
      "source": [
        "df_list = ['train_df','valid_df','test_df']"
      ],
      "id": "WLsW8r6vB_tV",
      "execution_count": null,
      "outputs": [
        {
          "output_type": "display_data",
          "data": {
            "text/html": [
              "\n",
              "  <style>\n",
              "    pre {\n",
              "        white-space: pre-wrap;\n",
              "    }\n",
              "  </style>\n",
              "  "
            ],
            "text/plain": [
              "<IPython.core.display.HTML object>"
            ]
          },
          "metadata": {}
        }
      ]
    },
    {
      "cell_type": "code",
      "metadata": {
        "colab": {
          "base_uri": "https://localhost:8080/",
          "height": 1000
        },
        "id": "C3FlvnWAB_tV",
        "outputId": "dd4dc305-834c-402d-81b7-d773c62e766d"
      },
      "source": [
        "for index,data_name in enumerate(data_names):\n",
        "\n",
        "  chosen_df = globals()[df_list[index]]\n",
        "  file_name = data_name.replace('_','.')\n",
        "\n",
        "  with open(target_dir+'/'+file_name, 'w') as f:\n",
        "\n",
        "    for index, row in chosen_df.iterrows():\n",
        "\n",
        "        sentence = row.complex\n",
        "        # print(sentence)\n",
        "        NER = row.simple_NER\n",
        "\n",
        "        sentence_w_control_token = \" <NEXT_NE> \" +\" <NEXT_NE> \".join(NER) + \" <SENT_START> \" + sentence\n",
        "\n",
        "        if index%10000==0:\n",
        "            print(index)\n",
        "            print(sentence_w_control_token)\n",
        "\n",
        "        f.write(\"{}\\n\".format(sentence_w_control_token))\n",
        "\n",
        "  f.close()\n"
      ],
      "id": "C3FlvnWAB_tV",
      "execution_count": null,
      "outputs": [
        {
          "output_type": "display_data",
          "data": {
            "text/html": [
              "\n",
              "  <style>\n",
              "    pre {\n",
              "        white-space: pre-wrap;\n",
              "    }\n",
              "  </style>\n",
              "  "
            ],
            "text/plain": [
              "<IPython.core.display.HTML object>"
            ]
          },
          "metadata": {}
        },
        {
          "output_type": "stream",
          "text": [
            "0\n",
            " <NEXT_NE> James Edward <NEXT_NE> Anna Austen <NEXT_NE> 1814 <SENT_START> There is manuscript evidence that Austen continued to work on these pieces as late as the period 1809 â \"11, and that her niece and nephew, Anna and James Edward Austen, made further additions as late as 1814.\n",
            "10000\n",
            " <NEXT_NE> Prime Minister of Lebanon <NEXT_NE> 1992 <NEXT_NE> 1998 <NEXT_NE> 2000 <SENT_START> In 1992, he became a prime minister, under Syria's watchful and military occupation of Lebanon, he put the country back on the financial map through the issuing of Eurobonds and won plaudits from the World Bank for his plan to borrow reconstruction money as the country's debt grew to become the largest per capita in the world.\n",
            "20000\n",
            " <NEXT_NE> Varanasi <NEXT_NE> Lucknow <NEXT_NE> Kanpur <NEXT_NE> Agra <SENT_START> Domestic airports are Lucknow, GorakhpurAgra, Kanpur Allahabad and Varanasi.\n",
            "30000\n",
            " <NEXT_NE> Major General Chun Doo <NEXT_NE> December 1979 <NEXT_NE> Chun Doo-hwan <NEXT_NE> Choi <SENT_START> In December 1979, Major General Chun Doo-hwan and close allies within the military staged a military coup against Choi's government.\n",
            "40000\n",
            " <NEXT_NE> Braille <SENT_START> Braille was devised in 1821 by Louis Braille, a blind Frenchman.\n",
            "50000\n",
            " <NEXT_NE> SpongeBob SquarePants <NEXT_NE> Fairly OddParents <NEXT_NE> second <SENT_START> While still attending the California Institute of the Arts, Hartman received the chance to intern as an in-between animator on the Don Bluth film, \"An American Tail\".\n",
            "60000\n",
            " <NEXT_NE> Christians <NEXT_NE> Jesus <NEXT_NE> God <SENT_START> Christians, through faith in the working of God are spiritually resurrected with Jesus so that they may walk in a new way of life.\n",
            "70000\n",
            " <NEXT_NE> Hungarian <NEXT_NE> Bartók <NEXT_NE> Kodály <SENT_START> In 1936 he travelled to Turkey to collect and study folk music.\n",
            "80000\n",
            " <NEXT_NE>  <SENT_START> Elemental rubidium is very soft and highly reactive, with properties similar to other elements in group 1, such as very rapid oxidation in air.\n",
            "90000\n",
            " <NEXT_NE> Hot Space <NEXT_NE> English <NEXT_NE> Queen <NEXT_NE> 1982 <SENT_START> Hot Space is the ninth studio album by British rock band Queen, released in May 1982.\n",
            "100000\n",
            " <NEXT_NE> Köprülü <NEXT_NE> Ottoman <NEXT_NE> Albania <SENT_START> The town of Vezirköprü in north-central Turkey, formerly named only as Köprü (bridge), whence the name of Köprülü family, holds its present name - literally vizier's bridge - from the same family.\n",
            "110000\n",
            " <NEXT_NE> Arab\\/Persian\\/Semitic <NEXT_NE> the Middle East <NEXT_NE> Carthaginians <NEXT_NE> Phoenicians <NEXT_NE> Egyptians <NEXT_NE> Greeks <NEXT_NE> Romans <SENT_START> The sea is technically a part of the Atlantic Ocean, although it is usually identified as a completely separate body of water.\n",
            "120000\n",
            " <NEXT_NE> about 1 kilometre <NEXT_NE> 17,740,000 km <NEXT_NE> 482.691 days <NEXT_NE> Jupiter <NEXT_NE> 0.4449 <NEXT_NE> 143 <SENT_START> is about 1 kilometre in diameter, and orbits Jupiter at an average distance of 17,883 Mm in 489.72 days, at an inclination of 143 Â to the ecliptic (143 Â to Jupiter's equator), in a retrograde direction and with an eccentricity of 0.4920.\n",
            "130000\n",
            " <NEXT_NE> the American League <SENT_START> Designated hitters - used primarily by the American League as a substitute for the pitcher, but only for batting.\n",
            "140000\n",
            " <NEXT_NE> British Columbia <NEXT_NE> Saskatchewan <NEXT_NE> Canadian <NEXT_NE> Alberta <NEXT_NE> U.S. <SENT_START> Other island ranges are found in the central third of the state, for a total of 77 named ranges of the Rocky Mountains.\n",
            "150000\n",
            " <NEXT_NE> JosÃ LÃ zaro Robles <NEXT_NE> 11 February, 1924 <NEXT_NE> Brazilian <SENT_START> JosÃ LÃ zaro Robles, best known as Pinga (February 11, 1924 -- May 7, 1996) was a Brazilian footballer.\n",
            "160000\n",
            " <NEXT_NE> Gigout <NEXT_NE> 1890 <NEXT_NE> 10 <SENT_START> The 10 piÃ ces pour orgue (composed 1890) are Gigout's most celebrated compositions.\n",
            "170000\n",
            " <NEXT_NE> September 29, 1939 <NEXT_NE> Lawrence Lavonne <NEXT_NE> April 10, 2000 <NEXT_NE> Linville <NEXT_NE> American <NEXT_NE> Larry <SENT_START> Lawrence Lavon \"Larry\" Linville (September 29, 1939 â \"April 10, 2000) was an American actor.\n",
            "180000\n",
            " <NEXT_NE> Midwest <SENT_START> The region's fertile soil made it possible for farmers to produce abundant harvests of cereal crops such as corn, oats, and, most importantly, wheat.\n",
            "190000\n",
            " <NEXT_NE> more than 500 years <NEXT_NE> Rutherglen <NEXT_NE> Scotland <NEXT_NE> Glasgow <SENT_START> Rutherglen comes from the Gaelic An Ruadh Ghleann, meaning \"the red valley\".\n",
            "200000\n",
            " <NEXT_NE> 3 December 1920 <NEXT_NE> Danilo Alvim <NEXT_NE> Brazilian <NEXT_NE> May 1996 <NEXT_NE> 16 <SENT_START> Danilo Alvim Faria (3 December 1920 & ndash; 16 May 1996) was a Brazilian footballer.\n",
            "210000\n",
            " <NEXT_NE> Water <SENT_START> Water is primarily cold and secondarily wet.\n",
            "220000\n",
            " <NEXT_NE> Knowles <NEXT_NE> Texas <SENT_START> It contains a sample of Jake Wade and the Soul Searchers' song \"Searching for Soul\", which was written by Chuck Middleton.\n",
            "230000\n",
            " <NEXT_NE> Tamil <SENT_START> The literature shows that many of the cultural practices that are considered peculiarly Tamil date back to the classical period.\n",
            "240000\n",
            " <NEXT_NE> Belarusians <SENT_START> Election Elections for president occur every five years by a national vote.\n",
            "0\n",
            " <NEXT_NE> the European Charter for Regional or Minority Languages <NEXT_NE> around 40,000 <NEXT_NE> Upper Sorbian <NEXT_NE> Germany <NEXT_NE> Saxony <SENT_START> Upper Sorbian is a minority language spoken by Sorbs in Germany in the historical province of Upper Lusatia (Hornja Å uÅ 3\\/4 ica in Sorbian), which is today part of Saxony.\n",
            "0\n",
            " <NEXT_NE> Afro-Arab Abbala <NEXT_NE> Janjaweed <NEXT_NE> Sudanese <NEXT_NE> Rizeigat <SENT_START> One side of the armed conflicts is composed mainly of the Sudanese military and the Janjaweed, a Sudanese militia group recruited mostly from the Afro-Arab Abbala tribes of the northern Rizeigat region in Sudan.\n"
          ],
          "name": "stdout"
        }
      ]
    },
    {
      "cell_type": "markdown",
      "metadata": {
        "id": "ulpM7Js-jC2q"
      },
      "source": [
        "## dataset that contains NE appear in both sides "
      ],
      "id": "ulpM7Js-jC2q"
    },
    {
      "cell_type": "markdown",
      "metadata": {
        "id": "slyS90aKLm6r"
      },
      "source": [
        "### find co-occured NE"
      ],
      "id": "slyS90aKLm6r"
    },
    {
      "cell_type": "code",
      "metadata": {
        "colab": {
          "base_uri": "https://localhost:8080/",
          "height": 17
        },
        "id": "Ina9puG3MWie",
        "outputId": "41b1dd01-dcaa-4f09-9168-cd790c581ebe"
      },
      "source": [
        " def substringSieve(NER_list,re_NER):\n",
        "  string_list = []\n",
        "  string_list.extend(NER_list)\n",
        "  string_list.extend(re_NER)\n",
        "  \n",
        "  string_list.sort(key=lambda s: len(s), reverse=True)\n",
        "  out = []\n",
        "  for s in string_list:\n",
        "      if not any([s in o for o in out]):\n",
        "          out.append(s)\n",
        "\n",
        "\n",
        "\n",
        "  return out"
      ],
      "id": "Ina9puG3MWie",
      "execution_count": null,
      "outputs": [
        {
          "output_type": "display_data",
          "data": {
            "text/html": [
              "\n",
              "  <style>\n",
              "    pre {\n",
              "        white-space: pre-wrap;\n",
              "    }\n",
              "  </style>\n",
              "  "
            ],
            "text/plain": [
              "<IPython.core.display.HTML object>"
            ]
          },
          "metadata": {}
        }
      ]
    },
    {
      "cell_type": "code",
      "metadata": {
        "colab": {
          "base_uri": "https://localhost:8080/",
          "height": 17
        },
        "id": "Rsu4AyiNRKb3",
        "outputId": "929a171c-8791-4413-af6a-3c32cfa6eb21"
      },
      "source": [
        "def lcs(S,T):\n",
        "    '''\n",
        "    From https://www.bogotobogo.com/python/python_longest_common_substring_lcs_algorithm_generalized_suffix_tree.php\n",
        "    '''\n",
        "    m = len(S)\n",
        "    n = len(T)\n",
        "    counter = [[0]*(n+1) for x in range(m+1)]\n",
        "    longest = 0\n",
        "    lcs_set = set()\n",
        "    for i in range(m):\n",
        "        for j in range(n):\n",
        "            if S[i] == T[j]:\n",
        "                c = counter[i][j] + 1\n",
        "                counter[i+1][j+1] = c\n",
        "                if c > longest:\n",
        "                    lcs_set = set()\n",
        "                    longest = c\n",
        "                    lcs_set.add(S[i-c+1:i+1])\n",
        "                elif c == longest:\n",
        "                    lcs_set.add(S[i-c+1:i+1])\n",
        "    \n",
        "    if len(lcs_set) == 1:# and ' ' not in list(lcs_set)[0]:\n",
        "        return list(lcs_set)[0]\n",
        "    else:\n",
        "        return ''\n"
      ],
      "id": "Rsu4AyiNRKb3",
      "execution_count": null,
      "outputs": [
        {
          "output_type": "display_data",
          "data": {
            "text/html": [
              "\n",
              "  <style>\n",
              "    pre {\n",
              "        white-space: pre-wrap;\n",
              "    }\n",
              "  </style>\n",
              "  "
            ],
            "text/plain": [
              "<IPython.core.display.HTML object>"
            ]
          },
          "metadata": {}
        }
      ]
    },
    {
      "cell_type": "code",
      "metadata": {
        "colab": {
          "base_uri": "https://localhost:8080/",
          "height": 17
        },
        "id": "odV1dfwWmDTF",
        "outputId": "98f422e3-caae-44c5-915f-7f89290c6f94"
      },
      "source": [
        "def get_NE_sent_intersect(a,simple_sent):\n",
        "  # get the intersection of NE list and sentence\n",
        "  output = []\n",
        "  for index,item in enumerate(a):\n",
        "    tmp_str = lcs(item,simple_sent)\n",
        "    lower_tmp_str = lcs(item.lower(),simple_sent.lower())\n",
        "\n",
        "    # print('| NE: item, tmp_str, lower_tmp_str\\n')\n",
        "    # print(item)\n",
        "    # print(tmp_str)\n",
        "    # print(lower_tmp_str)\n",
        "\n",
        "    if tmp_str != '' and lower_tmp_str != '':\n",
        "\n",
        "      if tmp_str[0] ==' ':\n",
        "        tmp_str = tmp_str[1:]\n",
        "        # print('modified tmp_str',tmp_str)\n",
        "\n",
        "      if lower_tmp_str[0] ==' ':\n",
        "        lower_tmp_str = lower_tmp_str[1:]\n",
        "        # print('modified lower_tmp_str',lower_tmp_str)\n",
        "    \n",
        "      if tmp_str != '' and tmp_str[-1] ==' ':\n",
        "        tmp_str = tmp_str[:-1]\n",
        "        # print('modified tmp_str',tmp_str)\n",
        "      if lower_tmp_str != '' and lower_tmp_str[-1] ==' ':\n",
        "        lower_tmp_str = lower_tmp_str[:-1]\n",
        "        # print('modified lower_tmp_str',lower_tmp_str)\n",
        "\n",
        "      if len(tmp_str) != 0:\n",
        "        if len(lower_tmp_str) == len(tmp_str)+1:\n",
        "          # lower case NE exist in smiple sentence\n",
        "          output.append(lower_tmp_str)\n",
        "          # print('output',output)\n",
        "        else:\n",
        "          output.append(tmp_str)\n",
        "          # print('output',output)\n",
        "\n",
        "    # print('get_NE_sent_intersect output',output)\n",
        "  \n",
        "  return output\n"
      ],
      "id": "odV1dfwWmDTF",
      "execution_count": null,
      "outputs": [
        {
          "output_type": "display_data",
          "data": {
            "text/html": [
              "\n",
              "  <style>\n",
              "    pre {\n",
              "        white-space: pre-wrap;\n",
              "    }\n",
              "  </style>\n",
              "  "
            ],
            "text/plain": [
              "<IPython.core.display.HTML object>"
            ]
          },
          "metadata": {}
        }
      ]
    },
    {
      "cell_type": "code",
      "metadata": {
        "colab": {
          "base_uri": "https://localhost:8080/",
          "height": 17
        },
        "id": "Bn9xLpRZm4PH",
        "outputId": "71c11691-b6a9-4dc1-a2d5-4c5de026ca13"
      },
      "source": [
        "def get_rid_of_subword(a,interset_list):\n",
        "  # check if intersection is not a complete word in its original NE list\n",
        "  output = []\n",
        "\n",
        "  NE_lists = [x.split(' ') for x in a]\n",
        "  list_lists = [item for sublist in NE_lists for item in sublist]\n",
        "  \n",
        "  # print('NE_lists',NE_lists)\n",
        "  # print('list_lists',list_lists)\n",
        "\n",
        "  for index,interset_item in enumerate(interset_list):\n",
        "    # print('index,interset_item',index,interset_item)\n",
        "\n",
        "    if any(x in interset_item for x in list_lists) or any(x.lower() in interset_item for x in list_lists):\n",
        "      output.append(interset_item)\n",
        "      # print('get_rid_of_subword output',output)\n",
        "\n",
        "  return output\n"
      ],
      "id": "Bn9xLpRZm4PH",
      "execution_count": null,
      "outputs": [
        {
          "output_type": "display_data",
          "data": {
            "text/html": [
              "\n",
              "  <style>\n",
              "    pre {\n",
              "        white-space: pre-wrap;\n",
              "    }\n",
              "  </style>\n",
              "  "
            ],
            "text/plain": [
              "<IPython.core.display.HTML object>"
            ]
          },
          "metadata": {}
        }
      ]
    },
    {
      "cell_type": "code",
      "metadata": {
        "id": "-jhX6K_d7Cfr",
        "colab": {
          "base_uri": "https://localhost:8080/",
          "height": 35
        },
        "outputId": "a400fc75-b0fa-40b9-bb9d-894e81c3c92f"
      },
      "source": [
        "stop_words_list = [\"a\",\"about\",\"above\",\"after\",\"again\",\"against\",\"ain\",\"all\",\"am\",\"an\",\"and\",\"any\",\"are\",\"aren\",\"aren't\",\"as\",\"at\",\"be\",\"because\",\"been\",\"before\",\"being\",\"below\",\"between\",\"both\",\"but\",\"by\",\"can\",\"couldn\",\"couldn't\",\"d\",\"did\",\"didn\",\"didn't\",\"do\",\"does\",\"doesn\",\"doesn't\",\"doing\",\"don\",\"don't\",\"down\",\"during\",\"each\",\"few\",\"for\",\"from\",\"further\",\"had\",\"hadn\",\"hadn't\",\"has\",\"hasn\",\"hasn't\",\"have\",\"haven\",\"haven't\",\"having\",\"he\",\"her\",\"here\",\"hers\",\"herself\",\"him\",\"himself\",\"his\",\"how\",\"i\",\"if\",\"in\",\"into\",\"is\",\"isn\",\"isn't\",\"it\",\"it's\",\"its\",\"itself\",\"just\",\"ll\",\"m\",\"ma\",\"me\",\"mightn\",\"mightn't\",\"more\",\"most\",\"mustn\",\"mustn't\",\"my\",\"myself\",\"needn\",\"needn't\",\"no\",\"nor\",\"not\",\"now\",\"o\",\"of\",\"off\",\"on\",\"once\",\"only\",\"or\",\"other\",\"our\",\"ours\",\"ourselves\",\"out\",\"over\",\"own\",\"re\",\"s\",\"same\",\"shan\",\"shan't\",\"she\",\"she's\",\"should\",\"should've\",\"shouldn\",\"shouldn't\",\"so\",\"some\",\"such\",\"t\",\"than\",\"that\",\"that'll\",\"the\",\"their\",\"theirs\",\"them\",\"themselves\",\"then\",\"there\",\"these\",\"they\",\"this\",\"those\",\"through\",\"to\",\"too\",\"under\",\"until\",\"up\",\"ve\",\"very\",\"was\",\"wasn\",\"wasn't\",\"we\",\"were\",\"weren\",\"weren't\",\"what\",\"when\",\"where\",\"which\",\"while\",\"who\",\"whom\",\"why\",\"will\",\"with\",\"won\",\"won't\",\"wouldn\",\"wouldn't\",\"y\",\"you\",\"you'd\",\"you'll\",\"you're\",\"you've\",\"your\",\"yours\",\"yourself\",\"yourselves\",\"could\",\"he'd\",\"he'll\",\"he's\",\"here's\",\"how's\",\"i'd\",\"i'll\",\"i'm\",\"i've\",\"let's\",\"ought\",\"she'd\",\"she'll\",\"that's\",\"there's\",\"they'd\",\"they'll\",\"they're\",\"they've\",\"we'd\",\"we'll\",\"we're\",\"we've\",\"what's\",\"when's\",\"where's\",\"who's\",\"why's\",\"would\",\"able\",\"abst\",\"accordance\",\"according\",\"accordingly\",\"across\",\"act\",\"actually\",\"added\",\"adj\",\"affected\",\"affecting\",\"affects\",\"afterwards\",\"ah\",\"almost\",\"alone\",\"along\",\"already\",\"also\",\"although\",\"always\",\"among\",\"amongst\",\"announce\",\"another\",\"anybody\",\"anyhow\",\"anymore\",\"anyone\",\"anything\",\"anyway\",\"anyways\",\"anywhere\",\"apparently\",\"approximately\",\"arent\",\"arise\",\"around\",\"aside\",\"ask\",\"asking\",\"auth\",\"available\",\"away\",\"awfully\",\"b\",\"back\",\"became\",\"become\",\"becomes\",\"becoming\",\"beforehand\",\"begin\",\"beginning\",\"beginnings\",\"begins\",\"behind\",\"believe\",\"beside\",\"besides\",\"beyond\",\"biol\",\"brief\",\"briefly\",\"c\",\"ca\",\"came\",\"cannot\",\"can't\",\"cause\",\"causes\",\"certain\",\"certainly\",\"co\",\"com\",\"come\",\"comes\",\"contain\",\"containing\",\"contains\",\"couldnt\",\"date\",\"different\",\"done\",\"downwards\",\"due\",\"e\",\"ed\",\"edu\",\"effect\",\"eg\",\"eight\",\"eighty\",\"either\",\"else\",\"elsewhere\",\"end\",\"ending\",\"enough\",\"especially\",\"et\",\"etc\",\"even\",\"ever\",\"every\",\"everybody\",\"everyone\",\"everything\",\"everywhere\",\"ex\",\"except\",\"f\",\"far\",\"ff\",\"fifth\",\"first\",\"five\",\"fix\",\"followed\",\"following\",\"follows\",\"former\",\"formerly\",\"forth\",\"found\",\"four\",\"furthermore\",\"g\",\"gave\",\"get\",\"gets\",\"getting\",\"give\",\"given\",\"gives\",\"giving\",\"go\",\"goes\",\"gone\",\"got\",\"gotten\",\"h\",\"happens\",\"hardly\",\"hed\",\"hence\",\"hereafter\",\"hereby\",\"herein\",\"heres\",\"hereupon\",\"hes\",\"hi\",\"hid\",\"hither\",\"home\",\"howbeit\",\"however\",\"hundred\",\"id\",\"ie\",\"im\",\"immediate\",\"immediately\",\"importance\",\"important\",\"inc\",\"indeed\",\"index\",\"information\",\"instead\",\"invention\",\"inward\",\"itd\",\"it'll\",\"j\",\"k\",\"keep\",\"keeps\",\"kept\",\"kg\",\"km\",\"know\",\"known\",\"knows\",\"l\",\"largely\",\"last\",\"lately\",\"later\",\"latter\",\"latterly\",\"least\",\"less\",\"lest\",\"let\",\"lets\",\"like\",\"liked\",\"likely\",\"line\",\"little\",\"'ll\",\"look\",\"looking\",\"looks\",\"ltd\",\"made\",\"mainly\",\"make\",\"makes\",\"many\",\"may\",\"maybe\",\"mean\",\"means\",\"meantime\",\"meanwhile\",\"merely\",\"mg\",\"might\",\"million\",\"miss\",\"ml\",\"moreover\",\"mostly\",\"mr\",\"mrs\",\"much\",\"mug\",\"must\",\"n\",\"na\",\"name\",\"namely\",\"nay\",\"nd\",\"near\",\"nearly\",\"necessarily\",\"necessary\",\"need\",\"needs\",\"neither\",\"never\",\"nevertheless\",\"new\",\"next\",\"nine\",\"ninety\",\"nobody\",\"non\",\"none\",\"nonetheless\",\"noone\",\"normally\",\"nos\",\"noted\",\"nothing\",\"nowhere\",\"obtain\",\"obtained\",\"obviously\",\"often\",\"oh\",\"ok\",\"okay\",\"old\",\"omitted\",\"one\",\"ones\",\"onto\",\"ord\",\"others\",\"otherwise\",\"outside\",\"overall\",\"owing\",\"p\",\"page\",\"pages\",\"part\",\"particular\",\"particularly\",\"past\",\"per\",\"perhaps\",\"placed\",\"please\",\"plus\",\"poorly\",\"possible\",\"possibly\",\"potentially\",\"pp\",\"predominantly\",\"present\",\"previously\",\"primarily\",\"probably\",\"promptly\",\"proud\",\"provides\",\"put\",\"q\",\"que\",\"quickly\",\"quite\",\"qv\",\"r\",\"ran\",\"rather\",\"rd\",\"readily\",\"really\",\"recent\",\"recently\",\"ref\",\"refs\",\"regarding\",\"regardless\",\"regards\",\"related\",\"relatively\",\"research\",\"respectively\",\"resulted\",\"resulting\",\"results\",\"right\",\"run\",\"said\",\"saw\",\"say\",\"saying\",\"says\",\"sec\",\"section\",\"see\",\"seeing\",\"seem\",\"seemed\",\"seeming\",\"seems\",\"seen\",\"self\",\"selves\",\"sent\",\"seven\",\"several\",\"shall\",\"shed\",\"shes\",\"show\",\"showed\",\"shown\",\"showns\",\"shows\",\"significant\",\"significantly\",\"similar\",\"similarly\",\"since\",\"six\",\"slightly\",\"somebody\",\"somehow\",\"someone\",\"somethan\",\"something\",\"sometime\",\"sometimes\",\"somewhat\",\"somewhere\",\"soon\",\"sorry\",\"specifically\",\"specified\",\"specify\",\"specifying\",\"still\",\"stop\",\"strongly\",\"sub\",\"substantially\",\"successfully\",\"sufficiently\",\"suggest\",\"sup\",\"sure\",\"take\",\"taken\",\"taking\",\"tell\",\"tends\",\"th\",\"thank\",\"thanks\",\"thanx\",\"thats\",\"that've\",\"thence\",\"thereafter\",\"thereby\",\"thered\",\"therefore\",\"therein\",\"there'll\",\"thereof\",\"therere\",\"theres\",\"thereto\",\"thereupon\",\"there've\",\"theyd\",\"theyre\",\"think\",\"thou\",\"though\",\"thoughh\",\"thousand\",\"throug\",\"throughout\",\"thru\",\"thus\",\"til\",\"tip\",\"together\",\"took\",\"toward\",\"towards\",\"tried\",\"tries\",\"truly\",\"try\",\"trying\",\"ts\",\"twice\",\"two\",\"u\",\"un\",\"unfortunately\",\"unless\",\"unlike\",\"unlikely\",\"unto\",\"upon\",\"ups\",\"us\",\"use\",\"used\",\"useful\",\"usefully\",\"usefulness\",\"uses\",\"using\",\"usually\",\"v\",\"value\",\"various\",\"'ve\",\"via\",\"viz\",\"vol\",\"vols\",\"vs\",\"w\",\"want\",\"wants\",\"wasnt\",\"way\",\"wed\",\"welcome\",\"went\",\"werent\",\"whatever\",\"what'll\",\"whats\",\"whence\",\"whenever\",\"whereafter\",\"whereas\",\"whereby\",\"wherein\",\"wheres\",\"whereupon\",\"wherever\",\"whether\",\"whim\",\"whither\",\"whod\",\"whoever\",\"whole\",\"who'll\",\"whomever\",\"whos\",\"whose\",\"widely\",\"willing\",\"wish\",\"within\",\"without\",\"wont\",\"words\",\"world\",\"wouldnt\",\"www\",\"x\",\"yes\",\"yet\",\"youd\",\"youre\",\"z\",\"zero\",\"a's\",\"ain't\",\"allow\",\"allows\",\"apart\",\"appear\",\"appreciate\",\"appropriate\",\"associated\",\"best\",\"better\",\"c'mon\",\"c's\",\"cant\",\"changes\",\"clearly\",\"concerning\",\"consequently\",\"consider\",\"considering\",\"corresponding\",\"course\",\"currently\",\"definitely\",\"described\",\"despite\",\"entirely\",\"exactly\",\"example\",\"going\",\"greetings\",\"hello\",\"help\",\"hopefully\",\"ignored\",\"inasmuch\",\"indicate\",\"indicated\",\"indicates\",\"inner\",\"insofar\",\"it'd\",\"keep\",\"keeps\",\"novel\",\"presumably\",\"reasonably\",\"second\",\"secondly\",\"sensible\",\"serious\",\"seriously\",\"sure\",\"t's\",\"third\",\"thorough\",\"thoroughly\",\"three\",\"well\",\"wonder\"]\n",
        "cap_stop_words_list = [x.title() for x in stop_words_list]\n",
        "stop_words_all = []\n",
        "stop_words_all.extend(stop_words_list)\n",
        "stop_words_all.extend(cap_stop_words_list)\n",
        "len(stop_words_all)"
      ],
      "id": "-jhX6K_d7Cfr",
      "execution_count": null,
      "outputs": [
        {
          "output_type": "display_data",
          "data": {
            "text/html": [
              "\n",
              "  <style>\n",
              "    pre {\n",
              "        white-space: pre-wrap;\n",
              "    }\n",
              "  </style>\n",
              "  "
            ],
            "text/plain": [
              "<IPython.core.display.HTML object>"
            ]
          },
          "metadata": {}
        },
        {
          "output_type": "execute_result",
          "data": {
            "text/plain": [
              "1568"
            ]
          },
          "metadata": {},
          "execution_count": 27
        }
      ]
    },
    {
      "cell_type": "code",
      "metadata": {
        "colab": {
          "base_uri": "https://localhost:8080/",
          "height": 17
        },
        "id": "57C-E5PM-ZQc",
        "outputId": "3e9fe6b6-2ce9-4dfb-8798-d2e0ed92a6ae"
      },
      "source": [
        "df_name = ['train_df','valid_df','test_df',]"
      ],
      "id": "57C-E5PM-ZQc",
      "execution_count": null,
      "outputs": [
        {
          "output_type": "display_data",
          "data": {
            "text/html": [
              "\n",
              "  <style>\n",
              "    pre {\n",
              "        white-space: pre-wrap;\n",
              "    }\n",
              "  </style>\n",
              "  "
            ],
            "text/plain": [
              "<IPython.core.display.HTML object>"
            ]
          },
          "metadata": {}
        }
      ]
    },
    {
      "cell_type": "code",
      "metadata": {
        "colab": {
          "base_uri": "https://localhost:8080/",
          "height": 503
        },
        "id": "kvhL0owGLqmO",
        "outputId": "02ff2049-22ac-4932-e087-b5efa3eb5c38"
      },
      "source": [
        "complex_ratio,simple_ratio,intersect_NE = [],[],[]\n",
        "\n",
        "for i in range(3):\n",
        "  tmp_complex_ratio = []\n",
        "  tmp_simple_ratio = []\n",
        "  tmp_NE = []\n",
        "\n",
        "  for j in range(len(globals()[df_name[i]])):\n",
        "    \n",
        "    if j % 10000 == 0:\n",
        "      print(i,j)\n",
        "\n",
        "    a = globals()[df_name[i]].complex_NER[j].copy()\n",
        "    b = globals()[df_name[i]].simple_NER[j].copy()\n",
        "\n",
        "    complex_sent = globals()[df_name[i]].complex[j]\n",
        "    simple_sent = globals()[df_name[i]].simple[j]\n",
        "  \n",
        "    # print(a,b)\n",
        "    # print(complex_sent,'\\n',simple_sent)\n",
        "\n",
        "    # get the intersection of NE list and sentence\n",
        "    complex_NE_intersect_simple = get_NE_sent_intersect(a,simple_sent)\n",
        "    simple_NE_intersect_complex = get_NE_sent_intersect(b,complex_sent)\n",
        "\n",
        "    # delete the intersection if is not a complete word in its original NE list\n",
        "    # print('a,complex_NE_intersect_simple',a,complex_NE_intersect_simple)\n",
        "    complex_NE_intersect_simple_final = get_rid_of_subword(a,complex_NE_intersect_simple)\n",
        "    # print('b,simple_NE_intersect_complex',b,simple_NE_intersect_complex)\n",
        "    simple_NE_intersect_complex_final = get_rid_of_subword(b,simple_NE_intersect_complex)\n",
        "\n",
        "    # merge two lists into one and delete substring of any existing string\n",
        "    output = substringSieve(complex_NE_intersect_simple_final,simple_NE_intersect_complex_final)\n",
        "    # print('output',output)\n",
        "\n",
        "    # delete stop words and capital stop words\n",
        "    final = []\n",
        "    for index,item in enumerate([x.split(' ') for x in output]):\n",
        "      # if the item is 'WORD ' or ' WORD'\n",
        "\n",
        "      # print('item,len(item)',item,len(item))\n",
        "      if len(item) == 2 and '' in item:\n",
        "        space_index = item.index('')\n",
        "        str_index = 1 - space_index\n",
        "        # dont append the word if it is a stop word\n",
        "        if item[str_index] not in stop_words_all:\n",
        "          final.append(item[str_index])\n",
        "          # print('item[str_index]',item[str_index])\n",
        "\n",
        "      # item is a phrase \n",
        "      else:\n",
        "        clean_item = ' '.join(item)\n",
        "        if clean_item[-1] == ' ':\n",
        "          clean_item = clean_item[:-1]\n",
        "        # print('clean_item',clean_item)\n",
        "        final.append(clean_item)\n",
        "\n",
        "    # print('final',final)\n",
        "    \n",
        "    # break down NE in complex_NE and simple_NE list to check if any NE is not included in the final output due to some special case such as\n",
        "    '''\n",
        "    complex sentence: In Holland they were called Stadspijpers, in Germany Stadtpfeifer and in Italy Pifferi.\t\n",
        "    simple sentence: They were called Stadtpfeifer in Germany and Pifferi in Italy.\t\n",
        "    NE in complex sentence: [Germany Stadtpfeifer, Italy Pifferi, Stadspijpers, Holland]\n",
        "    NE in simple sentence: [Stadtpfeifer in Germany, Pifferi in Italy]\n",
        "    \n",
        "    the function lcs only look for the longest common substring, so when do lcs('Germany Stadtpfeifer',simple_sentence), the output is Stadtpfeifer.\n",
        "    And when do lcs('Stadtpfeifer in Germany',complex_sentence), the output is also Stadtpfeifer.\n",
        "    Hence 'Germany' is ignored in both cases.\n",
        "    '''\n",
        "\n",
        "    # split the item and flat the list of lists\n",
        "    c = [item for sublist in [x.split(' ') for x in a] for item in sublist] # e.g.  ['Germany', 'Stadtpfeifer', 'Italy', 'Pifferi', 'Stadspijpers', 'Holland']\n",
        "    d = [item for sublist in [x.split(' ') for x in b] for item in sublist] # e.g. ['Stadtpfeifer', 'in', 'Germany', 'Pifferi', 'in', 'Italy']\n",
        "    \n",
        "    intersection_1 = [x for ele in c for x in d if x in ele] # element in d that also is a (sub)string in c\n",
        "    intersection_2 = [x for ele in d for x in c if x in ele]\n",
        "\n",
        "    # do substringSieve twice\n",
        "    final_output = substringSieve(substringSieve(intersection_1,intersection_2),final)\n",
        "    # print('final_output',final_output)\n",
        "\n",
        "    FINAL = [element for element in final_output if element not in stop_words_all]\n",
        "    \n",
        "    # print('FINAL',FINAL)\n",
        "    ####################\n",
        "    tmp_NE.append(FINAL)\n",
        "    ####################\n",
        "\n",
        "    # find the ratio of len(complex_NE_in_both)/len(complex) and the same for simple\n",
        "    if len(FINAL) != 0:\n",
        "\n",
        "      cc = list(set([element for element in c if element not in stop_words_all]))\n",
        "      dd = list(set([element for element in d if element not in stop_words_all]))\n",
        "\n",
        "      complex_in_inter_num = sum([x in FINAL for x in cc])\n",
        "      # print('complex_in_inter_num',complex_in_inter_num)\n",
        "\n",
        "      simple_in_inter_num = sum([x in FINAL for x in dd])\n",
        "      # print('simple_in_inter_num',simple_in_inter_num)\n",
        "\n",
        "      if len(a) != 0:\n",
        "        complex_in_inter_ratio = complex_in_inter_num/len(a)\n",
        "      else:\n",
        "        complex_in_inter_ratio = np.nan\n",
        "\n",
        "      if len(b) != 0:\n",
        "        simple_in_inter_ratio = simple_in_inter_num/len(b)\n",
        "      else:\n",
        "        simple_in_inter_ratio = np.nan\n",
        "\n",
        "      # print(complex_in_inter_ratio,simple_in_inter_ratio)\n",
        "      ####################\n",
        "      tmp_complex_ratio.append(complex_in_inter_ratio)\n",
        "      tmp_simple_ratio.append(simple_in_inter_ratio)\n",
        "      ####################\n",
        "\n",
        "  complex_ratio += [tmp_complex_ratio]\n",
        "  simple_ratio += [tmp_simple_ratio]\n",
        "  intersect_NE += [tmp_NE]\n",
        "    \n",
        "  "
      ],
      "id": "kvhL0owGLqmO",
      "execution_count": null,
      "outputs": [
        {
          "output_type": "display_data",
          "data": {
            "text/html": [
              "\n",
              "  <style>\n",
              "    pre {\n",
              "        white-space: pre-wrap;\n",
              "    }\n",
              "  </style>\n",
              "  "
            ],
            "text/plain": [
              "<IPython.core.display.HTML object>"
            ]
          },
          "metadata": {}
        },
        {
          "output_type": "stream",
          "text": [
            "0 0\n",
            "0 10000\n",
            "0 20000\n",
            "0 30000\n",
            "0 40000\n",
            "0 50000\n",
            "0 60000\n",
            "0 70000\n",
            "0 80000\n",
            "0 90000\n",
            "0 100000\n",
            "0 110000\n",
            "0 120000\n",
            "0 130000\n",
            "0 140000\n",
            "0 150000\n",
            "0 160000\n",
            "0 170000\n",
            "0 180000\n",
            "0 190000\n",
            "0 200000\n",
            "0 210000\n",
            "0 220000\n",
            "0 230000\n",
            "0 240000\n",
            "1 0\n",
            "2 0\n"
          ],
          "name": "stdout"
        }
      ]
    },
    {
      "cell_type": "code",
      "metadata": {
        "colab": {
          "base_uri": "https://localhost:8080/",
          "height": 17
        },
        "id": "dFBnvLvBchfB",
        "outputId": "98377ee0-a25a-47a2-8e17-6518f7465aa7"
      },
      "source": [
        "with open('/content/drive/MyDrive/muss/qualitative/NER_cooc_0823', 'wb') as fp:\n",
        "    pickle.dump(intersect_NE, fp)"
      ],
      "id": "dFBnvLvBchfB",
      "execution_count": null,
      "outputs": [
        {
          "output_type": "display_data",
          "data": {
            "text/html": [
              "\n",
              "  <style>\n",
              "    pre {\n",
              "        white-space: pre-wrap;\n",
              "    }\n",
              "  </style>\n",
              "  "
            ],
            "text/plain": [
              "<IPython.core.display.HTML object>"
            ]
          },
          "metadata": {}
        }
      ]
    },
    {
      "cell_type": "code",
      "metadata": {
        "colab": {
          "base_uri": "https://localhost:8080/",
          "height": 17
        },
        "id": "f_F9b4iveK5N",
        "outputId": "12d8da4b-1a03-42ce-be29-a40b9feb3178"
      },
      "source": [
        "with open('/content/drive/MyDrive/muss/qualitative/complex_ratio', 'wb') as fp:\n",
        "    pickle.dump(complex_ratio, fp)"
      ],
      "id": "f_F9b4iveK5N",
      "execution_count": null,
      "outputs": [
        {
          "output_type": "display_data",
          "data": {
            "text/html": [
              "\n",
              "  <style>\n",
              "    pre {\n",
              "        white-space: pre-wrap;\n",
              "    }\n",
              "  </style>\n",
              "  "
            ],
            "text/plain": [
              "<IPython.core.display.HTML object>"
            ]
          },
          "metadata": {}
        }
      ]
    },
    {
      "cell_type": "code",
      "metadata": {
        "colab": {
          "base_uri": "https://localhost:8080/",
          "height": 17
        },
        "id": "8GGRaWdoeG6k",
        "outputId": "26b42ba0-63a9-4a9f-eff4-c20f90b2a696"
      },
      "source": [
        "with open('/content/drive/MyDrive/muss/qualitative/simple_ratio', 'wb') as fp:\n",
        "    pickle.dump(simple_ratio, fp)"
      ],
      "id": "8GGRaWdoeG6k",
      "execution_count": null,
      "outputs": [
        {
          "output_type": "display_data",
          "data": {
            "text/html": [
              "\n",
              "  <style>\n",
              "    pre {\n",
              "        white-space: pre-wrap;\n",
              "    }\n",
              "  </style>\n",
              "  "
            ],
            "text/plain": [
              "<IPython.core.display.HTML object>"
            ]
          },
          "metadata": {}
        }
      ]
    },
    {
      "cell_type": "code",
      "metadata": {
        "colab": {
          "base_uri": "https://localhost:8080/",
          "height": 17
        },
        "id": "XZE2feaBft_G",
        "outputId": "e8153a60-93d8-4443-eda2-9302f63c2938"
      },
      "source": [
        "with open ('/content/drive/MyDrive/muss/qualitative/NER_cooc_0823', 'rb') as fp:\n",
        "    NER_cooc_0823 = pickle.load(fp)"
      ],
      "id": "XZE2feaBft_G",
      "execution_count": null,
      "outputs": [
        {
          "output_type": "display_data",
          "data": {
            "text/html": [
              "\n",
              "  <style>\n",
              "    pre {\n",
              "        white-space: pre-wrap;\n",
              "    }\n",
              "  </style>\n",
              "  "
            ],
            "text/plain": [
              "<IPython.core.display.HTML object>"
            ]
          },
          "metadata": {}
        }
      ]
    },
    {
      "cell_type": "code",
      "metadata": {
        "id": "F9ZpyZkNfzG1"
      },
      "source": [
        "train_df['co_occur_NER'] = NER_cooc_0823[0]"
      ],
      "id": "F9ZpyZkNfzG1",
      "execution_count": null,
      "outputs": []
    },
    {
      "cell_type": "code",
      "metadata": {
        "id": "44ELc_HvfyfB"
      },
      "source": [
        "valid_df['co_occur_NER'] = NER_cooc_0823[1]"
      ],
      "id": "44ELc_HvfyfB",
      "execution_count": null,
      "outputs": []
    },
    {
      "cell_type": "code",
      "metadata": {
        "id": "ET0PKiN0fybs"
      },
      "source": [
        "test_df['co_occur_NER'] = NER_cooc_0823[2]"
      ],
      "id": "ET0PKiN0fybs",
      "execution_count": null,
      "outputs": []
    },
    {
      "cell_type": "code",
      "metadata": {
        "colab": {
          "base_uri": "https://localhost:8080/",
          "height": 17
        },
        "id": "xXY6EmKpfyY7",
        "outputId": "70685bd0-d457-4178-8732-4a3f93e17e64"
      },
      "source": [
        "with open('/content/drive/MyDrive/muss/qualitative/train_df_0911', 'wb') as fp:\n",
        "    pickle.dump(train_df, fp)"
      ],
      "id": "xXY6EmKpfyY7",
      "execution_count": null,
      "outputs": [
        {
          "output_type": "display_data",
          "data": {
            "text/html": [
              "\n",
              "  <style>\n",
              "    pre {\n",
              "        white-space: pre-wrap;\n",
              "    }\n",
              "  </style>\n",
              "  "
            ],
            "text/plain": [
              "<IPython.core.display.HTML object>"
            ]
          },
          "metadata": {}
        }
      ]
    },
    {
      "cell_type": "code",
      "metadata": {
        "colab": {
          "base_uri": "https://localhost:8080/",
          "height": 17
        },
        "id": "JeiGc7T4gFG1",
        "outputId": "e6ad3b23-1e36-4aa3-b818-98dcba760dec"
      },
      "source": [
        "with open('/content/drive/MyDrive/muss/qualitative/valid_df_0911', 'wb') as fp:\n",
        "    pickle.dump(valid_df, fp)"
      ],
      "id": "JeiGc7T4gFG1",
      "execution_count": null,
      "outputs": [
        {
          "output_type": "display_data",
          "data": {
            "text/html": [
              "\n",
              "  <style>\n",
              "    pre {\n",
              "        white-space: pre-wrap;\n",
              "    }\n",
              "  </style>\n",
              "  "
            ],
            "text/plain": [
              "<IPython.core.display.HTML object>"
            ]
          },
          "metadata": {}
        }
      ]
    },
    {
      "cell_type": "code",
      "metadata": {
        "colab": {
          "base_uri": "https://localhost:8080/",
          "height": 17
        },
        "id": "yXI9e9pwgFC3",
        "outputId": "e394c161-c20a-4412-9bed-ed921b320c8f"
      },
      "source": [
        "with open('/content/drive/MyDrive/muss/qualitative/test_df_0911', 'wb') as fp:\n",
        "    pickle.dump(test_df, fp)"
      ],
      "id": "yXI9e9pwgFC3",
      "execution_count": null,
      "outputs": [
        {
          "output_type": "display_data",
          "data": {
            "text/html": [
              "\n",
              "  <style>\n",
              "    pre {\n",
              "        white-space: pre-wrap;\n",
              "    }\n",
              "  </style>\n",
              "  "
            ],
            "text/plain": [
              "<IPython.core.display.HTML object>"
            ]
          },
          "metadata": {}
        }
      ]
    },
    {
      "cell_type": "markdown",
      "metadata": {
        "id": "zfDNzyT_c0Fu"
      },
      "source": [
        "### create dataset (source)"
      ],
      "id": "zfDNzyT_c0Fu"
    },
    {
      "cell_type": "code",
      "metadata": {
        "colab": {
          "base_uri": "https://localhost:8080/",
          "height": 17
        },
        "id": "GAwS6nBvc4ly",
        "outputId": "41ca9c57-7030-445c-cfdc-eebc2f3f4443"
      },
      "source": [
        "target_dir = '/content/drive/MyDrive/muss/resources/datasets/wikilarge_cooc_0823'\n"
      ],
      "id": "GAwS6nBvc4ly",
      "execution_count": null,
      "outputs": [
        {
          "output_type": "display_data",
          "data": {
            "text/html": [
              "\n",
              "  <style>\n",
              "    pre {\n",
              "        white-space: pre-wrap;\n",
              "    }\n",
              "  </style>\n",
              "  "
            ],
            "text/plain": [
              "<IPython.core.display.HTML object>"
            ]
          },
          "metadata": {}
        }
      ]
    },
    {
      "cell_type": "code",
      "metadata": {
        "colab": {
          "base_uri": "https://localhost:8080/",
          "height": 17
        },
        "id": "aTUHv9pXdWV3",
        "outputId": "ec4bce1e-c16d-44ec-ef0f-58b628ebb1a8"
      },
      "source": [
        "!mkdir $target_dir"
      ],
      "id": "aTUHv9pXdWV3",
      "execution_count": null,
      "outputs": [
        {
          "output_type": "display_data",
          "data": {
            "text/html": [
              "\n",
              "  <style>\n",
              "    pre {\n",
              "        white-space: pre-wrap;\n",
              "    }\n",
              "  </style>\n",
              "  "
            ],
            "text/plain": [
              "<IPython.core.display.HTML object>"
            ]
          },
          "metadata": {}
        }
      ]
    },
    {
      "cell_type": "code",
      "metadata": {
        "colab": {
          "base_uri": "https://localhost:8080/",
          "height": 17
        },
        "id": "RysxkeATc4i1",
        "outputId": "92e7a0ee-7d96-483e-9b1d-c464aa6ee9db"
      },
      "source": [
        "data_names = ['train_complex', 'valid_complex', 'test_complex']"
      ],
      "id": "RysxkeATc4i1",
      "execution_count": null,
      "outputs": [
        {
          "output_type": "display_data",
          "data": {
            "text/html": [
              "\n",
              "  <style>\n",
              "    pre {\n",
              "        white-space: pre-wrap;\n",
              "    }\n",
              "  </style>\n",
              "  "
            ],
            "text/plain": [
              "<IPython.core.display.HTML object>"
            ]
          },
          "metadata": {}
        }
      ]
    },
    {
      "cell_type": "code",
      "metadata": {
        "colab": {
          "base_uri": "https://localhost:8080/",
          "height": 17
        },
        "id": "TV2SYazMc4fw",
        "outputId": "fe4050f4-916c-4404-8d26-f71f619a7792"
      },
      "source": [
        "df_list = ['train_df','valid_df','test_df']"
      ],
      "id": "TV2SYazMc4fw",
      "execution_count": null,
      "outputs": [
        {
          "output_type": "display_data",
          "data": {
            "text/html": [
              "\n",
              "  <style>\n",
              "    pre {\n",
              "        white-space: pre-wrap;\n",
              "    }\n",
              "  </style>\n",
              "  "
            ],
            "text/plain": [
              "<IPython.core.display.HTML object>"
            ]
          },
          "metadata": {}
        }
      ]
    },
    {
      "cell_type": "code",
      "metadata": {
        "colab": {
          "base_uri": "https://localhost:8080/",
          "height": 1000
        },
        "id": "0GDd54c7c4b_",
        "outputId": "2e572a92-fb69-449d-83eb-dd7ffedd2ec7"
      },
      "source": [
        "for index,data_name in enumerate(data_names):\n",
        "\n",
        "  chosen_df = globals()[df_list[index]]\n",
        "  file_name = data_name.replace('_','.')\n",
        "\n",
        "  with open(target_dir+'/'+file_name, 'w') as f:\n",
        "\n",
        "    for index, row in chosen_df.iterrows():\n",
        "\n",
        "        sentence = row.complex\n",
        "        # print(sentence)\n",
        "        NER = row.co_occur_NER\n",
        "\n",
        "        sentence_w_control_token = \" <NEXT_NE> \" +\" <NEXT_NE> \".join(NER) + \" <SENT_START> \" + sentence\n",
        "\n",
        "        if index%10000==0:\n",
        "            print(index)\n",
        "            print(sentence_w_control_token)\n",
        "\n",
        "        f.write(\"{}\\n\".format(sentence_w_control_token))\n",
        "\n",
        "\n",
        "  f.close()\n"
      ],
      "id": "0GDd54c7c4b_",
      "execution_count": null,
      "outputs": [
        {
          "output_type": "display_data",
          "data": {
            "text/html": [
              "\n",
              "  <style>\n",
              "    pre {\n",
              "        white-space: pre-wrap;\n",
              "    }\n",
              "  </style>\n",
              "  "
            ],
            "text/plain": [
              "<IPython.core.display.HTML object>"
            ]
          },
          "metadata": {}
        },
        {
          "output_type": "stream",
          "text": [
            "0\n",
            " <NEXT_NE> James Edward <NEXT_NE> Austen <NEXT_NE> Anna <NEXT_NE> 1814 <SENT_START> There is manuscript evidence that Austen continued to work on these pieces as late as the period 1809 â \"11, and that her niece and nephew, Anna and James Edward Austen, made further additions as late as 1814.\n",
            "10000\n",
            " <NEXT_NE> of Lebanon <NEXT_NE> 1992 <SENT_START> Red is also one of the subtractive primary colors of RYB color space but not CMYK color space.\n",
            "20000\n",
            " <NEXT_NE> Varanasi <NEXT_NE> Lucknow <NEXT_NE> Kanpur <NEXT_NE> Agra <SENT_START> During ceremonies, the players covered their Reebok logos.\n",
            "30000\n",
            " <NEXT_NE> Major General Chun Doo <NEXT_NE> December 1979 <NEXT_NE> Chun Doo-hwan <NEXT_NE> Choi <SENT_START> The first known rose garden was planted by empress JosÃ phine de Beauharnais in Malmaison.\n",
            "40000\n",
            " <NEXT_NE> Braille <SENT_START> Most elements have more than one possible oxidation state.\n",
            "50000\n",
            " <NEXT_NE>  <SENT_START> Billy Budd is an opera by Benjamin Britten, from a libretto by E. M. Forster and Eric Crozier, was first performed at the Royal Opera House, Covent Garden, London on 1 December 1951.\n",
            "60000\n",
            " <NEXT_NE> Christians <NEXT_NE> Jesus <NEXT_NE> God <SENT_START> As such it is the subject of complex geopolitical issues, whereby providers must satisfy a myriad of regulatory environments in order to deliver service to a global market.\n",
            "70000\n",
            " <NEXT_NE>  <SENT_START> June 6 & ndash; The Ashmolean Museum opens as the world's first university museum.\n",
            "80000\n",
            " <NEXT_NE>  <SENT_START> It may be reached from Autobahn A7, which links Kassel, Göttingen and Hannover, and routes 1, 6, 243 and 494.\n",
            "90000\n",
            " <NEXT_NE> Hot Space <NEXT_NE> Queen <NEXT_NE> 1982 <SENT_START> He also briefly served in the Ukrainian People's Army.\n",
            "100000\n",
            " <NEXT_NE> Köprülü <SENT_START> Tomá Kopecký (; born February 5, 1982) is a Slovak professional ice hockey right winger currently playing for the Chicago Blackhawks of the National Hockey League (NHL).\n",
            "110000\n",
            " <NEXT_NE>  <SENT_START> For example, the actions considered rebellious in 1869 were undertaken by Riel as the leader of a government recognized by Canada as in legitimate control of territory that did not belong to Canada; Canada negotiated the Manitoba Act with this government.\n",
            "120000\n",
            " <NEXT_NE> about 1 kilometre <NEXT_NE> Jupiter <NEXT_NE> days <NEXT_NE> m in <NEXT_NE> 143 <NEXT_NE> 17, <SENT_START> Power is usually transmitted as alternating current through overhead power lines.\n",
            "130000\n",
            " <NEXT_NE> the American League <SENT_START> Chitons (sg.)\n",
            "140000\n",
            " <NEXT_NE>  <SENT_START> Super Mario Bros.: The Lost Levels, known in Japan as, is a platformer video game developed and published by Nintendo for the Famicom Disk System.\n",
            "150000\n",
            " <NEXT_NE> JosÃ LÃ zaro Robles <NEXT_NE> Brazilian <NEXT_NE> February <NEXT_NE> 1924 <NEXT_NE> 11 <SENT_START> See also Wikipedia: Sock puppetry WikiProject on open proxies m: Editing with Tor This policy is based on No open proxies.\n",
            "160000\n",
            " <NEXT_NE> Gigout <NEXT_NE> 1890 <NEXT_NE> 10 <SENT_START> Early career Barris was born in Philadelphia, Pennsylvania.\n",
            "170000\n",
            " <NEXT_NE> September 29, 1939 <NEXT_NE> Lawrence Lavon <NEXT_NE> April 10, 2000 <NEXT_NE> Linville <NEXT_NE> American <NEXT_NE> Larry <SENT_START> Remembering that Bradman had struggled against bouncers during his 232 at The Oval in 1930, Jardine decided to combine traditional leg theory with short-pitched bowling to combat Bradman.\n",
            "180000\n",
            " <NEXT_NE>  <SENT_START> January 8 & ndash; African-American men are granted the right to vote in the District of Columbia.\n",
            "190000\n",
            " <NEXT_NE> Rutherglen <SENT_START> A transaction on a stock exchange must be made between two members of the exchange -- an ordinary person may not walk into the New York Stock Exchange (for example), and ask to trade stock.\n",
            "200000\n",
            " <NEXT_NE> 3 December 1920 <NEXT_NE> Danilo Alvim <NEXT_NE> Brazilian <NEXT_NE> May 1996 <NEXT_NE> 16 <SENT_START> Usually a campus includes libraries, lecture halls, residence halls and park-like settings.\n",
            "210000\n",
            " <NEXT_NE> Water <SENT_START> On December 19, 2002, Brian Heidik defeated Clay Jordan by a vote of 4-3 to become the sole survivor.\n",
            "220000\n",
            " <NEXT_NE>  <SENT_START> He was also a businessman and a co-founder of Tim Hortons.\n",
            "230000\n",
            " <NEXT_NE> Tamil <SENT_START> As such, vitamin B2 is required for a wide variety of cellular processes.\n",
            "240000\n",
            " <NEXT_NE> every five years <SENT_START> Jiminy is a cheerful cricket who acts as Pinocchio's \"conscience\" and the partial narrator of the story.\n",
            "0\n",
            " <NEXT_NE> Upper Sorbian <NEXT_NE> in Germany <NEXT_NE> inority <NEXT_NE> Saxony <SENT_START> Upper Sorbian is a minority language spoken by Sorbs in Germany in the historical province of Upper Lusatia (Hornja Å uÅ 3\\/4 ica in Sorbian), which is today part of Saxony.\n",
            "0\n",
            " <NEXT_NE> Afro-Arab Abbala <NEXT_NE> Janjaweed <NEXT_NE> Sudanese <NEXT_NE> Rizeigat <SENT_START> One side of the armed conflicts is composed mainly of the Sudanese military and the Janjaweed, a Sudanese militia group recruited mostly from the Afro-Arab Abbala tribes of the northern Rizeigat region in Sudan.\n"
          ],
          "name": "stdout"
        }
      ]
    },
    {
      "cell_type": "code",
      "metadata": {
        "id": "2FvNbuT3c4Yp"
      },
      "source": [
        ""
      ],
      "id": "2FvNbuT3c4Yp",
      "execution_count": null,
      "outputs": []
    },
    {
      "cell_type": "code",
      "metadata": {
        "id": "iUCBhBtCc4V6"
      },
      "source": [
        ""
      ],
      "id": "iUCBhBtCc4V6",
      "execution_count": null,
      "outputs": []
    },
    {
      "cell_type": "markdown",
      "metadata": {
        "id": "pI2zyio7Ob0h"
      },
      "source": [
        "## create training set (target sentence)"
      ],
      "id": "pI2zyio7Ob0h"
    },
    {
      "cell_type": "code",
      "metadata": {
        "colab": {
          "base_uri": "https://localhost:8080/",
          "height": 17
        },
        "id": "cc0FiPgGOb0i",
        "outputId": "5a63adee-caa1-4f99-85ec-9b27851c1c3d"
      },
      "source": [
        "target_dir = '/content/drive/MyDrive/muss/resources/datasets/token_complex_wikilarge_0810'"
      ],
      "id": "cc0FiPgGOb0i",
      "execution_count": null,
      "outputs": [
        {
          "output_type": "display_data",
          "data": {
            "text/html": [
              "\n",
              "  <style>\n",
              "    pre {\n",
              "        white-space: pre-wrap;\n",
              "    }\n",
              "  </style>\n",
              "  "
            ],
            "text/plain": [
              "<IPython.core.display.HTML object>"
            ]
          },
          "metadata": {}
        }
      ]
    },
    {
      "cell_type": "code",
      "metadata": {
        "colab": {
          "base_uri": "https://localhost:8080/",
          "height": 17
        },
        "id": "lVV4uGmZOb0j",
        "outputId": "91580ecf-36ad-4246-cea3-0a4fe721a38d"
      },
      "source": [
        "data_names = ['train_simple', 'valid_simple', 'test_simple']"
      ],
      "id": "lVV4uGmZOb0j",
      "execution_count": null,
      "outputs": [
        {
          "output_type": "display_data",
          "data": {
            "text/html": [
              "\n",
              "  <style>\n",
              "    pre {\n",
              "        white-space: pre-wrap;\n",
              "    }\n",
              "  </style>\n",
              "  "
            ],
            "text/plain": [
              "<IPython.core.display.HTML object>"
            ]
          },
          "metadata": {}
        }
      ]
    },
    {
      "cell_type": "code",
      "metadata": {
        "colab": {
          "base_uri": "https://localhost:8080/",
          "height": 17
        },
        "id": "pPS3bERfOb0j",
        "outputId": "b054917d-f001-4ad1-ff25-5023bde56e3d"
      },
      "source": [
        "df_list = ['train_df','valid_df','test_df']"
      ],
      "id": "pPS3bERfOb0j",
      "execution_count": null,
      "outputs": [
        {
          "output_type": "display_data",
          "data": {
            "text/html": [
              "\n",
              "  <style>\n",
              "    pre {\n",
              "        white-space: pre-wrap;\n",
              "    }\n",
              "  </style>\n",
              "  "
            ],
            "text/plain": [
              "<IPython.core.display.HTML object>"
            ]
          },
          "metadata": {}
        }
      ]
    },
    {
      "cell_type": "code",
      "metadata": {
        "colab": {
          "base_uri": "https://localhost:8080/",
          "height": 1000
        },
        "id": "PKzFbLxAOb0k",
        "outputId": "922bcc78-a305-42ac-cd39-1a946783905e"
      },
      "source": [
        "for index,data_name in enumerate(data_names):\n",
        "\n",
        "  chosen_df = globals()[df_list[index]]\n",
        "  file_name = data_name.replace('_','.')\n",
        "\n",
        "  with open(target_dir+'/'+file_name, 'w') as f:\n",
        "\n",
        "    for index, row in chosen_df.iterrows():\n",
        "\n",
        "        sentence = row.simple\n",
        "\n",
        "        if index%10000==0:\n",
        "            print(index)\n",
        "            print(sentence)\n",
        "\n",
        "        f.write(\"{}\\n\".format(sentence))\n",
        "\n",
        "        # break\n",
        "\n",
        "  f.close()\n"
      ],
      "id": "PKzFbLxAOb0k",
      "execution_count": null,
      "outputs": [
        {
          "output_type": "display_data",
          "data": {
            "text/html": [
              "\n",
              "  <style>\n",
              "    pre {\n",
              "        white-space: pre-wrap;\n",
              "    }\n",
              "  </style>\n",
              "  "
            ],
            "text/plain": [
              "<IPython.core.display.HTML object>"
            ]
          },
          "metadata": {}
        },
        {
          "output_type": "stream",
          "text": [
            "0\n",
            "There is some proof that Austen continued to work on these pieces later in life. Her nephew and niece, James Edward and Anna Austen, may have made further additions to her work in around 1814.\n",
            "10000\n",
            "Red is the color of blood and tomatoes.\n",
            "20000\n",
            "1996 Atlanta Olympics; sprinter Linford Christie wore contact lenses embossed with the Puma AG logo at the press conference preceding the 100 metres final, despite Reebok being the official sponsor.\n",
            "30000\n",
            "The first known rose garden was planted by French empress JosÃ phine de Beauharnais in Malmaison.\n",
            "40000\n",
            "All elements have an oxidation state of 0.\n",
            "50000\n",
            "Billy Budd is an opera by Benjamin Britten. It was first performed at the Royal Opera House, Covent Garden, London on 1 December 1951.\n",
            "60000\n",
            "As such it is the subject of complex geopolitical issues, whereby providers must satisfy many legal restrictions in order to deliver service to a global market.\n",
            "70000\n",
            "Considered to be the turning point in the Ottoman Empires fortunes.\n",
            "80000\n",
            "Neigenfind, W.: Unsere schöne Stadt, p. 46.\n",
            "90000\n",
            "Bulgakov also fought in the Ukrainian People's Army.\n",
            "100000\n",
            "Other Websites\n",
            "110000\n",
            "For example, in 1869 Riel was the leader of a government recognized by Canada as controlling territory that did not belong to Canada; Canada worked on the Manitoba Act with this government.\n",
            "120000\n",
            "Electricity is usually transmitted over long distance through overhead power transmission lines.\n",
            "130000\n",
            "Most chitons are nocturnal, so they feed at night, and hide under rocks during the day.\n",
            "140000\n",
            "Super Mario Bros.: The Lost Levels is a Mario video game made by Nintendo.\n",
            "150000\n",
            "See also Wikipedia: Sock puppetry m: Editing with Tor This policy is based on No open proxies.\n",
            "160000\n",
            "Early career Early in his career, Barris tried songwriting.\n",
            "170000\n",
            "In 1930, when Bradman scored 232 runs against England at The Oval, Jardine saw that Bradman found it difficult when the bowlers bounced the balls high to the body.\n",
            "180000\n",
            "January 8 - African-American men granted the right to vote in the District of Columbia\n",
            "190000\n",
            "They buy and sell stock, as a normal person can not walk into the stock exchange for example, and ask to buy stock.\n",
            "200000\n",
            "Campuses can have libraries, lecture halls, and parks.\n",
            "210000\n",
            "On December 19, 2002, Brian Heidik won against Clay Jordan by a vote of 4-3 to become the sole survivor.\n",
            "220000\n",
            "He was also a businessman and the co-founder of Tim Hortons, now Canada's largest restaurant chain.\n",
            "230000\n",
            "The eyes may become yellow, stinky and watery, and bright light might hurt the eyes easily so that it is hard to open the eyes in strong daylight (photophobia).\n",
            "240000\n",
            "Characters Jiminy Cricket, voiced by Cliff Edwards, is a cricket who acts as Pinocchio's \"conscience\" and tells parts of the story.\n",
            "0\n",
            "There are around 40,000 speakers of Upper Sorbian living in Saxony. Upper Sorbian is a minority language in Germany according to the European Charter for Regional or Minority Languages.\n",
            "0\n",
            "One side of the armed conflicts is made of Sudanese military and the Janjaweed, a Sudanese militia recruited from the Afro-Arab Abbala tribes of the northern Rizeigat region in Sudan.\n"
          ],
          "name": "stdout"
        }
      ]
    },
    {
      "cell_type": "markdown",
      "metadata": {
        "id": "ANJWdGtDlVDP"
      },
      "source": [
        "# operation lexical simplification"
      ],
      "id": "ANJWdGtDlVDP"
    },
    {
      "cell_type": "code",
      "metadata": {
        "id": "yIscjQGYjmhz"
      },
      "source": [
        "train_df = pd.read_pickle(\"/content/drive/MyDrive/muss/qualitative/train_df_0911\")\n",
        "valid_df = pd.read_pickle(\"/content/drive/MyDrive/muss/qualitative/valid_df_0911\")\n",
        "test_df = pd.read_pickle(\"/content/drive/MyDrive/muss/qualitative/test_df_0911\")"
      ],
      "id": "yIscjQGYjmhz",
      "execution_count": null,
      "outputs": []
    },
    {
      "cell_type": "markdown",
      "metadata": {
        "id": "t0pFj47tjGl8"
      },
      "source": [
        "## training set"
      ],
      "id": "t0pFj47tjGl8"
    },
    {
      "cell_type": "markdown",
      "metadata": {
        "id": "fUxLWWAIBZv8"
      },
      "source": [
        "### obtain CERF level using Amplifi engine"
      ],
      "id": "fUxLWWAIBZv8"
    },
    {
      "cell_type": "code",
      "metadata": {
        "id": "3TV-SzxWleoI"
      },
      "source": [
        "import requests\n",
        "import json\n",
        "import ast\n",
        "from multiprocessing import Pool\n"
      ],
      "id": "3TV-SzxWleoI",
      "execution_count": null,
      "outputs": []
    },
    {
      "cell_type": "code",
      "metadata": {
        "id": "DjBP79ffmfSL"
      },
      "source": [
        "# API\n",
        "url = #\n",
        "\n",
        "headers = {\n",
        "    'Content-Type': 'application/json',\n",
        "    'x-api-key' : #\n",
        "}"
      ],
      "id": "DjBP79ffmfSL",
      "execution_count": null,
      "outputs": []
    },
    {
      "cell_type": "code",
      "metadata": {
        "id": "vtVjEcEVrxFd"
      },
      "source": [
        "# request word level difficulty \n",
        "def get_data(text):\n",
        "    r1 = requests.request(\"POST\", url, headers=headers, data=json.dumps([{'id':'test','text':text}]))\n",
        "    a = r1.json()\n",
        "    return a"
      ],
      "id": "vtVjEcEVrxFd",
      "execution_count": null,
      "outputs": []
    },
    {
      "cell_type": "code",
      "metadata": {
        "id": "vHbRclUxjK2y"
      },
      "source": [
        "# get results for trainning set"
      ],
      "id": "vHbRclUxjK2y",
      "execution_count": null,
      "outputs": []
    },
    {
      "cell_type": "code",
      "metadata": {
        "id": "eQbRGioFbS2y"
      },
      "source": [
        "with Pool(5) as p:\n",
        "    result = p.map(get_data, train_df['complex'])\n",
        "\n",
        "with open('/content/drive/MyDrive/muss/qualitative/train_complex_ABCD', 'wb') as fp:\n",
        "    pickle.dump(result, fp)"
      ],
      "id": "eQbRGioFbS2y",
      "execution_count": null,
      "outputs": []
    },
    {
      "cell_type": "code",
      "metadata": {
        "id": "aTbGFRhwbZTW"
      },
      "source": [
        "with Pool(5) as p:\n",
        "    result = p.map(get_data, train_df['simple'])\n",
        "\n",
        "with open('/content/drive/MyDrive/muss/qualitative/train_simple_ABCD', 'wb') as fp:\n",
        "    pickle.dump(result, fp)"
      ],
      "id": "aTbGFRhwbZTW",
      "execution_count": null,
      "outputs": []
    },
    {
      "cell_type": "code",
      "metadata": {
        "colab": {
          "base_uri": "https://localhost:8080/",
          "height": 17
        },
        "id": "GHmXTYUpES8L",
        "outputId": "63ecdd4e-a89e-4b7f-ef3f-b28e8b0a3c18"
      },
      "source": [
        "with open('/content/drive/MyDrive/muss/qualitative/train_complex_ABCD', 'rb') as f:\n",
        "    train_complex_result = pickle.load(f)\n",
        "with open('/content/drive/MyDrive/muss/qualitative/train_simple_ABCD', 'rb') as f:\n",
        "    train_simple_result = pickle.load(f)"
      ],
      "id": "GHmXTYUpES8L",
      "execution_count": null,
      "outputs": [
        {
          "output_type": "display_data",
          "data": {
            "text/html": [
              "\n",
              "  <style>\n",
              "    pre {\n",
              "        white-space: pre-wrap;\n",
              "    }\n",
              "  </style>\n",
              "  "
            ],
            "text/plain": [
              "<IPython.core.display.HTML object>"
            ]
          },
          "metadata": {}
        }
      ]
    },
    {
      "cell_type": "code",
      "metadata": {
        "colab": {
          "base_uri": "https://localhost:8080/",
          "height": 17
        },
        "id": "C1LmCHX2RKxl",
        "outputId": "da3e0f04-1a2e-4ced-9414-ef4a4a005fd5"
      },
      "source": [
        "# combine results for complex and simple sentences\n",
        "from pandas import json_normalize\n",
        "\n",
        "def process_file(f):\n",
        "  jsonObj = json.loads(f)\n",
        "  return json_normalize(jsonObj)"
      ],
      "id": "C1LmCHX2RKxl",
      "execution_count": null,
      "outputs": [
        {
          "output_type": "display_data",
          "data": {
            "text/html": [
              "\n",
              "  <style>\n",
              "    pre {\n",
              "        white-space: pre-wrap;\n",
              "    }\n",
              "  </style>\n",
              "  "
            ],
            "text/plain": [
              "<IPython.core.display.HTML object>"
            ]
          },
          "metadata": {}
        }
      ]
    },
    {
      "cell_type": "code",
      "metadata": {
        "id": "gkzHNGeuUnzH"
      },
      "source": [
        "frames = []\n",
        "\n",
        "for i in range(len(train_complex_result)):\n",
        "\n",
        "  if 'body' not in train_complex_result[i].keys():\n",
        "    print('error',i)\n",
        "    tmp = process_file(train_complex_result[i-1]['body'])\n",
        "    tmp.loc[:] = np.nan\n",
        "    frames.append(tmp)\n",
        "  else:\n",
        "    frames.append(process_file(train_complex_result[i]['body']))\n",
        "\n",
        "train_complex_df = pd.concat(frames)\n",
        "\n",
        "with open('/content/drive/MyDrive/muss/qualitative/ABCD_train_complex', 'wb') as fp:\n",
        "    pickle.dump(train_complex_df, fp)    "
      ],
      "id": "gkzHNGeuUnzH",
      "execution_count": null,
      "outputs": []
    },
    {
      "cell_type": "code",
      "metadata": {
        "id": "v3_DZ_JIEWGk"
      },
      "source": [
        "frames = []\n",
        "\n",
        "for i in range(len(train_simple_result)):\n",
        "\n",
        "  if 'body' not in train_simple_result[i].keys():\n",
        "    print('error',i)\n",
        "    tmp = process_file(train_simple_result[i-1]['body'])\n",
        "    tmp.loc[:] = np.nan\n",
        "    frames.append(tmp)\n",
        "  else:\n",
        "    frames.append(process_file(train_simple_result[i]['body']))\n",
        "\n",
        "train_simple_df = pd.concat(frames)\n",
        "\n",
        "with open('/content/drive/MyDrive/muss/qualitative/ABCD_train_simple', 'wb') as fp:\n",
        "    pickle.dump(train_simple_df, fp)    "
      ],
      "id": "v3_DZ_JIEWGk",
      "execution_count": null,
      "outputs": []
    },
    {
      "cell_type": "code",
      "metadata": {
        "id": "1Ovga32sxZHf",
        "colab": {
          "base_uri": "https://localhost:8080/",
          "height": 17
        },
        "outputId": "718328db-2944-408b-de3c-6f77158cf597"
      },
      "source": [
        "with open('/content/drive/MyDrive/muss/qualitative/ABCD_train_complex', 'rb') as f:\n",
        "    train_complex_df = pickle.load(f)\n",
        "with open('/content/drive/MyDrive/muss/qualitative/ABCD_train_simple', 'rb') as f:\n",
        "    train_simple_df = pickle.load(f)\n",
        "    "
      ],
      "id": "1Ovga32sxZHf",
      "execution_count": null,
      "outputs": [
        {
          "output_type": "display_data",
          "data": {
            "text/html": [
              "\n",
              "  <style>\n",
              "    pre {\n",
              "        white-space: pre-wrap;\n",
              "    }\n",
              "  </style>\n",
              "  "
            ],
            "text/plain": [
              "<IPython.core.display.HTML object>"
            ]
          },
          "metadata": {}
        }
      ]
    },
    {
      "cell_type": "code",
      "metadata": {
        "colab": {
          "base_uri": "https://localhost:8080/",
          "height": 424
        },
        "id": "kHMEaaziTuLI",
        "outputId": "f4f80de7-f51f-4df7-d902-fedcb5c4b735"
      },
      "source": [
        "new_train_complex_df = train_complex_df.drop(columns=['id','read.A1','read.B1','read.B2','read.C1','read.overall']).add_prefix('complex_')\n",
        "new_train_simple_df = train_simple_df.drop(columns=['id','read.A1','read.B1','read.B2','read.C1','read.overall']).add_prefix('simple_')\n",
        "combined_df = pd.concat([new_train_complex_df, new_train_simple_df], axis=1).reset_index().drop(columns='index')\n",
        "combined_df"
      ],
      "id": "kHMEaaziTuLI",
      "execution_count": null,
      "outputs": [
        {
          "output_type": "display_data",
          "data": {
            "text/html": [
              "\n",
              "  <style>\n",
              "    pre {\n",
              "        white-space: pre-wrap;\n",
              "    }\n",
              "  </style>\n",
              "  "
            ],
            "text/plain": [
              "<IPython.core.display.HTML object>"
            ]
          },
          "metadata": {}
        },
        {
          "output_type": "execute_result",
          "data": {
            "text/html": [
              "<div>\n",
              "<style scoped>\n",
              "    .dataframe tbody tr th:only-of-type {\n",
              "        vertical-align: middle;\n",
              "    }\n",
              "\n",
              "    .dataframe tbody tr th {\n",
              "        vertical-align: top;\n",
              "    }\n",
              "\n",
              "    .dataframe thead th {\n",
              "        text-align: right;\n",
              "    }\n",
              "</style>\n",
              "<table border=\"1\" class=\"dataframe\">\n",
              "  <thead>\n",
              "    <tr style=\"text-align: right;\">\n",
              "      <th></th>\n",
              "      <th>complex_read_level</th>\n",
              "      <th>complex_words</th>\n",
              "      <th>simple_read_level</th>\n",
              "      <th>simple_words</th>\n",
              "    </tr>\n",
              "  </thead>\n",
              "  <tbody>\n",
              "    <tr>\n",
              "      <th>0</th>\n",
              "      <td>C1</td>\n",
              "      <td>[{'id': 1, 'text': 'There', 'start_idx': 0, 'e...</td>\n",
              "      <td>B2</td>\n",
              "      <td>[{'id': 1, 'text': 'There', 'start_idx': 0, 'e...</td>\n",
              "    </tr>\n",
              "    <tr>\n",
              "      <th>1</th>\n",
              "      <td>B2</td>\n",
              "      <td>[{'id': 1, 'text': 'In', 'start_idx': 0, 'end_...</td>\n",
              "      <td>B2</td>\n",
              "      <td>[{'id': 1, 'text': 'Mandaean', 'start_idx': 0,...</td>\n",
              "    </tr>\n",
              "    <tr>\n",
              "      <th>2</th>\n",
              "      <td>B2</td>\n",
              "      <td>[{'id': 1, 'text': 'Before', 'start_idx': 0, '...</td>\n",
              "      <td>C1</td>\n",
              "      <td>[{'id': 1, 'text': 'When', 'start_idx': 0, 'en...</td>\n",
              "    </tr>\n",
              "    <tr>\n",
              "      <th>3</th>\n",
              "      <td>B2</td>\n",
              "      <td>[{'id': 1, 'text': 'Cogeneration', 'start_idx'...</td>\n",
              "      <td>B2</td>\n",
              "      <td>[{'id': 1, 'text': 'Cogeneration', 'start_idx'...</td>\n",
              "    </tr>\n",
              "    <tr>\n",
              "      <th>4</th>\n",
              "      <td>B1</td>\n",
              "      <td>[{'id': 1, 'text': 'Geneva', 'start_idx': 0, '...</td>\n",
              "      <td>C1</td>\n",
              "      <td>[{'id': 1, 'text': 'The', 'start_idx': 0, 'end...</td>\n",
              "    </tr>\n",
              "    <tr>\n",
              "      <th>...</th>\n",
              "      <td>...</td>\n",
              "      <td>...</td>\n",
              "      <td>...</td>\n",
              "      <td>...</td>\n",
              "    </tr>\n",
              "    <tr>\n",
              "      <th>249161</th>\n",
              "      <td>C2</td>\n",
              "      <td>[{'id': 1, 'text': 'These', 'start_idx': 0, 'e...</td>\n",
              "      <td>C2</td>\n",
              "      <td>[{'id': 1, 'text': 'These', 'start_idx': 0, 'e...</td>\n",
              "    </tr>\n",
              "    <tr>\n",
              "      <th>249162</th>\n",
              "      <td>C2</td>\n",
              "      <td>[{'id': 1, 'text': 'Saint', 'start_idx': 0, 'e...</td>\n",
              "      <td>C2</td>\n",
              "      <td>[{'id': 1, 'text': 'Saint', 'start_idx': 0, 'e...</td>\n",
              "    </tr>\n",
              "    <tr>\n",
              "      <th>249163</th>\n",
              "      <td>B2</td>\n",
              "      <td>[{'id': 1, 'text': 'The', 'start_idx': 0, 'end...</td>\n",
              "      <td>A1</td>\n",
              "      <td>[{'id': 1, 'text': 'There', 'start_idx': 0, 'e...</td>\n",
              "    </tr>\n",
              "    <tr>\n",
              "      <th>249164</th>\n",
              "      <td>C1</td>\n",
              "      <td>[{'id': 1, 'text': 'Boulogne', 'start_idx': 0,...</td>\n",
              "      <td>C2</td>\n",
              "      <td>[{'id': 1, 'text': 'Consequently', 'start_idx'...</td>\n",
              "    </tr>\n",
              "    <tr>\n",
              "      <th>249165</th>\n",
              "      <td>C2</td>\n",
              "      <td>[{'id': 1, 'text': 'Overall', 'start_idx': 0, ...</td>\n",
              "      <td>A2</td>\n",
              "      <td>[{'id': 1, 'text': 'The', 'start_idx': 0, 'end...</td>\n",
              "    </tr>\n",
              "  </tbody>\n",
              "</table>\n",
              "<p>249166 rows × 4 columns</p>\n",
              "</div>"
            ],
            "text/plain": [
              "       complex_read_level  ...                                       simple_words\n",
              "0                      C1  ...  [{'id': 1, 'text': 'There', 'start_idx': 0, 'e...\n",
              "1                      B2  ...  [{'id': 1, 'text': 'Mandaean', 'start_idx': 0,...\n",
              "2                      B2  ...  [{'id': 1, 'text': 'When', 'start_idx': 0, 'en...\n",
              "3                      B2  ...  [{'id': 1, 'text': 'Cogeneration', 'start_idx'...\n",
              "4                      B1  ...  [{'id': 1, 'text': 'The', 'start_idx': 0, 'end...\n",
              "...                   ...  ...                                                ...\n",
              "249161                 C2  ...  [{'id': 1, 'text': 'These', 'start_idx': 0, 'e...\n",
              "249162                 C2  ...  [{'id': 1, 'text': 'Saint', 'start_idx': 0, 'e...\n",
              "249163                 B2  ...  [{'id': 1, 'text': 'There', 'start_idx': 0, 'e...\n",
              "249164                 C1  ...  [{'id': 1, 'text': 'Consequently', 'start_idx'...\n",
              "249165                 C2  ...  [{'id': 1, 'text': 'The', 'start_idx': 0, 'end...\n",
              "\n",
              "[249166 rows x 4 columns]"
            ]
          },
          "metadata": {},
          "execution_count": 55
        }
      ]
    },
    {
      "cell_type": "markdown",
      "metadata": {
        "id": "lLAB0D1sjyZ0"
      },
      "source": [
        "### find C1+C2+B2 words\n"
      ],
      "id": "lLAB0D1sjyZ0"
    },
    {
      "cell_type": "code",
      "metadata": {
        "colab": {
          "base_uri": "https://localhost:8080/",
          "height": 424
        },
        "id": "0cnieeftjg68",
        "outputId": "b14d92b8-b8b7-435d-f049-04d7082942b5"
      },
      "source": [
        "sentence_df = train_df.drop(columns=['level_0','index','complex_NER','simple_NER','co_occur_NER'])\n",
        "sentence_df"
      ],
      "id": "0cnieeftjg68",
      "execution_count": null,
      "outputs": [
        {
          "output_type": "display_data",
          "data": {
            "text/html": [
              "\n",
              "  <style>\n",
              "    pre {\n",
              "        white-space: pre-wrap;\n",
              "    }\n",
              "  </style>\n",
              "  "
            ],
            "text/plain": [
              "<IPython.core.display.HTML object>"
            ]
          },
          "metadata": {}
        },
        {
          "output_type": "execute_result",
          "data": {
            "text/html": [
              "<div>\n",
              "<style scoped>\n",
              "    .dataframe tbody tr th:only-of-type {\n",
              "        vertical-align: middle;\n",
              "    }\n",
              "\n",
              "    .dataframe tbody tr th {\n",
              "        vertical-align: top;\n",
              "    }\n",
              "\n",
              "    .dataframe thead th {\n",
              "        text-align: right;\n",
              "    }\n",
              "</style>\n",
              "<table border=\"1\" class=\"dataframe\">\n",
              "  <thead>\n",
              "    <tr style=\"text-align: right;\">\n",
              "      <th></th>\n",
              "      <th>complex</th>\n",
              "      <th>simple</th>\n",
              "    </tr>\n",
              "  </thead>\n",
              "  <tbody>\n",
              "    <tr>\n",
              "      <th>0</th>\n",
              "      <td>There is manuscript evidence that Austen conti...</td>\n",
              "      <td>There is some proof that Austen continued to w...</td>\n",
              "    </tr>\n",
              "    <tr>\n",
              "      <th>1</th>\n",
              "      <td>In a remarkable comparative analysis, Mandaean...</td>\n",
              "      <td>Mandaean scholar Säve-Söderberg showed that Ma...</td>\n",
              "    </tr>\n",
              "    <tr>\n",
              "      <th>2</th>\n",
              "      <td>Before Persephone was released to Hermes, who ...</td>\n",
              "      <td>When Demeter went to the Underworld to rescue ...</td>\n",
              "    </tr>\n",
              "    <tr>\n",
              "      <th>3</th>\n",
              "      <td>Cogeneration plants are commonly found in dist...</td>\n",
              "      <td>Cogeneration plants are commonly found in dist...</td>\n",
              "    </tr>\n",
              "    <tr>\n",
              "      <th>4</th>\n",
              "      <td>Geneva (,;,;,;;) is the second-most-populous c...</td>\n",
              "      <td>The city's main newspaper is the Tribune de Ge...</td>\n",
              "    </tr>\n",
              "    <tr>\n",
              "      <th>...</th>\n",
              "      <td>...</td>\n",
              "      <td>...</td>\n",
              "    </tr>\n",
              "    <tr>\n",
              "      <th>249161</th>\n",
              "      <td>These structures form at the high-pressure dep...</td>\n",
              "      <td>These structures form at the high-pressure dep...</td>\n",
              "    </tr>\n",
              "    <tr>\n",
              "      <th>249162</th>\n",
              "      <td>Saint-Maixant is a commune in the Gironde depa...</td>\n",
              "      <td>Saint-Maixant, Gironde is a commune. It is fou...</td>\n",
              "    </tr>\n",
              "    <tr>\n",
              "      <th>249163</th>\n",
              "      <td>The Hollywood Walk of Fame is a series of side...</td>\n",
              "      <td>There are many stars on the sidewalk.</td>\n",
              "    </tr>\n",
              "    <tr>\n",
              "      <th>249164</th>\n",
              "      <td>Boulogne-Billancourt is the most populous subu...</td>\n",
              "      <td>Consequently, Boulogne-Billancourt is one of t...</td>\n",
              "    </tr>\n",
              "    <tr>\n",
              "      <th>249165</th>\n",
              "      <td>Overall, Juventus have won 51 official competi...</td>\n",
              "      <td>The club is the most successful team in the hi...</td>\n",
              "    </tr>\n",
              "  </tbody>\n",
              "</table>\n",
              "<p>249166 rows × 2 columns</p>\n",
              "</div>"
            ],
            "text/plain": [
              "                                                  complex                                             simple\n",
              "0       There is manuscript evidence that Austen conti...  There is some proof that Austen continued to w...\n",
              "1       In a remarkable comparative analysis, Mandaean...  Mandaean scholar Säve-Söderberg showed that Ma...\n",
              "2       Before Persephone was released to Hermes, who ...  When Demeter went to the Underworld to rescue ...\n",
              "3       Cogeneration plants are commonly found in dist...  Cogeneration plants are commonly found in dist...\n",
              "4       Geneva (,;,;,;;) is the second-most-populous c...  The city's main newspaper is the Tribune de Ge...\n",
              "...                                                   ...                                                ...\n",
              "249161  These structures form at the high-pressure dep...  These structures form at the high-pressure dep...\n",
              "249162  Saint-Maixant is a commune in the Gironde depa...  Saint-Maixant, Gironde is a commune. It is fou...\n",
              "249163  The Hollywood Walk of Fame is a series of side...              There are many stars on the sidewalk.\n",
              "249164  Boulogne-Billancourt is the most populous subu...  Consequently, Boulogne-Billancourt is one of t...\n",
              "249165  Overall, Juventus have won 51 official competi...  The club is the most successful team in the hi...\n",
              "\n",
              "[249166 rows x 2 columns]"
            ]
          },
          "metadata": {},
          "execution_count": 58
        }
      ]
    },
    {
      "cell_type": "code",
      "metadata": {
        "colab": {
          "base_uri": "https://localhost:8080/",
          "height": 635
        },
        "id": "kjSDZ_aokD3t",
        "outputId": "d3f0fb69-5f39-4b28-f7fa-7647c6122106"
      },
      "source": [
        "FINAL_df = pd.concat([sentence_df, combined_df], axis=1)\n",
        "FINAL_df = FINAL_df[FINAL_df['complex_words'].notna()][FINAL_df['simple_words'].notna()]\n",
        "FINAL_df"
      ],
      "id": "kjSDZ_aokD3t",
      "execution_count": null,
      "outputs": [
        {
          "output_type": "display_data",
          "data": {
            "text/html": [
              "\n",
              "  <style>\n",
              "    pre {\n",
              "        white-space: pre-wrap;\n",
              "    }\n",
              "  </style>\n",
              "  "
            ],
            "text/plain": [
              "<IPython.core.display.HTML object>"
            ]
          },
          "metadata": {}
        },
        {
          "output_type": "stream",
          "text": [
            "/usr/local/lib/python3.7/dist-packages/ipykernel_launcher.py:1: UserWarning: Boolean Series key will be reindexed to match DataFrame index.\n",
            "  \"\"\"Entry point for launching an IPython kernel.\n"
          ],
          "name": "stderr"
        },
        {
          "output_type": "execute_result",
          "data": {
            "text/html": [
              "<div>\n",
              "<style scoped>\n",
              "    .dataframe tbody tr th:only-of-type {\n",
              "        vertical-align: middle;\n",
              "    }\n",
              "\n",
              "    .dataframe tbody tr th {\n",
              "        vertical-align: top;\n",
              "    }\n",
              "\n",
              "    .dataframe thead th {\n",
              "        text-align: right;\n",
              "    }\n",
              "</style>\n",
              "<table border=\"1\" class=\"dataframe\">\n",
              "  <thead>\n",
              "    <tr style=\"text-align: right;\">\n",
              "      <th></th>\n",
              "      <th>complex</th>\n",
              "      <th>simple</th>\n",
              "      <th>complex_read_level</th>\n",
              "      <th>complex_words</th>\n",
              "      <th>simple_read_level</th>\n",
              "      <th>simple_words</th>\n",
              "    </tr>\n",
              "  </thead>\n",
              "  <tbody>\n",
              "    <tr>\n",
              "      <th>0</th>\n",
              "      <td>There is manuscript evidence that Austen conti...</td>\n",
              "      <td>There is some proof that Austen continued to w...</td>\n",
              "      <td>C1</td>\n",
              "      <td>[{'id': 1, 'text': 'There', 'start_idx': 0, 'e...</td>\n",
              "      <td>B2</td>\n",
              "      <td>[{'id': 1, 'text': 'There', 'start_idx': 0, 'e...</td>\n",
              "    </tr>\n",
              "    <tr>\n",
              "      <th>1</th>\n",
              "      <td>In a remarkable comparative analysis, Mandaean...</td>\n",
              "      <td>Mandaean scholar Säve-Söderberg showed that Ma...</td>\n",
              "      <td>B2</td>\n",
              "      <td>[{'id': 1, 'text': 'In', 'start_idx': 0, 'end_...</td>\n",
              "      <td>B2</td>\n",
              "      <td>[{'id': 1, 'text': 'Mandaean', 'start_idx': 0,...</td>\n",
              "    </tr>\n",
              "    <tr>\n",
              "      <th>2</th>\n",
              "      <td>Before Persephone was released to Hermes, who ...</td>\n",
              "      <td>When Demeter went to the Underworld to rescue ...</td>\n",
              "      <td>B2</td>\n",
              "      <td>[{'id': 1, 'text': 'Before', 'start_idx': 0, '...</td>\n",
              "      <td>C1</td>\n",
              "      <td>[{'id': 1, 'text': 'When', 'start_idx': 0, 'en...</td>\n",
              "    </tr>\n",
              "    <tr>\n",
              "      <th>3</th>\n",
              "      <td>Cogeneration plants are commonly found in dist...</td>\n",
              "      <td>Cogeneration plants are commonly found in dist...</td>\n",
              "      <td>B2</td>\n",
              "      <td>[{'id': 1, 'text': 'Cogeneration', 'start_idx'...</td>\n",
              "      <td>B2</td>\n",
              "      <td>[{'id': 1, 'text': 'Cogeneration', 'start_idx'...</td>\n",
              "    </tr>\n",
              "    <tr>\n",
              "      <th>4</th>\n",
              "      <td>Geneva (,;,;,;;) is the second-most-populous c...</td>\n",
              "      <td>The city's main newspaper is the Tribune de Ge...</td>\n",
              "      <td>B1</td>\n",
              "      <td>[{'id': 1, 'text': 'Geneva', 'start_idx': 0, '...</td>\n",
              "      <td>C1</td>\n",
              "      <td>[{'id': 1, 'text': 'The', 'start_idx': 0, 'end...</td>\n",
              "    </tr>\n",
              "    <tr>\n",
              "      <th>...</th>\n",
              "      <td>...</td>\n",
              "      <td>...</td>\n",
              "      <td>...</td>\n",
              "      <td>...</td>\n",
              "      <td>...</td>\n",
              "      <td>...</td>\n",
              "    </tr>\n",
              "    <tr>\n",
              "      <th>249161</th>\n",
              "      <td>These structures form at the high-pressure dep...</td>\n",
              "      <td>These structures form at the high-pressure dep...</td>\n",
              "      <td>C2</td>\n",
              "      <td>[{'id': 1, 'text': 'These', 'start_idx': 0, 'e...</td>\n",
              "      <td>C2</td>\n",
              "      <td>[{'id': 1, 'text': 'These', 'start_idx': 0, 'e...</td>\n",
              "    </tr>\n",
              "    <tr>\n",
              "      <th>249162</th>\n",
              "      <td>Saint-Maixant is a commune in the Gironde depa...</td>\n",
              "      <td>Saint-Maixant, Gironde is a commune. It is fou...</td>\n",
              "      <td>C2</td>\n",
              "      <td>[{'id': 1, 'text': 'Saint', 'start_idx': 0, 'e...</td>\n",
              "      <td>C2</td>\n",
              "      <td>[{'id': 1, 'text': 'Saint', 'start_idx': 0, 'e...</td>\n",
              "    </tr>\n",
              "    <tr>\n",
              "      <th>249163</th>\n",
              "      <td>The Hollywood Walk of Fame is a series of side...</td>\n",
              "      <td>There are many stars on the sidewalk.</td>\n",
              "      <td>B2</td>\n",
              "      <td>[{'id': 1, 'text': 'The', 'start_idx': 0, 'end...</td>\n",
              "      <td>A1</td>\n",
              "      <td>[{'id': 1, 'text': 'There', 'start_idx': 0, 'e...</td>\n",
              "    </tr>\n",
              "    <tr>\n",
              "      <th>249164</th>\n",
              "      <td>Boulogne-Billancourt is the most populous subu...</td>\n",
              "      <td>Consequently, Boulogne-Billancourt is one of t...</td>\n",
              "      <td>C1</td>\n",
              "      <td>[{'id': 1, 'text': 'Boulogne', 'start_idx': 0,...</td>\n",
              "      <td>C2</td>\n",
              "      <td>[{'id': 1, 'text': 'Consequently', 'start_idx'...</td>\n",
              "    </tr>\n",
              "    <tr>\n",
              "      <th>249165</th>\n",
              "      <td>Overall, Juventus have won 51 official competi...</td>\n",
              "      <td>The club is the most successful team in the hi...</td>\n",
              "      <td>C2</td>\n",
              "      <td>[{'id': 1, 'text': 'Overall', 'start_idx': 0, ...</td>\n",
              "      <td>A2</td>\n",
              "      <td>[{'id': 1, 'text': 'The', 'start_idx': 0, 'end...</td>\n",
              "    </tr>\n",
              "  </tbody>\n",
              "</table>\n",
              "<p>249056 rows × 6 columns</p>\n",
              "</div>"
            ],
            "text/plain": [
              "                                                  complex  ...                                       simple_words\n",
              "0       There is manuscript evidence that Austen conti...  ...  [{'id': 1, 'text': 'There', 'start_idx': 0, 'e...\n",
              "1       In a remarkable comparative analysis, Mandaean...  ...  [{'id': 1, 'text': 'Mandaean', 'start_idx': 0,...\n",
              "2       Before Persephone was released to Hermes, who ...  ...  [{'id': 1, 'text': 'When', 'start_idx': 0, 'en...\n",
              "3       Cogeneration plants are commonly found in dist...  ...  [{'id': 1, 'text': 'Cogeneration', 'start_idx'...\n",
              "4       Geneva (,;,;,;;) is the second-most-populous c...  ...  [{'id': 1, 'text': 'The', 'start_idx': 0, 'end...\n",
              "...                                                   ...  ...                                                ...\n",
              "249161  These structures form at the high-pressure dep...  ...  [{'id': 1, 'text': 'These', 'start_idx': 0, 'e...\n",
              "249162  Saint-Maixant is a commune in the Gironde depa...  ...  [{'id': 1, 'text': 'Saint', 'start_idx': 0, 'e...\n",
              "249163  The Hollywood Walk of Fame is a series of side...  ...  [{'id': 1, 'text': 'There', 'start_idx': 0, 'e...\n",
              "249164  Boulogne-Billancourt is the most populous subu...  ...  [{'id': 1, 'text': 'Consequently', 'start_idx'...\n",
              "249165  Overall, Juventus have won 51 official competi...  ...  [{'id': 1, 'text': 'The', 'start_idx': 0, 'end...\n",
              "\n",
              "[249056 rows x 6 columns]"
            ]
          },
          "metadata": {},
          "execution_count": 44
        }
      ]
    },
    {
      "cell_type": "code",
      "metadata": {
        "colab": {
          "base_uri": "https://localhost:8080/",
          "height": 17
        },
        "id": "C_lrKXvPke0r",
        "outputId": "dbdf0169-911c-4b8e-fc04-2cb9e42dd452"
      },
      "source": [
        "with open('/content/drive/MyDrive/muss/qualitative/ABCD_train_FINAL', 'wb') as fp:\n",
        "    pickle.dump(FINAL_df, fp)"
      ],
      "id": "C_lrKXvPke0r",
      "execution_count": null,
      "outputs": [
        {
          "output_type": "display_data",
          "data": {
            "text/html": [
              "\n",
              "  <style>\n",
              "    pre {\n",
              "        white-space: pre-wrap;\n",
              "    }\n",
              "  </style>\n",
              "  "
            ],
            "text/plain": [
              "<IPython.core.display.HTML object>"
            ]
          },
          "metadata": {}
        }
      ]
    },
    {
      "cell_type": "code",
      "metadata": {
        "colab": {
          "base_uri": "https://localhost:8080/",
          "height": 771
        },
        "id": "zTWELqdVaRNc",
        "outputId": "89eb538c-b56c-40e0-e388-7ab234ede1c4"
      },
      "source": [
        "FINAL_df = pd.concat([train_df.drop(columns=['level_0','index']), FINAL_df.drop(columns=['complex','simple'])],axis=1)\n",
        "FINAL_df"
      ],
      "id": "zTWELqdVaRNc",
      "execution_count": null,
      "outputs": [
        {
          "output_type": "display_data",
          "data": {
            "text/html": [
              "\n",
              "  <style>\n",
              "    pre {\n",
              "        white-space: pre-wrap;\n",
              "    }\n",
              "  </style>\n",
              "  "
            ],
            "text/plain": [
              "<IPython.core.display.HTML object>"
            ]
          },
          "metadata": {}
        },
        {
          "output_type": "execute_result",
          "data": {
            "text/html": [
              "<div>\n",
              "<style scoped>\n",
              "    .dataframe tbody tr th:only-of-type {\n",
              "        vertical-align: middle;\n",
              "    }\n",
              "\n",
              "    .dataframe tbody tr th {\n",
              "        vertical-align: top;\n",
              "    }\n",
              "\n",
              "    .dataframe thead th {\n",
              "        text-align: right;\n",
              "    }\n",
              "</style>\n",
              "<table border=\"1\" class=\"dataframe\">\n",
              "  <thead>\n",
              "    <tr style=\"text-align: right;\">\n",
              "      <th></th>\n",
              "      <th>complex</th>\n",
              "      <th>simple</th>\n",
              "      <th>complex_NER</th>\n",
              "      <th>simple_NER</th>\n",
              "      <th>co_occur_NER</th>\n",
              "      <th>complex_read_level</th>\n",
              "      <th>complex_words</th>\n",
              "      <th>simple_read_level</th>\n",
              "      <th>simple_words</th>\n",
              "    </tr>\n",
              "  </thead>\n",
              "  <tbody>\n",
              "    <tr>\n",
              "      <th>0</th>\n",
              "      <td>There is manuscript evidence that Austen conti...</td>\n",
              "      <td>There is some proof that Austen continued to w...</td>\n",
              "      <td>[James Edward Austen, the period 1809, Anna, 1...</td>\n",
              "      <td>[James Edward, Anna Austen, 1814]</td>\n",
              "      <td>[James Edward, Austen, Anna, 1814]</td>\n",
              "      <td>C1</td>\n",
              "      <td>[{'id': 1, 'text': 'There', 'start_idx': 0, 'e...</td>\n",
              "      <td>B2</td>\n",
              "      <td>[{'id': 1, 'text': 'There', 'start_idx': 0, 'e...</td>\n",
              "    </tr>\n",
              "    <tr>\n",
              "      <th>1</th>\n",
              "      <td>In a remarkable comparative analysis, Mandaean...</td>\n",
              "      <td>Mandaean scholar Säve-Söderberg showed that Ma...</td>\n",
              "      <td>[Psalms of Thomas, Säve-Söderberg, Mani's Psal...</td>\n",
              "      <td>[Psalms of Thomas, Säve-Söderberg, Mani's Psal...</td>\n",
              "      <td>[Psalms of Thomas, Säve-Söderberg, Mani's Psal...</td>\n",
              "      <td>B2</td>\n",
              "      <td>[{'id': 1, 'text': 'In', 'start_idx': 0, 'end_...</td>\n",
              "      <td>B2</td>\n",
              "      <td>[{'id': 1, 'text': 'Mandaean', 'start_idx': 0,...</td>\n",
              "    </tr>\n",
              "    <tr>\n",
              "      <th>2</th>\n",
              "      <td>Before Persephone was released to Hermes, who ...</td>\n",
              "      <td>When Demeter went to the Underworld to rescue ...</td>\n",
              "      <td>[a period each year, six or three, Persephone,...</td>\n",
              "      <td>[Underworld, Persephone, Demeter, Hades]</td>\n",
              "      <td>[Persephone, underworld, Hades]</td>\n",
              "      <td>B2</td>\n",
              "      <td>[{'id': 1, 'text': 'Before', 'start_idx': 0, '...</td>\n",
              "      <td>C1</td>\n",
              "      <td>[{'id': 1, 'text': 'When', 'start_idx': 0, 'en...</td>\n",
              "    </tr>\n",
              "    <tr>\n",
              "      <th>3</th>\n",
              "      <td>Cogeneration plants are commonly found in dist...</td>\n",
              "      <td>Cogeneration plants are commonly found in dist...</td>\n",
              "      <td>[Cogeneration]</td>\n",
              "      <td>[Cogeneration]</td>\n",
              "      <td>[Cogeneration]</td>\n",
              "      <td>B2</td>\n",
              "      <td>[{'id': 1, 'text': 'Cogeneration', 'start_idx'...</td>\n",
              "      <td>B2</td>\n",
              "      <td>[{'id': 1, 'text': 'Cogeneration', 'start_idx'...</td>\n",
              "    </tr>\n",
              "    <tr>\n",
              "      <th>4</th>\n",
              "      <td>Geneva (,;,;,;;) is the second-most-populous c...</td>\n",
              "      <td>The city's main newspaper is the Tribune de Ge...</td>\n",
              "      <td>[Switzerland, Romandie, Geneva, second, Zürich...</td>\n",
              "      <td>[the Tribune de Genève, 1 February 1879, James...</td>\n",
              "      <td>[city]</td>\n",
              "      <td>B1</td>\n",
              "      <td>[{'id': 1, 'text': 'Geneva', 'start_idx': 0, '...</td>\n",
              "      <td>C1</td>\n",
              "      <td>[{'id': 1, 'text': 'The', 'start_idx': 0, 'end...</td>\n",
              "    </tr>\n",
              "    <tr>\n",
              "      <th>...</th>\n",
              "      <td>...</td>\n",
              "      <td>...</td>\n",
              "      <td>...</td>\n",
              "      <td>...</td>\n",
              "      <td>...</td>\n",
              "      <td>...</td>\n",
              "      <td>...</td>\n",
              "      <td>...</td>\n",
              "      <td>...</td>\n",
              "    </tr>\n",
              "    <tr>\n",
              "      <th>249161</th>\n",
              "      <td>These structures form at the high-pressure dep...</td>\n",
              "      <td>These structures form at the high-pressure dep...</td>\n",
              "      <td>[Lake Vostok]</td>\n",
              "      <td>[Lake Vostok]</td>\n",
              "      <td>[Lake Vostok]</td>\n",
              "      <td>C2</td>\n",
              "      <td>[{'id': 1, 'text': 'These', 'start_idx': 0, 'e...</td>\n",
              "      <td>C2</td>\n",
              "      <td>[{'id': 1, 'text': 'These', 'start_idx': 0, 'e...</td>\n",
              "    </tr>\n",
              "    <tr>\n",
              "      <th>249162</th>\n",
              "      <td>Saint-Maixant is a commune in the Gironde depa...</td>\n",
              "      <td>Saint-Maixant, Gironde is a commune. It is fou...</td>\n",
              "      <td>[Saint-Maixant, Aquitaine in, Gironde, France]</td>\n",
              "      <td>[Aquitaine in the Gironde, Saint-Maixant, France]</td>\n",
              "      <td>[ne in the Gironde, Saint-Maixant, Aquitaine i...</td>\n",
              "      <td>C2</td>\n",
              "      <td>[{'id': 1, 'text': 'Saint', 'start_idx': 0, 'e...</td>\n",
              "      <td>C2</td>\n",
              "      <td>[{'id': 1, 'text': 'Saint', 'start_idx': 0, 'e...</td>\n",
              "    </tr>\n",
              "    <tr>\n",
              "      <th>249163</th>\n",
              "      <td>The Hollywood Walk of Fame is a series of side...</td>\n",
              "      <td>There are many stars on the sidewalk.</td>\n",
              "      <td>[Vine Street in Hollywood, Hollywood Walk of F...</td>\n",
              "      <td>[]</td>\n",
              "      <td>[walk]</td>\n",
              "      <td>B2</td>\n",
              "      <td>[{'id': 1, 'text': 'The', 'start_idx': 0, 'end...</td>\n",
              "      <td>A1</td>\n",
              "      <td>[{'id': 1, 'text': 'There', 'start_idx': 0, 'e...</td>\n",
              "    </tr>\n",
              "    <tr>\n",
              "      <th>249164</th>\n",
              "      <td>Boulogne-Billancourt is the most populous subu...</td>\n",
              "      <td>Consequently, Boulogne-Billancourt is one of t...</td>\n",
              "      <td>[Boulogne-Billancourt, Europe, Paris, one]</td>\n",
              "      <td>[Boulogne-Billancourt, Europe]</td>\n",
              "      <td>[Boulogne-Billancourt, Europe]</td>\n",
              "      <td>C1</td>\n",
              "      <td>[{'id': 1, 'text': 'Boulogne', 'start_idx': 0,...</td>\n",
              "      <td>C2</td>\n",
              "      <td>[{'id': 1, 'text': 'Consequently', 'start_idx'...</td>\n",
              "    </tr>\n",
              "    <tr>\n",
              "      <th>249165</th>\n",
              "      <td>Overall, Juventus have won 51 official competi...</td>\n",
              "      <td>The club is the most successful team in the hi...</td>\n",
              "      <td>[the national First Division, Juventus, Europe...</td>\n",
              "      <td>[European, Italian, Italy, club, 51, 40, 11]</td>\n",
              "      <td>[European, Italian, club, 51, 40, 11]</td>\n",
              "      <td>C2</td>\n",
              "      <td>[{'id': 1, 'text': 'Overall', 'start_idx': 0, ...</td>\n",
              "      <td>A2</td>\n",
              "      <td>[{'id': 1, 'text': 'The', 'start_idx': 0, 'end...</td>\n",
              "    </tr>\n",
              "  </tbody>\n",
              "</table>\n",
              "<p>249166 rows × 9 columns</p>\n",
              "</div>"
            ],
            "text/plain": [
              "                                                  complex  ...                                       simple_words\n",
              "0       There is manuscript evidence that Austen conti...  ...  [{'id': 1, 'text': 'There', 'start_idx': 0, 'e...\n",
              "1       In a remarkable comparative analysis, Mandaean...  ...  [{'id': 1, 'text': 'Mandaean', 'start_idx': 0,...\n",
              "2       Before Persephone was released to Hermes, who ...  ...  [{'id': 1, 'text': 'When', 'start_idx': 0, 'en...\n",
              "3       Cogeneration plants are commonly found in dist...  ...  [{'id': 1, 'text': 'Cogeneration', 'start_idx'...\n",
              "4       Geneva (,;,;,;;) is the second-most-populous c...  ...  [{'id': 1, 'text': 'The', 'start_idx': 0, 'end...\n",
              "...                                                   ...  ...                                                ...\n",
              "249161  These structures form at the high-pressure dep...  ...  [{'id': 1, 'text': 'These', 'start_idx': 0, 'e...\n",
              "249162  Saint-Maixant is a commune in the Gironde depa...  ...  [{'id': 1, 'text': 'Saint', 'start_idx': 0, 'e...\n",
              "249163  The Hollywood Walk of Fame is a series of side...  ...  [{'id': 1, 'text': 'There', 'start_idx': 0, 'e...\n",
              "249164  Boulogne-Billancourt is the most populous subu...  ...  [{'id': 1, 'text': 'Consequently', 'start_idx'...\n",
              "249165  Overall, Juventus have won 51 official competi...  ...  [{'id': 1, 'text': 'The', 'start_idx': 0, 'end...\n",
              "\n",
              "[249166 rows x 9 columns]"
            ]
          },
          "metadata": {},
          "execution_count": 104
        }
      ]
    },
    {
      "cell_type": "code",
      "metadata": {
        "colab": {
          "base_uri": "https://localhost:8080/",
          "height": 17
        },
        "id": "fHN7clZvN1VD",
        "outputId": "de3bd0f0-c9ac-4894-f48e-573cf0a4cc17"
      },
      "source": [
        "def get_word_lists(row,difficulty_level_list_like):\n",
        "  C2_word_list = []\n",
        "  # print(row['complex'])\n",
        "  # print(row['complex_words'])\n",
        "  if not isinstance(row['complex_words'], float):\n",
        "\n",
        "    for words in row['complex_words']:\n",
        "      # print(words['read_level'],words['text'])\n",
        "      if words['read_level'] in difficulty_level_list_like:\n",
        "        # print(words['text'])\n",
        "        if words['text'].lower() not in row['simple'].lower():\n",
        "          \n",
        "          if all(words['text'] not in x for x in row['complex_NER']):\n",
        "            C2_word_list.append(words['text'])\n",
        "\n",
        "  if len(C2_word_list) >= 1:\n",
        "    return C2_word_list\n",
        "  else:\n",
        "    return np.nan"
      ],
      "id": "fHN7clZvN1VD",
      "execution_count": null,
      "outputs": [
        {
          "output_type": "display_data",
          "data": {
            "text/html": [
              "\n",
              "  <style>\n",
              "    pre {\n",
              "        white-space: pre-wrap;\n",
              "    }\n",
              "  </style>\n",
              "  "
            ],
            "text/plain": [
              "<IPython.core.display.HTML object>"
            ]
          },
          "metadata": {}
        }
      ]
    },
    {
      "cell_type": "code",
      "metadata": {
        "colab": {
          "base_uri": "https://localhost:8080/",
          "height": 17
        },
        "id": "pVoWkT2sN96y",
        "outputId": "72e6ed92-1d11-4a94-93ea-8fff757b9fb4"
      },
      "source": [
        "C2C1B2_word_lists = []\n",
        "for index,row in FINAL_df.iterrows():\n",
        "  # print(index)\n",
        "  C2C1B2_word_lists.append(get_word_lists(row,['C2','C1','B2']))"
      ],
      "id": "pVoWkT2sN96y",
      "execution_count": null,
      "outputs": [
        {
          "output_type": "display_data",
          "data": {
            "text/html": [
              "\n",
              "  <style>\n",
              "    pre {\n",
              "        white-space: pre-wrap;\n",
              "    }\n",
              "  </style>\n",
              "  "
            ],
            "text/plain": [
              "<IPython.core.display.HTML object>"
            ]
          },
          "metadata": {}
        }
      ]
    },
    {
      "cell_type": "code",
      "metadata": {
        "colab": {
          "base_uri": "https://localhost:8080/",
          "height": 17
        },
        "id": "PJ-dLko3ZDvM",
        "outputId": "44603502-c079-4e4f-9164-cf50feb6ff9b"
      },
      "source": [
        "FINAL_df['C2C1B2_in_complex'] = C2C1B2_word_lists"
      ],
      "id": "PJ-dLko3ZDvM",
      "execution_count": null,
      "outputs": [
        {
          "output_type": "display_data",
          "data": {
            "text/html": [
              "\n",
              "  <style>\n",
              "    pre {\n",
              "        white-space: pre-wrap;\n",
              "    }\n",
              "  </style>\n",
              "  "
            ],
            "text/plain": [
              "<IPython.core.display.HTML object>"
            ]
          },
          "metadata": {}
        }
      ]
    },
    {
      "cell_type": "code",
      "metadata": {
        "colab": {
          "base_uri": "https://localhost:8080/",
          "height": 17
        },
        "id": "35NlyX6LY9In",
        "outputId": "2dcf509a-ee2f-43ca-8a16-d61a143066b9"
      },
      "source": [
        "C2C1B2_df = FINAL_df.drop(columns=['complex_words','simple_words']).dropna()"
      ],
      "id": "35NlyX6LY9In",
      "execution_count": null,
      "outputs": [
        {
          "output_type": "display_data",
          "data": {
            "text/html": [
              "\n",
              "  <style>\n",
              "    pre {\n",
              "        white-space: pre-wrap;\n",
              "    }\n",
              "  </style>\n",
              "  "
            ],
            "text/plain": [
              "<IPython.core.display.HTML object>"
            ]
          },
          "metadata": {}
        }
      ]
    },
    {
      "cell_type": "code",
      "metadata": {
        "colab": {
          "base_uri": "https://localhost:8080/",
          "height": 702
        },
        "id": "Vpren5MeaTzM",
        "outputId": "a2d1eea8-a75e-4a67-bc25-7a88dcb7c1e5"
      },
      "source": [
        "C2C1B2_df"
      ],
      "id": "Vpren5MeaTzM",
      "execution_count": null,
      "outputs": [
        {
          "output_type": "display_data",
          "data": {
            "text/html": [
              "\n",
              "  <style>\n",
              "    pre {\n",
              "        white-space: pre-wrap;\n",
              "    }\n",
              "  </style>\n",
              "  "
            ],
            "text/plain": [
              "<IPython.core.display.HTML object>"
            ]
          },
          "metadata": {}
        },
        {
          "output_type": "execute_result",
          "data": {
            "text/html": [
              "<div>\n",
              "<style scoped>\n",
              "    .dataframe tbody tr th:only-of-type {\n",
              "        vertical-align: middle;\n",
              "    }\n",
              "\n",
              "    .dataframe tbody tr th {\n",
              "        vertical-align: top;\n",
              "    }\n",
              "\n",
              "    .dataframe thead th {\n",
              "        text-align: right;\n",
              "    }\n",
              "</style>\n",
              "<table border=\"1\" class=\"dataframe\">\n",
              "  <thead>\n",
              "    <tr style=\"text-align: right;\">\n",
              "      <th></th>\n",
              "      <th>complex</th>\n",
              "      <th>simple</th>\n",
              "      <th>complex_NER</th>\n",
              "      <th>simple_NER</th>\n",
              "      <th>co_occur_NER</th>\n",
              "      <th>complex_read_level</th>\n",
              "      <th>simple_read_level</th>\n",
              "      <th>C2C1B2_in_complex</th>\n",
              "    </tr>\n",
              "  </thead>\n",
              "  <tbody>\n",
              "    <tr>\n",
              "      <th>0</th>\n",
              "      <td>There is manuscript evidence that Austen conti...</td>\n",
              "      <td>There is some proof that Austen continued to w...</td>\n",
              "      <td>[James Edward Austen, the period 1809, Anna, 1...</td>\n",
              "      <td>[James Edward, Anna Austen, 1814]</td>\n",
              "      <td>[James Edward, Austen, Anna, 1814]</td>\n",
              "      <td>C1</td>\n",
              "      <td>B2</td>\n",
              "      <td>[manuscript, evidence]</td>\n",
              "    </tr>\n",
              "    <tr>\n",
              "      <th>1</th>\n",
              "      <td>In a remarkable comparative analysis, Mandaean...</td>\n",
              "      <td>Mandaean scholar Säve-Söderberg showed that Ma...</td>\n",
              "      <td>[Psalms of Thomas, Säve-Söderberg, Mani's Psal...</td>\n",
              "      <td>[Psalms of Thomas, Säve-Söderberg, Mani's Psal...</td>\n",
              "      <td>[Psalms of Thomas, Säve-Söderberg, Mani's Psal...</td>\n",
              "      <td>B2</td>\n",
              "      <td>B2</td>\n",
              "      <td>[comparative, analysis]</td>\n",
              "    </tr>\n",
              "    <tr>\n",
              "      <th>2</th>\n",
              "      <td>Before Persephone was released to Hermes, who ...</td>\n",
              "      <td>When Demeter went to the Underworld to rescue ...</td>\n",
              "      <td>[a period each year, six or three, Persephone,...</td>\n",
              "      <td>[Underworld, Persephone, Demeter, Hades]</td>\n",
              "      <td>[Persephone, underworld, Hades]</td>\n",
              "      <td>B2</td>\n",
              "      <td>C1</td>\n",
              "      <td>[released, tricked]</td>\n",
              "    </tr>\n",
              "    <tr>\n",
              "      <th>4</th>\n",
              "      <td>Geneva (,;,;,;;) is the second-most-populous c...</td>\n",
              "      <td>The city's main newspaper is the Tribune de Ge...</td>\n",
              "      <td>[Switzerland, Romandie, Geneva, second, Zürich...</td>\n",
              "      <td>[the Tribune de Genève, 1 February 1879, James...</td>\n",
              "      <td>[city]</td>\n",
              "      <td>B1</td>\n",
              "      <td>C1</td>\n",
              "      <td>[populous, populous]</td>\n",
              "    </tr>\n",
              "    <tr>\n",
              "      <th>8</th>\n",
              "      <td>A scythe (Oxford English Dictionary, Oxford Un...</td>\n",
              "      <td>A scythe (, from Old English siðeOxford Englis...</td>\n",
              "      <td>[Oxford English Dictionary, Oxford University ...</td>\n",
              "      <td>[Oxford English Dictionary, Old English, 1933]</td>\n",
              "      <td>[Oxford English Dictionary, scythe, 1933]</td>\n",
              "      <td>C2</td>\n",
              "      <td>B2</td>\n",
              "      <td>[agricultural, reaping, crops, reaping, i.e.]</td>\n",
              "    </tr>\n",
              "    <tr>\n",
              "      <th>...</th>\n",
              "      <td>...</td>\n",
              "      <td>...</td>\n",
              "      <td>...</td>\n",
              "      <td>...</td>\n",
              "      <td>...</td>\n",
              "      <td>...</td>\n",
              "      <td>...</td>\n",
              "      <td>...</td>\n",
              "    </tr>\n",
              "    <tr>\n",
              "      <th>249157</th>\n",
              "      <td>Barbirolli won a scholarship to study at Trini...</td>\n",
              "      <td>Barbirolli won a scholarship to study at Trini...</td>\n",
              "      <td>[Sir John Barbirolli Collection of, the Royal ...</td>\n",
              "      <td>[the Royal Academy of Music, Trinity College o...</td>\n",
              "      <td>[the Royal Academy of Music, Trinity College o...</td>\n",
              "      <td>B1</td>\n",
              "      <td>A1</td>\n",
              "      <td>[archived]</td>\n",
              "    </tr>\n",
              "    <tr>\n",
              "      <th>249160</th>\n",
              "      <td>Operationally, the cyclone was first classifie...</td>\n",
              "      <td>On April 21, the subtropical cyclone became a ...</td>\n",
              "      <td>[the National Hurricane Center, Operationally]</td>\n",
              "      <td>[April 21]</td>\n",
              "      <td>[]</td>\n",
              "      <td>C2</td>\n",
              "      <td>A1</td>\n",
              "      <td>[classified]</td>\n",
              "    </tr>\n",
              "    <tr>\n",
              "      <th>249163</th>\n",
              "      <td>The Hollywood Walk of Fame is a series of side...</td>\n",
              "      <td>There are many stars on the sidewalk.</td>\n",
              "      <td>[Vine Street in Hollywood, Hollywood Walk of F...</td>\n",
              "      <td>[]</td>\n",
              "      <td>[walk]</td>\n",
              "      <td>B2</td>\n",
              "      <td>A1</td>\n",
              "      <td>[sidewalks, monument, achievement]</td>\n",
              "    </tr>\n",
              "    <tr>\n",
              "      <th>249164</th>\n",
              "      <td>Boulogne-Billancourt is the most populous subu...</td>\n",
              "      <td>Consequently, Boulogne-Billancourt is one of t...</td>\n",
              "      <td>[Boulogne-Billancourt, Europe, Paris, one]</td>\n",
              "      <td>[Boulogne-Billancourt, Europe]</td>\n",
              "      <td>[Boulogne-Billancourt, Europe]</td>\n",
              "      <td>C1</td>\n",
              "      <td>C2</td>\n",
              "      <td>[populous]</td>\n",
              "    </tr>\n",
              "    <tr>\n",
              "      <th>249165</th>\n",
              "      <td>Overall, Juventus have won 51 official competi...</td>\n",
              "      <td>The club is the most successful team in the hi...</td>\n",
              "      <td>[the national First Division, Juventus, Europe...</td>\n",
              "      <td>[European, Italian, Italy, club, 51, 40, 11]</td>\n",
              "      <td>[European, Italian, club, 51, 40, 11]</td>\n",
              "      <td>C2</td>\n",
              "      <td>A2</td>\n",
              "      <td>[making]</td>\n",
              "    </tr>\n",
              "  </tbody>\n",
              "</table>\n",
              "<p>128288 rows × 8 columns</p>\n",
              "</div>"
            ],
            "text/plain": [
              "                                                  complex  ...                              C2C1B2_in_complex\n",
              "0       There is manuscript evidence that Austen conti...  ...                         [manuscript, evidence]\n",
              "1       In a remarkable comparative analysis, Mandaean...  ...                        [comparative, analysis]\n",
              "2       Before Persephone was released to Hermes, who ...  ...                            [released, tricked]\n",
              "4       Geneva (,;,;,;;) is the second-most-populous c...  ...                           [populous, populous]\n",
              "8       A scythe (Oxford English Dictionary, Oxford Un...  ...  [agricultural, reaping, crops, reaping, i.e.]\n",
              "...                                                   ...  ...                                            ...\n",
              "249157  Barbirolli won a scholarship to study at Trini...  ...                                     [archived]\n",
              "249160  Operationally, the cyclone was first classifie...  ...                                   [classified]\n",
              "249163  The Hollywood Walk of Fame is a series of side...  ...             [sidewalks, monument, achievement]\n",
              "249164  Boulogne-Billancourt is the most populous subu...  ...                                     [populous]\n",
              "249165  Overall, Juventus have won 51 official competi...  ...                                       [making]\n",
              "\n",
              "[128288 rows x 8 columns]"
            ]
          },
          "metadata": {},
          "execution_count": 110
        }
      ]
    },
    {
      "cell_type": "code",
      "metadata": {
        "colab": {
          "base_uri": "https://localhost:8080/",
          "height": 17
        },
        "id": "A6kvCheWgrjT",
        "outputId": "f960ef69-8d0d-4257-8429-8d4167e834aa"
      },
      "source": [
        "with open('/content/drive/MyDrive/muss/qualitative/ABCD_train_C2C1B2_0911', 'wb') as fp:\n",
        "    pickle.dump(C2C1B2_df, fp)"
      ],
      "id": "A6kvCheWgrjT",
      "execution_count": null,
      "outputs": [
        {
          "output_type": "display_data",
          "data": {
            "text/html": [
              "\n",
              "  <style>\n",
              "    pre {\n",
              "        white-space: pre-wrap;\n",
              "    }\n",
              "  </style>\n",
              "  "
            ],
            "text/plain": [
              "<IPython.core.display.HTML object>"
            ]
          },
          "metadata": {}
        }
      ]
    },
    {
      "cell_type": "markdown",
      "metadata": {
        "id": "4t2p7g4FBc1G"
      },
      "source": [
        "## validation set"
      ],
      "id": "4t2p7g4FBc1G"
    },
    {
      "cell_type": "markdown",
      "metadata": {
        "id": "WlI9sRCauLuX"
      },
      "source": [
        "### obtain CERF level using Amplifi engine\n",
        "\n"
      ],
      "id": "WlI9sRCauLuX"
    },
    {
      "cell_type": "code",
      "metadata": {
        "id": "inss-_bhuLuZ"
      },
      "source": [
        "import requests\n",
        "import json\n",
        "import ast\n",
        "from multiprocessing import Pool\n"
      ],
      "id": "inss-_bhuLuZ",
      "execution_count": null,
      "outputs": []
    },
    {
      "cell_type": "code",
      "metadata": {
        "id": "b6X-dQR1uLub"
      },
      "source": [
        "# API\n",
        "url = #\n",
        "\n",
        "headers = {\n",
        "    'Content-Type': 'application/json',\n",
        "    'x-api-key' : #\n",
        "}"
      ],
      "id": "b6X-dQR1uLub",
      "execution_count": null,
      "outputs": []
    },
    {
      "cell_type": "code",
      "metadata": {
        "id": "dieFR9G0uLud"
      },
      "source": [
        "# request word level difficulty \n",
        "def get_data(text):\n",
        "    r1 = requests.request(\"POST\", url, headers=headers, data=json.dumps([{'id':'test','text':text}]))\n",
        "    a = r1.json()\n",
        "    return a"
      ],
      "id": "dieFR9G0uLud",
      "execution_count": null,
      "outputs": []
    },
    {
      "cell_type": "code",
      "metadata": {
        "id": "CUlqWV5yuLue"
      },
      "source": [
        "with Pool(5) as p:\n",
        "    result = p.map(get_data, valid_df['complex'])\n",
        "\n",
        "with open('/content/drive/MyDrive/muss/qualitative/valid_complex_ABCD', 'wb') as fp:\n",
        "    pickle.dump(result, fp)"
      ],
      "id": "CUlqWV5yuLue",
      "execution_count": null,
      "outputs": []
    },
    {
      "cell_type": "code",
      "metadata": {
        "id": "aOHnCgBEuLuf"
      },
      "source": [
        "with Pool(5) as p:\n",
        "    result = p.map(get_data, valid_df['simple'])\n",
        "\n",
        "with open('/content/drive/MyDrive/muss/qualitative/valid_simple_ABCD', 'wb') as fp:\n",
        "    pickle.dump(result, fp)"
      ],
      "id": "aOHnCgBEuLuf",
      "execution_count": null,
      "outputs": []
    },
    {
      "cell_type": "code",
      "metadata": {
        "id": "KD-FgqhquLuf",
        "colab": {
          "base_uri": "https://localhost:8080/",
          "height": 17
        },
        "outputId": "002d6ed0-0626-4a93-e4db-21502da07c65"
      },
      "source": [
        "with open('/content/drive/MyDrive/muss/qualitative/valid_complex_ABCD', 'rb') as f:\n",
        "    valid_complex_result = pickle.load(f)\n",
        "with open('/content/drive/MyDrive/muss/qualitative/valid_simple_ABCD', 'rb') as f:\n",
        "    valid_simple_result = pickle.load(f)"
      ],
      "id": "KD-FgqhquLuf",
      "execution_count": null,
      "outputs": [
        {
          "output_type": "display_data",
          "data": {
            "text/html": [
              "\n",
              "  <style>\n",
              "    pre {\n",
              "        white-space: pre-wrap;\n",
              "    }\n",
              "  </style>\n",
              "  "
            ],
            "text/plain": [
              "<IPython.core.display.HTML object>"
            ]
          },
          "metadata": {}
        }
      ]
    },
    {
      "cell_type": "code",
      "metadata": {
        "id": "sSw0S1G2uLuf",
        "colab": {
          "base_uri": "https://localhost:8080/",
          "height": 17
        },
        "outputId": "f18b8a56-a371-490f-97fa-a4c4cb76e754"
      },
      "source": [
        "# combine complex and simple sentences word difficulty level \n",
        "from pandas import json_normalize\n",
        "\n",
        "def process_file(f):\n",
        "  jsonObj = json.loads(f)\n",
        "  return json_normalize(jsonObj)"
      ],
      "id": "sSw0S1G2uLuf",
      "execution_count": null,
      "outputs": [
        {
          "output_type": "display_data",
          "data": {
            "text/html": [
              "\n",
              "  <style>\n",
              "    pre {\n",
              "        white-space: pre-wrap;\n",
              "    }\n",
              "  </style>\n",
              "  "
            ],
            "text/plain": [
              "<IPython.core.display.HTML object>"
            ]
          },
          "metadata": {}
        }
      ]
    },
    {
      "cell_type": "code",
      "metadata": {
        "id": "k0l2Md_QuLuj"
      },
      "source": [
        "frames = []\n",
        "\n",
        "# normalise data if the complex senetnce does not has a corsresponidng result\n",
        "for i in range(len(valid_complex_result)):\n",
        "\n",
        "  if 'body' not in valid_complex_result[i].keys():\n",
        "    print('error',i)\n",
        "    tmp = process_file(valid_complex_result[i-1]['body'])\n",
        "    tmp.loc[:] = np.nan\n",
        "    frames.append(tmp)\n",
        "  else:\n",
        "    frames.append(process_file(valid_complex_result[i]['body']))\n",
        "\n",
        "valid_complex_df = pd.concat(frames)\n",
        "\n",
        "with open('/content/drive/MyDrive/muss/qualitative/ABCD_valid_complex', 'wb') as fp:\n",
        "    pickle.dump(valid_complex_df, fp)    "
      ],
      "id": "k0l2Md_QuLuj",
      "execution_count": null,
      "outputs": []
    },
    {
      "cell_type": "code",
      "metadata": {
        "id": "nUdZUu2nuLuj"
      },
      "source": [
        "frames = []\n",
        "\n",
        "for i in range(len(valid_simple_result)):\n",
        "\n",
        "  if 'body' not in valid_simple_result[i].keys():\n",
        "    print('error',i)\n",
        "    tmp = process_file(valid_simple_result[i-1]['body'])\n",
        "    tmp.loc[:] = np.nan\n",
        "    frames.append(tmp)\n",
        "  else:\n",
        "    frames.append(process_file(valid_simple_result[i]['body']))\n",
        "\n",
        "valid_simple_df = pd.concat(frames)\n",
        "\n",
        "with open('/content/drive/MyDrive/muss/qualitative/ABCD_valid_simple', 'wb') as fp:\n",
        "    pickle.dump(valid_simple_df, fp)    "
      ],
      "id": "nUdZUu2nuLuj",
      "execution_count": null,
      "outputs": []
    },
    {
      "cell_type": "code",
      "metadata": {
        "colab": {
          "base_uri": "https://localhost:8080/",
          "height": 17
        },
        "id": "CnTtT5nauLuj",
        "outputId": "f4b44564-410c-41a1-d6e6-b00f21cbb149"
      },
      "source": [
        "with open('/content/drive/MyDrive/muss/qualitative/ABCD_valid_complex', 'rb') as f:\n",
        "    valid_complex_df = pickle.load(f)\n",
        "with open('/content/drive/MyDrive/muss/qualitative/ABCD_valid_simple', 'rb') as f:\n",
        "    valid_simple_df = pickle.load(f)\n",
        "    "
      ],
      "id": "CnTtT5nauLuj",
      "execution_count": null,
      "outputs": [
        {
          "output_type": "display_data",
          "data": {
            "text/html": [
              "\n",
              "  <style>\n",
              "    pre {\n",
              "        white-space: pre-wrap;\n",
              "    }\n",
              "  </style>\n",
              "  "
            ],
            "text/plain": [
              "<IPython.core.display.HTML object>"
            ]
          },
          "metadata": {}
        }
      ]
    },
    {
      "cell_type": "code",
      "metadata": {
        "colab": {
          "base_uri": "https://localhost:8080/",
          "height": 424
        },
        "id": "Nrp4wYIiuLuj",
        "outputId": "7f714182-df2d-41cf-f739-80d3e86404c9"
      },
      "source": [
        "new_valid_complex_df = valid_complex_df.drop(columns=['id','read.A1','read.B1','read.B2','read.C1','read.overall']).add_prefix('complex_')\n",
        "new_valid_simple_df = valid_simple_df.drop(columns=['id','read.A1','read.B1','read.B2','read.C1','read.overall']).add_prefix('simple_')\n",
        "combined_df = pd.concat([new_valid_complex_df, new_valid_simple_df], axis=1).reset_index().drop(columns='index')\n",
        "combined_df"
      ],
      "id": "Nrp4wYIiuLuj",
      "execution_count": null,
      "outputs": [
        {
          "output_type": "display_data",
          "data": {
            "text/html": [
              "\n",
              "  <style>\n",
              "    pre {\n",
              "        white-space: pre-wrap;\n",
              "    }\n",
              "  </style>\n",
              "  "
            ],
            "text/plain": [
              "<IPython.core.display.HTML object>"
            ]
          },
          "metadata": {}
        },
        {
          "output_type": "execute_result",
          "data": {
            "text/html": [
              "<div>\n",
              "<style scoped>\n",
              "    .dataframe tbody tr th:only-of-type {\n",
              "        vertical-align: middle;\n",
              "    }\n",
              "\n",
              "    .dataframe tbody tr th {\n",
              "        vertical-align: top;\n",
              "    }\n",
              "\n",
              "    .dataframe thead th {\n",
              "        text-align: right;\n",
              "    }\n",
              "</style>\n",
              "<table border=\"1\" class=\"dataframe\">\n",
              "  <thead>\n",
              "    <tr style=\"text-align: right;\">\n",
              "      <th></th>\n",
              "      <th>complex_read_level</th>\n",
              "      <th>complex_words</th>\n",
              "      <th>simple_read_level</th>\n",
              "      <th>simple_words</th>\n",
              "    </tr>\n",
              "  </thead>\n",
              "  <tbody>\n",
              "    <tr>\n",
              "      <th>0</th>\n",
              "      <td>C1</td>\n",
              "      <td>[{'id': 1, 'text': 'Upper', 'start_idx': 0, 'e...</td>\n",
              "      <td>C1</td>\n",
              "      <td>[{'id': 1, 'text': 'There', 'start_idx': 0, 'e...</td>\n",
              "    </tr>\n",
              "    <tr>\n",
              "      <th>1</th>\n",
              "      <td>A1</td>\n",
              "      <td>[{'id': 1, 'text': 'It', 'start_idx': 0, 'end_...</td>\n",
              "      <td>B1</td>\n",
              "      <td>[{'id': 1, 'text': 'It', 'start_idx': 0, 'end_...</td>\n",
              "    </tr>\n",
              "    <tr>\n",
              "      <th>2</th>\n",
              "      <td>A1</td>\n",
              "      <td>[{'id': 1, 'text': 'Relation', 'start_idx': 0,...</td>\n",
              "      <td>C2</td>\n",
              "      <td>[{'id': 1, 'text': 'The', 'start_idx': 0, 'end...</td>\n",
              "    </tr>\n",
              "    <tr>\n",
              "      <th>3</th>\n",
              "      <td>C1</td>\n",
              "      <td>[{'id': 1, 'text': 'A', 'start_idx': 0, 'end_i...</td>\n",
              "      <td>A1</td>\n",
              "      <td>[{'id': 1, 'text': 'A', 'start_idx': 0, 'end_i...</td>\n",
              "    </tr>\n",
              "    <tr>\n",
              "      <th>4</th>\n",
              "      <td>B1</td>\n",
              "      <td>[{'id': 1, 'text': 'Of', 'start_idx': 0, 'end_...</td>\n",
              "      <td>A1</td>\n",
              "      <td>[{'id': 1, 'text': 'The', 'start_idx': 0, 'end...</td>\n",
              "    </tr>\n",
              "    <tr>\n",
              "      <th>...</th>\n",
              "      <td>...</td>\n",
              "      <td>...</td>\n",
              "      <td>...</td>\n",
              "      <td>...</td>\n",
              "    </tr>\n",
              "    <tr>\n",
              "      <th>812</th>\n",
              "      <td>A1</td>\n",
              "      <td>[{'id': 1, 'text': 'Sedimentary', 'start_idx':...</td>\n",
              "      <td>A1</td>\n",
              "      <td>[{'id': 1, 'text': 'Other', 'start_idx': 0, 'e...</td>\n",
              "    </tr>\n",
              "    <tr>\n",
              "      <th>813</th>\n",
              "      <td>B2</td>\n",
              "      <td>[{'id': 1, 'text': '\"', 'start_idx': 0, 'end_i...</td>\n",
              "      <td>B1</td>\n",
              "      <td>[{'id': 1, 'text': '\"', 'start_idx': 0, 'end_i...</td>\n",
              "    </tr>\n",
              "    <tr>\n",
              "      <th>814</th>\n",
              "      <td>C1</td>\n",
              "      <td>[{'id': 1, 'text': 'East', 'start_idx': 0, 'en...</td>\n",
              "      <td>C2</td>\n",
              "      <td>[{'id': 1, 'text': 'The', 'start_idx': 0, 'end...</td>\n",
              "    </tr>\n",
              "    <tr>\n",
              "      <th>815</th>\n",
              "      <td>C2</td>\n",
              "      <td>[{'id': 1, 'text': 'Certain', 'start_idx': 0, ...</td>\n",
              "      <td>C2</td>\n",
              "      <td>[{'id': 1, 'text': 'Certain', 'start_idx': 0, ...</td>\n",
              "    </tr>\n",
              "    <tr>\n",
              "      <th>816</th>\n",
              "      <td>A2</td>\n",
              "      <td>[{'id': 1, 'text': 'One', 'start_idx': 0, 'end...</td>\n",
              "      <td>C1</td>\n",
              "      <td>[{'id': 1, 'text': 'The', 'start_idx': 0, 'end...</td>\n",
              "    </tr>\n",
              "  </tbody>\n",
              "</table>\n",
              "<p>817 rows × 4 columns</p>\n",
              "</div>"
            ],
            "text/plain": [
              "    complex_read_level  ...                                       simple_words\n",
              "0                   C1  ...  [{'id': 1, 'text': 'There', 'start_idx': 0, 'e...\n",
              "1                   A1  ...  [{'id': 1, 'text': 'It', 'start_idx': 0, 'end_...\n",
              "2                   A1  ...  [{'id': 1, 'text': 'The', 'start_idx': 0, 'end...\n",
              "3                   C1  ...  [{'id': 1, 'text': 'A', 'start_idx': 0, 'end_i...\n",
              "4                   B1  ...  [{'id': 1, 'text': 'The', 'start_idx': 0, 'end...\n",
              "..                 ...  ...                                                ...\n",
              "812                 A1  ...  [{'id': 1, 'text': 'Other', 'start_idx': 0, 'e...\n",
              "813                 B2  ...  [{'id': 1, 'text': '\"', 'start_idx': 0, 'end_i...\n",
              "814                 C1  ...  [{'id': 1, 'text': 'The', 'start_idx': 0, 'end...\n",
              "815                 C2  ...  [{'id': 1, 'text': 'Certain', 'start_idx': 0, ...\n",
              "816                 A2  ...  [{'id': 1, 'text': 'The', 'start_idx': 0, 'end...\n",
              "\n",
              "[817 rows x 4 columns]"
            ]
          },
          "metadata": {},
          "execution_count": 122
        }
      ]
    },
    {
      "cell_type": "markdown",
      "metadata": {
        "id": "QAmCOQovkopo"
      },
      "source": [
        "### find C1+C2+B2 words"
      ],
      "id": "QAmCOQovkopo"
    },
    {
      "cell_type": "code",
      "metadata": {
        "colab": {
          "base_uri": "https://localhost:8080/",
          "height": 424
        },
        "id": "xcQG3VKwkops",
        "outputId": "687c8318-49c9-492d-a152-e3bf5f4d0040"
      },
      "source": [
        "sentence_df = valid_df.drop(columns=['level_0','index','complex_NER','simple_NER','co_occur_NER'])\n",
        "sentence_df"
      ],
      "id": "xcQG3VKwkops",
      "execution_count": null,
      "outputs": [
        {
          "output_type": "display_data",
          "data": {
            "text/html": [
              "\n",
              "  <style>\n",
              "    pre {\n",
              "        white-space: pre-wrap;\n",
              "    }\n",
              "  </style>\n",
              "  "
            ],
            "text/plain": [
              "<IPython.core.display.HTML object>"
            ]
          },
          "metadata": {}
        },
        {
          "output_type": "execute_result",
          "data": {
            "text/html": [
              "<div>\n",
              "<style scoped>\n",
              "    .dataframe tbody tr th:only-of-type {\n",
              "        vertical-align: middle;\n",
              "    }\n",
              "\n",
              "    .dataframe tbody tr th {\n",
              "        vertical-align: top;\n",
              "    }\n",
              "\n",
              "    .dataframe thead th {\n",
              "        text-align: right;\n",
              "    }\n",
              "</style>\n",
              "<table border=\"1\" class=\"dataframe\">\n",
              "  <thead>\n",
              "    <tr style=\"text-align: right;\">\n",
              "      <th></th>\n",
              "      <th>complex</th>\n",
              "      <th>simple</th>\n",
              "    </tr>\n",
              "  </thead>\n",
              "  <tbody>\n",
              "    <tr>\n",
              "      <th>0</th>\n",
              "      <td>Upper Sorbian is a minority language spoken by...</td>\n",
              "      <td>There are around 40,000 speakers of Upper Sorb...</td>\n",
              "    </tr>\n",
              "    <tr>\n",
              "      <th>1</th>\n",
              "      <td>It used to be on display as part of the Americ...</td>\n",
              "      <td>It is on permanent display as part of the Amer...</td>\n",
              "    </tr>\n",
              "    <tr>\n",
              "      <th>2</th>\n",
              "      <td>Relation to the Nobel Prize The Sveriges Riksb...</td>\n",
              "      <td>The Sveriges Riksbank Prize in Economic Scienc...</td>\n",
              "    </tr>\n",
              "    <tr>\n",
              "      <th>3</th>\n",
              "      <td>A shoe is an item of footwear evolved at first...</td>\n",
              "      <td>A shoe is also an item of clothing.</td>\n",
              "    </tr>\n",
              "    <tr>\n",
              "      <th>4</th>\n",
              "      <td>Of the eleven tropical cyclones that formed du...</td>\n",
              "      <td>The season officially started on May 15, 1995 ...</td>\n",
              "    </tr>\n",
              "    <tr>\n",
              "      <th>...</th>\n",
              "      <td>...</td>\n",
              "      <td>...</td>\n",
              "    </tr>\n",
              "    <tr>\n",
              "      <th>812</th>\n",
              "      <td>Sedimentary rock is one of the three main rock...</td>\n",
              "      <td>Other types of rock are igneous rock and metam...</td>\n",
              "    </tr>\n",
              "    <tr>\n",
              "      <th>813</th>\n",
              "      <td>\"It took more than 60 years after 1859 until t...</td>\n",
              "      <td>\"It took more than 60 years after 1859 until t...</td>\n",
              "    </tr>\n",
              "    <tr>\n",
              "      <th>814</th>\n",
              "      <td>East Timor, also known as Timor-Leste (Tetum: ...</td>\n",
              "      <td>The Democratic Republic of East Timor or Timor...</td>\n",
              "    </tr>\n",
              "    <tr>\n",
              "      <th>815</th>\n",
              "      <td>Certain artistic traditions that originated in...</td>\n",
              "      <td>Certain traditions that originated in the Byza...</td>\n",
              "    </tr>\n",
              "    <tr>\n",
              "      <th>816</th>\n",
              "      <td>One of the largest of the Classic Maya cities,...</td>\n",
              "      <td>The ruins are on lowland rainforest, but Tikal...</td>\n",
              "    </tr>\n",
              "  </tbody>\n",
              "</table>\n",
              "<p>817 rows × 2 columns</p>\n",
              "</div>"
            ],
            "text/plain": [
              "                                               complex                                             simple\n",
              "0    Upper Sorbian is a minority language spoken by...  There are around 40,000 speakers of Upper Sorb...\n",
              "1    It used to be on display as part of the Americ...  It is on permanent display as part of the Amer...\n",
              "2    Relation to the Nobel Prize The Sveriges Riksb...  The Sveriges Riksbank Prize in Economic Scienc...\n",
              "3    A shoe is an item of footwear evolved at first...                A shoe is also an item of clothing.\n",
              "4    Of the eleven tropical cyclones that formed du...  The season officially started on May 15, 1995 ...\n",
              "..                                                 ...                                                ...\n",
              "812  Sedimentary rock is one of the three main rock...  Other types of rock are igneous rock and metam...\n",
              "813  \"It took more than 60 years after 1859 until t...  \"It took more than 60 years after 1859 until t...\n",
              "814  East Timor, also known as Timor-Leste (Tetum: ...  The Democratic Republic of East Timor or Timor...\n",
              "815  Certain artistic traditions that originated in...  Certain traditions that originated in the Byza...\n",
              "816  One of the largest of the Classic Maya cities,...  The ruins are on lowland rainforest, but Tikal...\n",
              "\n",
              "[817 rows x 2 columns]"
            ]
          },
          "metadata": {},
          "execution_count": 119
        }
      ]
    },
    {
      "cell_type": "code",
      "metadata": {
        "colab": {
          "base_uri": "https://localhost:8080/",
          "height": 597
        },
        "id": "1SnMq8Vpkop0",
        "outputId": "1882f3ec-bb0a-4907-f88f-6ba273999757"
      },
      "source": [
        "FINAL_df = pd.concat([sentence_df, combined_df], axis=1)\n",
        "FINAL_df = FINAL_df[FINAL_df['complex_words'].notna()][FINAL_df['simple_words'].notna()]\n",
        "FINAL_df"
      ],
      "id": "1SnMq8Vpkop0",
      "execution_count": null,
      "outputs": [
        {
          "output_type": "display_data",
          "data": {
            "text/html": [
              "\n",
              "  <style>\n",
              "    pre {\n",
              "        white-space: pre-wrap;\n",
              "    }\n",
              "  </style>\n",
              "  "
            ],
            "text/plain": [
              "<IPython.core.display.HTML object>"
            ]
          },
          "metadata": {}
        },
        {
          "output_type": "execute_result",
          "data": {
            "text/html": [
              "<div>\n",
              "<style scoped>\n",
              "    .dataframe tbody tr th:only-of-type {\n",
              "        vertical-align: middle;\n",
              "    }\n",
              "\n",
              "    .dataframe tbody tr th {\n",
              "        vertical-align: top;\n",
              "    }\n",
              "\n",
              "    .dataframe thead th {\n",
              "        text-align: right;\n",
              "    }\n",
              "</style>\n",
              "<table border=\"1\" class=\"dataframe\">\n",
              "  <thead>\n",
              "    <tr style=\"text-align: right;\">\n",
              "      <th></th>\n",
              "      <th>complex</th>\n",
              "      <th>simple</th>\n",
              "      <th>complex_read_level</th>\n",
              "      <th>complex_words</th>\n",
              "      <th>simple_read_level</th>\n",
              "      <th>simple_words</th>\n",
              "    </tr>\n",
              "  </thead>\n",
              "  <tbody>\n",
              "    <tr>\n",
              "      <th>0</th>\n",
              "      <td>Upper Sorbian is a minority language spoken by...</td>\n",
              "      <td>There are around 40,000 speakers of Upper Sorb...</td>\n",
              "      <td>C1</td>\n",
              "      <td>[{'id': 1, 'text': 'Upper', 'start_idx': 0, 'e...</td>\n",
              "      <td>C1</td>\n",
              "      <td>[{'id': 1, 'text': 'There', 'start_idx': 0, 'e...</td>\n",
              "    </tr>\n",
              "    <tr>\n",
              "      <th>1</th>\n",
              "      <td>It used to be on display as part of the Americ...</td>\n",
              "      <td>It is on permanent display as part of the Amer...</td>\n",
              "      <td>A1</td>\n",
              "      <td>[{'id': 1, 'text': 'It', 'start_idx': 0, 'end_...</td>\n",
              "      <td>B1</td>\n",
              "      <td>[{'id': 1, 'text': 'It', 'start_idx': 0, 'end_...</td>\n",
              "    </tr>\n",
              "    <tr>\n",
              "      <th>2</th>\n",
              "      <td>Relation to the Nobel Prize The Sveriges Riksb...</td>\n",
              "      <td>The Sveriges Riksbank Prize in Economic Scienc...</td>\n",
              "      <td>A1</td>\n",
              "      <td>[{'id': 1, 'text': 'Relation', 'start_idx': 0,...</td>\n",
              "      <td>C2</td>\n",
              "      <td>[{'id': 1, 'text': 'The', 'start_idx': 0, 'end...</td>\n",
              "    </tr>\n",
              "    <tr>\n",
              "      <th>3</th>\n",
              "      <td>A shoe is an item of footwear evolved at first...</td>\n",
              "      <td>A shoe is also an item of clothing.</td>\n",
              "      <td>C1</td>\n",
              "      <td>[{'id': 1, 'text': 'A', 'start_idx': 0, 'end_i...</td>\n",
              "      <td>A1</td>\n",
              "      <td>[{'id': 1, 'text': 'A', 'start_idx': 0, 'end_i...</td>\n",
              "    </tr>\n",
              "    <tr>\n",
              "      <th>4</th>\n",
              "      <td>Of the eleven tropical cyclones that formed du...</td>\n",
              "      <td>The season officially started on May 15, 1995 ...</td>\n",
              "      <td>B1</td>\n",
              "      <td>[{'id': 1, 'text': 'Of', 'start_idx': 0, 'end_...</td>\n",
              "      <td>A1</td>\n",
              "      <td>[{'id': 1, 'text': 'The', 'start_idx': 0, 'end...</td>\n",
              "    </tr>\n",
              "    <tr>\n",
              "      <th>...</th>\n",
              "      <td>...</td>\n",
              "      <td>...</td>\n",
              "      <td>...</td>\n",
              "      <td>...</td>\n",
              "      <td>...</td>\n",
              "      <td>...</td>\n",
              "    </tr>\n",
              "    <tr>\n",
              "      <th>812</th>\n",
              "      <td>Sedimentary rock is one of the three main rock...</td>\n",
              "      <td>Other types of rock are igneous rock and metam...</td>\n",
              "      <td>A1</td>\n",
              "      <td>[{'id': 1, 'text': 'Sedimentary', 'start_idx':...</td>\n",
              "      <td>A1</td>\n",
              "      <td>[{'id': 1, 'text': 'Other', 'start_idx': 0, 'e...</td>\n",
              "    </tr>\n",
              "    <tr>\n",
              "      <th>813</th>\n",
              "      <td>\"It took more than 60 years after 1859 until t...</td>\n",
              "      <td>\"It took more than 60 years after 1859 until t...</td>\n",
              "      <td>B2</td>\n",
              "      <td>[{'id': 1, 'text': '\"', 'start_idx': 0, 'end_i...</td>\n",
              "      <td>B1</td>\n",
              "      <td>[{'id': 1, 'text': '\"', 'start_idx': 0, 'end_i...</td>\n",
              "    </tr>\n",
              "    <tr>\n",
              "      <th>814</th>\n",
              "      <td>East Timor, also known as Timor-Leste (Tetum: ...</td>\n",
              "      <td>The Democratic Republic of East Timor or Timor...</td>\n",
              "      <td>C1</td>\n",
              "      <td>[{'id': 1, 'text': 'East', 'start_idx': 0, 'en...</td>\n",
              "      <td>C2</td>\n",
              "      <td>[{'id': 1, 'text': 'The', 'start_idx': 0, 'end...</td>\n",
              "    </tr>\n",
              "    <tr>\n",
              "      <th>815</th>\n",
              "      <td>Certain artistic traditions that originated in...</td>\n",
              "      <td>Certain traditions that originated in the Byza...</td>\n",
              "      <td>C2</td>\n",
              "      <td>[{'id': 1, 'text': 'Certain', 'start_idx': 0, ...</td>\n",
              "      <td>C2</td>\n",
              "      <td>[{'id': 1, 'text': 'Certain', 'start_idx': 0, ...</td>\n",
              "    </tr>\n",
              "    <tr>\n",
              "      <th>816</th>\n",
              "      <td>One of the largest of the Classic Maya cities,...</td>\n",
              "      <td>The ruins are on lowland rainforest, but Tikal...</td>\n",
              "      <td>A2</td>\n",
              "      <td>[{'id': 1, 'text': 'One', 'start_idx': 0, 'end...</td>\n",
              "      <td>C1</td>\n",
              "      <td>[{'id': 1, 'text': 'The', 'start_idx': 0, 'end...</td>\n",
              "    </tr>\n",
              "  </tbody>\n",
              "</table>\n",
              "<p>817 rows × 6 columns</p>\n",
              "</div>"
            ],
            "text/plain": [
              "                                               complex  ...                                       simple_words\n",
              "0    Upper Sorbian is a minority language spoken by...  ...  [{'id': 1, 'text': 'There', 'start_idx': 0, 'e...\n",
              "1    It used to be on display as part of the Americ...  ...  [{'id': 1, 'text': 'It', 'start_idx': 0, 'end_...\n",
              "2    Relation to the Nobel Prize The Sveriges Riksb...  ...  [{'id': 1, 'text': 'The', 'start_idx': 0, 'end...\n",
              "3    A shoe is an item of footwear evolved at first...  ...  [{'id': 1, 'text': 'A', 'start_idx': 0, 'end_i...\n",
              "4    Of the eleven tropical cyclones that formed du...  ...  [{'id': 1, 'text': 'The', 'start_idx': 0, 'end...\n",
              "..                                                 ...  ...                                                ...\n",
              "812  Sedimentary rock is one of the three main rock...  ...  [{'id': 1, 'text': 'Other', 'start_idx': 0, 'e...\n",
              "813  \"It took more than 60 years after 1859 until t...  ...  [{'id': 1, 'text': '\"', 'start_idx': 0, 'end_i...\n",
              "814  East Timor, also known as Timor-Leste (Tetum: ...  ...  [{'id': 1, 'text': 'The', 'start_idx': 0, 'end...\n",
              "815  Certain artistic traditions that originated in...  ...  [{'id': 1, 'text': 'Certain', 'start_idx': 0, ...\n",
              "816  One of the largest of the Classic Maya cities,...  ...  [{'id': 1, 'text': 'The', 'start_idx': 0, 'end...\n",
              "\n",
              "[817 rows x 6 columns]"
            ]
          },
          "metadata": {},
          "execution_count": 123
        }
      ]
    },
    {
      "cell_type": "code",
      "metadata": {
        "colab": {
          "base_uri": "https://localhost:8080/",
          "height": 771
        },
        "id": "HlqzJ81XkoqE",
        "outputId": "02418143-8ddd-4674-a002-7cbd30a6a562"
      },
      "source": [
        "FINAL_df = pd.concat([valid_df.drop(columns=['level_0','index']), FINAL_df.drop(columns=['complex','simple'])],axis=1)\n",
        "FINAL_df"
      ],
      "id": "HlqzJ81XkoqE",
      "execution_count": null,
      "outputs": [
        {
          "output_type": "display_data",
          "data": {
            "text/html": [
              "\n",
              "  <style>\n",
              "    pre {\n",
              "        white-space: pre-wrap;\n",
              "    }\n",
              "  </style>\n",
              "  "
            ],
            "text/plain": [
              "<IPython.core.display.HTML object>"
            ]
          },
          "metadata": {}
        },
        {
          "output_type": "execute_result",
          "data": {
            "text/html": [
              "<div>\n",
              "<style scoped>\n",
              "    .dataframe tbody tr th:only-of-type {\n",
              "        vertical-align: middle;\n",
              "    }\n",
              "\n",
              "    .dataframe tbody tr th {\n",
              "        vertical-align: top;\n",
              "    }\n",
              "\n",
              "    .dataframe thead th {\n",
              "        text-align: right;\n",
              "    }\n",
              "</style>\n",
              "<table border=\"1\" class=\"dataframe\">\n",
              "  <thead>\n",
              "    <tr style=\"text-align: right;\">\n",
              "      <th></th>\n",
              "      <th>complex</th>\n",
              "      <th>simple</th>\n",
              "      <th>complex_NER</th>\n",
              "      <th>simple_NER</th>\n",
              "      <th>co_occur_NER</th>\n",
              "      <th>complex_read_level</th>\n",
              "      <th>complex_words</th>\n",
              "      <th>simple_read_level</th>\n",
              "      <th>simple_words</th>\n",
              "    </tr>\n",
              "  </thead>\n",
              "  <tbody>\n",
              "    <tr>\n",
              "      <th>0</th>\n",
              "      <td>Upper Sorbian is a minority language spoken by...</td>\n",
              "      <td>There are around 40,000 speakers of Upper Sorb...</td>\n",
              "      <td>[Sorbs in Germany in the, Upper Sorbian, Upper...</td>\n",
              "      <td>[the European Charter for Regional or Minority...</td>\n",
              "      <td>[Upper Sorbian, in Germany, inority, Saxony]</td>\n",
              "      <td>C1</td>\n",
              "      <td>[{'id': 1, 'text': 'Upper', 'start_idx': 0, 'e...</td>\n",
              "      <td>C1</td>\n",
              "      <td>[{'id': 1, 'text': 'There', 'start_idx': 0, 'e...</td>\n",
              "    </tr>\n",
              "    <tr>\n",
              "      <th>1</th>\n",
              "      <td>It used to be on display as part of the Americ...</td>\n",
              "      <td>It is on permanent display as part of the Amer...</td>\n",
              "      <td>[Library of Congress in Washington, American T...</td>\n",
              "      <td>[Library of Congress in Washington, American T...</td>\n",
              "      <td>[Library of Congress in Washington, American T...</td>\n",
              "      <td>A1</td>\n",
              "      <td>[{'id': 1, 'text': 'It', 'start_idx': 0, 'end_...</td>\n",
              "      <td>B1</td>\n",
              "      <td>[{'id': 1, 'text': 'It', 'start_idx': 0, 'end_...</td>\n",
              "    </tr>\n",
              "    <tr>\n",
              "      <th>2</th>\n",
              "      <td>Relation to the Nobel Prize The Sveriges Riksb...</td>\n",
              "      <td>The Sveriges Riksbank Prize in Economic Scienc...</td>\n",
              "      <td>[Nobel Prize The Sveriges Riksbank Prize in Ec...</td>\n",
              "      <td>[Sveriges Riksbank Prize in Economic Sciences ...</td>\n",
              "      <td>[The Sveriges Riksbank Prize in Economic Scien...</td>\n",
              "      <td>A1</td>\n",
              "      <td>[{'id': 1, 'text': 'Relation', 'start_idx': 0,...</td>\n",
              "      <td>C2</td>\n",
              "      <td>[{'id': 1, 'text': 'The', 'start_idx': 0, 'end...</td>\n",
              "    </tr>\n",
              "    <tr>\n",
              "      <th>3</th>\n",
              "      <td>A shoe is an item of footwear evolved at first...</td>\n",
              "      <td>A shoe is also an item of clothing.</td>\n",
              "      <td>[first]</td>\n",
              "      <td>[]</td>\n",
              "      <td>[]</td>\n",
              "      <td>C1</td>\n",
              "      <td>[{'id': 1, 'text': 'A', 'start_idx': 0, 'end_i...</td>\n",
              "      <td>A1</td>\n",
              "      <td>[{'id': 1, 'text': 'A', 'start_idx': 0, 'end_i...</td>\n",
              "    </tr>\n",
              "    <tr>\n",
              "      <th>4</th>\n",
              "      <td>Of the eleven tropical cyclones that formed du...</td>\n",
              "      <td>The season officially started on May 15, 1995 ...</td>\n",
              "      <td>[Hurricane Ismael, at least 116, the season, e...</td>\n",
              "      <td>[the eastern Pacific, November 30, 1995, May 1...</td>\n",
              "      <td>[the season, the e]</td>\n",
              "      <td>B1</td>\n",
              "      <td>[{'id': 1, 'text': 'Of', 'start_idx': 0, 'end_...</td>\n",
              "      <td>A1</td>\n",
              "      <td>[{'id': 1, 'text': 'The', 'start_idx': 0, 'end...</td>\n",
              "    </tr>\n",
              "    <tr>\n",
              "      <th>...</th>\n",
              "      <td>...</td>\n",
              "      <td>...</td>\n",
              "      <td>...</td>\n",
              "      <td>...</td>\n",
              "      <td>...</td>\n",
              "      <td>...</td>\n",
              "      <td>...</td>\n",
              "      <td>...</td>\n",
              "      <td>...</td>\n",
              "    </tr>\n",
              "    <tr>\n",
              "      <th>812</th>\n",
              "      <td>Sedimentary rock is one of the three main rock...</td>\n",
              "      <td>Other types of rock are igneous rock and metam...</td>\n",
              "      <td>[Sedimentary, three, one]</td>\n",
              "      <td>[]</td>\n",
              "      <td>[]</td>\n",
              "      <td>A1</td>\n",
              "      <td>[{'id': 1, 'text': 'Sedimentary', 'start_idx':...</td>\n",
              "      <td>A1</td>\n",
              "      <td>[{'id': 1, 'text': 'Other', 'start_idx': 0, 'e...</td>\n",
              "    </tr>\n",
              "    <tr>\n",
              "      <th>813</th>\n",
              "      <td>\"It took more than 60 years after 1859 until t...</td>\n",
              "      <td>\"It took more than 60 years after 1859 until t...</td>\n",
              "      <td>[more than 60 years after 1859]</td>\n",
              "      <td>[more than 60 years after 1859]</td>\n",
              "      <td>[more than 60 years after 1859]</td>\n",
              "      <td>B2</td>\n",
              "      <td>[{'id': 1, 'text': '\"', 'start_idx': 0, 'end_i...</td>\n",
              "      <td>B1</td>\n",
              "      <td>[{'id': 1, 'text': '\"', 'start_idx': 0, 'end_i...</td>\n",
              "    </tr>\n",
              "    <tr>\n",
              "      <th>814</th>\n",
              "      <td>East Timor, also known as Timor-Leste (Tetum: ...</td>\n",
              "      <td>The Democratic Republic of East Timor or Timor...</td>\n",
              "      <td>[the Democratic Republic of Timor-Leste, South...</td>\n",
              "      <td>[Democratic Republic of East Timor, Southeast ...</td>\n",
              "      <td>[the democratic republic of, Democratic Republ...</td>\n",
              "      <td>C1</td>\n",
              "      <td>[{'id': 1, 'text': 'East', 'start_idx': 0, 'en...</td>\n",
              "      <td>C2</td>\n",
              "      <td>[{'id': 1, 'text': 'The', 'start_idx': 0, 'end...</td>\n",
              "    </tr>\n",
              "    <tr>\n",
              "      <th>815</th>\n",
              "      <td>Certain artistic traditions that originated in...</td>\n",
              "      <td>Certain traditions that originated in the Byza...</td>\n",
              "      <td>[the Byzantine Empire, Eastern Orthodox, the p...</td>\n",
              "      <td>[the Byzantine Empire, Eastern Orthodox, Greec...</td>\n",
              "      <td>[the Byzantine Empire, Eastern Orthodox, Greec...</td>\n",
              "      <td>C2</td>\n",
              "      <td>[{'id': 1, 'text': 'Certain', 'start_idx': 0, ...</td>\n",
              "      <td>C2</td>\n",
              "      <td>[{'id': 1, 'text': 'Certain', 'start_idx': 0, ...</td>\n",
              "    </tr>\n",
              "    <tr>\n",
              "      <th>816</th>\n",
              "      <td>One of the largest of the Classic Maya cities,...</td>\n",
              "      <td>The ruins are on lowland rainforest, but Tikal...</td>\n",
              "      <td>[Classic Maya, Tikal, ten]</td>\n",
              "      <td>[lowland rainforest, Tikal]</td>\n",
              "      <td>[Tikal]</td>\n",
              "      <td>A2</td>\n",
              "      <td>[{'id': 1, 'text': 'One', 'start_idx': 0, 'end...</td>\n",
              "      <td>C1</td>\n",
              "      <td>[{'id': 1, 'text': 'The', 'start_idx': 0, 'end...</td>\n",
              "    </tr>\n",
              "  </tbody>\n",
              "</table>\n",
              "<p>817 rows × 9 columns</p>\n",
              "</div>"
            ],
            "text/plain": [
              "                                               complex  ...                                       simple_words\n",
              "0    Upper Sorbian is a minority language spoken by...  ...  [{'id': 1, 'text': 'There', 'start_idx': 0, 'e...\n",
              "1    It used to be on display as part of the Americ...  ...  [{'id': 1, 'text': 'It', 'start_idx': 0, 'end_...\n",
              "2    Relation to the Nobel Prize The Sveriges Riksb...  ...  [{'id': 1, 'text': 'The', 'start_idx': 0, 'end...\n",
              "3    A shoe is an item of footwear evolved at first...  ...  [{'id': 1, 'text': 'A', 'start_idx': 0, 'end_i...\n",
              "4    Of the eleven tropical cyclones that formed du...  ...  [{'id': 1, 'text': 'The', 'start_idx': 0, 'end...\n",
              "..                                                 ...  ...                                                ...\n",
              "812  Sedimentary rock is one of the three main rock...  ...  [{'id': 1, 'text': 'Other', 'start_idx': 0, 'e...\n",
              "813  \"It took more than 60 years after 1859 until t...  ...  [{'id': 1, 'text': '\"', 'start_idx': 0, 'end_i...\n",
              "814  East Timor, also known as Timor-Leste (Tetum: ...  ...  [{'id': 1, 'text': 'The', 'start_idx': 0, 'end...\n",
              "815  Certain artistic traditions that originated in...  ...  [{'id': 1, 'text': 'Certain', 'start_idx': 0, ...\n",
              "816  One of the largest of the Classic Maya cities,...  ...  [{'id': 1, 'text': 'The', 'start_idx': 0, 'end...\n",
              "\n",
              "[817 rows x 9 columns]"
            ]
          },
          "metadata": {},
          "execution_count": 125
        }
      ]
    },
    {
      "cell_type": "code",
      "metadata": {
        "colab": {
          "base_uri": "https://localhost:8080/",
          "height": 17
        },
        "id": "C7S-Og-AkoqG",
        "outputId": "1bd5416b-34b4-4e99-b938-6e7ba06ab016"
      },
      "source": [
        "def get_word_lists(row,difficulty_level_list_like):\n",
        "  C2_word_list = []\n",
        "  # print(row['complex'])\n",
        "  # print(row['complex_words'])\n",
        "  if not isinstance(row['complex_words'], float):\n",
        "\n",
        "    for words in row['complex_words']:\n",
        "      # print(words['read_level'],words['text'])\n",
        "      if words['read_level'] in difficulty_level_list_like:\n",
        "        # print(words['text'])\n",
        "        if words['text'].lower() not in row['simple'].lower():\n",
        "          \n",
        "          if all(words['text'] not in x for x in row['complex_NER']):\n",
        "            C2_word_list.append(words['text'])\n",
        "\n",
        "  if len(C2_word_list) >= 1:\n",
        "    return C2_word_list\n",
        "  else:\n",
        "    return np.nan"
      ],
      "id": "C7S-Og-AkoqG",
      "execution_count": null,
      "outputs": [
        {
          "output_type": "display_data",
          "data": {
            "text/html": [
              "\n",
              "  <style>\n",
              "    pre {\n",
              "        white-space: pre-wrap;\n",
              "    }\n",
              "  </style>\n",
              "  "
            ],
            "text/plain": [
              "<IPython.core.display.HTML object>"
            ]
          },
          "metadata": {}
        }
      ]
    },
    {
      "cell_type": "code",
      "metadata": {
        "colab": {
          "base_uri": "https://localhost:8080/",
          "height": 17
        },
        "id": "SSRYW4OKkoqH",
        "outputId": "e1629120-848d-4674-df69-2e5f25d47ec3"
      },
      "source": [
        "C2C1B2_word_lists = []\n",
        "for index,row in FINAL_df.iterrows():\n",
        "  # print(index)\n",
        "  C2C1B2_word_lists.append(get_word_lists(row,['C2','C1','B2']))"
      ],
      "id": "SSRYW4OKkoqH",
      "execution_count": null,
      "outputs": [
        {
          "output_type": "display_data",
          "data": {
            "text/html": [
              "\n",
              "  <style>\n",
              "    pre {\n",
              "        white-space: pre-wrap;\n",
              "    }\n",
              "  </style>\n",
              "  "
            ],
            "text/plain": [
              "<IPython.core.display.HTML object>"
            ]
          },
          "metadata": {}
        }
      ]
    },
    {
      "cell_type": "code",
      "metadata": {
        "colab": {
          "base_uri": "https://localhost:8080/",
          "height": 35
        },
        "id": "1bEpjYZ_koqJ",
        "outputId": "c36c380d-d455-4521-a65a-045d808dc10d"
      },
      "source": [
        "len([x for x in C2C1B2_word_lists if str(x) != 'nan'])"
      ],
      "id": "1bEpjYZ_koqJ",
      "execution_count": null,
      "outputs": [
        {
          "output_type": "display_data",
          "data": {
            "text/html": [
              "\n",
              "  <style>\n",
              "    pre {\n",
              "        white-space: pre-wrap;\n",
              "    }\n",
              "  </style>\n",
              "  "
            ],
            "text/plain": [
              "<IPython.core.display.HTML object>"
            ]
          },
          "metadata": {}
        },
        {
          "output_type": "execute_result",
          "data": {
            "text/plain": [
              "418"
            ]
          },
          "metadata": {},
          "execution_count": 128
        }
      ]
    },
    {
      "cell_type": "code",
      "metadata": {
        "colab": {
          "base_uri": "https://localhost:8080/",
          "height": 17
        },
        "id": "5Egd6bO3koqM",
        "outputId": "b3806c1e-2bbc-43e6-a79f-fc6286039b7b"
      },
      "source": [
        "FINAL_df['C2C1B2_in_complex'] = C2C1B2_word_lists"
      ],
      "id": "5Egd6bO3koqM",
      "execution_count": null,
      "outputs": [
        {
          "output_type": "display_data",
          "data": {
            "text/html": [
              "\n",
              "  <style>\n",
              "    pre {\n",
              "        white-space: pre-wrap;\n",
              "    }\n",
              "  </style>\n",
              "  "
            ],
            "text/plain": [
              "<IPython.core.display.HTML object>"
            ]
          },
          "metadata": {}
        }
      ]
    },
    {
      "cell_type": "code",
      "metadata": {
        "colab": {
          "base_uri": "https://localhost:8080/",
          "height": 17
        },
        "id": "MQBR6gvrkoqO",
        "outputId": "dede34d3-0f9e-4f42-a295-fc6a945ed37b"
      },
      "source": [
        "C2C1B2_df = FINAL_df.drop(columns=['complex_words','simple_words']).dropna()"
      ],
      "id": "MQBR6gvrkoqO",
      "execution_count": null,
      "outputs": [
        {
          "output_type": "display_data",
          "data": {
            "text/html": [
              "\n",
              "  <style>\n",
              "    pre {\n",
              "        white-space: pre-wrap;\n",
              "    }\n",
              "  </style>\n",
              "  "
            ],
            "text/plain": [
              "<IPython.core.display.HTML object>"
            ]
          },
          "metadata": {}
        }
      ]
    },
    {
      "cell_type": "code",
      "metadata": {
        "colab": {
          "base_uri": "https://localhost:8080/",
          "height": 667
        },
        "id": "EowFLZ2ekoqP",
        "outputId": "6518860a-0949-43b6-fd5c-2527e95d0935"
      },
      "source": [
        "C2C1B2_df"
      ],
      "id": "EowFLZ2ekoqP",
      "execution_count": null,
      "outputs": [
        {
          "output_type": "display_data",
          "data": {
            "text/html": [
              "\n",
              "  <style>\n",
              "    pre {\n",
              "        white-space: pre-wrap;\n",
              "    }\n",
              "  </style>\n",
              "  "
            ],
            "text/plain": [
              "<IPython.core.display.HTML object>"
            ]
          },
          "metadata": {}
        },
        {
          "output_type": "execute_result",
          "data": {
            "text/html": [
              "<div>\n",
              "<style scoped>\n",
              "    .dataframe tbody tr th:only-of-type {\n",
              "        vertical-align: middle;\n",
              "    }\n",
              "\n",
              "    .dataframe tbody tr th {\n",
              "        vertical-align: top;\n",
              "    }\n",
              "\n",
              "    .dataframe thead th {\n",
              "        text-align: right;\n",
              "    }\n",
              "</style>\n",
              "<table border=\"1\" class=\"dataframe\">\n",
              "  <thead>\n",
              "    <tr style=\"text-align: right;\">\n",
              "      <th></th>\n",
              "      <th>complex</th>\n",
              "      <th>simple</th>\n",
              "      <th>complex_NER</th>\n",
              "      <th>simple_NER</th>\n",
              "      <th>co_occur_NER</th>\n",
              "      <th>complex_read_level</th>\n",
              "      <th>simple_read_level</th>\n",
              "      <th>C2C1B2_in_complex</th>\n",
              "    </tr>\n",
              "  </thead>\n",
              "  <tbody>\n",
              "    <tr>\n",
              "      <th>0</th>\n",
              "      <td>Upper Sorbian is a minority language spoken by...</td>\n",
              "      <td>There are around 40,000 speakers of Upper Sorb...</td>\n",
              "      <td>[Sorbs in Germany in the, Upper Sorbian, Upper...</td>\n",
              "      <td>[the European Charter for Regional or Minority...</td>\n",
              "      <td>[Upper Sorbian, in Germany, inority, Saxony]</td>\n",
              "      <td>C1</td>\n",
              "      <td>C1</td>\n",
              "      <td>[ica]</td>\n",
              "    </tr>\n",
              "    <tr>\n",
              "      <th>3</th>\n",
              "      <td>A shoe is an item of footwear evolved at first...</td>\n",
              "      <td>A shoe is also an item of clothing.</td>\n",
              "      <td>[first]</td>\n",
              "      <td>[]</td>\n",
              "      <td>[]</td>\n",
              "      <td>C1</td>\n",
              "      <td>A1</td>\n",
              "      <td>[evolved]</td>\n",
              "    </tr>\n",
              "    <tr>\n",
              "      <th>4</th>\n",
              "      <td>Of the eleven tropical cyclones that formed du...</td>\n",
              "      <td>The season officially started on May 15, 1995 ...</td>\n",
              "      <td>[Hurricane Ismael, at least 116, the season, e...</td>\n",
              "      <td>[the eastern Pacific, November 30, 1995, May 1...</td>\n",
              "      <td>[the season, the e]</td>\n",
              "      <td>B1</td>\n",
              "      <td>A1</td>\n",
              "      <td>[tropical, cyclones, affected]</td>\n",
              "    </tr>\n",
              "    <tr>\n",
              "      <th>5</th>\n",
              "      <td>In 2007/08 it had over 40,000 students studyin...</td>\n",
              "      <td>In 2007-08, it had over 40,000 students studyi...</td>\n",
              "      <td>[the United Kingdom, more than 10,000, over 40...</td>\n",
              "      <td>[more than 10,000, # 637 million, over 40,000,...</td>\n",
              "      <td>[more than 10,000, over 40,000, 2007, 500, 08]</td>\n",
              "      <td>C1</td>\n",
              "      <td>B2</td>\n",
              "      <td>[making]</td>\n",
              "    </tr>\n",
              "    <tr>\n",
              "      <th>9</th>\n",
              "      <td>The Summer of Love became a defining moment of...</td>\n",
              "      <td>Thousands of young people from all over the wo...</td>\n",
              "      <td>[the hippie counterculture movement, Summer of...</td>\n",
              "      <td>[The Summer of Love, San Francisco, Thousands ...</td>\n",
              "      <td>[hippie counterculture, The Summer of Love]</td>\n",
              "      <td>B2</td>\n",
              "      <td>B1</td>\n",
              "      <td>[defining, into, awareness]</td>\n",
              "    </tr>\n",
              "    <tr>\n",
              "      <th>...</th>\n",
              "      <td>...</td>\n",
              "      <td>...</td>\n",
              "      <td>...</td>\n",
              "      <td>...</td>\n",
              "      <td>...</td>\n",
              "      <td>...</td>\n",
              "      <td>...</td>\n",
              "      <td>...</td>\n",
              "    </tr>\n",
              "    <tr>\n",
              "      <th>803</th>\n",
              "      <td>1996 &amp; ndash; Hamas bombmaker Yahya Ayyash is ...</td>\n",
              "      <td>1996 -- Hamas operative Yahya Ayyash is killed...</td>\n",
              "      <td>[1996 &amp; ndash, Yahya Ayyash, Israeli, Hamas]</td>\n",
              "      <td>[Yahya Ayyash, Israeli, Hamas, 1996]</td>\n",
              "      <td>[Yahya Ayyash, Israeli, Hamas, 1996]</td>\n",
              "      <td>C1</td>\n",
              "      <td>B2</td>\n",
              "      <td>[bombmaker]</td>\n",
              "    </tr>\n",
              "    <tr>\n",
              "      <th>804</th>\n",
              "      <td>She went on tour with the Oyster Band, and the...</td>\n",
              "      <td>She went on tour with the Oyster Band.</td>\n",
              "      <td>[the following year, the Oyster Band, Rykodisc]</td>\n",
              "      <td>[the Oyster Band]</td>\n",
              "      <td>[the Oyster Band]</td>\n",
              "      <td>C1</td>\n",
              "      <td>B2</td>\n",
              "      <td>[limited, promotional]</td>\n",
              "    </tr>\n",
              "    <tr>\n",
              "      <th>805</th>\n",
              "      <td>He would hang out at the Palace Theater in Red...</td>\n",
              "      <td>He helped out at the Palace theater in Red Ban...</td>\n",
              "      <td>[Palace Theater in Red Bank, the Palace Theater]</td>\n",
              "      <td>[Red Bank, Palace]</td>\n",
              "      <td>[heater in Red Bank, the Palace]</td>\n",
              "      <td>B1</td>\n",
              "      <td>B2</td>\n",
              "      <td>[hang, chores]</td>\n",
              "    </tr>\n",
              "    <tr>\n",
              "      <th>814</th>\n",
              "      <td>East Timor, also known as Timor-Leste (Tetum: ...</td>\n",
              "      <td>The Democratic Republic of East Timor or Timor...</td>\n",
              "      <td>[the Democratic Republic of Timor-Leste, South...</td>\n",
              "      <td>[Democratic Republic of East Timor, Southeast ...</td>\n",
              "      <td>[the democratic republic of, Democratic Republ...</td>\n",
              "      <td>C1</td>\n",
              "      <td>C2</td>\n",
              "      <td>[officially]</td>\n",
              "    </tr>\n",
              "    <tr>\n",
              "      <th>816</th>\n",
              "      <td>One of the largest of the Classic Maya cities,...</td>\n",
              "      <td>The ruins are on lowland rainforest, but Tikal...</td>\n",
              "      <td>[Classic Maya, Tikal, ten]</td>\n",
              "      <td>[lowland rainforest, Tikal]</td>\n",
              "      <td>[Tikal]</td>\n",
              "      <td>A2</td>\n",
              "      <td>C1</td>\n",
              "      <td>[reservoirs]</td>\n",
              "    </tr>\n",
              "  </tbody>\n",
              "</table>\n",
              "<p>418 rows × 8 columns</p>\n",
              "</div>"
            ],
            "text/plain": [
              "                                               complex  ...               C2C1B2_in_complex\n",
              "0    Upper Sorbian is a minority language spoken by...  ...                           [ica]\n",
              "3    A shoe is an item of footwear evolved at first...  ...                       [evolved]\n",
              "4    Of the eleven tropical cyclones that formed du...  ...  [tropical, cyclones, affected]\n",
              "5    In 2007/08 it had over 40,000 students studyin...  ...                        [making]\n",
              "9    The Summer of Love became a defining moment of...  ...     [defining, into, awareness]\n",
              "..                                                 ...  ...                             ...\n",
              "803  1996 & ndash; Hamas bombmaker Yahya Ayyash is ...  ...                     [bombmaker]\n",
              "804  She went on tour with the Oyster Band, and the...  ...          [limited, promotional]\n",
              "805  He would hang out at the Palace Theater in Red...  ...                  [hang, chores]\n",
              "814  East Timor, also known as Timor-Leste (Tetum: ...  ...                    [officially]\n",
              "816  One of the largest of the Classic Maya cities,...  ...                    [reservoirs]\n",
              "\n",
              "[418 rows x 8 columns]"
            ]
          },
          "metadata": {},
          "execution_count": 131
        }
      ]
    },
    {
      "cell_type": "code",
      "metadata": {
        "colab": {
          "base_uri": "https://localhost:8080/",
          "height": 17
        },
        "id": "ajxkOu0dkoqR",
        "outputId": "c9a3762e-675b-4b78-cee2-4dc7fca3d840"
      },
      "source": [
        "with open('/content/drive/MyDrive/muss/qualitative/ABCD_valid_C2C1B2_0911', 'wb') as fp:\n",
        "    pickle.dump(C2C1B2_df, fp)"
      ],
      "id": "ajxkOu0dkoqR",
      "execution_count": null,
      "outputs": [
        {
          "output_type": "display_data",
          "data": {
            "text/html": [
              "\n",
              "  <style>\n",
              "    pre {\n",
              "        white-space: pre-wrap;\n",
              "    }\n",
              "  </style>\n",
              "  "
            ],
            "text/plain": [
              "<IPython.core.display.HTML object>"
            ]
          },
          "metadata": {}
        }
      ]
    },
    {
      "cell_type": "markdown",
      "metadata": {
        "id": "b0gmhdW0lWwd"
      },
      "source": [
        "## create dataset"
      ],
      "id": "b0gmhdW0lWwd"
    },
    {
      "cell_type": "code",
      "metadata": {
        "colab": {
          "base_uri": "https://localhost:8080/",
          "height": 17
        },
        "id": "-G7KBbB3la8A",
        "outputId": "770af69c-fcb4-45c0-cf0a-8439840c5b12"
      },
      "source": [
        "with open('/content/drive/MyDrive/muss/qualitative/ABCD_train_C2C1B2_0911', 'rb') as f:\n",
        "    train_C2C1B2_df = pickle.load(f)\n",
        "\n",
        "with open('/content/drive/MyDrive/muss/qualitative/ABCD_valid_C2C1B2_0911', 'rb') as f:\n",
        "    valid_C2C1B2_df = pickle.load(f)\n"
      ],
      "id": "-G7KBbB3la8A",
      "execution_count": null,
      "outputs": [
        {
          "output_type": "display_data",
          "data": {
            "text/html": [
              "\n",
              "  <style>\n",
              "    pre {\n",
              "        white-space: pre-wrap;\n",
              "    }\n",
              "  </style>\n",
              "  "
            ],
            "text/plain": [
              "<IPython.core.display.HTML object>"
            ]
          },
          "metadata": {}
        }
      ]
    },
    {
      "cell_type": "code",
      "metadata": {
        "colab": {
          "base_uri": "https://localhost:8080/",
          "height": 597
        },
        "id": "snbEgI-Ho585",
        "outputId": "de35f2fc-19e6-4403-d7ed-af5481a47234"
      },
      "source": [
        "TRAIN_DF = pd.concat([train_df.drop(columns=['level_0','index']),train_C2C1B2_df.drop(columns=['complex','simple','complex_NER','simple_NER','co_occur_NER','complex_read_level','simple_read_level'])], axis=1)\n",
        "TRAIN_DF"
      ],
      "id": "snbEgI-Ho585",
      "execution_count": null,
      "outputs": [
        {
          "output_type": "display_data",
          "data": {
            "text/html": [
              "\n",
              "  <style>\n",
              "    pre {\n",
              "        white-space: pre-wrap;\n",
              "    }\n",
              "  </style>\n",
              "  "
            ],
            "text/plain": [
              "<IPython.core.display.HTML object>"
            ]
          },
          "metadata": {}
        },
        {
          "output_type": "execute_result",
          "data": {
            "text/html": [
              "<div>\n",
              "<style scoped>\n",
              "    .dataframe tbody tr th:only-of-type {\n",
              "        vertical-align: middle;\n",
              "    }\n",
              "\n",
              "    .dataframe tbody tr th {\n",
              "        vertical-align: top;\n",
              "    }\n",
              "\n",
              "    .dataframe thead th {\n",
              "        text-align: right;\n",
              "    }\n",
              "</style>\n",
              "<table border=\"1\" class=\"dataframe\">\n",
              "  <thead>\n",
              "    <tr style=\"text-align: right;\">\n",
              "      <th></th>\n",
              "      <th>complex</th>\n",
              "      <th>simple</th>\n",
              "      <th>complex_NER</th>\n",
              "      <th>simple_NER</th>\n",
              "      <th>co_occur_NER</th>\n",
              "      <th>C2C1B2_in_complex</th>\n",
              "    </tr>\n",
              "  </thead>\n",
              "  <tbody>\n",
              "    <tr>\n",
              "      <th>0</th>\n",
              "      <td>There is manuscript evidence that Austen conti...</td>\n",
              "      <td>There is some proof that Austen continued to w...</td>\n",
              "      <td>[James Edward Austen, the period 1809, Anna, 1...</td>\n",
              "      <td>[James Edward, Anna Austen, 1814]</td>\n",
              "      <td>[James Edward, Austen, Anna, 1814]</td>\n",
              "      <td>[manuscript, evidence]</td>\n",
              "    </tr>\n",
              "    <tr>\n",
              "      <th>1</th>\n",
              "      <td>In a remarkable comparative analysis, Mandaean...</td>\n",
              "      <td>Mandaean scholar Säve-Söderberg showed that Ma...</td>\n",
              "      <td>[Psalms of Thomas, Säve-Söderberg, Mani's Psal...</td>\n",
              "      <td>[Psalms of Thomas, Säve-Söderberg, Mani's Psal...</td>\n",
              "      <td>[Psalms of Thomas, Säve-Söderberg, Mani's Psal...</td>\n",
              "      <td>[comparative, analysis]</td>\n",
              "    </tr>\n",
              "    <tr>\n",
              "      <th>2</th>\n",
              "      <td>Before Persephone was released to Hermes, who ...</td>\n",
              "      <td>When Demeter went to the Underworld to rescue ...</td>\n",
              "      <td>[a period each year, six or three, Persephone,...</td>\n",
              "      <td>[Underworld, Persephone, Demeter, Hades]</td>\n",
              "      <td>[Persephone, underworld, Hades]</td>\n",
              "      <td>[released, tricked]</td>\n",
              "    </tr>\n",
              "    <tr>\n",
              "      <th>3</th>\n",
              "      <td>Cogeneration plants are commonly found in dist...</td>\n",
              "      <td>Cogeneration plants are commonly found in dist...</td>\n",
              "      <td>[Cogeneration]</td>\n",
              "      <td>[Cogeneration]</td>\n",
              "      <td>[Cogeneration]</td>\n",
              "      <td>NaN</td>\n",
              "    </tr>\n",
              "    <tr>\n",
              "      <th>4</th>\n",
              "      <td>Geneva (,;,;,;;) is the second-most-populous c...</td>\n",
              "      <td>The city's main newspaper is the Tribune de Ge...</td>\n",
              "      <td>[Switzerland, Romandie, Geneva, second, Zürich...</td>\n",
              "      <td>[the Tribune de Genève, 1 February 1879, James...</td>\n",
              "      <td>[city]</td>\n",
              "      <td>[populous, populous]</td>\n",
              "    </tr>\n",
              "    <tr>\n",
              "      <th>...</th>\n",
              "      <td>...</td>\n",
              "      <td>...</td>\n",
              "      <td>...</td>\n",
              "      <td>...</td>\n",
              "      <td>...</td>\n",
              "      <td>...</td>\n",
              "    </tr>\n",
              "    <tr>\n",
              "      <th>249161</th>\n",
              "      <td>These structures form at the high-pressure dep...</td>\n",
              "      <td>These structures form at the high-pressure dep...</td>\n",
              "      <td>[Lake Vostok]</td>\n",
              "      <td>[Lake Vostok]</td>\n",
              "      <td>[Lake Vostok]</td>\n",
              "      <td>NaN</td>\n",
              "    </tr>\n",
              "    <tr>\n",
              "      <th>249162</th>\n",
              "      <td>Saint-Maixant is a commune in the Gironde depa...</td>\n",
              "      <td>Saint-Maixant, Gironde is a commune. It is fou...</td>\n",
              "      <td>[Saint-Maixant, Aquitaine in, Gironde, France]</td>\n",
              "      <td>[Aquitaine in the Gironde, Saint-Maixant, France]</td>\n",
              "      <td>[ne in the Gironde, Saint-Maixant, Aquitaine i...</td>\n",
              "      <td>NaN</td>\n",
              "    </tr>\n",
              "    <tr>\n",
              "      <th>249163</th>\n",
              "      <td>The Hollywood Walk of Fame is a series of side...</td>\n",
              "      <td>There are many stars on the sidewalk.</td>\n",
              "      <td>[Vine Street in Hollywood, Hollywood Walk of F...</td>\n",
              "      <td>[]</td>\n",
              "      <td>[walk]</td>\n",
              "      <td>[sidewalks, monument, achievement]</td>\n",
              "    </tr>\n",
              "    <tr>\n",
              "      <th>249164</th>\n",
              "      <td>Boulogne-Billancourt is the most populous subu...</td>\n",
              "      <td>Consequently, Boulogne-Billancourt is one of t...</td>\n",
              "      <td>[Boulogne-Billancourt, Europe, Paris, one]</td>\n",
              "      <td>[Boulogne-Billancourt, Europe]</td>\n",
              "      <td>[Boulogne-Billancourt, Europe]</td>\n",
              "      <td>[populous]</td>\n",
              "    </tr>\n",
              "    <tr>\n",
              "      <th>249165</th>\n",
              "      <td>Overall, Juventus have won 51 official competi...</td>\n",
              "      <td>The club is the most successful team in the hi...</td>\n",
              "      <td>[the national First Division, Juventus, Europe...</td>\n",
              "      <td>[European, Italian, Italy, club, 51, 40, 11]</td>\n",
              "      <td>[European, Italian, club, 51, 40, 11]</td>\n",
              "      <td>[making]</td>\n",
              "    </tr>\n",
              "  </tbody>\n",
              "</table>\n",
              "<p>249166 rows × 6 columns</p>\n",
              "</div>"
            ],
            "text/plain": [
              "                                                  complex  ...                   C2C1B2_in_complex\n",
              "0       There is manuscript evidence that Austen conti...  ...              [manuscript, evidence]\n",
              "1       In a remarkable comparative analysis, Mandaean...  ...             [comparative, analysis]\n",
              "2       Before Persephone was released to Hermes, who ...  ...                 [released, tricked]\n",
              "3       Cogeneration plants are commonly found in dist...  ...                                 NaN\n",
              "4       Geneva (,;,;,;;) is the second-most-populous c...  ...                [populous, populous]\n",
              "...                                                   ...  ...                                 ...\n",
              "249161  These structures form at the high-pressure dep...  ...                                 NaN\n",
              "249162  Saint-Maixant is a commune in the Gironde depa...  ...                                 NaN\n",
              "249163  The Hollywood Walk of Fame is a series of side...  ...  [sidewalks, monument, achievement]\n",
              "249164  Boulogne-Billancourt is the most populous subu...  ...                          [populous]\n",
              "249165  Overall, Juventus have won 51 official competi...  ...                            [making]\n",
              "\n",
              "[249166 rows x 6 columns]"
            ]
          },
          "metadata": {},
          "execution_count": 11
        }
      ]
    },
    {
      "cell_type": "code",
      "metadata": {
        "colab": {
          "base_uri": "https://localhost:8080/",
          "height": 597
        },
        "id": "tOdulgxYp_iz",
        "outputId": "045070eb-7da1-4651-be9e-3a4dcc1eed08"
      },
      "source": [
        "VALID_DF = pd.concat([valid_df.drop(columns=['level_0','index']),valid_C2C1B2_df.drop(columns=['complex','simple','complex_NER','simple_NER','co_occur_NER','complex_read_level','simple_read_level'])], axis=1)\n",
        "VALID_DF"
      ],
      "id": "tOdulgxYp_iz",
      "execution_count": null,
      "outputs": [
        {
          "output_type": "display_data",
          "data": {
            "text/html": [
              "\n",
              "  <style>\n",
              "    pre {\n",
              "        white-space: pre-wrap;\n",
              "    }\n",
              "  </style>\n",
              "  "
            ],
            "text/plain": [
              "<IPython.core.display.HTML object>"
            ]
          },
          "metadata": {}
        },
        {
          "output_type": "execute_result",
          "data": {
            "text/html": [
              "<div>\n",
              "<style scoped>\n",
              "    .dataframe tbody tr th:only-of-type {\n",
              "        vertical-align: middle;\n",
              "    }\n",
              "\n",
              "    .dataframe tbody tr th {\n",
              "        vertical-align: top;\n",
              "    }\n",
              "\n",
              "    .dataframe thead th {\n",
              "        text-align: right;\n",
              "    }\n",
              "</style>\n",
              "<table border=\"1\" class=\"dataframe\">\n",
              "  <thead>\n",
              "    <tr style=\"text-align: right;\">\n",
              "      <th></th>\n",
              "      <th>complex</th>\n",
              "      <th>simple</th>\n",
              "      <th>complex_NER</th>\n",
              "      <th>simple_NER</th>\n",
              "      <th>co_occur_NER</th>\n",
              "      <th>C2C1B2_in_complex</th>\n",
              "    </tr>\n",
              "  </thead>\n",
              "  <tbody>\n",
              "    <tr>\n",
              "      <th>0</th>\n",
              "      <td>Upper Sorbian is a minority language spoken by...</td>\n",
              "      <td>There are around 40,000 speakers of Upper Sorb...</td>\n",
              "      <td>[Sorbs in Germany in the, Upper Sorbian, Upper...</td>\n",
              "      <td>[the European Charter for Regional or Minority...</td>\n",
              "      <td>[Upper Sorbian, in Germany, inority, Saxony]</td>\n",
              "      <td>[ica]</td>\n",
              "    </tr>\n",
              "    <tr>\n",
              "      <th>1</th>\n",
              "      <td>It used to be on display as part of the Americ...</td>\n",
              "      <td>It is on permanent display as part of the Amer...</td>\n",
              "      <td>[Library of Congress in Washington, American T...</td>\n",
              "      <td>[Library of Congress in Washington, American T...</td>\n",
              "      <td>[Library of Congress in Washington, American T...</td>\n",
              "      <td>NaN</td>\n",
              "    </tr>\n",
              "    <tr>\n",
              "      <th>2</th>\n",
              "      <td>Relation to the Nobel Prize The Sveriges Riksb...</td>\n",
              "      <td>The Sveriges Riksbank Prize in Economic Scienc...</td>\n",
              "      <td>[Nobel Prize The Sveriges Riksbank Prize in Ec...</td>\n",
              "      <td>[Sveriges Riksbank Prize in Economic Sciences ...</td>\n",
              "      <td>[The Sveriges Riksbank Prize in Economic Scien...</td>\n",
              "      <td>NaN</td>\n",
              "    </tr>\n",
              "    <tr>\n",
              "      <th>3</th>\n",
              "      <td>A shoe is an item of footwear evolved at first...</td>\n",
              "      <td>A shoe is also an item of clothing.</td>\n",
              "      <td>[first]</td>\n",
              "      <td>[]</td>\n",
              "      <td>[]</td>\n",
              "      <td>[evolved]</td>\n",
              "    </tr>\n",
              "    <tr>\n",
              "      <th>4</th>\n",
              "      <td>Of the eleven tropical cyclones that formed du...</td>\n",
              "      <td>The season officially started on May 15, 1995 ...</td>\n",
              "      <td>[Hurricane Ismael, at least 116, the season, e...</td>\n",
              "      <td>[the eastern Pacific, November 30, 1995, May 1...</td>\n",
              "      <td>[the season, the e]</td>\n",
              "      <td>[tropical, cyclones, affected]</td>\n",
              "    </tr>\n",
              "    <tr>\n",
              "      <th>...</th>\n",
              "      <td>...</td>\n",
              "      <td>...</td>\n",
              "      <td>...</td>\n",
              "      <td>...</td>\n",
              "      <td>...</td>\n",
              "      <td>...</td>\n",
              "    </tr>\n",
              "    <tr>\n",
              "      <th>812</th>\n",
              "      <td>Sedimentary rock is one of the three main rock...</td>\n",
              "      <td>Other types of rock are igneous rock and metam...</td>\n",
              "      <td>[Sedimentary, three, one]</td>\n",
              "      <td>[]</td>\n",
              "      <td>[]</td>\n",
              "      <td>NaN</td>\n",
              "    </tr>\n",
              "    <tr>\n",
              "      <th>813</th>\n",
              "      <td>\"It took more than 60 years after 1859 until t...</td>\n",
              "      <td>\"It took more than 60 years after 1859 until t...</td>\n",
              "      <td>[more than 60 years after 1859]</td>\n",
              "      <td>[more than 60 years after 1859]</td>\n",
              "      <td>[more than 60 years after 1859]</td>\n",
              "      <td>NaN</td>\n",
              "    </tr>\n",
              "    <tr>\n",
              "      <th>814</th>\n",
              "      <td>East Timor, also known as Timor-Leste (Tetum: ...</td>\n",
              "      <td>The Democratic Republic of East Timor or Timor...</td>\n",
              "      <td>[the Democratic Republic of Timor-Leste, South...</td>\n",
              "      <td>[Democratic Republic of East Timor, Southeast ...</td>\n",
              "      <td>[the democratic republic of, Democratic Republ...</td>\n",
              "      <td>[officially]</td>\n",
              "    </tr>\n",
              "    <tr>\n",
              "      <th>815</th>\n",
              "      <td>Certain artistic traditions that originated in...</td>\n",
              "      <td>Certain traditions that originated in the Byza...</td>\n",
              "      <td>[the Byzantine Empire, Eastern Orthodox, the p...</td>\n",
              "      <td>[the Byzantine Empire, Eastern Orthodox, Greec...</td>\n",
              "      <td>[the Byzantine Empire, Eastern Orthodox, Greec...</td>\n",
              "      <td>NaN</td>\n",
              "    </tr>\n",
              "    <tr>\n",
              "      <th>816</th>\n",
              "      <td>One of the largest of the Classic Maya cities,...</td>\n",
              "      <td>The ruins are on lowland rainforest, but Tikal...</td>\n",
              "      <td>[Classic Maya, Tikal, ten]</td>\n",
              "      <td>[lowland rainforest, Tikal]</td>\n",
              "      <td>[Tikal]</td>\n",
              "      <td>[reservoirs]</td>\n",
              "    </tr>\n",
              "  </tbody>\n",
              "</table>\n",
              "<p>817 rows × 6 columns</p>\n",
              "</div>"
            ],
            "text/plain": [
              "                                               complex  ...               C2C1B2_in_complex\n",
              "0    Upper Sorbian is a minority language spoken by...  ...                           [ica]\n",
              "1    It used to be on display as part of the Americ...  ...                             NaN\n",
              "2    Relation to the Nobel Prize The Sveriges Riksb...  ...                             NaN\n",
              "3    A shoe is an item of footwear evolved at first...  ...                       [evolved]\n",
              "4    Of the eleven tropical cyclones that formed du...  ...  [tropical, cyclones, affected]\n",
              "..                                                 ...  ...                             ...\n",
              "812  Sedimentary rock is one of the three main rock...  ...                             NaN\n",
              "813  \"It took more than 60 years after 1859 until t...  ...                             NaN\n",
              "814  East Timor, also known as Timor-Leste (Tetum: ...  ...                    [officially]\n",
              "815  Certain artistic traditions that originated in...  ...                             NaN\n",
              "816  One of the largest of the Classic Maya cities,...  ...                    [reservoirs]\n",
              "\n",
              "[817 rows x 6 columns]"
            ]
          },
          "metadata": {},
          "execution_count": 12
        }
      ]
    },
    {
      "cell_type": "code",
      "metadata": {
        "colab": {
          "base_uri": "https://localhost:8080/",
          "height": 17
        },
        "id": "SBAH8oldlaw4",
        "outputId": "810319f5-b023-468c-9980-c8927ec82714"
      },
      "source": [
        "target_dir = '/content/drive/MyDrive/muss/resources/datasets/0911_ABCD_wikilarge_no_inc_na'\n",
        "!mkdir $target_dir"
      ],
      "id": "SBAH8oldlaw4",
      "execution_count": null,
      "outputs": [
        {
          "output_type": "display_data",
          "data": {
            "text/html": [
              "\n",
              "  <style>\n",
              "    pre {\n",
              "        white-space: pre-wrap;\n",
              "    }\n",
              "  </style>\n",
              "  "
            ],
            "text/plain": [
              "<IPython.core.display.HTML object>"
            ]
          },
          "metadata": {}
        }
      ]
    },
    {
      "cell_type": "code",
      "metadata": {
        "colab": {
          "base_uri": "https://localhost:8080/",
          "height": 17
        },
        "id": "Im6uMpIzlatX",
        "outputId": "9f850d9a-a69f-4ce2-a6d7-c4e7ac081a13"
      },
      "source": [
        "data_names = ['train_complex', 'valid_complex']"
      ],
      "id": "Im6uMpIzlatX",
      "execution_count": null,
      "outputs": [
        {
          "output_type": "display_data",
          "data": {
            "text/html": [
              "\n",
              "  <style>\n",
              "    pre {\n",
              "        white-space: pre-wrap;\n",
              "    }\n",
              "  </style>\n",
              "  "
            ],
            "text/plain": [
              "<IPython.core.display.HTML object>"
            ]
          },
          "metadata": {}
        }
      ]
    },
    {
      "cell_type": "code",
      "metadata": {
        "colab": {
          "base_uri": "https://localhost:8080/",
          "height": 17
        },
        "id": "VeT3RAmJlap4",
        "outputId": "7d90ff1a-33c4-490c-9ad5-90bb10accc4b"
      },
      "source": [
        "df_list = ['train_C2C1B2_df','valid_C2C1B2_df']"
      ],
      "id": "VeT3RAmJlap4",
      "execution_count": null,
      "outputs": [
        {
          "output_type": "display_data",
          "data": {
            "text/html": [
              "\n",
              "  <style>\n",
              "    pre {\n",
              "        white-space: pre-wrap;\n",
              "    }\n",
              "  </style>\n",
              "  "
            ],
            "text/plain": [
              "<IPython.core.display.HTML object>"
            ]
          },
          "metadata": {}
        }
      ]
    },
    {
      "cell_type": "code",
      "metadata": {
        "colab": {
          "base_uri": "https://localhost:8080/",
          "height": 862
        },
        "id": "tikwUCiZlamY",
        "outputId": "e44f3e02-fcba-4b24-b707-e9b5288a8c8a"
      },
      "source": [
        "for index,data_name in enumerate(data_names):\n",
        "\n",
        "  chosen_df = globals()[df_list[index]]\n",
        "  file_name = data_name.replace('_','.')\n",
        "\n",
        "  with open(target_dir+'/'+file_name, 'w') as f:\n",
        "    for index, row in chosen_df.iterrows():\n",
        "\n",
        "        sentence = row.complex\n",
        "        NER = row.C2C1B2_in_complex\n",
        "\n",
        "        if isinstance(NER, float):\n",
        "          sentence_w_control_token = \" <NEXT_DIFFICULT_WORD> \"+\" <SENT_START> \" + sentence\n",
        "        elif len(NER) == 0:\n",
        "          sentence_w_control_token = \" <NEXT_DIFFICULT_WORD> \"+\" <SENT_START> \" + sentence\n",
        "        else:\n",
        "          sentence_w_control_token = \" <NEXT_DIFFICULT_WORD> \" +\" <NEXT_DIFFICULT_WORD> \".join(NER) + \" <SENT_START> \" + sentence\n",
        "          \n",
        "\n",
        "        if index%10000==0:\n",
        "            print(index)\n",
        "            print(sentence_w_control_token)\n",
        "\n",
        "        f.write(\"{}\\n\".format(sentence_w_control_token))\n",
        "\n",
        "        # break\n",
        "\n",
        "  f.close()\n"
      ],
      "id": "tikwUCiZlamY",
      "execution_count": null,
      "outputs": [
        {
          "output_type": "display_data",
          "data": {
            "text/html": [
              "\n",
              "  <style>\n",
              "    pre {\n",
              "        white-space: pre-wrap;\n",
              "    }\n",
              "  </style>\n",
              "  "
            ],
            "text/plain": [
              "<IPython.core.display.HTML object>"
            ]
          },
          "metadata": {}
        },
        {
          "output_type": "stream",
          "name": "stdout",
          "text": [
            "0\n",
            " <NEXT_DIFFICULT_WORD> manuscript <NEXT_DIFFICULT_WORD> evidence <SENT_START> There is manuscript evidence that Austen continued to work on these pieces as late as the period 1809 â \"11, and that her niece and nephew, Anna and James Edward Austen, made further additions as late as 1814.\n",
            "10000\n",
            " <NEXT_DIFFICULT_WORD> 's <NEXT_DIFFICULT_WORD> watchful <NEXT_DIFFICULT_WORD> issuing <NEXT_DIFFICULT_WORD> plaudits <NEXT_DIFFICULT_WORD> borrow <NEXT_DIFFICULT_WORD> reconstruction <NEXT_DIFFICULT_WORD> capita <SENT_START> In 1992, he became a prime minister, under Syria's watchful and military occupation of Lebanon, he put the country back on the financial map through the issuing of Eurobonds and won plaudits from the World Bank for his plan to borrow reconstruction money as the country's debt grew to become the largest per capita in the world.\n",
            "40000\n",
            " <NEXT_DIFFICULT_WORD> devised <SENT_START> Braille was devised in 1821 by Louis Braille, a blind Frenchman.\n",
            "50000\n",
            " <NEXT_DIFFICULT_WORD> intern <NEXT_DIFFICULT_WORD> animator <SENT_START> While still attending the California Institute of the Arts, Hartman received the chance to intern as an in-between animator on the Don Bluth film, \"An American Tail\".\n",
            "60000\n",
            " <NEXT_DIFFICULT_WORD> resurrected <SENT_START> Christians, through faith in the working of God are spiritually resurrected with Jesus so that they may walk in a new way of life.\n",
            "80000\n",
            " <NEXT_DIFFICULT_WORD> rubidium <NEXT_DIFFICULT_WORD> reactive <NEXT_DIFFICULT_WORD> properties <NEXT_DIFFICULT_WORD> rapid <NEXT_DIFFICULT_WORD> oxidation <SENT_START> Elemental rubidium is very soft and highly reactive, with properties similar to other elements in group 1, such as very rapid oxidation in air.\n",
            "110000\n",
            " <NEXT_DIFFICULT_WORD> technically <NEXT_DIFFICULT_WORD> identified <SENT_START> The sea is technically a part of the Atlantic Ocean, although it is usually identified as a completely separate body of water.\n",
            "120000\n",
            " <NEXT_DIFFICULT_WORD> retrograde <SENT_START> is about 1 kilometre in diameter, and orbits Jupiter at an average distance of 17,883 Mm in 489.72 days, at an inclination of 143 Â to the ecliptic (143 Â to Jupiter's equator), in a retrograde direction and with an eccentricity of 0.4920.\n",
            "130000\n",
            " <NEXT_DIFFICULT_WORD> hitters <NEXT_DIFFICULT_WORD> primarily <NEXT_DIFFICULT_WORD> substitute <SENT_START> Designated hitters - used primarily by the American League as a substitute for the pitcher, but only for batting.\n",
            "150000\n",
            " <NEXT_DIFFICULT_WORD> as <SENT_START> JosÃ LÃ zaro Robles, best known as Pinga (February 11, 1924 -- May 7, 1996) was a Brazilian footballer.\n",
            "160000\n",
            " <NEXT_DIFFICULT_WORD> celebrated <SENT_START> The 10 piÃ ces pour orgue (composed 1890) are Gigout's most celebrated compositions.\n",
            "180000\n",
            " <NEXT_DIFFICULT_WORD> fertile <NEXT_DIFFICULT_WORD> made <NEXT_DIFFICULT_WORD> it <NEXT_DIFFICULT_WORD> abundant <NEXT_DIFFICULT_WORD> harvests <NEXT_DIFFICULT_WORD> cereal <SENT_START> The region's fertile soil made it possible for farmers to produce abundant harvests of cereal crops such as corn, oats, and, most importantly, wheat.\n",
            "200000\n",
            " <NEXT_DIFFICULT_WORD> ndash <SENT_START> Danilo Alvim Faria (3 December 1920 & ndash; 16 May 1996) was a Brazilian footballer.\n",
            "210000\n",
            " <NEXT_DIFFICULT_WORD> secondarily <SENT_START> Water is primarily cold and secondarily wet.\n",
            "220000\n",
            " <NEXT_DIFFICULT_WORD> sample <SENT_START> It contains a sample of Jake Wade and the Soul Searchers' song \"Searching for Soul\", which was written by Chuck Middleton.\n",
            "230000\n",
            " <NEXT_DIFFICULT_WORD> considered <NEXT_DIFFICULT_WORD> peculiarly <SENT_START> The literature shows that many of the cultural practices that are considered peculiarly Tamil date back to the classical period.\n",
            "0\n",
            " <NEXT_DIFFICULT_WORD> ica <SENT_START> Upper Sorbian is a minority language spoken by Sorbs in Germany in the historical province of Upper Lusatia (Hornja Å uÅ 3\\/4 ica in Sorbian), which is today part of Saxony.\n"
          ]
        }
      ]
    },
    {
      "cell_type": "code",
      "metadata": {
        "colab": {
          "base_uri": "https://localhost:8080/",
          "height": 17
        },
        "id": "MTOqU5mpm-8s",
        "outputId": "ac0f7df9-7dc2-4733-ab1a-28292655ab31"
      },
      "source": [
        "data_names = ['train_simple', 'valid_simple']"
      ],
      "id": "MTOqU5mpm-8s",
      "execution_count": null,
      "outputs": [
        {
          "output_type": "display_data",
          "data": {
            "text/html": [
              "\n",
              "  <style>\n",
              "    pre {\n",
              "        white-space: pre-wrap;\n",
              "    }\n",
              "  </style>\n",
              "  "
            ],
            "text/plain": [
              "<IPython.core.display.HTML object>"
            ]
          },
          "metadata": {}
        }
      ]
    },
    {
      "cell_type": "code",
      "metadata": {
        "colab": {
          "base_uri": "https://localhost:8080/",
          "height": 697
        },
        "id": "uqwBq2-glajO",
        "outputId": "d834499b-bf1d-4546-9980-51b2ba9afe40"
      },
      "source": [
        "# train.simple & valid.simple\n",
        "for index,data_name in enumerate(data_names):\n",
        "\n",
        "  chosen_df = globals()[df_list[index]]\n",
        "  file_name = data_name.replace('_','.')\n",
        "  \n",
        "  with open(target_dir+'/'+file_name, 'w') as f:\n",
        "\n",
        "    for index, row in chosen_df.iterrows():\n",
        "\n",
        "        sentence = row.simple\n",
        "\n",
        "        if index%10000==0:\n",
        "            print(index)\n",
        "            print(sentence)\n",
        "\n",
        "        f.write(\"{}\\n\".format(sentence))\n",
        "\n",
        "        # break\n",
        "\n",
        "  f.close()\n"
      ],
      "id": "uqwBq2-glajO",
      "execution_count": null,
      "outputs": [
        {
          "output_type": "display_data",
          "data": {
            "text/html": [
              "\n",
              "  <style>\n",
              "    pre {\n",
              "        white-space: pre-wrap;\n",
              "    }\n",
              "  </style>\n",
              "  "
            ],
            "text/plain": [
              "<IPython.core.display.HTML object>"
            ]
          },
          "metadata": {}
        },
        {
          "output_type": "stream",
          "name": "stdout",
          "text": [
            "0\n",
            "There is some proof that Austen continued to work on these pieces later in life. Her nephew and niece, James Edward and Anna Austen, may have made further additions to her work in around 1814.\n",
            "10000\n",
            "He was also the Prime Minister of Lebanon from 1992 to 1998, and he became Prime Minister again in 2000.\n",
            "40000\n",
            "To make it possible to read faster, certain transcriptions of Braille use contractions.\n",
            "50000\n",
            "The Fairly OddParents became a huge hit, second only in the ratings to SpongeBob SquarePants.\n",
            "60000\n",
            "Christians believe that through faith in God they are spiritually made alive with Jesus so that they may lead a new life.\n",
            "80000\n",
            "It and its compounds are used mainly in science research though.\n",
            "110000\n",
            "Above all, it was the superhighway of transport in ancient times, allowing for trade and cultural exchange between peoples of the region -- Phoenicians, Egyptians, Carthaginians, Greeks, Romans, and the Middle East (Arab\\/Persian\\/Semitic) cultures.\n",
            "120000\n",
            "is about 1 kilometre in diameter, and orbits Jupiter at an average distance of 17,740,000 km in 482.691 days, at an inclination of 143 Â to the ecliptic (143 Â to Jupiter's equator), with an eccentricity of 0.4449.\n",
            "130000\n",
            "In the American League, pitchers do not bat, and only pitch.\n",
            "150000\n",
            "JosÃ LÃ zaro Robles (born 11 February, 1924) is a former Brazilian football player.\n",
            "160000\n",
            "The 10 piÃ ces pour orgue, composed in 1890, are Gigout's most famous compositions.\n",
            "180000\n",
            "The region's soil is very good for farming. Midwest farmers can produce lots of grain crops such as corn, oats, and, most importantly, wheat.\n",
            "200000\n",
            "Danilo Alvim (3 December 1920 -- 16 May 1996) is a former Brazilian football player.\n",
            "210000\n",
            "Water is both cold and wet.\n",
            "220000\n",
            "Though Knowles is from Texas, she had never previously been on mechanical bull.\n",
            "230000\n",
            "The classical Tamil literature of that period record many practices peculiar to Tamil people.\n",
            "0\n",
            "There are around 40,000 speakers of Upper Sorbian living in Saxony. Upper Sorbian is a minority language in Germany according to the European Charter for Regional or Minority Languages.\n"
          ]
        }
      ]
    },
    {
      "cell_type": "code",
      "metadata": {
        "id": "imOgXlNflaf-"
      },
      "source": [
        ""
      ],
      "id": "imOgXlNflaf-",
      "execution_count": null,
      "outputs": []
    },
    {
      "cell_type": "code",
      "metadata": {
        "id": "G9edE6kHlabv"
      },
      "source": [
        ""
      ],
      "id": "G9edE6kHlabv",
      "execution_count": null,
      "outputs": []
    },
    {
      "cell_type": "markdown",
      "metadata": {
        "id": "2I5w7L3QeIds"
      },
      "source": [
        "# opeartion pererving + lexical simplifition\n"
      ],
      "id": "2I5w7L3QeIds"
    },
    {
      "cell_type": "code",
      "metadata": {
        "colab": {
          "base_uri": "https://localhost:8080/",
          "height": 17
        },
        "id": "iXuQkYF2TtSw",
        "outputId": "9f574a5c-62f8-41a3-b17b-ba48f8224563"
      },
      "source": [
        "train_df = pd.read_pickle(\"/content/drive/MyDrive/muss/qualitative/train_df_0911\")\n",
        "valid_df = pd.read_pickle(\"/content/drive/MyDrive/muss/qualitative/valid_df_0911\")\n",
        "test_df = pd.read_pickle(\"/content/drive/MyDrive/muss/qualitative/test_df_0911\")"
      ],
      "id": "iXuQkYF2TtSw",
      "execution_count": null,
      "outputs": [
        {
          "output_type": "display_data",
          "data": {
            "text/html": [
              "\n",
              "  <style>\n",
              "    pre {\n",
              "        white-space: pre-wrap;\n",
              "    }\n",
              "  </style>\n",
              "  "
            ],
            "text/plain": [
              "<IPython.core.display.HTML object>"
            ]
          },
          "metadata": {}
        }
      ]
    },
    {
      "cell_type": "code",
      "metadata": {
        "colab": {
          "base_uri": "https://localhost:8080/",
          "height": 17
        },
        "id": "ch1vh1j5u7gc",
        "outputId": "4be07e9b-aebf-44f4-caf6-cf2b105a6dcc"
      },
      "source": [
        "with open('/content/drive/MyDrive/muss/qualitative/ABCD_train_C2C1B2_0911', 'rb') as f:\n",
        "    train_C2C1B2_df = pickle.load(f)\n",
        "\n",
        "with open('/content/drive/MyDrive/muss/qualitative/ABCD_valid_C2C1B2_0911', 'rb') as f:\n",
        "    valid_C2C1B2_df = pickle.load(f)\n"
      ],
      "id": "ch1vh1j5u7gc",
      "execution_count": null,
      "outputs": [
        {
          "output_type": "display_data",
          "data": {
            "text/html": [
              "\n",
              "  <style>\n",
              "    pre {\n",
              "        white-space: pre-wrap;\n",
              "    }\n",
              "  </style>\n",
              "  "
            ],
            "text/plain": [
              "<IPython.core.display.HTML object>"
            ]
          },
          "metadata": {}
        }
      ]
    },
    {
      "cell_type": "code",
      "metadata": {
        "colab": {
          "base_uri": "https://localhost:8080/",
          "height": 597
        },
        "id": "yv82oElwT0j_",
        "outputId": "4f7022a2-7542-4523-c53b-bb8961fea003"
      },
      "source": [
        "TRAIN_DF = pd.concat([train_df.drop(columns=['level_0','index']),train_C2C1B2_df.drop(columns=['complex','simple','complex_NER','simple_NER','co_occur_NER','complex_read_level','simple_read_level'])], axis=1)\n",
        "TRAIN_DF"
      ],
      "id": "yv82oElwT0j_",
      "execution_count": null,
      "outputs": [
        {
          "output_type": "display_data",
          "data": {
            "text/html": [
              "\n",
              "  <style>\n",
              "    pre {\n",
              "        white-space: pre-wrap;\n",
              "    }\n",
              "  </style>\n",
              "  "
            ],
            "text/plain": [
              "<IPython.core.display.HTML object>"
            ]
          },
          "metadata": {}
        },
        {
          "output_type": "execute_result",
          "data": {
            "text/html": [
              "<div>\n",
              "<style scoped>\n",
              "    .dataframe tbody tr th:only-of-type {\n",
              "        vertical-align: middle;\n",
              "    }\n",
              "\n",
              "    .dataframe tbody tr th {\n",
              "        vertical-align: top;\n",
              "    }\n",
              "\n",
              "    .dataframe thead th {\n",
              "        text-align: right;\n",
              "    }\n",
              "</style>\n",
              "<table border=\"1\" class=\"dataframe\">\n",
              "  <thead>\n",
              "    <tr style=\"text-align: right;\">\n",
              "      <th></th>\n",
              "      <th>complex</th>\n",
              "      <th>simple</th>\n",
              "      <th>complex_NER</th>\n",
              "      <th>simple_NER</th>\n",
              "      <th>co_occur_NER</th>\n",
              "      <th>C2C1B2_in_complex</th>\n",
              "    </tr>\n",
              "  </thead>\n",
              "  <tbody>\n",
              "    <tr>\n",
              "      <th>0</th>\n",
              "      <td>There is manuscript evidence that Austen conti...</td>\n",
              "      <td>There is some proof that Austen continued to w...</td>\n",
              "      <td>[James Edward Austen, the period 1809, Anna, 1...</td>\n",
              "      <td>[James Edward, Anna Austen, 1814]</td>\n",
              "      <td>[James Edward, Austen, Anna, 1814]</td>\n",
              "      <td>[manuscript, evidence]</td>\n",
              "    </tr>\n",
              "    <tr>\n",
              "      <th>1</th>\n",
              "      <td>In a remarkable comparative analysis, Mandaean...</td>\n",
              "      <td>Mandaean scholar Säve-Söderberg showed that Ma...</td>\n",
              "      <td>[Psalms of Thomas, Säve-Söderberg, Mani's Psal...</td>\n",
              "      <td>[Psalms of Thomas, Säve-Söderberg, Mani's Psal...</td>\n",
              "      <td>[Psalms of Thomas, Säve-Söderberg, Mani's Psal...</td>\n",
              "      <td>[comparative, analysis]</td>\n",
              "    </tr>\n",
              "    <tr>\n",
              "      <th>2</th>\n",
              "      <td>Before Persephone was released to Hermes, who ...</td>\n",
              "      <td>When Demeter went to the Underworld to rescue ...</td>\n",
              "      <td>[a period each year, six or three, Persephone,...</td>\n",
              "      <td>[Underworld, Persephone, Demeter, Hades]</td>\n",
              "      <td>[Persephone, underworld, Hades]</td>\n",
              "      <td>[released, tricked]</td>\n",
              "    </tr>\n",
              "    <tr>\n",
              "      <th>3</th>\n",
              "      <td>Cogeneration plants are commonly found in dist...</td>\n",
              "      <td>Cogeneration plants are commonly found in dist...</td>\n",
              "      <td>[Cogeneration]</td>\n",
              "      <td>[Cogeneration]</td>\n",
              "      <td>[Cogeneration]</td>\n",
              "      <td>NaN</td>\n",
              "    </tr>\n",
              "    <tr>\n",
              "      <th>4</th>\n",
              "      <td>Geneva (,;,;,;;) is the second-most-populous c...</td>\n",
              "      <td>The city's main newspaper is the Tribune de Ge...</td>\n",
              "      <td>[Switzerland, Romandie, Geneva, second, Zürich...</td>\n",
              "      <td>[the Tribune de Genève, 1 February 1879, James...</td>\n",
              "      <td>[city]</td>\n",
              "      <td>[populous, populous]</td>\n",
              "    </tr>\n",
              "    <tr>\n",
              "      <th>...</th>\n",
              "      <td>...</td>\n",
              "      <td>...</td>\n",
              "      <td>...</td>\n",
              "      <td>...</td>\n",
              "      <td>...</td>\n",
              "      <td>...</td>\n",
              "    </tr>\n",
              "    <tr>\n",
              "      <th>249161</th>\n",
              "      <td>These structures form at the high-pressure dep...</td>\n",
              "      <td>These structures form at the high-pressure dep...</td>\n",
              "      <td>[Lake Vostok]</td>\n",
              "      <td>[Lake Vostok]</td>\n",
              "      <td>[Lake Vostok]</td>\n",
              "      <td>NaN</td>\n",
              "    </tr>\n",
              "    <tr>\n",
              "      <th>249162</th>\n",
              "      <td>Saint-Maixant is a commune in the Gironde depa...</td>\n",
              "      <td>Saint-Maixant, Gironde is a commune. It is fou...</td>\n",
              "      <td>[Saint-Maixant, Aquitaine in, Gironde, France]</td>\n",
              "      <td>[Aquitaine in the Gironde, Saint-Maixant, France]</td>\n",
              "      <td>[ne in the Gironde, Saint-Maixant, Aquitaine i...</td>\n",
              "      <td>NaN</td>\n",
              "    </tr>\n",
              "    <tr>\n",
              "      <th>249163</th>\n",
              "      <td>The Hollywood Walk of Fame is a series of side...</td>\n",
              "      <td>There are many stars on the sidewalk.</td>\n",
              "      <td>[Vine Street in Hollywood, Hollywood Walk of F...</td>\n",
              "      <td>[]</td>\n",
              "      <td>[walk]</td>\n",
              "      <td>[sidewalks, monument, achievement]</td>\n",
              "    </tr>\n",
              "    <tr>\n",
              "      <th>249164</th>\n",
              "      <td>Boulogne-Billancourt is the most populous subu...</td>\n",
              "      <td>Consequently, Boulogne-Billancourt is one of t...</td>\n",
              "      <td>[Boulogne-Billancourt, Europe, Paris, one]</td>\n",
              "      <td>[Boulogne-Billancourt, Europe]</td>\n",
              "      <td>[Boulogne-Billancourt, Europe]</td>\n",
              "      <td>[populous]</td>\n",
              "    </tr>\n",
              "    <tr>\n",
              "      <th>249165</th>\n",
              "      <td>Overall, Juventus have won 51 official competi...</td>\n",
              "      <td>The club is the most successful team in the hi...</td>\n",
              "      <td>[the national First Division, Juventus, Europe...</td>\n",
              "      <td>[European, Italian, Italy, club, 51, 40, 11]</td>\n",
              "      <td>[European, Italian, club, 51, 40, 11]</td>\n",
              "      <td>[making]</td>\n",
              "    </tr>\n",
              "  </tbody>\n",
              "</table>\n",
              "<p>249166 rows × 6 columns</p>\n",
              "</div>"
            ],
            "text/plain": [
              "                                                  complex  ...                   C2C1B2_in_complex\n",
              "0       There is manuscript evidence that Austen conti...  ...              [manuscript, evidence]\n",
              "1       In a remarkable comparative analysis, Mandaean...  ...             [comparative, analysis]\n",
              "2       Before Persephone was released to Hermes, who ...  ...                 [released, tricked]\n",
              "3       Cogeneration plants are commonly found in dist...  ...                                 NaN\n",
              "4       Geneva (,;,;,;;) is the second-most-populous c...  ...                [populous, populous]\n",
              "...                                                   ...  ...                                 ...\n",
              "249161  These structures form at the high-pressure dep...  ...                                 NaN\n",
              "249162  Saint-Maixant is a commune in the Gironde depa...  ...                                 NaN\n",
              "249163  The Hollywood Walk of Fame is a series of side...  ...  [sidewalks, monument, achievement]\n",
              "249164  Boulogne-Billancourt is the most populous subu...  ...                          [populous]\n",
              "249165  Overall, Juventus have won 51 official competi...  ...                            [making]\n",
              "\n",
              "[249166 rows x 6 columns]"
            ]
          },
          "metadata": {},
          "execution_count": 15
        }
      ]
    },
    {
      "cell_type": "code",
      "metadata": {
        "colab": {
          "base_uri": "https://localhost:8080/",
          "height": 597
        },
        "id": "JvAjXtjUT0ge",
        "outputId": "c88fc22b-3618-4c1c-8265-2d9944b322f0"
      },
      "source": [
        "VALID_DF = pd.concat([valid_df.drop(columns=['level_0','index']),valid_C2C1B2_df.drop(columns=['complex','simple','complex_NER','simple_NER','co_occur_NER','complex_read_level','simple_read_level'])], axis=1)\n",
        "VALID_DF"
      ],
      "id": "JvAjXtjUT0ge",
      "execution_count": null,
      "outputs": [
        {
          "output_type": "display_data",
          "data": {
            "text/html": [
              "\n",
              "  <style>\n",
              "    pre {\n",
              "        white-space: pre-wrap;\n",
              "    }\n",
              "  </style>\n",
              "  "
            ],
            "text/plain": [
              "<IPython.core.display.HTML object>"
            ]
          },
          "metadata": {}
        },
        {
          "output_type": "execute_result",
          "data": {
            "text/html": [
              "<div>\n",
              "<style scoped>\n",
              "    .dataframe tbody tr th:only-of-type {\n",
              "        vertical-align: middle;\n",
              "    }\n",
              "\n",
              "    .dataframe tbody tr th {\n",
              "        vertical-align: top;\n",
              "    }\n",
              "\n",
              "    .dataframe thead th {\n",
              "        text-align: right;\n",
              "    }\n",
              "</style>\n",
              "<table border=\"1\" class=\"dataframe\">\n",
              "  <thead>\n",
              "    <tr style=\"text-align: right;\">\n",
              "      <th></th>\n",
              "      <th>complex</th>\n",
              "      <th>simple</th>\n",
              "      <th>complex_NER</th>\n",
              "      <th>simple_NER</th>\n",
              "      <th>co_occur_NER</th>\n",
              "      <th>C2C1B2_in_complex</th>\n",
              "    </tr>\n",
              "  </thead>\n",
              "  <tbody>\n",
              "    <tr>\n",
              "      <th>0</th>\n",
              "      <td>Upper Sorbian is a minority language spoken by...</td>\n",
              "      <td>There are around 40,000 speakers of Upper Sorb...</td>\n",
              "      <td>[Sorbs in Germany in the, Upper Sorbian, Upper...</td>\n",
              "      <td>[the European Charter for Regional or Minority...</td>\n",
              "      <td>[Upper Sorbian, in Germany, inority, Saxony]</td>\n",
              "      <td>[ica]</td>\n",
              "    </tr>\n",
              "    <tr>\n",
              "      <th>1</th>\n",
              "      <td>It used to be on display as part of the Americ...</td>\n",
              "      <td>It is on permanent display as part of the Amer...</td>\n",
              "      <td>[Library of Congress in Washington, American T...</td>\n",
              "      <td>[Library of Congress in Washington, American T...</td>\n",
              "      <td>[Library of Congress in Washington, American T...</td>\n",
              "      <td>NaN</td>\n",
              "    </tr>\n",
              "    <tr>\n",
              "      <th>2</th>\n",
              "      <td>Relation to the Nobel Prize The Sveriges Riksb...</td>\n",
              "      <td>The Sveriges Riksbank Prize in Economic Scienc...</td>\n",
              "      <td>[Nobel Prize The Sveriges Riksbank Prize in Ec...</td>\n",
              "      <td>[Sveriges Riksbank Prize in Economic Sciences ...</td>\n",
              "      <td>[The Sveriges Riksbank Prize in Economic Scien...</td>\n",
              "      <td>NaN</td>\n",
              "    </tr>\n",
              "    <tr>\n",
              "      <th>3</th>\n",
              "      <td>A shoe is an item of footwear evolved at first...</td>\n",
              "      <td>A shoe is also an item of clothing.</td>\n",
              "      <td>[first]</td>\n",
              "      <td>[]</td>\n",
              "      <td>[]</td>\n",
              "      <td>[evolved]</td>\n",
              "    </tr>\n",
              "    <tr>\n",
              "      <th>4</th>\n",
              "      <td>Of the eleven tropical cyclones that formed du...</td>\n",
              "      <td>The season officially started on May 15, 1995 ...</td>\n",
              "      <td>[Hurricane Ismael, at least 116, the season, e...</td>\n",
              "      <td>[the eastern Pacific, November 30, 1995, May 1...</td>\n",
              "      <td>[the season, the e]</td>\n",
              "      <td>[tropical, cyclones, affected]</td>\n",
              "    </tr>\n",
              "    <tr>\n",
              "      <th>...</th>\n",
              "      <td>...</td>\n",
              "      <td>...</td>\n",
              "      <td>...</td>\n",
              "      <td>...</td>\n",
              "      <td>...</td>\n",
              "      <td>...</td>\n",
              "    </tr>\n",
              "    <tr>\n",
              "      <th>812</th>\n",
              "      <td>Sedimentary rock is one of the three main rock...</td>\n",
              "      <td>Other types of rock are igneous rock and metam...</td>\n",
              "      <td>[Sedimentary, three, one]</td>\n",
              "      <td>[]</td>\n",
              "      <td>[]</td>\n",
              "      <td>NaN</td>\n",
              "    </tr>\n",
              "    <tr>\n",
              "      <th>813</th>\n",
              "      <td>\"It took more than 60 years after 1859 until t...</td>\n",
              "      <td>\"It took more than 60 years after 1859 until t...</td>\n",
              "      <td>[more than 60 years after 1859]</td>\n",
              "      <td>[more than 60 years after 1859]</td>\n",
              "      <td>[more than 60 years after 1859]</td>\n",
              "      <td>NaN</td>\n",
              "    </tr>\n",
              "    <tr>\n",
              "      <th>814</th>\n",
              "      <td>East Timor, also known as Timor-Leste (Tetum: ...</td>\n",
              "      <td>The Democratic Republic of East Timor or Timor...</td>\n",
              "      <td>[the Democratic Republic of Timor-Leste, South...</td>\n",
              "      <td>[Democratic Republic of East Timor, Southeast ...</td>\n",
              "      <td>[the democratic republic of, Democratic Republ...</td>\n",
              "      <td>[officially]</td>\n",
              "    </tr>\n",
              "    <tr>\n",
              "      <th>815</th>\n",
              "      <td>Certain artistic traditions that originated in...</td>\n",
              "      <td>Certain traditions that originated in the Byza...</td>\n",
              "      <td>[the Byzantine Empire, Eastern Orthodox, the p...</td>\n",
              "      <td>[the Byzantine Empire, Eastern Orthodox, Greec...</td>\n",
              "      <td>[the Byzantine Empire, Eastern Orthodox, Greec...</td>\n",
              "      <td>NaN</td>\n",
              "    </tr>\n",
              "    <tr>\n",
              "      <th>816</th>\n",
              "      <td>One of the largest of the Classic Maya cities,...</td>\n",
              "      <td>The ruins are on lowland rainforest, but Tikal...</td>\n",
              "      <td>[Classic Maya, Tikal, ten]</td>\n",
              "      <td>[lowland rainforest, Tikal]</td>\n",
              "      <td>[Tikal]</td>\n",
              "      <td>[reservoirs]</td>\n",
              "    </tr>\n",
              "  </tbody>\n",
              "</table>\n",
              "<p>817 rows × 6 columns</p>\n",
              "</div>"
            ],
            "text/plain": [
              "                                               complex  ...               C2C1B2_in_complex\n",
              "0    Upper Sorbian is a minority language spoken by...  ...                           [ica]\n",
              "1    It used to be on display as part of the Americ...  ...                             NaN\n",
              "2    Relation to the Nobel Prize The Sveriges Riksb...  ...                             NaN\n",
              "3    A shoe is an item of footwear evolved at first...  ...                       [evolved]\n",
              "4    Of the eleven tropical cyclones that formed du...  ...  [tropical, cyclones, affected]\n",
              "..                                                 ...  ...                             ...\n",
              "812  Sedimentary rock is one of the three main rock...  ...                             NaN\n",
              "813  \"It took more than 60 years after 1859 until t...  ...                             NaN\n",
              "814  East Timor, also known as Timor-Leste (Tetum: ...  ...                    [officially]\n",
              "815  Certain artistic traditions that originated in...  ...                             NaN\n",
              "816  One of the largest of the Classic Maya cities,...  ...                    [reservoirs]\n",
              "\n",
              "[817 rows x 6 columns]"
            ]
          },
          "metadata": {},
          "execution_count": 16
        }
      ]
    },
    {
      "cell_type": "code",
      "metadata": {
        "colab": {
          "base_uri": "https://localhost:8080/",
          "height": 17
        },
        "id": "GD12oB7GhNUa",
        "outputId": "4e961c2e-651c-4008-ef82-e0ee31608235"
      },
      "source": [
        "target_dir = '/content/drive/MyDrive/muss/resources/datasets/0913_ABCD_NER_wikilarge'\n",
        "!mkdir $target_dir"
      ],
      "id": "GD12oB7GhNUa",
      "execution_count": null,
      "outputs": [
        {
          "output_type": "display_data",
          "data": {
            "text/html": [
              "\n",
              "  <style>\n",
              "    pre {\n",
              "        white-space: pre-wrap;\n",
              "    }\n",
              "  </style>\n",
              "  "
            ],
            "text/plain": [
              "<IPython.core.display.HTML object>"
            ]
          },
          "metadata": {}
        }
      ]
    },
    {
      "cell_type": "code",
      "metadata": {
        "colab": {
          "base_uri": "https://localhost:8080/",
          "height": 17
        },
        "id": "2j4Kvbvhha9L",
        "outputId": "639e6f76-3d61-407a-c677-5bb1ba6ad523"
      },
      "source": [
        "data_names = ['train_complex', 'valid_complex']"
      ],
      "id": "2j4Kvbvhha9L",
      "execution_count": null,
      "outputs": [
        {
          "output_type": "display_data",
          "data": {
            "text/html": [
              "\n",
              "  <style>\n",
              "    pre {\n",
              "        white-space: pre-wrap;\n",
              "    }\n",
              "  </style>\n",
              "  "
            ],
            "text/plain": [
              "<IPython.core.display.HTML object>"
            ]
          },
          "metadata": {}
        }
      ]
    },
    {
      "cell_type": "code",
      "metadata": {
        "colab": {
          "base_uri": "https://localhost:8080/",
          "height": 17
        },
        "id": "8koPIXfxrp7X",
        "outputId": "db2c8fb0-1aee-4858-f0dc-212e4e57b29b"
      },
      "source": [
        "df_list = ['TRAIN_DF','VALID_DF']"
      ],
      "id": "8koPIXfxrp7X",
      "execution_count": null,
      "outputs": [
        {
          "output_type": "display_data",
          "data": {
            "text/html": [
              "\n",
              "  <style>\n",
              "    pre {\n",
              "        white-space: pre-wrap;\n",
              "    }\n",
              "  </style>\n",
              "  "
            ],
            "text/plain": [
              "<IPython.core.display.HTML object>"
            ]
          },
          "metadata": {}
        }
      ]
    },
    {
      "cell_type": "code",
      "metadata": {
        "colab": {
          "base_uri": "https://localhost:8080/",
          "height": 972
        },
        "id": "gGplpmyKhNRg",
        "outputId": "7818ef81-f884-4989-d4f4-25865b897c39"
      },
      "source": [
        "for index,data_name in enumerate(data_names):\n",
        "\n",
        "  chosen_df = globals()[df_list[index]]\n",
        "  file_name = data_name.replace('_','.')\n",
        "\n",
        "  \n",
        "  with open(target_dir+'/'+file_name, 'w') as f:\n",
        "\n",
        "    for index, row in chosen_df.iterrows():\n",
        "\n",
        "        sentence = row.complex\n",
        "        NER = row.simple_NER\n",
        "        hard_word = row.C2C1B2_in_complex\n",
        "\n",
        "        if not isinstance(hard_word, float):\n",
        "\n",
        "          sentence_w_control_token = \" <NEXT_NE> \"+\" <NEXT_NE> \".join(NER)+\" <NEXT_DIFFICULT_WORD> \"+\" <NEXT_DIFFICULT_WORD> \".join(hard_word)+ \" <SENT_START> \" + sentence\n",
        "\n",
        "\n",
        "          if index%10000==0:\n",
        "              print(index)\n",
        "              print(sentence_w_control_token)\n",
        "\n",
        "          f.write(\"{}\\n\".format(sentence_w_control_token))\n",
        "\n",
        "        # break\n",
        "\n",
        "  f.close()\n"
      ],
      "id": "gGplpmyKhNRg",
      "execution_count": null,
      "outputs": [
        {
          "output_type": "display_data",
          "data": {
            "text/html": [
              "\n",
              "  <style>\n",
              "    pre {\n",
              "        white-space: pre-wrap;\n",
              "    }\n",
              "  </style>\n",
              "  "
            ],
            "text/plain": [
              "<IPython.core.display.HTML object>"
            ]
          },
          "metadata": {}
        },
        {
          "output_type": "stream",
          "name": "stdout",
          "text": [
            "0\n",
            " <NEXT_NE> James Edward <NEXT_NE> Anna Austen <NEXT_NE> 1814 <NEXT_DIFFICULT_WORD> manuscript <NEXT_DIFFICULT_WORD> evidence <SENT_START> There is manuscript evidence that Austen continued to work on these pieces as late as the period 1809 â \"11, and that her niece and nephew, Anna and James Edward Austen, made further additions as late as 1814.\n",
            "10000\n",
            " <NEXT_NE> Prime Minister of Lebanon <NEXT_NE> 1992 <NEXT_NE> 1998 <NEXT_NE> 2000 <NEXT_DIFFICULT_WORD> 's <NEXT_DIFFICULT_WORD> watchful <NEXT_DIFFICULT_WORD> issuing <NEXT_DIFFICULT_WORD> plaudits <NEXT_DIFFICULT_WORD> borrow <NEXT_DIFFICULT_WORD> reconstruction <NEXT_DIFFICULT_WORD> capita <SENT_START> In 1992, he became a prime minister, under Syria's watchful and military occupation of Lebanon, he put the country back on the financial map through the issuing of Eurobonds and won plaudits from the World Bank for his plan to borrow reconstruction money as the country's debt grew to become the largest per capita in the world.\n",
            "40000\n",
            " <NEXT_NE> Braille <NEXT_DIFFICULT_WORD> devised <SENT_START> Braille was devised in 1821 by Louis Braille, a blind Frenchman.\n",
            "50000\n",
            " <NEXT_NE> SpongeBob SquarePants <NEXT_NE> Fairly OddParents <NEXT_NE> second <NEXT_DIFFICULT_WORD> intern <NEXT_DIFFICULT_WORD> animator <SENT_START> While still attending the California Institute of the Arts, Hartman received the chance to intern as an in-between animator on the Don Bluth film, \"An American Tail\".\n",
            "60000\n",
            " <NEXT_NE> Christians <NEXT_NE> Jesus <NEXT_NE> God <NEXT_DIFFICULT_WORD> resurrected <SENT_START> Christians, through faith in the working of God are spiritually resurrected with Jesus so that they may walk in a new way of life.\n",
            "80000\n",
            " <NEXT_NE>  <NEXT_DIFFICULT_WORD> rubidium <NEXT_DIFFICULT_WORD> reactive <NEXT_DIFFICULT_WORD> properties <NEXT_DIFFICULT_WORD> rapid <NEXT_DIFFICULT_WORD> oxidation <SENT_START> Elemental rubidium is very soft and highly reactive, with properties similar to other elements in group 1, such as very rapid oxidation in air.\n",
            "110000\n",
            " <NEXT_NE> Arab\\/Persian\\/Semitic <NEXT_NE> the Middle East <NEXT_NE> Carthaginians <NEXT_NE> Phoenicians <NEXT_NE> Egyptians <NEXT_NE> Greeks <NEXT_NE> Romans <NEXT_DIFFICULT_WORD> technically <NEXT_DIFFICULT_WORD> identified <SENT_START> The sea is technically a part of the Atlantic Ocean, although it is usually identified as a completely separate body of water.\n",
            "120000\n",
            " <NEXT_NE> about 1 kilometre <NEXT_NE> 17,740,000 km <NEXT_NE> 482.691 days <NEXT_NE> Jupiter <NEXT_NE> 0.4449 <NEXT_NE> 143 <NEXT_DIFFICULT_WORD> retrograde <SENT_START> is about 1 kilometre in diameter, and orbits Jupiter at an average distance of 17,883 Mm in 489.72 days, at an inclination of 143 Â to the ecliptic (143 Â to Jupiter's equator), in a retrograde direction and with an eccentricity of 0.4920.\n",
            "130000\n",
            " <NEXT_NE> the American League <NEXT_DIFFICULT_WORD> hitters <NEXT_DIFFICULT_WORD> primarily <NEXT_DIFFICULT_WORD> substitute <SENT_START> Designated hitters - used primarily by the American League as a substitute for the pitcher, but only for batting.\n",
            "150000\n",
            " <NEXT_NE> JosÃ LÃ zaro Robles <NEXT_NE> 11 February, 1924 <NEXT_NE> Brazilian <NEXT_DIFFICULT_WORD> as <SENT_START> JosÃ LÃ zaro Robles, best known as Pinga (February 11, 1924 -- May 7, 1996) was a Brazilian footballer.\n",
            "160000\n",
            " <NEXT_NE> Gigout <NEXT_NE> 1890 <NEXT_NE> 10 <NEXT_DIFFICULT_WORD> celebrated <SENT_START> The 10 piÃ ces pour orgue (composed 1890) are Gigout's most celebrated compositions.\n",
            "180000\n",
            " <NEXT_NE> Midwest <NEXT_DIFFICULT_WORD> fertile <NEXT_DIFFICULT_WORD> made <NEXT_DIFFICULT_WORD> it <NEXT_DIFFICULT_WORD> abundant <NEXT_DIFFICULT_WORD> harvests <NEXT_DIFFICULT_WORD> cereal <SENT_START> The region's fertile soil made it possible for farmers to produce abundant harvests of cereal crops such as corn, oats, and, most importantly, wheat.\n",
            "200000\n",
            " <NEXT_NE> 3 December 1920 <NEXT_NE> Danilo Alvim <NEXT_NE> Brazilian <NEXT_NE> May 1996 <NEXT_NE> 16 <NEXT_DIFFICULT_WORD> ndash <SENT_START> Danilo Alvim Faria (3 December 1920 & ndash; 16 May 1996) was a Brazilian footballer.\n",
            "210000\n",
            " <NEXT_NE> Water <NEXT_DIFFICULT_WORD> secondarily <SENT_START> Water is primarily cold and secondarily wet.\n",
            "220000\n",
            " <NEXT_NE> Knowles <NEXT_NE> Texas <NEXT_DIFFICULT_WORD> sample <SENT_START> It contains a sample of Jake Wade and the Soul Searchers' song \"Searching for Soul\", which was written by Chuck Middleton.\n",
            "230000\n",
            " <NEXT_NE> Tamil <NEXT_DIFFICULT_WORD> considered <NEXT_DIFFICULT_WORD> peculiarly <SENT_START> The literature shows that many of the cultural practices that are considered peculiarly Tamil date back to the classical period.\n",
            "0\n",
            " <NEXT_NE> the European Charter for Regional or Minority Languages <NEXT_NE> around 40,000 <NEXT_NE> Upper Sorbian <NEXT_NE> Germany <NEXT_NE> Saxony <NEXT_DIFFICULT_WORD> ica <SENT_START> Upper Sorbian is a minority language spoken by Sorbs in Germany in the historical province of Upper Lusatia (Hornja Å uÅ 3\\/4 ica in Sorbian), which is today part of Saxony.\n"
          ]
        }
      ]
    },
    {
      "cell_type": "code",
      "metadata": {
        "id": "rs7pmOLhhNMK",
        "colab": {
          "base_uri": "https://localhost:8080/",
          "height": 17
        },
        "outputId": "e601c3ae-2dd0-4879-f154-0614e081a4ff"
      },
      "source": [
        "data_names = ['train_simple', 'valid_simple']"
      ],
      "id": "rs7pmOLhhNMK",
      "execution_count": null,
      "outputs": [
        {
          "output_type": "display_data",
          "data": {
            "text/html": [
              "\n",
              "  <style>\n",
              "    pre {\n",
              "        white-space: pre-wrap;\n",
              "    }\n",
              "  </style>\n",
              "  "
            ],
            "text/plain": [
              "<IPython.core.display.HTML object>"
            ]
          },
          "metadata": {}
        }
      ]
    },
    {
      "cell_type": "code",
      "metadata": {
        "id": "hpwgzs1MhNJA",
        "colab": {
          "base_uri": "https://localhost:8080/",
          "height": 697
        },
        "outputId": "4f70b38f-ca62-4b5d-cf9f-ae035a71ed74"
      },
      "source": [
        "# train.simple & valid.simple\n",
        "for index,data_name in enumerate(data_names):\n",
        "\n",
        "  chosen_df = globals()[df_list[index]]\n",
        "  file_name = data_name.replace('_','.')\n",
        "  \n",
        "  with open(target_dir+'/'+file_name, 'w') as f:\n",
        "\n",
        "    for index, row in chosen_df.iterrows():\n",
        "\n",
        "        sentence = row.simple\n",
        "        hard_word = row.C2C1B2_in_complex\n",
        "\n",
        "        if not isinstance(hard_word, float):\n",
        "\n",
        "          if index%10000==0:\n",
        "              print(index)\n",
        "              print(sentence)\n",
        "\n",
        "          f.write(\"{}\\n\".format(sentence))\n",
        "\n",
        "        # break\n",
        "\n",
        "  f.close()\n"
      ],
      "id": "hpwgzs1MhNJA",
      "execution_count": null,
      "outputs": [
        {
          "output_type": "display_data",
          "data": {
            "text/html": [
              "\n",
              "  <style>\n",
              "    pre {\n",
              "        white-space: pre-wrap;\n",
              "    }\n",
              "  </style>\n",
              "  "
            ],
            "text/plain": [
              "<IPython.core.display.HTML object>"
            ]
          },
          "metadata": {}
        },
        {
          "output_type": "stream",
          "name": "stdout",
          "text": [
            "0\n",
            "There is some proof that Austen continued to work on these pieces later in life. Her nephew and niece, James Edward and Anna Austen, may have made further additions to her work in around 1814.\n",
            "10000\n",
            "He was also the Prime Minister of Lebanon from 1992 to 1998, and he became Prime Minister again in 2000.\n",
            "40000\n",
            "To make it possible to read faster, certain transcriptions of Braille use contractions.\n",
            "50000\n",
            "The Fairly OddParents became a huge hit, second only in the ratings to SpongeBob SquarePants.\n",
            "60000\n",
            "Christians believe that through faith in God they are spiritually made alive with Jesus so that they may lead a new life.\n",
            "80000\n",
            "It and its compounds are used mainly in science research though.\n",
            "110000\n",
            "Above all, it was the superhighway of transport in ancient times, allowing for trade and cultural exchange between peoples of the region -- Phoenicians, Egyptians, Carthaginians, Greeks, Romans, and the Middle East (Arab\\/Persian\\/Semitic) cultures.\n",
            "120000\n",
            "is about 1 kilometre in diameter, and orbits Jupiter at an average distance of 17,740,000 km in 482.691 days, at an inclination of 143 Â to the ecliptic (143 Â to Jupiter's equator), with an eccentricity of 0.4449.\n",
            "130000\n",
            "In the American League, pitchers do not bat, and only pitch.\n",
            "150000\n",
            "JosÃ LÃ zaro Robles (born 11 February, 1924) is a former Brazilian football player.\n",
            "160000\n",
            "The 10 piÃ ces pour orgue, composed in 1890, are Gigout's most famous compositions.\n",
            "180000\n",
            "The region's soil is very good for farming. Midwest farmers can produce lots of grain crops such as corn, oats, and, most importantly, wheat.\n",
            "200000\n",
            "Danilo Alvim (3 December 1920 -- 16 May 1996) is a former Brazilian football player.\n",
            "210000\n",
            "Water is both cold and wet.\n",
            "220000\n",
            "Though Knowles is from Texas, she had never previously been on mechanical bull.\n",
            "230000\n",
            "The classical Tamil literature of that period record many practices peculiar to Tamil people.\n",
            "0\n",
            "There are around 40,000 speakers of Upper Sorbian living in Saxony. Upper Sorbian is a minority language in Germany according to the European Charter for Regional or Minority Languages.\n"
          ]
        }
      ]
    },
    {
      "cell_type": "code",
      "metadata": {
        "id": "9LiRVPeIhNFw"
      },
      "source": [
        ""
      ],
      "id": "9LiRVPeIhNFw",
      "execution_count": null,
      "outputs": []
    }
  ]
}