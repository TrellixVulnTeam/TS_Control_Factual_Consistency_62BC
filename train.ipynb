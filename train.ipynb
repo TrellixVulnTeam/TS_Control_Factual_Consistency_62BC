{
  "nbformat": 4,
  "nbformat_minor": 0,
  "metadata": {
    "colab": {
      "name": "git_train.ipynb",
      "provenance": [],
      "collapsed_sections": [],
      "toc_visible": true,
      "machine_shape": "hm"
    },
    "kernelspec": {
      "name": "python3",
      "display_name": "Python 3"
    },
    "language_info": {
      "name": "python"
    },
    "accelerator": "GPU"
  },
  "cells": [
    {
      "cell_type": "markdown",
      "metadata": {
        "id": "m2eMKJFZZZVE"
      },
      "source": [
        "# setup"
      ]
    },
    {
      "cell_type": "code",
      "metadata": {
        "id": "V_uxuWPm3ZWt"
      },
      "source": [
        "from IPython.display import HTML, display\n",
        "\n",
        "def set_css():\n",
        "  display(HTML('''\n",
        "  <style>\n",
        "    pre {\n",
        "        white-space: pre-wrap;\n",
        "    }\n",
        "  </style>\n",
        "  '''))\n",
        "get_ipython().events.register('pre_run_cell', set_css)"
      ],
      "execution_count": null,
      "outputs": []
    },
    {
      "cell_type": "code",
      "metadata": {
        "colab": {
          "base_uri": "https://localhost:8080/",
          "height": 35
        },
        "id": "FnwF1GoI3svl",
        "outputId": "adc193d6-1277-4b96-9128-259a89d26fa9"
      },
      "source": [
        "from google.colab import drive\n",
        "drive.mount('/content/drive')"
      ],
      "execution_count": null,
      "outputs": [
        {
          "output_type": "display_data",
          "data": {
            "text/html": [
              "\n",
              "  <style>\n",
              "    pre {\n",
              "        white-space: pre-wrap;\n",
              "    }\n",
              "  </style>\n",
              "  "
            ],
            "text/plain": [
              "<IPython.core.display.HTML object>"
            ]
          },
          "metadata": {}
        },
        {
          "output_type": "stream",
          "name": "stdout",
          "text": [
            "Mounted at /content/drive\n"
          ]
        }
      ]
    },
    {
      "cell_type": "code",
      "metadata": {
        "id": "WzP7dftl04ZS",
        "colab": {
          "base_uri": "https://localhost:8080/",
          "height": 384
        },
        "outputId": "d1560afa-1e3b-4714-ab48-60bd85778774"
      },
      "source": [
        "gpu_info = !nvidia-smi\n",
        "gpu_info = '\\n'.join(gpu_info)\n",
        "if gpu_info.find('failed') >= 0:\n",
        "  print('Select the Runtime > \"Change runtime type\" menu to enable a GPU accelerator, ')\n",
        "  print('and then re-execute this cell.')\n",
        "else:\n",
        "  print(gpu_info)"
      ],
      "execution_count": null,
      "outputs": [
        {
          "output_type": "display_data",
          "data": {
            "text/html": [
              "\n",
              "  <style>\n",
              "    pre {\n",
              "        white-space: pre-wrap;\n",
              "    }\n",
              "  </style>\n",
              "  "
            ],
            "text/plain": [
              "<IPython.core.display.HTML object>"
            ]
          },
          "metadata": {}
        },
        {
          "output_type": "stream",
          "name": "stdout",
          "text": [
            "Tue Sep 14 14:33:24 2021       \n",
            "+-----------------------------------------------------------------------------+\n",
            "| NVIDIA-SMI 470.63.01    Driver Version: 460.32.03    CUDA Version: 11.2     |\n",
            "|-------------------------------+----------------------+----------------------+\n",
            "| GPU  Name        Persistence-M| Bus-Id        Disp.A | Volatile Uncorr. ECC |\n",
            "| Fan  Temp  Perf  Pwr:Usage/Cap|         Memory-Usage | GPU-Util  Compute M. |\n",
            "|                               |                      |               MIG M. |\n",
            "|===============================+======================+======================|\n",
            "|   0  Tesla T4            Off  | 00000000:00:04.0 Off |                    0 |\n",
            "| N/A   51C    P8    10W /  70W |      0MiB / 15109MiB |      0%      Default |\n",
            "|                               |                      |                  N/A |\n",
            "+-------------------------------+----------------------+----------------------+\n",
            "                                                                               \n",
            "+-----------------------------------------------------------------------------+\n",
            "| Processes:                                                                  |\n",
            "|  GPU   GI   CI        PID   Type   Process name                  GPU Memory |\n",
            "|        ID   ID                                                   Usage      |\n",
            "|=============================================================================|\n",
            "|  No running processes found                                                 |\n",
            "+-----------------------------------------------------------------------------+\n"
          ]
        }
      ]
    },
    {
      "cell_type": "code",
      "metadata": {
        "id": "G-gO2NRF8k_m",
        "colab": {
          "base_uri": "https://localhost:8080/",
          "height": 35
        },
        "outputId": "0e35c13a-bba3-4132-a378-361a399103fb"
      },
      "source": [
        "cd /content/drive/MyDrive/muss"
      ],
      "execution_count": null,
      "outputs": [
        {
          "output_type": "display_data",
          "data": {
            "text/html": [
              "\n",
              "  <style>\n",
              "    pre {\n",
              "        white-space: pre-wrap;\n",
              "    }\n",
              "  </style>\n",
              "  "
            ],
            "text/plain": [
              "<IPython.core.display.HTML object>"
            ]
          },
          "metadata": {}
        },
        {
          "output_type": "stream",
          "name": "stdout",
          "text": [
            "/content/drive/MyDrive/muss\n"
          ]
        }
      ]
    },
    {
      "cell_type": "code",
      "metadata": {
        "id": "_7WNwrzE8k9c",
        "colab": {
          "base_uri": "https://localhost:8080/",
          "height": 17
        },
        "outputId": "4875cde3-5f05-4a35-ab77-fdf22dad381d"
      },
      "source": [
        "pip install -e . &> /dev/null"
      ],
      "execution_count": null,
      "outputs": [
        {
          "output_type": "display_data",
          "data": {
            "text/html": [
              "\n",
              "  <style>\n",
              "    pre {\n",
              "        white-space: pre-wrap;\n",
              "    }\n",
              "  </style>\n",
              "  "
            ],
            "text/plain": [
              "<IPython.core.display.HTML object>"
            ]
          },
          "metadata": {}
        }
      ]
    },
    {
      "cell_type": "code",
      "metadata": {
        "id": "6Y8fgnNN90IB",
        "colab": {
          "base_uri": "https://localhost:8080/",
          "height": 17
        },
        "outputId": "65dce934-c006-4a6a-e1a6-83174cca21e5"
      },
      "source": [
        "!python -m spacy download en_core_web_md &> /dev/null"
      ],
      "execution_count": null,
      "outputs": [
        {
          "output_type": "display_data",
          "data": {
            "text/html": [
              "\n",
              "  <style>\n",
              "    pre {\n",
              "        white-space: pre-wrap;\n",
              "    }\n",
              "  </style>\n",
              "  "
            ],
            "text/plain": [
              "<IPython.core.display.HTML object>"
            ]
          },
          "metadata": {}
        }
      ]
    },
    {
      "cell_type": "code",
      "metadata": {
        "id": "2mm678e9E7a_",
        "colab": {
          "base_uri": "https://localhost:8080/",
          "height": 293
        },
        "outputId": "a2adb6b1-0cc7-44fa-ea0a-88f0e67c117a"
      },
      "source": [
        "!pip install sacrebleu==1.5.1"
      ],
      "execution_count": null,
      "outputs": [
        {
          "output_type": "display_data",
          "data": {
            "text/html": [
              "\n",
              "  <style>\n",
              "    pre {\n",
              "        white-space: pre-wrap;\n",
              "    }\n",
              "  </style>\n",
              "  "
            ],
            "text/plain": [
              "<IPython.core.display.HTML object>"
            ]
          },
          "metadata": {}
        },
        {
          "output_type": "stream",
          "name": "stdout",
          "text": [
            "Collecting sacrebleu==1.5.1\n",
            "  Downloading sacrebleu-1.5.1-py3-none-any.whl (54 kB)\n",
            "\u001b[?25l\r\u001b[K     |██████                          | 10 kB 40.1 MB/s eta 0:00:01\r\u001b[K     |████████████                    | 20 kB 22.0 MB/s eta 0:00:01\r\u001b[K     |██████████████████              | 30 kB 17.8 MB/s eta 0:00:01\r\u001b[K     |████████████████████████        | 40 kB 16.0 MB/s eta 0:00:01\r\u001b[K     |██████████████████████████████  | 51 kB 7.0 MB/s eta 0:00:01\r\u001b[K     |████████████████████████████████| 54 kB 2.5 MB/s \n",
            "\u001b[?25hCollecting portalocker==2.0.0\n",
            "  Downloading portalocker-2.0.0-py2.py3-none-any.whl (11 kB)\n",
            "Installing collected packages: portalocker, sacrebleu\n",
            "  Attempting uninstall: portalocker\n",
            "    Found existing installation: portalocker 2.3.2\n",
            "    Uninstalling portalocker-2.3.2:\n",
            "      Successfully uninstalled portalocker-2.3.2\n",
            "  Attempting uninstall: sacrebleu\n",
            "    Found existing installation: sacrebleu 2.0.0\n",
            "    Uninstalling sacrebleu-2.0.0:\n",
            "      Successfully uninstalled sacrebleu-2.0.0\n",
            "Successfully installed portalocker-2.0.0 sacrebleu-1.5.1\n"
          ]
        }
      ]
    },
    {
      "cell_type": "code",
      "metadata": {
        "id": "WDscw7RcE5_v",
        "colab": {
          "base_uri": "https://localhost:8080/",
          "height": 54
        },
        "outputId": "4ab196ca-c01f-4ab9-d91c-a709d25965ba"
      },
      "source": [
        "!pip install sacrebleu==1.5.1"
      ],
      "execution_count": null,
      "outputs": [
        {
          "output_type": "display_data",
          "data": {
            "text/html": [
              "\n",
              "  <style>\n",
              "    pre {\n",
              "        white-space: pre-wrap;\n",
              "    }\n",
              "  </style>\n",
              "  "
            ],
            "text/plain": [
              "<IPython.core.display.HTML object>"
            ]
          },
          "metadata": {}
        },
        {
          "output_type": "stream",
          "name": "stdout",
          "text": [
            "Requirement already satisfied: sacrebleu==1.5.1 in /usr/local/lib/python3.7/dist-packages (1.5.1)\n",
            "Requirement already satisfied: portalocker==2.0.0 in /usr/local/lib/python3.7/dist-packages (from sacrebleu==1.5.1) (2.0.0)\n"
          ]
        }
      ]
    },
    {
      "cell_type": "markdown",
      "metadata": {
        "id": "fp3c7LSZDnc2"
      },
      "source": [
        "# train"
      ]
    },
    {
      "cell_type": "code",
      "metadata": {
        "id": "qBoG6tTMQjdW",
        "colab": {
          "base_uri": "https://localhost:8080/"
        },
        "outputId": "dc104b70-4ecd-4f84-ddfd-63f365c461c6"
      },
      "source": [
        "!pip install fairseq==0.10.2"
      ],
      "execution_count": null,
      "outputs": [
        {
          "output_type": "display_data",
          "data": {
            "text/html": [
              "\n",
              "  <style>\n",
              "    pre {\n",
              "        white-space: pre-wrap;\n",
              "    }\n",
              "  </style>\n",
              "  "
            ],
            "text/plain": [
              "<IPython.core.display.HTML object>"
            ]
          },
          "metadata": {}
        },
        {
          "output_type": "stream",
          "name": "stdout",
          "text": [
            "Collecting fairseq==0.10.2\n",
            "  Downloading fairseq-0.10.2-cp37-cp37m-manylinux1_x86_64.whl (1.7 MB)\n",
            "\u001b[?25l\r\u001b[K     |▏                               | 10 kB 29.5 MB/s eta 0:00:01\r\u001b[K     |▍                               | 20 kB 33.8 MB/s eta 0:00:01\r\u001b[K     |▋                               | 30 kB 21.7 MB/s eta 0:00:01\r\u001b[K     |▊                               | 40 kB 18.0 MB/s eta 0:00:01\r\u001b[K     |█                               | 51 kB 10.3 MB/s eta 0:00:01\r\u001b[K     |█▏                              | 61 kB 10.0 MB/s eta 0:00:01\r\u001b[K     |█▍                              | 71 kB 10.3 MB/s eta 0:00:01\r\u001b[K     |█▌                              | 81 kB 11.4 MB/s eta 0:00:01\r\u001b[K     |█▊                              | 92 kB 8.7 MB/s eta 0:00:01\r\u001b[K     |██                              | 102 kB 9.5 MB/s eta 0:00:01\r\u001b[K     |██▏                             | 112 kB 9.5 MB/s eta 0:00:01\r\u001b[K     |██▎                             | 122 kB 9.5 MB/s eta 0:00:01\r\u001b[K     |██▌                             | 133 kB 9.5 MB/s eta 0:00:01\r\u001b[K     |██▊                             | 143 kB 9.5 MB/s eta 0:00:01\r\u001b[K     |███                             | 153 kB 9.5 MB/s eta 0:00:01\r\u001b[K     |███                             | 163 kB 9.5 MB/s eta 0:00:01\r\u001b[K     |███▎                            | 174 kB 9.5 MB/s eta 0:00:01\r\u001b[K     |███▌                            | 184 kB 9.5 MB/s eta 0:00:01\r\u001b[K     |███▊                            | 194 kB 9.5 MB/s eta 0:00:01\r\u001b[K     |███▉                            | 204 kB 9.5 MB/s eta 0:00:01\r\u001b[K     |████                            | 215 kB 9.5 MB/s eta 0:00:01\r\u001b[K     |████▎                           | 225 kB 9.5 MB/s eta 0:00:01\r\u001b[K     |████▌                           | 235 kB 9.5 MB/s eta 0:00:01\r\u001b[K     |████▋                           | 245 kB 9.5 MB/s eta 0:00:01\r\u001b[K     |████▉                           | 256 kB 9.5 MB/s eta 0:00:01\r\u001b[K     |█████                           | 266 kB 9.5 MB/s eta 0:00:01\r\u001b[K     |█████▎                          | 276 kB 9.5 MB/s eta 0:00:01\r\u001b[K     |█████▍                          | 286 kB 9.5 MB/s eta 0:00:01\r\u001b[K     |█████▋                          | 296 kB 9.5 MB/s eta 0:00:01\r\u001b[K     |█████▉                          | 307 kB 9.5 MB/s eta 0:00:01\r\u001b[K     |██████                          | 317 kB 9.5 MB/s eta 0:00:01\r\u001b[K     |██████▏                         | 327 kB 9.5 MB/s eta 0:00:01\r\u001b[K     |██████▍                         | 337 kB 9.5 MB/s eta 0:00:01\r\u001b[K     |██████▋                         | 348 kB 9.5 MB/s eta 0:00:01\r\u001b[K     |██████▉                         | 358 kB 9.5 MB/s eta 0:00:01\r\u001b[K     |███████                         | 368 kB 9.5 MB/s eta 0:00:01\r\u001b[K     |███████▏                        | 378 kB 9.5 MB/s eta 0:00:01\r\u001b[K     |███████▍                        | 389 kB 9.5 MB/s eta 0:00:01\r\u001b[K     |███████▋                        | 399 kB 9.5 MB/s eta 0:00:01\r\u001b[K     |███████▊                        | 409 kB 9.5 MB/s eta 0:00:01\r\u001b[K     |████████                        | 419 kB 9.5 MB/s eta 0:00:01\r\u001b[K     |████████▏                       | 430 kB 9.5 MB/s eta 0:00:01\r\u001b[K     |████████▍                       | 440 kB 9.5 MB/s eta 0:00:01\r\u001b[K     |████████▌                       | 450 kB 9.5 MB/s eta 0:00:01\r\u001b[K     |████████▊                       | 460 kB 9.5 MB/s eta 0:00:01\r\u001b[K     |█████████                       | 471 kB 9.5 MB/s eta 0:00:01\r\u001b[K     |█████████▏                      | 481 kB 9.5 MB/s eta 0:00:01\r\u001b[K     |█████████▎                      | 491 kB 9.5 MB/s eta 0:00:01\r\u001b[K     |█████████▌                      | 501 kB 9.5 MB/s eta 0:00:01\r\u001b[K     |█████████▊                      | 512 kB 9.5 MB/s eta 0:00:01\r\u001b[K     |█████████▉                      | 522 kB 9.5 MB/s eta 0:00:01\r\u001b[K     |██████████                      | 532 kB 9.5 MB/s eta 0:00:01\r\u001b[K     |██████████▎                     | 542 kB 9.5 MB/s eta 0:00:01\r\u001b[K     |██████████▌                     | 552 kB 9.5 MB/s eta 0:00:01\r\u001b[K     |██████████▋                     | 563 kB 9.5 MB/s eta 0:00:01\r\u001b[K     |██████████▉                     | 573 kB 9.5 MB/s eta 0:00:01\r\u001b[K     |███████████                     | 583 kB 9.5 MB/s eta 0:00:01\r\u001b[K     |███████████▎                    | 593 kB 9.5 MB/s eta 0:00:01\r\u001b[K     |███████████▍                    | 604 kB 9.5 MB/s eta 0:00:01\r\u001b[K     |███████████▋                    | 614 kB 9.5 MB/s eta 0:00:01\r\u001b[K     |███████████▉                    | 624 kB 9.5 MB/s eta 0:00:01\r\u001b[K     |████████████                    | 634 kB 9.5 MB/s eta 0:00:01\r\u001b[K     |████████████▏                   | 645 kB 9.5 MB/s eta 0:00:01\r\u001b[K     |████████████▍                   | 655 kB 9.5 MB/s eta 0:00:01\r\u001b[K     |████████████▋                   | 665 kB 9.5 MB/s eta 0:00:01\r\u001b[K     |████████████▉                   | 675 kB 9.5 MB/s eta 0:00:01\r\u001b[K     |█████████████                   | 686 kB 9.5 MB/s eta 0:00:01\r\u001b[K     |█████████████▏                  | 696 kB 9.5 MB/s eta 0:00:01\r\u001b[K     |█████████████▍                  | 706 kB 9.5 MB/s eta 0:00:01\r\u001b[K     |█████████████▋                  | 716 kB 9.5 MB/s eta 0:00:01\r\u001b[K     |█████████████▊                  | 727 kB 9.5 MB/s eta 0:00:01\r\u001b[K     |██████████████                  | 737 kB 9.5 MB/s eta 0:00:01\r\u001b[K     |██████████████▏                 | 747 kB 9.5 MB/s eta 0:00:01\r\u001b[K     |██████████████▍                 | 757 kB 9.5 MB/s eta 0:00:01\r\u001b[K     |██████████████▌                 | 768 kB 9.5 MB/s eta 0:00:01\r\u001b[K     |██████████████▊                 | 778 kB 9.5 MB/s eta 0:00:01\r\u001b[K     |███████████████                 | 788 kB 9.5 MB/s eta 0:00:01\r\u001b[K     |███████████████▏                | 798 kB 9.5 MB/s eta 0:00:01\r\u001b[K     |███████████████▎                | 808 kB 9.5 MB/s eta 0:00:01\r\u001b[K     |███████████████▌                | 819 kB 9.5 MB/s eta 0:00:01\r\u001b[K     |███████████████▊                | 829 kB 9.5 MB/s eta 0:00:01\r\u001b[K     |████████████████                | 839 kB 9.5 MB/s eta 0:00:01\r\u001b[K     |████████████████                | 849 kB 9.5 MB/s eta 0:00:01\r\u001b[K     |████████████████▎               | 860 kB 9.5 MB/s eta 0:00:01\r\u001b[K     |████████████████▌               | 870 kB 9.5 MB/s eta 0:00:01\r\u001b[K     |████████████████▊               | 880 kB 9.5 MB/s eta 0:00:01\r\u001b[K     |████████████████▉               | 890 kB 9.5 MB/s eta 0:00:01\r\u001b[K     |█████████████████               | 901 kB 9.5 MB/s eta 0:00:01\r\u001b[K     |█████████████████▎              | 911 kB 9.5 MB/s eta 0:00:01\r\u001b[K     |█████████████████▌              | 921 kB 9.5 MB/s eta 0:00:01\r\u001b[K     |█████████████████▋              | 931 kB 9.5 MB/s eta 0:00:01\r\u001b[K     |█████████████████▉              | 942 kB 9.5 MB/s eta 0:00:01\r\u001b[K     |██████████████████              | 952 kB 9.5 MB/s eta 0:00:01\r\u001b[K     |██████████████████▎             | 962 kB 9.5 MB/s eta 0:00:01\r\u001b[K     |██████████████████▍             | 972 kB 9.5 MB/s eta 0:00:01\r\u001b[K     |██████████████████▋             | 983 kB 9.5 MB/s eta 0:00:01\r\u001b[K     |██████████████████▉             | 993 kB 9.5 MB/s eta 0:00:01\r\u001b[K     |███████████████████             | 1.0 MB 9.5 MB/s eta 0:00:01\r\u001b[K     |███████████████████▏            | 1.0 MB 9.5 MB/s eta 0:00:01\r\u001b[K     |███████████████████▍            | 1.0 MB 9.5 MB/s eta 0:00:01\r\u001b[K     |███████████████████▋            | 1.0 MB 9.5 MB/s eta 0:00:01\r\u001b[K     |███████████████████▊            | 1.0 MB 9.5 MB/s eta 0:00:01\r\u001b[K     |████████████████████            | 1.1 MB 9.5 MB/s eta 0:00:01\r\u001b[K     |████████████████████▏           | 1.1 MB 9.5 MB/s eta 0:00:01\r\u001b[K     |████████████████████▍           | 1.1 MB 9.5 MB/s eta 0:00:01\r\u001b[K     |████████████████████▌           | 1.1 MB 9.5 MB/s eta 0:00:01\r\u001b[K     |████████████████████▊           | 1.1 MB 9.5 MB/s eta 0:00:01\r\u001b[K     |█████████████████████           | 1.1 MB 9.5 MB/s eta 0:00:01\r\u001b[K     |█████████████████████▏          | 1.1 MB 9.5 MB/s eta 0:00:01\r\u001b[K     |█████████████████████▎          | 1.1 MB 9.5 MB/s eta 0:00:01\r\u001b[K     |█████████████████████▌          | 1.1 MB 9.5 MB/s eta 0:00:01\r\u001b[K     |█████████████████████▊          | 1.1 MB 9.5 MB/s eta 0:00:01\r\u001b[K     |██████████████████████          | 1.2 MB 9.5 MB/s eta 0:00:01\r\u001b[K     |██████████████████████          | 1.2 MB 9.5 MB/s eta 0:00:01\r\u001b[K     |██████████████████████▎         | 1.2 MB 9.5 MB/s eta 0:00:01\r\u001b[K     |██████████████████████▌         | 1.2 MB 9.5 MB/s eta 0:00:01\r\u001b[K     |██████████████████████▊         | 1.2 MB 9.5 MB/s eta 0:00:01\r\u001b[K     |██████████████████████▉         | 1.2 MB 9.5 MB/s eta 0:00:01\r\u001b[K     |███████████████████████         | 1.2 MB 9.5 MB/s eta 0:00:01\r\u001b[K     |███████████████████████▎        | 1.2 MB 9.5 MB/s eta 0:00:01\r\u001b[K     |███████████████████████▌        | 1.2 MB 9.5 MB/s eta 0:00:01\r\u001b[K     |███████████████████████▋        | 1.2 MB 9.5 MB/s eta 0:00:01\r\u001b[K     |███████████████████████▉        | 1.3 MB 9.5 MB/s eta 0:00:01\r\u001b[K     |████████████████████████        | 1.3 MB 9.5 MB/s eta 0:00:01\r\u001b[K     |████████████████████████▎       | 1.3 MB 9.5 MB/s eta 0:00:01\r\u001b[K     |████████████████████████▍       | 1.3 MB 9.5 MB/s eta 0:00:01\r\u001b[K     |████████████████████████▋       | 1.3 MB 9.5 MB/s eta 0:00:01\r\u001b[K     |████████████████████████▉       | 1.3 MB 9.5 MB/s eta 0:00:01\r\u001b[K     |█████████████████████████       | 1.3 MB 9.5 MB/s eta 0:00:01\r\u001b[K     |█████████████████████████▏      | 1.3 MB 9.5 MB/s eta 0:00:01\r\u001b[K     |█████████████████████████▍      | 1.3 MB 9.5 MB/s eta 0:00:01\r\u001b[K     |█████████████████████████▋      | 1.4 MB 9.5 MB/s eta 0:00:01\r\u001b[K     |█████████████████████████▉      | 1.4 MB 9.5 MB/s eta 0:00:01\r\u001b[K     |██████████████████████████      | 1.4 MB 9.5 MB/s eta 0:00:01\r\u001b[K     |██████████████████████████▏     | 1.4 MB 9.5 MB/s eta 0:00:01\r\u001b[K     |██████████████████████████▍     | 1.4 MB 9.5 MB/s eta 0:00:01\r\u001b[K     |██████████████████████████▋     | 1.4 MB 9.5 MB/s eta 0:00:01\r\u001b[K     |██████████████████████████▊     | 1.4 MB 9.5 MB/s eta 0:00:01\r\u001b[K     |███████████████████████████     | 1.4 MB 9.5 MB/s eta 0:00:01\r\u001b[K     |███████████████████████████▏    | 1.4 MB 9.5 MB/s eta 0:00:01\r\u001b[K     |███████████████████████████▍    | 1.4 MB 9.5 MB/s eta 0:00:01\r\u001b[K     |███████████████████████████▌    | 1.5 MB 9.5 MB/s eta 0:00:01\r\u001b[K     |███████████████████████████▊    | 1.5 MB 9.5 MB/s eta 0:00:01\r\u001b[K     |████████████████████████████    | 1.5 MB 9.5 MB/s eta 0:00:01\r\u001b[K     |████████████████████████████▏   | 1.5 MB 9.5 MB/s eta 0:00:01\r\u001b[K     |████████████████████████████▎   | 1.5 MB 9.5 MB/s eta 0:00:01\r\u001b[K     |████████████████████████████▌   | 1.5 MB 9.5 MB/s eta 0:00:01\r\u001b[K     |████████████████████████████▊   | 1.5 MB 9.5 MB/s eta 0:00:01\r\u001b[K     |█████████████████████████████   | 1.5 MB 9.5 MB/s eta 0:00:01\r\u001b[K     |█████████████████████████████   | 1.5 MB 9.5 MB/s eta 0:00:01\r\u001b[K     |█████████████████████████████▎  | 1.5 MB 9.5 MB/s eta 0:00:01\r\u001b[K     |█████████████████████████████▌  | 1.6 MB 9.5 MB/s eta 0:00:01\r\u001b[K     |█████████████████████████████▋  | 1.6 MB 9.5 MB/s eta 0:00:01\r\u001b[K     |█████████████████████████████▉  | 1.6 MB 9.5 MB/s eta 0:00:01\r\u001b[K     |██████████████████████████████  | 1.6 MB 9.5 MB/s eta 0:00:01\r\u001b[K     |██████████████████████████████▎ | 1.6 MB 9.5 MB/s eta 0:00:01\r\u001b[K     |██████████████████████████████▍ | 1.6 MB 9.5 MB/s eta 0:00:01\r\u001b[K     |██████████████████████████████▋ | 1.6 MB 9.5 MB/s eta 0:00:01\r\u001b[K     |██████████████████████████████▉ | 1.6 MB 9.5 MB/s eta 0:00:01\r\u001b[K     |███████████████████████████████ | 1.6 MB 9.5 MB/s eta 0:00:01\r\u001b[K     |███████████████████████████████▏| 1.6 MB 9.5 MB/s eta 0:00:01\r\u001b[K     |███████████████████████████████▍| 1.7 MB 9.5 MB/s eta 0:00:01\r\u001b[K     |███████████████████████████████▋| 1.7 MB 9.5 MB/s eta 0:00:01\r\u001b[K     |███████████████████████████████▉| 1.7 MB 9.5 MB/s eta 0:00:01\r\u001b[K     |████████████████████████████████| 1.7 MB 9.5 MB/s eta 0:00:01\r\u001b[K     |████████████████████████████████| 1.7 MB 9.5 MB/s \n",
            "\u001b[?25hRequirement already satisfied: cython in /usr/local/lib/python3.7/dist-packages (from fairseq==0.10.2) (0.29.24)\n",
            "Requirement already satisfied: regex in /usr/local/lib/python3.7/dist-packages (from fairseq==0.10.2) (2019.12.20)\n",
            "Requirement already satisfied: sacrebleu>=1.4.12 in /usr/local/lib/python3.7/dist-packages (from fairseq==0.10.2) (1.5.1)\n",
            "Collecting hydra-core\n",
            "  Downloading hydra_core-1.1.1-py3-none-any.whl (145 kB)\n",
            "\u001b[K     |████████████████████████████████| 145 kB 82.4 MB/s \n",
            "\u001b[?25hRequirement already satisfied: cffi in /usr/local/lib/python3.7/dist-packages (from fairseq==0.10.2) (1.14.6)\n",
            "Requirement already satisfied: torch in /usr/local/lib/python3.7/dist-packages (from fairseq==0.10.2) (1.9.0+cu102)\n",
            "Requirement already satisfied: tqdm in /usr/local/lib/python3.7/dist-packages (from fairseq==0.10.2) (4.62.0)\n",
            "Requirement already satisfied: numpy in /usr/local/lib/python3.7/dist-packages (from fairseq==0.10.2) (1.19.5)\n",
            "Collecting dataclasses\n",
            "  Downloading dataclasses-0.6-py3-none-any.whl (14 kB)\n",
            "Requirement already satisfied: portalocker==2.0.0 in /usr/local/lib/python3.7/dist-packages (from sacrebleu>=1.4.12->fairseq==0.10.2) (2.0.0)\n",
            "Requirement already satisfied: pycparser in /usr/local/lib/python3.7/dist-packages (from cffi->fairseq==0.10.2) (2.20)\n",
            "Requirement already satisfied: importlib-resources in /usr/local/lib/python3.7/dist-packages (from hydra-core->fairseq==0.10.2) (5.2.2)\n",
            "Collecting omegaconf==2.1.*\n",
            "  Downloading omegaconf-2.1.1-py3-none-any.whl (74 kB)\n",
            "\u001b[K     |████████████████████████████████| 74 kB 4.1 MB/s \n",
            "\u001b[?25hCollecting antlr4-python3-runtime==4.8\n",
            "  Downloading antlr4-python3-runtime-4.8.tar.gz (112 kB)\n",
            "\u001b[K     |████████████████████████████████| 112 kB 95.3 MB/s \n",
            "\u001b[?25hRequirement already satisfied: PyYAML>=5.1.0 in /usr/local/lib/python3.7/dist-packages (from omegaconf==2.1.*->hydra-core->fairseq==0.10.2) (5.4.1)\n",
            "Requirement already satisfied: zipp>=3.1.0 in /usr/local/lib/python3.7/dist-packages (from importlib-resources->hydra-core->fairseq==0.10.2) (3.5.0)\n",
            "Requirement already satisfied: typing-extensions in /usr/local/lib/python3.7/dist-packages (from torch->fairseq==0.10.2) (3.7.4.3)\n",
            "Building wheels for collected packages: antlr4-python3-runtime\n",
            "  Building wheel for antlr4-python3-runtime (setup.py) ... \u001b[?25l\u001b[?25hdone\n",
            "  Created wheel for antlr4-python3-runtime: filename=antlr4_python3_runtime-4.8-py3-none-any.whl size=141230 sha256=d00d66f85c102eba81e57fc5c98779ef994097409ece14a251f617fb27bca07b\n",
            "  Stored in directory: /root/.cache/pip/wheels/ca/33/b7/336836125fc9bb4ceaa4376d8abca10ca8bc84ddc824baea6c\n",
            "Successfully built antlr4-python3-runtime\n",
            "Installing collected packages: antlr4-python3-runtime, omegaconf, hydra-core, dataclasses, fairseq\n",
            "Successfully installed antlr4-python3-runtime-4.8 dataclasses-0.6 fairseq-0.10.2 hydra-core-1.1.1 omegaconf-2.1.1\n"
          ]
        },
        {
          "output_type": "display_data",
          "data": {
            "application/vnd.colab-display-data+json": {
              "pip_warning": {
                "packages": [
                  "pydevd_plugins"
                ]
              }
            }
          },
          "metadata": {}
        }
      ]
    },
    {
      "cell_type": "code",
      "metadata": {
        "id": "YEYBI0IDDnc6",
        "colab": {
          "base_uri": "https://localhost:8080/"
        },
        "outputId": "2a1340a7-eaf8-4a7e-c6d8-cfae53f42370"
      },
      "source": [
        "# muss/scripts/train_model.py\n",
        "\n",
        "from muss.fairseq.main import fairseq_train_and_evaluate_with_parametrization\n",
        "from muss.mining.training import get_score_rows #get_bart_kwargs\n",
        "\n",
        "#########################\n",
        "import re\n",
        "import shutil\n",
        "\n",
        "from cachier import cachier\n",
        "from easse.cli import evaluate_system_output\n",
        "from easse.utils.constants import TEST_SETS_PATHS\n",
        "import torch\n",
        "from tqdm import tqdm\n",
        "\n",
        "from muss.resources.paths import get_data_filepath, MODELS_DIR, get_dataset_dir\n",
        "from muss.utils.helpers import add_dicts, args_str_to_dict\n",
        "from muss.utils.resources import download_and_extract\n",
        "from muss.preprocessors import GPT2BPEPreprocessor\n",
        "from muss.preprocessing import apply_line_function_to_file\n",
        "from muss.fairseq.main import get_language_from_dataset\n",
        "from muss.text import truncate\n"
      ],
      "execution_count": null,
      "outputs": [
        {
          "output_type": "display_data",
          "data": {
            "text/html": [
              "\n",
              "  <style>\n",
              "    pre {\n",
              "        white-space: pre-wrap;\n",
              "    }\n",
              "  </style>\n",
              "  "
            ],
            "text/plain": [
              "<IPython.core.display.HTML object>"
            ]
          },
          "metadata": {}
        },
        {
          "output_type": "stream",
          "name": "stderr",
          "text": [
            "INFO:root:Generating grammar tables from /usr/lib/python3.7/lib2to3/Grammar.txt\n",
            "INFO:root:Generating grammar tables from /usr/lib/python3.7/lib2to3/PatternGrammar.txt\n"
          ]
        }
      ]
    },
    {
      "cell_type": "code",
      "metadata": {
        "id": "C7vNdmWBDnc7",
        "colab": {
          "base_uri": "https://localhost:8080/"
        },
        "outputId": "6e07643e-6bc0-4aaf-f4c5-c8d4a468cc6f"
      },
      "source": [
        "gpt2_prepro = GPT2BPEPreprocessor()"
      ],
      "execution_count": null,
      "outputs": [
        {
          "output_type": "display_data",
          "data": {
            "text/html": [
              "\n",
              "  <style>\n",
              "    pre {\n",
              "        white-space: pre-wrap;\n",
              "    }\n",
              "  </style>\n",
              "  "
            ],
            "text/plain": [
              "<IPython.core.display.HTML object>"
            ]
          },
          "metadata": {}
        }
      ]
    },
    {
      "cell_type": "code",
      "metadata": {
        "id": "kTWHtKAGDnc7",
        "colab": {
          "base_uri": "https://localhost:8080/"
        },
        "outputId": "d2aaaa9e-c9a5-4169-8f63-3522915e6793"
      },
      "source": [
        "encode = gpt2_prepro.encode_sentence('<NEXT_DIFFICULT_WORD> <NEXT_NE> comprehend <SENT_START> This is extremely hard to comprehend.')\n",
        "encode"
      ],
      "execution_count": null,
      "outputs": [
        {
          "output_type": "display_data",
          "data": {
            "text/html": [
              "\n",
              "  <style>\n",
              "    pre {\n",
              "        white-space: pre-wrap;\n",
              "    }\n",
              "  </style>\n",
              "  "
            ],
            "text/plain": [
              "<IPython.core.display.HTML object>"
            ]
          },
          "metadata": {}
        },
        {
          "output_type": "stream",
          "name": "stdout",
          "text": [
            "encoder_json_path /content/drive/MyDrive/muss/resources/bart_bpe/encoder.json\n",
            "vocab_bpe_path /content/drive/MyDrive/muss/resources/bart_bpe/vocab.bpe\n"
          ]
        },
        {
          "output_type": "execute_result",
          "data": {
            "application/vnd.google.colaboratory.intrinsic+json": {
              "type": "string"
            },
            "text/plain": [
              "'173 220 124 24772 220 125 770 318 4457 1327 284 24772 13'"
            ]
          },
          "metadata": {},
          "execution_count": 14
        }
      ]
    },
    {
      "cell_type": "code",
      "metadata": {
        "id": "IJmccrPQDnc8",
        "colab": {
          "base_uri": "https://localhost:8080/"
        },
        "outputId": "9609f9e2-8176-49e4-ef30-d01243f76a7e"
      },
      "source": [
        "gpt2_prepro.decode_sentence(encode)"
      ],
      "execution_count": null,
      "outputs": [
        {
          "output_type": "display_data",
          "data": {
            "text/html": [
              "\n",
              "  <style>\n",
              "    pre {\n",
              "        white-space: pre-wrap;\n",
              "    }\n",
              "  </style>\n",
              "  "
            ],
            "text/plain": [
              "<IPython.core.display.HTML object>"
            ]
          },
          "metadata": {}
        },
        {
          "output_type": "execute_result",
          "data": {
            "application/vnd.google.colaboratory.intrinsic+json": {
              "type": "string"
            },
            "text/plain": [
              "'<NEXT_DIFFICULT_WORD> <NEXT_NE> comprehend <SENT_START> This is extremely hard to comprehend.'"
            ]
          },
          "metadata": {},
          "execution_count": 15
        }
      ]
    },
    {
      "cell_type": "code",
      "metadata": {
        "id": "8B4MZOQYDnc8",
        "colab": {
          "base_uri": "https://localhost:8080/"
        },
        "outputId": "a68e3589-a4bd-4607-d943-2eddc3c30e28"
      },
      "source": [
        "def get_evaluate_kwargs(language, phase='valid'):\n",
        "    return {\n",
        "        ('en', 'valid'): {'test_set': 'asset_valid'},\n",
        "        ('en', 'test'): {'test_set': 'asset_test'},\n",
        "        ('fr', 'valid'): {\n",
        "            'test_set': 'custom',\n",
        "            'orig_sents_path': get_data_filepath('alector', 'valid', 'complex'),\n",
        "            'refs_sents_paths': [get_data_filepath('alector', 'valid', 'simple')],\n",
        "        },\n",
        "        ('fr', 'test'): {\n",
        "            'test_set': 'custom',\n",
        "            'orig_sents_path': get_data_filepath('alector', 'test', 'complex'),\n",
        "            'refs_sents_paths': [get_data_filepath('alector', 'test', 'simple')],\n",
        "        },\n",
        "        ('es', 'valid'): {\n",
        "            'test_set': 'custom',\n",
        "            'orig_sents_path': get_data_filepath('simplext_corpus', 'valid', 'complex'),\n",
        "            'refs_sents_paths': [get_data_filepath('simplext_corpus', 'valid', 'simple')],\n",
        "        },\n",
        "        ('es', 'test'): {\n",
        "            'test_set': 'custom',\n",
        "            'orig_sents_path': get_data_filepath('simplext_corpus', 'test', 'complex'),\n",
        "            'refs_sents_paths': [get_data_filepath('simplext_corpus', 'test', 'simple')],\n",
        "        },\n",
        "    }[(language, phase)]\n",
        "\n",
        "evaluate_kwargs=get_evaluate_kwargs('en')\n",
        "evaluate_kwargs"
      ],
      "execution_count": null,
      "outputs": [
        {
          "output_type": "display_data",
          "data": {
            "text/html": [
              "\n",
              "  <style>\n",
              "    pre {\n",
              "        white-space: pre-wrap;\n",
              "    }\n",
              "  </style>\n",
              "  "
            ],
            "text/plain": [
              "<IPython.core.display.HTML object>"
            ]
          },
          "metadata": {}
        },
        {
          "output_type": "execute_result",
          "data": {
            "text/plain": [
              "{'test_set': 'asset_valid'}"
            ]
          },
          "metadata": {},
          "execution_count": 16
        }
      ]
    },
    {
      "cell_type": "code",
      "metadata": {
        "id": "DNxF0iSJDnc8",
        "colab": {
          "base_uri": "https://localhost:8080/"
        },
        "outputId": "664302fd-39a9-4161-ea92-bcc34982b8b9"
      },
      "source": [
        "def get_predict_files(language):\n",
        "    return {\n",
        "        'en': [get_data_filepath('asset', 'valid', 'complex'), get_data_filepath('asset', 'test', 'complex')],\n",
        "        'fr': [get_data_filepath('alector', 'valid', 'complex'), get_data_filepath('alector', 'test', 'complex')],\n",
        "        'es': [\n",
        "            get_data_filepath('simplext_corpus', 'valid', 'complex'),\n",
        "            get_data_filepath('simplext_corpus', 'test', 'complex'),\n",
        "        ],\n",
        "    }[language]\n"
      ],
      "execution_count": null,
      "outputs": [
        {
          "output_type": "display_data",
          "data": {
            "text/html": [
              "\n",
              "  <style>\n",
              "    pre {\n",
              "        white-space: pre-wrap;\n",
              "    }\n",
              "  </style>\n",
              "  "
            ],
            "text/plain": [
              "<IPython.core.display.HTML object>"
            ]
          },
          "metadata": {}
        }
      ]
    },
    {
      "cell_type": "code",
      "metadata": {
        "id": "jnhKIQkiDnc9",
        "colab": {
          "base_uri": "https://localhost:8080/"
        },
        "outputId": "f7085e8e-f283-49f9-bbf1-8a3513e7a939"
      },
      "source": [
        "\n",
        "def get_access_preprocessors_kwargs(language, use_short_name=False):\n",
        "    return {\n",
        "        'LengthRatioPreprocessor': {'target_ratio': 0.8, 'use_short_name': use_short_name},\n",
        "        'ReplaceOnlyLevenshteinPreprocessor': {'target_ratio': 0.8, 'use_short_name': use_short_name},\n",
        "        'WordRankRatioPreprocessor': {'target_ratio': 0.8, 'language': language, 'use_short_name': use_short_name},\n",
        "        'DependencyTreeDepthRatioPreprocessor': {\n",
        "            'target_ratio': 0.8,\n",
        "            'language': language,\n",
        "            'use_short_name': use_short_name,\n",
        "        },\n",
        "    }"
      ],
      "execution_count": null,
      "outputs": [
        {
          "output_type": "display_data",
          "data": {
            "text/html": [
              "\n",
              "  <style>\n",
              "    pre {\n",
              "        white-space: pre-wrap;\n",
              "    }\n",
              "  </style>\n",
              "  "
            ],
            "text/plain": [
              "<IPython.core.display.HTML object>"
            ]
          },
          "metadata": {}
        }
      ]
    },
    {
      "cell_type": "code",
      "metadata": {
        "id": "ygD9Tnm6Dnc9",
        "colab": {
          "base_uri": "https://localhost:8080/"
        },
        "outputId": "c9e2fe97-bbcf-4d70-e970-2fb7794d7d68"
      },
      "source": [
        "\n",
        "def get_bart_kwargs(dataset, language, use_access, use_short_name=False, bart_model='bart.large'):\n",
        "    assert language == 'en'\n",
        "\n",
        "    bart_path = '/content/drive/MyDrive/muss/resources/models/bart_mined/model.pt'\n",
        "    arch = {\n",
        "        'bart.base': 'bart_base',\n",
        "        'bart.large': 'bart_large',\n",
        "        'bart.large.cnn': 'bart_large',\n",
        "    }[bart_model]\n",
        "    kwargs = {\n",
        "        'dataset': dataset,\n",
        "        'metrics_coefs': [0, 1, 0],\n",
        "        'parametrization_budget': 128,\n",
        "        'predict_files': get_predict_files(language), # used in fairseq_evaluate_and_save\n",
        "        'preprocessors_kwargs': {\n",
        "            'GPT2BPEPreprocessor': {},\n",
        "        },\n",
        "        'preprocess_kwargs': {'dict_path': GPT2BPEPreprocessor().dict_path},\n",
        "        'train_kwargs': {\n",
        "            'ngpus': 8,\n",
        "            'arch': arch,\n",
        "            'restore_file': bart_path,\n",
        "            'max_tokens': 4096,\n",
        "            'lr': 3e-05,\n",
        "            'warmup_updates': 500,\n",
        "            'truncate_source': True,\n",
        "            'layernorm_embedding': True,\n",
        "            'share_all_embeddings': True,\n",
        "            'share_decoder_input_output_embed': True,\n",
        "            'reset_optimizer': True,\n",
        "            'reset_dataloader': True,\n",
        "            'reset_meters': True,\n",
        "            'required_batch_size_multiple': 1,\n",
        "            'criterion': 'label_smoothed_cross_entropy',\n",
        "            'label_smoothing': 0.1,\n",
        "            'dropout': 0.1,\n",
        "            'attention_dropout': 0.1,\n",
        "            'weight_decay': 0.01,\n",
        "            'optimizer': 'adam',\n",
        "            'adam_betas': '(0.9, 0.999)',\n",
        "            'adam_eps': 1e-08,\n",
        "            'clip_norm': 0.1,\n",
        "            'lr_scheduler': 'polynomial_decay',\n",
        "            'max_update': 20000,\n",
        "            'skip_invalid_size_inputs_valid_test': True,\n",
        "            'find_unused_parameters': True,\n",
        "        },\n",
        "        'evaluate_kwargs': {'test_set': 'asset_valid_NER_ABCD'},\n",
        "    }\n",
        "    if use_access:\n",
        "        kwargs['preprocessors_kwargs'] = add_dicts(\n",
        "            get_access_preprocessors_kwargs(language, use_short_name=use_short_name), kwargs['preprocessors_kwargs']\n",
        "        )\n",
        "    return kwargs"
      ],
      "execution_count": null,
      "outputs": [
        {
          "output_type": "display_data",
          "data": {
            "text/html": [
              "\n",
              "  <style>\n",
              "    pre {\n",
              "        white-space: pre-wrap;\n",
              "    }\n",
              "  </style>\n",
              "  "
            ],
            "text/plain": [
              "<IPython.core.display.HTML object>"
            ]
          },
          "metadata": {}
        }
      ]
    },
    {
      "cell_type": "code",
      "metadata": {
        "id": "tu_k87raDnc9",
        "colab": {
          "base_uri": "https://localhost:8080/"
        },
        "outputId": "2427c383-b1df-42cb-acb9-4b608fdf0a54"
      },
      "source": [
        "# training dataset \n",
        "dataset = '0913_ABCD_NER_wikilarge'\n",
        "kwargs = get_bart_kwargs(dataset=dataset, language='en', use_access=True)\n",
        "kwargs['train_kwargs']['ngpus'] = 1  # Set this from 8 to 1 for local training\n",
        "kwargs['train_kwargs']['max_tokens'] = 1024  # Lower this number to prevent OOM\n"
      ],
      "execution_count": null,
      "outputs": [
        {
          "output_type": "display_data",
          "data": {
            "text/html": [
              "\n",
              "  <style>\n",
              "    pre {\n",
              "        white-space: pre-wrap;\n",
              "    }\n",
              "  </style>\n",
              "  "
            ],
            "text/plain": [
              "<IPython.core.display.HTML object>"
            ]
          },
          "metadata": {}
        }
      ]
    },
    {
      "cell_type": "code",
      "metadata": {
        "id": "aaQDY4n8Dnc9",
        "colab": {
          "base_uri": "https://localhost:8080/"
        },
        "outputId": "009c2ce8-9dee-4603-892f-4f75f71ed2a6"
      },
      "source": [
        "kwargs"
      ],
      "execution_count": null,
      "outputs": [
        {
          "output_type": "display_data",
          "data": {
            "text/html": [
              "\n",
              "  <style>\n",
              "    pre {\n",
              "        white-space: pre-wrap;\n",
              "    }\n",
              "  </style>\n",
              "  "
            ],
            "text/plain": [
              "<IPython.core.display.HTML object>"
            ]
          },
          "metadata": {}
        },
        {
          "output_type": "execute_result",
          "data": {
            "text/plain": [
              "{'dataset': '0913_ABCD_NER_wikilarge',\n",
              " 'evaluate_kwargs': {'test_set': 'asset_valid_NER_ABCD'},\n",
              " 'metrics_coefs': [0, 1, 0],\n",
              " 'parametrization_budget': 128,\n",
              " 'predict_files': [PosixPath('/content/drive/MyDrive/muss/resources/datasets/asset/valid.complex'),\n",
              "  PosixPath('/content/drive/MyDrive/muss/resources/datasets/asset/test.complex')],\n",
              " 'preprocess_kwargs': {'dict_path': PosixPath('/content/drive/MyDrive/muss/resources/bart_bpe/dict.txt')},\n",
              " 'preprocessors_kwargs': {'DependencyTreeDepthRatioPreprocessor': {'language': 'en',\n",
              "   'target_ratio': 0.8,\n",
              "   'use_short_name': False},\n",
              "  'GPT2BPEPreprocessor': {},\n",
              "  'LengthRatioPreprocessor': {'target_ratio': 0.8, 'use_short_name': False},\n",
              "  'ReplaceOnlyLevenshteinPreprocessor': {'target_ratio': 0.8,\n",
              "   'use_short_name': False},\n",
              "  'WordRankRatioPreprocessor': {'language': 'en',\n",
              "   'target_ratio': 0.8,\n",
              "   'use_short_name': False}},\n",
              " 'train_kwargs': {'adam_betas': '(0.9, 0.999)',\n",
              "  'adam_eps': 1e-08,\n",
              "  'arch': 'bart_large',\n",
              "  'attention_dropout': 0.1,\n",
              "  'clip_norm': 0.1,\n",
              "  'criterion': 'label_smoothed_cross_entropy',\n",
              "  'dropout': 0.1,\n",
              "  'find_unused_parameters': True,\n",
              "  'label_smoothing': 0.1,\n",
              "  'layernorm_embedding': True,\n",
              "  'lr': 3e-05,\n",
              "  'lr_scheduler': 'polynomial_decay',\n",
              "  'max_tokens': 1024,\n",
              "  'max_update': 20000,\n",
              "  'ngpus': 1,\n",
              "  'optimizer': 'adam',\n",
              "  'required_batch_size_multiple': 1,\n",
              "  'reset_dataloader': True,\n",
              "  'reset_meters': True,\n",
              "  'reset_optimizer': True,\n",
              "  'restore_file': '/content/drive/MyDrive/muss/resources/models/bart_mined/model.pt',\n",
              "  'share_all_embeddings': True,\n",
              "  'share_decoder_input_output_embed': True,\n",
              "  'skip_invalid_size_inputs_valid_test': True,\n",
              "  'truncate_source': True,\n",
              "  'warmup_updates': 500,\n",
              "  'weight_decay': 0.01}}"
            ]
          },
          "metadata": {},
          "execution_count": 21
        }
      ]
    },
    {
      "cell_type": "code",
      "metadata": {
        "id": "t_3khEOoEoS0"
      },
      "source": [
        ""
      ],
      "execution_count": null,
      "outputs": []
    },
    {
      "cell_type": "code",
      "metadata": {
        "id": "CYp6zOeFDnc-",
        "colab": {
          "base_uri": "https://localhost:8080/",
          "height": 1000
        },
        "outputId": "71551eba-0af9-4966-8d74-cb9660c70c6e"
      },
      "source": [
        "result = fairseq_train_and_evaluate_with_parametrization(**kwargs)"
      ],
      "execution_count": null,
      "outputs": [
        {
          "output_type": "display_data",
          "data": {
            "text/html": [
              "\n",
              "  <style>\n",
              "    pre {\n",
              "        white-space: pre-wrap;\n",
              "    }\n",
              "  </style>\n",
              "  "
            ],
            "text/plain": [
              "<IPython.core.display.HTML object>"
            ]
          },
          "metadata": {}
        },
        {
          "output_type": "display_data",
          "data": {
            "text/html": [
              "\n",
              "  <style>\n",
              "    pre {\n",
              "        white-space: pre-wrap;\n",
              "    }\n",
              "  </style>\n",
              "  "
            ],
            "text/plain": [
              "<IPython.core.display.HTML object>"
            ]
          },
          "metadata": {}
        },
        {
          "output_type": "display_data",
          "data": {
            "text/html": [
              "\n",
              "  <style>\n",
              "    pre {\n",
              "        white-space: pre-wrap;\n",
              "    }\n",
              "  </style>\n",
              "  "
            ],
            "text/plain": [
              "<IPython.core.display.HTML object>"
            ]
          },
          "metadata": {}
        },
        {
          "output_type": "stream",
          "name": "stdout",
          "text": [
            "fairseq_prepare_and_train...\n"
          ]
        },
        {
          "output_type": "stream",
          "name": "stderr",
          "text": [
            "\n",
            "PYDEV DEBUGGER WARNING:\n",
            "sys.settrace() should not be used when the debugger is being used.\n",
            "This may cause the debugger to stop working correctly.\n",
            "If this is needed, please check: \n",
            "http://pydev.blogspot.com/2007/06/why-cant-pydev-debugger-work-with.html\n",
            "to see how to restore the debug tracing back correctly.\n",
            "Call Location:\n",
            "  File \"/content/drive/MyDrive/muss/muss/utils/helpers.py\", line 384, in __enter__\n",
            "    sys.settrace(lambda *args, **keys: None)\n",
            "\n",
            "INFO:fairseq_cli.train:Namespace(activation_fn='gelu', adam_betas='(0.9, 0.999)', adam_eps=1e-08, adaptive_softmax_cutoff=None, adaptive_softmax_dropout=0, all_gather_list_size=16384, arch='bart_large', attention_dropout=0.1, batch_size=64, batch_size_valid=64, best_checkpoint_metric='loss', bf16=False, bpe=None, broadcast_buffers=False, bucket_cap_mb=25, checkpoint_shard_count=1, checkpoint_suffix='', clip_norm=0.1, cpu=False, criterion='label_smoothed_cross_entropy', cross_self_attention=False, curriculum=0, data='/content/drive/MyDrive/muss/resources/datasets/_54645c8788bc40a6de008c8a68cd4a61/fairseq_preprocessed_complex-simple', data_buffer_size=10, dataset_impl=None, ddp_backend='c10d', decoder_attention_heads=16, decoder_embed_dim=1024, decoder_embed_path=None, decoder_ffn_embed_dim=4096, decoder_input_dim=1024, decoder_layerdrop=0, decoder_layers=12, decoder_layers_to_keep=None, decoder_learned_pos=True, decoder_normalize_before=False, decoder_output_dim=1024, device_id=0, disable_validation=False, distributed_backend='nccl', distributed_init_method=None, distributed_no_spawn=False, distributed_num_procs=1, distributed_port=18969, distributed_rank=0, distributed_world_size=1, distributed_wrapper='DDP', dropout=0.1, empty_cache_freq=0, encoder_attention_heads=16, encoder_embed_dim=1024, encoder_embed_path=None, encoder_ffn_embed_dim=4096, encoder_layerdrop=0, encoder_layers=12, encoder_layers_to_keep=None, encoder_learned_pos=True, encoder_normalize_before=False, end_learning_rate=0.0, eval_bleu=False, eval_bleu_args=None, eval_bleu_detok='space', eval_bleu_detok_args=None, eval_bleu_print_samples=False, eval_bleu_remove_bpe=None, eval_tokenized_bleu=False, fast_stat_sync=False, find_unused_parameters=True, finetune_from_model=None, fix_batches_to_gpus=False, fixed_validation_seed=None, force_anneal=None, fp16=True, fp16_init_scale=128, fp16_no_flatten_grads=False, fp16_scale_tolerance=0.0, fp16_scale_window=None, gen_subset='test', ignore_prefix_size=0, keep_best_checkpoints=-1, keep_interval_updates=1, keep_last_epochs=-1, label_smoothing=0.1, layernorm_embedding=True, left_pad_source='True', left_pad_target='False', load_alignments=False, localsgd_frequency=3, log_format=None, log_interval=100, lr=[3e-05], lr_scheduler='polynomial_decay', max_epoch=0, max_source_positions=1024, max_target_positions=1024, max_tokens=1024, max_tokens_valid=1024, max_update=20000, maximize_best_checkpoint_metric=False, memory_efficient_bf16=False, memory_efficient_fp16=False, min_loss_scale=0.0001, min_lr=-1.0, model_parallel_size=1, no_cross_attention=False, no_epoch_checkpoints=False, no_last_checkpoints=False, no_progress_bar=False, no_save=False, no_save_optimizer_state=False, no_scale_embedding=True, no_seed_provided=False, no_token_positional_embeddings=False, nprocs_per_node=1, num_batch_buckets=0, num_shards=1, num_workers=1, optimizer='adam', optimizer_overrides='{}', patience=5, pipeline_balance=None, pipeline_checkpoint='never', pipeline_chunks=0, pipeline_decoder_balance=None, pipeline_decoder_devices=None, pipeline_devices=None, pipeline_encoder_balance=None, pipeline_encoder_devices=None, pipeline_model_parallel=False, pooler_activation_fn='tanh', pooler_dropout=0.0, power=1.0, profile=False, quant_noise_pq=0, quant_noise_pq_block_size=8, quant_noise_scalar=0, quantization_config_path=None, relu_dropout=0.0, report_accuracy=False, required_batch_size_multiple=1, required_seq_len_multiple=1, reset_dataloader=True, reset_lr_scheduler=False, reset_meters=True, reset_optimizer=True, restore_file='/content/drive/MyDrive/muss/resources/models/bart_mined/model.pt', save_dir='/content/drive/MyDrive/muss/experiments/fairseq/local_1631567843618/checkpoints', save_interval=1, save_interval_updates=0, scoring='bleu', seed=436, sentence_avg=False, shard_id=0, share_all_embeddings=True, share_decoder_input_output_embed=True, skip_invalid_size_inputs_valid_test=True, slowmo_algorithm='LocalSGD', slowmo_momentum=None, source_lang='complex', stop_time_hours=0, target_lang='simple', task='translation', tensorboard_logdir='/content/drive/MyDrive/muss/experiments/fairseq/local_1631567843618/tensorboard', threshold_loss_scale=None, tokenizer=None, total_num_update=1000000, tpu=False, train_subset='train', truncate_source=True, update_freq=[128], upsample_primary=1, use_bmuf=False, use_old_adam=False, user_dir=None, valid_subset='valid', validate_after_updates=0, validate_interval=1, validate_interval_updates=100, warmup_updates=500, weight_decay=0.01, zero_sharding='none')\n"
          ]
        },
        {
          "output_type": "stream",
          "name": "stdout",
          "text": [
            "exp_dir=/content/drive/MyDrive/muss/experiments/fairseq/local_1631567843618\n",
            "train seed: 436\n",
            "distributed_port 18969\n",
            "fairseq-train /content/drive/MyDrive/muss/resources/datasets/_54645c8788bc40a6de008c8a68cd4a61/fairseq_preprocessed_complex-simple --task translation --source-lang complex --target-lang simple --save-dir /content/drive/MyDrive/muss/experiments/fairseq/local_1631567843618/checkpoints --optimizer adam --adam-betas '(0.9, 0.98)' --clip-norm 0.0 --criterion label_smoothed_cross_entropy --label-smoothing 0.1 --lr-scheduler polynomial_decay --lr 3e-05 --warmup-updates 500 --update-freq 128 --arch bart_large --dropout 0.1 --weight-decay 0.0 --clip-norm 0.1 --share-all-embeddings --save-interval 1 --validate-interval 1 --max-update 20000 --keep-interval-updates 1 --validate-interval-updates 100 --patience 5 --batch-size 64 --seed 436 --distributed-world-size 1 --distributed-port 18969 --tensorboard-logdir /content/drive/MyDrive/muss/experiments/fairseq/local_1631567843618/tensorboard --fp16 --restore-file '/content/drive/MyDrive/muss/resources/models/bart_mined/model.pt' --max-tokens 1024 --truncate-source --layernorm-embedding --share-all-embeddings --share-decoder-input-output-embed --reset-optimizer --reset-dataloader --reset-meters --required-batch-size-multiple 1 --label-smoothing 0.1 --attention-dropout 0.1 --weight-decay 0.01 --optimizer 'adam' --adam-betas '(0.9, 0.999)' --adam-eps 1e-08 --clip-norm 0.1 --skip-invalid-size-inputs-valid-test --find-unused-parameters\n"
          ]
        },
        {
          "output_type": "stream",
          "name": "stderr",
          "text": [
            "INFO:fairseq.tasks.translation:[complex] dictionary: 50264 types\n",
            "INFO:fairseq.tasks.translation:[simple] dictionary: 50264 types\n",
            "INFO:fairseq.data.data_utils:loaded 418 examples from: /content/drive/MyDrive/muss/resources/datasets/_54645c8788bc40a6de008c8a68cd4a61/fairseq_preprocessed_complex-simple/valid.complex-simple.complex\n",
            "INFO:fairseq.data.data_utils:loaded 418 examples from: /content/drive/MyDrive/muss/resources/datasets/_54645c8788bc40a6de008c8a68cd4a61/fairseq_preprocessed_complex-simple/valid.complex-simple.simple\n",
            "INFO:fairseq.tasks.translation:/content/drive/MyDrive/muss/resources/datasets/_54645c8788bc40a6de008c8a68cd4a61/fairseq_preprocessed_complex-simple valid complex-simple 418 examples\n",
            "INFO:fairseq_cli.train:BARTModel(\n",
            "  (encoder): TransformerEncoder(\n",
            "    (dropout_module): FairseqDropout()\n",
            "    (embed_tokens): Embedding(50264, 1024, padding_idx=1)\n",
            "    (embed_positions): LearnedPositionalEmbedding(1026, 1024, padding_idx=1)\n",
            "    (layernorm_embedding): LayerNorm((1024,), eps=1e-05, elementwise_affine=True)\n",
            "    (layers): ModuleList(\n",
            "      (0): TransformerEncoderLayer(\n",
            "        (self_attn): MultiheadAttention(\n",
            "          (dropout_module): FairseqDropout()\n",
            "          (k_proj): Linear(in_features=1024, out_features=1024, bias=True)\n",
            "          (v_proj): Linear(in_features=1024, out_features=1024, bias=True)\n",
            "          (q_proj): Linear(in_features=1024, out_features=1024, bias=True)\n",
            "          (out_proj): Linear(in_features=1024, out_features=1024, bias=True)\n",
            "        )\n",
            "        (self_attn_layer_norm): LayerNorm((1024,), eps=1e-05, elementwise_affine=True)\n",
            "        (dropout_module): FairseqDropout()\n",
            "        (activation_dropout_module): FairseqDropout()\n",
            "        (fc1): Linear(in_features=1024, out_features=4096, bias=True)\n",
            "        (fc2): Linear(in_features=4096, out_features=1024, bias=True)\n",
            "        (final_layer_norm): LayerNorm((1024,), eps=1e-05, elementwise_affine=True)\n",
            "      )\n",
            "      (1): TransformerEncoderLayer(\n",
            "        (self_attn): MultiheadAttention(\n",
            "          (dropout_module): FairseqDropout()\n",
            "          (k_proj): Linear(in_features=1024, out_features=1024, bias=True)\n",
            "          (v_proj): Linear(in_features=1024, out_features=1024, bias=True)\n",
            "          (q_proj): Linear(in_features=1024, out_features=1024, bias=True)\n",
            "          (out_proj): Linear(in_features=1024, out_features=1024, bias=True)\n",
            "        )\n",
            "        (self_attn_layer_norm): LayerNorm((1024,), eps=1e-05, elementwise_affine=True)\n",
            "        (dropout_module): FairseqDropout()\n",
            "        (activation_dropout_module): FairseqDropout()\n",
            "        (fc1): Linear(in_features=1024, out_features=4096, bias=True)\n",
            "        (fc2): Linear(in_features=4096, out_features=1024, bias=True)\n",
            "        (final_layer_norm): LayerNorm((1024,), eps=1e-05, elementwise_affine=True)\n",
            "      )\n",
            "      (2): TransformerEncoderLayer(\n",
            "        (self_attn): MultiheadAttention(\n",
            "          (dropout_module): FairseqDropout()\n",
            "          (k_proj): Linear(in_features=1024, out_features=1024, bias=True)\n",
            "          (v_proj): Linear(in_features=1024, out_features=1024, bias=True)\n",
            "          (q_proj): Linear(in_features=1024, out_features=1024, bias=True)\n",
            "          (out_proj): Linear(in_features=1024, out_features=1024, bias=True)\n",
            "        )\n",
            "        (self_attn_layer_norm): LayerNorm((1024,), eps=1e-05, elementwise_affine=True)\n",
            "        (dropout_module): FairseqDropout()\n",
            "        (activation_dropout_module): FairseqDropout()\n",
            "        (fc1): Linear(in_features=1024, out_features=4096, bias=True)\n",
            "        (fc2): Linear(in_features=4096, out_features=1024, bias=True)\n",
            "        (final_layer_norm): LayerNorm((1024,), eps=1e-05, elementwise_affine=True)\n",
            "      )\n",
            "      (3): TransformerEncoderLayer(\n",
            "        (self_attn): MultiheadAttention(\n",
            "          (dropout_module): FairseqDropout()\n",
            "          (k_proj): Linear(in_features=1024, out_features=1024, bias=True)\n",
            "          (v_proj): Linear(in_features=1024, out_features=1024, bias=True)\n",
            "          (q_proj): Linear(in_features=1024, out_features=1024, bias=True)\n",
            "          (out_proj): Linear(in_features=1024, out_features=1024, bias=True)\n",
            "        )\n",
            "        (self_attn_layer_norm): LayerNorm((1024,), eps=1e-05, elementwise_affine=True)\n",
            "        (dropout_module): FairseqDropout()\n",
            "        (activation_dropout_module): FairseqDropout()\n",
            "        (fc1): Linear(in_features=1024, out_features=4096, bias=True)\n",
            "        (fc2): Linear(in_features=4096, out_features=1024, bias=True)\n",
            "        (final_layer_norm): LayerNorm((1024,), eps=1e-05, elementwise_affine=True)\n",
            "      )\n",
            "      (4): TransformerEncoderLayer(\n",
            "        (self_attn): MultiheadAttention(\n",
            "          (dropout_module): FairseqDropout()\n",
            "          (k_proj): Linear(in_features=1024, out_features=1024, bias=True)\n",
            "          (v_proj): Linear(in_features=1024, out_features=1024, bias=True)\n",
            "          (q_proj): Linear(in_features=1024, out_features=1024, bias=True)\n",
            "          (out_proj): Linear(in_features=1024, out_features=1024, bias=True)\n",
            "        )\n",
            "        (self_attn_layer_norm): LayerNorm((1024,), eps=1e-05, elementwise_affine=True)\n",
            "        (dropout_module): FairseqDropout()\n",
            "        (activation_dropout_module): FairseqDropout()\n",
            "        (fc1): Linear(in_features=1024, out_features=4096, bias=True)\n",
            "        (fc2): Linear(in_features=4096, out_features=1024, bias=True)\n",
            "        (final_layer_norm): LayerNorm((1024,), eps=1e-05, elementwise_affine=True)\n",
            "      )\n",
            "      (5): TransformerEncoderLayer(\n",
            "        (self_attn): MultiheadAttention(\n",
            "          (dropout_module): FairseqDropout()\n",
            "          (k_proj): Linear(in_features=1024, out_features=1024, bias=True)\n",
            "          (v_proj): Linear(in_features=1024, out_features=1024, bias=True)\n",
            "          (q_proj): Linear(in_features=1024, out_features=1024, bias=True)\n",
            "          (out_proj): Linear(in_features=1024, out_features=1024, bias=True)\n",
            "        )\n",
            "        (self_attn_layer_norm): LayerNorm((1024,), eps=1e-05, elementwise_affine=True)\n",
            "        (dropout_module): FairseqDropout()\n",
            "        (activation_dropout_module): FairseqDropout()\n",
            "        (fc1): Linear(in_features=1024, out_features=4096, bias=True)\n",
            "        (fc2): Linear(in_features=4096, out_features=1024, bias=True)\n",
            "        (final_layer_norm): LayerNorm((1024,), eps=1e-05, elementwise_affine=True)\n",
            "      )\n",
            "      (6): TransformerEncoderLayer(\n",
            "        (self_attn): MultiheadAttention(\n",
            "          (dropout_module): FairseqDropout()\n",
            "          (k_proj): Linear(in_features=1024, out_features=1024, bias=True)\n",
            "          (v_proj): Linear(in_features=1024, out_features=1024, bias=True)\n",
            "          (q_proj): Linear(in_features=1024, out_features=1024, bias=True)\n",
            "          (out_proj): Linear(in_features=1024, out_features=1024, bias=True)\n",
            "        )\n",
            "        (self_attn_layer_norm): LayerNorm((1024,), eps=1e-05, elementwise_affine=True)\n",
            "        (dropout_module): FairseqDropout()\n",
            "        (activation_dropout_module): FairseqDropout()\n",
            "        (fc1): Linear(in_features=1024, out_features=4096, bias=True)\n",
            "        (fc2): Linear(in_features=4096, out_features=1024, bias=True)\n",
            "        (final_layer_norm): LayerNorm((1024,), eps=1e-05, elementwise_affine=True)\n",
            "      )\n",
            "      (7): TransformerEncoderLayer(\n",
            "        (self_attn): MultiheadAttention(\n",
            "          (dropout_module): FairseqDropout()\n",
            "          (k_proj): Linear(in_features=1024, out_features=1024, bias=True)\n",
            "          (v_proj): Linear(in_features=1024, out_features=1024, bias=True)\n",
            "          (q_proj): Linear(in_features=1024, out_features=1024, bias=True)\n",
            "          (out_proj): Linear(in_features=1024, out_features=1024, bias=True)\n",
            "        )\n",
            "        (self_attn_layer_norm): LayerNorm((1024,), eps=1e-05, elementwise_affine=True)\n",
            "        (dropout_module): FairseqDropout()\n",
            "        (activation_dropout_module): FairseqDropout()\n",
            "        (fc1): Linear(in_features=1024, out_features=4096, bias=True)\n",
            "        (fc2): Linear(in_features=4096, out_features=1024, bias=True)\n",
            "        (final_layer_norm): LayerNorm((1024,), eps=1e-05, elementwise_affine=True)\n",
            "      )\n",
            "      (8): TransformerEncoderLayer(\n",
            "        (self_attn): MultiheadAttention(\n",
            "          (dropout_module): FairseqDropout()\n",
            "          (k_proj): Linear(in_features=1024, out_features=1024, bias=True)\n",
            "          (v_proj): Linear(in_features=1024, out_features=1024, bias=True)\n",
            "          (q_proj): Linear(in_features=1024, out_features=1024, bias=True)\n",
            "          (out_proj): Linear(in_features=1024, out_features=1024, bias=True)\n",
            "        )\n",
            "        (self_attn_layer_norm): LayerNorm((1024,), eps=1e-05, elementwise_affine=True)\n",
            "        (dropout_module): FairseqDropout()\n",
            "        (activation_dropout_module): FairseqDropout()\n",
            "        (fc1): Linear(in_features=1024, out_features=4096, bias=True)\n",
            "        (fc2): Linear(in_features=4096, out_features=1024, bias=True)\n",
            "        (final_layer_norm): LayerNorm((1024,), eps=1e-05, elementwise_affine=True)\n",
            "      )\n",
            "      (9): TransformerEncoderLayer(\n",
            "        (self_attn): MultiheadAttention(\n",
            "          (dropout_module): FairseqDropout()\n",
            "          (k_proj): Linear(in_features=1024, out_features=1024, bias=True)\n",
            "          (v_proj): Linear(in_features=1024, out_features=1024, bias=True)\n",
            "          (q_proj): Linear(in_features=1024, out_features=1024, bias=True)\n",
            "          (out_proj): Linear(in_features=1024, out_features=1024, bias=True)\n",
            "        )\n",
            "        (self_attn_layer_norm): LayerNorm((1024,), eps=1e-05, elementwise_affine=True)\n",
            "        (dropout_module): FairseqDropout()\n",
            "        (activation_dropout_module): FairseqDropout()\n",
            "        (fc1): Linear(in_features=1024, out_features=4096, bias=True)\n",
            "        (fc2): Linear(in_features=4096, out_features=1024, bias=True)\n",
            "        (final_layer_norm): LayerNorm((1024,), eps=1e-05, elementwise_affine=True)\n",
            "      )\n",
            "      (10): TransformerEncoderLayer(\n",
            "        (self_attn): MultiheadAttention(\n",
            "          (dropout_module): FairseqDropout()\n",
            "          (k_proj): Linear(in_features=1024, out_features=1024, bias=True)\n",
            "          (v_proj): Linear(in_features=1024, out_features=1024, bias=True)\n",
            "          (q_proj): Linear(in_features=1024, out_features=1024, bias=True)\n",
            "          (out_proj): Linear(in_features=1024, out_features=1024, bias=True)\n",
            "        )\n",
            "        (self_attn_layer_norm): LayerNorm((1024,), eps=1e-05, elementwise_affine=True)\n",
            "        (dropout_module): FairseqDropout()\n",
            "        (activation_dropout_module): FairseqDropout()\n",
            "        (fc1): Linear(in_features=1024, out_features=4096, bias=True)\n",
            "        (fc2): Linear(in_features=4096, out_features=1024, bias=True)\n",
            "        (final_layer_norm): LayerNorm((1024,), eps=1e-05, elementwise_affine=True)\n",
            "      )\n",
            "      (11): TransformerEncoderLayer(\n",
            "        (self_attn): MultiheadAttention(\n",
            "          (dropout_module): FairseqDropout()\n",
            "          (k_proj): Linear(in_features=1024, out_features=1024, bias=True)\n",
            "          (v_proj): Linear(in_features=1024, out_features=1024, bias=True)\n",
            "          (q_proj): Linear(in_features=1024, out_features=1024, bias=True)\n",
            "          (out_proj): Linear(in_features=1024, out_features=1024, bias=True)\n",
            "        )\n",
            "        (self_attn_layer_norm): LayerNorm((1024,), eps=1e-05, elementwise_affine=True)\n",
            "        (dropout_module): FairseqDropout()\n",
            "        (activation_dropout_module): FairseqDropout()\n",
            "        (fc1): Linear(in_features=1024, out_features=4096, bias=True)\n",
            "        (fc2): Linear(in_features=4096, out_features=1024, bias=True)\n",
            "        (final_layer_norm): LayerNorm((1024,), eps=1e-05, elementwise_affine=True)\n",
            "      )\n",
            "    )\n",
            "  )\n",
            "  (decoder): TransformerDecoder(\n",
            "    (dropout_module): FairseqDropout()\n",
            "    (embed_tokens): Embedding(50264, 1024, padding_idx=1)\n",
            "    (embed_positions): LearnedPositionalEmbedding(1026, 1024, padding_idx=1)\n",
            "    (layernorm_embedding): LayerNorm((1024,), eps=1e-05, elementwise_affine=True)\n",
            "    (layers): ModuleList(\n",
            "      (0): TransformerDecoderLayer(\n",
            "        (dropout_module): FairseqDropout()\n",
            "        (self_attn): MultiheadAttention(\n",
            "          (dropout_module): FairseqDropout()\n",
            "          (k_proj): Linear(in_features=1024, out_features=1024, bias=True)\n",
            "          (v_proj): Linear(in_features=1024, out_features=1024, bias=True)\n",
            "          (q_proj): Linear(in_features=1024, out_features=1024, bias=True)\n",
            "          (out_proj): Linear(in_features=1024, out_features=1024, bias=True)\n",
            "        )\n",
            "        (activation_dropout_module): FairseqDropout()\n",
            "        (self_attn_layer_norm): LayerNorm((1024,), eps=1e-05, elementwise_affine=True)\n",
            "        (encoder_attn): MultiheadAttention(\n",
            "          (dropout_module): FairseqDropout()\n",
            "          (k_proj): Linear(in_features=1024, out_features=1024, bias=True)\n",
            "          (v_proj): Linear(in_features=1024, out_features=1024, bias=True)\n",
            "          (q_proj): Linear(in_features=1024, out_features=1024, bias=True)\n",
            "          (out_proj): Linear(in_features=1024, out_features=1024, bias=True)\n",
            "        )\n",
            "        (encoder_attn_layer_norm): LayerNorm((1024,), eps=1e-05, elementwise_affine=True)\n",
            "        (fc1): Linear(in_features=1024, out_features=4096, bias=True)\n",
            "        (fc2): Linear(in_features=4096, out_features=1024, bias=True)\n",
            "        (final_layer_norm): LayerNorm((1024,), eps=1e-05, elementwise_affine=True)\n",
            "      )\n",
            "      (1): TransformerDecoderLayer(\n",
            "        (dropout_module): FairseqDropout()\n",
            "        (self_attn): MultiheadAttention(\n",
            "          (dropout_module): FairseqDropout()\n",
            "          (k_proj): Linear(in_features=1024, out_features=1024, bias=True)\n",
            "          (v_proj): Linear(in_features=1024, out_features=1024, bias=True)\n",
            "          (q_proj): Linear(in_features=1024, out_features=1024, bias=True)\n",
            "          (out_proj): Linear(in_features=1024, out_features=1024, bias=True)\n",
            "        )\n",
            "        (activation_dropout_module): FairseqDropout()\n",
            "        (self_attn_layer_norm): LayerNorm((1024,), eps=1e-05, elementwise_affine=True)\n",
            "        (encoder_attn): MultiheadAttention(\n",
            "          (dropout_module): FairseqDropout()\n",
            "          (k_proj): Linear(in_features=1024, out_features=1024, bias=True)\n",
            "          (v_proj): Linear(in_features=1024, out_features=1024, bias=True)\n",
            "          (q_proj): Linear(in_features=1024, out_features=1024, bias=True)\n",
            "          (out_proj): Linear(in_features=1024, out_features=1024, bias=True)\n",
            "        )\n",
            "        (encoder_attn_layer_norm): LayerNorm((1024,), eps=1e-05, elementwise_affine=True)\n",
            "        (fc1): Linear(in_features=1024, out_features=4096, bias=True)\n",
            "        (fc2): Linear(in_features=4096, out_features=1024, bias=True)\n",
            "        (final_layer_norm): LayerNorm((1024,), eps=1e-05, elementwise_affine=True)\n",
            "      )\n",
            "      (2): TransformerDecoderLayer(\n",
            "        (dropout_module): FairseqDropout()\n",
            "        (self_attn): MultiheadAttention(\n",
            "          (dropout_module): FairseqDropout()\n",
            "          (k_proj): Linear(in_features=1024, out_features=1024, bias=True)\n",
            "          (v_proj): Linear(in_features=1024, out_features=1024, bias=True)\n",
            "          (q_proj): Linear(in_features=1024, out_features=1024, bias=True)\n",
            "          (out_proj): Linear(in_features=1024, out_features=1024, bias=True)\n",
            "        )\n",
            "        (activation_dropout_module): FairseqDropout()\n",
            "        (self_attn_layer_norm): LayerNorm((1024,), eps=1e-05, elementwise_affine=True)\n",
            "        (encoder_attn): MultiheadAttention(\n",
            "          (dropout_module): FairseqDropout()\n",
            "          (k_proj): Linear(in_features=1024, out_features=1024, bias=True)\n",
            "          (v_proj): Linear(in_features=1024, out_features=1024, bias=True)\n",
            "          (q_proj): Linear(in_features=1024, out_features=1024, bias=True)\n",
            "          (out_proj): Linear(in_features=1024, out_features=1024, bias=True)\n",
            "        )\n",
            "        (encoder_attn_layer_norm): LayerNorm((1024,), eps=1e-05, elementwise_affine=True)\n",
            "        (fc1): Linear(in_features=1024, out_features=4096, bias=True)\n",
            "        (fc2): Linear(in_features=4096, out_features=1024, bias=True)\n",
            "        (final_layer_norm): LayerNorm((1024,), eps=1e-05, elementwise_affine=True)\n",
            "      )\n",
            "      (3): TransformerDecoderLayer(\n",
            "        (dropout_module): FairseqDropout()\n",
            "        (self_attn): MultiheadAttention(\n",
            "          (dropout_module): FairseqDropout()\n",
            "          (k_proj): Linear(in_features=1024, out_features=1024, bias=True)\n",
            "          (v_proj): Linear(in_features=1024, out_features=1024, bias=True)\n",
            "          (q_proj): Linear(in_features=1024, out_features=1024, bias=True)\n",
            "          (out_proj): Linear(in_features=1024, out_features=1024, bias=True)\n",
            "        )\n",
            "        (activation_dropout_module): FairseqDropout()\n",
            "        (self_attn_layer_norm): LayerNorm((1024,), eps=1e-05, elementwise_affine=True)\n",
            "        (encoder_attn): MultiheadAttention(\n",
            "          (dropout_module): FairseqDropout()\n",
            "          (k_proj): Linear(in_features=1024, out_features=1024, bias=True)\n",
            "          (v_proj): Linear(in_features=1024, out_features=1024, bias=True)\n",
            "          (q_proj): Linear(in_features=1024, out_features=1024, bias=True)\n",
            "          (out_proj): Linear(in_features=1024, out_features=1024, bias=True)\n",
            "        )\n",
            "        (encoder_attn_layer_norm): LayerNorm((1024,), eps=1e-05, elementwise_affine=True)\n",
            "        (fc1): Linear(in_features=1024, out_features=4096, bias=True)\n",
            "        (fc2): Linear(in_features=4096, out_features=1024, bias=True)\n",
            "        (final_layer_norm): LayerNorm((1024,), eps=1e-05, elementwise_affine=True)\n",
            "      )\n",
            "      (4): TransformerDecoderLayer(\n",
            "        (dropout_module): FairseqDropout()\n",
            "        (self_attn): MultiheadAttention(\n",
            "          (dropout_module): FairseqDropout()\n",
            "          (k_proj): Linear(in_features=1024, out_features=1024, bias=True)\n",
            "          (v_proj): Linear(in_features=1024, out_features=1024, bias=True)\n",
            "          (q_proj): Linear(in_features=1024, out_features=1024, bias=True)\n",
            "          (out_proj): Linear(in_features=1024, out_features=1024, bias=True)\n",
            "        )\n",
            "        (activation_dropout_module): FairseqDropout()\n",
            "        (self_attn_layer_norm): LayerNorm((1024,), eps=1e-05, elementwise_affine=True)\n",
            "        (encoder_attn): MultiheadAttention(\n",
            "          (dropout_module): FairseqDropout()\n",
            "          (k_proj): Linear(in_features=1024, out_features=1024, bias=True)\n",
            "          (v_proj): Linear(in_features=1024, out_features=1024, bias=True)\n",
            "          (q_proj): Linear(in_features=1024, out_features=1024, bias=True)\n",
            "          (out_proj): Linear(in_features=1024, out_features=1024, bias=True)\n",
            "        )\n",
            "        (encoder_attn_layer_norm): LayerNorm((1024,), eps=1e-05, elementwise_affine=True)\n",
            "        (fc1): Linear(in_features=1024, out_features=4096, bias=True)\n",
            "        (fc2): Linear(in_features=4096, out_features=1024, bias=True)\n",
            "        (final_layer_norm): LayerNorm((1024,), eps=1e-05, elementwise_affine=True)\n",
            "      )\n",
            "      (5): TransformerDecoderLayer(\n",
            "        (dropout_module): FairseqDropout()\n",
            "        (self_attn): MultiheadAttention(\n",
            "          (dropout_module): FairseqDropout()\n",
            "          (k_proj): Linear(in_features=1024, out_features=1024, bias=True)\n",
            "          (v_proj): Linear(in_features=1024, out_features=1024, bias=True)\n",
            "          (q_proj): Linear(in_features=1024, out_features=1024, bias=True)\n",
            "          (out_proj): Linear(in_features=1024, out_features=1024, bias=True)\n",
            "        )\n",
            "        (activation_dropout_module): FairseqDropout()\n",
            "        (self_attn_layer_norm): LayerNorm((1024,), eps=1e-05, elementwise_affine=True)\n",
            "        (encoder_attn): MultiheadAttention(\n",
            "          (dropout_module): FairseqDropout()\n",
            "          (k_proj): Linear(in_features=1024, out_features=1024, bias=True)\n",
            "          (v_proj): Linear(in_features=1024, out_features=1024, bias=True)\n",
            "          (q_proj): Linear(in_features=1024, out_features=1024, bias=True)\n",
            "          (out_proj): Linear(in_features=1024, out_features=1024, bias=True)\n",
            "        )\n",
            "        (encoder_attn_layer_norm): LayerNorm((1024,), eps=1e-05, elementwise_affine=True)\n",
            "        (fc1): Linear(in_features=1024, out_features=4096, bias=True)\n",
            "        (fc2): Linear(in_features=4096, out_features=1024, bias=True)\n",
            "        (final_layer_norm): LayerNorm((1024,), eps=1e-05, elementwise_affine=True)\n",
            "      )\n",
            "      (6): TransformerDecoderLayer(\n",
            "        (dropout_module): FairseqDropout()\n",
            "        (self_attn): MultiheadAttention(\n",
            "          (dropout_module): FairseqDropout()\n",
            "          (k_proj): Linear(in_features=1024, out_features=1024, bias=True)\n",
            "          (v_proj): Linear(in_features=1024, out_features=1024, bias=True)\n",
            "          (q_proj): Linear(in_features=1024, out_features=1024, bias=True)\n",
            "          (out_proj): Linear(in_features=1024, out_features=1024, bias=True)\n",
            "        )\n",
            "        (activation_dropout_module): FairseqDropout()\n",
            "        (self_attn_layer_norm): LayerNorm((1024,), eps=1e-05, elementwise_affine=True)\n",
            "        (encoder_attn): MultiheadAttention(\n",
            "          (dropout_module): FairseqDropout()\n",
            "          (k_proj): Linear(in_features=1024, out_features=1024, bias=True)\n",
            "          (v_proj): Linear(in_features=1024, out_features=1024, bias=True)\n",
            "          (q_proj): Linear(in_features=1024, out_features=1024, bias=True)\n",
            "          (out_proj): Linear(in_features=1024, out_features=1024, bias=True)\n",
            "        )\n",
            "        (encoder_attn_layer_norm): LayerNorm((1024,), eps=1e-05, elementwise_affine=True)\n",
            "        (fc1): Linear(in_features=1024, out_features=4096, bias=True)\n",
            "        (fc2): Linear(in_features=4096, out_features=1024, bias=True)\n",
            "        (final_layer_norm): LayerNorm((1024,), eps=1e-05, elementwise_affine=True)\n",
            "      )\n",
            "      (7): TransformerDecoderLayer(\n",
            "        (dropout_module): FairseqDropout()\n",
            "        (self_attn): MultiheadAttention(\n",
            "          (dropout_module): FairseqDropout()\n",
            "          (k_proj): Linear(in_features=1024, out_features=1024, bias=True)\n",
            "          (v_proj): Linear(in_features=1024, out_features=1024, bias=True)\n",
            "          (q_proj): Linear(in_features=1024, out_features=1024, bias=True)\n",
            "          (out_proj): Linear(in_features=1024, out_features=1024, bias=True)\n",
            "        )\n",
            "        (activation_dropout_module): FairseqDropout()\n",
            "        (self_attn_layer_norm): LayerNorm((1024,), eps=1e-05, elementwise_affine=True)\n",
            "        (encoder_attn): MultiheadAttention(\n",
            "          (dropout_module): FairseqDropout()\n",
            "          (k_proj): Linear(in_features=1024, out_features=1024, bias=True)\n",
            "          (v_proj): Linear(in_features=1024, out_features=1024, bias=True)\n",
            "          (q_proj): Linear(in_features=1024, out_features=1024, bias=True)\n",
            "          (out_proj): Linear(in_features=1024, out_features=1024, bias=True)\n",
            "        )\n",
            "        (encoder_attn_layer_norm): LayerNorm((1024,), eps=1e-05, elementwise_affine=True)\n",
            "        (fc1): Linear(in_features=1024, out_features=4096, bias=True)\n",
            "        (fc2): Linear(in_features=4096, out_features=1024, bias=True)\n",
            "        (final_layer_norm): LayerNorm((1024,), eps=1e-05, elementwise_affine=True)\n",
            "      )\n",
            "      (8): TransformerDecoderLayer(\n",
            "        (dropout_module): FairseqDropout()\n",
            "        (self_attn): MultiheadAttention(\n",
            "          (dropout_module): FairseqDropout()\n",
            "          (k_proj): Linear(in_features=1024, out_features=1024, bias=True)\n",
            "          (v_proj): Linear(in_features=1024, out_features=1024, bias=True)\n",
            "          (q_proj): Linear(in_features=1024, out_features=1024, bias=True)\n",
            "          (out_proj): Linear(in_features=1024, out_features=1024, bias=True)\n",
            "        )\n",
            "        (activation_dropout_module): FairseqDropout()\n",
            "        (self_attn_layer_norm): LayerNorm((1024,), eps=1e-05, elementwise_affine=True)\n",
            "        (encoder_attn): MultiheadAttention(\n",
            "          (dropout_module): FairseqDropout()\n",
            "          (k_proj): Linear(in_features=1024, out_features=1024, bias=True)\n",
            "          (v_proj): Linear(in_features=1024, out_features=1024, bias=True)\n",
            "          (q_proj): Linear(in_features=1024, out_features=1024, bias=True)\n",
            "          (out_proj): Linear(in_features=1024, out_features=1024, bias=True)\n",
            "        )\n",
            "        (encoder_attn_layer_norm): LayerNorm((1024,), eps=1e-05, elementwise_affine=True)\n",
            "        (fc1): Linear(in_features=1024, out_features=4096, bias=True)\n",
            "        (fc2): Linear(in_features=4096, out_features=1024, bias=True)\n",
            "        (final_layer_norm): LayerNorm((1024,), eps=1e-05, elementwise_affine=True)\n",
            "      )\n",
            "      (9): TransformerDecoderLayer(\n",
            "        (dropout_module): FairseqDropout()\n",
            "        (self_attn): MultiheadAttention(\n",
            "          (dropout_module): FairseqDropout()\n",
            "          (k_proj): Linear(in_features=1024, out_features=1024, bias=True)\n",
            "          (v_proj): Linear(in_features=1024, out_features=1024, bias=True)\n",
            "          (q_proj): Linear(in_features=1024, out_features=1024, bias=True)\n",
            "          (out_proj): Linear(in_features=1024, out_features=1024, bias=True)\n",
            "        )\n",
            "        (activation_dropout_module): FairseqDropout()\n",
            "        (self_attn_layer_norm): LayerNorm((1024,), eps=1e-05, elementwise_affine=True)\n",
            "        (encoder_attn): MultiheadAttention(\n",
            "          (dropout_module): FairseqDropout()\n",
            "          (k_proj): Linear(in_features=1024, out_features=1024, bias=True)\n",
            "          (v_proj): Linear(in_features=1024, out_features=1024, bias=True)\n",
            "          (q_proj): Linear(in_features=1024, out_features=1024, bias=True)\n",
            "          (out_proj): Linear(in_features=1024, out_features=1024, bias=True)\n",
            "        )\n",
            "        (encoder_attn_layer_norm): LayerNorm((1024,), eps=1e-05, elementwise_affine=True)\n",
            "        (fc1): Linear(in_features=1024, out_features=4096, bias=True)\n",
            "        (fc2): Linear(in_features=4096, out_features=1024, bias=True)\n",
            "        (final_layer_norm): LayerNorm((1024,), eps=1e-05, elementwise_affine=True)\n",
            "      )\n",
            "      (10): TransformerDecoderLayer(\n",
            "        (dropout_module): FairseqDropout()\n",
            "        (self_attn): MultiheadAttention(\n",
            "          (dropout_module): FairseqDropout()\n",
            "          (k_proj): Linear(in_features=1024, out_features=1024, bias=True)\n",
            "          (v_proj): Linear(in_features=1024, out_features=1024, bias=True)\n",
            "          (q_proj): Linear(in_features=1024, out_features=1024, bias=True)\n",
            "          (out_proj): Linear(in_features=1024, out_features=1024, bias=True)\n",
            "        )\n",
            "        (activation_dropout_module): FairseqDropout()\n",
            "        (self_attn_layer_norm): LayerNorm((1024,), eps=1e-05, elementwise_affine=True)\n",
            "        (encoder_attn): MultiheadAttention(\n",
            "          (dropout_module): FairseqDropout()\n",
            "          (k_proj): Linear(in_features=1024, out_features=1024, bias=True)\n",
            "          (v_proj): Linear(in_features=1024, out_features=1024, bias=True)\n",
            "          (q_proj): Linear(in_features=1024, out_features=1024, bias=True)\n",
            "          (out_proj): Linear(in_features=1024, out_features=1024, bias=True)\n",
            "        )\n",
            "        (encoder_attn_layer_norm): LayerNorm((1024,), eps=1e-05, elementwise_affine=True)\n",
            "        (fc1): Linear(in_features=1024, out_features=4096, bias=True)\n",
            "        (fc2): Linear(in_features=4096, out_features=1024, bias=True)\n",
            "        (final_layer_norm): LayerNorm((1024,), eps=1e-05, elementwise_affine=True)\n",
            "      )\n",
            "      (11): TransformerDecoderLayer(\n",
            "        (dropout_module): FairseqDropout()\n",
            "        (self_attn): MultiheadAttention(\n",
            "          (dropout_module): FairseqDropout()\n",
            "          (k_proj): Linear(in_features=1024, out_features=1024, bias=True)\n",
            "          (v_proj): Linear(in_features=1024, out_features=1024, bias=True)\n",
            "          (q_proj): Linear(in_features=1024, out_features=1024, bias=True)\n",
            "          (out_proj): Linear(in_features=1024, out_features=1024, bias=True)\n",
            "        )\n",
            "        (activation_dropout_module): FairseqDropout()\n",
            "        (self_attn_layer_norm): LayerNorm((1024,), eps=1e-05, elementwise_affine=True)\n",
            "        (encoder_attn): MultiheadAttention(\n",
            "          (dropout_module): FairseqDropout()\n",
            "          (k_proj): Linear(in_features=1024, out_features=1024, bias=True)\n",
            "          (v_proj): Linear(in_features=1024, out_features=1024, bias=True)\n",
            "          (q_proj): Linear(in_features=1024, out_features=1024, bias=True)\n",
            "          (out_proj): Linear(in_features=1024, out_features=1024, bias=True)\n",
            "        )\n",
            "        (encoder_attn_layer_norm): LayerNorm((1024,), eps=1e-05, elementwise_affine=True)\n",
            "        (fc1): Linear(in_features=1024, out_features=4096, bias=True)\n",
            "        (fc2): Linear(in_features=4096, out_features=1024, bias=True)\n",
            "        (final_layer_norm): LayerNorm((1024,), eps=1e-05, elementwise_affine=True)\n",
            "      )\n",
            "    )\n",
            "    (output_projection): Linear(in_features=1024, out_features=50264, bias=False)\n",
            "  )\n",
            "  (classification_heads): ModuleDict()\n",
            ")\n",
            "INFO:fairseq_cli.train:task: translation (TranslationTask)\n",
            "INFO:fairseq_cli.train:model: bart_large (BARTModel)\n",
            "INFO:fairseq_cli.train:criterion: label_smoothed_cross_entropy (LabelSmoothedCrossEntropyCriterion)\n",
            "INFO:fairseq_cli.train:num. model params: 406290432 (num. trained: 406290432)\n",
            "INFO:fairseq.trainer:detected shared parameter: encoder.embed_tokens.weight <- decoder.embed_tokens.weight\n",
            "INFO:fairseq.trainer:detected shared parameter: encoder.embed_tokens.weight <- decoder.output_projection.weight\n",
            "INFO:fairseq.utils:***********************CUDA enviroments for all 1 workers***********************\n",
            "INFO:fairseq.utils:rank   0: capabilities =  6.0  ; total memory = 15.899 GB ; name = Tesla P100-PCIE-16GB                    \n",
            "INFO:fairseq.utils:***********************CUDA enviroments for all 1 workers***********************\n",
            "INFO:fairseq_cli.train:training on 1 devices (GPUs/TPUs)\n",
            "INFO:fairseq_cli.train:max tokens per GPU = 1024 and max sentences per GPU = 64\n",
            "INFO:fairseq.trainer:loaded checkpoint /content/drive/MyDrive/muss/resources/models/bart_mined/model.pt (epoch 56 @ 0 updates)\n",
            "INFO:fairseq.trainer:NOTE: your device does NOT support faster training with --fp16, please switch to FP32 which is likely to be faster\n",
            "INFO:fairseq.trainer:loading train data for epoch 1\n",
            "INFO:fairseq.data.data_utils:loaded 128288 examples from: /content/drive/MyDrive/muss/resources/datasets/_54645c8788bc40a6de008c8a68cd4a61/fairseq_preprocessed_complex-simple/train.complex-simple.complex\n",
            "INFO:fairseq.data.data_utils:loaded 128288 examples from: /content/drive/MyDrive/muss/resources/datasets/_54645c8788bc40a6de008c8a68cd4a61/fairseq_preprocessed_complex-simple/train.complex-simple.simple\n",
            "INFO:fairseq.tasks.translation:/content/drive/MyDrive/muss/resources/datasets/_54645c8788bc40a6de008c8a68cd4a61/fairseq_preprocessed_complex-simple train complex-simple 128288 examples\n",
            "WARNING:fairseq.logging.progress_bar:tensorboard not found, please install with: pip install tensorboardX\n",
            "INFO:fairseq.trainer:begin training epoch 1\n",
            "INFO:fairseq.trainer:NOTE: overflow detected, setting loss scale to: 64.0\n",
            "INFO:fairseq.trainer:NOTE: overflow detected, setting loss scale to: 32.0\n",
            "INFO:fairseq.trainer:NOTE: overflow detected, setting loss scale to: 16.0\n",
            "INFO:fairseq.trainer:NOTE: overflow detected, setting loss scale to: 8.0\n",
            "INFO:fairseq.trainer:NOTE: overflow detected, setting loss scale to: 4.0\n",
            "INFO:fairseq.trainer:NOTE: overflow detected, setting loss scale to: 2.0\n",
            "INFO:fairseq.trainer:NOTE: overflow detected, setting loss scale to: 1.0\n",
            "INFO:fairseq.trainer:NOTE: overflow detected, setting loss scale to: 0.5\n",
            "INFO:train_inner:epoch 001:    108 / 112 loss=4.465, nll_loss=2.787, ppl=6.9, wps=894.6, ups=0.03, wpb=29060.7, bsz=1152.9, num_updates=100, lr=6e-06, gnorm=4.098, clip=100, loss_scale=0.5, train_wall=3189, wall=3602\n",
            "INFO:fairseq_cli.train:begin validation on \"valid\" subset\n",
            "WARNING:fairseq.logging.progress_bar:tensorboard not found, please install with: pip install tensorboardX\n",
            "INFO:valid:epoch 001 | valid on 'valid' subset | loss 3.762 | nll_loss 1.979 | ppl 3.94 | wps 2306.2 | wpb 227.7 | bsz 8.7 | num_updates 100\n",
            "INFO:fairseq_cli.train:begin validation on \"valid\" subset\n",
            "WARNING:fairseq.logging.progress_bar:tensorboard not found, please install with: pip install tensorboardX\n",
            "INFO:valid:epoch 001 | valid on 'valid' subset | loss 3.751 | nll_loss 1.965 | ppl 3.9 | wps 2308.9 | wpb 227.7 | bsz 8.7 | num_updates 104\n",
            "INFO:fairseq_cli.train:begin save checkpoint\n",
            "INFO:fairseq.checkpoint_utils:saved checkpoint /content/drive/MyDrive/muss/experiments/fairseq/local_1631567843618/checkpoints/checkpoint1.pt (epoch 1 @ 104 updates, score 3.751) (writing took 188.56513458300014 seconds)\n",
            "INFO:fairseq_cli.train:end of epoch 1 (average epoch stats below)\n",
            "INFO:train:epoch 001 | loss 4.442 | nll_loss 2.761 | ppl 6.78 | wps 843.9 | ups 0.03 | wpb 28852.5 | bsz 1144.8 | num_updates 104 | lr 6.24e-06 | gnorm 3.972 | clip 100 | loss_scale 0.5 | train_wall 3607 | wall 3907\n",
            "WARNING:fairseq.logging.progress_bar:tensorboard not found, please install with: pip install tensorboardX\n",
            "INFO:fairseq.trainer:begin training epoch 2\n",
            "INFO:train_inner:epoch 002:     96 / 112 loss=3.642, nll_loss=1.871, ppl=3.66, wps=839.1, ups=0.03, wpb=28776.2, bsz=1144.1, num_updates=200, lr=1.2e-05, gnorm=0.711, clip=100, loss_scale=1, train_wall=3160, wall=7031\n",
            "INFO:fairseq_cli.train:begin validation on \"valid\" subset\n",
            "WARNING:fairseq.logging.progress_bar:tensorboard not found, please install with: pip install tensorboardX\n",
            "INFO:valid:epoch 002 | valid on 'valid' subset | loss 3.581 | nll_loss 1.775 | ppl 3.42 | wps 2309.9 | wpb 227.7 | bsz 8.7 | num_updates 200 | best_loss 3.581\n",
            "INFO:fairseq_cli.train:begin validation on \"valid\" subset\n",
            "WARNING:fairseq.logging.progress_bar:tensorboard not found, please install with: pip install tensorboardX\n",
            "INFO:valid:epoch 002 | valid on 'valid' subset | loss 3.563 | nll_loss 1.751 | ppl 3.37 | wps 2311.9 | wpb 227.7 | bsz 8.7 | num_updates 216 | best_loss 3.563\n",
            "INFO:fairseq_cli.train:begin save checkpoint\n",
            "INFO:fairseq.checkpoint_utils:saved checkpoint /content/drive/MyDrive/muss/experiments/fairseq/local_1631567843618/checkpoints/checkpoint2.pt (epoch 2 @ 216 updates, score 3.563) (writing took 196.0382696609995 seconds)\n",
            "INFO:fairseq_cli.train:end of epoch 2 (average epoch stats below)\n",
            "INFO:train:epoch 002 | loss 3.628 | nll_loss 1.855 | ppl 3.62 | wps 844.2 | ups 0.03 | wpb 28861.4 | bsz 1145.4 | num_updates 216 | lr 1.296e-05 | gnorm 0.714 | clip 100 | loss_scale 1 | train_wall 3544 | wall 7736\n",
            "WARNING:fairseq.logging.progress_bar:tensorboard not found, please install with: pip install tensorboardX\n",
            "INFO:fairseq.trainer:begin training epoch 3\n",
            "INFO:train_inner:epoch 003:     84 / 112 loss=3.499, nll_loss=1.71, ppl=3.27, wps=841.1, ups=0.03, wpb=28926.7, bsz=1144.7, num_updates=300, lr=1.8e-05, gnorm=0.752, clip=100, loss_scale=2, train_wall=3163, wall=10471\n",
            "INFO:fairseq_cli.train:begin validation on \"valid\" subset\n",
            "WARNING:fairseq.logging.progress_bar:tensorboard not found, please install with: pip install tensorboardX\n",
            "INFO:valid:epoch 003 | valid on 'valid' subset | loss 3.514 | nll_loss 1.699 | ppl 3.25 | wps 2323.1 | wpb 227.7 | bsz 8.7 | num_updates 300 | best_loss 3.514\n",
            "INFO:fairseq_cli.train:begin validation on \"valid\" subset\n",
            "WARNING:fairseq.logging.progress_bar:tensorboard not found, please install with: pip install tensorboardX\n",
            "INFO:valid:epoch 003 | valid on 'valid' subset | loss 3.496 | nll_loss 1.671 | ppl 3.18 | wps 2309.2 | wpb 227.7 | bsz 8.7 | num_updates 328 | best_loss 3.496\n",
            "INFO:fairseq_cli.train:begin save checkpoint\n",
            "INFO:fairseq.checkpoint_utils:saved checkpoint /content/drive/MyDrive/muss/experiments/fairseq/local_1631567843618/checkpoints/checkpoint3.pt (epoch 3 @ 328 updates, score 3.496) (writing took 189.56046429600065 seconds)\n",
            "INFO:fairseq_cli.train:end of epoch 3 (average epoch stats below)\n",
            "INFO:train:epoch 003 | loss 3.483 | nll_loss 1.693 | ppl 3.23 | wps 845.7 | ups 0.03 | wpb 28861.4 | bsz 1145.4 | num_updates 328 | lr 1.968e-05 | gnorm 0.763 | clip 100 | loss_scale 2 | train_wall 3545 | wall 11559\n",
            "WARNING:fairseq.logging.progress_bar:tensorboard not found, please install with: pip install tensorboardX\n",
            "INFO:fairseq.trainer:begin training epoch 4\n",
            "INFO:train_inner:epoch 004:     72 / 112 loss=3.414, nll_loss=1.616, ppl=3.07, wps=836.5, ups=0.03, wpb=28760.2, bsz=1142.4, num_updates=400, lr=2.4e-05, gnorm=0.856, clip=100, loss_scale=4, train_wall=3165, wall=13909\n",
            "INFO:fairseq_cli.train:begin validation on \"valid\" subset\n",
            "WARNING:fairseq.logging.progress_bar:tensorboard not found, please install with: pip install tensorboardX\n",
            "INFO:valid:epoch 004 | valid on 'valid' subset | loss 3.465 | nll_loss 1.646 | ppl 3.13 | wps 2303.4 | wpb 227.7 | bsz 8.7 | num_updates 400 | best_loss 3.465\n",
            "INFO:fairseq_cli.train:begin validation on \"valid\" subset\n",
            "WARNING:fairseq.logging.progress_bar:tensorboard not found, please install with: pip install tensorboardX\n",
            "INFO:valid:epoch 004 | valid on 'valid' subset | loss 3.444 | nll_loss 1.623 | ppl 3.08 | wps 2315.6 | wpb 227.7 | bsz 8.7 | num_updates 440 | best_loss 3.444\n",
            "INFO:fairseq_cli.train:begin save checkpoint\n",
            "INFO:fairseq.checkpoint_utils:saved checkpoint /content/drive/MyDrive/muss/experiments/fairseq/local_1631567843618/checkpoints/checkpoint4.pt (epoch 4 @ 440 updates, score 3.444) (writing took 194.74786110599962 seconds)\n",
            "INFO:fairseq_cli.train:end of epoch 4 (average epoch stats below)\n",
            "INFO:train:epoch 004 | loss 3.392 | nll_loss 1.592 | ppl 3.01 | wps 842.5 | ups 0.03 | wpb 28861.4 | bsz 1145.4 | num_updates 440 | lr 2.64e-05 | gnorm 0.829 | clip 100 | loss_scale 4 | train_wall 3550 | wall 15395\n",
            "WARNING:fairseq.logging.progress_bar:tensorboard not found, please install with: pip install tensorboardX\n",
            "INFO:fairseq.trainer:begin training epoch 5\n",
            "INFO:train_inner:epoch 005:     60 / 112 loss=3.346, nll_loss=1.541, ppl=2.91, wps=839.2, ups=0.03, wpb=28957.6, bsz=1145.7, num_updates=500, lr=3e-05, gnorm=0.898, clip=100, loss_scale=4, train_wall=3173, wall=17359\n",
            "INFO:fairseq_cli.train:begin validation on \"valid\" subset\n",
            "WARNING:fairseq.logging.progress_bar:tensorboard not found, please install with: pip install tensorboardX\n",
            "INFO:valid:epoch 005 | valid on 'valid' subset | loss 3.437 | nll_loss 1.615 | ppl 3.06 | wps 2298.1 | wpb 227.7 | bsz 8.7 | num_updates 500 | best_loss 3.437\n",
            "INFO:fairseq.trainer:NOTE: overflow detected, setting loss scale to: 4.0\n",
            "INFO:fairseq_cli.train:begin validation on \"valid\" subset\n",
            "WARNING:fairseq.logging.progress_bar:tensorboard not found, please install with: pip install tensorboardX\n",
            "INFO:valid:epoch 005 | valid on 'valid' subset | loss 3.427 | nll_loss 1.592 | ppl 3.02 | wps 2292.9 | wpb 227.7 | bsz 8.7 | num_updates 551 | best_loss 3.427\n",
            "INFO:fairseq_cli.train:begin save checkpoint\n",
            "INFO:fairseq.checkpoint_utils:saved checkpoint /content/drive/MyDrive/muss/experiments/fairseq/local_1631567843618/checkpoints/checkpoint5.pt (epoch 5 @ 551 updates, score 3.427) (writing took 193.47911925399967 seconds)\n",
            "INFO:fairseq_cli.train:end of epoch 5 (average epoch stats below)\n",
            "INFO:train:epoch 005 | loss 3.314 | nll_loss 1.505 | ppl 2.84 | wps 834.5 | ups 0.03 | wpb 28844.1 | bsz 1145.6 | num_updates 551 | lr 2.99985e-05 | gnorm 0.933 | clip 100 | loss_scale 4 | train_wall 3551 | wall 19232\n",
            "WARNING:fairseq.logging.progress_bar:tensorboard not found, please install with: pip install tensorboardX\n",
            "INFO:fairseq.trainer:begin training epoch 6\n",
            "INFO:train_inner:epoch 006:     49 / 112 loss=3.277, nll_loss=1.463, ppl=2.76, wps=829.2, ups=0.03, wpb=28819.2, bsz=1146.1, num_updates=600, lr=2.9997e-05, gnorm=0.915, clip=100, loss_scale=4, train_wall=3197, wall=20835\n",
            "INFO:fairseq_cli.train:begin validation on \"valid\" subset\n",
            "WARNING:fairseq.logging.progress_bar:tensorboard not found, please install with: pip install tensorboardX\n",
            "INFO:valid:epoch 006 | valid on 'valid' subset | loss 3.415 | nll_loss 1.583 | ppl 3 | wps 2308.6 | wpb 227.7 | bsz 8.7 | num_updates 600 | best_loss 3.415\n",
            "INFO:fairseq.trainer:NOTE: overflow detected, setting loss scale to: 4.0\n",
            "INFO:fairseq_cli.train:begin validation on \"valid\" subset\n",
            "WARNING:fairseq.logging.progress_bar:tensorboard not found, please install with: pip install tensorboardX\n",
            "INFO:valid:epoch 006 | valid on 'valid' subset | loss 3.405 | nll_loss 1.579 | ppl 2.99 | wps 2307.2 | wpb 227.7 | bsz 8.7 | num_updates 662 | best_loss 3.405\n",
            "INFO:fairseq_cli.train:begin save checkpoint\n",
            "INFO:fairseq.checkpoint_utils:saved checkpoint /content/drive/MyDrive/muss/experiments/fairseq/local_1631567843618/checkpoints/checkpoint6.pt (epoch 6 @ 662 updates, score 3.405) (writing took 197.11939085199992 seconds)\n",
            "INFO:fairseq_cli.train:end of epoch 6 (average epoch stats below)\n",
            "INFO:train:epoch 006 | loss 3.245 | nll_loss 1.427 | ppl 2.69 | wps 833.8 | ups 0.03 | wpb 28842 | bsz 1145.4 | num_updates 662 | lr 2.99951e-05 | gnorm 0.912 | clip 100 | loss_scale 4 | train_wall 3550 | wall 23071\n",
            "WARNING:fairseq.logging.progress_bar:tensorboard not found, please install with: pip install tensorboardX\n",
            "INFO:fairseq.trainer:begin training epoch 7\n",
            "INFO:train_inner:epoch 007:     38 / 112 loss=3.225, nll_loss=1.405, ppl=2.65, wps=826.8, ups=0.03, wpb=28779.1, bsz=1142.9, num_updates=700, lr=2.9994e-05, gnorm=0.876, clip=100, loss_scale=4, train_wall=3200, wall=24316\n",
            "INFO:fairseq_cli.train:begin validation on \"valid\" subset\n",
            "WARNING:fairseq.logging.progress_bar:tensorboard not found, please install with: pip install tensorboardX\n",
            "INFO:valid:epoch 007 | valid on 'valid' subset | loss 3.405 | nll_loss 1.58 | ppl 2.99 | wps 2309.7 | wpb 227.7 | bsz 8.7 | num_updates 700 | best_loss 3.405\n",
            "INFO:fairseq_cli.train:begin validation on \"valid\" subset\n",
            "WARNING:fairseq.logging.progress_bar:tensorboard not found, please install with: pip install tensorboardX\n",
            "INFO:valid:epoch 007 | valid on 'valid' subset | loss 3.397 | nll_loss 1.564 | ppl 2.96 | wps 2307 | wpb 227.7 | bsz 8.7 | num_updates 774 | best_loss 3.397\n",
            "INFO:fairseq_cli.train:begin save checkpoint\n",
            "INFO:fairseq.checkpoint_utils:saved checkpoint /content/drive/MyDrive/muss/experiments/fairseq/local_1631567843618/checkpoints/checkpoint7.pt (epoch 7 @ 774 updates, score 3.397) (writing took 194.95332029700148 seconds)\n",
            "INFO:fairseq_cli.train:end of epoch 7 (average epoch stats below)\n",
            "INFO:train:epoch 007 | loss 3.182 | nll_loss 1.357 | ppl 2.56 | wps 842.6 | ups 0.03 | wpb 28861.4 | bsz 1145.4 | num_updates 774 | lr 2.99918e-05 | gnorm 0.94 | clip 100 | loss_scale 8 | train_wall 3550 | wall 26908\n",
            "WARNING:fairseq.logging.progress_bar:tensorboard not found, please install with: pip install tensorboardX\n",
            "INFO:fairseq.trainer:begin training epoch 8\n",
            "INFO:fairseq.trainer:NOTE: overflow detected, setting loss scale to: 4.0\n",
            "INFO:train_inner:epoch 008:     27 / 112 loss=3.164, nll_loss=1.337, ppl=2.53, wps=828, ups=0.03, wpb=28795.2, bsz=1146.5, num_updates=800, lr=2.9991e-05, gnorm=0.93, clip=100, loss_scale=4, train_wall=3199, wall=27793\n",
            "INFO:fairseq_cli.train:begin validation on \"valid\" subset\n",
            "WARNING:fairseq.logging.progress_bar:tensorboard not found, please install with: pip install tensorboardX\n",
            "INFO:valid:epoch 008 | valid on 'valid' subset | loss 3.401 | nll_loss 1.57 | ppl 2.97 | wps 2297.8 | wpb 227.7 | bsz 8.7 | num_updates 800 | best_loss 3.397\n",
            "INFO:fairseq_cli.train:begin validation on \"valid\" subset\n",
            "WARNING:fairseq.logging.progress_bar:tensorboard not found, please install with: pip install tensorboardX\n",
            "INFO:valid:epoch 008 | valid on 'valid' subset | loss 3.386 | nll_loss 1.545 | ppl 2.92 | wps 2299.2 | wpb 227.7 | bsz 8.7 | num_updates 885 | best_loss 3.386\n",
            "INFO:fairseq_cli.train:begin save checkpoint\n",
            "INFO:fairseq.checkpoint_utils:saved checkpoint /content/drive/MyDrive/muss/experiments/fairseq/local_1631567843618/checkpoints/checkpoint8.pt (epoch 8 @ 885 updates, score 3.386) (writing took 189.06186511499982 seconds)\n",
            "INFO:fairseq_cli.train:end of epoch 8 (average epoch stats below)\n",
            "INFO:train:epoch 008 | loss 3.126 | nll_loss 1.293 | ppl 2.45 | wps 835.9 | ups 0.03 | wpb 28860.7 | bsz 1145.4 | num_updates 885 | lr 2.99884e-05 | gnorm 0.885 | clip 100 | loss_scale 4 | train_wall 3552 | wall 30740\n",
            "WARNING:fairseq.logging.progress_bar:tensorboard not found, please install with: pip install tensorboardX\n",
            "INFO:fairseq.trainer:begin training epoch 9\n",
            "INFO:train_inner:epoch 009:     15 / 112 loss=3.115, nll_loss=1.281, ppl=2.43, wps=838.5, ups=0.03, wpb=28851.6, bsz=1143.8, num_updates=900, lr=2.9988e-05, gnorm=0.909, clip=100, loss_scale=4, train_wall=3168, wall=31234\n",
            "INFO:fairseq_cli.train:begin validation on \"valid\" subset\n",
            "WARNING:fairseq.logging.progress_bar:tensorboard not found, please install with: pip install tensorboardX\n",
            "INFO:valid:epoch 009 | valid on 'valid' subset | loss 3.389 | nll_loss 1.555 | ppl 2.94 | wps 2302.4 | wpb 227.7 | bsz 8.7 | num_updates 900 | best_loss 3.386\n",
            "INFO:fairseq.trainer:NOTE: overflow detected, setting loss scale to: 4.0\n",
            "INFO:fairseq_cli.train:begin validation on \"valid\" subset\n",
            "WARNING:fairseq.logging.progress_bar:tensorboard not found, please install with: pip install tensorboardX\n",
            "INFO:valid:epoch 009 | valid on 'valid' subset | loss 3.38 | nll_loss 1.544 | ppl 2.92 | wps 2312.2 | wpb 227.7 | bsz 8.7 | num_updates 996 | best_loss 3.38\n",
            "INFO:fairseq_cli.train:begin save checkpoint\n",
            "INFO:fairseq.checkpoint_utils:saved checkpoint /content/drive/MyDrive/muss/experiments/fairseq/local_1631567843618/checkpoints/checkpoint9.pt (epoch 9 @ 996 updates, score 3.38) (writing took 193.19441455599735 seconds)\n",
            "INFO:fairseq_cli.train:end of epoch 9 (average epoch stats below)\n",
            "INFO:train:epoch 009 | loss 3.069 | nll_loss 1.229 | ppl 2.34 | wps 834.8 | ups 0.03 | wpb 28850.8 | bsz 1144.9 | num_updates 996 | lr 2.99851e-05 | gnorm 0.939 | clip 100 | loss_scale 4 | train_wall 3551 | wall 34576\n",
            "WARNING:fairseq.logging.progress_bar:tensorboard not found, please install with: pip install tensorboardX\n",
            "INFO:fairseq.trainer:begin training epoch 10\n",
            "INFO:train_inner:epoch 010:      4 / 112 loss=3.072, nll_loss=1.232, ppl=2.35, wps=829.9, ups=0.03, wpb=28840.5, bsz=1144.4, num_updates=1000, lr=2.9985e-05, gnorm=0.927, clip=100, loss_scale=4, train_wall=3199, wall=34709\n",
            "INFO:fairseq_cli.train:begin validation on \"valid\" subset\n",
            "WARNING:fairseq.logging.progress_bar:tensorboard not found, please install with: pip install tensorboardX\n",
            "INFO:valid:epoch 010 | valid on 'valid' subset | loss 3.389 | nll_loss 1.552 | ppl 2.93 | wps 2311.3 | wpb 227.7 | bsz 8.7 | num_updates 1000 | best_loss 3.38\n",
            "INFO:fairseq.trainer:NOTE: overflow detected, setting loss scale to: 4.0\n",
            "INFO:train_inner:epoch 010:    105 / 112 loss=3.017, nll_loss=1.17, ppl=2.25, wps=881.1, ups=0.03, wpb=29030.9, bsz=1153.1, num_updates=1100, lr=2.9982e-05, gnorm=0.901, clip=100, loss_scale=4, train_wall=3218, wall=38004\n",
            "INFO:fairseq_cli.train:begin validation on \"valid\" subset\n",
            "WARNING:fairseq.logging.progress_bar:tensorboard not found, please install with: pip install tensorboardX\n",
            "INFO:valid:epoch 010 | valid on 'valid' subset | loss 3.382 | nll_loss 1.543 | ppl 2.91 | wps 2306.3 | wpb 227.7 | bsz 8.7 | num_updates 1100 | best_loss 3.38\n",
            "INFO:fairseq_cli.train:begin validation on \"valid\" subset\n",
            "WARNING:fairseq.logging.progress_bar:tensorboard not found, please install with: pip install tensorboardX\n",
            "INFO:valid:epoch 010 | valid on 'valid' subset | loss 3.382 | nll_loss 1.546 | ppl 2.92 | wps 2306.9 | wpb 227.7 | bsz 8.7 | num_updates 1107 | best_loss 3.38\n",
            "INFO:fairseq_cli.train:begin save checkpoint\n",
            "INFO:fairseq.checkpoint_utils:saved checkpoint /content/drive/MyDrive/muss/experiments/fairseq/local_1631567843618/checkpoints/checkpoint10.pt (epoch 10 @ 1107 updates, score 3.382) (writing took 129.70760406799673 seconds)\n",
            "INFO:fairseq_cli.train:end of epoch 10 (average epoch stats below)\n",
            "INFO:train:epoch 010 | loss 3.021 | nll_loss 1.174 | ppl 2.26 | wps 849.3 | ups 0.03 | wpb 28867.9 | bsz 1145.7 | num_updates 1107 | lr 2.99818e-05 | gnorm 0.888 | clip 100 | loss_scale 4 | train_wall 3548 | wall 38349\n",
            "WARNING:fairseq.logging.progress_bar:tensorboard not found, please install with: pip install tensorboardX\n",
            "INFO:fairseq.trainer:begin training epoch 11\n",
            "INFO:fairseq.trainer:NOTE: overflow detected, setting loss scale to: 4.0\n",
            "INFO:train_inner:epoch 011:     94 / 112 loss=2.979, nll_loss=1.126, ppl=2.18, wps=845.6, ups=0.03, wpb=28812.2, bsz=1144.7, num_updates=1200, lr=2.9979e-05, gnorm=0.821, clip=100, loss_scale=4, train_wall=3196, wall=41411\n",
            "INFO:fairseq_cli.train:begin validation on \"valid\" subset\n",
            "WARNING:fairseq.logging.progress_bar:tensorboard not found, please install with: pip install tensorboardX\n",
            "INFO:valid:epoch 011 | valid on 'valid' subset | loss 3.384 | nll_loss 1.539 | ppl 2.91 | wps 2310.9 | wpb 227.7 | bsz 8.7 | num_updates 1200 | best_loss 3.38\n",
            "INFO:fairseq_cli.train:begin validation on \"valid\" subset\n",
            "WARNING:fairseq.logging.progress_bar:tensorboard not found, please install with: pip install tensorboardX\n",
            "INFO:valid:epoch 011 | valid on 'valid' subset | loss 3.385 | nll_loss 1.547 | ppl 2.92 | wps 2297.8 | wpb 227.7 | bsz 8.7 | num_updates 1218 | best_loss 3.38\n",
            "INFO:fairseq_cli.train:early stop since valid performance hasn't improved for last 5 runs\n",
            "INFO:fairseq_cli.train:begin save checkpoint\n",
            "INFO:fairseq.checkpoint_utils:saved checkpoint /content/drive/MyDrive/muss/experiments/fairseq/local_1631567843618/checkpoints/checkpoint11.pt (epoch 11 @ 1218 updates, score 3.385) (writing took 127.89759047899861 seconds)\n",
            "INFO:fairseq_cli.train:end of epoch 11 (average epoch stats below)\n",
            "INFO:train:epoch 011 | loss 2.974 | nll_loss 1.12 | ppl 2.17 | wps 850.8 | ups 0.03 | wpb 28853.6 | bsz 1145.6 | num_updates 1218 | lr 2.99784e-05 | gnorm 0.821 | clip 100 | loss_scale 4 | train_wall 3547 | wall 42113\n",
            "INFO:fairseq_cli.train:done training in 42088.1 seconds\n"
          ]
        },
        {
          "output_type": "stream",
          "name": "stdout",
          "text": [
            "fairseq_prepare_and_train completed after 42126.91s.\n",
            "find_best_parametrization...\n",
            "| IN find_best_parametrization_nevergrad: kwargs.get('generate_kwargs', {}) {}\n",
            "get ref from ( evaluate_simplifier) asset_valid_NER_ABCD\n",
            "test_set is asset_valid_NER_ABCD\n",
            "find_best_parametrization failed after 0.06s.\n"
          ]
        },
        {
          "output_type": "error",
          "ename": "AssertionError",
          "evalue": "ignored",
          "traceback": [
            "\u001b[0;31m---------------------------------------------------------------------------\u001b[0m",
            "\u001b[0;31mAssertionError\u001b[0m                            Traceback (most recent call last)",
            "\u001b[0;32m<ipython-input-44-5dc913ca0d14>\u001b[0m in \u001b[0;36m<module>\u001b[0;34m()\u001b[0m\n\u001b[0;32m----> 1\u001b[0;31m \u001b[0mresult\u001b[0m \u001b[0;34m=\u001b[0m \u001b[0mfairseq_train_and_evaluate_with_parametrization\u001b[0m\u001b[0;34m(\u001b[0m\u001b[0;34m**\u001b[0m\u001b[0mkwargs\u001b[0m\u001b[0;34m)\u001b[0m\u001b[0;34m\u001b[0m\u001b[0;34m\u001b[0m\u001b[0m\n\u001b[0m",
            "\u001b[0;32m/content/drive/MyDrive/muss/muss/fairseq/main.py\u001b[0m in \u001b[0;36mfairseq_train_and_evaluate_with_parametrization\u001b[0;34m(dataset, **kwargs)\u001b[0m\n\u001b[1;32m    234\u001b[0m     \u001b[0mexp_dir\u001b[0m \u001b[0;34m=\u001b[0m \u001b[0mprint_running_time\u001b[0m\u001b[0;34m(\u001b[0m\u001b[0mfairseq_prepare_and_train\u001b[0m\u001b[0;34m)\u001b[0m\u001b[0;34m(\u001b[0m\u001b[0mdataset\u001b[0m\u001b[0;34m,\u001b[0m \u001b[0;34m**\u001b[0m\u001b[0mkwargs\u001b[0m\u001b[0;34m)\u001b[0m\u001b[0;34m\u001b[0m\u001b[0;34m\u001b[0m\u001b[0m\n\u001b[1;32m    235\u001b[0m     \u001b[0;31m# Find best parametrization\u001b[0m\u001b[0;34m\u001b[0m\u001b[0;34m\u001b[0m\u001b[0;34m\u001b[0m\u001b[0m\n\u001b[0;32m--> 236\u001b[0;31m     \u001b[0mrecommended_preprocessors_kwargs\u001b[0m \u001b[0;34m=\u001b[0m \u001b[0mprint_running_time\u001b[0m\u001b[0;34m(\u001b[0m\u001b[0mfind_best_parametrization\u001b[0m\u001b[0;34m)\u001b[0m\u001b[0;34m(\u001b[0m\u001b[0mexp_dir\u001b[0m\u001b[0;34m,\u001b[0m \u001b[0;34m**\u001b[0m\u001b[0mkwargs\u001b[0m\u001b[0;34m)\u001b[0m\u001b[0;34m\u001b[0m\u001b[0;34m\u001b[0m\u001b[0m\n\u001b[0m\u001b[1;32m    237\u001b[0m     \u001b[0mprint\u001b[0m\u001b[0;34m(\u001b[0m\u001b[0;34mf'recommended_preprocessors_kwargs={recommended_preprocessors_kwargs}'\u001b[0m\u001b[0;34m)\u001b[0m\u001b[0;34m\u001b[0m\u001b[0;34m\u001b[0m\u001b[0m\n\u001b[1;32m    238\u001b[0m     \u001b[0mkwargs\u001b[0m\u001b[0;34m[\u001b[0m\u001b[0;34m'preprocessor_kwargs'\u001b[0m\u001b[0;34m]\u001b[0m \u001b[0;34m=\u001b[0m \u001b[0mrecommended_preprocessors_kwargs\u001b[0m\u001b[0;34m\u001b[0m\u001b[0;34m\u001b[0m\u001b[0m\n",
            "\u001b[0;32m/content/drive/MyDrive/muss/muss/utils/helpers.py\u001b[0m in \u001b[0;36mwrapped_func\u001b[0;34m(*args, **kwargs)\u001b[0m\n\u001b[1;32m    468\u001b[0m         \u001b[0mfunction_name\u001b[0m \u001b[0;34m=\u001b[0m \u001b[0mgetattr\u001b[0m\u001b[0;34m(\u001b[0m\u001b[0mfunc\u001b[0m\u001b[0;34m,\u001b[0m \u001b[0;34m'__name__'\u001b[0m\u001b[0;34m,\u001b[0m \u001b[0mrepr\u001b[0m\u001b[0;34m(\u001b[0m\u001b[0mfunc\u001b[0m\u001b[0;34m)\u001b[0m\u001b[0;34m)\u001b[0m\u001b[0;34m\u001b[0m\u001b[0;34m\u001b[0m\u001b[0m\n\u001b[1;32m    469\u001b[0m         \u001b[0;32mwith\u001b[0m \u001b[0mlog_action\u001b[0m\u001b[0;34m(\u001b[0m\u001b[0mfunction_name\u001b[0m\u001b[0;34m)\u001b[0m\u001b[0;34m:\u001b[0m\u001b[0;34m\u001b[0m\u001b[0;34m\u001b[0m\u001b[0m\n\u001b[0;32m--> 470\u001b[0;31m             \u001b[0;32mreturn\u001b[0m \u001b[0mfunc\u001b[0m\u001b[0;34m(\u001b[0m\u001b[0;34m*\u001b[0m\u001b[0margs\u001b[0m\u001b[0;34m,\u001b[0m \u001b[0;34m**\u001b[0m\u001b[0mkwargs\u001b[0m\u001b[0;34m)\u001b[0m\u001b[0;34m\u001b[0m\u001b[0;34m\u001b[0m\u001b[0m\n\u001b[0m\u001b[1;32m    471\u001b[0m \u001b[0;34m\u001b[0m\u001b[0m\n\u001b[1;32m    472\u001b[0m     \u001b[0;32mreturn\u001b[0m \u001b[0mwrapped_func\u001b[0m\u001b[0;34m\u001b[0m\u001b[0;34m\u001b[0m\u001b[0m\n",
            "\u001b[0;32m/content/drive/MyDrive/muss/muss/fairseq/main.py\u001b[0m in \u001b[0;36mfind_best_parametrization\u001b[0;34m(exp_dir, preprocessors_kwargs, fast_parametrization_search, *args, **kwargs)\u001b[0m\n\u001b[1;32m    180\u001b[0m         \u001b[0;32mreturn\u001b[0m \u001b[0mfind_best_parametrization_fast\u001b[0m\u001b[0;34m(\u001b[0m\u001b[0mexp_dir\u001b[0m\u001b[0;34m,\u001b[0m \u001b[0mpreprocessors_kwargs\u001b[0m\u001b[0;34m,\u001b[0m \u001b[0;34m*\u001b[0m\u001b[0margs\u001b[0m\u001b[0;34m,\u001b[0m \u001b[0;34m**\u001b[0m\u001b[0mkwargs\u001b[0m\u001b[0;34m)\u001b[0m\u001b[0;34m\u001b[0m\u001b[0;34m\u001b[0m\u001b[0m\n\u001b[1;32m    181\u001b[0m     \u001b[0;32melse\u001b[0m\u001b[0;34m:\u001b[0m\u001b[0;34m\u001b[0m\u001b[0;34m\u001b[0m\u001b[0m\n\u001b[0;32m--> 182\u001b[0;31m         \u001b[0;32mreturn\u001b[0m \u001b[0mfind_best_parametrization_nevergrad\u001b[0m\u001b[0;34m(\u001b[0m\u001b[0mexp_dir\u001b[0m\u001b[0;34m,\u001b[0m \u001b[0mpreprocessors_kwargs\u001b[0m\u001b[0;34m,\u001b[0m \u001b[0;34m*\u001b[0m\u001b[0margs\u001b[0m\u001b[0;34m,\u001b[0m \u001b[0;34m**\u001b[0m\u001b[0mkwargs\u001b[0m\u001b[0;34m)\u001b[0m\u001b[0;34m\u001b[0m\u001b[0;34m\u001b[0m\u001b[0m\n\u001b[0m\u001b[1;32m    183\u001b[0m \u001b[0;34m\u001b[0m\u001b[0m\n\u001b[1;32m    184\u001b[0m \u001b[0;34m\u001b[0m\u001b[0m\n",
            "\u001b[0;32m/content/drive/MyDrive/muss/muss/fairseq/main.py\u001b[0m in \u001b[0;36mfind_best_parametrization_nevergrad\u001b[0;34m(exp_dir, preprocessors_kwargs, metrics_coefs, parametrization_budget, **kwargs)\u001b[0m\n\u001b[1;32m    156\u001b[0m     \u001b[0moptimizer\u001b[0m \u001b[0;34m=\u001b[0m \u001b[0mng\u001b[0m\u001b[0;34m.\u001b[0m\u001b[0moptimizers\u001b[0m\u001b[0;34m.\u001b[0m\u001b[0mOnePlusOne\u001b[0m\u001b[0;34m(\u001b[0m\u001b[0mparametrization\u001b[0m\u001b[0;34m=\u001b[0m\u001b[0mparametrization\u001b[0m\u001b[0;34m,\u001b[0m \u001b[0mbudget\u001b[0m\u001b[0;34m=\u001b[0m\u001b[0mparametrization_budget\u001b[0m\u001b[0;34m,\u001b[0m \u001b[0mnum_workers\u001b[0m\u001b[0;34m=\u001b[0m\u001b[0;36m1\u001b[0m\u001b[0;34m)\u001b[0m\u001b[0;34m\u001b[0m\u001b[0;34m\u001b[0m\u001b[0m\n\u001b[1;32m    157\u001b[0m     \u001b[0moptimizer\u001b[0m\u001b[0;34m.\u001b[0m\u001b[0mregister_callback\u001b[0m\u001b[0;34m(\u001b[0m\u001b[0;34m\"tell\"\u001b[0m\u001b[0;34m,\u001b[0m \u001b[0mng\u001b[0m\u001b[0;34m.\u001b[0m\u001b[0mcallbacks\u001b[0m\u001b[0;34m.\u001b[0m\u001b[0mProgressBar\u001b[0m\u001b[0;34m(\u001b[0m\u001b[0;34m)\u001b[0m\u001b[0;34m)\u001b[0m\u001b[0;34m\u001b[0m\u001b[0;34m\u001b[0m\u001b[0m\n\u001b[0;32m--> 158\u001b[0;31m     \u001b[0mrecommendation\u001b[0m \u001b[0;34m=\u001b[0m \u001b[0moptimizer\u001b[0m\u001b[0;34m.\u001b[0m\u001b[0mminimize\u001b[0m\u001b[0;34m(\u001b[0m\u001b[0mevaluate_parametrization\u001b[0m\u001b[0;34m,\u001b[0m \u001b[0mverbosity\u001b[0m\u001b[0;34m=\u001b[0m\u001b[0;36m0\u001b[0m\u001b[0;34m)\u001b[0m\u001b[0;34m\u001b[0m\u001b[0;34m\u001b[0m\u001b[0m\n\u001b[0m\u001b[1;32m    159\u001b[0m     \u001b[0;32mreturn\u001b[0m \u001b[0mrecommendation\u001b[0m\u001b[0;34m.\u001b[0m\u001b[0mkwargs\u001b[0m\u001b[0;34m\u001b[0m\u001b[0;34m\u001b[0m\u001b[0m\n\u001b[1;32m    160\u001b[0m \u001b[0;34m\u001b[0m\u001b[0m\n",
            "\u001b[0;32m/usr/local/lib/python3.7/dist-packages/nevergrad/optimization/base.py\u001b[0m in \u001b[0;36mminimize\u001b[0;34m(self, objective_function, executor, batch_mode, verbosity)\u001b[0m\n\u001b[1;32m    621\u001b[0m                 \u001b[0;32mwhile\u001b[0m \u001b[0mself\u001b[0m\u001b[0;34m.\u001b[0m\u001b[0m_finished_jobs\u001b[0m\u001b[0;34m:\u001b[0m\u001b[0;34m\u001b[0m\u001b[0;34m\u001b[0m\u001b[0m\n\u001b[1;32m    622\u001b[0m                     \u001b[0mx\u001b[0m\u001b[0;34m,\u001b[0m \u001b[0mjob\u001b[0m \u001b[0;34m=\u001b[0m \u001b[0mself\u001b[0m\u001b[0;34m.\u001b[0m\u001b[0m_finished_jobs\u001b[0m\u001b[0;34m[\u001b[0m\u001b[0;36m0\u001b[0m\u001b[0;34m]\u001b[0m\u001b[0;34m\u001b[0m\u001b[0;34m\u001b[0m\u001b[0m\n\u001b[0;32m--> 623\u001b[0;31m                     \u001b[0mresult\u001b[0m \u001b[0;34m=\u001b[0m \u001b[0mjob\u001b[0m\u001b[0;34m.\u001b[0m\u001b[0mresult\u001b[0m\u001b[0;34m(\u001b[0m\u001b[0;34m)\u001b[0m\u001b[0;34m\u001b[0m\u001b[0;34m\u001b[0m\u001b[0m\n\u001b[0m\u001b[1;32m    624\u001b[0m                     \u001b[0mself\u001b[0m\u001b[0;34m.\u001b[0m\u001b[0mtell\u001b[0m\u001b[0;34m(\u001b[0m\u001b[0mx\u001b[0m\u001b[0;34m,\u001b[0m \u001b[0mresult\u001b[0m\u001b[0;34m)\u001b[0m\u001b[0;34m\u001b[0m\u001b[0;34m\u001b[0m\u001b[0m\n\u001b[1;32m    625\u001b[0m                     \u001b[0mself\u001b[0m\u001b[0;34m.\u001b[0m\u001b[0m_finished_jobs\u001b[0m\u001b[0;34m.\u001b[0m\u001b[0mpopleft\u001b[0m\u001b[0;34m(\u001b[0m\u001b[0;34m)\u001b[0m  \u001b[0;31m# remove it after the tell to make sure it was indeed \"told\" (in case of interruption)\u001b[0m\u001b[0;34m\u001b[0m\u001b[0;34m\u001b[0m\u001b[0m\n",
            "\u001b[0;32m/usr/local/lib/python3.7/dist-packages/nevergrad/optimization/utils.py\u001b[0m in \u001b[0;36mresult\u001b[0;34m(self)\u001b[0m\n\u001b[1;32m    135\u001b[0m     \u001b[0;32mdef\u001b[0m \u001b[0mresult\u001b[0m\u001b[0;34m(\u001b[0m\u001b[0mself\u001b[0m\u001b[0;34m)\u001b[0m \u001b[0;34m->\u001b[0m \u001b[0mtp\u001b[0m\u001b[0;34m.\u001b[0m\u001b[0mAny\u001b[0m\u001b[0;34m:\u001b[0m\u001b[0;34m\u001b[0m\u001b[0;34m\u001b[0m\u001b[0m\n\u001b[1;32m    136\u001b[0m         \u001b[0;32mif\u001b[0m \u001b[0;32mnot\u001b[0m \u001b[0mself\u001b[0m\u001b[0;34m.\u001b[0m\u001b[0m_computed\u001b[0m\u001b[0;34m:\u001b[0m\u001b[0;34m\u001b[0m\u001b[0;34m\u001b[0m\u001b[0m\n\u001b[0;32m--> 137\u001b[0;31m             \u001b[0mself\u001b[0m\u001b[0;34m.\u001b[0m\u001b[0m_result\u001b[0m \u001b[0;34m=\u001b[0m \u001b[0mself\u001b[0m\u001b[0;34m.\u001b[0m\u001b[0mfunc\u001b[0m\u001b[0;34m(\u001b[0m\u001b[0;34m*\u001b[0m\u001b[0mself\u001b[0m\u001b[0;34m.\u001b[0m\u001b[0margs\u001b[0m\u001b[0;34m,\u001b[0m \u001b[0;34m**\u001b[0m\u001b[0mself\u001b[0m\u001b[0;34m.\u001b[0m\u001b[0mkwargs\u001b[0m\u001b[0;34m)\u001b[0m\u001b[0;34m\u001b[0m\u001b[0;34m\u001b[0m\u001b[0m\n\u001b[0m\u001b[1;32m    138\u001b[0m             \u001b[0mself\u001b[0m\u001b[0;34m.\u001b[0m\u001b[0m_computed\u001b[0m \u001b[0;34m=\u001b[0m \u001b[0;32mTrue\u001b[0m\u001b[0;34m\u001b[0m\u001b[0;34m\u001b[0m\u001b[0m\n\u001b[1;32m    139\u001b[0m         \u001b[0;32mreturn\u001b[0m \u001b[0mself\u001b[0m\u001b[0;34m.\u001b[0m\u001b[0m_result\u001b[0m\u001b[0;34m\u001b[0m\u001b[0;34m\u001b[0m\u001b[0m\n",
            "\u001b[0;32m/content/drive/MyDrive/muss/muss/fairseq/main.py\u001b[0m in \u001b[0;36mevaluate_parametrization\u001b[0;34m(**preprocessors_kwargs)\u001b[0m\n\u001b[1;32m    136\u001b[0m             \u001b[0mexp_dir\u001b[0m\u001b[0;34m,\u001b[0m \u001b[0mpreprocessors_kwargs\u001b[0m\u001b[0;34m=\u001b[0m\u001b[0mpreprocessors_kwargs\u001b[0m\u001b[0;34m,\u001b[0m \u001b[0mgenerate_kwargs\u001b[0m\u001b[0;34m=\u001b[0m\u001b[0mkwargs\u001b[0m\u001b[0;34m.\u001b[0m\u001b[0mget\u001b[0m\u001b[0;34m(\u001b[0m\u001b[0;34m'generate_kwargs'\u001b[0m\u001b[0;34m,\u001b[0m \u001b[0;34m{\u001b[0m\u001b[0;34m}\u001b[0m\u001b[0;34m)\u001b[0m\u001b[0;34m\u001b[0m\u001b[0;34m\u001b[0m\u001b[0m\n\u001b[1;32m    137\u001b[0m         )\n\u001b[0;32m--> 138\u001b[0;31m         \u001b[0mscores\u001b[0m \u001b[0;34m=\u001b[0m \u001b[0mevaluate_simplifier\u001b[0m\u001b[0;34m(\u001b[0m\u001b[0msimplifier\u001b[0m\u001b[0;34m,\u001b[0m \u001b[0;34m**\u001b[0m\u001b[0mkwargs\u001b[0m\u001b[0;34m.\u001b[0m\u001b[0mget\u001b[0m\u001b[0;34m(\u001b[0m\u001b[0;34m'evaluate_kwargs'\u001b[0m\u001b[0;34m,\u001b[0m \u001b[0;34m{\u001b[0m\u001b[0;34m'test_set'\u001b[0m\u001b[0;34m:\u001b[0m \u001b[0;34m'asset_valid'\u001b[0m\u001b[0;34m}\u001b[0m\u001b[0;34m)\u001b[0m\u001b[0;34m)\u001b[0m\u001b[0;34m\u001b[0m\u001b[0;34m\u001b[0m\u001b[0m\n\u001b[0m\u001b[1;32m    139\u001b[0m         \u001b[0;32mreturn\u001b[0m \u001b[0mcombine_metrics\u001b[0m\u001b[0;34m(\u001b[0m\u001b[0mscores\u001b[0m\u001b[0;34m[\u001b[0m\u001b[0;34m'bleu'\u001b[0m\u001b[0;34m]\u001b[0m\u001b[0;34m,\u001b[0m \u001b[0mscores\u001b[0m\u001b[0;34m[\u001b[0m\u001b[0;34m'sari'\u001b[0m\u001b[0;34m]\u001b[0m\u001b[0;34m,\u001b[0m \u001b[0mscores\u001b[0m\u001b[0;34m[\u001b[0m\u001b[0;34m'fkgl'\u001b[0m\u001b[0;34m]\u001b[0m\u001b[0;34m,\u001b[0m \u001b[0mmetrics_coefs\u001b[0m\u001b[0;34m)\u001b[0m\u001b[0;34m\u001b[0m\u001b[0;34m\u001b[0m\u001b[0m\n\u001b[1;32m    140\u001b[0m \u001b[0;34m\u001b[0m\u001b[0m\n",
            "\u001b[0;32m/content/drive/MyDrive/muss/muss/evaluation/general.py\u001b[0m in \u001b[0;36mevaluate_simplifier\u001b[0;34m(simplifier, test_set, orig_sents_path, refs_sents_paths, quality_estimation)\u001b[0m\n\u001b[1;32m     72\u001b[0m     \u001b[0;32melif\u001b[0m \u001b[0mtest_set\u001b[0m \u001b[0;34m==\u001b[0m \u001b[0;34m'asset_valid_NER_ABCD'\u001b[0m\u001b[0;34m:\u001b[0m\u001b[0;34m\u001b[0m\u001b[0;34m\u001b[0m\u001b[0m\n\u001b[1;32m     73\u001b[0m         \u001b[0mtoken_ori_sents_path\u001b[0m \u001b[0;34m=\u001b[0m \u001b[0;34m'/content/drive/MyDrive/muss/resources/datasets/asset_ABCD_NER/valid.complex'\u001b[0m\u001b[0;34m\u001b[0m\u001b[0;34m\u001b[0m\u001b[0m\n\u001b[0;32m---> 74\u001b[0;31m     \u001b[0;32melse\u001b[0m\u001b[0;34m:\u001b[0m\u001b[0;34m\u001b[0m\u001b[0;34m\u001b[0m\u001b[0m\n\u001b[0m\u001b[1;32m     75\u001b[0m         \u001b[0mprint\u001b[0m\u001b[0;34m(\u001b[0m\u001b[0;34m'test_set is'\u001b[0m\u001b[0;34m,\u001b[0m\u001b[0mtest_set\u001b[0m\u001b[0;34m)\u001b[0m\u001b[0;34m\u001b[0m\u001b[0;34m\u001b[0m\u001b[0m\n\u001b[1;32m     76\u001b[0m         \u001b[0;32massert\u001b[0m \u001b[0;32mFalse\u001b[0m\u001b[0;34m,\u001b[0m \u001b[0;34m\"unexpectec test set\"\u001b[0m\u001b[0;34m\u001b[0m\u001b[0;34m\u001b[0m\u001b[0m\n",
            "\u001b[0;31mAssertionError\u001b[0m: unexpectec test set"
          ]
        }
      ]
    },
    {
      "cell_type": "markdown",
      "metadata": {
        "id": "Jr0zQUPqHEvG"
      },
      "source": [
        "# find ACCESS parameter"
      ]
    },
    {
      "cell_type": "code",
      "metadata": {
        "colab": {
          "base_uri": "https://localhost:8080/",
          "height": 17
        },
        "id": "cr_YQh2tUwNw",
        "outputId": "9e6b6b22-5f5b-46a5-8cea-b58ffe24fc8e"
      },
      "source": [
        "exp_dir ='/content/drive/MyDrive/muss/experiments/fairseq/local_1631567843618/'"
      ],
      "execution_count": null,
      "outputs": [
        {
          "output_type": "display_data",
          "data": {
            "text/html": [
              "\n",
              "  <style>\n",
              "    pre {\n",
              "        white-space: pre-wrap;\n",
              "    }\n",
              "  </style>\n",
              "  "
            ],
            "text/plain": [
              "<IPython.core.display.HTML object>"
            ]
          },
          "metadata": {}
        }
      ]
    },
    {
      "cell_type": "code",
      "metadata": {
        "colab": {
          "base_uri": "https://localhost:8080/",
          "height": 17
        },
        "id": "eaqGpM-UUuBI",
        "outputId": "a1123d48-0b2a-4fd7-bd4f-f15192f0330a"
      },
      "source": [
        "# dataset is changed here\n",
        "kwargs['evaluate_kwargs'] = {'test_set': 'asset_valid_NER_ABCD'}"
      ],
      "execution_count": null,
      "outputs": [
        {
          "output_type": "display_data",
          "data": {
            "text/html": [
              "\n",
              "  <style>\n",
              "    pre {\n",
              "        white-space: pre-wrap;\n",
              "    }\n",
              "  </style>\n",
              "  "
            ],
            "text/plain": [
              "<IPython.core.display.HTML object>"
            ]
          },
          "metadata": {}
        }
      ]
    },
    {
      "cell_type": "code",
      "metadata": {
        "colab": {
          "base_uri": "https://localhost:8080/",
          "height": 1000
        },
        "id": "TWl3AyOh_yK2",
        "outputId": "792d0f31-6ece-4f87-92f3-22bc460e6340"
      },
      "source": [
        "from muss.fairseq.main import find_best_parametrization\n",
        "recommended_preprocessors_kwargs = find_best_parametrization(exp_dir, **kwargs)\n",
        "print(f'recommended_preprocessors_kwargs={recommended_preprocessors_kwargs}')\n",
        "kwargs['preprocessor_kwargs'] = recommended_preprocessors_kwargs"
      ],
      "execution_count": null,
      "outputs": [
        {
          "output_type": "display_data",
          "data": {
            "text/html": [
              "\n",
              "  <style>\n",
              "    pre {\n",
              "        white-space: pre-wrap;\n",
              "    }\n",
              "  </style>\n",
              "  "
            ],
            "text/plain": [
              "<IPython.core.display.HTML object>"
            ]
          },
          "metadata": {}
        },
        {
          "output_type": "stream",
          "name": "stdout",
          "text": [
            "| IN find_best_parametrization_nevergrad: kwargs.get('generate_kwargs', {}) {}\n",
            "get ref from ( evaluate_simplifier) asset_valid_NER_ABCD\n",
            "test_set in evaluate_simplifier when get ori asset_valid\n",
            "encoder_json_path /content/drive/MyDrive/muss/resources/bart_bpe/encoder.json\n",
            "vocab_bpe_path /content/drive/MyDrive/muss/resources/bart_bpe/vocab.bpe\n",
            "| use checkpoint_paths [PosixPath('/content/drive/MyDrive/muss/experiments/fairseq/local_1631567843618/model.pt')]\n"
          ]
        },
        {
          "output_type": "stream",
          "name": "stderr",
          "text": [
            "INFO:fairseq_cli.generate:Namespace(all_gather_list_size=16384, batch_size=None, batch_size_valid=None, beam=5, bf16=False, bpe=None, broadcast_buffers=False, bucket_cap_mb=25, checkpoint_shard_count=1, checkpoint_suffix='', constraints=None, cpu=False, criterion='cross_entropy', curriculum=0, data='/tmp/tmp3sx_0tqe', data_buffer_size=10, dataset_impl='raw', ddp_backend='c10d', decoding_format=None, device_id=0, disable_validation=False, distributed_backend='nccl', distributed_init_method=None, distributed_no_spawn=False, distributed_port=-1, distributed_rank=0, distributed_world_size=1, distributed_wrapper='DDP', diverse_beam_groups=-1, diverse_beam_strength=0.5, diversity_rate=-1.0, empty_cache_freq=0, eval_bleu=False, eval_bleu_args=None, eval_bleu_detok='space', eval_bleu_detok_args=None, eval_bleu_print_samples=False, eval_bleu_remove_bpe=None, eval_tokenized_bleu=False, fast_stat_sync=False, find_unused_parameters=False, fix_batches_to_gpus=False, fixed_validation_seed=None, force_anneal=None, fp16=False, fp16_init_scale=128, fp16_no_flatten_grads=False, fp16_scale_tolerance=0.0, fp16_scale_window=None, gen_subset='tmp', iter_decode_eos_penalty=0.0, iter_decode_force_max_iter=False, iter_decode_max_iter=10, iter_decode_with_beam=1, iter_decode_with_external_reranker=False, left_pad_source='True', left_pad_target='False', lenpen=1.0, lm_path=None, lm_weight=0.0, load_alignments=False, localsgd_frequency=3, log_format=None, log_interval=100, lr_scheduler='fixed', lr_shrink=0.1, match_source_len=False, max_len_a=0, max_len_b=200, max_source_positions=1024, max_target_positions=1024, max_tokens=8000, max_tokens_valid=8000, memory_efficient_bf16=False, memory_efficient_fp16=False, min_len=1, min_loss_scale=0.0001, model_overrides=\"{'encoder_embed_path': None, 'decoder_embed_path': None}\", model_parallel_size=1, nbest=1, no_beamable_mm=False, no_early_stop=False, no_progress_bar=False, no_repeat_ngram_size=0, no_seed_provided=False, nprocs_per_node=1, num_batch_buckets=0, num_shards=1, num_workers=1, optimizer=None, path='/content/drive/MyDrive/muss/experiments/fairseq/local_1631567843618/model.pt', pipeline_balance=None, pipeline_checkpoint='never', pipeline_chunks=0, pipeline_decoder_balance=None, pipeline_decoder_devices=None, pipeline_devices=None, pipeline_encoder_balance=None, pipeline_encoder_devices=None, pipeline_model_parallel=False, prefix_size=0, print_alignment=False, print_step=False, profile=False, quantization_config_path=None, quiet=False, remove_bpe=None, replace_unk=None, required_batch_size_multiple=8, required_seq_len_multiple=1, results_path=None, retain_dropout=False, retain_dropout_modules=None, retain_iter_history=False, sacrebleu=False, sampling=False, sampling_topk=-1, sampling_topp=-1.0, score_reference=False, scoring='bleu', seed=1, shard_id=0, skip_invalid_size_inputs_valid_test=True, slowmo_algorithm='LocalSGD', slowmo_momentum=None, source_lang=None, target_lang=None, task='translation', temperature=1.0, tensorboard_logdir=None, threshold_loss_scale=None, tokenizer=None, tpu=False, train_subset='train', truncate_source=False, unkpen=0, unnormalized=False, upsample_primary=1, user_dir=None, valid_subset='valid', validate_after_updates=0, validate_interval=1, validate_interval_updates=0, warmup_updates=0, zero_sharding='none')\n",
            "INFO:fairseq.tasks.translation:[complex] dictionary: 50264 types\n",
            "INFO:fairseq.tasks.translation:[simple] dictionary: 50264 types\n",
            "INFO:fairseq.data.data_utils:loaded 2000 examples from: /tmp/tmp3sx_0tqe/tmp.complex-simple.complex\n",
            "INFO:fairseq.data.data_utils:loaded 2000 examples from: /tmp/tmp3sx_0tqe/tmp.complex-simple.simple\n",
            "INFO:fairseq.tasks.translation:/tmp/tmp3sx_0tqe tmp complex-simple 2000 examples\n",
            "INFO:fairseq_cli.generate:loading model(s) from /content/drive/MyDrive/muss/experiments/fairseq/local_1631567843618/model.pt\n",
            "/usr/local/lib/python3.7/dist-packages/torch/_tensor.py:575: UserWarning:\n",
            "\n",
            "floor_divide is deprecated, and will be removed in a future version of pytorch. It currently rounds toward 0 (like the 'trunc' function NOT 'floor'). This results in incorrect rounding for negative values.\n",
            "To keep the current behavior, use torch.div(a, b, rounding_mode='trunc'), or for actual floor division, use torch.div(a, b, rounding_mode='floor'). (Triggered internally at  /pytorch/aten/src/ATen/native/BinaryOps.cpp:467.)\n",
            "\n",
            "INFO:fairseq_cli.generate:NOTE: hypothesis and token scores are output in base 2\n",
            "INFO:fairseq_cli.generate:Translated 2000 sentences (46827 tokens) in 102.5s (19.51 sentences/s, 456.70 tokens/s)\n",
            "[nltk_data] Downloading package punkt to /root/nltk_data...\n",
            "[nltk_data]   Unzipping tokenizers/punkt.zip.\n",
            "0it [00:00, ?it/s]"
          ]
        },
        {
          "output_type": "stream",
          "name": "stdout",
          "text": [
            "| IN find_best_parametrization_nevergrad: kwargs.get('generate_kwargs', {}) {}\n",
            "get ref from ( evaluate_simplifier) asset_valid_NER_ABCD\n",
            "test_set in evaluate_simplifier when get ori asset_valid\n",
            "encoder_json_path /content/drive/MyDrive/muss/resources/bart_bpe/encoder.json\n",
            "vocab_bpe_path /content/drive/MyDrive/muss/resources/bart_bpe/vocab.bpe\n"
          ]
        },
        {
          "output_type": "stream",
          "name": "stderr",
          "text": [
            "INFO:fairseq_cli.generate:Namespace(all_gather_list_size=16384, batch_size=None, batch_size_valid=None, beam=5, bf16=False, bpe=None, broadcast_buffers=False, bucket_cap_mb=25, checkpoint_shard_count=1, checkpoint_suffix='', constraints=None, cpu=False, criterion='cross_entropy', curriculum=0, data='/tmp/tmp645srnkb', data_buffer_size=10, dataset_impl='raw', ddp_backend='c10d', decoding_format=None, device_id=0, disable_validation=False, distributed_backend='nccl', distributed_init_method=None, distributed_no_spawn=False, distributed_port=-1, distributed_rank=0, distributed_world_size=1, distributed_wrapper='DDP', diverse_beam_groups=-1, diverse_beam_strength=0.5, diversity_rate=-1.0, empty_cache_freq=0, eval_bleu=False, eval_bleu_args=None, eval_bleu_detok='space', eval_bleu_detok_args=None, eval_bleu_print_samples=False, eval_bleu_remove_bpe=None, eval_tokenized_bleu=False, fast_stat_sync=False, find_unused_parameters=False, fix_batches_to_gpus=False, fixed_validation_seed=None, force_anneal=None, fp16=False, fp16_init_scale=128, fp16_no_flatten_grads=False, fp16_scale_tolerance=0.0, fp16_scale_window=None, gen_subset='tmp', iter_decode_eos_penalty=0.0, iter_decode_force_max_iter=False, iter_decode_max_iter=10, iter_decode_with_beam=1, iter_decode_with_external_reranker=False, left_pad_source='True', left_pad_target='False', lenpen=1.0, lm_path=None, lm_weight=0.0, load_alignments=False, localsgd_frequency=3, log_format=None, log_interval=100, lr_scheduler='fixed', lr_shrink=0.1, match_source_len=False, max_len_a=0, max_len_b=200, max_source_positions=1024, max_target_positions=1024, max_tokens=8000, max_tokens_valid=8000, memory_efficient_bf16=False, memory_efficient_fp16=False, min_len=1, min_loss_scale=0.0001, model_overrides=\"{'encoder_embed_path': None, 'decoder_embed_path': None}\", model_parallel_size=1, nbest=1, no_beamable_mm=False, no_early_stop=False, no_progress_bar=False, no_repeat_ngram_size=0, no_seed_provided=False, nprocs_per_node=1, num_batch_buckets=0, num_shards=1, num_workers=1, optimizer=None, path='/content/drive/MyDrive/muss/experiments/fairseq/local_1631567843618/model.pt', pipeline_balance=None, pipeline_checkpoint='never', pipeline_chunks=0, pipeline_decoder_balance=None, pipeline_decoder_devices=None, pipeline_devices=None, pipeline_encoder_balance=None, pipeline_encoder_devices=None, pipeline_model_parallel=False, prefix_size=0, print_alignment=False, print_step=False, profile=False, quantization_config_path=None, quiet=False, remove_bpe=None, replace_unk=None, required_batch_size_multiple=8, required_seq_len_multiple=1, results_path=None, retain_dropout=False, retain_dropout_modules=None, retain_iter_history=False, sacrebleu=False, sampling=False, sampling_topk=-1, sampling_topp=-1.0, score_reference=False, scoring='bleu', seed=1, shard_id=0, skip_invalid_size_inputs_valid_test=True, slowmo_algorithm='LocalSGD', slowmo_momentum=None, source_lang=None, target_lang=None, task='translation', temperature=1.0, tensorboard_logdir=None, threshold_loss_scale=None, tokenizer=None, tpu=False, train_subset='train', truncate_source=False, unkpen=0, unnormalized=False, upsample_primary=1, user_dir=None, valid_subset='valid', validate_after_updates=0, validate_interval=1, validate_interval_updates=0, warmup_updates=0, zero_sharding='none')\n",
            "INFO:fairseq.tasks.translation:[complex] dictionary: 50264 types\n",
            "INFO:fairseq.tasks.translation:[simple] dictionary: 50264 types\n"
          ]
        },
        {
          "output_type": "stream",
          "name": "stdout",
          "text": [
            "| use checkpoint_paths [PosixPath('/content/drive/MyDrive/muss/experiments/fairseq/local_1631567843618/model.pt')]\n"
          ]
        },
        {
          "output_type": "stream",
          "name": "stderr",
          "text": [
            "INFO:fairseq.data.data_utils:loaded 2000 examples from: /tmp/tmp645srnkb/tmp.complex-simple.complex\n",
            "INFO:fairseq.data.data_utils:loaded 2000 examples from: /tmp/tmp645srnkb/tmp.complex-simple.simple\n",
            "INFO:fairseq.tasks.translation:/tmp/tmp645srnkb tmp complex-simple 2000 examples\n",
            "INFO:fairseq_cli.generate:loading model(s) from /content/drive/MyDrive/muss/experiments/fairseq/local_1631567843618/model.pt\n",
            "INFO:fairseq_cli.generate:NOTE: hypothesis and token scores are output in base 2\n",
            "INFO:fairseq_cli.generate:Translated 2000 sentences (23990 tokens) in 70.6s (28.34 sentences/s, 339.95 tokens/s)\n",
            "  2%|▏         | 2/128 [02:31<2:38:53, 75.66s/it]"
          ]
        },
        {
          "output_type": "stream",
          "name": "stdout",
          "text": [
            "| IN find_best_parametrization_nevergrad: kwargs.get('generate_kwargs', {}) {}\n",
            "get ref from ( evaluate_simplifier) asset_valid_NER_ABCD\n",
            "test_set in evaluate_simplifier when get ori asset_valid\n",
            "encoder_json_path /content/drive/MyDrive/muss/resources/bart_bpe/encoder.json\n",
            "vocab_bpe_path /content/drive/MyDrive/muss/resources/bart_bpe/vocab.bpe\n"
          ]
        },
        {
          "output_type": "stream",
          "name": "stderr",
          "text": [
            "INFO:fairseq_cli.generate:Namespace(all_gather_list_size=16384, batch_size=None, batch_size_valid=None, beam=5, bf16=False, bpe=None, broadcast_buffers=False, bucket_cap_mb=25, checkpoint_shard_count=1, checkpoint_suffix='', constraints=None, cpu=False, criterion='cross_entropy', curriculum=0, data='/tmp/tmp5pr2wrpc', data_buffer_size=10, dataset_impl='raw', ddp_backend='c10d', decoding_format=None, device_id=0, disable_validation=False, distributed_backend='nccl', distributed_init_method=None, distributed_no_spawn=False, distributed_port=-1, distributed_rank=0, distributed_world_size=1, distributed_wrapper='DDP', diverse_beam_groups=-1, diverse_beam_strength=0.5, diversity_rate=-1.0, empty_cache_freq=0, eval_bleu=False, eval_bleu_args=None, eval_bleu_detok='space', eval_bleu_detok_args=None, eval_bleu_print_samples=False, eval_bleu_remove_bpe=None, eval_tokenized_bleu=False, fast_stat_sync=False, find_unused_parameters=False, fix_batches_to_gpus=False, fixed_validation_seed=None, force_anneal=None, fp16=False, fp16_init_scale=128, fp16_no_flatten_grads=False, fp16_scale_tolerance=0.0, fp16_scale_window=None, gen_subset='tmp', iter_decode_eos_penalty=0.0, iter_decode_force_max_iter=False, iter_decode_max_iter=10, iter_decode_with_beam=1, iter_decode_with_external_reranker=False, left_pad_source='True', left_pad_target='False', lenpen=1.0, lm_path=None, lm_weight=0.0, load_alignments=False, localsgd_frequency=3, log_format=None, log_interval=100, lr_scheduler='fixed', lr_shrink=0.1, match_source_len=False, max_len_a=0, max_len_b=200, max_source_positions=1024, max_target_positions=1024, max_tokens=8000, max_tokens_valid=8000, memory_efficient_bf16=False, memory_efficient_fp16=False, min_len=1, min_loss_scale=0.0001, model_overrides=\"{'encoder_embed_path': None, 'decoder_embed_path': None}\", model_parallel_size=1, nbest=1, no_beamable_mm=False, no_early_stop=False, no_progress_bar=False, no_repeat_ngram_size=0, no_seed_provided=False, nprocs_per_node=1, num_batch_buckets=0, num_shards=1, num_workers=1, optimizer=None, path='/content/drive/MyDrive/muss/experiments/fairseq/local_1631567843618/model.pt', pipeline_balance=None, pipeline_checkpoint='never', pipeline_chunks=0, pipeline_decoder_balance=None, pipeline_decoder_devices=None, pipeline_devices=None, pipeline_encoder_balance=None, pipeline_encoder_devices=None, pipeline_model_parallel=False, prefix_size=0, print_alignment=False, print_step=False, profile=False, quantization_config_path=None, quiet=False, remove_bpe=None, replace_unk=None, required_batch_size_multiple=8, required_seq_len_multiple=1, results_path=None, retain_dropout=False, retain_dropout_modules=None, retain_iter_history=False, sacrebleu=False, sampling=False, sampling_topk=-1, sampling_topp=-1.0, score_reference=False, scoring='bleu', seed=1, shard_id=0, skip_invalid_size_inputs_valid_test=True, slowmo_algorithm='LocalSGD', slowmo_momentum=None, source_lang=None, target_lang=None, task='translation', temperature=1.0, tensorboard_logdir=None, threshold_loss_scale=None, tokenizer=None, tpu=False, train_subset='train', truncate_source=False, unkpen=0, unnormalized=False, upsample_primary=1, user_dir=None, valid_subset='valid', validate_after_updates=0, validate_interval=1, validate_interval_updates=0, warmup_updates=0, zero_sharding='none')\n",
            "INFO:fairseq.tasks.translation:[complex] dictionary: 50264 types\n",
            "INFO:fairseq.tasks.translation:[simple] dictionary: 50264 types\n"
          ]
        },
        {
          "output_type": "stream",
          "name": "stdout",
          "text": [
            "| use checkpoint_paths [PosixPath('/content/drive/MyDrive/muss/experiments/fairseq/local_1631567843618/model.pt')]\n"
          ]
        },
        {
          "output_type": "stream",
          "name": "stderr",
          "text": [
            "INFO:fairseq.data.data_utils:loaded 2000 examples from: /tmp/tmp5pr2wrpc/tmp.complex-simple.complex\n",
            "INFO:fairseq.data.data_utils:loaded 2000 examples from: /tmp/tmp5pr2wrpc/tmp.complex-simple.simple\n",
            "INFO:fairseq.tasks.translation:/tmp/tmp5pr2wrpc tmp complex-simple 2000 examples\n",
            "INFO:fairseq_cli.generate:loading model(s) from /content/drive/MyDrive/muss/experiments/fairseq/local_1631567843618/model.pt\n",
            "INFO:fairseq_cli.generate:NOTE: hypothesis and token scores are output in base 2\n",
            "INFO:fairseq_cli.generate:Translated 2000 sentences (31816 tokens) in 83.7s (23.90 sentences/s, 380.23 tokens/s)\n",
            "  2%|▏         | 3/128 [04:37<3:21:47, 96.86s/it]"
          ]
        },
        {
          "output_type": "stream",
          "name": "stdout",
          "text": [
            "| IN find_best_parametrization_nevergrad: kwargs.get('generate_kwargs', {}) {}\n",
            "get ref from ( evaluate_simplifier) asset_valid_NER_ABCD\n",
            "test_set in evaluate_simplifier when get ori asset_valid\n",
            "encoder_json_path /content/drive/MyDrive/muss/resources/bart_bpe/encoder.json\n",
            "vocab_bpe_path /content/drive/MyDrive/muss/resources/bart_bpe/vocab.bpe\n"
          ]
        },
        {
          "output_type": "stream",
          "name": "stderr",
          "text": [
            "INFO:fairseq_cli.generate:Namespace(all_gather_list_size=16384, batch_size=None, batch_size_valid=None, beam=5, bf16=False, bpe=None, broadcast_buffers=False, bucket_cap_mb=25, checkpoint_shard_count=1, checkpoint_suffix='', constraints=None, cpu=False, criterion='cross_entropy', curriculum=0, data='/tmp/tmpyva_zuc8', data_buffer_size=10, dataset_impl='raw', ddp_backend='c10d', decoding_format=None, device_id=0, disable_validation=False, distributed_backend='nccl', distributed_init_method=None, distributed_no_spawn=False, distributed_port=-1, distributed_rank=0, distributed_world_size=1, distributed_wrapper='DDP', diverse_beam_groups=-1, diverse_beam_strength=0.5, diversity_rate=-1.0, empty_cache_freq=0, eval_bleu=False, eval_bleu_args=None, eval_bleu_detok='space', eval_bleu_detok_args=None, eval_bleu_print_samples=False, eval_bleu_remove_bpe=None, eval_tokenized_bleu=False, fast_stat_sync=False, find_unused_parameters=False, fix_batches_to_gpus=False, fixed_validation_seed=None, force_anneal=None, fp16=False, fp16_init_scale=128, fp16_no_flatten_grads=False, fp16_scale_tolerance=0.0, fp16_scale_window=None, gen_subset='tmp', iter_decode_eos_penalty=0.0, iter_decode_force_max_iter=False, iter_decode_max_iter=10, iter_decode_with_beam=1, iter_decode_with_external_reranker=False, left_pad_source='True', left_pad_target='False', lenpen=1.0, lm_path=None, lm_weight=0.0, load_alignments=False, localsgd_frequency=3, log_format=None, log_interval=100, lr_scheduler='fixed', lr_shrink=0.1, match_source_len=False, max_len_a=0, max_len_b=200, max_source_positions=1024, max_target_positions=1024, max_tokens=8000, max_tokens_valid=8000, memory_efficient_bf16=False, memory_efficient_fp16=False, min_len=1, min_loss_scale=0.0001, model_overrides=\"{'encoder_embed_path': None, 'decoder_embed_path': None}\", model_parallel_size=1, nbest=1, no_beamable_mm=False, no_early_stop=False, no_progress_bar=False, no_repeat_ngram_size=0, no_seed_provided=False, nprocs_per_node=1, num_batch_buckets=0, num_shards=1, num_workers=1, optimizer=None, path='/content/drive/MyDrive/muss/experiments/fairseq/local_1631567843618/model.pt', pipeline_balance=None, pipeline_checkpoint='never', pipeline_chunks=0, pipeline_decoder_balance=None, pipeline_decoder_devices=None, pipeline_devices=None, pipeline_encoder_balance=None, pipeline_encoder_devices=None, pipeline_model_parallel=False, prefix_size=0, print_alignment=False, print_step=False, profile=False, quantization_config_path=None, quiet=False, remove_bpe=None, replace_unk=None, required_batch_size_multiple=8, required_seq_len_multiple=1, results_path=None, retain_dropout=False, retain_dropout_modules=None, retain_iter_history=False, sacrebleu=False, sampling=False, sampling_topk=-1, sampling_topp=-1.0, score_reference=False, scoring='bleu', seed=1, shard_id=0, skip_invalid_size_inputs_valid_test=True, slowmo_algorithm='LocalSGD', slowmo_momentum=None, source_lang=None, target_lang=None, task='translation', temperature=1.0, tensorboard_logdir=None, threshold_loss_scale=None, tokenizer=None, tpu=False, train_subset='train', truncate_source=False, unkpen=0, unnormalized=False, upsample_primary=1, user_dir=None, valid_subset='valid', validate_after_updates=0, validate_interval=1, validate_interval_updates=0, warmup_updates=0, zero_sharding='none')\n",
            "INFO:fairseq.tasks.translation:[complex] dictionary: 50264 types\n",
            "INFO:fairseq.tasks.translation:[simple] dictionary: 50264 types\n"
          ]
        },
        {
          "output_type": "stream",
          "name": "stdout",
          "text": [
            "| use checkpoint_paths [PosixPath('/content/drive/MyDrive/muss/experiments/fairseq/local_1631567843618/model.pt')]\n"
          ]
        },
        {
          "output_type": "stream",
          "name": "stderr",
          "text": [
            "INFO:fairseq.data.data_utils:loaded 2000 examples from: /tmp/tmpyva_zuc8/tmp.complex-simple.complex\n",
            "INFO:fairseq.data.data_utils:loaded 2000 examples from: /tmp/tmpyva_zuc8/tmp.complex-simple.simple\n",
            "INFO:fairseq.tasks.translation:/tmp/tmpyva_zuc8 tmp complex-simple 2000 examples\n",
            "INFO:fairseq_cli.generate:loading model(s) from /content/drive/MyDrive/muss/experiments/fairseq/local_1631567843618/model.pt\n",
            "INFO:fairseq_cli.generate:NOTE: hypothesis and token scores are output in base 2\n",
            "INFO:fairseq_cli.generate:Translated 2000 sentences (40440 tokens) in 99.1s (20.19 sentences/s, 408.27 tokens/s)\n",
            "  3%|▎         | 4/128 [07:00<3:55:16, 113.84s/it]"
          ]
        },
        {
          "output_type": "stream",
          "name": "stdout",
          "text": [
            "| IN find_best_parametrization_nevergrad: kwargs.get('generate_kwargs', {}) {}\n",
            "get ref from ( evaluate_simplifier) asset_valid_NER_ABCD\n",
            "test_set in evaluate_simplifier when get ori asset_valid\n",
            "encoder_json_path /content/drive/MyDrive/muss/resources/bart_bpe/encoder.json\n",
            "vocab_bpe_path /content/drive/MyDrive/muss/resources/bart_bpe/vocab.bpe\n"
          ]
        },
        {
          "output_type": "stream",
          "name": "stderr",
          "text": [
            "INFO:fairseq_cli.generate:Namespace(all_gather_list_size=16384, batch_size=None, batch_size_valid=None, beam=5, bf16=False, bpe=None, broadcast_buffers=False, bucket_cap_mb=25, checkpoint_shard_count=1, checkpoint_suffix='', constraints=None, cpu=False, criterion='cross_entropy', curriculum=0, data='/tmp/tmp1_89ln1n', data_buffer_size=10, dataset_impl='raw', ddp_backend='c10d', decoding_format=None, device_id=0, disable_validation=False, distributed_backend='nccl', distributed_init_method=None, distributed_no_spawn=False, distributed_port=-1, distributed_rank=0, distributed_world_size=1, distributed_wrapper='DDP', diverse_beam_groups=-1, diverse_beam_strength=0.5, diversity_rate=-1.0, empty_cache_freq=0, eval_bleu=False, eval_bleu_args=None, eval_bleu_detok='space', eval_bleu_detok_args=None, eval_bleu_print_samples=False, eval_bleu_remove_bpe=None, eval_tokenized_bleu=False, fast_stat_sync=False, find_unused_parameters=False, fix_batches_to_gpus=False, fixed_validation_seed=None, force_anneal=None, fp16=False, fp16_init_scale=128, fp16_no_flatten_grads=False, fp16_scale_tolerance=0.0, fp16_scale_window=None, gen_subset='tmp', iter_decode_eos_penalty=0.0, iter_decode_force_max_iter=False, iter_decode_max_iter=10, iter_decode_with_beam=1, iter_decode_with_external_reranker=False, left_pad_source='True', left_pad_target='False', lenpen=1.0, lm_path=None, lm_weight=0.0, load_alignments=False, localsgd_frequency=3, log_format=None, log_interval=100, lr_scheduler='fixed', lr_shrink=0.1, match_source_len=False, max_len_a=0, max_len_b=200, max_source_positions=1024, max_target_positions=1024, max_tokens=8000, max_tokens_valid=8000, memory_efficient_bf16=False, memory_efficient_fp16=False, min_len=1, min_loss_scale=0.0001, model_overrides=\"{'encoder_embed_path': None, 'decoder_embed_path': None}\", model_parallel_size=1, nbest=1, no_beamable_mm=False, no_early_stop=False, no_progress_bar=False, no_repeat_ngram_size=0, no_seed_provided=False, nprocs_per_node=1, num_batch_buckets=0, num_shards=1, num_workers=1, optimizer=None, path='/content/drive/MyDrive/muss/experiments/fairseq/local_1631567843618/model.pt', pipeline_balance=None, pipeline_checkpoint='never', pipeline_chunks=0, pipeline_decoder_balance=None, pipeline_decoder_devices=None, pipeline_devices=None, pipeline_encoder_balance=None, pipeline_encoder_devices=None, pipeline_model_parallel=False, prefix_size=0, print_alignment=False, print_step=False, profile=False, quantization_config_path=None, quiet=False, remove_bpe=None, replace_unk=None, required_batch_size_multiple=8, required_seq_len_multiple=1, results_path=None, retain_dropout=False, retain_dropout_modules=None, retain_iter_history=False, sacrebleu=False, sampling=False, sampling_topk=-1, sampling_topp=-1.0, score_reference=False, scoring='bleu', seed=1, shard_id=0, skip_invalid_size_inputs_valid_test=True, slowmo_algorithm='LocalSGD', slowmo_momentum=None, source_lang=None, target_lang=None, task='translation', temperature=1.0, tensorboard_logdir=None, threshold_loss_scale=None, tokenizer=None, tpu=False, train_subset='train', truncate_source=False, unkpen=0, unnormalized=False, upsample_primary=1, user_dir=None, valid_subset='valid', validate_after_updates=0, validate_interval=1, validate_interval_updates=0, warmup_updates=0, zero_sharding='none')\n",
            "INFO:fairseq.tasks.translation:[complex] dictionary: 50264 types\n",
            "INFO:fairseq.tasks.translation:[simple] dictionary: 50264 types\n"
          ]
        },
        {
          "output_type": "stream",
          "name": "stdout",
          "text": [
            "| use checkpoint_paths [PosixPath('/content/drive/MyDrive/muss/experiments/fairseq/local_1631567843618/model.pt')]\n"
          ]
        },
        {
          "output_type": "stream",
          "name": "stderr",
          "text": [
            "INFO:fairseq.data.data_utils:loaded 2000 examples from: /tmp/tmp1_89ln1n/tmp.complex-simple.complex\n",
            "INFO:fairseq.data.data_utils:loaded 2000 examples from: /tmp/tmp1_89ln1n/tmp.complex-simple.simple\n",
            "INFO:fairseq.tasks.translation:/tmp/tmp1_89ln1n tmp complex-simple 2000 examples\n",
            "INFO:fairseq_cli.generate:loading model(s) from /content/drive/MyDrive/muss/experiments/fairseq/local_1631567843618/model.pt\n",
            "INFO:fairseq_cli.generate:NOTE: hypothesis and token scores are output in base 2\n",
            "INFO:fairseq_cli.generate:Translated 2000 sentences (30301 tokens) in 82.6s (24.23 sentences/s, 367.04 tokens/s)\n",
            "  4%|▍         | 5/128 [09:06<4:02:16, 118.19s/it]"
          ]
        },
        {
          "output_type": "stream",
          "name": "stdout",
          "text": [
            "| IN find_best_parametrization_nevergrad: kwargs.get('generate_kwargs', {}) {}\n",
            "get ref from ( evaluate_simplifier) asset_valid_NER_ABCD\n",
            "test_set in evaluate_simplifier when get ori asset_valid\n",
            "encoder_json_path /content/drive/MyDrive/muss/resources/bart_bpe/encoder.json\n",
            "vocab_bpe_path /content/drive/MyDrive/muss/resources/bart_bpe/vocab.bpe\n"
          ]
        },
        {
          "output_type": "stream",
          "name": "stderr",
          "text": [
            "INFO:fairseq_cli.generate:Namespace(all_gather_list_size=16384, batch_size=None, batch_size_valid=None, beam=5, bf16=False, bpe=None, broadcast_buffers=False, bucket_cap_mb=25, checkpoint_shard_count=1, checkpoint_suffix='', constraints=None, cpu=False, criterion='cross_entropy', curriculum=0, data='/tmp/tmp132f7jhi', data_buffer_size=10, dataset_impl='raw', ddp_backend='c10d', decoding_format=None, device_id=0, disable_validation=False, distributed_backend='nccl', distributed_init_method=None, distributed_no_spawn=False, distributed_port=-1, distributed_rank=0, distributed_world_size=1, distributed_wrapper='DDP', diverse_beam_groups=-1, diverse_beam_strength=0.5, diversity_rate=-1.0, empty_cache_freq=0, eval_bleu=False, eval_bleu_args=None, eval_bleu_detok='space', eval_bleu_detok_args=None, eval_bleu_print_samples=False, eval_bleu_remove_bpe=None, eval_tokenized_bleu=False, fast_stat_sync=False, find_unused_parameters=False, fix_batches_to_gpus=False, fixed_validation_seed=None, force_anneal=None, fp16=False, fp16_init_scale=128, fp16_no_flatten_grads=False, fp16_scale_tolerance=0.0, fp16_scale_window=None, gen_subset='tmp', iter_decode_eos_penalty=0.0, iter_decode_force_max_iter=False, iter_decode_max_iter=10, iter_decode_with_beam=1, iter_decode_with_external_reranker=False, left_pad_source='True', left_pad_target='False', lenpen=1.0, lm_path=None, lm_weight=0.0, load_alignments=False, localsgd_frequency=3, log_format=None, log_interval=100, lr_scheduler='fixed', lr_shrink=0.1, match_source_len=False, max_len_a=0, max_len_b=200, max_source_positions=1024, max_target_positions=1024, max_tokens=8000, max_tokens_valid=8000, memory_efficient_bf16=False, memory_efficient_fp16=False, min_len=1, min_loss_scale=0.0001, model_overrides=\"{'encoder_embed_path': None, 'decoder_embed_path': None}\", model_parallel_size=1, nbest=1, no_beamable_mm=False, no_early_stop=False, no_progress_bar=False, no_repeat_ngram_size=0, no_seed_provided=False, nprocs_per_node=1, num_batch_buckets=0, num_shards=1, num_workers=1, optimizer=None, path='/content/drive/MyDrive/muss/experiments/fairseq/local_1631567843618/model.pt', pipeline_balance=None, pipeline_checkpoint='never', pipeline_chunks=0, pipeline_decoder_balance=None, pipeline_decoder_devices=None, pipeline_devices=None, pipeline_encoder_balance=None, pipeline_encoder_devices=None, pipeline_model_parallel=False, prefix_size=0, print_alignment=False, print_step=False, profile=False, quantization_config_path=None, quiet=False, remove_bpe=None, replace_unk=None, required_batch_size_multiple=8, required_seq_len_multiple=1, results_path=None, retain_dropout=False, retain_dropout_modules=None, retain_iter_history=False, sacrebleu=False, sampling=False, sampling_topk=-1, sampling_topp=-1.0, score_reference=False, scoring='bleu', seed=1, shard_id=0, skip_invalid_size_inputs_valid_test=True, slowmo_algorithm='LocalSGD', slowmo_momentum=None, source_lang=None, target_lang=None, task='translation', temperature=1.0, tensorboard_logdir=None, threshold_loss_scale=None, tokenizer=None, tpu=False, train_subset='train', truncate_source=False, unkpen=0, unnormalized=False, upsample_primary=1, user_dir=None, valid_subset='valid', validate_after_updates=0, validate_interval=1, validate_interval_updates=0, warmup_updates=0, zero_sharding='none')\n",
            "INFO:fairseq.tasks.translation:[complex] dictionary: 50264 types\n",
            "INFO:fairseq.tasks.translation:[simple] dictionary: 50264 types\n"
          ]
        },
        {
          "output_type": "stream",
          "name": "stdout",
          "text": [
            "| use checkpoint_paths [PosixPath('/content/drive/MyDrive/muss/experiments/fairseq/local_1631567843618/model.pt')]\n"
          ]
        },
        {
          "output_type": "stream",
          "name": "stderr",
          "text": [
            "INFO:fairseq.data.data_utils:loaded 2000 examples from: /tmp/tmp132f7jhi/tmp.complex-simple.complex\n",
            "INFO:fairseq.data.data_utils:loaded 2000 examples from: /tmp/tmp132f7jhi/tmp.complex-simple.simple\n",
            "INFO:fairseq.tasks.translation:/tmp/tmp132f7jhi tmp complex-simple 2000 examples\n",
            "INFO:fairseq_cli.generate:loading model(s) from /content/drive/MyDrive/muss/experiments/fairseq/local_1631567843618/model.pt\n",
            "INFO:fairseq_cli.generate:NOTE: hypothesis and token scores are output in base 2\n",
            "INFO:fairseq_cli.generate:Translated 2000 sentences (35995 tokens) in 92.2s (21.69 sentences/s, 390.41 tokens/s)\n",
            "  5%|▍         | 6/128 [11:21<4:11:56, 123.90s/it]"
          ]
        },
        {
          "output_type": "stream",
          "name": "stdout",
          "text": [
            "| IN find_best_parametrization_nevergrad: kwargs.get('generate_kwargs', {}) {}\n",
            "get ref from ( evaluate_simplifier) asset_valid_NER_ABCD\n",
            "test_set in evaluate_simplifier when get ori asset_valid\n",
            "encoder_json_path /content/drive/MyDrive/muss/resources/bart_bpe/encoder.json\n",
            "vocab_bpe_path /content/drive/MyDrive/muss/resources/bart_bpe/vocab.bpe\n"
          ]
        },
        {
          "output_type": "stream",
          "name": "stderr",
          "text": [
            "INFO:fairseq_cli.generate:Namespace(all_gather_list_size=16384, batch_size=None, batch_size_valid=None, beam=5, bf16=False, bpe=None, broadcast_buffers=False, bucket_cap_mb=25, checkpoint_shard_count=1, checkpoint_suffix='', constraints=None, cpu=False, criterion='cross_entropy', curriculum=0, data='/tmp/tmpsjv99wd9', data_buffer_size=10, dataset_impl='raw', ddp_backend='c10d', decoding_format=None, device_id=0, disable_validation=False, distributed_backend='nccl', distributed_init_method=None, distributed_no_spawn=False, distributed_port=-1, distributed_rank=0, distributed_world_size=1, distributed_wrapper='DDP', diverse_beam_groups=-1, diverse_beam_strength=0.5, diversity_rate=-1.0, empty_cache_freq=0, eval_bleu=False, eval_bleu_args=None, eval_bleu_detok='space', eval_bleu_detok_args=None, eval_bleu_print_samples=False, eval_bleu_remove_bpe=None, eval_tokenized_bleu=False, fast_stat_sync=False, find_unused_parameters=False, fix_batches_to_gpus=False, fixed_validation_seed=None, force_anneal=None, fp16=False, fp16_init_scale=128, fp16_no_flatten_grads=False, fp16_scale_tolerance=0.0, fp16_scale_window=None, gen_subset='tmp', iter_decode_eos_penalty=0.0, iter_decode_force_max_iter=False, iter_decode_max_iter=10, iter_decode_with_beam=1, iter_decode_with_external_reranker=False, left_pad_source='True', left_pad_target='False', lenpen=1.0, lm_path=None, lm_weight=0.0, load_alignments=False, localsgd_frequency=3, log_format=None, log_interval=100, lr_scheduler='fixed', lr_shrink=0.1, match_source_len=False, max_len_a=0, max_len_b=200, max_source_positions=1024, max_target_positions=1024, max_tokens=8000, max_tokens_valid=8000, memory_efficient_bf16=False, memory_efficient_fp16=False, min_len=1, min_loss_scale=0.0001, model_overrides=\"{'encoder_embed_path': None, 'decoder_embed_path': None}\", model_parallel_size=1, nbest=1, no_beamable_mm=False, no_early_stop=False, no_progress_bar=False, no_repeat_ngram_size=0, no_seed_provided=False, nprocs_per_node=1, num_batch_buckets=0, num_shards=1, num_workers=1, optimizer=None, path='/content/drive/MyDrive/muss/experiments/fairseq/local_1631567843618/model.pt', pipeline_balance=None, pipeline_checkpoint='never', pipeline_chunks=0, pipeline_decoder_balance=None, pipeline_decoder_devices=None, pipeline_devices=None, pipeline_encoder_balance=None, pipeline_encoder_devices=None, pipeline_model_parallel=False, prefix_size=0, print_alignment=False, print_step=False, profile=False, quantization_config_path=None, quiet=False, remove_bpe=None, replace_unk=None, required_batch_size_multiple=8, required_seq_len_multiple=1, results_path=None, retain_dropout=False, retain_dropout_modules=None, retain_iter_history=False, sacrebleu=False, sampling=False, sampling_topk=-1, sampling_topp=-1.0, score_reference=False, scoring='bleu', seed=1, shard_id=0, skip_invalid_size_inputs_valid_test=True, slowmo_algorithm='LocalSGD', slowmo_momentum=None, source_lang=None, target_lang=None, task='translation', temperature=1.0, tensorboard_logdir=None, threshold_loss_scale=None, tokenizer=None, tpu=False, train_subset='train', truncate_source=False, unkpen=0, unnormalized=False, upsample_primary=1, user_dir=None, valid_subset='valid', validate_after_updates=0, validate_interval=1, validate_interval_updates=0, warmup_updates=0, zero_sharding='none')\n",
            "INFO:fairseq.tasks.translation:[complex] dictionary: 50264 types\n",
            "INFO:fairseq.tasks.translation:[simple] dictionary: 50264 types\n"
          ]
        },
        {
          "output_type": "stream",
          "name": "stdout",
          "text": [
            "| use checkpoint_paths [PosixPath('/content/drive/MyDrive/muss/experiments/fairseq/local_1631567843618/model.pt')]\n"
          ]
        },
        {
          "output_type": "stream",
          "name": "stderr",
          "text": [
            "INFO:fairseq.data.data_utils:loaded 2000 examples from: /tmp/tmpsjv99wd9/tmp.complex-simple.complex\n",
            "INFO:fairseq.data.data_utils:loaded 2000 examples from: /tmp/tmpsjv99wd9/tmp.complex-simple.simple\n",
            "INFO:fairseq.tasks.translation:/tmp/tmpsjv99wd9 tmp complex-simple 2000 examples\n",
            "INFO:fairseq_cli.generate:loading model(s) from /content/drive/MyDrive/muss/experiments/fairseq/local_1631567843618/model.pt\n",
            "INFO:fairseq_cli.generate:NOTE: hypothesis and token scores are output in base 2\n",
            "INFO:fairseq_cli.generate:Translated 2000 sentences (42553 tokens) in 103.3s (19.36 sentences/s, 411.82 tokens/s)\n",
            "  5%|▌         | 7/128 [13:48<4:24:21, 131.09s/it]"
          ]
        },
        {
          "output_type": "stream",
          "name": "stdout",
          "text": [
            "| IN find_best_parametrization_nevergrad: kwargs.get('generate_kwargs', {}) {}\n",
            "get ref from ( evaluate_simplifier) asset_valid_NER_ABCD\n",
            "test_set in evaluate_simplifier when get ori asset_valid\n",
            "encoder_json_path /content/drive/MyDrive/muss/resources/bart_bpe/encoder.json\n",
            "vocab_bpe_path /content/drive/MyDrive/muss/resources/bart_bpe/vocab.bpe\n"
          ]
        },
        {
          "output_type": "stream",
          "name": "stderr",
          "text": [
            "INFO:fairseq_cli.generate:Namespace(all_gather_list_size=16384, batch_size=None, batch_size_valid=None, beam=5, bf16=False, bpe=None, broadcast_buffers=False, bucket_cap_mb=25, checkpoint_shard_count=1, checkpoint_suffix='', constraints=None, cpu=False, criterion='cross_entropy', curriculum=0, data='/tmp/tmp1lp8sadc', data_buffer_size=10, dataset_impl='raw', ddp_backend='c10d', decoding_format=None, device_id=0, disable_validation=False, distributed_backend='nccl', distributed_init_method=None, distributed_no_spawn=False, distributed_port=-1, distributed_rank=0, distributed_world_size=1, distributed_wrapper='DDP', diverse_beam_groups=-1, diverse_beam_strength=0.5, diversity_rate=-1.0, empty_cache_freq=0, eval_bleu=False, eval_bleu_args=None, eval_bleu_detok='space', eval_bleu_detok_args=None, eval_bleu_print_samples=False, eval_bleu_remove_bpe=None, eval_tokenized_bleu=False, fast_stat_sync=False, find_unused_parameters=False, fix_batches_to_gpus=False, fixed_validation_seed=None, force_anneal=None, fp16=False, fp16_init_scale=128, fp16_no_flatten_grads=False, fp16_scale_tolerance=0.0, fp16_scale_window=None, gen_subset='tmp', iter_decode_eos_penalty=0.0, iter_decode_force_max_iter=False, iter_decode_max_iter=10, iter_decode_with_beam=1, iter_decode_with_external_reranker=False, left_pad_source='True', left_pad_target='False', lenpen=1.0, lm_path=None, lm_weight=0.0, load_alignments=False, localsgd_frequency=3, log_format=None, log_interval=100, lr_scheduler='fixed', lr_shrink=0.1, match_source_len=False, max_len_a=0, max_len_b=200, max_source_positions=1024, max_target_positions=1024, max_tokens=8000, max_tokens_valid=8000, memory_efficient_bf16=False, memory_efficient_fp16=False, min_len=1, min_loss_scale=0.0001, model_overrides=\"{'encoder_embed_path': None, 'decoder_embed_path': None}\", model_parallel_size=1, nbest=1, no_beamable_mm=False, no_early_stop=False, no_progress_bar=False, no_repeat_ngram_size=0, no_seed_provided=False, nprocs_per_node=1, num_batch_buckets=0, num_shards=1, num_workers=1, optimizer=None, path='/content/drive/MyDrive/muss/experiments/fairseq/local_1631567843618/model.pt', pipeline_balance=None, pipeline_checkpoint='never', pipeline_chunks=0, pipeline_decoder_balance=None, pipeline_decoder_devices=None, pipeline_devices=None, pipeline_encoder_balance=None, pipeline_encoder_devices=None, pipeline_model_parallel=False, prefix_size=0, print_alignment=False, print_step=False, profile=False, quantization_config_path=None, quiet=False, remove_bpe=None, replace_unk=None, required_batch_size_multiple=8, required_seq_len_multiple=1, results_path=None, retain_dropout=False, retain_dropout_modules=None, retain_iter_history=False, sacrebleu=False, sampling=False, sampling_topk=-1, sampling_topp=-1.0, score_reference=False, scoring='bleu', seed=1, shard_id=0, skip_invalid_size_inputs_valid_test=True, slowmo_algorithm='LocalSGD', slowmo_momentum=None, source_lang=None, target_lang=None, task='translation', temperature=1.0, tensorboard_logdir=None, threshold_loss_scale=None, tokenizer=None, tpu=False, train_subset='train', truncate_source=False, unkpen=0, unnormalized=False, upsample_primary=1, user_dir=None, valid_subset='valid', validate_after_updates=0, validate_interval=1, validate_interval_updates=0, warmup_updates=0, zero_sharding='none')\n",
            "INFO:fairseq.tasks.translation:[complex] dictionary: 50264 types\n",
            "INFO:fairseq.tasks.translation:[simple] dictionary: 50264 types\n"
          ]
        },
        {
          "output_type": "stream",
          "name": "stdout",
          "text": [
            "| use checkpoint_paths [PosixPath('/content/drive/MyDrive/muss/experiments/fairseq/local_1631567843618/model.pt')]\n"
          ]
        },
        {
          "output_type": "stream",
          "name": "stderr",
          "text": [
            "INFO:fairseq.data.data_utils:loaded 2000 examples from: /tmp/tmp1lp8sadc/tmp.complex-simple.complex\n",
            "INFO:fairseq.data.data_utils:loaded 2000 examples from: /tmp/tmp1lp8sadc/tmp.complex-simple.simple\n",
            "INFO:fairseq.tasks.translation:/tmp/tmp1lp8sadc tmp complex-simple 2000 examples\n",
            "INFO:fairseq_cli.generate:loading model(s) from /content/drive/MyDrive/muss/experiments/fairseq/local_1631567843618/model.pt\n",
            "INFO:fairseq_cli.generate:NOTE: hypothesis and token scores are output in base 2\n",
            "INFO:fairseq_cli.generate:Translated 2000 sentences (47877 tokens) in 113.3s (17.66 sentences/s, 422.67 tokens/s)\n",
            "  6%|▋         | 8/128 [16:24<4:38:02, 139.02s/it]"
          ]
        },
        {
          "output_type": "stream",
          "name": "stdout",
          "text": [
            "| IN find_best_parametrization_nevergrad: kwargs.get('generate_kwargs', {}) {}\n",
            "get ref from ( evaluate_simplifier) asset_valid_NER_ABCD\n",
            "test_set in evaluate_simplifier when get ori asset_valid\n",
            "encoder_json_path /content/drive/MyDrive/muss/resources/bart_bpe/encoder.json\n",
            "vocab_bpe_path /content/drive/MyDrive/muss/resources/bart_bpe/vocab.bpe\n"
          ]
        },
        {
          "output_type": "stream",
          "name": "stderr",
          "text": [
            "INFO:fairseq_cli.generate:Namespace(all_gather_list_size=16384, batch_size=None, batch_size_valid=None, beam=5, bf16=False, bpe=None, broadcast_buffers=False, bucket_cap_mb=25, checkpoint_shard_count=1, checkpoint_suffix='', constraints=None, cpu=False, criterion='cross_entropy', curriculum=0, data='/tmp/tmpfaz45jg8', data_buffer_size=10, dataset_impl='raw', ddp_backend='c10d', decoding_format=None, device_id=0, disable_validation=False, distributed_backend='nccl', distributed_init_method=None, distributed_no_spawn=False, distributed_port=-1, distributed_rank=0, distributed_world_size=1, distributed_wrapper='DDP', diverse_beam_groups=-1, diverse_beam_strength=0.5, diversity_rate=-1.0, empty_cache_freq=0, eval_bleu=False, eval_bleu_args=None, eval_bleu_detok='space', eval_bleu_detok_args=None, eval_bleu_print_samples=False, eval_bleu_remove_bpe=None, eval_tokenized_bleu=False, fast_stat_sync=False, find_unused_parameters=False, fix_batches_to_gpus=False, fixed_validation_seed=None, force_anneal=None, fp16=False, fp16_init_scale=128, fp16_no_flatten_grads=False, fp16_scale_tolerance=0.0, fp16_scale_window=None, gen_subset='tmp', iter_decode_eos_penalty=0.0, iter_decode_force_max_iter=False, iter_decode_max_iter=10, iter_decode_with_beam=1, iter_decode_with_external_reranker=False, left_pad_source='True', left_pad_target='False', lenpen=1.0, lm_path=None, lm_weight=0.0, load_alignments=False, localsgd_frequency=3, log_format=None, log_interval=100, lr_scheduler='fixed', lr_shrink=0.1, match_source_len=False, max_len_a=0, max_len_b=200, max_source_positions=1024, max_target_positions=1024, max_tokens=8000, max_tokens_valid=8000, memory_efficient_bf16=False, memory_efficient_fp16=False, min_len=1, min_loss_scale=0.0001, model_overrides=\"{'encoder_embed_path': None, 'decoder_embed_path': None}\", model_parallel_size=1, nbest=1, no_beamable_mm=False, no_early_stop=False, no_progress_bar=False, no_repeat_ngram_size=0, no_seed_provided=False, nprocs_per_node=1, num_batch_buckets=0, num_shards=1, num_workers=1, optimizer=None, path='/content/drive/MyDrive/muss/experiments/fairseq/local_1631567843618/model.pt', pipeline_balance=None, pipeline_checkpoint='never', pipeline_chunks=0, pipeline_decoder_balance=None, pipeline_decoder_devices=None, pipeline_devices=None, pipeline_encoder_balance=None, pipeline_encoder_devices=None, pipeline_model_parallel=False, prefix_size=0, print_alignment=False, print_step=False, profile=False, quantization_config_path=None, quiet=False, remove_bpe=None, replace_unk=None, required_batch_size_multiple=8, required_seq_len_multiple=1, results_path=None, retain_dropout=False, retain_dropout_modules=None, retain_iter_history=False, sacrebleu=False, sampling=False, sampling_topk=-1, sampling_topp=-1.0, score_reference=False, scoring='bleu', seed=1, shard_id=0, skip_invalid_size_inputs_valid_test=True, slowmo_algorithm='LocalSGD', slowmo_momentum=None, source_lang=None, target_lang=None, task='translation', temperature=1.0, tensorboard_logdir=None, threshold_loss_scale=None, tokenizer=None, tpu=False, train_subset='train', truncate_source=False, unkpen=0, unnormalized=False, upsample_primary=1, user_dir=None, valid_subset='valid', validate_after_updates=0, validate_interval=1, validate_interval_updates=0, warmup_updates=0, zero_sharding='none')\n",
            "INFO:fairseq.tasks.translation:[complex] dictionary: 50264 types\n",
            "INFO:fairseq.tasks.translation:[simple] dictionary: 50264 types\n"
          ]
        },
        {
          "output_type": "stream",
          "name": "stdout",
          "text": [
            "| use checkpoint_paths [PosixPath('/content/drive/MyDrive/muss/experiments/fairseq/local_1631567843618/model.pt')]\n"
          ]
        },
        {
          "output_type": "stream",
          "name": "stderr",
          "text": [
            "INFO:fairseq.data.data_utils:loaded 2000 examples from: /tmp/tmpfaz45jg8/tmp.complex-simple.complex\n",
            "INFO:fairseq.data.data_utils:loaded 2000 examples from: /tmp/tmpfaz45jg8/tmp.complex-simple.simple\n",
            "INFO:fairseq.tasks.translation:/tmp/tmpfaz45jg8 tmp complex-simple 2000 examples\n",
            "INFO:fairseq_cli.generate:loading model(s) from /content/drive/MyDrive/muss/experiments/fairseq/local_1631567843618/model.pt\n",
            "INFO:fairseq_cli.generate:NOTE: hypothesis and token scores are output in base 2\n",
            "INFO:fairseq_cli.generate:Translated 2000 sentences (44240 tokens) in 106.8s (18.73 sentences/s, 414.30 tokens/s)\n",
            "  7%|▋         | 9/128 [18:54<4:42:27, 142.41s/it]"
          ]
        },
        {
          "output_type": "stream",
          "name": "stdout",
          "text": [
            "| IN find_best_parametrization_nevergrad: kwargs.get('generate_kwargs', {}) {}\n",
            "get ref from ( evaluate_simplifier) asset_valid_NER_ABCD\n",
            "test_set in evaluate_simplifier when get ori asset_valid\n",
            "encoder_json_path /content/drive/MyDrive/muss/resources/bart_bpe/encoder.json\n",
            "vocab_bpe_path /content/drive/MyDrive/muss/resources/bart_bpe/vocab.bpe\n"
          ]
        },
        {
          "output_type": "stream",
          "name": "stderr",
          "text": [
            "INFO:fairseq_cli.generate:Namespace(all_gather_list_size=16384, batch_size=None, batch_size_valid=None, beam=5, bf16=False, bpe=None, broadcast_buffers=False, bucket_cap_mb=25, checkpoint_shard_count=1, checkpoint_suffix='', constraints=None, cpu=False, criterion='cross_entropy', curriculum=0, data='/tmp/tmpe2ri44ht', data_buffer_size=10, dataset_impl='raw', ddp_backend='c10d', decoding_format=None, device_id=0, disable_validation=False, distributed_backend='nccl', distributed_init_method=None, distributed_no_spawn=False, distributed_port=-1, distributed_rank=0, distributed_world_size=1, distributed_wrapper='DDP', diverse_beam_groups=-1, diverse_beam_strength=0.5, diversity_rate=-1.0, empty_cache_freq=0, eval_bleu=False, eval_bleu_args=None, eval_bleu_detok='space', eval_bleu_detok_args=None, eval_bleu_print_samples=False, eval_bleu_remove_bpe=None, eval_tokenized_bleu=False, fast_stat_sync=False, find_unused_parameters=False, fix_batches_to_gpus=False, fixed_validation_seed=None, force_anneal=None, fp16=False, fp16_init_scale=128, fp16_no_flatten_grads=False, fp16_scale_tolerance=0.0, fp16_scale_window=None, gen_subset='tmp', iter_decode_eos_penalty=0.0, iter_decode_force_max_iter=False, iter_decode_max_iter=10, iter_decode_with_beam=1, iter_decode_with_external_reranker=False, left_pad_source='True', left_pad_target='False', lenpen=1.0, lm_path=None, lm_weight=0.0, load_alignments=False, localsgd_frequency=3, log_format=None, log_interval=100, lr_scheduler='fixed', lr_shrink=0.1, match_source_len=False, max_len_a=0, max_len_b=200, max_source_positions=1024, max_target_positions=1024, max_tokens=8000, max_tokens_valid=8000, memory_efficient_bf16=False, memory_efficient_fp16=False, min_len=1, min_loss_scale=0.0001, model_overrides=\"{'encoder_embed_path': None, 'decoder_embed_path': None}\", model_parallel_size=1, nbest=1, no_beamable_mm=False, no_early_stop=False, no_progress_bar=False, no_repeat_ngram_size=0, no_seed_provided=False, nprocs_per_node=1, num_batch_buckets=0, num_shards=1, num_workers=1, optimizer=None, path='/content/drive/MyDrive/muss/experiments/fairseq/local_1631567843618/model.pt', pipeline_balance=None, pipeline_checkpoint='never', pipeline_chunks=0, pipeline_decoder_balance=None, pipeline_decoder_devices=None, pipeline_devices=None, pipeline_encoder_balance=None, pipeline_encoder_devices=None, pipeline_model_parallel=False, prefix_size=0, print_alignment=False, print_step=False, profile=False, quantization_config_path=None, quiet=False, remove_bpe=None, replace_unk=None, required_batch_size_multiple=8, required_seq_len_multiple=1, results_path=None, retain_dropout=False, retain_dropout_modules=None, retain_iter_history=False, sacrebleu=False, sampling=False, sampling_topk=-1, sampling_topp=-1.0, score_reference=False, scoring='bleu', seed=1, shard_id=0, skip_invalid_size_inputs_valid_test=True, slowmo_algorithm='LocalSGD', slowmo_momentum=None, source_lang=None, target_lang=None, task='translation', temperature=1.0, tensorboard_logdir=None, threshold_loss_scale=None, tokenizer=None, tpu=False, train_subset='train', truncate_source=False, unkpen=0, unnormalized=False, upsample_primary=1, user_dir=None, valid_subset='valid', validate_after_updates=0, validate_interval=1, validate_interval_updates=0, warmup_updates=0, zero_sharding='none')\n",
            "INFO:fairseq.tasks.translation:[complex] dictionary: 50264 types\n",
            "INFO:fairseq.tasks.translation:[simple] dictionary: 50264 types\n"
          ]
        },
        {
          "output_type": "stream",
          "name": "stdout",
          "text": [
            "| use checkpoint_paths [PosixPath('/content/drive/MyDrive/muss/experiments/fairseq/local_1631567843618/model.pt')]\n"
          ]
        },
        {
          "output_type": "stream",
          "name": "stderr",
          "text": [
            "INFO:fairseq.data.data_utils:loaded 2000 examples from: /tmp/tmpe2ri44ht/tmp.complex-simple.complex\n",
            "INFO:fairseq.data.data_utils:loaded 2000 examples from: /tmp/tmpe2ri44ht/tmp.complex-simple.simple\n",
            "INFO:fairseq.tasks.translation:/tmp/tmpe2ri44ht tmp complex-simple 2000 examples\n",
            "INFO:fairseq_cli.generate:loading model(s) from /content/drive/MyDrive/muss/experiments/fairseq/local_1631567843618/model.pt\n",
            "INFO:fairseq_cli.generate:NOTE: hypothesis and token scores are output in base 2\n",
            "INFO:fairseq_cli.generate:Translated 2000 sentences (45250 tokens) in 108.1s (18.50 sentences/s, 418.58 tokens/s)\n",
            "  8%|▊         | 10/128 [21:25<4:45:28, 145.16s/it]"
          ]
        },
        {
          "output_type": "stream",
          "name": "stdout",
          "text": [
            "| IN find_best_parametrization_nevergrad: kwargs.get('generate_kwargs', {}) {}\n",
            "get ref from ( evaluate_simplifier) asset_valid_NER_ABCD\n",
            "test_set in evaluate_simplifier when get ori asset_valid\n",
            "encoder_json_path /content/drive/MyDrive/muss/resources/bart_bpe/encoder.json\n",
            "vocab_bpe_path /content/drive/MyDrive/muss/resources/bart_bpe/vocab.bpe\n"
          ]
        },
        {
          "output_type": "stream",
          "name": "stderr",
          "text": [
            "INFO:fairseq_cli.generate:Namespace(all_gather_list_size=16384, batch_size=None, batch_size_valid=None, beam=5, bf16=False, bpe=None, broadcast_buffers=False, bucket_cap_mb=25, checkpoint_shard_count=1, checkpoint_suffix='', constraints=None, cpu=False, criterion='cross_entropy', curriculum=0, data='/tmp/tmp8zmhmpjw', data_buffer_size=10, dataset_impl='raw', ddp_backend='c10d', decoding_format=None, device_id=0, disable_validation=False, distributed_backend='nccl', distributed_init_method=None, distributed_no_spawn=False, distributed_port=-1, distributed_rank=0, distributed_world_size=1, distributed_wrapper='DDP', diverse_beam_groups=-1, diverse_beam_strength=0.5, diversity_rate=-1.0, empty_cache_freq=0, eval_bleu=False, eval_bleu_args=None, eval_bleu_detok='space', eval_bleu_detok_args=None, eval_bleu_print_samples=False, eval_bleu_remove_bpe=None, eval_tokenized_bleu=False, fast_stat_sync=False, find_unused_parameters=False, fix_batches_to_gpus=False, fixed_validation_seed=None, force_anneal=None, fp16=False, fp16_init_scale=128, fp16_no_flatten_grads=False, fp16_scale_tolerance=0.0, fp16_scale_window=None, gen_subset='tmp', iter_decode_eos_penalty=0.0, iter_decode_force_max_iter=False, iter_decode_max_iter=10, iter_decode_with_beam=1, iter_decode_with_external_reranker=False, left_pad_source='True', left_pad_target='False', lenpen=1.0, lm_path=None, lm_weight=0.0, load_alignments=False, localsgd_frequency=3, log_format=None, log_interval=100, lr_scheduler='fixed', lr_shrink=0.1, match_source_len=False, max_len_a=0, max_len_b=200, max_source_positions=1024, max_target_positions=1024, max_tokens=8000, max_tokens_valid=8000, memory_efficient_bf16=False, memory_efficient_fp16=False, min_len=1, min_loss_scale=0.0001, model_overrides=\"{'encoder_embed_path': None, 'decoder_embed_path': None}\", model_parallel_size=1, nbest=1, no_beamable_mm=False, no_early_stop=False, no_progress_bar=False, no_repeat_ngram_size=0, no_seed_provided=False, nprocs_per_node=1, num_batch_buckets=0, num_shards=1, num_workers=1, optimizer=None, path='/content/drive/MyDrive/muss/experiments/fairseq/local_1631567843618/model.pt', pipeline_balance=None, pipeline_checkpoint='never', pipeline_chunks=0, pipeline_decoder_balance=None, pipeline_decoder_devices=None, pipeline_devices=None, pipeline_encoder_balance=None, pipeline_encoder_devices=None, pipeline_model_parallel=False, prefix_size=0, print_alignment=False, print_step=False, profile=False, quantization_config_path=None, quiet=False, remove_bpe=None, replace_unk=None, required_batch_size_multiple=8, required_seq_len_multiple=1, results_path=None, retain_dropout=False, retain_dropout_modules=None, retain_iter_history=False, sacrebleu=False, sampling=False, sampling_topk=-1, sampling_topp=-1.0, score_reference=False, scoring='bleu', seed=1, shard_id=0, skip_invalid_size_inputs_valid_test=True, slowmo_algorithm='LocalSGD', slowmo_momentum=None, source_lang=None, target_lang=None, task='translation', temperature=1.0, tensorboard_logdir=None, threshold_loss_scale=None, tokenizer=None, tpu=False, train_subset='train', truncate_source=False, unkpen=0, unnormalized=False, upsample_primary=1, user_dir=None, valid_subset='valid', validate_after_updates=0, validate_interval=1, validate_interval_updates=0, warmup_updates=0, zero_sharding='none')\n",
            "INFO:fairseq.tasks.translation:[complex] dictionary: 50264 types\n",
            "INFO:fairseq.tasks.translation:[simple] dictionary: 50264 types\n"
          ]
        },
        {
          "output_type": "stream",
          "name": "stdout",
          "text": [
            "| use checkpoint_paths [PosixPath('/content/drive/MyDrive/muss/experiments/fairseq/local_1631567843618/model.pt')]\n"
          ]
        },
        {
          "output_type": "stream",
          "name": "stderr",
          "text": [
            "INFO:fairseq.data.data_utils:loaded 2000 examples from: /tmp/tmp8zmhmpjw/tmp.complex-simple.complex\n",
            "INFO:fairseq.data.data_utils:loaded 2000 examples from: /tmp/tmp8zmhmpjw/tmp.complex-simple.simple\n",
            "INFO:fairseq.tasks.translation:/tmp/tmp8zmhmpjw tmp complex-simple 2000 examples\n",
            "INFO:fairseq_cli.generate:loading model(s) from /content/drive/MyDrive/muss/experiments/fairseq/local_1631567843618/model.pt\n",
            "INFO:fairseq_cli.generate:NOTE: hypothesis and token scores are output in base 2\n",
            "INFO:fairseq_cli.generate:Translated 2000 sentences (47389 tokens) in 112.6s (17.76 sentences/s, 420.85 tokens/s)\n",
            "  9%|▊         | 11/128 [24:01<4:49:31, 148.48s/it]"
          ]
        },
        {
          "output_type": "stream",
          "name": "stdout",
          "text": [
            "| IN find_best_parametrization_nevergrad: kwargs.get('generate_kwargs', {}) {}\n",
            "get ref from ( evaluate_simplifier) asset_valid_NER_ABCD\n",
            "test_set in evaluate_simplifier when get ori asset_valid\n",
            "encoder_json_path /content/drive/MyDrive/muss/resources/bart_bpe/encoder.json\n",
            "vocab_bpe_path /content/drive/MyDrive/muss/resources/bart_bpe/vocab.bpe\n"
          ]
        },
        {
          "output_type": "stream",
          "name": "stderr",
          "text": [
            "INFO:fairseq_cli.generate:Namespace(all_gather_list_size=16384, batch_size=None, batch_size_valid=None, beam=5, bf16=False, bpe=None, broadcast_buffers=False, bucket_cap_mb=25, checkpoint_shard_count=1, checkpoint_suffix='', constraints=None, cpu=False, criterion='cross_entropy', curriculum=0, data='/tmp/tmp7yv_9gds', data_buffer_size=10, dataset_impl='raw', ddp_backend='c10d', decoding_format=None, device_id=0, disable_validation=False, distributed_backend='nccl', distributed_init_method=None, distributed_no_spawn=False, distributed_port=-1, distributed_rank=0, distributed_world_size=1, distributed_wrapper='DDP', diverse_beam_groups=-1, diverse_beam_strength=0.5, diversity_rate=-1.0, empty_cache_freq=0, eval_bleu=False, eval_bleu_args=None, eval_bleu_detok='space', eval_bleu_detok_args=None, eval_bleu_print_samples=False, eval_bleu_remove_bpe=None, eval_tokenized_bleu=False, fast_stat_sync=False, find_unused_parameters=False, fix_batches_to_gpus=False, fixed_validation_seed=None, force_anneal=None, fp16=False, fp16_init_scale=128, fp16_no_flatten_grads=False, fp16_scale_tolerance=0.0, fp16_scale_window=None, gen_subset='tmp', iter_decode_eos_penalty=0.0, iter_decode_force_max_iter=False, iter_decode_max_iter=10, iter_decode_with_beam=1, iter_decode_with_external_reranker=False, left_pad_source='True', left_pad_target='False', lenpen=1.0, lm_path=None, lm_weight=0.0, load_alignments=False, localsgd_frequency=3, log_format=None, log_interval=100, lr_scheduler='fixed', lr_shrink=0.1, match_source_len=False, max_len_a=0, max_len_b=200, max_source_positions=1024, max_target_positions=1024, max_tokens=8000, max_tokens_valid=8000, memory_efficient_bf16=False, memory_efficient_fp16=False, min_len=1, min_loss_scale=0.0001, model_overrides=\"{'encoder_embed_path': None, 'decoder_embed_path': None}\", model_parallel_size=1, nbest=1, no_beamable_mm=False, no_early_stop=False, no_progress_bar=False, no_repeat_ngram_size=0, no_seed_provided=False, nprocs_per_node=1, num_batch_buckets=0, num_shards=1, num_workers=1, optimizer=None, path='/content/drive/MyDrive/muss/experiments/fairseq/local_1631567843618/model.pt', pipeline_balance=None, pipeline_checkpoint='never', pipeline_chunks=0, pipeline_decoder_balance=None, pipeline_decoder_devices=None, pipeline_devices=None, pipeline_encoder_balance=None, pipeline_encoder_devices=None, pipeline_model_parallel=False, prefix_size=0, print_alignment=False, print_step=False, profile=False, quantization_config_path=None, quiet=False, remove_bpe=None, replace_unk=None, required_batch_size_multiple=8, required_seq_len_multiple=1, results_path=None, retain_dropout=False, retain_dropout_modules=None, retain_iter_history=False, sacrebleu=False, sampling=False, sampling_topk=-1, sampling_topp=-1.0, score_reference=False, scoring='bleu', seed=1, shard_id=0, skip_invalid_size_inputs_valid_test=True, slowmo_algorithm='LocalSGD', slowmo_momentum=None, source_lang=None, target_lang=None, task='translation', temperature=1.0, tensorboard_logdir=None, threshold_loss_scale=None, tokenizer=None, tpu=False, train_subset='train', truncate_source=False, unkpen=0, unnormalized=False, upsample_primary=1, user_dir=None, valid_subset='valid', validate_after_updates=0, validate_interval=1, validate_interval_updates=0, warmup_updates=0, zero_sharding='none')\n",
            "INFO:fairseq.tasks.translation:[complex] dictionary: 50264 types\n",
            "INFO:fairseq.tasks.translation:[simple] dictionary: 50264 types\n"
          ]
        },
        {
          "output_type": "stream",
          "name": "stdout",
          "text": [
            "| use checkpoint_paths [PosixPath('/content/drive/MyDrive/muss/experiments/fairseq/local_1631567843618/model.pt')]\n"
          ]
        },
        {
          "output_type": "stream",
          "name": "stderr",
          "text": [
            "INFO:fairseq.data.data_utils:loaded 2000 examples from: /tmp/tmp7yv_9gds/tmp.complex-simple.complex\n",
            "INFO:fairseq.data.data_utils:loaded 2000 examples from: /tmp/tmp7yv_9gds/tmp.complex-simple.simple\n",
            "INFO:fairseq.tasks.translation:/tmp/tmp7yv_9gds tmp complex-simple 2000 examples\n",
            "INFO:fairseq_cli.generate:loading model(s) from /content/drive/MyDrive/muss/experiments/fairseq/local_1631567843618/model.pt\n",
            "INFO:fairseq_cli.generate:NOTE: hypothesis and token scores are output in base 2\n",
            "INFO:fairseq_cli.generate:Translated 2000 sentences (47000 tokens) in 111.4s (17.95 sentences/s, 421.81 tokens/s)\n",
            "  9%|▉         | 12/128 [26:37<4:50:59, 150.52s/it]"
          ]
        },
        {
          "output_type": "stream",
          "name": "stdout",
          "text": [
            "| IN find_best_parametrization_nevergrad: kwargs.get('generate_kwargs', {}) {}\n",
            "get ref from ( evaluate_simplifier) asset_valid_NER_ABCD\n",
            "test_set in evaluate_simplifier when get ori asset_valid\n",
            "encoder_json_path /content/drive/MyDrive/muss/resources/bart_bpe/encoder.json\n",
            "vocab_bpe_path /content/drive/MyDrive/muss/resources/bart_bpe/vocab.bpe\n"
          ]
        },
        {
          "output_type": "stream",
          "name": "stderr",
          "text": [
            "INFO:fairseq_cli.generate:Namespace(all_gather_list_size=16384, batch_size=None, batch_size_valid=None, beam=5, bf16=False, bpe=None, broadcast_buffers=False, bucket_cap_mb=25, checkpoint_shard_count=1, checkpoint_suffix='', constraints=None, cpu=False, criterion='cross_entropy', curriculum=0, data='/tmp/tmpfg4cdpnr', data_buffer_size=10, dataset_impl='raw', ddp_backend='c10d', decoding_format=None, device_id=0, disable_validation=False, distributed_backend='nccl', distributed_init_method=None, distributed_no_spawn=False, distributed_port=-1, distributed_rank=0, distributed_world_size=1, distributed_wrapper='DDP', diverse_beam_groups=-1, diverse_beam_strength=0.5, diversity_rate=-1.0, empty_cache_freq=0, eval_bleu=False, eval_bleu_args=None, eval_bleu_detok='space', eval_bleu_detok_args=None, eval_bleu_print_samples=False, eval_bleu_remove_bpe=None, eval_tokenized_bleu=False, fast_stat_sync=False, find_unused_parameters=False, fix_batches_to_gpus=False, fixed_validation_seed=None, force_anneal=None, fp16=False, fp16_init_scale=128, fp16_no_flatten_grads=False, fp16_scale_tolerance=0.0, fp16_scale_window=None, gen_subset='tmp', iter_decode_eos_penalty=0.0, iter_decode_force_max_iter=False, iter_decode_max_iter=10, iter_decode_with_beam=1, iter_decode_with_external_reranker=False, left_pad_source='True', left_pad_target='False', lenpen=1.0, lm_path=None, lm_weight=0.0, load_alignments=False, localsgd_frequency=3, log_format=None, log_interval=100, lr_scheduler='fixed', lr_shrink=0.1, match_source_len=False, max_len_a=0, max_len_b=200, max_source_positions=1024, max_target_positions=1024, max_tokens=8000, max_tokens_valid=8000, memory_efficient_bf16=False, memory_efficient_fp16=False, min_len=1, min_loss_scale=0.0001, model_overrides=\"{'encoder_embed_path': None, 'decoder_embed_path': None}\", model_parallel_size=1, nbest=1, no_beamable_mm=False, no_early_stop=False, no_progress_bar=False, no_repeat_ngram_size=0, no_seed_provided=False, nprocs_per_node=1, num_batch_buckets=0, num_shards=1, num_workers=1, optimizer=None, path='/content/drive/MyDrive/muss/experiments/fairseq/local_1631567843618/model.pt', pipeline_balance=None, pipeline_checkpoint='never', pipeline_chunks=0, pipeline_decoder_balance=None, pipeline_decoder_devices=None, pipeline_devices=None, pipeline_encoder_balance=None, pipeline_encoder_devices=None, pipeline_model_parallel=False, prefix_size=0, print_alignment=False, print_step=False, profile=False, quantization_config_path=None, quiet=False, remove_bpe=None, replace_unk=None, required_batch_size_multiple=8, required_seq_len_multiple=1, results_path=None, retain_dropout=False, retain_dropout_modules=None, retain_iter_history=False, sacrebleu=False, sampling=False, sampling_topk=-1, sampling_topp=-1.0, score_reference=False, scoring='bleu', seed=1, shard_id=0, skip_invalid_size_inputs_valid_test=True, slowmo_algorithm='LocalSGD', slowmo_momentum=None, source_lang=None, target_lang=None, task='translation', temperature=1.0, tensorboard_logdir=None, threshold_loss_scale=None, tokenizer=None, tpu=False, train_subset='train', truncate_source=False, unkpen=0, unnormalized=False, upsample_primary=1, user_dir=None, valid_subset='valid', validate_after_updates=0, validate_interval=1, validate_interval_updates=0, warmup_updates=0, zero_sharding='none')\n",
            "INFO:fairseq.tasks.translation:[complex] dictionary: 50264 types\n",
            "INFO:fairseq.tasks.translation:[simple] dictionary: 50264 types\n"
          ]
        },
        {
          "output_type": "stream",
          "name": "stdout",
          "text": [
            "| use checkpoint_paths [PosixPath('/content/drive/MyDrive/muss/experiments/fairseq/local_1631567843618/model.pt')]\n"
          ]
        },
        {
          "output_type": "stream",
          "name": "stderr",
          "text": [
            "INFO:fairseq.data.data_utils:loaded 2000 examples from: /tmp/tmpfg4cdpnr/tmp.complex-simple.complex\n",
            "INFO:fairseq.data.data_utils:loaded 2000 examples from: /tmp/tmpfg4cdpnr/tmp.complex-simple.simple\n",
            "INFO:fairseq.tasks.translation:/tmp/tmpfg4cdpnr tmp complex-simple 2000 examples\n",
            "INFO:fairseq_cli.generate:loading model(s) from /content/drive/MyDrive/muss/experiments/fairseq/local_1631567843618/model.pt\n",
            "INFO:fairseq_cli.generate:NOTE: hypothesis and token scores are output in base 2\n",
            "INFO:fairseq_cli.generate:Translated 2000 sentences (39439 tokens) in 98.5s (20.31 sentences/s, 400.42 tokens/s)\n",
            " 10%|█         | 13/128 [28:59<4:43:36, 147.97s/it]"
          ]
        },
        {
          "output_type": "stream",
          "name": "stdout",
          "text": [
            "| IN find_best_parametrization_nevergrad: kwargs.get('generate_kwargs', {}) {}\n",
            "get ref from ( evaluate_simplifier) asset_valid_NER_ABCD\n",
            "test_set in evaluate_simplifier when get ori asset_valid\n",
            "encoder_json_path /content/drive/MyDrive/muss/resources/bart_bpe/encoder.json\n",
            "vocab_bpe_path /content/drive/MyDrive/muss/resources/bart_bpe/vocab.bpe\n"
          ]
        },
        {
          "output_type": "stream",
          "name": "stderr",
          "text": [
            "INFO:fairseq_cli.generate:Namespace(all_gather_list_size=16384, batch_size=None, batch_size_valid=None, beam=5, bf16=False, bpe=None, broadcast_buffers=False, bucket_cap_mb=25, checkpoint_shard_count=1, checkpoint_suffix='', constraints=None, cpu=False, criterion='cross_entropy', curriculum=0, data='/tmp/tmpbc8snbtr', data_buffer_size=10, dataset_impl='raw', ddp_backend='c10d', decoding_format=None, device_id=0, disable_validation=False, distributed_backend='nccl', distributed_init_method=None, distributed_no_spawn=False, distributed_port=-1, distributed_rank=0, distributed_world_size=1, distributed_wrapper='DDP', diverse_beam_groups=-1, diverse_beam_strength=0.5, diversity_rate=-1.0, empty_cache_freq=0, eval_bleu=False, eval_bleu_args=None, eval_bleu_detok='space', eval_bleu_detok_args=None, eval_bleu_print_samples=False, eval_bleu_remove_bpe=None, eval_tokenized_bleu=False, fast_stat_sync=False, find_unused_parameters=False, fix_batches_to_gpus=False, fixed_validation_seed=None, force_anneal=None, fp16=False, fp16_init_scale=128, fp16_no_flatten_grads=False, fp16_scale_tolerance=0.0, fp16_scale_window=None, gen_subset='tmp', iter_decode_eos_penalty=0.0, iter_decode_force_max_iter=False, iter_decode_max_iter=10, iter_decode_with_beam=1, iter_decode_with_external_reranker=False, left_pad_source='True', left_pad_target='False', lenpen=1.0, lm_path=None, lm_weight=0.0, load_alignments=False, localsgd_frequency=3, log_format=None, log_interval=100, lr_scheduler='fixed', lr_shrink=0.1, match_source_len=False, max_len_a=0, max_len_b=200, max_source_positions=1024, max_target_positions=1024, max_tokens=8000, max_tokens_valid=8000, memory_efficient_bf16=False, memory_efficient_fp16=False, min_len=1, min_loss_scale=0.0001, model_overrides=\"{'encoder_embed_path': None, 'decoder_embed_path': None}\", model_parallel_size=1, nbest=1, no_beamable_mm=False, no_early_stop=False, no_progress_bar=False, no_repeat_ngram_size=0, no_seed_provided=False, nprocs_per_node=1, num_batch_buckets=0, num_shards=1, num_workers=1, optimizer=None, path='/content/drive/MyDrive/muss/experiments/fairseq/local_1631567843618/model.pt', pipeline_balance=None, pipeline_checkpoint='never', pipeline_chunks=0, pipeline_decoder_balance=None, pipeline_decoder_devices=None, pipeline_devices=None, pipeline_encoder_balance=None, pipeline_encoder_devices=None, pipeline_model_parallel=False, prefix_size=0, print_alignment=False, print_step=False, profile=False, quantization_config_path=None, quiet=False, remove_bpe=None, replace_unk=None, required_batch_size_multiple=8, required_seq_len_multiple=1, results_path=None, retain_dropout=False, retain_dropout_modules=None, retain_iter_history=False, sacrebleu=False, sampling=False, sampling_topk=-1, sampling_topp=-1.0, score_reference=False, scoring='bleu', seed=1, shard_id=0, skip_invalid_size_inputs_valid_test=True, slowmo_algorithm='LocalSGD', slowmo_momentum=None, source_lang=None, target_lang=None, task='translation', temperature=1.0, tensorboard_logdir=None, threshold_loss_scale=None, tokenizer=None, tpu=False, train_subset='train', truncate_source=False, unkpen=0, unnormalized=False, upsample_primary=1, user_dir=None, valid_subset='valid', validate_after_updates=0, validate_interval=1, validate_interval_updates=0, warmup_updates=0, zero_sharding='none')\n",
            "INFO:fairseq.tasks.translation:[complex] dictionary: 50264 types\n",
            "INFO:fairseq.tasks.translation:[simple] dictionary: 50264 types\n"
          ]
        },
        {
          "output_type": "stream",
          "name": "stdout",
          "text": [
            "| use checkpoint_paths [PosixPath('/content/drive/MyDrive/muss/experiments/fairseq/local_1631567843618/model.pt')]\n"
          ]
        },
        {
          "output_type": "stream",
          "name": "stderr",
          "text": [
            "INFO:fairseq.data.data_utils:loaded 2000 examples from: /tmp/tmpbc8snbtr/tmp.complex-simple.complex\n",
            "INFO:fairseq.data.data_utils:loaded 2000 examples from: /tmp/tmpbc8snbtr/tmp.complex-simple.simple\n",
            "INFO:fairseq.tasks.translation:/tmp/tmpbc8snbtr tmp complex-simple 2000 examples\n",
            "INFO:fairseq_cli.generate:loading model(s) from /content/drive/MyDrive/muss/experiments/fairseq/local_1631567843618/model.pt\n",
            "INFO:fairseq_cli.generate:NOTE: hypothesis and token scores are output in base 2\n",
            "INFO:fairseq_cli.generate:Translated 2000 sentences (47076 tokens) in 111.7s (17.91 sentences/s, 421.49 tokens/s)\n",
            " 11%|█         | 14/128 [31:34<4:45:05, 150.05s/it]"
          ]
        },
        {
          "output_type": "stream",
          "name": "stdout",
          "text": [
            "| IN find_best_parametrization_nevergrad: kwargs.get('generate_kwargs', {}) {}\n",
            "get ref from ( evaluate_simplifier) asset_valid_NER_ABCD\n",
            "test_set in evaluate_simplifier when get ori asset_valid\n",
            "encoder_json_path /content/drive/MyDrive/muss/resources/bart_bpe/encoder.json\n",
            "vocab_bpe_path /content/drive/MyDrive/muss/resources/bart_bpe/vocab.bpe\n"
          ]
        },
        {
          "output_type": "stream",
          "name": "stderr",
          "text": [
            "INFO:fairseq_cli.generate:Namespace(all_gather_list_size=16384, batch_size=None, batch_size_valid=None, beam=5, bf16=False, bpe=None, broadcast_buffers=False, bucket_cap_mb=25, checkpoint_shard_count=1, checkpoint_suffix='', constraints=None, cpu=False, criterion='cross_entropy', curriculum=0, data='/tmp/tmpz6pmlewj', data_buffer_size=10, dataset_impl='raw', ddp_backend='c10d', decoding_format=None, device_id=0, disable_validation=False, distributed_backend='nccl', distributed_init_method=None, distributed_no_spawn=False, distributed_port=-1, distributed_rank=0, distributed_world_size=1, distributed_wrapper='DDP', diverse_beam_groups=-1, diverse_beam_strength=0.5, diversity_rate=-1.0, empty_cache_freq=0, eval_bleu=False, eval_bleu_args=None, eval_bleu_detok='space', eval_bleu_detok_args=None, eval_bleu_print_samples=False, eval_bleu_remove_bpe=None, eval_tokenized_bleu=False, fast_stat_sync=False, find_unused_parameters=False, fix_batches_to_gpus=False, fixed_validation_seed=None, force_anneal=None, fp16=False, fp16_init_scale=128, fp16_no_flatten_grads=False, fp16_scale_tolerance=0.0, fp16_scale_window=None, gen_subset='tmp', iter_decode_eos_penalty=0.0, iter_decode_force_max_iter=False, iter_decode_max_iter=10, iter_decode_with_beam=1, iter_decode_with_external_reranker=False, left_pad_source='True', left_pad_target='False', lenpen=1.0, lm_path=None, lm_weight=0.0, load_alignments=False, localsgd_frequency=3, log_format=None, log_interval=100, lr_scheduler='fixed', lr_shrink=0.1, match_source_len=False, max_len_a=0, max_len_b=200, max_source_positions=1024, max_target_positions=1024, max_tokens=8000, max_tokens_valid=8000, memory_efficient_bf16=False, memory_efficient_fp16=False, min_len=1, min_loss_scale=0.0001, model_overrides=\"{'encoder_embed_path': None, 'decoder_embed_path': None}\", model_parallel_size=1, nbest=1, no_beamable_mm=False, no_early_stop=False, no_progress_bar=False, no_repeat_ngram_size=0, no_seed_provided=False, nprocs_per_node=1, num_batch_buckets=0, num_shards=1, num_workers=1, optimizer=None, path='/content/drive/MyDrive/muss/experiments/fairseq/local_1631567843618/model.pt', pipeline_balance=None, pipeline_checkpoint='never', pipeline_chunks=0, pipeline_decoder_balance=None, pipeline_decoder_devices=None, pipeline_devices=None, pipeline_encoder_balance=None, pipeline_encoder_devices=None, pipeline_model_parallel=False, prefix_size=0, print_alignment=False, print_step=False, profile=False, quantization_config_path=None, quiet=False, remove_bpe=None, replace_unk=None, required_batch_size_multiple=8, required_seq_len_multiple=1, results_path=None, retain_dropout=False, retain_dropout_modules=None, retain_iter_history=False, sacrebleu=False, sampling=False, sampling_topk=-1, sampling_topp=-1.0, score_reference=False, scoring='bleu', seed=1, shard_id=0, skip_invalid_size_inputs_valid_test=True, slowmo_algorithm='LocalSGD', slowmo_momentum=None, source_lang=None, target_lang=None, task='translation', temperature=1.0, tensorboard_logdir=None, threshold_loss_scale=None, tokenizer=None, tpu=False, train_subset='train', truncate_source=False, unkpen=0, unnormalized=False, upsample_primary=1, user_dir=None, valid_subset='valid', validate_after_updates=0, validate_interval=1, validate_interval_updates=0, warmup_updates=0, zero_sharding='none')\n",
            "INFO:fairseq.tasks.translation:[complex] dictionary: 50264 types\n",
            "INFO:fairseq.tasks.translation:[simple] dictionary: 50264 types\n"
          ]
        },
        {
          "output_type": "stream",
          "name": "stdout",
          "text": [
            "| use checkpoint_paths [PosixPath('/content/drive/MyDrive/muss/experiments/fairseq/local_1631567843618/model.pt')]\n"
          ]
        },
        {
          "output_type": "stream",
          "name": "stderr",
          "text": [
            "INFO:fairseq.data.data_utils:loaded 2000 examples from: /tmp/tmpz6pmlewj/tmp.complex-simple.complex\n",
            "INFO:fairseq.data.data_utils:loaded 2000 examples from: /tmp/tmpz6pmlewj/tmp.complex-simple.simple\n",
            "INFO:fairseq.tasks.translation:/tmp/tmpz6pmlewj tmp complex-simple 2000 examples\n",
            "INFO:fairseq_cli.generate:loading model(s) from /content/drive/MyDrive/muss/experiments/fairseq/local_1631567843618/model.pt\n",
            "INFO:fairseq_cli.generate:NOTE: hypothesis and token scores are output in base 2\n",
            "INFO:fairseq_cli.generate:Translated 2000 sentences (46592 tokens) in 111.0s (18.01 sentences/s, 419.58 tokens/s)\n",
            " 12%|█▏        | 15/128 [34:08<4:45:19, 151.50s/it]"
          ]
        },
        {
          "output_type": "stream",
          "name": "stdout",
          "text": [
            "| IN find_best_parametrization_nevergrad: kwargs.get('generate_kwargs', {}) {}\n",
            "get ref from ( evaluate_simplifier) asset_valid_NER_ABCD\n",
            "test_set in evaluate_simplifier when get ori asset_valid\n",
            "encoder_json_path /content/drive/MyDrive/muss/resources/bart_bpe/encoder.json\n",
            "vocab_bpe_path /content/drive/MyDrive/muss/resources/bart_bpe/vocab.bpe\n"
          ]
        },
        {
          "output_type": "stream",
          "name": "stderr",
          "text": [
            "INFO:fairseq_cli.generate:Namespace(all_gather_list_size=16384, batch_size=None, batch_size_valid=None, beam=5, bf16=False, bpe=None, broadcast_buffers=False, bucket_cap_mb=25, checkpoint_shard_count=1, checkpoint_suffix='', constraints=None, cpu=False, criterion='cross_entropy', curriculum=0, data='/tmp/tmpvwjr2mjx', data_buffer_size=10, dataset_impl='raw', ddp_backend='c10d', decoding_format=None, device_id=0, disable_validation=False, distributed_backend='nccl', distributed_init_method=None, distributed_no_spawn=False, distributed_port=-1, distributed_rank=0, distributed_world_size=1, distributed_wrapper='DDP', diverse_beam_groups=-1, diverse_beam_strength=0.5, diversity_rate=-1.0, empty_cache_freq=0, eval_bleu=False, eval_bleu_args=None, eval_bleu_detok='space', eval_bleu_detok_args=None, eval_bleu_print_samples=False, eval_bleu_remove_bpe=None, eval_tokenized_bleu=False, fast_stat_sync=False, find_unused_parameters=False, fix_batches_to_gpus=False, fixed_validation_seed=None, force_anneal=None, fp16=False, fp16_init_scale=128, fp16_no_flatten_grads=False, fp16_scale_tolerance=0.0, fp16_scale_window=None, gen_subset='tmp', iter_decode_eos_penalty=0.0, iter_decode_force_max_iter=False, iter_decode_max_iter=10, iter_decode_with_beam=1, iter_decode_with_external_reranker=False, left_pad_source='True', left_pad_target='False', lenpen=1.0, lm_path=None, lm_weight=0.0, load_alignments=False, localsgd_frequency=3, log_format=None, log_interval=100, lr_scheduler='fixed', lr_shrink=0.1, match_source_len=False, max_len_a=0, max_len_b=200, max_source_positions=1024, max_target_positions=1024, max_tokens=8000, max_tokens_valid=8000, memory_efficient_bf16=False, memory_efficient_fp16=False, min_len=1, min_loss_scale=0.0001, model_overrides=\"{'encoder_embed_path': None, 'decoder_embed_path': None}\", model_parallel_size=1, nbest=1, no_beamable_mm=False, no_early_stop=False, no_progress_bar=False, no_repeat_ngram_size=0, no_seed_provided=False, nprocs_per_node=1, num_batch_buckets=0, num_shards=1, num_workers=1, optimizer=None, path='/content/drive/MyDrive/muss/experiments/fairseq/local_1631567843618/model.pt', pipeline_balance=None, pipeline_checkpoint='never', pipeline_chunks=0, pipeline_decoder_balance=None, pipeline_decoder_devices=None, pipeline_devices=None, pipeline_encoder_balance=None, pipeline_encoder_devices=None, pipeline_model_parallel=False, prefix_size=0, print_alignment=False, print_step=False, profile=False, quantization_config_path=None, quiet=False, remove_bpe=None, replace_unk=None, required_batch_size_multiple=8, required_seq_len_multiple=1, results_path=None, retain_dropout=False, retain_dropout_modules=None, retain_iter_history=False, sacrebleu=False, sampling=False, sampling_topk=-1, sampling_topp=-1.0, score_reference=False, scoring='bleu', seed=1, shard_id=0, skip_invalid_size_inputs_valid_test=True, slowmo_algorithm='LocalSGD', slowmo_momentum=None, source_lang=None, target_lang=None, task='translation', temperature=1.0, tensorboard_logdir=None, threshold_loss_scale=None, tokenizer=None, tpu=False, train_subset='train', truncate_source=False, unkpen=0, unnormalized=False, upsample_primary=1, user_dir=None, valid_subset='valid', validate_after_updates=0, validate_interval=1, validate_interval_updates=0, warmup_updates=0, zero_sharding='none')\n",
            "INFO:fairseq.tasks.translation:[complex] dictionary: 50264 types\n",
            "INFO:fairseq.tasks.translation:[simple] dictionary: 50264 types\n"
          ]
        },
        {
          "output_type": "stream",
          "name": "stdout",
          "text": [
            "| use checkpoint_paths [PosixPath('/content/drive/MyDrive/muss/experiments/fairseq/local_1631567843618/model.pt')]\n"
          ]
        },
        {
          "output_type": "stream",
          "name": "stderr",
          "text": [
            "INFO:fairseq.data.data_utils:loaded 2000 examples from: /tmp/tmpvwjr2mjx/tmp.complex-simple.complex\n",
            "INFO:fairseq.data.data_utils:loaded 2000 examples from: /tmp/tmpvwjr2mjx/tmp.complex-simple.simple\n",
            "INFO:fairseq.tasks.translation:/tmp/tmpvwjr2mjx tmp complex-simple 2000 examples\n",
            "INFO:fairseq_cli.generate:loading model(s) from /content/drive/MyDrive/muss/experiments/fairseq/local_1631567843618/model.pt\n",
            "INFO:fairseq_cli.generate:NOTE: hypothesis and token scores are output in base 2\n",
            "INFO:fairseq_cli.generate:Translated 2000 sentences (46424 tokens) in 110.6s (18.09 sentences/s, 419.83 tokens/s)\n",
            " 12%|█▎        | 16/128 [36:42<4:44:05, 152.19s/it]"
          ]
        },
        {
          "output_type": "stream",
          "name": "stdout",
          "text": [
            "| IN find_best_parametrization_nevergrad: kwargs.get('generate_kwargs', {}) {}\n",
            "get ref from ( evaluate_simplifier) asset_valid_NER_ABCD\n",
            "test_set in evaluate_simplifier when get ori asset_valid\n",
            "encoder_json_path /content/drive/MyDrive/muss/resources/bart_bpe/encoder.json\n",
            "vocab_bpe_path /content/drive/MyDrive/muss/resources/bart_bpe/vocab.bpe\n"
          ]
        },
        {
          "output_type": "stream",
          "name": "stderr",
          "text": [
            "INFO:fairseq_cli.generate:Namespace(all_gather_list_size=16384, batch_size=None, batch_size_valid=None, beam=5, bf16=False, bpe=None, broadcast_buffers=False, bucket_cap_mb=25, checkpoint_shard_count=1, checkpoint_suffix='', constraints=None, cpu=False, criterion='cross_entropy', curriculum=0, data='/tmp/tmp5ho5fejz', data_buffer_size=10, dataset_impl='raw', ddp_backend='c10d', decoding_format=None, device_id=0, disable_validation=False, distributed_backend='nccl', distributed_init_method=None, distributed_no_spawn=False, distributed_port=-1, distributed_rank=0, distributed_world_size=1, distributed_wrapper='DDP', diverse_beam_groups=-1, diverse_beam_strength=0.5, diversity_rate=-1.0, empty_cache_freq=0, eval_bleu=False, eval_bleu_args=None, eval_bleu_detok='space', eval_bleu_detok_args=None, eval_bleu_print_samples=False, eval_bleu_remove_bpe=None, eval_tokenized_bleu=False, fast_stat_sync=False, find_unused_parameters=False, fix_batches_to_gpus=False, fixed_validation_seed=None, force_anneal=None, fp16=False, fp16_init_scale=128, fp16_no_flatten_grads=False, fp16_scale_tolerance=0.0, fp16_scale_window=None, gen_subset='tmp', iter_decode_eos_penalty=0.0, iter_decode_force_max_iter=False, iter_decode_max_iter=10, iter_decode_with_beam=1, iter_decode_with_external_reranker=False, left_pad_source='True', left_pad_target='False', lenpen=1.0, lm_path=None, lm_weight=0.0, load_alignments=False, localsgd_frequency=3, log_format=None, log_interval=100, lr_scheduler='fixed', lr_shrink=0.1, match_source_len=False, max_len_a=0, max_len_b=200, max_source_positions=1024, max_target_positions=1024, max_tokens=8000, max_tokens_valid=8000, memory_efficient_bf16=False, memory_efficient_fp16=False, min_len=1, min_loss_scale=0.0001, model_overrides=\"{'encoder_embed_path': None, 'decoder_embed_path': None}\", model_parallel_size=1, nbest=1, no_beamable_mm=False, no_early_stop=False, no_progress_bar=False, no_repeat_ngram_size=0, no_seed_provided=False, nprocs_per_node=1, num_batch_buckets=0, num_shards=1, num_workers=1, optimizer=None, path='/content/drive/MyDrive/muss/experiments/fairseq/local_1631567843618/model.pt', pipeline_balance=None, pipeline_checkpoint='never', pipeline_chunks=0, pipeline_decoder_balance=None, pipeline_decoder_devices=None, pipeline_devices=None, pipeline_encoder_balance=None, pipeline_encoder_devices=None, pipeline_model_parallel=False, prefix_size=0, print_alignment=False, print_step=False, profile=False, quantization_config_path=None, quiet=False, remove_bpe=None, replace_unk=None, required_batch_size_multiple=8, required_seq_len_multiple=1, results_path=None, retain_dropout=False, retain_dropout_modules=None, retain_iter_history=False, sacrebleu=False, sampling=False, sampling_topk=-1, sampling_topp=-1.0, score_reference=False, scoring='bleu', seed=1, shard_id=0, skip_invalid_size_inputs_valid_test=True, slowmo_algorithm='LocalSGD', slowmo_momentum=None, source_lang=None, target_lang=None, task='translation', temperature=1.0, tensorboard_logdir=None, threshold_loss_scale=None, tokenizer=None, tpu=False, train_subset='train', truncate_source=False, unkpen=0, unnormalized=False, upsample_primary=1, user_dir=None, valid_subset='valid', validate_after_updates=0, validate_interval=1, validate_interval_updates=0, warmup_updates=0, zero_sharding='none')\n",
            "INFO:fairseq.tasks.translation:[complex] dictionary: 50264 types\n",
            "INFO:fairseq.tasks.translation:[simple] dictionary: 50264 types\n"
          ]
        },
        {
          "output_type": "stream",
          "name": "stdout",
          "text": [
            "| use checkpoint_paths [PosixPath('/content/drive/MyDrive/muss/experiments/fairseq/local_1631567843618/model.pt')]\n"
          ]
        },
        {
          "output_type": "stream",
          "name": "stderr",
          "text": [
            "INFO:fairseq.data.data_utils:loaded 2000 examples from: /tmp/tmp5ho5fejz/tmp.complex-simple.complex\n",
            "INFO:fairseq.data.data_utils:loaded 2000 examples from: /tmp/tmp5ho5fejz/tmp.complex-simple.simple\n",
            "INFO:fairseq.tasks.translation:/tmp/tmp5ho5fejz tmp complex-simple 2000 examples\n",
            "INFO:fairseq_cli.generate:loading model(s) from /content/drive/MyDrive/muss/experiments/fairseq/local_1631567843618/model.pt\n",
            "INFO:fairseq_cli.generate:NOTE: hypothesis and token scores are output in base 2\n",
            "INFO:fairseq_cli.generate:Translated 2000 sentences (47772 tokens) in 112.9s (17.72 sentences/s, 423.14 tokens/s)\n",
            " 13%|█▎        | 17/128 [39:18<4:43:41, 153.34s/it]"
          ]
        },
        {
          "output_type": "stream",
          "name": "stdout",
          "text": [
            "| IN find_best_parametrization_nevergrad: kwargs.get('generate_kwargs', {}) {}\n",
            "get ref from ( evaluate_simplifier) asset_valid_NER_ABCD\n",
            "test_set in evaluate_simplifier when get ori asset_valid\n",
            "encoder_json_path /content/drive/MyDrive/muss/resources/bart_bpe/encoder.json\n",
            "vocab_bpe_path /content/drive/MyDrive/muss/resources/bart_bpe/vocab.bpe\n"
          ]
        },
        {
          "output_type": "stream",
          "name": "stderr",
          "text": [
            "INFO:fairseq_cli.generate:Namespace(all_gather_list_size=16384, batch_size=None, batch_size_valid=None, beam=5, bf16=False, bpe=None, broadcast_buffers=False, bucket_cap_mb=25, checkpoint_shard_count=1, checkpoint_suffix='', constraints=None, cpu=False, criterion='cross_entropy', curriculum=0, data='/tmp/tmp432cj4hx', data_buffer_size=10, dataset_impl='raw', ddp_backend='c10d', decoding_format=None, device_id=0, disable_validation=False, distributed_backend='nccl', distributed_init_method=None, distributed_no_spawn=False, distributed_port=-1, distributed_rank=0, distributed_world_size=1, distributed_wrapper='DDP', diverse_beam_groups=-1, diverse_beam_strength=0.5, diversity_rate=-1.0, empty_cache_freq=0, eval_bleu=False, eval_bleu_args=None, eval_bleu_detok='space', eval_bleu_detok_args=None, eval_bleu_print_samples=False, eval_bleu_remove_bpe=None, eval_tokenized_bleu=False, fast_stat_sync=False, find_unused_parameters=False, fix_batches_to_gpus=False, fixed_validation_seed=None, force_anneal=None, fp16=False, fp16_init_scale=128, fp16_no_flatten_grads=False, fp16_scale_tolerance=0.0, fp16_scale_window=None, gen_subset='tmp', iter_decode_eos_penalty=0.0, iter_decode_force_max_iter=False, iter_decode_max_iter=10, iter_decode_with_beam=1, iter_decode_with_external_reranker=False, left_pad_source='True', left_pad_target='False', lenpen=1.0, lm_path=None, lm_weight=0.0, load_alignments=False, localsgd_frequency=3, log_format=None, log_interval=100, lr_scheduler='fixed', lr_shrink=0.1, match_source_len=False, max_len_a=0, max_len_b=200, max_source_positions=1024, max_target_positions=1024, max_tokens=8000, max_tokens_valid=8000, memory_efficient_bf16=False, memory_efficient_fp16=False, min_len=1, min_loss_scale=0.0001, model_overrides=\"{'encoder_embed_path': None, 'decoder_embed_path': None}\", model_parallel_size=1, nbest=1, no_beamable_mm=False, no_early_stop=False, no_progress_bar=False, no_repeat_ngram_size=0, no_seed_provided=False, nprocs_per_node=1, num_batch_buckets=0, num_shards=1, num_workers=1, optimizer=None, path='/content/drive/MyDrive/muss/experiments/fairseq/local_1631567843618/model.pt', pipeline_balance=None, pipeline_checkpoint='never', pipeline_chunks=0, pipeline_decoder_balance=None, pipeline_decoder_devices=None, pipeline_devices=None, pipeline_encoder_balance=None, pipeline_encoder_devices=None, pipeline_model_parallel=False, prefix_size=0, print_alignment=False, print_step=False, profile=False, quantization_config_path=None, quiet=False, remove_bpe=None, replace_unk=None, required_batch_size_multiple=8, required_seq_len_multiple=1, results_path=None, retain_dropout=False, retain_dropout_modules=None, retain_iter_history=False, sacrebleu=False, sampling=False, sampling_topk=-1, sampling_topp=-1.0, score_reference=False, scoring='bleu', seed=1, shard_id=0, skip_invalid_size_inputs_valid_test=True, slowmo_algorithm='LocalSGD', slowmo_momentum=None, source_lang=None, target_lang=None, task='translation', temperature=1.0, tensorboard_logdir=None, threshold_loss_scale=None, tokenizer=None, tpu=False, train_subset='train', truncate_source=False, unkpen=0, unnormalized=False, upsample_primary=1, user_dir=None, valid_subset='valid', validate_after_updates=0, validate_interval=1, validate_interval_updates=0, warmup_updates=0, zero_sharding='none')\n",
            "INFO:fairseq.tasks.translation:[complex] dictionary: 50264 types\n",
            "INFO:fairseq.tasks.translation:[simple] dictionary: 50264 types\n"
          ]
        },
        {
          "output_type": "stream",
          "name": "stdout",
          "text": [
            "| use checkpoint_paths [PosixPath('/content/drive/MyDrive/muss/experiments/fairseq/local_1631567843618/model.pt')]\n"
          ]
        },
        {
          "output_type": "stream",
          "name": "stderr",
          "text": [
            "INFO:fairseq.data.data_utils:loaded 2000 examples from: /tmp/tmp432cj4hx/tmp.complex-simple.complex\n",
            "INFO:fairseq.data.data_utils:loaded 2000 examples from: /tmp/tmp432cj4hx/tmp.complex-simple.simple\n",
            "INFO:fairseq.tasks.translation:/tmp/tmp432cj4hx tmp complex-simple 2000 examples\n",
            "INFO:fairseq_cli.generate:loading model(s) from /content/drive/MyDrive/muss/experiments/fairseq/local_1631567843618/model.pt\n",
            "INFO:fairseq_cli.generate:NOTE: hypothesis and token scores are output in base 2\n",
            "INFO:fairseq_cli.generate:Translated 2000 sentences (54122 tokens) in 126.1s (15.86 sentences/s, 429.28 tokens/s)\n",
            " 14%|█▍        | 18/128 [42:08<4:50:04, 158.22s/it]"
          ]
        },
        {
          "output_type": "stream",
          "name": "stdout",
          "text": [
            "| IN find_best_parametrization_nevergrad: kwargs.get('generate_kwargs', {}) {}\n",
            "get ref from ( evaluate_simplifier) asset_valid_NER_ABCD\n",
            "test_set in evaluate_simplifier when get ori asset_valid\n",
            "encoder_json_path /content/drive/MyDrive/muss/resources/bart_bpe/encoder.json\n",
            "vocab_bpe_path /content/drive/MyDrive/muss/resources/bart_bpe/vocab.bpe\n"
          ]
        },
        {
          "output_type": "stream",
          "name": "stderr",
          "text": [
            "INFO:fairseq_cli.generate:Namespace(all_gather_list_size=16384, batch_size=None, batch_size_valid=None, beam=5, bf16=False, bpe=None, broadcast_buffers=False, bucket_cap_mb=25, checkpoint_shard_count=1, checkpoint_suffix='', constraints=None, cpu=False, criterion='cross_entropy', curriculum=0, data='/tmp/tmpfi8qupz5', data_buffer_size=10, dataset_impl='raw', ddp_backend='c10d', decoding_format=None, device_id=0, disable_validation=False, distributed_backend='nccl', distributed_init_method=None, distributed_no_spawn=False, distributed_port=-1, distributed_rank=0, distributed_world_size=1, distributed_wrapper='DDP', diverse_beam_groups=-1, diverse_beam_strength=0.5, diversity_rate=-1.0, empty_cache_freq=0, eval_bleu=False, eval_bleu_args=None, eval_bleu_detok='space', eval_bleu_detok_args=None, eval_bleu_print_samples=False, eval_bleu_remove_bpe=None, eval_tokenized_bleu=False, fast_stat_sync=False, find_unused_parameters=False, fix_batches_to_gpus=False, fixed_validation_seed=None, force_anneal=None, fp16=False, fp16_init_scale=128, fp16_no_flatten_grads=False, fp16_scale_tolerance=0.0, fp16_scale_window=None, gen_subset='tmp', iter_decode_eos_penalty=0.0, iter_decode_force_max_iter=False, iter_decode_max_iter=10, iter_decode_with_beam=1, iter_decode_with_external_reranker=False, left_pad_source='True', left_pad_target='False', lenpen=1.0, lm_path=None, lm_weight=0.0, load_alignments=False, localsgd_frequency=3, log_format=None, log_interval=100, lr_scheduler='fixed', lr_shrink=0.1, match_source_len=False, max_len_a=0, max_len_b=200, max_source_positions=1024, max_target_positions=1024, max_tokens=8000, max_tokens_valid=8000, memory_efficient_bf16=False, memory_efficient_fp16=False, min_len=1, min_loss_scale=0.0001, model_overrides=\"{'encoder_embed_path': None, 'decoder_embed_path': None}\", model_parallel_size=1, nbest=1, no_beamable_mm=False, no_early_stop=False, no_progress_bar=False, no_repeat_ngram_size=0, no_seed_provided=False, nprocs_per_node=1, num_batch_buckets=0, num_shards=1, num_workers=1, optimizer=None, path='/content/drive/MyDrive/muss/experiments/fairseq/local_1631567843618/model.pt', pipeline_balance=None, pipeline_checkpoint='never', pipeline_chunks=0, pipeline_decoder_balance=None, pipeline_decoder_devices=None, pipeline_devices=None, pipeline_encoder_balance=None, pipeline_encoder_devices=None, pipeline_model_parallel=False, prefix_size=0, print_alignment=False, print_step=False, profile=False, quantization_config_path=None, quiet=False, remove_bpe=None, replace_unk=None, required_batch_size_multiple=8, required_seq_len_multiple=1, results_path=None, retain_dropout=False, retain_dropout_modules=None, retain_iter_history=False, sacrebleu=False, sampling=False, sampling_topk=-1, sampling_topp=-1.0, score_reference=False, scoring='bleu', seed=1, shard_id=0, skip_invalid_size_inputs_valid_test=True, slowmo_algorithm='LocalSGD', slowmo_momentum=None, source_lang=None, target_lang=None, task='translation', temperature=1.0, tensorboard_logdir=None, threshold_loss_scale=None, tokenizer=None, tpu=False, train_subset='train', truncate_source=False, unkpen=0, unnormalized=False, upsample_primary=1, user_dir=None, valid_subset='valid', validate_after_updates=0, validate_interval=1, validate_interval_updates=0, warmup_updates=0, zero_sharding='none')\n",
            "INFO:fairseq.tasks.translation:[complex] dictionary: 50264 types\n",
            "INFO:fairseq.tasks.translation:[simple] dictionary: 50264 types\n"
          ]
        },
        {
          "output_type": "stream",
          "name": "stdout",
          "text": [
            "| use checkpoint_paths [PosixPath('/content/drive/MyDrive/muss/experiments/fairseq/local_1631567843618/model.pt')]\n"
          ]
        },
        {
          "output_type": "stream",
          "name": "stderr",
          "text": [
            "INFO:fairseq.data.data_utils:loaded 2000 examples from: /tmp/tmpfi8qupz5/tmp.complex-simple.complex\n",
            "INFO:fairseq.data.data_utils:loaded 2000 examples from: /tmp/tmpfi8qupz5/tmp.complex-simple.simple\n",
            "INFO:fairseq.tasks.translation:/tmp/tmpfi8qupz5 tmp complex-simple 2000 examples\n",
            "INFO:fairseq_cli.generate:loading model(s) from /content/drive/MyDrive/muss/experiments/fairseq/local_1631567843618/model.pt\n",
            "INFO:fairseq_cli.generate:NOTE: hypothesis and token scores are output in base 2\n",
            "INFO:fairseq_cli.generate:Translated 2000 sentences (44390 tokens) in 106.5s (18.78 sentences/s, 416.89 tokens/s)\n",
            " 15%|█▍        | 19/128 [44:38<4:42:50, 155.69s/it]"
          ]
        },
        {
          "output_type": "stream",
          "name": "stdout",
          "text": [
            "| IN find_best_parametrization_nevergrad: kwargs.get('generate_kwargs', {}) {}\n",
            "get ref from ( evaluate_simplifier) asset_valid_NER_ABCD\n",
            "test_set in evaluate_simplifier when get ori asset_valid\n",
            "encoder_json_path /content/drive/MyDrive/muss/resources/bart_bpe/encoder.json\n",
            "vocab_bpe_path /content/drive/MyDrive/muss/resources/bart_bpe/vocab.bpe\n"
          ]
        },
        {
          "output_type": "stream",
          "name": "stderr",
          "text": [
            "INFO:fairseq_cli.generate:Namespace(all_gather_list_size=16384, batch_size=None, batch_size_valid=None, beam=5, bf16=False, bpe=None, broadcast_buffers=False, bucket_cap_mb=25, checkpoint_shard_count=1, checkpoint_suffix='', constraints=None, cpu=False, criterion='cross_entropy', curriculum=0, data='/tmp/tmpb08w117j', data_buffer_size=10, dataset_impl='raw', ddp_backend='c10d', decoding_format=None, device_id=0, disable_validation=False, distributed_backend='nccl', distributed_init_method=None, distributed_no_spawn=False, distributed_port=-1, distributed_rank=0, distributed_world_size=1, distributed_wrapper='DDP', diverse_beam_groups=-1, diverse_beam_strength=0.5, diversity_rate=-1.0, empty_cache_freq=0, eval_bleu=False, eval_bleu_args=None, eval_bleu_detok='space', eval_bleu_detok_args=None, eval_bleu_print_samples=False, eval_bleu_remove_bpe=None, eval_tokenized_bleu=False, fast_stat_sync=False, find_unused_parameters=False, fix_batches_to_gpus=False, fixed_validation_seed=None, force_anneal=None, fp16=False, fp16_init_scale=128, fp16_no_flatten_grads=False, fp16_scale_tolerance=0.0, fp16_scale_window=None, gen_subset='tmp', iter_decode_eos_penalty=0.0, iter_decode_force_max_iter=False, iter_decode_max_iter=10, iter_decode_with_beam=1, iter_decode_with_external_reranker=False, left_pad_source='True', left_pad_target='False', lenpen=1.0, lm_path=None, lm_weight=0.0, load_alignments=False, localsgd_frequency=3, log_format=None, log_interval=100, lr_scheduler='fixed', lr_shrink=0.1, match_source_len=False, max_len_a=0, max_len_b=200, max_source_positions=1024, max_target_positions=1024, max_tokens=8000, max_tokens_valid=8000, memory_efficient_bf16=False, memory_efficient_fp16=False, min_len=1, min_loss_scale=0.0001, model_overrides=\"{'encoder_embed_path': None, 'decoder_embed_path': None}\", model_parallel_size=1, nbest=1, no_beamable_mm=False, no_early_stop=False, no_progress_bar=False, no_repeat_ngram_size=0, no_seed_provided=False, nprocs_per_node=1, num_batch_buckets=0, num_shards=1, num_workers=1, optimizer=None, path='/content/drive/MyDrive/muss/experiments/fairseq/local_1631567843618/model.pt', pipeline_balance=None, pipeline_checkpoint='never', pipeline_chunks=0, pipeline_decoder_balance=None, pipeline_decoder_devices=None, pipeline_devices=None, pipeline_encoder_balance=None, pipeline_encoder_devices=None, pipeline_model_parallel=False, prefix_size=0, print_alignment=False, print_step=False, profile=False, quantization_config_path=None, quiet=False, remove_bpe=None, replace_unk=None, required_batch_size_multiple=8, required_seq_len_multiple=1, results_path=None, retain_dropout=False, retain_dropout_modules=None, retain_iter_history=False, sacrebleu=False, sampling=False, sampling_topk=-1, sampling_topp=-1.0, score_reference=False, scoring='bleu', seed=1, shard_id=0, skip_invalid_size_inputs_valid_test=True, slowmo_algorithm='LocalSGD', slowmo_momentum=None, source_lang=None, target_lang=None, task='translation', temperature=1.0, tensorboard_logdir=None, threshold_loss_scale=None, tokenizer=None, tpu=False, train_subset='train', truncate_source=False, unkpen=0, unnormalized=False, upsample_primary=1, user_dir=None, valid_subset='valid', validate_after_updates=0, validate_interval=1, validate_interval_updates=0, warmup_updates=0, zero_sharding='none')\n",
            "INFO:fairseq.tasks.translation:[complex] dictionary: 50264 types\n",
            "INFO:fairseq.tasks.translation:[simple] dictionary: 50264 types\n"
          ]
        },
        {
          "output_type": "stream",
          "name": "stdout",
          "text": [
            "| use checkpoint_paths [PosixPath('/content/drive/MyDrive/muss/experiments/fairseq/local_1631567843618/model.pt')]\n"
          ]
        },
        {
          "output_type": "stream",
          "name": "stderr",
          "text": [
            "INFO:fairseq.data.data_utils:loaded 2000 examples from: /tmp/tmpb08w117j/tmp.complex-simple.complex\n",
            "INFO:fairseq.data.data_utils:loaded 2000 examples from: /tmp/tmpb08w117j/tmp.complex-simple.simple\n",
            "INFO:fairseq.tasks.translation:/tmp/tmpb08w117j tmp complex-simple 2000 examples\n",
            "INFO:fairseq_cli.generate:loading model(s) from /content/drive/MyDrive/muss/experiments/fairseq/local_1631567843618/model.pt\n",
            "INFO:fairseq_cli.generate:NOTE: hypothesis and token scores are output in base 2\n",
            "INFO:fairseq_cli.generate:Translated 2000 sentences (46827 tokens) in 111.0s (18.02 sentences/s, 421.82 tokens/s)\n",
            " 16%|█▌        | 20/128 [47:12<4:39:27, 155.25s/it]"
          ]
        },
        {
          "output_type": "stream",
          "name": "stdout",
          "text": [
            "| IN find_best_parametrization_nevergrad: kwargs.get('generate_kwargs', {}) {}\n",
            "get ref from ( evaluate_simplifier) asset_valid_NER_ABCD\n",
            "test_set in evaluate_simplifier when get ori asset_valid\n",
            "encoder_json_path /content/drive/MyDrive/muss/resources/bart_bpe/encoder.json\n",
            "vocab_bpe_path /content/drive/MyDrive/muss/resources/bart_bpe/vocab.bpe\n"
          ]
        },
        {
          "output_type": "stream",
          "name": "stderr",
          "text": [
            "INFO:fairseq_cli.generate:Namespace(all_gather_list_size=16384, batch_size=None, batch_size_valid=None, beam=5, bf16=False, bpe=None, broadcast_buffers=False, bucket_cap_mb=25, checkpoint_shard_count=1, checkpoint_suffix='', constraints=None, cpu=False, criterion='cross_entropy', curriculum=0, data='/tmp/tmpt6amkkac', data_buffer_size=10, dataset_impl='raw', ddp_backend='c10d', decoding_format=None, device_id=0, disable_validation=False, distributed_backend='nccl', distributed_init_method=None, distributed_no_spawn=False, distributed_port=-1, distributed_rank=0, distributed_world_size=1, distributed_wrapper='DDP', diverse_beam_groups=-1, diverse_beam_strength=0.5, diversity_rate=-1.0, empty_cache_freq=0, eval_bleu=False, eval_bleu_args=None, eval_bleu_detok='space', eval_bleu_detok_args=None, eval_bleu_print_samples=False, eval_bleu_remove_bpe=None, eval_tokenized_bleu=False, fast_stat_sync=False, find_unused_parameters=False, fix_batches_to_gpus=False, fixed_validation_seed=None, force_anneal=None, fp16=False, fp16_init_scale=128, fp16_no_flatten_grads=False, fp16_scale_tolerance=0.0, fp16_scale_window=None, gen_subset='tmp', iter_decode_eos_penalty=0.0, iter_decode_force_max_iter=False, iter_decode_max_iter=10, iter_decode_with_beam=1, iter_decode_with_external_reranker=False, left_pad_source='True', left_pad_target='False', lenpen=1.0, lm_path=None, lm_weight=0.0, load_alignments=False, localsgd_frequency=3, log_format=None, log_interval=100, lr_scheduler='fixed', lr_shrink=0.1, match_source_len=False, max_len_a=0, max_len_b=200, max_source_positions=1024, max_target_positions=1024, max_tokens=8000, max_tokens_valid=8000, memory_efficient_bf16=False, memory_efficient_fp16=False, min_len=1, min_loss_scale=0.0001, model_overrides=\"{'encoder_embed_path': None, 'decoder_embed_path': None}\", model_parallel_size=1, nbest=1, no_beamable_mm=False, no_early_stop=False, no_progress_bar=False, no_repeat_ngram_size=0, no_seed_provided=False, nprocs_per_node=1, num_batch_buckets=0, num_shards=1, num_workers=1, optimizer=None, path='/content/drive/MyDrive/muss/experiments/fairseq/local_1631567843618/model.pt', pipeline_balance=None, pipeline_checkpoint='never', pipeline_chunks=0, pipeline_decoder_balance=None, pipeline_decoder_devices=None, pipeline_devices=None, pipeline_encoder_balance=None, pipeline_encoder_devices=None, pipeline_model_parallel=False, prefix_size=0, print_alignment=False, print_step=False, profile=False, quantization_config_path=None, quiet=False, remove_bpe=None, replace_unk=None, required_batch_size_multiple=8, required_seq_len_multiple=1, results_path=None, retain_dropout=False, retain_dropout_modules=None, retain_iter_history=False, sacrebleu=False, sampling=False, sampling_topk=-1, sampling_topp=-1.0, score_reference=False, scoring='bleu', seed=1, shard_id=0, skip_invalid_size_inputs_valid_test=True, slowmo_algorithm='LocalSGD', slowmo_momentum=None, source_lang=None, target_lang=None, task='translation', temperature=1.0, tensorboard_logdir=None, threshold_loss_scale=None, tokenizer=None, tpu=False, train_subset='train', truncate_source=False, unkpen=0, unnormalized=False, upsample_primary=1, user_dir=None, valid_subset='valid', validate_after_updates=0, validate_interval=1, validate_interval_updates=0, warmup_updates=0, zero_sharding='none')\n",
            "INFO:fairseq.tasks.translation:[complex] dictionary: 50264 types\n",
            "INFO:fairseq.tasks.translation:[simple] dictionary: 50264 types\n"
          ]
        },
        {
          "output_type": "stream",
          "name": "stdout",
          "text": [
            "| use checkpoint_paths [PosixPath('/content/drive/MyDrive/muss/experiments/fairseq/local_1631567843618/model.pt')]\n"
          ]
        },
        {
          "output_type": "stream",
          "name": "stderr",
          "text": [
            "INFO:fairseq.data.data_utils:loaded 2000 examples from: /tmp/tmpt6amkkac/tmp.complex-simple.complex\n",
            "INFO:fairseq.data.data_utils:loaded 2000 examples from: /tmp/tmpt6amkkac/tmp.complex-simple.simple\n",
            "INFO:fairseq.tasks.translation:/tmp/tmpt6amkkac tmp complex-simple 2000 examples\n",
            "INFO:fairseq_cli.generate:loading model(s) from /content/drive/MyDrive/muss/experiments/fairseq/local_1631567843618/model.pt\n",
            "INFO:fairseq_cli.generate:NOTE: hypothesis and token scores are output in base 2\n",
            "INFO:fairseq_cli.generate:Translated 2000 sentences (47000 tokens) in 111.5s (17.94 sentences/s, 421.56 tokens/s)\n",
            " 16%|█▋        | 21/128 [49:47<4:36:37, 155.11s/it]"
          ]
        },
        {
          "output_type": "stream",
          "name": "stdout",
          "text": [
            "| IN find_best_parametrization_nevergrad: kwargs.get('generate_kwargs', {}) {}\n",
            "get ref from ( evaluate_simplifier) asset_valid_NER_ABCD\n",
            "test_set in evaluate_simplifier when get ori asset_valid\n",
            "encoder_json_path /content/drive/MyDrive/muss/resources/bart_bpe/encoder.json\n",
            "vocab_bpe_path /content/drive/MyDrive/muss/resources/bart_bpe/vocab.bpe\n"
          ]
        },
        {
          "output_type": "stream",
          "name": "stderr",
          "text": [
            "INFO:fairseq_cli.generate:Namespace(all_gather_list_size=16384, batch_size=None, batch_size_valid=None, beam=5, bf16=False, bpe=None, broadcast_buffers=False, bucket_cap_mb=25, checkpoint_shard_count=1, checkpoint_suffix='', constraints=None, cpu=False, criterion='cross_entropy', curriculum=0, data='/tmp/tmpp5vre_xm', data_buffer_size=10, dataset_impl='raw', ddp_backend='c10d', decoding_format=None, device_id=0, disable_validation=False, distributed_backend='nccl', distributed_init_method=None, distributed_no_spawn=False, distributed_port=-1, distributed_rank=0, distributed_world_size=1, distributed_wrapper='DDP', diverse_beam_groups=-1, diverse_beam_strength=0.5, diversity_rate=-1.0, empty_cache_freq=0, eval_bleu=False, eval_bleu_args=None, eval_bleu_detok='space', eval_bleu_detok_args=None, eval_bleu_print_samples=False, eval_bleu_remove_bpe=None, eval_tokenized_bleu=False, fast_stat_sync=False, find_unused_parameters=False, fix_batches_to_gpus=False, fixed_validation_seed=None, force_anneal=None, fp16=False, fp16_init_scale=128, fp16_no_flatten_grads=False, fp16_scale_tolerance=0.0, fp16_scale_window=None, gen_subset='tmp', iter_decode_eos_penalty=0.0, iter_decode_force_max_iter=False, iter_decode_max_iter=10, iter_decode_with_beam=1, iter_decode_with_external_reranker=False, left_pad_source='True', left_pad_target='False', lenpen=1.0, lm_path=None, lm_weight=0.0, load_alignments=False, localsgd_frequency=3, log_format=None, log_interval=100, lr_scheduler='fixed', lr_shrink=0.1, match_source_len=False, max_len_a=0, max_len_b=200, max_source_positions=1024, max_target_positions=1024, max_tokens=8000, max_tokens_valid=8000, memory_efficient_bf16=False, memory_efficient_fp16=False, min_len=1, min_loss_scale=0.0001, model_overrides=\"{'encoder_embed_path': None, 'decoder_embed_path': None}\", model_parallel_size=1, nbest=1, no_beamable_mm=False, no_early_stop=False, no_progress_bar=False, no_repeat_ngram_size=0, no_seed_provided=False, nprocs_per_node=1, num_batch_buckets=0, num_shards=1, num_workers=1, optimizer=None, path='/content/drive/MyDrive/muss/experiments/fairseq/local_1631567843618/model.pt', pipeline_balance=None, pipeline_checkpoint='never', pipeline_chunks=0, pipeline_decoder_balance=None, pipeline_decoder_devices=None, pipeline_devices=None, pipeline_encoder_balance=None, pipeline_encoder_devices=None, pipeline_model_parallel=False, prefix_size=0, print_alignment=False, print_step=False, profile=False, quantization_config_path=None, quiet=False, remove_bpe=None, replace_unk=None, required_batch_size_multiple=8, required_seq_len_multiple=1, results_path=None, retain_dropout=False, retain_dropout_modules=None, retain_iter_history=False, sacrebleu=False, sampling=False, sampling_topk=-1, sampling_topp=-1.0, score_reference=False, scoring='bleu', seed=1, shard_id=0, skip_invalid_size_inputs_valid_test=True, slowmo_algorithm='LocalSGD', slowmo_momentum=None, source_lang=None, target_lang=None, task='translation', temperature=1.0, tensorboard_logdir=None, threshold_loss_scale=None, tokenizer=None, tpu=False, train_subset='train', truncate_source=False, unkpen=0, unnormalized=False, upsample_primary=1, user_dir=None, valid_subset='valid', validate_after_updates=0, validate_interval=1, validate_interval_updates=0, warmup_updates=0, zero_sharding='none')\n",
            "INFO:fairseq.tasks.translation:[complex] dictionary: 50264 types\n",
            "INFO:fairseq.tasks.translation:[simple] dictionary: 50264 types\n"
          ]
        },
        {
          "output_type": "stream",
          "name": "stdout",
          "text": [
            "| use checkpoint_paths [PosixPath('/content/drive/MyDrive/muss/experiments/fairseq/local_1631567843618/model.pt')]\n"
          ]
        },
        {
          "output_type": "stream",
          "name": "stderr",
          "text": [
            "INFO:fairseq.data.data_utils:loaded 2000 examples from: /tmp/tmpp5vre_xm/tmp.complex-simple.complex\n",
            "INFO:fairseq.data.data_utils:loaded 2000 examples from: /tmp/tmpp5vre_xm/tmp.complex-simple.simple\n",
            "INFO:fairseq.tasks.translation:/tmp/tmpp5vre_xm tmp complex-simple 2000 examples\n",
            "INFO:fairseq_cli.generate:loading model(s) from /content/drive/MyDrive/muss/experiments/fairseq/local_1631567843618/model.pt\n",
            "INFO:fairseq_cli.generate:NOTE: hypothesis and token scores are output in base 2\n",
            "INFO:fairseq_cli.generate:Translated 2000 sentences (47000 tokens) in 111.8s (17.90 sentences/s, 420.57 tokens/s)\n",
            " 17%|█▋        | 22/128 [52:22<4:33:57, 155.07s/it]"
          ]
        },
        {
          "output_type": "stream",
          "name": "stdout",
          "text": [
            "| IN find_best_parametrization_nevergrad: kwargs.get('generate_kwargs', {}) {}\n",
            "get ref from ( evaluate_simplifier) asset_valid_NER_ABCD\n",
            "test_set in evaluate_simplifier when get ori asset_valid\n",
            "encoder_json_path /content/drive/MyDrive/muss/resources/bart_bpe/encoder.json\n",
            "vocab_bpe_path /content/drive/MyDrive/muss/resources/bart_bpe/vocab.bpe\n"
          ]
        },
        {
          "output_type": "stream",
          "name": "stderr",
          "text": [
            "INFO:fairseq_cli.generate:Namespace(all_gather_list_size=16384, batch_size=None, batch_size_valid=None, beam=5, bf16=False, bpe=None, broadcast_buffers=False, bucket_cap_mb=25, checkpoint_shard_count=1, checkpoint_suffix='', constraints=None, cpu=False, criterion='cross_entropy', curriculum=0, data='/tmp/tmpdrh7js21', data_buffer_size=10, dataset_impl='raw', ddp_backend='c10d', decoding_format=None, device_id=0, disable_validation=False, distributed_backend='nccl', distributed_init_method=None, distributed_no_spawn=False, distributed_port=-1, distributed_rank=0, distributed_world_size=1, distributed_wrapper='DDP', diverse_beam_groups=-1, diverse_beam_strength=0.5, diversity_rate=-1.0, empty_cache_freq=0, eval_bleu=False, eval_bleu_args=None, eval_bleu_detok='space', eval_bleu_detok_args=None, eval_bleu_print_samples=False, eval_bleu_remove_bpe=None, eval_tokenized_bleu=False, fast_stat_sync=False, find_unused_parameters=False, fix_batches_to_gpus=False, fixed_validation_seed=None, force_anneal=None, fp16=False, fp16_init_scale=128, fp16_no_flatten_grads=False, fp16_scale_tolerance=0.0, fp16_scale_window=None, gen_subset='tmp', iter_decode_eos_penalty=0.0, iter_decode_force_max_iter=False, iter_decode_max_iter=10, iter_decode_with_beam=1, iter_decode_with_external_reranker=False, left_pad_source='True', left_pad_target='False', lenpen=1.0, lm_path=None, lm_weight=0.0, load_alignments=False, localsgd_frequency=3, log_format=None, log_interval=100, lr_scheduler='fixed', lr_shrink=0.1, match_source_len=False, max_len_a=0, max_len_b=200, max_source_positions=1024, max_target_positions=1024, max_tokens=8000, max_tokens_valid=8000, memory_efficient_bf16=False, memory_efficient_fp16=False, min_len=1, min_loss_scale=0.0001, model_overrides=\"{'encoder_embed_path': None, 'decoder_embed_path': None}\", model_parallel_size=1, nbest=1, no_beamable_mm=False, no_early_stop=False, no_progress_bar=False, no_repeat_ngram_size=0, no_seed_provided=False, nprocs_per_node=1, num_batch_buckets=0, num_shards=1, num_workers=1, optimizer=None, path='/content/drive/MyDrive/muss/experiments/fairseq/local_1631567843618/model.pt', pipeline_balance=None, pipeline_checkpoint='never', pipeline_chunks=0, pipeline_decoder_balance=None, pipeline_decoder_devices=None, pipeline_devices=None, pipeline_encoder_balance=None, pipeline_encoder_devices=None, pipeline_model_parallel=False, prefix_size=0, print_alignment=False, print_step=False, profile=False, quantization_config_path=None, quiet=False, remove_bpe=None, replace_unk=None, required_batch_size_multiple=8, required_seq_len_multiple=1, results_path=None, retain_dropout=False, retain_dropout_modules=None, retain_iter_history=False, sacrebleu=False, sampling=False, sampling_topk=-1, sampling_topp=-1.0, score_reference=False, scoring='bleu', seed=1, shard_id=0, skip_invalid_size_inputs_valid_test=True, slowmo_algorithm='LocalSGD', slowmo_momentum=None, source_lang=None, target_lang=None, task='translation', temperature=1.0, tensorboard_logdir=None, threshold_loss_scale=None, tokenizer=None, tpu=False, train_subset='train', truncate_source=False, unkpen=0, unnormalized=False, upsample_primary=1, user_dir=None, valid_subset='valid', validate_after_updates=0, validate_interval=1, validate_interval_updates=0, warmup_updates=0, zero_sharding='none')\n",
            "INFO:fairseq.tasks.translation:[complex] dictionary: 50264 types\n",
            "INFO:fairseq.tasks.translation:[simple] dictionary: 50264 types\n"
          ]
        },
        {
          "output_type": "stream",
          "name": "stdout",
          "text": [
            "| use checkpoint_paths [PosixPath('/content/drive/MyDrive/muss/experiments/fairseq/local_1631567843618/model.pt')]\n"
          ]
        },
        {
          "output_type": "stream",
          "name": "stderr",
          "text": [
            "INFO:fairseq.data.data_utils:loaded 2000 examples from: /tmp/tmpdrh7js21/tmp.complex-simple.complex\n",
            "INFO:fairseq.data.data_utils:loaded 2000 examples from: /tmp/tmpdrh7js21/tmp.complex-simple.simple\n",
            "INFO:fairseq.tasks.translation:/tmp/tmpdrh7js21 tmp complex-simple 2000 examples\n",
            "INFO:fairseq_cli.generate:loading model(s) from /content/drive/MyDrive/muss/experiments/fairseq/local_1631567843618/model.pt\n",
            "INFO:fairseq_cli.generate:NOTE: hypothesis and token scores are output in base 2\n",
            "INFO:fairseq_cli.generate:Translated 2000 sentences (44825 tokens) in 107.5s (18.60 sentences/s, 416.84 tokens/s)\n",
            " 18%|█▊        | 23/128 [54:52<4:29:07, 153.79s/it]"
          ]
        },
        {
          "output_type": "stream",
          "name": "stdout",
          "text": [
            "| IN find_best_parametrization_nevergrad: kwargs.get('generate_kwargs', {}) {}\n",
            "get ref from ( evaluate_simplifier) asset_valid_NER_ABCD\n",
            "test_set in evaluate_simplifier when get ori asset_valid\n",
            "encoder_json_path /content/drive/MyDrive/muss/resources/bart_bpe/encoder.json\n",
            "vocab_bpe_path /content/drive/MyDrive/muss/resources/bart_bpe/vocab.bpe\n"
          ]
        },
        {
          "output_type": "stream",
          "name": "stderr",
          "text": [
            "INFO:fairseq_cli.generate:Namespace(all_gather_list_size=16384, batch_size=None, batch_size_valid=None, beam=5, bf16=False, bpe=None, broadcast_buffers=False, bucket_cap_mb=25, checkpoint_shard_count=1, checkpoint_suffix='', constraints=None, cpu=False, criterion='cross_entropy', curriculum=0, data='/tmp/tmp233o84h8', data_buffer_size=10, dataset_impl='raw', ddp_backend='c10d', decoding_format=None, device_id=0, disable_validation=False, distributed_backend='nccl', distributed_init_method=None, distributed_no_spawn=False, distributed_port=-1, distributed_rank=0, distributed_world_size=1, distributed_wrapper='DDP', diverse_beam_groups=-1, diverse_beam_strength=0.5, diversity_rate=-1.0, empty_cache_freq=0, eval_bleu=False, eval_bleu_args=None, eval_bleu_detok='space', eval_bleu_detok_args=None, eval_bleu_print_samples=False, eval_bleu_remove_bpe=None, eval_tokenized_bleu=False, fast_stat_sync=False, find_unused_parameters=False, fix_batches_to_gpus=False, fixed_validation_seed=None, force_anneal=None, fp16=False, fp16_init_scale=128, fp16_no_flatten_grads=False, fp16_scale_tolerance=0.0, fp16_scale_window=None, gen_subset='tmp', iter_decode_eos_penalty=0.0, iter_decode_force_max_iter=False, iter_decode_max_iter=10, iter_decode_with_beam=1, iter_decode_with_external_reranker=False, left_pad_source='True', left_pad_target='False', lenpen=1.0, lm_path=None, lm_weight=0.0, load_alignments=False, localsgd_frequency=3, log_format=None, log_interval=100, lr_scheduler='fixed', lr_shrink=0.1, match_source_len=False, max_len_a=0, max_len_b=200, max_source_positions=1024, max_target_positions=1024, max_tokens=8000, max_tokens_valid=8000, memory_efficient_bf16=False, memory_efficient_fp16=False, min_len=1, min_loss_scale=0.0001, model_overrides=\"{'encoder_embed_path': None, 'decoder_embed_path': None}\", model_parallel_size=1, nbest=1, no_beamable_mm=False, no_early_stop=False, no_progress_bar=False, no_repeat_ngram_size=0, no_seed_provided=False, nprocs_per_node=1, num_batch_buckets=0, num_shards=1, num_workers=1, optimizer=None, path='/content/drive/MyDrive/muss/experiments/fairseq/local_1631567843618/model.pt', pipeline_balance=None, pipeline_checkpoint='never', pipeline_chunks=0, pipeline_decoder_balance=None, pipeline_decoder_devices=None, pipeline_devices=None, pipeline_encoder_balance=None, pipeline_encoder_devices=None, pipeline_model_parallel=False, prefix_size=0, print_alignment=False, print_step=False, profile=False, quantization_config_path=None, quiet=False, remove_bpe=None, replace_unk=None, required_batch_size_multiple=8, required_seq_len_multiple=1, results_path=None, retain_dropout=False, retain_dropout_modules=None, retain_iter_history=False, sacrebleu=False, sampling=False, sampling_topk=-1, sampling_topp=-1.0, score_reference=False, scoring='bleu', seed=1, shard_id=0, skip_invalid_size_inputs_valid_test=True, slowmo_algorithm='LocalSGD', slowmo_momentum=None, source_lang=None, target_lang=None, task='translation', temperature=1.0, tensorboard_logdir=None, threshold_loss_scale=None, tokenizer=None, tpu=False, train_subset='train', truncate_source=False, unkpen=0, unnormalized=False, upsample_primary=1, user_dir=None, valid_subset='valid', validate_after_updates=0, validate_interval=1, validate_interval_updates=0, warmup_updates=0, zero_sharding='none')\n",
            "INFO:fairseq.tasks.translation:[complex] dictionary: 50264 types\n",
            "INFO:fairseq.tasks.translation:[simple] dictionary: 50264 types\n"
          ]
        },
        {
          "output_type": "stream",
          "name": "stdout",
          "text": [
            "| use checkpoint_paths [PosixPath('/content/drive/MyDrive/muss/experiments/fairseq/local_1631567843618/model.pt')]\n"
          ]
        },
        {
          "output_type": "stream",
          "name": "stderr",
          "text": [
            "INFO:fairseq.data.data_utils:loaded 2000 examples from: /tmp/tmp233o84h8/tmp.complex-simple.complex\n",
            "INFO:fairseq.data.data_utils:loaded 2000 examples from: /tmp/tmp233o84h8/tmp.complex-simple.simple\n",
            "INFO:fairseq.tasks.translation:/tmp/tmp233o84h8 tmp complex-simple 2000 examples\n",
            "INFO:fairseq_cli.generate:loading model(s) from /content/drive/MyDrive/muss/experiments/fairseq/local_1631567843618/model.pt\n",
            "INFO:fairseq_cli.generate:NOTE: hypothesis and token scores are output in base 2\n",
            "INFO:fairseq_cli.generate:Translated 2000 sentences (46978 tokens) in 111.1s (18.00 sentences/s, 422.77 tokens/s)\n",
            " 19%|█▉        | 24/128 [57:27<4:27:04, 154.08s/it]"
          ]
        },
        {
          "output_type": "stream",
          "name": "stdout",
          "text": [
            "| IN find_best_parametrization_nevergrad: kwargs.get('generate_kwargs', {}) {}\n",
            "get ref from ( evaluate_simplifier) asset_valid_NER_ABCD\n",
            "test_set in evaluate_simplifier when get ori asset_valid\n",
            "encoder_json_path /content/drive/MyDrive/muss/resources/bart_bpe/encoder.json\n",
            "vocab_bpe_path /content/drive/MyDrive/muss/resources/bart_bpe/vocab.bpe\n"
          ]
        },
        {
          "output_type": "stream",
          "name": "stderr",
          "text": [
            "INFO:fairseq_cli.generate:Namespace(all_gather_list_size=16384, batch_size=None, batch_size_valid=None, beam=5, bf16=False, bpe=None, broadcast_buffers=False, bucket_cap_mb=25, checkpoint_shard_count=1, checkpoint_suffix='', constraints=None, cpu=False, criterion='cross_entropy', curriculum=0, data='/tmp/tmpu_fo93xq', data_buffer_size=10, dataset_impl='raw', ddp_backend='c10d', decoding_format=None, device_id=0, disable_validation=False, distributed_backend='nccl', distributed_init_method=None, distributed_no_spawn=False, distributed_port=-1, distributed_rank=0, distributed_world_size=1, distributed_wrapper='DDP', diverse_beam_groups=-1, diverse_beam_strength=0.5, diversity_rate=-1.0, empty_cache_freq=0, eval_bleu=False, eval_bleu_args=None, eval_bleu_detok='space', eval_bleu_detok_args=None, eval_bleu_print_samples=False, eval_bleu_remove_bpe=None, eval_tokenized_bleu=False, fast_stat_sync=False, find_unused_parameters=False, fix_batches_to_gpus=False, fixed_validation_seed=None, force_anneal=None, fp16=False, fp16_init_scale=128, fp16_no_flatten_grads=False, fp16_scale_tolerance=0.0, fp16_scale_window=None, gen_subset='tmp', iter_decode_eos_penalty=0.0, iter_decode_force_max_iter=False, iter_decode_max_iter=10, iter_decode_with_beam=1, iter_decode_with_external_reranker=False, left_pad_source='True', left_pad_target='False', lenpen=1.0, lm_path=None, lm_weight=0.0, load_alignments=False, localsgd_frequency=3, log_format=None, log_interval=100, lr_scheduler='fixed', lr_shrink=0.1, match_source_len=False, max_len_a=0, max_len_b=200, max_source_positions=1024, max_target_positions=1024, max_tokens=8000, max_tokens_valid=8000, memory_efficient_bf16=False, memory_efficient_fp16=False, min_len=1, min_loss_scale=0.0001, model_overrides=\"{'encoder_embed_path': None, 'decoder_embed_path': None}\", model_parallel_size=1, nbest=1, no_beamable_mm=False, no_early_stop=False, no_progress_bar=False, no_repeat_ngram_size=0, no_seed_provided=False, nprocs_per_node=1, num_batch_buckets=0, num_shards=1, num_workers=1, optimizer=None, path='/content/drive/MyDrive/muss/experiments/fairseq/local_1631567843618/model.pt', pipeline_balance=None, pipeline_checkpoint='never', pipeline_chunks=0, pipeline_decoder_balance=None, pipeline_decoder_devices=None, pipeline_devices=None, pipeline_encoder_balance=None, pipeline_encoder_devices=None, pipeline_model_parallel=False, prefix_size=0, print_alignment=False, print_step=False, profile=False, quantization_config_path=None, quiet=False, remove_bpe=None, replace_unk=None, required_batch_size_multiple=8, required_seq_len_multiple=1, results_path=None, retain_dropout=False, retain_dropout_modules=None, retain_iter_history=False, sacrebleu=False, sampling=False, sampling_topk=-1, sampling_topp=-1.0, score_reference=False, scoring='bleu', seed=1, shard_id=0, skip_invalid_size_inputs_valid_test=True, slowmo_algorithm='LocalSGD', slowmo_momentum=None, source_lang=None, target_lang=None, task='translation', temperature=1.0, tensorboard_logdir=None, threshold_loss_scale=None, tokenizer=None, tpu=False, train_subset='train', truncate_source=False, unkpen=0, unnormalized=False, upsample_primary=1, user_dir=None, valid_subset='valid', validate_after_updates=0, validate_interval=1, validate_interval_updates=0, warmup_updates=0, zero_sharding='none')\n",
            "INFO:fairseq.tasks.translation:[complex] dictionary: 50264 types\n",
            "INFO:fairseq.tasks.translation:[simple] dictionary: 50264 types\n"
          ]
        },
        {
          "output_type": "stream",
          "name": "stdout",
          "text": [
            "| use checkpoint_paths [PosixPath('/content/drive/MyDrive/muss/experiments/fairseq/local_1631567843618/model.pt')]\n"
          ]
        },
        {
          "output_type": "stream",
          "name": "stderr",
          "text": [
            "INFO:fairseq.data.data_utils:loaded 2000 examples from: /tmp/tmpu_fo93xq/tmp.complex-simple.complex\n",
            "INFO:fairseq.data.data_utils:loaded 2000 examples from: /tmp/tmpu_fo93xq/tmp.complex-simple.simple\n",
            "INFO:fairseq.tasks.translation:/tmp/tmpu_fo93xq tmp complex-simple 2000 examples\n",
            "INFO:fairseq_cli.generate:loading model(s) from /content/drive/MyDrive/muss/experiments/fairseq/local_1631567843618/model.pt\n",
            "INFO:fairseq_cli.generate:NOTE: hypothesis and token scores are output in base 2\n",
            "INFO:fairseq_cli.generate:Translated 2000 sentences (46782 tokens) in 111.4s (17.95 sentences/s, 419.92 tokens/s)\n",
            " 20%|█▉        | 25/128 [1:00:02<4:25:04, 154.41s/it]"
          ]
        },
        {
          "output_type": "stream",
          "name": "stdout",
          "text": [
            "| IN find_best_parametrization_nevergrad: kwargs.get('generate_kwargs', {}) {}\n",
            "get ref from ( evaluate_simplifier) asset_valid_NER_ABCD\n",
            "test_set in evaluate_simplifier when get ori asset_valid\n",
            "encoder_json_path /content/drive/MyDrive/muss/resources/bart_bpe/encoder.json\n",
            "vocab_bpe_path /content/drive/MyDrive/muss/resources/bart_bpe/vocab.bpe\n"
          ]
        },
        {
          "output_type": "stream",
          "name": "stderr",
          "text": [
            "INFO:fairseq_cli.generate:Namespace(all_gather_list_size=16384, batch_size=None, batch_size_valid=None, beam=5, bf16=False, bpe=None, broadcast_buffers=False, bucket_cap_mb=25, checkpoint_shard_count=1, checkpoint_suffix='', constraints=None, cpu=False, criterion='cross_entropy', curriculum=0, data='/tmp/tmpvn5r146r', data_buffer_size=10, dataset_impl='raw', ddp_backend='c10d', decoding_format=None, device_id=0, disable_validation=False, distributed_backend='nccl', distributed_init_method=None, distributed_no_spawn=False, distributed_port=-1, distributed_rank=0, distributed_world_size=1, distributed_wrapper='DDP', diverse_beam_groups=-1, diverse_beam_strength=0.5, diversity_rate=-1.0, empty_cache_freq=0, eval_bleu=False, eval_bleu_args=None, eval_bleu_detok='space', eval_bleu_detok_args=None, eval_bleu_print_samples=False, eval_bleu_remove_bpe=None, eval_tokenized_bleu=False, fast_stat_sync=False, find_unused_parameters=False, fix_batches_to_gpus=False, fixed_validation_seed=None, force_anneal=None, fp16=False, fp16_init_scale=128, fp16_no_flatten_grads=False, fp16_scale_tolerance=0.0, fp16_scale_window=None, gen_subset='tmp', iter_decode_eos_penalty=0.0, iter_decode_force_max_iter=False, iter_decode_max_iter=10, iter_decode_with_beam=1, iter_decode_with_external_reranker=False, left_pad_source='True', left_pad_target='False', lenpen=1.0, lm_path=None, lm_weight=0.0, load_alignments=False, localsgd_frequency=3, log_format=None, log_interval=100, lr_scheduler='fixed', lr_shrink=0.1, match_source_len=False, max_len_a=0, max_len_b=200, max_source_positions=1024, max_target_positions=1024, max_tokens=8000, max_tokens_valid=8000, memory_efficient_bf16=False, memory_efficient_fp16=False, min_len=1, min_loss_scale=0.0001, model_overrides=\"{'encoder_embed_path': None, 'decoder_embed_path': None}\", model_parallel_size=1, nbest=1, no_beamable_mm=False, no_early_stop=False, no_progress_bar=False, no_repeat_ngram_size=0, no_seed_provided=False, nprocs_per_node=1, num_batch_buckets=0, num_shards=1, num_workers=1, optimizer=None, path='/content/drive/MyDrive/muss/experiments/fairseq/local_1631567843618/model.pt', pipeline_balance=None, pipeline_checkpoint='never', pipeline_chunks=0, pipeline_decoder_balance=None, pipeline_decoder_devices=None, pipeline_devices=None, pipeline_encoder_balance=None, pipeline_encoder_devices=None, pipeline_model_parallel=False, prefix_size=0, print_alignment=False, print_step=False, profile=False, quantization_config_path=None, quiet=False, remove_bpe=None, replace_unk=None, required_batch_size_multiple=8, required_seq_len_multiple=1, results_path=None, retain_dropout=False, retain_dropout_modules=None, retain_iter_history=False, sacrebleu=False, sampling=False, sampling_topk=-1, sampling_topp=-1.0, score_reference=False, scoring='bleu', seed=1, shard_id=0, skip_invalid_size_inputs_valid_test=True, slowmo_algorithm='LocalSGD', slowmo_momentum=None, source_lang=None, target_lang=None, task='translation', temperature=1.0, tensorboard_logdir=None, threshold_loss_scale=None, tokenizer=None, tpu=False, train_subset='train', truncate_source=False, unkpen=0, unnormalized=False, upsample_primary=1, user_dir=None, valid_subset='valid', validate_after_updates=0, validate_interval=1, validate_interval_updates=0, warmup_updates=0, zero_sharding='none')\n",
            "INFO:fairseq.tasks.translation:[complex] dictionary: 50264 types\n",
            "INFO:fairseq.tasks.translation:[simple] dictionary: 50264 types\n"
          ]
        },
        {
          "output_type": "stream",
          "name": "stdout",
          "text": [
            "| use checkpoint_paths [PosixPath('/content/drive/MyDrive/muss/experiments/fairseq/local_1631567843618/model.pt')]\n"
          ]
        },
        {
          "output_type": "stream",
          "name": "stderr",
          "text": [
            "INFO:fairseq.data.data_utils:loaded 2000 examples from: /tmp/tmpvn5r146r/tmp.complex-simple.complex\n",
            "INFO:fairseq.data.data_utils:loaded 2000 examples from: /tmp/tmpvn5r146r/tmp.complex-simple.simple\n",
            "INFO:fairseq.tasks.translation:/tmp/tmpvn5r146r tmp complex-simple 2000 examples\n",
            "INFO:fairseq_cli.generate:loading model(s) from /content/drive/MyDrive/muss/experiments/fairseq/local_1631567843618/model.pt\n",
            "INFO:fairseq_cli.generate:NOTE: hypothesis and token scores are output in base 2\n",
            "INFO:fairseq_cli.generate:Translated 2000 sentences (44597 tokens) in 107.3s (18.64 sentences/s, 415.65 tokens/s)\n",
            " 20%|██        | 26/128 [1:02:33<4:20:24, 153.18s/it]"
          ]
        },
        {
          "output_type": "stream",
          "name": "stdout",
          "text": [
            "| IN find_best_parametrization_nevergrad: kwargs.get('generate_kwargs', {}) {}\n",
            "get ref from ( evaluate_simplifier) asset_valid_NER_ABCD\n",
            "test_set in evaluate_simplifier when get ori asset_valid\n",
            "encoder_json_path /content/drive/MyDrive/muss/resources/bart_bpe/encoder.json\n",
            "vocab_bpe_path /content/drive/MyDrive/muss/resources/bart_bpe/vocab.bpe\n"
          ]
        },
        {
          "output_type": "stream",
          "name": "stderr",
          "text": [
            "INFO:fairseq_cli.generate:Namespace(all_gather_list_size=16384, batch_size=None, batch_size_valid=None, beam=5, bf16=False, bpe=None, broadcast_buffers=False, bucket_cap_mb=25, checkpoint_shard_count=1, checkpoint_suffix='', constraints=None, cpu=False, criterion='cross_entropy', curriculum=0, data='/tmp/tmp1dm13u5x', data_buffer_size=10, dataset_impl='raw', ddp_backend='c10d', decoding_format=None, device_id=0, disable_validation=False, distributed_backend='nccl', distributed_init_method=None, distributed_no_spawn=False, distributed_port=-1, distributed_rank=0, distributed_world_size=1, distributed_wrapper='DDP', diverse_beam_groups=-1, diverse_beam_strength=0.5, diversity_rate=-1.0, empty_cache_freq=0, eval_bleu=False, eval_bleu_args=None, eval_bleu_detok='space', eval_bleu_detok_args=None, eval_bleu_print_samples=False, eval_bleu_remove_bpe=None, eval_tokenized_bleu=False, fast_stat_sync=False, find_unused_parameters=False, fix_batches_to_gpus=False, fixed_validation_seed=None, force_anneal=None, fp16=False, fp16_init_scale=128, fp16_no_flatten_grads=False, fp16_scale_tolerance=0.0, fp16_scale_window=None, gen_subset='tmp', iter_decode_eos_penalty=0.0, iter_decode_force_max_iter=False, iter_decode_max_iter=10, iter_decode_with_beam=1, iter_decode_with_external_reranker=False, left_pad_source='True', left_pad_target='False', lenpen=1.0, lm_path=None, lm_weight=0.0, load_alignments=False, localsgd_frequency=3, log_format=None, log_interval=100, lr_scheduler='fixed', lr_shrink=0.1, match_source_len=False, max_len_a=0, max_len_b=200, max_source_positions=1024, max_target_positions=1024, max_tokens=8000, max_tokens_valid=8000, memory_efficient_bf16=False, memory_efficient_fp16=False, min_len=1, min_loss_scale=0.0001, model_overrides=\"{'encoder_embed_path': None, 'decoder_embed_path': None}\", model_parallel_size=1, nbest=1, no_beamable_mm=False, no_early_stop=False, no_progress_bar=False, no_repeat_ngram_size=0, no_seed_provided=False, nprocs_per_node=1, num_batch_buckets=0, num_shards=1, num_workers=1, optimizer=None, path='/content/drive/MyDrive/muss/experiments/fairseq/local_1631567843618/model.pt', pipeline_balance=None, pipeline_checkpoint='never', pipeline_chunks=0, pipeline_decoder_balance=None, pipeline_decoder_devices=None, pipeline_devices=None, pipeline_encoder_balance=None, pipeline_encoder_devices=None, pipeline_model_parallel=False, prefix_size=0, print_alignment=False, print_step=False, profile=False, quantization_config_path=None, quiet=False, remove_bpe=None, replace_unk=None, required_batch_size_multiple=8, required_seq_len_multiple=1, results_path=None, retain_dropout=False, retain_dropout_modules=None, retain_iter_history=False, sacrebleu=False, sampling=False, sampling_topk=-1, sampling_topp=-1.0, score_reference=False, scoring='bleu', seed=1, shard_id=0, skip_invalid_size_inputs_valid_test=True, slowmo_algorithm='LocalSGD', slowmo_momentum=None, source_lang=None, target_lang=None, task='translation', temperature=1.0, tensorboard_logdir=None, threshold_loss_scale=None, tokenizer=None, tpu=False, train_subset='train', truncate_source=False, unkpen=0, unnormalized=False, upsample_primary=1, user_dir=None, valid_subset='valid', validate_after_updates=0, validate_interval=1, validate_interval_updates=0, warmup_updates=0, zero_sharding='none')\n",
            "INFO:fairseq.tasks.translation:[complex] dictionary: 50264 types\n",
            "INFO:fairseq.tasks.translation:[simple] dictionary: 50264 types\n"
          ]
        },
        {
          "output_type": "stream",
          "name": "stdout",
          "text": [
            "| use checkpoint_paths [PosixPath('/content/drive/MyDrive/muss/experiments/fairseq/local_1631567843618/model.pt')]\n"
          ]
        },
        {
          "output_type": "stream",
          "name": "stderr",
          "text": [
            "INFO:fairseq.data.data_utils:loaded 2000 examples from: /tmp/tmp1dm13u5x/tmp.complex-simple.complex\n",
            "INFO:fairseq.data.data_utils:loaded 2000 examples from: /tmp/tmp1dm13u5x/tmp.complex-simple.simple\n",
            "INFO:fairseq.tasks.translation:/tmp/tmp1dm13u5x tmp complex-simple 2000 examples\n",
            "INFO:fairseq_cli.generate:loading model(s) from /content/drive/MyDrive/muss/experiments/fairseq/local_1631567843618/model.pt\n",
            "INFO:fairseq_cli.generate:NOTE: hypothesis and token scores are output in base 2\n",
            "INFO:fairseq_cli.generate:Translated 2000 sentences (47000 tokens) in 112.2s (17.83 sentences/s, 418.91 tokens/s)\n",
            " 21%|██        | 27/128 [1:05:08<4:18:59, 153.85s/it]"
          ]
        },
        {
          "output_type": "stream",
          "name": "stdout",
          "text": [
            "| IN find_best_parametrization_nevergrad: kwargs.get('generate_kwargs', {}) {}\n",
            "get ref from ( evaluate_simplifier) asset_valid_NER_ABCD\n",
            "test_set in evaluate_simplifier when get ori asset_valid\n",
            "encoder_json_path /content/drive/MyDrive/muss/resources/bart_bpe/encoder.json\n",
            "vocab_bpe_path /content/drive/MyDrive/muss/resources/bart_bpe/vocab.bpe\n"
          ]
        },
        {
          "output_type": "stream",
          "name": "stderr",
          "text": [
            "INFO:fairseq_cli.generate:Namespace(all_gather_list_size=16384, batch_size=None, batch_size_valid=None, beam=5, bf16=False, bpe=None, broadcast_buffers=False, bucket_cap_mb=25, checkpoint_shard_count=1, checkpoint_suffix='', constraints=None, cpu=False, criterion='cross_entropy', curriculum=0, data='/tmp/tmp1ojjwpc_', data_buffer_size=10, dataset_impl='raw', ddp_backend='c10d', decoding_format=None, device_id=0, disable_validation=False, distributed_backend='nccl', distributed_init_method=None, distributed_no_spawn=False, distributed_port=-1, distributed_rank=0, distributed_world_size=1, distributed_wrapper='DDP', diverse_beam_groups=-1, diverse_beam_strength=0.5, diversity_rate=-1.0, empty_cache_freq=0, eval_bleu=False, eval_bleu_args=None, eval_bleu_detok='space', eval_bleu_detok_args=None, eval_bleu_print_samples=False, eval_bleu_remove_bpe=None, eval_tokenized_bleu=False, fast_stat_sync=False, find_unused_parameters=False, fix_batches_to_gpus=False, fixed_validation_seed=None, force_anneal=None, fp16=False, fp16_init_scale=128, fp16_no_flatten_grads=False, fp16_scale_tolerance=0.0, fp16_scale_window=None, gen_subset='tmp', iter_decode_eos_penalty=0.0, iter_decode_force_max_iter=False, iter_decode_max_iter=10, iter_decode_with_beam=1, iter_decode_with_external_reranker=False, left_pad_source='True', left_pad_target='False', lenpen=1.0, lm_path=None, lm_weight=0.0, load_alignments=False, localsgd_frequency=3, log_format=None, log_interval=100, lr_scheduler='fixed', lr_shrink=0.1, match_source_len=False, max_len_a=0, max_len_b=200, max_source_positions=1024, max_target_positions=1024, max_tokens=8000, max_tokens_valid=8000, memory_efficient_bf16=False, memory_efficient_fp16=False, min_len=1, min_loss_scale=0.0001, model_overrides=\"{'encoder_embed_path': None, 'decoder_embed_path': None}\", model_parallel_size=1, nbest=1, no_beamable_mm=False, no_early_stop=False, no_progress_bar=False, no_repeat_ngram_size=0, no_seed_provided=False, nprocs_per_node=1, num_batch_buckets=0, num_shards=1, num_workers=1, optimizer=None, path='/content/drive/MyDrive/muss/experiments/fairseq/local_1631567843618/model.pt', pipeline_balance=None, pipeline_checkpoint='never', pipeline_chunks=0, pipeline_decoder_balance=None, pipeline_decoder_devices=None, pipeline_devices=None, pipeline_encoder_balance=None, pipeline_encoder_devices=None, pipeline_model_parallel=False, prefix_size=0, print_alignment=False, print_step=False, profile=False, quantization_config_path=None, quiet=False, remove_bpe=None, replace_unk=None, required_batch_size_multiple=8, required_seq_len_multiple=1, results_path=None, retain_dropout=False, retain_dropout_modules=None, retain_iter_history=False, sacrebleu=False, sampling=False, sampling_topk=-1, sampling_topp=-1.0, score_reference=False, scoring='bleu', seed=1, shard_id=0, skip_invalid_size_inputs_valid_test=True, slowmo_algorithm='LocalSGD', slowmo_momentum=None, source_lang=None, target_lang=None, task='translation', temperature=1.0, tensorboard_logdir=None, threshold_loss_scale=None, tokenizer=None, tpu=False, train_subset='train', truncate_source=False, unkpen=0, unnormalized=False, upsample_primary=1, user_dir=None, valid_subset='valid', validate_after_updates=0, validate_interval=1, validate_interval_updates=0, warmup_updates=0, zero_sharding='none')\n",
            "INFO:fairseq.tasks.translation:[complex] dictionary: 50264 types\n",
            "INFO:fairseq.tasks.translation:[simple] dictionary: 50264 types\n"
          ]
        },
        {
          "output_type": "stream",
          "name": "stdout",
          "text": [
            "| use checkpoint_paths [PosixPath('/content/drive/MyDrive/muss/experiments/fairseq/local_1631567843618/model.pt')]\n"
          ]
        },
        {
          "output_type": "stream",
          "name": "stderr",
          "text": [
            "INFO:fairseq.data.data_utils:loaded 2000 examples from: /tmp/tmp1ojjwpc_/tmp.complex-simple.complex\n",
            "INFO:fairseq.data.data_utils:loaded 2000 examples from: /tmp/tmp1ojjwpc_/tmp.complex-simple.simple\n",
            "INFO:fairseq.tasks.translation:/tmp/tmp1ojjwpc_ tmp complex-simple 2000 examples\n",
            "INFO:fairseq_cli.generate:loading model(s) from /content/drive/MyDrive/muss/experiments/fairseq/local_1631567843618/model.pt\n",
            "INFO:fairseq_cli.generate:NOTE: hypothesis and token scores are output in base 2\n",
            "INFO:fairseq_cli.generate:Translated 2000 sentences (46690 tokens) in 111.2s (17.99 sentences/s, 420.04 tokens/s)\n",
            " 22%|██▏       | 28/128 [1:07:42<4:16:42, 154.03s/it]"
          ]
        },
        {
          "output_type": "stream",
          "name": "stdout",
          "text": [
            "| IN find_best_parametrization_nevergrad: kwargs.get('generate_kwargs', {}) {}\n",
            "get ref from ( evaluate_simplifier) asset_valid_NER_ABCD\n",
            "test_set in evaluate_simplifier when get ori asset_valid\n",
            "encoder_json_path /content/drive/MyDrive/muss/resources/bart_bpe/encoder.json\n",
            "vocab_bpe_path /content/drive/MyDrive/muss/resources/bart_bpe/vocab.bpe\n"
          ]
        },
        {
          "output_type": "stream",
          "name": "stderr",
          "text": [
            "INFO:fairseq_cli.generate:Namespace(all_gather_list_size=16384, batch_size=None, batch_size_valid=None, beam=5, bf16=False, bpe=None, broadcast_buffers=False, bucket_cap_mb=25, checkpoint_shard_count=1, checkpoint_suffix='', constraints=None, cpu=False, criterion='cross_entropy', curriculum=0, data='/tmp/tmp2o2w_yew', data_buffer_size=10, dataset_impl='raw', ddp_backend='c10d', decoding_format=None, device_id=0, disable_validation=False, distributed_backend='nccl', distributed_init_method=None, distributed_no_spawn=False, distributed_port=-1, distributed_rank=0, distributed_world_size=1, distributed_wrapper='DDP', diverse_beam_groups=-1, diverse_beam_strength=0.5, diversity_rate=-1.0, empty_cache_freq=0, eval_bleu=False, eval_bleu_args=None, eval_bleu_detok='space', eval_bleu_detok_args=None, eval_bleu_print_samples=False, eval_bleu_remove_bpe=None, eval_tokenized_bleu=False, fast_stat_sync=False, find_unused_parameters=False, fix_batches_to_gpus=False, fixed_validation_seed=None, force_anneal=None, fp16=False, fp16_init_scale=128, fp16_no_flatten_grads=False, fp16_scale_tolerance=0.0, fp16_scale_window=None, gen_subset='tmp', iter_decode_eos_penalty=0.0, iter_decode_force_max_iter=False, iter_decode_max_iter=10, iter_decode_with_beam=1, iter_decode_with_external_reranker=False, left_pad_source='True', left_pad_target='False', lenpen=1.0, lm_path=None, lm_weight=0.0, load_alignments=False, localsgd_frequency=3, log_format=None, log_interval=100, lr_scheduler='fixed', lr_shrink=0.1, match_source_len=False, max_len_a=0, max_len_b=200, max_source_positions=1024, max_target_positions=1024, max_tokens=8000, max_tokens_valid=8000, memory_efficient_bf16=False, memory_efficient_fp16=False, min_len=1, min_loss_scale=0.0001, model_overrides=\"{'encoder_embed_path': None, 'decoder_embed_path': None}\", model_parallel_size=1, nbest=1, no_beamable_mm=False, no_early_stop=False, no_progress_bar=False, no_repeat_ngram_size=0, no_seed_provided=False, nprocs_per_node=1, num_batch_buckets=0, num_shards=1, num_workers=1, optimizer=None, path='/content/drive/MyDrive/muss/experiments/fairseq/local_1631567843618/model.pt', pipeline_balance=None, pipeline_checkpoint='never', pipeline_chunks=0, pipeline_decoder_balance=None, pipeline_decoder_devices=None, pipeline_devices=None, pipeline_encoder_balance=None, pipeline_encoder_devices=None, pipeline_model_parallel=False, prefix_size=0, print_alignment=False, print_step=False, profile=False, quantization_config_path=None, quiet=False, remove_bpe=None, replace_unk=None, required_batch_size_multiple=8, required_seq_len_multiple=1, results_path=None, retain_dropout=False, retain_dropout_modules=None, retain_iter_history=False, sacrebleu=False, sampling=False, sampling_topk=-1, sampling_topp=-1.0, score_reference=False, scoring='bleu', seed=1, shard_id=0, skip_invalid_size_inputs_valid_test=True, slowmo_algorithm='LocalSGD', slowmo_momentum=None, source_lang=None, target_lang=None, task='translation', temperature=1.0, tensorboard_logdir=None, threshold_loss_scale=None, tokenizer=None, tpu=False, train_subset='train', truncate_source=False, unkpen=0, unnormalized=False, upsample_primary=1, user_dir=None, valid_subset='valid', validate_after_updates=0, validate_interval=1, validate_interval_updates=0, warmup_updates=0, zero_sharding='none')\n",
            "INFO:fairseq.tasks.translation:[complex] dictionary: 50264 types\n",
            "INFO:fairseq.tasks.translation:[simple] dictionary: 50264 types\n"
          ]
        },
        {
          "output_type": "stream",
          "name": "stdout",
          "text": [
            "| use checkpoint_paths [PosixPath('/content/drive/MyDrive/muss/experiments/fairseq/local_1631567843618/model.pt')]\n"
          ]
        },
        {
          "output_type": "stream",
          "name": "stderr",
          "text": [
            "INFO:fairseq.data.data_utils:loaded 2000 examples from: /tmp/tmp2o2w_yew/tmp.complex-simple.complex\n",
            "INFO:fairseq.data.data_utils:loaded 2000 examples from: /tmp/tmp2o2w_yew/tmp.complex-simple.simple\n",
            "INFO:fairseq.tasks.translation:/tmp/tmp2o2w_yew tmp complex-simple 2000 examples\n",
            "INFO:fairseq_cli.generate:loading model(s) from /content/drive/MyDrive/muss/experiments/fairseq/local_1631567843618/model.pt\n",
            "INFO:fairseq_cli.generate:NOTE: hypothesis and token scores are output in base 2\n",
            "INFO:fairseq_cli.generate:Translated 2000 sentences (44549 tokens) in 107.3s (18.63 sentences/s, 414.99 tokens/s)\n",
            " 23%|██▎       | 29/128 [1:10:14<4:12:41, 153.15s/it]"
          ]
        },
        {
          "output_type": "stream",
          "name": "stdout",
          "text": [
            "| IN find_best_parametrization_nevergrad: kwargs.get('generate_kwargs', {}) {}\n",
            "get ref from ( evaluate_simplifier) asset_valid_NER_ABCD\n",
            "test_set in evaluate_simplifier when get ori asset_valid\n",
            "encoder_json_path /content/drive/MyDrive/muss/resources/bart_bpe/encoder.json\n",
            "vocab_bpe_path /content/drive/MyDrive/muss/resources/bart_bpe/vocab.bpe\n"
          ]
        },
        {
          "output_type": "stream",
          "name": "stderr",
          "text": [
            "INFO:fairseq_cli.generate:Namespace(all_gather_list_size=16384, batch_size=None, batch_size_valid=None, beam=5, bf16=False, bpe=None, broadcast_buffers=False, bucket_cap_mb=25, checkpoint_shard_count=1, checkpoint_suffix='', constraints=None, cpu=False, criterion='cross_entropy', curriculum=0, data='/tmp/tmpk0jez09p', data_buffer_size=10, dataset_impl='raw', ddp_backend='c10d', decoding_format=None, device_id=0, disable_validation=False, distributed_backend='nccl', distributed_init_method=None, distributed_no_spawn=False, distributed_port=-1, distributed_rank=0, distributed_world_size=1, distributed_wrapper='DDP', diverse_beam_groups=-1, diverse_beam_strength=0.5, diversity_rate=-1.0, empty_cache_freq=0, eval_bleu=False, eval_bleu_args=None, eval_bleu_detok='space', eval_bleu_detok_args=None, eval_bleu_print_samples=False, eval_bleu_remove_bpe=None, eval_tokenized_bleu=False, fast_stat_sync=False, find_unused_parameters=False, fix_batches_to_gpus=False, fixed_validation_seed=None, force_anneal=None, fp16=False, fp16_init_scale=128, fp16_no_flatten_grads=False, fp16_scale_tolerance=0.0, fp16_scale_window=None, gen_subset='tmp', iter_decode_eos_penalty=0.0, iter_decode_force_max_iter=False, iter_decode_max_iter=10, iter_decode_with_beam=1, iter_decode_with_external_reranker=False, left_pad_source='True', left_pad_target='False', lenpen=1.0, lm_path=None, lm_weight=0.0, load_alignments=False, localsgd_frequency=3, log_format=None, log_interval=100, lr_scheduler='fixed', lr_shrink=0.1, match_source_len=False, max_len_a=0, max_len_b=200, max_source_positions=1024, max_target_positions=1024, max_tokens=8000, max_tokens_valid=8000, memory_efficient_bf16=False, memory_efficient_fp16=False, min_len=1, min_loss_scale=0.0001, model_overrides=\"{'encoder_embed_path': None, 'decoder_embed_path': None}\", model_parallel_size=1, nbest=1, no_beamable_mm=False, no_early_stop=False, no_progress_bar=False, no_repeat_ngram_size=0, no_seed_provided=False, nprocs_per_node=1, num_batch_buckets=0, num_shards=1, num_workers=1, optimizer=None, path='/content/drive/MyDrive/muss/experiments/fairseq/local_1631567843618/model.pt', pipeline_balance=None, pipeline_checkpoint='never', pipeline_chunks=0, pipeline_decoder_balance=None, pipeline_decoder_devices=None, pipeline_devices=None, pipeline_encoder_balance=None, pipeline_encoder_devices=None, pipeline_model_parallel=False, prefix_size=0, print_alignment=False, print_step=False, profile=False, quantization_config_path=None, quiet=False, remove_bpe=None, replace_unk=None, required_batch_size_multiple=8, required_seq_len_multiple=1, results_path=None, retain_dropout=False, retain_dropout_modules=None, retain_iter_history=False, sacrebleu=False, sampling=False, sampling_topk=-1, sampling_topp=-1.0, score_reference=False, scoring='bleu', seed=1, shard_id=0, skip_invalid_size_inputs_valid_test=True, slowmo_algorithm='LocalSGD', slowmo_momentum=None, source_lang=None, target_lang=None, task='translation', temperature=1.0, tensorboard_logdir=None, threshold_loss_scale=None, tokenizer=None, tpu=False, train_subset='train', truncate_source=False, unkpen=0, unnormalized=False, upsample_primary=1, user_dir=None, valid_subset='valid', validate_after_updates=0, validate_interval=1, validate_interval_updates=0, warmup_updates=0, zero_sharding='none')\n",
            "INFO:fairseq.tasks.translation:[complex] dictionary: 50264 types\n",
            "INFO:fairseq.tasks.translation:[simple] dictionary: 50264 types\n"
          ]
        },
        {
          "output_type": "stream",
          "name": "stdout",
          "text": [
            "| use checkpoint_paths [PosixPath('/content/drive/MyDrive/muss/experiments/fairseq/local_1631567843618/model.pt')]\n"
          ]
        },
        {
          "output_type": "stream",
          "name": "stderr",
          "text": [
            "INFO:fairseq.data.data_utils:loaded 2000 examples from: /tmp/tmpk0jez09p/tmp.complex-simple.complex\n",
            "INFO:fairseq.data.data_utils:loaded 2000 examples from: /tmp/tmpk0jez09p/tmp.complex-simple.simple\n",
            "INFO:fairseq.tasks.translation:/tmp/tmpk0jez09p tmp complex-simple 2000 examples\n",
            "INFO:fairseq_cli.generate:loading model(s) from /content/drive/MyDrive/muss/experiments/fairseq/local_1631567843618/model.pt\n",
            "INFO:fairseq_cli.generate:NOTE: hypothesis and token scores are output in base 2\n",
            "INFO:fairseq_cli.generate:Translated 2000 sentences (44384 tokens) in 107.4s (18.62 sentences/s, 413.12 tokens/s)\n",
            " 23%|██▎       | 30/128 [1:12:44<4:08:54, 152.39s/it]"
          ]
        },
        {
          "output_type": "stream",
          "name": "stdout",
          "text": [
            "| IN find_best_parametrization_nevergrad: kwargs.get('generate_kwargs', {}) {}\n",
            "get ref from ( evaluate_simplifier) asset_valid_NER_ABCD\n",
            "test_set in evaluate_simplifier when get ori asset_valid\n",
            "encoder_json_path /content/drive/MyDrive/muss/resources/bart_bpe/encoder.json\n",
            "vocab_bpe_path /content/drive/MyDrive/muss/resources/bart_bpe/vocab.bpe\n"
          ]
        },
        {
          "output_type": "stream",
          "name": "stderr",
          "text": [
            "INFO:fairseq_cli.generate:Namespace(all_gather_list_size=16384, batch_size=None, batch_size_valid=None, beam=5, bf16=False, bpe=None, broadcast_buffers=False, bucket_cap_mb=25, checkpoint_shard_count=1, checkpoint_suffix='', constraints=None, cpu=False, criterion='cross_entropy', curriculum=0, data='/tmp/tmp3928ngca', data_buffer_size=10, dataset_impl='raw', ddp_backend='c10d', decoding_format=None, device_id=0, disable_validation=False, distributed_backend='nccl', distributed_init_method=None, distributed_no_spawn=False, distributed_port=-1, distributed_rank=0, distributed_world_size=1, distributed_wrapper='DDP', diverse_beam_groups=-1, diverse_beam_strength=0.5, diversity_rate=-1.0, empty_cache_freq=0, eval_bleu=False, eval_bleu_args=None, eval_bleu_detok='space', eval_bleu_detok_args=None, eval_bleu_print_samples=False, eval_bleu_remove_bpe=None, eval_tokenized_bleu=False, fast_stat_sync=False, find_unused_parameters=False, fix_batches_to_gpus=False, fixed_validation_seed=None, force_anneal=None, fp16=False, fp16_init_scale=128, fp16_no_flatten_grads=False, fp16_scale_tolerance=0.0, fp16_scale_window=None, gen_subset='tmp', iter_decode_eos_penalty=0.0, iter_decode_force_max_iter=False, iter_decode_max_iter=10, iter_decode_with_beam=1, iter_decode_with_external_reranker=False, left_pad_source='True', left_pad_target='False', lenpen=1.0, lm_path=None, lm_weight=0.0, load_alignments=False, localsgd_frequency=3, log_format=None, log_interval=100, lr_scheduler='fixed', lr_shrink=0.1, match_source_len=False, max_len_a=0, max_len_b=200, max_source_positions=1024, max_target_positions=1024, max_tokens=8000, max_tokens_valid=8000, memory_efficient_bf16=False, memory_efficient_fp16=False, min_len=1, min_loss_scale=0.0001, model_overrides=\"{'encoder_embed_path': None, 'decoder_embed_path': None}\", model_parallel_size=1, nbest=1, no_beamable_mm=False, no_early_stop=False, no_progress_bar=False, no_repeat_ngram_size=0, no_seed_provided=False, nprocs_per_node=1, num_batch_buckets=0, num_shards=1, num_workers=1, optimizer=None, path='/content/drive/MyDrive/muss/experiments/fairseq/local_1631567843618/model.pt', pipeline_balance=None, pipeline_checkpoint='never', pipeline_chunks=0, pipeline_decoder_balance=None, pipeline_decoder_devices=None, pipeline_devices=None, pipeline_encoder_balance=None, pipeline_encoder_devices=None, pipeline_model_parallel=False, prefix_size=0, print_alignment=False, print_step=False, profile=False, quantization_config_path=None, quiet=False, remove_bpe=None, replace_unk=None, required_batch_size_multiple=8, required_seq_len_multiple=1, results_path=None, retain_dropout=False, retain_dropout_modules=None, retain_iter_history=False, sacrebleu=False, sampling=False, sampling_topk=-1, sampling_topp=-1.0, score_reference=False, scoring='bleu', seed=1, shard_id=0, skip_invalid_size_inputs_valid_test=True, slowmo_algorithm='LocalSGD', slowmo_momentum=None, source_lang=None, target_lang=None, task='translation', temperature=1.0, tensorboard_logdir=None, threshold_loss_scale=None, tokenizer=None, tpu=False, train_subset='train', truncate_source=False, unkpen=0, unnormalized=False, upsample_primary=1, user_dir=None, valid_subset='valid', validate_after_updates=0, validate_interval=1, validate_interval_updates=0, warmup_updates=0, zero_sharding='none')\n",
            "INFO:fairseq.tasks.translation:[complex] dictionary: 50264 types\n",
            "INFO:fairseq.tasks.translation:[simple] dictionary: 50264 types\n"
          ]
        },
        {
          "output_type": "stream",
          "name": "stdout",
          "text": [
            "| use checkpoint_paths [PosixPath('/content/drive/MyDrive/muss/experiments/fairseq/local_1631567843618/model.pt')]\n"
          ]
        },
        {
          "output_type": "stream",
          "name": "stderr",
          "text": [
            "INFO:fairseq.data.data_utils:loaded 2000 examples from: /tmp/tmp3928ngca/tmp.complex-simple.complex\n",
            "INFO:fairseq.data.data_utils:loaded 2000 examples from: /tmp/tmp3928ngca/tmp.complex-simple.simple\n",
            "INFO:fairseq.tasks.translation:/tmp/tmp3928ngca tmp complex-simple 2000 examples\n",
            "INFO:fairseq_cli.generate:loading model(s) from /content/drive/MyDrive/muss/experiments/fairseq/local_1631567843618/model.pt\n",
            "INFO:fairseq_cli.generate:NOTE: hypothesis and token scores are output in base 2\n",
            "INFO:fairseq_cli.generate:Translated 2000 sentences (46782 tokens) in 111.5s (17.93 sentences/s, 419.39 tokens/s)\n",
            " 24%|██▍       | 31/128 [1:15:19<4:07:29, 153.09s/it]"
          ]
        },
        {
          "output_type": "stream",
          "name": "stdout",
          "text": [
            "| IN find_best_parametrization_nevergrad: kwargs.get('generate_kwargs', {}) {}\n",
            "get ref from ( evaluate_simplifier) asset_valid_NER_ABCD\n",
            "test_set in evaluate_simplifier when get ori asset_valid\n",
            "encoder_json_path /content/drive/MyDrive/muss/resources/bart_bpe/encoder.json\n",
            "vocab_bpe_path /content/drive/MyDrive/muss/resources/bart_bpe/vocab.bpe\n"
          ]
        },
        {
          "output_type": "stream",
          "name": "stderr",
          "text": [
            "INFO:fairseq_cli.generate:Namespace(all_gather_list_size=16384, batch_size=None, batch_size_valid=None, beam=5, bf16=False, bpe=None, broadcast_buffers=False, bucket_cap_mb=25, checkpoint_shard_count=1, checkpoint_suffix='', constraints=None, cpu=False, criterion='cross_entropy', curriculum=0, data='/tmp/tmpmlczheya', data_buffer_size=10, dataset_impl='raw', ddp_backend='c10d', decoding_format=None, device_id=0, disable_validation=False, distributed_backend='nccl', distributed_init_method=None, distributed_no_spawn=False, distributed_port=-1, distributed_rank=0, distributed_world_size=1, distributed_wrapper='DDP', diverse_beam_groups=-1, diverse_beam_strength=0.5, diversity_rate=-1.0, empty_cache_freq=0, eval_bleu=False, eval_bleu_args=None, eval_bleu_detok='space', eval_bleu_detok_args=None, eval_bleu_print_samples=False, eval_bleu_remove_bpe=None, eval_tokenized_bleu=False, fast_stat_sync=False, find_unused_parameters=False, fix_batches_to_gpus=False, fixed_validation_seed=None, force_anneal=None, fp16=False, fp16_init_scale=128, fp16_no_flatten_grads=False, fp16_scale_tolerance=0.0, fp16_scale_window=None, gen_subset='tmp', iter_decode_eos_penalty=0.0, iter_decode_force_max_iter=False, iter_decode_max_iter=10, iter_decode_with_beam=1, iter_decode_with_external_reranker=False, left_pad_source='True', left_pad_target='False', lenpen=1.0, lm_path=None, lm_weight=0.0, load_alignments=False, localsgd_frequency=3, log_format=None, log_interval=100, lr_scheduler='fixed', lr_shrink=0.1, match_source_len=False, max_len_a=0, max_len_b=200, max_source_positions=1024, max_target_positions=1024, max_tokens=8000, max_tokens_valid=8000, memory_efficient_bf16=False, memory_efficient_fp16=False, min_len=1, min_loss_scale=0.0001, model_overrides=\"{'encoder_embed_path': None, 'decoder_embed_path': None}\", model_parallel_size=1, nbest=1, no_beamable_mm=False, no_early_stop=False, no_progress_bar=False, no_repeat_ngram_size=0, no_seed_provided=False, nprocs_per_node=1, num_batch_buckets=0, num_shards=1, num_workers=1, optimizer=None, path='/content/drive/MyDrive/muss/experiments/fairseq/local_1631567843618/model.pt', pipeline_balance=None, pipeline_checkpoint='never', pipeline_chunks=0, pipeline_decoder_balance=None, pipeline_decoder_devices=None, pipeline_devices=None, pipeline_encoder_balance=None, pipeline_encoder_devices=None, pipeline_model_parallel=False, prefix_size=0, print_alignment=False, print_step=False, profile=False, quantization_config_path=None, quiet=False, remove_bpe=None, replace_unk=None, required_batch_size_multiple=8, required_seq_len_multiple=1, results_path=None, retain_dropout=False, retain_dropout_modules=None, retain_iter_history=False, sacrebleu=False, sampling=False, sampling_topk=-1, sampling_topp=-1.0, score_reference=False, scoring='bleu', seed=1, shard_id=0, skip_invalid_size_inputs_valid_test=True, slowmo_algorithm='LocalSGD', slowmo_momentum=None, source_lang=None, target_lang=None, task='translation', temperature=1.0, tensorboard_logdir=None, threshold_loss_scale=None, tokenizer=None, tpu=False, train_subset='train', truncate_source=False, unkpen=0, unnormalized=False, upsample_primary=1, user_dir=None, valid_subset='valid', validate_after_updates=0, validate_interval=1, validate_interval_updates=0, warmup_updates=0, zero_sharding='none')\n",
            "INFO:fairseq.tasks.translation:[complex] dictionary: 50264 types\n",
            "INFO:fairseq.tasks.translation:[simple] dictionary: 50264 types\n"
          ]
        },
        {
          "output_type": "stream",
          "name": "stdout",
          "text": [
            "| use checkpoint_paths [PosixPath('/content/drive/MyDrive/muss/experiments/fairseq/local_1631567843618/model.pt')]\n"
          ]
        },
        {
          "output_type": "stream",
          "name": "stderr",
          "text": [
            "INFO:fairseq.data.data_utils:loaded 2000 examples from: /tmp/tmpmlczheya/tmp.complex-simple.complex\n",
            "INFO:fairseq.data.data_utils:loaded 2000 examples from: /tmp/tmpmlczheya/tmp.complex-simple.simple\n",
            "INFO:fairseq.tasks.translation:/tmp/tmpmlczheya tmp complex-simple 2000 examples\n",
            "INFO:fairseq_cli.generate:loading model(s) from /content/drive/MyDrive/muss/experiments/fairseq/local_1631567843618/model.pt\n",
            "INFO:fairseq_cli.generate:NOTE: hypothesis and token scores are output in base 2\n",
            "INFO:fairseq_cli.generate:Translated 2000 sentences (47000 tokens) in 112.0s (17.85 sentences/s, 419.52 tokens/s)\n",
            " 25%|██▌       | 32/128 [1:17:54<4:05:47, 153.62s/it]"
          ]
        },
        {
          "output_type": "stream",
          "name": "stdout",
          "text": [
            "| IN find_best_parametrization_nevergrad: kwargs.get('generate_kwargs', {}) {}\n",
            "get ref from ( evaluate_simplifier) asset_valid_NER_ABCD\n",
            "test_set in evaluate_simplifier when get ori asset_valid\n",
            "encoder_json_path /content/drive/MyDrive/muss/resources/bart_bpe/encoder.json\n",
            "vocab_bpe_path /content/drive/MyDrive/muss/resources/bart_bpe/vocab.bpe\n"
          ]
        },
        {
          "output_type": "stream",
          "name": "stderr",
          "text": [
            "INFO:fairseq_cli.generate:Namespace(all_gather_list_size=16384, batch_size=None, batch_size_valid=None, beam=5, bf16=False, bpe=None, broadcast_buffers=False, bucket_cap_mb=25, checkpoint_shard_count=1, checkpoint_suffix='', constraints=None, cpu=False, criterion='cross_entropy', curriculum=0, data='/tmp/tmp2nnp6f5x', data_buffer_size=10, dataset_impl='raw', ddp_backend='c10d', decoding_format=None, device_id=0, disable_validation=False, distributed_backend='nccl', distributed_init_method=None, distributed_no_spawn=False, distributed_port=-1, distributed_rank=0, distributed_world_size=1, distributed_wrapper='DDP', diverse_beam_groups=-1, diverse_beam_strength=0.5, diversity_rate=-1.0, empty_cache_freq=0, eval_bleu=False, eval_bleu_args=None, eval_bleu_detok='space', eval_bleu_detok_args=None, eval_bleu_print_samples=False, eval_bleu_remove_bpe=None, eval_tokenized_bleu=False, fast_stat_sync=False, find_unused_parameters=False, fix_batches_to_gpus=False, fixed_validation_seed=None, force_anneal=None, fp16=False, fp16_init_scale=128, fp16_no_flatten_grads=False, fp16_scale_tolerance=0.0, fp16_scale_window=None, gen_subset='tmp', iter_decode_eos_penalty=0.0, iter_decode_force_max_iter=False, iter_decode_max_iter=10, iter_decode_with_beam=1, iter_decode_with_external_reranker=False, left_pad_source='True', left_pad_target='False', lenpen=1.0, lm_path=None, lm_weight=0.0, load_alignments=False, localsgd_frequency=3, log_format=None, log_interval=100, lr_scheduler='fixed', lr_shrink=0.1, match_source_len=False, max_len_a=0, max_len_b=200, max_source_positions=1024, max_target_positions=1024, max_tokens=8000, max_tokens_valid=8000, memory_efficient_bf16=False, memory_efficient_fp16=False, min_len=1, min_loss_scale=0.0001, model_overrides=\"{'encoder_embed_path': None, 'decoder_embed_path': None}\", model_parallel_size=1, nbest=1, no_beamable_mm=False, no_early_stop=False, no_progress_bar=False, no_repeat_ngram_size=0, no_seed_provided=False, nprocs_per_node=1, num_batch_buckets=0, num_shards=1, num_workers=1, optimizer=None, path='/content/drive/MyDrive/muss/experiments/fairseq/local_1631567843618/model.pt', pipeline_balance=None, pipeline_checkpoint='never', pipeline_chunks=0, pipeline_decoder_balance=None, pipeline_decoder_devices=None, pipeline_devices=None, pipeline_encoder_balance=None, pipeline_encoder_devices=None, pipeline_model_parallel=False, prefix_size=0, print_alignment=False, print_step=False, profile=False, quantization_config_path=None, quiet=False, remove_bpe=None, replace_unk=None, required_batch_size_multiple=8, required_seq_len_multiple=1, results_path=None, retain_dropout=False, retain_dropout_modules=None, retain_iter_history=False, sacrebleu=False, sampling=False, sampling_topk=-1, sampling_topp=-1.0, score_reference=False, scoring='bleu', seed=1, shard_id=0, skip_invalid_size_inputs_valid_test=True, slowmo_algorithm='LocalSGD', slowmo_momentum=None, source_lang=None, target_lang=None, task='translation', temperature=1.0, tensorboard_logdir=None, threshold_loss_scale=None, tokenizer=None, tpu=False, train_subset='train', truncate_source=False, unkpen=0, unnormalized=False, upsample_primary=1, user_dir=None, valid_subset='valid', validate_after_updates=0, validate_interval=1, validate_interval_updates=0, warmup_updates=0, zero_sharding='none')\n",
            "INFO:fairseq.tasks.translation:[complex] dictionary: 50264 types\n",
            "INFO:fairseq.tasks.translation:[simple] dictionary: 50264 types\n"
          ]
        },
        {
          "output_type": "stream",
          "name": "stdout",
          "text": [
            "| use checkpoint_paths [PosixPath('/content/drive/MyDrive/muss/experiments/fairseq/local_1631567843618/model.pt')]\n"
          ]
        },
        {
          "output_type": "stream",
          "name": "stderr",
          "text": [
            "INFO:fairseq.data.data_utils:loaded 2000 examples from: /tmp/tmp2nnp6f5x/tmp.complex-simple.complex\n",
            "INFO:fairseq.data.data_utils:loaded 2000 examples from: /tmp/tmp2nnp6f5x/tmp.complex-simple.simple\n",
            "INFO:fairseq.tasks.translation:/tmp/tmp2nnp6f5x tmp complex-simple 2000 examples\n",
            "INFO:fairseq_cli.generate:loading model(s) from /content/drive/MyDrive/muss/experiments/fairseq/local_1631567843618/model.pt\n",
            "INFO:fairseq_cli.generate:NOTE: hypothesis and token scores are output in base 2\n",
            "INFO:fairseq_cli.generate:Translated 2000 sentences (46584 tokens) in 111.3s (17.97 sentences/s, 418.54 tokens/s)\n",
            " 26%|██▌       | 33/128 [1:20:29<4:03:59, 154.10s/it]"
          ]
        },
        {
          "output_type": "stream",
          "name": "stdout",
          "text": [
            "| IN find_best_parametrization_nevergrad: kwargs.get('generate_kwargs', {}) {}\n",
            "get ref from ( evaluate_simplifier) asset_valid_NER_ABCD\n",
            "test_set in evaluate_simplifier when get ori asset_valid\n",
            "encoder_json_path /content/drive/MyDrive/muss/resources/bart_bpe/encoder.json\n",
            "vocab_bpe_path /content/drive/MyDrive/muss/resources/bart_bpe/vocab.bpe\n"
          ]
        },
        {
          "output_type": "stream",
          "name": "stderr",
          "text": [
            "INFO:fairseq_cli.generate:Namespace(all_gather_list_size=16384, batch_size=None, batch_size_valid=None, beam=5, bf16=False, bpe=None, broadcast_buffers=False, bucket_cap_mb=25, checkpoint_shard_count=1, checkpoint_suffix='', constraints=None, cpu=False, criterion='cross_entropy', curriculum=0, data='/tmp/tmpqb5h9erl', data_buffer_size=10, dataset_impl='raw', ddp_backend='c10d', decoding_format=None, device_id=0, disable_validation=False, distributed_backend='nccl', distributed_init_method=None, distributed_no_spawn=False, distributed_port=-1, distributed_rank=0, distributed_world_size=1, distributed_wrapper='DDP', diverse_beam_groups=-1, diverse_beam_strength=0.5, diversity_rate=-1.0, empty_cache_freq=0, eval_bleu=False, eval_bleu_args=None, eval_bleu_detok='space', eval_bleu_detok_args=None, eval_bleu_print_samples=False, eval_bleu_remove_bpe=None, eval_tokenized_bleu=False, fast_stat_sync=False, find_unused_parameters=False, fix_batches_to_gpus=False, fixed_validation_seed=None, force_anneal=None, fp16=False, fp16_init_scale=128, fp16_no_flatten_grads=False, fp16_scale_tolerance=0.0, fp16_scale_window=None, gen_subset='tmp', iter_decode_eos_penalty=0.0, iter_decode_force_max_iter=False, iter_decode_max_iter=10, iter_decode_with_beam=1, iter_decode_with_external_reranker=False, left_pad_source='True', left_pad_target='False', lenpen=1.0, lm_path=None, lm_weight=0.0, load_alignments=False, localsgd_frequency=3, log_format=None, log_interval=100, lr_scheduler='fixed', lr_shrink=0.1, match_source_len=False, max_len_a=0, max_len_b=200, max_source_positions=1024, max_target_positions=1024, max_tokens=8000, max_tokens_valid=8000, memory_efficient_bf16=False, memory_efficient_fp16=False, min_len=1, min_loss_scale=0.0001, model_overrides=\"{'encoder_embed_path': None, 'decoder_embed_path': None}\", model_parallel_size=1, nbest=1, no_beamable_mm=False, no_early_stop=False, no_progress_bar=False, no_repeat_ngram_size=0, no_seed_provided=False, nprocs_per_node=1, num_batch_buckets=0, num_shards=1, num_workers=1, optimizer=None, path='/content/drive/MyDrive/muss/experiments/fairseq/local_1631567843618/model.pt', pipeline_balance=None, pipeline_checkpoint='never', pipeline_chunks=0, pipeline_decoder_balance=None, pipeline_decoder_devices=None, pipeline_devices=None, pipeline_encoder_balance=None, pipeline_encoder_devices=None, pipeline_model_parallel=False, prefix_size=0, print_alignment=False, print_step=False, profile=False, quantization_config_path=None, quiet=False, remove_bpe=None, replace_unk=None, required_batch_size_multiple=8, required_seq_len_multiple=1, results_path=None, retain_dropout=False, retain_dropout_modules=None, retain_iter_history=False, sacrebleu=False, sampling=False, sampling_topk=-1, sampling_topp=-1.0, score_reference=False, scoring='bleu', seed=1, shard_id=0, skip_invalid_size_inputs_valid_test=True, slowmo_algorithm='LocalSGD', slowmo_momentum=None, source_lang=None, target_lang=None, task='translation', temperature=1.0, tensorboard_logdir=None, threshold_loss_scale=None, tokenizer=None, tpu=False, train_subset='train', truncate_source=False, unkpen=0, unnormalized=False, upsample_primary=1, user_dir=None, valid_subset='valid', validate_after_updates=0, validate_interval=1, validate_interval_updates=0, warmup_updates=0, zero_sharding='none')\n",
            "INFO:fairseq.tasks.translation:[complex] dictionary: 50264 types\n",
            "INFO:fairseq.tasks.translation:[simple] dictionary: 50264 types\n"
          ]
        },
        {
          "output_type": "stream",
          "name": "stdout",
          "text": [
            "| use checkpoint_paths [PosixPath('/content/drive/MyDrive/muss/experiments/fairseq/local_1631567843618/model.pt')]\n"
          ]
        },
        {
          "output_type": "stream",
          "name": "stderr",
          "text": [
            "INFO:fairseq.data.data_utils:loaded 2000 examples from: /tmp/tmpqb5h9erl/tmp.complex-simple.complex\n",
            "INFO:fairseq.data.data_utils:loaded 2000 examples from: /tmp/tmpqb5h9erl/tmp.complex-simple.simple\n",
            "INFO:fairseq.tasks.translation:/tmp/tmpqb5h9erl tmp complex-simple 2000 examples\n",
            "INFO:fairseq_cli.generate:loading model(s) from /content/drive/MyDrive/muss/experiments/fairseq/local_1631567843618/model.pt\n",
            "INFO:fairseq_cli.generate:NOTE: hypothesis and token scores are output in base 2\n",
            "INFO:fairseq_cli.generate:Translated 2000 sentences (47000 tokens) in 112.1s (17.84 sentences/s, 419.24 tokens/s)\n",
            " 27%|██▋       | 34/128 [1:23:05<4:02:06, 154.54s/it]"
          ]
        },
        {
          "output_type": "stream",
          "name": "stdout",
          "text": [
            "| IN find_best_parametrization_nevergrad: kwargs.get('generate_kwargs', {}) {}\n",
            "get ref from ( evaluate_simplifier) asset_valid_NER_ABCD\n",
            "test_set in evaluate_simplifier when get ori asset_valid\n",
            "encoder_json_path /content/drive/MyDrive/muss/resources/bart_bpe/encoder.json\n",
            "vocab_bpe_path /content/drive/MyDrive/muss/resources/bart_bpe/vocab.bpe\n"
          ]
        },
        {
          "output_type": "stream",
          "name": "stderr",
          "text": [
            "INFO:fairseq_cli.generate:Namespace(all_gather_list_size=16384, batch_size=None, batch_size_valid=None, beam=5, bf16=False, bpe=None, broadcast_buffers=False, bucket_cap_mb=25, checkpoint_shard_count=1, checkpoint_suffix='', constraints=None, cpu=False, criterion='cross_entropy', curriculum=0, data='/tmp/tmpo8fb0wnv', data_buffer_size=10, dataset_impl='raw', ddp_backend='c10d', decoding_format=None, device_id=0, disable_validation=False, distributed_backend='nccl', distributed_init_method=None, distributed_no_spawn=False, distributed_port=-1, distributed_rank=0, distributed_world_size=1, distributed_wrapper='DDP', diverse_beam_groups=-1, diverse_beam_strength=0.5, diversity_rate=-1.0, empty_cache_freq=0, eval_bleu=False, eval_bleu_args=None, eval_bleu_detok='space', eval_bleu_detok_args=None, eval_bleu_print_samples=False, eval_bleu_remove_bpe=None, eval_tokenized_bleu=False, fast_stat_sync=False, find_unused_parameters=False, fix_batches_to_gpus=False, fixed_validation_seed=None, force_anneal=None, fp16=False, fp16_init_scale=128, fp16_no_flatten_grads=False, fp16_scale_tolerance=0.0, fp16_scale_window=None, gen_subset='tmp', iter_decode_eos_penalty=0.0, iter_decode_force_max_iter=False, iter_decode_max_iter=10, iter_decode_with_beam=1, iter_decode_with_external_reranker=False, left_pad_source='True', left_pad_target='False', lenpen=1.0, lm_path=None, lm_weight=0.0, load_alignments=False, localsgd_frequency=3, log_format=None, log_interval=100, lr_scheduler='fixed', lr_shrink=0.1, match_source_len=False, max_len_a=0, max_len_b=200, max_source_positions=1024, max_target_positions=1024, max_tokens=8000, max_tokens_valid=8000, memory_efficient_bf16=False, memory_efficient_fp16=False, min_len=1, min_loss_scale=0.0001, model_overrides=\"{'encoder_embed_path': None, 'decoder_embed_path': None}\", model_parallel_size=1, nbest=1, no_beamable_mm=False, no_early_stop=False, no_progress_bar=False, no_repeat_ngram_size=0, no_seed_provided=False, nprocs_per_node=1, num_batch_buckets=0, num_shards=1, num_workers=1, optimizer=None, path='/content/drive/MyDrive/muss/experiments/fairseq/local_1631567843618/model.pt', pipeline_balance=None, pipeline_checkpoint='never', pipeline_chunks=0, pipeline_decoder_balance=None, pipeline_decoder_devices=None, pipeline_devices=None, pipeline_encoder_balance=None, pipeline_encoder_devices=None, pipeline_model_parallel=False, prefix_size=0, print_alignment=False, print_step=False, profile=False, quantization_config_path=None, quiet=False, remove_bpe=None, replace_unk=None, required_batch_size_multiple=8, required_seq_len_multiple=1, results_path=None, retain_dropout=False, retain_dropout_modules=None, retain_iter_history=False, sacrebleu=False, sampling=False, sampling_topk=-1, sampling_topp=-1.0, score_reference=False, scoring='bleu', seed=1, shard_id=0, skip_invalid_size_inputs_valid_test=True, slowmo_algorithm='LocalSGD', slowmo_momentum=None, source_lang=None, target_lang=None, task='translation', temperature=1.0, tensorboard_logdir=None, threshold_loss_scale=None, tokenizer=None, tpu=False, train_subset='train', truncate_source=False, unkpen=0, unnormalized=False, upsample_primary=1, user_dir=None, valid_subset='valid', validate_after_updates=0, validate_interval=1, validate_interval_updates=0, warmup_updates=0, zero_sharding='none')\n",
            "INFO:fairseq.tasks.translation:[complex] dictionary: 50264 types\n",
            "INFO:fairseq.tasks.translation:[simple] dictionary: 50264 types\n"
          ]
        },
        {
          "output_type": "stream",
          "name": "stdout",
          "text": [
            "| use checkpoint_paths [PosixPath('/content/drive/MyDrive/muss/experiments/fairseq/local_1631567843618/model.pt')]\n"
          ]
        },
        {
          "output_type": "stream",
          "name": "stderr",
          "text": [
            "INFO:fairseq.data.data_utils:loaded 2000 examples from: /tmp/tmpo8fb0wnv/tmp.complex-simple.complex\n",
            "INFO:fairseq.data.data_utils:loaded 2000 examples from: /tmp/tmpo8fb0wnv/tmp.complex-simple.simple\n",
            "INFO:fairseq.tasks.translation:/tmp/tmpo8fb0wnv tmp complex-simple 2000 examples\n",
            "INFO:fairseq_cli.generate:loading model(s) from /content/drive/MyDrive/muss/experiments/fairseq/local_1631567843618/model.pt\n",
            "INFO:fairseq_cli.generate:NOTE: hypothesis and token scores are output in base 2\n",
            "INFO:fairseq_cli.generate:Translated 2000 sentences (46782 tokens) in 111.3s (17.97 sentences/s, 420.24 tokens/s)\n",
            " 27%|██▋       | 35/128 [1:25:40<3:59:52, 154.75s/it]"
          ]
        },
        {
          "output_type": "stream",
          "name": "stdout",
          "text": [
            "| IN find_best_parametrization_nevergrad: kwargs.get('generate_kwargs', {}) {}\n",
            "get ref from ( evaluate_simplifier) asset_valid_NER_ABCD\n",
            "test_set in evaluate_simplifier when get ori asset_valid\n",
            "encoder_json_path /content/drive/MyDrive/muss/resources/bart_bpe/encoder.json\n",
            "vocab_bpe_path /content/drive/MyDrive/muss/resources/bart_bpe/vocab.bpe\n"
          ]
        },
        {
          "output_type": "stream",
          "name": "stderr",
          "text": [
            "INFO:fairseq_cli.generate:Namespace(all_gather_list_size=16384, batch_size=None, batch_size_valid=None, beam=5, bf16=False, bpe=None, broadcast_buffers=False, bucket_cap_mb=25, checkpoint_shard_count=1, checkpoint_suffix='', constraints=None, cpu=False, criterion='cross_entropy', curriculum=0, data='/tmp/tmpro0a3y3d', data_buffer_size=10, dataset_impl='raw', ddp_backend='c10d', decoding_format=None, device_id=0, disable_validation=False, distributed_backend='nccl', distributed_init_method=None, distributed_no_spawn=False, distributed_port=-1, distributed_rank=0, distributed_world_size=1, distributed_wrapper='DDP', diverse_beam_groups=-1, diverse_beam_strength=0.5, diversity_rate=-1.0, empty_cache_freq=0, eval_bleu=False, eval_bleu_args=None, eval_bleu_detok='space', eval_bleu_detok_args=None, eval_bleu_print_samples=False, eval_bleu_remove_bpe=None, eval_tokenized_bleu=False, fast_stat_sync=False, find_unused_parameters=False, fix_batches_to_gpus=False, fixed_validation_seed=None, force_anneal=None, fp16=False, fp16_init_scale=128, fp16_no_flatten_grads=False, fp16_scale_tolerance=0.0, fp16_scale_window=None, gen_subset='tmp', iter_decode_eos_penalty=0.0, iter_decode_force_max_iter=False, iter_decode_max_iter=10, iter_decode_with_beam=1, iter_decode_with_external_reranker=False, left_pad_source='True', left_pad_target='False', lenpen=1.0, lm_path=None, lm_weight=0.0, load_alignments=False, localsgd_frequency=3, log_format=None, log_interval=100, lr_scheduler='fixed', lr_shrink=0.1, match_source_len=False, max_len_a=0, max_len_b=200, max_source_positions=1024, max_target_positions=1024, max_tokens=8000, max_tokens_valid=8000, memory_efficient_bf16=False, memory_efficient_fp16=False, min_len=1, min_loss_scale=0.0001, model_overrides=\"{'encoder_embed_path': None, 'decoder_embed_path': None}\", model_parallel_size=1, nbest=1, no_beamable_mm=False, no_early_stop=False, no_progress_bar=False, no_repeat_ngram_size=0, no_seed_provided=False, nprocs_per_node=1, num_batch_buckets=0, num_shards=1, num_workers=1, optimizer=None, path='/content/drive/MyDrive/muss/experiments/fairseq/local_1631567843618/model.pt', pipeline_balance=None, pipeline_checkpoint='never', pipeline_chunks=0, pipeline_decoder_balance=None, pipeline_decoder_devices=None, pipeline_devices=None, pipeline_encoder_balance=None, pipeline_encoder_devices=None, pipeline_model_parallel=False, prefix_size=0, print_alignment=False, print_step=False, profile=False, quantization_config_path=None, quiet=False, remove_bpe=None, replace_unk=None, required_batch_size_multiple=8, required_seq_len_multiple=1, results_path=None, retain_dropout=False, retain_dropout_modules=None, retain_iter_history=False, sacrebleu=False, sampling=False, sampling_topk=-1, sampling_topp=-1.0, score_reference=False, scoring='bleu', seed=1, shard_id=0, skip_invalid_size_inputs_valid_test=True, slowmo_algorithm='LocalSGD', slowmo_momentum=None, source_lang=None, target_lang=None, task='translation', temperature=1.0, tensorboard_logdir=None, threshold_loss_scale=None, tokenizer=None, tpu=False, train_subset='train', truncate_source=False, unkpen=0, unnormalized=False, upsample_primary=1, user_dir=None, valid_subset='valid', validate_after_updates=0, validate_interval=1, validate_interval_updates=0, warmup_updates=0, zero_sharding='none')\n",
            "INFO:fairseq.tasks.translation:[complex] dictionary: 50264 types\n",
            "INFO:fairseq.tasks.translation:[simple] dictionary: 50264 types\n"
          ]
        },
        {
          "output_type": "stream",
          "name": "stdout",
          "text": [
            "| use checkpoint_paths [PosixPath('/content/drive/MyDrive/muss/experiments/fairseq/local_1631567843618/model.pt')]\n"
          ]
        },
        {
          "output_type": "stream",
          "name": "stderr",
          "text": [
            "INFO:fairseq.data.data_utils:loaded 2000 examples from: /tmp/tmpro0a3y3d/tmp.complex-simple.complex\n",
            "INFO:fairseq.data.data_utils:loaded 2000 examples from: /tmp/tmpro0a3y3d/tmp.complex-simple.simple\n",
            "INFO:fairseq.tasks.translation:/tmp/tmpro0a3y3d tmp complex-simple 2000 examples\n",
            "INFO:fairseq_cli.generate:loading model(s) from /content/drive/MyDrive/muss/experiments/fairseq/local_1631567843618/model.pt\n",
            "INFO:fairseq_cli.generate:NOTE: hypothesis and token scores are output in base 2\n",
            "INFO:fairseq_cli.generate:Translated 2000 sentences (44549 tokens) in 107.7s (18.57 sentences/s, 413.61 tokens/s)\n",
            " 28%|██▊       | 36/128 [1:28:11<3:55:49, 153.80s/it]"
          ]
        },
        {
          "output_type": "stream",
          "name": "stdout",
          "text": [
            "| IN find_best_parametrization_nevergrad: kwargs.get('generate_kwargs', {}) {}\n",
            "get ref from ( evaluate_simplifier) asset_valid_NER_ABCD\n",
            "test_set in evaluate_simplifier when get ori asset_valid\n",
            "encoder_json_path /content/drive/MyDrive/muss/resources/bart_bpe/encoder.json\n",
            "vocab_bpe_path /content/drive/MyDrive/muss/resources/bart_bpe/vocab.bpe\n"
          ]
        },
        {
          "output_type": "stream",
          "name": "stderr",
          "text": [
            "INFO:fairseq_cli.generate:Namespace(all_gather_list_size=16384, batch_size=None, batch_size_valid=None, beam=5, bf16=False, bpe=None, broadcast_buffers=False, bucket_cap_mb=25, checkpoint_shard_count=1, checkpoint_suffix='', constraints=None, cpu=False, criterion='cross_entropy', curriculum=0, data='/tmp/tmpavc5dp1z', data_buffer_size=10, dataset_impl='raw', ddp_backend='c10d', decoding_format=None, device_id=0, disable_validation=False, distributed_backend='nccl', distributed_init_method=None, distributed_no_spawn=False, distributed_port=-1, distributed_rank=0, distributed_world_size=1, distributed_wrapper='DDP', diverse_beam_groups=-1, diverse_beam_strength=0.5, diversity_rate=-1.0, empty_cache_freq=0, eval_bleu=False, eval_bleu_args=None, eval_bleu_detok='space', eval_bleu_detok_args=None, eval_bleu_print_samples=False, eval_bleu_remove_bpe=None, eval_tokenized_bleu=False, fast_stat_sync=False, find_unused_parameters=False, fix_batches_to_gpus=False, fixed_validation_seed=None, force_anneal=None, fp16=False, fp16_init_scale=128, fp16_no_flatten_grads=False, fp16_scale_tolerance=0.0, fp16_scale_window=None, gen_subset='tmp', iter_decode_eos_penalty=0.0, iter_decode_force_max_iter=False, iter_decode_max_iter=10, iter_decode_with_beam=1, iter_decode_with_external_reranker=False, left_pad_source='True', left_pad_target='False', lenpen=1.0, lm_path=None, lm_weight=0.0, load_alignments=False, localsgd_frequency=3, log_format=None, log_interval=100, lr_scheduler='fixed', lr_shrink=0.1, match_source_len=False, max_len_a=0, max_len_b=200, max_source_positions=1024, max_target_positions=1024, max_tokens=8000, max_tokens_valid=8000, memory_efficient_bf16=False, memory_efficient_fp16=False, min_len=1, min_loss_scale=0.0001, model_overrides=\"{'encoder_embed_path': None, 'decoder_embed_path': None}\", model_parallel_size=1, nbest=1, no_beamable_mm=False, no_early_stop=False, no_progress_bar=False, no_repeat_ngram_size=0, no_seed_provided=False, nprocs_per_node=1, num_batch_buckets=0, num_shards=1, num_workers=1, optimizer=None, path='/content/drive/MyDrive/muss/experiments/fairseq/local_1631567843618/model.pt', pipeline_balance=None, pipeline_checkpoint='never', pipeline_chunks=0, pipeline_decoder_balance=None, pipeline_decoder_devices=None, pipeline_devices=None, pipeline_encoder_balance=None, pipeline_encoder_devices=None, pipeline_model_parallel=False, prefix_size=0, print_alignment=False, print_step=False, profile=False, quantization_config_path=None, quiet=False, remove_bpe=None, replace_unk=None, required_batch_size_multiple=8, required_seq_len_multiple=1, results_path=None, retain_dropout=False, retain_dropout_modules=None, retain_iter_history=False, sacrebleu=False, sampling=False, sampling_topk=-1, sampling_topp=-1.0, score_reference=False, scoring='bleu', seed=1, shard_id=0, skip_invalid_size_inputs_valid_test=True, slowmo_algorithm='LocalSGD', slowmo_momentum=None, source_lang=None, target_lang=None, task='translation', temperature=1.0, tensorboard_logdir=None, threshold_loss_scale=None, tokenizer=None, tpu=False, train_subset='train', truncate_source=False, unkpen=0, unnormalized=False, upsample_primary=1, user_dir=None, valid_subset='valid', validate_after_updates=0, validate_interval=1, validate_interval_updates=0, warmup_updates=0, zero_sharding='none')\n",
            "INFO:fairseq.tasks.translation:[complex] dictionary: 50264 types\n",
            "INFO:fairseq.tasks.translation:[simple] dictionary: 50264 types\n"
          ]
        },
        {
          "output_type": "stream",
          "name": "stdout",
          "text": [
            "| use checkpoint_paths [PosixPath('/content/drive/MyDrive/muss/experiments/fairseq/local_1631567843618/model.pt')]\n"
          ]
        },
        {
          "output_type": "stream",
          "name": "stderr",
          "text": [
            "INFO:fairseq.data.data_utils:loaded 2000 examples from: /tmp/tmpavc5dp1z/tmp.complex-simple.complex\n",
            "INFO:fairseq.data.data_utils:loaded 2000 examples from: /tmp/tmpavc5dp1z/tmp.complex-simple.simple\n",
            "INFO:fairseq.tasks.translation:/tmp/tmpavc5dp1z tmp complex-simple 2000 examples\n",
            "INFO:fairseq_cli.generate:loading model(s) from /content/drive/MyDrive/muss/experiments/fairseq/local_1631567843618/model.pt\n",
            "INFO:fairseq_cli.generate:NOTE: hypothesis and token scores are output in base 2\n",
            "INFO:fairseq_cli.generate:Translated 2000 sentences (46782 tokens) in 112.1s (17.85 sentences/s, 417.51 tokens/s)\n",
            " 29%|██▉       | 37/128 [1:30:48<3:54:22, 154.53s/it]"
          ]
        },
        {
          "output_type": "stream",
          "name": "stdout",
          "text": [
            "| IN find_best_parametrization_nevergrad: kwargs.get('generate_kwargs', {}) {}\n",
            "get ref from ( evaluate_simplifier) asset_valid_NER_ABCD\n",
            "test_set in evaluate_simplifier when get ori asset_valid\n",
            "encoder_json_path /content/drive/MyDrive/muss/resources/bart_bpe/encoder.json\n",
            "vocab_bpe_path /content/drive/MyDrive/muss/resources/bart_bpe/vocab.bpe\n"
          ]
        },
        {
          "output_type": "stream",
          "name": "stderr",
          "text": [
            "INFO:fairseq_cli.generate:Namespace(all_gather_list_size=16384, batch_size=None, batch_size_valid=None, beam=5, bf16=False, bpe=None, broadcast_buffers=False, bucket_cap_mb=25, checkpoint_shard_count=1, checkpoint_suffix='', constraints=None, cpu=False, criterion='cross_entropy', curriculum=0, data='/tmp/tmp01gt_wo6', data_buffer_size=10, dataset_impl='raw', ddp_backend='c10d', decoding_format=None, device_id=0, disable_validation=False, distributed_backend='nccl', distributed_init_method=None, distributed_no_spawn=False, distributed_port=-1, distributed_rank=0, distributed_world_size=1, distributed_wrapper='DDP', diverse_beam_groups=-1, diverse_beam_strength=0.5, diversity_rate=-1.0, empty_cache_freq=0, eval_bleu=False, eval_bleu_args=None, eval_bleu_detok='space', eval_bleu_detok_args=None, eval_bleu_print_samples=False, eval_bleu_remove_bpe=None, eval_tokenized_bleu=False, fast_stat_sync=False, find_unused_parameters=False, fix_batches_to_gpus=False, fixed_validation_seed=None, force_anneal=None, fp16=False, fp16_init_scale=128, fp16_no_flatten_grads=False, fp16_scale_tolerance=0.0, fp16_scale_window=None, gen_subset='tmp', iter_decode_eos_penalty=0.0, iter_decode_force_max_iter=False, iter_decode_max_iter=10, iter_decode_with_beam=1, iter_decode_with_external_reranker=False, left_pad_source='True', left_pad_target='False', lenpen=1.0, lm_path=None, lm_weight=0.0, load_alignments=False, localsgd_frequency=3, log_format=None, log_interval=100, lr_scheduler='fixed', lr_shrink=0.1, match_source_len=False, max_len_a=0, max_len_b=200, max_source_positions=1024, max_target_positions=1024, max_tokens=8000, max_tokens_valid=8000, memory_efficient_bf16=False, memory_efficient_fp16=False, min_len=1, min_loss_scale=0.0001, model_overrides=\"{'encoder_embed_path': None, 'decoder_embed_path': None}\", model_parallel_size=1, nbest=1, no_beamable_mm=False, no_early_stop=False, no_progress_bar=False, no_repeat_ngram_size=0, no_seed_provided=False, nprocs_per_node=1, num_batch_buckets=0, num_shards=1, num_workers=1, optimizer=None, path='/content/drive/MyDrive/muss/experiments/fairseq/local_1631567843618/model.pt', pipeline_balance=None, pipeline_checkpoint='never', pipeline_chunks=0, pipeline_decoder_balance=None, pipeline_decoder_devices=None, pipeline_devices=None, pipeline_encoder_balance=None, pipeline_encoder_devices=None, pipeline_model_parallel=False, prefix_size=0, print_alignment=False, print_step=False, profile=False, quantization_config_path=None, quiet=False, remove_bpe=None, replace_unk=None, required_batch_size_multiple=8, required_seq_len_multiple=1, results_path=None, retain_dropout=False, retain_dropout_modules=None, retain_iter_history=False, sacrebleu=False, sampling=False, sampling_topk=-1, sampling_topp=-1.0, score_reference=False, scoring='bleu', seed=1, shard_id=0, skip_invalid_size_inputs_valid_test=True, slowmo_algorithm='LocalSGD', slowmo_momentum=None, source_lang=None, target_lang=None, task='translation', temperature=1.0, tensorboard_logdir=None, threshold_loss_scale=None, tokenizer=None, tpu=False, train_subset='train', truncate_source=False, unkpen=0, unnormalized=False, upsample_primary=1, user_dir=None, valid_subset='valid', validate_after_updates=0, validate_interval=1, validate_interval_updates=0, warmup_updates=0, zero_sharding='none')\n",
            "INFO:fairseq.tasks.translation:[complex] dictionary: 50264 types\n",
            "INFO:fairseq.tasks.translation:[simple] dictionary: 50264 types\n"
          ]
        },
        {
          "output_type": "stream",
          "name": "stdout",
          "text": [
            "| use checkpoint_paths [PosixPath('/content/drive/MyDrive/muss/experiments/fairseq/local_1631567843618/model.pt')]\n"
          ]
        },
        {
          "output_type": "stream",
          "name": "stderr",
          "text": [
            "INFO:fairseq.data.data_utils:loaded 2000 examples from: /tmp/tmp01gt_wo6/tmp.complex-simple.complex\n",
            "INFO:fairseq.data.data_utils:loaded 2000 examples from: /tmp/tmp01gt_wo6/tmp.complex-simple.simple\n",
            "INFO:fairseq.tasks.translation:/tmp/tmp01gt_wo6 tmp complex-simple 2000 examples\n",
            "INFO:fairseq_cli.generate:loading model(s) from /content/drive/MyDrive/muss/experiments/fairseq/local_1631567843618/model.pt\n",
            "INFO:fairseq_cli.generate:NOTE: hypothesis and token scores are output in base 2\n",
            "INFO:fairseq_cli.generate:Translated 2000 sentences (44390 tokens) in 107.1s (18.68 sentences/s, 414.55 tokens/s)\n",
            " 30%|██▉       | 38/128 [1:33:18<3:50:00, 153.34s/it]"
          ]
        },
        {
          "output_type": "stream",
          "name": "stdout",
          "text": [
            "| IN find_best_parametrization_nevergrad: kwargs.get('generate_kwargs', {}) {}\n",
            "get ref from ( evaluate_simplifier) asset_valid_NER_ABCD\n",
            "test_set in evaluate_simplifier when get ori asset_valid\n",
            "encoder_json_path /content/drive/MyDrive/muss/resources/bart_bpe/encoder.json\n",
            "vocab_bpe_path /content/drive/MyDrive/muss/resources/bart_bpe/vocab.bpe\n"
          ]
        },
        {
          "output_type": "stream",
          "name": "stderr",
          "text": [
            "INFO:fairseq_cli.generate:Namespace(all_gather_list_size=16384, batch_size=None, batch_size_valid=None, beam=5, bf16=False, bpe=None, broadcast_buffers=False, bucket_cap_mb=25, checkpoint_shard_count=1, checkpoint_suffix='', constraints=None, cpu=False, criterion='cross_entropy', curriculum=0, data='/tmp/tmpvwsl8x94', data_buffer_size=10, dataset_impl='raw', ddp_backend='c10d', decoding_format=None, device_id=0, disable_validation=False, distributed_backend='nccl', distributed_init_method=None, distributed_no_spawn=False, distributed_port=-1, distributed_rank=0, distributed_world_size=1, distributed_wrapper='DDP', diverse_beam_groups=-1, diverse_beam_strength=0.5, diversity_rate=-1.0, empty_cache_freq=0, eval_bleu=False, eval_bleu_args=None, eval_bleu_detok='space', eval_bleu_detok_args=None, eval_bleu_print_samples=False, eval_bleu_remove_bpe=None, eval_tokenized_bleu=False, fast_stat_sync=False, find_unused_parameters=False, fix_batches_to_gpus=False, fixed_validation_seed=None, force_anneal=None, fp16=False, fp16_init_scale=128, fp16_no_flatten_grads=False, fp16_scale_tolerance=0.0, fp16_scale_window=None, gen_subset='tmp', iter_decode_eos_penalty=0.0, iter_decode_force_max_iter=False, iter_decode_max_iter=10, iter_decode_with_beam=1, iter_decode_with_external_reranker=False, left_pad_source='True', left_pad_target='False', lenpen=1.0, lm_path=None, lm_weight=0.0, load_alignments=False, localsgd_frequency=3, log_format=None, log_interval=100, lr_scheduler='fixed', lr_shrink=0.1, match_source_len=False, max_len_a=0, max_len_b=200, max_source_positions=1024, max_target_positions=1024, max_tokens=8000, max_tokens_valid=8000, memory_efficient_bf16=False, memory_efficient_fp16=False, min_len=1, min_loss_scale=0.0001, model_overrides=\"{'encoder_embed_path': None, 'decoder_embed_path': None}\", model_parallel_size=1, nbest=1, no_beamable_mm=False, no_early_stop=False, no_progress_bar=False, no_repeat_ngram_size=0, no_seed_provided=False, nprocs_per_node=1, num_batch_buckets=0, num_shards=1, num_workers=1, optimizer=None, path='/content/drive/MyDrive/muss/experiments/fairseq/local_1631567843618/model.pt', pipeline_balance=None, pipeline_checkpoint='never', pipeline_chunks=0, pipeline_decoder_balance=None, pipeline_decoder_devices=None, pipeline_devices=None, pipeline_encoder_balance=None, pipeline_encoder_devices=None, pipeline_model_parallel=False, prefix_size=0, print_alignment=False, print_step=False, profile=False, quantization_config_path=None, quiet=False, remove_bpe=None, replace_unk=None, required_batch_size_multiple=8, required_seq_len_multiple=1, results_path=None, retain_dropout=False, retain_dropout_modules=None, retain_iter_history=False, sacrebleu=False, sampling=False, sampling_topk=-1, sampling_topp=-1.0, score_reference=False, scoring='bleu', seed=1, shard_id=0, skip_invalid_size_inputs_valid_test=True, slowmo_algorithm='LocalSGD', slowmo_momentum=None, source_lang=None, target_lang=None, task='translation', temperature=1.0, tensorboard_logdir=None, threshold_loss_scale=None, tokenizer=None, tpu=False, train_subset='train', truncate_source=False, unkpen=0, unnormalized=False, upsample_primary=1, user_dir=None, valid_subset='valid', validate_after_updates=0, validate_interval=1, validate_interval_updates=0, warmup_updates=0, zero_sharding='none')\n",
            "INFO:fairseq.tasks.translation:[complex] dictionary: 50264 types\n",
            "INFO:fairseq.tasks.translation:[simple] dictionary: 50264 types\n"
          ]
        },
        {
          "output_type": "stream",
          "name": "stdout",
          "text": [
            "| use checkpoint_paths [PosixPath('/content/drive/MyDrive/muss/experiments/fairseq/local_1631567843618/model.pt')]\n"
          ]
        },
        {
          "output_type": "stream",
          "name": "stderr",
          "text": [
            "INFO:fairseq.data.data_utils:loaded 2000 examples from: /tmp/tmpvwsl8x94/tmp.complex-simple.complex\n",
            "INFO:fairseq.data.data_utils:loaded 2000 examples from: /tmp/tmpvwsl8x94/tmp.complex-simple.simple\n",
            "INFO:fairseq.tasks.translation:/tmp/tmpvwsl8x94 tmp complex-simple 2000 examples\n",
            "INFO:fairseq_cli.generate:loading model(s) from /content/drive/MyDrive/muss/experiments/fairseq/local_1631567843618/model.pt\n",
            "INFO:fairseq_cli.generate:NOTE: hypothesis and token scores are output in base 2\n",
            "INFO:fairseq_cli.generate:Translated 2000 sentences (44390 tokens) in 107.2s (18.65 sentences/s, 413.97 tokens/s)\n",
            " 30%|███       | 39/128 [1:35:49<3:46:26, 152.66s/it]"
          ]
        },
        {
          "output_type": "stream",
          "name": "stdout",
          "text": [
            "| IN find_best_parametrization_nevergrad: kwargs.get('generate_kwargs', {}) {}\n",
            "get ref from ( evaluate_simplifier) asset_valid_NER_ABCD\n",
            "test_set in evaluate_simplifier when get ori asset_valid\n",
            "encoder_json_path /content/drive/MyDrive/muss/resources/bart_bpe/encoder.json\n",
            "vocab_bpe_path /content/drive/MyDrive/muss/resources/bart_bpe/vocab.bpe\n"
          ]
        },
        {
          "output_type": "stream",
          "name": "stderr",
          "text": [
            "INFO:fairseq_cli.generate:Namespace(all_gather_list_size=16384, batch_size=None, batch_size_valid=None, beam=5, bf16=False, bpe=None, broadcast_buffers=False, bucket_cap_mb=25, checkpoint_shard_count=1, checkpoint_suffix='', constraints=None, cpu=False, criterion='cross_entropy', curriculum=0, data='/tmp/tmp9678c3v2', data_buffer_size=10, dataset_impl='raw', ddp_backend='c10d', decoding_format=None, device_id=0, disable_validation=False, distributed_backend='nccl', distributed_init_method=None, distributed_no_spawn=False, distributed_port=-1, distributed_rank=0, distributed_world_size=1, distributed_wrapper='DDP', diverse_beam_groups=-1, diverse_beam_strength=0.5, diversity_rate=-1.0, empty_cache_freq=0, eval_bleu=False, eval_bleu_args=None, eval_bleu_detok='space', eval_bleu_detok_args=None, eval_bleu_print_samples=False, eval_bleu_remove_bpe=None, eval_tokenized_bleu=False, fast_stat_sync=False, find_unused_parameters=False, fix_batches_to_gpus=False, fixed_validation_seed=None, force_anneal=None, fp16=False, fp16_init_scale=128, fp16_no_flatten_grads=False, fp16_scale_tolerance=0.0, fp16_scale_window=None, gen_subset='tmp', iter_decode_eos_penalty=0.0, iter_decode_force_max_iter=False, iter_decode_max_iter=10, iter_decode_with_beam=1, iter_decode_with_external_reranker=False, left_pad_source='True', left_pad_target='False', lenpen=1.0, lm_path=None, lm_weight=0.0, load_alignments=False, localsgd_frequency=3, log_format=None, log_interval=100, lr_scheduler='fixed', lr_shrink=0.1, match_source_len=False, max_len_a=0, max_len_b=200, max_source_positions=1024, max_target_positions=1024, max_tokens=8000, max_tokens_valid=8000, memory_efficient_bf16=False, memory_efficient_fp16=False, min_len=1, min_loss_scale=0.0001, model_overrides=\"{'encoder_embed_path': None, 'decoder_embed_path': None}\", model_parallel_size=1, nbest=1, no_beamable_mm=False, no_early_stop=False, no_progress_bar=False, no_repeat_ngram_size=0, no_seed_provided=False, nprocs_per_node=1, num_batch_buckets=0, num_shards=1, num_workers=1, optimizer=None, path='/content/drive/MyDrive/muss/experiments/fairseq/local_1631567843618/model.pt', pipeline_balance=None, pipeline_checkpoint='never', pipeline_chunks=0, pipeline_decoder_balance=None, pipeline_decoder_devices=None, pipeline_devices=None, pipeline_encoder_balance=None, pipeline_encoder_devices=None, pipeline_model_parallel=False, prefix_size=0, print_alignment=False, print_step=False, profile=False, quantization_config_path=None, quiet=False, remove_bpe=None, replace_unk=None, required_batch_size_multiple=8, required_seq_len_multiple=1, results_path=None, retain_dropout=False, retain_dropout_modules=None, retain_iter_history=False, sacrebleu=False, sampling=False, sampling_topk=-1, sampling_topp=-1.0, score_reference=False, scoring='bleu', seed=1, shard_id=0, skip_invalid_size_inputs_valid_test=True, slowmo_algorithm='LocalSGD', slowmo_momentum=None, source_lang=None, target_lang=None, task='translation', temperature=1.0, tensorboard_logdir=None, threshold_loss_scale=None, tokenizer=None, tpu=False, train_subset='train', truncate_source=False, unkpen=0, unnormalized=False, upsample_primary=1, user_dir=None, valid_subset='valid', validate_after_updates=0, validate_interval=1, validate_interval_updates=0, warmup_updates=0, zero_sharding='none')\n",
            "INFO:fairseq.tasks.translation:[complex] dictionary: 50264 types\n",
            "INFO:fairseq.tasks.translation:[simple] dictionary: 50264 types\n"
          ]
        },
        {
          "output_type": "stream",
          "name": "stdout",
          "text": [
            "| use checkpoint_paths [PosixPath('/content/drive/MyDrive/muss/experiments/fairseq/local_1631567843618/model.pt')]\n"
          ]
        },
        {
          "output_type": "stream",
          "name": "stderr",
          "text": [
            "INFO:fairseq.data.data_utils:loaded 2000 examples from: /tmp/tmp9678c3v2/tmp.complex-simple.complex\n",
            "INFO:fairseq.data.data_utils:loaded 2000 examples from: /tmp/tmp9678c3v2/tmp.complex-simple.simple\n",
            "INFO:fairseq.tasks.translation:/tmp/tmp9678c3v2 tmp complex-simple 2000 examples\n",
            "INFO:fairseq_cli.generate:loading model(s) from /content/drive/MyDrive/muss/experiments/fairseq/local_1631567843618/model.pt\n",
            "INFO:fairseq_cli.generate:NOTE: hypothesis and token scores are output in base 2\n",
            "INFO:fairseq_cli.generate:Translated 2000 sentences (46782 tokens) in 111.6s (17.92 sentences/s, 419.10 tokens/s)\n",
            " 31%|███▏      | 40/128 [1:38:25<3:45:09, 153.52s/it]"
          ]
        },
        {
          "output_type": "stream",
          "name": "stdout",
          "text": [
            "| IN find_best_parametrization_nevergrad: kwargs.get('generate_kwargs', {}) {}\n",
            "get ref from ( evaluate_simplifier) asset_valid_NER_ABCD\n",
            "test_set in evaluate_simplifier when get ori asset_valid\n",
            "encoder_json_path /content/drive/MyDrive/muss/resources/bart_bpe/encoder.json\n",
            "vocab_bpe_path /content/drive/MyDrive/muss/resources/bart_bpe/vocab.bpe\n"
          ]
        },
        {
          "output_type": "stream",
          "name": "stderr",
          "text": [
            "INFO:fairseq_cli.generate:Namespace(all_gather_list_size=16384, batch_size=None, batch_size_valid=None, beam=5, bf16=False, bpe=None, broadcast_buffers=False, bucket_cap_mb=25, checkpoint_shard_count=1, checkpoint_suffix='', constraints=None, cpu=False, criterion='cross_entropy', curriculum=0, data='/tmp/tmpslejam5h', data_buffer_size=10, dataset_impl='raw', ddp_backend='c10d', decoding_format=None, device_id=0, disable_validation=False, distributed_backend='nccl', distributed_init_method=None, distributed_no_spawn=False, distributed_port=-1, distributed_rank=0, distributed_world_size=1, distributed_wrapper='DDP', diverse_beam_groups=-1, diverse_beam_strength=0.5, diversity_rate=-1.0, empty_cache_freq=0, eval_bleu=False, eval_bleu_args=None, eval_bleu_detok='space', eval_bleu_detok_args=None, eval_bleu_print_samples=False, eval_bleu_remove_bpe=None, eval_tokenized_bleu=False, fast_stat_sync=False, find_unused_parameters=False, fix_batches_to_gpus=False, fixed_validation_seed=None, force_anneal=None, fp16=False, fp16_init_scale=128, fp16_no_flatten_grads=False, fp16_scale_tolerance=0.0, fp16_scale_window=None, gen_subset='tmp', iter_decode_eos_penalty=0.0, iter_decode_force_max_iter=False, iter_decode_max_iter=10, iter_decode_with_beam=1, iter_decode_with_external_reranker=False, left_pad_source='True', left_pad_target='False', lenpen=1.0, lm_path=None, lm_weight=0.0, load_alignments=False, localsgd_frequency=3, log_format=None, log_interval=100, lr_scheduler='fixed', lr_shrink=0.1, match_source_len=False, max_len_a=0, max_len_b=200, max_source_positions=1024, max_target_positions=1024, max_tokens=8000, max_tokens_valid=8000, memory_efficient_bf16=False, memory_efficient_fp16=False, min_len=1, min_loss_scale=0.0001, model_overrides=\"{'encoder_embed_path': None, 'decoder_embed_path': None}\", model_parallel_size=1, nbest=1, no_beamable_mm=False, no_early_stop=False, no_progress_bar=False, no_repeat_ngram_size=0, no_seed_provided=False, nprocs_per_node=1, num_batch_buckets=0, num_shards=1, num_workers=1, optimizer=None, path='/content/drive/MyDrive/muss/experiments/fairseq/local_1631567843618/model.pt', pipeline_balance=None, pipeline_checkpoint='never', pipeline_chunks=0, pipeline_decoder_balance=None, pipeline_decoder_devices=None, pipeline_devices=None, pipeline_encoder_balance=None, pipeline_encoder_devices=None, pipeline_model_parallel=False, prefix_size=0, print_alignment=False, print_step=False, profile=False, quantization_config_path=None, quiet=False, remove_bpe=None, replace_unk=None, required_batch_size_multiple=8, required_seq_len_multiple=1, results_path=None, retain_dropout=False, retain_dropout_modules=None, retain_iter_history=False, sacrebleu=False, sampling=False, sampling_topk=-1, sampling_topp=-1.0, score_reference=False, scoring='bleu', seed=1, shard_id=0, skip_invalid_size_inputs_valid_test=True, slowmo_algorithm='LocalSGD', slowmo_momentum=None, source_lang=None, target_lang=None, task='translation', temperature=1.0, tensorboard_logdir=None, threshold_loss_scale=None, tokenizer=None, tpu=False, train_subset='train', truncate_source=False, unkpen=0, unnormalized=False, upsample_primary=1, user_dir=None, valid_subset='valid', validate_after_updates=0, validate_interval=1, validate_interval_updates=0, warmup_updates=0, zero_sharding='none')\n",
            "INFO:fairseq.tasks.translation:[complex] dictionary: 50264 types\n",
            "INFO:fairseq.tasks.translation:[simple] dictionary: 50264 types\n"
          ]
        },
        {
          "output_type": "stream",
          "name": "stdout",
          "text": [
            "| use checkpoint_paths [PosixPath('/content/drive/MyDrive/muss/experiments/fairseq/local_1631567843618/model.pt')]\n"
          ]
        },
        {
          "output_type": "stream",
          "name": "stderr",
          "text": [
            "INFO:fairseq.data.data_utils:loaded 2000 examples from: /tmp/tmpslejam5h/tmp.complex-simple.complex\n",
            "INFO:fairseq.data.data_utils:loaded 2000 examples from: /tmp/tmpslejam5h/tmp.complex-simple.simple\n",
            "INFO:fairseq.tasks.translation:/tmp/tmpslejam5h tmp complex-simple 2000 examples\n",
            "INFO:fairseq_cli.generate:loading model(s) from /content/drive/MyDrive/muss/experiments/fairseq/local_1631567843618/model.pt\n",
            "INFO:fairseq_cli.generate:NOTE: hypothesis and token scores are output in base 2\n",
            "INFO:fairseq_cli.generate:Translated 2000 sentences (46782 tokens) in 111.7s (17.91 sentences/s, 419.00 tokens/s)\n",
            " 32%|███▏      | 41/128 [1:41:00<3:43:21, 154.04s/it]"
          ]
        },
        {
          "output_type": "stream",
          "name": "stdout",
          "text": [
            "| IN find_best_parametrization_nevergrad: kwargs.get('generate_kwargs', {}) {}\n",
            "get ref from ( evaluate_simplifier) asset_valid_NER_ABCD\n",
            "test_set in evaluate_simplifier when get ori asset_valid\n",
            "encoder_json_path /content/drive/MyDrive/muss/resources/bart_bpe/encoder.json\n",
            "vocab_bpe_path /content/drive/MyDrive/muss/resources/bart_bpe/vocab.bpe\n"
          ]
        },
        {
          "output_type": "stream",
          "name": "stderr",
          "text": [
            "INFO:fairseq_cli.generate:Namespace(all_gather_list_size=16384, batch_size=None, batch_size_valid=None, beam=5, bf16=False, bpe=None, broadcast_buffers=False, bucket_cap_mb=25, checkpoint_shard_count=1, checkpoint_suffix='', constraints=None, cpu=False, criterion='cross_entropy', curriculum=0, data='/tmp/tmpqalwak78', data_buffer_size=10, dataset_impl='raw', ddp_backend='c10d', decoding_format=None, device_id=0, disable_validation=False, distributed_backend='nccl', distributed_init_method=None, distributed_no_spawn=False, distributed_port=-1, distributed_rank=0, distributed_world_size=1, distributed_wrapper='DDP', diverse_beam_groups=-1, diverse_beam_strength=0.5, diversity_rate=-1.0, empty_cache_freq=0, eval_bleu=False, eval_bleu_args=None, eval_bleu_detok='space', eval_bleu_detok_args=None, eval_bleu_print_samples=False, eval_bleu_remove_bpe=None, eval_tokenized_bleu=False, fast_stat_sync=False, find_unused_parameters=False, fix_batches_to_gpus=False, fixed_validation_seed=None, force_anneal=None, fp16=False, fp16_init_scale=128, fp16_no_flatten_grads=False, fp16_scale_tolerance=0.0, fp16_scale_window=None, gen_subset='tmp', iter_decode_eos_penalty=0.0, iter_decode_force_max_iter=False, iter_decode_max_iter=10, iter_decode_with_beam=1, iter_decode_with_external_reranker=False, left_pad_source='True', left_pad_target='False', lenpen=1.0, lm_path=None, lm_weight=0.0, load_alignments=False, localsgd_frequency=3, log_format=None, log_interval=100, lr_scheduler='fixed', lr_shrink=0.1, match_source_len=False, max_len_a=0, max_len_b=200, max_source_positions=1024, max_target_positions=1024, max_tokens=8000, max_tokens_valid=8000, memory_efficient_bf16=False, memory_efficient_fp16=False, min_len=1, min_loss_scale=0.0001, model_overrides=\"{'encoder_embed_path': None, 'decoder_embed_path': None}\", model_parallel_size=1, nbest=1, no_beamable_mm=False, no_early_stop=False, no_progress_bar=False, no_repeat_ngram_size=0, no_seed_provided=False, nprocs_per_node=1, num_batch_buckets=0, num_shards=1, num_workers=1, optimizer=None, path='/content/drive/MyDrive/muss/experiments/fairseq/local_1631567843618/model.pt', pipeline_balance=None, pipeline_checkpoint='never', pipeline_chunks=0, pipeline_decoder_balance=None, pipeline_decoder_devices=None, pipeline_devices=None, pipeline_encoder_balance=None, pipeline_encoder_devices=None, pipeline_model_parallel=False, prefix_size=0, print_alignment=False, print_step=False, profile=False, quantization_config_path=None, quiet=False, remove_bpe=None, replace_unk=None, required_batch_size_multiple=8, required_seq_len_multiple=1, results_path=None, retain_dropout=False, retain_dropout_modules=None, retain_iter_history=False, sacrebleu=False, sampling=False, sampling_topk=-1, sampling_topp=-1.0, score_reference=False, scoring='bleu', seed=1, shard_id=0, skip_invalid_size_inputs_valid_test=True, slowmo_algorithm='LocalSGD', slowmo_momentum=None, source_lang=None, target_lang=None, task='translation', temperature=1.0, tensorboard_logdir=None, threshold_loss_scale=None, tokenizer=None, tpu=False, train_subset='train', truncate_source=False, unkpen=0, unnormalized=False, upsample_primary=1, user_dir=None, valid_subset='valid', validate_after_updates=0, validate_interval=1, validate_interval_updates=0, warmup_updates=0, zero_sharding='none')\n",
            "INFO:fairseq.tasks.translation:[complex] dictionary: 50264 types\n",
            "INFO:fairseq.tasks.translation:[simple] dictionary: 50264 types\n"
          ]
        },
        {
          "output_type": "stream",
          "name": "stdout",
          "text": [
            "| use checkpoint_paths [PosixPath('/content/drive/MyDrive/muss/experiments/fairseq/local_1631567843618/model.pt')]\n"
          ]
        },
        {
          "output_type": "stream",
          "name": "stderr",
          "text": [
            "INFO:fairseq.data.data_utils:loaded 2000 examples from: /tmp/tmpqalwak78/tmp.complex-simple.complex\n",
            "INFO:fairseq.data.data_utils:loaded 2000 examples from: /tmp/tmpqalwak78/tmp.complex-simple.simple\n",
            "INFO:fairseq.tasks.translation:/tmp/tmpqalwak78 tmp complex-simple 2000 examples\n",
            "INFO:fairseq_cli.generate:loading model(s) from /content/drive/MyDrive/muss/experiments/fairseq/local_1631567843618/model.pt\n",
            "INFO:fairseq_cli.generate:NOTE: hypothesis and token scores are output in base 2\n",
            "INFO:fairseq_cli.generate:Translated 2000 sentences (47000 tokens) in 112.1s (17.84 sentences/s, 419.30 tokens/s)\n",
            " 33%|███▎      | 42/128 [1:43:36<3:41:49, 154.76s/it]"
          ]
        },
        {
          "output_type": "stream",
          "name": "stdout",
          "text": [
            "| IN find_best_parametrization_nevergrad: kwargs.get('generate_kwargs', {}) {}\n",
            "get ref from ( evaluate_simplifier) asset_valid_NER_ABCD\n",
            "test_set in evaluate_simplifier when get ori asset_valid\n",
            "encoder_json_path /content/drive/MyDrive/muss/resources/bart_bpe/encoder.json\n",
            "vocab_bpe_path /content/drive/MyDrive/muss/resources/bart_bpe/vocab.bpe\n"
          ]
        },
        {
          "output_type": "stream",
          "name": "stderr",
          "text": [
            "INFO:fairseq_cli.generate:Namespace(all_gather_list_size=16384, batch_size=None, batch_size_valid=None, beam=5, bf16=False, bpe=None, broadcast_buffers=False, bucket_cap_mb=25, checkpoint_shard_count=1, checkpoint_suffix='', constraints=None, cpu=False, criterion='cross_entropy', curriculum=0, data='/tmp/tmprmuotkt1', data_buffer_size=10, dataset_impl='raw', ddp_backend='c10d', decoding_format=None, device_id=0, disable_validation=False, distributed_backend='nccl', distributed_init_method=None, distributed_no_spawn=False, distributed_port=-1, distributed_rank=0, distributed_world_size=1, distributed_wrapper='DDP', diverse_beam_groups=-1, diverse_beam_strength=0.5, diversity_rate=-1.0, empty_cache_freq=0, eval_bleu=False, eval_bleu_args=None, eval_bleu_detok='space', eval_bleu_detok_args=None, eval_bleu_print_samples=False, eval_bleu_remove_bpe=None, eval_tokenized_bleu=False, fast_stat_sync=False, find_unused_parameters=False, fix_batches_to_gpus=False, fixed_validation_seed=None, force_anneal=None, fp16=False, fp16_init_scale=128, fp16_no_flatten_grads=False, fp16_scale_tolerance=0.0, fp16_scale_window=None, gen_subset='tmp', iter_decode_eos_penalty=0.0, iter_decode_force_max_iter=False, iter_decode_max_iter=10, iter_decode_with_beam=1, iter_decode_with_external_reranker=False, left_pad_source='True', left_pad_target='False', lenpen=1.0, lm_path=None, lm_weight=0.0, load_alignments=False, localsgd_frequency=3, log_format=None, log_interval=100, lr_scheduler='fixed', lr_shrink=0.1, match_source_len=False, max_len_a=0, max_len_b=200, max_source_positions=1024, max_target_positions=1024, max_tokens=8000, max_tokens_valid=8000, memory_efficient_bf16=False, memory_efficient_fp16=False, min_len=1, min_loss_scale=0.0001, model_overrides=\"{'encoder_embed_path': None, 'decoder_embed_path': None}\", model_parallel_size=1, nbest=1, no_beamable_mm=False, no_early_stop=False, no_progress_bar=False, no_repeat_ngram_size=0, no_seed_provided=False, nprocs_per_node=1, num_batch_buckets=0, num_shards=1, num_workers=1, optimizer=None, path='/content/drive/MyDrive/muss/experiments/fairseq/local_1631567843618/model.pt', pipeline_balance=None, pipeline_checkpoint='never', pipeline_chunks=0, pipeline_decoder_balance=None, pipeline_decoder_devices=None, pipeline_devices=None, pipeline_encoder_balance=None, pipeline_encoder_devices=None, pipeline_model_parallel=False, prefix_size=0, print_alignment=False, print_step=False, profile=False, quantization_config_path=None, quiet=False, remove_bpe=None, replace_unk=None, required_batch_size_multiple=8, required_seq_len_multiple=1, results_path=None, retain_dropout=False, retain_dropout_modules=None, retain_iter_history=False, sacrebleu=False, sampling=False, sampling_topk=-1, sampling_topp=-1.0, score_reference=False, scoring='bleu', seed=1, shard_id=0, skip_invalid_size_inputs_valid_test=True, slowmo_algorithm='LocalSGD', slowmo_momentum=None, source_lang=None, target_lang=None, task='translation', temperature=1.0, tensorboard_logdir=None, threshold_loss_scale=None, tokenizer=None, tpu=False, train_subset='train', truncate_source=False, unkpen=0, unnormalized=False, upsample_primary=1, user_dir=None, valid_subset='valid', validate_after_updates=0, validate_interval=1, validate_interval_updates=0, warmup_updates=0, zero_sharding='none')\n",
            "INFO:fairseq.tasks.translation:[complex] dictionary: 50264 types\n",
            "INFO:fairseq.tasks.translation:[simple] dictionary: 50264 types\n"
          ]
        },
        {
          "output_type": "stream",
          "name": "stdout",
          "text": [
            "| use checkpoint_paths [PosixPath('/content/drive/MyDrive/muss/experiments/fairseq/local_1631567843618/model.pt')]\n"
          ]
        },
        {
          "output_type": "stream",
          "name": "stderr",
          "text": [
            "INFO:fairseq.data.data_utils:loaded 2000 examples from: /tmp/tmprmuotkt1/tmp.complex-simple.complex\n",
            "INFO:fairseq.data.data_utils:loaded 2000 examples from: /tmp/tmprmuotkt1/tmp.complex-simple.simple\n",
            "INFO:fairseq.tasks.translation:/tmp/tmprmuotkt1 tmp complex-simple 2000 examples\n",
            "INFO:fairseq_cli.generate:loading model(s) from /content/drive/MyDrive/muss/experiments/fairseq/local_1631567843618/model.pt\n",
            "INFO:fairseq_cli.generate:NOTE: hypothesis and token scores are output in base 2\n",
            "INFO:fairseq_cli.generate:Translated 2000 sentences (46782 tokens) in 111.6s (17.92 sentences/s, 419.26 tokens/s)\n",
            " 34%|███▎      | 43/128 [1:46:12<3:39:35, 155.00s/it]"
          ]
        },
        {
          "output_type": "stream",
          "name": "stdout",
          "text": [
            "| IN find_best_parametrization_nevergrad: kwargs.get('generate_kwargs', {}) {}\n",
            "get ref from ( evaluate_simplifier) asset_valid_NER_ABCD\n",
            "test_set in evaluate_simplifier when get ori asset_valid\n",
            "encoder_json_path /content/drive/MyDrive/muss/resources/bart_bpe/encoder.json\n",
            "vocab_bpe_path /content/drive/MyDrive/muss/resources/bart_bpe/vocab.bpe\n"
          ]
        },
        {
          "output_type": "stream",
          "name": "stderr",
          "text": [
            "INFO:fairseq_cli.generate:Namespace(all_gather_list_size=16384, batch_size=None, batch_size_valid=None, beam=5, bf16=False, bpe=None, broadcast_buffers=False, bucket_cap_mb=25, checkpoint_shard_count=1, checkpoint_suffix='', constraints=None, cpu=False, criterion='cross_entropy', curriculum=0, data='/tmp/tmppatnzyya', data_buffer_size=10, dataset_impl='raw', ddp_backend='c10d', decoding_format=None, device_id=0, disable_validation=False, distributed_backend='nccl', distributed_init_method=None, distributed_no_spawn=False, distributed_port=-1, distributed_rank=0, distributed_world_size=1, distributed_wrapper='DDP', diverse_beam_groups=-1, diverse_beam_strength=0.5, diversity_rate=-1.0, empty_cache_freq=0, eval_bleu=False, eval_bleu_args=None, eval_bleu_detok='space', eval_bleu_detok_args=None, eval_bleu_print_samples=False, eval_bleu_remove_bpe=None, eval_tokenized_bleu=False, fast_stat_sync=False, find_unused_parameters=False, fix_batches_to_gpus=False, fixed_validation_seed=None, force_anneal=None, fp16=False, fp16_init_scale=128, fp16_no_flatten_grads=False, fp16_scale_tolerance=0.0, fp16_scale_window=None, gen_subset='tmp', iter_decode_eos_penalty=0.0, iter_decode_force_max_iter=False, iter_decode_max_iter=10, iter_decode_with_beam=1, iter_decode_with_external_reranker=False, left_pad_source='True', left_pad_target='False', lenpen=1.0, lm_path=None, lm_weight=0.0, load_alignments=False, localsgd_frequency=3, log_format=None, log_interval=100, lr_scheduler='fixed', lr_shrink=0.1, match_source_len=False, max_len_a=0, max_len_b=200, max_source_positions=1024, max_target_positions=1024, max_tokens=8000, max_tokens_valid=8000, memory_efficient_bf16=False, memory_efficient_fp16=False, min_len=1, min_loss_scale=0.0001, model_overrides=\"{'encoder_embed_path': None, 'decoder_embed_path': None}\", model_parallel_size=1, nbest=1, no_beamable_mm=False, no_early_stop=False, no_progress_bar=False, no_repeat_ngram_size=0, no_seed_provided=False, nprocs_per_node=1, num_batch_buckets=0, num_shards=1, num_workers=1, optimizer=None, path='/content/drive/MyDrive/muss/experiments/fairseq/local_1631567843618/model.pt', pipeline_balance=None, pipeline_checkpoint='never', pipeline_chunks=0, pipeline_decoder_balance=None, pipeline_decoder_devices=None, pipeline_devices=None, pipeline_encoder_balance=None, pipeline_encoder_devices=None, pipeline_model_parallel=False, prefix_size=0, print_alignment=False, print_step=False, profile=False, quantization_config_path=None, quiet=False, remove_bpe=None, replace_unk=None, required_batch_size_multiple=8, required_seq_len_multiple=1, results_path=None, retain_dropout=False, retain_dropout_modules=None, retain_iter_history=False, sacrebleu=False, sampling=False, sampling_topk=-1, sampling_topp=-1.0, score_reference=False, scoring='bleu', seed=1, shard_id=0, skip_invalid_size_inputs_valid_test=True, slowmo_algorithm='LocalSGD', slowmo_momentum=None, source_lang=None, target_lang=None, task='translation', temperature=1.0, tensorboard_logdir=None, threshold_loss_scale=None, tokenizer=None, tpu=False, train_subset='train', truncate_source=False, unkpen=0, unnormalized=False, upsample_primary=1, user_dir=None, valid_subset='valid', validate_after_updates=0, validate_interval=1, validate_interval_updates=0, warmup_updates=0, zero_sharding='none')\n",
            "INFO:fairseq.tasks.translation:[complex] dictionary: 50264 types\n",
            "INFO:fairseq.tasks.translation:[simple] dictionary: 50264 types\n"
          ]
        },
        {
          "output_type": "stream",
          "name": "stdout",
          "text": [
            "| use checkpoint_paths [PosixPath('/content/drive/MyDrive/muss/experiments/fairseq/local_1631567843618/model.pt')]\n"
          ]
        },
        {
          "output_type": "stream",
          "name": "stderr",
          "text": [
            "INFO:fairseq.data.data_utils:loaded 2000 examples from: /tmp/tmppatnzyya/tmp.complex-simple.complex\n",
            "INFO:fairseq.data.data_utils:loaded 2000 examples from: /tmp/tmppatnzyya/tmp.complex-simple.simple\n",
            "INFO:fairseq.tasks.translation:/tmp/tmppatnzyya tmp complex-simple 2000 examples\n",
            "INFO:fairseq_cli.generate:loading model(s) from /content/drive/MyDrive/muss/experiments/fairseq/local_1631567843618/model.pt\n",
            "INFO:fairseq_cli.generate:NOTE: hypothesis and token scores are output in base 2\n",
            "INFO:fairseq_cli.generate:Translated 2000 sentences (46782 tokens) in 111.4s (17.95 sentences/s, 419.85 tokens/s)\n",
            " 34%|███▍      | 44/128 [1:48:48<3:37:13, 155.16s/it]"
          ]
        },
        {
          "output_type": "stream",
          "name": "stdout",
          "text": [
            "| IN find_best_parametrization_nevergrad: kwargs.get('generate_kwargs', {}) {}\n",
            "get ref from ( evaluate_simplifier) asset_valid_NER_ABCD\n",
            "test_set in evaluate_simplifier when get ori asset_valid\n",
            "encoder_json_path /content/drive/MyDrive/muss/resources/bart_bpe/encoder.json\n",
            "vocab_bpe_path /content/drive/MyDrive/muss/resources/bart_bpe/vocab.bpe\n"
          ]
        },
        {
          "output_type": "stream",
          "name": "stderr",
          "text": [
            "INFO:fairseq_cli.generate:Namespace(all_gather_list_size=16384, batch_size=None, batch_size_valid=None, beam=5, bf16=False, bpe=None, broadcast_buffers=False, bucket_cap_mb=25, checkpoint_shard_count=1, checkpoint_suffix='', constraints=None, cpu=False, criterion='cross_entropy', curriculum=0, data='/tmp/tmp0qtjwfwe', data_buffer_size=10, dataset_impl='raw', ddp_backend='c10d', decoding_format=None, device_id=0, disable_validation=False, distributed_backend='nccl', distributed_init_method=None, distributed_no_spawn=False, distributed_port=-1, distributed_rank=0, distributed_world_size=1, distributed_wrapper='DDP', diverse_beam_groups=-1, diverse_beam_strength=0.5, diversity_rate=-1.0, empty_cache_freq=0, eval_bleu=False, eval_bleu_args=None, eval_bleu_detok='space', eval_bleu_detok_args=None, eval_bleu_print_samples=False, eval_bleu_remove_bpe=None, eval_tokenized_bleu=False, fast_stat_sync=False, find_unused_parameters=False, fix_batches_to_gpus=False, fixed_validation_seed=None, force_anneal=None, fp16=False, fp16_init_scale=128, fp16_no_flatten_grads=False, fp16_scale_tolerance=0.0, fp16_scale_window=None, gen_subset='tmp', iter_decode_eos_penalty=0.0, iter_decode_force_max_iter=False, iter_decode_max_iter=10, iter_decode_with_beam=1, iter_decode_with_external_reranker=False, left_pad_source='True', left_pad_target='False', lenpen=1.0, lm_path=None, lm_weight=0.0, load_alignments=False, localsgd_frequency=3, log_format=None, log_interval=100, lr_scheduler='fixed', lr_shrink=0.1, match_source_len=False, max_len_a=0, max_len_b=200, max_source_positions=1024, max_target_positions=1024, max_tokens=8000, max_tokens_valid=8000, memory_efficient_bf16=False, memory_efficient_fp16=False, min_len=1, min_loss_scale=0.0001, model_overrides=\"{'encoder_embed_path': None, 'decoder_embed_path': None}\", model_parallel_size=1, nbest=1, no_beamable_mm=False, no_early_stop=False, no_progress_bar=False, no_repeat_ngram_size=0, no_seed_provided=False, nprocs_per_node=1, num_batch_buckets=0, num_shards=1, num_workers=1, optimizer=None, path='/content/drive/MyDrive/muss/experiments/fairseq/local_1631567843618/model.pt', pipeline_balance=None, pipeline_checkpoint='never', pipeline_chunks=0, pipeline_decoder_balance=None, pipeline_decoder_devices=None, pipeline_devices=None, pipeline_encoder_balance=None, pipeline_encoder_devices=None, pipeline_model_parallel=False, prefix_size=0, print_alignment=False, print_step=False, profile=False, quantization_config_path=None, quiet=False, remove_bpe=None, replace_unk=None, required_batch_size_multiple=8, required_seq_len_multiple=1, results_path=None, retain_dropout=False, retain_dropout_modules=None, retain_iter_history=False, sacrebleu=False, sampling=False, sampling_topk=-1, sampling_topp=-1.0, score_reference=False, scoring='bleu', seed=1, shard_id=0, skip_invalid_size_inputs_valid_test=True, slowmo_algorithm='LocalSGD', slowmo_momentum=None, source_lang=None, target_lang=None, task='translation', temperature=1.0, tensorboard_logdir=None, threshold_loss_scale=None, tokenizer=None, tpu=False, train_subset='train', truncate_source=False, unkpen=0, unnormalized=False, upsample_primary=1, user_dir=None, valid_subset='valid', validate_after_updates=0, validate_interval=1, validate_interval_updates=0, warmup_updates=0, zero_sharding='none')\n",
            "INFO:fairseq.tasks.translation:[complex] dictionary: 50264 types\n",
            "INFO:fairseq.tasks.translation:[simple] dictionary: 50264 types\n"
          ]
        },
        {
          "output_type": "stream",
          "name": "stdout",
          "text": [
            "| use checkpoint_paths [PosixPath('/content/drive/MyDrive/muss/experiments/fairseq/local_1631567843618/model.pt')]\n"
          ]
        },
        {
          "output_type": "stream",
          "name": "stderr",
          "text": [
            "INFO:fairseq.data.data_utils:loaded 2000 examples from: /tmp/tmp0qtjwfwe/tmp.complex-simple.complex\n",
            "INFO:fairseq.data.data_utils:loaded 2000 examples from: /tmp/tmp0qtjwfwe/tmp.complex-simple.simple\n",
            "INFO:fairseq.tasks.translation:/tmp/tmp0qtjwfwe tmp complex-simple 2000 examples\n",
            "INFO:fairseq_cli.generate:loading model(s) from /content/drive/MyDrive/muss/experiments/fairseq/local_1631567843618/model.pt\n",
            "INFO:fairseq_cli.generate:NOTE: hypothesis and token scores are output in base 2\n",
            "INFO:fairseq_cli.generate:Translated 2000 sentences (46782 tokens) in 111.4s (17.95 sentences/s, 419.86 tokens/s)\n",
            " 35%|███▌      | 45/128 [1:51:23<3:34:40, 155.18s/it]"
          ]
        },
        {
          "output_type": "stream",
          "name": "stdout",
          "text": [
            "| IN find_best_parametrization_nevergrad: kwargs.get('generate_kwargs', {}) {}\n",
            "get ref from ( evaluate_simplifier) asset_valid_NER_ABCD\n",
            "test_set in evaluate_simplifier when get ori asset_valid\n",
            "encoder_json_path /content/drive/MyDrive/muss/resources/bart_bpe/encoder.json\n",
            "vocab_bpe_path /content/drive/MyDrive/muss/resources/bart_bpe/vocab.bpe\n"
          ]
        },
        {
          "output_type": "stream",
          "name": "stderr",
          "text": [
            "INFO:fairseq_cli.generate:Namespace(all_gather_list_size=16384, batch_size=None, batch_size_valid=None, beam=5, bf16=False, bpe=None, broadcast_buffers=False, bucket_cap_mb=25, checkpoint_shard_count=1, checkpoint_suffix='', constraints=None, cpu=False, criterion='cross_entropy', curriculum=0, data='/tmp/tmp93c7kq8w', data_buffer_size=10, dataset_impl='raw', ddp_backend='c10d', decoding_format=None, device_id=0, disable_validation=False, distributed_backend='nccl', distributed_init_method=None, distributed_no_spawn=False, distributed_port=-1, distributed_rank=0, distributed_world_size=1, distributed_wrapper='DDP', diverse_beam_groups=-1, diverse_beam_strength=0.5, diversity_rate=-1.0, empty_cache_freq=0, eval_bleu=False, eval_bleu_args=None, eval_bleu_detok='space', eval_bleu_detok_args=None, eval_bleu_print_samples=False, eval_bleu_remove_bpe=None, eval_tokenized_bleu=False, fast_stat_sync=False, find_unused_parameters=False, fix_batches_to_gpus=False, fixed_validation_seed=None, force_anneal=None, fp16=False, fp16_init_scale=128, fp16_no_flatten_grads=False, fp16_scale_tolerance=0.0, fp16_scale_window=None, gen_subset='tmp', iter_decode_eos_penalty=0.0, iter_decode_force_max_iter=False, iter_decode_max_iter=10, iter_decode_with_beam=1, iter_decode_with_external_reranker=False, left_pad_source='True', left_pad_target='False', lenpen=1.0, lm_path=None, lm_weight=0.0, load_alignments=False, localsgd_frequency=3, log_format=None, log_interval=100, lr_scheduler='fixed', lr_shrink=0.1, match_source_len=False, max_len_a=0, max_len_b=200, max_source_positions=1024, max_target_positions=1024, max_tokens=8000, max_tokens_valid=8000, memory_efficient_bf16=False, memory_efficient_fp16=False, min_len=1, min_loss_scale=0.0001, model_overrides=\"{'encoder_embed_path': None, 'decoder_embed_path': None}\", model_parallel_size=1, nbest=1, no_beamable_mm=False, no_early_stop=False, no_progress_bar=False, no_repeat_ngram_size=0, no_seed_provided=False, nprocs_per_node=1, num_batch_buckets=0, num_shards=1, num_workers=1, optimizer=None, path='/content/drive/MyDrive/muss/experiments/fairseq/local_1631567843618/model.pt', pipeline_balance=None, pipeline_checkpoint='never', pipeline_chunks=0, pipeline_decoder_balance=None, pipeline_decoder_devices=None, pipeline_devices=None, pipeline_encoder_balance=None, pipeline_encoder_devices=None, pipeline_model_parallel=False, prefix_size=0, print_alignment=False, print_step=False, profile=False, quantization_config_path=None, quiet=False, remove_bpe=None, replace_unk=None, required_batch_size_multiple=8, required_seq_len_multiple=1, results_path=None, retain_dropout=False, retain_dropout_modules=None, retain_iter_history=False, sacrebleu=False, sampling=False, sampling_topk=-1, sampling_topp=-1.0, score_reference=False, scoring='bleu', seed=1, shard_id=0, skip_invalid_size_inputs_valid_test=True, slowmo_algorithm='LocalSGD', slowmo_momentum=None, source_lang=None, target_lang=None, task='translation', temperature=1.0, tensorboard_logdir=None, threshold_loss_scale=None, tokenizer=None, tpu=False, train_subset='train', truncate_source=False, unkpen=0, unnormalized=False, upsample_primary=1, user_dir=None, valid_subset='valid', validate_after_updates=0, validate_interval=1, validate_interval_updates=0, warmup_updates=0, zero_sharding='none')\n",
            "INFO:fairseq.tasks.translation:[complex] dictionary: 50264 types\n",
            "INFO:fairseq.tasks.translation:[simple] dictionary: 50264 types\n"
          ]
        },
        {
          "output_type": "stream",
          "name": "stdout",
          "text": [
            "| use checkpoint_paths [PosixPath('/content/drive/MyDrive/muss/experiments/fairseq/local_1631567843618/model.pt')]\n"
          ]
        },
        {
          "output_type": "stream",
          "name": "stderr",
          "text": [
            "INFO:fairseq.data.data_utils:loaded 2000 examples from: /tmp/tmp93c7kq8w/tmp.complex-simple.complex\n",
            "INFO:fairseq.data.data_utils:loaded 2000 examples from: /tmp/tmp93c7kq8w/tmp.complex-simple.simple\n",
            "INFO:fairseq.tasks.translation:/tmp/tmp93c7kq8w tmp complex-simple 2000 examples\n",
            "INFO:fairseq_cli.generate:loading model(s) from /content/drive/MyDrive/muss/experiments/fairseq/local_1631567843618/model.pt\n",
            "INFO:fairseq_cli.generate:NOTE: hypothesis and token scores are output in base 2\n",
            "INFO:fairseq_cli.generate:Translated 2000 sentences (47000 tokens) in 112.6s (17.77 sentences/s, 417.49 tokens/s)\n",
            " 36%|███▌      | 46/128 [1:53:59<3:32:38, 155.59s/it]"
          ]
        },
        {
          "output_type": "stream",
          "name": "stdout",
          "text": [
            "| IN find_best_parametrization_nevergrad: kwargs.get('generate_kwargs', {}) {}\n",
            "get ref from ( evaluate_simplifier) asset_valid_NER_ABCD\n",
            "test_set in evaluate_simplifier when get ori asset_valid\n",
            "encoder_json_path /content/drive/MyDrive/muss/resources/bart_bpe/encoder.json\n",
            "vocab_bpe_path /content/drive/MyDrive/muss/resources/bart_bpe/vocab.bpe\n"
          ]
        },
        {
          "output_type": "stream",
          "name": "stderr",
          "text": [
            "INFO:fairseq_cli.generate:Namespace(all_gather_list_size=16384, batch_size=None, batch_size_valid=None, beam=5, bf16=False, bpe=None, broadcast_buffers=False, bucket_cap_mb=25, checkpoint_shard_count=1, checkpoint_suffix='', constraints=None, cpu=False, criterion='cross_entropy', curriculum=0, data='/tmp/tmph63kolny', data_buffer_size=10, dataset_impl='raw', ddp_backend='c10d', decoding_format=None, device_id=0, disable_validation=False, distributed_backend='nccl', distributed_init_method=None, distributed_no_spawn=False, distributed_port=-1, distributed_rank=0, distributed_world_size=1, distributed_wrapper='DDP', diverse_beam_groups=-1, diverse_beam_strength=0.5, diversity_rate=-1.0, empty_cache_freq=0, eval_bleu=False, eval_bleu_args=None, eval_bleu_detok='space', eval_bleu_detok_args=None, eval_bleu_print_samples=False, eval_bleu_remove_bpe=None, eval_tokenized_bleu=False, fast_stat_sync=False, find_unused_parameters=False, fix_batches_to_gpus=False, fixed_validation_seed=None, force_anneal=None, fp16=False, fp16_init_scale=128, fp16_no_flatten_grads=False, fp16_scale_tolerance=0.0, fp16_scale_window=None, gen_subset='tmp', iter_decode_eos_penalty=0.0, iter_decode_force_max_iter=False, iter_decode_max_iter=10, iter_decode_with_beam=1, iter_decode_with_external_reranker=False, left_pad_source='True', left_pad_target='False', lenpen=1.0, lm_path=None, lm_weight=0.0, load_alignments=False, localsgd_frequency=3, log_format=None, log_interval=100, lr_scheduler='fixed', lr_shrink=0.1, match_source_len=False, max_len_a=0, max_len_b=200, max_source_positions=1024, max_target_positions=1024, max_tokens=8000, max_tokens_valid=8000, memory_efficient_bf16=False, memory_efficient_fp16=False, min_len=1, min_loss_scale=0.0001, model_overrides=\"{'encoder_embed_path': None, 'decoder_embed_path': None}\", model_parallel_size=1, nbest=1, no_beamable_mm=False, no_early_stop=False, no_progress_bar=False, no_repeat_ngram_size=0, no_seed_provided=False, nprocs_per_node=1, num_batch_buckets=0, num_shards=1, num_workers=1, optimizer=None, path='/content/drive/MyDrive/muss/experiments/fairseq/local_1631567843618/model.pt', pipeline_balance=None, pipeline_checkpoint='never', pipeline_chunks=0, pipeline_decoder_balance=None, pipeline_decoder_devices=None, pipeline_devices=None, pipeline_encoder_balance=None, pipeline_encoder_devices=None, pipeline_model_parallel=False, prefix_size=0, print_alignment=False, print_step=False, profile=False, quantization_config_path=None, quiet=False, remove_bpe=None, replace_unk=None, required_batch_size_multiple=8, required_seq_len_multiple=1, results_path=None, retain_dropout=False, retain_dropout_modules=None, retain_iter_history=False, sacrebleu=False, sampling=False, sampling_topk=-1, sampling_topp=-1.0, score_reference=False, scoring='bleu', seed=1, shard_id=0, skip_invalid_size_inputs_valid_test=True, slowmo_algorithm='LocalSGD', slowmo_momentum=None, source_lang=None, target_lang=None, task='translation', temperature=1.0, tensorboard_logdir=None, threshold_loss_scale=None, tokenizer=None, tpu=False, train_subset='train', truncate_source=False, unkpen=0, unnormalized=False, upsample_primary=1, user_dir=None, valid_subset='valid', validate_after_updates=0, validate_interval=1, validate_interval_updates=0, warmup_updates=0, zero_sharding='none')\n",
            "INFO:fairseq.tasks.translation:[complex] dictionary: 50264 types\n",
            "INFO:fairseq.tasks.translation:[simple] dictionary: 50264 types\n"
          ]
        },
        {
          "output_type": "stream",
          "name": "stdout",
          "text": [
            "| use checkpoint_paths [PosixPath('/content/drive/MyDrive/muss/experiments/fairseq/local_1631567843618/model.pt')]\n"
          ]
        },
        {
          "output_type": "stream",
          "name": "stderr",
          "text": [
            "INFO:fairseq.data.data_utils:loaded 2000 examples from: /tmp/tmph63kolny/tmp.complex-simple.complex\n",
            "INFO:fairseq.data.data_utils:loaded 2000 examples from: /tmp/tmph63kolny/tmp.complex-simple.simple\n",
            "INFO:fairseq.tasks.translation:/tmp/tmph63kolny tmp complex-simple 2000 examples\n",
            "INFO:fairseq_cli.generate:loading model(s) from /content/drive/MyDrive/muss/experiments/fairseq/local_1631567843618/model.pt\n",
            "INFO:fairseq_cli.generate:NOTE: hypothesis and token scores are output in base 2\n",
            "INFO:fairseq_cli.generate:Translated 2000 sentences (46782 tokens) in 111.6s (17.92 sentences/s, 419.07 tokens/s)\n",
            " 37%|███▋      | 47/128 [1:56:35<3:30:10, 155.69s/it]"
          ]
        },
        {
          "output_type": "stream",
          "name": "stdout",
          "text": [
            "| IN find_best_parametrization_nevergrad: kwargs.get('generate_kwargs', {}) {}\n",
            "get ref from ( evaluate_simplifier) asset_valid_NER_ABCD\n",
            "test_set in evaluate_simplifier when get ori asset_valid\n",
            "encoder_json_path /content/drive/MyDrive/muss/resources/bart_bpe/encoder.json\n",
            "vocab_bpe_path /content/drive/MyDrive/muss/resources/bart_bpe/vocab.bpe\n"
          ]
        },
        {
          "output_type": "stream",
          "name": "stderr",
          "text": [
            "INFO:fairseq_cli.generate:Namespace(all_gather_list_size=16384, batch_size=None, batch_size_valid=None, beam=5, bf16=False, bpe=None, broadcast_buffers=False, bucket_cap_mb=25, checkpoint_shard_count=1, checkpoint_suffix='', constraints=None, cpu=False, criterion='cross_entropy', curriculum=0, data='/tmp/tmphu0y1q_c', data_buffer_size=10, dataset_impl='raw', ddp_backend='c10d', decoding_format=None, device_id=0, disable_validation=False, distributed_backend='nccl', distributed_init_method=None, distributed_no_spawn=False, distributed_port=-1, distributed_rank=0, distributed_world_size=1, distributed_wrapper='DDP', diverse_beam_groups=-1, diverse_beam_strength=0.5, diversity_rate=-1.0, empty_cache_freq=0, eval_bleu=False, eval_bleu_args=None, eval_bleu_detok='space', eval_bleu_detok_args=None, eval_bleu_print_samples=False, eval_bleu_remove_bpe=None, eval_tokenized_bleu=False, fast_stat_sync=False, find_unused_parameters=False, fix_batches_to_gpus=False, fixed_validation_seed=None, force_anneal=None, fp16=False, fp16_init_scale=128, fp16_no_flatten_grads=False, fp16_scale_tolerance=0.0, fp16_scale_window=None, gen_subset='tmp', iter_decode_eos_penalty=0.0, iter_decode_force_max_iter=False, iter_decode_max_iter=10, iter_decode_with_beam=1, iter_decode_with_external_reranker=False, left_pad_source='True', left_pad_target='False', lenpen=1.0, lm_path=None, lm_weight=0.0, load_alignments=False, localsgd_frequency=3, log_format=None, log_interval=100, lr_scheduler='fixed', lr_shrink=0.1, match_source_len=False, max_len_a=0, max_len_b=200, max_source_positions=1024, max_target_positions=1024, max_tokens=8000, max_tokens_valid=8000, memory_efficient_bf16=False, memory_efficient_fp16=False, min_len=1, min_loss_scale=0.0001, model_overrides=\"{'encoder_embed_path': None, 'decoder_embed_path': None}\", model_parallel_size=1, nbest=1, no_beamable_mm=False, no_early_stop=False, no_progress_bar=False, no_repeat_ngram_size=0, no_seed_provided=False, nprocs_per_node=1, num_batch_buckets=0, num_shards=1, num_workers=1, optimizer=None, path='/content/drive/MyDrive/muss/experiments/fairseq/local_1631567843618/model.pt', pipeline_balance=None, pipeline_checkpoint='never', pipeline_chunks=0, pipeline_decoder_balance=None, pipeline_decoder_devices=None, pipeline_devices=None, pipeline_encoder_balance=None, pipeline_encoder_devices=None, pipeline_model_parallel=False, prefix_size=0, print_alignment=False, print_step=False, profile=False, quantization_config_path=None, quiet=False, remove_bpe=None, replace_unk=None, required_batch_size_multiple=8, required_seq_len_multiple=1, results_path=None, retain_dropout=False, retain_dropout_modules=None, retain_iter_history=False, sacrebleu=False, sampling=False, sampling_topk=-1, sampling_topp=-1.0, score_reference=False, scoring='bleu', seed=1, shard_id=0, skip_invalid_size_inputs_valid_test=True, slowmo_algorithm='LocalSGD', slowmo_momentum=None, source_lang=None, target_lang=None, task='translation', temperature=1.0, tensorboard_logdir=None, threshold_loss_scale=None, tokenizer=None, tpu=False, train_subset='train', truncate_source=False, unkpen=0, unnormalized=False, upsample_primary=1, user_dir=None, valid_subset='valid', validate_after_updates=0, validate_interval=1, validate_interval_updates=0, warmup_updates=0, zero_sharding='none')\n",
            "INFO:fairseq.tasks.translation:[complex] dictionary: 50264 types\n",
            "INFO:fairseq.tasks.translation:[simple] dictionary: 50264 types\n"
          ]
        },
        {
          "output_type": "stream",
          "name": "stdout",
          "text": [
            "| use checkpoint_paths [PosixPath('/content/drive/MyDrive/muss/experiments/fairseq/local_1631567843618/model.pt')]\n"
          ]
        },
        {
          "output_type": "stream",
          "name": "stderr",
          "text": [
            "INFO:fairseq.data.data_utils:loaded 2000 examples from: /tmp/tmphu0y1q_c/tmp.complex-simple.complex\n",
            "INFO:fairseq.data.data_utils:loaded 2000 examples from: /tmp/tmphu0y1q_c/tmp.complex-simple.simple\n",
            "INFO:fairseq.tasks.translation:/tmp/tmphu0y1q_c tmp complex-simple 2000 examples\n",
            "INFO:fairseq_cli.generate:loading model(s) from /content/drive/MyDrive/muss/experiments/fairseq/local_1631567843618/model.pt\n",
            "INFO:fairseq_cli.generate:NOTE: hypothesis and token scores are output in base 2\n",
            "INFO:fairseq_cli.generate:Translated 2000 sentences (46782 tokens) in 111.7s (17.91 sentences/s, 418.87 tokens/s)\n",
            " 38%|███▊      | 48/128 [1:59:11<3:27:35, 155.70s/it]"
          ]
        },
        {
          "output_type": "stream",
          "name": "stdout",
          "text": [
            "| IN find_best_parametrization_nevergrad: kwargs.get('generate_kwargs', {}) {}\n",
            "get ref from ( evaluate_simplifier) asset_valid_NER_ABCD\n",
            "test_set in evaluate_simplifier when get ori asset_valid\n",
            "encoder_json_path /content/drive/MyDrive/muss/resources/bart_bpe/encoder.json\n",
            "vocab_bpe_path /content/drive/MyDrive/muss/resources/bart_bpe/vocab.bpe\n"
          ]
        },
        {
          "output_type": "stream",
          "name": "stderr",
          "text": [
            "INFO:fairseq_cli.generate:Namespace(all_gather_list_size=16384, batch_size=None, batch_size_valid=None, beam=5, bf16=False, bpe=None, broadcast_buffers=False, bucket_cap_mb=25, checkpoint_shard_count=1, checkpoint_suffix='', constraints=None, cpu=False, criterion='cross_entropy', curriculum=0, data='/tmp/tmpu2jd8bjg', data_buffer_size=10, dataset_impl='raw', ddp_backend='c10d', decoding_format=None, device_id=0, disable_validation=False, distributed_backend='nccl', distributed_init_method=None, distributed_no_spawn=False, distributed_port=-1, distributed_rank=0, distributed_world_size=1, distributed_wrapper='DDP', diverse_beam_groups=-1, diverse_beam_strength=0.5, diversity_rate=-1.0, empty_cache_freq=0, eval_bleu=False, eval_bleu_args=None, eval_bleu_detok='space', eval_bleu_detok_args=None, eval_bleu_print_samples=False, eval_bleu_remove_bpe=None, eval_tokenized_bleu=False, fast_stat_sync=False, find_unused_parameters=False, fix_batches_to_gpus=False, fixed_validation_seed=None, force_anneal=None, fp16=False, fp16_init_scale=128, fp16_no_flatten_grads=False, fp16_scale_tolerance=0.0, fp16_scale_window=None, gen_subset='tmp', iter_decode_eos_penalty=0.0, iter_decode_force_max_iter=False, iter_decode_max_iter=10, iter_decode_with_beam=1, iter_decode_with_external_reranker=False, left_pad_source='True', left_pad_target='False', lenpen=1.0, lm_path=None, lm_weight=0.0, load_alignments=False, localsgd_frequency=3, log_format=None, log_interval=100, lr_scheduler='fixed', lr_shrink=0.1, match_source_len=False, max_len_a=0, max_len_b=200, max_source_positions=1024, max_target_positions=1024, max_tokens=8000, max_tokens_valid=8000, memory_efficient_bf16=False, memory_efficient_fp16=False, min_len=1, min_loss_scale=0.0001, model_overrides=\"{'encoder_embed_path': None, 'decoder_embed_path': None}\", model_parallel_size=1, nbest=1, no_beamable_mm=False, no_early_stop=False, no_progress_bar=False, no_repeat_ngram_size=0, no_seed_provided=False, nprocs_per_node=1, num_batch_buckets=0, num_shards=1, num_workers=1, optimizer=None, path='/content/drive/MyDrive/muss/experiments/fairseq/local_1631567843618/model.pt', pipeline_balance=None, pipeline_checkpoint='never', pipeline_chunks=0, pipeline_decoder_balance=None, pipeline_decoder_devices=None, pipeline_devices=None, pipeline_encoder_balance=None, pipeline_encoder_devices=None, pipeline_model_parallel=False, prefix_size=0, print_alignment=False, print_step=False, profile=False, quantization_config_path=None, quiet=False, remove_bpe=None, replace_unk=None, required_batch_size_multiple=8, required_seq_len_multiple=1, results_path=None, retain_dropout=False, retain_dropout_modules=None, retain_iter_history=False, sacrebleu=False, sampling=False, sampling_topk=-1, sampling_topp=-1.0, score_reference=False, scoring='bleu', seed=1, shard_id=0, skip_invalid_size_inputs_valid_test=True, slowmo_algorithm='LocalSGD', slowmo_momentum=None, source_lang=None, target_lang=None, task='translation', temperature=1.0, tensorboard_logdir=None, threshold_loss_scale=None, tokenizer=None, tpu=False, train_subset='train', truncate_source=False, unkpen=0, unnormalized=False, upsample_primary=1, user_dir=None, valid_subset='valid', validate_after_updates=0, validate_interval=1, validate_interval_updates=0, warmup_updates=0, zero_sharding='none')\n",
            "INFO:fairseq.tasks.translation:[complex] dictionary: 50264 types\n",
            "INFO:fairseq.tasks.translation:[simple] dictionary: 50264 types\n"
          ]
        },
        {
          "output_type": "stream",
          "name": "stdout",
          "text": [
            "| use checkpoint_paths [PosixPath('/content/drive/MyDrive/muss/experiments/fairseq/local_1631567843618/model.pt')]\n"
          ]
        },
        {
          "output_type": "stream",
          "name": "stderr",
          "text": [
            "INFO:fairseq.data.data_utils:loaded 2000 examples from: /tmp/tmpu2jd8bjg/tmp.complex-simple.complex\n",
            "INFO:fairseq.data.data_utils:loaded 2000 examples from: /tmp/tmpu2jd8bjg/tmp.complex-simple.simple\n",
            "INFO:fairseq.tasks.translation:/tmp/tmpu2jd8bjg tmp complex-simple 2000 examples\n",
            "INFO:fairseq_cli.generate:loading model(s) from /content/drive/MyDrive/muss/experiments/fairseq/local_1631567843618/model.pt\n",
            "INFO:fairseq_cli.generate:NOTE: hypothesis and token scores are output in base 2\n",
            "INFO:fairseq_cli.generate:Translated 2000 sentences (46782 tokens) in 112.1s (17.84 sentences/s, 417.23 tokens/s)\n",
            " 38%|███▊      | 49/128 [2:01:46<3:24:50, 155.57s/it]"
          ]
        },
        {
          "output_type": "stream",
          "name": "stdout",
          "text": [
            "| IN find_best_parametrization_nevergrad: kwargs.get('generate_kwargs', {}) {}\n",
            "get ref from ( evaluate_simplifier) asset_valid_NER_ABCD\n",
            "test_set in evaluate_simplifier when get ori asset_valid\n",
            "encoder_json_path /content/drive/MyDrive/muss/resources/bart_bpe/encoder.json\n",
            "vocab_bpe_path /content/drive/MyDrive/muss/resources/bart_bpe/vocab.bpe\n"
          ]
        },
        {
          "output_type": "stream",
          "name": "stderr",
          "text": [
            "INFO:fairseq_cli.generate:Namespace(all_gather_list_size=16384, batch_size=None, batch_size_valid=None, beam=5, bf16=False, bpe=None, broadcast_buffers=False, bucket_cap_mb=25, checkpoint_shard_count=1, checkpoint_suffix='', constraints=None, cpu=False, criterion='cross_entropy', curriculum=0, data='/tmp/tmpt8f8gd8m', data_buffer_size=10, dataset_impl='raw', ddp_backend='c10d', decoding_format=None, device_id=0, disable_validation=False, distributed_backend='nccl', distributed_init_method=None, distributed_no_spawn=False, distributed_port=-1, distributed_rank=0, distributed_world_size=1, distributed_wrapper='DDP', diverse_beam_groups=-1, diverse_beam_strength=0.5, diversity_rate=-1.0, empty_cache_freq=0, eval_bleu=False, eval_bleu_args=None, eval_bleu_detok='space', eval_bleu_detok_args=None, eval_bleu_print_samples=False, eval_bleu_remove_bpe=None, eval_tokenized_bleu=False, fast_stat_sync=False, find_unused_parameters=False, fix_batches_to_gpus=False, fixed_validation_seed=None, force_anneal=None, fp16=False, fp16_init_scale=128, fp16_no_flatten_grads=False, fp16_scale_tolerance=0.0, fp16_scale_window=None, gen_subset='tmp', iter_decode_eos_penalty=0.0, iter_decode_force_max_iter=False, iter_decode_max_iter=10, iter_decode_with_beam=1, iter_decode_with_external_reranker=False, left_pad_source='True', left_pad_target='False', lenpen=1.0, lm_path=None, lm_weight=0.0, load_alignments=False, localsgd_frequency=3, log_format=None, log_interval=100, lr_scheduler='fixed', lr_shrink=0.1, match_source_len=False, max_len_a=0, max_len_b=200, max_source_positions=1024, max_target_positions=1024, max_tokens=8000, max_tokens_valid=8000, memory_efficient_bf16=False, memory_efficient_fp16=False, min_len=1, min_loss_scale=0.0001, model_overrides=\"{'encoder_embed_path': None, 'decoder_embed_path': None}\", model_parallel_size=1, nbest=1, no_beamable_mm=False, no_early_stop=False, no_progress_bar=False, no_repeat_ngram_size=0, no_seed_provided=False, nprocs_per_node=1, num_batch_buckets=0, num_shards=1, num_workers=1, optimizer=None, path='/content/drive/MyDrive/muss/experiments/fairseq/local_1631567843618/model.pt', pipeline_balance=None, pipeline_checkpoint='never', pipeline_chunks=0, pipeline_decoder_balance=None, pipeline_decoder_devices=None, pipeline_devices=None, pipeline_encoder_balance=None, pipeline_encoder_devices=None, pipeline_model_parallel=False, prefix_size=0, print_alignment=False, print_step=False, profile=False, quantization_config_path=None, quiet=False, remove_bpe=None, replace_unk=None, required_batch_size_multiple=8, required_seq_len_multiple=1, results_path=None, retain_dropout=False, retain_dropout_modules=None, retain_iter_history=False, sacrebleu=False, sampling=False, sampling_topk=-1, sampling_topp=-1.0, score_reference=False, scoring='bleu', seed=1, shard_id=0, skip_invalid_size_inputs_valid_test=True, slowmo_algorithm='LocalSGD', slowmo_momentum=None, source_lang=None, target_lang=None, task='translation', temperature=1.0, tensorboard_logdir=None, threshold_loss_scale=None, tokenizer=None, tpu=False, train_subset='train', truncate_source=False, unkpen=0, unnormalized=False, upsample_primary=1, user_dir=None, valid_subset='valid', validate_after_updates=0, validate_interval=1, validate_interval_updates=0, warmup_updates=0, zero_sharding='none')\n",
            "INFO:fairseq.tasks.translation:[complex] dictionary: 50264 types\n",
            "INFO:fairseq.tasks.translation:[simple] dictionary: 50264 types\n"
          ]
        },
        {
          "output_type": "stream",
          "name": "stdout",
          "text": [
            "| use checkpoint_paths [PosixPath('/content/drive/MyDrive/muss/experiments/fairseq/local_1631567843618/model.pt')]\n"
          ]
        },
        {
          "output_type": "stream",
          "name": "stderr",
          "text": [
            "INFO:fairseq.data.data_utils:loaded 2000 examples from: /tmp/tmpt8f8gd8m/tmp.complex-simple.complex\n",
            "INFO:fairseq.data.data_utils:loaded 2000 examples from: /tmp/tmpt8f8gd8m/tmp.complex-simple.simple\n",
            "INFO:fairseq.tasks.translation:/tmp/tmpt8f8gd8m tmp complex-simple 2000 examples\n",
            "INFO:fairseq_cli.generate:loading model(s) from /content/drive/MyDrive/muss/experiments/fairseq/local_1631567843618/model.pt\n",
            "INFO:fairseq_cli.generate:NOTE: hypothesis and token scores are output in base 2\n",
            "INFO:fairseq_cli.generate:Translated 2000 sentences (46782 tokens) in 111.5s (17.93 sentences/s, 419.51 tokens/s)\n",
            " 39%|███▉      | 50/128 [2:04:22<3:22:10, 155.52s/it]"
          ]
        },
        {
          "output_type": "stream",
          "name": "stdout",
          "text": [
            "| IN find_best_parametrization_nevergrad: kwargs.get('generate_kwargs', {}) {}\n",
            "get ref from ( evaluate_simplifier) asset_valid_NER_ABCD\n",
            "test_set in evaluate_simplifier when get ori asset_valid\n",
            "encoder_json_path /content/drive/MyDrive/muss/resources/bart_bpe/encoder.json\n",
            "vocab_bpe_path /content/drive/MyDrive/muss/resources/bart_bpe/vocab.bpe\n"
          ]
        },
        {
          "output_type": "stream",
          "name": "stderr",
          "text": [
            "INFO:fairseq_cli.generate:Namespace(all_gather_list_size=16384, batch_size=None, batch_size_valid=None, beam=5, bf16=False, bpe=None, broadcast_buffers=False, bucket_cap_mb=25, checkpoint_shard_count=1, checkpoint_suffix='', constraints=None, cpu=False, criterion='cross_entropy', curriculum=0, data='/tmp/tmp1_9bdmze', data_buffer_size=10, dataset_impl='raw', ddp_backend='c10d', decoding_format=None, device_id=0, disable_validation=False, distributed_backend='nccl', distributed_init_method=None, distributed_no_spawn=False, distributed_port=-1, distributed_rank=0, distributed_world_size=1, distributed_wrapper='DDP', diverse_beam_groups=-1, diverse_beam_strength=0.5, diversity_rate=-1.0, empty_cache_freq=0, eval_bleu=False, eval_bleu_args=None, eval_bleu_detok='space', eval_bleu_detok_args=None, eval_bleu_print_samples=False, eval_bleu_remove_bpe=None, eval_tokenized_bleu=False, fast_stat_sync=False, find_unused_parameters=False, fix_batches_to_gpus=False, fixed_validation_seed=None, force_anneal=None, fp16=False, fp16_init_scale=128, fp16_no_flatten_grads=False, fp16_scale_tolerance=0.0, fp16_scale_window=None, gen_subset='tmp', iter_decode_eos_penalty=0.0, iter_decode_force_max_iter=False, iter_decode_max_iter=10, iter_decode_with_beam=1, iter_decode_with_external_reranker=False, left_pad_source='True', left_pad_target='False', lenpen=1.0, lm_path=None, lm_weight=0.0, load_alignments=False, localsgd_frequency=3, log_format=None, log_interval=100, lr_scheduler='fixed', lr_shrink=0.1, match_source_len=False, max_len_a=0, max_len_b=200, max_source_positions=1024, max_target_positions=1024, max_tokens=8000, max_tokens_valid=8000, memory_efficient_bf16=False, memory_efficient_fp16=False, min_len=1, min_loss_scale=0.0001, model_overrides=\"{'encoder_embed_path': None, 'decoder_embed_path': None}\", model_parallel_size=1, nbest=1, no_beamable_mm=False, no_early_stop=False, no_progress_bar=False, no_repeat_ngram_size=0, no_seed_provided=False, nprocs_per_node=1, num_batch_buckets=0, num_shards=1, num_workers=1, optimizer=None, path='/content/drive/MyDrive/muss/experiments/fairseq/local_1631567843618/model.pt', pipeline_balance=None, pipeline_checkpoint='never', pipeline_chunks=0, pipeline_decoder_balance=None, pipeline_decoder_devices=None, pipeline_devices=None, pipeline_encoder_balance=None, pipeline_encoder_devices=None, pipeline_model_parallel=False, prefix_size=0, print_alignment=False, print_step=False, profile=False, quantization_config_path=None, quiet=False, remove_bpe=None, replace_unk=None, required_batch_size_multiple=8, required_seq_len_multiple=1, results_path=None, retain_dropout=False, retain_dropout_modules=None, retain_iter_history=False, sacrebleu=False, sampling=False, sampling_topk=-1, sampling_topp=-1.0, score_reference=False, scoring='bleu', seed=1, shard_id=0, skip_invalid_size_inputs_valid_test=True, slowmo_algorithm='LocalSGD', slowmo_momentum=None, source_lang=None, target_lang=None, task='translation', temperature=1.0, tensorboard_logdir=None, threshold_loss_scale=None, tokenizer=None, tpu=False, train_subset='train', truncate_source=False, unkpen=0, unnormalized=False, upsample_primary=1, user_dir=None, valid_subset='valid', validate_after_updates=0, validate_interval=1, validate_interval_updates=0, warmup_updates=0, zero_sharding='none')\n",
            "INFO:fairseq.tasks.translation:[complex] dictionary: 50264 types\n",
            "INFO:fairseq.tasks.translation:[simple] dictionary: 50264 types\n"
          ]
        },
        {
          "output_type": "stream",
          "name": "stdout",
          "text": [
            "| use checkpoint_paths [PosixPath('/content/drive/MyDrive/muss/experiments/fairseq/local_1631567843618/model.pt')]\n"
          ]
        },
        {
          "output_type": "stream",
          "name": "stderr",
          "text": [
            "INFO:fairseq.data.data_utils:loaded 2000 examples from: /tmp/tmp1_9bdmze/tmp.complex-simple.complex\n",
            "INFO:fairseq.data.data_utils:loaded 2000 examples from: /tmp/tmp1_9bdmze/tmp.complex-simple.simple\n",
            "INFO:fairseq.tasks.translation:/tmp/tmp1_9bdmze tmp complex-simple 2000 examples\n",
            "INFO:fairseq_cli.generate:loading model(s) from /content/drive/MyDrive/muss/experiments/fairseq/local_1631567843618/model.pt\n",
            "INFO:fairseq_cli.generate:NOTE: hypothesis and token scores are output in base 2\n",
            "INFO:fairseq_cli.generate:Translated 2000 sentences (46547 tokens) in 111.1s (18.01 sentences/s, 419.09 tokens/s)\n",
            " 40%|███▉      | 51/128 [2:06:56<3:19:10, 155.21s/it]"
          ]
        },
        {
          "output_type": "stream",
          "name": "stdout",
          "text": [
            "| IN find_best_parametrization_nevergrad: kwargs.get('generate_kwargs', {}) {}\n",
            "get ref from ( evaluate_simplifier) asset_valid_NER_ABCD\n",
            "test_set in evaluate_simplifier when get ori asset_valid\n",
            "encoder_json_path /content/drive/MyDrive/muss/resources/bart_bpe/encoder.json\n",
            "vocab_bpe_path /content/drive/MyDrive/muss/resources/bart_bpe/vocab.bpe\n"
          ]
        },
        {
          "output_type": "stream",
          "name": "stderr",
          "text": [
            "INFO:fairseq_cli.generate:Namespace(all_gather_list_size=16384, batch_size=None, batch_size_valid=None, beam=5, bf16=False, bpe=None, broadcast_buffers=False, bucket_cap_mb=25, checkpoint_shard_count=1, checkpoint_suffix='', constraints=None, cpu=False, criterion='cross_entropy', curriculum=0, data='/tmp/tmpt8t3xp5r', data_buffer_size=10, dataset_impl='raw', ddp_backend='c10d', decoding_format=None, device_id=0, disable_validation=False, distributed_backend='nccl', distributed_init_method=None, distributed_no_spawn=False, distributed_port=-1, distributed_rank=0, distributed_world_size=1, distributed_wrapper='DDP', diverse_beam_groups=-1, diverse_beam_strength=0.5, diversity_rate=-1.0, empty_cache_freq=0, eval_bleu=False, eval_bleu_args=None, eval_bleu_detok='space', eval_bleu_detok_args=None, eval_bleu_print_samples=False, eval_bleu_remove_bpe=None, eval_tokenized_bleu=False, fast_stat_sync=False, find_unused_parameters=False, fix_batches_to_gpus=False, fixed_validation_seed=None, force_anneal=None, fp16=False, fp16_init_scale=128, fp16_no_flatten_grads=False, fp16_scale_tolerance=0.0, fp16_scale_window=None, gen_subset='tmp', iter_decode_eos_penalty=0.0, iter_decode_force_max_iter=False, iter_decode_max_iter=10, iter_decode_with_beam=1, iter_decode_with_external_reranker=False, left_pad_source='True', left_pad_target='False', lenpen=1.0, lm_path=None, lm_weight=0.0, load_alignments=False, localsgd_frequency=3, log_format=None, log_interval=100, lr_scheduler='fixed', lr_shrink=0.1, match_source_len=False, max_len_a=0, max_len_b=200, max_source_positions=1024, max_target_positions=1024, max_tokens=8000, max_tokens_valid=8000, memory_efficient_bf16=False, memory_efficient_fp16=False, min_len=1, min_loss_scale=0.0001, model_overrides=\"{'encoder_embed_path': None, 'decoder_embed_path': None}\", model_parallel_size=1, nbest=1, no_beamable_mm=False, no_early_stop=False, no_progress_bar=False, no_repeat_ngram_size=0, no_seed_provided=False, nprocs_per_node=1, num_batch_buckets=0, num_shards=1, num_workers=1, optimizer=None, path='/content/drive/MyDrive/muss/experiments/fairseq/local_1631567843618/model.pt', pipeline_balance=None, pipeline_checkpoint='never', pipeline_chunks=0, pipeline_decoder_balance=None, pipeline_decoder_devices=None, pipeline_devices=None, pipeline_encoder_balance=None, pipeline_encoder_devices=None, pipeline_model_parallel=False, prefix_size=0, print_alignment=False, print_step=False, profile=False, quantization_config_path=None, quiet=False, remove_bpe=None, replace_unk=None, required_batch_size_multiple=8, required_seq_len_multiple=1, results_path=None, retain_dropout=False, retain_dropout_modules=None, retain_iter_history=False, sacrebleu=False, sampling=False, sampling_topk=-1, sampling_topp=-1.0, score_reference=False, scoring='bleu', seed=1, shard_id=0, skip_invalid_size_inputs_valid_test=True, slowmo_algorithm='LocalSGD', slowmo_momentum=None, source_lang=None, target_lang=None, task='translation', temperature=1.0, tensorboard_logdir=None, threshold_loss_scale=None, tokenizer=None, tpu=False, train_subset='train', truncate_source=False, unkpen=0, unnormalized=False, upsample_primary=1, user_dir=None, valid_subset='valid', validate_after_updates=0, validate_interval=1, validate_interval_updates=0, warmup_updates=0, zero_sharding='none')\n",
            "INFO:fairseq.tasks.translation:[complex] dictionary: 50264 types\n",
            "INFO:fairseq.tasks.translation:[simple] dictionary: 50264 types\n"
          ]
        },
        {
          "output_type": "stream",
          "name": "stdout",
          "text": [
            "| use checkpoint_paths [PosixPath('/content/drive/MyDrive/muss/experiments/fairseq/local_1631567843618/model.pt')]\n"
          ]
        },
        {
          "output_type": "stream",
          "name": "stderr",
          "text": [
            "INFO:fairseq.data.data_utils:loaded 2000 examples from: /tmp/tmpt8t3xp5r/tmp.complex-simple.complex\n",
            "INFO:fairseq.data.data_utils:loaded 2000 examples from: /tmp/tmpt8t3xp5r/tmp.complex-simple.simple\n",
            "INFO:fairseq.tasks.translation:/tmp/tmpt8t3xp5r tmp complex-simple 2000 examples\n",
            "INFO:fairseq_cli.generate:loading model(s) from /content/drive/MyDrive/muss/experiments/fairseq/local_1631567843618/model.pt\n",
            "INFO:fairseq_cli.generate:NOTE: hypothesis and token scores are output in base 2\n",
            "INFO:fairseq_cli.generate:Translated 2000 sentences (46547 tokens) in 111.4s (17.95 sentences/s, 417.85 tokens/s)\n",
            " 41%|████      | 52/128 [2:09:31<3:16:30, 155.14s/it]"
          ]
        },
        {
          "output_type": "stream",
          "name": "stdout",
          "text": [
            "| IN find_best_parametrization_nevergrad: kwargs.get('generate_kwargs', {}) {}\n",
            "get ref from ( evaluate_simplifier) asset_valid_NER_ABCD\n",
            "test_set in evaluate_simplifier when get ori asset_valid\n",
            "encoder_json_path /content/drive/MyDrive/muss/resources/bart_bpe/encoder.json\n",
            "vocab_bpe_path /content/drive/MyDrive/muss/resources/bart_bpe/vocab.bpe\n"
          ]
        },
        {
          "output_type": "stream",
          "name": "stderr",
          "text": [
            "INFO:fairseq_cli.generate:Namespace(all_gather_list_size=16384, batch_size=None, batch_size_valid=None, beam=5, bf16=False, bpe=None, broadcast_buffers=False, bucket_cap_mb=25, checkpoint_shard_count=1, checkpoint_suffix='', constraints=None, cpu=False, criterion='cross_entropy', curriculum=0, data='/tmp/tmpmjw94gt3', data_buffer_size=10, dataset_impl='raw', ddp_backend='c10d', decoding_format=None, device_id=0, disable_validation=False, distributed_backend='nccl', distributed_init_method=None, distributed_no_spawn=False, distributed_port=-1, distributed_rank=0, distributed_world_size=1, distributed_wrapper='DDP', diverse_beam_groups=-1, diverse_beam_strength=0.5, diversity_rate=-1.0, empty_cache_freq=0, eval_bleu=False, eval_bleu_args=None, eval_bleu_detok='space', eval_bleu_detok_args=None, eval_bleu_print_samples=False, eval_bleu_remove_bpe=None, eval_tokenized_bleu=False, fast_stat_sync=False, find_unused_parameters=False, fix_batches_to_gpus=False, fixed_validation_seed=None, force_anneal=None, fp16=False, fp16_init_scale=128, fp16_no_flatten_grads=False, fp16_scale_tolerance=0.0, fp16_scale_window=None, gen_subset='tmp', iter_decode_eos_penalty=0.0, iter_decode_force_max_iter=False, iter_decode_max_iter=10, iter_decode_with_beam=1, iter_decode_with_external_reranker=False, left_pad_source='True', left_pad_target='False', lenpen=1.0, lm_path=None, lm_weight=0.0, load_alignments=False, localsgd_frequency=3, log_format=None, log_interval=100, lr_scheduler='fixed', lr_shrink=0.1, match_source_len=False, max_len_a=0, max_len_b=200, max_source_positions=1024, max_target_positions=1024, max_tokens=8000, max_tokens_valid=8000, memory_efficient_bf16=False, memory_efficient_fp16=False, min_len=1, min_loss_scale=0.0001, model_overrides=\"{'encoder_embed_path': None, 'decoder_embed_path': None}\", model_parallel_size=1, nbest=1, no_beamable_mm=False, no_early_stop=False, no_progress_bar=False, no_repeat_ngram_size=0, no_seed_provided=False, nprocs_per_node=1, num_batch_buckets=0, num_shards=1, num_workers=1, optimizer=None, path='/content/drive/MyDrive/muss/experiments/fairseq/local_1631567843618/model.pt', pipeline_balance=None, pipeline_checkpoint='never', pipeline_chunks=0, pipeline_decoder_balance=None, pipeline_decoder_devices=None, pipeline_devices=None, pipeline_encoder_balance=None, pipeline_encoder_devices=None, pipeline_model_parallel=False, prefix_size=0, print_alignment=False, print_step=False, profile=False, quantization_config_path=None, quiet=False, remove_bpe=None, replace_unk=None, required_batch_size_multiple=8, required_seq_len_multiple=1, results_path=None, retain_dropout=False, retain_dropout_modules=None, retain_iter_history=False, sacrebleu=False, sampling=False, sampling_topk=-1, sampling_topp=-1.0, score_reference=False, scoring='bleu', seed=1, shard_id=0, skip_invalid_size_inputs_valid_test=True, slowmo_algorithm='LocalSGD', slowmo_momentum=None, source_lang=None, target_lang=None, task='translation', temperature=1.0, tensorboard_logdir=None, threshold_loss_scale=None, tokenizer=None, tpu=False, train_subset='train', truncate_source=False, unkpen=0, unnormalized=False, upsample_primary=1, user_dir=None, valid_subset='valid', validate_after_updates=0, validate_interval=1, validate_interval_updates=0, warmup_updates=0, zero_sharding='none')\n",
            "INFO:fairseq.tasks.translation:[complex] dictionary: 50264 types\n",
            "INFO:fairseq.tasks.translation:[simple] dictionary: 50264 types\n"
          ]
        },
        {
          "output_type": "stream",
          "name": "stdout",
          "text": [
            "| use checkpoint_paths [PosixPath('/content/drive/MyDrive/muss/experiments/fairseq/local_1631567843618/model.pt')]\n"
          ]
        },
        {
          "output_type": "stream",
          "name": "stderr",
          "text": [
            "INFO:fairseq.data.data_utils:loaded 2000 examples from: /tmp/tmpmjw94gt3/tmp.complex-simple.complex\n",
            "INFO:fairseq.data.data_utils:loaded 2000 examples from: /tmp/tmpmjw94gt3/tmp.complex-simple.simple\n",
            "INFO:fairseq.tasks.translation:/tmp/tmpmjw94gt3 tmp complex-simple 2000 examples\n",
            "INFO:fairseq_cli.generate:loading model(s) from /content/drive/MyDrive/muss/experiments/fairseq/local_1631567843618/model.pt\n",
            "INFO:fairseq_cli.generate:NOTE: hypothesis and token scores are output in base 2\n",
            "INFO:fairseq_cli.generate:Translated 2000 sentences (44423 tokens) in 107.5s (18.60 sentences/s, 413.13 tokens/s)\n",
            " 41%|████▏     | 53/128 [2:12:02<3:12:21, 153.88s/it]"
          ]
        },
        {
          "output_type": "stream",
          "name": "stdout",
          "text": [
            "| IN find_best_parametrization_nevergrad: kwargs.get('generate_kwargs', {}) {}\n",
            "get ref from ( evaluate_simplifier) asset_valid_NER_ABCD\n",
            "test_set in evaluate_simplifier when get ori asset_valid\n",
            "encoder_json_path /content/drive/MyDrive/muss/resources/bart_bpe/encoder.json\n",
            "vocab_bpe_path /content/drive/MyDrive/muss/resources/bart_bpe/vocab.bpe\n"
          ]
        },
        {
          "output_type": "stream",
          "name": "stderr",
          "text": [
            "INFO:fairseq_cli.generate:Namespace(all_gather_list_size=16384, batch_size=None, batch_size_valid=None, beam=5, bf16=False, bpe=None, broadcast_buffers=False, bucket_cap_mb=25, checkpoint_shard_count=1, checkpoint_suffix='', constraints=None, cpu=False, criterion='cross_entropy', curriculum=0, data='/tmp/tmp0gsj6tuk', data_buffer_size=10, dataset_impl='raw', ddp_backend='c10d', decoding_format=None, device_id=0, disable_validation=False, distributed_backend='nccl', distributed_init_method=None, distributed_no_spawn=False, distributed_port=-1, distributed_rank=0, distributed_world_size=1, distributed_wrapper='DDP', diverse_beam_groups=-1, diverse_beam_strength=0.5, diversity_rate=-1.0, empty_cache_freq=0, eval_bleu=False, eval_bleu_args=None, eval_bleu_detok='space', eval_bleu_detok_args=None, eval_bleu_print_samples=False, eval_bleu_remove_bpe=None, eval_tokenized_bleu=False, fast_stat_sync=False, find_unused_parameters=False, fix_batches_to_gpus=False, fixed_validation_seed=None, force_anneal=None, fp16=False, fp16_init_scale=128, fp16_no_flatten_grads=False, fp16_scale_tolerance=0.0, fp16_scale_window=None, gen_subset='tmp', iter_decode_eos_penalty=0.0, iter_decode_force_max_iter=False, iter_decode_max_iter=10, iter_decode_with_beam=1, iter_decode_with_external_reranker=False, left_pad_source='True', left_pad_target='False', lenpen=1.0, lm_path=None, lm_weight=0.0, load_alignments=False, localsgd_frequency=3, log_format=None, log_interval=100, lr_scheduler='fixed', lr_shrink=0.1, match_source_len=False, max_len_a=0, max_len_b=200, max_source_positions=1024, max_target_positions=1024, max_tokens=8000, max_tokens_valid=8000, memory_efficient_bf16=False, memory_efficient_fp16=False, min_len=1, min_loss_scale=0.0001, model_overrides=\"{'encoder_embed_path': None, 'decoder_embed_path': None}\", model_parallel_size=1, nbest=1, no_beamable_mm=False, no_early_stop=False, no_progress_bar=False, no_repeat_ngram_size=0, no_seed_provided=False, nprocs_per_node=1, num_batch_buckets=0, num_shards=1, num_workers=1, optimizer=None, path='/content/drive/MyDrive/muss/experiments/fairseq/local_1631567843618/model.pt', pipeline_balance=None, pipeline_checkpoint='never', pipeline_chunks=0, pipeline_decoder_balance=None, pipeline_decoder_devices=None, pipeline_devices=None, pipeline_encoder_balance=None, pipeline_encoder_devices=None, pipeline_model_parallel=False, prefix_size=0, print_alignment=False, print_step=False, profile=False, quantization_config_path=None, quiet=False, remove_bpe=None, replace_unk=None, required_batch_size_multiple=8, required_seq_len_multiple=1, results_path=None, retain_dropout=False, retain_dropout_modules=None, retain_iter_history=False, sacrebleu=False, sampling=False, sampling_topk=-1, sampling_topp=-1.0, score_reference=False, scoring='bleu', seed=1, shard_id=0, skip_invalid_size_inputs_valid_test=True, slowmo_algorithm='LocalSGD', slowmo_momentum=None, source_lang=None, target_lang=None, task='translation', temperature=1.0, tensorboard_logdir=None, threshold_loss_scale=None, tokenizer=None, tpu=False, train_subset='train', truncate_source=False, unkpen=0, unnormalized=False, upsample_primary=1, user_dir=None, valid_subset='valid', validate_after_updates=0, validate_interval=1, validate_interval_updates=0, warmup_updates=0, zero_sharding='none')\n",
            "INFO:fairseq.tasks.translation:[complex] dictionary: 50264 types\n",
            "INFO:fairseq.tasks.translation:[simple] dictionary: 50264 types\n"
          ]
        },
        {
          "output_type": "stream",
          "name": "stdout",
          "text": [
            "| use checkpoint_paths [PosixPath('/content/drive/MyDrive/muss/experiments/fairseq/local_1631567843618/model.pt')]\n"
          ]
        },
        {
          "output_type": "stream",
          "name": "stderr",
          "text": [
            "INFO:fairseq.data.data_utils:loaded 2000 examples from: /tmp/tmp0gsj6tuk/tmp.complex-simple.complex\n",
            "INFO:fairseq.data.data_utils:loaded 2000 examples from: /tmp/tmp0gsj6tuk/tmp.complex-simple.simple\n",
            "INFO:fairseq.tasks.translation:/tmp/tmp0gsj6tuk tmp complex-simple 2000 examples\n",
            "INFO:fairseq_cli.generate:loading model(s) from /content/drive/MyDrive/muss/experiments/fairseq/local_1631567843618/model.pt\n",
            "INFO:fairseq_cli.generate:NOTE: hypothesis and token scores are output in base 2\n",
            "INFO:fairseq_cli.generate:Translated 2000 sentences (46547 tokens) in 111.1s (18.00 sentences/s, 418.97 tokens/s)\n",
            " 42%|████▏     | 54/128 [2:14:36<3:09:59, 154.04s/it]"
          ]
        },
        {
          "output_type": "stream",
          "name": "stdout",
          "text": [
            "| IN find_best_parametrization_nevergrad: kwargs.get('generate_kwargs', {}) {}\n",
            "get ref from ( evaluate_simplifier) asset_valid_NER_ABCD\n",
            "test_set in evaluate_simplifier when get ori asset_valid\n",
            "encoder_json_path /content/drive/MyDrive/muss/resources/bart_bpe/encoder.json\n",
            "vocab_bpe_path /content/drive/MyDrive/muss/resources/bart_bpe/vocab.bpe\n"
          ]
        },
        {
          "output_type": "stream",
          "name": "stderr",
          "text": [
            "INFO:fairseq_cli.generate:Namespace(all_gather_list_size=16384, batch_size=None, batch_size_valid=None, beam=5, bf16=False, bpe=None, broadcast_buffers=False, bucket_cap_mb=25, checkpoint_shard_count=1, checkpoint_suffix='', constraints=None, cpu=False, criterion='cross_entropy', curriculum=0, data='/tmp/tmplfoily63', data_buffer_size=10, dataset_impl='raw', ddp_backend='c10d', decoding_format=None, device_id=0, disable_validation=False, distributed_backend='nccl', distributed_init_method=None, distributed_no_spawn=False, distributed_port=-1, distributed_rank=0, distributed_world_size=1, distributed_wrapper='DDP', diverse_beam_groups=-1, diverse_beam_strength=0.5, diversity_rate=-1.0, empty_cache_freq=0, eval_bleu=False, eval_bleu_args=None, eval_bleu_detok='space', eval_bleu_detok_args=None, eval_bleu_print_samples=False, eval_bleu_remove_bpe=None, eval_tokenized_bleu=False, fast_stat_sync=False, find_unused_parameters=False, fix_batches_to_gpus=False, fixed_validation_seed=None, force_anneal=None, fp16=False, fp16_init_scale=128, fp16_no_flatten_grads=False, fp16_scale_tolerance=0.0, fp16_scale_window=None, gen_subset='tmp', iter_decode_eos_penalty=0.0, iter_decode_force_max_iter=False, iter_decode_max_iter=10, iter_decode_with_beam=1, iter_decode_with_external_reranker=False, left_pad_source='True', left_pad_target='False', lenpen=1.0, lm_path=None, lm_weight=0.0, load_alignments=False, localsgd_frequency=3, log_format=None, log_interval=100, lr_scheduler='fixed', lr_shrink=0.1, match_source_len=False, max_len_a=0, max_len_b=200, max_source_positions=1024, max_target_positions=1024, max_tokens=8000, max_tokens_valid=8000, memory_efficient_bf16=False, memory_efficient_fp16=False, min_len=1, min_loss_scale=0.0001, model_overrides=\"{'encoder_embed_path': None, 'decoder_embed_path': None}\", model_parallel_size=1, nbest=1, no_beamable_mm=False, no_early_stop=False, no_progress_bar=False, no_repeat_ngram_size=0, no_seed_provided=False, nprocs_per_node=1, num_batch_buckets=0, num_shards=1, num_workers=1, optimizer=None, path='/content/drive/MyDrive/muss/experiments/fairseq/local_1631567843618/model.pt', pipeline_balance=None, pipeline_checkpoint='never', pipeline_chunks=0, pipeline_decoder_balance=None, pipeline_decoder_devices=None, pipeline_devices=None, pipeline_encoder_balance=None, pipeline_encoder_devices=None, pipeline_model_parallel=False, prefix_size=0, print_alignment=False, print_step=False, profile=False, quantization_config_path=None, quiet=False, remove_bpe=None, replace_unk=None, required_batch_size_multiple=8, required_seq_len_multiple=1, results_path=None, retain_dropout=False, retain_dropout_modules=None, retain_iter_history=False, sacrebleu=False, sampling=False, sampling_topk=-1, sampling_topp=-1.0, score_reference=False, scoring='bleu', seed=1, shard_id=0, skip_invalid_size_inputs_valid_test=True, slowmo_algorithm='LocalSGD', slowmo_momentum=None, source_lang=None, target_lang=None, task='translation', temperature=1.0, tensorboard_logdir=None, threshold_loss_scale=None, tokenizer=None, tpu=False, train_subset='train', truncate_source=False, unkpen=0, unnormalized=False, upsample_primary=1, user_dir=None, valid_subset='valid', validate_after_updates=0, validate_interval=1, validate_interval_updates=0, warmup_updates=0, zero_sharding='none')\n",
            "INFO:fairseq.tasks.translation:[complex] dictionary: 50264 types\n",
            "INFO:fairseq.tasks.translation:[simple] dictionary: 50264 types\n"
          ]
        },
        {
          "output_type": "stream",
          "name": "stdout",
          "text": [
            "| use checkpoint_paths [PosixPath('/content/drive/MyDrive/muss/experiments/fairseq/local_1631567843618/model.pt')]\n"
          ]
        },
        {
          "output_type": "stream",
          "name": "stderr",
          "text": [
            "INFO:fairseq.data.data_utils:loaded 2000 examples from: /tmp/tmplfoily63/tmp.complex-simple.complex\n",
            "INFO:fairseq.data.data_utils:loaded 2000 examples from: /tmp/tmplfoily63/tmp.complex-simple.simple\n",
            "INFO:fairseq.tasks.translation:/tmp/tmplfoily63 tmp complex-simple 2000 examples\n",
            "INFO:fairseq_cli.generate:loading model(s) from /content/drive/MyDrive/muss/experiments/fairseq/local_1631567843618/model.pt\n",
            "INFO:fairseq_cli.generate:NOTE: hypothesis and token scores are output in base 2\n",
            "INFO:fairseq_cli.generate:Translated 2000 sentences (44423 tokens) in 107.1s (18.67 sentences/s, 414.59 tokens/s)\n",
            " 43%|████▎     | 55/128 [2:17:07<3:06:04, 152.94s/it]"
          ]
        },
        {
          "output_type": "stream",
          "name": "stdout",
          "text": [
            "| IN find_best_parametrization_nevergrad: kwargs.get('generate_kwargs', {}) {}\n",
            "get ref from ( evaluate_simplifier) asset_valid_NER_ABCD\n",
            "test_set in evaluate_simplifier when get ori asset_valid\n",
            "encoder_json_path /content/drive/MyDrive/muss/resources/bart_bpe/encoder.json\n",
            "vocab_bpe_path /content/drive/MyDrive/muss/resources/bart_bpe/vocab.bpe\n"
          ]
        },
        {
          "output_type": "stream",
          "name": "stderr",
          "text": [
            "INFO:fairseq_cli.generate:Namespace(all_gather_list_size=16384, batch_size=None, batch_size_valid=None, beam=5, bf16=False, bpe=None, broadcast_buffers=False, bucket_cap_mb=25, checkpoint_shard_count=1, checkpoint_suffix='', constraints=None, cpu=False, criterion='cross_entropy', curriculum=0, data='/tmp/tmpji7gtw85', data_buffer_size=10, dataset_impl='raw', ddp_backend='c10d', decoding_format=None, device_id=0, disable_validation=False, distributed_backend='nccl', distributed_init_method=None, distributed_no_spawn=False, distributed_port=-1, distributed_rank=0, distributed_world_size=1, distributed_wrapper='DDP', diverse_beam_groups=-1, diverse_beam_strength=0.5, diversity_rate=-1.0, empty_cache_freq=0, eval_bleu=False, eval_bleu_args=None, eval_bleu_detok='space', eval_bleu_detok_args=None, eval_bleu_print_samples=False, eval_bleu_remove_bpe=None, eval_tokenized_bleu=False, fast_stat_sync=False, find_unused_parameters=False, fix_batches_to_gpus=False, fixed_validation_seed=None, force_anneal=None, fp16=False, fp16_init_scale=128, fp16_no_flatten_grads=False, fp16_scale_tolerance=0.0, fp16_scale_window=None, gen_subset='tmp', iter_decode_eos_penalty=0.0, iter_decode_force_max_iter=False, iter_decode_max_iter=10, iter_decode_with_beam=1, iter_decode_with_external_reranker=False, left_pad_source='True', left_pad_target='False', lenpen=1.0, lm_path=None, lm_weight=0.0, load_alignments=False, localsgd_frequency=3, log_format=None, log_interval=100, lr_scheduler='fixed', lr_shrink=0.1, match_source_len=False, max_len_a=0, max_len_b=200, max_source_positions=1024, max_target_positions=1024, max_tokens=8000, max_tokens_valid=8000, memory_efficient_bf16=False, memory_efficient_fp16=False, min_len=1, min_loss_scale=0.0001, model_overrides=\"{'encoder_embed_path': None, 'decoder_embed_path': None}\", model_parallel_size=1, nbest=1, no_beamable_mm=False, no_early_stop=False, no_progress_bar=False, no_repeat_ngram_size=0, no_seed_provided=False, nprocs_per_node=1, num_batch_buckets=0, num_shards=1, num_workers=1, optimizer=None, path='/content/drive/MyDrive/muss/experiments/fairseq/local_1631567843618/model.pt', pipeline_balance=None, pipeline_checkpoint='never', pipeline_chunks=0, pipeline_decoder_balance=None, pipeline_decoder_devices=None, pipeline_devices=None, pipeline_encoder_balance=None, pipeline_encoder_devices=None, pipeline_model_parallel=False, prefix_size=0, print_alignment=False, print_step=False, profile=False, quantization_config_path=None, quiet=False, remove_bpe=None, replace_unk=None, required_batch_size_multiple=8, required_seq_len_multiple=1, results_path=None, retain_dropout=False, retain_dropout_modules=None, retain_iter_history=False, sacrebleu=False, sampling=False, sampling_topk=-1, sampling_topp=-1.0, score_reference=False, scoring='bleu', seed=1, shard_id=0, skip_invalid_size_inputs_valid_test=True, slowmo_algorithm='LocalSGD', slowmo_momentum=None, source_lang=None, target_lang=None, task='translation', temperature=1.0, tensorboard_logdir=None, threshold_loss_scale=None, tokenizer=None, tpu=False, train_subset='train', truncate_source=False, unkpen=0, unnormalized=False, upsample_primary=1, user_dir=None, valid_subset='valid', validate_after_updates=0, validate_interval=1, validate_interval_updates=0, warmup_updates=0, zero_sharding='none')\n",
            "INFO:fairseq.tasks.translation:[complex] dictionary: 50264 types\n",
            "INFO:fairseq.tasks.translation:[simple] dictionary: 50264 types\n"
          ]
        },
        {
          "output_type": "stream",
          "name": "stdout",
          "text": [
            "| use checkpoint_paths [PosixPath('/content/drive/MyDrive/muss/experiments/fairseq/local_1631567843618/model.pt')]\n"
          ]
        },
        {
          "output_type": "stream",
          "name": "stderr",
          "text": [
            "INFO:fairseq.data.data_utils:loaded 2000 examples from: /tmp/tmpji7gtw85/tmp.complex-simple.complex\n",
            "INFO:fairseq.data.data_utils:loaded 2000 examples from: /tmp/tmpji7gtw85/tmp.complex-simple.simple\n",
            "INFO:fairseq.tasks.translation:/tmp/tmpji7gtw85 tmp complex-simple 2000 examples\n",
            "INFO:fairseq_cli.generate:loading model(s) from /content/drive/MyDrive/muss/experiments/fairseq/local_1631567843618/model.pt\n",
            "INFO:fairseq_cli.generate:NOTE: hypothesis and token scores are output in base 2\n",
            "INFO:fairseq_cli.generate:Translated 2000 sentences (44429 tokens) in 107.6s (18.59 sentences/s, 412.90 tokens/s)\n",
            " 44%|████▍     | 56/128 [2:19:39<3:03:03, 152.55s/it]"
          ]
        },
        {
          "output_type": "stream",
          "name": "stdout",
          "text": [
            "| IN find_best_parametrization_nevergrad: kwargs.get('generate_kwargs', {}) {}\n",
            "get ref from ( evaluate_simplifier) asset_valid_NER_ABCD\n",
            "test_set in evaluate_simplifier when get ori asset_valid\n",
            "encoder_json_path /content/drive/MyDrive/muss/resources/bart_bpe/encoder.json\n",
            "vocab_bpe_path /content/drive/MyDrive/muss/resources/bart_bpe/vocab.bpe\n"
          ]
        },
        {
          "output_type": "stream",
          "name": "stderr",
          "text": [
            "INFO:fairseq_cli.generate:Namespace(all_gather_list_size=16384, batch_size=None, batch_size_valid=None, beam=5, bf16=False, bpe=None, broadcast_buffers=False, bucket_cap_mb=25, checkpoint_shard_count=1, checkpoint_suffix='', constraints=None, cpu=False, criterion='cross_entropy', curriculum=0, data='/tmp/tmpeyj4ul4x', data_buffer_size=10, dataset_impl='raw', ddp_backend='c10d', decoding_format=None, device_id=0, disable_validation=False, distributed_backend='nccl', distributed_init_method=None, distributed_no_spawn=False, distributed_port=-1, distributed_rank=0, distributed_world_size=1, distributed_wrapper='DDP', diverse_beam_groups=-1, diverse_beam_strength=0.5, diversity_rate=-1.0, empty_cache_freq=0, eval_bleu=False, eval_bleu_args=None, eval_bleu_detok='space', eval_bleu_detok_args=None, eval_bleu_print_samples=False, eval_bleu_remove_bpe=None, eval_tokenized_bleu=False, fast_stat_sync=False, find_unused_parameters=False, fix_batches_to_gpus=False, fixed_validation_seed=None, force_anneal=None, fp16=False, fp16_init_scale=128, fp16_no_flatten_grads=False, fp16_scale_tolerance=0.0, fp16_scale_window=None, gen_subset='tmp', iter_decode_eos_penalty=0.0, iter_decode_force_max_iter=False, iter_decode_max_iter=10, iter_decode_with_beam=1, iter_decode_with_external_reranker=False, left_pad_source='True', left_pad_target='False', lenpen=1.0, lm_path=None, lm_weight=0.0, load_alignments=False, localsgd_frequency=3, log_format=None, log_interval=100, lr_scheduler='fixed', lr_shrink=0.1, match_source_len=False, max_len_a=0, max_len_b=200, max_source_positions=1024, max_target_positions=1024, max_tokens=8000, max_tokens_valid=8000, memory_efficient_bf16=False, memory_efficient_fp16=False, min_len=1, min_loss_scale=0.0001, model_overrides=\"{'encoder_embed_path': None, 'decoder_embed_path': None}\", model_parallel_size=1, nbest=1, no_beamable_mm=False, no_early_stop=False, no_progress_bar=False, no_repeat_ngram_size=0, no_seed_provided=False, nprocs_per_node=1, num_batch_buckets=0, num_shards=1, num_workers=1, optimizer=None, path='/content/drive/MyDrive/muss/experiments/fairseq/local_1631567843618/model.pt', pipeline_balance=None, pipeline_checkpoint='never', pipeline_chunks=0, pipeline_decoder_balance=None, pipeline_decoder_devices=None, pipeline_devices=None, pipeline_encoder_balance=None, pipeline_encoder_devices=None, pipeline_model_parallel=False, prefix_size=0, print_alignment=False, print_step=False, profile=False, quantization_config_path=None, quiet=False, remove_bpe=None, replace_unk=None, required_batch_size_multiple=8, required_seq_len_multiple=1, results_path=None, retain_dropout=False, retain_dropout_modules=None, retain_iter_history=False, sacrebleu=False, sampling=False, sampling_topk=-1, sampling_topp=-1.0, score_reference=False, scoring='bleu', seed=1, shard_id=0, skip_invalid_size_inputs_valid_test=True, slowmo_algorithm='LocalSGD', slowmo_momentum=None, source_lang=None, target_lang=None, task='translation', temperature=1.0, tensorboard_logdir=None, threshold_loss_scale=None, tokenizer=None, tpu=False, train_subset='train', truncate_source=False, unkpen=0, unnormalized=False, upsample_primary=1, user_dir=None, valid_subset='valid', validate_after_updates=0, validate_interval=1, validate_interval_updates=0, warmup_updates=0, zero_sharding='none')\n",
            "INFO:fairseq.tasks.translation:[complex] dictionary: 50264 types\n",
            "INFO:fairseq.tasks.translation:[simple] dictionary: 50264 types\n"
          ]
        },
        {
          "output_type": "stream",
          "name": "stdout",
          "text": [
            "| use checkpoint_paths [PosixPath('/content/drive/MyDrive/muss/experiments/fairseq/local_1631567843618/model.pt')]\n"
          ]
        },
        {
          "output_type": "stream",
          "name": "stderr",
          "text": [
            "INFO:fairseq.data.data_utils:loaded 2000 examples from: /tmp/tmpeyj4ul4x/tmp.complex-simple.complex\n",
            "INFO:fairseq.data.data_utils:loaded 2000 examples from: /tmp/tmpeyj4ul4x/tmp.complex-simple.simple\n",
            "INFO:fairseq.tasks.translation:/tmp/tmpeyj4ul4x tmp complex-simple 2000 examples\n",
            "INFO:fairseq_cli.generate:loading model(s) from /content/drive/MyDrive/muss/experiments/fairseq/local_1631567843618/model.pt\n",
            "INFO:fairseq_cli.generate:NOTE: hypothesis and token scores are output in base 2\n",
            "INFO:fairseq_cli.generate:Translated 2000 sentences (46547 tokens) in 111.2s (17.98 sentences/s, 418.47 tokens/s)\n",
            " 45%|████▍     | 57/128 [2:22:14<3:01:23, 153.29s/it]"
          ]
        },
        {
          "output_type": "stream",
          "name": "stdout",
          "text": [
            "| IN find_best_parametrization_nevergrad: kwargs.get('generate_kwargs', {}) {}\n",
            "get ref from ( evaluate_simplifier) asset_valid_NER_ABCD\n",
            "test_set in evaluate_simplifier when get ori asset_valid\n",
            "encoder_json_path /content/drive/MyDrive/muss/resources/bart_bpe/encoder.json\n",
            "vocab_bpe_path /content/drive/MyDrive/muss/resources/bart_bpe/vocab.bpe\n"
          ]
        },
        {
          "output_type": "stream",
          "name": "stderr",
          "text": [
            "INFO:fairseq_cli.generate:Namespace(all_gather_list_size=16384, batch_size=None, batch_size_valid=None, beam=5, bf16=False, bpe=None, broadcast_buffers=False, bucket_cap_mb=25, checkpoint_shard_count=1, checkpoint_suffix='', constraints=None, cpu=False, criterion='cross_entropy', curriculum=0, data='/tmp/tmpkmfzx4e7', data_buffer_size=10, dataset_impl='raw', ddp_backend='c10d', decoding_format=None, device_id=0, disable_validation=False, distributed_backend='nccl', distributed_init_method=None, distributed_no_spawn=False, distributed_port=-1, distributed_rank=0, distributed_world_size=1, distributed_wrapper='DDP', diverse_beam_groups=-1, diverse_beam_strength=0.5, diversity_rate=-1.0, empty_cache_freq=0, eval_bleu=False, eval_bleu_args=None, eval_bleu_detok='space', eval_bleu_detok_args=None, eval_bleu_print_samples=False, eval_bleu_remove_bpe=None, eval_tokenized_bleu=False, fast_stat_sync=False, find_unused_parameters=False, fix_batches_to_gpus=False, fixed_validation_seed=None, force_anneal=None, fp16=False, fp16_init_scale=128, fp16_no_flatten_grads=False, fp16_scale_tolerance=0.0, fp16_scale_window=None, gen_subset='tmp', iter_decode_eos_penalty=0.0, iter_decode_force_max_iter=False, iter_decode_max_iter=10, iter_decode_with_beam=1, iter_decode_with_external_reranker=False, left_pad_source='True', left_pad_target='False', lenpen=1.0, lm_path=None, lm_weight=0.0, load_alignments=False, localsgd_frequency=3, log_format=None, log_interval=100, lr_scheduler='fixed', lr_shrink=0.1, match_source_len=False, max_len_a=0, max_len_b=200, max_source_positions=1024, max_target_positions=1024, max_tokens=8000, max_tokens_valid=8000, memory_efficient_bf16=False, memory_efficient_fp16=False, min_len=1, min_loss_scale=0.0001, model_overrides=\"{'encoder_embed_path': None, 'decoder_embed_path': None}\", model_parallel_size=1, nbest=1, no_beamable_mm=False, no_early_stop=False, no_progress_bar=False, no_repeat_ngram_size=0, no_seed_provided=False, nprocs_per_node=1, num_batch_buckets=0, num_shards=1, num_workers=1, optimizer=None, path='/content/drive/MyDrive/muss/experiments/fairseq/local_1631567843618/model.pt', pipeline_balance=None, pipeline_checkpoint='never', pipeline_chunks=0, pipeline_decoder_balance=None, pipeline_decoder_devices=None, pipeline_devices=None, pipeline_encoder_balance=None, pipeline_encoder_devices=None, pipeline_model_parallel=False, prefix_size=0, print_alignment=False, print_step=False, profile=False, quantization_config_path=None, quiet=False, remove_bpe=None, replace_unk=None, required_batch_size_multiple=8, required_seq_len_multiple=1, results_path=None, retain_dropout=False, retain_dropout_modules=None, retain_iter_history=False, sacrebleu=False, sampling=False, sampling_topk=-1, sampling_topp=-1.0, score_reference=False, scoring='bleu', seed=1, shard_id=0, skip_invalid_size_inputs_valid_test=True, slowmo_algorithm='LocalSGD', slowmo_momentum=None, source_lang=None, target_lang=None, task='translation', temperature=1.0, tensorboard_logdir=None, threshold_loss_scale=None, tokenizer=None, tpu=False, train_subset='train', truncate_source=False, unkpen=0, unnormalized=False, upsample_primary=1, user_dir=None, valid_subset='valid', validate_after_updates=0, validate_interval=1, validate_interval_updates=0, warmup_updates=0, zero_sharding='none')\n",
            "INFO:fairseq.tasks.translation:[complex] dictionary: 50264 types\n",
            "INFO:fairseq.tasks.translation:[simple] dictionary: 50264 types\n"
          ]
        },
        {
          "output_type": "stream",
          "name": "stdout",
          "text": [
            "| use checkpoint_paths [PosixPath('/content/drive/MyDrive/muss/experiments/fairseq/local_1631567843618/model.pt')]\n"
          ]
        },
        {
          "output_type": "stream",
          "name": "stderr",
          "text": [
            "INFO:fairseq.data.data_utils:loaded 2000 examples from: /tmp/tmpkmfzx4e7/tmp.complex-simple.complex\n",
            "INFO:fairseq.data.data_utils:loaded 2000 examples from: /tmp/tmpkmfzx4e7/tmp.complex-simple.simple\n",
            "INFO:fairseq.tasks.translation:/tmp/tmpkmfzx4e7 tmp complex-simple 2000 examples\n",
            "INFO:fairseq_cli.generate:loading model(s) from /content/drive/MyDrive/muss/experiments/fairseq/local_1631567843618/model.pt\n",
            "INFO:fairseq_cli.generate:NOTE: hypothesis and token scores are output in base 2\n",
            "INFO:fairseq_cli.generate:Translated 2000 sentences (46547 tokens) in 111.2s (17.98 sentences/s, 418.56 tokens/s)\n",
            " 45%|████▌     | 58/128 [2:24:49<2:59:27, 153.82s/it]"
          ]
        },
        {
          "output_type": "stream",
          "name": "stdout",
          "text": [
            "| IN find_best_parametrization_nevergrad: kwargs.get('generate_kwargs', {}) {}\n",
            "get ref from ( evaluate_simplifier) asset_valid_NER_ABCD\n",
            "test_set in evaluate_simplifier when get ori asset_valid\n",
            "encoder_json_path /content/drive/MyDrive/muss/resources/bart_bpe/encoder.json\n",
            "vocab_bpe_path /content/drive/MyDrive/muss/resources/bart_bpe/vocab.bpe\n"
          ]
        },
        {
          "output_type": "stream",
          "name": "stderr",
          "text": [
            "INFO:fairseq_cli.generate:Namespace(all_gather_list_size=16384, batch_size=None, batch_size_valid=None, beam=5, bf16=False, bpe=None, broadcast_buffers=False, bucket_cap_mb=25, checkpoint_shard_count=1, checkpoint_suffix='', constraints=None, cpu=False, criterion='cross_entropy', curriculum=0, data='/tmp/tmpfr8tc4dq', data_buffer_size=10, dataset_impl='raw', ddp_backend='c10d', decoding_format=None, device_id=0, disable_validation=False, distributed_backend='nccl', distributed_init_method=None, distributed_no_spawn=False, distributed_port=-1, distributed_rank=0, distributed_world_size=1, distributed_wrapper='DDP', diverse_beam_groups=-1, diverse_beam_strength=0.5, diversity_rate=-1.0, empty_cache_freq=0, eval_bleu=False, eval_bleu_args=None, eval_bleu_detok='space', eval_bleu_detok_args=None, eval_bleu_print_samples=False, eval_bleu_remove_bpe=None, eval_tokenized_bleu=False, fast_stat_sync=False, find_unused_parameters=False, fix_batches_to_gpus=False, fixed_validation_seed=None, force_anneal=None, fp16=False, fp16_init_scale=128, fp16_no_flatten_grads=False, fp16_scale_tolerance=0.0, fp16_scale_window=None, gen_subset='tmp', iter_decode_eos_penalty=0.0, iter_decode_force_max_iter=False, iter_decode_max_iter=10, iter_decode_with_beam=1, iter_decode_with_external_reranker=False, left_pad_source='True', left_pad_target='False', lenpen=1.0, lm_path=None, lm_weight=0.0, load_alignments=False, localsgd_frequency=3, log_format=None, log_interval=100, lr_scheduler='fixed', lr_shrink=0.1, match_source_len=False, max_len_a=0, max_len_b=200, max_source_positions=1024, max_target_positions=1024, max_tokens=8000, max_tokens_valid=8000, memory_efficient_bf16=False, memory_efficient_fp16=False, min_len=1, min_loss_scale=0.0001, model_overrides=\"{'encoder_embed_path': None, 'decoder_embed_path': None}\", model_parallel_size=1, nbest=1, no_beamable_mm=False, no_early_stop=False, no_progress_bar=False, no_repeat_ngram_size=0, no_seed_provided=False, nprocs_per_node=1, num_batch_buckets=0, num_shards=1, num_workers=1, optimizer=None, path='/content/drive/MyDrive/muss/experiments/fairseq/local_1631567843618/model.pt', pipeline_balance=None, pipeline_checkpoint='never', pipeline_chunks=0, pipeline_decoder_balance=None, pipeline_decoder_devices=None, pipeline_devices=None, pipeline_encoder_balance=None, pipeline_encoder_devices=None, pipeline_model_parallel=False, prefix_size=0, print_alignment=False, print_step=False, profile=False, quantization_config_path=None, quiet=False, remove_bpe=None, replace_unk=None, required_batch_size_multiple=8, required_seq_len_multiple=1, results_path=None, retain_dropout=False, retain_dropout_modules=None, retain_iter_history=False, sacrebleu=False, sampling=False, sampling_topk=-1, sampling_topp=-1.0, score_reference=False, scoring='bleu', seed=1, shard_id=0, skip_invalid_size_inputs_valid_test=True, slowmo_algorithm='LocalSGD', slowmo_momentum=None, source_lang=None, target_lang=None, task='translation', temperature=1.0, tensorboard_logdir=None, threshold_loss_scale=None, tokenizer=None, tpu=False, train_subset='train', truncate_source=False, unkpen=0, unnormalized=False, upsample_primary=1, user_dir=None, valid_subset='valid', validate_after_updates=0, validate_interval=1, validate_interval_updates=0, warmup_updates=0, zero_sharding='none')\n",
            "INFO:fairseq.tasks.translation:[complex] dictionary: 50264 types\n",
            "INFO:fairseq.tasks.translation:[simple] dictionary: 50264 types\n"
          ]
        },
        {
          "output_type": "stream",
          "name": "stdout",
          "text": [
            "| use checkpoint_paths [PosixPath('/content/drive/MyDrive/muss/experiments/fairseq/local_1631567843618/model.pt')]\n"
          ]
        },
        {
          "output_type": "stream",
          "name": "stderr",
          "text": [
            "INFO:fairseq.data.data_utils:loaded 2000 examples from: /tmp/tmpfr8tc4dq/tmp.complex-simple.complex\n",
            "INFO:fairseq.data.data_utils:loaded 2000 examples from: /tmp/tmpfr8tc4dq/tmp.complex-simple.simple\n",
            "INFO:fairseq.tasks.translation:/tmp/tmpfr8tc4dq tmp complex-simple 2000 examples\n",
            "INFO:fairseq_cli.generate:loading model(s) from /content/drive/MyDrive/muss/experiments/fairseq/local_1631567843618/model.pt\n",
            "INFO:fairseq_cli.generate:NOTE: hypothesis and token scores are output in base 2\n",
            "INFO:fairseq_cli.generate:Translated 2000 sentences (46547 tokens) in 111.2s (17.99 sentences/s, 418.69 tokens/s)\n",
            " 46%|████▌     | 59/128 [2:27:23<2:57:13, 154.10s/it]"
          ]
        },
        {
          "output_type": "stream",
          "name": "stdout",
          "text": [
            "| IN find_best_parametrization_nevergrad: kwargs.get('generate_kwargs', {}) {}\n",
            "get ref from ( evaluate_simplifier) asset_valid_NER_ABCD\n",
            "test_set in evaluate_simplifier when get ori asset_valid\n",
            "encoder_json_path /content/drive/MyDrive/muss/resources/bart_bpe/encoder.json\n",
            "vocab_bpe_path /content/drive/MyDrive/muss/resources/bart_bpe/vocab.bpe\n"
          ]
        },
        {
          "output_type": "stream",
          "name": "stderr",
          "text": [
            "INFO:fairseq_cli.generate:Namespace(all_gather_list_size=16384, batch_size=None, batch_size_valid=None, beam=5, bf16=False, bpe=None, broadcast_buffers=False, bucket_cap_mb=25, checkpoint_shard_count=1, checkpoint_suffix='', constraints=None, cpu=False, criterion='cross_entropy', curriculum=0, data='/tmp/tmpramwyozu', data_buffer_size=10, dataset_impl='raw', ddp_backend='c10d', decoding_format=None, device_id=0, disable_validation=False, distributed_backend='nccl', distributed_init_method=None, distributed_no_spawn=False, distributed_port=-1, distributed_rank=0, distributed_world_size=1, distributed_wrapper='DDP', diverse_beam_groups=-1, diverse_beam_strength=0.5, diversity_rate=-1.0, empty_cache_freq=0, eval_bleu=False, eval_bleu_args=None, eval_bleu_detok='space', eval_bleu_detok_args=None, eval_bleu_print_samples=False, eval_bleu_remove_bpe=None, eval_tokenized_bleu=False, fast_stat_sync=False, find_unused_parameters=False, fix_batches_to_gpus=False, fixed_validation_seed=None, force_anneal=None, fp16=False, fp16_init_scale=128, fp16_no_flatten_grads=False, fp16_scale_tolerance=0.0, fp16_scale_window=None, gen_subset='tmp', iter_decode_eos_penalty=0.0, iter_decode_force_max_iter=False, iter_decode_max_iter=10, iter_decode_with_beam=1, iter_decode_with_external_reranker=False, left_pad_source='True', left_pad_target='False', lenpen=1.0, lm_path=None, lm_weight=0.0, load_alignments=False, localsgd_frequency=3, log_format=None, log_interval=100, lr_scheduler='fixed', lr_shrink=0.1, match_source_len=False, max_len_a=0, max_len_b=200, max_source_positions=1024, max_target_positions=1024, max_tokens=8000, max_tokens_valid=8000, memory_efficient_bf16=False, memory_efficient_fp16=False, min_len=1, min_loss_scale=0.0001, model_overrides=\"{'encoder_embed_path': None, 'decoder_embed_path': None}\", model_parallel_size=1, nbest=1, no_beamable_mm=False, no_early_stop=False, no_progress_bar=False, no_repeat_ngram_size=0, no_seed_provided=False, nprocs_per_node=1, num_batch_buckets=0, num_shards=1, num_workers=1, optimizer=None, path='/content/drive/MyDrive/muss/experiments/fairseq/local_1631567843618/model.pt', pipeline_balance=None, pipeline_checkpoint='never', pipeline_chunks=0, pipeline_decoder_balance=None, pipeline_decoder_devices=None, pipeline_devices=None, pipeline_encoder_balance=None, pipeline_encoder_devices=None, pipeline_model_parallel=False, prefix_size=0, print_alignment=False, print_step=False, profile=False, quantization_config_path=None, quiet=False, remove_bpe=None, replace_unk=None, required_batch_size_multiple=8, required_seq_len_multiple=1, results_path=None, retain_dropout=False, retain_dropout_modules=None, retain_iter_history=False, sacrebleu=False, sampling=False, sampling_topk=-1, sampling_topp=-1.0, score_reference=False, scoring='bleu', seed=1, shard_id=0, skip_invalid_size_inputs_valid_test=True, slowmo_algorithm='LocalSGD', slowmo_momentum=None, source_lang=None, target_lang=None, task='translation', temperature=1.0, tensorboard_logdir=None, threshold_loss_scale=None, tokenizer=None, tpu=False, train_subset='train', truncate_source=False, unkpen=0, unnormalized=False, upsample_primary=1, user_dir=None, valid_subset='valid', validate_after_updates=0, validate_interval=1, validate_interval_updates=0, warmup_updates=0, zero_sharding='none')\n",
            "INFO:fairseq.tasks.translation:[complex] dictionary: 50264 types\n",
            "INFO:fairseq.tasks.translation:[simple] dictionary: 50264 types\n"
          ]
        },
        {
          "output_type": "stream",
          "name": "stdout",
          "text": [
            "| use checkpoint_paths [PosixPath('/content/drive/MyDrive/muss/experiments/fairseq/local_1631567843618/model.pt')]\n"
          ]
        },
        {
          "output_type": "stream",
          "name": "stderr",
          "text": [
            "INFO:fairseq.data.data_utils:loaded 2000 examples from: /tmp/tmpramwyozu/tmp.complex-simple.complex\n",
            "INFO:fairseq.data.data_utils:loaded 2000 examples from: /tmp/tmpramwyozu/tmp.complex-simple.simple\n",
            "INFO:fairseq.tasks.translation:/tmp/tmpramwyozu tmp complex-simple 2000 examples\n",
            "INFO:fairseq_cli.generate:loading model(s) from /content/drive/MyDrive/muss/experiments/fairseq/local_1631567843618/model.pt\n",
            "INFO:fairseq_cli.generate:NOTE: hypothesis and token scores are output in base 2\n",
            "INFO:fairseq_cli.generate:Translated 2000 sentences (44423 tokens) in 107.7s (18.57 sentences/s, 412.48 tokens/s)\n",
            " 47%|████▋     | 60/128 [2:29:55<2:53:43, 153.28s/it]"
          ]
        },
        {
          "output_type": "stream",
          "name": "stdout",
          "text": [
            "| IN find_best_parametrization_nevergrad: kwargs.get('generate_kwargs', {}) {}\n",
            "get ref from ( evaluate_simplifier) asset_valid_NER_ABCD\n",
            "test_set in evaluate_simplifier when get ori asset_valid\n",
            "encoder_json_path /content/drive/MyDrive/muss/resources/bart_bpe/encoder.json\n",
            "vocab_bpe_path /content/drive/MyDrive/muss/resources/bart_bpe/vocab.bpe\n"
          ]
        },
        {
          "output_type": "stream",
          "name": "stderr",
          "text": [
            "INFO:fairseq_cli.generate:Namespace(all_gather_list_size=16384, batch_size=None, batch_size_valid=None, beam=5, bf16=False, bpe=None, broadcast_buffers=False, bucket_cap_mb=25, checkpoint_shard_count=1, checkpoint_suffix='', constraints=None, cpu=False, criterion='cross_entropy', curriculum=0, data='/tmp/tmp5q47nfuf', data_buffer_size=10, dataset_impl='raw', ddp_backend='c10d', decoding_format=None, device_id=0, disable_validation=False, distributed_backend='nccl', distributed_init_method=None, distributed_no_spawn=False, distributed_port=-1, distributed_rank=0, distributed_world_size=1, distributed_wrapper='DDP', diverse_beam_groups=-1, diverse_beam_strength=0.5, diversity_rate=-1.0, empty_cache_freq=0, eval_bleu=False, eval_bleu_args=None, eval_bleu_detok='space', eval_bleu_detok_args=None, eval_bleu_print_samples=False, eval_bleu_remove_bpe=None, eval_tokenized_bleu=False, fast_stat_sync=False, find_unused_parameters=False, fix_batches_to_gpus=False, fixed_validation_seed=None, force_anneal=None, fp16=False, fp16_init_scale=128, fp16_no_flatten_grads=False, fp16_scale_tolerance=0.0, fp16_scale_window=None, gen_subset='tmp', iter_decode_eos_penalty=0.0, iter_decode_force_max_iter=False, iter_decode_max_iter=10, iter_decode_with_beam=1, iter_decode_with_external_reranker=False, left_pad_source='True', left_pad_target='False', lenpen=1.0, lm_path=None, lm_weight=0.0, load_alignments=False, localsgd_frequency=3, log_format=None, log_interval=100, lr_scheduler='fixed', lr_shrink=0.1, match_source_len=False, max_len_a=0, max_len_b=200, max_source_positions=1024, max_target_positions=1024, max_tokens=8000, max_tokens_valid=8000, memory_efficient_bf16=False, memory_efficient_fp16=False, min_len=1, min_loss_scale=0.0001, model_overrides=\"{'encoder_embed_path': None, 'decoder_embed_path': None}\", model_parallel_size=1, nbest=1, no_beamable_mm=False, no_early_stop=False, no_progress_bar=False, no_repeat_ngram_size=0, no_seed_provided=False, nprocs_per_node=1, num_batch_buckets=0, num_shards=1, num_workers=1, optimizer=None, path='/content/drive/MyDrive/muss/experiments/fairseq/local_1631567843618/model.pt', pipeline_balance=None, pipeline_checkpoint='never', pipeline_chunks=0, pipeline_decoder_balance=None, pipeline_decoder_devices=None, pipeline_devices=None, pipeline_encoder_balance=None, pipeline_encoder_devices=None, pipeline_model_parallel=False, prefix_size=0, print_alignment=False, print_step=False, profile=False, quantization_config_path=None, quiet=False, remove_bpe=None, replace_unk=None, required_batch_size_multiple=8, required_seq_len_multiple=1, results_path=None, retain_dropout=False, retain_dropout_modules=None, retain_iter_history=False, sacrebleu=False, sampling=False, sampling_topk=-1, sampling_topp=-1.0, score_reference=False, scoring='bleu', seed=1, shard_id=0, skip_invalid_size_inputs_valid_test=True, slowmo_algorithm='LocalSGD', slowmo_momentum=None, source_lang=None, target_lang=None, task='translation', temperature=1.0, tensorboard_logdir=None, threshold_loss_scale=None, tokenizer=None, tpu=False, train_subset='train', truncate_source=False, unkpen=0, unnormalized=False, upsample_primary=1, user_dir=None, valid_subset='valid', validate_after_updates=0, validate_interval=1, validate_interval_updates=0, warmup_updates=0, zero_sharding='none')\n",
            "INFO:fairseq.tasks.translation:[complex] dictionary: 50264 types\n",
            "INFO:fairseq.tasks.translation:[simple] dictionary: 50264 types\n"
          ]
        },
        {
          "output_type": "stream",
          "name": "stdout",
          "text": [
            "| use checkpoint_paths [PosixPath('/content/drive/MyDrive/muss/experiments/fairseq/local_1631567843618/model.pt')]\n"
          ]
        },
        {
          "output_type": "stream",
          "name": "stderr",
          "text": [
            "INFO:fairseq.data.data_utils:loaded 2000 examples from: /tmp/tmp5q47nfuf/tmp.complex-simple.complex\n",
            "INFO:fairseq.data.data_utils:loaded 2000 examples from: /tmp/tmp5q47nfuf/tmp.complex-simple.simple\n",
            "INFO:fairseq.tasks.translation:/tmp/tmp5q47nfuf tmp complex-simple 2000 examples\n",
            "INFO:fairseq_cli.generate:loading model(s) from /content/drive/MyDrive/muss/experiments/fairseq/local_1631567843618/model.pt\n",
            "INFO:fairseq_cli.generate:NOTE: hypothesis and token scores are output in base 2\n",
            "INFO:fairseq_cli.generate:Translated 2000 sentences (46547 tokens) in 111.5s (17.93 sentences/s, 417.37 tokens/s)\n",
            " 48%|████▊     | 61/128 [2:32:30<2:51:45, 153.82s/it]"
          ]
        },
        {
          "output_type": "stream",
          "name": "stdout",
          "text": [
            "| IN find_best_parametrization_nevergrad: kwargs.get('generate_kwargs', {}) {}\n",
            "get ref from ( evaluate_simplifier) asset_valid_NER_ABCD\n",
            "test_set in evaluate_simplifier when get ori asset_valid\n",
            "encoder_json_path /content/drive/MyDrive/muss/resources/bart_bpe/encoder.json\n",
            "vocab_bpe_path /content/drive/MyDrive/muss/resources/bart_bpe/vocab.bpe\n"
          ]
        },
        {
          "output_type": "stream",
          "name": "stderr",
          "text": [
            "INFO:fairseq_cli.generate:Namespace(all_gather_list_size=16384, batch_size=None, batch_size_valid=None, beam=5, bf16=False, bpe=None, broadcast_buffers=False, bucket_cap_mb=25, checkpoint_shard_count=1, checkpoint_suffix='', constraints=None, cpu=False, criterion='cross_entropy', curriculum=0, data='/tmp/tmp85_4yme3', data_buffer_size=10, dataset_impl='raw', ddp_backend='c10d', decoding_format=None, device_id=0, disable_validation=False, distributed_backend='nccl', distributed_init_method=None, distributed_no_spawn=False, distributed_port=-1, distributed_rank=0, distributed_world_size=1, distributed_wrapper='DDP', diverse_beam_groups=-1, diverse_beam_strength=0.5, diversity_rate=-1.0, empty_cache_freq=0, eval_bleu=False, eval_bleu_args=None, eval_bleu_detok='space', eval_bleu_detok_args=None, eval_bleu_print_samples=False, eval_bleu_remove_bpe=None, eval_tokenized_bleu=False, fast_stat_sync=False, find_unused_parameters=False, fix_batches_to_gpus=False, fixed_validation_seed=None, force_anneal=None, fp16=False, fp16_init_scale=128, fp16_no_flatten_grads=False, fp16_scale_tolerance=0.0, fp16_scale_window=None, gen_subset='tmp', iter_decode_eos_penalty=0.0, iter_decode_force_max_iter=False, iter_decode_max_iter=10, iter_decode_with_beam=1, iter_decode_with_external_reranker=False, left_pad_source='True', left_pad_target='False', lenpen=1.0, lm_path=None, lm_weight=0.0, load_alignments=False, localsgd_frequency=3, log_format=None, log_interval=100, lr_scheduler='fixed', lr_shrink=0.1, match_source_len=False, max_len_a=0, max_len_b=200, max_source_positions=1024, max_target_positions=1024, max_tokens=8000, max_tokens_valid=8000, memory_efficient_bf16=False, memory_efficient_fp16=False, min_len=1, min_loss_scale=0.0001, model_overrides=\"{'encoder_embed_path': None, 'decoder_embed_path': None}\", model_parallel_size=1, nbest=1, no_beamable_mm=False, no_early_stop=False, no_progress_bar=False, no_repeat_ngram_size=0, no_seed_provided=False, nprocs_per_node=1, num_batch_buckets=0, num_shards=1, num_workers=1, optimizer=None, path='/content/drive/MyDrive/muss/experiments/fairseq/local_1631567843618/model.pt', pipeline_balance=None, pipeline_checkpoint='never', pipeline_chunks=0, pipeline_decoder_balance=None, pipeline_decoder_devices=None, pipeline_devices=None, pipeline_encoder_balance=None, pipeline_encoder_devices=None, pipeline_model_parallel=False, prefix_size=0, print_alignment=False, print_step=False, profile=False, quantization_config_path=None, quiet=False, remove_bpe=None, replace_unk=None, required_batch_size_multiple=8, required_seq_len_multiple=1, results_path=None, retain_dropout=False, retain_dropout_modules=None, retain_iter_history=False, sacrebleu=False, sampling=False, sampling_topk=-1, sampling_topp=-1.0, score_reference=False, scoring='bleu', seed=1, shard_id=0, skip_invalid_size_inputs_valid_test=True, slowmo_algorithm='LocalSGD', slowmo_momentum=None, source_lang=None, target_lang=None, task='translation', temperature=1.0, tensorboard_logdir=None, threshold_loss_scale=None, tokenizer=None, tpu=False, train_subset='train', truncate_source=False, unkpen=0, unnormalized=False, upsample_primary=1, user_dir=None, valid_subset='valid', validate_after_updates=0, validate_interval=1, validate_interval_updates=0, warmup_updates=0, zero_sharding='none')\n",
            "INFO:fairseq.tasks.translation:[complex] dictionary: 50264 types\n",
            "INFO:fairseq.tasks.translation:[simple] dictionary: 50264 types\n"
          ]
        },
        {
          "output_type": "stream",
          "name": "stdout",
          "text": [
            "| use checkpoint_paths [PosixPath('/content/drive/MyDrive/muss/experiments/fairseq/local_1631567843618/model.pt')]\n"
          ]
        },
        {
          "output_type": "stream",
          "name": "stderr",
          "text": [
            "INFO:fairseq.data.data_utils:loaded 2000 examples from: /tmp/tmp85_4yme3/tmp.complex-simple.complex\n",
            "INFO:fairseq.data.data_utils:loaded 2000 examples from: /tmp/tmp85_4yme3/tmp.complex-simple.simple\n",
            "INFO:fairseq.tasks.translation:/tmp/tmp85_4yme3 tmp complex-simple 2000 examples\n",
            "INFO:fairseq_cli.generate:loading model(s) from /content/drive/MyDrive/muss/experiments/fairseq/local_1631567843618/model.pt\n",
            "INFO:fairseq_cli.generate:NOTE: hypothesis and token scores are output in base 2\n",
            "INFO:fairseq_cli.generate:Translated 2000 sentences (46891 tokens) in 112.0s (17.87 sentences/s, 418.85 tokens/s)\n",
            " 48%|████▊     | 62/128 [2:35:05<2:49:41, 154.27s/it]"
          ]
        },
        {
          "output_type": "stream",
          "name": "stdout",
          "text": [
            "| IN find_best_parametrization_nevergrad: kwargs.get('generate_kwargs', {}) {}\n",
            "get ref from ( evaluate_simplifier) asset_valid_NER_ABCD\n",
            "test_set in evaluate_simplifier when get ori asset_valid\n",
            "encoder_json_path /content/drive/MyDrive/muss/resources/bart_bpe/encoder.json\n",
            "vocab_bpe_path /content/drive/MyDrive/muss/resources/bart_bpe/vocab.bpe\n"
          ]
        },
        {
          "output_type": "stream",
          "name": "stderr",
          "text": [
            "INFO:fairseq_cli.generate:Namespace(all_gather_list_size=16384, batch_size=None, batch_size_valid=None, beam=5, bf16=False, bpe=None, broadcast_buffers=False, bucket_cap_mb=25, checkpoint_shard_count=1, checkpoint_suffix='', constraints=None, cpu=False, criterion='cross_entropy', curriculum=0, data='/tmp/tmpuip_2jdb', data_buffer_size=10, dataset_impl='raw', ddp_backend='c10d', decoding_format=None, device_id=0, disable_validation=False, distributed_backend='nccl', distributed_init_method=None, distributed_no_spawn=False, distributed_port=-1, distributed_rank=0, distributed_world_size=1, distributed_wrapper='DDP', diverse_beam_groups=-1, diverse_beam_strength=0.5, diversity_rate=-1.0, empty_cache_freq=0, eval_bleu=False, eval_bleu_args=None, eval_bleu_detok='space', eval_bleu_detok_args=None, eval_bleu_print_samples=False, eval_bleu_remove_bpe=None, eval_tokenized_bleu=False, fast_stat_sync=False, find_unused_parameters=False, fix_batches_to_gpus=False, fixed_validation_seed=None, force_anneal=None, fp16=False, fp16_init_scale=128, fp16_no_flatten_grads=False, fp16_scale_tolerance=0.0, fp16_scale_window=None, gen_subset='tmp', iter_decode_eos_penalty=0.0, iter_decode_force_max_iter=False, iter_decode_max_iter=10, iter_decode_with_beam=1, iter_decode_with_external_reranker=False, left_pad_source='True', left_pad_target='False', lenpen=1.0, lm_path=None, lm_weight=0.0, load_alignments=False, localsgd_frequency=3, log_format=None, log_interval=100, lr_scheduler='fixed', lr_shrink=0.1, match_source_len=False, max_len_a=0, max_len_b=200, max_source_positions=1024, max_target_positions=1024, max_tokens=8000, max_tokens_valid=8000, memory_efficient_bf16=False, memory_efficient_fp16=False, min_len=1, min_loss_scale=0.0001, model_overrides=\"{'encoder_embed_path': None, 'decoder_embed_path': None}\", model_parallel_size=1, nbest=1, no_beamable_mm=False, no_early_stop=False, no_progress_bar=False, no_repeat_ngram_size=0, no_seed_provided=False, nprocs_per_node=1, num_batch_buckets=0, num_shards=1, num_workers=1, optimizer=None, path='/content/drive/MyDrive/muss/experiments/fairseq/local_1631567843618/model.pt', pipeline_balance=None, pipeline_checkpoint='never', pipeline_chunks=0, pipeline_decoder_balance=None, pipeline_decoder_devices=None, pipeline_devices=None, pipeline_encoder_balance=None, pipeline_encoder_devices=None, pipeline_model_parallel=False, prefix_size=0, print_alignment=False, print_step=False, profile=False, quantization_config_path=None, quiet=False, remove_bpe=None, replace_unk=None, required_batch_size_multiple=8, required_seq_len_multiple=1, results_path=None, retain_dropout=False, retain_dropout_modules=None, retain_iter_history=False, sacrebleu=False, sampling=False, sampling_topk=-1, sampling_topp=-1.0, score_reference=False, scoring='bleu', seed=1, shard_id=0, skip_invalid_size_inputs_valid_test=True, slowmo_algorithm='LocalSGD', slowmo_momentum=None, source_lang=None, target_lang=None, task='translation', temperature=1.0, tensorboard_logdir=None, threshold_loss_scale=None, tokenizer=None, tpu=False, train_subset='train', truncate_source=False, unkpen=0, unnormalized=False, upsample_primary=1, user_dir=None, valid_subset='valid', validate_after_updates=0, validate_interval=1, validate_interval_updates=0, warmup_updates=0, zero_sharding='none')\n",
            "INFO:fairseq.tasks.translation:[complex] dictionary: 50264 types\n",
            "INFO:fairseq.tasks.translation:[simple] dictionary: 50264 types\n"
          ]
        },
        {
          "output_type": "stream",
          "name": "stdout",
          "text": [
            "| use checkpoint_paths [PosixPath('/content/drive/MyDrive/muss/experiments/fairseq/local_1631567843618/model.pt')]\n"
          ]
        },
        {
          "output_type": "stream",
          "name": "stderr",
          "text": [
            "INFO:fairseq.data.data_utils:loaded 2000 examples from: /tmp/tmpuip_2jdb/tmp.complex-simple.complex\n",
            "INFO:fairseq.data.data_utils:loaded 2000 examples from: /tmp/tmpuip_2jdb/tmp.complex-simple.simple\n",
            "INFO:fairseq.tasks.translation:/tmp/tmpuip_2jdb tmp complex-simple 2000 examples\n",
            "INFO:fairseq_cli.generate:loading model(s) from /content/drive/MyDrive/muss/experiments/fairseq/local_1631567843618/model.pt\n",
            "INFO:fairseq_cli.generate:NOTE: hypothesis and token scores are output in base 2\n",
            "INFO:fairseq_cli.generate:Translated 2000 sentences (46547 tokens) in 111.1s (18.00 sentences/s, 418.81 tokens/s)\n",
            " 49%|████▉     | 63/128 [2:37:40<2:47:15, 154.39s/it]"
          ]
        },
        {
          "output_type": "stream",
          "name": "stdout",
          "text": [
            "| IN find_best_parametrization_nevergrad: kwargs.get('generate_kwargs', {}) {}\n",
            "get ref from ( evaluate_simplifier) asset_valid_NER_ABCD\n",
            "test_set in evaluate_simplifier when get ori asset_valid\n",
            "encoder_json_path /content/drive/MyDrive/muss/resources/bart_bpe/encoder.json\n",
            "vocab_bpe_path /content/drive/MyDrive/muss/resources/bart_bpe/vocab.bpe\n"
          ]
        },
        {
          "output_type": "stream",
          "name": "stderr",
          "text": [
            "INFO:fairseq_cli.generate:Namespace(all_gather_list_size=16384, batch_size=None, batch_size_valid=None, beam=5, bf16=False, bpe=None, broadcast_buffers=False, bucket_cap_mb=25, checkpoint_shard_count=1, checkpoint_suffix='', constraints=None, cpu=False, criterion='cross_entropy', curriculum=0, data='/tmp/tmpzmr8569_', data_buffer_size=10, dataset_impl='raw', ddp_backend='c10d', decoding_format=None, device_id=0, disable_validation=False, distributed_backend='nccl', distributed_init_method=None, distributed_no_spawn=False, distributed_port=-1, distributed_rank=0, distributed_world_size=1, distributed_wrapper='DDP', diverse_beam_groups=-1, diverse_beam_strength=0.5, diversity_rate=-1.0, empty_cache_freq=0, eval_bleu=False, eval_bleu_args=None, eval_bleu_detok='space', eval_bleu_detok_args=None, eval_bleu_print_samples=False, eval_bleu_remove_bpe=None, eval_tokenized_bleu=False, fast_stat_sync=False, find_unused_parameters=False, fix_batches_to_gpus=False, fixed_validation_seed=None, force_anneal=None, fp16=False, fp16_init_scale=128, fp16_no_flatten_grads=False, fp16_scale_tolerance=0.0, fp16_scale_window=None, gen_subset='tmp', iter_decode_eos_penalty=0.0, iter_decode_force_max_iter=False, iter_decode_max_iter=10, iter_decode_with_beam=1, iter_decode_with_external_reranker=False, left_pad_source='True', left_pad_target='False', lenpen=1.0, lm_path=None, lm_weight=0.0, load_alignments=False, localsgd_frequency=3, log_format=None, log_interval=100, lr_scheduler='fixed', lr_shrink=0.1, match_source_len=False, max_len_a=0, max_len_b=200, max_source_positions=1024, max_target_positions=1024, max_tokens=8000, max_tokens_valid=8000, memory_efficient_bf16=False, memory_efficient_fp16=False, min_len=1, min_loss_scale=0.0001, model_overrides=\"{'encoder_embed_path': None, 'decoder_embed_path': None}\", model_parallel_size=1, nbest=1, no_beamable_mm=False, no_early_stop=False, no_progress_bar=False, no_repeat_ngram_size=0, no_seed_provided=False, nprocs_per_node=1, num_batch_buckets=0, num_shards=1, num_workers=1, optimizer=None, path='/content/drive/MyDrive/muss/experiments/fairseq/local_1631567843618/model.pt', pipeline_balance=None, pipeline_checkpoint='never', pipeline_chunks=0, pipeline_decoder_balance=None, pipeline_decoder_devices=None, pipeline_devices=None, pipeline_encoder_balance=None, pipeline_encoder_devices=None, pipeline_model_parallel=False, prefix_size=0, print_alignment=False, print_step=False, profile=False, quantization_config_path=None, quiet=False, remove_bpe=None, replace_unk=None, required_batch_size_multiple=8, required_seq_len_multiple=1, results_path=None, retain_dropout=False, retain_dropout_modules=None, retain_iter_history=False, sacrebleu=False, sampling=False, sampling_topk=-1, sampling_topp=-1.0, score_reference=False, scoring='bleu', seed=1, shard_id=0, skip_invalid_size_inputs_valid_test=True, slowmo_algorithm='LocalSGD', slowmo_momentum=None, source_lang=None, target_lang=None, task='translation', temperature=1.0, tensorboard_logdir=None, threshold_loss_scale=None, tokenizer=None, tpu=False, train_subset='train', truncate_source=False, unkpen=0, unnormalized=False, upsample_primary=1, user_dir=None, valid_subset='valid', validate_after_updates=0, validate_interval=1, validate_interval_updates=0, warmup_updates=0, zero_sharding='none')\n",
            "INFO:fairseq.tasks.translation:[complex] dictionary: 50264 types\n",
            "INFO:fairseq.tasks.translation:[simple] dictionary: 50264 types\n"
          ]
        },
        {
          "output_type": "stream",
          "name": "stdout",
          "text": [
            "| use checkpoint_paths [PosixPath('/content/drive/MyDrive/muss/experiments/fairseq/local_1631567843618/model.pt')]\n"
          ]
        },
        {
          "output_type": "stream",
          "name": "stderr",
          "text": [
            "INFO:fairseq.data.data_utils:loaded 2000 examples from: /tmp/tmpzmr8569_/tmp.complex-simple.complex\n",
            "INFO:fairseq.data.data_utils:loaded 2000 examples from: /tmp/tmpzmr8569_/tmp.complex-simple.simple\n",
            "INFO:fairseq.tasks.translation:/tmp/tmpzmr8569_ tmp complex-simple 2000 examples\n",
            "INFO:fairseq_cli.generate:loading model(s) from /content/drive/MyDrive/muss/experiments/fairseq/local_1631567843618/model.pt\n",
            "INFO:fairseq_cli.generate:NOTE: hypothesis and token scores are output in base 2\n",
            "INFO:fairseq_cli.generate:Translated 2000 sentences (46547 tokens) in 111.6s (17.92 sentences/s, 417.04 tokens/s)\n",
            " 50%|█████     | 64/128 [2:40:14<2:44:47, 154.50s/it]"
          ]
        },
        {
          "output_type": "stream",
          "name": "stdout",
          "text": [
            "| IN find_best_parametrization_nevergrad: kwargs.get('generate_kwargs', {}) {}\n",
            "get ref from ( evaluate_simplifier) asset_valid_NER_ABCD\n",
            "test_set in evaluate_simplifier when get ori asset_valid\n",
            "encoder_json_path /content/drive/MyDrive/muss/resources/bart_bpe/encoder.json\n",
            "vocab_bpe_path /content/drive/MyDrive/muss/resources/bart_bpe/vocab.bpe\n"
          ]
        },
        {
          "output_type": "stream",
          "name": "stderr",
          "text": [
            "INFO:fairseq_cli.generate:Namespace(all_gather_list_size=16384, batch_size=None, batch_size_valid=None, beam=5, bf16=False, bpe=None, broadcast_buffers=False, bucket_cap_mb=25, checkpoint_shard_count=1, checkpoint_suffix='', constraints=None, cpu=False, criterion='cross_entropy', curriculum=0, data='/tmp/tmpafgz98wy', data_buffer_size=10, dataset_impl='raw', ddp_backend='c10d', decoding_format=None, device_id=0, disable_validation=False, distributed_backend='nccl', distributed_init_method=None, distributed_no_spawn=False, distributed_port=-1, distributed_rank=0, distributed_world_size=1, distributed_wrapper='DDP', diverse_beam_groups=-1, diverse_beam_strength=0.5, diversity_rate=-1.0, empty_cache_freq=0, eval_bleu=False, eval_bleu_args=None, eval_bleu_detok='space', eval_bleu_detok_args=None, eval_bleu_print_samples=False, eval_bleu_remove_bpe=None, eval_tokenized_bleu=False, fast_stat_sync=False, find_unused_parameters=False, fix_batches_to_gpus=False, fixed_validation_seed=None, force_anneal=None, fp16=False, fp16_init_scale=128, fp16_no_flatten_grads=False, fp16_scale_tolerance=0.0, fp16_scale_window=None, gen_subset='tmp', iter_decode_eos_penalty=0.0, iter_decode_force_max_iter=False, iter_decode_max_iter=10, iter_decode_with_beam=1, iter_decode_with_external_reranker=False, left_pad_source='True', left_pad_target='False', lenpen=1.0, lm_path=None, lm_weight=0.0, load_alignments=False, localsgd_frequency=3, log_format=None, log_interval=100, lr_scheduler='fixed', lr_shrink=0.1, match_source_len=False, max_len_a=0, max_len_b=200, max_source_positions=1024, max_target_positions=1024, max_tokens=8000, max_tokens_valid=8000, memory_efficient_bf16=False, memory_efficient_fp16=False, min_len=1, min_loss_scale=0.0001, model_overrides=\"{'encoder_embed_path': None, 'decoder_embed_path': None}\", model_parallel_size=1, nbest=1, no_beamable_mm=False, no_early_stop=False, no_progress_bar=False, no_repeat_ngram_size=0, no_seed_provided=False, nprocs_per_node=1, num_batch_buckets=0, num_shards=1, num_workers=1, optimizer=None, path='/content/drive/MyDrive/muss/experiments/fairseq/local_1631567843618/model.pt', pipeline_balance=None, pipeline_checkpoint='never', pipeline_chunks=0, pipeline_decoder_balance=None, pipeline_decoder_devices=None, pipeline_devices=None, pipeline_encoder_balance=None, pipeline_encoder_devices=None, pipeline_model_parallel=False, prefix_size=0, print_alignment=False, print_step=False, profile=False, quantization_config_path=None, quiet=False, remove_bpe=None, replace_unk=None, required_batch_size_multiple=8, required_seq_len_multiple=1, results_path=None, retain_dropout=False, retain_dropout_modules=None, retain_iter_history=False, sacrebleu=False, sampling=False, sampling_topk=-1, sampling_topp=-1.0, score_reference=False, scoring='bleu', seed=1, shard_id=0, skip_invalid_size_inputs_valid_test=True, slowmo_algorithm='LocalSGD', slowmo_momentum=None, source_lang=None, target_lang=None, task='translation', temperature=1.0, tensorboard_logdir=None, threshold_loss_scale=None, tokenizer=None, tpu=False, train_subset='train', truncate_source=False, unkpen=0, unnormalized=False, upsample_primary=1, user_dir=None, valid_subset='valid', validate_after_updates=0, validate_interval=1, validate_interval_updates=0, warmup_updates=0, zero_sharding='none')\n",
            "INFO:fairseq.tasks.translation:[complex] dictionary: 50264 types\n",
            "INFO:fairseq.tasks.translation:[simple] dictionary: 50264 types\n"
          ]
        },
        {
          "output_type": "stream",
          "name": "stdout",
          "text": [
            "| use checkpoint_paths [PosixPath('/content/drive/MyDrive/muss/experiments/fairseq/local_1631567843618/model.pt')]\n"
          ]
        },
        {
          "output_type": "stream",
          "name": "stderr",
          "text": [
            "INFO:fairseq.data.data_utils:loaded 2000 examples from: /tmp/tmpafgz98wy/tmp.complex-simple.complex\n",
            "INFO:fairseq.data.data_utils:loaded 2000 examples from: /tmp/tmpafgz98wy/tmp.complex-simple.simple\n",
            "INFO:fairseq.tasks.translation:/tmp/tmpafgz98wy tmp complex-simple 2000 examples\n",
            "INFO:fairseq_cli.generate:loading model(s) from /content/drive/MyDrive/muss/experiments/fairseq/local_1631567843618/model.pt\n",
            "INFO:fairseq_cli.generate:NOTE: hypothesis and token scores are output in base 2\n",
            "INFO:fairseq_cli.generate:Translated 2000 sentences (46547 tokens) in 111.4s (17.95 sentences/s, 417.72 tokens/s)\n",
            " 51%|█████     | 65/128 [2:42:50<2:42:27, 154.72s/it]"
          ]
        },
        {
          "output_type": "stream",
          "name": "stdout",
          "text": [
            "| IN find_best_parametrization_nevergrad: kwargs.get('generate_kwargs', {}) {}\n",
            "get ref from ( evaluate_simplifier) asset_valid_NER_ABCD\n",
            "test_set in evaluate_simplifier when get ori asset_valid\n",
            "encoder_json_path /content/drive/MyDrive/muss/resources/bart_bpe/encoder.json\n",
            "vocab_bpe_path /content/drive/MyDrive/muss/resources/bart_bpe/vocab.bpe\n"
          ]
        },
        {
          "output_type": "stream",
          "name": "stderr",
          "text": [
            "INFO:fairseq_cli.generate:Namespace(all_gather_list_size=16384, batch_size=None, batch_size_valid=None, beam=5, bf16=False, bpe=None, broadcast_buffers=False, bucket_cap_mb=25, checkpoint_shard_count=1, checkpoint_suffix='', constraints=None, cpu=False, criterion='cross_entropy', curriculum=0, data='/tmp/tmp1wt6bl66', data_buffer_size=10, dataset_impl='raw', ddp_backend='c10d', decoding_format=None, device_id=0, disable_validation=False, distributed_backend='nccl', distributed_init_method=None, distributed_no_spawn=False, distributed_port=-1, distributed_rank=0, distributed_world_size=1, distributed_wrapper='DDP', diverse_beam_groups=-1, diverse_beam_strength=0.5, diversity_rate=-1.0, empty_cache_freq=0, eval_bleu=False, eval_bleu_args=None, eval_bleu_detok='space', eval_bleu_detok_args=None, eval_bleu_print_samples=False, eval_bleu_remove_bpe=None, eval_tokenized_bleu=False, fast_stat_sync=False, find_unused_parameters=False, fix_batches_to_gpus=False, fixed_validation_seed=None, force_anneal=None, fp16=False, fp16_init_scale=128, fp16_no_flatten_grads=False, fp16_scale_tolerance=0.0, fp16_scale_window=None, gen_subset='tmp', iter_decode_eos_penalty=0.0, iter_decode_force_max_iter=False, iter_decode_max_iter=10, iter_decode_with_beam=1, iter_decode_with_external_reranker=False, left_pad_source='True', left_pad_target='False', lenpen=1.0, lm_path=None, lm_weight=0.0, load_alignments=False, localsgd_frequency=3, log_format=None, log_interval=100, lr_scheduler='fixed', lr_shrink=0.1, match_source_len=False, max_len_a=0, max_len_b=200, max_source_positions=1024, max_target_positions=1024, max_tokens=8000, max_tokens_valid=8000, memory_efficient_bf16=False, memory_efficient_fp16=False, min_len=1, min_loss_scale=0.0001, model_overrides=\"{'encoder_embed_path': None, 'decoder_embed_path': None}\", model_parallel_size=1, nbest=1, no_beamable_mm=False, no_early_stop=False, no_progress_bar=False, no_repeat_ngram_size=0, no_seed_provided=False, nprocs_per_node=1, num_batch_buckets=0, num_shards=1, num_workers=1, optimizer=None, path='/content/drive/MyDrive/muss/experiments/fairseq/local_1631567843618/model.pt', pipeline_balance=None, pipeline_checkpoint='never', pipeline_chunks=0, pipeline_decoder_balance=None, pipeline_decoder_devices=None, pipeline_devices=None, pipeline_encoder_balance=None, pipeline_encoder_devices=None, pipeline_model_parallel=False, prefix_size=0, print_alignment=False, print_step=False, profile=False, quantization_config_path=None, quiet=False, remove_bpe=None, replace_unk=None, required_batch_size_multiple=8, required_seq_len_multiple=1, results_path=None, retain_dropout=False, retain_dropout_modules=None, retain_iter_history=False, sacrebleu=False, sampling=False, sampling_topk=-1, sampling_topp=-1.0, score_reference=False, scoring='bleu', seed=1, shard_id=0, skip_invalid_size_inputs_valid_test=True, slowmo_algorithm='LocalSGD', slowmo_momentum=None, source_lang=None, target_lang=None, task='translation', temperature=1.0, tensorboard_logdir=None, threshold_loss_scale=None, tokenizer=None, tpu=False, train_subset='train', truncate_source=False, unkpen=0, unnormalized=False, upsample_primary=1, user_dir=None, valid_subset='valid', validate_after_updates=0, validate_interval=1, validate_interval_updates=0, warmup_updates=0, zero_sharding='none')\n",
            "INFO:fairseq.tasks.translation:[complex] dictionary: 50264 types\n",
            "INFO:fairseq.tasks.translation:[simple] dictionary: 50264 types\n"
          ]
        },
        {
          "output_type": "stream",
          "name": "stdout",
          "text": [
            "| use checkpoint_paths [PosixPath('/content/drive/MyDrive/muss/experiments/fairseq/local_1631567843618/model.pt')]\n"
          ]
        },
        {
          "output_type": "stream",
          "name": "stderr",
          "text": [
            "INFO:fairseq.data.data_utils:loaded 2000 examples from: /tmp/tmp1wt6bl66/tmp.complex-simple.complex\n",
            "INFO:fairseq.data.data_utils:loaded 2000 examples from: /tmp/tmp1wt6bl66/tmp.complex-simple.simple\n",
            "INFO:fairseq.tasks.translation:/tmp/tmp1wt6bl66 tmp complex-simple 2000 examples\n",
            "INFO:fairseq_cli.generate:loading model(s) from /content/drive/MyDrive/muss/experiments/fairseq/local_1631567843618/model.pt\n",
            "INFO:fairseq_cli.generate:NOTE: hypothesis and token scores are output in base 2\n",
            "INFO:fairseq_cli.generate:Translated 2000 sentences (46547 tokens) in 111.2s (17.98 sentences/s, 418.56 tokens/s)\n",
            " 52%|█████▏    | 66/128 [2:45:24<2:39:43, 154.57s/it]"
          ]
        },
        {
          "output_type": "stream",
          "name": "stdout",
          "text": [
            "| IN find_best_parametrization_nevergrad: kwargs.get('generate_kwargs', {}) {}\n",
            "get ref from ( evaluate_simplifier) asset_valid_NER_ABCD\n",
            "test_set in evaluate_simplifier when get ori asset_valid\n",
            "encoder_json_path /content/drive/MyDrive/muss/resources/bart_bpe/encoder.json\n",
            "vocab_bpe_path /content/drive/MyDrive/muss/resources/bart_bpe/vocab.bpe\n"
          ]
        },
        {
          "output_type": "stream",
          "name": "stderr",
          "text": [
            "INFO:fairseq_cli.generate:Namespace(all_gather_list_size=16384, batch_size=None, batch_size_valid=None, beam=5, bf16=False, bpe=None, broadcast_buffers=False, bucket_cap_mb=25, checkpoint_shard_count=1, checkpoint_suffix='', constraints=None, cpu=False, criterion='cross_entropy', curriculum=0, data='/tmp/tmpahtqr2l6', data_buffer_size=10, dataset_impl='raw', ddp_backend='c10d', decoding_format=None, device_id=0, disable_validation=False, distributed_backend='nccl', distributed_init_method=None, distributed_no_spawn=False, distributed_port=-1, distributed_rank=0, distributed_world_size=1, distributed_wrapper='DDP', diverse_beam_groups=-1, diverse_beam_strength=0.5, diversity_rate=-1.0, empty_cache_freq=0, eval_bleu=False, eval_bleu_args=None, eval_bleu_detok='space', eval_bleu_detok_args=None, eval_bleu_print_samples=False, eval_bleu_remove_bpe=None, eval_tokenized_bleu=False, fast_stat_sync=False, find_unused_parameters=False, fix_batches_to_gpus=False, fixed_validation_seed=None, force_anneal=None, fp16=False, fp16_init_scale=128, fp16_no_flatten_grads=False, fp16_scale_tolerance=0.0, fp16_scale_window=None, gen_subset='tmp', iter_decode_eos_penalty=0.0, iter_decode_force_max_iter=False, iter_decode_max_iter=10, iter_decode_with_beam=1, iter_decode_with_external_reranker=False, left_pad_source='True', left_pad_target='False', lenpen=1.0, lm_path=None, lm_weight=0.0, load_alignments=False, localsgd_frequency=3, log_format=None, log_interval=100, lr_scheduler='fixed', lr_shrink=0.1, match_source_len=False, max_len_a=0, max_len_b=200, max_source_positions=1024, max_target_positions=1024, max_tokens=8000, max_tokens_valid=8000, memory_efficient_bf16=False, memory_efficient_fp16=False, min_len=1, min_loss_scale=0.0001, model_overrides=\"{'encoder_embed_path': None, 'decoder_embed_path': None}\", model_parallel_size=1, nbest=1, no_beamable_mm=False, no_early_stop=False, no_progress_bar=False, no_repeat_ngram_size=0, no_seed_provided=False, nprocs_per_node=1, num_batch_buckets=0, num_shards=1, num_workers=1, optimizer=None, path='/content/drive/MyDrive/muss/experiments/fairseq/local_1631567843618/model.pt', pipeline_balance=None, pipeline_checkpoint='never', pipeline_chunks=0, pipeline_decoder_balance=None, pipeline_decoder_devices=None, pipeline_devices=None, pipeline_encoder_balance=None, pipeline_encoder_devices=None, pipeline_model_parallel=False, prefix_size=0, print_alignment=False, print_step=False, profile=False, quantization_config_path=None, quiet=False, remove_bpe=None, replace_unk=None, required_batch_size_multiple=8, required_seq_len_multiple=1, results_path=None, retain_dropout=False, retain_dropout_modules=None, retain_iter_history=False, sacrebleu=False, sampling=False, sampling_topk=-1, sampling_topp=-1.0, score_reference=False, scoring='bleu', seed=1, shard_id=0, skip_invalid_size_inputs_valid_test=True, slowmo_algorithm='LocalSGD', slowmo_momentum=None, source_lang=None, target_lang=None, task='translation', temperature=1.0, tensorboard_logdir=None, threshold_loss_scale=None, tokenizer=None, tpu=False, train_subset='train', truncate_source=False, unkpen=0, unnormalized=False, upsample_primary=1, user_dir=None, valid_subset='valid', validate_after_updates=0, validate_interval=1, validate_interval_updates=0, warmup_updates=0, zero_sharding='none')\n",
            "INFO:fairseq.tasks.translation:[complex] dictionary: 50264 types\n",
            "INFO:fairseq.tasks.translation:[simple] dictionary: 50264 types\n"
          ]
        },
        {
          "output_type": "stream",
          "name": "stdout",
          "text": [
            "| use checkpoint_paths [PosixPath('/content/drive/MyDrive/muss/experiments/fairseq/local_1631567843618/model.pt')]\n"
          ]
        },
        {
          "output_type": "stream",
          "name": "stderr",
          "text": [
            "INFO:fairseq.data.data_utils:loaded 2000 examples from: /tmp/tmpahtqr2l6/tmp.complex-simple.complex\n",
            "INFO:fairseq.data.data_utils:loaded 2000 examples from: /tmp/tmpahtqr2l6/tmp.complex-simple.simple\n",
            "INFO:fairseq.tasks.translation:/tmp/tmpahtqr2l6 tmp complex-simple 2000 examples\n",
            "INFO:fairseq_cli.generate:loading model(s) from /content/drive/MyDrive/muss/experiments/fairseq/local_1631567843618/model.pt\n",
            "INFO:fairseq_cli.generate:NOTE: hypothesis and token scores are output in base 2\n",
            "INFO:fairseq_cli.generate:Translated 2000 sentences (46547 tokens) in 111.3s (17.98 sentences/s, 418.35 tokens/s)\n",
            " 52%|█████▏    | 67/128 [2:47:59<2:37:22, 154.80s/it]"
          ]
        },
        {
          "output_type": "stream",
          "name": "stdout",
          "text": [
            "| IN find_best_parametrization_nevergrad: kwargs.get('generate_kwargs', {}) {}\n",
            "get ref from ( evaluate_simplifier) asset_valid_NER_ABCD\n",
            "test_set in evaluate_simplifier when get ori asset_valid\n",
            "encoder_json_path /content/drive/MyDrive/muss/resources/bart_bpe/encoder.json\n",
            "vocab_bpe_path /content/drive/MyDrive/muss/resources/bart_bpe/vocab.bpe\n"
          ]
        },
        {
          "output_type": "stream",
          "name": "stderr",
          "text": [
            "INFO:fairseq_cli.generate:Namespace(all_gather_list_size=16384, batch_size=None, batch_size_valid=None, beam=5, bf16=False, bpe=None, broadcast_buffers=False, bucket_cap_mb=25, checkpoint_shard_count=1, checkpoint_suffix='', constraints=None, cpu=False, criterion='cross_entropy', curriculum=0, data='/tmp/tmp4hxs07gu', data_buffer_size=10, dataset_impl='raw', ddp_backend='c10d', decoding_format=None, device_id=0, disable_validation=False, distributed_backend='nccl', distributed_init_method=None, distributed_no_spawn=False, distributed_port=-1, distributed_rank=0, distributed_world_size=1, distributed_wrapper='DDP', diverse_beam_groups=-1, diverse_beam_strength=0.5, diversity_rate=-1.0, empty_cache_freq=0, eval_bleu=False, eval_bleu_args=None, eval_bleu_detok='space', eval_bleu_detok_args=None, eval_bleu_print_samples=False, eval_bleu_remove_bpe=None, eval_tokenized_bleu=False, fast_stat_sync=False, find_unused_parameters=False, fix_batches_to_gpus=False, fixed_validation_seed=None, force_anneal=None, fp16=False, fp16_init_scale=128, fp16_no_flatten_grads=False, fp16_scale_tolerance=0.0, fp16_scale_window=None, gen_subset='tmp', iter_decode_eos_penalty=0.0, iter_decode_force_max_iter=False, iter_decode_max_iter=10, iter_decode_with_beam=1, iter_decode_with_external_reranker=False, left_pad_source='True', left_pad_target='False', lenpen=1.0, lm_path=None, lm_weight=0.0, load_alignments=False, localsgd_frequency=3, log_format=None, log_interval=100, lr_scheduler='fixed', lr_shrink=0.1, match_source_len=False, max_len_a=0, max_len_b=200, max_source_positions=1024, max_target_positions=1024, max_tokens=8000, max_tokens_valid=8000, memory_efficient_bf16=False, memory_efficient_fp16=False, min_len=1, min_loss_scale=0.0001, model_overrides=\"{'encoder_embed_path': None, 'decoder_embed_path': None}\", model_parallel_size=1, nbest=1, no_beamable_mm=False, no_early_stop=False, no_progress_bar=False, no_repeat_ngram_size=0, no_seed_provided=False, nprocs_per_node=1, num_batch_buckets=0, num_shards=1, num_workers=1, optimizer=None, path='/content/drive/MyDrive/muss/experiments/fairseq/local_1631567843618/model.pt', pipeline_balance=None, pipeline_checkpoint='never', pipeline_chunks=0, pipeline_decoder_balance=None, pipeline_decoder_devices=None, pipeline_devices=None, pipeline_encoder_balance=None, pipeline_encoder_devices=None, pipeline_model_parallel=False, prefix_size=0, print_alignment=False, print_step=False, profile=False, quantization_config_path=None, quiet=False, remove_bpe=None, replace_unk=None, required_batch_size_multiple=8, required_seq_len_multiple=1, results_path=None, retain_dropout=False, retain_dropout_modules=None, retain_iter_history=False, sacrebleu=False, sampling=False, sampling_topk=-1, sampling_topp=-1.0, score_reference=False, scoring='bleu', seed=1, shard_id=0, skip_invalid_size_inputs_valid_test=True, slowmo_algorithm='LocalSGD', slowmo_momentum=None, source_lang=None, target_lang=None, task='translation', temperature=1.0, tensorboard_logdir=None, threshold_loss_scale=None, tokenizer=None, tpu=False, train_subset='train', truncate_source=False, unkpen=0, unnormalized=False, upsample_primary=1, user_dir=None, valid_subset='valid', validate_after_updates=0, validate_interval=1, validate_interval_updates=0, warmup_updates=0, zero_sharding='none')\n",
            "INFO:fairseq.tasks.translation:[complex] dictionary: 50264 types\n",
            "INFO:fairseq.tasks.translation:[simple] dictionary: 50264 types\n"
          ]
        },
        {
          "output_type": "stream",
          "name": "stdout",
          "text": [
            "| use checkpoint_paths [PosixPath('/content/drive/MyDrive/muss/experiments/fairseq/local_1631567843618/model.pt')]\n"
          ]
        },
        {
          "output_type": "stream",
          "name": "stderr",
          "text": [
            "INFO:fairseq.data.data_utils:loaded 2000 examples from: /tmp/tmp4hxs07gu/tmp.complex-simple.complex\n",
            "INFO:fairseq.data.data_utils:loaded 2000 examples from: /tmp/tmp4hxs07gu/tmp.complex-simple.simple\n",
            "INFO:fairseq.tasks.translation:/tmp/tmp4hxs07gu tmp complex-simple 2000 examples\n",
            "INFO:fairseq_cli.generate:loading model(s) from /content/drive/MyDrive/muss/experiments/fairseq/local_1631567843618/model.pt\n",
            "INFO:fairseq_cli.generate:NOTE: hypothesis and token scores are output in base 2\n",
            "INFO:fairseq_cli.generate:Translated 2000 sentences (46547 tokens) in 111.2s (17.99 sentences/s, 418.76 tokens/s)\n",
            " 53%|█████▎    | 68/128 [2:50:35<2:35:10, 155.18s/it]"
          ]
        },
        {
          "output_type": "stream",
          "name": "stdout",
          "text": [
            "| IN find_best_parametrization_nevergrad: kwargs.get('generate_kwargs', {}) {}\n",
            "get ref from ( evaluate_simplifier) asset_valid_NER_ABCD\n",
            "test_set in evaluate_simplifier when get ori asset_valid\n",
            "encoder_json_path /content/drive/MyDrive/muss/resources/bart_bpe/encoder.json\n",
            "vocab_bpe_path /content/drive/MyDrive/muss/resources/bart_bpe/vocab.bpe\n"
          ]
        },
        {
          "output_type": "stream",
          "name": "stderr",
          "text": [
            "INFO:fairseq_cli.generate:Namespace(all_gather_list_size=16384, batch_size=None, batch_size_valid=None, beam=5, bf16=False, bpe=None, broadcast_buffers=False, bucket_cap_mb=25, checkpoint_shard_count=1, checkpoint_suffix='', constraints=None, cpu=False, criterion='cross_entropy', curriculum=0, data='/tmp/tmpe5m4ncrz', data_buffer_size=10, dataset_impl='raw', ddp_backend='c10d', decoding_format=None, device_id=0, disable_validation=False, distributed_backend='nccl', distributed_init_method=None, distributed_no_spawn=False, distributed_port=-1, distributed_rank=0, distributed_world_size=1, distributed_wrapper='DDP', diverse_beam_groups=-1, diverse_beam_strength=0.5, diversity_rate=-1.0, empty_cache_freq=0, eval_bleu=False, eval_bleu_args=None, eval_bleu_detok='space', eval_bleu_detok_args=None, eval_bleu_print_samples=False, eval_bleu_remove_bpe=None, eval_tokenized_bleu=False, fast_stat_sync=False, find_unused_parameters=False, fix_batches_to_gpus=False, fixed_validation_seed=None, force_anneal=None, fp16=False, fp16_init_scale=128, fp16_no_flatten_grads=False, fp16_scale_tolerance=0.0, fp16_scale_window=None, gen_subset='tmp', iter_decode_eos_penalty=0.0, iter_decode_force_max_iter=False, iter_decode_max_iter=10, iter_decode_with_beam=1, iter_decode_with_external_reranker=False, left_pad_source='True', left_pad_target='False', lenpen=1.0, lm_path=None, lm_weight=0.0, load_alignments=False, localsgd_frequency=3, log_format=None, log_interval=100, lr_scheduler='fixed', lr_shrink=0.1, match_source_len=False, max_len_a=0, max_len_b=200, max_source_positions=1024, max_target_positions=1024, max_tokens=8000, max_tokens_valid=8000, memory_efficient_bf16=False, memory_efficient_fp16=False, min_len=1, min_loss_scale=0.0001, model_overrides=\"{'encoder_embed_path': None, 'decoder_embed_path': None}\", model_parallel_size=1, nbest=1, no_beamable_mm=False, no_early_stop=False, no_progress_bar=False, no_repeat_ngram_size=0, no_seed_provided=False, nprocs_per_node=1, num_batch_buckets=0, num_shards=1, num_workers=1, optimizer=None, path='/content/drive/MyDrive/muss/experiments/fairseq/local_1631567843618/model.pt', pipeline_balance=None, pipeline_checkpoint='never', pipeline_chunks=0, pipeline_decoder_balance=None, pipeline_decoder_devices=None, pipeline_devices=None, pipeline_encoder_balance=None, pipeline_encoder_devices=None, pipeline_model_parallel=False, prefix_size=0, print_alignment=False, print_step=False, profile=False, quantization_config_path=None, quiet=False, remove_bpe=None, replace_unk=None, required_batch_size_multiple=8, required_seq_len_multiple=1, results_path=None, retain_dropout=False, retain_dropout_modules=None, retain_iter_history=False, sacrebleu=False, sampling=False, sampling_topk=-1, sampling_topp=-1.0, score_reference=False, scoring='bleu', seed=1, shard_id=0, skip_invalid_size_inputs_valid_test=True, slowmo_algorithm='LocalSGD', slowmo_momentum=None, source_lang=None, target_lang=None, task='translation', temperature=1.0, tensorboard_logdir=None, threshold_loss_scale=None, tokenizer=None, tpu=False, train_subset='train', truncate_source=False, unkpen=0, unnormalized=False, upsample_primary=1, user_dir=None, valid_subset='valid', validate_after_updates=0, validate_interval=1, validate_interval_updates=0, warmup_updates=0, zero_sharding='none')\n",
            "INFO:fairseq.tasks.translation:[complex] dictionary: 50264 types\n",
            "INFO:fairseq.tasks.translation:[simple] dictionary: 50264 types\n"
          ]
        },
        {
          "output_type": "stream",
          "name": "stdout",
          "text": [
            "| use checkpoint_paths [PosixPath('/content/drive/MyDrive/muss/experiments/fairseq/local_1631567843618/model.pt')]\n"
          ]
        },
        {
          "output_type": "stream",
          "name": "stderr",
          "text": [
            "INFO:fairseq.data.data_utils:loaded 2000 examples from: /tmp/tmpe5m4ncrz/tmp.complex-simple.complex\n",
            "INFO:fairseq.data.data_utils:loaded 2000 examples from: /tmp/tmpe5m4ncrz/tmp.complex-simple.simple\n",
            "INFO:fairseq.tasks.translation:/tmp/tmpe5m4ncrz tmp complex-simple 2000 examples\n",
            "INFO:fairseq_cli.generate:loading model(s) from /content/drive/MyDrive/muss/experiments/fairseq/local_1631567843618/model.pt\n",
            "INFO:fairseq_cli.generate:NOTE: hypothesis and token scores are output in base 2\n",
            "INFO:fairseq_cli.generate:Translated 2000 sentences (46547 tokens) in 111.1s (18.00 sentences/s, 418.92 tokens/s)\n",
            " 54%|█████▍    | 69/128 [2:53:11<2:32:37, 155.21s/it]"
          ]
        },
        {
          "output_type": "stream",
          "name": "stdout",
          "text": [
            "| IN find_best_parametrization_nevergrad: kwargs.get('generate_kwargs', {}) {}\n",
            "get ref from ( evaluate_simplifier) asset_valid_NER_ABCD\n",
            "test_set in evaluate_simplifier when get ori asset_valid\n",
            "encoder_json_path /content/drive/MyDrive/muss/resources/bart_bpe/encoder.json\n",
            "vocab_bpe_path /content/drive/MyDrive/muss/resources/bart_bpe/vocab.bpe\n"
          ]
        },
        {
          "output_type": "stream",
          "name": "stderr",
          "text": [
            "INFO:fairseq_cli.generate:Namespace(all_gather_list_size=16384, batch_size=None, batch_size_valid=None, beam=5, bf16=False, bpe=None, broadcast_buffers=False, bucket_cap_mb=25, checkpoint_shard_count=1, checkpoint_suffix='', constraints=None, cpu=False, criterion='cross_entropy', curriculum=0, data='/tmp/tmpsorcyk4n', data_buffer_size=10, dataset_impl='raw', ddp_backend='c10d', decoding_format=None, device_id=0, disable_validation=False, distributed_backend='nccl', distributed_init_method=None, distributed_no_spawn=False, distributed_port=-1, distributed_rank=0, distributed_world_size=1, distributed_wrapper='DDP', diverse_beam_groups=-1, diverse_beam_strength=0.5, diversity_rate=-1.0, empty_cache_freq=0, eval_bleu=False, eval_bleu_args=None, eval_bleu_detok='space', eval_bleu_detok_args=None, eval_bleu_print_samples=False, eval_bleu_remove_bpe=None, eval_tokenized_bleu=False, fast_stat_sync=False, find_unused_parameters=False, fix_batches_to_gpus=False, fixed_validation_seed=None, force_anneal=None, fp16=False, fp16_init_scale=128, fp16_no_flatten_grads=False, fp16_scale_tolerance=0.0, fp16_scale_window=None, gen_subset='tmp', iter_decode_eos_penalty=0.0, iter_decode_force_max_iter=False, iter_decode_max_iter=10, iter_decode_with_beam=1, iter_decode_with_external_reranker=False, left_pad_source='True', left_pad_target='False', lenpen=1.0, lm_path=None, lm_weight=0.0, load_alignments=False, localsgd_frequency=3, log_format=None, log_interval=100, lr_scheduler='fixed', lr_shrink=0.1, match_source_len=False, max_len_a=0, max_len_b=200, max_source_positions=1024, max_target_positions=1024, max_tokens=8000, max_tokens_valid=8000, memory_efficient_bf16=False, memory_efficient_fp16=False, min_len=1, min_loss_scale=0.0001, model_overrides=\"{'encoder_embed_path': None, 'decoder_embed_path': None}\", model_parallel_size=1, nbest=1, no_beamable_mm=False, no_early_stop=False, no_progress_bar=False, no_repeat_ngram_size=0, no_seed_provided=False, nprocs_per_node=1, num_batch_buckets=0, num_shards=1, num_workers=1, optimizer=None, path='/content/drive/MyDrive/muss/experiments/fairseq/local_1631567843618/model.pt', pipeline_balance=None, pipeline_checkpoint='never', pipeline_chunks=0, pipeline_decoder_balance=None, pipeline_decoder_devices=None, pipeline_devices=None, pipeline_encoder_balance=None, pipeline_encoder_devices=None, pipeline_model_parallel=False, prefix_size=0, print_alignment=False, print_step=False, profile=False, quantization_config_path=None, quiet=False, remove_bpe=None, replace_unk=None, required_batch_size_multiple=8, required_seq_len_multiple=1, results_path=None, retain_dropout=False, retain_dropout_modules=None, retain_iter_history=False, sacrebleu=False, sampling=False, sampling_topk=-1, sampling_topp=-1.0, score_reference=False, scoring='bleu', seed=1, shard_id=0, skip_invalid_size_inputs_valid_test=True, slowmo_algorithm='LocalSGD', slowmo_momentum=None, source_lang=None, target_lang=None, task='translation', temperature=1.0, tensorboard_logdir=None, threshold_loss_scale=None, tokenizer=None, tpu=False, train_subset='train', truncate_source=False, unkpen=0, unnormalized=False, upsample_primary=1, user_dir=None, valid_subset='valid', validate_after_updates=0, validate_interval=1, validate_interval_updates=0, warmup_updates=0, zero_sharding='none')\n",
            "INFO:fairseq.tasks.translation:[complex] dictionary: 50264 types\n",
            "INFO:fairseq.tasks.translation:[simple] dictionary: 50264 types\n"
          ]
        },
        {
          "output_type": "stream",
          "name": "stdout",
          "text": [
            "| use checkpoint_paths [PosixPath('/content/drive/MyDrive/muss/experiments/fairseq/local_1631567843618/model.pt')]\n"
          ]
        },
        {
          "output_type": "stream",
          "name": "stderr",
          "text": [
            "INFO:fairseq.data.data_utils:loaded 2000 examples from: /tmp/tmpsorcyk4n/tmp.complex-simple.complex\n",
            "INFO:fairseq.data.data_utils:loaded 2000 examples from: /tmp/tmpsorcyk4n/tmp.complex-simple.simple\n",
            "INFO:fairseq.tasks.translation:/tmp/tmpsorcyk4n tmp complex-simple 2000 examples\n",
            "INFO:fairseq_cli.generate:loading model(s) from /content/drive/MyDrive/muss/experiments/fairseq/local_1631567843618/model.pt\n",
            "INFO:fairseq_cli.generate:NOTE: hypothesis and token scores are output in base 2\n",
            "INFO:fairseq_cli.generate:Translated 2000 sentences (46547 tokens) in 111.4s (17.95 sentences/s, 417.65 tokens/s)\n",
            " 55%|█████▍    | 70/128 [2:55:46<2:30:06, 155.28s/it]"
          ]
        },
        {
          "output_type": "stream",
          "name": "stdout",
          "text": [
            "| IN find_best_parametrization_nevergrad: kwargs.get('generate_kwargs', {}) {}\n",
            "get ref from ( evaluate_simplifier) asset_valid_NER_ABCD\n",
            "test_set in evaluate_simplifier when get ori asset_valid\n",
            "encoder_json_path /content/drive/MyDrive/muss/resources/bart_bpe/encoder.json\n",
            "vocab_bpe_path /content/drive/MyDrive/muss/resources/bart_bpe/vocab.bpe\n"
          ]
        },
        {
          "output_type": "stream",
          "name": "stderr",
          "text": [
            "INFO:fairseq_cli.generate:Namespace(all_gather_list_size=16384, batch_size=None, batch_size_valid=None, beam=5, bf16=False, bpe=None, broadcast_buffers=False, bucket_cap_mb=25, checkpoint_shard_count=1, checkpoint_suffix='', constraints=None, cpu=False, criterion='cross_entropy', curriculum=0, data='/tmp/tmp4ilmz_2q', data_buffer_size=10, dataset_impl='raw', ddp_backend='c10d', decoding_format=None, device_id=0, disable_validation=False, distributed_backend='nccl', distributed_init_method=None, distributed_no_spawn=False, distributed_port=-1, distributed_rank=0, distributed_world_size=1, distributed_wrapper='DDP', diverse_beam_groups=-1, diverse_beam_strength=0.5, diversity_rate=-1.0, empty_cache_freq=0, eval_bleu=False, eval_bleu_args=None, eval_bleu_detok='space', eval_bleu_detok_args=None, eval_bleu_print_samples=False, eval_bleu_remove_bpe=None, eval_tokenized_bleu=False, fast_stat_sync=False, find_unused_parameters=False, fix_batches_to_gpus=False, fixed_validation_seed=None, force_anneal=None, fp16=False, fp16_init_scale=128, fp16_no_flatten_grads=False, fp16_scale_tolerance=0.0, fp16_scale_window=None, gen_subset='tmp', iter_decode_eos_penalty=0.0, iter_decode_force_max_iter=False, iter_decode_max_iter=10, iter_decode_with_beam=1, iter_decode_with_external_reranker=False, left_pad_source='True', left_pad_target='False', lenpen=1.0, lm_path=None, lm_weight=0.0, load_alignments=False, localsgd_frequency=3, log_format=None, log_interval=100, lr_scheduler='fixed', lr_shrink=0.1, match_source_len=False, max_len_a=0, max_len_b=200, max_source_positions=1024, max_target_positions=1024, max_tokens=8000, max_tokens_valid=8000, memory_efficient_bf16=False, memory_efficient_fp16=False, min_len=1, min_loss_scale=0.0001, model_overrides=\"{'encoder_embed_path': None, 'decoder_embed_path': None}\", model_parallel_size=1, nbest=1, no_beamable_mm=False, no_early_stop=False, no_progress_bar=False, no_repeat_ngram_size=0, no_seed_provided=False, nprocs_per_node=1, num_batch_buckets=0, num_shards=1, num_workers=1, optimizer=None, path='/content/drive/MyDrive/muss/experiments/fairseq/local_1631567843618/model.pt', pipeline_balance=None, pipeline_checkpoint='never', pipeline_chunks=0, pipeline_decoder_balance=None, pipeline_decoder_devices=None, pipeline_devices=None, pipeline_encoder_balance=None, pipeline_encoder_devices=None, pipeline_model_parallel=False, prefix_size=0, print_alignment=False, print_step=False, profile=False, quantization_config_path=None, quiet=False, remove_bpe=None, replace_unk=None, required_batch_size_multiple=8, required_seq_len_multiple=1, results_path=None, retain_dropout=False, retain_dropout_modules=None, retain_iter_history=False, sacrebleu=False, sampling=False, sampling_topk=-1, sampling_topp=-1.0, score_reference=False, scoring='bleu', seed=1, shard_id=0, skip_invalid_size_inputs_valid_test=True, slowmo_algorithm='LocalSGD', slowmo_momentum=None, source_lang=None, target_lang=None, task='translation', temperature=1.0, tensorboard_logdir=None, threshold_loss_scale=None, tokenizer=None, tpu=False, train_subset='train', truncate_source=False, unkpen=0, unnormalized=False, upsample_primary=1, user_dir=None, valid_subset='valid', validate_after_updates=0, validate_interval=1, validate_interval_updates=0, warmup_updates=0, zero_sharding='none')\n",
            "INFO:fairseq.tasks.translation:[complex] dictionary: 50264 types\n",
            "INFO:fairseq.tasks.translation:[simple] dictionary: 50264 types\n"
          ]
        },
        {
          "output_type": "stream",
          "name": "stdout",
          "text": [
            "| use checkpoint_paths [PosixPath('/content/drive/MyDrive/muss/experiments/fairseq/local_1631567843618/model.pt')]\n"
          ]
        },
        {
          "output_type": "stream",
          "name": "stderr",
          "text": [
            "INFO:fairseq.data.data_utils:loaded 2000 examples from: /tmp/tmp4ilmz_2q/tmp.complex-simple.complex\n",
            "INFO:fairseq.data.data_utils:loaded 2000 examples from: /tmp/tmp4ilmz_2q/tmp.complex-simple.simple\n",
            "INFO:fairseq.tasks.translation:/tmp/tmp4ilmz_2q tmp complex-simple 2000 examples\n",
            "INFO:fairseq_cli.generate:loading model(s) from /content/drive/MyDrive/muss/experiments/fairseq/local_1631567843618/model.pt\n",
            "INFO:fairseq_cli.generate:NOTE: hypothesis and token scores are output in base 2\n",
            "INFO:fairseq_cli.generate:Translated 2000 sentences (46547 tokens) in 111.5s (17.93 sentences/s, 417.33 tokens/s)\n",
            " 55%|█████▌    | 71/128 [2:58:21<2:27:27, 155.22s/it]"
          ]
        },
        {
          "output_type": "stream",
          "name": "stdout",
          "text": [
            "| IN find_best_parametrization_nevergrad: kwargs.get('generate_kwargs', {}) {}\n",
            "get ref from ( evaluate_simplifier) asset_valid_NER_ABCD\n",
            "test_set in evaluate_simplifier when get ori asset_valid\n",
            "encoder_json_path /content/drive/MyDrive/muss/resources/bart_bpe/encoder.json\n",
            "vocab_bpe_path /content/drive/MyDrive/muss/resources/bart_bpe/vocab.bpe\n"
          ]
        },
        {
          "output_type": "stream",
          "name": "stderr",
          "text": [
            "INFO:fairseq_cli.generate:Namespace(all_gather_list_size=16384, batch_size=None, batch_size_valid=None, beam=5, bf16=False, bpe=None, broadcast_buffers=False, bucket_cap_mb=25, checkpoint_shard_count=1, checkpoint_suffix='', constraints=None, cpu=False, criterion='cross_entropy', curriculum=0, data='/tmp/tmpknd98uzs', data_buffer_size=10, dataset_impl='raw', ddp_backend='c10d', decoding_format=None, device_id=0, disable_validation=False, distributed_backend='nccl', distributed_init_method=None, distributed_no_spawn=False, distributed_port=-1, distributed_rank=0, distributed_world_size=1, distributed_wrapper='DDP', diverse_beam_groups=-1, diverse_beam_strength=0.5, diversity_rate=-1.0, empty_cache_freq=0, eval_bleu=False, eval_bleu_args=None, eval_bleu_detok='space', eval_bleu_detok_args=None, eval_bleu_print_samples=False, eval_bleu_remove_bpe=None, eval_tokenized_bleu=False, fast_stat_sync=False, find_unused_parameters=False, fix_batches_to_gpus=False, fixed_validation_seed=None, force_anneal=None, fp16=False, fp16_init_scale=128, fp16_no_flatten_grads=False, fp16_scale_tolerance=0.0, fp16_scale_window=None, gen_subset='tmp', iter_decode_eos_penalty=0.0, iter_decode_force_max_iter=False, iter_decode_max_iter=10, iter_decode_with_beam=1, iter_decode_with_external_reranker=False, left_pad_source='True', left_pad_target='False', lenpen=1.0, lm_path=None, lm_weight=0.0, load_alignments=False, localsgd_frequency=3, log_format=None, log_interval=100, lr_scheduler='fixed', lr_shrink=0.1, match_source_len=False, max_len_a=0, max_len_b=200, max_source_positions=1024, max_target_positions=1024, max_tokens=8000, max_tokens_valid=8000, memory_efficient_bf16=False, memory_efficient_fp16=False, min_len=1, min_loss_scale=0.0001, model_overrides=\"{'encoder_embed_path': None, 'decoder_embed_path': None}\", model_parallel_size=1, nbest=1, no_beamable_mm=False, no_early_stop=False, no_progress_bar=False, no_repeat_ngram_size=0, no_seed_provided=False, nprocs_per_node=1, num_batch_buckets=0, num_shards=1, num_workers=1, optimizer=None, path='/content/drive/MyDrive/muss/experiments/fairseq/local_1631567843618/model.pt', pipeline_balance=None, pipeline_checkpoint='never', pipeline_chunks=0, pipeline_decoder_balance=None, pipeline_decoder_devices=None, pipeline_devices=None, pipeline_encoder_balance=None, pipeline_encoder_devices=None, pipeline_model_parallel=False, prefix_size=0, print_alignment=False, print_step=False, profile=False, quantization_config_path=None, quiet=False, remove_bpe=None, replace_unk=None, required_batch_size_multiple=8, required_seq_len_multiple=1, results_path=None, retain_dropout=False, retain_dropout_modules=None, retain_iter_history=False, sacrebleu=False, sampling=False, sampling_topk=-1, sampling_topp=-1.0, score_reference=False, scoring='bleu', seed=1, shard_id=0, skip_invalid_size_inputs_valid_test=True, slowmo_algorithm='LocalSGD', slowmo_momentum=None, source_lang=None, target_lang=None, task='translation', temperature=1.0, tensorboard_logdir=None, threshold_loss_scale=None, tokenizer=None, tpu=False, train_subset='train', truncate_source=False, unkpen=0, unnormalized=False, upsample_primary=1, user_dir=None, valid_subset='valid', validate_after_updates=0, validate_interval=1, validate_interval_updates=0, warmup_updates=0, zero_sharding='none')\n",
            "INFO:fairseq.tasks.translation:[complex] dictionary: 50264 types\n",
            "INFO:fairseq.tasks.translation:[simple] dictionary: 50264 types\n"
          ]
        },
        {
          "output_type": "stream",
          "name": "stdout",
          "text": [
            "| use checkpoint_paths [PosixPath('/content/drive/MyDrive/muss/experiments/fairseq/local_1631567843618/model.pt')]\n"
          ]
        },
        {
          "output_type": "stream",
          "name": "stderr",
          "text": [
            "INFO:fairseq.data.data_utils:loaded 2000 examples from: /tmp/tmpknd98uzs/tmp.complex-simple.complex\n",
            "INFO:fairseq.data.data_utils:loaded 2000 examples from: /tmp/tmpknd98uzs/tmp.complex-simple.simple\n",
            "INFO:fairseq.tasks.translation:/tmp/tmpknd98uzs tmp complex-simple 2000 examples\n",
            "INFO:fairseq_cli.generate:loading model(s) from /content/drive/MyDrive/muss/experiments/fairseq/local_1631567843618/model.pt\n",
            "INFO:fairseq_cli.generate:NOTE: hypothesis and token scores are output in base 2\n",
            "INFO:fairseq_cli.generate:Translated 2000 sentences (46424 tokens) in 110.8s (18.06 sentences/s, 419.15 tokens/s)\n",
            " 56%|█████▋    | 72/128 [3:00:55<2:24:33, 154.88s/it]"
          ]
        },
        {
          "output_type": "stream",
          "name": "stdout",
          "text": [
            "| IN find_best_parametrization_nevergrad: kwargs.get('generate_kwargs', {}) {}\n",
            "get ref from ( evaluate_simplifier) asset_valid_NER_ABCD\n",
            "test_set in evaluate_simplifier when get ori asset_valid\n",
            "encoder_json_path /content/drive/MyDrive/muss/resources/bart_bpe/encoder.json\n",
            "vocab_bpe_path /content/drive/MyDrive/muss/resources/bart_bpe/vocab.bpe\n"
          ]
        },
        {
          "output_type": "stream",
          "name": "stderr",
          "text": [
            "INFO:fairseq_cli.generate:Namespace(all_gather_list_size=16384, batch_size=None, batch_size_valid=None, beam=5, bf16=False, bpe=None, broadcast_buffers=False, bucket_cap_mb=25, checkpoint_shard_count=1, checkpoint_suffix='', constraints=None, cpu=False, criterion='cross_entropy', curriculum=0, data='/tmp/tmpvkdosx4_', data_buffer_size=10, dataset_impl='raw', ddp_backend='c10d', decoding_format=None, device_id=0, disable_validation=False, distributed_backend='nccl', distributed_init_method=None, distributed_no_spawn=False, distributed_port=-1, distributed_rank=0, distributed_world_size=1, distributed_wrapper='DDP', diverse_beam_groups=-1, diverse_beam_strength=0.5, diversity_rate=-1.0, empty_cache_freq=0, eval_bleu=False, eval_bleu_args=None, eval_bleu_detok='space', eval_bleu_detok_args=None, eval_bleu_print_samples=False, eval_bleu_remove_bpe=None, eval_tokenized_bleu=False, fast_stat_sync=False, find_unused_parameters=False, fix_batches_to_gpus=False, fixed_validation_seed=None, force_anneal=None, fp16=False, fp16_init_scale=128, fp16_no_flatten_grads=False, fp16_scale_tolerance=0.0, fp16_scale_window=None, gen_subset='tmp', iter_decode_eos_penalty=0.0, iter_decode_force_max_iter=False, iter_decode_max_iter=10, iter_decode_with_beam=1, iter_decode_with_external_reranker=False, left_pad_source='True', left_pad_target='False', lenpen=1.0, lm_path=None, lm_weight=0.0, load_alignments=False, localsgd_frequency=3, log_format=None, log_interval=100, lr_scheduler='fixed', lr_shrink=0.1, match_source_len=False, max_len_a=0, max_len_b=200, max_source_positions=1024, max_target_positions=1024, max_tokens=8000, max_tokens_valid=8000, memory_efficient_bf16=False, memory_efficient_fp16=False, min_len=1, min_loss_scale=0.0001, model_overrides=\"{'encoder_embed_path': None, 'decoder_embed_path': None}\", model_parallel_size=1, nbest=1, no_beamable_mm=False, no_early_stop=False, no_progress_bar=False, no_repeat_ngram_size=0, no_seed_provided=False, nprocs_per_node=1, num_batch_buckets=0, num_shards=1, num_workers=1, optimizer=None, path='/content/drive/MyDrive/muss/experiments/fairseq/local_1631567843618/model.pt', pipeline_balance=None, pipeline_checkpoint='never', pipeline_chunks=0, pipeline_decoder_balance=None, pipeline_decoder_devices=None, pipeline_devices=None, pipeline_encoder_balance=None, pipeline_encoder_devices=None, pipeline_model_parallel=False, prefix_size=0, print_alignment=False, print_step=False, profile=False, quantization_config_path=None, quiet=False, remove_bpe=None, replace_unk=None, required_batch_size_multiple=8, required_seq_len_multiple=1, results_path=None, retain_dropout=False, retain_dropout_modules=None, retain_iter_history=False, sacrebleu=False, sampling=False, sampling_topk=-1, sampling_topp=-1.0, score_reference=False, scoring='bleu', seed=1, shard_id=0, skip_invalid_size_inputs_valid_test=True, slowmo_algorithm='LocalSGD', slowmo_momentum=None, source_lang=None, target_lang=None, task='translation', temperature=1.0, tensorboard_logdir=None, threshold_loss_scale=None, tokenizer=None, tpu=False, train_subset='train', truncate_source=False, unkpen=0, unnormalized=False, upsample_primary=1, user_dir=None, valid_subset='valid', validate_after_updates=0, validate_interval=1, validate_interval_updates=0, warmup_updates=0, zero_sharding='none')\n",
            "INFO:fairseq.tasks.translation:[complex] dictionary: 50264 types\n",
            "INFO:fairseq.tasks.translation:[simple] dictionary: 50264 types\n"
          ]
        },
        {
          "output_type": "stream",
          "name": "stdout",
          "text": [
            "| use checkpoint_paths [PosixPath('/content/drive/MyDrive/muss/experiments/fairseq/local_1631567843618/model.pt')]\n"
          ]
        },
        {
          "output_type": "stream",
          "name": "stderr",
          "text": [
            "INFO:fairseq.data.data_utils:loaded 2000 examples from: /tmp/tmpvkdosx4_/tmp.complex-simple.complex\n",
            "INFO:fairseq.data.data_utils:loaded 2000 examples from: /tmp/tmpvkdosx4_/tmp.complex-simple.simple\n",
            "INFO:fairseq.tasks.translation:/tmp/tmpvkdosx4_ tmp complex-simple 2000 examples\n",
            "INFO:fairseq_cli.generate:loading model(s) from /content/drive/MyDrive/muss/experiments/fairseq/local_1631567843618/model.pt\n",
            "INFO:fairseq_cli.generate:NOTE: hypothesis and token scores are output in base 2\n",
            "INFO:fairseq_cli.generate:Translated 2000 sentences (46424 tokens) in 111.1s (18.00 sentences/s, 417.91 tokens/s)\n",
            " 57%|█████▋    | 73/128 [3:03:30<2:21:56, 154.85s/it]"
          ]
        },
        {
          "output_type": "stream",
          "name": "stdout",
          "text": [
            "| IN find_best_parametrization_nevergrad: kwargs.get('generate_kwargs', {}) {}\n",
            "get ref from ( evaluate_simplifier) asset_valid_NER_ABCD\n",
            "test_set in evaluate_simplifier when get ori asset_valid\n",
            "encoder_json_path /content/drive/MyDrive/muss/resources/bart_bpe/encoder.json\n",
            "vocab_bpe_path /content/drive/MyDrive/muss/resources/bart_bpe/vocab.bpe\n"
          ]
        },
        {
          "output_type": "stream",
          "name": "stderr",
          "text": [
            "INFO:fairseq_cli.generate:Namespace(all_gather_list_size=16384, batch_size=None, batch_size_valid=None, beam=5, bf16=False, bpe=None, broadcast_buffers=False, bucket_cap_mb=25, checkpoint_shard_count=1, checkpoint_suffix='', constraints=None, cpu=False, criterion='cross_entropy', curriculum=0, data='/tmp/tmpvk0a7uhi', data_buffer_size=10, dataset_impl='raw', ddp_backend='c10d', decoding_format=None, device_id=0, disable_validation=False, distributed_backend='nccl', distributed_init_method=None, distributed_no_spawn=False, distributed_port=-1, distributed_rank=0, distributed_world_size=1, distributed_wrapper='DDP', diverse_beam_groups=-1, diverse_beam_strength=0.5, diversity_rate=-1.0, empty_cache_freq=0, eval_bleu=False, eval_bleu_args=None, eval_bleu_detok='space', eval_bleu_detok_args=None, eval_bleu_print_samples=False, eval_bleu_remove_bpe=None, eval_tokenized_bleu=False, fast_stat_sync=False, find_unused_parameters=False, fix_batches_to_gpus=False, fixed_validation_seed=None, force_anneal=None, fp16=False, fp16_init_scale=128, fp16_no_flatten_grads=False, fp16_scale_tolerance=0.0, fp16_scale_window=None, gen_subset='tmp', iter_decode_eos_penalty=0.0, iter_decode_force_max_iter=False, iter_decode_max_iter=10, iter_decode_with_beam=1, iter_decode_with_external_reranker=False, left_pad_source='True', left_pad_target='False', lenpen=1.0, lm_path=None, lm_weight=0.0, load_alignments=False, localsgd_frequency=3, log_format=None, log_interval=100, lr_scheduler='fixed', lr_shrink=0.1, match_source_len=False, max_len_a=0, max_len_b=200, max_source_positions=1024, max_target_positions=1024, max_tokens=8000, max_tokens_valid=8000, memory_efficient_bf16=False, memory_efficient_fp16=False, min_len=1, min_loss_scale=0.0001, model_overrides=\"{'encoder_embed_path': None, 'decoder_embed_path': None}\", model_parallel_size=1, nbest=1, no_beamable_mm=False, no_early_stop=False, no_progress_bar=False, no_repeat_ngram_size=0, no_seed_provided=False, nprocs_per_node=1, num_batch_buckets=0, num_shards=1, num_workers=1, optimizer=None, path='/content/drive/MyDrive/muss/experiments/fairseq/local_1631567843618/model.pt', pipeline_balance=None, pipeline_checkpoint='never', pipeline_chunks=0, pipeline_decoder_balance=None, pipeline_decoder_devices=None, pipeline_devices=None, pipeline_encoder_balance=None, pipeline_encoder_devices=None, pipeline_model_parallel=False, prefix_size=0, print_alignment=False, print_step=False, profile=False, quantization_config_path=None, quiet=False, remove_bpe=None, replace_unk=None, required_batch_size_multiple=8, required_seq_len_multiple=1, results_path=None, retain_dropout=False, retain_dropout_modules=None, retain_iter_history=False, sacrebleu=False, sampling=False, sampling_topk=-1, sampling_topp=-1.0, score_reference=False, scoring='bleu', seed=1, shard_id=0, skip_invalid_size_inputs_valid_test=True, slowmo_algorithm='LocalSGD', slowmo_momentum=None, source_lang=None, target_lang=None, task='translation', temperature=1.0, tensorboard_logdir=None, threshold_loss_scale=None, tokenizer=None, tpu=False, train_subset='train', truncate_source=False, unkpen=0, unnormalized=False, upsample_primary=1, user_dir=None, valid_subset='valid', validate_after_updates=0, validate_interval=1, validate_interval_updates=0, warmup_updates=0, zero_sharding='none')\n",
            "INFO:fairseq.tasks.translation:[complex] dictionary: 50264 types\n",
            "INFO:fairseq.tasks.translation:[simple] dictionary: 50264 types\n"
          ]
        },
        {
          "output_type": "stream",
          "name": "stdout",
          "text": [
            "| use checkpoint_paths [PosixPath('/content/drive/MyDrive/muss/experiments/fairseq/local_1631567843618/model.pt')]\n"
          ]
        },
        {
          "output_type": "stream",
          "name": "stderr",
          "text": [
            "INFO:fairseq.data.data_utils:loaded 2000 examples from: /tmp/tmpvk0a7uhi/tmp.complex-simple.complex\n",
            "INFO:fairseq.data.data_utils:loaded 2000 examples from: /tmp/tmpvk0a7uhi/tmp.complex-simple.simple\n",
            "INFO:fairseq.tasks.translation:/tmp/tmpvk0a7uhi tmp complex-simple 2000 examples\n",
            "INFO:fairseq_cli.generate:loading model(s) from /content/drive/MyDrive/muss/experiments/fairseq/local_1631567843618/model.pt\n",
            "INFO:fairseq_cli.generate:NOTE: hypothesis and token scores are output in base 2\n",
            "INFO:fairseq_cli.generate:Translated 2000 sentences (46424 tokens) in 110.8s (18.05 sentences/s, 418.89 tokens/s)\n",
            " 58%|█████▊    | 74/128 [3:06:05<2:19:18, 154.80s/it]"
          ]
        },
        {
          "output_type": "stream",
          "name": "stdout",
          "text": [
            "| IN find_best_parametrization_nevergrad: kwargs.get('generate_kwargs', {}) {}\n",
            "get ref from ( evaluate_simplifier) asset_valid_NER_ABCD\n",
            "test_set in evaluate_simplifier when get ori asset_valid\n",
            "encoder_json_path /content/drive/MyDrive/muss/resources/bart_bpe/encoder.json\n",
            "vocab_bpe_path /content/drive/MyDrive/muss/resources/bart_bpe/vocab.bpe\n"
          ]
        },
        {
          "output_type": "stream",
          "name": "stderr",
          "text": [
            "INFO:fairseq_cli.generate:Namespace(all_gather_list_size=16384, batch_size=None, batch_size_valid=None, beam=5, bf16=False, bpe=None, broadcast_buffers=False, bucket_cap_mb=25, checkpoint_shard_count=1, checkpoint_suffix='', constraints=None, cpu=False, criterion='cross_entropy', curriculum=0, data='/tmp/tmprh5yao3w', data_buffer_size=10, dataset_impl='raw', ddp_backend='c10d', decoding_format=None, device_id=0, disable_validation=False, distributed_backend='nccl', distributed_init_method=None, distributed_no_spawn=False, distributed_port=-1, distributed_rank=0, distributed_world_size=1, distributed_wrapper='DDP', diverse_beam_groups=-1, diverse_beam_strength=0.5, diversity_rate=-1.0, empty_cache_freq=0, eval_bleu=False, eval_bleu_args=None, eval_bleu_detok='space', eval_bleu_detok_args=None, eval_bleu_print_samples=False, eval_bleu_remove_bpe=None, eval_tokenized_bleu=False, fast_stat_sync=False, find_unused_parameters=False, fix_batches_to_gpus=False, fixed_validation_seed=None, force_anneal=None, fp16=False, fp16_init_scale=128, fp16_no_flatten_grads=False, fp16_scale_tolerance=0.0, fp16_scale_window=None, gen_subset='tmp', iter_decode_eos_penalty=0.0, iter_decode_force_max_iter=False, iter_decode_max_iter=10, iter_decode_with_beam=1, iter_decode_with_external_reranker=False, left_pad_source='True', left_pad_target='False', lenpen=1.0, lm_path=None, lm_weight=0.0, load_alignments=False, localsgd_frequency=3, log_format=None, log_interval=100, lr_scheduler='fixed', lr_shrink=0.1, match_source_len=False, max_len_a=0, max_len_b=200, max_source_positions=1024, max_target_positions=1024, max_tokens=8000, max_tokens_valid=8000, memory_efficient_bf16=False, memory_efficient_fp16=False, min_len=1, min_loss_scale=0.0001, model_overrides=\"{'encoder_embed_path': None, 'decoder_embed_path': None}\", model_parallel_size=1, nbest=1, no_beamable_mm=False, no_early_stop=False, no_progress_bar=False, no_repeat_ngram_size=0, no_seed_provided=False, nprocs_per_node=1, num_batch_buckets=0, num_shards=1, num_workers=1, optimizer=None, path='/content/drive/MyDrive/muss/experiments/fairseq/local_1631567843618/model.pt', pipeline_balance=None, pipeline_checkpoint='never', pipeline_chunks=0, pipeline_decoder_balance=None, pipeline_decoder_devices=None, pipeline_devices=None, pipeline_encoder_balance=None, pipeline_encoder_devices=None, pipeline_model_parallel=False, prefix_size=0, print_alignment=False, print_step=False, profile=False, quantization_config_path=None, quiet=False, remove_bpe=None, replace_unk=None, required_batch_size_multiple=8, required_seq_len_multiple=1, results_path=None, retain_dropout=False, retain_dropout_modules=None, retain_iter_history=False, sacrebleu=False, sampling=False, sampling_topk=-1, sampling_topp=-1.0, score_reference=False, scoring='bleu', seed=1, shard_id=0, skip_invalid_size_inputs_valid_test=True, slowmo_algorithm='LocalSGD', slowmo_momentum=None, source_lang=None, target_lang=None, task='translation', temperature=1.0, tensorboard_logdir=None, threshold_loss_scale=None, tokenizer=None, tpu=False, train_subset='train', truncate_source=False, unkpen=0, unnormalized=False, upsample_primary=1, user_dir=None, valid_subset='valid', validate_after_updates=0, validate_interval=1, validate_interval_updates=0, warmup_updates=0, zero_sharding='none')\n",
            "INFO:fairseq.tasks.translation:[complex] dictionary: 50264 types\n",
            "INFO:fairseq.tasks.translation:[simple] dictionary: 50264 types\n"
          ]
        },
        {
          "output_type": "stream",
          "name": "stdout",
          "text": [
            "| use checkpoint_paths [PosixPath('/content/drive/MyDrive/muss/experiments/fairseq/local_1631567843618/model.pt')]\n"
          ]
        },
        {
          "output_type": "stream",
          "name": "stderr",
          "text": [
            "INFO:fairseq.data.data_utils:loaded 2000 examples from: /tmp/tmprh5yao3w/tmp.complex-simple.complex\n",
            "INFO:fairseq.data.data_utils:loaded 2000 examples from: /tmp/tmprh5yao3w/tmp.complex-simple.simple\n",
            "INFO:fairseq.tasks.translation:/tmp/tmprh5yao3w tmp complex-simple 2000 examples\n",
            "INFO:fairseq_cli.generate:loading model(s) from /content/drive/MyDrive/muss/experiments/fairseq/local_1631567843618/model.pt\n",
            "INFO:fairseq_cli.generate:NOTE: hypothesis and token scores are output in base 2\n",
            "INFO:fairseq_cli.generate:Translated 2000 sentences (46532 tokens) in 111.4s (17.96 sentences/s, 417.86 tokens/s)\n",
            " 59%|█████▊    | 75/128 [3:08:41<2:17:05, 155.19s/it]"
          ]
        },
        {
          "output_type": "stream",
          "name": "stdout",
          "text": [
            "| IN find_best_parametrization_nevergrad: kwargs.get('generate_kwargs', {}) {}\n",
            "get ref from ( evaluate_simplifier) asset_valid_NER_ABCD\n",
            "test_set in evaluate_simplifier when get ori asset_valid\n",
            "encoder_json_path /content/drive/MyDrive/muss/resources/bart_bpe/encoder.json\n",
            "vocab_bpe_path /content/drive/MyDrive/muss/resources/bart_bpe/vocab.bpe\n"
          ]
        },
        {
          "output_type": "stream",
          "name": "stderr",
          "text": [
            "INFO:fairseq_cli.generate:Namespace(all_gather_list_size=16384, batch_size=None, batch_size_valid=None, beam=5, bf16=False, bpe=None, broadcast_buffers=False, bucket_cap_mb=25, checkpoint_shard_count=1, checkpoint_suffix='', constraints=None, cpu=False, criterion='cross_entropy', curriculum=0, data='/tmp/tmponzuoe3e', data_buffer_size=10, dataset_impl='raw', ddp_backend='c10d', decoding_format=None, device_id=0, disable_validation=False, distributed_backend='nccl', distributed_init_method=None, distributed_no_spawn=False, distributed_port=-1, distributed_rank=0, distributed_world_size=1, distributed_wrapper='DDP', diverse_beam_groups=-1, diverse_beam_strength=0.5, diversity_rate=-1.0, empty_cache_freq=0, eval_bleu=False, eval_bleu_args=None, eval_bleu_detok='space', eval_bleu_detok_args=None, eval_bleu_print_samples=False, eval_bleu_remove_bpe=None, eval_tokenized_bleu=False, fast_stat_sync=False, find_unused_parameters=False, fix_batches_to_gpus=False, fixed_validation_seed=None, force_anneal=None, fp16=False, fp16_init_scale=128, fp16_no_flatten_grads=False, fp16_scale_tolerance=0.0, fp16_scale_window=None, gen_subset='tmp', iter_decode_eos_penalty=0.0, iter_decode_force_max_iter=False, iter_decode_max_iter=10, iter_decode_with_beam=1, iter_decode_with_external_reranker=False, left_pad_source='True', left_pad_target='False', lenpen=1.0, lm_path=None, lm_weight=0.0, load_alignments=False, localsgd_frequency=3, log_format=None, log_interval=100, lr_scheduler='fixed', lr_shrink=0.1, match_source_len=False, max_len_a=0, max_len_b=200, max_source_positions=1024, max_target_positions=1024, max_tokens=8000, max_tokens_valid=8000, memory_efficient_bf16=False, memory_efficient_fp16=False, min_len=1, min_loss_scale=0.0001, model_overrides=\"{'encoder_embed_path': None, 'decoder_embed_path': None}\", model_parallel_size=1, nbest=1, no_beamable_mm=False, no_early_stop=False, no_progress_bar=False, no_repeat_ngram_size=0, no_seed_provided=False, nprocs_per_node=1, num_batch_buckets=0, num_shards=1, num_workers=1, optimizer=None, path='/content/drive/MyDrive/muss/experiments/fairseq/local_1631567843618/model.pt', pipeline_balance=None, pipeline_checkpoint='never', pipeline_chunks=0, pipeline_decoder_balance=None, pipeline_decoder_devices=None, pipeline_devices=None, pipeline_encoder_balance=None, pipeline_encoder_devices=None, pipeline_model_parallel=False, prefix_size=0, print_alignment=False, print_step=False, profile=False, quantization_config_path=None, quiet=False, remove_bpe=None, replace_unk=None, required_batch_size_multiple=8, required_seq_len_multiple=1, results_path=None, retain_dropout=False, retain_dropout_modules=None, retain_iter_history=False, sacrebleu=False, sampling=False, sampling_topk=-1, sampling_topp=-1.0, score_reference=False, scoring='bleu', seed=1, shard_id=0, skip_invalid_size_inputs_valid_test=True, slowmo_algorithm='LocalSGD', slowmo_momentum=None, source_lang=None, target_lang=None, task='translation', temperature=1.0, tensorboard_logdir=None, threshold_loss_scale=None, tokenizer=None, tpu=False, train_subset='train', truncate_source=False, unkpen=0, unnormalized=False, upsample_primary=1, user_dir=None, valid_subset='valid', validate_after_updates=0, validate_interval=1, validate_interval_updates=0, warmup_updates=0, zero_sharding='none')\n",
            "INFO:fairseq.tasks.translation:[complex] dictionary: 50264 types\n",
            "INFO:fairseq.tasks.translation:[simple] dictionary: 50264 types\n"
          ]
        },
        {
          "output_type": "stream",
          "name": "stdout",
          "text": [
            "| use checkpoint_paths [PosixPath('/content/drive/MyDrive/muss/experiments/fairseq/local_1631567843618/model.pt')]\n"
          ]
        },
        {
          "output_type": "stream",
          "name": "stderr",
          "text": [
            "INFO:fairseq.data.data_utils:loaded 2000 examples from: /tmp/tmponzuoe3e/tmp.complex-simple.complex\n",
            "INFO:fairseq.data.data_utils:loaded 2000 examples from: /tmp/tmponzuoe3e/tmp.complex-simple.simple\n",
            "INFO:fairseq.tasks.translation:/tmp/tmponzuoe3e tmp complex-simple 2000 examples\n",
            "INFO:fairseq_cli.generate:loading model(s) from /content/drive/MyDrive/muss/experiments/fairseq/local_1631567843618/model.pt\n",
            "INFO:fairseq_cli.generate:NOTE: hypothesis and token scores are output in base 2\n",
            "INFO:fairseq_cli.generate:Translated 2000 sentences (46547 tokens) in 111.4s (17.96 sentences/s, 417.90 tokens/s)\n",
            " 59%|█████▉    | 76/128 [3:11:16<2:14:30, 155.20s/it]"
          ]
        },
        {
          "output_type": "stream",
          "name": "stdout",
          "text": [
            "| IN find_best_parametrization_nevergrad: kwargs.get('generate_kwargs', {}) {}\n",
            "get ref from ( evaluate_simplifier) asset_valid_NER_ABCD\n",
            "test_set in evaluate_simplifier when get ori asset_valid\n",
            "encoder_json_path /content/drive/MyDrive/muss/resources/bart_bpe/encoder.json\n",
            "vocab_bpe_path /content/drive/MyDrive/muss/resources/bart_bpe/vocab.bpe\n"
          ]
        },
        {
          "output_type": "stream",
          "name": "stderr",
          "text": [
            "INFO:fairseq_cli.generate:Namespace(all_gather_list_size=16384, batch_size=None, batch_size_valid=None, beam=5, bf16=False, bpe=None, broadcast_buffers=False, bucket_cap_mb=25, checkpoint_shard_count=1, checkpoint_suffix='', constraints=None, cpu=False, criterion='cross_entropy', curriculum=0, data='/tmp/tmpk8wkt01r', data_buffer_size=10, dataset_impl='raw', ddp_backend='c10d', decoding_format=None, device_id=0, disable_validation=False, distributed_backend='nccl', distributed_init_method=None, distributed_no_spawn=False, distributed_port=-1, distributed_rank=0, distributed_world_size=1, distributed_wrapper='DDP', diverse_beam_groups=-1, diverse_beam_strength=0.5, diversity_rate=-1.0, empty_cache_freq=0, eval_bleu=False, eval_bleu_args=None, eval_bleu_detok='space', eval_bleu_detok_args=None, eval_bleu_print_samples=False, eval_bleu_remove_bpe=None, eval_tokenized_bleu=False, fast_stat_sync=False, find_unused_parameters=False, fix_batches_to_gpus=False, fixed_validation_seed=None, force_anneal=None, fp16=False, fp16_init_scale=128, fp16_no_flatten_grads=False, fp16_scale_tolerance=0.0, fp16_scale_window=None, gen_subset='tmp', iter_decode_eos_penalty=0.0, iter_decode_force_max_iter=False, iter_decode_max_iter=10, iter_decode_with_beam=1, iter_decode_with_external_reranker=False, left_pad_source='True', left_pad_target='False', lenpen=1.0, lm_path=None, lm_weight=0.0, load_alignments=False, localsgd_frequency=3, log_format=None, log_interval=100, lr_scheduler='fixed', lr_shrink=0.1, match_source_len=False, max_len_a=0, max_len_b=200, max_source_positions=1024, max_target_positions=1024, max_tokens=8000, max_tokens_valid=8000, memory_efficient_bf16=False, memory_efficient_fp16=False, min_len=1, min_loss_scale=0.0001, model_overrides=\"{'encoder_embed_path': None, 'decoder_embed_path': None}\", model_parallel_size=1, nbest=1, no_beamable_mm=False, no_early_stop=False, no_progress_bar=False, no_repeat_ngram_size=0, no_seed_provided=False, nprocs_per_node=1, num_batch_buckets=0, num_shards=1, num_workers=1, optimizer=None, path='/content/drive/MyDrive/muss/experiments/fairseq/local_1631567843618/model.pt', pipeline_balance=None, pipeline_checkpoint='never', pipeline_chunks=0, pipeline_decoder_balance=None, pipeline_decoder_devices=None, pipeline_devices=None, pipeline_encoder_balance=None, pipeline_encoder_devices=None, pipeline_model_parallel=False, prefix_size=0, print_alignment=False, print_step=False, profile=False, quantization_config_path=None, quiet=False, remove_bpe=None, replace_unk=None, required_batch_size_multiple=8, required_seq_len_multiple=1, results_path=None, retain_dropout=False, retain_dropout_modules=None, retain_iter_history=False, sacrebleu=False, sampling=False, sampling_topk=-1, sampling_topp=-1.0, score_reference=False, scoring='bleu', seed=1, shard_id=0, skip_invalid_size_inputs_valid_test=True, slowmo_algorithm='LocalSGD', slowmo_momentum=None, source_lang=None, target_lang=None, task='translation', temperature=1.0, tensorboard_logdir=None, threshold_loss_scale=None, tokenizer=None, tpu=False, train_subset='train', truncate_source=False, unkpen=0, unnormalized=False, upsample_primary=1, user_dir=None, valid_subset='valid', validate_after_updates=0, validate_interval=1, validate_interval_updates=0, warmup_updates=0, zero_sharding='none')\n",
            "INFO:fairseq.tasks.translation:[complex] dictionary: 50264 types\n",
            "INFO:fairseq.tasks.translation:[simple] dictionary: 50264 types\n"
          ]
        },
        {
          "output_type": "stream",
          "name": "stdout",
          "text": [
            "| use checkpoint_paths [PosixPath('/content/drive/MyDrive/muss/experiments/fairseq/local_1631567843618/model.pt')]\n"
          ]
        },
        {
          "output_type": "stream",
          "name": "stderr",
          "text": [
            "INFO:fairseq.data.data_utils:loaded 2000 examples from: /tmp/tmpk8wkt01r/tmp.complex-simple.complex\n",
            "INFO:fairseq.data.data_utils:loaded 2000 examples from: /tmp/tmpk8wkt01r/tmp.complex-simple.simple\n",
            "INFO:fairseq.tasks.translation:/tmp/tmpk8wkt01r tmp complex-simple 2000 examples\n",
            "INFO:fairseq_cli.generate:loading model(s) from /content/drive/MyDrive/muss/experiments/fairseq/local_1631567843618/model.pt\n",
            "INFO:fairseq_cli.generate:NOTE: hypothesis and token scores are output in base 2\n",
            "INFO:fairseq_cli.generate:Translated 2000 sentences (46532 tokens) in 111.0s (18.01 sentences/s, 419.04 tokens/s)\n",
            " 60%|██████    | 77/128 [3:13:51<2:11:50, 155.10s/it]"
          ]
        },
        {
          "output_type": "stream",
          "name": "stdout",
          "text": [
            "| IN find_best_parametrization_nevergrad: kwargs.get('generate_kwargs', {}) {}\n",
            "get ref from ( evaluate_simplifier) asset_valid_NER_ABCD\n",
            "test_set in evaluate_simplifier when get ori asset_valid\n",
            "encoder_json_path /content/drive/MyDrive/muss/resources/bart_bpe/encoder.json\n",
            "vocab_bpe_path /content/drive/MyDrive/muss/resources/bart_bpe/vocab.bpe\n"
          ]
        },
        {
          "output_type": "stream",
          "name": "stderr",
          "text": [
            "INFO:fairseq_cli.generate:Namespace(all_gather_list_size=16384, batch_size=None, batch_size_valid=None, beam=5, bf16=False, bpe=None, broadcast_buffers=False, bucket_cap_mb=25, checkpoint_shard_count=1, checkpoint_suffix='', constraints=None, cpu=False, criterion='cross_entropy', curriculum=0, data='/tmp/tmpufeatfw8', data_buffer_size=10, dataset_impl='raw', ddp_backend='c10d', decoding_format=None, device_id=0, disable_validation=False, distributed_backend='nccl', distributed_init_method=None, distributed_no_spawn=False, distributed_port=-1, distributed_rank=0, distributed_world_size=1, distributed_wrapper='DDP', diverse_beam_groups=-1, diverse_beam_strength=0.5, diversity_rate=-1.0, empty_cache_freq=0, eval_bleu=False, eval_bleu_args=None, eval_bleu_detok='space', eval_bleu_detok_args=None, eval_bleu_print_samples=False, eval_bleu_remove_bpe=None, eval_tokenized_bleu=False, fast_stat_sync=False, find_unused_parameters=False, fix_batches_to_gpus=False, fixed_validation_seed=None, force_anneal=None, fp16=False, fp16_init_scale=128, fp16_no_flatten_grads=False, fp16_scale_tolerance=0.0, fp16_scale_window=None, gen_subset='tmp', iter_decode_eos_penalty=0.0, iter_decode_force_max_iter=False, iter_decode_max_iter=10, iter_decode_with_beam=1, iter_decode_with_external_reranker=False, left_pad_source='True', left_pad_target='False', lenpen=1.0, lm_path=None, lm_weight=0.0, load_alignments=False, localsgd_frequency=3, log_format=None, log_interval=100, lr_scheduler='fixed', lr_shrink=0.1, match_source_len=False, max_len_a=0, max_len_b=200, max_source_positions=1024, max_target_positions=1024, max_tokens=8000, max_tokens_valid=8000, memory_efficient_bf16=False, memory_efficient_fp16=False, min_len=1, min_loss_scale=0.0001, model_overrides=\"{'encoder_embed_path': None, 'decoder_embed_path': None}\", model_parallel_size=1, nbest=1, no_beamable_mm=False, no_early_stop=False, no_progress_bar=False, no_repeat_ngram_size=0, no_seed_provided=False, nprocs_per_node=1, num_batch_buckets=0, num_shards=1, num_workers=1, optimizer=None, path='/content/drive/MyDrive/muss/experiments/fairseq/local_1631567843618/model.pt', pipeline_balance=None, pipeline_checkpoint='never', pipeline_chunks=0, pipeline_decoder_balance=None, pipeline_decoder_devices=None, pipeline_devices=None, pipeline_encoder_balance=None, pipeline_encoder_devices=None, pipeline_model_parallel=False, prefix_size=0, print_alignment=False, print_step=False, profile=False, quantization_config_path=None, quiet=False, remove_bpe=None, replace_unk=None, required_batch_size_multiple=8, required_seq_len_multiple=1, results_path=None, retain_dropout=False, retain_dropout_modules=None, retain_iter_history=False, sacrebleu=False, sampling=False, sampling_topk=-1, sampling_topp=-1.0, score_reference=False, scoring='bleu', seed=1, shard_id=0, skip_invalid_size_inputs_valid_test=True, slowmo_algorithm='LocalSGD', slowmo_momentum=None, source_lang=None, target_lang=None, task='translation', temperature=1.0, tensorboard_logdir=None, threshold_loss_scale=None, tokenizer=None, tpu=False, train_subset='train', truncate_source=False, unkpen=0, unnormalized=False, upsample_primary=1, user_dir=None, valid_subset='valid', validate_after_updates=0, validate_interval=1, validate_interval_updates=0, warmup_updates=0, zero_sharding='none')\n",
            "INFO:fairseq.tasks.translation:[complex] dictionary: 50264 types\n",
            "INFO:fairseq.tasks.translation:[simple] dictionary: 50264 types\n"
          ]
        },
        {
          "output_type": "stream",
          "name": "stdout",
          "text": [
            "| use checkpoint_paths [PosixPath('/content/drive/MyDrive/muss/experiments/fairseq/local_1631567843618/model.pt')]\n"
          ]
        },
        {
          "output_type": "stream",
          "name": "stderr",
          "text": [
            "INFO:fairseq.data.data_utils:loaded 2000 examples from: /tmp/tmpufeatfw8/tmp.complex-simple.complex\n",
            "INFO:fairseq.data.data_utils:loaded 2000 examples from: /tmp/tmpufeatfw8/tmp.complex-simple.simple\n",
            "INFO:fairseq.tasks.translation:/tmp/tmpufeatfw8 tmp complex-simple 2000 examples\n",
            "INFO:fairseq_cli.generate:loading model(s) from /content/drive/MyDrive/muss/experiments/fairseq/local_1631567843618/model.pt\n",
            "INFO:fairseq_cli.generate:NOTE: hypothesis and token scores are output in base 2\n",
            "INFO:fairseq_cli.generate:Translated 2000 sentences (46532 tokens) in 111.1s (18.01 sentences/s, 418.99 tokens/s)\n",
            " 61%|██████    | 78/128 [3:16:26<2:09:21, 155.23s/it]"
          ]
        },
        {
          "output_type": "stream",
          "name": "stdout",
          "text": [
            "| IN find_best_parametrization_nevergrad: kwargs.get('generate_kwargs', {}) {}\n",
            "get ref from ( evaluate_simplifier) asset_valid_NER_ABCD\n",
            "test_set in evaluate_simplifier when get ori asset_valid\n",
            "encoder_json_path /content/drive/MyDrive/muss/resources/bart_bpe/encoder.json\n",
            "vocab_bpe_path /content/drive/MyDrive/muss/resources/bart_bpe/vocab.bpe\n"
          ]
        },
        {
          "output_type": "stream",
          "name": "stderr",
          "text": [
            "INFO:fairseq_cli.generate:Namespace(all_gather_list_size=16384, batch_size=None, batch_size_valid=None, beam=5, bf16=False, bpe=None, broadcast_buffers=False, bucket_cap_mb=25, checkpoint_shard_count=1, checkpoint_suffix='', constraints=None, cpu=False, criterion='cross_entropy', curriculum=0, data='/tmp/tmpml5ujkc5', data_buffer_size=10, dataset_impl='raw', ddp_backend='c10d', decoding_format=None, device_id=0, disable_validation=False, distributed_backend='nccl', distributed_init_method=None, distributed_no_spawn=False, distributed_port=-1, distributed_rank=0, distributed_world_size=1, distributed_wrapper='DDP', diverse_beam_groups=-1, diverse_beam_strength=0.5, diversity_rate=-1.0, empty_cache_freq=0, eval_bleu=False, eval_bleu_args=None, eval_bleu_detok='space', eval_bleu_detok_args=None, eval_bleu_print_samples=False, eval_bleu_remove_bpe=None, eval_tokenized_bleu=False, fast_stat_sync=False, find_unused_parameters=False, fix_batches_to_gpus=False, fixed_validation_seed=None, force_anneal=None, fp16=False, fp16_init_scale=128, fp16_no_flatten_grads=False, fp16_scale_tolerance=0.0, fp16_scale_window=None, gen_subset='tmp', iter_decode_eos_penalty=0.0, iter_decode_force_max_iter=False, iter_decode_max_iter=10, iter_decode_with_beam=1, iter_decode_with_external_reranker=False, left_pad_source='True', left_pad_target='False', lenpen=1.0, lm_path=None, lm_weight=0.0, load_alignments=False, localsgd_frequency=3, log_format=None, log_interval=100, lr_scheduler='fixed', lr_shrink=0.1, match_source_len=False, max_len_a=0, max_len_b=200, max_source_positions=1024, max_target_positions=1024, max_tokens=8000, max_tokens_valid=8000, memory_efficient_bf16=False, memory_efficient_fp16=False, min_len=1, min_loss_scale=0.0001, model_overrides=\"{'encoder_embed_path': None, 'decoder_embed_path': None}\", model_parallel_size=1, nbest=1, no_beamable_mm=False, no_early_stop=False, no_progress_bar=False, no_repeat_ngram_size=0, no_seed_provided=False, nprocs_per_node=1, num_batch_buckets=0, num_shards=1, num_workers=1, optimizer=None, path='/content/drive/MyDrive/muss/experiments/fairseq/local_1631567843618/model.pt', pipeline_balance=None, pipeline_checkpoint='never', pipeline_chunks=0, pipeline_decoder_balance=None, pipeline_decoder_devices=None, pipeline_devices=None, pipeline_encoder_balance=None, pipeline_encoder_devices=None, pipeline_model_parallel=False, prefix_size=0, print_alignment=False, print_step=False, profile=False, quantization_config_path=None, quiet=False, remove_bpe=None, replace_unk=None, required_batch_size_multiple=8, required_seq_len_multiple=1, results_path=None, retain_dropout=False, retain_dropout_modules=None, retain_iter_history=False, sacrebleu=False, sampling=False, sampling_topk=-1, sampling_topp=-1.0, score_reference=False, scoring='bleu', seed=1, shard_id=0, skip_invalid_size_inputs_valid_test=True, slowmo_algorithm='LocalSGD', slowmo_momentum=None, source_lang=None, target_lang=None, task='translation', temperature=1.0, tensorboard_logdir=None, threshold_loss_scale=None, tokenizer=None, tpu=False, train_subset='train', truncate_source=False, unkpen=0, unnormalized=False, upsample_primary=1, user_dir=None, valid_subset='valid', validate_after_updates=0, validate_interval=1, validate_interval_updates=0, warmup_updates=0, zero_sharding='none')\n",
            "INFO:fairseq.tasks.translation:[complex] dictionary: 50264 types\n",
            "INFO:fairseq.tasks.translation:[simple] dictionary: 50264 types\n"
          ]
        },
        {
          "output_type": "stream",
          "name": "stdout",
          "text": [
            "| use checkpoint_paths [PosixPath('/content/drive/MyDrive/muss/experiments/fairseq/local_1631567843618/model.pt')]\n"
          ]
        },
        {
          "output_type": "stream",
          "name": "stderr",
          "text": [
            "INFO:fairseq.data.data_utils:loaded 2000 examples from: /tmp/tmpml5ujkc5/tmp.complex-simple.complex\n",
            "INFO:fairseq.data.data_utils:loaded 2000 examples from: /tmp/tmpml5ujkc5/tmp.complex-simple.simple\n",
            "INFO:fairseq.tasks.translation:/tmp/tmpml5ujkc5 tmp complex-simple 2000 examples\n",
            "INFO:fairseq_cli.generate:loading model(s) from /content/drive/MyDrive/muss/experiments/fairseq/local_1631567843618/model.pt\n",
            "INFO:fairseq_cli.generate:NOTE: hypothesis and token scores are output in base 2\n",
            "INFO:fairseq_cli.generate:Translated 2000 sentences (46532 tokens) in 111.3s (17.97 sentences/s, 418.02 tokens/s)\n",
            " 62%|██████▏   | 79/128 [3:19:02<2:06:54, 155.39s/it]"
          ]
        },
        {
          "output_type": "stream",
          "name": "stdout",
          "text": [
            "| IN find_best_parametrization_nevergrad: kwargs.get('generate_kwargs', {}) {}\n",
            "get ref from ( evaluate_simplifier) asset_valid_NER_ABCD\n",
            "test_set in evaluate_simplifier when get ori asset_valid\n",
            "encoder_json_path /content/drive/MyDrive/muss/resources/bart_bpe/encoder.json\n",
            "vocab_bpe_path /content/drive/MyDrive/muss/resources/bart_bpe/vocab.bpe\n"
          ]
        },
        {
          "output_type": "stream",
          "name": "stderr",
          "text": [
            "INFO:fairseq_cli.generate:Namespace(all_gather_list_size=16384, batch_size=None, batch_size_valid=None, beam=5, bf16=False, bpe=None, broadcast_buffers=False, bucket_cap_mb=25, checkpoint_shard_count=1, checkpoint_suffix='', constraints=None, cpu=False, criterion='cross_entropy', curriculum=0, data='/tmp/tmpy4rj1u6n', data_buffer_size=10, dataset_impl='raw', ddp_backend='c10d', decoding_format=None, device_id=0, disable_validation=False, distributed_backend='nccl', distributed_init_method=None, distributed_no_spawn=False, distributed_port=-1, distributed_rank=0, distributed_world_size=1, distributed_wrapper='DDP', diverse_beam_groups=-1, diverse_beam_strength=0.5, diversity_rate=-1.0, empty_cache_freq=0, eval_bleu=False, eval_bleu_args=None, eval_bleu_detok='space', eval_bleu_detok_args=None, eval_bleu_print_samples=False, eval_bleu_remove_bpe=None, eval_tokenized_bleu=False, fast_stat_sync=False, find_unused_parameters=False, fix_batches_to_gpus=False, fixed_validation_seed=None, force_anneal=None, fp16=False, fp16_init_scale=128, fp16_no_flatten_grads=False, fp16_scale_tolerance=0.0, fp16_scale_window=None, gen_subset='tmp', iter_decode_eos_penalty=0.0, iter_decode_force_max_iter=False, iter_decode_max_iter=10, iter_decode_with_beam=1, iter_decode_with_external_reranker=False, left_pad_source='True', left_pad_target='False', lenpen=1.0, lm_path=None, lm_weight=0.0, load_alignments=False, localsgd_frequency=3, log_format=None, log_interval=100, lr_scheduler='fixed', lr_shrink=0.1, match_source_len=False, max_len_a=0, max_len_b=200, max_source_positions=1024, max_target_positions=1024, max_tokens=8000, max_tokens_valid=8000, memory_efficient_bf16=False, memory_efficient_fp16=False, min_len=1, min_loss_scale=0.0001, model_overrides=\"{'encoder_embed_path': None, 'decoder_embed_path': None}\", model_parallel_size=1, nbest=1, no_beamable_mm=False, no_early_stop=False, no_progress_bar=False, no_repeat_ngram_size=0, no_seed_provided=False, nprocs_per_node=1, num_batch_buckets=0, num_shards=1, num_workers=1, optimizer=None, path='/content/drive/MyDrive/muss/experiments/fairseq/local_1631567843618/model.pt', pipeline_balance=None, pipeline_checkpoint='never', pipeline_chunks=0, pipeline_decoder_balance=None, pipeline_decoder_devices=None, pipeline_devices=None, pipeline_encoder_balance=None, pipeline_encoder_devices=None, pipeline_model_parallel=False, prefix_size=0, print_alignment=False, print_step=False, profile=False, quantization_config_path=None, quiet=False, remove_bpe=None, replace_unk=None, required_batch_size_multiple=8, required_seq_len_multiple=1, results_path=None, retain_dropout=False, retain_dropout_modules=None, retain_iter_history=False, sacrebleu=False, sampling=False, sampling_topk=-1, sampling_topp=-1.0, score_reference=False, scoring='bleu', seed=1, shard_id=0, skip_invalid_size_inputs_valid_test=True, slowmo_algorithm='LocalSGD', slowmo_momentum=None, source_lang=None, target_lang=None, task='translation', temperature=1.0, tensorboard_logdir=None, threshold_loss_scale=None, tokenizer=None, tpu=False, train_subset='train', truncate_source=False, unkpen=0, unnormalized=False, upsample_primary=1, user_dir=None, valid_subset='valid', validate_after_updates=0, validate_interval=1, validate_interval_updates=0, warmup_updates=0, zero_sharding='none')\n",
            "INFO:fairseq.tasks.translation:[complex] dictionary: 50264 types\n",
            "INFO:fairseq.tasks.translation:[simple] dictionary: 50264 types\n"
          ]
        },
        {
          "output_type": "stream",
          "name": "stdout",
          "text": [
            "| use checkpoint_paths [PosixPath('/content/drive/MyDrive/muss/experiments/fairseq/local_1631567843618/model.pt')]\n"
          ]
        },
        {
          "output_type": "stream",
          "name": "stderr",
          "text": [
            "INFO:fairseq.data.data_utils:loaded 2000 examples from: /tmp/tmpy4rj1u6n/tmp.complex-simple.complex\n",
            "INFO:fairseq.data.data_utils:loaded 2000 examples from: /tmp/tmpy4rj1u6n/tmp.complex-simple.simple\n",
            "INFO:fairseq.tasks.translation:/tmp/tmpy4rj1u6n tmp complex-simple 2000 examples\n",
            "INFO:fairseq_cli.generate:loading model(s) from /content/drive/MyDrive/muss/experiments/fairseq/local_1631567843618/model.pt\n",
            "INFO:fairseq_cli.generate:NOTE: hypothesis and token scores are output in base 2\n",
            "INFO:fairseq_cli.generate:Translated 2000 sentences (46382 tokens) in 111.1s (18.01 sentences/s, 417.59 tokens/s)\n",
            " 62%|██████▎   | 80/128 [3:21:38<2:04:26, 155.55s/it]"
          ]
        },
        {
          "output_type": "stream",
          "name": "stdout",
          "text": [
            "| IN find_best_parametrization_nevergrad: kwargs.get('generate_kwargs', {}) {}\n",
            "get ref from ( evaluate_simplifier) asset_valid_NER_ABCD\n",
            "test_set in evaluate_simplifier when get ori asset_valid\n",
            "encoder_json_path /content/drive/MyDrive/muss/resources/bart_bpe/encoder.json\n",
            "vocab_bpe_path /content/drive/MyDrive/muss/resources/bart_bpe/vocab.bpe\n"
          ]
        },
        {
          "output_type": "stream",
          "name": "stderr",
          "text": [
            "INFO:fairseq_cli.generate:Namespace(all_gather_list_size=16384, batch_size=None, batch_size_valid=None, beam=5, bf16=False, bpe=None, broadcast_buffers=False, bucket_cap_mb=25, checkpoint_shard_count=1, checkpoint_suffix='', constraints=None, cpu=False, criterion='cross_entropy', curriculum=0, data='/tmp/tmpv0hnefvz', data_buffer_size=10, dataset_impl='raw', ddp_backend='c10d', decoding_format=None, device_id=0, disable_validation=False, distributed_backend='nccl', distributed_init_method=None, distributed_no_spawn=False, distributed_port=-1, distributed_rank=0, distributed_world_size=1, distributed_wrapper='DDP', diverse_beam_groups=-1, diverse_beam_strength=0.5, diversity_rate=-1.0, empty_cache_freq=0, eval_bleu=False, eval_bleu_args=None, eval_bleu_detok='space', eval_bleu_detok_args=None, eval_bleu_print_samples=False, eval_bleu_remove_bpe=None, eval_tokenized_bleu=False, fast_stat_sync=False, find_unused_parameters=False, fix_batches_to_gpus=False, fixed_validation_seed=None, force_anneal=None, fp16=False, fp16_init_scale=128, fp16_no_flatten_grads=False, fp16_scale_tolerance=0.0, fp16_scale_window=None, gen_subset='tmp', iter_decode_eos_penalty=0.0, iter_decode_force_max_iter=False, iter_decode_max_iter=10, iter_decode_with_beam=1, iter_decode_with_external_reranker=False, left_pad_source='True', left_pad_target='False', lenpen=1.0, lm_path=None, lm_weight=0.0, load_alignments=False, localsgd_frequency=3, log_format=None, log_interval=100, lr_scheduler='fixed', lr_shrink=0.1, match_source_len=False, max_len_a=0, max_len_b=200, max_source_positions=1024, max_target_positions=1024, max_tokens=8000, max_tokens_valid=8000, memory_efficient_bf16=False, memory_efficient_fp16=False, min_len=1, min_loss_scale=0.0001, model_overrides=\"{'encoder_embed_path': None, 'decoder_embed_path': None}\", model_parallel_size=1, nbest=1, no_beamable_mm=False, no_early_stop=False, no_progress_bar=False, no_repeat_ngram_size=0, no_seed_provided=False, nprocs_per_node=1, num_batch_buckets=0, num_shards=1, num_workers=1, optimizer=None, path='/content/drive/MyDrive/muss/experiments/fairseq/local_1631567843618/model.pt', pipeline_balance=None, pipeline_checkpoint='never', pipeline_chunks=0, pipeline_decoder_balance=None, pipeline_decoder_devices=None, pipeline_devices=None, pipeline_encoder_balance=None, pipeline_encoder_devices=None, pipeline_model_parallel=False, prefix_size=0, print_alignment=False, print_step=False, profile=False, quantization_config_path=None, quiet=False, remove_bpe=None, replace_unk=None, required_batch_size_multiple=8, required_seq_len_multiple=1, results_path=None, retain_dropout=False, retain_dropout_modules=None, retain_iter_history=False, sacrebleu=False, sampling=False, sampling_topk=-1, sampling_topp=-1.0, score_reference=False, scoring='bleu', seed=1, shard_id=0, skip_invalid_size_inputs_valid_test=True, slowmo_algorithm='LocalSGD', slowmo_momentum=None, source_lang=None, target_lang=None, task='translation', temperature=1.0, tensorboard_logdir=None, threshold_loss_scale=None, tokenizer=None, tpu=False, train_subset='train', truncate_source=False, unkpen=0, unnormalized=False, upsample_primary=1, user_dir=None, valid_subset='valid', validate_after_updates=0, validate_interval=1, validate_interval_updates=0, warmup_updates=0, zero_sharding='none')\n",
            "INFO:fairseq.tasks.translation:[complex] dictionary: 50264 types\n",
            "INFO:fairseq.tasks.translation:[simple] dictionary: 50264 types\n"
          ]
        },
        {
          "output_type": "stream",
          "name": "stdout",
          "text": [
            "| use checkpoint_paths [PosixPath('/content/drive/MyDrive/muss/experiments/fairseq/local_1631567843618/model.pt')]\n"
          ]
        },
        {
          "output_type": "stream",
          "name": "stderr",
          "text": [
            "INFO:fairseq.data.data_utils:loaded 2000 examples from: /tmp/tmpv0hnefvz/tmp.complex-simple.complex\n",
            "INFO:fairseq.data.data_utils:loaded 2000 examples from: /tmp/tmpv0hnefvz/tmp.complex-simple.simple\n",
            "INFO:fairseq.tasks.translation:/tmp/tmpv0hnefvz tmp complex-simple 2000 examples\n",
            "INFO:fairseq_cli.generate:loading model(s) from /content/drive/MyDrive/muss/experiments/fairseq/local_1631567843618/model.pt\n",
            "INFO:fairseq_cli.generate:NOTE: hypothesis and token scores are output in base 2\n",
            "INFO:fairseq_cli.generate:Translated 2000 sentences (46532 tokens) in 111.2s (17.99 sentences/s, 418.62 tokens/s)\n",
            " 63%|██████▎   | 81/128 [3:24:14<2:01:53, 155.60s/it]"
          ]
        },
        {
          "output_type": "stream",
          "name": "stdout",
          "text": [
            "| IN find_best_parametrization_nevergrad: kwargs.get('generate_kwargs', {}) {}\n",
            "get ref from ( evaluate_simplifier) asset_valid_NER_ABCD\n",
            "test_set in evaluate_simplifier when get ori asset_valid\n",
            "encoder_json_path /content/drive/MyDrive/muss/resources/bart_bpe/encoder.json\n",
            "vocab_bpe_path /content/drive/MyDrive/muss/resources/bart_bpe/vocab.bpe\n"
          ]
        },
        {
          "output_type": "stream",
          "name": "stderr",
          "text": [
            "INFO:fairseq_cli.generate:Namespace(all_gather_list_size=16384, batch_size=None, batch_size_valid=None, beam=5, bf16=False, bpe=None, broadcast_buffers=False, bucket_cap_mb=25, checkpoint_shard_count=1, checkpoint_suffix='', constraints=None, cpu=False, criterion='cross_entropy', curriculum=0, data='/tmp/tmpy47p8r2z', data_buffer_size=10, dataset_impl='raw', ddp_backend='c10d', decoding_format=None, device_id=0, disable_validation=False, distributed_backend='nccl', distributed_init_method=None, distributed_no_spawn=False, distributed_port=-1, distributed_rank=0, distributed_world_size=1, distributed_wrapper='DDP', diverse_beam_groups=-1, diverse_beam_strength=0.5, diversity_rate=-1.0, empty_cache_freq=0, eval_bleu=False, eval_bleu_args=None, eval_bleu_detok='space', eval_bleu_detok_args=None, eval_bleu_print_samples=False, eval_bleu_remove_bpe=None, eval_tokenized_bleu=False, fast_stat_sync=False, find_unused_parameters=False, fix_batches_to_gpus=False, fixed_validation_seed=None, force_anneal=None, fp16=False, fp16_init_scale=128, fp16_no_flatten_grads=False, fp16_scale_tolerance=0.0, fp16_scale_window=None, gen_subset='tmp', iter_decode_eos_penalty=0.0, iter_decode_force_max_iter=False, iter_decode_max_iter=10, iter_decode_with_beam=1, iter_decode_with_external_reranker=False, left_pad_source='True', left_pad_target='False', lenpen=1.0, lm_path=None, lm_weight=0.0, load_alignments=False, localsgd_frequency=3, log_format=None, log_interval=100, lr_scheduler='fixed', lr_shrink=0.1, match_source_len=False, max_len_a=0, max_len_b=200, max_source_positions=1024, max_target_positions=1024, max_tokens=8000, max_tokens_valid=8000, memory_efficient_bf16=False, memory_efficient_fp16=False, min_len=1, min_loss_scale=0.0001, model_overrides=\"{'encoder_embed_path': None, 'decoder_embed_path': None}\", model_parallel_size=1, nbest=1, no_beamable_mm=False, no_early_stop=False, no_progress_bar=False, no_repeat_ngram_size=0, no_seed_provided=False, nprocs_per_node=1, num_batch_buckets=0, num_shards=1, num_workers=1, optimizer=None, path='/content/drive/MyDrive/muss/experiments/fairseq/local_1631567843618/model.pt', pipeline_balance=None, pipeline_checkpoint='never', pipeline_chunks=0, pipeline_decoder_balance=None, pipeline_decoder_devices=None, pipeline_devices=None, pipeline_encoder_balance=None, pipeline_encoder_devices=None, pipeline_model_parallel=False, prefix_size=0, print_alignment=False, print_step=False, profile=False, quantization_config_path=None, quiet=False, remove_bpe=None, replace_unk=None, required_batch_size_multiple=8, required_seq_len_multiple=1, results_path=None, retain_dropout=False, retain_dropout_modules=None, retain_iter_history=False, sacrebleu=False, sampling=False, sampling_topk=-1, sampling_topp=-1.0, score_reference=False, scoring='bleu', seed=1, shard_id=0, skip_invalid_size_inputs_valid_test=True, slowmo_algorithm='LocalSGD', slowmo_momentum=None, source_lang=None, target_lang=None, task='translation', temperature=1.0, tensorboard_logdir=None, threshold_loss_scale=None, tokenizer=None, tpu=False, train_subset='train', truncate_source=False, unkpen=0, unnormalized=False, upsample_primary=1, user_dir=None, valid_subset='valid', validate_after_updates=0, validate_interval=1, validate_interval_updates=0, warmup_updates=0, zero_sharding='none')\n",
            "INFO:fairseq.tasks.translation:[complex] dictionary: 50264 types\n",
            "INFO:fairseq.tasks.translation:[simple] dictionary: 50264 types\n"
          ]
        },
        {
          "output_type": "stream",
          "name": "stdout",
          "text": [
            "| use checkpoint_paths [PosixPath('/content/drive/MyDrive/muss/experiments/fairseq/local_1631567843618/model.pt')]\n"
          ]
        },
        {
          "output_type": "stream",
          "name": "stderr",
          "text": [
            "INFO:fairseq.data.data_utils:loaded 2000 examples from: /tmp/tmpy47p8r2z/tmp.complex-simple.complex\n",
            "INFO:fairseq.data.data_utils:loaded 2000 examples from: /tmp/tmpy47p8r2z/tmp.complex-simple.simple\n",
            "INFO:fairseq.tasks.translation:/tmp/tmpy47p8r2z tmp complex-simple 2000 examples\n",
            "INFO:fairseq_cli.generate:loading model(s) from /content/drive/MyDrive/muss/experiments/fairseq/local_1631567843618/model.pt\n",
            "INFO:fairseq_cli.generate:NOTE: hypothesis and token scores are output in base 2\n",
            "INFO:fairseq_cli.generate:Translated 2000 sentences (46532 tokens) in 111.1s (18.00 sentences/s, 418.86 tokens/s)\n",
            " 64%|██████▍   | 82/128 [3:26:50<1:59:25, 155.77s/it]"
          ]
        },
        {
          "output_type": "stream",
          "name": "stdout",
          "text": [
            "| IN find_best_parametrization_nevergrad: kwargs.get('generate_kwargs', {}) {}\n",
            "get ref from ( evaluate_simplifier) asset_valid_NER_ABCD\n",
            "test_set in evaluate_simplifier when get ori asset_valid\n",
            "encoder_json_path /content/drive/MyDrive/muss/resources/bart_bpe/encoder.json\n",
            "vocab_bpe_path /content/drive/MyDrive/muss/resources/bart_bpe/vocab.bpe\n"
          ]
        },
        {
          "output_type": "stream",
          "name": "stderr",
          "text": [
            "INFO:fairseq_cli.generate:Namespace(all_gather_list_size=16384, batch_size=None, batch_size_valid=None, beam=5, bf16=False, bpe=None, broadcast_buffers=False, bucket_cap_mb=25, checkpoint_shard_count=1, checkpoint_suffix='', constraints=None, cpu=False, criterion='cross_entropy', curriculum=0, data='/tmp/tmp_5mki4ks', data_buffer_size=10, dataset_impl='raw', ddp_backend='c10d', decoding_format=None, device_id=0, disable_validation=False, distributed_backend='nccl', distributed_init_method=None, distributed_no_spawn=False, distributed_port=-1, distributed_rank=0, distributed_world_size=1, distributed_wrapper='DDP', diverse_beam_groups=-1, diverse_beam_strength=0.5, diversity_rate=-1.0, empty_cache_freq=0, eval_bleu=False, eval_bleu_args=None, eval_bleu_detok='space', eval_bleu_detok_args=None, eval_bleu_print_samples=False, eval_bleu_remove_bpe=None, eval_tokenized_bleu=False, fast_stat_sync=False, find_unused_parameters=False, fix_batches_to_gpus=False, fixed_validation_seed=None, force_anneal=None, fp16=False, fp16_init_scale=128, fp16_no_flatten_grads=False, fp16_scale_tolerance=0.0, fp16_scale_window=None, gen_subset='tmp', iter_decode_eos_penalty=0.0, iter_decode_force_max_iter=False, iter_decode_max_iter=10, iter_decode_with_beam=1, iter_decode_with_external_reranker=False, left_pad_source='True', left_pad_target='False', lenpen=1.0, lm_path=None, lm_weight=0.0, load_alignments=False, localsgd_frequency=3, log_format=None, log_interval=100, lr_scheduler='fixed', lr_shrink=0.1, match_source_len=False, max_len_a=0, max_len_b=200, max_source_positions=1024, max_target_positions=1024, max_tokens=8000, max_tokens_valid=8000, memory_efficient_bf16=False, memory_efficient_fp16=False, min_len=1, min_loss_scale=0.0001, model_overrides=\"{'encoder_embed_path': None, 'decoder_embed_path': None}\", model_parallel_size=1, nbest=1, no_beamable_mm=False, no_early_stop=False, no_progress_bar=False, no_repeat_ngram_size=0, no_seed_provided=False, nprocs_per_node=1, num_batch_buckets=0, num_shards=1, num_workers=1, optimizer=None, path='/content/drive/MyDrive/muss/experiments/fairseq/local_1631567843618/model.pt', pipeline_balance=None, pipeline_checkpoint='never', pipeline_chunks=0, pipeline_decoder_balance=None, pipeline_decoder_devices=None, pipeline_devices=None, pipeline_encoder_balance=None, pipeline_encoder_devices=None, pipeline_model_parallel=False, prefix_size=0, print_alignment=False, print_step=False, profile=False, quantization_config_path=None, quiet=False, remove_bpe=None, replace_unk=None, required_batch_size_multiple=8, required_seq_len_multiple=1, results_path=None, retain_dropout=False, retain_dropout_modules=None, retain_iter_history=False, sacrebleu=False, sampling=False, sampling_topk=-1, sampling_topp=-1.0, score_reference=False, scoring='bleu', seed=1, shard_id=0, skip_invalid_size_inputs_valid_test=True, slowmo_algorithm='LocalSGD', slowmo_momentum=None, source_lang=None, target_lang=None, task='translation', temperature=1.0, tensorboard_logdir=None, threshold_loss_scale=None, tokenizer=None, tpu=False, train_subset='train', truncate_source=False, unkpen=0, unnormalized=False, upsample_primary=1, user_dir=None, valid_subset='valid', validate_after_updates=0, validate_interval=1, validate_interval_updates=0, warmup_updates=0, zero_sharding='none')\n",
            "INFO:fairseq.tasks.translation:[complex] dictionary: 50264 types\n",
            "INFO:fairseq.tasks.translation:[simple] dictionary: 50264 types\n"
          ]
        },
        {
          "output_type": "stream",
          "name": "stdout",
          "text": [
            "| use checkpoint_paths [PosixPath('/content/drive/MyDrive/muss/experiments/fairseq/local_1631567843618/model.pt')]\n"
          ]
        },
        {
          "output_type": "stream",
          "name": "stderr",
          "text": [
            "INFO:fairseq.data.data_utils:loaded 2000 examples from: /tmp/tmp_5mki4ks/tmp.complex-simple.complex\n",
            "INFO:fairseq.data.data_utils:loaded 2000 examples from: /tmp/tmp_5mki4ks/tmp.complex-simple.simple\n",
            "INFO:fairseq.tasks.translation:/tmp/tmp_5mki4ks tmp complex-simple 2000 examples\n",
            "INFO:fairseq_cli.generate:loading model(s) from /content/drive/MyDrive/muss/experiments/fairseq/local_1631567843618/model.pt\n",
            "INFO:fairseq_cli.generate:NOTE: hypothesis and token scores are output in base 2\n",
            "INFO:fairseq_cli.generate:Translated 2000 sentences (46532 tokens) in 111.0s (18.01 sentences/s, 419.05 tokens/s)\n",
            " 65%|██████▍   | 83/128 [3:29:26<1:56:46, 155.71s/it]"
          ]
        },
        {
          "output_type": "stream",
          "name": "stdout",
          "text": [
            "| IN find_best_parametrization_nevergrad: kwargs.get('generate_kwargs', {}) {}\n",
            "get ref from ( evaluate_simplifier) asset_valid_NER_ABCD\n",
            "test_set in evaluate_simplifier when get ori asset_valid\n",
            "encoder_json_path /content/drive/MyDrive/muss/resources/bart_bpe/encoder.json\n",
            "vocab_bpe_path /content/drive/MyDrive/muss/resources/bart_bpe/vocab.bpe\n"
          ]
        },
        {
          "output_type": "stream",
          "name": "stderr",
          "text": [
            "INFO:fairseq_cli.generate:Namespace(all_gather_list_size=16384, batch_size=None, batch_size_valid=None, beam=5, bf16=False, bpe=None, broadcast_buffers=False, bucket_cap_mb=25, checkpoint_shard_count=1, checkpoint_suffix='', constraints=None, cpu=False, criterion='cross_entropy', curriculum=0, data='/tmp/tmpz1y1so19', data_buffer_size=10, dataset_impl='raw', ddp_backend='c10d', decoding_format=None, device_id=0, disable_validation=False, distributed_backend='nccl', distributed_init_method=None, distributed_no_spawn=False, distributed_port=-1, distributed_rank=0, distributed_world_size=1, distributed_wrapper='DDP', diverse_beam_groups=-1, diverse_beam_strength=0.5, diversity_rate=-1.0, empty_cache_freq=0, eval_bleu=False, eval_bleu_args=None, eval_bleu_detok='space', eval_bleu_detok_args=None, eval_bleu_print_samples=False, eval_bleu_remove_bpe=None, eval_tokenized_bleu=False, fast_stat_sync=False, find_unused_parameters=False, fix_batches_to_gpus=False, fixed_validation_seed=None, force_anneal=None, fp16=False, fp16_init_scale=128, fp16_no_flatten_grads=False, fp16_scale_tolerance=0.0, fp16_scale_window=None, gen_subset='tmp', iter_decode_eos_penalty=0.0, iter_decode_force_max_iter=False, iter_decode_max_iter=10, iter_decode_with_beam=1, iter_decode_with_external_reranker=False, left_pad_source='True', left_pad_target='False', lenpen=1.0, lm_path=None, lm_weight=0.0, load_alignments=False, localsgd_frequency=3, log_format=None, log_interval=100, lr_scheduler='fixed', lr_shrink=0.1, match_source_len=False, max_len_a=0, max_len_b=200, max_source_positions=1024, max_target_positions=1024, max_tokens=8000, max_tokens_valid=8000, memory_efficient_bf16=False, memory_efficient_fp16=False, min_len=1, min_loss_scale=0.0001, model_overrides=\"{'encoder_embed_path': None, 'decoder_embed_path': None}\", model_parallel_size=1, nbest=1, no_beamable_mm=False, no_early_stop=False, no_progress_bar=False, no_repeat_ngram_size=0, no_seed_provided=False, nprocs_per_node=1, num_batch_buckets=0, num_shards=1, num_workers=1, optimizer=None, path='/content/drive/MyDrive/muss/experiments/fairseq/local_1631567843618/model.pt', pipeline_balance=None, pipeline_checkpoint='never', pipeline_chunks=0, pipeline_decoder_balance=None, pipeline_decoder_devices=None, pipeline_devices=None, pipeline_encoder_balance=None, pipeline_encoder_devices=None, pipeline_model_parallel=False, prefix_size=0, print_alignment=False, print_step=False, profile=False, quantization_config_path=None, quiet=False, remove_bpe=None, replace_unk=None, required_batch_size_multiple=8, required_seq_len_multiple=1, results_path=None, retain_dropout=False, retain_dropout_modules=None, retain_iter_history=False, sacrebleu=False, sampling=False, sampling_topk=-1, sampling_topp=-1.0, score_reference=False, scoring='bleu', seed=1, shard_id=0, skip_invalid_size_inputs_valid_test=True, slowmo_algorithm='LocalSGD', slowmo_momentum=None, source_lang=None, target_lang=None, task='translation', temperature=1.0, tensorboard_logdir=None, threshold_loss_scale=None, tokenizer=None, tpu=False, train_subset='train', truncate_source=False, unkpen=0, unnormalized=False, upsample_primary=1, user_dir=None, valid_subset='valid', validate_after_updates=0, validate_interval=1, validate_interval_updates=0, warmup_updates=0, zero_sharding='none')\n",
            "INFO:fairseq.tasks.translation:[complex] dictionary: 50264 types\n",
            "INFO:fairseq.tasks.translation:[simple] dictionary: 50264 types\n"
          ]
        },
        {
          "output_type": "stream",
          "name": "stdout",
          "text": [
            "| use checkpoint_paths [PosixPath('/content/drive/MyDrive/muss/experiments/fairseq/local_1631567843618/model.pt')]\n"
          ]
        },
        {
          "output_type": "stream",
          "name": "stderr",
          "text": [
            "INFO:fairseq.data.data_utils:loaded 2000 examples from: /tmp/tmpz1y1so19/tmp.complex-simple.complex\n",
            "INFO:fairseq.data.data_utils:loaded 2000 examples from: /tmp/tmpz1y1so19/tmp.complex-simple.simple\n",
            "INFO:fairseq.tasks.translation:/tmp/tmpz1y1so19 tmp complex-simple 2000 examples\n",
            "INFO:fairseq_cli.generate:loading model(s) from /content/drive/MyDrive/muss/experiments/fairseq/local_1631567843618/model.pt\n",
            "INFO:fairseq_cli.generate:NOTE: hypothesis and token scores are output in base 2\n",
            "INFO:fairseq_cli.generate:Translated 2000 sentences (46532 tokens) in 112.1s (17.85 sentences/s, 415.28 tokens/s)\n",
            " 66%|██████▌   | 84/128 [3:32:02<1:54:23, 155.99s/it]"
          ]
        },
        {
          "output_type": "stream",
          "name": "stdout",
          "text": [
            "| IN find_best_parametrization_nevergrad: kwargs.get('generate_kwargs', {}) {}\n",
            "get ref from ( evaluate_simplifier) asset_valid_NER_ABCD\n",
            "test_set in evaluate_simplifier when get ori asset_valid\n",
            "encoder_json_path /content/drive/MyDrive/muss/resources/bart_bpe/encoder.json\n",
            "vocab_bpe_path /content/drive/MyDrive/muss/resources/bart_bpe/vocab.bpe\n"
          ]
        },
        {
          "output_type": "stream",
          "name": "stderr",
          "text": [
            "INFO:fairseq_cli.generate:Namespace(all_gather_list_size=16384, batch_size=None, batch_size_valid=None, beam=5, bf16=False, bpe=None, broadcast_buffers=False, bucket_cap_mb=25, checkpoint_shard_count=1, checkpoint_suffix='', constraints=None, cpu=False, criterion='cross_entropy', curriculum=0, data='/tmp/tmp9jiu0u2s', data_buffer_size=10, dataset_impl='raw', ddp_backend='c10d', decoding_format=None, device_id=0, disable_validation=False, distributed_backend='nccl', distributed_init_method=None, distributed_no_spawn=False, distributed_port=-1, distributed_rank=0, distributed_world_size=1, distributed_wrapper='DDP', diverse_beam_groups=-1, diverse_beam_strength=0.5, diversity_rate=-1.0, empty_cache_freq=0, eval_bleu=False, eval_bleu_args=None, eval_bleu_detok='space', eval_bleu_detok_args=None, eval_bleu_print_samples=False, eval_bleu_remove_bpe=None, eval_tokenized_bleu=False, fast_stat_sync=False, find_unused_parameters=False, fix_batches_to_gpus=False, fixed_validation_seed=None, force_anneal=None, fp16=False, fp16_init_scale=128, fp16_no_flatten_grads=False, fp16_scale_tolerance=0.0, fp16_scale_window=None, gen_subset='tmp', iter_decode_eos_penalty=0.0, iter_decode_force_max_iter=False, iter_decode_max_iter=10, iter_decode_with_beam=1, iter_decode_with_external_reranker=False, left_pad_source='True', left_pad_target='False', lenpen=1.0, lm_path=None, lm_weight=0.0, load_alignments=False, localsgd_frequency=3, log_format=None, log_interval=100, lr_scheduler='fixed', lr_shrink=0.1, match_source_len=False, max_len_a=0, max_len_b=200, max_source_positions=1024, max_target_positions=1024, max_tokens=8000, max_tokens_valid=8000, memory_efficient_bf16=False, memory_efficient_fp16=False, min_len=1, min_loss_scale=0.0001, model_overrides=\"{'encoder_embed_path': None, 'decoder_embed_path': None}\", model_parallel_size=1, nbest=1, no_beamable_mm=False, no_early_stop=False, no_progress_bar=False, no_repeat_ngram_size=0, no_seed_provided=False, nprocs_per_node=1, num_batch_buckets=0, num_shards=1, num_workers=1, optimizer=None, path='/content/drive/MyDrive/muss/experiments/fairseq/local_1631567843618/model.pt', pipeline_balance=None, pipeline_checkpoint='never', pipeline_chunks=0, pipeline_decoder_balance=None, pipeline_decoder_devices=None, pipeline_devices=None, pipeline_encoder_balance=None, pipeline_encoder_devices=None, pipeline_model_parallel=False, prefix_size=0, print_alignment=False, print_step=False, profile=False, quantization_config_path=None, quiet=False, remove_bpe=None, replace_unk=None, required_batch_size_multiple=8, required_seq_len_multiple=1, results_path=None, retain_dropout=False, retain_dropout_modules=None, retain_iter_history=False, sacrebleu=False, sampling=False, sampling_topk=-1, sampling_topp=-1.0, score_reference=False, scoring='bleu', seed=1, shard_id=0, skip_invalid_size_inputs_valid_test=True, slowmo_algorithm='LocalSGD', slowmo_momentum=None, source_lang=None, target_lang=None, task='translation', temperature=1.0, tensorboard_logdir=None, threshold_loss_scale=None, tokenizer=None, tpu=False, train_subset='train', truncate_source=False, unkpen=0, unnormalized=False, upsample_primary=1, user_dir=None, valid_subset='valid', validate_after_updates=0, validate_interval=1, validate_interval_updates=0, warmup_updates=0, zero_sharding='none')\n",
            "INFO:fairseq.tasks.translation:[complex] dictionary: 50264 types\n",
            "INFO:fairseq.tasks.translation:[simple] dictionary: 50264 types\n"
          ]
        },
        {
          "output_type": "stream",
          "name": "stdout",
          "text": [
            "| use checkpoint_paths [PosixPath('/content/drive/MyDrive/muss/experiments/fairseq/local_1631567843618/model.pt')]\n"
          ]
        },
        {
          "output_type": "stream",
          "name": "stderr",
          "text": [
            "INFO:fairseq.data.data_utils:loaded 2000 examples from: /tmp/tmp9jiu0u2s/tmp.complex-simple.complex\n",
            "INFO:fairseq.data.data_utils:loaded 2000 examples from: /tmp/tmp9jiu0u2s/tmp.complex-simple.simple\n",
            "INFO:fairseq.tasks.translation:/tmp/tmp9jiu0u2s tmp complex-simple 2000 examples\n",
            "INFO:fairseq_cli.generate:loading model(s) from /content/drive/MyDrive/muss/experiments/fairseq/local_1631567843618/model.pt\n",
            "INFO:fairseq_cli.generate:NOTE: hypothesis and token scores are output in base 2\n",
            "INFO:fairseq_cli.generate:Translated 2000 sentences (46532 tokens) in 111.7s (17.90 sentences/s, 416.44 tokens/s)\n",
            " 66%|██████▋   | 85/128 [3:34:39<1:51:53, 156.13s/it]"
          ]
        },
        {
          "output_type": "stream",
          "name": "stdout",
          "text": [
            "| IN find_best_parametrization_nevergrad: kwargs.get('generate_kwargs', {}) {}\n",
            "get ref from ( evaluate_simplifier) asset_valid_NER_ABCD\n",
            "test_set in evaluate_simplifier when get ori asset_valid\n",
            "encoder_json_path /content/drive/MyDrive/muss/resources/bart_bpe/encoder.json\n",
            "vocab_bpe_path /content/drive/MyDrive/muss/resources/bart_bpe/vocab.bpe\n"
          ]
        },
        {
          "output_type": "stream",
          "name": "stderr",
          "text": [
            "INFO:fairseq_cli.generate:Namespace(all_gather_list_size=16384, batch_size=None, batch_size_valid=None, beam=5, bf16=False, bpe=None, broadcast_buffers=False, bucket_cap_mb=25, checkpoint_shard_count=1, checkpoint_suffix='', constraints=None, cpu=False, criterion='cross_entropy', curriculum=0, data='/tmp/tmpvkp32ned', data_buffer_size=10, dataset_impl='raw', ddp_backend='c10d', decoding_format=None, device_id=0, disable_validation=False, distributed_backend='nccl', distributed_init_method=None, distributed_no_spawn=False, distributed_port=-1, distributed_rank=0, distributed_world_size=1, distributed_wrapper='DDP', diverse_beam_groups=-1, diverse_beam_strength=0.5, diversity_rate=-1.0, empty_cache_freq=0, eval_bleu=False, eval_bleu_args=None, eval_bleu_detok='space', eval_bleu_detok_args=None, eval_bleu_print_samples=False, eval_bleu_remove_bpe=None, eval_tokenized_bleu=False, fast_stat_sync=False, find_unused_parameters=False, fix_batches_to_gpus=False, fixed_validation_seed=None, force_anneal=None, fp16=False, fp16_init_scale=128, fp16_no_flatten_grads=False, fp16_scale_tolerance=0.0, fp16_scale_window=None, gen_subset='tmp', iter_decode_eos_penalty=0.0, iter_decode_force_max_iter=False, iter_decode_max_iter=10, iter_decode_with_beam=1, iter_decode_with_external_reranker=False, left_pad_source='True', left_pad_target='False', lenpen=1.0, lm_path=None, lm_weight=0.0, load_alignments=False, localsgd_frequency=3, log_format=None, log_interval=100, lr_scheduler='fixed', lr_shrink=0.1, match_source_len=False, max_len_a=0, max_len_b=200, max_source_positions=1024, max_target_positions=1024, max_tokens=8000, max_tokens_valid=8000, memory_efficient_bf16=False, memory_efficient_fp16=False, min_len=1, min_loss_scale=0.0001, model_overrides=\"{'encoder_embed_path': None, 'decoder_embed_path': None}\", model_parallel_size=1, nbest=1, no_beamable_mm=False, no_early_stop=False, no_progress_bar=False, no_repeat_ngram_size=0, no_seed_provided=False, nprocs_per_node=1, num_batch_buckets=0, num_shards=1, num_workers=1, optimizer=None, path='/content/drive/MyDrive/muss/experiments/fairseq/local_1631567843618/model.pt', pipeline_balance=None, pipeline_checkpoint='never', pipeline_chunks=0, pipeline_decoder_balance=None, pipeline_decoder_devices=None, pipeline_devices=None, pipeline_encoder_balance=None, pipeline_encoder_devices=None, pipeline_model_parallel=False, prefix_size=0, print_alignment=False, print_step=False, profile=False, quantization_config_path=None, quiet=False, remove_bpe=None, replace_unk=None, required_batch_size_multiple=8, required_seq_len_multiple=1, results_path=None, retain_dropout=False, retain_dropout_modules=None, retain_iter_history=False, sacrebleu=False, sampling=False, sampling_topk=-1, sampling_topp=-1.0, score_reference=False, scoring='bleu', seed=1, shard_id=0, skip_invalid_size_inputs_valid_test=True, slowmo_algorithm='LocalSGD', slowmo_momentum=None, source_lang=None, target_lang=None, task='translation', temperature=1.0, tensorboard_logdir=None, threshold_loss_scale=None, tokenizer=None, tpu=False, train_subset='train', truncate_source=False, unkpen=0, unnormalized=False, upsample_primary=1, user_dir=None, valid_subset='valid', validate_after_updates=0, validate_interval=1, validate_interval_updates=0, warmup_updates=0, zero_sharding='none')\n",
            "INFO:fairseq.tasks.translation:[complex] dictionary: 50264 types\n",
            "INFO:fairseq.tasks.translation:[simple] dictionary: 50264 types\n"
          ]
        },
        {
          "output_type": "stream",
          "name": "stdout",
          "text": [
            "| use checkpoint_paths [PosixPath('/content/drive/MyDrive/muss/experiments/fairseq/local_1631567843618/model.pt')]\n"
          ]
        },
        {
          "output_type": "stream",
          "name": "stderr",
          "text": [
            "INFO:fairseq.data.data_utils:loaded 2000 examples from: /tmp/tmpvkp32ned/tmp.complex-simple.complex\n",
            "INFO:fairseq.data.data_utils:loaded 2000 examples from: /tmp/tmpvkp32ned/tmp.complex-simple.simple\n",
            "INFO:fairseq.tasks.translation:/tmp/tmpvkp32ned tmp complex-simple 2000 examples\n",
            "INFO:fairseq_cli.generate:loading model(s) from /content/drive/MyDrive/muss/experiments/fairseq/local_1631567843618/model.pt\n",
            "INFO:fairseq_cli.generate:NOTE: hypothesis and token scores are output in base 2\n",
            "INFO:fairseq_cli.generate:Translated 2000 sentences (46532 tokens) in 111.2s (17.99 sentences/s, 418.51 tokens/s)\n",
            " 67%|██████▋   | 86/128 [3:37:14<1:49:08, 155.91s/it]"
          ]
        },
        {
          "output_type": "stream",
          "name": "stdout",
          "text": [
            "| IN find_best_parametrization_nevergrad: kwargs.get('generate_kwargs', {}) {}\n",
            "get ref from ( evaluate_simplifier) asset_valid_NER_ABCD\n",
            "test_set in evaluate_simplifier when get ori asset_valid\n",
            "encoder_json_path /content/drive/MyDrive/muss/resources/bart_bpe/encoder.json\n",
            "vocab_bpe_path /content/drive/MyDrive/muss/resources/bart_bpe/vocab.bpe\n"
          ]
        },
        {
          "output_type": "stream",
          "name": "stderr",
          "text": [
            "INFO:fairseq_cli.generate:Namespace(all_gather_list_size=16384, batch_size=None, batch_size_valid=None, beam=5, bf16=False, bpe=None, broadcast_buffers=False, bucket_cap_mb=25, checkpoint_shard_count=1, checkpoint_suffix='', constraints=None, cpu=False, criterion='cross_entropy', curriculum=0, data='/tmp/tmpm2zjixx9', data_buffer_size=10, dataset_impl='raw', ddp_backend='c10d', decoding_format=None, device_id=0, disable_validation=False, distributed_backend='nccl', distributed_init_method=None, distributed_no_spawn=False, distributed_port=-1, distributed_rank=0, distributed_world_size=1, distributed_wrapper='DDP', diverse_beam_groups=-1, diverse_beam_strength=0.5, diversity_rate=-1.0, empty_cache_freq=0, eval_bleu=False, eval_bleu_args=None, eval_bleu_detok='space', eval_bleu_detok_args=None, eval_bleu_print_samples=False, eval_bleu_remove_bpe=None, eval_tokenized_bleu=False, fast_stat_sync=False, find_unused_parameters=False, fix_batches_to_gpus=False, fixed_validation_seed=None, force_anneal=None, fp16=False, fp16_init_scale=128, fp16_no_flatten_grads=False, fp16_scale_tolerance=0.0, fp16_scale_window=None, gen_subset='tmp', iter_decode_eos_penalty=0.0, iter_decode_force_max_iter=False, iter_decode_max_iter=10, iter_decode_with_beam=1, iter_decode_with_external_reranker=False, left_pad_source='True', left_pad_target='False', lenpen=1.0, lm_path=None, lm_weight=0.0, load_alignments=False, localsgd_frequency=3, log_format=None, log_interval=100, lr_scheduler='fixed', lr_shrink=0.1, match_source_len=False, max_len_a=0, max_len_b=200, max_source_positions=1024, max_target_positions=1024, max_tokens=8000, max_tokens_valid=8000, memory_efficient_bf16=False, memory_efficient_fp16=False, min_len=1, min_loss_scale=0.0001, model_overrides=\"{'encoder_embed_path': None, 'decoder_embed_path': None}\", model_parallel_size=1, nbest=1, no_beamable_mm=False, no_early_stop=False, no_progress_bar=False, no_repeat_ngram_size=0, no_seed_provided=False, nprocs_per_node=1, num_batch_buckets=0, num_shards=1, num_workers=1, optimizer=None, path='/content/drive/MyDrive/muss/experiments/fairseq/local_1631567843618/model.pt', pipeline_balance=None, pipeline_checkpoint='never', pipeline_chunks=0, pipeline_decoder_balance=None, pipeline_decoder_devices=None, pipeline_devices=None, pipeline_encoder_balance=None, pipeline_encoder_devices=None, pipeline_model_parallel=False, prefix_size=0, print_alignment=False, print_step=False, profile=False, quantization_config_path=None, quiet=False, remove_bpe=None, replace_unk=None, required_batch_size_multiple=8, required_seq_len_multiple=1, results_path=None, retain_dropout=False, retain_dropout_modules=None, retain_iter_history=False, sacrebleu=False, sampling=False, sampling_topk=-1, sampling_topp=-1.0, score_reference=False, scoring='bleu', seed=1, shard_id=0, skip_invalid_size_inputs_valid_test=True, slowmo_algorithm='LocalSGD', slowmo_momentum=None, source_lang=None, target_lang=None, task='translation', temperature=1.0, tensorboard_logdir=None, threshold_loss_scale=None, tokenizer=None, tpu=False, train_subset='train', truncate_source=False, unkpen=0, unnormalized=False, upsample_primary=1, user_dir=None, valid_subset='valid', validate_after_updates=0, validate_interval=1, validate_interval_updates=0, warmup_updates=0, zero_sharding='none')\n",
            "INFO:fairseq.tasks.translation:[complex] dictionary: 50264 types\n",
            "INFO:fairseq.tasks.translation:[simple] dictionary: 50264 types\n"
          ]
        },
        {
          "output_type": "stream",
          "name": "stdout",
          "text": [
            "| use checkpoint_paths [PosixPath('/content/drive/MyDrive/muss/experiments/fairseq/local_1631567843618/model.pt')]\n"
          ]
        },
        {
          "output_type": "stream",
          "name": "stderr",
          "text": [
            "INFO:fairseq.data.data_utils:loaded 2000 examples from: /tmp/tmpm2zjixx9/tmp.complex-simple.complex\n",
            "INFO:fairseq.data.data_utils:loaded 2000 examples from: /tmp/tmpm2zjixx9/tmp.complex-simple.simple\n",
            "INFO:fairseq.tasks.translation:/tmp/tmpm2zjixx9 tmp complex-simple 2000 examples\n",
            "INFO:fairseq_cli.generate:loading model(s) from /content/drive/MyDrive/muss/experiments/fairseq/local_1631567843618/model.pt\n",
            "INFO:fairseq_cli.generate:NOTE: hypothesis and token scores are output in base 2\n",
            "INFO:fairseq_cli.generate:Translated 2000 sentences (46532 tokens) in 111.1s (18.01 sentences/s, 418.98 tokens/s)\n",
            " 68%|██████▊   | 87/128 [3:39:49<1:46:26, 155.76s/it]"
          ]
        },
        {
          "output_type": "stream",
          "name": "stdout",
          "text": [
            "| IN find_best_parametrization_nevergrad: kwargs.get('generate_kwargs', {}) {}\n",
            "get ref from ( evaluate_simplifier) asset_valid_NER_ABCD\n",
            "test_set in evaluate_simplifier when get ori asset_valid\n",
            "encoder_json_path /content/drive/MyDrive/muss/resources/bart_bpe/encoder.json\n",
            "vocab_bpe_path /content/drive/MyDrive/muss/resources/bart_bpe/vocab.bpe\n"
          ]
        },
        {
          "output_type": "stream",
          "name": "stderr",
          "text": [
            "INFO:fairseq_cli.generate:Namespace(all_gather_list_size=16384, batch_size=None, batch_size_valid=None, beam=5, bf16=False, bpe=None, broadcast_buffers=False, bucket_cap_mb=25, checkpoint_shard_count=1, checkpoint_suffix='', constraints=None, cpu=False, criterion='cross_entropy', curriculum=0, data='/tmp/tmpahl8op57', data_buffer_size=10, dataset_impl='raw', ddp_backend='c10d', decoding_format=None, device_id=0, disable_validation=False, distributed_backend='nccl', distributed_init_method=None, distributed_no_spawn=False, distributed_port=-1, distributed_rank=0, distributed_world_size=1, distributed_wrapper='DDP', diverse_beam_groups=-1, diverse_beam_strength=0.5, diversity_rate=-1.0, empty_cache_freq=0, eval_bleu=False, eval_bleu_args=None, eval_bleu_detok='space', eval_bleu_detok_args=None, eval_bleu_print_samples=False, eval_bleu_remove_bpe=None, eval_tokenized_bleu=False, fast_stat_sync=False, find_unused_parameters=False, fix_batches_to_gpus=False, fixed_validation_seed=None, force_anneal=None, fp16=False, fp16_init_scale=128, fp16_no_flatten_grads=False, fp16_scale_tolerance=0.0, fp16_scale_window=None, gen_subset='tmp', iter_decode_eos_penalty=0.0, iter_decode_force_max_iter=False, iter_decode_max_iter=10, iter_decode_with_beam=1, iter_decode_with_external_reranker=False, left_pad_source='True', left_pad_target='False', lenpen=1.0, lm_path=None, lm_weight=0.0, load_alignments=False, localsgd_frequency=3, log_format=None, log_interval=100, lr_scheduler='fixed', lr_shrink=0.1, match_source_len=False, max_len_a=0, max_len_b=200, max_source_positions=1024, max_target_positions=1024, max_tokens=8000, max_tokens_valid=8000, memory_efficient_bf16=False, memory_efficient_fp16=False, min_len=1, min_loss_scale=0.0001, model_overrides=\"{'encoder_embed_path': None, 'decoder_embed_path': None}\", model_parallel_size=1, nbest=1, no_beamable_mm=False, no_early_stop=False, no_progress_bar=False, no_repeat_ngram_size=0, no_seed_provided=False, nprocs_per_node=1, num_batch_buckets=0, num_shards=1, num_workers=1, optimizer=None, path='/content/drive/MyDrive/muss/experiments/fairseq/local_1631567843618/model.pt', pipeline_balance=None, pipeline_checkpoint='never', pipeline_chunks=0, pipeline_decoder_balance=None, pipeline_decoder_devices=None, pipeline_devices=None, pipeline_encoder_balance=None, pipeline_encoder_devices=None, pipeline_model_parallel=False, prefix_size=0, print_alignment=False, print_step=False, profile=False, quantization_config_path=None, quiet=False, remove_bpe=None, replace_unk=None, required_batch_size_multiple=8, required_seq_len_multiple=1, results_path=None, retain_dropout=False, retain_dropout_modules=None, retain_iter_history=False, sacrebleu=False, sampling=False, sampling_topk=-1, sampling_topp=-1.0, score_reference=False, scoring='bleu', seed=1, shard_id=0, skip_invalid_size_inputs_valid_test=True, slowmo_algorithm='LocalSGD', slowmo_momentum=None, source_lang=None, target_lang=None, task='translation', temperature=1.0, tensorboard_logdir=None, threshold_loss_scale=None, tokenizer=None, tpu=False, train_subset='train', truncate_source=False, unkpen=0, unnormalized=False, upsample_primary=1, user_dir=None, valid_subset='valid', validate_after_updates=0, validate_interval=1, validate_interval_updates=0, warmup_updates=0, zero_sharding='none')\n",
            "INFO:fairseq.tasks.translation:[complex] dictionary: 50264 types\n",
            "INFO:fairseq.tasks.translation:[simple] dictionary: 50264 types\n"
          ]
        },
        {
          "output_type": "stream",
          "name": "stdout",
          "text": [
            "| use checkpoint_paths [PosixPath('/content/drive/MyDrive/muss/experiments/fairseq/local_1631567843618/model.pt')]\n"
          ]
        },
        {
          "output_type": "stream",
          "name": "stderr",
          "text": [
            "INFO:fairseq.data.data_utils:loaded 2000 examples from: /tmp/tmpahl8op57/tmp.complex-simple.complex\n",
            "INFO:fairseq.data.data_utils:loaded 2000 examples from: /tmp/tmpahl8op57/tmp.complex-simple.simple\n",
            "INFO:fairseq.tasks.translation:/tmp/tmpahl8op57 tmp complex-simple 2000 examples\n",
            "INFO:fairseq_cli.generate:loading model(s) from /content/drive/MyDrive/muss/experiments/fairseq/local_1631567843618/model.pt\n",
            "INFO:fairseq_cli.generate:NOTE: hypothesis and token scores are output in base 2\n",
            "INFO:fairseq_cli.generate:Translated 2000 sentences (46532 tokens) in 111.5s (17.93 sentences/s, 417.20 tokens/s)\n",
            " 69%|██████▉   | 88/128 [3:42:26<1:43:58, 155.95s/it]"
          ]
        },
        {
          "output_type": "stream",
          "name": "stdout",
          "text": [
            "| IN find_best_parametrization_nevergrad: kwargs.get('generate_kwargs', {}) {}\n",
            "get ref from ( evaluate_simplifier) asset_valid_NER_ABCD\n",
            "test_set in evaluate_simplifier when get ori asset_valid\n",
            "encoder_json_path /content/drive/MyDrive/muss/resources/bart_bpe/encoder.json\n",
            "vocab_bpe_path /content/drive/MyDrive/muss/resources/bart_bpe/vocab.bpe\n"
          ]
        },
        {
          "output_type": "stream",
          "name": "stderr",
          "text": [
            "INFO:fairseq_cli.generate:Namespace(all_gather_list_size=16384, batch_size=None, batch_size_valid=None, beam=5, bf16=False, bpe=None, broadcast_buffers=False, bucket_cap_mb=25, checkpoint_shard_count=1, checkpoint_suffix='', constraints=None, cpu=False, criterion='cross_entropy', curriculum=0, data='/tmp/tmp6rvlk84p', data_buffer_size=10, dataset_impl='raw', ddp_backend='c10d', decoding_format=None, device_id=0, disable_validation=False, distributed_backend='nccl', distributed_init_method=None, distributed_no_spawn=False, distributed_port=-1, distributed_rank=0, distributed_world_size=1, distributed_wrapper='DDP', diverse_beam_groups=-1, diverse_beam_strength=0.5, diversity_rate=-1.0, empty_cache_freq=0, eval_bleu=False, eval_bleu_args=None, eval_bleu_detok='space', eval_bleu_detok_args=None, eval_bleu_print_samples=False, eval_bleu_remove_bpe=None, eval_tokenized_bleu=False, fast_stat_sync=False, find_unused_parameters=False, fix_batches_to_gpus=False, fixed_validation_seed=None, force_anneal=None, fp16=False, fp16_init_scale=128, fp16_no_flatten_grads=False, fp16_scale_tolerance=0.0, fp16_scale_window=None, gen_subset='tmp', iter_decode_eos_penalty=0.0, iter_decode_force_max_iter=False, iter_decode_max_iter=10, iter_decode_with_beam=1, iter_decode_with_external_reranker=False, left_pad_source='True', left_pad_target='False', lenpen=1.0, lm_path=None, lm_weight=0.0, load_alignments=False, localsgd_frequency=3, log_format=None, log_interval=100, lr_scheduler='fixed', lr_shrink=0.1, match_source_len=False, max_len_a=0, max_len_b=200, max_source_positions=1024, max_target_positions=1024, max_tokens=8000, max_tokens_valid=8000, memory_efficient_bf16=False, memory_efficient_fp16=False, min_len=1, min_loss_scale=0.0001, model_overrides=\"{'encoder_embed_path': None, 'decoder_embed_path': None}\", model_parallel_size=1, nbest=1, no_beamable_mm=False, no_early_stop=False, no_progress_bar=False, no_repeat_ngram_size=0, no_seed_provided=False, nprocs_per_node=1, num_batch_buckets=0, num_shards=1, num_workers=1, optimizer=None, path='/content/drive/MyDrive/muss/experiments/fairseq/local_1631567843618/model.pt', pipeline_balance=None, pipeline_checkpoint='never', pipeline_chunks=0, pipeline_decoder_balance=None, pipeline_decoder_devices=None, pipeline_devices=None, pipeline_encoder_balance=None, pipeline_encoder_devices=None, pipeline_model_parallel=False, prefix_size=0, print_alignment=False, print_step=False, profile=False, quantization_config_path=None, quiet=False, remove_bpe=None, replace_unk=None, required_batch_size_multiple=8, required_seq_len_multiple=1, results_path=None, retain_dropout=False, retain_dropout_modules=None, retain_iter_history=False, sacrebleu=False, sampling=False, sampling_topk=-1, sampling_topp=-1.0, score_reference=False, scoring='bleu', seed=1, shard_id=0, skip_invalid_size_inputs_valid_test=True, slowmo_algorithm='LocalSGD', slowmo_momentum=None, source_lang=None, target_lang=None, task='translation', temperature=1.0, tensorboard_logdir=None, threshold_loss_scale=None, tokenizer=None, tpu=False, train_subset='train', truncate_source=False, unkpen=0, unnormalized=False, upsample_primary=1, user_dir=None, valid_subset='valid', validate_after_updates=0, validate_interval=1, validate_interval_updates=0, warmup_updates=0, zero_sharding='none')\n",
            "INFO:fairseq.tasks.translation:[complex] dictionary: 50264 types\n",
            "INFO:fairseq.tasks.translation:[simple] dictionary: 50264 types\n"
          ]
        },
        {
          "output_type": "stream",
          "name": "stdout",
          "text": [
            "| use checkpoint_paths [PosixPath('/content/drive/MyDrive/muss/experiments/fairseq/local_1631567843618/model.pt')]\n"
          ]
        },
        {
          "output_type": "stream",
          "name": "stderr",
          "text": [
            "INFO:fairseq.data.data_utils:loaded 2000 examples from: /tmp/tmp6rvlk84p/tmp.complex-simple.complex\n",
            "INFO:fairseq.data.data_utils:loaded 2000 examples from: /tmp/tmp6rvlk84p/tmp.complex-simple.simple\n",
            "INFO:fairseq.tasks.translation:/tmp/tmp6rvlk84p tmp complex-simple 2000 examples\n",
            "INFO:fairseq_cli.generate:loading model(s) from /content/drive/MyDrive/muss/experiments/fairseq/local_1631567843618/model.pt\n",
            "INFO:fairseq_cli.generate:NOTE: hypothesis and token scores are output in base 2\n",
            "INFO:fairseq_cli.generate:Translated 2000 sentences (48384 tokens) in 115.0s (17.38 sentences/s, 420.56 tokens/s)\n",
            " 70%|██████▉   | 89/128 [3:45:06<1:42:13, 157.27s/it]"
          ]
        },
        {
          "output_type": "stream",
          "name": "stdout",
          "text": [
            "| IN find_best_parametrization_nevergrad: kwargs.get('generate_kwargs', {}) {}\n",
            "get ref from ( evaluate_simplifier) asset_valid_NER_ABCD\n",
            "test_set in evaluate_simplifier when get ori asset_valid\n",
            "encoder_json_path /content/drive/MyDrive/muss/resources/bart_bpe/encoder.json\n",
            "vocab_bpe_path /content/drive/MyDrive/muss/resources/bart_bpe/vocab.bpe\n"
          ]
        },
        {
          "output_type": "stream",
          "name": "stderr",
          "text": [
            "INFO:fairseq_cli.generate:Namespace(all_gather_list_size=16384, batch_size=None, batch_size_valid=None, beam=5, bf16=False, bpe=None, broadcast_buffers=False, bucket_cap_mb=25, checkpoint_shard_count=1, checkpoint_suffix='', constraints=None, cpu=False, criterion='cross_entropy', curriculum=0, data='/tmp/tmp89y28ayk', data_buffer_size=10, dataset_impl='raw', ddp_backend='c10d', decoding_format=None, device_id=0, disable_validation=False, distributed_backend='nccl', distributed_init_method=None, distributed_no_spawn=False, distributed_port=-1, distributed_rank=0, distributed_world_size=1, distributed_wrapper='DDP', diverse_beam_groups=-1, diverse_beam_strength=0.5, diversity_rate=-1.0, empty_cache_freq=0, eval_bleu=False, eval_bleu_args=None, eval_bleu_detok='space', eval_bleu_detok_args=None, eval_bleu_print_samples=False, eval_bleu_remove_bpe=None, eval_tokenized_bleu=False, fast_stat_sync=False, find_unused_parameters=False, fix_batches_to_gpus=False, fixed_validation_seed=None, force_anneal=None, fp16=False, fp16_init_scale=128, fp16_no_flatten_grads=False, fp16_scale_tolerance=0.0, fp16_scale_window=None, gen_subset='tmp', iter_decode_eos_penalty=0.0, iter_decode_force_max_iter=False, iter_decode_max_iter=10, iter_decode_with_beam=1, iter_decode_with_external_reranker=False, left_pad_source='True', left_pad_target='False', lenpen=1.0, lm_path=None, lm_weight=0.0, load_alignments=False, localsgd_frequency=3, log_format=None, log_interval=100, lr_scheduler='fixed', lr_shrink=0.1, match_source_len=False, max_len_a=0, max_len_b=200, max_source_positions=1024, max_target_positions=1024, max_tokens=8000, max_tokens_valid=8000, memory_efficient_bf16=False, memory_efficient_fp16=False, min_len=1, min_loss_scale=0.0001, model_overrides=\"{'encoder_embed_path': None, 'decoder_embed_path': None}\", model_parallel_size=1, nbest=1, no_beamable_mm=False, no_early_stop=False, no_progress_bar=False, no_repeat_ngram_size=0, no_seed_provided=False, nprocs_per_node=1, num_batch_buckets=0, num_shards=1, num_workers=1, optimizer=None, path='/content/drive/MyDrive/muss/experiments/fairseq/local_1631567843618/model.pt', pipeline_balance=None, pipeline_checkpoint='never', pipeline_chunks=0, pipeline_decoder_balance=None, pipeline_decoder_devices=None, pipeline_devices=None, pipeline_encoder_balance=None, pipeline_encoder_devices=None, pipeline_model_parallel=False, prefix_size=0, print_alignment=False, print_step=False, profile=False, quantization_config_path=None, quiet=False, remove_bpe=None, replace_unk=None, required_batch_size_multiple=8, required_seq_len_multiple=1, results_path=None, retain_dropout=False, retain_dropout_modules=None, retain_iter_history=False, sacrebleu=False, sampling=False, sampling_topk=-1, sampling_topp=-1.0, score_reference=False, scoring='bleu', seed=1, shard_id=0, skip_invalid_size_inputs_valid_test=True, slowmo_algorithm='LocalSGD', slowmo_momentum=None, source_lang=None, target_lang=None, task='translation', temperature=1.0, tensorboard_logdir=None, threshold_loss_scale=None, tokenizer=None, tpu=False, train_subset='train', truncate_source=False, unkpen=0, unnormalized=False, upsample_primary=1, user_dir=None, valid_subset='valid', validate_after_updates=0, validate_interval=1, validate_interval_updates=0, warmup_updates=0, zero_sharding='none')\n",
            "INFO:fairseq.tasks.translation:[complex] dictionary: 50264 types\n",
            "INFO:fairseq.tasks.translation:[simple] dictionary: 50264 types\n"
          ]
        },
        {
          "output_type": "stream",
          "name": "stdout",
          "text": [
            "| use checkpoint_paths [PosixPath('/content/drive/MyDrive/muss/experiments/fairseq/local_1631567843618/model.pt')]\n"
          ]
        },
        {
          "output_type": "stream",
          "name": "stderr",
          "text": [
            "INFO:fairseq.data.data_utils:loaded 2000 examples from: /tmp/tmp89y28ayk/tmp.complex-simple.complex\n",
            "INFO:fairseq.data.data_utils:loaded 2000 examples from: /tmp/tmp89y28ayk/tmp.complex-simple.simple\n",
            "INFO:fairseq.tasks.translation:/tmp/tmp89y28ayk tmp complex-simple 2000 examples\n",
            "INFO:fairseq_cli.generate:loading model(s) from /content/drive/MyDrive/muss/experiments/fairseq/local_1631567843618/model.pt\n",
            "INFO:fairseq_cli.generate:NOTE: hypothesis and token scores are output in base 2\n",
            "INFO:fairseq_cli.generate:Translated 2000 sentences (46532 tokens) in 111.4s (17.96 sentences/s, 417.82 tokens/s)\n",
            " 70%|███████   | 90/128 [3:47:42<1:39:18, 156.80s/it]"
          ]
        },
        {
          "output_type": "stream",
          "name": "stdout",
          "text": [
            "| IN find_best_parametrization_nevergrad: kwargs.get('generate_kwargs', {}) {}\n",
            "get ref from ( evaluate_simplifier) asset_valid_NER_ABCD\n",
            "test_set in evaluate_simplifier when get ori asset_valid\n",
            "encoder_json_path /content/drive/MyDrive/muss/resources/bart_bpe/encoder.json\n",
            "vocab_bpe_path /content/drive/MyDrive/muss/resources/bart_bpe/vocab.bpe\n"
          ]
        },
        {
          "output_type": "stream",
          "name": "stderr",
          "text": [
            "INFO:fairseq_cli.generate:Namespace(all_gather_list_size=16384, batch_size=None, batch_size_valid=None, beam=5, bf16=False, bpe=None, broadcast_buffers=False, bucket_cap_mb=25, checkpoint_shard_count=1, checkpoint_suffix='', constraints=None, cpu=False, criterion='cross_entropy', curriculum=0, data='/tmp/tmpcndfur4w', data_buffer_size=10, dataset_impl='raw', ddp_backend='c10d', decoding_format=None, device_id=0, disable_validation=False, distributed_backend='nccl', distributed_init_method=None, distributed_no_spawn=False, distributed_port=-1, distributed_rank=0, distributed_world_size=1, distributed_wrapper='DDP', diverse_beam_groups=-1, diverse_beam_strength=0.5, diversity_rate=-1.0, empty_cache_freq=0, eval_bleu=False, eval_bleu_args=None, eval_bleu_detok='space', eval_bleu_detok_args=None, eval_bleu_print_samples=False, eval_bleu_remove_bpe=None, eval_tokenized_bleu=False, fast_stat_sync=False, find_unused_parameters=False, fix_batches_to_gpus=False, fixed_validation_seed=None, force_anneal=None, fp16=False, fp16_init_scale=128, fp16_no_flatten_grads=False, fp16_scale_tolerance=0.0, fp16_scale_window=None, gen_subset='tmp', iter_decode_eos_penalty=0.0, iter_decode_force_max_iter=False, iter_decode_max_iter=10, iter_decode_with_beam=1, iter_decode_with_external_reranker=False, left_pad_source='True', left_pad_target='False', lenpen=1.0, lm_path=None, lm_weight=0.0, load_alignments=False, localsgd_frequency=3, log_format=None, log_interval=100, lr_scheduler='fixed', lr_shrink=0.1, match_source_len=False, max_len_a=0, max_len_b=200, max_source_positions=1024, max_target_positions=1024, max_tokens=8000, max_tokens_valid=8000, memory_efficient_bf16=False, memory_efficient_fp16=False, min_len=1, min_loss_scale=0.0001, model_overrides=\"{'encoder_embed_path': None, 'decoder_embed_path': None}\", model_parallel_size=1, nbest=1, no_beamable_mm=False, no_early_stop=False, no_progress_bar=False, no_repeat_ngram_size=0, no_seed_provided=False, nprocs_per_node=1, num_batch_buckets=0, num_shards=1, num_workers=1, optimizer=None, path='/content/drive/MyDrive/muss/experiments/fairseq/local_1631567843618/model.pt', pipeline_balance=None, pipeline_checkpoint='never', pipeline_chunks=0, pipeline_decoder_balance=None, pipeline_decoder_devices=None, pipeline_devices=None, pipeline_encoder_balance=None, pipeline_encoder_devices=None, pipeline_model_parallel=False, prefix_size=0, print_alignment=False, print_step=False, profile=False, quantization_config_path=None, quiet=False, remove_bpe=None, replace_unk=None, required_batch_size_multiple=8, required_seq_len_multiple=1, results_path=None, retain_dropout=False, retain_dropout_modules=None, retain_iter_history=False, sacrebleu=False, sampling=False, sampling_topk=-1, sampling_topp=-1.0, score_reference=False, scoring='bleu', seed=1, shard_id=0, skip_invalid_size_inputs_valid_test=True, slowmo_algorithm='LocalSGD', slowmo_momentum=None, source_lang=None, target_lang=None, task='translation', temperature=1.0, tensorboard_logdir=None, threshold_loss_scale=None, tokenizer=None, tpu=False, train_subset='train', truncate_source=False, unkpen=0, unnormalized=False, upsample_primary=1, user_dir=None, valid_subset='valid', validate_after_updates=0, validate_interval=1, validate_interval_updates=0, warmup_updates=0, zero_sharding='none')\n",
            "INFO:fairseq.tasks.translation:[complex] dictionary: 50264 types\n",
            "INFO:fairseq.tasks.translation:[simple] dictionary: 50264 types\n"
          ]
        },
        {
          "output_type": "stream",
          "name": "stdout",
          "text": [
            "| use checkpoint_paths [PosixPath('/content/drive/MyDrive/muss/experiments/fairseq/local_1631567843618/model.pt')]\n"
          ]
        },
        {
          "output_type": "stream",
          "name": "stderr",
          "text": [
            "INFO:fairseq.data.data_utils:loaded 2000 examples from: /tmp/tmpcndfur4w/tmp.complex-simple.complex\n",
            "INFO:fairseq.data.data_utils:loaded 2000 examples from: /tmp/tmpcndfur4w/tmp.complex-simple.simple\n",
            "INFO:fairseq.tasks.translation:/tmp/tmpcndfur4w tmp complex-simple 2000 examples\n",
            "INFO:fairseq_cli.generate:loading model(s) from /content/drive/MyDrive/muss/experiments/fairseq/local_1631567843618/model.pt\n",
            "INFO:fairseq_cli.generate:NOTE: hypothesis and token scores are output in base 2\n",
            "INFO:fairseq_cli.generate:Translated 2000 sentences (48129 tokens) in 114.7s (17.43 sentences/s, 419.52 tokens/s)\n",
            " 71%|███████   | 91/128 [3:50:21<1:37:05, 157.44s/it]"
          ]
        },
        {
          "output_type": "stream",
          "name": "stdout",
          "text": [
            "| IN find_best_parametrization_nevergrad: kwargs.get('generate_kwargs', {}) {}\n",
            "get ref from ( evaluate_simplifier) asset_valid_NER_ABCD\n",
            "test_set in evaluate_simplifier when get ori asset_valid\n",
            "encoder_json_path /content/drive/MyDrive/muss/resources/bart_bpe/encoder.json\n",
            "vocab_bpe_path /content/drive/MyDrive/muss/resources/bart_bpe/vocab.bpe\n"
          ]
        },
        {
          "output_type": "stream",
          "name": "stderr",
          "text": [
            "INFO:fairseq_cli.generate:Namespace(all_gather_list_size=16384, batch_size=None, batch_size_valid=None, beam=5, bf16=False, bpe=None, broadcast_buffers=False, bucket_cap_mb=25, checkpoint_shard_count=1, checkpoint_suffix='', constraints=None, cpu=False, criterion='cross_entropy', curriculum=0, data='/tmp/tmpj8j66913', data_buffer_size=10, dataset_impl='raw', ddp_backend='c10d', decoding_format=None, device_id=0, disable_validation=False, distributed_backend='nccl', distributed_init_method=None, distributed_no_spawn=False, distributed_port=-1, distributed_rank=0, distributed_world_size=1, distributed_wrapper='DDP', diverse_beam_groups=-1, diverse_beam_strength=0.5, diversity_rate=-1.0, empty_cache_freq=0, eval_bleu=False, eval_bleu_args=None, eval_bleu_detok='space', eval_bleu_detok_args=None, eval_bleu_print_samples=False, eval_bleu_remove_bpe=None, eval_tokenized_bleu=False, fast_stat_sync=False, find_unused_parameters=False, fix_batches_to_gpus=False, fixed_validation_seed=None, force_anneal=None, fp16=False, fp16_init_scale=128, fp16_no_flatten_grads=False, fp16_scale_tolerance=0.0, fp16_scale_window=None, gen_subset='tmp', iter_decode_eos_penalty=0.0, iter_decode_force_max_iter=False, iter_decode_max_iter=10, iter_decode_with_beam=1, iter_decode_with_external_reranker=False, left_pad_source='True', left_pad_target='False', lenpen=1.0, lm_path=None, lm_weight=0.0, load_alignments=False, localsgd_frequency=3, log_format=None, log_interval=100, lr_scheduler='fixed', lr_shrink=0.1, match_source_len=False, max_len_a=0, max_len_b=200, max_source_positions=1024, max_target_positions=1024, max_tokens=8000, max_tokens_valid=8000, memory_efficient_bf16=False, memory_efficient_fp16=False, min_len=1, min_loss_scale=0.0001, model_overrides=\"{'encoder_embed_path': None, 'decoder_embed_path': None}\", model_parallel_size=1, nbest=1, no_beamable_mm=False, no_early_stop=False, no_progress_bar=False, no_repeat_ngram_size=0, no_seed_provided=False, nprocs_per_node=1, num_batch_buckets=0, num_shards=1, num_workers=1, optimizer=None, path='/content/drive/MyDrive/muss/experiments/fairseq/local_1631567843618/model.pt', pipeline_balance=None, pipeline_checkpoint='never', pipeline_chunks=0, pipeline_decoder_balance=None, pipeline_decoder_devices=None, pipeline_devices=None, pipeline_encoder_balance=None, pipeline_encoder_devices=None, pipeline_model_parallel=False, prefix_size=0, print_alignment=False, print_step=False, profile=False, quantization_config_path=None, quiet=False, remove_bpe=None, replace_unk=None, required_batch_size_multiple=8, required_seq_len_multiple=1, results_path=None, retain_dropout=False, retain_dropout_modules=None, retain_iter_history=False, sacrebleu=False, sampling=False, sampling_topk=-1, sampling_topp=-1.0, score_reference=False, scoring='bleu', seed=1, shard_id=0, skip_invalid_size_inputs_valid_test=True, slowmo_algorithm='LocalSGD', slowmo_momentum=None, source_lang=None, target_lang=None, task='translation', temperature=1.0, tensorboard_logdir=None, threshold_loss_scale=None, tokenizer=None, tpu=False, train_subset='train', truncate_source=False, unkpen=0, unnormalized=False, upsample_primary=1, user_dir=None, valid_subset='valid', validate_after_updates=0, validate_interval=1, validate_interval_updates=0, warmup_updates=0, zero_sharding='none')\n",
            "INFO:fairseq.tasks.translation:[complex] dictionary: 50264 types\n",
            "INFO:fairseq.tasks.translation:[simple] dictionary: 50264 types\n"
          ]
        },
        {
          "output_type": "stream",
          "name": "stdout",
          "text": [
            "| use checkpoint_paths [PosixPath('/content/drive/MyDrive/muss/experiments/fairseq/local_1631567843618/model.pt')]\n"
          ]
        },
        {
          "output_type": "stream",
          "name": "stderr",
          "text": [
            "INFO:fairseq.data.data_utils:loaded 2000 examples from: /tmp/tmpj8j66913/tmp.complex-simple.complex\n",
            "INFO:fairseq.data.data_utils:loaded 2000 examples from: /tmp/tmpj8j66913/tmp.complex-simple.simple\n",
            "INFO:fairseq.tasks.translation:/tmp/tmpj8j66913 tmp complex-simple 2000 examples\n",
            "INFO:fairseq_cli.generate:loading model(s) from /content/drive/MyDrive/muss/experiments/fairseq/local_1631567843618/model.pt\n",
            "INFO:fairseq_cli.generate:NOTE: hypothesis and token scores are output in base 2\n",
            "INFO:fairseq_cli.generate:Translated 2000 sentences (48384 tokens) in 115.0s (17.39 sentences/s, 420.79 tokens/s)\n",
            " 72%|███████▏  | 92/128 [3:53:00<1:34:49, 158.03s/it]"
          ]
        },
        {
          "output_type": "stream",
          "name": "stdout",
          "text": [
            "| IN find_best_parametrization_nevergrad: kwargs.get('generate_kwargs', {}) {}\n",
            "get ref from ( evaluate_simplifier) asset_valid_NER_ABCD\n",
            "test_set in evaluate_simplifier when get ori asset_valid\n",
            "encoder_json_path /content/drive/MyDrive/muss/resources/bart_bpe/encoder.json\n",
            "vocab_bpe_path /content/drive/MyDrive/muss/resources/bart_bpe/vocab.bpe\n"
          ]
        },
        {
          "output_type": "stream",
          "name": "stderr",
          "text": [
            "INFO:fairseq_cli.generate:Namespace(all_gather_list_size=16384, batch_size=None, batch_size_valid=None, beam=5, bf16=False, bpe=None, broadcast_buffers=False, bucket_cap_mb=25, checkpoint_shard_count=1, checkpoint_suffix='', constraints=None, cpu=False, criterion='cross_entropy', curriculum=0, data='/tmp/tmplhvgjth9', data_buffer_size=10, dataset_impl='raw', ddp_backend='c10d', decoding_format=None, device_id=0, disable_validation=False, distributed_backend='nccl', distributed_init_method=None, distributed_no_spawn=False, distributed_port=-1, distributed_rank=0, distributed_world_size=1, distributed_wrapper='DDP', diverse_beam_groups=-1, diverse_beam_strength=0.5, diversity_rate=-1.0, empty_cache_freq=0, eval_bleu=False, eval_bleu_args=None, eval_bleu_detok='space', eval_bleu_detok_args=None, eval_bleu_print_samples=False, eval_bleu_remove_bpe=None, eval_tokenized_bleu=False, fast_stat_sync=False, find_unused_parameters=False, fix_batches_to_gpus=False, fixed_validation_seed=None, force_anneal=None, fp16=False, fp16_init_scale=128, fp16_no_flatten_grads=False, fp16_scale_tolerance=0.0, fp16_scale_window=None, gen_subset='tmp', iter_decode_eos_penalty=0.0, iter_decode_force_max_iter=False, iter_decode_max_iter=10, iter_decode_with_beam=1, iter_decode_with_external_reranker=False, left_pad_source='True', left_pad_target='False', lenpen=1.0, lm_path=None, lm_weight=0.0, load_alignments=False, localsgd_frequency=3, log_format=None, log_interval=100, lr_scheduler='fixed', lr_shrink=0.1, match_source_len=False, max_len_a=0, max_len_b=200, max_source_positions=1024, max_target_positions=1024, max_tokens=8000, max_tokens_valid=8000, memory_efficient_bf16=False, memory_efficient_fp16=False, min_len=1, min_loss_scale=0.0001, model_overrides=\"{'encoder_embed_path': None, 'decoder_embed_path': None}\", model_parallel_size=1, nbest=1, no_beamable_mm=False, no_early_stop=False, no_progress_bar=False, no_repeat_ngram_size=0, no_seed_provided=False, nprocs_per_node=1, num_batch_buckets=0, num_shards=1, num_workers=1, optimizer=None, path='/content/drive/MyDrive/muss/experiments/fairseq/local_1631567843618/model.pt', pipeline_balance=None, pipeline_checkpoint='never', pipeline_chunks=0, pipeline_decoder_balance=None, pipeline_decoder_devices=None, pipeline_devices=None, pipeline_encoder_balance=None, pipeline_encoder_devices=None, pipeline_model_parallel=False, prefix_size=0, print_alignment=False, print_step=False, profile=False, quantization_config_path=None, quiet=False, remove_bpe=None, replace_unk=None, required_batch_size_multiple=8, required_seq_len_multiple=1, results_path=None, retain_dropout=False, retain_dropout_modules=None, retain_iter_history=False, sacrebleu=False, sampling=False, sampling_topk=-1, sampling_topp=-1.0, score_reference=False, scoring='bleu', seed=1, shard_id=0, skip_invalid_size_inputs_valid_test=True, slowmo_algorithm='LocalSGD', slowmo_momentum=None, source_lang=None, target_lang=None, task='translation', temperature=1.0, tensorboard_logdir=None, threshold_loss_scale=None, tokenizer=None, tpu=False, train_subset='train', truncate_source=False, unkpen=0, unnormalized=False, upsample_primary=1, user_dir=None, valid_subset='valid', validate_after_updates=0, validate_interval=1, validate_interval_updates=0, warmup_updates=0, zero_sharding='none')\n",
            "INFO:fairseq.tasks.translation:[complex] dictionary: 50264 types\n",
            "INFO:fairseq.tasks.translation:[simple] dictionary: 50264 types\n"
          ]
        },
        {
          "output_type": "stream",
          "name": "stdout",
          "text": [
            "| use checkpoint_paths [PosixPath('/content/drive/MyDrive/muss/experiments/fairseq/local_1631567843618/model.pt')]\n"
          ]
        },
        {
          "output_type": "stream",
          "name": "stderr",
          "text": [
            "INFO:fairseq.data.data_utils:loaded 2000 examples from: /tmp/tmplhvgjth9/tmp.complex-simple.complex\n",
            "INFO:fairseq.data.data_utils:loaded 2000 examples from: /tmp/tmplhvgjth9/tmp.complex-simple.simple\n",
            "INFO:fairseq.tasks.translation:/tmp/tmplhvgjth9 tmp complex-simple 2000 examples\n",
            "INFO:fairseq_cli.generate:loading model(s) from /content/drive/MyDrive/muss/experiments/fairseq/local_1631567843618/model.pt\n",
            "INFO:fairseq_cli.generate:NOTE: hypothesis and token scores are output in base 2\n",
            "INFO:fairseq_cli.generate:Translated 2000 sentences (48444 tokens) in 115.5s (17.32 sentences/s, 419.54 tokens/s)\n",
            " 73%|███████▎  | 93/128 [3:55:41<1:32:38, 158.82s/it]"
          ]
        },
        {
          "output_type": "stream",
          "name": "stdout",
          "text": [
            "| IN find_best_parametrization_nevergrad: kwargs.get('generate_kwargs', {}) {}\n",
            "get ref from ( evaluate_simplifier) asset_valid_NER_ABCD\n",
            "test_set in evaluate_simplifier when get ori asset_valid\n",
            "encoder_json_path /content/drive/MyDrive/muss/resources/bart_bpe/encoder.json\n",
            "vocab_bpe_path /content/drive/MyDrive/muss/resources/bart_bpe/vocab.bpe\n"
          ]
        },
        {
          "output_type": "stream",
          "name": "stderr",
          "text": [
            "INFO:fairseq_cli.generate:Namespace(all_gather_list_size=16384, batch_size=None, batch_size_valid=None, beam=5, bf16=False, bpe=None, broadcast_buffers=False, bucket_cap_mb=25, checkpoint_shard_count=1, checkpoint_suffix='', constraints=None, cpu=False, criterion='cross_entropy', curriculum=0, data='/tmp/tmpji6g4n8y', data_buffer_size=10, dataset_impl='raw', ddp_backend='c10d', decoding_format=None, device_id=0, disable_validation=False, distributed_backend='nccl', distributed_init_method=None, distributed_no_spawn=False, distributed_port=-1, distributed_rank=0, distributed_world_size=1, distributed_wrapper='DDP', diverse_beam_groups=-1, diverse_beam_strength=0.5, diversity_rate=-1.0, empty_cache_freq=0, eval_bleu=False, eval_bleu_args=None, eval_bleu_detok='space', eval_bleu_detok_args=None, eval_bleu_print_samples=False, eval_bleu_remove_bpe=None, eval_tokenized_bleu=False, fast_stat_sync=False, find_unused_parameters=False, fix_batches_to_gpus=False, fixed_validation_seed=None, force_anneal=None, fp16=False, fp16_init_scale=128, fp16_no_flatten_grads=False, fp16_scale_tolerance=0.0, fp16_scale_window=None, gen_subset='tmp', iter_decode_eos_penalty=0.0, iter_decode_force_max_iter=False, iter_decode_max_iter=10, iter_decode_with_beam=1, iter_decode_with_external_reranker=False, left_pad_source='True', left_pad_target='False', lenpen=1.0, lm_path=None, lm_weight=0.0, load_alignments=False, localsgd_frequency=3, log_format=None, log_interval=100, lr_scheduler='fixed', lr_shrink=0.1, match_source_len=False, max_len_a=0, max_len_b=200, max_source_positions=1024, max_target_positions=1024, max_tokens=8000, max_tokens_valid=8000, memory_efficient_bf16=False, memory_efficient_fp16=False, min_len=1, min_loss_scale=0.0001, model_overrides=\"{'encoder_embed_path': None, 'decoder_embed_path': None}\", model_parallel_size=1, nbest=1, no_beamable_mm=False, no_early_stop=False, no_progress_bar=False, no_repeat_ngram_size=0, no_seed_provided=False, nprocs_per_node=1, num_batch_buckets=0, num_shards=1, num_workers=1, optimizer=None, path='/content/drive/MyDrive/muss/experiments/fairseq/local_1631567843618/model.pt', pipeline_balance=None, pipeline_checkpoint='never', pipeline_chunks=0, pipeline_decoder_balance=None, pipeline_decoder_devices=None, pipeline_devices=None, pipeline_encoder_balance=None, pipeline_encoder_devices=None, pipeline_model_parallel=False, prefix_size=0, print_alignment=False, print_step=False, profile=False, quantization_config_path=None, quiet=False, remove_bpe=None, replace_unk=None, required_batch_size_multiple=8, required_seq_len_multiple=1, results_path=None, retain_dropout=False, retain_dropout_modules=None, retain_iter_history=False, sacrebleu=False, sampling=False, sampling_topk=-1, sampling_topp=-1.0, score_reference=False, scoring='bleu', seed=1, shard_id=0, skip_invalid_size_inputs_valid_test=True, slowmo_algorithm='LocalSGD', slowmo_momentum=None, source_lang=None, target_lang=None, task='translation', temperature=1.0, tensorboard_logdir=None, threshold_loss_scale=None, tokenizer=None, tpu=False, train_subset='train', truncate_source=False, unkpen=0, unnormalized=False, upsample_primary=1, user_dir=None, valid_subset='valid', validate_after_updates=0, validate_interval=1, validate_interval_updates=0, warmup_updates=0, zero_sharding='none')\n",
            "INFO:fairseq.tasks.translation:[complex] dictionary: 50264 types\n",
            "INFO:fairseq.tasks.translation:[simple] dictionary: 50264 types\n"
          ]
        },
        {
          "output_type": "stream",
          "name": "stdout",
          "text": [
            "| use checkpoint_paths [PosixPath('/content/drive/MyDrive/muss/experiments/fairseq/local_1631567843618/model.pt')]\n"
          ]
        },
        {
          "output_type": "stream",
          "name": "stderr",
          "text": [
            "INFO:fairseq.data.data_utils:loaded 2000 examples from: /tmp/tmpji6g4n8y/tmp.complex-simple.complex\n",
            "INFO:fairseq.data.data_utils:loaded 2000 examples from: /tmp/tmpji6g4n8y/tmp.complex-simple.simple\n",
            "INFO:fairseq.tasks.translation:/tmp/tmpji6g4n8y tmp complex-simple 2000 examples\n",
            "INFO:fairseq_cli.generate:loading model(s) from /content/drive/MyDrive/muss/experiments/fairseq/local_1631567843618/model.pt\n",
            "INFO:fairseq_cli.generate:NOTE: hypothesis and token scores are output in base 2\n",
            "INFO:fairseq_cli.generate:Translated 2000 sentences (48444 tokens) in 115.2s (17.36 sentences/s, 420.60 tokens/s)\n",
            " 73%|███████▎  | 94/128 [3:58:21<1:30:10, 159.13s/it]"
          ]
        },
        {
          "output_type": "stream",
          "name": "stdout",
          "text": [
            "| IN find_best_parametrization_nevergrad: kwargs.get('generate_kwargs', {}) {}\n",
            "get ref from ( evaluate_simplifier) asset_valid_NER_ABCD\n",
            "test_set in evaluate_simplifier when get ori asset_valid\n",
            "encoder_json_path /content/drive/MyDrive/muss/resources/bart_bpe/encoder.json\n",
            "vocab_bpe_path /content/drive/MyDrive/muss/resources/bart_bpe/vocab.bpe\n"
          ]
        },
        {
          "output_type": "stream",
          "name": "stderr",
          "text": [
            "INFO:fairseq_cli.generate:Namespace(all_gather_list_size=16384, batch_size=None, batch_size_valid=None, beam=5, bf16=False, bpe=None, broadcast_buffers=False, bucket_cap_mb=25, checkpoint_shard_count=1, checkpoint_suffix='', constraints=None, cpu=False, criterion='cross_entropy', curriculum=0, data='/tmp/tmp_3xbux7l', data_buffer_size=10, dataset_impl='raw', ddp_backend='c10d', decoding_format=None, device_id=0, disable_validation=False, distributed_backend='nccl', distributed_init_method=None, distributed_no_spawn=False, distributed_port=-1, distributed_rank=0, distributed_world_size=1, distributed_wrapper='DDP', diverse_beam_groups=-1, diverse_beam_strength=0.5, diversity_rate=-1.0, empty_cache_freq=0, eval_bleu=False, eval_bleu_args=None, eval_bleu_detok='space', eval_bleu_detok_args=None, eval_bleu_print_samples=False, eval_bleu_remove_bpe=None, eval_tokenized_bleu=False, fast_stat_sync=False, find_unused_parameters=False, fix_batches_to_gpus=False, fixed_validation_seed=None, force_anneal=None, fp16=False, fp16_init_scale=128, fp16_no_flatten_grads=False, fp16_scale_tolerance=0.0, fp16_scale_window=None, gen_subset='tmp', iter_decode_eos_penalty=0.0, iter_decode_force_max_iter=False, iter_decode_max_iter=10, iter_decode_with_beam=1, iter_decode_with_external_reranker=False, left_pad_source='True', left_pad_target='False', lenpen=1.0, lm_path=None, lm_weight=0.0, load_alignments=False, localsgd_frequency=3, log_format=None, log_interval=100, lr_scheduler='fixed', lr_shrink=0.1, match_source_len=False, max_len_a=0, max_len_b=200, max_source_positions=1024, max_target_positions=1024, max_tokens=8000, max_tokens_valid=8000, memory_efficient_bf16=False, memory_efficient_fp16=False, min_len=1, min_loss_scale=0.0001, model_overrides=\"{'encoder_embed_path': None, 'decoder_embed_path': None}\", model_parallel_size=1, nbest=1, no_beamable_mm=False, no_early_stop=False, no_progress_bar=False, no_repeat_ngram_size=0, no_seed_provided=False, nprocs_per_node=1, num_batch_buckets=0, num_shards=1, num_workers=1, optimizer=None, path='/content/drive/MyDrive/muss/experiments/fairseq/local_1631567843618/model.pt', pipeline_balance=None, pipeline_checkpoint='never', pipeline_chunks=0, pipeline_decoder_balance=None, pipeline_decoder_devices=None, pipeline_devices=None, pipeline_encoder_balance=None, pipeline_encoder_devices=None, pipeline_model_parallel=False, prefix_size=0, print_alignment=False, print_step=False, profile=False, quantization_config_path=None, quiet=False, remove_bpe=None, replace_unk=None, required_batch_size_multiple=8, required_seq_len_multiple=1, results_path=None, retain_dropout=False, retain_dropout_modules=None, retain_iter_history=False, sacrebleu=False, sampling=False, sampling_topk=-1, sampling_topp=-1.0, score_reference=False, scoring='bleu', seed=1, shard_id=0, skip_invalid_size_inputs_valid_test=True, slowmo_algorithm='LocalSGD', slowmo_momentum=None, source_lang=None, target_lang=None, task='translation', temperature=1.0, tensorboard_logdir=None, threshold_loss_scale=None, tokenizer=None, tpu=False, train_subset='train', truncate_source=False, unkpen=0, unnormalized=False, upsample_primary=1, user_dir=None, valid_subset='valid', validate_after_updates=0, validate_interval=1, validate_interval_updates=0, warmup_updates=0, zero_sharding='none')\n",
            "INFO:fairseq.tasks.translation:[complex] dictionary: 50264 types\n",
            "INFO:fairseq.tasks.translation:[simple] dictionary: 50264 types\n"
          ]
        },
        {
          "output_type": "stream",
          "name": "stdout",
          "text": [
            "| use checkpoint_paths [PosixPath('/content/drive/MyDrive/muss/experiments/fairseq/local_1631567843618/model.pt')]\n"
          ]
        },
        {
          "output_type": "stream",
          "name": "stderr",
          "text": [
            "INFO:fairseq.data.data_utils:loaded 2000 examples from: /tmp/tmp_3xbux7l/tmp.complex-simple.complex\n",
            "INFO:fairseq.data.data_utils:loaded 2000 examples from: /tmp/tmp_3xbux7l/tmp.complex-simple.simple\n",
            "INFO:fairseq.tasks.translation:/tmp/tmp_3xbux7l tmp complex-simple 2000 examples\n",
            "INFO:fairseq_cli.generate:loading model(s) from /content/drive/MyDrive/muss/experiments/fairseq/local_1631567843618/model.pt\n",
            "INFO:fairseq_cli.generate:NOTE: hypothesis and token scores are output in base 2\n",
            "INFO:fairseq_cli.generate:Translated 2000 sentences (48384 tokens) in 115.0s (17.39 sentences/s, 420.64 tokens/s)\n",
            " 74%|███████▍  | 95/128 [4:01:01<1:27:39, 159.37s/it]"
          ]
        },
        {
          "output_type": "stream",
          "name": "stdout",
          "text": [
            "| IN find_best_parametrization_nevergrad: kwargs.get('generate_kwargs', {}) {}\n",
            "get ref from ( evaluate_simplifier) asset_valid_NER_ABCD\n",
            "test_set in evaluate_simplifier when get ori asset_valid\n",
            "encoder_json_path /content/drive/MyDrive/muss/resources/bart_bpe/encoder.json\n",
            "vocab_bpe_path /content/drive/MyDrive/muss/resources/bart_bpe/vocab.bpe\n"
          ]
        },
        {
          "output_type": "stream",
          "name": "stderr",
          "text": [
            "INFO:fairseq_cli.generate:Namespace(all_gather_list_size=16384, batch_size=None, batch_size_valid=None, beam=5, bf16=False, bpe=None, broadcast_buffers=False, bucket_cap_mb=25, checkpoint_shard_count=1, checkpoint_suffix='', constraints=None, cpu=False, criterion='cross_entropy', curriculum=0, data='/tmp/tmpmkpcejmp', data_buffer_size=10, dataset_impl='raw', ddp_backend='c10d', decoding_format=None, device_id=0, disable_validation=False, distributed_backend='nccl', distributed_init_method=None, distributed_no_spawn=False, distributed_port=-1, distributed_rank=0, distributed_world_size=1, distributed_wrapper='DDP', diverse_beam_groups=-1, diverse_beam_strength=0.5, diversity_rate=-1.0, empty_cache_freq=0, eval_bleu=False, eval_bleu_args=None, eval_bleu_detok='space', eval_bleu_detok_args=None, eval_bleu_print_samples=False, eval_bleu_remove_bpe=None, eval_tokenized_bleu=False, fast_stat_sync=False, find_unused_parameters=False, fix_batches_to_gpus=False, fixed_validation_seed=None, force_anneal=None, fp16=False, fp16_init_scale=128, fp16_no_flatten_grads=False, fp16_scale_tolerance=0.0, fp16_scale_window=None, gen_subset='tmp', iter_decode_eos_penalty=0.0, iter_decode_force_max_iter=False, iter_decode_max_iter=10, iter_decode_with_beam=1, iter_decode_with_external_reranker=False, left_pad_source='True', left_pad_target='False', lenpen=1.0, lm_path=None, lm_weight=0.0, load_alignments=False, localsgd_frequency=3, log_format=None, log_interval=100, lr_scheduler='fixed', lr_shrink=0.1, match_source_len=False, max_len_a=0, max_len_b=200, max_source_positions=1024, max_target_positions=1024, max_tokens=8000, max_tokens_valid=8000, memory_efficient_bf16=False, memory_efficient_fp16=False, min_len=1, min_loss_scale=0.0001, model_overrides=\"{'encoder_embed_path': None, 'decoder_embed_path': None}\", model_parallel_size=1, nbest=1, no_beamable_mm=False, no_early_stop=False, no_progress_bar=False, no_repeat_ngram_size=0, no_seed_provided=False, nprocs_per_node=1, num_batch_buckets=0, num_shards=1, num_workers=1, optimizer=None, path='/content/drive/MyDrive/muss/experiments/fairseq/local_1631567843618/model.pt', pipeline_balance=None, pipeline_checkpoint='never', pipeline_chunks=0, pipeline_decoder_balance=None, pipeline_decoder_devices=None, pipeline_devices=None, pipeline_encoder_balance=None, pipeline_encoder_devices=None, pipeline_model_parallel=False, prefix_size=0, print_alignment=False, print_step=False, profile=False, quantization_config_path=None, quiet=False, remove_bpe=None, replace_unk=None, required_batch_size_multiple=8, required_seq_len_multiple=1, results_path=None, retain_dropout=False, retain_dropout_modules=None, retain_iter_history=False, sacrebleu=False, sampling=False, sampling_topk=-1, sampling_topp=-1.0, score_reference=False, scoring='bleu', seed=1, shard_id=0, skip_invalid_size_inputs_valid_test=True, slowmo_algorithm='LocalSGD', slowmo_momentum=None, source_lang=None, target_lang=None, task='translation', temperature=1.0, tensorboard_logdir=None, threshold_loss_scale=None, tokenizer=None, tpu=False, train_subset='train', truncate_source=False, unkpen=0, unnormalized=False, upsample_primary=1, user_dir=None, valid_subset='valid', validate_after_updates=0, validate_interval=1, validate_interval_updates=0, warmup_updates=0, zero_sharding='none')\n",
            "INFO:fairseq.tasks.translation:[complex] dictionary: 50264 types\n",
            "INFO:fairseq.tasks.translation:[simple] dictionary: 50264 types\n"
          ]
        },
        {
          "output_type": "stream",
          "name": "stdout",
          "text": [
            "| use checkpoint_paths [PosixPath('/content/drive/MyDrive/muss/experiments/fairseq/local_1631567843618/model.pt')]\n"
          ]
        },
        {
          "output_type": "stream",
          "name": "stderr",
          "text": [
            "INFO:fairseq.data.data_utils:loaded 2000 examples from: /tmp/tmpmkpcejmp/tmp.complex-simple.complex\n",
            "INFO:fairseq.data.data_utils:loaded 2000 examples from: /tmp/tmpmkpcejmp/tmp.complex-simple.simple\n",
            "INFO:fairseq.tasks.translation:/tmp/tmpmkpcejmp tmp complex-simple 2000 examples\n",
            "INFO:fairseq_cli.generate:loading model(s) from /content/drive/MyDrive/muss/experiments/fairseq/local_1631567843618/model.pt\n",
            "INFO:fairseq_cli.generate:NOTE: hypothesis and token scores are output in base 2\n",
            "INFO:fairseq_cli.generate:Translated 2000 sentences (48384 tokens) in 114.8s (17.41 sentences/s, 421.29 tokens/s)\n",
            " 75%|███████▌  | 96/128 [4:03:40<1:24:55, 159.24s/it]"
          ]
        },
        {
          "output_type": "stream",
          "name": "stdout",
          "text": [
            "| IN find_best_parametrization_nevergrad: kwargs.get('generate_kwargs', {}) {}\n",
            "get ref from ( evaluate_simplifier) asset_valid_NER_ABCD\n",
            "test_set in evaluate_simplifier when get ori asset_valid\n",
            "encoder_json_path /content/drive/MyDrive/muss/resources/bart_bpe/encoder.json\n",
            "vocab_bpe_path /content/drive/MyDrive/muss/resources/bart_bpe/vocab.bpe\n"
          ]
        },
        {
          "output_type": "stream",
          "name": "stderr",
          "text": [
            "INFO:fairseq_cli.generate:Namespace(all_gather_list_size=16384, batch_size=None, batch_size_valid=None, beam=5, bf16=False, bpe=None, broadcast_buffers=False, bucket_cap_mb=25, checkpoint_shard_count=1, checkpoint_suffix='', constraints=None, cpu=False, criterion='cross_entropy', curriculum=0, data='/tmp/tmpqen36387', data_buffer_size=10, dataset_impl='raw', ddp_backend='c10d', decoding_format=None, device_id=0, disable_validation=False, distributed_backend='nccl', distributed_init_method=None, distributed_no_spawn=False, distributed_port=-1, distributed_rank=0, distributed_world_size=1, distributed_wrapper='DDP', diverse_beam_groups=-1, diverse_beam_strength=0.5, diversity_rate=-1.0, empty_cache_freq=0, eval_bleu=False, eval_bleu_args=None, eval_bleu_detok='space', eval_bleu_detok_args=None, eval_bleu_print_samples=False, eval_bleu_remove_bpe=None, eval_tokenized_bleu=False, fast_stat_sync=False, find_unused_parameters=False, fix_batches_to_gpus=False, fixed_validation_seed=None, force_anneal=None, fp16=False, fp16_init_scale=128, fp16_no_flatten_grads=False, fp16_scale_tolerance=0.0, fp16_scale_window=None, gen_subset='tmp', iter_decode_eos_penalty=0.0, iter_decode_force_max_iter=False, iter_decode_max_iter=10, iter_decode_with_beam=1, iter_decode_with_external_reranker=False, left_pad_source='True', left_pad_target='False', lenpen=1.0, lm_path=None, lm_weight=0.0, load_alignments=False, localsgd_frequency=3, log_format=None, log_interval=100, lr_scheduler='fixed', lr_shrink=0.1, match_source_len=False, max_len_a=0, max_len_b=200, max_source_positions=1024, max_target_positions=1024, max_tokens=8000, max_tokens_valid=8000, memory_efficient_bf16=False, memory_efficient_fp16=False, min_len=1, min_loss_scale=0.0001, model_overrides=\"{'encoder_embed_path': None, 'decoder_embed_path': None}\", model_parallel_size=1, nbest=1, no_beamable_mm=False, no_early_stop=False, no_progress_bar=False, no_repeat_ngram_size=0, no_seed_provided=False, nprocs_per_node=1, num_batch_buckets=0, num_shards=1, num_workers=1, optimizer=None, path='/content/drive/MyDrive/muss/experiments/fairseq/local_1631567843618/model.pt', pipeline_balance=None, pipeline_checkpoint='never', pipeline_chunks=0, pipeline_decoder_balance=None, pipeline_decoder_devices=None, pipeline_devices=None, pipeline_encoder_balance=None, pipeline_encoder_devices=None, pipeline_model_parallel=False, prefix_size=0, print_alignment=False, print_step=False, profile=False, quantization_config_path=None, quiet=False, remove_bpe=None, replace_unk=None, required_batch_size_multiple=8, required_seq_len_multiple=1, results_path=None, retain_dropout=False, retain_dropout_modules=None, retain_iter_history=False, sacrebleu=False, sampling=False, sampling_topk=-1, sampling_topp=-1.0, score_reference=False, scoring='bleu', seed=1, shard_id=0, skip_invalid_size_inputs_valid_test=True, slowmo_algorithm='LocalSGD', slowmo_momentum=None, source_lang=None, target_lang=None, task='translation', temperature=1.0, tensorboard_logdir=None, threshold_loss_scale=None, tokenizer=None, tpu=False, train_subset='train', truncate_source=False, unkpen=0, unnormalized=False, upsample_primary=1, user_dir=None, valid_subset='valid', validate_after_updates=0, validate_interval=1, validate_interval_updates=0, warmup_updates=0, zero_sharding='none')\n",
            "INFO:fairseq.tasks.translation:[complex] dictionary: 50264 types\n",
            "INFO:fairseq.tasks.translation:[simple] dictionary: 50264 types\n"
          ]
        },
        {
          "output_type": "stream",
          "name": "stdout",
          "text": [
            "| use checkpoint_paths [PosixPath('/content/drive/MyDrive/muss/experiments/fairseq/local_1631567843618/model.pt')]\n"
          ]
        },
        {
          "output_type": "stream",
          "name": "stderr",
          "text": [
            "INFO:fairseq.data.data_utils:loaded 2000 examples from: /tmp/tmpqen36387/tmp.complex-simple.complex\n",
            "INFO:fairseq.data.data_utils:loaded 2000 examples from: /tmp/tmpqen36387/tmp.complex-simple.simple\n",
            "INFO:fairseq.tasks.translation:/tmp/tmpqen36387 tmp complex-simple 2000 examples\n",
            "INFO:fairseq_cli.generate:loading model(s) from /content/drive/MyDrive/muss/experiments/fairseq/local_1631567843618/model.pt\n",
            "INFO:fairseq_cli.generate:NOTE: hypothesis and token scores are output in base 2\n",
            "INFO:fairseq_cli.generate:Translated 2000 sentences (48444 tokens) in 115.0s (17.39 sentences/s, 421.33 tokens/s)\n",
            " 76%|███████▌  | 97/128 [4:06:19<1:22:14, 159.17s/it]"
          ]
        },
        {
          "output_type": "stream",
          "name": "stdout",
          "text": [
            "| IN find_best_parametrization_nevergrad: kwargs.get('generate_kwargs', {}) {}\n",
            "get ref from ( evaluate_simplifier) asset_valid_NER_ABCD\n",
            "test_set in evaluate_simplifier when get ori asset_valid\n",
            "encoder_json_path /content/drive/MyDrive/muss/resources/bart_bpe/encoder.json\n",
            "vocab_bpe_path /content/drive/MyDrive/muss/resources/bart_bpe/vocab.bpe\n"
          ]
        },
        {
          "output_type": "stream",
          "name": "stderr",
          "text": [
            "INFO:fairseq_cli.generate:Namespace(all_gather_list_size=16384, batch_size=None, batch_size_valid=None, beam=5, bf16=False, bpe=None, broadcast_buffers=False, bucket_cap_mb=25, checkpoint_shard_count=1, checkpoint_suffix='', constraints=None, cpu=False, criterion='cross_entropy', curriculum=0, data='/tmp/tmpguk_be7t', data_buffer_size=10, dataset_impl='raw', ddp_backend='c10d', decoding_format=None, device_id=0, disable_validation=False, distributed_backend='nccl', distributed_init_method=None, distributed_no_spawn=False, distributed_port=-1, distributed_rank=0, distributed_world_size=1, distributed_wrapper='DDP', diverse_beam_groups=-1, diverse_beam_strength=0.5, diversity_rate=-1.0, empty_cache_freq=0, eval_bleu=False, eval_bleu_args=None, eval_bleu_detok='space', eval_bleu_detok_args=None, eval_bleu_print_samples=False, eval_bleu_remove_bpe=None, eval_tokenized_bleu=False, fast_stat_sync=False, find_unused_parameters=False, fix_batches_to_gpus=False, fixed_validation_seed=None, force_anneal=None, fp16=False, fp16_init_scale=128, fp16_no_flatten_grads=False, fp16_scale_tolerance=0.0, fp16_scale_window=None, gen_subset='tmp', iter_decode_eos_penalty=0.0, iter_decode_force_max_iter=False, iter_decode_max_iter=10, iter_decode_with_beam=1, iter_decode_with_external_reranker=False, left_pad_source='True', left_pad_target='False', lenpen=1.0, lm_path=None, lm_weight=0.0, load_alignments=False, localsgd_frequency=3, log_format=None, log_interval=100, lr_scheduler='fixed', lr_shrink=0.1, match_source_len=False, max_len_a=0, max_len_b=200, max_source_positions=1024, max_target_positions=1024, max_tokens=8000, max_tokens_valid=8000, memory_efficient_bf16=False, memory_efficient_fp16=False, min_len=1, min_loss_scale=0.0001, model_overrides=\"{'encoder_embed_path': None, 'decoder_embed_path': None}\", model_parallel_size=1, nbest=1, no_beamable_mm=False, no_early_stop=False, no_progress_bar=False, no_repeat_ngram_size=0, no_seed_provided=False, nprocs_per_node=1, num_batch_buckets=0, num_shards=1, num_workers=1, optimizer=None, path='/content/drive/MyDrive/muss/experiments/fairseq/local_1631567843618/model.pt', pipeline_balance=None, pipeline_checkpoint='never', pipeline_chunks=0, pipeline_decoder_balance=None, pipeline_decoder_devices=None, pipeline_devices=None, pipeline_encoder_balance=None, pipeline_encoder_devices=None, pipeline_model_parallel=False, prefix_size=0, print_alignment=False, print_step=False, profile=False, quantization_config_path=None, quiet=False, remove_bpe=None, replace_unk=None, required_batch_size_multiple=8, required_seq_len_multiple=1, results_path=None, retain_dropout=False, retain_dropout_modules=None, retain_iter_history=False, sacrebleu=False, sampling=False, sampling_topk=-1, sampling_topp=-1.0, score_reference=False, scoring='bleu', seed=1, shard_id=0, skip_invalid_size_inputs_valid_test=True, slowmo_algorithm='LocalSGD', slowmo_momentum=None, source_lang=None, target_lang=None, task='translation', temperature=1.0, tensorboard_logdir=None, threshold_loss_scale=None, tokenizer=None, tpu=False, train_subset='train', truncate_source=False, unkpen=0, unnormalized=False, upsample_primary=1, user_dir=None, valid_subset='valid', validate_after_updates=0, validate_interval=1, validate_interval_updates=0, warmup_updates=0, zero_sharding='none')\n",
            "INFO:fairseq.tasks.translation:[complex] dictionary: 50264 types\n",
            "INFO:fairseq.tasks.translation:[simple] dictionary: 50264 types\n"
          ]
        },
        {
          "output_type": "stream",
          "name": "stdout",
          "text": [
            "| use checkpoint_paths [PosixPath('/content/drive/MyDrive/muss/experiments/fairseq/local_1631567843618/model.pt')]\n"
          ]
        },
        {
          "output_type": "stream",
          "name": "stderr",
          "text": [
            "INFO:fairseq.data.data_utils:loaded 2000 examples from: /tmp/tmpguk_be7t/tmp.complex-simple.complex\n",
            "INFO:fairseq.data.data_utils:loaded 2000 examples from: /tmp/tmpguk_be7t/tmp.complex-simple.simple\n",
            "INFO:fairseq.tasks.translation:/tmp/tmpguk_be7t tmp complex-simple 2000 examples\n",
            "INFO:fairseq_cli.generate:loading model(s) from /content/drive/MyDrive/muss/experiments/fairseq/local_1631567843618/model.pt\n",
            "INFO:fairseq_cli.generate:NOTE: hypothesis and token scores are output in base 2\n",
            "INFO:fairseq_cli.generate:Translated 2000 sentences (48384 tokens) in 115.5s (17.31 sentences/s, 418.80 tokens/s)\n",
            " 77%|███████▋  | 98/128 [4:08:58<1:19:40, 159.35s/it]"
          ]
        },
        {
          "output_type": "stream",
          "name": "stdout",
          "text": [
            "| IN find_best_parametrization_nevergrad: kwargs.get('generate_kwargs', {}) {}\n",
            "get ref from ( evaluate_simplifier) asset_valid_NER_ABCD\n",
            "test_set in evaluate_simplifier when get ori asset_valid\n",
            "encoder_json_path /content/drive/MyDrive/muss/resources/bart_bpe/encoder.json\n",
            "vocab_bpe_path /content/drive/MyDrive/muss/resources/bart_bpe/vocab.bpe\n"
          ]
        },
        {
          "output_type": "stream",
          "name": "stderr",
          "text": [
            "INFO:fairseq_cli.generate:Namespace(all_gather_list_size=16384, batch_size=None, batch_size_valid=None, beam=5, bf16=False, bpe=None, broadcast_buffers=False, bucket_cap_mb=25, checkpoint_shard_count=1, checkpoint_suffix='', constraints=None, cpu=False, criterion='cross_entropy', curriculum=0, data='/tmp/tmpjuck4i4a', data_buffer_size=10, dataset_impl='raw', ddp_backend='c10d', decoding_format=None, device_id=0, disable_validation=False, distributed_backend='nccl', distributed_init_method=None, distributed_no_spawn=False, distributed_port=-1, distributed_rank=0, distributed_world_size=1, distributed_wrapper='DDP', diverse_beam_groups=-1, diverse_beam_strength=0.5, diversity_rate=-1.0, empty_cache_freq=0, eval_bleu=False, eval_bleu_args=None, eval_bleu_detok='space', eval_bleu_detok_args=None, eval_bleu_print_samples=False, eval_bleu_remove_bpe=None, eval_tokenized_bleu=False, fast_stat_sync=False, find_unused_parameters=False, fix_batches_to_gpus=False, fixed_validation_seed=None, force_anneal=None, fp16=False, fp16_init_scale=128, fp16_no_flatten_grads=False, fp16_scale_tolerance=0.0, fp16_scale_window=None, gen_subset='tmp', iter_decode_eos_penalty=0.0, iter_decode_force_max_iter=False, iter_decode_max_iter=10, iter_decode_with_beam=1, iter_decode_with_external_reranker=False, left_pad_source='True', left_pad_target='False', lenpen=1.0, lm_path=None, lm_weight=0.0, load_alignments=False, localsgd_frequency=3, log_format=None, log_interval=100, lr_scheduler='fixed', lr_shrink=0.1, match_source_len=False, max_len_a=0, max_len_b=200, max_source_positions=1024, max_target_positions=1024, max_tokens=8000, max_tokens_valid=8000, memory_efficient_bf16=False, memory_efficient_fp16=False, min_len=1, min_loss_scale=0.0001, model_overrides=\"{'encoder_embed_path': None, 'decoder_embed_path': None}\", model_parallel_size=1, nbest=1, no_beamable_mm=False, no_early_stop=False, no_progress_bar=False, no_repeat_ngram_size=0, no_seed_provided=False, nprocs_per_node=1, num_batch_buckets=0, num_shards=1, num_workers=1, optimizer=None, path='/content/drive/MyDrive/muss/experiments/fairseq/local_1631567843618/model.pt', pipeline_balance=None, pipeline_checkpoint='never', pipeline_chunks=0, pipeline_decoder_balance=None, pipeline_decoder_devices=None, pipeline_devices=None, pipeline_encoder_balance=None, pipeline_encoder_devices=None, pipeline_model_parallel=False, prefix_size=0, print_alignment=False, print_step=False, profile=False, quantization_config_path=None, quiet=False, remove_bpe=None, replace_unk=None, required_batch_size_multiple=8, required_seq_len_multiple=1, results_path=None, retain_dropout=False, retain_dropout_modules=None, retain_iter_history=False, sacrebleu=False, sampling=False, sampling_topk=-1, sampling_topp=-1.0, score_reference=False, scoring='bleu', seed=1, shard_id=0, skip_invalid_size_inputs_valid_test=True, slowmo_algorithm='LocalSGD', slowmo_momentum=None, source_lang=None, target_lang=None, task='translation', temperature=1.0, tensorboard_logdir=None, threshold_loss_scale=None, tokenizer=None, tpu=False, train_subset='train', truncate_source=False, unkpen=0, unnormalized=False, upsample_primary=1, user_dir=None, valid_subset='valid', validate_after_updates=0, validate_interval=1, validate_interval_updates=0, warmup_updates=0, zero_sharding='none')\n",
            "INFO:fairseq.tasks.translation:[complex] dictionary: 50264 types\n",
            "INFO:fairseq.tasks.translation:[simple] dictionary: 50264 types\n"
          ]
        },
        {
          "output_type": "stream",
          "name": "stdout",
          "text": [
            "| use checkpoint_paths [PosixPath('/content/drive/MyDrive/muss/experiments/fairseq/local_1631567843618/model.pt')]\n"
          ]
        },
        {
          "output_type": "stream",
          "name": "stderr",
          "text": [
            "INFO:fairseq.data.data_utils:loaded 2000 examples from: /tmp/tmpjuck4i4a/tmp.complex-simple.complex\n",
            "INFO:fairseq.data.data_utils:loaded 2000 examples from: /tmp/tmpjuck4i4a/tmp.complex-simple.simple\n",
            "INFO:fairseq.tasks.translation:/tmp/tmpjuck4i4a tmp complex-simple 2000 examples\n",
            "INFO:fairseq_cli.generate:loading model(s) from /content/drive/MyDrive/muss/experiments/fairseq/local_1631567843618/model.pt\n",
            "INFO:fairseq_cli.generate:NOTE: hypothesis and token scores are output in base 2\n",
            "INFO:fairseq_cli.generate:Translated 2000 sentences (48384 tokens) in 114.9s (17.40 sentences/s, 420.96 tokens/s)\n",
            " 77%|███████▋  | 99/128 [4:11:38<1:16:59, 159.31s/it]"
          ]
        },
        {
          "output_type": "stream",
          "name": "stdout",
          "text": [
            "| IN find_best_parametrization_nevergrad: kwargs.get('generate_kwargs', {}) {}\n",
            "get ref from ( evaluate_simplifier) asset_valid_NER_ABCD\n",
            "test_set in evaluate_simplifier when get ori asset_valid\n",
            "encoder_json_path /content/drive/MyDrive/muss/resources/bart_bpe/encoder.json\n",
            "vocab_bpe_path /content/drive/MyDrive/muss/resources/bart_bpe/vocab.bpe\n"
          ]
        },
        {
          "output_type": "stream",
          "name": "stderr",
          "text": [
            "INFO:fairseq_cli.generate:Namespace(all_gather_list_size=16384, batch_size=None, batch_size_valid=None, beam=5, bf16=False, bpe=None, broadcast_buffers=False, bucket_cap_mb=25, checkpoint_shard_count=1, checkpoint_suffix='', constraints=None, cpu=False, criterion='cross_entropy', curriculum=0, data='/tmp/tmp7dbyt7es', data_buffer_size=10, dataset_impl='raw', ddp_backend='c10d', decoding_format=None, device_id=0, disable_validation=False, distributed_backend='nccl', distributed_init_method=None, distributed_no_spawn=False, distributed_port=-1, distributed_rank=0, distributed_world_size=1, distributed_wrapper='DDP', diverse_beam_groups=-1, diverse_beam_strength=0.5, diversity_rate=-1.0, empty_cache_freq=0, eval_bleu=False, eval_bleu_args=None, eval_bleu_detok='space', eval_bleu_detok_args=None, eval_bleu_print_samples=False, eval_bleu_remove_bpe=None, eval_tokenized_bleu=False, fast_stat_sync=False, find_unused_parameters=False, fix_batches_to_gpus=False, fixed_validation_seed=None, force_anneal=None, fp16=False, fp16_init_scale=128, fp16_no_flatten_grads=False, fp16_scale_tolerance=0.0, fp16_scale_window=None, gen_subset='tmp', iter_decode_eos_penalty=0.0, iter_decode_force_max_iter=False, iter_decode_max_iter=10, iter_decode_with_beam=1, iter_decode_with_external_reranker=False, left_pad_source='True', left_pad_target='False', lenpen=1.0, lm_path=None, lm_weight=0.0, load_alignments=False, localsgd_frequency=3, log_format=None, log_interval=100, lr_scheduler='fixed', lr_shrink=0.1, match_source_len=False, max_len_a=0, max_len_b=200, max_source_positions=1024, max_target_positions=1024, max_tokens=8000, max_tokens_valid=8000, memory_efficient_bf16=False, memory_efficient_fp16=False, min_len=1, min_loss_scale=0.0001, model_overrides=\"{'encoder_embed_path': None, 'decoder_embed_path': None}\", model_parallel_size=1, nbest=1, no_beamable_mm=False, no_early_stop=False, no_progress_bar=False, no_repeat_ngram_size=0, no_seed_provided=False, nprocs_per_node=1, num_batch_buckets=0, num_shards=1, num_workers=1, optimizer=None, path='/content/drive/MyDrive/muss/experiments/fairseq/local_1631567843618/model.pt', pipeline_balance=None, pipeline_checkpoint='never', pipeline_chunks=0, pipeline_decoder_balance=None, pipeline_decoder_devices=None, pipeline_devices=None, pipeline_encoder_balance=None, pipeline_encoder_devices=None, pipeline_model_parallel=False, prefix_size=0, print_alignment=False, print_step=False, profile=False, quantization_config_path=None, quiet=False, remove_bpe=None, replace_unk=None, required_batch_size_multiple=8, required_seq_len_multiple=1, results_path=None, retain_dropout=False, retain_dropout_modules=None, retain_iter_history=False, sacrebleu=False, sampling=False, sampling_topk=-1, sampling_topp=-1.0, score_reference=False, scoring='bleu', seed=1, shard_id=0, skip_invalid_size_inputs_valid_test=True, slowmo_algorithm='LocalSGD', slowmo_momentum=None, source_lang=None, target_lang=None, task='translation', temperature=1.0, tensorboard_logdir=None, threshold_loss_scale=None, tokenizer=None, tpu=False, train_subset='train', truncate_source=False, unkpen=0, unnormalized=False, upsample_primary=1, user_dir=None, valid_subset='valid', validate_after_updates=0, validate_interval=1, validate_interval_updates=0, warmup_updates=0, zero_sharding='none')\n",
            "INFO:fairseq.tasks.translation:[complex] dictionary: 50264 types\n",
            "INFO:fairseq.tasks.translation:[simple] dictionary: 50264 types\n"
          ]
        },
        {
          "output_type": "stream",
          "name": "stdout",
          "text": [
            "| use checkpoint_paths [PosixPath('/content/drive/MyDrive/muss/experiments/fairseq/local_1631567843618/model.pt')]\n"
          ]
        },
        {
          "output_type": "stream",
          "name": "stderr",
          "text": [
            "INFO:fairseq.data.data_utils:loaded 2000 examples from: /tmp/tmp7dbyt7es/tmp.complex-simple.complex\n",
            "INFO:fairseq.data.data_utils:loaded 2000 examples from: /tmp/tmp7dbyt7es/tmp.complex-simple.simple\n",
            "INFO:fairseq.tasks.translation:/tmp/tmp7dbyt7es tmp complex-simple 2000 examples\n",
            "INFO:fairseq_cli.generate:loading model(s) from /content/drive/MyDrive/muss/experiments/fairseq/local_1631567843618/model.pt\n",
            "INFO:fairseq_cli.generate:NOTE: hypothesis and token scores are output in base 2\n",
            "INFO:fairseq_cli.generate:Translated 2000 sentences (48384 tokens) in 115.4s (17.34 sentences/s, 419.39 tokens/s)\n",
            " 78%|███████▊  | 100/128 [4:14:18<1:14:27, 159.55s/it]"
          ]
        },
        {
          "output_type": "stream",
          "name": "stdout",
          "text": [
            "| IN find_best_parametrization_nevergrad: kwargs.get('generate_kwargs', {}) {}\n",
            "get ref from ( evaluate_simplifier) asset_valid_NER_ABCD\n",
            "test_set in evaluate_simplifier when get ori asset_valid\n",
            "encoder_json_path /content/drive/MyDrive/muss/resources/bart_bpe/encoder.json\n",
            "vocab_bpe_path /content/drive/MyDrive/muss/resources/bart_bpe/vocab.bpe\n"
          ]
        },
        {
          "output_type": "stream",
          "name": "stderr",
          "text": [
            "INFO:fairseq_cli.generate:Namespace(all_gather_list_size=16384, batch_size=None, batch_size_valid=None, beam=5, bf16=False, bpe=None, broadcast_buffers=False, bucket_cap_mb=25, checkpoint_shard_count=1, checkpoint_suffix='', constraints=None, cpu=False, criterion='cross_entropy', curriculum=0, data='/tmp/tmp99ywfhqa', data_buffer_size=10, dataset_impl='raw', ddp_backend='c10d', decoding_format=None, device_id=0, disable_validation=False, distributed_backend='nccl', distributed_init_method=None, distributed_no_spawn=False, distributed_port=-1, distributed_rank=0, distributed_world_size=1, distributed_wrapper='DDP', diverse_beam_groups=-1, diverse_beam_strength=0.5, diversity_rate=-1.0, empty_cache_freq=0, eval_bleu=False, eval_bleu_args=None, eval_bleu_detok='space', eval_bleu_detok_args=None, eval_bleu_print_samples=False, eval_bleu_remove_bpe=None, eval_tokenized_bleu=False, fast_stat_sync=False, find_unused_parameters=False, fix_batches_to_gpus=False, fixed_validation_seed=None, force_anneal=None, fp16=False, fp16_init_scale=128, fp16_no_flatten_grads=False, fp16_scale_tolerance=0.0, fp16_scale_window=None, gen_subset='tmp', iter_decode_eos_penalty=0.0, iter_decode_force_max_iter=False, iter_decode_max_iter=10, iter_decode_with_beam=1, iter_decode_with_external_reranker=False, left_pad_source='True', left_pad_target='False', lenpen=1.0, lm_path=None, lm_weight=0.0, load_alignments=False, localsgd_frequency=3, log_format=None, log_interval=100, lr_scheduler='fixed', lr_shrink=0.1, match_source_len=False, max_len_a=0, max_len_b=200, max_source_positions=1024, max_target_positions=1024, max_tokens=8000, max_tokens_valid=8000, memory_efficient_bf16=False, memory_efficient_fp16=False, min_len=1, min_loss_scale=0.0001, model_overrides=\"{'encoder_embed_path': None, 'decoder_embed_path': None}\", model_parallel_size=1, nbest=1, no_beamable_mm=False, no_early_stop=False, no_progress_bar=False, no_repeat_ngram_size=0, no_seed_provided=False, nprocs_per_node=1, num_batch_buckets=0, num_shards=1, num_workers=1, optimizer=None, path='/content/drive/MyDrive/muss/experiments/fairseq/local_1631567843618/model.pt', pipeline_balance=None, pipeline_checkpoint='never', pipeline_chunks=0, pipeline_decoder_balance=None, pipeline_decoder_devices=None, pipeline_devices=None, pipeline_encoder_balance=None, pipeline_encoder_devices=None, pipeline_model_parallel=False, prefix_size=0, print_alignment=False, print_step=False, profile=False, quantization_config_path=None, quiet=False, remove_bpe=None, replace_unk=None, required_batch_size_multiple=8, required_seq_len_multiple=1, results_path=None, retain_dropout=False, retain_dropout_modules=None, retain_iter_history=False, sacrebleu=False, sampling=False, sampling_topk=-1, sampling_topp=-1.0, score_reference=False, scoring='bleu', seed=1, shard_id=0, skip_invalid_size_inputs_valid_test=True, slowmo_algorithm='LocalSGD', slowmo_momentum=None, source_lang=None, target_lang=None, task='translation', temperature=1.0, tensorboard_logdir=None, threshold_loss_scale=None, tokenizer=None, tpu=False, train_subset='train', truncate_source=False, unkpen=0, unnormalized=False, upsample_primary=1, user_dir=None, valid_subset='valid', validate_after_updates=0, validate_interval=1, validate_interval_updates=0, warmup_updates=0, zero_sharding='none')\n",
            "INFO:fairseq.tasks.translation:[complex] dictionary: 50264 types\n",
            "INFO:fairseq.tasks.translation:[simple] dictionary: 50264 types\n"
          ]
        },
        {
          "output_type": "stream",
          "name": "stdout",
          "text": [
            "| use checkpoint_paths [PosixPath('/content/drive/MyDrive/muss/experiments/fairseq/local_1631567843618/model.pt')]\n"
          ]
        },
        {
          "output_type": "stream",
          "name": "stderr",
          "text": [
            "INFO:fairseq.data.data_utils:loaded 2000 examples from: /tmp/tmp99ywfhqa/tmp.complex-simple.complex\n",
            "INFO:fairseq.data.data_utils:loaded 2000 examples from: /tmp/tmp99ywfhqa/tmp.complex-simple.simple\n",
            "INFO:fairseq.tasks.translation:/tmp/tmp99ywfhqa tmp complex-simple 2000 examples\n",
            "INFO:fairseq_cli.generate:loading model(s) from /content/drive/MyDrive/muss/experiments/fairseq/local_1631567843618/model.pt\n",
            "INFO:fairseq_cli.generate:NOTE: hypothesis and token scores are output in base 2\n",
            "INFO:fairseq_cli.generate:Translated 2000 sentences (48384 tokens) in 115.1s (17.37 sentences/s, 420.20 tokens/s)\n",
            " 79%|███████▉  | 101/128 [4:16:58<1:11:50, 159.66s/it]"
          ]
        },
        {
          "output_type": "stream",
          "name": "stdout",
          "text": [
            "| IN find_best_parametrization_nevergrad: kwargs.get('generate_kwargs', {}) {}\n",
            "get ref from ( evaluate_simplifier) asset_valid_NER_ABCD\n",
            "test_set in evaluate_simplifier when get ori asset_valid\n",
            "encoder_json_path /content/drive/MyDrive/muss/resources/bart_bpe/encoder.json\n",
            "vocab_bpe_path /content/drive/MyDrive/muss/resources/bart_bpe/vocab.bpe\n"
          ]
        },
        {
          "output_type": "stream",
          "name": "stderr",
          "text": [
            "INFO:fairseq_cli.generate:Namespace(all_gather_list_size=16384, batch_size=None, batch_size_valid=None, beam=5, bf16=False, bpe=None, broadcast_buffers=False, bucket_cap_mb=25, checkpoint_shard_count=1, checkpoint_suffix='', constraints=None, cpu=False, criterion='cross_entropy', curriculum=0, data='/tmp/tmp_9z5kde4', data_buffer_size=10, dataset_impl='raw', ddp_backend='c10d', decoding_format=None, device_id=0, disable_validation=False, distributed_backend='nccl', distributed_init_method=None, distributed_no_spawn=False, distributed_port=-1, distributed_rank=0, distributed_world_size=1, distributed_wrapper='DDP', diverse_beam_groups=-1, diverse_beam_strength=0.5, diversity_rate=-1.0, empty_cache_freq=0, eval_bleu=False, eval_bleu_args=None, eval_bleu_detok='space', eval_bleu_detok_args=None, eval_bleu_print_samples=False, eval_bleu_remove_bpe=None, eval_tokenized_bleu=False, fast_stat_sync=False, find_unused_parameters=False, fix_batches_to_gpus=False, fixed_validation_seed=None, force_anneal=None, fp16=False, fp16_init_scale=128, fp16_no_flatten_grads=False, fp16_scale_tolerance=0.0, fp16_scale_window=None, gen_subset='tmp', iter_decode_eos_penalty=0.0, iter_decode_force_max_iter=False, iter_decode_max_iter=10, iter_decode_with_beam=1, iter_decode_with_external_reranker=False, left_pad_source='True', left_pad_target='False', lenpen=1.0, lm_path=None, lm_weight=0.0, load_alignments=False, localsgd_frequency=3, log_format=None, log_interval=100, lr_scheduler='fixed', lr_shrink=0.1, match_source_len=False, max_len_a=0, max_len_b=200, max_source_positions=1024, max_target_positions=1024, max_tokens=8000, max_tokens_valid=8000, memory_efficient_bf16=False, memory_efficient_fp16=False, min_len=1, min_loss_scale=0.0001, model_overrides=\"{'encoder_embed_path': None, 'decoder_embed_path': None}\", model_parallel_size=1, nbest=1, no_beamable_mm=False, no_early_stop=False, no_progress_bar=False, no_repeat_ngram_size=0, no_seed_provided=False, nprocs_per_node=1, num_batch_buckets=0, num_shards=1, num_workers=1, optimizer=None, path='/content/drive/MyDrive/muss/experiments/fairseq/local_1631567843618/model.pt', pipeline_balance=None, pipeline_checkpoint='never', pipeline_chunks=0, pipeline_decoder_balance=None, pipeline_decoder_devices=None, pipeline_devices=None, pipeline_encoder_balance=None, pipeline_encoder_devices=None, pipeline_model_parallel=False, prefix_size=0, print_alignment=False, print_step=False, profile=False, quantization_config_path=None, quiet=False, remove_bpe=None, replace_unk=None, required_batch_size_multiple=8, required_seq_len_multiple=1, results_path=None, retain_dropout=False, retain_dropout_modules=None, retain_iter_history=False, sacrebleu=False, sampling=False, sampling_topk=-1, sampling_topp=-1.0, score_reference=False, scoring='bleu', seed=1, shard_id=0, skip_invalid_size_inputs_valid_test=True, slowmo_algorithm='LocalSGD', slowmo_momentum=None, source_lang=None, target_lang=None, task='translation', temperature=1.0, tensorboard_logdir=None, threshold_loss_scale=None, tokenizer=None, tpu=False, train_subset='train', truncate_source=False, unkpen=0, unnormalized=False, upsample_primary=1, user_dir=None, valid_subset='valid', validate_after_updates=0, validate_interval=1, validate_interval_updates=0, warmup_updates=0, zero_sharding='none')\n",
            "INFO:fairseq.tasks.translation:[complex] dictionary: 50264 types\n",
            "INFO:fairseq.tasks.translation:[simple] dictionary: 50264 types\n"
          ]
        },
        {
          "output_type": "stream",
          "name": "stdout",
          "text": [
            "| use checkpoint_paths [PosixPath('/content/drive/MyDrive/muss/experiments/fairseq/local_1631567843618/model.pt')]\n"
          ]
        },
        {
          "output_type": "stream",
          "name": "stderr",
          "text": [
            "INFO:fairseq.data.data_utils:loaded 2000 examples from: /tmp/tmp_9z5kde4/tmp.complex-simple.complex\n",
            "INFO:fairseq.data.data_utils:loaded 2000 examples from: /tmp/tmp_9z5kde4/tmp.complex-simple.simple\n",
            "INFO:fairseq.tasks.translation:/tmp/tmp_9z5kde4 tmp complex-simple 2000 examples\n",
            "INFO:fairseq_cli.generate:loading model(s) from /content/drive/MyDrive/muss/experiments/fairseq/local_1631567843618/model.pt\n",
            "INFO:fairseq_cli.generate:NOTE: hypothesis and token scores are output in base 2\n",
            "INFO:fairseq_cli.generate:Translated 2000 sentences (48384 tokens) in 115.1s (17.38 sentences/s, 420.39 tokens/s)\n",
            " 80%|███████▉  | 102/128 [4:19:37<1:09:09, 159.61s/it]"
          ]
        },
        {
          "output_type": "stream",
          "name": "stdout",
          "text": [
            "| IN find_best_parametrization_nevergrad: kwargs.get('generate_kwargs', {}) {}\n",
            "get ref from ( evaluate_simplifier) asset_valid_NER_ABCD\n",
            "test_set in evaluate_simplifier when get ori asset_valid\n",
            "encoder_json_path /content/drive/MyDrive/muss/resources/bart_bpe/encoder.json\n",
            "vocab_bpe_path /content/drive/MyDrive/muss/resources/bart_bpe/vocab.bpe\n"
          ]
        },
        {
          "output_type": "stream",
          "name": "stderr",
          "text": [
            "INFO:fairseq_cli.generate:Namespace(all_gather_list_size=16384, batch_size=None, batch_size_valid=None, beam=5, bf16=False, bpe=None, broadcast_buffers=False, bucket_cap_mb=25, checkpoint_shard_count=1, checkpoint_suffix='', constraints=None, cpu=False, criterion='cross_entropy', curriculum=0, data='/tmp/tmp249ljraw', data_buffer_size=10, dataset_impl='raw', ddp_backend='c10d', decoding_format=None, device_id=0, disable_validation=False, distributed_backend='nccl', distributed_init_method=None, distributed_no_spawn=False, distributed_port=-1, distributed_rank=0, distributed_world_size=1, distributed_wrapper='DDP', diverse_beam_groups=-1, diverse_beam_strength=0.5, diversity_rate=-1.0, empty_cache_freq=0, eval_bleu=False, eval_bleu_args=None, eval_bleu_detok='space', eval_bleu_detok_args=None, eval_bleu_print_samples=False, eval_bleu_remove_bpe=None, eval_tokenized_bleu=False, fast_stat_sync=False, find_unused_parameters=False, fix_batches_to_gpus=False, fixed_validation_seed=None, force_anneal=None, fp16=False, fp16_init_scale=128, fp16_no_flatten_grads=False, fp16_scale_tolerance=0.0, fp16_scale_window=None, gen_subset='tmp', iter_decode_eos_penalty=0.0, iter_decode_force_max_iter=False, iter_decode_max_iter=10, iter_decode_with_beam=1, iter_decode_with_external_reranker=False, left_pad_source='True', left_pad_target='False', lenpen=1.0, lm_path=None, lm_weight=0.0, load_alignments=False, localsgd_frequency=3, log_format=None, log_interval=100, lr_scheduler='fixed', lr_shrink=0.1, match_source_len=False, max_len_a=0, max_len_b=200, max_source_positions=1024, max_target_positions=1024, max_tokens=8000, max_tokens_valid=8000, memory_efficient_bf16=False, memory_efficient_fp16=False, min_len=1, min_loss_scale=0.0001, model_overrides=\"{'encoder_embed_path': None, 'decoder_embed_path': None}\", model_parallel_size=1, nbest=1, no_beamable_mm=False, no_early_stop=False, no_progress_bar=False, no_repeat_ngram_size=0, no_seed_provided=False, nprocs_per_node=1, num_batch_buckets=0, num_shards=1, num_workers=1, optimizer=None, path='/content/drive/MyDrive/muss/experiments/fairseq/local_1631567843618/model.pt', pipeline_balance=None, pipeline_checkpoint='never', pipeline_chunks=0, pipeline_decoder_balance=None, pipeline_decoder_devices=None, pipeline_devices=None, pipeline_encoder_balance=None, pipeline_encoder_devices=None, pipeline_model_parallel=False, prefix_size=0, print_alignment=False, print_step=False, profile=False, quantization_config_path=None, quiet=False, remove_bpe=None, replace_unk=None, required_batch_size_multiple=8, required_seq_len_multiple=1, results_path=None, retain_dropout=False, retain_dropout_modules=None, retain_iter_history=False, sacrebleu=False, sampling=False, sampling_topk=-1, sampling_topp=-1.0, score_reference=False, scoring='bleu', seed=1, shard_id=0, skip_invalid_size_inputs_valid_test=True, slowmo_algorithm='LocalSGD', slowmo_momentum=None, source_lang=None, target_lang=None, task='translation', temperature=1.0, tensorboard_logdir=None, threshold_loss_scale=None, tokenizer=None, tpu=False, train_subset='train', truncate_source=False, unkpen=0, unnormalized=False, upsample_primary=1, user_dir=None, valid_subset='valid', validate_after_updates=0, validate_interval=1, validate_interval_updates=0, warmup_updates=0, zero_sharding='none')\n",
            "INFO:fairseq.tasks.translation:[complex] dictionary: 50264 types\n",
            "INFO:fairseq.tasks.translation:[simple] dictionary: 50264 types\n"
          ]
        },
        {
          "output_type": "stream",
          "name": "stdout",
          "text": [
            "| use checkpoint_paths [PosixPath('/content/drive/MyDrive/muss/experiments/fairseq/local_1631567843618/model.pt')]\n"
          ]
        },
        {
          "output_type": "stream",
          "name": "stderr",
          "text": [
            "INFO:fairseq.data.data_utils:loaded 2000 examples from: /tmp/tmp249ljraw/tmp.complex-simple.complex\n",
            "INFO:fairseq.data.data_utils:loaded 2000 examples from: /tmp/tmp249ljraw/tmp.complex-simple.simple\n",
            "INFO:fairseq.tasks.translation:/tmp/tmp249ljraw tmp complex-simple 2000 examples\n",
            "INFO:fairseq_cli.generate:loading model(s) from /content/drive/MyDrive/muss/experiments/fairseq/local_1631567843618/model.pt\n",
            "INFO:fairseq_cli.generate:NOTE: hypothesis and token scores are output in base 2\n",
            "INFO:fairseq_cli.generate:Translated 2000 sentences (48384 tokens) in 115.8s (17.27 sentences/s, 417.80 tokens/s)\n",
            " 80%|████████  | 103/128 [4:22:18<1:06:41, 160.05s/it]"
          ]
        },
        {
          "output_type": "stream",
          "name": "stdout",
          "text": [
            "| IN find_best_parametrization_nevergrad: kwargs.get('generate_kwargs', {}) {}\n",
            "get ref from ( evaluate_simplifier) asset_valid_NER_ABCD\n",
            "test_set in evaluate_simplifier when get ori asset_valid\n",
            "encoder_json_path /content/drive/MyDrive/muss/resources/bart_bpe/encoder.json\n",
            "vocab_bpe_path /content/drive/MyDrive/muss/resources/bart_bpe/vocab.bpe\n"
          ]
        },
        {
          "output_type": "stream",
          "name": "stderr",
          "text": [
            "INFO:fairseq_cli.generate:Namespace(all_gather_list_size=16384, batch_size=None, batch_size_valid=None, beam=5, bf16=False, bpe=None, broadcast_buffers=False, bucket_cap_mb=25, checkpoint_shard_count=1, checkpoint_suffix='', constraints=None, cpu=False, criterion='cross_entropy', curriculum=0, data='/tmp/tmp5yas3_oo', data_buffer_size=10, dataset_impl='raw', ddp_backend='c10d', decoding_format=None, device_id=0, disable_validation=False, distributed_backend='nccl', distributed_init_method=None, distributed_no_spawn=False, distributed_port=-1, distributed_rank=0, distributed_world_size=1, distributed_wrapper='DDP', diverse_beam_groups=-1, diverse_beam_strength=0.5, diversity_rate=-1.0, empty_cache_freq=0, eval_bleu=False, eval_bleu_args=None, eval_bleu_detok='space', eval_bleu_detok_args=None, eval_bleu_print_samples=False, eval_bleu_remove_bpe=None, eval_tokenized_bleu=False, fast_stat_sync=False, find_unused_parameters=False, fix_batches_to_gpus=False, fixed_validation_seed=None, force_anneal=None, fp16=False, fp16_init_scale=128, fp16_no_flatten_grads=False, fp16_scale_tolerance=0.0, fp16_scale_window=None, gen_subset='tmp', iter_decode_eos_penalty=0.0, iter_decode_force_max_iter=False, iter_decode_max_iter=10, iter_decode_with_beam=1, iter_decode_with_external_reranker=False, left_pad_source='True', left_pad_target='False', lenpen=1.0, lm_path=None, lm_weight=0.0, load_alignments=False, localsgd_frequency=3, log_format=None, log_interval=100, lr_scheduler='fixed', lr_shrink=0.1, match_source_len=False, max_len_a=0, max_len_b=200, max_source_positions=1024, max_target_positions=1024, max_tokens=8000, max_tokens_valid=8000, memory_efficient_bf16=False, memory_efficient_fp16=False, min_len=1, min_loss_scale=0.0001, model_overrides=\"{'encoder_embed_path': None, 'decoder_embed_path': None}\", model_parallel_size=1, nbest=1, no_beamable_mm=False, no_early_stop=False, no_progress_bar=False, no_repeat_ngram_size=0, no_seed_provided=False, nprocs_per_node=1, num_batch_buckets=0, num_shards=1, num_workers=1, optimizer=None, path='/content/drive/MyDrive/muss/experiments/fairseq/local_1631567843618/model.pt', pipeline_balance=None, pipeline_checkpoint='never', pipeline_chunks=0, pipeline_decoder_balance=None, pipeline_decoder_devices=None, pipeline_devices=None, pipeline_encoder_balance=None, pipeline_encoder_devices=None, pipeline_model_parallel=False, prefix_size=0, print_alignment=False, print_step=False, profile=False, quantization_config_path=None, quiet=False, remove_bpe=None, replace_unk=None, required_batch_size_multiple=8, required_seq_len_multiple=1, results_path=None, retain_dropout=False, retain_dropout_modules=None, retain_iter_history=False, sacrebleu=False, sampling=False, sampling_topk=-1, sampling_topp=-1.0, score_reference=False, scoring='bleu', seed=1, shard_id=0, skip_invalid_size_inputs_valid_test=True, slowmo_algorithm='LocalSGD', slowmo_momentum=None, source_lang=None, target_lang=None, task='translation', temperature=1.0, tensorboard_logdir=None, threshold_loss_scale=None, tokenizer=None, tpu=False, train_subset='train', truncate_source=False, unkpen=0, unnormalized=False, upsample_primary=1, user_dir=None, valid_subset='valid', validate_after_updates=0, validate_interval=1, validate_interval_updates=0, warmup_updates=0, zero_sharding='none')\n",
            "INFO:fairseq.tasks.translation:[complex] dictionary: 50264 types\n",
            "INFO:fairseq.tasks.translation:[simple] dictionary: 50264 types\n"
          ]
        },
        {
          "output_type": "stream",
          "name": "stdout",
          "text": [
            "| use checkpoint_paths [PosixPath('/content/drive/MyDrive/muss/experiments/fairseq/local_1631567843618/model.pt')]\n"
          ]
        },
        {
          "output_type": "stream",
          "name": "stderr",
          "text": [
            "INFO:fairseq.data.data_utils:loaded 2000 examples from: /tmp/tmp5yas3_oo/tmp.complex-simple.complex\n",
            "INFO:fairseq.data.data_utils:loaded 2000 examples from: /tmp/tmp5yas3_oo/tmp.complex-simple.simple\n",
            "INFO:fairseq.tasks.translation:/tmp/tmp5yas3_oo tmp complex-simple 2000 examples\n",
            "INFO:fairseq_cli.generate:loading model(s) from /content/drive/MyDrive/muss/experiments/fairseq/local_1631567843618/model.pt\n",
            "INFO:fairseq_cli.generate:NOTE: hypothesis and token scores are output in base 2\n",
            "INFO:fairseq_cli.generate:Translated 2000 sentences (48384 tokens) in 115.0s (17.40 sentences/s, 420.89 tokens/s)\n",
            " 81%|████████▏ | 104/128 [4:24:58<1:04:01, 160.06s/it]"
          ]
        },
        {
          "output_type": "stream",
          "name": "stdout",
          "text": [
            "| IN find_best_parametrization_nevergrad: kwargs.get('generate_kwargs', {}) {}\n",
            "get ref from ( evaluate_simplifier) asset_valid_NER_ABCD\n",
            "test_set in evaluate_simplifier when get ori asset_valid\n",
            "encoder_json_path /content/drive/MyDrive/muss/resources/bart_bpe/encoder.json\n",
            "vocab_bpe_path /content/drive/MyDrive/muss/resources/bart_bpe/vocab.bpe\n"
          ]
        },
        {
          "output_type": "stream",
          "name": "stderr",
          "text": [
            "INFO:fairseq_cli.generate:Namespace(all_gather_list_size=16384, batch_size=None, batch_size_valid=None, beam=5, bf16=False, bpe=None, broadcast_buffers=False, bucket_cap_mb=25, checkpoint_shard_count=1, checkpoint_suffix='', constraints=None, cpu=False, criterion='cross_entropy', curriculum=0, data='/tmp/tmp_02n2fiz', data_buffer_size=10, dataset_impl='raw', ddp_backend='c10d', decoding_format=None, device_id=0, disable_validation=False, distributed_backend='nccl', distributed_init_method=None, distributed_no_spawn=False, distributed_port=-1, distributed_rank=0, distributed_world_size=1, distributed_wrapper='DDP', diverse_beam_groups=-1, diverse_beam_strength=0.5, diversity_rate=-1.0, empty_cache_freq=0, eval_bleu=False, eval_bleu_args=None, eval_bleu_detok='space', eval_bleu_detok_args=None, eval_bleu_print_samples=False, eval_bleu_remove_bpe=None, eval_tokenized_bleu=False, fast_stat_sync=False, find_unused_parameters=False, fix_batches_to_gpus=False, fixed_validation_seed=None, force_anneal=None, fp16=False, fp16_init_scale=128, fp16_no_flatten_grads=False, fp16_scale_tolerance=0.0, fp16_scale_window=None, gen_subset='tmp', iter_decode_eos_penalty=0.0, iter_decode_force_max_iter=False, iter_decode_max_iter=10, iter_decode_with_beam=1, iter_decode_with_external_reranker=False, left_pad_source='True', left_pad_target='False', lenpen=1.0, lm_path=None, lm_weight=0.0, load_alignments=False, localsgd_frequency=3, log_format=None, log_interval=100, lr_scheduler='fixed', lr_shrink=0.1, match_source_len=False, max_len_a=0, max_len_b=200, max_source_positions=1024, max_target_positions=1024, max_tokens=8000, max_tokens_valid=8000, memory_efficient_bf16=False, memory_efficient_fp16=False, min_len=1, min_loss_scale=0.0001, model_overrides=\"{'encoder_embed_path': None, 'decoder_embed_path': None}\", model_parallel_size=1, nbest=1, no_beamable_mm=False, no_early_stop=False, no_progress_bar=False, no_repeat_ngram_size=0, no_seed_provided=False, nprocs_per_node=1, num_batch_buckets=0, num_shards=1, num_workers=1, optimizer=None, path='/content/drive/MyDrive/muss/experiments/fairseq/local_1631567843618/model.pt', pipeline_balance=None, pipeline_checkpoint='never', pipeline_chunks=0, pipeline_decoder_balance=None, pipeline_decoder_devices=None, pipeline_devices=None, pipeline_encoder_balance=None, pipeline_encoder_devices=None, pipeline_model_parallel=False, prefix_size=0, print_alignment=False, print_step=False, profile=False, quantization_config_path=None, quiet=False, remove_bpe=None, replace_unk=None, required_batch_size_multiple=8, required_seq_len_multiple=1, results_path=None, retain_dropout=False, retain_dropout_modules=None, retain_iter_history=False, sacrebleu=False, sampling=False, sampling_topk=-1, sampling_topp=-1.0, score_reference=False, scoring='bleu', seed=1, shard_id=0, skip_invalid_size_inputs_valid_test=True, slowmo_algorithm='LocalSGD', slowmo_momentum=None, source_lang=None, target_lang=None, task='translation', temperature=1.0, tensorboard_logdir=None, threshold_loss_scale=None, tokenizer=None, tpu=False, train_subset='train', truncate_source=False, unkpen=0, unnormalized=False, upsample_primary=1, user_dir=None, valid_subset='valid', validate_after_updates=0, validate_interval=1, validate_interval_updates=0, warmup_updates=0, zero_sharding='none')\n",
            "INFO:fairseq.tasks.translation:[complex] dictionary: 50264 types\n",
            "INFO:fairseq.tasks.translation:[simple] dictionary: 50264 types\n"
          ]
        },
        {
          "output_type": "stream",
          "name": "stdout",
          "text": [
            "| use checkpoint_paths [PosixPath('/content/drive/MyDrive/muss/experiments/fairseq/local_1631567843618/model.pt')]\n"
          ]
        },
        {
          "output_type": "stream",
          "name": "stderr",
          "text": [
            "INFO:fairseq.data.data_utils:loaded 2000 examples from: /tmp/tmp_02n2fiz/tmp.complex-simple.complex\n",
            "INFO:fairseq.data.data_utils:loaded 2000 examples from: /tmp/tmp_02n2fiz/tmp.complex-simple.simple\n",
            "INFO:fairseq.tasks.translation:/tmp/tmp_02n2fiz tmp complex-simple 2000 examples\n",
            "INFO:fairseq_cli.generate:loading model(s) from /content/drive/MyDrive/muss/experiments/fairseq/local_1631567843618/model.pt\n",
            "INFO:fairseq_cli.generate:NOTE: hypothesis and token scores are output in base 2\n",
            "INFO:fairseq_cli.generate:Translated 2000 sentences (48384 tokens) in 115.2s (17.37 sentences/s, 420.16 tokens/s)\n",
            " 82%|████████▏ | 105/128 [4:27:38<1:01:20, 160.01s/it]"
          ]
        },
        {
          "output_type": "stream",
          "name": "stdout",
          "text": [
            "| IN find_best_parametrization_nevergrad: kwargs.get('generate_kwargs', {}) {}\n",
            "get ref from ( evaluate_simplifier) asset_valid_NER_ABCD\n",
            "test_set in evaluate_simplifier when get ori asset_valid\n",
            "encoder_json_path /content/drive/MyDrive/muss/resources/bart_bpe/encoder.json\n",
            "vocab_bpe_path /content/drive/MyDrive/muss/resources/bart_bpe/vocab.bpe\n"
          ]
        },
        {
          "output_type": "stream",
          "name": "stderr",
          "text": [
            "INFO:fairseq_cli.generate:Namespace(all_gather_list_size=16384, batch_size=None, batch_size_valid=None, beam=5, bf16=False, bpe=None, broadcast_buffers=False, bucket_cap_mb=25, checkpoint_shard_count=1, checkpoint_suffix='', constraints=None, cpu=False, criterion='cross_entropy', curriculum=0, data='/tmp/tmps7dxb1ak', data_buffer_size=10, dataset_impl='raw', ddp_backend='c10d', decoding_format=None, device_id=0, disable_validation=False, distributed_backend='nccl', distributed_init_method=None, distributed_no_spawn=False, distributed_port=-1, distributed_rank=0, distributed_world_size=1, distributed_wrapper='DDP', diverse_beam_groups=-1, diverse_beam_strength=0.5, diversity_rate=-1.0, empty_cache_freq=0, eval_bleu=False, eval_bleu_args=None, eval_bleu_detok='space', eval_bleu_detok_args=None, eval_bleu_print_samples=False, eval_bleu_remove_bpe=None, eval_tokenized_bleu=False, fast_stat_sync=False, find_unused_parameters=False, fix_batches_to_gpus=False, fixed_validation_seed=None, force_anneal=None, fp16=False, fp16_init_scale=128, fp16_no_flatten_grads=False, fp16_scale_tolerance=0.0, fp16_scale_window=None, gen_subset='tmp', iter_decode_eos_penalty=0.0, iter_decode_force_max_iter=False, iter_decode_max_iter=10, iter_decode_with_beam=1, iter_decode_with_external_reranker=False, left_pad_source='True', left_pad_target='False', lenpen=1.0, lm_path=None, lm_weight=0.0, load_alignments=False, localsgd_frequency=3, log_format=None, log_interval=100, lr_scheduler='fixed', lr_shrink=0.1, match_source_len=False, max_len_a=0, max_len_b=200, max_source_positions=1024, max_target_positions=1024, max_tokens=8000, max_tokens_valid=8000, memory_efficient_bf16=False, memory_efficient_fp16=False, min_len=1, min_loss_scale=0.0001, model_overrides=\"{'encoder_embed_path': None, 'decoder_embed_path': None}\", model_parallel_size=1, nbest=1, no_beamable_mm=False, no_early_stop=False, no_progress_bar=False, no_repeat_ngram_size=0, no_seed_provided=False, nprocs_per_node=1, num_batch_buckets=0, num_shards=1, num_workers=1, optimizer=None, path='/content/drive/MyDrive/muss/experiments/fairseq/local_1631567843618/model.pt', pipeline_balance=None, pipeline_checkpoint='never', pipeline_chunks=0, pipeline_decoder_balance=None, pipeline_decoder_devices=None, pipeline_devices=None, pipeline_encoder_balance=None, pipeline_encoder_devices=None, pipeline_model_parallel=False, prefix_size=0, print_alignment=False, print_step=False, profile=False, quantization_config_path=None, quiet=False, remove_bpe=None, replace_unk=None, required_batch_size_multiple=8, required_seq_len_multiple=1, results_path=None, retain_dropout=False, retain_dropout_modules=None, retain_iter_history=False, sacrebleu=False, sampling=False, sampling_topk=-1, sampling_topp=-1.0, score_reference=False, scoring='bleu', seed=1, shard_id=0, skip_invalid_size_inputs_valid_test=True, slowmo_algorithm='LocalSGD', slowmo_momentum=None, source_lang=None, target_lang=None, task='translation', temperature=1.0, tensorboard_logdir=None, threshold_loss_scale=None, tokenizer=None, tpu=False, train_subset='train', truncate_source=False, unkpen=0, unnormalized=False, upsample_primary=1, user_dir=None, valid_subset='valid', validate_after_updates=0, validate_interval=1, validate_interval_updates=0, warmup_updates=0, zero_sharding='none')\n",
            "INFO:fairseq.tasks.translation:[complex] dictionary: 50264 types\n",
            "INFO:fairseq.tasks.translation:[simple] dictionary: 50264 types\n"
          ]
        },
        {
          "output_type": "stream",
          "name": "stdout",
          "text": [
            "| use checkpoint_paths [PosixPath('/content/drive/MyDrive/muss/experiments/fairseq/local_1631567843618/model.pt')]\n"
          ]
        },
        {
          "output_type": "stream",
          "name": "stderr",
          "text": [
            "INFO:fairseq.data.data_utils:loaded 2000 examples from: /tmp/tmps7dxb1ak/tmp.complex-simple.complex\n",
            "INFO:fairseq.data.data_utils:loaded 2000 examples from: /tmp/tmps7dxb1ak/tmp.complex-simple.simple\n",
            "INFO:fairseq.tasks.translation:/tmp/tmps7dxb1ak tmp complex-simple 2000 examples\n",
            "INFO:fairseq_cli.generate:loading model(s) from /content/drive/MyDrive/muss/experiments/fairseq/local_1631567843618/model.pt\n",
            "INFO:fairseq_cli.generate:NOTE: hypothesis and token scores are output in base 2\n",
            "INFO:fairseq_cli.generate:Translated 2000 sentences (48384 tokens) in 115.2s (17.36 sentences/s, 420.00 tokens/s)\n",
            " 83%|████████▎ | 106/128 [4:30:18<58:41, 160.09s/it]  "
          ]
        },
        {
          "output_type": "stream",
          "name": "stdout",
          "text": [
            "| IN find_best_parametrization_nevergrad: kwargs.get('generate_kwargs', {}) {}\n",
            "get ref from ( evaluate_simplifier) asset_valid_NER_ABCD\n",
            "test_set in evaluate_simplifier when get ori asset_valid\n",
            "encoder_json_path /content/drive/MyDrive/muss/resources/bart_bpe/encoder.json\n",
            "vocab_bpe_path /content/drive/MyDrive/muss/resources/bart_bpe/vocab.bpe\n"
          ]
        },
        {
          "output_type": "stream",
          "name": "stderr",
          "text": [
            "INFO:fairseq_cli.generate:Namespace(all_gather_list_size=16384, batch_size=None, batch_size_valid=None, beam=5, bf16=False, bpe=None, broadcast_buffers=False, bucket_cap_mb=25, checkpoint_shard_count=1, checkpoint_suffix='', constraints=None, cpu=False, criterion='cross_entropy', curriculum=0, data='/tmp/tmp2gty68p4', data_buffer_size=10, dataset_impl='raw', ddp_backend='c10d', decoding_format=None, device_id=0, disable_validation=False, distributed_backend='nccl', distributed_init_method=None, distributed_no_spawn=False, distributed_port=-1, distributed_rank=0, distributed_world_size=1, distributed_wrapper='DDP', diverse_beam_groups=-1, diverse_beam_strength=0.5, diversity_rate=-1.0, empty_cache_freq=0, eval_bleu=False, eval_bleu_args=None, eval_bleu_detok='space', eval_bleu_detok_args=None, eval_bleu_print_samples=False, eval_bleu_remove_bpe=None, eval_tokenized_bleu=False, fast_stat_sync=False, find_unused_parameters=False, fix_batches_to_gpus=False, fixed_validation_seed=None, force_anneal=None, fp16=False, fp16_init_scale=128, fp16_no_flatten_grads=False, fp16_scale_tolerance=0.0, fp16_scale_window=None, gen_subset='tmp', iter_decode_eos_penalty=0.0, iter_decode_force_max_iter=False, iter_decode_max_iter=10, iter_decode_with_beam=1, iter_decode_with_external_reranker=False, left_pad_source='True', left_pad_target='False', lenpen=1.0, lm_path=None, lm_weight=0.0, load_alignments=False, localsgd_frequency=3, log_format=None, log_interval=100, lr_scheduler='fixed', lr_shrink=0.1, match_source_len=False, max_len_a=0, max_len_b=200, max_source_positions=1024, max_target_positions=1024, max_tokens=8000, max_tokens_valid=8000, memory_efficient_bf16=False, memory_efficient_fp16=False, min_len=1, min_loss_scale=0.0001, model_overrides=\"{'encoder_embed_path': None, 'decoder_embed_path': None}\", model_parallel_size=1, nbest=1, no_beamable_mm=False, no_early_stop=False, no_progress_bar=False, no_repeat_ngram_size=0, no_seed_provided=False, nprocs_per_node=1, num_batch_buckets=0, num_shards=1, num_workers=1, optimizer=None, path='/content/drive/MyDrive/muss/experiments/fairseq/local_1631567843618/model.pt', pipeline_balance=None, pipeline_checkpoint='never', pipeline_chunks=0, pipeline_decoder_balance=None, pipeline_decoder_devices=None, pipeline_devices=None, pipeline_encoder_balance=None, pipeline_encoder_devices=None, pipeline_model_parallel=False, prefix_size=0, print_alignment=False, print_step=False, profile=False, quantization_config_path=None, quiet=False, remove_bpe=None, replace_unk=None, required_batch_size_multiple=8, required_seq_len_multiple=1, results_path=None, retain_dropout=False, retain_dropout_modules=None, retain_iter_history=False, sacrebleu=False, sampling=False, sampling_topk=-1, sampling_topp=-1.0, score_reference=False, scoring='bleu', seed=1, shard_id=0, skip_invalid_size_inputs_valid_test=True, slowmo_algorithm='LocalSGD', slowmo_momentum=None, source_lang=None, target_lang=None, task='translation', temperature=1.0, tensorboard_logdir=None, threshold_loss_scale=None, tokenizer=None, tpu=False, train_subset='train', truncate_source=False, unkpen=0, unnormalized=False, upsample_primary=1, user_dir=None, valid_subset='valid', validate_after_updates=0, validate_interval=1, validate_interval_updates=0, warmup_updates=0, zero_sharding='none')\n",
            "INFO:fairseq.tasks.translation:[complex] dictionary: 50264 types\n",
            "INFO:fairseq.tasks.translation:[simple] dictionary: 50264 types\n"
          ]
        },
        {
          "output_type": "stream",
          "name": "stdout",
          "text": [
            "| use checkpoint_paths [PosixPath('/content/drive/MyDrive/muss/experiments/fairseq/local_1631567843618/model.pt')]\n"
          ]
        },
        {
          "output_type": "stream",
          "name": "stderr",
          "text": [
            "INFO:fairseq.data.data_utils:loaded 2000 examples from: /tmp/tmp2gty68p4/tmp.complex-simple.complex\n",
            "INFO:fairseq.data.data_utils:loaded 2000 examples from: /tmp/tmp2gty68p4/tmp.complex-simple.simple\n",
            "INFO:fairseq.tasks.translation:/tmp/tmp2gty68p4 tmp complex-simple 2000 examples\n",
            "INFO:fairseq_cli.generate:loading model(s) from /content/drive/MyDrive/muss/experiments/fairseq/local_1631567843618/model.pt\n",
            "INFO:fairseq_cli.generate:NOTE: hypothesis and token scores are output in base 2\n",
            "INFO:fairseq_cli.generate:Translated 2000 sentences (48384 tokens) in 115.0s (17.38 sentences/s, 420.56 tokens/s)\n",
            " 84%|████████▎ | 107/128 [4:32:58<55:57, 159.90s/it]"
          ]
        },
        {
          "output_type": "stream",
          "name": "stdout",
          "text": [
            "| IN find_best_parametrization_nevergrad: kwargs.get('generate_kwargs', {}) {}\n",
            "get ref from ( evaluate_simplifier) asset_valid_NER_ABCD\n",
            "test_set in evaluate_simplifier when get ori asset_valid\n",
            "encoder_json_path /content/drive/MyDrive/muss/resources/bart_bpe/encoder.json\n",
            "vocab_bpe_path /content/drive/MyDrive/muss/resources/bart_bpe/vocab.bpe\n"
          ]
        },
        {
          "output_type": "stream",
          "name": "stderr",
          "text": [
            "INFO:fairseq_cli.generate:Namespace(all_gather_list_size=16384, batch_size=None, batch_size_valid=None, beam=5, bf16=False, bpe=None, broadcast_buffers=False, bucket_cap_mb=25, checkpoint_shard_count=1, checkpoint_suffix='', constraints=None, cpu=False, criterion='cross_entropy', curriculum=0, data='/tmp/tmpg25rgsec', data_buffer_size=10, dataset_impl='raw', ddp_backend='c10d', decoding_format=None, device_id=0, disable_validation=False, distributed_backend='nccl', distributed_init_method=None, distributed_no_spawn=False, distributed_port=-1, distributed_rank=0, distributed_world_size=1, distributed_wrapper='DDP', diverse_beam_groups=-1, diverse_beam_strength=0.5, diversity_rate=-1.0, empty_cache_freq=0, eval_bleu=False, eval_bleu_args=None, eval_bleu_detok='space', eval_bleu_detok_args=None, eval_bleu_print_samples=False, eval_bleu_remove_bpe=None, eval_tokenized_bleu=False, fast_stat_sync=False, find_unused_parameters=False, fix_batches_to_gpus=False, fixed_validation_seed=None, force_anneal=None, fp16=False, fp16_init_scale=128, fp16_no_flatten_grads=False, fp16_scale_tolerance=0.0, fp16_scale_window=None, gen_subset='tmp', iter_decode_eos_penalty=0.0, iter_decode_force_max_iter=False, iter_decode_max_iter=10, iter_decode_with_beam=1, iter_decode_with_external_reranker=False, left_pad_source='True', left_pad_target='False', lenpen=1.0, lm_path=None, lm_weight=0.0, load_alignments=False, localsgd_frequency=3, log_format=None, log_interval=100, lr_scheduler='fixed', lr_shrink=0.1, match_source_len=False, max_len_a=0, max_len_b=200, max_source_positions=1024, max_target_positions=1024, max_tokens=8000, max_tokens_valid=8000, memory_efficient_bf16=False, memory_efficient_fp16=False, min_len=1, min_loss_scale=0.0001, model_overrides=\"{'encoder_embed_path': None, 'decoder_embed_path': None}\", model_parallel_size=1, nbest=1, no_beamable_mm=False, no_early_stop=False, no_progress_bar=False, no_repeat_ngram_size=0, no_seed_provided=False, nprocs_per_node=1, num_batch_buckets=0, num_shards=1, num_workers=1, optimizer=None, path='/content/drive/MyDrive/muss/experiments/fairseq/local_1631567843618/model.pt', pipeline_balance=None, pipeline_checkpoint='never', pipeline_chunks=0, pipeline_decoder_balance=None, pipeline_decoder_devices=None, pipeline_devices=None, pipeline_encoder_balance=None, pipeline_encoder_devices=None, pipeline_model_parallel=False, prefix_size=0, print_alignment=False, print_step=False, profile=False, quantization_config_path=None, quiet=False, remove_bpe=None, replace_unk=None, required_batch_size_multiple=8, required_seq_len_multiple=1, results_path=None, retain_dropout=False, retain_dropout_modules=None, retain_iter_history=False, sacrebleu=False, sampling=False, sampling_topk=-1, sampling_topp=-1.0, score_reference=False, scoring='bleu', seed=1, shard_id=0, skip_invalid_size_inputs_valid_test=True, slowmo_algorithm='LocalSGD', slowmo_momentum=None, source_lang=None, target_lang=None, task='translation', temperature=1.0, tensorboard_logdir=None, threshold_loss_scale=None, tokenizer=None, tpu=False, train_subset='train', truncate_source=False, unkpen=0, unnormalized=False, upsample_primary=1, user_dir=None, valid_subset='valid', validate_after_updates=0, validate_interval=1, validate_interval_updates=0, warmup_updates=0, zero_sharding='none')\n",
            "INFO:fairseq.tasks.translation:[complex] dictionary: 50264 types\n",
            "INFO:fairseq.tasks.translation:[simple] dictionary: 50264 types\n"
          ]
        },
        {
          "output_type": "stream",
          "name": "stdout",
          "text": [
            "| use checkpoint_paths [PosixPath('/content/drive/MyDrive/muss/experiments/fairseq/local_1631567843618/model.pt')]\n"
          ]
        },
        {
          "output_type": "stream",
          "name": "stderr",
          "text": [
            "INFO:fairseq.data.data_utils:loaded 2000 examples from: /tmp/tmpg25rgsec/tmp.complex-simple.complex\n",
            "INFO:fairseq.data.data_utils:loaded 2000 examples from: /tmp/tmpg25rgsec/tmp.complex-simple.simple\n",
            "INFO:fairseq.tasks.translation:/tmp/tmpg25rgsec tmp complex-simple 2000 examples\n",
            "INFO:fairseq_cli.generate:loading model(s) from /content/drive/MyDrive/muss/experiments/fairseq/local_1631567843618/model.pt\n",
            "INFO:fairseq_cli.generate:NOTE: hypothesis and token scores are output in base 2\n",
            "INFO:fairseq_cli.generate:Translated 2000 sentences (48384 tokens) in 115.8s (17.27 sentences/s, 417.84 tokens/s)\n",
            " 84%|████████▍ | 108/128 [4:35:39<53:26, 160.31s/it]"
          ]
        },
        {
          "output_type": "stream",
          "name": "stdout",
          "text": [
            "| IN find_best_parametrization_nevergrad: kwargs.get('generate_kwargs', {}) {}\n",
            "get ref from ( evaluate_simplifier) asset_valid_NER_ABCD\n",
            "test_set in evaluate_simplifier when get ori asset_valid\n",
            "encoder_json_path /content/drive/MyDrive/muss/resources/bart_bpe/encoder.json\n",
            "vocab_bpe_path /content/drive/MyDrive/muss/resources/bart_bpe/vocab.bpe\n"
          ]
        },
        {
          "output_type": "stream",
          "name": "stderr",
          "text": [
            "INFO:fairseq_cli.generate:Namespace(all_gather_list_size=16384, batch_size=None, batch_size_valid=None, beam=5, bf16=False, bpe=None, broadcast_buffers=False, bucket_cap_mb=25, checkpoint_shard_count=1, checkpoint_suffix='', constraints=None, cpu=False, criterion='cross_entropy', curriculum=0, data='/tmp/tmp4cclpkkm', data_buffer_size=10, dataset_impl='raw', ddp_backend='c10d', decoding_format=None, device_id=0, disable_validation=False, distributed_backend='nccl', distributed_init_method=None, distributed_no_spawn=False, distributed_port=-1, distributed_rank=0, distributed_world_size=1, distributed_wrapper='DDP', diverse_beam_groups=-1, diverse_beam_strength=0.5, diversity_rate=-1.0, empty_cache_freq=0, eval_bleu=False, eval_bleu_args=None, eval_bleu_detok='space', eval_bleu_detok_args=None, eval_bleu_print_samples=False, eval_bleu_remove_bpe=None, eval_tokenized_bleu=False, fast_stat_sync=False, find_unused_parameters=False, fix_batches_to_gpus=False, fixed_validation_seed=None, force_anneal=None, fp16=False, fp16_init_scale=128, fp16_no_flatten_grads=False, fp16_scale_tolerance=0.0, fp16_scale_window=None, gen_subset='tmp', iter_decode_eos_penalty=0.0, iter_decode_force_max_iter=False, iter_decode_max_iter=10, iter_decode_with_beam=1, iter_decode_with_external_reranker=False, left_pad_source='True', left_pad_target='False', lenpen=1.0, lm_path=None, lm_weight=0.0, load_alignments=False, localsgd_frequency=3, log_format=None, log_interval=100, lr_scheduler='fixed', lr_shrink=0.1, match_source_len=False, max_len_a=0, max_len_b=200, max_source_positions=1024, max_target_positions=1024, max_tokens=8000, max_tokens_valid=8000, memory_efficient_bf16=False, memory_efficient_fp16=False, min_len=1, min_loss_scale=0.0001, model_overrides=\"{'encoder_embed_path': None, 'decoder_embed_path': None}\", model_parallel_size=1, nbest=1, no_beamable_mm=False, no_early_stop=False, no_progress_bar=False, no_repeat_ngram_size=0, no_seed_provided=False, nprocs_per_node=1, num_batch_buckets=0, num_shards=1, num_workers=1, optimizer=None, path='/content/drive/MyDrive/muss/experiments/fairseq/local_1631567843618/model.pt', pipeline_balance=None, pipeline_checkpoint='never', pipeline_chunks=0, pipeline_decoder_balance=None, pipeline_decoder_devices=None, pipeline_devices=None, pipeline_encoder_balance=None, pipeline_encoder_devices=None, pipeline_model_parallel=False, prefix_size=0, print_alignment=False, print_step=False, profile=False, quantization_config_path=None, quiet=False, remove_bpe=None, replace_unk=None, required_batch_size_multiple=8, required_seq_len_multiple=1, results_path=None, retain_dropout=False, retain_dropout_modules=None, retain_iter_history=False, sacrebleu=False, sampling=False, sampling_topk=-1, sampling_topp=-1.0, score_reference=False, scoring='bleu', seed=1, shard_id=0, skip_invalid_size_inputs_valid_test=True, slowmo_algorithm='LocalSGD', slowmo_momentum=None, source_lang=None, target_lang=None, task='translation', temperature=1.0, tensorboard_logdir=None, threshold_loss_scale=None, tokenizer=None, tpu=False, train_subset='train', truncate_source=False, unkpen=0, unnormalized=False, upsample_primary=1, user_dir=None, valid_subset='valid', validate_after_updates=0, validate_interval=1, validate_interval_updates=0, warmup_updates=0, zero_sharding='none')\n",
            "INFO:fairseq.tasks.translation:[complex] dictionary: 50264 types\n",
            "INFO:fairseq.tasks.translation:[simple] dictionary: 50264 types\n"
          ]
        },
        {
          "output_type": "stream",
          "name": "stdout",
          "text": [
            "| use checkpoint_paths [PosixPath('/content/drive/MyDrive/muss/experiments/fairseq/local_1631567843618/model.pt')]\n"
          ]
        },
        {
          "output_type": "stream",
          "name": "stderr",
          "text": [
            "INFO:fairseq.data.data_utils:loaded 2000 examples from: /tmp/tmp4cclpkkm/tmp.complex-simple.complex\n",
            "INFO:fairseq.data.data_utils:loaded 2000 examples from: /tmp/tmp4cclpkkm/tmp.complex-simple.simple\n",
            "INFO:fairseq.tasks.translation:/tmp/tmp4cclpkkm tmp complex-simple 2000 examples\n",
            "INFO:fairseq_cli.generate:loading model(s) from /content/drive/MyDrive/muss/experiments/fairseq/local_1631567843618/model.pt\n",
            "INFO:fairseq_cli.generate:NOTE: hypothesis and token scores are output in base 2\n",
            "INFO:fairseq_cli.generate:Translated 2000 sentences (48129 tokens) in 115.1s (17.38 sentences/s, 418.14 tokens/s)\n",
            " 85%|████████▌ | 109/128 [4:38:19<50:43, 160.20s/it]"
          ]
        },
        {
          "output_type": "stream",
          "name": "stdout",
          "text": [
            "| IN find_best_parametrization_nevergrad: kwargs.get('generate_kwargs', {}) {}\n",
            "get ref from ( evaluate_simplifier) asset_valid_NER_ABCD\n",
            "test_set in evaluate_simplifier when get ori asset_valid\n",
            "encoder_json_path /content/drive/MyDrive/muss/resources/bart_bpe/encoder.json\n",
            "vocab_bpe_path /content/drive/MyDrive/muss/resources/bart_bpe/vocab.bpe\n"
          ]
        },
        {
          "output_type": "stream",
          "name": "stderr",
          "text": [
            "INFO:fairseq_cli.generate:Namespace(all_gather_list_size=16384, batch_size=None, batch_size_valid=None, beam=5, bf16=False, bpe=None, broadcast_buffers=False, bucket_cap_mb=25, checkpoint_shard_count=1, checkpoint_suffix='', constraints=None, cpu=False, criterion='cross_entropy', curriculum=0, data='/tmp/tmp2fbfg53b', data_buffer_size=10, dataset_impl='raw', ddp_backend='c10d', decoding_format=None, device_id=0, disable_validation=False, distributed_backend='nccl', distributed_init_method=None, distributed_no_spawn=False, distributed_port=-1, distributed_rank=0, distributed_world_size=1, distributed_wrapper='DDP', diverse_beam_groups=-1, diverse_beam_strength=0.5, diversity_rate=-1.0, empty_cache_freq=0, eval_bleu=False, eval_bleu_args=None, eval_bleu_detok='space', eval_bleu_detok_args=None, eval_bleu_print_samples=False, eval_bleu_remove_bpe=None, eval_tokenized_bleu=False, fast_stat_sync=False, find_unused_parameters=False, fix_batches_to_gpus=False, fixed_validation_seed=None, force_anneal=None, fp16=False, fp16_init_scale=128, fp16_no_flatten_grads=False, fp16_scale_tolerance=0.0, fp16_scale_window=None, gen_subset='tmp', iter_decode_eos_penalty=0.0, iter_decode_force_max_iter=False, iter_decode_max_iter=10, iter_decode_with_beam=1, iter_decode_with_external_reranker=False, left_pad_source='True', left_pad_target='False', lenpen=1.0, lm_path=None, lm_weight=0.0, load_alignments=False, localsgd_frequency=3, log_format=None, log_interval=100, lr_scheduler='fixed', lr_shrink=0.1, match_source_len=False, max_len_a=0, max_len_b=200, max_source_positions=1024, max_target_positions=1024, max_tokens=8000, max_tokens_valid=8000, memory_efficient_bf16=False, memory_efficient_fp16=False, min_len=1, min_loss_scale=0.0001, model_overrides=\"{'encoder_embed_path': None, 'decoder_embed_path': None}\", model_parallel_size=1, nbest=1, no_beamable_mm=False, no_early_stop=False, no_progress_bar=False, no_repeat_ngram_size=0, no_seed_provided=False, nprocs_per_node=1, num_batch_buckets=0, num_shards=1, num_workers=1, optimizer=None, path='/content/drive/MyDrive/muss/experiments/fairseq/local_1631567843618/model.pt', pipeline_balance=None, pipeline_checkpoint='never', pipeline_chunks=0, pipeline_decoder_balance=None, pipeline_decoder_devices=None, pipeline_devices=None, pipeline_encoder_balance=None, pipeline_encoder_devices=None, pipeline_model_parallel=False, prefix_size=0, print_alignment=False, print_step=False, profile=False, quantization_config_path=None, quiet=False, remove_bpe=None, replace_unk=None, required_batch_size_multiple=8, required_seq_len_multiple=1, results_path=None, retain_dropout=False, retain_dropout_modules=None, retain_iter_history=False, sacrebleu=False, sampling=False, sampling_topk=-1, sampling_topp=-1.0, score_reference=False, scoring='bleu', seed=1, shard_id=0, skip_invalid_size_inputs_valid_test=True, slowmo_algorithm='LocalSGD', slowmo_momentum=None, source_lang=None, target_lang=None, task='translation', temperature=1.0, tensorboard_logdir=None, threshold_loss_scale=None, tokenizer=None, tpu=False, train_subset='train', truncate_source=False, unkpen=0, unnormalized=False, upsample_primary=1, user_dir=None, valid_subset='valid', validate_after_updates=0, validate_interval=1, validate_interval_updates=0, warmup_updates=0, zero_sharding='none')\n",
            "INFO:fairseq.tasks.translation:[complex] dictionary: 50264 types\n",
            "INFO:fairseq.tasks.translation:[simple] dictionary: 50264 types\n"
          ]
        },
        {
          "output_type": "stream",
          "name": "stdout",
          "text": [
            "| use checkpoint_paths [PosixPath('/content/drive/MyDrive/muss/experiments/fairseq/local_1631567843618/model.pt')]\n"
          ]
        },
        {
          "output_type": "stream",
          "name": "stderr",
          "text": [
            "INFO:fairseq.data.data_utils:loaded 2000 examples from: /tmp/tmp2fbfg53b/tmp.complex-simple.complex\n",
            "INFO:fairseq.data.data_utils:loaded 2000 examples from: /tmp/tmp2fbfg53b/tmp.complex-simple.simple\n",
            "INFO:fairseq.tasks.translation:/tmp/tmp2fbfg53b tmp complex-simple 2000 examples\n",
            "INFO:fairseq_cli.generate:loading model(s) from /content/drive/MyDrive/muss/experiments/fairseq/local_1631567843618/model.pt\n",
            "INFO:fairseq_cli.generate:NOTE: hypothesis and token scores are output in base 2\n",
            "INFO:fairseq_cli.generate:Translated 2000 sentences (48129 tokens) in 114.9s (17.41 sentences/s, 418.86 tokens/s)\n",
            " 86%|████████▌ | 110/128 [4:40:59<48:00, 160.05s/it]"
          ]
        },
        {
          "output_type": "stream",
          "name": "stdout",
          "text": [
            "| IN find_best_parametrization_nevergrad: kwargs.get('generate_kwargs', {}) {}\n",
            "get ref from ( evaluate_simplifier) asset_valid_NER_ABCD\n",
            "test_set in evaluate_simplifier when get ori asset_valid\n",
            "encoder_json_path /content/drive/MyDrive/muss/resources/bart_bpe/encoder.json\n",
            "vocab_bpe_path /content/drive/MyDrive/muss/resources/bart_bpe/vocab.bpe\n"
          ]
        },
        {
          "output_type": "stream",
          "name": "stderr",
          "text": [
            "INFO:fairseq_cli.generate:Namespace(all_gather_list_size=16384, batch_size=None, batch_size_valid=None, beam=5, bf16=False, bpe=None, broadcast_buffers=False, bucket_cap_mb=25, checkpoint_shard_count=1, checkpoint_suffix='', constraints=None, cpu=False, criterion='cross_entropy', curriculum=0, data='/tmp/tmp93e12_7_', data_buffer_size=10, dataset_impl='raw', ddp_backend='c10d', decoding_format=None, device_id=0, disable_validation=False, distributed_backend='nccl', distributed_init_method=None, distributed_no_spawn=False, distributed_port=-1, distributed_rank=0, distributed_world_size=1, distributed_wrapper='DDP', diverse_beam_groups=-1, diverse_beam_strength=0.5, diversity_rate=-1.0, empty_cache_freq=0, eval_bleu=False, eval_bleu_args=None, eval_bleu_detok='space', eval_bleu_detok_args=None, eval_bleu_print_samples=False, eval_bleu_remove_bpe=None, eval_tokenized_bleu=False, fast_stat_sync=False, find_unused_parameters=False, fix_batches_to_gpus=False, fixed_validation_seed=None, force_anneal=None, fp16=False, fp16_init_scale=128, fp16_no_flatten_grads=False, fp16_scale_tolerance=0.0, fp16_scale_window=None, gen_subset='tmp', iter_decode_eos_penalty=0.0, iter_decode_force_max_iter=False, iter_decode_max_iter=10, iter_decode_with_beam=1, iter_decode_with_external_reranker=False, left_pad_source='True', left_pad_target='False', lenpen=1.0, lm_path=None, lm_weight=0.0, load_alignments=False, localsgd_frequency=3, log_format=None, log_interval=100, lr_scheduler='fixed', lr_shrink=0.1, match_source_len=False, max_len_a=0, max_len_b=200, max_source_positions=1024, max_target_positions=1024, max_tokens=8000, max_tokens_valid=8000, memory_efficient_bf16=False, memory_efficient_fp16=False, min_len=1, min_loss_scale=0.0001, model_overrides=\"{'encoder_embed_path': None, 'decoder_embed_path': None}\", model_parallel_size=1, nbest=1, no_beamable_mm=False, no_early_stop=False, no_progress_bar=False, no_repeat_ngram_size=0, no_seed_provided=False, nprocs_per_node=1, num_batch_buckets=0, num_shards=1, num_workers=1, optimizer=None, path='/content/drive/MyDrive/muss/experiments/fairseq/local_1631567843618/model.pt', pipeline_balance=None, pipeline_checkpoint='never', pipeline_chunks=0, pipeline_decoder_balance=None, pipeline_decoder_devices=None, pipeline_devices=None, pipeline_encoder_balance=None, pipeline_encoder_devices=None, pipeline_model_parallel=False, prefix_size=0, print_alignment=False, print_step=False, profile=False, quantization_config_path=None, quiet=False, remove_bpe=None, replace_unk=None, required_batch_size_multiple=8, required_seq_len_multiple=1, results_path=None, retain_dropout=False, retain_dropout_modules=None, retain_iter_history=False, sacrebleu=False, sampling=False, sampling_topk=-1, sampling_topp=-1.0, score_reference=False, scoring='bleu', seed=1, shard_id=0, skip_invalid_size_inputs_valid_test=True, slowmo_algorithm='LocalSGD', slowmo_momentum=None, source_lang=None, target_lang=None, task='translation', temperature=1.0, tensorboard_logdir=None, threshold_loss_scale=None, tokenizer=None, tpu=False, train_subset='train', truncate_source=False, unkpen=0, unnormalized=False, upsample_primary=1, user_dir=None, valid_subset='valid', validate_after_updates=0, validate_interval=1, validate_interval_updates=0, warmup_updates=0, zero_sharding='none')\n",
            "INFO:fairseq.tasks.translation:[complex] dictionary: 50264 types\n",
            "INFO:fairseq.tasks.translation:[simple] dictionary: 50264 types\n"
          ]
        },
        {
          "output_type": "stream",
          "name": "stdout",
          "text": [
            "| use checkpoint_paths [PosixPath('/content/drive/MyDrive/muss/experiments/fairseq/local_1631567843618/model.pt')]\n"
          ]
        },
        {
          "output_type": "stream",
          "name": "stderr",
          "text": [
            "INFO:fairseq.data.data_utils:loaded 2000 examples from: /tmp/tmp93e12_7_/tmp.complex-simple.complex\n",
            "INFO:fairseq.data.data_utils:loaded 2000 examples from: /tmp/tmp93e12_7_/tmp.complex-simple.simple\n",
            "INFO:fairseq.tasks.translation:/tmp/tmp93e12_7_ tmp complex-simple 2000 examples\n",
            "INFO:fairseq_cli.generate:loading model(s) from /content/drive/MyDrive/muss/experiments/fairseq/local_1631567843618/model.pt\n",
            "INFO:fairseq_cli.generate:NOTE: hypothesis and token scores are output in base 2\n",
            "INFO:fairseq_cli.generate:Translated 2000 sentences (48129 tokens) in 114.7s (17.44 sentences/s, 419.67 tokens/s)\n",
            " 87%|████████▋ | 111/128 [4:43:38<45:18, 159.91s/it]"
          ]
        },
        {
          "output_type": "stream",
          "name": "stdout",
          "text": [
            "| IN find_best_parametrization_nevergrad: kwargs.get('generate_kwargs', {}) {}\n",
            "get ref from ( evaluate_simplifier) asset_valid_NER_ABCD\n",
            "test_set in evaluate_simplifier when get ori asset_valid\n",
            "encoder_json_path /content/drive/MyDrive/muss/resources/bart_bpe/encoder.json\n",
            "vocab_bpe_path /content/drive/MyDrive/muss/resources/bart_bpe/vocab.bpe\n"
          ]
        },
        {
          "output_type": "stream",
          "name": "stderr",
          "text": [
            "INFO:fairseq_cli.generate:Namespace(all_gather_list_size=16384, batch_size=None, batch_size_valid=None, beam=5, bf16=False, bpe=None, broadcast_buffers=False, bucket_cap_mb=25, checkpoint_shard_count=1, checkpoint_suffix='', constraints=None, cpu=False, criterion='cross_entropy', curriculum=0, data='/tmp/tmpohnnenv7', data_buffer_size=10, dataset_impl='raw', ddp_backend='c10d', decoding_format=None, device_id=0, disable_validation=False, distributed_backend='nccl', distributed_init_method=None, distributed_no_spawn=False, distributed_port=-1, distributed_rank=0, distributed_world_size=1, distributed_wrapper='DDP', diverse_beam_groups=-1, diverse_beam_strength=0.5, diversity_rate=-1.0, empty_cache_freq=0, eval_bleu=False, eval_bleu_args=None, eval_bleu_detok='space', eval_bleu_detok_args=None, eval_bleu_print_samples=False, eval_bleu_remove_bpe=None, eval_tokenized_bleu=False, fast_stat_sync=False, find_unused_parameters=False, fix_batches_to_gpus=False, fixed_validation_seed=None, force_anneal=None, fp16=False, fp16_init_scale=128, fp16_no_flatten_grads=False, fp16_scale_tolerance=0.0, fp16_scale_window=None, gen_subset='tmp', iter_decode_eos_penalty=0.0, iter_decode_force_max_iter=False, iter_decode_max_iter=10, iter_decode_with_beam=1, iter_decode_with_external_reranker=False, left_pad_source='True', left_pad_target='False', lenpen=1.0, lm_path=None, lm_weight=0.0, load_alignments=False, localsgd_frequency=3, log_format=None, log_interval=100, lr_scheduler='fixed', lr_shrink=0.1, match_source_len=False, max_len_a=0, max_len_b=200, max_source_positions=1024, max_target_positions=1024, max_tokens=8000, max_tokens_valid=8000, memory_efficient_bf16=False, memory_efficient_fp16=False, min_len=1, min_loss_scale=0.0001, model_overrides=\"{'encoder_embed_path': None, 'decoder_embed_path': None}\", model_parallel_size=1, nbest=1, no_beamable_mm=False, no_early_stop=False, no_progress_bar=False, no_repeat_ngram_size=0, no_seed_provided=False, nprocs_per_node=1, num_batch_buckets=0, num_shards=1, num_workers=1, optimizer=None, path='/content/drive/MyDrive/muss/experiments/fairseq/local_1631567843618/model.pt', pipeline_balance=None, pipeline_checkpoint='never', pipeline_chunks=0, pipeline_decoder_balance=None, pipeline_decoder_devices=None, pipeline_devices=None, pipeline_encoder_balance=None, pipeline_encoder_devices=None, pipeline_model_parallel=False, prefix_size=0, print_alignment=False, print_step=False, profile=False, quantization_config_path=None, quiet=False, remove_bpe=None, replace_unk=None, required_batch_size_multiple=8, required_seq_len_multiple=1, results_path=None, retain_dropout=False, retain_dropout_modules=None, retain_iter_history=False, sacrebleu=False, sampling=False, sampling_topk=-1, sampling_topp=-1.0, score_reference=False, scoring='bleu', seed=1, shard_id=0, skip_invalid_size_inputs_valid_test=True, slowmo_algorithm='LocalSGD', slowmo_momentum=None, source_lang=None, target_lang=None, task='translation', temperature=1.0, tensorboard_logdir=None, threshold_loss_scale=None, tokenizer=None, tpu=False, train_subset='train', truncate_source=False, unkpen=0, unnormalized=False, upsample_primary=1, user_dir=None, valid_subset='valid', validate_after_updates=0, validate_interval=1, validate_interval_updates=0, warmup_updates=0, zero_sharding='none')\n",
            "INFO:fairseq.tasks.translation:[complex] dictionary: 50264 types\n",
            "INFO:fairseq.tasks.translation:[simple] dictionary: 50264 types\n"
          ]
        },
        {
          "output_type": "stream",
          "name": "stdout",
          "text": [
            "| use checkpoint_paths [PosixPath('/content/drive/MyDrive/muss/experiments/fairseq/local_1631567843618/model.pt')]\n"
          ]
        },
        {
          "output_type": "stream",
          "name": "stderr",
          "text": [
            "INFO:fairseq.data.data_utils:loaded 2000 examples from: /tmp/tmpohnnenv7/tmp.complex-simple.complex\n",
            "INFO:fairseq.data.data_utils:loaded 2000 examples from: /tmp/tmpohnnenv7/tmp.complex-simple.simple\n",
            "INFO:fairseq.tasks.translation:/tmp/tmpohnnenv7 tmp complex-simple 2000 examples\n",
            "INFO:fairseq_cli.generate:loading model(s) from /content/drive/MyDrive/muss/experiments/fairseq/local_1631567843618/model.pt\n",
            "INFO:fairseq_cli.generate:NOTE: hypothesis and token scores are output in base 2\n",
            "INFO:fairseq_cli.generate:Translated 2000 sentences (48384 tokens) in 115.6s (17.31 sentences/s, 418.67 tokens/s)\n",
            " 88%|████████▊ | 112/128 [4:46:19<42:42, 160.15s/it]"
          ]
        },
        {
          "output_type": "stream",
          "name": "stdout",
          "text": [
            "| IN find_best_parametrization_nevergrad: kwargs.get('generate_kwargs', {}) {}\n",
            "get ref from ( evaluate_simplifier) asset_valid_NER_ABCD\n",
            "test_set in evaluate_simplifier when get ori asset_valid\n",
            "encoder_json_path /content/drive/MyDrive/muss/resources/bart_bpe/encoder.json\n",
            "vocab_bpe_path /content/drive/MyDrive/muss/resources/bart_bpe/vocab.bpe\n"
          ]
        },
        {
          "output_type": "stream",
          "name": "stderr",
          "text": [
            "INFO:fairseq_cli.generate:Namespace(all_gather_list_size=16384, batch_size=None, batch_size_valid=None, beam=5, bf16=False, bpe=None, broadcast_buffers=False, bucket_cap_mb=25, checkpoint_shard_count=1, checkpoint_suffix='', constraints=None, cpu=False, criterion='cross_entropy', curriculum=0, data='/tmp/tmpca0ma_z4', data_buffer_size=10, dataset_impl='raw', ddp_backend='c10d', decoding_format=None, device_id=0, disable_validation=False, distributed_backend='nccl', distributed_init_method=None, distributed_no_spawn=False, distributed_port=-1, distributed_rank=0, distributed_world_size=1, distributed_wrapper='DDP', diverse_beam_groups=-1, diverse_beam_strength=0.5, diversity_rate=-1.0, empty_cache_freq=0, eval_bleu=False, eval_bleu_args=None, eval_bleu_detok='space', eval_bleu_detok_args=None, eval_bleu_print_samples=False, eval_bleu_remove_bpe=None, eval_tokenized_bleu=False, fast_stat_sync=False, find_unused_parameters=False, fix_batches_to_gpus=False, fixed_validation_seed=None, force_anneal=None, fp16=False, fp16_init_scale=128, fp16_no_flatten_grads=False, fp16_scale_tolerance=0.0, fp16_scale_window=None, gen_subset='tmp', iter_decode_eos_penalty=0.0, iter_decode_force_max_iter=False, iter_decode_max_iter=10, iter_decode_with_beam=1, iter_decode_with_external_reranker=False, left_pad_source='True', left_pad_target='False', lenpen=1.0, lm_path=None, lm_weight=0.0, load_alignments=False, localsgd_frequency=3, log_format=None, log_interval=100, lr_scheduler='fixed', lr_shrink=0.1, match_source_len=False, max_len_a=0, max_len_b=200, max_source_positions=1024, max_target_positions=1024, max_tokens=8000, max_tokens_valid=8000, memory_efficient_bf16=False, memory_efficient_fp16=False, min_len=1, min_loss_scale=0.0001, model_overrides=\"{'encoder_embed_path': None, 'decoder_embed_path': None}\", model_parallel_size=1, nbest=1, no_beamable_mm=False, no_early_stop=False, no_progress_bar=False, no_repeat_ngram_size=0, no_seed_provided=False, nprocs_per_node=1, num_batch_buckets=0, num_shards=1, num_workers=1, optimizer=None, path='/content/drive/MyDrive/muss/experiments/fairseq/local_1631567843618/model.pt', pipeline_balance=None, pipeline_checkpoint='never', pipeline_chunks=0, pipeline_decoder_balance=None, pipeline_decoder_devices=None, pipeline_devices=None, pipeline_encoder_balance=None, pipeline_encoder_devices=None, pipeline_model_parallel=False, prefix_size=0, print_alignment=False, print_step=False, profile=False, quantization_config_path=None, quiet=False, remove_bpe=None, replace_unk=None, required_batch_size_multiple=8, required_seq_len_multiple=1, results_path=None, retain_dropout=False, retain_dropout_modules=None, retain_iter_history=False, sacrebleu=False, sampling=False, sampling_topk=-1, sampling_topp=-1.0, score_reference=False, scoring='bleu', seed=1, shard_id=0, skip_invalid_size_inputs_valid_test=True, slowmo_algorithm='LocalSGD', slowmo_momentum=None, source_lang=None, target_lang=None, task='translation', temperature=1.0, tensorboard_logdir=None, threshold_loss_scale=None, tokenizer=None, tpu=False, train_subset='train', truncate_source=False, unkpen=0, unnormalized=False, upsample_primary=1, user_dir=None, valid_subset='valid', validate_after_updates=0, validate_interval=1, validate_interval_updates=0, warmup_updates=0, zero_sharding='none')\n",
            "INFO:fairseq.tasks.translation:[complex] dictionary: 50264 types\n",
            "INFO:fairseq.tasks.translation:[simple] dictionary: 50264 types\n"
          ]
        },
        {
          "output_type": "stream",
          "name": "stdout",
          "text": [
            "| use checkpoint_paths [PosixPath('/content/drive/MyDrive/muss/experiments/fairseq/local_1631567843618/model.pt')]\n"
          ]
        },
        {
          "output_type": "stream",
          "name": "stderr",
          "text": [
            "INFO:fairseq.data.data_utils:loaded 2000 examples from: /tmp/tmpca0ma_z4/tmp.complex-simple.complex\n",
            "INFO:fairseq.data.data_utils:loaded 2000 examples from: /tmp/tmpca0ma_z4/tmp.complex-simple.simple\n",
            "INFO:fairseq.tasks.translation:/tmp/tmpca0ma_z4 tmp complex-simple 2000 examples\n",
            "INFO:fairseq_cli.generate:loading model(s) from /content/drive/MyDrive/muss/experiments/fairseq/local_1631567843618/model.pt\n",
            "INFO:fairseq_cli.generate:NOTE: hypothesis and token scores are output in base 2\n",
            "INFO:fairseq_cli.generate:Translated 2000 sentences (48129 tokens) in 115.3s (17.35 sentences/s, 417.55 tokens/s)\n",
            " 88%|████████▊ | 113/128 [4:48:59<40:01, 160.09s/it]"
          ]
        },
        {
          "output_type": "stream",
          "name": "stdout",
          "text": [
            "| IN find_best_parametrization_nevergrad: kwargs.get('generate_kwargs', {}) {}\n",
            "get ref from ( evaluate_simplifier) asset_valid_NER_ABCD\n",
            "test_set in evaluate_simplifier when get ori asset_valid\n",
            "encoder_json_path /content/drive/MyDrive/muss/resources/bart_bpe/encoder.json\n",
            "vocab_bpe_path /content/drive/MyDrive/muss/resources/bart_bpe/vocab.bpe\n"
          ]
        },
        {
          "output_type": "stream",
          "name": "stderr",
          "text": [
            "INFO:fairseq_cli.generate:Namespace(all_gather_list_size=16384, batch_size=None, batch_size_valid=None, beam=5, bf16=False, bpe=None, broadcast_buffers=False, bucket_cap_mb=25, checkpoint_shard_count=1, checkpoint_suffix='', constraints=None, cpu=False, criterion='cross_entropy', curriculum=0, data='/tmp/tmprru8ze26', data_buffer_size=10, dataset_impl='raw', ddp_backend='c10d', decoding_format=None, device_id=0, disable_validation=False, distributed_backend='nccl', distributed_init_method=None, distributed_no_spawn=False, distributed_port=-1, distributed_rank=0, distributed_world_size=1, distributed_wrapper='DDP', diverse_beam_groups=-1, diverse_beam_strength=0.5, diversity_rate=-1.0, empty_cache_freq=0, eval_bleu=False, eval_bleu_args=None, eval_bleu_detok='space', eval_bleu_detok_args=None, eval_bleu_print_samples=False, eval_bleu_remove_bpe=None, eval_tokenized_bleu=False, fast_stat_sync=False, find_unused_parameters=False, fix_batches_to_gpus=False, fixed_validation_seed=None, force_anneal=None, fp16=False, fp16_init_scale=128, fp16_no_flatten_grads=False, fp16_scale_tolerance=0.0, fp16_scale_window=None, gen_subset='tmp', iter_decode_eos_penalty=0.0, iter_decode_force_max_iter=False, iter_decode_max_iter=10, iter_decode_with_beam=1, iter_decode_with_external_reranker=False, left_pad_source='True', left_pad_target='False', lenpen=1.0, lm_path=None, lm_weight=0.0, load_alignments=False, localsgd_frequency=3, log_format=None, log_interval=100, lr_scheduler='fixed', lr_shrink=0.1, match_source_len=False, max_len_a=0, max_len_b=200, max_source_positions=1024, max_target_positions=1024, max_tokens=8000, max_tokens_valid=8000, memory_efficient_bf16=False, memory_efficient_fp16=False, min_len=1, min_loss_scale=0.0001, model_overrides=\"{'encoder_embed_path': None, 'decoder_embed_path': None}\", model_parallel_size=1, nbest=1, no_beamable_mm=False, no_early_stop=False, no_progress_bar=False, no_repeat_ngram_size=0, no_seed_provided=False, nprocs_per_node=1, num_batch_buckets=0, num_shards=1, num_workers=1, optimizer=None, path='/content/drive/MyDrive/muss/experiments/fairseq/local_1631567843618/model.pt', pipeline_balance=None, pipeline_checkpoint='never', pipeline_chunks=0, pipeline_decoder_balance=None, pipeline_decoder_devices=None, pipeline_devices=None, pipeline_encoder_balance=None, pipeline_encoder_devices=None, pipeline_model_parallel=False, prefix_size=0, print_alignment=False, print_step=False, profile=False, quantization_config_path=None, quiet=False, remove_bpe=None, replace_unk=None, required_batch_size_multiple=8, required_seq_len_multiple=1, results_path=None, retain_dropout=False, retain_dropout_modules=None, retain_iter_history=False, sacrebleu=False, sampling=False, sampling_topk=-1, sampling_topp=-1.0, score_reference=False, scoring='bleu', seed=1, shard_id=0, skip_invalid_size_inputs_valid_test=True, slowmo_algorithm='LocalSGD', slowmo_momentum=None, source_lang=None, target_lang=None, task='translation', temperature=1.0, tensorboard_logdir=None, threshold_loss_scale=None, tokenizer=None, tpu=False, train_subset='train', truncate_source=False, unkpen=0, unnormalized=False, upsample_primary=1, user_dir=None, valid_subset='valid', validate_after_updates=0, validate_interval=1, validate_interval_updates=0, warmup_updates=0, zero_sharding='none')\n",
            "INFO:fairseq.tasks.translation:[complex] dictionary: 50264 types\n",
            "INFO:fairseq.tasks.translation:[simple] dictionary: 50264 types\n"
          ]
        },
        {
          "output_type": "stream",
          "name": "stdout",
          "text": [
            "| use checkpoint_paths [PosixPath('/content/drive/MyDrive/muss/experiments/fairseq/local_1631567843618/model.pt')]\n"
          ]
        },
        {
          "output_type": "stream",
          "name": "stderr",
          "text": [
            "INFO:fairseq.data.data_utils:loaded 2000 examples from: /tmp/tmprru8ze26/tmp.complex-simple.complex\n",
            "INFO:fairseq.data.data_utils:loaded 2000 examples from: /tmp/tmprru8ze26/tmp.complex-simple.simple\n",
            "INFO:fairseq.tasks.translation:/tmp/tmprru8ze26 tmp complex-simple 2000 examples\n",
            "INFO:fairseq_cli.generate:loading model(s) from /content/drive/MyDrive/muss/experiments/fairseq/local_1631567843618/model.pt\n",
            "INFO:fairseq_cli.generate:NOTE: hypothesis and token scores are output in base 2\n",
            "INFO:fairseq_cli.generate:Translated 2000 sentences (48129 tokens) in 114.5s (17.47 sentences/s, 420.31 tokens/s)\n",
            " 89%|████████▉ | 114/128 [4:51:39<37:19, 159.97s/it]"
          ]
        },
        {
          "output_type": "stream",
          "name": "stdout",
          "text": [
            "| IN find_best_parametrization_nevergrad: kwargs.get('generate_kwargs', {}) {}\n",
            "get ref from ( evaluate_simplifier) asset_valid_NER_ABCD\n",
            "test_set in evaluate_simplifier when get ori asset_valid\n",
            "encoder_json_path /content/drive/MyDrive/muss/resources/bart_bpe/encoder.json\n",
            "vocab_bpe_path /content/drive/MyDrive/muss/resources/bart_bpe/vocab.bpe\n"
          ]
        },
        {
          "output_type": "stream",
          "name": "stderr",
          "text": [
            "INFO:fairseq_cli.generate:Namespace(all_gather_list_size=16384, batch_size=None, batch_size_valid=None, beam=5, bf16=False, bpe=None, broadcast_buffers=False, bucket_cap_mb=25, checkpoint_shard_count=1, checkpoint_suffix='', constraints=None, cpu=False, criterion='cross_entropy', curriculum=0, data='/tmp/tmpf6mpkmvf', data_buffer_size=10, dataset_impl='raw', ddp_backend='c10d', decoding_format=None, device_id=0, disable_validation=False, distributed_backend='nccl', distributed_init_method=None, distributed_no_spawn=False, distributed_port=-1, distributed_rank=0, distributed_world_size=1, distributed_wrapper='DDP', diverse_beam_groups=-1, diverse_beam_strength=0.5, diversity_rate=-1.0, empty_cache_freq=0, eval_bleu=False, eval_bleu_args=None, eval_bleu_detok='space', eval_bleu_detok_args=None, eval_bleu_print_samples=False, eval_bleu_remove_bpe=None, eval_tokenized_bleu=False, fast_stat_sync=False, find_unused_parameters=False, fix_batches_to_gpus=False, fixed_validation_seed=None, force_anneal=None, fp16=False, fp16_init_scale=128, fp16_no_flatten_grads=False, fp16_scale_tolerance=0.0, fp16_scale_window=None, gen_subset='tmp', iter_decode_eos_penalty=0.0, iter_decode_force_max_iter=False, iter_decode_max_iter=10, iter_decode_with_beam=1, iter_decode_with_external_reranker=False, left_pad_source='True', left_pad_target='False', lenpen=1.0, lm_path=None, lm_weight=0.0, load_alignments=False, localsgd_frequency=3, log_format=None, log_interval=100, lr_scheduler='fixed', lr_shrink=0.1, match_source_len=False, max_len_a=0, max_len_b=200, max_source_positions=1024, max_target_positions=1024, max_tokens=8000, max_tokens_valid=8000, memory_efficient_bf16=False, memory_efficient_fp16=False, min_len=1, min_loss_scale=0.0001, model_overrides=\"{'encoder_embed_path': None, 'decoder_embed_path': None}\", model_parallel_size=1, nbest=1, no_beamable_mm=False, no_early_stop=False, no_progress_bar=False, no_repeat_ngram_size=0, no_seed_provided=False, nprocs_per_node=1, num_batch_buckets=0, num_shards=1, num_workers=1, optimizer=None, path='/content/drive/MyDrive/muss/experiments/fairseq/local_1631567843618/model.pt', pipeline_balance=None, pipeline_checkpoint='never', pipeline_chunks=0, pipeline_decoder_balance=None, pipeline_decoder_devices=None, pipeline_devices=None, pipeline_encoder_balance=None, pipeline_encoder_devices=None, pipeline_model_parallel=False, prefix_size=0, print_alignment=False, print_step=False, profile=False, quantization_config_path=None, quiet=False, remove_bpe=None, replace_unk=None, required_batch_size_multiple=8, required_seq_len_multiple=1, results_path=None, retain_dropout=False, retain_dropout_modules=None, retain_iter_history=False, sacrebleu=False, sampling=False, sampling_topk=-1, sampling_topp=-1.0, score_reference=False, scoring='bleu', seed=1, shard_id=0, skip_invalid_size_inputs_valid_test=True, slowmo_algorithm='LocalSGD', slowmo_momentum=None, source_lang=None, target_lang=None, task='translation', temperature=1.0, tensorboard_logdir=None, threshold_loss_scale=None, tokenizer=None, tpu=False, train_subset='train', truncate_source=False, unkpen=0, unnormalized=False, upsample_primary=1, user_dir=None, valid_subset='valid', validate_after_updates=0, validate_interval=1, validate_interval_updates=0, warmup_updates=0, zero_sharding='none')\n",
            "INFO:fairseq.tasks.translation:[complex] dictionary: 50264 types\n",
            "INFO:fairseq.tasks.translation:[simple] dictionary: 50264 types\n"
          ]
        },
        {
          "output_type": "stream",
          "name": "stdout",
          "text": [
            "| use checkpoint_paths [PosixPath('/content/drive/MyDrive/muss/experiments/fairseq/local_1631567843618/model.pt')]\n"
          ]
        },
        {
          "output_type": "stream",
          "name": "stderr",
          "text": [
            "INFO:fairseq.data.data_utils:loaded 2000 examples from: /tmp/tmpf6mpkmvf/tmp.complex-simple.complex\n",
            "INFO:fairseq.data.data_utils:loaded 2000 examples from: /tmp/tmpf6mpkmvf/tmp.complex-simple.simple\n",
            "INFO:fairseq.tasks.translation:/tmp/tmpf6mpkmvf tmp complex-simple 2000 examples\n",
            "INFO:fairseq_cli.generate:loading model(s) from /content/drive/MyDrive/muss/experiments/fairseq/local_1631567843618/model.pt\n",
            "INFO:fairseq_cli.generate:NOTE: hypothesis and token scores are output in base 2\n",
            "INFO:fairseq_cli.generate:Translated 2000 sentences (48384 tokens) in 115.3s (17.35 sentences/s, 419.70 tokens/s)\n",
            " 90%|████████▉ | 115/128 [4:54:19<34:40, 160.03s/it]"
          ]
        },
        {
          "output_type": "stream",
          "name": "stdout",
          "text": [
            "| IN find_best_parametrization_nevergrad: kwargs.get('generate_kwargs', {}) {}\n",
            "get ref from ( evaluate_simplifier) asset_valid_NER_ABCD\n",
            "test_set in evaluate_simplifier when get ori asset_valid\n",
            "encoder_json_path /content/drive/MyDrive/muss/resources/bart_bpe/encoder.json\n",
            "vocab_bpe_path /content/drive/MyDrive/muss/resources/bart_bpe/vocab.bpe\n"
          ]
        },
        {
          "output_type": "stream",
          "name": "stderr",
          "text": [
            "INFO:fairseq_cli.generate:Namespace(all_gather_list_size=16384, batch_size=None, batch_size_valid=None, beam=5, bf16=False, bpe=None, broadcast_buffers=False, bucket_cap_mb=25, checkpoint_shard_count=1, checkpoint_suffix='', constraints=None, cpu=False, criterion='cross_entropy', curriculum=0, data='/tmp/tmpi12z473g', data_buffer_size=10, dataset_impl='raw', ddp_backend='c10d', decoding_format=None, device_id=0, disable_validation=False, distributed_backend='nccl', distributed_init_method=None, distributed_no_spawn=False, distributed_port=-1, distributed_rank=0, distributed_world_size=1, distributed_wrapper='DDP', diverse_beam_groups=-1, diverse_beam_strength=0.5, diversity_rate=-1.0, empty_cache_freq=0, eval_bleu=False, eval_bleu_args=None, eval_bleu_detok='space', eval_bleu_detok_args=None, eval_bleu_print_samples=False, eval_bleu_remove_bpe=None, eval_tokenized_bleu=False, fast_stat_sync=False, find_unused_parameters=False, fix_batches_to_gpus=False, fixed_validation_seed=None, force_anneal=None, fp16=False, fp16_init_scale=128, fp16_no_flatten_grads=False, fp16_scale_tolerance=0.0, fp16_scale_window=None, gen_subset='tmp', iter_decode_eos_penalty=0.0, iter_decode_force_max_iter=False, iter_decode_max_iter=10, iter_decode_with_beam=1, iter_decode_with_external_reranker=False, left_pad_source='True', left_pad_target='False', lenpen=1.0, lm_path=None, lm_weight=0.0, load_alignments=False, localsgd_frequency=3, log_format=None, log_interval=100, lr_scheduler='fixed', lr_shrink=0.1, match_source_len=False, max_len_a=0, max_len_b=200, max_source_positions=1024, max_target_positions=1024, max_tokens=8000, max_tokens_valid=8000, memory_efficient_bf16=False, memory_efficient_fp16=False, min_len=1, min_loss_scale=0.0001, model_overrides=\"{'encoder_embed_path': None, 'decoder_embed_path': None}\", model_parallel_size=1, nbest=1, no_beamable_mm=False, no_early_stop=False, no_progress_bar=False, no_repeat_ngram_size=0, no_seed_provided=False, nprocs_per_node=1, num_batch_buckets=0, num_shards=1, num_workers=1, optimizer=None, path='/content/drive/MyDrive/muss/experiments/fairseq/local_1631567843618/model.pt', pipeline_balance=None, pipeline_checkpoint='never', pipeline_chunks=0, pipeline_decoder_balance=None, pipeline_decoder_devices=None, pipeline_devices=None, pipeline_encoder_balance=None, pipeline_encoder_devices=None, pipeline_model_parallel=False, prefix_size=0, print_alignment=False, print_step=False, profile=False, quantization_config_path=None, quiet=False, remove_bpe=None, replace_unk=None, required_batch_size_multiple=8, required_seq_len_multiple=1, results_path=None, retain_dropout=False, retain_dropout_modules=None, retain_iter_history=False, sacrebleu=False, sampling=False, sampling_topk=-1, sampling_topp=-1.0, score_reference=False, scoring='bleu', seed=1, shard_id=0, skip_invalid_size_inputs_valid_test=True, slowmo_algorithm='LocalSGD', slowmo_momentum=None, source_lang=None, target_lang=None, task='translation', temperature=1.0, tensorboard_logdir=None, threshold_loss_scale=None, tokenizer=None, tpu=False, train_subset='train', truncate_source=False, unkpen=0, unnormalized=False, upsample_primary=1, user_dir=None, valid_subset='valid', validate_after_updates=0, validate_interval=1, validate_interval_updates=0, warmup_updates=0, zero_sharding='none')\n",
            "INFO:fairseq.tasks.translation:[complex] dictionary: 50264 types\n",
            "INFO:fairseq.tasks.translation:[simple] dictionary: 50264 types\n"
          ]
        },
        {
          "output_type": "stream",
          "name": "stdout",
          "text": [
            "| use checkpoint_paths [PosixPath('/content/drive/MyDrive/muss/experiments/fairseq/local_1631567843618/model.pt')]\n"
          ]
        },
        {
          "output_type": "stream",
          "name": "stderr",
          "text": [
            "INFO:fairseq.data.data_utils:loaded 2000 examples from: /tmp/tmpi12z473g/tmp.complex-simple.complex\n",
            "INFO:fairseq.data.data_utils:loaded 2000 examples from: /tmp/tmpi12z473g/tmp.complex-simple.simple\n",
            "INFO:fairseq.tasks.translation:/tmp/tmpi12z473g tmp complex-simple 2000 examples\n",
            "INFO:fairseq_cli.generate:loading model(s) from /content/drive/MyDrive/muss/experiments/fairseq/local_1631567843618/model.pt\n",
            "INFO:fairseq_cli.generate:NOTE: hypothesis and token scores are output in base 2\n",
            "INFO:fairseq_cli.generate:Translated 2000 sentences (48384 tokens) in 115.0s (17.39 sentences/s, 420.65 tokens/s)\n",
            " 91%|█████████ | 116/128 [4:56:59<32:00, 160.01s/it]"
          ]
        },
        {
          "output_type": "stream",
          "name": "stdout",
          "text": [
            "| IN find_best_parametrization_nevergrad: kwargs.get('generate_kwargs', {}) {}\n",
            "get ref from ( evaluate_simplifier) asset_valid_NER_ABCD\n",
            "test_set in evaluate_simplifier when get ori asset_valid\n",
            "encoder_json_path /content/drive/MyDrive/muss/resources/bart_bpe/encoder.json\n",
            "vocab_bpe_path /content/drive/MyDrive/muss/resources/bart_bpe/vocab.bpe\n"
          ]
        },
        {
          "output_type": "stream",
          "name": "stderr",
          "text": [
            "INFO:fairseq_cli.generate:Namespace(all_gather_list_size=16384, batch_size=None, batch_size_valid=None, beam=5, bf16=False, bpe=None, broadcast_buffers=False, bucket_cap_mb=25, checkpoint_shard_count=1, checkpoint_suffix='', constraints=None, cpu=False, criterion='cross_entropy', curriculum=0, data='/tmp/tmpcxa052b7', data_buffer_size=10, dataset_impl='raw', ddp_backend='c10d', decoding_format=None, device_id=0, disable_validation=False, distributed_backend='nccl', distributed_init_method=None, distributed_no_spawn=False, distributed_port=-1, distributed_rank=0, distributed_world_size=1, distributed_wrapper='DDP', diverse_beam_groups=-1, diverse_beam_strength=0.5, diversity_rate=-1.0, empty_cache_freq=0, eval_bleu=False, eval_bleu_args=None, eval_bleu_detok='space', eval_bleu_detok_args=None, eval_bleu_print_samples=False, eval_bleu_remove_bpe=None, eval_tokenized_bleu=False, fast_stat_sync=False, find_unused_parameters=False, fix_batches_to_gpus=False, fixed_validation_seed=None, force_anneal=None, fp16=False, fp16_init_scale=128, fp16_no_flatten_grads=False, fp16_scale_tolerance=0.0, fp16_scale_window=None, gen_subset='tmp', iter_decode_eos_penalty=0.0, iter_decode_force_max_iter=False, iter_decode_max_iter=10, iter_decode_with_beam=1, iter_decode_with_external_reranker=False, left_pad_source='True', left_pad_target='False', lenpen=1.0, lm_path=None, lm_weight=0.0, load_alignments=False, localsgd_frequency=3, log_format=None, log_interval=100, lr_scheduler='fixed', lr_shrink=0.1, match_source_len=False, max_len_a=0, max_len_b=200, max_source_positions=1024, max_target_positions=1024, max_tokens=8000, max_tokens_valid=8000, memory_efficient_bf16=False, memory_efficient_fp16=False, min_len=1, min_loss_scale=0.0001, model_overrides=\"{'encoder_embed_path': None, 'decoder_embed_path': None}\", model_parallel_size=1, nbest=1, no_beamable_mm=False, no_early_stop=False, no_progress_bar=False, no_repeat_ngram_size=0, no_seed_provided=False, nprocs_per_node=1, num_batch_buckets=0, num_shards=1, num_workers=1, optimizer=None, path='/content/drive/MyDrive/muss/experiments/fairseq/local_1631567843618/model.pt', pipeline_balance=None, pipeline_checkpoint='never', pipeline_chunks=0, pipeline_decoder_balance=None, pipeline_decoder_devices=None, pipeline_devices=None, pipeline_encoder_balance=None, pipeline_encoder_devices=None, pipeline_model_parallel=False, prefix_size=0, print_alignment=False, print_step=False, profile=False, quantization_config_path=None, quiet=False, remove_bpe=None, replace_unk=None, required_batch_size_multiple=8, required_seq_len_multiple=1, results_path=None, retain_dropout=False, retain_dropout_modules=None, retain_iter_history=False, sacrebleu=False, sampling=False, sampling_topk=-1, sampling_topp=-1.0, score_reference=False, scoring='bleu', seed=1, shard_id=0, skip_invalid_size_inputs_valid_test=True, slowmo_algorithm='LocalSGD', slowmo_momentum=None, source_lang=None, target_lang=None, task='translation', temperature=1.0, tensorboard_logdir=None, threshold_loss_scale=None, tokenizer=None, tpu=False, train_subset='train', truncate_source=False, unkpen=0, unnormalized=False, upsample_primary=1, user_dir=None, valid_subset='valid', validate_after_updates=0, validate_interval=1, validate_interval_updates=0, warmup_updates=0, zero_sharding='none')\n",
            "INFO:fairseq.tasks.translation:[complex] dictionary: 50264 types\n",
            "INFO:fairseq.tasks.translation:[simple] dictionary: 50264 types\n"
          ]
        },
        {
          "output_type": "stream",
          "name": "stdout",
          "text": [
            "| use checkpoint_paths [PosixPath('/content/drive/MyDrive/muss/experiments/fairseq/local_1631567843618/model.pt')]\n"
          ]
        },
        {
          "output_type": "stream",
          "name": "stderr",
          "text": [
            "INFO:fairseq.data.data_utils:loaded 2000 examples from: /tmp/tmpcxa052b7/tmp.complex-simple.complex\n",
            "INFO:fairseq.data.data_utils:loaded 2000 examples from: /tmp/tmpcxa052b7/tmp.complex-simple.simple\n",
            "INFO:fairseq.tasks.translation:/tmp/tmpcxa052b7 tmp complex-simple 2000 examples\n",
            "INFO:fairseq_cli.generate:loading model(s) from /content/drive/MyDrive/muss/experiments/fairseq/local_1631567843618/model.pt\n",
            "INFO:fairseq_cli.generate:NOTE: hypothesis and token scores are output in base 2\n",
            "INFO:fairseq_cli.generate:Translated 2000 sentences (48384 tokens) in 115.2s (17.36 sentences/s, 419.85 tokens/s)\n",
            " 91%|█████████▏| 117/128 [4:59:39<29:19, 159.92s/it]"
          ]
        },
        {
          "output_type": "stream",
          "name": "stdout",
          "text": [
            "| IN find_best_parametrization_nevergrad: kwargs.get('generate_kwargs', {}) {}\n",
            "get ref from ( evaluate_simplifier) asset_valid_NER_ABCD\n",
            "test_set in evaluate_simplifier when get ori asset_valid\n",
            "encoder_json_path /content/drive/MyDrive/muss/resources/bart_bpe/encoder.json\n",
            "vocab_bpe_path /content/drive/MyDrive/muss/resources/bart_bpe/vocab.bpe\n"
          ]
        },
        {
          "output_type": "stream",
          "name": "stderr",
          "text": [
            "INFO:fairseq_cli.generate:Namespace(all_gather_list_size=16384, batch_size=None, batch_size_valid=None, beam=5, bf16=False, bpe=None, broadcast_buffers=False, bucket_cap_mb=25, checkpoint_shard_count=1, checkpoint_suffix='', constraints=None, cpu=False, criterion='cross_entropy', curriculum=0, data='/tmp/tmpnp6vi3k3', data_buffer_size=10, dataset_impl='raw', ddp_backend='c10d', decoding_format=None, device_id=0, disable_validation=False, distributed_backend='nccl', distributed_init_method=None, distributed_no_spawn=False, distributed_port=-1, distributed_rank=0, distributed_world_size=1, distributed_wrapper='DDP', diverse_beam_groups=-1, diverse_beam_strength=0.5, diversity_rate=-1.0, empty_cache_freq=0, eval_bleu=False, eval_bleu_args=None, eval_bleu_detok='space', eval_bleu_detok_args=None, eval_bleu_print_samples=False, eval_bleu_remove_bpe=None, eval_tokenized_bleu=False, fast_stat_sync=False, find_unused_parameters=False, fix_batches_to_gpus=False, fixed_validation_seed=None, force_anneal=None, fp16=False, fp16_init_scale=128, fp16_no_flatten_grads=False, fp16_scale_tolerance=0.0, fp16_scale_window=None, gen_subset='tmp', iter_decode_eos_penalty=0.0, iter_decode_force_max_iter=False, iter_decode_max_iter=10, iter_decode_with_beam=1, iter_decode_with_external_reranker=False, left_pad_source='True', left_pad_target='False', lenpen=1.0, lm_path=None, lm_weight=0.0, load_alignments=False, localsgd_frequency=3, log_format=None, log_interval=100, lr_scheduler='fixed', lr_shrink=0.1, match_source_len=False, max_len_a=0, max_len_b=200, max_source_positions=1024, max_target_positions=1024, max_tokens=8000, max_tokens_valid=8000, memory_efficient_bf16=False, memory_efficient_fp16=False, min_len=1, min_loss_scale=0.0001, model_overrides=\"{'encoder_embed_path': None, 'decoder_embed_path': None}\", model_parallel_size=1, nbest=1, no_beamable_mm=False, no_early_stop=False, no_progress_bar=False, no_repeat_ngram_size=0, no_seed_provided=False, nprocs_per_node=1, num_batch_buckets=0, num_shards=1, num_workers=1, optimizer=None, path='/content/drive/MyDrive/muss/experiments/fairseq/local_1631567843618/model.pt', pipeline_balance=None, pipeline_checkpoint='never', pipeline_chunks=0, pipeline_decoder_balance=None, pipeline_decoder_devices=None, pipeline_devices=None, pipeline_encoder_balance=None, pipeline_encoder_devices=None, pipeline_model_parallel=False, prefix_size=0, print_alignment=False, print_step=False, profile=False, quantization_config_path=None, quiet=False, remove_bpe=None, replace_unk=None, required_batch_size_multiple=8, required_seq_len_multiple=1, results_path=None, retain_dropout=False, retain_dropout_modules=None, retain_iter_history=False, sacrebleu=False, sampling=False, sampling_topk=-1, sampling_topp=-1.0, score_reference=False, scoring='bleu', seed=1, shard_id=0, skip_invalid_size_inputs_valid_test=True, slowmo_algorithm='LocalSGD', slowmo_momentum=None, source_lang=None, target_lang=None, task='translation', temperature=1.0, tensorboard_logdir=None, threshold_loss_scale=None, tokenizer=None, tpu=False, train_subset='train', truncate_source=False, unkpen=0, unnormalized=False, upsample_primary=1, user_dir=None, valid_subset='valid', validate_after_updates=0, validate_interval=1, validate_interval_updates=0, warmup_updates=0, zero_sharding='none')\n",
            "INFO:fairseq.tasks.translation:[complex] dictionary: 50264 types\n",
            "INFO:fairseq.tasks.translation:[simple] dictionary: 50264 types\n"
          ]
        },
        {
          "output_type": "stream",
          "name": "stdout",
          "text": [
            "| use checkpoint_paths [PosixPath('/content/drive/MyDrive/muss/experiments/fairseq/local_1631567843618/model.pt')]\n"
          ]
        },
        {
          "output_type": "stream",
          "name": "stderr",
          "text": [
            "INFO:fairseq.data.data_utils:loaded 2000 examples from: /tmp/tmpnp6vi3k3/tmp.complex-simple.complex\n",
            "INFO:fairseq.data.data_utils:loaded 2000 examples from: /tmp/tmpnp6vi3k3/tmp.complex-simple.simple\n",
            "INFO:fairseq.tasks.translation:/tmp/tmpnp6vi3k3 tmp complex-simple 2000 examples\n",
            "INFO:fairseq_cli.generate:loading model(s) from /content/drive/MyDrive/muss/experiments/fairseq/local_1631567843618/model.pt\n",
            "INFO:fairseq_cli.generate:NOTE: hypothesis and token scores are output in base 2\n",
            "INFO:fairseq_cli.generate:Translated 2000 sentences (48384 tokens) in 116.4s (17.19 sentences/s, 415.74 tokens/s)\n",
            " 92%|█████████▏| 118/128 [5:02:20<26:44, 160.43s/it]"
          ]
        },
        {
          "output_type": "stream",
          "name": "stdout",
          "text": [
            "| IN find_best_parametrization_nevergrad: kwargs.get('generate_kwargs', {}) {}\n",
            "get ref from ( evaluate_simplifier) asset_valid_NER_ABCD\n",
            "test_set in evaluate_simplifier when get ori asset_valid\n",
            "encoder_json_path /content/drive/MyDrive/muss/resources/bart_bpe/encoder.json\n",
            "vocab_bpe_path /content/drive/MyDrive/muss/resources/bart_bpe/vocab.bpe\n"
          ]
        },
        {
          "output_type": "stream",
          "name": "stderr",
          "text": [
            "INFO:fairseq_cli.generate:Namespace(all_gather_list_size=16384, batch_size=None, batch_size_valid=None, beam=5, bf16=False, bpe=None, broadcast_buffers=False, bucket_cap_mb=25, checkpoint_shard_count=1, checkpoint_suffix='', constraints=None, cpu=False, criterion='cross_entropy', curriculum=0, data='/tmp/tmpkgi6snz8', data_buffer_size=10, dataset_impl='raw', ddp_backend='c10d', decoding_format=None, device_id=0, disable_validation=False, distributed_backend='nccl', distributed_init_method=None, distributed_no_spawn=False, distributed_port=-1, distributed_rank=0, distributed_world_size=1, distributed_wrapper='DDP', diverse_beam_groups=-1, diverse_beam_strength=0.5, diversity_rate=-1.0, empty_cache_freq=0, eval_bleu=False, eval_bleu_args=None, eval_bleu_detok='space', eval_bleu_detok_args=None, eval_bleu_print_samples=False, eval_bleu_remove_bpe=None, eval_tokenized_bleu=False, fast_stat_sync=False, find_unused_parameters=False, fix_batches_to_gpus=False, fixed_validation_seed=None, force_anneal=None, fp16=False, fp16_init_scale=128, fp16_no_flatten_grads=False, fp16_scale_tolerance=0.0, fp16_scale_window=None, gen_subset='tmp', iter_decode_eos_penalty=0.0, iter_decode_force_max_iter=False, iter_decode_max_iter=10, iter_decode_with_beam=1, iter_decode_with_external_reranker=False, left_pad_source='True', left_pad_target='False', lenpen=1.0, lm_path=None, lm_weight=0.0, load_alignments=False, localsgd_frequency=3, log_format=None, log_interval=100, lr_scheduler='fixed', lr_shrink=0.1, match_source_len=False, max_len_a=0, max_len_b=200, max_source_positions=1024, max_target_positions=1024, max_tokens=8000, max_tokens_valid=8000, memory_efficient_bf16=False, memory_efficient_fp16=False, min_len=1, min_loss_scale=0.0001, model_overrides=\"{'encoder_embed_path': None, 'decoder_embed_path': None}\", model_parallel_size=1, nbest=1, no_beamable_mm=False, no_early_stop=False, no_progress_bar=False, no_repeat_ngram_size=0, no_seed_provided=False, nprocs_per_node=1, num_batch_buckets=0, num_shards=1, num_workers=1, optimizer=None, path='/content/drive/MyDrive/muss/experiments/fairseq/local_1631567843618/model.pt', pipeline_balance=None, pipeline_checkpoint='never', pipeline_chunks=0, pipeline_decoder_balance=None, pipeline_decoder_devices=None, pipeline_devices=None, pipeline_encoder_balance=None, pipeline_encoder_devices=None, pipeline_model_parallel=False, prefix_size=0, print_alignment=False, print_step=False, profile=False, quantization_config_path=None, quiet=False, remove_bpe=None, replace_unk=None, required_batch_size_multiple=8, required_seq_len_multiple=1, results_path=None, retain_dropout=False, retain_dropout_modules=None, retain_iter_history=False, sacrebleu=False, sampling=False, sampling_topk=-1, sampling_topp=-1.0, score_reference=False, scoring='bleu', seed=1, shard_id=0, skip_invalid_size_inputs_valid_test=True, slowmo_algorithm='LocalSGD', slowmo_momentum=None, source_lang=None, target_lang=None, task='translation', temperature=1.0, tensorboard_logdir=None, threshold_loss_scale=None, tokenizer=None, tpu=False, train_subset='train', truncate_source=False, unkpen=0, unnormalized=False, upsample_primary=1, user_dir=None, valid_subset='valid', validate_after_updates=0, validate_interval=1, validate_interval_updates=0, warmup_updates=0, zero_sharding='none')\n",
            "INFO:fairseq.tasks.translation:[complex] dictionary: 50264 types\n",
            "INFO:fairseq.tasks.translation:[simple] dictionary: 50264 types\n"
          ]
        },
        {
          "output_type": "stream",
          "name": "stdout",
          "text": [
            "| use checkpoint_paths [PosixPath('/content/drive/MyDrive/muss/experiments/fairseq/local_1631567843618/model.pt')]\n"
          ]
        },
        {
          "output_type": "stream",
          "name": "stderr",
          "text": [
            "INFO:fairseq.data.data_utils:loaded 2000 examples from: /tmp/tmpkgi6snz8/tmp.complex-simple.complex\n",
            "INFO:fairseq.data.data_utils:loaded 2000 examples from: /tmp/tmpkgi6snz8/tmp.complex-simple.simple\n",
            "INFO:fairseq.tasks.translation:/tmp/tmpkgi6snz8 tmp complex-simple 2000 examples\n",
            "INFO:fairseq_cli.generate:loading model(s) from /content/drive/MyDrive/muss/experiments/fairseq/local_1631567843618/model.pt\n",
            "INFO:fairseq_cli.generate:NOTE: hypothesis and token scores are output in base 2\n",
            "INFO:fairseq_cli.generate:Translated 2000 sentences (48384 tokens) in 115.1s (17.38 sentences/s, 420.42 tokens/s)\n",
            " 93%|█████████▎| 119/128 [5:05:00<24:01, 160.16s/it]"
          ]
        },
        {
          "output_type": "stream",
          "name": "stdout",
          "text": [
            "| IN find_best_parametrization_nevergrad: kwargs.get('generate_kwargs', {}) {}\n",
            "get ref from ( evaluate_simplifier) asset_valid_NER_ABCD\n",
            "test_set in evaluate_simplifier when get ori asset_valid\n",
            "encoder_json_path /content/drive/MyDrive/muss/resources/bart_bpe/encoder.json\n",
            "vocab_bpe_path /content/drive/MyDrive/muss/resources/bart_bpe/vocab.bpe\n"
          ]
        },
        {
          "output_type": "stream",
          "name": "stderr",
          "text": [
            "INFO:fairseq_cli.generate:Namespace(all_gather_list_size=16384, batch_size=None, batch_size_valid=None, beam=5, bf16=False, bpe=None, broadcast_buffers=False, bucket_cap_mb=25, checkpoint_shard_count=1, checkpoint_suffix='', constraints=None, cpu=False, criterion='cross_entropy', curriculum=0, data='/tmp/tmpwdvnoo5j', data_buffer_size=10, dataset_impl='raw', ddp_backend='c10d', decoding_format=None, device_id=0, disable_validation=False, distributed_backend='nccl', distributed_init_method=None, distributed_no_spawn=False, distributed_port=-1, distributed_rank=0, distributed_world_size=1, distributed_wrapper='DDP', diverse_beam_groups=-1, diverse_beam_strength=0.5, diversity_rate=-1.0, empty_cache_freq=0, eval_bleu=False, eval_bleu_args=None, eval_bleu_detok='space', eval_bleu_detok_args=None, eval_bleu_print_samples=False, eval_bleu_remove_bpe=None, eval_tokenized_bleu=False, fast_stat_sync=False, find_unused_parameters=False, fix_batches_to_gpus=False, fixed_validation_seed=None, force_anneal=None, fp16=False, fp16_init_scale=128, fp16_no_flatten_grads=False, fp16_scale_tolerance=0.0, fp16_scale_window=None, gen_subset='tmp', iter_decode_eos_penalty=0.0, iter_decode_force_max_iter=False, iter_decode_max_iter=10, iter_decode_with_beam=1, iter_decode_with_external_reranker=False, left_pad_source='True', left_pad_target='False', lenpen=1.0, lm_path=None, lm_weight=0.0, load_alignments=False, localsgd_frequency=3, log_format=None, log_interval=100, lr_scheduler='fixed', lr_shrink=0.1, match_source_len=False, max_len_a=0, max_len_b=200, max_source_positions=1024, max_target_positions=1024, max_tokens=8000, max_tokens_valid=8000, memory_efficient_bf16=False, memory_efficient_fp16=False, min_len=1, min_loss_scale=0.0001, model_overrides=\"{'encoder_embed_path': None, 'decoder_embed_path': None}\", model_parallel_size=1, nbest=1, no_beamable_mm=False, no_early_stop=False, no_progress_bar=False, no_repeat_ngram_size=0, no_seed_provided=False, nprocs_per_node=1, num_batch_buckets=0, num_shards=1, num_workers=1, optimizer=None, path='/content/drive/MyDrive/muss/experiments/fairseq/local_1631567843618/model.pt', pipeline_balance=None, pipeline_checkpoint='never', pipeline_chunks=0, pipeline_decoder_balance=None, pipeline_decoder_devices=None, pipeline_devices=None, pipeline_encoder_balance=None, pipeline_encoder_devices=None, pipeline_model_parallel=False, prefix_size=0, print_alignment=False, print_step=False, profile=False, quantization_config_path=None, quiet=False, remove_bpe=None, replace_unk=None, required_batch_size_multiple=8, required_seq_len_multiple=1, results_path=None, retain_dropout=False, retain_dropout_modules=None, retain_iter_history=False, sacrebleu=False, sampling=False, sampling_topk=-1, sampling_topp=-1.0, score_reference=False, scoring='bleu', seed=1, shard_id=0, skip_invalid_size_inputs_valid_test=True, slowmo_algorithm='LocalSGD', slowmo_momentum=None, source_lang=None, target_lang=None, task='translation', temperature=1.0, tensorboard_logdir=None, threshold_loss_scale=None, tokenizer=None, tpu=False, train_subset='train', truncate_source=False, unkpen=0, unnormalized=False, upsample_primary=1, user_dir=None, valid_subset='valid', validate_after_updates=0, validate_interval=1, validate_interval_updates=0, warmup_updates=0, zero_sharding='none')\n",
            "INFO:fairseq.tasks.translation:[complex] dictionary: 50264 types\n",
            "INFO:fairseq.tasks.translation:[simple] dictionary: 50264 types\n"
          ]
        },
        {
          "output_type": "stream",
          "name": "stdout",
          "text": [
            "| use checkpoint_paths [PosixPath('/content/drive/MyDrive/muss/experiments/fairseq/local_1631567843618/model.pt')]\n"
          ]
        },
        {
          "output_type": "stream",
          "name": "stderr",
          "text": [
            "INFO:fairseq.data.data_utils:loaded 2000 examples from: /tmp/tmpwdvnoo5j/tmp.complex-simple.complex\n",
            "INFO:fairseq.data.data_utils:loaded 2000 examples from: /tmp/tmpwdvnoo5j/tmp.complex-simple.simple\n",
            "INFO:fairseq.tasks.translation:/tmp/tmpwdvnoo5j tmp complex-simple 2000 examples\n",
            "INFO:fairseq_cli.generate:loading model(s) from /content/drive/MyDrive/muss/experiments/fairseq/local_1631567843618/model.pt\n",
            "INFO:fairseq_cli.generate:NOTE: hypothesis and token scores are output in base 2\n",
            "INFO:fairseq_cli.generate:Translated 2000 sentences (48384 tokens) in 115.1s (17.37 sentences/s, 420.22 tokens/s)\n",
            " 94%|█████████▍| 120/128 [5:07:40<21:22, 160.29s/it]"
          ]
        },
        {
          "output_type": "stream",
          "name": "stdout",
          "text": [
            "| IN find_best_parametrization_nevergrad: kwargs.get('generate_kwargs', {}) {}\n",
            "get ref from ( evaluate_simplifier) asset_valid_NER_ABCD\n",
            "test_set in evaluate_simplifier when get ori asset_valid\n",
            "encoder_json_path /content/drive/MyDrive/muss/resources/bart_bpe/encoder.json\n",
            "vocab_bpe_path /content/drive/MyDrive/muss/resources/bart_bpe/vocab.bpe\n"
          ]
        },
        {
          "output_type": "stream",
          "name": "stderr",
          "text": [
            "INFO:fairseq_cli.generate:Namespace(all_gather_list_size=16384, batch_size=None, batch_size_valid=None, beam=5, bf16=False, bpe=None, broadcast_buffers=False, bucket_cap_mb=25, checkpoint_shard_count=1, checkpoint_suffix='', constraints=None, cpu=False, criterion='cross_entropy', curriculum=0, data='/tmp/tmpejc8kj75', data_buffer_size=10, dataset_impl='raw', ddp_backend='c10d', decoding_format=None, device_id=0, disable_validation=False, distributed_backend='nccl', distributed_init_method=None, distributed_no_spawn=False, distributed_port=-1, distributed_rank=0, distributed_world_size=1, distributed_wrapper='DDP', diverse_beam_groups=-1, diverse_beam_strength=0.5, diversity_rate=-1.0, empty_cache_freq=0, eval_bleu=False, eval_bleu_args=None, eval_bleu_detok='space', eval_bleu_detok_args=None, eval_bleu_print_samples=False, eval_bleu_remove_bpe=None, eval_tokenized_bleu=False, fast_stat_sync=False, find_unused_parameters=False, fix_batches_to_gpus=False, fixed_validation_seed=None, force_anneal=None, fp16=False, fp16_init_scale=128, fp16_no_flatten_grads=False, fp16_scale_tolerance=0.0, fp16_scale_window=None, gen_subset='tmp', iter_decode_eos_penalty=0.0, iter_decode_force_max_iter=False, iter_decode_max_iter=10, iter_decode_with_beam=1, iter_decode_with_external_reranker=False, left_pad_source='True', left_pad_target='False', lenpen=1.0, lm_path=None, lm_weight=0.0, load_alignments=False, localsgd_frequency=3, log_format=None, log_interval=100, lr_scheduler='fixed', lr_shrink=0.1, match_source_len=False, max_len_a=0, max_len_b=200, max_source_positions=1024, max_target_positions=1024, max_tokens=8000, max_tokens_valid=8000, memory_efficient_bf16=False, memory_efficient_fp16=False, min_len=1, min_loss_scale=0.0001, model_overrides=\"{'encoder_embed_path': None, 'decoder_embed_path': None}\", model_parallel_size=1, nbest=1, no_beamable_mm=False, no_early_stop=False, no_progress_bar=False, no_repeat_ngram_size=0, no_seed_provided=False, nprocs_per_node=1, num_batch_buckets=0, num_shards=1, num_workers=1, optimizer=None, path='/content/drive/MyDrive/muss/experiments/fairseq/local_1631567843618/model.pt', pipeline_balance=None, pipeline_checkpoint='never', pipeline_chunks=0, pipeline_decoder_balance=None, pipeline_decoder_devices=None, pipeline_devices=None, pipeline_encoder_balance=None, pipeline_encoder_devices=None, pipeline_model_parallel=False, prefix_size=0, print_alignment=False, print_step=False, profile=False, quantization_config_path=None, quiet=False, remove_bpe=None, replace_unk=None, required_batch_size_multiple=8, required_seq_len_multiple=1, results_path=None, retain_dropout=False, retain_dropout_modules=None, retain_iter_history=False, sacrebleu=False, sampling=False, sampling_topk=-1, sampling_topp=-1.0, score_reference=False, scoring='bleu', seed=1, shard_id=0, skip_invalid_size_inputs_valid_test=True, slowmo_algorithm='LocalSGD', slowmo_momentum=None, source_lang=None, target_lang=None, task='translation', temperature=1.0, tensorboard_logdir=None, threshold_loss_scale=None, tokenizer=None, tpu=False, train_subset='train', truncate_source=False, unkpen=0, unnormalized=False, upsample_primary=1, user_dir=None, valid_subset='valid', validate_after_updates=0, validate_interval=1, validate_interval_updates=0, warmup_updates=0, zero_sharding='none')\n",
            "INFO:fairseq.tasks.translation:[complex] dictionary: 50264 types\n",
            "INFO:fairseq.tasks.translation:[simple] dictionary: 50264 types\n"
          ]
        },
        {
          "output_type": "stream",
          "name": "stdout",
          "text": [
            "| use checkpoint_paths [PosixPath('/content/drive/MyDrive/muss/experiments/fairseq/local_1631567843618/model.pt')]\n"
          ]
        },
        {
          "output_type": "stream",
          "name": "stderr",
          "text": [
            "INFO:fairseq.data.data_utils:loaded 2000 examples from: /tmp/tmpejc8kj75/tmp.complex-simple.complex\n",
            "INFO:fairseq.data.data_utils:loaded 2000 examples from: /tmp/tmpejc8kj75/tmp.complex-simple.simple\n",
            "INFO:fairseq.tasks.translation:/tmp/tmpejc8kj75 tmp complex-simple 2000 examples\n",
            "INFO:fairseq_cli.generate:loading model(s) from /content/drive/MyDrive/muss/experiments/fairseq/local_1631567843618/model.pt\n",
            "INFO:fairseq_cli.generate:NOTE: hypothesis and token scores are output in base 2\n",
            "INFO:fairseq_cli.generate:Translated 2000 sentences (48384 tokens) in 115.6s (17.30 sentences/s, 418.62 tokens/s)\n",
            " 95%|█████████▍| 121/128 [5:10:21<18:42, 160.29s/it]"
          ]
        },
        {
          "output_type": "stream",
          "name": "stdout",
          "text": [
            "| IN find_best_parametrization_nevergrad: kwargs.get('generate_kwargs', {}) {}\n",
            "get ref from ( evaluate_simplifier) asset_valid_NER_ABCD\n",
            "test_set in evaluate_simplifier when get ori asset_valid\n",
            "encoder_json_path /content/drive/MyDrive/muss/resources/bart_bpe/encoder.json\n",
            "vocab_bpe_path /content/drive/MyDrive/muss/resources/bart_bpe/vocab.bpe\n"
          ]
        },
        {
          "output_type": "stream",
          "name": "stderr",
          "text": [
            "INFO:fairseq_cli.generate:Namespace(all_gather_list_size=16384, batch_size=None, batch_size_valid=None, beam=5, bf16=False, bpe=None, broadcast_buffers=False, bucket_cap_mb=25, checkpoint_shard_count=1, checkpoint_suffix='', constraints=None, cpu=False, criterion='cross_entropy', curriculum=0, data='/tmp/tmp1e5hixyk', data_buffer_size=10, dataset_impl='raw', ddp_backend='c10d', decoding_format=None, device_id=0, disable_validation=False, distributed_backend='nccl', distributed_init_method=None, distributed_no_spawn=False, distributed_port=-1, distributed_rank=0, distributed_world_size=1, distributed_wrapper='DDP', diverse_beam_groups=-1, diverse_beam_strength=0.5, diversity_rate=-1.0, empty_cache_freq=0, eval_bleu=False, eval_bleu_args=None, eval_bleu_detok='space', eval_bleu_detok_args=None, eval_bleu_print_samples=False, eval_bleu_remove_bpe=None, eval_tokenized_bleu=False, fast_stat_sync=False, find_unused_parameters=False, fix_batches_to_gpus=False, fixed_validation_seed=None, force_anneal=None, fp16=False, fp16_init_scale=128, fp16_no_flatten_grads=False, fp16_scale_tolerance=0.0, fp16_scale_window=None, gen_subset='tmp', iter_decode_eos_penalty=0.0, iter_decode_force_max_iter=False, iter_decode_max_iter=10, iter_decode_with_beam=1, iter_decode_with_external_reranker=False, left_pad_source='True', left_pad_target='False', lenpen=1.0, lm_path=None, lm_weight=0.0, load_alignments=False, localsgd_frequency=3, log_format=None, log_interval=100, lr_scheduler='fixed', lr_shrink=0.1, match_source_len=False, max_len_a=0, max_len_b=200, max_source_positions=1024, max_target_positions=1024, max_tokens=8000, max_tokens_valid=8000, memory_efficient_bf16=False, memory_efficient_fp16=False, min_len=1, min_loss_scale=0.0001, model_overrides=\"{'encoder_embed_path': None, 'decoder_embed_path': None}\", model_parallel_size=1, nbest=1, no_beamable_mm=False, no_early_stop=False, no_progress_bar=False, no_repeat_ngram_size=0, no_seed_provided=False, nprocs_per_node=1, num_batch_buckets=0, num_shards=1, num_workers=1, optimizer=None, path='/content/drive/MyDrive/muss/experiments/fairseq/local_1631567843618/model.pt', pipeline_balance=None, pipeline_checkpoint='never', pipeline_chunks=0, pipeline_decoder_balance=None, pipeline_decoder_devices=None, pipeline_devices=None, pipeline_encoder_balance=None, pipeline_encoder_devices=None, pipeline_model_parallel=False, prefix_size=0, print_alignment=False, print_step=False, profile=False, quantization_config_path=None, quiet=False, remove_bpe=None, replace_unk=None, required_batch_size_multiple=8, required_seq_len_multiple=1, results_path=None, retain_dropout=False, retain_dropout_modules=None, retain_iter_history=False, sacrebleu=False, sampling=False, sampling_topk=-1, sampling_topp=-1.0, score_reference=False, scoring='bleu', seed=1, shard_id=0, skip_invalid_size_inputs_valid_test=True, slowmo_algorithm='LocalSGD', slowmo_momentum=None, source_lang=None, target_lang=None, task='translation', temperature=1.0, tensorboard_logdir=None, threshold_loss_scale=None, tokenizer=None, tpu=False, train_subset='train', truncate_source=False, unkpen=0, unnormalized=False, upsample_primary=1, user_dir=None, valid_subset='valid', validate_after_updates=0, validate_interval=1, validate_interval_updates=0, warmup_updates=0, zero_sharding='none')\n",
            "INFO:fairseq.tasks.translation:[complex] dictionary: 50264 types\n",
            "INFO:fairseq.tasks.translation:[simple] dictionary: 50264 types\n"
          ]
        },
        {
          "output_type": "stream",
          "name": "stdout",
          "text": [
            "| use checkpoint_paths [PosixPath('/content/drive/MyDrive/muss/experiments/fairseq/local_1631567843618/model.pt')]\n"
          ]
        },
        {
          "output_type": "stream",
          "name": "stderr",
          "text": [
            "INFO:fairseq.data.data_utils:loaded 2000 examples from: /tmp/tmp1e5hixyk/tmp.complex-simple.complex\n",
            "INFO:fairseq.data.data_utils:loaded 2000 examples from: /tmp/tmp1e5hixyk/tmp.complex-simple.simple\n",
            "INFO:fairseq.tasks.translation:/tmp/tmp1e5hixyk tmp complex-simple 2000 examples\n",
            "INFO:fairseq_cli.generate:loading model(s) from /content/drive/MyDrive/muss/experiments/fairseq/local_1631567843618/model.pt\n",
            "INFO:fairseq_cli.generate:NOTE: hypothesis and token scores are output in base 2\n",
            "INFO:fairseq_cli.generate:Translated 2000 sentences (48129 tokens) in 114.9s (17.40 sentences/s, 418.74 tokens/s)\n",
            " 95%|█████████▌| 122/128 [5:13:01<16:01, 160.26s/it]"
          ]
        },
        {
          "output_type": "stream",
          "name": "stdout",
          "text": [
            "| IN find_best_parametrization_nevergrad: kwargs.get('generate_kwargs', {}) {}\n",
            "get ref from ( evaluate_simplifier) asset_valid_NER_ABCD\n",
            "test_set in evaluate_simplifier when get ori asset_valid\n",
            "encoder_json_path /content/drive/MyDrive/muss/resources/bart_bpe/encoder.json\n",
            "vocab_bpe_path /content/drive/MyDrive/muss/resources/bart_bpe/vocab.bpe\n"
          ]
        },
        {
          "output_type": "stream",
          "name": "stderr",
          "text": [
            "INFO:fairseq_cli.generate:Namespace(all_gather_list_size=16384, batch_size=None, batch_size_valid=None, beam=5, bf16=False, bpe=None, broadcast_buffers=False, bucket_cap_mb=25, checkpoint_shard_count=1, checkpoint_suffix='', constraints=None, cpu=False, criterion='cross_entropy', curriculum=0, data='/tmp/tmpu00pho4b', data_buffer_size=10, dataset_impl='raw', ddp_backend='c10d', decoding_format=None, device_id=0, disable_validation=False, distributed_backend='nccl', distributed_init_method=None, distributed_no_spawn=False, distributed_port=-1, distributed_rank=0, distributed_world_size=1, distributed_wrapper='DDP', diverse_beam_groups=-1, diverse_beam_strength=0.5, diversity_rate=-1.0, empty_cache_freq=0, eval_bleu=False, eval_bleu_args=None, eval_bleu_detok='space', eval_bleu_detok_args=None, eval_bleu_print_samples=False, eval_bleu_remove_bpe=None, eval_tokenized_bleu=False, fast_stat_sync=False, find_unused_parameters=False, fix_batches_to_gpus=False, fixed_validation_seed=None, force_anneal=None, fp16=False, fp16_init_scale=128, fp16_no_flatten_grads=False, fp16_scale_tolerance=0.0, fp16_scale_window=None, gen_subset='tmp', iter_decode_eos_penalty=0.0, iter_decode_force_max_iter=False, iter_decode_max_iter=10, iter_decode_with_beam=1, iter_decode_with_external_reranker=False, left_pad_source='True', left_pad_target='False', lenpen=1.0, lm_path=None, lm_weight=0.0, load_alignments=False, localsgd_frequency=3, log_format=None, log_interval=100, lr_scheduler='fixed', lr_shrink=0.1, match_source_len=False, max_len_a=0, max_len_b=200, max_source_positions=1024, max_target_positions=1024, max_tokens=8000, max_tokens_valid=8000, memory_efficient_bf16=False, memory_efficient_fp16=False, min_len=1, min_loss_scale=0.0001, model_overrides=\"{'encoder_embed_path': None, 'decoder_embed_path': None}\", model_parallel_size=1, nbest=1, no_beamable_mm=False, no_early_stop=False, no_progress_bar=False, no_repeat_ngram_size=0, no_seed_provided=False, nprocs_per_node=1, num_batch_buckets=0, num_shards=1, num_workers=1, optimizer=None, path='/content/drive/MyDrive/muss/experiments/fairseq/local_1631567843618/model.pt', pipeline_balance=None, pipeline_checkpoint='never', pipeline_chunks=0, pipeline_decoder_balance=None, pipeline_decoder_devices=None, pipeline_devices=None, pipeline_encoder_balance=None, pipeline_encoder_devices=None, pipeline_model_parallel=False, prefix_size=0, print_alignment=False, print_step=False, profile=False, quantization_config_path=None, quiet=False, remove_bpe=None, replace_unk=None, required_batch_size_multiple=8, required_seq_len_multiple=1, results_path=None, retain_dropout=False, retain_dropout_modules=None, retain_iter_history=False, sacrebleu=False, sampling=False, sampling_topk=-1, sampling_topp=-1.0, score_reference=False, scoring='bleu', seed=1, shard_id=0, skip_invalid_size_inputs_valid_test=True, slowmo_algorithm='LocalSGD', slowmo_momentum=None, source_lang=None, target_lang=None, task='translation', temperature=1.0, tensorboard_logdir=None, threshold_loss_scale=None, tokenizer=None, tpu=False, train_subset='train', truncate_source=False, unkpen=0, unnormalized=False, upsample_primary=1, user_dir=None, valid_subset='valid', validate_after_updates=0, validate_interval=1, validate_interval_updates=0, warmup_updates=0, zero_sharding='none')\n",
            "INFO:fairseq.tasks.translation:[complex] dictionary: 50264 types\n",
            "INFO:fairseq.tasks.translation:[simple] dictionary: 50264 types\n"
          ]
        },
        {
          "output_type": "stream",
          "name": "stdout",
          "text": [
            "| use checkpoint_paths [PosixPath('/content/drive/MyDrive/muss/experiments/fairseq/local_1631567843618/model.pt')]\n"
          ]
        },
        {
          "output_type": "stream",
          "name": "stderr",
          "text": [
            "INFO:fairseq.data.data_utils:loaded 2000 examples from: /tmp/tmpu00pho4b/tmp.complex-simple.complex\n",
            "INFO:fairseq.data.data_utils:loaded 2000 examples from: /tmp/tmpu00pho4b/tmp.complex-simple.simple\n",
            "INFO:fairseq.tasks.translation:/tmp/tmpu00pho4b tmp complex-simple 2000 examples\n",
            "INFO:fairseq_cli.generate:loading model(s) from /content/drive/MyDrive/muss/experiments/fairseq/local_1631567843618/model.pt\n",
            "INFO:fairseq_cli.generate:NOTE: hypothesis and token scores are output in base 2\n",
            "INFO:fairseq_cli.generate:Translated 2000 sentences (48384 tokens) in 115.4s (17.33 sentences/s, 419.35 tokens/s)\n",
            " 96%|█████████▌| 123/128 [5:15:42<13:21, 160.40s/it]"
          ]
        },
        {
          "output_type": "stream",
          "name": "stdout",
          "text": [
            "| IN find_best_parametrization_nevergrad: kwargs.get('generate_kwargs', {}) {}\n",
            "get ref from ( evaluate_simplifier) asset_valid_NER_ABCD\n",
            "test_set in evaluate_simplifier when get ori asset_valid\n",
            "encoder_json_path /content/drive/MyDrive/muss/resources/bart_bpe/encoder.json\n",
            "vocab_bpe_path /content/drive/MyDrive/muss/resources/bart_bpe/vocab.bpe\n"
          ]
        },
        {
          "output_type": "stream",
          "name": "stderr",
          "text": [
            "INFO:fairseq_cli.generate:Namespace(all_gather_list_size=16384, batch_size=None, batch_size_valid=None, beam=5, bf16=False, bpe=None, broadcast_buffers=False, bucket_cap_mb=25, checkpoint_shard_count=1, checkpoint_suffix='', constraints=None, cpu=False, criterion='cross_entropy', curriculum=0, data='/tmp/tmp27wdoor9', data_buffer_size=10, dataset_impl='raw', ddp_backend='c10d', decoding_format=None, device_id=0, disable_validation=False, distributed_backend='nccl', distributed_init_method=None, distributed_no_spawn=False, distributed_port=-1, distributed_rank=0, distributed_world_size=1, distributed_wrapper='DDP', diverse_beam_groups=-1, diverse_beam_strength=0.5, diversity_rate=-1.0, empty_cache_freq=0, eval_bleu=False, eval_bleu_args=None, eval_bleu_detok='space', eval_bleu_detok_args=None, eval_bleu_print_samples=False, eval_bleu_remove_bpe=None, eval_tokenized_bleu=False, fast_stat_sync=False, find_unused_parameters=False, fix_batches_to_gpus=False, fixed_validation_seed=None, force_anneal=None, fp16=False, fp16_init_scale=128, fp16_no_flatten_grads=False, fp16_scale_tolerance=0.0, fp16_scale_window=None, gen_subset='tmp', iter_decode_eos_penalty=0.0, iter_decode_force_max_iter=False, iter_decode_max_iter=10, iter_decode_with_beam=1, iter_decode_with_external_reranker=False, left_pad_source='True', left_pad_target='False', lenpen=1.0, lm_path=None, lm_weight=0.0, load_alignments=False, localsgd_frequency=3, log_format=None, log_interval=100, lr_scheduler='fixed', lr_shrink=0.1, match_source_len=False, max_len_a=0, max_len_b=200, max_source_positions=1024, max_target_positions=1024, max_tokens=8000, max_tokens_valid=8000, memory_efficient_bf16=False, memory_efficient_fp16=False, min_len=1, min_loss_scale=0.0001, model_overrides=\"{'encoder_embed_path': None, 'decoder_embed_path': None}\", model_parallel_size=1, nbest=1, no_beamable_mm=False, no_early_stop=False, no_progress_bar=False, no_repeat_ngram_size=0, no_seed_provided=False, nprocs_per_node=1, num_batch_buckets=0, num_shards=1, num_workers=1, optimizer=None, path='/content/drive/MyDrive/muss/experiments/fairseq/local_1631567843618/model.pt', pipeline_balance=None, pipeline_checkpoint='never', pipeline_chunks=0, pipeline_decoder_balance=None, pipeline_decoder_devices=None, pipeline_devices=None, pipeline_encoder_balance=None, pipeline_encoder_devices=None, pipeline_model_parallel=False, prefix_size=0, print_alignment=False, print_step=False, profile=False, quantization_config_path=None, quiet=False, remove_bpe=None, replace_unk=None, required_batch_size_multiple=8, required_seq_len_multiple=1, results_path=None, retain_dropout=False, retain_dropout_modules=None, retain_iter_history=False, sacrebleu=False, sampling=False, sampling_topk=-1, sampling_topp=-1.0, score_reference=False, scoring='bleu', seed=1, shard_id=0, skip_invalid_size_inputs_valid_test=True, slowmo_algorithm='LocalSGD', slowmo_momentum=None, source_lang=None, target_lang=None, task='translation', temperature=1.0, tensorboard_logdir=None, threshold_loss_scale=None, tokenizer=None, tpu=False, train_subset='train', truncate_source=False, unkpen=0, unnormalized=False, upsample_primary=1, user_dir=None, valid_subset='valid', validate_after_updates=0, validate_interval=1, validate_interval_updates=0, warmup_updates=0, zero_sharding='none')\n",
            "INFO:fairseq.tasks.translation:[complex] dictionary: 50264 types\n",
            "INFO:fairseq.tasks.translation:[simple] dictionary: 50264 types\n"
          ]
        },
        {
          "output_type": "stream",
          "name": "stdout",
          "text": [
            "| use checkpoint_paths [PosixPath('/content/drive/MyDrive/muss/experiments/fairseq/local_1631567843618/model.pt')]\n"
          ]
        },
        {
          "output_type": "stream",
          "name": "stderr",
          "text": [
            "INFO:fairseq.data.data_utils:loaded 2000 examples from: /tmp/tmp27wdoor9/tmp.complex-simple.complex\n",
            "INFO:fairseq.data.data_utils:loaded 2000 examples from: /tmp/tmp27wdoor9/tmp.complex-simple.simple\n",
            "INFO:fairseq.tasks.translation:/tmp/tmp27wdoor9 tmp complex-simple 2000 examples\n",
            "INFO:fairseq_cli.generate:loading model(s) from /content/drive/MyDrive/muss/experiments/fairseq/local_1631567843618/model.pt\n",
            "INFO:fairseq_cli.generate:NOTE: hypothesis and token scores are output in base 2\n",
            "INFO:fairseq_cli.generate:Translated 2000 sentences (48384 tokens) in 115.6s (17.31 sentences/s, 418.70 tokens/s)\n",
            " 97%|█████████▋| 124/128 [5:18:22<10:41, 160.46s/it]"
          ]
        },
        {
          "output_type": "stream",
          "name": "stdout",
          "text": [
            "| IN find_best_parametrization_nevergrad: kwargs.get('generate_kwargs', {}) {}\n",
            "get ref from ( evaluate_simplifier) asset_valid_NER_ABCD\n",
            "test_set in evaluate_simplifier when get ori asset_valid\n",
            "encoder_json_path /content/drive/MyDrive/muss/resources/bart_bpe/encoder.json\n",
            "vocab_bpe_path /content/drive/MyDrive/muss/resources/bart_bpe/vocab.bpe\n"
          ]
        },
        {
          "output_type": "stream",
          "name": "stderr",
          "text": [
            "INFO:fairseq_cli.generate:Namespace(all_gather_list_size=16384, batch_size=None, batch_size_valid=None, beam=5, bf16=False, bpe=None, broadcast_buffers=False, bucket_cap_mb=25, checkpoint_shard_count=1, checkpoint_suffix='', constraints=None, cpu=False, criterion='cross_entropy', curriculum=0, data='/tmp/tmpauc43otf', data_buffer_size=10, dataset_impl='raw', ddp_backend='c10d', decoding_format=None, device_id=0, disable_validation=False, distributed_backend='nccl', distributed_init_method=None, distributed_no_spawn=False, distributed_port=-1, distributed_rank=0, distributed_world_size=1, distributed_wrapper='DDP', diverse_beam_groups=-1, diverse_beam_strength=0.5, diversity_rate=-1.0, empty_cache_freq=0, eval_bleu=False, eval_bleu_args=None, eval_bleu_detok='space', eval_bleu_detok_args=None, eval_bleu_print_samples=False, eval_bleu_remove_bpe=None, eval_tokenized_bleu=False, fast_stat_sync=False, find_unused_parameters=False, fix_batches_to_gpus=False, fixed_validation_seed=None, force_anneal=None, fp16=False, fp16_init_scale=128, fp16_no_flatten_grads=False, fp16_scale_tolerance=0.0, fp16_scale_window=None, gen_subset='tmp', iter_decode_eos_penalty=0.0, iter_decode_force_max_iter=False, iter_decode_max_iter=10, iter_decode_with_beam=1, iter_decode_with_external_reranker=False, left_pad_source='True', left_pad_target='False', lenpen=1.0, lm_path=None, lm_weight=0.0, load_alignments=False, localsgd_frequency=3, log_format=None, log_interval=100, lr_scheduler='fixed', lr_shrink=0.1, match_source_len=False, max_len_a=0, max_len_b=200, max_source_positions=1024, max_target_positions=1024, max_tokens=8000, max_tokens_valid=8000, memory_efficient_bf16=False, memory_efficient_fp16=False, min_len=1, min_loss_scale=0.0001, model_overrides=\"{'encoder_embed_path': None, 'decoder_embed_path': None}\", model_parallel_size=1, nbest=1, no_beamable_mm=False, no_early_stop=False, no_progress_bar=False, no_repeat_ngram_size=0, no_seed_provided=False, nprocs_per_node=1, num_batch_buckets=0, num_shards=1, num_workers=1, optimizer=None, path='/content/drive/MyDrive/muss/experiments/fairseq/local_1631567843618/model.pt', pipeline_balance=None, pipeline_checkpoint='never', pipeline_chunks=0, pipeline_decoder_balance=None, pipeline_decoder_devices=None, pipeline_devices=None, pipeline_encoder_balance=None, pipeline_encoder_devices=None, pipeline_model_parallel=False, prefix_size=0, print_alignment=False, print_step=False, profile=False, quantization_config_path=None, quiet=False, remove_bpe=None, replace_unk=None, required_batch_size_multiple=8, required_seq_len_multiple=1, results_path=None, retain_dropout=False, retain_dropout_modules=None, retain_iter_history=False, sacrebleu=False, sampling=False, sampling_topk=-1, sampling_topp=-1.0, score_reference=False, scoring='bleu', seed=1, shard_id=0, skip_invalid_size_inputs_valid_test=True, slowmo_algorithm='LocalSGD', slowmo_momentum=None, source_lang=None, target_lang=None, task='translation', temperature=1.0, tensorboard_logdir=None, threshold_loss_scale=None, tokenizer=None, tpu=False, train_subset='train', truncate_source=False, unkpen=0, unnormalized=False, upsample_primary=1, user_dir=None, valid_subset='valid', validate_after_updates=0, validate_interval=1, validate_interval_updates=0, warmup_updates=0, zero_sharding='none')\n",
            "INFO:fairseq.tasks.translation:[complex] dictionary: 50264 types\n",
            "INFO:fairseq.tasks.translation:[simple] dictionary: 50264 types\n"
          ]
        },
        {
          "output_type": "stream",
          "name": "stdout",
          "text": [
            "| use checkpoint_paths [PosixPath('/content/drive/MyDrive/muss/experiments/fairseq/local_1631567843618/model.pt')]\n"
          ]
        },
        {
          "output_type": "stream",
          "name": "stderr",
          "text": [
            "INFO:fairseq.data.data_utils:loaded 2000 examples from: /tmp/tmpauc43otf/tmp.complex-simple.complex\n",
            "INFO:fairseq.data.data_utils:loaded 2000 examples from: /tmp/tmpauc43otf/tmp.complex-simple.simple\n",
            "INFO:fairseq.tasks.translation:/tmp/tmpauc43otf tmp complex-simple 2000 examples\n",
            "INFO:fairseq_cli.generate:loading model(s) from /content/drive/MyDrive/muss/experiments/fairseq/local_1631567843618/model.pt\n",
            "INFO:fairseq_cli.generate:NOTE: hypothesis and token scores are output in base 2\n",
            "INFO:fairseq_cli.generate:Translated 2000 sentences (48384 tokens) in 115.2s (17.36 sentences/s, 419.99 tokens/s)\n",
            " 98%|█████████▊| 125/128 [5:21:02<08:00, 160.24s/it]"
          ]
        },
        {
          "output_type": "stream",
          "name": "stdout",
          "text": [
            "| IN find_best_parametrization_nevergrad: kwargs.get('generate_kwargs', {}) {}\n",
            "get ref from ( evaluate_simplifier) asset_valid_NER_ABCD\n",
            "test_set in evaluate_simplifier when get ori asset_valid\n",
            "encoder_json_path /content/drive/MyDrive/muss/resources/bart_bpe/encoder.json\n",
            "vocab_bpe_path /content/drive/MyDrive/muss/resources/bart_bpe/vocab.bpe\n"
          ]
        },
        {
          "output_type": "stream",
          "name": "stderr",
          "text": [
            "INFO:fairseq_cli.generate:Namespace(all_gather_list_size=16384, batch_size=None, batch_size_valid=None, beam=5, bf16=False, bpe=None, broadcast_buffers=False, bucket_cap_mb=25, checkpoint_shard_count=1, checkpoint_suffix='', constraints=None, cpu=False, criterion='cross_entropy', curriculum=0, data='/tmp/tmp_ns6j8qt', data_buffer_size=10, dataset_impl='raw', ddp_backend='c10d', decoding_format=None, device_id=0, disable_validation=False, distributed_backend='nccl', distributed_init_method=None, distributed_no_spawn=False, distributed_port=-1, distributed_rank=0, distributed_world_size=1, distributed_wrapper='DDP', diverse_beam_groups=-1, diverse_beam_strength=0.5, diversity_rate=-1.0, empty_cache_freq=0, eval_bleu=False, eval_bleu_args=None, eval_bleu_detok='space', eval_bleu_detok_args=None, eval_bleu_print_samples=False, eval_bleu_remove_bpe=None, eval_tokenized_bleu=False, fast_stat_sync=False, find_unused_parameters=False, fix_batches_to_gpus=False, fixed_validation_seed=None, force_anneal=None, fp16=False, fp16_init_scale=128, fp16_no_flatten_grads=False, fp16_scale_tolerance=0.0, fp16_scale_window=None, gen_subset='tmp', iter_decode_eos_penalty=0.0, iter_decode_force_max_iter=False, iter_decode_max_iter=10, iter_decode_with_beam=1, iter_decode_with_external_reranker=False, left_pad_source='True', left_pad_target='False', lenpen=1.0, lm_path=None, lm_weight=0.0, load_alignments=False, localsgd_frequency=3, log_format=None, log_interval=100, lr_scheduler='fixed', lr_shrink=0.1, match_source_len=False, max_len_a=0, max_len_b=200, max_source_positions=1024, max_target_positions=1024, max_tokens=8000, max_tokens_valid=8000, memory_efficient_bf16=False, memory_efficient_fp16=False, min_len=1, min_loss_scale=0.0001, model_overrides=\"{'encoder_embed_path': None, 'decoder_embed_path': None}\", model_parallel_size=1, nbest=1, no_beamable_mm=False, no_early_stop=False, no_progress_bar=False, no_repeat_ngram_size=0, no_seed_provided=False, nprocs_per_node=1, num_batch_buckets=0, num_shards=1, num_workers=1, optimizer=None, path='/content/drive/MyDrive/muss/experiments/fairseq/local_1631567843618/model.pt', pipeline_balance=None, pipeline_checkpoint='never', pipeline_chunks=0, pipeline_decoder_balance=None, pipeline_decoder_devices=None, pipeline_devices=None, pipeline_encoder_balance=None, pipeline_encoder_devices=None, pipeline_model_parallel=False, prefix_size=0, print_alignment=False, print_step=False, profile=False, quantization_config_path=None, quiet=False, remove_bpe=None, replace_unk=None, required_batch_size_multiple=8, required_seq_len_multiple=1, results_path=None, retain_dropout=False, retain_dropout_modules=None, retain_iter_history=False, sacrebleu=False, sampling=False, sampling_topk=-1, sampling_topp=-1.0, score_reference=False, scoring='bleu', seed=1, shard_id=0, skip_invalid_size_inputs_valid_test=True, slowmo_algorithm='LocalSGD', slowmo_momentum=None, source_lang=None, target_lang=None, task='translation', temperature=1.0, tensorboard_logdir=None, threshold_loss_scale=None, tokenizer=None, tpu=False, train_subset='train', truncate_source=False, unkpen=0, unnormalized=False, upsample_primary=1, user_dir=None, valid_subset='valid', validate_after_updates=0, validate_interval=1, validate_interval_updates=0, warmup_updates=0, zero_sharding='none')\n",
            "INFO:fairseq.tasks.translation:[complex] dictionary: 50264 types\n",
            "INFO:fairseq.tasks.translation:[simple] dictionary: 50264 types\n"
          ]
        },
        {
          "output_type": "stream",
          "name": "stdout",
          "text": [
            "| use checkpoint_paths [PosixPath('/content/drive/MyDrive/muss/experiments/fairseq/local_1631567843618/model.pt')]\n"
          ]
        },
        {
          "output_type": "stream",
          "name": "stderr",
          "text": [
            "INFO:fairseq.data.data_utils:loaded 2000 examples from: /tmp/tmp_ns6j8qt/tmp.complex-simple.complex\n",
            "INFO:fairseq.data.data_utils:loaded 2000 examples from: /tmp/tmp_ns6j8qt/tmp.complex-simple.simple\n",
            "INFO:fairseq.tasks.translation:/tmp/tmp_ns6j8qt tmp complex-simple 2000 examples\n",
            "INFO:fairseq_cli.generate:loading model(s) from /content/drive/MyDrive/muss/experiments/fairseq/local_1631567843618/model.pt\n",
            "INFO:fairseq_cli.generate:NOTE: hypothesis and token scores are output in base 2\n",
            "INFO:fairseq_cli.generate:Translated 2000 sentences (48384 tokens) in 115.4s (17.32 sentences/s, 419.11 tokens/s)\n",
            " 98%|█████████▊| 126/128 [5:23:42<05:20, 160.33s/it]"
          ]
        },
        {
          "output_type": "stream",
          "name": "stdout",
          "text": [
            "| IN find_best_parametrization_nevergrad: kwargs.get('generate_kwargs', {}) {}\n",
            "get ref from ( evaluate_simplifier) asset_valid_NER_ABCD\n",
            "test_set in evaluate_simplifier when get ori asset_valid\n",
            "encoder_json_path /content/drive/MyDrive/muss/resources/bart_bpe/encoder.json\n",
            "vocab_bpe_path /content/drive/MyDrive/muss/resources/bart_bpe/vocab.bpe\n"
          ]
        },
        {
          "output_type": "stream",
          "name": "stderr",
          "text": [
            "INFO:fairseq_cli.generate:Namespace(all_gather_list_size=16384, batch_size=None, batch_size_valid=None, beam=5, bf16=False, bpe=None, broadcast_buffers=False, bucket_cap_mb=25, checkpoint_shard_count=1, checkpoint_suffix='', constraints=None, cpu=False, criterion='cross_entropy', curriculum=0, data='/tmp/tmpwticekq8', data_buffer_size=10, dataset_impl='raw', ddp_backend='c10d', decoding_format=None, device_id=0, disable_validation=False, distributed_backend='nccl', distributed_init_method=None, distributed_no_spawn=False, distributed_port=-1, distributed_rank=0, distributed_world_size=1, distributed_wrapper='DDP', diverse_beam_groups=-1, diverse_beam_strength=0.5, diversity_rate=-1.0, empty_cache_freq=0, eval_bleu=False, eval_bleu_args=None, eval_bleu_detok='space', eval_bleu_detok_args=None, eval_bleu_print_samples=False, eval_bleu_remove_bpe=None, eval_tokenized_bleu=False, fast_stat_sync=False, find_unused_parameters=False, fix_batches_to_gpus=False, fixed_validation_seed=None, force_anneal=None, fp16=False, fp16_init_scale=128, fp16_no_flatten_grads=False, fp16_scale_tolerance=0.0, fp16_scale_window=None, gen_subset='tmp', iter_decode_eos_penalty=0.0, iter_decode_force_max_iter=False, iter_decode_max_iter=10, iter_decode_with_beam=1, iter_decode_with_external_reranker=False, left_pad_source='True', left_pad_target='False', lenpen=1.0, lm_path=None, lm_weight=0.0, load_alignments=False, localsgd_frequency=3, log_format=None, log_interval=100, lr_scheduler='fixed', lr_shrink=0.1, match_source_len=False, max_len_a=0, max_len_b=200, max_source_positions=1024, max_target_positions=1024, max_tokens=8000, max_tokens_valid=8000, memory_efficient_bf16=False, memory_efficient_fp16=False, min_len=1, min_loss_scale=0.0001, model_overrides=\"{'encoder_embed_path': None, 'decoder_embed_path': None}\", model_parallel_size=1, nbest=1, no_beamable_mm=False, no_early_stop=False, no_progress_bar=False, no_repeat_ngram_size=0, no_seed_provided=False, nprocs_per_node=1, num_batch_buckets=0, num_shards=1, num_workers=1, optimizer=None, path='/content/drive/MyDrive/muss/experiments/fairseq/local_1631567843618/model.pt', pipeline_balance=None, pipeline_checkpoint='never', pipeline_chunks=0, pipeline_decoder_balance=None, pipeline_decoder_devices=None, pipeline_devices=None, pipeline_encoder_balance=None, pipeline_encoder_devices=None, pipeline_model_parallel=False, prefix_size=0, print_alignment=False, print_step=False, profile=False, quantization_config_path=None, quiet=False, remove_bpe=None, replace_unk=None, required_batch_size_multiple=8, required_seq_len_multiple=1, results_path=None, retain_dropout=False, retain_dropout_modules=None, retain_iter_history=False, sacrebleu=False, sampling=False, sampling_topk=-1, sampling_topp=-1.0, score_reference=False, scoring='bleu', seed=1, shard_id=0, skip_invalid_size_inputs_valid_test=True, slowmo_algorithm='LocalSGD', slowmo_momentum=None, source_lang=None, target_lang=None, task='translation', temperature=1.0, tensorboard_logdir=None, threshold_loss_scale=None, tokenizer=None, tpu=False, train_subset='train', truncate_source=False, unkpen=0, unnormalized=False, upsample_primary=1, user_dir=None, valid_subset='valid', validate_after_updates=0, validate_interval=1, validate_interval_updates=0, warmup_updates=0, zero_sharding='none')\n",
            "INFO:fairseq.tasks.translation:[complex] dictionary: 50264 types\n",
            "INFO:fairseq.tasks.translation:[simple] dictionary: 50264 types\n"
          ]
        },
        {
          "output_type": "stream",
          "name": "stdout",
          "text": [
            "| use checkpoint_paths [PosixPath('/content/drive/MyDrive/muss/experiments/fairseq/local_1631567843618/model.pt')]\n"
          ]
        },
        {
          "output_type": "stream",
          "name": "stderr",
          "text": [
            "INFO:fairseq.data.data_utils:loaded 2000 examples from: /tmp/tmpwticekq8/tmp.complex-simple.complex\n",
            "INFO:fairseq.data.data_utils:loaded 2000 examples from: /tmp/tmpwticekq8/tmp.complex-simple.simple\n",
            "INFO:fairseq.tasks.translation:/tmp/tmpwticekq8 tmp complex-simple 2000 examples\n",
            "INFO:fairseq_cli.generate:loading model(s) from /content/drive/MyDrive/muss/experiments/fairseq/local_1631567843618/model.pt\n",
            "INFO:fairseq_cli.generate:NOTE: hypothesis and token scores are output in base 2\n",
            "INFO:fairseq_cli.generate:Translated 2000 sentences (48384 tokens) in 115.6s (17.30 sentences/s, 418.49 tokens/s)\n",
            " 99%|█████████▉| 127/128 [5:26:23<02:40, 160.29s/it]"
          ]
        },
        {
          "output_type": "stream",
          "name": "stdout",
          "text": [
            "| IN find_best_parametrization_nevergrad: kwargs.get('generate_kwargs', {}) {}\n",
            "get ref from ( evaluate_simplifier) asset_valid_NER_ABCD\n",
            "test_set in evaluate_simplifier when get ori asset_valid\n",
            "encoder_json_path /content/drive/MyDrive/muss/resources/bart_bpe/encoder.json\n",
            "vocab_bpe_path /content/drive/MyDrive/muss/resources/bart_bpe/vocab.bpe\n"
          ]
        },
        {
          "output_type": "stream",
          "name": "stderr",
          "text": [
            "INFO:fairseq_cli.generate:Namespace(all_gather_list_size=16384, batch_size=None, batch_size_valid=None, beam=5, bf16=False, bpe=None, broadcast_buffers=False, bucket_cap_mb=25, checkpoint_shard_count=1, checkpoint_suffix='', constraints=None, cpu=False, criterion='cross_entropy', curriculum=0, data='/tmp/tmpwnzo6byo', data_buffer_size=10, dataset_impl='raw', ddp_backend='c10d', decoding_format=None, device_id=0, disable_validation=False, distributed_backend='nccl', distributed_init_method=None, distributed_no_spawn=False, distributed_port=-1, distributed_rank=0, distributed_world_size=1, distributed_wrapper='DDP', diverse_beam_groups=-1, diverse_beam_strength=0.5, diversity_rate=-1.0, empty_cache_freq=0, eval_bleu=False, eval_bleu_args=None, eval_bleu_detok='space', eval_bleu_detok_args=None, eval_bleu_print_samples=False, eval_bleu_remove_bpe=None, eval_tokenized_bleu=False, fast_stat_sync=False, find_unused_parameters=False, fix_batches_to_gpus=False, fixed_validation_seed=None, force_anneal=None, fp16=False, fp16_init_scale=128, fp16_no_flatten_grads=False, fp16_scale_tolerance=0.0, fp16_scale_window=None, gen_subset='tmp', iter_decode_eos_penalty=0.0, iter_decode_force_max_iter=False, iter_decode_max_iter=10, iter_decode_with_beam=1, iter_decode_with_external_reranker=False, left_pad_source='True', left_pad_target='False', lenpen=1.0, lm_path=None, lm_weight=0.0, load_alignments=False, localsgd_frequency=3, log_format=None, log_interval=100, lr_scheduler='fixed', lr_shrink=0.1, match_source_len=False, max_len_a=0, max_len_b=200, max_source_positions=1024, max_target_positions=1024, max_tokens=8000, max_tokens_valid=8000, memory_efficient_bf16=False, memory_efficient_fp16=False, min_len=1, min_loss_scale=0.0001, model_overrides=\"{'encoder_embed_path': None, 'decoder_embed_path': None}\", model_parallel_size=1, nbest=1, no_beamable_mm=False, no_early_stop=False, no_progress_bar=False, no_repeat_ngram_size=0, no_seed_provided=False, nprocs_per_node=1, num_batch_buckets=0, num_shards=1, num_workers=1, optimizer=None, path='/content/drive/MyDrive/muss/experiments/fairseq/local_1631567843618/model.pt', pipeline_balance=None, pipeline_checkpoint='never', pipeline_chunks=0, pipeline_decoder_balance=None, pipeline_decoder_devices=None, pipeline_devices=None, pipeline_encoder_balance=None, pipeline_encoder_devices=None, pipeline_model_parallel=False, prefix_size=0, print_alignment=False, print_step=False, profile=False, quantization_config_path=None, quiet=False, remove_bpe=None, replace_unk=None, required_batch_size_multiple=8, required_seq_len_multiple=1, results_path=None, retain_dropout=False, retain_dropout_modules=None, retain_iter_history=False, sacrebleu=False, sampling=False, sampling_topk=-1, sampling_topp=-1.0, score_reference=False, scoring='bleu', seed=1, shard_id=0, skip_invalid_size_inputs_valid_test=True, slowmo_algorithm='LocalSGD', slowmo_momentum=None, source_lang=None, target_lang=None, task='translation', temperature=1.0, tensorboard_logdir=None, threshold_loss_scale=None, tokenizer=None, tpu=False, train_subset='train', truncate_source=False, unkpen=0, unnormalized=False, upsample_primary=1, user_dir=None, valid_subset='valid', validate_after_updates=0, validate_interval=1, validate_interval_updates=0, warmup_updates=0, zero_sharding='none')\n",
            "INFO:fairseq.tasks.translation:[complex] dictionary: 50264 types\n",
            "INFO:fairseq.tasks.translation:[simple] dictionary: 50264 types\n"
          ]
        },
        {
          "output_type": "stream",
          "name": "stdout",
          "text": [
            "| use checkpoint_paths [PosixPath('/content/drive/MyDrive/muss/experiments/fairseq/local_1631567843618/model.pt')]\n"
          ]
        },
        {
          "output_type": "stream",
          "name": "stderr",
          "text": [
            "INFO:fairseq.data.data_utils:loaded 2000 examples from: /tmp/tmpwnzo6byo/tmp.complex-simple.complex\n",
            "INFO:fairseq.data.data_utils:loaded 2000 examples from: /tmp/tmpwnzo6byo/tmp.complex-simple.simple\n",
            "INFO:fairseq.tasks.translation:/tmp/tmpwnzo6byo tmp complex-simple 2000 examples\n",
            "INFO:fairseq_cli.generate:loading model(s) from /content/drive/MyDrive/muss/experiments/fairseq/local_1631567843618/model.pt\n",
            "INFO:fairseq_cli.generate:NOTE: hypothesis and token scores are output in base 2\n",
            "INFO:fairseq_cli.generate:Translated 2000 sentences (48384 tokens) in 115.4s (17.33 sentences/s, 419.33 tokens/s)\n",
            "100%|██████████| 128/128 [5:29:03<00:00, 160.23s/it]"
          ]
        },
        {
          "output_type": "stream",
          "name": "stdout",
          "text": [
            "recommended_preprocessors_kwargs={'LengthRatioPreprocessor': {'target_ratio': 0.8362634626138021, 'use_short_name': False}, 'ReplaceOnlyLevenshteinPreprocessor': {'target_ratio': 0.7719594617931818, 'use_short_name': False}, 'WordRankRatioPreprocessor': {'target_ratio': 0.8373903360773232, 'language': 'en', 'use_short_name': False}, 'DependencyTreeDepthRatioPreprocessor': {'target_ratio': 0.7178625295578446, 'language': 'en', 'use_short_name': False}, 'GPT2BPEPreprocessor': {}}\n"
          ]
        }
      ]
    }
  ]
}